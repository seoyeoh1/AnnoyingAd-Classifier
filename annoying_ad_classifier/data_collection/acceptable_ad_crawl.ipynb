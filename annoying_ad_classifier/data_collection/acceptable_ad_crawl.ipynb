{
 "cells": [
  {
   "cell_type": "markdown",
   "metadata": {},
   "source": [
    "***Data collection code for acceptable (i.e., better) ads***"
   ]
  },
  {
   "cell_type": "code",
   "execution_count": 12,
   "metadata": {},
   "outputs": [],
   "source": [
    "import requests\n",
    "import urllib.request\n",
    "import time\n",
    "from bs4 import BeautifulSoup as bs\n",
    "import csv\n",
    "import pandas as pd"
   ]
  },
  {
   "cell_type": "markdown",
   "metadata": {},
   "source": [
    "### 101 Entries of Acceptable Ads\n",
    "\n",
    "*Because for classification precision is integral and there are no particular method for distinguishing ad format, I manually crawled each acceptable ad using Selenium.*"
   ]
  },
  {
   "cell_type": "markdown",
   "metadata": {},
   "source": [
    "***Open Sample Sites List***"
   ]
  },
  {
   "cell_type": "code",
   "execution_count": 160,
   "metadata": {},
   "outputs": [],
   "source": [
    "with open(\"/Users/SeoyeonHong/Desktop/annoying_ad_classifier/data_collection/sites_list/acceptable_ad_list.txt\") as sample:\n",
    "    urls = []\n",
    "    for line in sample:\n",
    "        urls.append(line.rstrip())"
   ]
  },
  {
   "cell_type": "code",
   "execution_count": 161,
   "metadata": {},
   "outputs": [
    {
     "data": {
      "text/plain": [
       "149"
      ]
     },
     "execution_count": 161,
     "metadata": {},
     "output_type": "execute_result"
    }
   ],
   "source": [
    "len(urls)"
   ]
  },
  {
   "cell_type": "markdown",
   "metadata": {},
   "source": [
    "***Manual collection of HTML snippets corresponding to each ad***"
   ]
  },
  {
   "cell_type": "code",
   "execution_count": 19,
   "metadata": {},
   "outputs": [],
   "source": [
    "def open_url(url):\n",
    "    \"\"\"Open URL\"\"\"\n",
    "    driver.get(url)\n",
    "    time.sleep(10)\n",
    "    driver.execute_script(\"window.scrollTo(0, 150)\")\n",
    "    time.sleep(10)"
   ]
  },
  {
   "cell_type": "code",
   "execution_count": 8,
   "metadata": {},
   "outputs": [],
   "source": [
    "data = []"
   ]
  },
  {
   "cell_type": "code",
   "execution_count": 20,
   "metadata": {},
   "outputs": [],
   "source": [
    "from selenium import webdriver\n",
    "#driver.close()\n",
    "driver = webdriver.Firefox()"
   ]
  },
  {
   "cell_type": "code",
   "execution_count": 130,
   "metadata": {
    "collapsed": true
   },
   "outputs": [
    {
     "name": "stdout",
     "output_type": "stream",
     "text": [
      "<div id=\"secondary\">\n",
      "    \n",
      "    \n",
      "\n",
      "<div class=\"mayoad\">\n",
      "    <h2>Advertisement</h2>\n",
      "    <div id=\"gpt-ad-mayoclinic.org-top\" style=\"\" data-google-query-id=\"CLDKj6vdyucCFUyTvQodo5ADYg\"><div id=\"google_ads_iframe_129348672/mayoclinic.org_top_0__container__\" style=\"border: 0pt none;\"><iframe id=\"google_ads_iframe_129348672/mayoclinic.org_top_0\" title=\"3rd party ad content\" name=\"google_ads_iframe_129348672/mayoclinic.org_top_0\" scrolling=\"no\" marginwidth=\"0\" marginheight=\"0\" style=\"border: 0px none; vertical-align: bottom;\" srcdoc=\"\" data-google-container-id=\"1\" data-load-complete=\"true\" width=\"300\" height=\"251\" frameborder=\"0\"></iframe></div></div>\n",
      "    <!--Policy text  -->\n",
      "    \n",
      "<div class=\"contentbox policy\">\n",
      "\n",
      "\n",
      "\n",
      "\n",
      "<p>Mayo Clinic does not endorse companies or products. Advertising revenue supports our not-for-profit mission.</p>\n",
      "<strong>Advertising &amp; Sponsorship</strong>\n",
      "<ul>\n",
      "    <li><a href=\"/about-this-site/advertising-sponsorship-policy\">Policy</a></li>\n",
      "    <li><a href=\"/about-this-site/advertising-sponsorship\">Opportunities</a></li>\n",
      "    <li class=\"add-choice\"><a href=\"http://www.aboutads.info/choices/\">Ad Choices</a></li>\n",
      "</ul>\n",
      "\n",
      "\n",
      "</div>\n",
      "\n",
      "\n",
      "\n",
      "\n",
      "    <!-- Book store would be a content tile. -->\n",
      "    \n",
      "<div class=\"contentbox book\">\n",
      "\n",
      "\n",
      "\n",
      "<h3>Mayo Clinic Marketplace</h3>\n",
      "\n",
      "\n",
      " \n",
      "<p>Check out these best-sellers and special offers on books and newsletters from Mayo Clinic. </p>\n",
      "<ul><li><a href=\"https://diet.mayoclinic.org/diet/home/?promo=52-qtr&amp;utm_source=Mayo&amp;utm_medium=Display&amp;utm_campaign=SiteStore_text\">The Mayo Clinic Diet Online</a></li><li><a href=\"https://order.store.mayoclinic.com/books/gnweb35?utm_source=MC-DotOrg-Text&amp;utm_medium=Link&amp;utm_campaign=Stress-Combo&amp;utm_content=SFLCOMBO\">4 simple steps to a joy-filled life</a></li><li><a href=\"https://order.store.mayoclinic.com/books/gnweb14?utm_source=MC-DotOrg-Text&amp;utm_campaign=Heart-Book&amp;utm_medium=Link&amp;utm_content=HEART\">Conquer heart disease in 10 min. a day</a></li><li><a href=\"https://order.store.mayoclinic.com/books/gnweb54?utm_source=MC-DotOrg-Text&amp;utm_medium=Link&amp;utm_campaign=Fibromyalgia-Book&amp;utm_content=FIBRO\">NEW – Guide to Fibromyalgia</a></li><li><a href=\"https://order.store.mayoclinic.com/books/gnweb27?utm_source=MC-DotOrg-Text&amp;utm_medium=Link&amp;utm_campaign=Osteoporosis-Book&amp;utm_content=OSTEO\">Stop osteoporosis in its tracks</a></li></ul>\n",
      "\n",
      "</div>\n",
      "\n",
      "\n",
      "\n",
      "\n",
      "    <div id=\"gpt-ad-mayoclinic.org-bottom\" style=\"\" data-google-query-id=\"CLHKj6vdyucCFUyTvQodo5ADYg\"><div id=\"google_ads_iframe_129348672/mayoclinic.org_bottom_0__container__\" style=\"border: 0pt none;\"><iframe id=\"google_ads_iframe_129348672/mayoclinic.org_bottom_0\" title=\"3rd party ad content\" name=\"google_ads_iframe_129348672/mayoclinic.org_bottom_0\" scrolling=\"no\" marginwidth=\"0\" marginheight=\"0\" style=\"border: 0px none; vertical-align: bottom;\" srcdoc=\"\" data-google-container-id=\"2\" data-load-complete=\"true\" width=\"300\" height=\"251\" frameborder=\"0\"></iframe></div></div>\n",
      "</div>\n",
      "\n",
      "\n",
      "\n",
      "    \n",
      "<div class=\"mobile test internalads\"><div class=\"internal side\">\n",
      "        <em></em>\n",
      "        <a href=\"https://newslettersignup.mayoclinic.com/\" id=\"et-internalPromo-82F973D9_mobile\" class=\"linkbox img-top no-border\">\n",
      "\n",
      "<h2>\n",
      "Free E-newsletter\n",
      "</h2>\n",
      "\n",
      "<p><strong>Subscribe to Housecall</strong></p>\n",
      "<p>Our general interest e-newsletter keeps you up to date on a wide variety of health topics.</p>\n",
      "\n",
      "\n",
      "<span class=\"action\">Sign up now</span>\n",
      "\n",
      "</a>\n",
      "\n",
      "\n",
      "\n",
      "        \n",
      "</div></div></div>\n"
     ]
    }
   ],
   "source": [
    "# url 1\n",
    "i = urls[0]\n",
    "open_url(i)\n",
    "element = driver.find_element_by_css_selector('#secondary')\n",
    "source = element.get_attribute(\"outerHTML\")\n",
    "print(source)\n",
    "ad_type = \"better\"\n",
    "data.append({\"TYPE\" : ad_type, \"ad_code\" : source, \"URL\" : i})"
   ]
  },
  {
   "cell_type": "code",
   "execution_count": 131,
   "metadata": {
    "collapsed": true
   },
   "outputs": [
    {
     "name": "stdout",
     "output_type": "stream",
     "text": [
      "<aside id=\"ad-standard-wrap\" aria-label=\"advertisement\">\n",
      "    \n",
      "\n",
      "    <div id=\"ad-standard-News_Politics\" class=\"ad-standard\" data-ad-config=\"{&quot;network&quot;:&quot;\\/6735\\/&quot;,&quot;site&quot;:{&quot;default&quot;:&quot;n6735.NPR&quot;,&quot;mobile&quot;:&quot;n6735.NPRMOBILE&quot;},&quot;zone&quot;:&quot;News_Politics&quot;,&quot;targets&quot;:{&quot;testserver&quot;:&quot;false&quot;,&quot;isPodcastEpisode&quot;:&quot;false&quot;,&quot;storyId&quot;:&quot;804518735&quot;,&quot;agg&quot;:[&quot;191676894&quot;]},&quot;location&quot;:&quot;standard&quot;,&quot;deferred&quot;:false,&quot;isBetweenContent&quot;:false,&quot;isAggSponsorship&quot;:false,&quot;borderClass&quot;:&quot;&quot;}\" style=\"\" data-google-query-id=\"CNmz6cDdyucCFQrDlgod-NkL-Q\"><div id=\"google_ads_iframe_/6735/n6735.NPR/News_Politics_0__container__\" style=\"border: 0pt none;\"><iframe id=\"google_ads_iframe_/6735/n6735.NPR/News_Politics_0\" title=\"3rd party ad content\" name=\"google_ads_iframe_/6735/n6735.NPR/News_Politics_0\" scrolling=\"no\" marginwidth=\"0\" marginheight=\"0\" style=\"border: 0px none; vertical-align: bottom;\" srcdoc=\"\" data-google-container-id=\"1\" data-load-complete=\"true\" width=\"301\" height=\"601\" frameborder=\"0\"></iframe></div></div>\n",
      "    <p class=\"left\">NPR thanks our sponsors</p><p class=\"right\"><a href=\"/about-npr/186948703/corporate-sponsorship\">Become an NPR sponsor</a></p>\n",
      "\n",
      "</aside>\n"
     ]
    }
   ],
   "source": [
    "# url 2\n",
    "i = urls[1]\n",
    "open_url(i)\n",
    "element = driver.find_element_by_css_selector('#ad-standard-wrap')\n",
    "source = element.get_attribute(\"outerHTML\")\n",
    "print(source)\n",
    "ad_type = \"better\"\n",
    "data.append({\"TYPE\" : ad_type, \"ad_code\" : source, \"URL\" : i})"
   ]
  },
  {
   "cell_type": "code",
   "execution_count": 132,
   "metadata": {
    "collapsed": true
   },
   "outputs": [
    {
     "name": "stdout",
     "output_type": "stream",
     "text": [
      "<span id=\"ad_contentslot_1\" class=\"am-default contentslot\" data-google-query-id=\"CJXDgcXdyucCFYS7lgod-jgPIg\">\n",
      "                                    \n",
      "                            <div id=\"google_ads_iframe_/1011951/mpuslot_0__container__\" style=\"border: 0pt none;\"><iframe id=\"google_ads_iframe_/1011951/mpuslot_0\" title=\"3rd party ad content\" name=\"google_ads_iframe_/1011951/mpuslot_0\" scrolling=\"no\" marginwidth=\"0\" marginheight=\"0\" style=\"border: 0px none; vertical-align: bottom;\" srcdoc=\"\" data-google-container-id=\"5\" data-load-complete=\"true\" width=\"336\" height=\"280\" frameborder=\"0\"></iframe></div></span>\n"
     ]
    }
   ],
   "source": [
    "# url 3\n",
    "i = urls[2]\n",
    "open_url(i)\n",
    "element = driver.find_element_by_css_selector('#ad_contentslot_1')\n",
    "source = element.get_attribute(\"outerHTML\")\n",
    "print(source)\n",
    "ad_type = \"better\"\n",
    "data.append({\"TYPE\" : ad_type, \"ad_code\" : source, \"URL\" : i})"
   ]
  },
  {
   "cell_type": "code",
   "execution_count": 133,
   "metadata": {
    "collapsed": true
   },
   "outputs": [
    {
     "name": "stdout",
     "output_type": "stream",
     "text": [
      "<div style=\"width: 100%; height: auto; clear: both; text-align: center;\" class=\"google-auto-placed\"><ins style=\"display: block; margin: 20px auto 10px; background-color: transparent; height: 280px;\" data-ad-format=\"auto\" class=\"adsbygoogle adsbygoogle-noablate\" data-ad-client=\"ca-pub-9173525300015284\" data-adsbygoogle-status=\"done\"><ins id=\"aswift_2_expand\" style=\"display:inline-table;border:none;height:280px;margin:0;padding:0;position:relative;visibility:visible;width:340px;background-color:transparent;\"><ins id=\"aswift_2_anchor\" style=\"display:block;border:none;height:280px;margin:0;padding:0;position:relative;visibility:visible;width:340px;background-color:transparent;\"><iframe marginwidth=\"0\" marginheight=\"0\" vspace=\"0\" hspace=\"0\" allowtransparency=\"true\" scrolling=\"no\" allowfullscreen=\"true\" onload=\"var i=this.id,s=window.google_iframe_oncopy,H=s&amp;&amp;s.handlers,h=H&amp;&amp;H[i],w=this.contentWindow,d;try{d=w.document}catch(e){}if(h&amp;&amp;d&amp;&amp;(!d.body||!d.body.firstChild)){if(h.call){setTimeout(h,0)}else if(h.match){try{h=s.upd(h,i)}catch(e){}w.location.replace(h)}}\" id=\"aswift_2\" name=\"aswift_2\" style=\"left: 0px; position: absolute; top: 0px; border: 0px none; width: 340px; height: 280px; overflow: visible;\" width=\"340\" height=\"280\" frameborder=\"0\"></iframe></ins></ins></ins></div>\n"
     ]
    }
   ],
   "source": [
    "# url 4\n",
    "i = urls[3]\n",
    "open_url(i)\n",
    "element = driver.find_element_by_css_selector('.google-auto-placed')\n",
    "source = element.get_attribute(\"outerHTML\")\n",
    "print(source)\n",
    "ad_type = \"better\"\n",
    "data.append({\"TYPE\" : ad_type, \"ad_code\" : source, \"URL\" : i})"
   ]
  },
  {
   "cell_type": "code",
   "execution_count": 134,
   "metadata": {
    "collapsed": true
   },
   "outputs": [
    {
     "name": "stdout",
     "output_type": "stream",
     "text": [
      "<div id=\"mainLeaderboard\" style=\"overflow:hidden;\">\n",
      "        <!-- MainLeaderboard-->\n",
      "\n",
      "        <!--<pre>main_leaderboard, all: [728,90][970,90][320,50][468,60]</pre>-->\n",
      "        <div id=\"snhb-main_leaderboard-0\" data-google-query-id=\"CKSdmN3dyucCFddzvQodbAINTg\"><div id=\"google_ads_iframe_/22152718/sws-hb//w3schools.com//main_leaderboard_0__container__\" style=\"border: 0pt none;\"><iframe id=\"google_ads_iframe_/22152718/sws-hb//w3schools.com//main_leaderboard_0\" title=\"3rd party ad content\" name=\"google_ads_iframe_/22152718/sws-hb//w3schools.com//main_leaderboard_0\" scrolling=\"no\" marginwidth=\"0\" marginheight=\"0\" style=\"border: 0px none; vertical-align: bottom;\" srcdoc=\"\" data-google-container-id=\"1\" data-load-complete=\"true\" width=\"728\" height=\"90\" frameborder=\"0\"></iframe></div></div>\n",
      "        <!-- adspace leaderboard -->\n",
      "       \n",
      "      </div>\n"
     ]
    }
   ],
   "source": [
    "# url 5\n",
    "i = urls[4]\n",
    "open_url(i)\n",
    "element = driver.find_element_by_css_selector('#mainLeaderboard')\n",
    "source = element.get_attribute(\"outerHTML\")\n",
    "print(source)\n",
    "ad_type = \"better\"\n",
    "data.append({\"TYPE\" : ad_type, \"ad_code\" : source, \"URL\" : i})"
   ]
  },
  {
   "cell_type": "code",
   "execution_count": 135,
   "metadata": {
    "collapsed": true
   },
   "outputs": [
    {
     "name": "stdout",
     "output_type": "stream",
     "text": [
      "<div class=\"sidesection\">\n",
      "  <div id=\"skyscraper\">\n",
      "  \n",
      "    <!--<pre>wide_skyscraper, all: [160,600][300,600][320,50][120,600][300,1050]</pre>-->\n",
      "    <div id=\"snhb-wide_skyscraper-0\" data-google-query-id=\"CK-_j-jdyucCFcosvQodlNUOcg\"><div id=\"google_ads_iframe_/22152718/sws-hb//w3schools.com//wide_skyscraper_0__container__\" style=\"border: 0pt none;\"><iframe id=\"google_ads_iframe_/22152718/sws-hb//w3schools.com//wide_skyscraper_0\" title=\"3rd party ad content\" name=\"google_ads_iframe_/22152718/sws-hb//w3schools.com//wide_skyscraper_0\" scrolling=\"no\" marginwidth=\"0\" marginheight=\"0\" style=\"border: 0px none; vertical-align: bottom;\" srcdoc=\"\" sandbox=\"allow-forms allow-pointer-lock allow-popups allow-popups-to-escape-sandbox allow-same-origin allow-scripts allow-top-navigation-by-user-activation\" data-google-container-id=\"2\" data-load-complete=\"true\" width=\"160\" height=\"600\" frameborder=\"0\"></iframe></div></div>\n",
      "    <!-- adspace wide-->\n",
      "  \n",
      "  </div>\n",
      "</div>\n"
     ]
    }
   ],
   "source": [
    "# url 6\n",
    "i = urls[5]\n",
    "open_url(i)\n",
    "element = driver.find_element_by_css_selector('div.sidesection:nth-child(1)')\n",
    "source = element.get_attribute(\"outerHTML\")\n",
    "print(source)\n",
    "ad_type = \"better\"\n",
    "data.append({\"TYPE\" : ad_type, \"ad_code\" : source, \"URL\" : i})"
   ]
  },
  {
   "cell_type": "code",
   "execution_count": 136,
   "metadata": {
    "collapsed": true
   },
   "outputs": [
    {
     "name": "stdout",
     "output_type": "stream",
     "text": [
      "<aside class=\"l-region l-region--sidebar-second\">\n",
      "    <div id=\"block-tkufi-some-blocks-some-facebook-widget\" class=\"block block--tkufi-some-blocks block--tkufi-some-blocks-some-facebook-widget\">\n",
      "        <div class=\"block__content\">\n",
      "    <div id=\"fb-root\" class=\" fb_reset\"><div style=\"position: absolute; top: -10000px; width: 0px; height: 0px;\"><div></div></div></div><div class=\"fb-page fb_iframe_widget\" data-href=\"https://www.facebook.com/LaivahostelBore\" data-tabs=\"timeline\" data-small-header=\"false\" data-adapt-container-width=\"true\" data-hide-cover=\"false\" data-show-facepile=\"true\" fb-xfbml-state=\"rendered\" fb-iframe-plugin-query=\"adapt_container_width=true&amp;app_id=&amp;container_width=288&amp;hide_cover=false&amp;href=https%3A%2F%2Fwww.facebook.com%2FLaivahostelBore&amp;locale=en_US&amp;sdk=joey&amp;show_facepile=true&amp;small_header=false&amp;tabs=timeline\"><span style=\"vertical-align: bottom; width: 288px; height: 500px;\"><iframe name=\"f2002432839640c\" title=\"fb:page Facebook Social Plugin\" allowtransparency=\"true\" allowfullscreen=\"true\" scrolling=\"no\" allow=\"encrypted-media\" style=\"border: medium none; visibility: visible; width: 288px; height: 500px;\" src=\"https://www.facebook.com/v4.0/plugins/page.php?adapt_container_width=true&amp;app_id=&amp;channel=https%3A%2F%2Fstaticxx.facebook.com%2Fconnect%2Fxd_arbiter.php%3Fversion%3D45%23cb%3Df2598eee60af122%26domain%3Dwww.visitturku.fi%26origin%3Dhttps%253A%252F%252Fwww.visitturku.fi%252Ff1ae1a4e7f7f394%26relation%3Dparent.parent&amp;container_width=288&amp;hide_cover=false&amp;href=https%3A%2F%2Fwww.facebook.com%2FLaivahostelBore&amp;locale=en_US&amp;sdk=joey&amp;show_facepile=true&amp;small_header=false&amp;tabs=timeline\" class=\"\" width=\"1000px\" height=\"1000px\" frameborder=\"0\"></iframe></span></div>  </div>\n",
      "</div>\n",
      "  </aside>\n"
     ]
    }
   ],
   "source": [
    "# url 7\n",
    "i = urls[6]\n",
    "open_url(i)\n",
    "element = driver.find_element_by_css_selector('aside.l-region')\n",
    "source = element.get_attribute(\"outerHTML\")\n",
    "print(source)\n",
    "ad_type = \"better\"\n",
    "data.append({\"TYPE\" : ad_type, \"ad_code\" : source, \"URL\" : i})"
   ]
  },
  {
   "cell_type": "code",
   "execution_count": 137,
   "metadata": {
    "collapsed": true
   },
   "outputs": [
    {
     "name": "stdout",
     "output_type": "stream",
     "text": [
      "<div data-ad-container=\"true\" class=\"adContainer--6CVz1 horizontal\"><span class=\"adLabel--35hfi\">Advertisement</span><ins class=\"adsbygoogle\" data-ad-client=\"ca-pub-7093273770345366\" style=\"display:inline-block;width:300px;height:250px\" data-ad-slot=\"3516331235\" data-adsbygoogle-status=\"done\"><ins id=\"aswift_2_expand\" style=\"display:inline-table;border:none;height:250px;margin:0;padding:0;position:relative;visibility:visible;width:300px;background-color:transparent;\"><ins id=\"aswift_2_anchor\" style=\"display:block;border:none;height:250px;margin:0;padding:0;position:relative;visibility:visible;width:300px;background-color:transparent;\"><iframe marginwidth=\"0\" marginheight=\"0\" vspace=\"0\" hspace=\"0\" allowtransparency=\"true\" scrolling=\"no\" allowfullscreen=\"true\" onload=\"var i=this.id,s=window.google_iframe_oncopy,H=s&amp;&amp;s.handlers,h=H&amp;&amp;H[i],w=this.contentWindow,d;try{d=w.document}catch(e){}if(h&amp;&amp;d&amp;&amp;(!d.body||!d.body.firstChild)){if(h.call){setTimeout(h,0)}else if(h.match){try{h=s.upd(h,i)}catch(e){}w.location.replace(h)}}\" id=\"aswift_2\" name=\"aswift_2\" style=\"left:0;position:absolute;top:0;border:0px;width:300px;height:250px;\" width=\"300\" height=\"250\" frameborder=\"0\"></iframe></ins></ins></ins></div>\n"
     ]
    }
   ],
   "source": [
    "# url 8\n",
    "i = urls[7]\n",
    "open_url(i)\n",
    "element = driver.find_element_by_css_selector('div.horizontal:nth-child(1)')\n",
    "source = element.get_attribute(\"outerHTML\")\n",
    "print(source)\n",
    "ad_type = \"better\"\n",
    "data.append({\"TYPE\" : ad_type, \"ad_code\" : source, \"URL\" : i})"
   ]
  },
  {
   "cell_type": "code",
   "execution_count": 138,
   "metadata": {
    "collapsed": true
   },
   "outputs": [
    {
     "name": "stdout",
     "output_type": "stream",
     "text": [
      "<div data-ad-container=\"true\" class=\"adContainer--6CVz1 vertical\"><span class=\"adLabel--35hfi\">Advertisement</span><ins class=\"adsbygoogle\" data-ad-client=\"ca-pub-7093273770345366\" style=\"display:inline-block;width:728px;height:90px\" data-ad-slot=\"7157382713\" data-adsbygoogle-status=\"done\"><ins id=\"aswift_0_expand\" style=\"display:inline-table;border:none;height:90px;margin:0;padding:0;position:relative;visibility:visible;width:728px;background-color:transparent;\"><ins id=\"aswift_0_anchor\" style=\"display:block;border:none;height:90px;margin:0;padding:0;position:relative;visibility:visible;width:728px;background-color:transparent;\"><iframe marginwidth=\"0\" marginheight=\"0\" vspace=\"0\" hspace=\"0\" allowtransparency=\"true\" scrolling=\"no\" allowfullscreen=\"true\" onload=\"var i=this.id,s=window.google_iframe_oncopy,H=s&amp;&amp;s.handlers,h=H&amp;&amp;H[i],w=this.contentWindow,d;try{d=w.document}catch(e){}if(h&amp;&amp;d&amp;&amp;(!d.body||!d.body.firstChild)){if(h.call){setTimeout(h,0)}else if(h.match){try{h=s.upd(h,i)}catch(e){}w.location.replace(h)}}\" id=\"aswift_0\" name=\"aswift_0\" style=\"left:0;position:absolute;top:0;border:0px;width:728px;height:90px;\" width=\"728\" height=\"90\" frameborder=\"0\"></iframe></ins></ins></ins></div>\n"
     ]
    }
   ],
   "source": [
    "# url 9\n",
    "i = urls[8]\n",
    "open_url(i)\n",
    "element = driver.find_element_by_css_selector('.vertical')\n",
    "source = element.get_attribute(\"outerHTML\")\n",
    "print(source)\n",
    "ad_type = \"better\"\n",
    "data.append({\"TYPE\" : ad_type, \"ad_code\" : source, \"URL\" : i})"
   ]
  },
  {
   "cell_type": "code",
   "execution_count": 141,
   "metadata": {
    "collapsed": true
   },
   "outputs": [
    {
     "name": "stdout",
     "output_type": "stream",
     "text": [
      "<a class=\"extension link--3mrBs link_banner--11FDz\" href=\"https://chrome.google.com/webstore/detail/etymonline/giehjnnlopapngdjbjjgddpaagoimmgl?utm_source=extension_wdp_bottom_banner\" target=\"_blank\" style=\"opacity: 1;\"><div class=\"wordDetail__extensionBanner--2Qrhv\"></div></a>\n"
     ]
    }
   ],
   "source": [
    "# url 10\n",
    "i = urls[9]\n",
    "open_url(i)\n",
    "element = driver.find_element_by_css_selector('.extension')\n",
    "source = element.get_attribute(\"outerHTML\")\n",
    "print(source)\n",
    "ad_type = \"better\"\n",
    "data.append({\"TYPE\" : ad_type, \"ad_code\" : source, \"URL\" : i})"
   ]
  },
  {
   "cell_type": "code",
   "execution_count": 165,
   "metadata": {
    "collapsed": true
   },
   "outputs": [
    {
     "name": "stdout",
     "output_type": "stream",
     "text": [
      "<aside class=\"panel-rt\" style=\"border-bottom:none\">\n",
      "        <div class=\"panel-body\" style=\"padding:0px;\">\n",
      "            \n",
      "            \n",
      "    \n",
      "    \n",
      "    \n",
      "    <aside id=\"medrec_top_ad\" class=\"medrec_ad \" style=\"width:300px\"><div id=\"div-gpt-topmulti-62573057\" class=\"mps-slot\" data-mps-slot=\"topmulti\" data-mps-loadset=\"0\" data-google-query-id=\"CN7L7NDfyucCFc4OXAodLaMDjA\"><div id=\"google_ads_iframe_/2620/rottentomatoes/movie/movie_page_1__container__\" style=\"border: 0pt none;\"><iframe id=\"google_ads_iframe_/2620/rottentomatoes/movie/movie_page_1\" title=\"3rd party ad content\" name=\"google_ads_iframe_/2620/rottentomatoes/movie/movie_page_1\" scrolling=\"no\" marginwidth=\"0\" marginheight=\"0\" style=\"border: 0px none; vertical-align: bottom;\" srcdoc=\"\" data-google-container-id=\"6\" data-load-complete=\"true\" width=\"300\" height=\"250\" frameborder=\"0\"></iframe></div></div></aside>\n",
      "        \n",
      "        \n",
      "            <script>\n",
      "                var mps = mps||{}; mps._queue = mps._queue||{}; mps._queue.gptloaded = mps._queue.gptloaded||[];\n",
      "                mps._queue.gptloaded.push(function () {\n",
      "                    if (mps.getResponsiveSet() != '0') { //DESKTOP or TABLET\n",
      "                        mps.insertAd('#medrec_top_ad','topmulti');\n",
      "                    }\n",
      "                });\n",
      "            </script>\n",
      "        \n",
      "        \n",
      "        \n",
      "\n",
      "\n",
      "        </div>\n",
      "    </aside>\n"
     ]
    }
   ],
   "source": [
    "# url 11\n",
    "i = urls[10]\n",
    "#open_url(i)\n",
    "element = driver.find_element_by_css_selector('aside.panel-rt')\n",
    "source = element.get_attribute(\"outerHTML\")\n",
    "print(source)\n",
    "ad_type = \"better\"\n",
    "data.append({\"TYPE\" : ad_type, \"ad_code\" : source, \"URL\" : i})"
   ]
  },
  {
   "cell_type": "code",
   "execution_count": 173,
   "metadata": {
    "collapsed": true
   },
   "outputs": [
    {
     "name": "stdout",
     "output_type": "stream",
     "text": [
      "<div id=\"leaderboard_top_ad\"><div id=\"div-gpt-topbanner-62573057\" class=\"mps-slot\" data-mps-slot=\"topbanner\" data-mps-loadset=\"0\" data-google-query-id=\"CLuA4bLgyucCFRC9lgodrxQKag\"><div id=\"google_ads_iframe_/2620/rottentomatoes/movie/movie_page_0__container__\" style=\"border: 0pt none;\"><iframe id=\"google_ads_iframe_/2620/rottentomatoes/movie/movie_page_0\" title=\"3rd party ad content\" name=\"google_ads_iframe_/2620/rottentomatoes/movie/movie_page_0\" scrolling=\"no\" marginwidth=\"0\" marginheight=\"0\" style=\"border: 0px none; vertical-align: bottom;\" srcdoc=\"\" data-google-container-id=\"7\" data-load-complete=\"true\" width=\"728\" height=\"90\" frameborder=\"0\"></iframe></div></div><div id=\"div-gpt-outofpage-62573057\" data-mps-slot=\"_oop\" class=\"mps-slot-oop\" style=\"width:0;height:0;margin:0;padding:0;line-height:0;\" data-google-query-id=\"COvWwbHgyucCFRW0lgodQyQHaw\"><script>mps._execAd('_oop');</script><div id=\"google_ads_iframe_/2620/rottentomatoes/movie/movie_page_22__container__\" style=\"border: 0pt none; width: 1px; height: 1px;\"></div></div></div>\n"
     ]
    }
   ],
   "source": [
    "# url 12\n",
    "i = urls[11]\n",
    "#open_url(i)\n",
    "element = driver.find_element_by_css_selector('#leaderboard_top_ad')\n",
    "source = element.get_attribute(\"outerHTML\")\n",
    "print(source)\n",
    "ad_type = \"better\"\n",
    "data.append({\"TYPE\" : ad_type, \"ad_code\" : source, \"URL\" : i})"
   ]
  },
  {
   "cell_type": "code",
   "execution_count": 195,
   "metadata": {
    "collapsed": true
   },
   "outputs": [
    {
     "name": "stdout",
     "output_type": "stream",
     "text": [
      "<div class=\"fixed-ads-r\"><div id=\"713838262\"><script type=\"text/javascript\">try {\n",
      "\t\t   window._mNHandle.queue.push(function () {\n",
      "\t\t   \twindow._mNDetails.loadTag(\"713838262\", \"160x600\", \"713838262\");\n",
      "\t\t  \t});\n",
      "\t\t  }\n",
      "\t  catch (error) {}</script><iframe marginwidth=\"0\" marginheight=\"0\" scrolling=\"no\" id=\"_mN_gpt_713838262\" sandbox=\"allow-same-origin allow-forms allow-popups allow-scripts allow-pointer-lock allow-popups-to-escape-sandbox\" width=\"160\" height=\"600\" frameborder=\"0\"></iframe><iframe marginwidth=\"0\" marginheight=\"0\" scrolling=\"no\" id=\"_mN_dy_713838262\" style=\"display: none !important;\" width=\"0\" height=\"0\" frameborder=\"0\"></iframe></div></div>\n"
     ]
    }
   ],
   "source": [
    "# url 13\n",
    "i = urls[12]\n",
    "#open_url(i)\n",
    "element = driver.find_element_by_css_selector('.fixed-ads-r')\n",
    "source = element.get_attribute(\"outerHTML\")\n",
    "print(source)\n",
    "ad_type = \"better\"\n",
    "data.append({\"TYPE\" : ad_type, \"ad_code\" : source, \"URL\" : i})"
   ]
  },
  {
   "cell_type": "code",
   "execution_count": 198,
   "metadata": {
    "collapsed": true
   },
   "outputs": [
    {
     "name": "stdout",
     "output_type": "stream",
     "text": [
      "<div class=\"xz\" id=\"xz1\" style=\"height: auto;\"><ins class=\"adsbygoogle\" style=\"display: block; max-width: 728px; height: 90px;\" data-ad-format=\"horizontal\" data-ad-slot=\"5649217835\" data-ad-client=\"ca-pub-2694630391511205\" data-ad-channel=\"4658665838+8899949764\" data-kw-type=\"broad\" data-kw=\"how-do-you-do\" data-adsbygoogle-status=\"done\" data-overlap-observer-io=\"false\"><ins id=\"aswift_0_expand\" style=\"display:inline-table;border:none;height:90px;margin:0;padding:0;position:relative;visibility:visible;width:728px;background-color:transparent;\"><ins id=\"aswift_0_anchor\" style=\"display:block;border:none;height:90px;margin:0;padding:0;position:relative;visibility:visible;width:728px;background-color:transparent;\"><iframe marginwidth=\"0\" marginheight=\"0\" vspace=\"0\" hspace=\"0\" allowtransparency=\"true\" scrolling=\"no\" allowfullscreen=\"true\" onload=\"var i=this.id,s=window.google_iframe_oncopy,H=s&amp;&amp;s.handlers,h=H&amp;&amp;H[i],w=this.contentWindow,d;try{d=w.document}catch(e){}if(h&amp;&amp;d&amp;&amp;(!d.body||!d.body.firstChild)){if(h.call){setTimeout(h,0)}else if(h.match){try{h=s.upd(h,i)}catch(e){}w.location.replace(h)}}\" id=\"aswift_0\" name=\"aswift_0\" style=\"left: 0px; position: absolute; top: 0px; border: 0px none; width: 728px; height: 90px; overflow: visible;\" width=\"728\" height=\"90\" frameborder=\"0\"></iframe></ins></ins></ins></div>\n"
     ]
    }
   ],
   "source": [
    "# url 14\n",
    "i = urls[13]\n",
    "#open_url(i)\n",
    "element = driver.find_element_by_css_selector('#xz1')\n",
    "source = element.get_attribute(\"outerHTML\")\n",
    "print(source)\n",
    "ad_type = \"better\"\n",
    "data.append({\"TYPE\" : ad_type, \"ad_code\" : source, \"URL\" : i})"
   ]
  },
  {
   "cell_type": "code",
   "execution_count": 205,
   "metadata": {
    "collapsed": true
   },
   "outputs": [
    {
     "name": "stdout",
     "output_type": "stream",
     "text": [
      "<div class=\"xz\" id=\"xz5\" style=\"height: 375px;\"><iframe id=\"xzaf5\" scrolling=\"no\" marginheight=\"0\" marginwidth=\"0\" topmargin=\"0\" leftmargin=\"0\" allowtransparency=\"true\" src=\"https://a.farlex.com/_/bnrsrv.ashx?as=Um9zR29vZ2xlRGZwNDgweDM2MFJlc3Q!&amp;p=5&amp;u=https%3a%2f%2fwww.thefreedictionary.com%2fhow-do-you-do&amp;w=how-do-you-do&amp;rf=&amp;atf=0&amp;m=0&amp;s=4&amp;r=0&amp;uid=D6DD5AB2-136F-4615-C29F-3A40DF616C4D&amp;geom=1280!402!144!1256.9166259765625!728!0!0\" style=\"overflow:hidden;width:480px;height:375px\" frameborder=\"0\"></iframe></div>\n"
     ]
    }
   ],
   "source": [
    "# url 15\n",
    "i = urls[14]\n",
    "#open_url(i)\n",
    "element = driver.find_element_by_css_selector('#xz5')\n",
    "source = element.get_attribute(\"outerHTML\")\n",
    "print(source)\n",
    "ad_type = \"better\"\n",
    "data.append({\"TYPE\" : ad_type, \"ad_code\" : source, \"URL\" : i})"
   ]
  },
  {
   "cell_type": "code",
   "execution_count": 211,
   "metadata": {
    "collapsed": true
   },
   "outputs": [
    {
     "name": "stdout",
     "output_type": "stream",
     "text": [
      "<section class=\"favorite-cards favorite-cards-shortcode\">\n",
      "\t<div class=\"favorite-cards-wrapper\">\n",
      "\t<div class=\"favorite-cards-intro\">\n",
      "\t\t\t\t\t\t\t<div class=\"favorite-cards-meta\">\n",
      "\t\t\t\t\t<div class=\"title\">Top offers from our partners</div>\n",
      "\t\t\t\t\t<a class=\"chose-modal-toggle\" id=\"js-modal-toggle\" data-beam-text=\"FAV-CARD-HOW-WE-CHOOSE\">How we chose</a>\n",
      "\t\t\t\t\t<div class=\"chose-content\" id=\"js-modal-content\">\n",
      "\t\t\t\t\t\t<span class=\"chose-content__close-icon\" id=\"js-close-content\">✕</span>\n",
      "\t\t\t\t\t\t<div class=\"chose-content__title\">How we chose these cards</div>\n",
      "\t\t\t\t\t\tOur points-obsessed staff uses a plethora of credit cards on a daily basis. If anyone on our team\n",
      "\t\t\t\t\t\twouldn't recommend an offer to a friend or family member, we wouldn't recommend it on The Points Guy\n",
      "\t\t\t\t\t\teither. Our opinions are our own, and have not been reviewed, approved, or endorsed by our advertising\n",
      "\t\t\t\t\t\tpartners.\n",
      "\t\t\t\t\t</div>\n",
      "\t\t\t\t\t\t\t\t\t</div>\n",
      "\t\t\t\t</div>\n",
      "\t<div class=\"cards-main-content\">\n",
      "\t\t<div class=\"cards-wrapper\">\n",
      "\t\t\t\n",
      "<div class=\"card beam-card\" data-beam-position=\"1\" data-beam-product-id=\"22125056\" data-beam-sku=\"204650\" data-beam-name=\"Chase Sapphire Preferred® Card (22125056)\" data-beam-brand=\"Chase\" data-beam-location=\"links\" data-beam-text=\"FAV-CARD-WIDGET-1-CARD\" data-tagular-event=\"ProductViewed\" data-tagular-uid=\"65\" data-tagular-index=\"1\">\n",
      "\t\t\t\t\t\t\t\t\t\t<div class=\"offer-flag mobile-only\">Best Total Value</div>\n",
      "\t\t\t\t\t\t\t\t\t<div class=\"img-wrapper\">\n",
      "\t\t\t<a href=\"https://thepointsguy.com/apply/chase-sapphire-preferred-card/?tid=FAV-CARD-WIDGET-1-CARD\" data-beam-text=\"FAV-CARD-WIDGET-1-CTA\" target=\"_blank\" data-tagular-event=\"ProductClicked\" data-tagular-uid=\"69\" data-tagular-index=\"1\">\n",
      "\t\t\t\t\t\t<div class=\"attachment-image size-card\">\n",
      "\t\t\t<figure>\n",
      "\t\t\t\t<img src=\"https://i0.wp.com/thepointsguy.com/wp-content/uploads/2020/02/5570d9a0-49b8-11e9-a27b-d7eb75c86209-1.png?resize=107%2C67px&amp;ssl=1\" class=\"attachment-card size-card lazyautosizes lazyloaded\" alt=\"\" draggable=\"false\" data-sizes=\"auto\" data-srcset=\"https://i0.wp.com/thepointsguy.com/wp-content/uploads/2020/02/5570d9a0-49b8-11e9-a27b-d7eb75c86209-1.png?resize=500%2C312px&amp;ssl=1 500w,https://i0.wp.com/thepointsguy.com/wp-content/uploads/2020/02/5570d9a0-49b8-11e9-a27b-d7eb75c86209-1.png?resize=409%2C255px&amp;ssl=1 409w,https://i0.wp.com/thepointsguy.com/wp-content/uploads/2020/02/5570d9a0-49b8-11e9-a27b-d7eb75c86209-1.png?resize=254%2C154px&amp;ssl=1 254w,https://i0.wp.com/thepointsguy.com/wp-content/uploads/2020/02/5570d9a0-49b8-11e9-a27b-d7eb75c86209-1.png?resize=150%2C94px&amp;ssl=1 150w,https://i0.wp.com/thepointsguy.com/wp-content/uploads/2020/02/5570d9a0-49b8-11e9-a27b-d7eb75c86209-1.png?resize=107%2C67px&amp;ssl=1 107w\" data-src=\"https://i0.wp.com/thepointsguy.com/wp-content/uploads/2020/02/5570d9a0-49b8-11e9-a27b-d7eb75c86209-1.png?resize=107%2C67px&amp;ssl=1\" sizes=\"89px\" srcset=\"https://i0.wp.com/thepointsguy.com/wp-content/uploads/2020/02/5570d9a0-49b8-11e9-a27b-d7eb75c86209-1.png?resize=500%2C312px&amp;ssl=1 500w,https://i0.wp.com/thepointsguy.com/wp-content/uploads/2020/02/5570d9a0-49b8-11e9-a27b-d7eb75c86209-1.png?resize=409%2C255px&amp;ssl=1 409w,https://i0.wp.com/thepointsguy.com/wp-content/uploads/2020/02/5570d9a0-49b8-11e9-a27b-d7eb75c86209-1.png?resize=254%2C154px&amp;ssl=1 254w,https://i0.wp.com/thepointsguy.com/wp-content/uploads/2020/02/5570d9a0-49b8-11e9-a27b-d7eb75c86209-1.png?resize=150%2C94px&amp;ssl=1 150w,https://i0.wp.com/thepointsguy.com/wp-content/uploads/2020/02/5570d9a0-49b8-11e9-a27b-d7eb75c86209-1.png?resize=107%2C67px&amp;ssl=1 107w\" width=\"500\" height=\"315\">\t\t\t</figure>\n",
      "\t\t</div>\n",
      "\t\t\t\t\t\t</a>\n",
      "\t\t\t\t\t\t\t<a href=\"https://thepointsguy.com/apply/chase-sapphire-preferred-card/?tid=FAV-CARD-WIDGET-1-CARD\" class=\"learn-more-button desktop-only\" data-beam-text=\"FAV-CARD-WIDGET-1-TEXT\" target=\"_blank\" data-tagular-event=\"ProductClicked\" data-tagular-uid=\"70\" data-tagular-index=\"2\">Learn More</a>\n",
      "\t\t\t\t\t<a class=\"terms-link hide-for-tablet\" href=\"https://thepointsguy.com/apply/chase-sapphire-preferred-card/?tid=FAV-CARD-WIDGET-1-CARD\" data-beam-text=\"FAV-CARD-WIDGET-1-TEXT\" target=\"_blank\" data-tagular-event=\"ProductClicked\" data-tagular-uid=\"71\" data-tagular-index=\"3\">Terms Apply</a>\n",
      "\t\t\t\t\t</div>\n",
      "\n",
      "\t\t<div class=\"meta\">\n",
      "\t\t\t\t\t\t\t\t\t\t\t<div class=\"offer-flag show-tablet-up\">Best Total Value</div>\n",
      "\t\t\t\t\t\t\t\t\t\t<div class=\"title\">\n",
      "\t\t\t\t<a href=\"https://thepointsguy.com/apply/chase-sapphire-preferred-card/?tid=FAV-CARD-WIDGET-1-CARD\" data-beam-text=\"FAV-CARD-WIDGET-1-TEXT\" target=\"_blank\" data-tagular-event=\"ProductClicked\" data-tagular-uid=\"72\" data-tagular-index=\"4\">\n",
      "\t\t\t\t\tChase Sapphire Preferred® Card\t\t\t\t</a>\n",
      "\t\t\t</div>\n",
      "\n",
      "\t\t\t\n",
      "\t\t\t\t\t<div class=\"current-offer override\">\n",
      "\t\t\t\t<a href=\"https://thepointsguy.com/apply/chase-sapphire-preferred-card/?tid=FAV-CARD-WIDGET-1-CARD\" style=\"color:#ff9c07\" target=\"_blank\" data-tagular-event=\"ProductClicked\" data-tagular-uid=\"73\" data-tagular-index=\"5\">\n",
      "\t\t\t\t\t\t\t\t</a>\n",
      "\t\t\t</div>\n",
      "\n",
      "\t\t\n",
      "\t\t\t\t\t<div class=\"offer override\" style=\"color:#ff9c07\">\n",
      "\t\t\t\t<a href=\"https://thepointsguy.com/apply/chase-sapphire-preferred-card/?tid=FAV-CARD-WIDGET-1-CARD\" style=\"color:#ff9c07\" target=\"_blank\" data-tagular-event=\"ProductClicked\" data-tagular-uid=\"74\" data-tagular-index=\"6\"><strong>CURRENT OFFER 60,000 points</strong></a>\n",
      "\t\t\t</div>\n",
      "\t\t\t\t\t\t\t\t\t<a href=\"https://thepointsguy.com/apply/chase-sapphire-preferred-card/?tid=FAV-CARD-WIDGET-1-CARD\" class=\"learn-more-button\" data-beam-text=\"FAV-CARD-WIDGET-1-TEXT\" target=\"_blank\" data-tagular-event=\"ProductClicked\" data-tagular-uid=\"75\" data-tagular-index=\"7\">Learn More <span class=\"icon-arrow\"><svg width=\"8px\" height=\"10px\" viewBox=\"0 0 8 10\" version=\"1.1\" xmlns=\"http://www.w3.org/2000/svg\" xmlns:xlink=\"http://www.w3.org/1999/xlink\">\n",
      "\t<!-- Generator: Sketch 56.2 (81672) - https://sketch.com -->\n",
      "\t<title>Group</title>\n",
      "\t<desc>Created with Sketch.</desc>\n",
      "\t<defs>\n",
      "\t\t<path d=\"M3.25,2.81066017 L1.53033009,4.53033009 C1.23743687,4.8232233 0.762563133,4.8232233 0.469669914,4.53033009 C0.176776695,4.23743687 0.176776695,3.76256313 0.469669914,3.46966991 L3.46966991,0.469669914 C3.76256313,0.176776695 4.23743687,0.176776695 4.53033009,0.469669914 L7.53033009,3.46966991 C7.8232233,3.76256313 7.8232233,4.23743687 7.53033009,4.53033009 C7.23743687,4.8232233 6.76256313,4.8232233 6.46966991,4.53033009 L4.75,2.81066017 L4.75,8.5472477 C4.75,8.96146126 4.41421356,9.2972477 4,9.2972477 C3.58578644,9.2972477 3.25,8.96146126 3.25,8.5472477 L3.25,2.81066017 Z\" id=\"path-1\"></path>\n",
      "\t</defs>\n",
      "\t<g id=\"Symbols\" stroke=\"none\" stroke-width=\"1\" fill=\"none\" fill-rule=\"evenodd\">\n",
      "\t\t<g id=\"Icons-/-Arrows-/-Arrow-Up-Small-Tail\" transform=\"translate(-8.000000, -6.000000)\">\n",
      "\t\t\t<g id=\"Group\" transform=\"translate(8.000000, 6.000000)\">\n",
      "\t\t\t\t<g id=\"Blue\">\n",
      "\t\t\t\t\t<mask id=\"mask-2\" fill=\"white\">\n",
      "\t\t\t\t\t\t<use xlink:href=\"#path-1\"></use>\n",
      "\t\t\t\t\t</mask>\n",
      "\t\t\t\t\t<use id=\"Mask\" fill=\"#000000\" fill-rule=\"nonzero\" xlink:href=\"#path-1\"></use>\n",
      "\t\t\t\t\t<g id=\"Colors-/-Azure-Blue\" mask=\"url(#mask-2)\" fill=\"#1B6FFF\">\n",
      "\t\t\t\t\t\t<g transform=\"translate(-8.000000, -6.000000)\" id=\"Rectangle\">\n",
      "\t\t\t\t\t\t\t<rect x=\"0\" y=\"0\" width=\"24\" height=\"24\"></rect>\n",
      "\t\t\t\t\t\t</g>\n",
      "\t\t\t\t\t</g>\n",
      "\t\t\t\t</g>\n",
      "\t\t\t</g>\n",
      "\t\t</g>\n",
      "\t</g>\n",
      "</svg>\n",
      "</span>\n",
      "\t\t\t\t</a>\n",
      "\t\t\t\t\t\t<div class=\"terms\">\n",
      "\t\t\t\t\t\t\t\t\t<a class=\"terms-link tablet-only\" href=\"https://thepointsguy.com/apply/chase-sapphire-preferred-card/?tid=FAV-CARD-WIDGET-1-CARD\" data-beam-text=\"FAV-CARD-WIDGET-1-TEXT\" target=\"_blank\" data-tagular-event=\"ProductClicked\" data-tagular-uid=\"76\" data-tagular-index=\"8\">Terms Apply</a>\n",
      "\t\t\t\t\t\t\t</div>\n",
      "\n",
      "\t\t\t\n",
      "\t\t\t\n",
      "\t\t\t\n",
      "\t\t\t\t\t</div>\n",
      "</div>\n",
      "\n",
      "<div class=\"card beam-card\" data-beam-position=\"2\" data-beam-product-id=\"22105772\" data-beam-sku=\"ce293c61587c41c29a64c5685cb78e40\" data-beam-name=\"Capital One® Venture® Rewards Credit Card (22105772)\" data-beam-brand=\"Capital One\" data-beam-location=\"links\" data-beam-text=\"FAV-CARD-WIDGET-2-CARD\" data-tagular-event=\"ProductViewed\" data-tagular-uid=\"66\" data-tagular-index=\"2\">\n",
      "\t\t\t\t\t\t\t\t\t\t<div class=\"img-wrapper\">\n",
      "\t\t\t<a href=\"https://thepointsguy.com/apply/capital-one-venture-rewards-credit-card/?tid=FAV-CARD-WIDGET-2-CARD\" data-beam-text=\"FAV-CARD-WIDGET-2-CTA\" target=\"_blank\" data-tagular-event=\"ProductClicked\" data-tagular-uid=\"77\" data-tagular-index=\"9\">\n",
      "\t\t\t\t\t\t<div class=\"attachment-image size-card\">\n",
      "\t\t\t<figure>\n",
      "\t\t\t\t<img src=\"https://i1.wp.com/thepointsguy.com/wp-content/uploads/2020/02/capital-one-venture-rewards-credit-card-032217.png?resize=107%2C67px&amp;ssl=1\" class=\"attachment-card size-card lazyautosizes lazyloaded\" alt=\"\" draggable=\"false\" data-sizes=\"auto\" data-srcset=\"https://i1.wp.com/thepointsguy.com/wp-content/uploads/2020/02/capital-one-venture-rewards-credit-card-032217.png?resize=500%2C312px&amp;ssl=1 500w,https://i1.wp.com/thepointsguy.com/wp-content/uploads/2020/02/capital-one-venture-rewards-credit-card-032217.png?resize=409%2C255px&amp;ssl=1 409w,https://i1.wp.com/thepointsguy.com/wp-content/uploads/2020/02/capital-one-venture-rewards-credit-card-032217.png?resize=254%2C154px&amp;ssl=1 254w,https://i1.wp.com/thepointsguy.com/wp-content/uploads/2020/02/capital-one-venture-rewards-credit-card-032217.png?resize=150%2C94px&amp;ssl=1 150w,https://i1.wp.com/thepointsguy.com/wp-content/uploads/2020/02/capital-one-venture-rewards-credit-card-032217.png?resize=107%2C67px&amp;ssl=1 107w\" data-src=\"https://i1.wp.com/thepointsguy.com/wp-content/uploads/2020/02/capital-one-venture-rewards-credit-card-032217.png?resize=107%2C67px&amp;ssl=1\" sizes=\"89px\" srcset=\"https://i1.wp.com/thepointsguy.com/wp-content/uploads/2020/02/capital-one-venture-rewards-credit-card-032217.png?resize=500%2C312px&amp;ssl=1 500w,https://i1.wp.com/thepointsguy.com/wp-content/uploads/2020/02/capital-one-venture-rewards-credit-card-032217.png?resize=409%2C255px&amp;ssl=1 409w,https://i1.wp.com/thepointsguy.com/wp-content/uploads/2020/02/capital-one-venture-rewards-credit-card-032217.png?resize=254%2C154px&amp;ssl=1 254w,https://i1.wp.com/thepointsguy.com/wp-content/uploads/2020/02/capital-one-venture-rewards-credit-card-032217.png?resize=150%2C94px&amp;ssl=1 150w,https://i1.wp.com/thepointsguy.com/wp-content/uploads/2020/02/capital-one-venture-rewards-credit-card-032217.png?resize=107%2C67px&amp;ssl=1 107w\" width=\"500\" height=\"315\">\t\t\t</figure>\n",
      "\t\t</div>\n",
      "\t\t\t\t\t\t</a>\n",
      "\t\t\t\t\t\t\t<a href=\"https://thepointsguy.com/apply/capital-one-venture-rewards-credit-card/?tid=FAV-CARD-WIDGET-2-CARD\" class=\"learn-more-button desktop-only\" data-beam-text=\"FAV-CARD-WIDGET-2-TEXT\" target=\"_blank\" data-tagular-event=\"ProductClicked\" data-tagular-uid=\"78\" data-tagular-index=\"10\">Learn More</a>\n",
      "\t\t\t\t\t<a class=\"terms-link hide-for-tablet\" href=\"https://thepointsguy.com/apply/capital-one-venture-rewards-credit-card/?tid=FAV-CARD-WIDGET-2-CARD\" data-beam-text=\"FAV-CARD-WIDGET-2-TEXT\" target=\"_blank\" data-tagular-event=\"ProductClicked\" data-tagular-uid=\"79\" data-tagular-index=\"11\">Terms Apply</a>\n",
      "\t\t\t\t\t</div>\n",
      "\n",
      "\t\t<div class=\"meta\">\n",
      "\t\t\t\t\t\t\t\t\t\t\t\t<div class=\"title\">\n",
      "\t\t\t\t<a href=\"https://thepointsguy.com/apply/capital-one-venture-rewards-credit-card/?tid=FAV-CARD-WIDGET-2-CARD\" data-beam-text=\"FAV-CARD-WIDGET-2-TEXT\" target=\"_blank\" data-tagular-event=\"ProductClicked\" data-tagular-uid=\"80\" data-tagular-index=\"12\">\n",
      "\t\t\t\t\tCapital One® Venture® Rewards Credit Card\t\t\t\t</a>\n",
      "\t\t\t</div>\n",
      "\n",
      "\t\t\t\n",
      "\t\t\n",
      "\t\t\t<div class=\"current-offer\">\n",
      "\t\t\t<a href=\"https://thepointsguy.com/apply/capital-one-venture-rewards-credit-card/?tid=FAV-CARD-WIDGET-2-CARD\" target=\"_blank\" data-tagular-event=\"ProductClicked\" data-tagular-uid=\"81\" data-tagular-index=\"13\">\n",
      "\t\t\t\tCurrent Offer\t\t\t\t</a>\n",
      "\t\t\t</div>\n",
      "\n",
      "\t\t\n",
      "\t\t\t\t\t<div class=\"offer\">\n",
      "\t\t\t\t<a href=\"https://thepointsguy.com/apply/capital-one-venture-rewards-credit-card/?tid=FAV-CARD-WIDGET-2-CARD\" target=\"_blank\" data-tagular-event=\"ProductClicked\" data-tagular-uid=\"82\" data-tagular-index=\"14\">50,000 miles</a>\n",
      "\t\t\t</div>\n",
      "\t\t\t\t\t\t\t\t\t\t<a href=\"https://thepointsguy.com/apply/capital-one-venture-rewards-credit-card/?tid=FAV-CARD-WIDGET-2-CARD\" class=\"learn-more-button\" data-beam-text=\"FAV-CARD-WIDGET-2-TEXT\" target=\"_blank\" data-tagular-event=\"ProductClicked\" data-tagular-uid=\"83\" data-tagular-index=\"15\">Learn More <span class=\"icon-arrow\"><svg width=\"8px\" height=\"10px\" viewBox=\"0 0 8 10\" version=\"1.1\" xmlns=\"http://www.w3.org/2000/svg\" xmlns:xlink=\"http://www.w3.org/1999/xlink\">\n",
      "\t<!-- Generator: Sketch 56.2 (81672) - https://sketch.com -->\n",
      "\t<title>Group</title>\n",
      "\t<desc>Created with Sketch.</desc>\n",
      "\t<defs>\n",
      "\t\t<path d=\"M3.25,2.81066017 L1.53033009,4.53033009 C1.23743687,4.8232233 0.762563133,4.8232233 0.469669914,4.53033009 C0.176776695,4.23743687 0.176776695,3.76256313 0.469669914,3.46966991 L3.46966991,0.469669914 C3.76256313,0.176776695 4.23743687,0.176776695 4.53033009,0.469669914 L7.53033009,3.46966991 C7.8232233,3.76256313 7.8232233,4.23743687 7.53033009,4.53033009 C7.23743687,4.8232233 6.76256313,4.8232233 6.46966991,4.53033009 L4.75,2.81066017 L4.75,8.5472477 C4.75,8.96146126 4.41421356,9.2972477 4,9.2972477 C3.58578644,9.2972477 3.25,8.96146126 3.25,8.5472477 L3.25,2.81066017 Z\" id=\"path-1\"></path>\n",
      "\t</defs>\n",
      "\t<g id=\"Symbols\" stroke=\"none\" stroke-width=\"1\" fill=\"none\" fill-rule=\"evenodd\">\n",
      "\t\t<g id=\"Icons-/-Arrows-/-Arrow-Up-Small-Tail\" transform=\"translate(-8.000000, -6.000000)\">\n",
      "\t\t\t<g id=\"Group\" transform=\"translate(8.000000, 6.000000)\">\n",
      "\t\t\t\t<g id=\"Blue\">\n",
      "\t\t\t\t\t<mask id=\"mask-2\" fill=\"white\">\n",
      "\t\t\t\t\t\t<use xlink:href=\"#path-1\"></use>\n",
      "\t\t\t\t\t</mask>\n",
      "\t\t\t\t\t<use id=\"Mask\" fill=\"#000000\" fill-rule=\"nonzero\" xlink:href=\"#path-1\"></use>\n",
      "\t\t\t\t\t<g id=\"Colors-/-Azure-Blue\" mask=\"url(#mask-2)\" fill=\"#1B6FFF\">\n",
      "\t\t\t\t\t\t<g transform=\"translate(-8.000000, -6.000000)\" id=\"Rectangle\">\n",
      "\t\t\t\t\t\t\t<rect x=\"0\" y=\"0\" width=\"24\" height=\"24\"></rect>\n",
      "\t\t\t\t\t\t</g>\n",
      "\t\t\t\t\t</g>\n",
      "\t\t\t\t</g>\n",
      "\t\t\t</g>\n",
      "\t\t</g>\n",
      "\t</g>\n",
      "</svg>\n",
      "</span>\n",
      "\t\t\t\t</a>\n",
      "\t\t\t\t\t\t<div class=\"terms\">\n",
      "\t\t\t\t\t\t\t\t\t<a class=\"terms-link tablet-only\" href=\"https://thepointsguy.com/apply/capital-one-venture-rewards-credit-card/?tid=FAV-CARD-WIDGET-2-CARD\" data-beam-text=\"FAV-CARD-WIDGET-2-TEXT\" target=\"_blank\" data-tagular-event=\"ProductClicked\" data-tagular-uid=\"84\" data-tagular-index=\"16\">Terms Apply</a>\n",
      "\t\t\t\t\t\t\t</div>\n",
      "\n",
      "\t\t\t\n",
      "\t\t\t\n",
      "\t\t\t\n",
      "\t\t\t\t\t</div>\n",
      "</div>\n",
      "\n",
      "<div class=\"card beam-card\" data-beam-position=\"3\" data-beam-product-id=\"221211974\" data-beam-sku=\"221211974\" data-beam-name=\"Ink Business Preferred℠ Credit Card (221211974)\" data-beam-brand=\"Chase\" data-beam-location=\"links\" data-beam-text=\"FAV-CARD-WIDGET-3-CARD\" data-tagular-event=\"ProductViewed\" data-tagular-uid=\"67\" data-tagular-index=\"3\">\n",
      "\t\t\t\t\t\t\t\t\t\t<div class=\"img-wrapper\">\n",
      "\t\t\t<a href=\"https://thepointsguy.com/apply/ink-business-preferred%e2%84%a0-credit-card/?tid=FAV-CARD-WIDGET-3-CARD\" data-beam-text=\"FAV-CARD-WIDGET-3-CTA\" target=\"_blank\" data-tagular-event=\"ProductClicked\" data-tagular-uid=\"85\" data-tagular-index=\"17\">\n",
      "\t\t\t\t\t\t<div class=\"attachment-image size-card\">\n",
      "\t\t\t<figure>\n",
      "\t\t\t\t<img src=\"https://i0.wp.com/thepointsguy.com/wp-content/uploads/2020/01/ink-business-preferred-credit-card-040518-1.png?resize=107%2C67px&amp;ssl=1\" class=\"attachment-card size-card lazyautosizes lazyloaded\" alt=\"\" draggable=\"false\" data-sizes=\"auto\" data-srcset=\"https://i0.wp.com/thepointsguy.com/wp-content/uploads/2020/01/ink-business-preferred-credit-card-040518-1.png?resize=500%2C312px&amp;ssl=1 500w,https://i0.wp.com/thepointsguy.com/wp-content/uploads/2020/01/ink-business-preferred-credit-card-040518-1.png?resize=409%2C255px&amp;ssl=1 409w,https://i0.wp.com/thepointsguy.com/wp-content/uploads/2020/01/ink-business-preferred-credit-card-040518-1.png?resize=254%2C154px&amp;ssl=1 254w,https://i0.wp.com/thepointsguy.com/wp-content/uploads/2020/01/ink-business-preferred-credit-card-040518-1.png?resize=150%2C94px&amp;ssl=1 150w,https://i0.wp.com/thepointsguy.com/wp-content/uploads/2020/01/ink-business-preferred-credit-card-040518-1.png?resize=107%2C67px&amp;ssl=1 107w\" data-src=\"https://i0.wp.com/thepointsguy.com/wp-content/uploads/2020/01/ink-business-preferred-credit-card-040518-1.png?resize=107%2C67px&amp;ssl=1\" sizes=\"89px\" srcset=\"https://i0.wp.com/thepointsguy.com/wp-content/uploads/2020/01/ink-business-preferred-credit-card-040518-1.png?resize=500%2C312px&amp;ssl=1 500w,https://i0.wp.com/thepointsguy.com/wp-content/uploads/2020/01/ink-business-preferred-credit-card-040518-1.png?resize=409%2C255px&amp;ssl=1 409w,https://i0.wp.com/thepointsguy.com/wp-content/uploads/2020/01/ink-business-preferred-credit-card-040518-1.png?resize=254%2C154px&amp;ssl=1 254w,https://i0.wp.com/thepointsguy.com/wp-content/uploads/2020/01/ink-business-preferred-credit-card-040518-1.png?resize=150%2C94px&amp;ssl=1 150w,https://i0.wp.com/thepointsguy.com/wp-content/uploads/2020/01/ink-business-preferred-credit-card-040518-1.png?resize=107%2C67px&amp;ssl=1 107w\" width=\"500\" height=\"315\">\t\t\t</figure>\n",
      "\t\t</div>\n",
      "\t\t\t\t\t\t</a>\n",
      "\t\t\t\t\t\t\t<a href=\"https://thepointsguy.com/apply/ink-business-preferred%e2%84%a0-credit-card/?tid=FAV-CARD-WIDGET-3-CARD\" class=\"learn-more-button desktop-only\" data-beam-text=\"FAV-CARD-WIDGET-3-TEXT\" target=\"_blank\" data-tagular-event=\"ProductClicked\" data-tagular-uid=\"86\" data-tagular-index=\"18\">Learn More</a>\n",
      "\t\t\t\t\t<a class=\"terms-link hide-for-tablet\" href=\"https://thepointsguy.com/apply/ink-business-preferred%e2%84%a0-credit-card/?tid=FAV-CARD-WIDGET-3-CARD\" data-beam-text=\"FAV-CARD-WIDGET-3-TEXT\" target=\"_blank\" data-tagular-event=\"ProductClicked\" data-tagular-uid=\"87\" data-tagular-index=\"19\">Terms Apply</a>\n",
      "\t\t\t\t\t</div>\n",
      "\n",
      "\t\t<div class=\"meta\">\n",
      "\t\t\t\t\t\t\t\t\t\t\t\t<div class=\"title\">\n",
      "\t\t\t\t<a href=\"https://thepointsguy.com/apply/ink-business-preferred%e2%84%a0-credit-card/?tid=FAV-CARD-WIDGET-3-CARD\" data-beam-text=\"FAV-CARD-WIDGET-3-TEXT\" target=\"_blank\" data-tagular-event=\"ProductClicked\" data-tagular-uid=\"88\" data-tagular-index=\"20\">\n",
      "\t\t\t\t\tInk Business Preferred℠ Credit Card\t\t\t\t</a>\n",
      "\t\t\t</div>\n",
      "\n",
      "\t\t\t\n",
      "\t\t\n",
      "\t\t\t<div class=\"current-offer\">\n",
      "\t\t\t<a href=\"https://thepointsguy.com/apply/ink-business-preferred%e2%84%a0-credit-card/?tid=FAV-CARD-WIDGET-3-CARD\" target=\"_blank\" data-tagular-event=\"ProductClicked\" data-tagular-uid=\"89\" data-tagular-index=\"21\">\n",
      "\t\t\t\tCurrent Offer\t\t\t\t</a>\n",
      "\t\t\t</div>\n",
      "\n",
      "\t\t\n",
      "\t\t\t\t\t<div class=\"offer\">\n",
      "\t\t\t\t<a href=\"https://thepointsguy.com/apply/ink-business-preferred%e2%84%a0-credit-card/?tid=FAV-CARD-WIDGET-3-CARD\" target=\"_blank\" data-tagular-event=\"ProductClicked\" data-tagular-uid=\"90\" data-tagular-index=\"22\">80,000 points</a>\n",
      "\t\t\t</div>\n",
      "\t\t\t\t\t\t\t\t\t\t<a href=\"https://thepointsguy.com/apply/ink-business-preferred%e2%84%a0-credit-card/?tid=FAV-CARD-WIDGET-3-CARD\" class=\"learn-more-button\" data-beam-text=\"FAV-CARD-WIDGET-3-TEXT\" target=\"_blank\" data-tagular-event=\"ProductClicked\" data-tagular-uid=\"91\" data-tagular-index=\"23\">Learn More <span class=\"icon-arrow\"><svg width=\"8px\" height=\"10px\" viewBox=\"0 0 8 10\" version=\"1.1\" xmlns=\"http://www.w3.org/2000/svg\" xmlns:xlink=\"http://www.w3.org/1999/xlink\">\n",
      "\t<!-- Generator: Sketch 56.2 (81672) - https://sketch.com -->\n",
      "\t<title>Group</title>\n",
      "\t<desc>Created with Sketch.</desc>\n",
      "\t<defs>\n",
      "\t\t<path d=\"M3.25,2.81066017 L1.53033009,4.53033009 C1.23743687,4.8232233 0.762563133,4.8232233 0.469669914,4.53033009 C0.176776695,4.23743687 0.176776695,3.76256313 0.469669914,3.46966991 L3.46966991,0.469669914 C3.76256313,0.176776695 4.23743687,0.176776695 4.53033009,0.469669914 L7.53033009,3.46966991 C7.8232233,3.76256313 7.8232233,4.23743687 7.53033009,4.53033009 C7.23743687,4.8232233 6.76256313,4.8232233 6.46966991,4.53033009 L4.75,2.81066017 L4.75,8.5472477 C4.75,8.96146126 4.41421356,9.2972477 4,9.2972477 C3.58578644,9.2972477 3.25,8.96146126 3.25,8.5472477 L3.25,2.81066017 Z\" id=\"path-1\"></path>\n",
      "\t</defs>\n",
      "\t<g id=\"Symbols\" stroke=\"none\" stroke-width=\"1\" fill=\"none\" fill-rule=\"evenodd\">\n",
      "\t\t<g id=\"Icons-/-Arrows-/-Arrow-Up-Small-Tail\" transform=\"translate(-8.000000, -6.000000)\">\n",
      "\t\t\t<g id=\"Group\" transform=\"translate(8.000000, 6.000000)\">\n",
      "\t\t\t\t<g id=\"Blue\">\n",
      "\t\t\t\t\t<mask id=\"mask-2\" fill=\"white\">\n",
      "\t\t\t\t\t\t<use xlink:href=\"#path-1\"></use>\n",
      "\t\t\t\t\t</mask>\n",
      "\t\t\t\t\t<use id=\"Mask\" fill=\"#000000\" fill-rule=\"nonzero\" xlink:href=\"#path-1\"></use>\n",
      "\t\t\t\t\t<g id=\"Colors-/-Azure-Blue\" mask=\"url(#mask-2)\" fill=\"#1B6FFF\">\n",
      "\t\t\t\t\t\t<g transform=\"translate(-8.000000, -6.000000)\" id=\"Rectangle\">\n",
      "\t\t\t\t\t\t\t<rect x=\"0\" y=\"0\" width=\"24\" height=\"24\"></rect>\n",
      "\t\t\t\t\t\t</g>\n",
      "\t\t\t\t\t</g>\n",
      "\t\t\t\t</g>\n",
      "\t\t\t</g>\n",
      "\t\t</g>\n",
      "\t</g>\n",
      "</svg>\n",
      "</span>\n",
      "\t\t\t\t</a>\n",
      "\t\t\t\t\t\t<div class=\"terms\">\n",
      "\t\t\t\t\t\t\t\t\t<a class=\"terms-link tablet-only\" href=\"https://thepointsguy.com/apply/ink-business-preferred%e2%84%a0-credit-card/?tid=FAV-CARD-WIDGET-3-CARD\" data-beam-text=\"FAV-CARD-WIDGET-3-TEXT\" target=\"_blank\" data-tagular-event=\"ProductClicked\" data-tagular-uid=\"92\" data-tagular-index=\"24\">Terms Apply</a>\n",
      "\t\t\t\t\t\t\t</div>\n",
      "\n",
      "\t\t\t\n",
      "\t\t\t\n",
      "\t\t\t\n",
      "\t\t\t\t\t</div>\n",
      "</div>\n",
      "\n",
      "<div class=\"card beam-card\" data-beam-position=\"4\" data-beam-product-id=\"22504813\" data-beam-sku=\"156 L\" data-beam-name=\"The Platinum Card® from American Express (22504813)\" data-beam-brand=\"American Express\" data-beam-location=\"links\" data-beam-text=\"FAV-CARD-WIDGET-4-CARD\" data-tagular-event=\"ProductViewed\" data-tagular-uid=\"68\" data-tagular-index=\"4\">\n",
      "\t\t\t\t\t\t\t\t\t\t<div class=\"img-wrapper\">\n",
      "\t\t\t<a href=\"https://thepointsguy.com/apply/the-platinum-card-from-american-express/?tid=FAV-CARD-WIDGET-4-CARD\" data-beam-text=\"FAV-CARD-WIDGET-4-CTA\" target=\"_blank\" data-tagular-event=\"ProductClicked\" data-tagular-uid=\"93\" data-tagular-index=\"25\">\n",
      "\t\t\t\t\t\t<div class=\"attachment-image size-card\">\n",
      "\t\t\t<figure>\n",
      "\t\t\t\t<img src=\"https://i2.wp.com/thepointsguy.com/wp-content/uploads/2020/01/the-platinum-card-from-american-express-060117.png?resize=107%2C67px&amp;ssl=1\" class=\"attachment-card size-card lazyautosizes lazyloaded\" alt=\"\" draggable=\"false\" data-sizes=\"auto\" data-srcset=\"https://i2.wp.com/thepointsguy.com/wp-content/uploads/2020/01/the-platinum-card-from-american-express-060117.png?resize=500%2C312px&amp;ssl=1 500w,https://i2.wp.com/thepointsguy.com/wp-content/uploads/2020/01/the-platinum-card-from-american-express-060117.png?resize=409%2C255px&amp;ssl=1 409w,https://i2.wp.com/thepointsguy.com/wp-content/uploads/2020/01/the-platinum-card-from-american-express-060117.png?resize=254%2C154px&amp;ssl=1 254w,https://i2.wp.com/thepointsguy.com/wp-content/uploads/2020/01/the-platinum-card-from-american-express-060117.png?resize=150%2C94px&amp;ssl=1 150w,https://i2.wp.com/thepointsguy.com/wp-content/uploads/2020/01/the-platinum-card-from-american-express-060117.png?resize=107%2C67px&amp;ssl=1 107w\" data-src=\"https://i2.wp.com/thepointsguy.com/wp-content/uploads/2020/01/the-platinum-card-from-american-express-060117.png?resize=107%2C67px&amp;ssl=1\" sizes=\"89px\" srcset=\"https://i2.wp.com/thepointsguy.com/wp-content/uploads/2020/01/the-platinum-card-from-american-express-060117.png?resize=500%2C312px&amp;ssl=1 500w,https://i2.wp.com/thepointsguy.com/wp-content/uploads/2020/01/the-platinum-card-from-american-express-060117.png?resize=409%2C255px&amp;ssl=1 409w,https://i2.wp.com/thepointsguy.com/wp-content/uploads/2020/01/the-platinum-card-from-american-express-060117.png?resize=254%2C154px&amp;ssl=1 254w,https://i2.wp.com/thepointsguy.com/wp-content/uploads/2020/01/the-platinum-card-from-american-express-060117.png?resize=150%2C94px&amp;ssl=1 150w,https://i2.wp.com/thepointsguy.com/wp-content/uploads/2020/01/the-platinum-card-from-american-express-060117.png?resize=107%2C67px&amp;ssl=1 107w\" width=\"500\" height=\"315\">\t\t\t</figure>\n",
      "\t\t</div>\n",
      "\t\t\t\t\t\t</a>\n",
      "\t\t\t\t\t\t\t<a href=\"https://thepointsguy.com/apply/the-platinum-card-from-american-express/?tid=FAV-CARD-WIDGET-4-CARD\" class=\"learn-more-button desktop-only\" data-beam-text=\"FAV-CARD-WIDGET-4-TEXT\" target=\"_blank\" data-tagular-event=\"ProductClicked\" data-tagular-uid=\"94\" data-tagular-index=\"26\">Learn More</a>\n",
      "\t\t\t\t\t<a class=\"terms-link hide-for-tablet\" href=\"https://thepointsguy.com/apply/the-platinum-card-from-american-express/?tid=FAV-CARD-WIDGET-4-CARD\" data-beam-text=\"FAV-CARD-WIDGET-4-TEXT\" target=\"_blank\" data-tagular-event=\"ProductClicked\" data-tagular-uid=\"95\" data-tagular-index=\"27\">Terms Apply</a>\n",
      "\t\t\t\t\t</div>\n",
      "\n",
      "\t\t<div class=\"meta\">\n",
      "\t\t\t\t\t\t\t\t\t\t\t\t<div class=\"title\">\n",
      "\t\t\t\t<a href=\"https://thepointsguy.com/apply/the-platinum-card-from-american-express/?tid=FAV-CARD-WIDGET-4-CARD\" data-beam-text=\"FAV-CARD-WIDGET-4-TEXT\" target=\"_blank\" data-tagular-event=\"ProductClicked\" data-tagular-uid=\"96\" data-tagular-index=\"28\">\n",
      "\t\t\t\t\tThe Platinum Card® from American Express\t\t\t\t</a>\n",
      "\t\t\t</div>\n",
      "\n",
      "\t\t\t\n",
      "\t\t\n",
      "\t\t\t<div class=\"current-offer\">\n",
      "\t\t\t<a href=\"https://thepointsguy.com/apply/the-platinum-card-from-american-express/?tid=FAV-CARD-WIDGET-4-CARD\" target=\"_blank\" data-tagular-event=\"ProductClicked\" data-tagular-uid=\"97\" data-tagular-index=\"29\">\n",
      "\t\t\t\tCurrent Offer\t\t\t\t</a>\n",
      "\t\t\t</div>\n",
      "\n",
      "\t\t\n",
      "\t\t\t\t\t<div class=\"offer\">\n",
      "\t\t\t\t<a href=\"https://thepointsguy.com/apply/the-platinum-card-from-american-express/?tid=FAV-CARD-WIDGET-4-CARD\" target=\"_blank\" data-tagular-event=\"ProductClicked\" data-tagular-uid=\"98\" data-tagular-index=\"30\">Earn 60,000 points</a>\n",
      "\t\t\t</div>\n",
      "\t\t\t\t\t\t\t\t\t\t<a href=\"https://thepointsguy.com/apply/the-platinum-card-from-american-express/?tid=FAV-CARD-WIDGET-4-CARD\" class=\"learn-more-button\" data-beam-text=\"FAV-CARD-WIDGET-4-TEXT\" target=\"_blank\" data-tagular-event=\"ProductClicked\" data-tagular-uid=\"99\" data-tagular-index=\"31\">Learn More <span class=\"icon-arrow\"><svg width=\"8px\" height=\"10px\" viewBox=\"0 0 8 10\" version=\"1.1\" xmlns=\"http://www.w3.org/2000/svg\" xmlns:xlink=\"http://www.w3.org/1999/xlink\">\n",
      "\t<!-- Generator: Sketch 56.2 (81672) - https://sketch.com -->\n",
      "\t<title>Group</title>\n",
      "\t<desc>Created with Sketch.</desc>\n",
      "\t<defs>\n",
      "\t\t<path d=\"M3.25,2.81066017 L1.53033009,4.53033009 C1.23743687,4.8232233 0.762563133,4.8232233 0.469669914,4.53033009 C0.176776695,4.23743687 0.176776695,3.76256313 0.469669914,3.46966991 L3.46966991,0.469669914 C3.76256313,0.176776695 4.23743687,0.176776695 4.53033009,0.469669914 L7.53033009,3.46966991 C7.8232233,3.76256313 7.8232233,4.23743687 7.53033009,4.53033009 C7.23743687,4.8232233 6.76256313,4.8232233 6.46966991,4.53033009 L4.75,2.81066017 L4.75,8.5472477 C4.75,8.96146126 4.41421356,9.2972477 4,9.2972477 C3.58578644,9.2972477 3.25,8.96146126 3.25,8.5472477 L3.25,2.81066017 Z\" id=\"path-1\"></path>\n",
      "\t</defs>\n",
      "\t<g id=\"Symbols\" stroke=\"none\" stroke-width=\"1\" fill=\"none\" fill-rule=\"evenodd\">\n",
      "\t\t<g id=\"Icons-/-Arrows-/-Arrow-Up-Small-Tail\" transform=\"translate(-8.000000, -6.000000)\">\n",
      "\t\t\t<g id=\"Group\" transform=\"translate(8.000000, 6.000000)\">\n",
      "\t\t\t\t<g id=\"Blue\">\n",
      "\t\t\t\t\t<mask id=\"mask-2\" fill=\"white\">\n",
      "\t\t\t\t\t\t<use xlink:href=\"#path-1\"></use>\n",
      "\t\t\t\t\t</mask>\n",
      "\t\t\t\t\t<use id=\"Mask\" fill=\"#000000\" fill-rule=\"nonzero\" xlink:href=\"#path-1\"></use>\n",
      "\t\t\t\t\t<g id=\"Colors-/-Azure-Blue\" mask=\"url(#mask-2)\" fill=\"#1B6FFF\">\n",
      "\t\t\t\t\t\t<g transform=\"translate(-8.000000, -6.000000)\" id=\"Rectangle\">\n",
      "\t\t\t\t\t\t\t<rect x=\"0\" y=\"0\" width=\"24\" height=\"24\"></rect>\n",
      "\t\t\t\t\t\t</g>\n",
      "\t\t\t\t\t</g>\n",
      "\t\t\t\t</g>\n",
      "\t\t\t</g>\n",
      "\t\t</g>\n",
      "\t</g>\n",
      "</svg>\n",
      "</span>\n",
      "\t\t\t\t</a>\n",
      "\t\t\t\t\t\t<div class=\"terms\">\n",
      "\t\t\t\t\t\t\t\t\t<a class=\"terms-link tablet-only\" href=\"https://thepointsguy.com/apply/the-platinum-card-from-american-express/?tid=FAV-CARD-WIDGET-4-CARD\" data-beam-text=\"FAV-CARD-WIDGET-4-TEXT\" target=\"_blank\" data-tagular-event=\"ProductClicked\" data-tagular-uid=\"100\" data-tagular-index=\"32\">Terms Apply</a>\n",
      "\t\t\t\t\t\t\t</div>\n",
      "\n",
      "\t\t\t\n",
      "\t\t\t\n",
      "\t\t\t\n",
      "\t\t\t\t\t</div>\n",
      "</div>\n",
      "\t\t\t\t\t\t\t<a class=\"see-all-button\" href=\"https://thepointsguy.com/cards/\">See all cards</a>\n",
      "\t\t\t\t\t</div>\n",
      "\t\t</div>\n",
      "\t</div>\n",
      "</section>\n"
     ]
    }
   ],
   "source": [
    "# url 16\n",
    "i = urls[15]\n",
    "#open_url(i)\n",
    "element = driver.find_element_by_css_selector('.favorite-cards')\n",
    "source = element.get_attribute(\"outerHTML\")\n",
    "print(source)\n",
    "ad_type = \"better\"\n",
    "data.append({\"TYPE\" : ad_type, \"ad_code\" : source, \"URL\" : i})"
   ]
  },
  {
   "cell_type": "code",
   "execution_count": 216,
   "metadata": {
    "collapsed": true
   },
   "outputs": [
    {
     "name": "stdout",
     "output_type": "stream",
     "text": [
      "<section class=\"card-feature beam-card-feature\" data-beam-product-id=\"22125056\" data-beam-sku=\"204650\" data-beam-name=\"Chase Sapphire Preferred® Card (22125056)\" data-beam-brand=\"Chase\" data-beam-location=\"cards\" data-beam-position=\"0\" data-beam-text=\"Card Feature\" data-tagular-event=\"ProductViewed\" data-tagular-uid=\"125\" data-tagular-index=\"1\">\n",
      "  \n",
      "  <div class=\"title\"></div>\n",
      "  <div class=\"header\"></div>\n",
      "  <div class=\"sub-header\">Chase Sapphire Preferred® Card</div>\n",
      "  \n",
      "  <div class=\"summary-wrapper\">\n",
      "\t\t\t\t<div class=\"summary\">\n",
      "\t\t\t<p><strong>WELCOME OFFER:</strong> <a href=\"http://thepointsguy.com/apply/chase-sapphire-preferred-card/\" target=\"_blank\" rel=\"noopener\">60,000 Points</a></p>\n",
      "<p><strong>TPG'S BONUS VALUATION*: </strong>$1,200</p>\n",
      "<p><strong>CARD HIGHLIGHTS:&nbsp;</strong>2X points on all travel and dining, points transferrable to over a dozen travel partners</p>\n",
      "<p><em>*Bonus value is an estimated value calculated by TPG and not the card issuer</em>. View our latest valuations&nbsp;<a href=\"https://thepointsguy.com/guide/monthly-valuations/\" target=\"_blank\" rel=\"noopener\">here</a>.</p>\n",
      "\t\t</div>\n",
      "\t\t\t\n",
      "\t<div class=\"card\">\n",
      "\t  <div class=\"img-wrapper\">\n",
      "\t\t<a href=\"https://thepointsguy.com/apply/chase-sapphire-preferred-card/?tid=CARD-FEATURE\" data-type=\"Link\" target=\"_blank\">\n",
      "\t\t\t\t\t<div class=\"attachment-image size-card\">\n",
      "\t\t\t<figure>\n",
      "\t\t\t\t<img src=\"https://i0.wp.com/thepointsguy.com/wp-content/uploads/2020/02/5570d9a0-49b8-11e9-a27b-d7eb75c86209-1.png?resize=107%2C67px&amp;ssl=1\" class=\"attachment-card size-card lazyautosizes lazyloaded\" alt=\"\" draggable=\"false\" data-sizes=\"auto\" data-srcset=\"https://i0.wp.com/thepointsguy.com/wp-content/uploads/2020/02/5570d9a0-49b8-11e9-a27b-d7eb75c86209-1.png?resize=500%2C312px&amp;ssl=1 500w,https://i0.wp.com/thepointsguy.com/wp-content/uploads/2020/02/5570d9a0-49b8-11e9-a27b-d7eb75c86209-1.png?resize=409%2C255px&amp;ssl=1 409w,https://i0.wp.com/thepointsguy.com/wp-content/uploads/2020/02/5570d9a0-49b8-11e9-a27b-d7eb75c86209-1.png?resize=254%2C154px&amp;ssl=1 254w,https://i0.wp.com/thepointsguy.com/wp-content/uploads/2020/02/5570d9a0-49b8-11e9-a27b-d7eb75c86209-1.png?resize=150%2C94px&amp;ssl=1 150w,https://i0.wp.com/thepointsguy.com/wp-content/uploads/2020/02/5570d9a0-49b8-11e9-a27b-d7eb75c86209-1.png?resize=107%2C67px&amp;ssl=1 107w\" data-src=\"https://i0.wp.com/thepointsguy.com/wp-content/uploads/2020/02/5570d9a0-49b8-11e9-a27b-d7eb75c86209-1.png?resize=107%2C67px&amp;ssl=1\" sizes=\"170px\" srcset=\"https://i0.wp.com/thepointsguy.com/wp-content/uploads/2020/02/5570d9a0-49b8-11e9-a27b-d7eb75c86209-1.png?resize=500%2C312px&amp;ssl=1 500w,https://i0.wp.com/thepointsguy.com/wp-content/uploads/2020/02/5570d9a0-49b8-11e9-a27b-d7eb75c86209-1.png?resize=409%2C255px&amp;ssl=1 409w,https://i0.wp.com/thepointsguy.com/wp-content/uploads/2020/02/5570d9a0-49b8-11e9-a27b-d7eb75c86209-1.png?resize=254%2C154px&amp;ssl=1 254w,https://i0.wp.com/thepointsguy.com/wp-content/uploads/2020/02/5570d9a0-49b8-11e9-a27b-d7eb75c86209-1.png?resize=150%2C94px&amp;ssl=1 150w,https://i0.wp.com/thepointsguy.com/wp-content/uploads/2020/02/5570d9a0-49b8-11e9-a27b-d7eb75c86209-1.png?resize=107%2C67px&amp;ssl=1 107w\" width=\"500\" height=\"315\">\t\t\t</figure>\n",
      "\t\t</div>\n",
      "\t\t\t\t\t</a>\n",
      "\t  </div>\n",
      "\t</div>\n",
      "  </div>\n",
      "  \n",
      "  <a href=\"https://thepointsguy.com/apply/chase-sapphire-preferred-card/?tid=CARD-FEATURE\" class=\"apply\" data-type=\"Button\" target=\"_blank\" data-tagular-event=\"ProductClicked\" data-tagular-uid=\"126\" data-tagular-index=\"1\">\n",
      "\t\tApply Now  </a>\n",
      "\t\n",
      "\t\t\t\t<div class=\"more-things-to-know\">\n",
      "\t<div class=\"overlay\"></div>\n",
      "\n",
      "\t<div class=\"sub-header\">More Things to Know</div>\n",
      "\t<div class=\"card-content\">\n",
      "\t\t<ul><li>Earn 60,000 bonus points after you spend $4,000 on purchases in the first 3 months from account opening. That's $750 toward travel when you redeem through Chase Ultimate Rewards®</li><li>2X points on travel and dining at restaurants worldwide &amp; 1 point per dollar spent on all other purchases.</li><li>Get 25% more value when you redeem for airfare, hotels, car rentals and cruises through Chase Ultimate Rewards. For example, 60,000 points are worth $750 toward travel</li><li>Get unlimited deliveries with a $0 delivery fee and reduced service fees on orders over $12 for a minimum of one year on qualifying food purchases with DashPass, DoorDash's subscription service. Activate by 12/31/21.</li><li>Earn 5X points on Lyft rides through March 2022. That’s 3X points in addition to the 2X points you already earn on travel.</li></ul>\t</div>\n",
      "\n",
      "\t\t\t<div class=\"terms\">\n",
      "\t\t\t\t\t\t\t<div class=\"term\">\n",
      "\t\t\t\t\t<div class=\"sub-header\">Intro APR on Purchases</div>\n",
      "\t\t\t\t\t<div class=\"description\">N/A</div>\n",
      "\t\t\t\t</div>\n",
      "\t\t\t\t\t\t\t<div class=\"term\">\n",
      "\t\t\t\t\t<div class=\"sub-header\">Regular APR</div>\n",
      "\t\t\t\t\t<div class=\"description\">17.49% - 24.49% Variable</div>\n",
      "\t\t\t\t</div>\n",
      "\t\t\t\t\t\t\t<div class=\"term\">\n",
      "\t\t\t\t\t<div class=\"sub-header\">Annual Fee</div>\n",
      "\t\t\t\t\t<div class=\"description\">$95</div>\n",
      "\t\t\t\t</div>\n",
      "\t\t\t\t\t\t\t<div class=\"term\">\n",
      "\t\t\t\t\t<div class=\"sub-header\">Balance Transfer Fee</div>\n",
      "\t\t\t\t\t<div class=\"description\">Either $5 or 5% of the amount of each transfer, whichever is greater.</div>\n",
      "\t\t\t\t</div>\n",
      "\t\t\t\t\t\t\t<div class=\"term\">\n",
      "\t\t\t\t\t<div class=\"sub-header\">Recommended Credit</div>\n",
      "\t\t\t\t\t<div class=\"description\">Excellent/Good</div>\n",
      "\t\t\t\t</div>\n",
      "\t\t\t\t\t</div>\n",
      "\t</div>\n",
      "<div class=\"carat-trigger toggle-open toggle-close listener-applied-cardFeature\"></div>\n",
      "\t</section>\n"
     ]
    }
   ],
   "source": [
    "# url 17\n",
    "i = urls[16]\n",
    "#open_url(i)\n",
    "element = driver.find_element_by_css_selector('.card-feature')\n",
    "source = element.get_attribute(\"outerHTML\")\n",
    "print(source)\n",
    "ad_type = \"better\"\n",
    "data.append({\"TYPE\" : ad_type, \"ad_code\" : source, \"URL\" : i})"
   ]
  },
  {
   "cell_type": "code",
   "execution_count": 220,
   "metadata": {
    "collapsed": true
   },
   "outputs": [
    {
     "name": "stdout",
     "output_type": "stream",
     "text": [
      "<div id=\"div-gpt-ad-desktop_leaderboard_variable\" style=\"min-width: 728px; height: 90px;\" class=\"dynamic-js-slot dfp_ad--held-area dfp_ad--rendered dfp_ad--is-filled\" data-google-query-id=\"CJrD5rHkyucCFQ60lgodbVUK5Q\"><div id=\"google_ads_iframe_/172968584/verge_17__container__\" style=\"border: 0pt none;\"><iframe id=\"google_ads_iframe_/172968584/verge_17\" title=\"3rd party ad content\" name=\"google_ads_iframe_/172968584/verge_17\" scrolling=\"no\" marginwidth=\"0\" marginheight=\"0\" style=\"border: 0px none; vertical-align: bottom;\" srcdoc=\"\" data-google-container-id=\"g\" data-load-complete=\"true\" data-concert-status=\"frame_queued\" width=\"728\" height=\"90\" frameborder=\"0\"></iframe></div></div>\n"
     ]
    }
   ],
   "source": [
    "# url 18\n",
    "i = urls[17]\n",
    "#open_url(i)\n",
    "element = driver.find_element_by_css_selector('#div-gpt-ad-desktop_leaderboard_variable')\n",
    "source = element.get_attribute(\"outerHTML\")\n",
    "print(source)\n",
    "ad_type = \"better\"\n",
    "data.append({\"TYPE\" : ad_type, \"ad_code\" : source, \"URL\" : i})"
   ]
  },
  {
   "cell_type": "code",
   "execution_count": 225,
   "metadata": {
    "collapsed": true
   },
   "outputs": [
    {
     "name": "stdout",
     "output_type": "stream",
     "text": [
      "<div class=\"l-col__sidebar\" data-analytics-placement=\"sidebar\">\n",
      "        \n",
      "      <div data-concert-ads-name=\"medium_rectangle_variable\" class=\"m-ad m-ad__dynamic_ad_unit m-ad__medium_rectangle_variable\"><div id=\"div-gpt-ad-medium_rectangle_variable\" style=\"min-width: 300px; height: 600px;\" class=\"dynamic-js-slot dfp_ad--held-area dfp_ad--rendered dfp_ad--is-filled\" data-google-query-id=\"CL_e2tnkyucCFQwovQodpS4MZQ\"><div id=\"google_ads_iframe_/172968584/verge_13__container__\" style=\"border: 0pt none;\"><iframe id=\"google_ads_iframe_/172968584/verge_13\" title=\"3rd party ad content\" name=\"google_ads_iframe_/172968584/verge_13\" scrolling=\"no\" marginwidth=\"0\" marginheight=\"0\" style=\"border: 0px none; vertical-align: bottom;\" srcdoc=\"\" data-google-container-id=\"a\" data-concert-status=\"frame_ignored\" data-load-complete=\"true\" width=\"300\" height=\"600\" frameborder=\"0\"></iframe></div></div></div><div class=\"u-desktop-only\">\n",
      "        <aside class=\"c-rock-list c-rock-list--image c-rock-list--hub\" id=\"rock-good-deals\">\n",
      "  <h3 class=\"p-rock-head c-rock-list__title\">\n",
      "    \n",
      "    \n",
      "    <span class=\"c-rock-list__title-wrapper\">\n",
      "      <a href=\"/good-deals\">\n",
      "        <span class=\"c-rock-list__title-text\">\n",
      "          Good Deals\n",
      "        </span>\n",
      "      </a>\n",
      "    </span>\n",
      "  </h3>\n",
      "  <div class=\"c-rock-list__body\">\n",
      "    \n",
      "    <ol class=\"c-rock-list__items\">\n",
      "    \n",
      "      \n",
      "        <li class=\"c-rock-list__item\" data-analytics-placement=\"sidebar:1\">\n",
      "      \n",
      "        <a href=\"https://www.theverge.com/good-deals/2020/2/11/21127858/samsung-galaxy-s10-s10e-plus-price-buy-cheaper-phones-lineup\" class=\"c-rock-list__link\" data-analytics-link=\"hubpage-good-deals\" data-analytics-viewport=\"hubpage-good-deals\" data-chorus-optimize-id=\"20891899\" data-chorus-optimize-module=\"entry-list\" style=\"\">\n",
      "          \n",
      "            <div class=\"c-rock-list__image\">\n",
      "              \n",
      "                <picture class=\"c-picture\" data-chorus-optimize-field=\"main_image\" data-cid=\"site/picture_element-1581467943_2773_111165\" data-cdata=\"{&quot;image_id&quot;:66294510,&quot;ratio&quot;:&quot;standard&quot;,&quot;dynamic_type&quot;:&quot;picture&quot;,&quot;lazy&quot;:true}\">\n",
      "  \n",
      "    \n",
      "\n",
      "\n",
      "  <source srcset=\"https://cdn.vox-cdn.com/thumbor/kVR0Ui8xTLwIDH4lVwT62K_CIkw=/0x0:2040x1360/250x167/filters:focal(860x498:1186x824):format(webp)/cdn.vox-cdn.com/uploads/chorus_image/image/66294510/akrales_190228_3255_0409_02.0.jpg 250w, https://cdn.vox-cdn.com/thumbor/TM--DraX6qlYXXVZ4a4CMrJEneM=/0x0:2040x1360/500x333/filters:focal(860x498:1186x824):format(webp)/cdn.vox-cdn.com/uploads/chorus_image/image/66294510/akrales_190228_3255_0409_02.0.jpg 500w\" sizes=\"250px\" type=\"image/webp\">\n",
      "\n",
      "\n",
      "<img srcset=\"https://cdn.vox-cdn.com/thumbor/hH3xFx_3OfMIRudFLjJPJdd5GkE=/0x0:2040x1360/250x167/filters:focal(860x498:1186x824)/cdn.vox-cdn.com/uploads/chorus_image/image/66294510/akrales_190228_3255_0409_02.0.jpg 250w, https://cdn.vox-cdn.com/thumbor/jXynOHB8R6yY0JyNKXw9F-iPCZw=/0x0:2040x1360/500x333/filters:focal(860x498:1186x824)/cdn.vox-cdn.com/uploads/chorus_image/image/66294510/akrales_190228_3255_0409_02.0.jpg 500w\" sizes=\"250px\" alt=\"\" data-upload-width=\"2040\" src=\"https://cdn.vox-cdn.com/thumbor/tyl0HaH5V8IbB56eQDmHqyhGam4=/0x0:2040x1360/1200x800/filters:focal(860x498:1186x824)/cdn.vox-cdn.com/uploads/chorus_image/image/66294510/akrales_190228_3255_0409_02.0.jpg\">\n",
      "\n",
      "  \n",
      "  <script type=\"text/template-dynamic\" style=\"display: none\">\n",
      "    \n",
      "<img class=\"c-dynamic-image \" alt=\"\" data-chorus-optimize-field=\"main_image\" src=\"data:image/gif;base64,R0lGODlhAQABAIAAAAUEBAAAACwAAAAAAQABAAACAkQBADs\" data-cid=\"site/dynamic_size_image-1581467943_4187_111164\" data-cdata='{\"image_id\":66294510,\"ratio\":\"standard\"}'>\n",
      "<noscript><img alt=\"\" src=\"https://cdn.vox-cdn.com/uploads/chorus_image/image/66294510/akrales_190228_3255_0409_02.0.jpg\"></noscript>\n",
      "\n",
      "  </script>\n",
      "</picture>\n",
      "\n",
      "              \n",
      "            </div>\n",
      "          \n",
      "          <span class=\"c-rock-list__item--body\">\n",
      "            \n",
      "            <span data-chorus-optimize-field=\"hed\">Samsung’s Galaxy S10E, S10, and S10 Plus are $150 off</span>\n",
      "            \n",
      "              <span class=\"c-rock-list__entry-blurb\">Last year’s phones are still a smart investment</span>\n",
      "            \n",
      "          </span>\n",
      "        </a>\n",
      "        \n",
      "        \n",
      "      </li>\n",
      "    \n",
      "      \n",
      "        <li class=\"c-rock-list__item\" data-analytics-placement=\"sidebar:2\">\n",
      "      \n",
      "        <a href=\"https://www.theverge.com/good-deals/2020/2/10/21131405/microsoft-surface-go-type-cover-sale-deal-jabra-elite-65t-google-pixel-4\" class=\"c-rock-list__link\" data-analytics-link=\"hubpage-good-deals\" data-analytics-viewport=\"hubpage-good-deals\" data-chorus-optimize-id=\"20895446\" data-chorus-optimize-module=\"entry-list\" style=\"\">\n",
      "          \n",
      "            <div class=\"c-rock-list__image\">\n",
      "              \n",
      "                <picture class=\"c-picture\" data-chorus-optimize-field=\"main_image\" data-cid=\"site/picture_element-1581467943_8341_111167\" data-cdata=\"{&quot;image_id&quot;:66284779,&quot;ratio&quot;:&quot;standard&quot;,&quot;dynamic_type&quot;:&quot;picture&quot;,&quot;lazy&quot;:true}\">\n",
      "  \n",
      "    \n",
      "\n",
      "\n",
      "  <source srcset=\"https://cdn.vox-cdn.com/thumbor/1A9FcLz8sl10PmMtkdUuVM5LfOQ=/0x0:2040x1360/250x167/filters:focal(860x749:1186x1075):format(webp)/cdn.vox-cdn.com/uploads/chorus_image/image/66284779/vpavic_180803_2796_0023.0.jpg 250w, https://cdn.vox-cdn.com/thumbor/nPUjEMe1rYl_8soyfShcYLsoHYA=/0x0:2040x1360/500x333/filters:focal(860x749:1186x1075):format(webp)/cdn.vox-cdn.com/uploads/chorus_image/image/66284779/vpavic_180803_2796_0023.0.jpg 500w\" sizes=\"250px\" type=\"image/webp\">\n",
      "\n",
      "\n",
      "<img srcset=\"https://cdn.vox-cdn.com/thumbor/8fPDJxo0DrJMun7Ei3lVuypqON8=/0x0:2040x1360/250x167/filters:focal(860x749:1186x1075)/cdn.vox-cdn.com/uploads/chorus_image/image/66284779/vpavic_180803_2796_0023.0.jpg 250w, https://cdn.vox-cdn.com/thumbor/rpUqWrbtKNzopIgCBN7NQDEio40=/0x0:2040x1360/500x333/filters:focal(860x749:1186x1075)/cdn.vox-cdn.com/uploads/chorus_image/image/66284779/vpavic_180803_2796_0023.0.jpg 500w\" sizes=\"250px\" alt=\"\" data-upload-width=\"2040\" src=\"https://cdn.vox-cdn.com/thumbor/69nMYcUXm73CUlx2fHpmgF2Qt44=/0x0:2040x1360/1200x800/filters:focal(860x749:1186x1075)/cdn.vox-cdn.com/uploads/chorus_image/image/66284779/vpavic_180803_2796_0023.0.jpg\">\n",
      "\n",
      "  \n",
      "  <script type=\"text/template-dynamic\" style=\"display: none\">\n",
      "    \n",
      "<img class=\"c-dynamic-image \" alt=\"\" data-chorus-optimize-field=\"main_image\" src=\"data:image/gif;base64,R0lGODlhAQABAIAAAAUEBAAAACwAAAAAAQABAAACAkQBADs\" data-cid=\"site/dynamic_size_image-1581467943_119_111166\" data-cdata='{\"image_id\":66284779,\"ratio\":\"standard\"}'>\n",
      "<noscript><img alt=\"\" src=\"https://cdn.vox-cdn.com/uploads/chorus_image/image/66284779/vpavic_180803_2796_0023.0.jpg\"></noscript>\n",
      "\n",
      "  </script>\n",
      "</picture>\n",
      "\n",
      "              \n",
      "            </div>\n",
      "          \n",
      "          <span class=\"c-rock-list__item--body\">\n",
      "            \n",
      "            <span data-chorus-optimize-field=\"hed\">Microsoft’s Surface Go is more affordable than ever today</span>\n",
      "            \n",
      "              <span class=\"c-rock-list__entry-blurb\">Plus, there’s another chance to save on the Pixel 4 and Jabra Elite 65t</span>\n",
      "            \n",
      "          </span>\n",
      "        </a>\n",
      "        \n",
      "        \n",
      "      </li>\n",
      "    \n",
      "      \n",
      "        <li class=\"c-rock-list__item\" data-analytics-placement=\"sidebar:3\">\n",
      "      \n",
      "        <a href=\"https://www.theverge.com/good-deals/2020/2/8/21128650/16-inch-macbook-pro-apple-amazon-anker-truly-wireless-earphones-ps4-pro-deal-sale\" class=\"c-rock-list__link\" data-analytics-link=\"hubpage-good-deals\" data-analytics-viewport=\"hubpage-good-deals\" data-chorus-optimize-id=\"20892691\" data-chorus-optimize-module=\"entry-list\" style=\"\">\n",
      "          \n",
      "            <div class=\"c-rock-list__image\">\n",
      "              \n",
      "                <picture class=\"c-picture\" data-chorus-optimize-field=\"main_image\" data-cid=\"site/picture_element-1581467943_1001_111169\" data-cdata=\"{&quot;image_id&quot;:66277289,&quot;ratio&quot;:&quot;standard&quot;,&quot;dynamic_type&quot;:&quot;picture&quot;,&quot;lazy&quot;:true}\">\n",
      "  \n",
      "    \n",
      "\n",
      "\n",
      "  <source srcset=\"https://cdn.vox-cdn.com/thumbor/eJ27fX0T_PDFAiNnRReCnhLv1Ow=/0x0:2040x1360/250x167/filters:focal(825x690:1151x1016):format(webp)/cdn.vox-cdn.com/uploads/chorus_image/image/66277289/vpavic_191118_3800_0097.0.jpg 250w, https://cdn.vox-cdn.com/thumbor/0IkAIu6NgFFuh94t-UuKS_-GTgc=/0x0:2040x1360/500x333/filters:focal(825x690:1151x1016):format(webp)/cdn.vox-cdn.com/uploads/chorus_image/image/66277289/vpavic_191118_3800_0097.0.jpg 500w\" sizes=\"250px\" type=\"image/webp\">\n",
      "\n",
      "\n",
      "<img srcset=\"https://cdn.vox-cdn.com/thumbor/E_X9_4yevHJcFGN7Rld3x9laesA=/0x0:2040x1360/250x167/filters:focal(825x690:1151x1016)/cdn.vox-cdn.com/uploads/chorus_image/image/66277289/vpavic_191118_3800_0097.0.jpg 250w, https://cdn.vox-cdn.com/thumbor/fKHNxzsKdU5tkvePLxJewUoio7M=/0x0:2040x1360/500x333/filters:focal(825x690:1151x1016)/cdn.vox-cdn.com/uploads/chorus_image/image/66277289/vpavic_191118_3800_0097.0.jpg 500w\" sizes=\"250px\" alt=\"\" data-upload-width=\"2040\" src=\"https://cdn.vox-cdn.com/thumbor/oFNNt5GsiAaBbGldK4-b8Z4_8kE=/0x0:2040x1360/1200x800/filters:focal(825x690:1151x1016)/cdn.vox-cdn.com/uploads/chorus_image/image/66277289/vpavic_191118_3800_0097.0.jpg\">\n",
      "\n",
      "  \n",
      "  <script type=\"text/template-dynamic\" style=\"display: none\">\n",
      "    \n",
      "<img class=\"c-dynamic-image \" alt=\"\" data-chorus-optimize-field=\"main_image\" src=\"data:image/gif;base64,R0lGODlhAQABAIAAAAUEBAAAACwAAAAAAQABAAACAkQBADs\" data-cid=\"site/dynamic_size_image-1581467943_4406_111168\" data-cdata='{\"image_id\":66277289,\"ratio\":\"standard\"}'>\n",
      "<noscript><img alt=\"\" src=\"https://cdn.vox-cdn.com/uploads/chorus_image/image/66277289/vpavic_191118_3800_0097.0.jpg\"></noscript>\n",
      "\n",
      "  </script>\n",
      "</picture>\n",
      "\n",
      "              \n",
      "            </div>\n",
      "          \n",
      "          <span class=\"c-rock-list__item--body\">\n",
      "            \n",
      "            <span data-chorus-optimize-field=\"hed\">This weekend, save on the 16-inch MacBook Pro, truly wireless earphones, and the PS4 Pro</span>\n",
      "            \n",
      "              <span class=\"c-rock-list__entry-blurb\">The best deals we’ve seen all week</span>\n",
      "            \n",
      "          </span>\n",
      "        </a>\n",
      "        \n",
      "        \n",
      "      </li>\n",
      "    \n",
      "    </ol>\n",
      "    <div data-cid=\"site/entry_sponsorship/native_ad-eZq6tfzoUbHplnq7kuNwzA==\">\n",
      "  <div data-concert-ads-name=\"native_ad_latest\" class=\"m-ad m-ad__dynamic_ad_unit m-ad__native_ad_latest m-ad__collapsed\"><div id=\"div-gpt-ad-native_ad_latest\" class=\"dynamic-js-slot dfp_ad--rendered dfp_ad--is-empty\" style=\"display: none; width: 0px; height: 0px;\" data-google-query-id=\"CMGIsMnkyucCFQKdvQod-1AJWw\"><div id=\"google_ads_iframe_/172968584/verge_8__container__\" style=\"border: 0pt none; width: 300px; height: 100px;\"></div></div></div><div class=\"m-native_ad_unit dynamic-native-ad-native_ad_latest\"></div>\n",
      "</div>\n",
      "\n",
      "  </div>\n",
      "  \n",
      "    <div class=\"c-rock-list__cta\">\n",
      "      <a class=\"c-rock-list__more\" href=\"/good-deals\">More in Good Deals</a>\n",
      "    </div>\n",
      "  \n",
      "</aside>\n",
      "\n",
      "\n",
      "      </div>\n",
      "      <div class=\"u-desktop-only\">\n",
      "        <div class=\"c-newsletter_signup_box c-newsletter_signup_box--breaker\" id=\"newsletter-signup-short-form\" data-newsletter-slug=\"processor\">\n",
      "  <div class=\"c-newsletter_signup_box__main\">\n",
      "    \n",
      "      <span class=\"c-newsletter_signup_box__icon\">\n",
      "        <svg xmlns=\"http://www.w3.org/2000/svg\" viewBox=\"0 0 54.47 53.1\"><line fill=\"#ffffff\" stroke-miterlimit=\"10\" stroke-width=\"5px\" stroke=\"#000000\" x1=\"1.77\" y1=\"49.98\" x2=\"27.93\" y2=\"23.82\"></line><line fill=\"#ffffff\" stroke-miterlimit=\"10\" stroke-width=\"5px\" stroke=\"#000000\" x1=\"33.82\" y1=\"17.93\" x2=\"49.43\" y2=\"2.32\"></line><line fill=\"#ffffff\" stroke-miterlimit=\"10\" stroke-width=\"5px\" stroke=\"#ff7f00\" x1=\"10.32\" y1=\"41.43\" x2=\"21.32\" y2=\"30.43\"></line><line fill=\"#ffffff\" stroke-miterlimit=\"10\" stroke-width=\"5px\" stroke=\"#000000\" x1=\"2.42\" y1=\"21.87\" x2=\"22.31\" y2=\"1.76\"></line><line fill=\"#ffffff\" stroke-miterlimit=\"10\" stroke-width=\"5px\" stroke=\"#000000\" x1=\"27.97\" y1=\"51.33\" x2=\"41.2\" y2=\"38.1\"></line><line fill=\"#ffffff\" stroke-miterlimit=\"10\" stroke-width=\"5px\" stroke=\"#ff7f00\" x1=\"46.47\" y1=\"32.83\" x2=\"52.7\" y2=\"26.6\"></line></svg>\n",
      "      </span>\n",
      "    \n",
      "    <h2 class=\"c-newsletter_signup_box__title\">\n",
      "      <span class=\"sr-only\">\n",
      "        Sign up for the\n",
      "        \n",
      "          newsletter\n",
      "        \n",
      "      </span>\n",
      "      Processor\n",
      "    </h2>\n",
      "    \n",
      "      <p class=\"c-newsletter_signup_box__blurb\">A newsletter about computers</p>\n",
      "    \n",
      "    <form action=\"https://voxmedia.createsend.com/t/d/s/btyjik/\" method=\"post\" id=\"subForm\" class=\"c-newsletter_signup_box--form c-newsletter_signup_box--form__1\" data-analytics-class=\"newsletter\" data-analytics-placement=\"sidebar\" data-cid=\"site/newsletter_signup_form-1581467943_8571_111170\" data-cdata=\"{}\">\n",
      "  \n",
      "  <div class=\"c-newsletter_signup_box--form__body\">\n",
      "    \n",
      "      <div class=\"c-newsletter_signup_box--form__field\">\n",
      "        <label for=\"field_email\" class=\"c-newsletter_signup_box--form__email\">\n",
      "          \n",
      "            <span>Email <strong class=\"c-newsletter_signup_box--form__required-field\">(required)</strong></span>\n",
      "          \n",
      "          \n",
      "        </label>\n",
      "        <div class=\"c-newsletter_signup_box--form__input\">\n",
      "          <input id=\"field_email\" class=\"p-text-input\" name=\"email\" type=\"email\" required=\"\" placeholder=\"\">\n",
      "        </div>\n",
      "      </div>\n",
      "    \n",
      "  \n",
      "    \n",
      "      <div class=\"c-newsletter_signup_box--form__disclaimer\">\n",
      "        By signing up, you agree to our <a href=\"https://www.voxmedia.com/legal/privacy-notice\">Privacy Notice</a> and European users agree to the data transfer policy.\n",
      "        \n",
      "      </div>\n",
      "    \n",
      "    <button type=\"submit\" class=\"p-button\">Subscribe</button>\n",
      "  </div>\n",
      "</form>\n",
      "\n",
      "    \n",
      "  </div>\n",
      "</div>\n",
      "\n",
      "      </div><div style=\"position: sticky; top: 100px;\" data-concert-ads-name=\"btf_medium_rectangle_variable_article\" class=\"m-ad m-ad__dynamic_ad_unit m-ad__btf_medium_rectangle_variable m-ad__sticky\"><div id=\"div-gpt-ad-btf_medium_rectangle_variable_article\" style=\"min-width: 300px; height: 250px;\" class=\"dynamic-js-slot dfp_ad--held-area\"></div></div>\n",
      "\n",
      "\n",
      "    </div>\n"
     ]
    }
   ],
   "source": [
    "# url 19\n",
    "i = urls[18]\n",
    "#open_url(i)\n",
    "element = driver.find_element_by_css_selector('div.l-sidebar-fixed:nth-child(3) > div:nth-child(2)')\n",
    "source = element.get_attribute(\"outerHTML\")\n",
    "print(source)\n",
    "ad_type = \"better\"\n",
    "data.append({\"TYPE\" : ad_type, \"ad_code\" : source, \"URL\" : i})"
   ]
  },
  {
   "cell_type": "code",
   "execution_count": 231,
   "metadata": {
    "collapsed": true
   },
   "outputs": [
    {
     "name": "stdout",
     "output_type": "stream",
     "text": [
      "<div data-concert-ads-name=\"btf_leaderboard_variable\" class=\"m-ad m-ad__dynamic_ad_unit m-ad__btf_leaderboard_variable\"><div id=\"div-gpt-ad-btf_leaderboard_variable\" style=\"min-width: 728px; height: 90px;\" class=\"dynamic-js-slot dfp_ad--held-area dfp_ad--rendered dfp_ad--is-filled\" data-google-query-id=\"CNmZyLnlyucCFY1tYAodrpwNzg\"><div id=\"google_ads_iframe_/172968584/verge_16__container__\" style=\"border: 0pt none;\"><iframe id=\"google_ads_iframe_/172968584/verge_16\" title=\"3rd party ad content\" name=\"google_ads_iframe_/172968584/verge_16\" scrolling=\"no\" marginwidth=\"0\" marginheight=\"0\" style=\"border: 0px none; vertical-align: bottom;\" srcdoc=\"\" data-google-container-id=\"g\" data-concert-status=\"frame_ignored\" data-load-complete=\"true\" width=\"728\" height=\"90\" frameborder=\"0\"></iframe></div></div></div>\n"
     ]
    }
   ],
   "source": [
    "# url 20\n",
    "i = urls[19]\n",
    "#open_url(i)\n",
    "element = driver.find_element_by_css_selector('.m-ad__btf_leaderboard_variable')\n",
    "source = element.get_attribute(\"outerHTML\")\n",
    "print(source)\n",
    "ad_type = \"better\"\n",
    "data.append({\"TYPE\" : ad_type, \"ad_code\" : source, \"URL\" : i})"
   ]
  },
  {
   "cell_type": "code",
   "execution_count": 238,
   "metadata": {
    "collapsed": true
   },
   "outputs": [
    {
     "name": "stdout",
     "output_type": "stream",
     "text": [
      "<div class=\"bbccom_advert\" data-reactid=\".1o03q3z0ndu.0.0.0\" id=\"bbccom_leaderboard\" data-google-query-id=\"CI3B6N3lyucCFRcxKgodnQwMUQ\"><a href=\"https://www.bbc.com/privacy/cookies/international/\" class=\"bbccom_text\" tabindex=\"-1\">Advertisement</a><div id=\"google_ads_iframe_/4817/bbccom.live.site.news/weather_homepage_int_3__container__\" style=\"border: 0pt none;\"><iframe id=\"google_ads_iframe_/4817/bbccom.live.site.news/weather_homepage_int_3\" title=\"3rd party ad content\" name=\"google_ads_iframe_/4817/bbccom.live.site.news/weather_homepage_int_3\" scrolling=\"no\" marginwidth=\"0\" marginheight=\"0\" style=\"border: 0px none; vertical-align: bottom;\" srcdoc=\"\" data-google-container-id=\"3\" data-load-complete=\"true\" tabindex=\"-1\" data-integralas-id-665784cb-dd76-60de-8a6d-e73ca315331d=\"\" width=\"970\" height=\"250\" frameborder=\"0\"></iframe></div></div>\n"
     ]
    }
   ],
   "source": [
    "# url 21\n",
    "i = urls[20]\n",
    "#open_url(i)\n",
    "element = driver.find_element_by_css_selector('#bbccom_leaderboard')\n",
    "source = element.get_attribute(\"outerHTML\")\n",
    "print(source)\n",
    "ad_type = \"better\"\n",
    "data.append({\"TYPE\" : ad_type, \"ad_code\" : source, \"URL\" : i})"
   ]
  },
  {
   "cell_type": "code",
   "execution_count": 243,
   "metadata": {
    "collapsed": true
   },
   "outputs": [
    {
     "name": "stdout",
     "output_type": "stream",
     "text": [
      "<div id=\"bbccom_mpu_1_2_3_4_5\" class=\"wr-time-slot-container__advert wr-js-time-slot-advert bbccom_slot bbccom_standard_slot bbccom_visible\" aria-hidden=\"true\"><div class=\"bbccom_advert\" id=\"bbccom_mpu\" data-google-query-id=\"CKSqsoXmyucCFR0wKgodCjYBWg\"><a href=\"https://www.bbc.com/privacy/cookies/international/\" class=\"bbccom_text\" tabindex=\"-1\">Advertisement</a><div id=\"google_ads_iframe_/4817/bbccom.live.site.news/weather_homepage_int_1__container__\" style=\"border: 0pt none;\"><iframe id=\"google_ads_iframe_/4817/bbccom.live.site.news/weather_homepage_int_1\" title=\"3rd party ad content\" name=\"google_ads_iframe_/4817/bbccom.live.site.news/weather_homepage_int_1\" scrolling=\"no\" marginwidth=\"0\" marginheight=\"0\" style=\"border: 0px none; vertical-align: bottom;\" srcdoc=\"\" data-google-container-id=\"1\" data-load-complete=\"true\" data-integralas-id-57ccf8e8-2b28-a055-e317-6cadd37d353f=\"\" tabindex=\"-1\" width=\"300\" height=\"600\" frameborder=\"0\"></iframe></div></div></div>\n"
     ]
    }
   ],
   "source": [
    "# url 22\n",
    "i = urls[21]\n",
    "#open_url(i)\n",
    "element = driver.find_element_by_css_selector('#bbccom_mpu_1_2_3_4_5')\n",
    "source = element.get_attribute(\"outerHTML\")\n",
    "print(source)\n",
    "ad_type = \"better\"\n",
    "data.append({\"TYPE\" : ad_type, \"ad_code\" : source, \"URL\" : i})"
   ]
  },
  {
   "cell_type": "code",
   "execution_count": 246,
   "metadata": {
    "collapsed": true
   },
   "outputs": [
    {
     "name": "stdout",
     "output_type": "stream",
     "text": [
      "<div id=\"cookie-notice\" role=\"banner\" class=\"cn-top wp-default\" style=\"color: rgb(255, 255, 255); background-color: rgb(18, 88, 114); visibility: visible;\"><div class=\"cookie-notice-container\"><span id=\"cn-notice-text\">This site uses cookies for technical and analytical purposes. To learn more about the cookies we use, please read our <a href=\"https://www.sleepinginairports.net/privacy-policy.htm\">Privacy Policy</a>. </span><a href=\"#\" id=\"cn-accept-cookie\" data-cookie-set=\"accept\" class=\"cn-set-cookie cn-button wp-default button\">I accept</a></div></div>\n"
     ]
    }
   ],
   "source": [
    "# url 23\n",
    "i = urls[22]\n",
    "#open_url(i)\n",
    "element = driver.find_element_by_css_selector('#cookie-notice')\n",
    "source = element.get_attribute(\"outerHTML\")\n",
    "print(source)\n",
    "ad_type = \"better\"\n",
    "data.append({\"TYPE\" : ad_type, \"ad_code\" : source, \"URL\" : i})"
   ]
  },
  {
   "cell_type": "code",
   "execution_count": 249,
   "metadata": {
    "collapsed": true
   },
   "outputs": [
    {
     "name": "stdout",
     "output_type": "stream",
     "text": [
      "<div class=\"leaderboard-ad \"> \n",
      "\t<div id=\"gpt-leaderboard-ad\" class=\"ad-container\" style=\"min-height: 90px;\"><div class=\"bt\"><span class=\"bt-uid-tg\" data-uid=\"5ba15dc024-213\" style=\"display: none !important;\"></span></div><div id=\"gpt_lb_a\" class=\"gpt-adslot noskim\" style=\"\" data-google-query-id=\"CPyrh-rmyucCFdm8lgodIbgJvA\"><div id=\"google_ads_iframe_/36117602/hdm-goodhousekeeping/home/atf_0__container__\" style=\"border: 0pt none;\"><iframe id=\"google_ads_iframe_/36117602/hdm-goodhousekeeping/home/atf_0\" title=\"3rd party ad content\" name=\"google_ads_iframe_/36117602/hdm-goodhousekeeping/home/atf_0\" scrolling=\"no\" marginwidth=\"0\" marginheight=\"0\" style=\"border: 0px none; vertical-align: bottom;\" srcdoc=\"\" data-google-container-id=\"5\" data-load-complete=\"true\" width=\"728\" height=\"90\" frameborder=\"0\"></iframe></div></div></div>\n",
      "</div>\n"
     ]
    }
   ],
   "source": [
    "# url 24\n",
    "i = urls[23]\n",
    "#open_url(i)\n",
    "element = driver.find_element_by_css_selector('.site-content > div:nth-child(3)')\n",
    "source = element.get_attribute(\"outerHTML\")\n",
    "print(source)\n",
    "ad_type = \"better\"\n",
    "data.append({\"TYPE\" : ad_type, \"ad_code\" : source, \"URL\" : i})"
   ]
  },
  {
   "cell_type": "code",
   "execution_count": 254,
   "metadata": {
    "collapsed": true
   },
   "outputs": [
    {
     "name": "stdout",
     "output_type": "stream",
     "text": [
      "<div class=\"leaderboard-ad transporter-ad\"> \n",
      "\t<div id=\"gpt-ad-leaderboard-bottom\" class=\"ad-container\"><div id=\"gpt_lb_b\" class=\"gpt-adslot noskim\" style=\"\" data-google-query-id=\"CICs-6DnyucCFQOMvQodWJcFUw\"><div id=\"google_ads_iframe_/36117602/hdm-goodhousekeeping/home/btf_1__container__\" style=\"border: 0pt none;\"><iframe id=\"google_ads_iframe_/36117602/hdm-goodhousekeeping/home/btf_1\" title=\"3rd party ad content\" name=\"google_ads_iframe_/36117602/hdm-goodhousekeeping/home/btf_1\" scrolling=\"no\" marginwidth=\"0\" marginheight=\"0\" style=\"border: 0px none; vertical-align: bottom;\" srcdoc=\"\" data-google-container-id=\"3\" data-load-complete=\"true\" width=\"728\" height=\"91\" frameborder=\"0\"></iframe></div></div></div>\n",
      "</div>\n"
     ]
    }
   ],
   "source": [
    "# url 25\n",
    "i = urls[24]\n",
    "#open_url(i)\n",
    "element = driver.find_element_by_css_selector('.transporter-ad')\n",
    "source = element.get_attribute(\"outerHTML\")\n",
    "print(source)\n",
    "ad_type = \"better\"\n",
    "data.append({\"TYPE\" : ad_type, \"ad_code\" : source, \"URL\" : i})"
   ]
  },
  {
   "cell_type": "code",
   "execution_count": 271,
   "metadata": {
    "collapsed": true
   },
   "outputs": [
    {
     "name": "stdout",
     "output_type": "stream",
     "text": [
      "<div tabindex=\"-1\" id=\"banner1_homepage_8f79b6d7-00e3-44f7-a5b3-77938c782b6a\" class=\"widead non-empty-ad\" data-aop=\"takeoverad_ad\" data-id=\"46\" data-m=\"{&quot;i&quot;:46,&quot;p&quot;:45,&quot;n&quot;:&quot;takeoverAd&quot;,&quot;t&quot;:&quot;ad&quot;,&quot;o&quot;:1}\" aria-hidden=\"true\" style=\"visibility: visible;\">\n",
      " \n",
      " \n",
      "<div class=\"outeradcontainer\">\n",
      " \n",
      "<div id=\"banner1_homepage_container_8f79b6d7-00e3-44f7-a5b3-77938c782b6a\" class=\"adcontainer\" data-adjs=\"{&quot;allowedViews&quot;:&quot;SIZE234COLUMN&quot;}\" tabindex=\"-1\" data-ad=\"{&quot;w&quot;:1272,&quot;h&quot;:652,&quot;c&quot;:4,&quot;v&quot;:1,&quot;d&quot;:1,&quot;r&quot;:1,&quot;s&quot;:false}\" style=\"visibility: visible;\" data-anadid=\"25041269\"><iframe title=\"Ad\" marginwidth=\"0\" marginheight=\"0\" allowtransparency=\"true\" scrolling=\"no\" id=\"atwAdFrame0\" name=\"atwAdFrame0\" banid=\"10744069|25980492\" class=\"uac_728x90\" width=\"728\" height=\"90\" frameborder=\"0\"></iframe></div>\n",
      "     <a href=\"//go.microsoft.com/fwlink/?LinkID=286759\" class=\"adchoices\" target=\"_blank\" data-piitxt=\"adchoices\" style=\"display: block;\">\n",
      "        <span class=\"adchoiceicon\"></span>\n",
      "        <span>AdChoices</span>\n",
      "    </a>\n",
      "\n",
      "</div>\n",
      " \n",
      "</div>\n"
     ]
    }
   ],
   "source": [
    "# url 26\n",
    "i = urls[25]\n",
    "#open_url(i)\n",
    "element = driver.find_element_by_css_selector('#banner1_homepage_8f79b6d7-00e3-44f7-a5b3-77938c782b6a')\n",
    "source = element.get_attribute(\"outerHTML\")\n",
    "print(source)\n",
    "ad_type = \"better\"\n",
    "data.append({\"TYPE\" : ad_type, \"ad_code\" : source, \"URL\" : i})"
   ]
  },
  {
   "cell_type": "code",
   "execution_count": 275,
   "metadata": {
    "collapsed": true
   },
   "outputs": [
    {
     "name": "stdout",
     "output_type": "stream",
     "text": [
      "<div data-aop=\"asidead\" class=\"asidead\">\n",
      "\n",
      " <div tabindex=\"-1\" id=\"rectangle1_homepage_99180f93-43ae-4946-ba31-115e110aa4c6\" class=\"ad non-empty-ad\" data-aop=\"ad_ad\" data-id=\"49\" data-m=\"{&quot;i&quot;:49,&quot;p&quot;:47,&quot;n&quot;:&quot;Ad&quot;,&quot;t&quot;:&quot;ad&quot;,&quot;o&quot;:2}\" aria-hidden=\"true\" style=\"visibility: visible;\">\n",
      " \n",
      " \n",
      "<div class=\"outeradcontainer\">\n",
      " \n",
      "<div id=\"rectangle1_homepage_container_99180f93-43ae-4946-ba31-115e110aa4c6\" class=\"adcontainer\" data-adjs=\"{&quot;allowedViews&quot;:&quot;SIZE234COLUMN&quot;}\" tabindex=\"-1\" data-ad=\"{&quot;w&quot;:1272,&quot;h&quot;:402,&quot;c&quot;:4,&quot;v&quot;:1,&quot;d&quot;:1,&quot;r&quot;:1,&quot;s&quot;:false}\" style=\"visibility: visible;\" data-anadid=\"168223074\"><iframe title=\"Ad\" marginwidth=\"0\" marginheight=\"0\" allowtransparency=\"true\" scrolling=\"no\" id=\"atwAdFrame2\" name=\"atwAdFrame2\" banid=\"10744135|25915933\" class=\"uac_300x250\" width=\"300\" height=\"250\" frameborder=\"0\"></iframe></div>\n",
      "     <a href=\"//go.microsoft.com/fwlink/?LinkID=286759\" class=\"adchoicesjs\" target=\"_blank\" data-piitxt=\"adchoices\" style=\"display: block;\">\n",
      "        <span class=\"adchoiceicon\"></span>\n",
      "        <span>AdChoices</span>\n",
      "    </a>\n",
      "\n",
      "</div>\n",
      " \n",
      "</div>\n",
      "\n",
      "\n",
      "<div class=\"newlist\" data-module-id=\"homepage-today|aside|section|headlines|WeatherNewsHeadlinesModule\" data-aop=\"headlines\" data-id=\"50\" data-m=\"{&quot;i&quot;:50,&quot;p&quot;:47,&quot;n&quot;:&quot;headlines&quot;,&quot;t&quot;:&quot;WeatherNewsHeadlinesModule&quot;,&quot;o&quot;:3}\">\n",
      " \n",
      " \n",
      "<div class=\"weather1columnheader\">\n",
      "  <ul class=\"col\">\n",
      "  <li class=\"weathernewsheader\">\n",
      " \n",
      "         <a href=\"/en-us/weather/news\" class=\"contentlink\">\n",
      "\n",
      "                        <h2>Weather in Photos</h2>\n",
      "        </a>\n",
      "\n",
      " \n",
      "</li>\n",
      " <li class=\"hl1u1 media photo\" data-id=\"52\" data-m=\"{&quot;i&quot;:52,&quot;p&quot;:50,&quot;n&quot;:&quot;HeadlineItemViewModel&quot;,&quot;y&quot;:13,&quot;l&quot;:&quot;BBZyLkx&quot;,&quot;h&quot;:0,&quot;v&quot;:&quot;weather&quot;,&quot;c&quot;:&quot;weathertopstories&quot;,&quot;o&quot;:2}\">\n",
      " \n",
      "         <a href=\"/en-us/weather/topstories/the-week-in-weather-february-7/ss-BBZyLkx\" class=\"contentlink\" aria-label=\"the week in weather: february 7-slideshow provided by microsoft news\">\n",
      "\n",
      "<img alt=\"Children play after a snowfall at El Chamizal park in Ciudad Juarez, Mexico, on February 5, 2020.\" data-src=\"{&quot;default&quot;:&quot;//img-s-msn-com.akamaized.net/tenant/amp/entityid/BBZIyb3.img?h=128&amp;w=170&amp;m=6&amp;q=60&amp;u=t&amp;o=t&amp;l=f&amp;f=jpg&amp;x=1495&amp;y=1055&quot;,&quot;dpi&quot;:2}\" role=\"presentation\" src=\"https://img-s-msn-com.akamaized.net/tenant/amp/entityid/BBZIyb3.img?h=128&amp;w=170&amp;m=6&amp;q=60&amp;u=t&amp;o=t&amp;l=f&amp;f=jpg&amp;x=1495&amp;y=1055\" title=\"Week In Weather - Herika Martinez/AFP/Getty Images\" class=\"loaded\">                        <h3>The week in weather: February 7</h3>\n",
      "    <span class=\"sourcename nosourcelogo\">\n",
      "\n",
      "\n",
      "                <span class=\"sourcetitle\" title=\"Microsoft News\">Microsoft News</span>\n",
      "\n",
      "\n",
      "    </span>\n",
      "        </a>\n",
      "\n",
      " \n",
      "</li>\n",
      " <li class=\"hl1u1 media photo\" data-id=\"53\" data-m=\"{&quot;i&quot;:53,&quot;p&quot;:50,&quot;n&quot;:&quot;HeadlineItemViewModel&quot;,&quot;y&quot;:13,&quot;l&quot;:&quot;AAK6NOJ&quot;,&quot;h&quot;:0,&quot;v&quot;:&quot;weather&quot;,&quot;c&quot;:&quot;weathertopstories&quot;,&quot;o&quot;:3}\">\n",
      " \n",
      "         <a href=\"/en-us/weather/topstories/every-major-us-citys-worst-weather-event/ss-AAK6NOJ\" class=\"contentlink\" aria-label=\"every major us city’s worst weather event-slideshow provided by 24/7 wall st.\">\n",
      "\n",
      "<img alt=\"Extreme weather events are becoming more frequent in the United States, and they appear to be intensifying because of climate change. Because of the sheer size of America, different cities in the United States can be hit by virtually any intense weather occurrence, including drought, floods, deep freezes, blizzards, tropical cyclones, wildfires, and tornadoes.\n",
      "To identify the worst weather event in each major U.S. city, 24/7 Tempo looked at extreme weather events ever recorded in the 50 most populous cities in the country. Data on these weather events were taken from sources that included news reports and federal agencies such as the National Oceanic and Atmospheric Association (NOAA).\n",
      "In the last decade, there have been 111 climate-related natural disasters that have caused at least $1 billion in damages nationwide. In the previous decade, there were only 59 such events. The frequency and intensity of these events have profound implications for the economic, demographic, and cultural future of American cities These are the worst natural disasters in the US in the last 10 years.\n",
      "Different parts of the nation face different kinds of extreme weather. Cities in the Plains and Great Lake states have fallen victim to blizzards and tornadoes. The West Coast is at risk of wildfires. The Southwest has been devastated by prolonged drought. The South is frequently hit with tornadoes and hurricanes. Blizzards and hurricanes have also ravaged the East Coast. Midwestern areas near rivers are often inundated with massive floods. Here are the worst floods in American history.\" data-src=\"{&quot;default&quot;:&quot;//img-s-msn-com.akamaized.net/tenant/amp/entityid/AAK6LOY.img?h=128&amp;w=170&amp;m=6&amp;q=60&amp;u=t&amp;o=t&amp;l=f&amp;f=jpg&quot;,&quot;dpi&quot;:2}\" role=\"presentation\" src=\"https://img-s-msn-com.akamaized.net/tenant/amp/entityid/AAK6LOY.img?h=128&amp;w=170&amp;m=6&amp;q=60&amp;u=t&amp;o=t&amp;l=f&amp;f=jpg\" title=\"Every Major U.S. City’s Worst Weather Event - Photo by Michael Rieger / FEMA News Photo\" class=\"loaded\">                        <h3>Every Major US City’s Worst Weather Event</h3>\n",
      "    <span class=\"sourcename\">\n",
      "<img alt=\"24/7 Wall St. Logo\" data-src=\"{&quot;default&quot;:&quot;//img-s-msn-com.akamaized.net/tenant/amp/entityid/AA3dLwz.img?h=32&amp;w=32&amp;m=6&amp;q=60&amp;u=t&amp;o=t&amp;l=f&amp;f=png&quot;,&quot;dpi&quot;:2}\" role=\"presentation\" src=\"https://img-s-msn-com.akamaized.net/tenant/amp/entityid/AA3dLwz.img?h=32&amp;w=32&amp;m=6&amp;q=60&amp;u=t&amp;o=t&amp;l=f&amp;f=png\" class=\"loaded\">\n",
      "\n",
      "                <span class=\"sourcetitle\" title=\"24/7 Wall St.\">24/7 Wall St.</span>\n",
      "\n",
      "\n",
      "    </span>\n",
      "        </a>\n",
      "\n",
      " \n",
      "</li>\n",
      " <li class=\"hl1u1 media photo\" data-id=\"54\" data-m=\"{&quot;i&quot;:54,&quot;p&quot;:50,&quot;n&quot;:&quot;HeadlineItemViewModel&quot;,&quot;y&quot;:13,&quot;l&quot;:&quot;BBY2P2e&quot;,&quot;h&quot;:0,&quot;v&quot;:&quot;weather&quot;,&quot;c&quot;:&quot;weathertopstories&quot;,&quot;o&quot;:4}\">\n",
      " \n",
      "         <a href=\"/en-us/weather/topstories/10-of-the-biggest-blizzards-to-ever-hit-the-us/ss-BBY2P2e\" class=\"contentlink\" aria-label=\"10 of the biggest blizzards to ever hit the us-slideshow provided by insider\">\n",
      "\n",
      "<img alt=\"\n",
      "  The Great Blizzard of 1888 remains one of the most\n",
      "  devastating storms in US history with a death toll of over 400.\n",
      "  \n",
      "  The Blizzard of 1996 resulted in 150 deaths and around $3\n",
      "  million in damages across the Northeast.\n",
      "  \n",
      "  During the bomb cyclone in March 2019, 25 states were\n",
      "  affected.\n",
      "  \n",
      "  \n",
      "    Visit\n",
      "    Insider's homepage for more stories.\n",
      "  \n",
      "\n",
      "  The Knickerbocker Storm, the Storm of the Century, Snowmageddon -\n",
      "  it's the blizzards that\n",
      "  earn titles that do the most damage.\n",
      "\n",
      "  Here are 10 blizzards that have brought parts of the US to a\n",
      "  standstill.\n",
      "\" data-src=\"{&quot;default&quot;:&quot;//img-s-msn-com.akamaized.net/tenant/amp/entityid/BBY2P0z.img?h=128&amp;w=170&amp;m=6&amp;q=60&amp;u=t&amp;o=t&amp;l=f&amp;f=jpg&quot;,&quot;dpi&quot;:2}\" role=\"presentation\" src=\"https://img-s-msn-com.akamaized.net/tenant/amp/entityid/BBY2P0z.img?h=128&amp;w=170&amp;m=6&amp;q=60&amp;u=t&amp;o=t&amp;l=f&amp;f=jpg\" title=\"The Great Blizzard of 1888 remains one of the most devastating storms in US history with a death tol... - Curtis Compton/AP\" class=\"loaded\">                        <h3>10 of the biggest blizzards to ever hit the US</h3>\n",
      "    <span class=\"sourcename\">\n",
      "<img alt=\"INSIDER Logo\" data-src=\"{&quot;default&quot;:&quot;//img-s-msn-com.akamaized.net/tenant/amp/entityid/BBnGKDa.img?h=32&amp;w=32&amp;m=6&amp;q=60&amp;u=t&amp;o=t&amp;l=f&amp;f=png&quot;,&quot;dpi&quot;:2}\" role=\"presentation\" src=\"https://img-s-msn-com.akamaized.net/tenant/amp/entityid/BBnGKDa.img?h=32&amp;w=32&amp;m=6&amp;q=60&amp;u=t&amp;o=t&amp;l=f&amp;f=png\" class=\"loaded\">\n",
      "\n",
      "                <span class=\"sourcetitle\" title=\"INSIDER\">INSIDER</span>\n",
      "\n",
      "\n",
      "    </span>\n",
      "        </a>\n",
      "\n",
      " \n",
      "</li>\n",
      "\n",
      "</ul>\n",
      "\n",
      "</div>\n",
      " \n",
      "</div>\n",
      "\n",
      "\n",
      "\n",
      " </div>\n"
     ]
    }
   ],
   "source": [
    "# url 27\n",
    "i = urls[26]\n",
    "#open_url(i)\n",
    "element = driver.find_element_by_css_selector('.asidead')\n",
    "source = element.get_attribute(\"outerHTML\")\n",
    "print(source)\n",
    "ad_type = \"better\"\n",
    "data.append({\"TYPE\" : ad_type, \"ad_code\" : source, \"URL\" : i})"
   ]
  },
  {
   "cell_type": "code",
   "execution_count": 287,
   "metadata": {
    "collapsed": true
   },
   "outputs": [
    {
     "name": "stdout",
     "output_type": "stream",
     "text": [
      "<div class=\"wh_ad_inner rr_container\" data-service=\"adsense\" data-slot=\"5490902193\" data-instantload=\"0\" data-width=\"300\" data-height=\"600\" style=\"height:2000px\" data-innerclass=\"ad_label ad_label_dollar\" data-type=\"rightrail\" data-large=\"1\" data-channels=\"5941219836\" data-mobilechannels=\"5941219836,7928712280,9252820051,6429618073,8375811488\" data-observerloading=\"1\"><div id=\"rightrail0_ad_1\" class=\"ad_label ad_label_dollar\" style=\"position: absolute; top: auto; bottom: 0px;\"><ins data-ad-client=\"ca-pub-9543332082073187\" class=\"adsbygoogle\" data-ad-slot=\"5490902193\" style=\"display: inline-block; width: 300px; height: 600px;\" data-adsbygoogle-status=\"done\"><ins id=\"aswift_1_expand\" style=\"display:inline-table;border:none;height:600px;margin:0;padding:0;position:relative;visibility:visible;width:300px;background-color:transparent;\"><ins id=\"aswift_1_anchor\" style=\"display:block;border:none;height:600px;margin:0;padding:0;position:relative;visibility:visible;width:300px;background-color:transparent;\"><iframe marginwidth=\"0\" marginheight=\"0\" vspace=\"0\" hspace=\"0\" allowtransparency=\"true\" scrolling=\"no\" allowfullscreen=\"true\" onload=\"var i=this.id,s=window.google_iframe_oncopy,H=s&amp;&amp;s.handlers,h=H&amp;&amp;H[i],w=this.contentWindow,d;try{d=w.document}catch(e){}if(h&amp;&amp;d&amp;&amp;(!d.body||!d.body.firstChild)){if(h.call){setTimeout(h,0)}else if(h.match){try{h=s.upd(h,i)}catch(e){}w.location.replace(h)}}\" id=\"aswift_1\" name=\"aswift_1\" style=\"left:0;position:absolute;top:0;border:0px;width:300px;height:600px;\" width=\"300\" height=\"600\" frameborder=\"0\"></iframe></ins></ins></ins></div></div>\n"
     ]
    }
   ],
   "source": [
    "# url 28\n",
    "i = urls[27]\n",
    "#open_url(i)\n",
    "element = driver.find_element_by_css_selector('div.rr_container:nth-child(6)')\n",
    "source = element.get_attribute(\"outerHTML\")\n",
    "print(source)\n",
    "ad_type = \"better\"\n",
    "data.append({\"TYPE\" : ad_type, \"ad_code\" : source, \"URL\" : i})"
   ]
  },
  {
   "cell_type": "code",
   "execution_count": 305,
   "metadata": {
    "collapsed": true
   },
   "outputs": [
    {
     "name": "stdout",
     "output_type": "stream",
     "text": [
      "<div class=\"dfp-ad dfp-ad-banner\">\n",
      "\t\t\t\t\t\t\t<span class=\"ad-title\">Advertisement</span>\n",
      "\t\t\t\t\t\t<div id=\"div-gpt-ad-banner\" data-google-query-id=\"CIvXl9fryucCFUtSvQodb18EJg\">\n",
      "\t\t\t\t\n",
      "\t\t\t<div id=\"google_ads_iframe_/217482569/banner_0__container__\" style=\"border: 0pt none;\"><iframe id=\"google_ads_iframe_/217482569/banner_0\" title=\"3rd party ad content\" name=\"google_ads_iframe_/217482569/banner_0\" scrolling=\"no\" marginwidth=\"0\" marginheight=\"0\" style=\"border: 0px none; vertical-align: bottom;\" srcdoc=\"\" data-google-container-id=\"1\" data-load-complete=\"true\" width=\"1293\" height=\"333\" frameborder=\"0\"></iframe></div></div>\n",
      "\t\t</div>\n"
     ]
    }
   ],
   "source": [
    "# url 29\n",
    "i = urls[28]\n",
    "#open_url(i)\n",
    "element = driver.find_element_by_css_selector('div.dfp-ad:nth-child(12)')\n",
    "source = element.get_attribute(\"outerHTML\")\n",
    "print(source)\n",
    "ad_type = \"better\"\n",
    "data.append({\"TYPE\" : ad_type, \"ad_code\" : source, \"URL\" : i})"
   ]
  },
  {
   "cell_type": "code",
   "execution_count": 310,
   "metadata": {
    "collapsed": true
   },
   "outputs": [
    {
     "name": "stdout",
     "output_type": "stream",
     "text": [
      "<div class=\"top-header contain-to-grid show-for-medium-up\">\n",
      "    <ul class=\"top-header-area clearfix\">\n",
      "        <li class=\"name\">\n",
      "        <h1><a href=\"https://www.adexchanger.com\"><img src=\"https://www.adexchanger.com/wp-content/themes/adexchanger_2014/assets/img/images/logo.png\" scale=\"0\"></a></h1>\n",
      "        </li>\n",
      "        <li class=\"top-ad\">\n",
      "            <div class=\"contain\">\n",
      "    \t            \t\t        <div class=\"banner\">\t\t\t<div class=\"textwidget\"><!-- /1696333/Web728x90 -->\n",
      "<div id=\"div-gpt-ad-1432846671744-2\" style=\"height:90px; width:728px;\" data-google-query-id=\"CLT6n-jryucCFc4xYAodF9UKcg\">\n",
      "<div id=\"google_ads_iframe_/1696333/Web728x90_0__container__\" style=\"border: 0pt none;\"><iframe id=\"google_ads_iframe_/1696333/Web728x90_0\" title=\"3rd party ad content\" name=\"google_ads_iframe_/1696333/Web728x90_0\" scrolling=\"no\" marginwidth=\"0\" marginheight=\"0\" style=\"border: 0px none; vertical-align: bottom;\" srcdoc=\"\" sandbox=\"allow-forms allow-pointer-lock allow-popups allow-popups-to-escape-sandbox allow-same-origin allow-scripts allow-top-navigation-by-user-activation\" data-google-container-id=\"1\" data-load-complete=\"true\" width=\"728\" height=\"90\" frameborder=\"0\"></iframe></div>\n",
      "</div></div>\n",
      "\t\t</div>    \t                    </div>\n",
      "        </li>\n",
      "    </ul>\n",
      "</div>\n"
     ]
    }
   ],
   "source": [
    "# url 30\n",
    "i = urls[29]\n",
    "#open_url(i)\n",
    "element = driver.find_element_by_css_selector('.top-header')\n",
    "source = element.get_attribute(\"outerHTML\")\n",
    "print(source)\n",
    "ad_type = \"better\"\n",
    "data.append({\"TYPE\" : ad_type, \"ad_code\" : source, \"URL\" : i})"
   ]
  },
  {
   "cell_type": "code",
   "execution_count": 313,
   "metadata": {
    "collapsed": true
   },
   "outputs": [
    {
     "name": "stdout",
     "output_type": "stream",
     "text": [
      "<article id=\"html_javascript_adder-5\" class=\"row widget widget_html_javascript_adder\"><div class=\"small-12 columns\">\n",
      "<div class=\"hjawidget textwidget\">\n",
      "<div id=\"div-gpt-ad-1575384569961-0\" style=\"width: 300px; height: 250px;\" data-google-query-id=\"COGNuZnsyucCFQqGlgodOTcFKw\">\n",
      "  <div id=\"google_ads_iframe_/1696333/House_300x250_0__container__\" style=\"border: 0pt none;\"><iframe id=\"google_ads_iframe_/1696333/House_300x250_0\" title=\"3rd party ad content\" name=\"google_ads_iframe_/1696333/House_300x250_0\" scrolling=\"no\" marginwidth=\"0\" marginheight=\"0\" style=\"border: 0px none; vertical-align: bottom;\" srcdoc=\"\" data-google-container-id=\"3\" data-load-complete=\"true\" width=\"300\" height=\"250\" frameborder=\"0\"></iframe></div>\n",
      "</div>\n",
      "\n",
      "</div>\n",
      "</div></article>\n"
     ]
    }
   ],
   "source": [
    "# url 31\n",
    "i = urls[30]\n",
    "#open_url(i)\n",
    "element = driver.find_element_by_css_selector('#html_javascript_adder-5')\n",
    "source = element.get_attribute(\"outerHTML\")\n",
    "print(source)\n",
    "ad_type = \"better\"\n",
    "data.append({\"TYPE\" : ad_type, \"ad_code\" : source, \"URL\" : i})"
   ]
  },
  {
   "cell_type": "code",
   "execution_count": 316,
   "metadata": {
    "collapsed": true
   },
   "outputs": [
    {
     "name": "stdout",
     "output_type": "stream",
     "text": [
      "<div class=\"ad show-for-medium-up\">\n",
      "\t\t\t\t<div class=\"banner\">\t\t\t<div class=\"textwidget\"><!-- /1696333/Web728x90_bot -->\n",
      "<div id=\"div-gpt-ad-1432846671744-3\" style=\"height:90px; width:728px;\" data-google-query-id=\"CKv0rMTsyucCFQp8iwodQnoOkQ\">\n",
      "<div id=\"google_ads_iframe_/1696333/Web728x90_bot_0__container__\" style=\"border: 0pt none;\"><iframe id=\"google_ads_iframe_/1696333/Web728x90_bot_0\" title=\"3rd party ad content\" name=\"google_ads_iframe_/1696333/Web728x90_bot_0\" scrolling=\"no\" marginwidth=\"0\" marginheight=\"0\" style=\"border: 0px none; vertical-align: bottom;\" srcdoc=\"\" data-google-container-id=\"6\" data-load-complete=\"true\" width=\"728\" height=\"90\" frameborder=\"0\"></iframe></div>\n",
      "</div>\n",
      "</div>\n",
      "\t\t</div>\t\t\t</div>\n"
     ]
    }
   ],
   "source": [
    "# url 32\n",
    "i = urls[31]\n",
    "#open_url(i)\n",
    "element = driver.find_element_by_css_selector('.ad')\n",
    "source = element.get_attribute(\"outerHTML\")\n",
    "print(source)\n",
    "ad_type = \"better\"\n",
    "data.append({\"TYPE\" : ad_type, \"ad_code\" : source, \"URL\" : i})"
   ]
  },
  {
   "cell_type": "code",
   "execution_count": 322,
   "metadata": {
    "collapsed": true
   },
   "outputs": [
    {
     "name": "stdout",
     "output_type": "stream",
     "text": [
      "<div style=\"margin:7px 0px 10px\"><script type=\"text/javascript\"><!--\n",
      "google_ad_client = \"ca-pub-1785239035579373\";\n",
      "google_ad_slot = \"2635772585\";\n",
      "google_ad_width = 728;\n",
      "google_ad_height = 90;\n",
      "//-->\n",
      "</script>\n",
      "<script type=\"text/javascript\" src=\"//pagead2.googlesyndication.com/pagead/show_ads.js\">\n",
      "</script><ins id=\"aswift_2_expand\" style=\"display:inline-table;border:none;height:90px;margin:0;padding:0;position:relative;visibility:visible;width:728px;background-color:transparent;\" data-ad-slot=\"2635772585\" data-overlap-observer-io=\"false\"><ins id=\"aswift_2_anchor\" style=\"display:block;border:none;height:90px;margin:0;padding:0;position:relative;visibility:visible;width:728px;background-color:transparent;\"><iframe marginwidth=\"0\" marginheight=\"0\" vspace=\"0\" hspace=\"0\" allowtransparency=\"true\" scrolling=\"no\" allowfullscreen=\"true\" onload=\"var i=this.id,s=window.google_iframe_oncopy,H=s&amp;&amp;s.handlers,h=H&amp;&amp;H[i],w=this.contentWindow,d;try{d=w.document}catch(e){}if(h&amp;&amp;d&amp;&amp;(!d.body||!d.body.firstChild)){if(h.call){setTimeout(h,0)}else if(h.match){try{h=s.upd(h,i)}catch(e){}w.location.replace(h)}}\" id=\"aswift_2\" name=\"aswift_2\" style=\"left:0;position:absolute;top:0;border:0px;width:728px;height:90px;\" width=\"728\" height=\"90\" frameborder=\"0\"></iframe></ins></ins>\n",
      "</div>\n"
     ]
    }
   ],
   "source": [
    "# url 33\n",
    "i = urls[32]\n",
    "#open_url(i)\n",
    "element = driver.find_element_by_css_selector('div.dfsmall:nth-child(44) > div:nth-child(2)')\n",
    "source = element.get_attribute(\"outerHTML\")\n",
    "print(source)\n",
    "ad_type = \"better\"\n",
    "data.append({\"TYPE\" : ad_type, \"ad_code\" : source, \"URL\" : i})"
   ]
  },
  {
   "cell_type": "code",
   "execution_count": 327,
   "metadata": {
    "collapsed": true
   },
   "outputs": [
    {
     "name": "stdout",
     "output_type": "stream",
     "text": [
      "<div id=\"sky\" style=\"position:absolute;left:14px;top:183px;z-index:2;width:120px;height:630px;overflow:hidden;\"><script type=\"text/javascript\"><!--\n",
      "google_ad_client = \"ca-pub-1785239035579373\";\n",
      "/* Skyscraper */\n",
      "google_ad_slot = \"3181894885\";\n",
      "google_ad_width = 120;\n",
      "google_ad_height = 600;\n",
      "//-->\n",
      "</script>\n",
      "<script type=\"text/javascript\" src=\"//pagead2.googlesyndication.com/pagead/show_ads.js\">\n",
      "</script><ins id=\"aswift_0_expand\" style=\"display:inline-table;border:none;height:600px;margin:0;padding:0;position:relative;visibility:visible;width:120px;background-color:transparent;\" data-ad-slot=\"3181894885\"><ins id=\"aswift_0_anchor\" style=\"display:block;border:none;height:600px;margin:0;padding:0;position:relative;visibility:visible;width:120px;background-color:transparent;\"><iframe marginwidth=\"0\" marginheight=\"0\" vspace=\"0\" hspace=\"0\" allowtransparency=\"true\" scrolling=\"no\" allowfullscreen=\"true\" onload=\"var i=this.id,s=window.google_iframe_oncopy,H=s&amp;&amp;s.handlers,h=H&amp;&amp;H[i],w=this.contentWindow,d;try{d=w.document}catch(e){}if(h&amp;&amp;d&amp;&amp;(!d.body||!d.body.firstChild)){if(h.call){setTimeout(h,0)}else if(h.match){try{h=s.upd(h,i)}catch(e){}w.location.replace(h)}}\" id=\"aswift_0\" name=\"aswift_0\" style=\"left:0;position:absolute;top:0;border:0px;width:120px;height:600px;\" width=\"120\" height=\"600\" frameborder=\"0\"></iframe></ins></ins>\n",
      "<div id=\"va2\" style=\"display:none\" class=\"dfsmall\">google</div><script type=\"text/javascript\">document.write('</div>')</script></div>\n"
     ]
    }
   ],
   "source": [
    "# url 34\n",
    "i = urls[33]\n",
    "#open_url(i)\n",
    "element = driver.find_element_by_css_selector('#sky')\n",
    "source = element.get_attribute(\"outerHTML\")\n",
    "print(source)\n",
    "ad_type = \"better\"\n",
    "data.append({\"TYPE\" : ad_type, \"ad_code\" : source, \"URL\" : i})"
   ]
  },
  {
   "cell_type": "code",
   "execution_count": 341,
   "metadata": {
    "collapsed": true
   },
   "outputs": [
    {
     "name": "stdout",
     "output_type": "stream",
     "text": [
      "<div class=\"base-page-wrapper css-4vyyc7 eavft172\"><div class=\"css-13o7eu2 ex22c70\"><div id=\"initial-load-content\"><main class=\"css-1ebf8b3 eavft173\"><aside class=\"css-1xdhyk6 em66cyi0\"><aside class=\"css-3g48ci em66cyi1\"><aside id=\"thesaurus_serp_atf_728x90\" class=\"css-fmek98 e1wyd5nb0\" data-google-query-id=\"CMXQxN_uyucCFVxuvQodR2AIZQ\"><div id=\"google_ads_iframe_/23219321/iac.dict.thesrs.dw/dic/serp_0_n_0__container__\" style=\"border: 0pt none;\"><iframe id=\"google_ads_iframe_/23219321/iac.dict.thesrs.dw/dic/serp_0_n_0\" title=\"3rd party ad content\" name=\"google_ads_iframe_/23219321/iac.dict.thesrs.dw/dic/serp_0_n_0\" scrolling=\"no\" marginwidth=\"0\" marginheight=\"0\" style=\"border: 0px none; vertical-align: bottom;\" srcdoc=\"\" data-google-container-id=\"1\" data-load-complete=\"true\" width=\"970\" height=\"250\" frameborder=\"0\"></iframe></div></aside></aside></aside><section class=\"MainContentContainer css-1lcrovw e1h3b0ep0\"><section class=\"css-95c5ng e1v16r9g0\"><div class=\"css-79elbk en1b8750\"><section><div class=\"css-1fbjwk2 eljf5l10\"><div class=\"css-1c449it eljf5l17\"><h2 class=\"css-167we85\"><span class=\"css-1l4e67e eljf5l15\">EXAMPLE CREATOR</span><a href=\"https://dictionary.typeform.com/to/IhJMMU\" target=\"_blank\" class=\"css-12ay3i8 eljf5l16\">FEEDBACK</a></h2><div><span class=\"css-1fhiltz eljf5l19\">Characters:&nbsp;</span><span color=\"\" class=\"css-0 eljf5l18\">0/140</span></div></div><form><div class=\"css-1rz2q6c eljf5l12\"><div class=\"css-pswrko eljf5l13\"><input type=\"text\" placeholder=\"Paste a sentence with the word &quot;tips&quot; to see some examples in-context.\" class=\"css-1jkta3r eljf5l14\"></div><button color=\"#f5a623\" disabled=\"\" class=\"eljf5l11 css-x8f6t1-Button e1srsnyj0\">SHOW EXAMPLES</button></div></form></div></section><div class=\"css-10zqgn2 ek7obj50\"><h1 class=\"css-pzrl1 ek7obj53\">tips</h1><span class=\"css-1kk22dt ek7obj54\"><span class=\"css-p8iy4y ek7obj55\">[ tip ]</span><span class=\"css-1c6l1qu ek7obj51\"></span><audio preload=\"none\"><source src=\"https://static.sfdict.com/audio/lunawav/T03/T0316700.ogg\" type=\"audio/ogg\"><source src=\"https://static.sfdict.com/audio/T03/T0316700.mp3\" type=\"audio/mpeg\"></audio></span><a href=\"https://www.dictionary.com/browse/tip\" data-linkid=\"k7mlp0\" class=\"css-1jh47cl ek7obj52\">SEE DEFINITION OF <em>tips</em></a></div><div class=\"css-79elbk e9i53te9\"><div class=\"postab-container css-1nq2eka e9i53te1\"><ul class=\"css-172saqb e9i53te2\"><li class=\"active-postab css-aq2zan e9i53te0\"><a class=\"css-1twju98 e9i53te7\"><em class=\"css-u7frk4 e9i53te8\">noun</em><strong>inside information</strong></a></li><li class=\" css-k7u7pu e9i53te0\"><a class=\"css-wmquag e9i53te7\"><em class=\"css-u7frk4 e9i53te8\">noun</em><strong>very top</strong></a></li><li class=\" css-k7u7pu e9i53te0\"><a class=\"css-wmquag e9i53te7\"><em class=\"css-u7frk4 e9i53te8\">noun</em><strong>gratuity paid</strong></a></li><li class=\" css-k7u7pu e9i53te0\"><a class=\"css-wmquag e9i53te7\"><em class=\"css-u7frk4 e9i53te8\">verb</em><strong>knock over; cause to lean</strong></a></li><li class=\" css-k7u7pu e9i53te0\"><a class=\"css-wmquag e9i53te7\"><em class=\"css-u7frk4 e9i53te8\">verb</em><strong>give inside information</strong></a></li></ul></div><div class=\"css-1wb9ami e9i53te4\"><button href=\"#\" class=\"css-1x750yr e9i53te6\"></button></div></div></div><div class=\"css-1kc5m8x e1qo4u830\"><section class=\"css-0 e1991neq0\"><h2 class=\"css-hf47f5 e1qhuuqg0\">Synonyms for <em>tips</em></h2><ul class=\"css-1lc0dpe et6tpn80\"><li><span class=\"css-133coio etbu2a32\"><a href=\"/browse/bang\" data-linkid=\"nn1ov4\" class=\"css-zu4egz etbu2a31\">bang</a></span></li><li><span class=\"css-133coio etbu2a32\"><a href=\"/browse/bug\" data-linkid=\"nn1ov4\" class=\"css-zu4egz etbu2a31\">bug</a></span></li><li><span class=\"css-133coio etbu2a32\"><a href=\"/browse/buzz\" data-linkid=\"nn1ov4\" class=\"css-zu4egz etbu2a31\">buzz</a></span></li><li><span class=\"css-133coio etbu2a32\"><a href=\"/browse/clue\" data-linkid=\"nn1ov4\" class=\"css-zu4egz etbu2a31\">clue</a></span></li><li><span class=\"css-133coio etbu2a32\"><a href=\"/browse/cue\" data-linkid=\"nn1ov4\" class=\"css-zu4egz etbu2a31\">cue</a></span></li><li><span class=\"css-133coio etbu2a32\"><a href=\"/browse/dope\" data-linkid=\"nn1ov4\" class=\"css-zu4egz etbu2a31\">dope</a></span></li><li><span class=\"css-133coio etbu2a32\"><a href=\"/browse/forecast\" data-linkid=\"nn1ov4\" class=\"css-zu4egz etbu2a31\">forecast</a></span></li><li><span class=\"css-133coio etbu2a32\"><a href=\"/browse/hint\" data-linkid=\"nn1ov4\" class=\"css-zu4egz etbu2a31\">hint</a></span></li><li><span class=\"css-133coio etbu2a32\"><a href=\"/browse/in\" data-linkid=\"nn1ov4\" class=\"css-zu4egz etbu2a31\">in</a></span></li><li><span class=\"css-133coio etbu2a32\"><a href=\"/browse/information\" data-linkid=\"nn1ov4\" class=\"css-zu4egz etbu2a31\">information</a></span></li><li><span class=\"css-133coio etbu2a32\"><a href=\"/browse/inkling\" data-linkid=\"nn1ov4\" class=\"css-zu4egz etbu2a31\">inkling</a></span></li><li><span class=\"css-133coio etbu2a32\"><a href=\"/browse/inside%20wire\" data-linkid=\"nn1ov4\" class=\"css-zu4egz etbu2a31\">inside wire</a></span></li><li><span class=\"css-133coio etbu2a32\"><a href=\"/browse/knowledge\" data-linkid=\"nn1ov4\" class=\"css-zu4egz etbu2a31\">knowledge</a></span></li><li><span class=\"css-133coio etbu2a32\"><a href=\"/browse/news\" data-linkid=\"nn1ov4\" class=\"css-zu4egz etbu2a31\">news</a></span></li><li><span class=\"css-133coio etbu2a32\"><a href=\"/browse/point\" data-linkid=\"nn1ov4\" class=\"css-zu4egz etbu2a31\">point</a></span></li><li><span class=\"css-133coio etbu2a32\"><a href=\"/browse/pointer\" data-linkid=\"nn1ov4\" class=\"css-zu4egz etbu2a31\">pointer</a></span></li><li><span class=\"css-133coio etbu2a32\"><a href=\"/browse/prediction\" data-linkid=\"nn1ov4\" class=\"css-zu4egz etbu2a31\">prediction</a></span></li><li><span class=\"css-133coio etbu2a32\"><a href=\"/browse/prompt\" data-linkid=\"nn1ov4\" class=\"css-zu4egz etbu2a31\">prompt</a></span></li><li><span class=\"css-133coio etbu2a32\"><a href=\"/browse/secret%20information\" data-linkid=\"nn1ov4\" class=\"css-zu4egz etbu2a31\">secret information</a></span></li><li><span class=\"css-133coio etbu2a32\"><a href=\"/browse/steer\" data-linkid=\"nn1ov4\" class=\"css-zu4egz etbu2a31\">steer</a></span></li><li><span class=\"css-133coio etbu2a32\"><a href=\"/browse/suggestion\" data-linkid=\"nn1ov4\" class=\"css-zu4egz etbu2a31\">suggestion</a></span></li><li><span class=\"css-133coio etbu2a32\"><span class=\"css-1rm5oe2 etbu2a30\">two cents' worth</span></span></li><li><span class=\"css-133coio etbu2a32\"><a href=\"/browse/warning\" data-linkid=\"nn1ov4\" class=\"css-zu4egz etbu2a31\">warning</a></span></li><li><span class=\"css-133coio etbu2a32\"><a href=\"/browse/whisper\" data-linkid=\"nn1ov4\" class=\"css-zu4egz etbu2a31\">whisper</a></span></li><li><span class=\"css-133coio etbu2a32\"><a href=\"/browse/word\" data-linkid=\"nn1ov4\" class=\"css-zu4egz etbu2a31\">word</a></span></li><li><span class=\"css-133coio etbu2a32\"><a href=\"/browse/word%20of%20advice\" data-linkid=\"nn1ov4\" class=\"css-zu4egz etbu2a31\">word of advice</a></span></li><li><span class=\"css-133coio etbu2a32\"><a href=\"/browse/word%20to%20the%20wise\" data-linkid=\"nn1ov4\" class=\"css-zu4egz etbu2a31\">word to the wise</a></span></li></ul><div class=\"css-1b769zd e1ofkxl60\"><div color=\"#f5a623\" class=\"css-iytrha e1ofkxl61\">MOST RELEVANT</div></div></section></div><aside class=\"css-1xdhyk6 em66cyi0\"><aside class=\"css-3g48ci em66cyi1\"><aside id=\"tcom_serp_dkt_atf_728x90_3\" class=\"css-fgpbia e1wyd5nb0\" data-google-query-id=\"CIfvwt_uyucCFVxuvQodR2AIZQ\"><div id=\"google_ads_iframe_/23219321/iac.dict.thesrs.dw/dic/serp_0_n_2__container__\" style=\"border: 0pt none;\"><iframe id=\"google_ads_iframe_/23219321/iac.dict.thesrs.dw/dic/serp_0_n_2\" title=\"3rd party ad content\" name=\"google_ads_iframe_/23219321/iac.dict.thesrs.dw/dic/serp_0_n_2\" scrolling=\"no\" marginwidth=\"0\" marginheight=\"0\" style=\"border: 0px none; vertical-align: bottom;\" srcdoc=\"\" data-google-container-id=\"3\" data-load-complete=\"true\" width=\"728\" height=\"90\" frameborder=\"0\"></iframe></div></aside></aside></aside><div class=\"css-1kc5m8x e1qo4u830\"><section class=\"css-0 e1991neq0\"><h2 class=\"css-hf47f5 e1qhuuqg0\">Antonyms for <em>tips</em></h2><ul class=\"css-1lc0dpe et6tpn80\"><li><span class=\"css-133coio etbu2a32\"><a href=\"/browse/silence\" data-linkid=\"nn1ov4\" class=\"css-1f057tj etbu2a31\">silence</a></span></li></ul><div class=\"css-1b769zd e1ofkxl60\"><div color=\"#e1e1e1\" class=\"css-360tup e1ofkxl61\">MOST RELEVANT</div></div></section></div><div class=\"css-qwq3ka e1nz5my50\">Roget's 21st Century Thesaurus, Third Edition Copyright © 2013 by the\n",
      "          Philip Lief Group.</div><div class=\"css-1ppaphx e5u5bex0\"><h2 class=\"css-knpwy8 e5u5bex1\">EXAMPLES FROM THE WEB FOR <!-- -->TIPS</h2><div class=\"css-79elbk e1dkhfa64\"><div class=\"css-rats3j e1qo4u831\"><span class=\"collapsible-stateful\"><span class=\"collapsible state-collapsed css-9hqolu-CollapsibleContainer e24wjht0\"><span class=\"collapsible-content\"><span><p>Something freezing cold was beginning at the tips of his fingers.</p><p>Mr Verloc, with the tips of his fingers between his lips, was looking on the ground.</p><p>He just missed it, the leather sphere grazing the tips of his fingers.</p><p>The millionaire touched the broad palm with the tips of his gloved fingers.</p><p>Your arms are mine, from your shoulders to the tips of your nails.</p><p>The spines are simple or in some cases the tips are more or less branched.</p><p>There is a red tint on the tips of the boughs of the hard maple.</p><p>She held it a moment by the tips of her fingers and looked at it, and then put it back with a sigh.</p><p>She let his hand slip from the tips of her fingers, and drew silently away.</p><p>Making a call on her courage, she pushed the door open with the tips of her fingers.</p></span></span></span><span class=\"collapsible-control\"><div class=\"css-k6iv8x e1dkhfa60\"><span class=\"example-sentences-container css-w6jnjw e1dkhfa61\"><span class=\"css-4g6ai3 e1dkhfa62\">SEE MORE EXAMPLES</span><p class=\"css-1sznuh1 e1dkhfa63\"></p></span></div></span></span></div></div></div></section><aside class=\"css-jj611e evk9ulx0\"><aside class=\"css-1xdhyk6 em66cyi0\"><aside class=\"css-1yw3csq em66cyi1\"><aside id=\"thesaurus_serp_atf_300x250\" class=\"css-fmek98 e1wyd5nb0\" data-google-query-id=\"CIbvwt_uyucCFVxuvQodR2AIZQ\"><div id=\"google_ads_iframe_/23219321/iac.dict.thesrs.dw/dic/serp_0_n_1__container__\" style=\"border: 0pt none;\"><iframe id=\"google_ads_iframe_/23219321/iac.dict.thesrs.dw/dic/serp_0_n_1\" title=\"3rd party ad content\" name=\"google_ads_iframe_/23219321/iac.dict.thesrs.dw/dic/serp_0_n_1\" scrolling=\"no\" marginwidth=\"0\" marginheight=\"0\" style=\"border: 0px none; vertical-align: bottom;\" srcdoc=\"\" data-google-container-id=\"2\" data-load-complete=\"true\" width=\"300\" height=\"250\" frameborder=\"0\"></iframe></div></aside></aside></aside><section class=\"editorials-container css-1nm0qi8 ek69tv50\"><aside class=\"css-829tqn-EditorialComponent e1bbcgok0\"><div class=\"css-izmokf-EditorialTitleWrapper e1bbcgok2\"><h2 class=\"css-1b2yg16-EditorialTitleH2 e1bbcgok3\"><a href=\"https://www.dictionary.com/e/\" data-linkid=\"2azoy5\" class=\"css-1030g3b-EditorialTitleLink e1bbcgok4\">OTHERS ARE READING</a></h2></div><ul class=\"css-hbfxps-EditorialCardContainer e1bbcgok1\"><li class=\"css-2lj3gn-Card e1ifcv6o0\"><a href=\"https://www.dictionary.com/e/ie-vs-eg/?itm_source=parsely-api\" id=\"editorialContent0\" data-linkid=\"b00rn2\" class=\"css-1xfx2f-CardItemLink e1ifcv6o2\"><div class=\"css-1qmmzv3-CardItem e1ifcv6o1\"><img data-linkid=\"b00rn2\" alt=\"What’s The Difference Between “i.e.” vs. “e.g.”?\" data-src=\"https://www.dictionary.com/e/wp-content/uploads/2018/12/ie-eg-video_v3-1000x700-150x150.jpg\" class=\"css-8qrfux-CardItemImage e1ifcv6o4 ls-is-cached lazyloaded\" loading=\"lazy\" src=\"https://www.dictionary.com/e/wp-content/uploads/2018/12/ie-eg-video_v3-1000x700-150x150.jpg\"><p data-linkid=\"b00rn2\" class=\"css-tgxsze-CardItemTitle e1ifcv6o3\">What’s The Difference Between “i.e.” vs. “e.g.”?</p></div></a></li><li class=\"css-2lj3gn-Card e1ifcv6o0\"><a href=\"https://www.dictionary.com/e/s/where-did-the-worlds-most-popular-pet-names-come-from/?itm_source=parsely-api\" id=\"editorialContent1\" data-linkid=\"ytn3fh\" class=\"css-1xfx2f-CardItemLink e1ifcv6o2\"><div class=\"css-1qmmzv3-CardItem e1ifcv6o1\"><img data-linkid=\"ytn3fh\" alt=\"Where Did The World’s Most Popular Pet Names Come From?\" data-src=\"https://www.dictionary.com/e/wp-content/uploads/2020/02/PetNamesIntro_1000x700-150x150.jpg\" class=\"css-8qrfux-CardItemImage e1ifcv6o4 ls-is-cached lazyloaded\" loading=\"lazy\" src=\"https://www.dictionary.com/e/wp-content/uploads/2020/02/PetNamesIntro_1000x700-150x150.jpg\"><p data-linkid=\"ytn3fh\" class=\"css-tgxsze-CardItemTitle e1ifcv6o3\">Where Did The World’s Most Popular Pet Names Come From?</p></div></a></li></ul></aside></section><aside class=\"css-1xdhyk6 em66cyi0\"><aside class=\"css-3g48ci em66cyi1\"><aside class=\"css-yjy7kb erjrm7p0\"><div id=\"thesaurus_serp_btf_300x252\" data-google-query-id=\"CNKhqeLuyucCFYqGlgodDcAPaw\"><div id=\"google_ads_iframe_/23219321/iac.dict.thesrs.dw/dic/serp_0_n_4__container__\" style=\"border: 0pt none;\"><iframe id=\"google_ads_iframe_/23219321/iac.dict.thesrs.dw/dic/serp_0_n_4\" title=\"3rd party ad content\" name=\"google_ads_iframe_/23219321/iac.dict.thesrs.dw/dic/serp_0_n_4\" scrolling=\"no\" marginwidth=\"0\" marginheight=\"0\" style=\"border: 0px none; vertical-align: bottom;\" srcdoc=\"\" data-google-container-id=\"5\" data-load-complete=\"true\" width=\"300\" height=\"250\" frameborder=\"0\"></iframe></div></div></aside></aside></aside><div data-linkid=\"rpilnc\" class=\"css-vtn2l4 evk9ulx1\"><a href=\"https://www.dictionary.com/e/word-of-the-day/\" class=\"wotd-container css-110ybod-WotdContainer e1reors10\"><div class=\"wotd-content-block css-1hf127b-WotdBorderedCircle e1reors11\"><p class=\"css-1vuswii-WotdTitle e1reors12\">WORD OF THE DAY</p><span class=\"wotd-word css-klr4kg-WotdWord e1reors13\">blench</span><span class=\"wotd-details css-1gtnp3r-WotdDetails e1reors14\"><span class=\"css-68nz7a-BlockSpan e1reors15\"><em><span class=\"luna-pos\">verb (used without object)</span></em></span><span class=\"css-1of61ad-BlockSpan-Pipe e1reors16\"> | </span><span class=\"css-kznuui-BlockSpan-Pronunciation e1reors17\">[blench]</span><span class=\"audio-wrapper\"><span class=\"wotd-audio-btn prevent-click-tracking css-73moer-AudioButton e1reors18\" data-ci-target=\"audio\"></span><audio class=\"wotd-audio\" preload=\"none\"><source src=\"https://static.sfdict.com/audio/B04/B0408800.mp3\"></audio></span></span><span class=\"css-lj4v6t-SeeMoreLink e1reors19\">SEE DEFINITION</span></div></a></div><section class=\"editorials-container css-1nm0qi8 ek69tv50\"><aside class=\"css-829tqn-EditorialComponent e1bbcgok0\"><ul class=\"css-hbfxps-EditorialCardContainer e1bbcgok1\"><li class=\"css-2lj3gn-Card e1ifcv6o0\"><a href=\"https://www.dictionary.com/e/and-the-award-goes-to?itm_source=parsely-api\" id=\"editorialContent0\" data-linkid=\"gdjn7o\" class=\"css-1xfx2f-CardItemLink e1ifcv6o2\"><div class=\"css-1qmmzv3-CardItem e1ifcv6o1\"><img data-linkid=\"gdjn7o\" alt=\"From The Grammys To The Oscars: The Stories Behind The Names\" data-src=\"https://www.dictionary.com/e/wp-content/uploads/2017/02/1000x700-award-shows-150x150.jpg\" class=\"css-8qrfux-CardItemImage e1ifcv6o4 ls-is-cached lazyloaded\" loading=\"lazy\" src=\"https://www.dictionary.com/e/wp-content/uploads/2017/02/1000x700-award-shows-150x150.jpg\"><p data-linkid=\"gdjn7o\" class=\"css-tgxsze-CardItemTitle e1ifcv6o3\">From The Grammys To The Oscars: The Stories Behind The Names</p></div></a></li><li class=\"css-2lj3gn-Card e1ifcv6o0\"><a href=\"https://www.dictionary.com/e/s/modern-words-to-show-yourself-some-love/?itm_source=parsely-api\" id=\"editorialContent1\" data-linkid=\"mxi818\" class=\"css-1xfx2f-CardItemLink e1ifcv6o2\"><div class=\"css-1qmmzv3-CardItem e1ifcv6o1\"><img data-linkid=\"mxi818\" alt=\"Modern Words To Show Yourself Some Love\" data-src=\"https://www.dictionary.com/e/wp-content/uploads/2020/02/Intro1_1000x700-150x150.jpg\" class=\"css-8qrfux-CardItemImage e1ifcv6o4 lazyloaded\" loading=\"lazy\" src=\"https://www.dictionary.com/e/wp-content/uploads/2020/02/Intro1_1000x700-150x150.jpg\"><p data-linkid=\"mxi818\" class=\"css-tgxsze-CardItemTitle e1ifcv6o3\">Modern Words To Show Yourself Some Love</p></div></a></li></ul></aside></section></aside></section><div class=\"ad-overflow\"><aside class=\"css-1xdhyk6 em66cyi0\"><aside class=\"css-3g48ci em66cyi1\"><aside class=\"css-118mqyx erjrm7p0\"><div id=\"thesaurus_serp_728x90_p6\" data-google-query-id=\"CIjvwt_uyucCFVxuvQodR2AIZQ\"><div id=\"google_ads_iframe_/23219321/iac.dict.thesrs.dw/dic/serp_0_n_3__container__\" style=\"border: 0pt none;\"><iframe id=\"google_ads_iframe_/23219321/iac.dict.thesrs.dw/dic/serp_0_n_3\" title=\"3rd party ad content\" name=\"google_ads_iframe_/23219321/iac.dict.thesrs.dw/dic/serp_0_n_3\" scrolling=\"no\" marginwidth=\"0\" marginheight=\"0\" style=\"border: 0px none; vertical-align: bottom;\" srcdoc=\"\" data-google-container-id=\"4\" data-load-complete=\"true\" width=\"728\" height=\"90\" frameborder=\"0\"></iframe></div></div></aside></aside></aside></div></main></div></div></div>\n"
     ]
    }
   ],
   "source": [
    "# url 35\n",
    "i = urls[34]\n",
    "#open_url(i)\n",
    "element = driver.find_element_by_css_selector('.base-page-wrapper')\n",
    "source = element.get_attribute(\"outerHTML\")\n",
    "print(source)\n",
    "ad_type = \"better\"\n",
    "data.append({\"TYPE\" : ad_type, \"ad_code\" : source, \"URL\" : i})"
   ]
  },
  {
   "cell_type": "code",
   "execution_count": 346,
   "metadata": {
    "collapsed": true
   },
   "outputs": [
    {
     "name": "stdout",
     "output_type": "stream",
     "text": [
      "<section class=\"css-1ruifza e14q43hi0\"><div><h4 class=\"css-1hjqs55 epajhvv0\">Sign up for a vocabulary boost in your email</h4><div><form class=\"css-19q5ra6 e11icgpf0\"><input type=\"hidden\" name=\"list\" value=\"WOTD\"><input type=\"text\" color=\"\" placeholder=\"yourname@email.com\" autocomplete=\"off\" value=\"\" autocapitalize=\"off\" autocorrect=\"off\" name=\"email\" class=\"css-j6k8fd e1aark7a0\"><button id=\"wotd-subscribe-submit\" type=\"submit\" class=\"css-kp876n eqsp1f20\">I'M IN</button></form><div color=\"\" class=\"css-1j0lja8 eateo6j0\"><span></span></div></div></div></section>\n"
     ]
    }
   ],
   "source": [
    "# url 36\n",
    "i = urls[35]\n",
    "#open_url(i)\n",
    "element = driver.find_element_by_css_selector('.css-1ruifza')\n",
    "source = element.get_attribute(\"outerHTML\")\n",
    "print(source)\n",
    "ad_type = \"better\"\n",
    "data.append({\"TYPE\" : ad_type, \"ad_code\" : source, \"URL\" : i})"
   ]
  },
  {
   "cell_type": "code",
   "execution_count": 351,
   "metadata": {
    "collapsed": true
   },
   "outputs": [
    {
     "name": "stdout",
     "output_type": "stream",
     "text": [
      "<main id=\"sej-page-wrapper\"><div class=\"container sej-container\" id=\"loop_parent\"><div class=\"row ss_slot sej-banner-section \"><div class=\"col-xs-12 text-center\"><div class=\"sej_tk_4\"><a title=\"Download for Free!\" href=\"https://www.adzooma.com/performance-report/?utm_source=SEJ&amp;utm_medium=display&amp;utm_campaign=Takeover&amp;utm_content=970x200\" data-ga-label=\"Top_Desktop_970x200\" rel=\"nofollow noopener\" class=\"sej-t-link sej-t-0link_4 tk_yes\" target=\"_blank\"><img class=\"img-max-100\" alt=\"Download for Free!\" src=\"https://cdn.searchenginejournal.com/wp-content/uploads/2020/02/td-2x-5e411e7577c2b.webp\" width=\"970\" height=\"200\"></a><div class=\"avert-text aside-text\">Advertisement</div></div> <script>var sej_b_t_4 = [\"https:\\/\\/www.adzooma.com\\/performance-report\\/?utm_source=SEJ&utm_medium=display&utm_campaign=Takeover&utm_content=970x200\",\"https:\\/\\/cdn.searchenginejournal.com\\/wp-content\\/uploads\\/2020\\/02\\/td-1x-5e411e71b98de.jpg\",\"https:\\/\\/cdn.searchenginejournal.com\\/wp-content\\/uploads\\/2020\\/02\\/td-2x-5e411e7577c2b.jpg\"];\n",
      "\n",
      "                            \n",
      "                            sej_b_url = sej_b_t_4[0];\n",
      "                            sej_b_img1x = sej_b_t_4[1];\n",
      "                            sej_b_img2x = sej_b_t_4[2];\n",
      "\n",
      "                            var sej_blink_class = 'sej-t-0link_4';\n",
      "                            sej_blinks = document.getElementsByClassName( sej_blink_class );\n",
      "                            if( sej_blinks != null ){\n",
      "                            \tfor( var i = 0, len = sej_blinks.length; i < len; i++ ){\n",
      "                            \t\t setAttr( sej_blinks[i], 'href', sej_b_url );\n",
      "                            \t\t setAttr( sej_blinks[i], 'rel', 'nofollow noopener' );\n",
      "                \t\t\t\t}\n",
      "                            }\n",
      "\n",
      "\t\t\t\t\t\t\tvar timage_class = '.sej-t-0link_4 img';\n",
      "\t\t\t\t\t\t\ttimage_tags = document.querySelectorAll( timage_class );\n",
      "\n",
      "\t\t\t\t\t\t\t if( timage_tags.length > 0  ){   \n",
      "\t\t\t\t\t\t\t\t sej_b_final = sej_b_img1x;\n",
      "\t\t\t\t\t\t\t\t if( sej_isRetina() ){\n",
      "\t\t\t\t\t\t\t\t\t sej_b_final = sej_b_img2x;\n",
      "                                }\n",
      "\t\t\t\t\t\t\t\t \n",
      "\t\t\t\t\t\t\t\t for( var i = 0, len = timage_tags.length; i < len; i++ ){\n",
      "\t\t\t\t\t\t\t\t\t if( (/\\.(jpg|jpeg|png)$/i).test( sej_b_final ) && b_webp ){\n",
      "\t\t\t\t\t\t\t\t\t\t sej_b_final = sej_b_final.substr(0, sej_b_final.lastIndexOf(\".\")) + \".webp\";\n",
      "\t\t\t\t\t\t\t\t     }\n",
      "                            \t\t setAttr( timage_tags[i], 'src', sej_b_final );\n",
      "                \t\t\t\t}\n",
      "\t\t\t\t\t\t\t }\n",
      "\n",
      "\t\t\t\t\t\t\n",
      "\t\t\t\t\t\t\t t_link = document.querySelectorAll( '.sej_tk_4 .sej-t-link' );\n",
      "\t\t\t\t\t\t\t \n",
      "\t\t\t\t\t\t\t if( t_link.length > 0 && \"undefined\"!=typeof __gaTracker ){ \n",
      "\t\t\t\t\t\t\t\t for( var i = 0, len = t_link.length; i < len; i++ ){\n",
      "\t\t\t\t\t\t\t\t\tt_link[i].addEventListener( 'click', function( e ){\n",
      "\t\t\t\t\t\t\t\t\t\t\n",
      "\t\t                                    __gaTracker( \"send\",\"event\", \"Background Takeover\", \" Desktop 970x200\", sparents( e.target, 'a' ).getAttribute( \"href\" ) );\n",
      "\t                                \n",
      "\t\t\t\t\t\t\t\t\t}, false);\n",
      "                \t\t\t\t}\n",
      "\t\t\t\t\t\t\t }</script> </div></div><div class=\"row\"><div class=\"col-md-8 s-post-section s-post-section_1\"><article id=\"post-328971\" class=\"cis_post_item_initial post-328971 search-engines type-search-engines status-publish has-post-thumbnail category-seo cis_post_item cis_post_328971-1 hentrysej\" data-url=\"https://www.searchenginejournal.com/search-engines/crawling-indexing/\" data-title=\"How Search Engines Crawl &amp; Index: Everything You Need to Know\" data-id=\"328971\"><div class=\"row\"><div class=\"col-xs-12\"><div class=\"sej-article-head\"><div id=\"breadcrumbs\" class=\"margin-bottom-40 clearfix font-size-18\"><ol class=\"list-style-no\" vocab=\"http://schema.org/\" typeof=\"BreadcrumbList\"><li class=\"f-left\" property=\"itemListElement\" typeof=\"ListItem\"><a property=\"item\" typeof=\"WebPage\" href=\"https://www.searchenginejournal.com\"><span property=\"name\">SEJ</span></a><meta property=\"position\" content=\"1\"></li><li class=\"f-left\">&nbsp;»&nbsp;</li><li class=\"f-left\" property=\"itemListElement\" typeof=\"ListItem\"><a property=\"item\" typeof=\"WebPage\" href=\"https://www.searchenginejournal.com/search-engines/?utm_source=sej&amp;utm_medium=breadcrumbs&amp;utm_campaign=sej-breadcrumbs\"><span property=\"name\">Search Engines</span></a><meta property=\"position\" content=\"2\"></li></ol></div><h1 class=\"sej-stitle\">How Search Engines Crawl &amp; Index: Everything You Need to Know</h1><div class=\"post-top\"><div class=\"post-date\"><div class=\"author-inf no-border\"><a class=\"sej-faimage green aplink\" target=\"_blank\" title=\"Go to Author Page\" href=\"https://www.searchenginejournal.com/author/dave-davies/\"><img class=\"avatar b-lazy img-circle b-loaded\" src=\"https://cdn.searchenginejournal.com/wp-content/uploads/2019/03/dave-davies-headshot-130x130.jpg\" data-src=\"https://cdn.searchenginejournal.com/wp-content/uploads/2019/03/dave-davies-headshot-130x130.jpg\" data-src2=\"https://cdn.searchenginejournal.com/wp-content/uploads/2019/03/dave-davies-headshot-130x130.jpg\" alt=\"Dave Davies\" data-was-processed=\"true\" width=\"50\" height=\"50\"><noscript><img  alt=\"Dave Davies\"  height=\"50\" width=\"50\" src=\"https://cdn.searchenginejournal.com/wp-content/uploads/2019/03/dave-davies-headshot-65x65.jpg\"/></noscript>            <i class=\"fa fa-star green-text dnone dblock-1023\"></i>        </a><span><a target=\"_blank\" title=\"Go to Author Page\" href=\"https://www.searchenginejournal.com/author/dave-davies/\" class=\"post-author\">Dave Davies</a><time class=\"sej-time dnone dblock-1023\">October 8, 2019</time></span><div class=\"post-author dnone-1023\"><div class=\"author-card\"><div class=\"trig-top\"></div><div class=\"sej-fauthor\"><a class=\"sej-faimage green aplink\" title=\"Go to Author Page\" href=\"https://www.searchenginejournal.com/author/dave-davies/\"><img class=\"avatar b-lazy img-circle  \" src=\"https://cdn.searchenginejournal.com/wp-content/themes/sej14/images/placeholder.gif\" data-src=\"https://cdn.searchenginejournal.com/wp-content/uploads/2019/03/dave-davies-headshot-130x130.jpg\" data-src2=\"https://cdn.searchenginejournal.com/wp-content/uploads/2019/03/dave-davies-headshot-130x130.jpg\" alt=\"Dave Davies\" width=\"65\" height=\"65\"><noscript><img  alt=\"Dave Davies\"  height=\"65\" width=\"65\" src=\"https://cdn.searchenginejournal.com/wp-content/uploads/2019/03/dave-davies-headshot-65x65.jpg\"/></noscript>                    </a><span class=\"sej-astatus green\"><i class=\"fa fa-star green-text\"></i> VIP CONTRIBUTOR</span>                    <a target=\"_blank\" title=\"Go to Author Page\" href=\"https://www.searchenginejournal.com/author/dave-davies/\" class=\"sej-paname\">Dave Davies</a><span class=\"sej-apos\">CEO at <a rel=\"nofollow noopener\" href=\"https://beanstalkim.com/\" onclick=\"__gaTracker('send', 'event', 'Author Profile Clicks', 'Icons', 'company');\">Beanstalk Internet Marketing, Inc.</a></span><div class=\"card-foot\"><div><span>Bio</span><a target=\"_blank\" title=\"Go to Author Page\" href=\"https://www.searchenginejournal.com/author/dave-davies/\"><i class=\"fa fa-link-ext-alt\"></i></a></div><div><span>Follow</span><ul class=\"list-unstyled clearfix sej-asocial\"><li><a title=\"Subscribe to Author Feed\" class=\"rss-color\" href=\"https://www.searchenginejournal.com/author/dave-davies/feed/\" onclick=\"__gaTracker('send', 'event', 'Author Profile Clicks', 'Icons', 'rss');\" target=\"_blank\"><i class=\"fa fa-rss\"></i></a></li><li><a rel=\"noopener\" title=\"Follow on Twitter\" class=\"twitter-color\" href=\"https://twitter.com/beanstalkim\" onclick=\"__gaTracker('send', 'event', 'Author Profile Clicks', 'Icons', 'twitter');\" target=\"_blank\"><i class=\"fa fa-twitter\"></i></a></li><li><a rel=\"noopener\" title=\"Connect on LinkedIn\" class=\"linkedin-color\" href=\"https://www.linkedin.com/in/daveatbeanstalkim\" onclick=\"__gaTracker('send', 'event', 'Author Profile Clicks', 'Icons', 'linkedIn');\" target=\"_blank\"><i class=\"fa fa-linkedin\"></i></a></li></ul></div></div></div></div></div></div><span class=\"dnone-1023\">&nbsp;/&nbsp;</span><time class=\"sej-time dnone-1023\">October 8, 2019</time></div><ul class=\"list-unstyled list-inline sej-meta\"><li><div class=\"meta-number green\">2.1K</div><div class=\"meta-text\">SHARES</div></li><li><div class=\"meta-number green\">36K</div><div class=\"meta-text\">READS</div></li></ul></div></div></div></div><div class=\"row\"><div class=\"col-xs-12\"><div class=\"sej-article entrycontent \"><div class=\"sej-sthumb\"><picture><source type=\"image/webp\" srcset=\"https://cdn.searchenginejournal.com/wp-content/uploads/2019/10/featured-image-how-search-engines-work-480x252.webp 480w, https://cdn.searchenginejournal.com/wp-content/uploads/2019/10/featured-image-how-search-engines-work-680x357.webp 680w, https://cdn.searchenginejournal.com/wp-content/uploads/2019/10/featured-image-how-search-engines-work-768x403.webp 768w, https://cdn.searchenginejournal.com/wp-content/uploads/2019/10/featured-image-how-search-engines-work-1024x538.webp 1024w, https://cdn.searchenginejournal.com/wp-content/uploads/2019/10/featured-image-how-search-engines-work.webp 1600w\"><source srcset=\"https://cdn.searchenginejournal.com/wp-content/uploads/2019/10/featured-image-how-search-engines-work-480x252.jpg 480w, https://cdn.searchenginejournal.com/wp-content/uploads/2019/10/featured-image-how-search-engines-work-680x357.jpg 680w, https://cdn.searchenginejournal.com/wp-content/uploads/2019/10/featured-image-how-search-engines-work-768x403.jpg 768w, https://cdn.searchenginejournal.com/wp-content/uploads/2019/10/featured-image-how-search-engines-work-1024x538.jpg 1024w, https://cdn.searchenginejournal.com/wp-content/uploads/2019/10/featured-image-how-search-engines-work.jpg 1600w\"><img class=\"img-responsive\" src=\"https://cdn.searchenginejournal.com/wp-content/uploads/2019/10/featured-image-how-search-engines-work-760x400.jpg\" alt=\"How Search Engines Crawl &amp; Index: Everything You Need to Know\" width=\"760\" height=\"400\"></picture></div><div class=\"sej-article-content gototop-pos \"><div id=\"scheader\" class=\"media sej-card ss_slot\" style=\"background-color: rgb(0, 55, 60);\"> <script>document.addEventListener(\"DOMContentLoaded\", function(event) {\n",
      "                        var cat_head_params = [{\"sponsor\":{\"headline\":\"Have You Ever Done a Link Disavow?\",\"font_size\":30,\"line_height\":54},\"sponsor_logo\":\"https:\\/\\/cdn.searchenginejournal.com\\/wp-content\\/uploads\\/2019\\/03\\/logo.png\",\"sponsor_text\":\"A properly maintained disavow file can make or break your search engine rankings. If you've ever (or never!) done a disavow and are wondering if there are links you should add or remove, let Jim Boykin review your backlinks and propose a disavow file to maximize your SEO visibility and search engine rankings. $999 for a limited time.\",\"font_size\":20,\"cta_text\":{\"text\":\"Learn More\",\"font_size\":\"\"},\"colors\":{\"cta\":\"#13cda8\",\"background\":\"#00373c\",\"title_shadow\":\"#c5da0f\",\"head_color\":\"#00373c\",\"text_color\":\"#ffffff\"},\"logo_url\":\"https:\\/\\/www.internetmarketingninjas.com\\/backlink-audit-disavow\\/\",\"ga_labels\":[\"SEO\",\"https:\\/\\/www.internetmarketingninjas.com\\/backlink-audit-disavow\\/\"]},{\"sponsor\":{\"headline\":\"What's a Link Worth to You?\",\"font_size\":30,\"line_height\":54},\"sponsor_logo\":\"https:\\/\\/cdn.searchenginejournal.com\\/wp-content\\/uploads\\/2019\\/03\\/logo.png\",\"sponsor_text\":\"\\\"Quality links are really hard to get. What if you have good links in your disavow file? Worse, what if there are harmful sites linking to you that haven?t been disavowed? Jim Boykin will personally analyze your backlinks and existing disavow file and recommend sites you may want to add or remove to maximize your link equity.\",\"font_size\":20,\"cta_text\":{\"text\":\"Get Started\",\"font_size\":\"\"},\"colors\":{\"cta\":\"#13cda8\",\"background\":\"#00373c\",\"title_shadow\":\"#c5da0f\",\"head_color\":\"#00373c\",\"text_color\":\"#ffffff\"},\"logo_url\":\"https:\\/\\/www.internetmarketingninjas.com\\/backlink-audit-disavow\\/\",\"ga_labels\":[\"SEO\",\"https:\\/\\/www.internetmarketingninjas.com\\/backlink-audit-disavow\\/\"]},{\"sponsor\":{\"headline\":\"Have You Ever Analyzed Your Backlinks?\",\"font_size\":30,\"line_height\":54},\"sponsor_logo\":\"https:\\/\\/cdn.searchenginejournal.com\\/wp-content\\/uploads\\/2019\\/03\\/logo.png\",\"sponsor_text\":\"\\\"Your backlink profile is one of the most important parts of your overall SEO effort, and making a mistake can be VERY costly. Let Jim Boykin of Internet Marketing Ninjas review your backlinks and create or revise a disavow file to set you up for SEO success.\",\"font_size\":20,\"cta_text\":{\"text\":\"I'm Interested\",\"font_size\":\"\"},\"colors\":{\"cta\":\"#13cda8\",\"background\":\"#00373c\",\"title_shadow\":\"#c5da0f\",\"head_color\":\"#00373c\",\"text_color\":\"#ffffff\"},\"logo_url\":\"https:\\/\\/www.internetmarketingninjas.com\\/backlink-audit-disavow\\/\",\"ga_labels\":[\"SEO\",\"https:\\/\\/www.internetmarketingninjas.com\\/backlink-audit-disavow\\/\"]},{\"sponsor\":{\"headline\":\"Try 3for FREE!\",\"font_size\":30,\"line_height\":54},\"sponsor_logo\":\"https:\\/\\/cdn.searchenginejournal.com\\/wp-content\\/uploads\\/2019\\/03\\/logo.png\",\"sponsor_text\":\"Google's featured snippets are prime real estate in the SERPs, but if you want to capture them, it's hard to know where to start. This powerful tool identifies and organizes featured snippet data for your keywords, making it easier for you to rank in position 0. Try 3 URLs for FREE! \",\"font_size\":20,\"cta_text\":{\"text\":\"Try it Now\",\"font_size\":\"\"},\"colors\":{\"cta\":\"#13cda8\",\"background\":\"#00373c\",\"title_shadow\":\"#c5da0f\",\"head_color\":\"#00373c\",\"text_color\":\"#ffffff\"},\"logo_url\":\"https:\\/\\/www.internetmarketingninjas.com\\/tools\\/snippet\\/\",\"ga_labels\":[\"SEO\",\"https:\\/\\/www.internetmarketingninjas.com\\/tools\\/snippet\\/\"]},{\"sponsor\":{\"headline\":\"Optimize for Featured Snippets, Voice Search, and More!\",\"font_size\":26,\"line_height\":54},\"sponsor_logo\":\"https:\\/\\/cdn.searchenginejournal.com\\/wp-content\\/uploads\\/2019\\/03\\/logo.png\",\"sponsor_text\":\"\\\"Hey Google, how many voice search results come from featured snippets?\\\" The answer: About 80%. If it's not your site, it's your competitor's. Learn more about voice search optimization and optimize 3 URLs for FREE today using our Featured Snippets+ Tool.\",\"font_size\":20,\"cta_text\":{\"text\":\"Get Started\",\"font_size\":\"\"},\"colors\":{\"cta\":\"#13cda8\",\"background\":\"#00373c\",\"title_shadow\":\"#c5da0f\",\"head_color\":\"#00373c\",\"text_color\":\"#ffffff\"},\"logo_url\":\"https:\\/\\/www.internetmarketingninjas.com\\/tools\\/snippet\\/\",\"ga_labels\":[\"SEO\",\"https:\\/\\/www.internetmarketingninjas.com\\/tools\\/snippet\\/\"]},{\"sponsor\":{\"headline\":\"The Ultimate SERP Marketing Tool\",\"font_size\":26,\"line_height\":54},\"sponsor_logo\":\"https:\\/\\/cdn.searchenginejournal.com\\/wp-content\\/uploads\\/2019\\/03\\/logo.png\",\"sponsor_text\":\"Featured snippets, \\\"People also ask,\\\" Images, and Videos now appear in more search results than ever before. How many of those results are yours? Quickly identify and capture the best opportunities using our Featured Snippets+ Tool for ultimate SERP domination.\",\"font_size\":20,\"cta_text\":{\"text\":\"Try 3 URLs for FREE\",\"font_size\":\"\"},\"colors\":{\"cta\":\"#13cda8\",\"background\":\"#00373c\",\"title_shadow\":\"#c5da0f\",\"head_color\":\"#00373c\",\"text_color\":\"#ffffff\"},\"logo_url\":\"https:\\/\\/www.internetmarketingninjas.com\\/tools\\/snippet\\/\",\"ga_labels\":[\"SEO\",\"https:\\/\\/www.internetmarketingninjas.com\\/tools\\/snippet\\/\"]}];\n",
      "           \n",
      "            var display_index = Math.floor( Math.random() * ( cat_head_params.length ) );           \n",
      "            cat_head_params = cat_head_params[display_index];\n",
      "                  \n",
      "\t\t\tfunction spons_track( e ){\n",
      "\t\t\t\t\n",
      "\t\t\t\t \n",
      "\t  \t\t\t  var tagname =  e.target.tagName;\n",
      "\t  \t\t\t  tagname = tagname.toLowerCase(); \n",
      "\t  \t\t\t  if( tagname == 'img'){\n",
      "\t\t  \t\t\t\tparent_a = sparents( e.target, 'a' )\n",
      "\t\t  \t\t\t\thref =\tparent_a.getAttribute( \"href\" );\n",
      "\t      \t\t  }else{\n",
      "\t\t      \t\t\thref = e.target.getAttribute( \"href\" );\n",
      "\t\t\t\t\t\t\n",
      "\t\t      \t  }\n",
      "\t\t      \t  \n",
      "\t\t  \t\t if( !ss_u  ){\n",
      "\t\t\t\t  __gaTracker( \"tkTracker.send\",\"event\", \"Sponsored Category Click Var 1\", \"seo\", href );\n",
      "    \t\t\t  __gaTracker( \"send\",\"event\", \"Sponsored Category Click Var 1\", \"seo\", href );\n",
      "\n",
      "\t\t  \t\t }\n",
      "    \t\t\t \n",
      "    \t\t\t\t\n",
      "    \t\t\t     \t\t}\n",
      "\t\t        \n",
      "\t\t        var scheader = document.getElementById( \"scheader\" );\n",
      "\t         \n",
      "\t            if( cat_head_params.sponsor_logo && cat_head_params.sponsor_text ){\n",
      "\n",
      "\t              scheader.style.backgroundColor = cat_head_params.colors.background;\n",
      "\t              \n",
      "\t              sappendHtml( scheader, '<div class=\"scdetails media-body\"></div>' );\n",
      "\t              \n",
      "\t              h3_html =  '<h3 class=\"card-h\">'+cat_head_params.sponsor.headline+'</h3>';\n",
      "\t\t          \n",
      "\t              cta = '<span class=\"fade-link\"><a rel=\"noopener\" target=\"_blank\" class=\"card-link\" href=\"'+cat_head_params.logo_url+'\">'+cat_head_params.cta_text.text+'<span>&#8594;</span></a></span>'\n",
      "\t              atext = '<p class=\"card-text\">'+cat_head_params.sponsor_text+'</p>';\n",
      "\t              scdetails = scheader.getElementsByClassName( 'scdetails' );\n",
      "\t              sappendHtml( scdetails[0], h3_html );\n",
      "\t              sappendHtml( scdetails[0], atext );\n",
      "\t              sappendHtml( scdetails[0], cta );\n",
      "\t\t\t\t  // logo\t             \n",
      "\t              sappendHtml( scheader, '<div class=\"media-right sc-logo\"></div>' );\n",
      "\t              sc_logo = scheader.getElementsByClassName( 'sc-logo' );\n",
      "\t              logo_html = '<a rel=\"noopener\" title=\"'+cat_head_params.cta_text.text+'\" class=\"card-img\" rel=\"nofollow\" href=\"'+cat_head_params.logo_url+'\"  target=\"_blank\"><img alt=\"'+cat_head_params.sponsor+'\" class=\"hauto nopin media-object\" src=\"'+cat_head_params.sponsor_logo+'\" width=\"120\" height=\"120\" /></a>';        \n",
      "\t\t          sappendHtml( sc_logo[0], logo_html );\n",
      "\t\t          \n",
      "\t              sappendHtml( scheader, '<div class=\"card-label text-center\"><span>ADVERTISEMENT</span></div>' );\n",
      "     \t      \t   \n",
      "            \t  if(\"undefined\"!=typeof __gaTracker){ \n",
      "            \t\t__gaTracker('create', 'UA-1465708-12', 'auto', 'tkTracker');\n",
      "    \t      \t\t__gaTracker('tkTracker.set', 'dimension1', window.location.href );\n",
      "\t      \t\t\t__gaTracker('tkTracker.set', 'dimension2', 'seo' );\n",
      "\t      \t\t\t__gaTracker('tkTracker.set', 'contentGroup1', 'seo' ); \n",
      "    \t      \t\t__gaTracker('tkTracker.send', { 'hitType': 'pageview', 'page': cat_head_params.logo_url, 'title': cat_head_params.sponsor.headline, 'sessionControl': 'start' }); \n",
      "\t\t\t\t\tslinks = scheader.getElementsByTagName( \"a\" );\n",
      "   \t   \t   \t      \tsadd_event( slinks, 'click', spons_track );\n",
      "        \t      } \n",
      "          \t}  // endif cat_head_params.sponsor_logo\n",
      "   \t\t});</script> <div class=\"scdetails media-body\"><h3 class=\"card-h\">The Ultimate SERP Marketing Tool</h3><p class=\"card-text\">Featured snippets, \"People also ask,\" Images, and Videos now appear in more search results than ever before. How many of those results are yours? Quickly identify and capture the best opportunities using our Featured Snippets+ Tool for ultimate SERP domination.</p><span class=\"fade-link\"><a rel=\"noopener\" target=\"_blank\" class=\"card-link\" href=\"https://www.internetmarketingninjas.com/tools/snippet/\">Try 3 URLs for FREE<span>→</span></a></span></div><div class=\"media-right sc-logo\"><a rel=\"noopener\" title=\"Try 3 URLs for FREE\" class=\"card-img\" href=\"https://www.internetmarketingninjas.com/tools/snippet/\" target=\"_blank\"><img alt=\"[object Object]\" class=\"hauto nopin media-object\" src=\"https://cdn.searchenginejournal.com/wp-content/uploads/2019/03/logo.png\" width=\"120\" height=\"120\"></a></div><div class=\"card-label text-center\"><span>ADVERTISEMENT</span></div></div><!-- .category-header --><p><em>Editor’s Note: This post is from Search Engine Journal’s new ebook <strong>How Search Engines Work</strong>. This guide will teach you how search engines function and the key factors that influence search engine results pages. Want your copy now? <a href=\"https://www.searchenginejournal.com/search-engines/?utm_source=ebook&amp;utm_medium=announcement-post&amp;utm_campaign=cta-1\">Download it here</a> or scroll to the bottom of this post for more details.</em></p><hr><p>Optimizing websites without first understanding how search engines function is akin to publishing your great novel without first learning how to write.</p><p>Certainly, a thousand monkeys at typewriters will eventually create something useful (at least this monkey likes to think he does from time to time), but it’s a lot easier if you know the core elements of a task beforehand.</p><p>So we must understand <i>how </i>search engines work to fully understand <i>how to optimize for them</i>.</p><p>While we will be focusing on organic search, we must first briefly talk about one critical truth about search engines.</p><h2>Paid Search Results</h2><p>Not Google, not Bing, nor any other major search engine is in the business of providing organic listings.</p><p>That is to say, organic results are the means to an end, but do not directly generate revenue for them.</p><p>Without organic search results, Google’s paid search results would appear less relevant (<a href=\"https://www.searchenginejournal.com/overture-so-much-more-than-pay-per-click/847/\">Overture</a> anyone?), thus reducing eyeballs and paid clicks.</p><p>Basically, Google and Bing (and the others) are advertising engines that happen to draw users to their properties with organic listings. Organic, then, is the means to the end.</p><p>Why does this matter?</p><p>It’s the key point driving in:</p><ul><li>Their layout changes.</li><li>The existence of search features like knowledge panels and featured snippets.</li><li>The click-through rates (CTR) of organic results.</li></ul><p>When Google adds a fourth paid search result to commercial-intent queries it’s because of this.</p><p>When Google displays a featured snippet so you don’t have to leave Google.com to get an answer to your query… it is because of this.</p><p>Regardless of what change you may see taking place it’s important to keep this in mind and always question not just what it will impact today but what further changes do they imply may be on the horizon.</p><h2>How Search Engines Work Today: The Series</h2><p>Alright, now that we have that baseline understanding of why Google even provides organic results let’s look at the nuts-and-bolts of how they operate.</p><p>To accomplish this we’re going to look at:</p><ul><li>Crawling and indexing</li><li>Algorithms</li><li>Machine learning</li><li>User intent</li></ul><p>This piece will focus on indexing. So let’s dive in…</p><h2>Indexing</h2><p>Indexing is where it all begins.</p><p>For the uninitiated, indexing essentially refers to the adding of a webpage’s content into Google.</p><p>When you create a new page on your site there are a number of ways it can be indexed.</p><p>The simplest method of getting a page indexed is to do absolutely nothing.</p><p>Google has crawlers following links and thus, provided your site is in the index already and that the new content is linked to from within your site, Google will eventually discover it and add it to its index. More on this later.</p><p>But what if you want Googlebot to get to your page faster?</p><p>This can be important if you have timely content or if you’ve made an important change to a page you need Google to know about.</p><p>One of the top reasons I use faster methods is when I’ve either optimized a critical page or I’ve adjusted the title and/or description to improve click-throughs and want to know specifically when they were picked up and displayed in the SERPs to know where the measurement of improvement starts.</p><p>In these instances there a few additional methods you can use:</p><h3>1. XML Sitemaps</h3><p>There are always <a href=\"https://www.searchenginejournal.com/xml-sitemap-best-practices/237649/\">XML sitemaps</a>.</p><p>Basically, this is a sitemap that is submitted to Google via <a href=\"https://www.searchenginejournal.com/google-search-console-guide/209318/\">Search Console</a>.</p><p>An XML sitemap gives search engines a list of all the pages on your site, as well as additional details about it, such as when it was last modified.</p><p>Definitely recommended!</p><p>But when you need a page indexed immediately it’s not particularly reliable.</p><h3>2. Request Indexing</h3><p>In Search Console, you can “Request Indexing”.</p><p>You begin by clicking on the top search field which reads by default, “Inspect and URL in domain.com”</p><div class=\"summitad-wrap\"><div class=\"summitad-text\"><p><strong>Free Google Ads report finds improvements in 60 seconds</strong><br>Based on actual data from your own campaigns.</p></div><div class=\"summitad-button\"><a rel=\"nofollow noopener\" title=\"Download Free\" target=\"_blank\" data-tk=\"true\" data-event=\"2020 Adzooma  : February 10 - February 23 2020\" data-event-label=\"2020 Adzooma  : February 10 - February 23 2020\" data-ga-label=\"Middle_Post_Text\" class=\"button-red sej-t-link border-none tk_yes\" href=\"https://www.adzooma.com/performance-report/?utm_source=SEJ&amp;utm_medium=display&amp;utm_campaign=Takeover&amp;utm_content=in_post_text\">Get Your Report for Free</a></div></div><div class=\"avert-text  margin-bottom-20  text-center\"><span>ADVERTISEMENT</span></div><p>Enter the URL you want to be indexed, then hit Enter.</p><p>If the page is already known to Google you will be presented with a bunch of information on it. We won’t get into that here but I recommend logging in and seeing what’s there if you haven’t already.</p><p>The important button, for our purposes here, appears whether the page has been indexed or not – meaning that it’s good for content discovery or just requesting Google to understand a recent change</p><p>You’ll find the button …</p><p><noscript><img src=\"https://cdn.searchenginejournal.com/wp-content/uploads/2019/10/gsc-request-indexing.jpg\" alt=\"GSC-request-indexing\"></noscript><img class=\"aligncenter size-full wp-image-328973 b-lazy pcimg\" src=\"data:image/svg+xml,%3Csvg%20xmlns=%22http://www.w3.org/2000/svg%22%20viewBox=%220%200%201025%20423%22%3E%3C/svg%3E\" alt=\"GSC-request-indexing\" sizes=\"(max-width: 1025px) 100vw, 1025px\" data-srcset=\"https://cdn.searchenginejournal.com/wp-content/uploads/2019/10/gsc-request-indexing.jpg 1025w, https://cdn.searchenginejournal.com/wp-content/uploads/2019/10/gsc-request-indexing-480x198.jpg 480w, https://cdn.searchenginejournal.com/wp-content/uploads/2019/10/gsc-request-indexing-680x281.jpg 680w, https://cdn.searchenginejournal.com/wp-content/uploads/2019/10/gsc-request-indexing-768x317.jpg 768w, https://cdn.searchenginejournal.com/wp-content/uploads/2019/10/gsc-request-indexing-1024x423.jpg 1024w\" data-src=\"https://cdn.searchenginejournal.com/wp-content/uploads/2019/10/gsc-request-indexing.jpg\" width=\"1025\" height=\"423\"></p><p>Within a few seconds to a few minutes, you can search the new content or URL in Google and find the change or new content picked up.</p><h3>3. Host Your Content On Google</h3><p>Crawling sites to index them is a time and resource-consuming process.</p><p>One alternative is to host your content directly with them.</p><p>This can be done a few different ways but most of us (myself included) have not adopted the technologies or approaches required and Google hasn’t pushed us to them.</p><p>We’re seeing the ability to give Google direct access to our content via XML feeds, APIs, etc. and unplug our content from our design.</p><p>Firebase, Google’s mobile app platform, gives Google direct access to the app content, bypassing any need to figure out how to crawl it.</p><p>This is the future – enabling Google to index content immediately, without effort, so it can then serve it in the format most usable based on the accessing technology.</p><p>While we aren’t quite where we need to be in our technologies to stress too much about this side of things, just know it is coming.</p><p>I cannot recommend enough following Cindy Krum’s <a href=\"https://mobilemoxie.com/blog/\" target=\"_blank\" rel=\"noopener\">MobileMoxie blog</a>, where she discusses these and mobile-related subjects in great detail and with great insight.</p><h3>4. And Bing, Too!</h3><p>To get your content indexed and/or updates quickly by Bing, you will need a Bing Webmaster Tools account.</p><p>If you don’t have one, I can’t recommend it enough. The info provided within is substantial and will help you better assess problem areas and improve your rankings on Bing, Google and anywhere else – and probably provide a better user experience as well.</p><p>But for getting your content indexed you simply need click: Configure My Site &gt; Submit URLs</p><p>From there you enter the URL(s) you want indexes and click “Submit”.</p><p><noscript><img src=\"https://cdn.searchenginejournal.com/wp-content/uploads/2019/10/bing-webmaster-submit-urls.jpg\" alt=\"bing-webmaster-submit-urls\"></noscript><img class=\"aligncenter size-full wp-image-328975 b-lazy pcimg\" src=\"data:image/svg+xml,%3Csvg%20xmlns=%22http://www.w3.org/2000/svg%22%20viewBox=%220%200%201055%20356%22%3E%3C/svg%3E\" alt=\"bing-webmaster-submit-urls\" sizes=\"(max-width: 1055px) 100vw, 1055px\" data-srcset=\"https://cdn.searchenginejournal.com/wp-content/uploads/2019/10/bing-webmaster-submit-urls.jpg 1055w, https://cdn.searchenginejournal.com/wp-content/uploads/2019/10/bing-webmaster-submit-urls-480x162.jpg 480w, https://cdn.searchenginejournal.com/wp-content/uploads/2019/10/bing-webmaster-submit-urls-680x229.jpg 680w, https://cdn.searchenginejournal.com/wp-content/uploads/2019/10/bing-webmaster-submit-urls-768x259.jpg 768w, https://cdn.searchenginejournal.com/wp-content/uploads/2019/10/bing-webmaster-submit-urls-1024x346.jpg 1024w\" data-src=\"https://cdn.searchenginejournal.com/wp-content/uploads/2019/10/bing-webmaster-submit-urls.jpg\" width=\"1055\" height=\"356\"></p><p>So – that’s almost everything that you need to know about indexing and how search engines do it (with an eye towards where things are going).</p><h2>Crawl Budget</h2><p>We can’t really talk about indexing without talking about <a href=\"https://www.searchenginejournal.com/optimize-crawl-budget-seo/321961/\">crawl budget</a>.</p><p>Basically, crawl budget is a term used to describe the amount of resources that Google will expend crawling a website.</p><p>The budget assigned is based on a combination of factors, the two central ones being:</p><ul><li>How fast your server is (i.e., how much can Google crawl without degrading your user experience).</li><li>How important your site is.</li></ul><p>If you run a major news site with constantly updating content that search engine users will want to be aware of your site will get crawled frequently (dare I say … constantly).</p><p>If you run a small barbershop, have a couple of dozen links, and rightfully are not deemed important in this context (you may be an important barber in the area but you’re not important when it comes to crawl budget) then the budget will be low.</p><p>You can read more about crawl budgets and how they’re determined in Google’s explanation&nbsp;<a href=\"https://webmasters.googleblog.com/2017/01/what-crawl-budget-means-for-googlebot.html\" target=\"_blank\" rel=\"noopener noreferrer\">here</a>.</p><h2>Discover How Search Engines Work</h2><p>Want to optimize your site the right way and set yourself up for success? Then it’s critical to know how search engines operate today.</p><p>Written by this author, <strong>How Search Engines Work</strong>, tackles how search engines function and the key factors that influence search engine results pages.</p><p><a href=\"https://www.searchenginejournal.com/search-engines/?utm_source=ebook&amp;utm_medium=announcement-post&amp;utm_campaign=cta-2\"><strong>Download it here.</strong></a></p><p>In partnership with HigherVisibility, we created this ebook for SEO pros who want to strengthen their technical SEO knowledge.</p><p>How Search Engines Work is divided into nine easy-to-digest chapters:</p><ul><li>Chapter 1: How Search Engines Crawl &amp; Index: Everything You Need to Know</li><li>Chapter 2: How (&amp; Why) Search Engines Render Pages</li><li>Chapter 3: How Search Engine Algorithms Work: Everything You Need to Know</li><li>Chapter 4: How Search Engines Rank Pages</li><li>Chapter 5: How Machine Learning in Search Works: Everything You Need to Know</li><li>Chapter 6: How User Behavior In Search Works: Everything You Need to Know</li><li>Chapter 7: How Search Engines Display Search Results</li><li>Chapter 8: How Search Engines Answer Direct Answers with ‘Useful Responses’ &amp; Rich Results</li><li>Chapter 9: How Universal Search Works</li></ul><h2><a href=\"https://www.searchenginejournal.com/search-engines/?utm_source=ebook&amp;utm_medium=announcement-post&amp;utm_campaign=cta-3\">Download Your Copy Now.</a></h2><div class=\"row\"><div class=\"col-xs-12\"><div class=\"bottom-cat\"><span class=\"sej-category boxed cat-label\">Category</span><a class=\"sej-category boxed green\" href=\"https://www.searchenginejournal.com/category/seo/\">SEO</a></div></div></div> <script type=\"application/ld+json\">{\n",
      "    \"@context\": \"http://schema.org\",\n",
      "    \"@type\": \"Article\",\n",
      "    \"@id\": \"https://www.searchenginejournal.com/search-engines/crawling-indexing/#article\",\n",
      "    \"mainEntityOfPage\": {\n",
      "        \"@type\": \"WebPage\",\n",
      "        \"@id\": \"https://www.searchenginejournal.com/search-engines/crawling-indexing/#webpage\",\n",
      "        \"url\": \"https://www.searchenginejournal.com/search-engines/crawling-indexing/\",\n",
      "        \"isPartOf\": {\n",
      "            \"@type\": \"WebSite\",\n",
      "            \"@id\": \"https://www.searchenginejournal.com/#website\",\n",
      "            \"url\": \"https://www.searchenginejournal.com\",\n",
      "            \"name\": \"Search Engine Journal\"\n",
      "        }\n",
      "    },\n",
      "    \"headline\": \"How Search Engines Crawl &#038; Index: Everything You Need to Know\",\n",
      "    \"author\": {\n",
      "        \"@type\": \"Person\",\n",
      "        \"@id\": \"https://www.searchenginejournal.com/author/dave-davies/#schema-author\",\n",
      "        \"url\": \"https://www.searchenginejournal.com/author/dave-davies/\",\n",
      "        \"name\": \"Dave Davies\",\n",
      "        \"image\": {\n",
      "            \"@type\": \"ImageObject\",\n",
      "            \"@id\": \"https://www.searchenginejournal.com/author/dave-davies/#author-image\",\n",
      "            \"url\": \"https://cdn.searchenginejournal.com/wp-content/uploads/2019/03/dave-davies-headshot-365x400.jpg\",\n",
      "            \"caption\": \"Dave Davies\"\n",
      "        },\n",
      "        \"jobTitle\": \"CEO at Beanstalk Internet Marketing, Inc.\",\n",
      "        \"description\": \"Dave Davies founded Beanstalk Internet Marketing, Inc. in 2004 after working in the industry for 3 years and is its active CEO. He is a well-published author, host of a weekly radio show on Internet Marketing and has spoken on the subject of organic SEO at a number of conferences. Dave writes regularly on Beanstalk's blog and is a monthly contributor here on Search Engine Journal.\",\n",
      "        \"sameAs\": [\n",
      "            \"https://twitter.com/beanstalkim\",\n",
      "            \"https://www.linkedin.com/in/daveatbeanstalkim\"\n",
      "        ]\n",
      "    },\n",
      "    \"datePublished\": \"2019-10-08T10:45:38-04:00\",\n",
      "    \"url\": \"https://www.searchenginejournal.com/search-engines/crawling-indexing/\",\n",
      "    \"image\": [\n",
      "        {\n",
      "            \"@type\": \"ImageObject\",\n",
      "            \"@id\": \"https://www.searchenginejournal.com/search-engines/crawling-indexing/#post-image\",\n",
      "            \"url\": \"https://cdn.searchenginejournal.com/wp-content/uploads/2019/10/featured-image-how-search-engines-work.jpg\",\n",
      "            \"width\": 1600,\n",
      "            \"height\": 840\n",
      "        }\n",
      "    ],\n",
      "    \"publisher\": {\n",
      "        \"@type\": \"Organization\",\n",
      "        \"@id\": \"https://www.searchenginejournal.com/#organization\",\n",
      "        \"url\": \"https://www.searchenginejournal.com\",\n",
      "        \"name\": \"Search Engine Journal\",\n",
      "        \"logo\": [\n",
      "            {\n",
      "                \"@type\": \"ImageObject\",\n",
      "                \"@id\": \"https://www.searchenginejournal.com/#logo\",\n",
      "                \"url\": \"https://cdn.searchenginejournal.com/wp-content/themes/sej14/images/sej-logo.png\",\n",
      "                \"width\": 230,\n",
      "                \"height\": 60\n",
      "            }\n",
      "        ],\n",
      "        \"foundingDate\": \"2003\",\n",
      "        \"sameAs\": [\n",
      "            \"https://twitter.com/sejournal\",\n",
      "            \"https://www.facebook.com/SearchEngineJournal\",\n",
      "            \"https://www.linkedin.com/company/search-engine-journal\",\n",
      "            \"https://www.youtube.com/c/searchenginejournal\",\n",
      "            \"https://www.reddit.com/user/SearchEngineJournal\",\n",
      "            \"http://www.pinterest.com/sejournal/\"\n",
      "        ]\n",
      "    },\n",
      "    \"description\": \"Want search engines to find your new and updated content faster? Here are four ways to do it.\",\n",
      "    \"dateModified\": \"2019-10-12T15:02:43-04:00\"\n",
      "}</script> </div></div></div></div></article><div class=\"sej-under-post sej-under-post_1\"><div class=\"clear floater  text-center ss_slot\"><div class=\"sej-unit post-below-unit max-w-100 inline\"><div id=\"SEJ_300x250_UnderPost\" class=\"sadslots\"></div><div class=\"avert-text text-center\"><span>ADVERTISEMENT</span></div></div></div><div class=\"row web-dwn\"><div class=\"dwn-col col-md-8\"><h3>Subscribe to <span class=\"green\">SEJ</span></h3><div class=\"row frm-2-f-3\"></div></div><div class=\"dwn-col col-md-4 text-center\"><img class=\"b-lazy h-auto\" src=\"data:image/svg+xml,%3Csvg%20xmlns=%22http://www.w3.org/2000/svg%22%20viewBox=%220%200%20233%20263%22%3E%3C/svg%3E\" data-src2=\"https://cdn.searchenginejournal.com/wp-content/themes/sej14/images-new/subscribe/newsletter-small2x.png\" data-src=\"https://cdn.searchenginejournal.com/wp-content/themes/sej14/images-new/subscribe/newsletter-small2x.png\" alt=\"Ebook\" width=\"233\" height=\"263\"></div></div><div class=\"media sej-media sej-fwriter bg-gray-light\"><div class=\"media-left\"><a class=\"sej-media-author\" href=\"https://www.searchenginejournal.com/author/dave-davies/\"><img class=\"avatar b-lazy img-circle  media-object\" src=\"https://cdn.searchenginejournal.com/wp-content/themes/sej14/images/placeholder.gif\" data-src=\"https://cdn.searchenginejournal.com/wp-content/uploads/2019/03/dave-davies-headshot-200x200.jpg\" data-src2=\"https://cdn.searchenginejournal.com/wp-content/uploads/2019/03/dave-davies-headshot-200x200.jpg\" alt=\"Dave Davies\" width=\"100\" height=\"100\"><noscript><img  alt=\"Dave Davies\"  height=\"100\" width=\"100\" src=\"https://cdn.searchenginejournal.com/wp-content/uploads/2019/03/dave-davies-headshot-100x100.jpg\"/></noscript>            </a><div class=\"sej-social-links text-center\"><ul class=\"list-unstyled clearfix inline\"><li><a aria-label=\"twitter\" rel=\"noopener\" target=\"_blank\" onclick=\"__gaTracker('send', 'event', 'Author Profile Clicks', 'Icons', 'twitter');\" class=\"twitter-color \" href=\"https://twitter.com/beanstalkim\"><i class=\"fa fa-twitter\"></i></a></li><li><a aria-label=\"linkedin\" rel=\"noopener\" target=\"_blank\" onclick=\"__gaTracker('send', 'event', 'Author Profile Clicks', 'Icons', 'linkedin');\" class=\"linkedin-color \" href=\"https://www.linkedin.com/in/daveatbeanstalkim\"><i class=\"fa fa-linkedin\"></i></a></li></ul></div></div><div class=\"media-body\"><h2 class=\"sej-media-atitle\"><a href=\"https://www.searchenginejournal.com/author/dave-davies/\">Dave Davies                </a></h2><div class=\"sej-media-astatus\">CEO at <a rel=\"nofollow noopener\" href=\"https://beanstalkim.com/\" onclick=\"__gaTracker('send', 'event', 'Author Profile Clicks', 'Icons', 'company');\">Beanstalk Internet Marketing, Inc.</a></div><p>Dave Davies founded Beanstalk Internet Marketing, Inc. in 2004 after working in the industry for 3 years and is its ... <span class=\"read-more\"><a href=\"https://www.searchenginejournal.com/author/dave-davies/\">[Read full bio]</a></span></p></div></div><div class=\"sej-banner-section text-center ss_slot\"><div class=\"sej-unit text-center\"><div id=\"SEJ_MediaNet_Unit\" class=\"sadslots\"></div></div><div class=\"avert-text text-center\"><span>ADVERTISEMENT</span></div></div><div class=\"yarpp-related\"><ul class=\"sej-tabs-nav clearfix\"><li><span class=\"sej-tab-active\">Related Posts</span></li></ul><div class=\"row\"><div class=\"col-sm-4\"><article><div class=\"media sej-related\"><div class=\"media-left\"><a class=\"sej-thumb\" href=\"https://www.searchenginejournal.com/how-search-engines-display-search-results/301719/\" onclick=\"__gaTracker('send', 'event', 'Related Post Click', 'https://www.searchenginejournal.com/search-engines/crawling-indexing/', 'https://www.searchenginejournal.com/how-search-engines-display-search-results/301719/');\"><img class=\"b-lazy  loopthumb \" src=\"data:image/svg+xml,%3Csvg%20xmlns=%22http://www.w3.org/2000/svg%22%20viewBox=%220%200%20276%20244%22%3E%3C/svg%3E\" data-src=\"https://cdn.searchenginejournal.com/wp-content/uploads/2019/04/serp-layout-featured-552x488.jpg\" data-src2=\"https://cdn.searchenginejournal.com/wp-content/uploads/2019/04/serp-layout-featured-552x488.jpg\" alt=\"How Search Engines Display Search Results\" width=\"276\" height=\"244\"><noscript><img class=\"loopthumb \" src=\"https://cdn.searchenginejournal.com/wp-content/uploads/2019/04/serp-layout-featured-276x244.jpg\" width=\"276\" height=\"244\" alt=\"How Search Engines Display Search Results\" /></noscript></a></div><div class=\"media-body\"><h2 class=\"sej-rtitle\"><a class=\"sej-thumb\" href=\"https://www.searchenginejournal.com/how-search-engines-display-search-results/301719/\" onclick=\"__gaTracker('send', 'event', 'Related Post Click', 'https://www.searchenginejournal.com/search-engines/crawling-indexing/', 'https://www.searchenginejournal.com/how-search-engines-display-search-results/301719/');\">How Search Engines Display Search Results                        </a></h2></div></div></article></div><div class=\"col-sm-4\"><article><div class=\"media sej-related\"><div class=\"media-left\"><a class=\"sej-thumb\" href=\"https://www.searchenginejournal.com/how-search-engines-rank-pages/298447/\" onclick=\"__gaTracker('send', 'event', 'Related Post Click', 'https://www.searchenginejournal.com/search-engines/crawling-indexing/', 'https://www.searchenginejournal.com/how-search-engines-rank-pages/298447/');\"><img class=\"b-lazy  loopthumb \" src=\"data:image/svg+xml,%3Csvg%20xmlns=%22http://www.w3.org/2000/svg%22%20viewBox=%220%200%20276%20244%22%3E%3C/svg%3E\" data-src=\"https://cdn.searchenginejournal.com/wp-content/uploads/2019/03/sej-how-ran-featured-552x488.jpg\" data-src2=\"https://cdn.searchenginejournal.com/wp-content/uploads/2019/03/sej-how-ran-featured-552x488.jpg\" alt=\"How Search Engines Rank Pages\" width=\"276\" height=\"244\"><noscript><img class=\"loopthumb \" src=\"https://cdn.searchenginejournal.com/wp-content/uploads/2019/03/sej-how-ran-featured-276x244.jpg\" width=\"276\" height=\"244\" alt=\"How Search Engines Rank Pages\" /></noscript></a></div><div class=\"media-body\"><h2 class=\"sej-rtitle\"><a class=\"sej-thumb\" href=\"https://www.searchenginejournal.com/how-search-engines-rank-pages/298447/\" onclick=\"__gaTracker('send', 'event', 'Related Post Click', 'https://www.searchenginejournal.com/search-engines/crawling-indexing/', 'https://www.searchenginejournal.com/how-search-engines-rank-pages/298447/');\">How Search Engines Rank Pages                        </a></h2></div></div></article></div><div class=\"col-sm-4\"><article><div class=\"media sej-related\"><div class=\"media-left\"><a class=\"sej-thumb\" href=\"https://www.searchenginejournal.com/how-search-engines-answer-questions/306997/\" onclick=\"__gaTracker('send', 'event', 'Related Post Click', 'https://www.searchenginejournal.com/search-engines/crawling-indexing/', 'https://www.searchenginejournal.com/how-search-engines-answer-questions/306997/');\"><img class=\"b-lazy  loopthumb \" src=\"data:image/svg+xml,%3Csvg%20xmlns=%22http://www.w3.org/2000/svg%22%20viewBox=%220%200%20276%20244%22%3E%3C/svg%3E\" data-src=\"https://cdn.searchenginejournal.com/wp-content/uploads/2019/05/sej-featured-552x488.jpg\" data-src2=\"https://cdn.searchenginejournal.com/wp-content/uploads/2019/05/sej-featured-552x488.jpg\" alt=\"How Search Engines Answer Questions\" width=\"276\" height=\"244\"><noscript><img class=\"loopthumb \" src=\"https://cdn.searchenginejournal.com/wp-content/uploads/2019/05/sej-featured-276x244.jpg\" width=\"276\" height=\"244\" alt=\"How Search Engines Answer Questions\" /></noscript></a></div><div class=\"media-body\"><h2 class=\"sej-rtitle\"><a class=\"sej-thumb\" href=\"https://www.searchenginejournal.com/how-search-engines-answer-questions/306997/\" onclick=\"__gaTracker('send', 'event', 'Related Post Click', 'https://www.searchenginejournal.com/search-engines/crawling-indexing/', 'https://www.searchenginejournal.com/how-search-engines-answer-questions/306997/');\">How Search Engines Answer Questions                        </a></h2></div></div></article></div></div></div></div></div><div class=\"col-md-4 sej-sidebar text-center\"><div class=\"sej-aside sej-aside_1\"><aside class=\"sej-widget ss_slot absolute-banner mh250  dnone-768-1024 banner-1\" id=\"SEJ_300x250_Sidebar0-parent\"><div class=\"sej-widget-container text-center s_x\" id=\"SEJ_300x250_Sidebar0-cont\"><div data-slot=\"SEJ_300x250_Sidebar0\" id=\"SEJ_300x250_Sidebar0\" class=\"s_x\" data-google-query-id=\"CJuiq8DwyucCFdedvQodmQIDkg\">  <div id=\"google_ads_iframe_/1055389/SEJ_300x250_Sidebar0_0__container__\" style=\"border: 0pt none;\"><iframe id=\"google_ads_iframe_/1055389/SEJ_300x250_Sidebar0_0\" title=\"3rd party ad content\" name=\"google_ads_iframe_/1055389/SEJ_300x250_Sidebar0_0\" scrolling=\"no\" marginwidth=\"0\" marginheight=\"0\" style=\"border: 0px none; vertical-align: bottom;\" srcdoc=\"\" sandbox=\"allow-forms allow-pointer-lock allow-popups allow-popups-to-escape-sandbox allow-same-origin allow-scripts allow-top-navigation-by-user-activation\" data-google-container-id=\"7\" data-load-complete=\"true\" width=\"300\" height=\"250\" frameborder=\"0\"></iframe></div></div><div class=\"avert-text aside-text\">Advertisement</div></div></aside><aside class=\"sej-widget dnone-768-1024\"><div class=\"sej-aside-form sej-subscribe-form\"><h3 class=\"sej-wtitle\">Subscribe to SEJ</h3><p class=\"aside-form-massage\">Get our daily newsletter from SEJ's Founder <a href=\"/author/lorenbaker/\">Loren Baker</a> about the latest news in the industry!</p><form class=\"sej2017_validate_form \" method=\"post\" accept-charset=\"UTF-8\" action=\"/\" id=\"mc-embedded-subscribe-form\" name=\"mc-embedded-subscribe-form\" target=\"_blank\"><div class=\"relative clearbt input-box form-group\"><i class=\"fa fa-user inp-ico\"></i><input aria-label=\"First Name\" autocomplete=\"given-name\" placeholder=\"First Name*\" class=\"form-control sej_validate sej_requaired\" type=\"text\" name=\"custom_FNAME\"><div class=\"sej_error_message\"></div></div><div class=\"relative input-box form-group clearbt\"><i class=\"fa fa-user inp-ico\"></i><input aria-label=\"Last Name\" placeholder=\"Last Name*\" autocomplete=\"family-name\" class=\"form-control sej_validate sej_requaired\" type=\"text\" name=\"custom_LNAME\"><div class=\"sej_error_message\"></div></div><div class=\"relative input-box form-group clearbt\"><i class=\"fa fa-envelope-o inp-ico\"></i><input aria-label=\"Email\" autocomplete=\"email\" placeholder=\"Email*\" class=\"form-control  sej_validate sej_requaired sej_email\" type=\"text\" name=\"email\"><div class=\"sej_error_message\"></div></div><div class=\"relative input-box form-group clearbt margin-bottom-0\"><input class=\"submit btn btn-block sbs-btn icon-input-btn\" type=\"submit\" name=\"subscribe\" value=\"SUBSCRIBE\" data-ga-sub=\"Sidebar\"></div><div class=\"sej_final_message dnone\"></div><div style=\"display: none;\"><input type=\"text\" class=\"listid-form\" value=\"master\"><input type=\"text\" class=\"reduri-form\" value=\"/already-subscribed/?utm_source=subscribe&amp;utm_medium=subscribe-sidebar&amp;utm_campaign=subscribe-sidebar\"><input type=\"text\" class=\"reduri-form-success\" value=\"/thanks-for-subscribing/?utm_source=subscribe&amp;utm_medium=subscribe-sidebar&amp;utm_campaign=subscribe-sidebar\"><input type=\"hidden\" name=\"custom_WSOURCE\" class=\"wsource\" value=\"Sidebar\"><input type=\"hidden\" class=\"sej_alter_sub\" value=\"http://eepurl.com/c1mfS9\"></div></form></div></aside><aside class=\"sej-widget ss_slot dnone-single mh250\" id=\"SEJ_300x250_Sidebar1-parent\"><div class=\"sej-widget-container text-center s_x\" id=\"SEJ_300x250_Sidebar1-cont\"><div data-slot=\"SEJ_300x250_Sidebar1\" id=\"SEJ_300x250_Sidebar1\" class=\"s_x\" data-google-query-id=\"CIa4rqnwyucCFcwCXAoduM8KUQ\">  <div id=\"google_ads_iframe_/1055389/SEJ_300x250_Sidebar1_0__container__\" style=\"border: 0pt none;\"><iframe id=\"google_ads_iframe_/1055389/SEJ_300x250_Sidebar1_0\" title=\"3rd party ad content\" name=\"google_ads_iframe_/1055389/SEJ_300x250_Sidebar1_0\" scrolling=\"no\" marginwidth=\"0\" marginheight=\"0\" style=\"border: 0px none; vertical-align: bottom;\" srcdoc=\"\" sandbox=\"allow-forms allow-pointer-lock allow-popups allow-popups-to-escape-sandbox allow-same-origin allow-scripts allow-top-navigation-by-user-activation\" data-google-container-id=\"3\" data-load-complete=\"true\" width=\"300\" height=\"250\" frameborder=\"0\"></iframe></div></div><div class=\"avert-text aside-text\">Advertisement</div></div></aside><aside class=\"widget-wrap dnone-768-1024 2x_s\"><div id=\"sidebar_2x\" class=\"ss_slot\"><div id=\"SEJ_300x250_Sidebar6-cont\" class=\"sidebar6 text-center mh600\"><div data-slot=\"SEJ_300x250_Sidebar6\" id=\"SEJ_300x250_Sidebar6\"> <script>googletag.cmd.push(function() {\n",
      "                    googletag.display('SEJ_300x250_Sidebar6');\n",
      "                       \n",
      "                });</script> </div><div class=\"avert-text aside-text\">Advertisement</div></div><div id=\"SEJ_300x250_Sidebar6_2-cont\" class=\"sidebar6 text-center margin-top-40 mh600\"><div class=\"sadslots\" data-slot=\"SEJ_300x250_Sidebar6\" id=\"SEJ_300x250_Sidebar6_2\"></div><div class=\"avert-text aside-text\">Advertisement</div></div></div><div class=\"sej-widget clearfix\"><div class=\"sej-widget-box\"><div class=\"wdg-head\"><a title=\"Read More\" target=\"_blank\" class=\"sej-wimage\" href=\"https://www.searchenginejournal.com/semrush-guide-to-mobile-seo/344365/?utm_source=website&amp;utm_medium=sidebar&amp;utm_campaign=sponsored-post\" onclick=\"__gaTracker('send', 'event', 'Right Sidebar Banners', 'Partner Stories', 'https://www.searchenginejournal.com/semrush-guide-to-mobile-seo/344365/?utm_source=website&amp;utm_medium=sidebar&amp;utm_campaign=sponsored-post');\"><img class=\"b-lazy b-loaded\" src=\"https://cdn.searchenginejournal.com/wp-content/uploads/2020/02/greg2x-5e3aa201555dc.jpg\" data-src=\"https://cdn.searchenginejournal.com/wp-content/uploads/2020/02/greg2x-5e3aa201555dc.jpg\" data-src2=\"https://cdn.searchenginejournal.com/wp-content/uploads/2020/02/greg2x-5e3aa201555dc.jpg\" alt=\"A Definitive Guide to Mobile SEO\" data-was-processed=\"true\" width=\"336\" height=\"190\"><noscript><img class=\"img-responsive\"\n",
      "src=\"https://cdn.searchenginejournal.com/wp-content/uploads/2020/02/greg-5e3aa1fe2a07f.jpg\"\n",
      "width=\"336\"\n",
      "height=\"190\"\n",
      "alt=\"A Definitive Guide to Mobile SEO\"/></noscript></a></div><div class=\"wdg-body\"><h2 class=\"sej-wptitle\"><a title=\"Read More\" target=\"_blank\" class=\"sej-wimage\" href=\"https://www.searchenginejournal.com/semrush-guide-to-mobile-seo/344365/?utm_source=website&amp;utm_medium=sidebar&amp;utm_campaign=sponsored-post\" onclick=\"__gaTracker('send', 'event', 'Right Sidebar Banners', 'Partner Stories', 'https://www.searchenginejournal.com/semrush-guide-to-mobile-seo/344365/?utm_source=website&amp;utm_medium=sidebar&amp;utm_campaign=sponsored-post');\">A Definitive Guide to Mobile SEO                            </a></h2></div></div></div></aside><aside class=\"sej-widget ss_slot dnone-768-1024 mh250\" id=\"SEJ_300x250_Sidebar3-parent\"><div class=\"sej-widget-container text-center s_x\" id=\"SEJ_300x250_Sidebar3-cont\"><div data-slot=\"SEJ_300x250_Sidebar3\" id=\"SEJ_300x250_Sidebar3\" class=\"s_x\" data-google-query-id=\"CLCSrqnwyucCFQ8xlgodukwD8w\">  <div id=\"google_ads_iframe_/1055389/SEJ_300x250_Sidebar3_0__container__\" style=\"border: 0pt none;\"><iframe id=\"google_ads_iframe_/1055389/SEJ_300x250_Sidebar3_0\" title=\"3rd party ad content\" name=\"google_ads_iframe_/1055389/SEJ_300x250_Sidebar3_0\" scrolling=\"no\" marginwidth=\"0\" marginheight=\"0\" style=\"border: 0px none; vertical-align: bottom;\" srcdoc=\"\" sandbox=\"allow-forms allow-pointer-lock allow-popups allow-popups-to-escape-sandbox allow-same-origin allow-scripts allow-top-navigation-by-user-activation\" data-google-container-id=\"2\" data-load-complete=\"true\" width=\"300\" height=\"250\" frameborder=\"0\"></iframe></div></div><div class=\"avert-text aside-text\">Advertisement</div></div></aside><aside class=\"widget-wrap dnone-768-1024\"><div class=\"sej-widget clearfix\"><div class=\"sej-widget-box\"><div class=\"wdg-head\"><a title=\"Register Now\" target=\"_blank\" class=\"sej-wimage\" href=\"https://www.searchenginejournal.com/how-to-outsmart-your-competitors-win-market-share-using-location-data/?utm_source=website&amp;utm_medium=sidebar-webinar-banner&amp;utm_campaign=12-Feb-2020-webinar\" onclick=\"__gaTracker('send', 'event', 'Right Sidebar Banners', 'ThinkTank Webinar', 'https://www.searchenginejournal.com/how-to-outsmart-your-competitors-win-market-share-using-location-data/?utm_source=website&amp;utm_medium=sidebar-webinar-banner&amp;utm_campaign=12-Feb-2020-webinar');\"><img class=\"b-lazy b-loaded\" src=\"https://cdn.searchenginejournal.com/wp-content/uploads/2020/01/burning-car-2x-5e257deda31ef.jpg\" data-src=\"https://cdn.searchenginejournal.com/wp-content/uploads/2020/01/burning-car-2x-5e257deda31ef.jpg\" data-src2=\"https://cdn.searchenginejournal.com/wp-content/uploads/2020/01/burning-car-2x-5e257deda31ef.jpg\" alt=\"How to Outsmart Your Competitors &amp; Win Market Share Using Location Data\" data-was-processed=\"true\" width=\"336\" height=\"190\"><noscript><img class=\"img-responsive\"\n",
      "src=\"https://cdn.searchenginejournal.com/wp-content/uploads/2020/01/burning-car-1x-5e257dea1da5a.jpg\"\n",
      "width=\"336\"\n",
      "height=\"190\"\n",
      "alt=\"How to Outsmart Your Competitors &amp; Win Market Share Using Location Data\"/></noscript></a></div><div class=\"wdg-body\"><h2 class=\"sej-wptitle\"><a title=\"Register Now\" target=\"_blank\" class=\"sej-wimage\" href=\"https://www.searchenginejournal.com/how-to-outsmart-your-competitors-win-market-share-using-location-data/?utm_source=website&amp;utm_medium=sidebar-webinar-banner&amp;utm_campaign=12-Feb-2020-webinar\" onclick=\"__gaTracker('send', 'event', 'Right Sidebar Banners', 'ThinkTank Webinar', 'https://www.searchenginejournal.com/how-to-outsmart-your-competitors-win-market-share-using-location-data/?utm_source=website&amp;utm_medium=sidebar-webinar-banner&amp;utm_campaign=12-Feb-2020-webinar');\">How to Outsmart Your Competitors &amp; Win Market Share Using Location Data                            </a></h2><span class=\"sej-wdate\">Wed, February 12 at 2 p.m. ET.</span></div></div></div></aside><aside class=\"sej-widget ss_slot dnone-768-1024 mh250\" id=\"SEJ_300x250_Sidebar4-parent\"><div class=\"sej-widget-container text-center s_x\" id=\"SEJ_300x250_Sidebar4-cont\"><div data-slot=\"SEJ_300x250_Sidebar4\" id=\"SEJ_300x250_Sidebar4\" class=\"\" data-google-query-id=\"CNzv4K3wyucCFcRxvQodGJYJbw\"><div id=\"google_ads_iframe_/1055389/SEJ_300x250_Sidebar4_0__container__\" style=\"border: 0pt none;\"><iframe id=\"google_ads_iframe_/1055389/SEJ_300x250_Sidebar4_0\" title=\"3rd party ad content\" name=\"google_ads_iframe_/1055389/SEJ_300x250_Sidebar4_0\" scrolling=\"no\" marginwidth=\"0\" marginheight=\"0\" style=\"border: 0px none; vertical-align: bottom;\" srcdoc=\"\" sandbox=\"allow-forms allow-pointer-lock allow-popups allow-popups-to-escape-sandbox allow-same-origin allow-scripts allow-top-navigation-by-user-activation\" data-google-container-id=\"4\" data-load-complete=\"true\" width=\"300\" height=\"250\" frameborder=\"0\"></iframe></div></div><div class=\"avert-text aside-text\">Advertisement</div></div></aside><aside class=\"widget-wrap \"><div class=\"sej-widget clearfix\"><div class=\"sej-widget-box\"><div class=\"wdg-head\"><a title=\"Download Ebook\" target=\"_blank\" class=\"sej-wimage\" href=\"https://www.searchenginejournal.com/link-building-guide/?utm_source=website&amp;utm_medium=sidebar-ebook-banner&amp;utm_campaign=link-building-guide-2020\" onclick=\"__gaTracker('send', 'event', 'Right Sidebar Banners', 'Ebook', 'https://www.searchenginejournal.com/link-building-guide/?utm_source=website&amp;utm_medium=sidebar-ebook-banner&amp;utm_campaign=link-building-guide-2020');\"><img class=\"b-lazy b-loaded\" src=\"https://cdn.searchenginejournal.com/wp-content/uploads/2020/02/lb-guide-2-5e42c1e35ba7f.jpg\" data-src=\"https://cdn.searchenginejournal.com/wp-content/uploads/2020/02/lb-guide-2-5e42c1e35ba7f.jpg\" data-src2=\"https://cdn.searchenginejournal.com/wp-content/uploads/2020/02/lb-guide-2-5e42c1e35ba7f.jpg\" alt=\"Link Building Guide: How to Acquire &amp; Earn Links That Boost Your SEO\" data-was-processed=\"true\" width=\"336\" height=\"190\"><noscript><img class=\"img-responsive\"\n",
      "src=\"https://cdn.searchenginejournal.com/wp-content/uploads/2020/02/lb-guide-1-5e42c1e010d3a.jpg\"\n",
      "width=\"336\"\n",
      "height=\"190\"\n",
      "alt=\"Link Building Guide: How to Acquire &amp; Earn Links That Boost Your SEO\"/></noscript></a></div><div class=\"wdg-body\"><h2 class=\"sej-wptitle\"><a title=\"Download Ebook\" target=\"_blank\" class=\"sej-wimage\" href=\"https://www.searchenginejournal.com/link-building-guide/?utm_source=website&amp;utm_medium=sidebar-ebook-banner&amp;utm_campaign=link-building-guide-2020\" onclick=\"__gaTracker('send', 'event', 'Right Sidebar Banners', 'Ebook', 'https://www.searchenginejournal.com/link-building-guide/?utm_source=website&amp;utm_medium=sidebar-ebook-banner&amp;utm_campaign=link-building-guide-2020');\">Link Building Guide: How to Acquire &amp; Earn Links That Boost Your SEO                            </a></h2></div></div></div></aside><aside class=\"sej-widget ss_slot  dnone-single text-center\" id=\"SEJ_300x250_Sidebar2-parent\"><div class=\"sej-widget-container text-center w720\" id=\"SEJ_300x250_Sidebar2-cont\"><div class=\"avert-text aside-text\">Advertisement</div><div data-slot=\"SEJ_300x250_Sidebar2\" id=\"SEJ_300x250_Sidebar2\" class=\"sticky_s\" data-google-query-id=\"CMOzva7wyucCFcJ6iwodOVQH2A\"><div id=\"google_ads_iframe_/1055389/SEJ_300x250_Sidebar2_0__container__\" style=\"border: 0pt none;\"><iframe id=\"google_ads_iframe_/1055389/SEJ_300x250_Sidebar2_0\" title=\"3rd party ad content\" name=\"google_ads_iframe_/1055389/SEJ_300x250_Sidebar2_0\" scrolling=\"no\" marginwidth=\"0\" marginheight=\"0\" style=\"border: 0px none; vertical-align: bottom;\" srcdoc=\"\" sandbox=\"allow-forms allow-pointer-lock allow-popups allow-popups-to-escape-sandbox allow-same-origin allow-scripts allow-top-navigation-by-user-activation\" data-google-container-id=\"6\" data-load-complete=\"true\" width=\"300\" height=\"250\" frameborder=\"0\"></iframe></div></div></div><div class=\"sej-widget-container margin-top-30 w720 text-center\" id=\"SEJ_300x250_Sidebar2_2-cont\"><div class=\"sticky_s\" id=\"SEJ_300x250_Sidebar2_2\" data-slot=\"SEJ_300x250_Sidebar2\" data-google-query-id=\"CLemu67wyucCFU7KvQodPocIcg\"><div id=\"google_ads_iframe_/1055389/SEJ_300x250_Sidebar2_1__container__\" style=\"border: 0pt none; display: inline-block; width: 300px; height: 250px;\"><iframe style=\"border: 0px none; vertical-align: bottom;\" src=\"https://tpc.googlesyndication.com/safeframe/1-0-37/html/container.html\" id=\"google_ads_iframe_/1055389/SEJ_300x250_Sidebar2_1\" title=\"3rd party ad content\" name=\"\" scrolling=\"no\" marginwidth=\"0\" marginheight=\"0\" data-is-safeframe=\"true\" data-google-container-id=\"5\" data-load-complete=\"true\" width=\"300\" height=\"250\" frameborder=\"0\"></iframe></div></div></div><div class=\"sej-widget-container margin-top-30 w720 text-center\" id=\"SEJ_300x250_Sidebar2_3-cont\"><div class=\"sadslots  sticky_s\" id=\"SEJ_300x250_Sidebar2_3\" data-slot=\"SEJ_300x250_Sidebar2\"></div></div><div class=\"sej-widget-container margin-top-30 w720 text-center\" id=\"SEJ_300x250_Sidebar2_4-cont\"><div class=\"sadslots  sticky_s\" id=\"SEJ_300x250_Sidebar2_4\" data-slot=\"SEJ_300x250_Sidebar2\"></div></div></aside></div></div></div><div class=\"row sej-banner-section dnone-single margin-top-40 ss_slot\"><div class=\"col-xs-12 text-center \"><div id=\"SEJ_728x90_Footer\" class=\"sadslots\"></div><div class=\"avert-text\">Advertisement</div></div></div><div class=\"goto-full ss_slot\"><a id=\"cis_next\"></a><span>Next Chapter        \t\t<i class=\"fa fa-chevron-down i-down\"></i></span></div><div id=\"wrapper_1\"></div><div id=\"wrapper_2\"></div><div id=\"wrapper_3\"></div></div><!-- .container sej-container #loop_parent --></main>\n"
     ]
    }
   ],
   "source": [
    "# url 37\n",
    "i = urls[36]\n",
    "#open_url(i)\n",
    "element = driver.find_element_by_css_selector('#sej-page-wrapper')\n",
    "source = element.get_attribute(\"outerHTML\")\n",
    "print(source)\n",
    "ad_type = \"better\"\n",
    "data.append({\"TYPE\" : ad_type, \"ad_code\" : source, \"URL\" : i})"
   ]
  },
  {
   "cell_type": "code",
   "execution_count": 357,
   "metadata": {
    "collapsed": true
   },
   "outputs": [
    {
     "name": "stdout",
     "output_type": "stream",
     "text": [
      "<div class=\"link-sect ss_slot dnone-1023\"><a rel=\"nofollow noopener\" title=\"Free Google Ads Report. Download for Free!\" data-ga-label=\"Nav_Bar\" data-tk=\"true\" class=\"nav-bar-cta sej_navlink tk_yes\" target=\"_blank\" href=\"https://www.adzooma.com/performance-report/?utm_source=SEJ&amp;utm_medium=display&amp;utm_campaign=Takeover&amp;utm_content=164x48\"><img alt=\"Free Google Ads Report. Download for Free!\" class=\"opt-image-render\" srcset=\"https://cdn.searchenginejournal.com/wp-content/uploads/2020/02/nav-2x-5e411e5e261d0.gif 1.5x\" src=\"https://cdn.searchenginejournal.com/wp-content/uploads/2020/02/nav-1x-5e411e5c9f7a6.gif\" width=\"164\" height=\"48\"></a> <script>var sej_navimg = 'https://cdn.searchenginejournal.com/wp-content/uploads/2020/02/nav-1x-5e411e5c9f7a6.gif';\n",
      "                            var sej_navimg2x = 'https://cdn.searchenginejournal.com/wp-content/uploads/2020/02/nav-2x-5e411e5e261d0.gif';\n",
      "                            var sejnav_href = 'https://www.adzooma.com/performance-report/?utm_source=SEJ&utm_medium=display&utm_campaign=Takeover&utm_content=164x48';\n",
      "                            \n",
      "                            var sej_nav_img_html =  '<img  alt=\"Free Google Ads Report. Download for Free!\" class=\"opt-image-render\" width=\"164\" height=\"48\"  srcset=\"'+sej_navimg2x+' 1.5x\" src=\"'+sej_navimg+'\" />';\n",
      "                            sej_nav_ban = document.getElementsByClassName( 'sej_navlink' );\n",
      "                            if( sej_nav_ban != null ){\n",
      "                           \t\tsetAttr( sej_nav_ban[0], 'href', sejnav_href );\n",
      "                            \tsej_nav_ban[0].innerHTML = sej_nav_img_html;\n",
      "                            \t\n",
      "                            }</script> </div>\n"
     ]
    }
   ],
   "source": [
    "# url 38\n",
    "i = urls[37]\n",
    "#open_url(i)\n",
    "element = driver.find_element_by_css_selector('.link-sect')\n",
    "source = element.get_attribute(\"outerHTML\")\n",
    "print(source)\n",
    "ad_type = \"better\"\n",
    "data.append({\"TYPE\" : ad_type, \"ad_code\" : source, \"URL\" : i})"
   ]
  },
  {
   "cell_type": "code",
   "execution_count": 360,
   "metadata": {
    "collapsed": true
   },
   "outputs": [
    {
     "name": "stdout",
     "output_type": "stream",
     "text": [
      "<aside class=\"sej-widget ss_slot absolute-banner mh250  dnone-768-1024 banner-1\" id=\"SEJ_300x250_Sidebar0-parent\"><div class=\"sej-widget-container text-center s_x\" id=\"SEJ_300x250_Sidebar0-cont\"><div data-slot=\"SEJ_300x250_Sidebar0\" id=\"SEJ_300x250_Sidebar0\" class=\"s_x\" data-google-query-id=\"CMi0mozxyucCFdiWvQod84MCTw\">  <div id=\"google_ads_iframe_/1055389/SEJ_300x250_Sidebar0_0__container__\" style=\"border: 0pt none;\"><iframe id=\"google_ads_iframe_/1055389/SEJ_300x250_Sidebar0_0\" title=\"3rd party ad content\" name=\"google_ads_iframe_/1055389/SEJ_300x250_Sidebar0_0\" scrolling=\"no\" marginwidth=\"0\" marginheight=\"0\" style=\"border: 0px none; vertical-align: bottom;\" srcdoc=\"\" sandbox=\"allow-forms allow-pointer-lock allow-popups allow-popups-to-escape-sandbox allow-same-origin allow-scripts allow-top-navigation-by-user-activation\" data-google-container-id=\"4\" data-load-complete=\"true\" width=\"300\" height=\"250\" frameborder=\"0\"></iframe></div></div><div class=\"avert-text aside-text\">Advertisement</div></div></aside>\n"
     ]
    }
   ],
   "source": [
    "# url 39\n",
    "i = urls[38]\n",
    "#open_url(i)\n",
    "element = driver.find_element_by_css_selector('#SEJ_300x250_Sidebar0-parent')\n",
    "source = element.get_attribute(\"outerHTML\")\n",
    "print(source)\n",
    "ad_type = \"better\"\n",
    "data.append({\"TYPE\" : ad_type, \"ad_code\" : source, \"URL\" : i})"
   ]
  },
  {
   "cell_type": "code",
   "execution_count": 366,
   "metadata": {
    "collapsed": true
   },
   "outputs": [
    {
     "name": "stdout",
     "output_type": "stream",
     "text": [
      "<aside class=\"sej-widget dnone-768-1024\"><div class=\"sej-aside-form sej-subscribe-form\"><h3 class=\"sej-wtitle\">Subscribe to SEJ</h3><p class=\"aside-form-massage\">Get our daily newsletter from SEJ's Founder <a href=\"/author/lorenbaker/\">Loren Baker</a> about the latest news in the industry!</p><form class=\"sej2017_validate_form \" method=\"post\" accept-charset=\"UTF-8\" action=\"/\" id=\"mc-embedded-subscribe-form\" name=\"mc-embedded-subscribe-form\" target=\"_blank\"><div class=\"relative clearbt input-box form-group\"><i class=\"fa fa-user inp-ico\"></i><input aria-label=\"First Name\" autocomplete=\"given-name\" placeholder=\"First Name*\" class=\"form-control sej_validate sej_requaired\" type=\"text\" name=\"custom_FNAME\"><div class=\"sej_error_message\"></div></div><div class=\"relative input-box form-group clearbt\"><i class=\"fa fa-user inp-ico\"></i><input aria-label=\"Last Name\" placeholder=\"Last Name*\" autocomplete=\"family-name\" class=\"form-control sej_validate sej_requaired\" type=\"text\" name=\"custom_LNAME\"><div class=\"sej_error_message\"></div></div><div class=\"relative input-box form-group clearbt\"><i class=\"fa fa-envelope-o inp-ico\"></i><input aria-label=\"Email\" autocomplete=\"email\" placeholder=\"Email*\" class=\"form-control  sej_validate sej_requaired sej_email\" type=\"text\" name=\"email\"><div class=\"sej_error_message\"></div></div><div class=\"relative input-box form-group clearbt margin-bottom-0\"><input class=\"submit btn btn-block sbs-btn icon-input-btn\" type=\"submit\" name=\"subscribe\" value=\"SUBSCRIBE\" data-ga-sub=\"Sidebar\"></div><div class=\"sej_final_message dnone\"></div><div style=\"display: none;\"><input type=\"text\" class=\"listid-form\" value=\"master\"><input type=\"text\" class=\"reduri-form\" value=\"/already-subscribed/?utm_source=subscribe&amp;utm_medium=subscribe-sidebar&amp;utm_campaign=subscribe-sidebar\"><input type=\"text\" class=\"reduri-form-success\" value=\"/thanks-for-subscribing/?utm_source=subscribe&amp;utm_medium=subscribe-sidebar&amp;utm_campaign=subscribe-sidebar\"><input type=\"hidden\" name=\"custom_WSOURCE\" class=\"wsource\" value=\"Sidebar\"><input type=\"hidden\" class=\"sej_alter_sub\" value=\"http://eepurl.com/c1mfS9\"></div></form></div></aside>\n"
     ]
    }
   ],
   "source": [
    "# url 40\n",
    "i = urls[39]\n",
    "#open_url(i)\n",
    "element = driver.find_element_by_css_selector('aside.sej-widget:nth-child(2)')\n",
    "source = element.get_attribute(\"outerHTML\")\n",
    "print(source)\n",
    "ad_type = \"better\"\n",
    "data.append({\"TYPE\" : ad_type, \"ad_code\" : source, \"URL\" : i})"
   ]
  },
  {
   "cell_type": "code",
   "execution_count": 369,
   "metadata": {
    "collapsed": true
   },
   "outputs": [
    {
     "name": "stdout",
     "output_type": "stream",
     "text": [
      "<div class=\"spy__buy-now-wrapper\">\n",
      "\t<div class=\"spy__btn spy__btn-skew spy\">\n",
      "\t\t<a class=\"spy__link\" href=\"http://www.disneyplus.com/welcome/bundle\" target=\"_blank\" data-category-name=\"\" data-amzn-asin=\"\" data-product-name=\"Disney+ Subscription \" data-price=\"$6.99/month \" rel=\"nofollow\">\n",
      "\t\t\t<span class=\"buy-now-cta\">Buy: </span>\n",
      "\t\t\t<span class=\"buy-now-title\" itemprop=\"name\">\n",
      "\t\t\t\tDisney+ Subscription \t\t\t</span>\n",
      "\t\t\t<span class=\"buy-now-price\" itemprop=\"price\">$6.99/month </span>\n",
      "\t\t</a>\n",
      "\t</div>\n",
      "\t<div class=\"spy__btn spy__btn-skew buy\">\n",
      "\t\t<a href=\"http://www.disneyplus.com/welcome/bundle\" class=\"spy__link\" target=\"_blank\" data-category-name=\"\" data-amzn-asin=\"\" data-product-name=\"Disney+ Subscription \" data-price=\"6.99/month \" rel=\"nofollow\">\n",
      "\t\t\t<span>buy it</span>\n",
      "\t\t</a>\n",
      "\t</div>\n",
      "</div>\n"
     ]
    }
   ],
   "source": [
    "# url 41\n",
    "i = urls[40]\n",
    "#open_url(i)\n",
    "element = driver.find_element_by_css_selector('div.spy__buy-now-wrapper:nth-child(54)')\n",
    "source = element.get_attribute(\"outerHTML\")\n",
    "print(source)\n",
    "ad_type = \"better\"\n",
    "data.append({\"TYPE\" : ad_type, \"ad_code\" : source, \"URL\" : i})"
   ]
  },
  {
   "cell_type": "code",
   "execution_count": 374,
   "metadata": {
    "collapsed": true
   },
   "outputs": [
    {
     "name": "stdout",
     "output_type": "stream",
     "text": [
      "<div id=\"secondary\" class=\"widget-area\" role=\"complementary\">\n",
      "\n",
      "\t\t<div class=\"right-sidebar\">\n",
      "\t\t\t<div class=\"ad ad-sidebar-top hide-on-mobile\">\n",
      "\t\t\t\t\t\t\t</div>\n",
      "\n",
      "\n",
      "\t\t\t<aside id=\"footwearnews_most_popular-3\" class=\"widget widget_footwearnews_most_popular\"><h5 class=\"widget-title\">Top Products</h5><ul id=\"most-popular\" data-tb-region=\"most-popular-module\">\t\t\t<li class=\"trending-item\" data-tb-region-item=\"\">\n",
      "\t\t\t\t<a href=\"https://spy.com/articles/health-wellness/diet-nutrition/best-pre-workout-supplements-powder-172631/\" data-event-tracking=\"\">\n",
      "\t\t\t\t\t<div class=\"trending-image-container\">\n",
      "\t\t\t\t\t\t<img src=\"https://pmcspy.files.wordpress.com/2019/06/shutterstock_1352125283.jpg?w=393&amp;h=260&amp;crop=1\">\n",
      "\t\t\t\t\t</div>\n",
      "\t\t\t\t<h2 class=\"title background-highlight\"><span class=\"title-text\">Taking These Pre-Workout Supplements Could Help You at the Gym</span></h2>\n",
      "\t\t\t\t</a><div class=\"percentage\" style=\"width:32%\"><a href=\"https://spy.com/articles/health-wellness/diet-nutrition/best-pre-workout-supplements-powder-172631/\" data-event-tracking=\"\">\n",
      "\t\t\t\t</a>\n",
      "\t\t\t</div></li>\n",
      "\t\t\t\t\t\t<li class=\"trending-item\" data-tb-region-item=\"\">\n",
      "\t\t\t\t<a href=\"https://spy.com/articles/lifestyle/gifts/best-gifts-for-her-208877/\" data-event-tracking=\"\">\n",
      "\t\t\t\t\t<div class=\"trending-image-container\">\n",
      "\t\t\t\t\t\t<img src=\"https://pmcspy.files.wordpress.com/2019/12/bev-session-1-282-edit-e1578938042122.jpg?w=393&amp;h=260&amp;crop=1\">\n",
      "\t\t\t\t\t</div>\n",
      "\t\t\t\t<h2 class=\"title background-highlight\"><span class=\"title-text\">26 Valentine's Day Gifts for Her That Aren't Flowers or Chocolate</span></h2>\n",
      "\t\t\t\t</a><div class=\"percentage\" style=\"width:19%\"><a href=\"https://spy.com/articles/lifestyle/gifts/best-gifts-for-her-208877/\" data-event-tracking=\"\">\n",
      "\t\t\t\t</a>\n",
      "\t\t\t</div></li>\n",
      "\t\t\t\t\t\t<li class=\"trending-item\" data-tb-region-item=\"\">\n",
      "\t\t\t\t<a href=\"https://spy.com/articles/grooming/hygiene/treat-prevent-gum-disease-160769/\" data-event-tracking=\"\">\n",
      "\t\t\t\t\t<div class=\"trending-image-container\">\n",
      "\t\t\t\t\t\t<img src=\"https://pmcspy.files.wordpress.com/2019/03/shutterstock_1328830685-1.jpg?w=393&amp;h=260&amp;crop=1\">\n",
      "\t\t\t\t\t</div>\n",
      "\t\t\t\t<h2 class=\"title background-highlight\"><span class=\"title-text\">Gum Disease Is Gross: Here's What You Should Do About It</span></h2>\n",
      "\t\t\t\t</a><div class=\"percentage\" style=\"width:17%\"><a href=\"https://spy.com/articles/grooming/hygiene/treat-prevent-gum-disease-160769/\" data-event-tracking=\"\">\n",
      "\t\t\t\t</a>\n",
      "\t\t\t</div></li>\n",
      "\t\t\t\t\t\t<li class=\"trending-item\" data-tb-region-item=\"\">\n",
      "\t\t\t\t<a href=\"https://spy.com/articles/lifestyle/entertainment/oscars-2020-goodie-bags-affordable-228695/\" data-event-tracking=\"\">\n",
      "\t\t\t\t\t<div class=\"trending-image-container\">\n",
      "\t\t\t\t\t\t<img src=\"https://pmcspy.files.wordpress.com/2020/02/shutterstock_editorial_9448690o.jpg?w=393&amp;h=260&amp;crop=1\">\n",
      "\t\t\t\t\t</div>\n",
      "\t\t\t\t<h2 class=\"title background-highlight\"><span class=\"title-text\">The Oscars 2020 Goodie Bag Items You Can (And Should) Buy for Yourself</span></h2>\n",
      "\t\t\t\t</a><div class=\"percentage\" style=\"width:16%\"><a href=\"https://spy.com/articles/lifestyle/entertainment/oscars-2020-goodie-bags-affordable-228695/\" data-event-tracking=\"\">\n",
      "\t\t\t\t</a>\n",
      "\t\t\t</div></li>\n",
      "\t\t\t\t\t\t<li class=\"trending-item\" data-tb-region-item=\"\">\n",
      "\t\t\t\t<a href=\"https://spy.com/articles/hacks/home-hacks/best-sectionals-buy-online-couch-amazon-home-173369/\" data-event-tracking=\"\">\n",
      "\t\t\t\t\t<div class=\"trending-image-container\">\n",
      "\t\t\t\t\t\t<img src=\"https://pmcspy.files.wordpress.com/2019/05/a1lil2l-jl._sl1500_.jpg?w=393&amp;h=260&amp;crop=1\">\n",
      "\t\t\t\t\t</div>\n",
      "\t\t\t\t<h2 class=\"title background-highlight\"><span class=\"title-text\">The Best Sectionals You Can Buy Online</span></h2>\n",
      "\t\t\t\t</a><div class=\"percentage\" style=\"width:13%\"><a href=\"https://spy.com/articles/hacks/home-hacks/best-sectionals-buy-online-couch-amazon-home-173369/\" data-event-tracking=\"\">\n",
      "\t\t\t\t</a>\n",
      "\t\t\t</div></li>\n",
      "\t\t\t</ul></aside>\n",
      "\t\t<div class=\"OUTBRAIN\" data-src=\"https://spy.com/articles/lifestyle/entertainment/disney-plus-launch-date-shows-208253\" data-widget-id=\"SB_1\" data-ob-template=\"Spy.com\" data-ob-mark=\"true\" data-browser=\"firefox\" data-os=\"macintel\" data-dynload=\"\" data-idx=\"1\" id=\"outbrain_widget_1\"><div class=\"ob-widget ob-strip-layout SB_1\" data-dynamic-truncate=\"true\">\n",
      "      <style type=\"text/css\">      /* dynamic basic css */\n",
      ".SB_1.ob-widget .ob-widget-items-container {margin:0;padding:0;}\n",
      ".SB_1.ob-widget .ob-widget-items-container .ob-clearfix {display:block;width:100%;float:none;clear:both;height:0px;line-height:0px;font-size:0px;}\n",
      ".SB_1.ob-widget .ob-widget-items-container.ob-multi-row {padding-top: 2%;}\n",
      ".SB_1.ob-widget .ob-dynamic-rec-container {position:relative;margin:0;padding;0;}\n",
      ".SB_1.ob-widget .ob-dynamic-rec-link,\n",
      ".SB_1.ob-widget .ob-dynamic-rec-link:hover {text-decoration:none;}\n",
      ".SB_1.ob-widget .ob-rec-image-container .ob-video-icon-container {position:absolute;left:0;height:30%;width:100%;text-align:center;top:35%;}\n",
      ".SB_1.ob-widget .ob-rec-image-container .ob-video-icon {display:inline-block;height:100%;float:none;opacity:0.7;transition: opacity 500ms;}\n",
      ".SB_1.ob-widget .ob-rec-image-container .ob-video-icon:hover {opacity:1;}\n",
      ".SB_1.ob-widget .ob_what{direction:ltr;clear:both;padding:5px 10px 0px;}\n",
      ".SB_1.ob-widget .ob_what a{color:#757575;font-size:11px;font-family:arial;text-decoration: none;}\n",
      ".SB_1.ob-widget .ob_what.ob-hover:hover a{text-decoration: underline;}\n",
      ".SB_1.ob-widget .ob_amelia,\n",
      ".SB_1.ob-widget .ob_logo,\n",
      ".SB_1.ob-widget .ob_feed_logo,\n",
      ".SB_1.ob-widget .ob_sfeed_logo,\n",
      ".SB_1.ob-widget .ob_text_logo{vertical-align:baseline !important;display:inline-block;vertical-align:text-bottom;padding:0px 5px;box-sizing:content-box;-moz-box-sizing:content-box;-webkit-box-sizing:content-box;}\n",
      ".SB_1.ob-widget .ob_amelia{background:url('https://widgets.outbrain.com/images/widgetIcons/ob_logo_16x16.png') no-repeat center top;width:16px;height:16px;margin-bottom:-2px;}\n",
      ".SB_1.ob-widget .ob_logo{background:url('https://widgets.outbrain.com/images/widgetIcons/ob_logo_67x12.png') no-repeat center top;width:67px;height:12px;}\n",
      ".SB_1.ob-widget .ob_text_logo{background:url('https://widgets.outbrain.com/images/widgetIcons/ob_text_logo_67x22.png') no-repeat center top;width:67px;height:22px;}\n",
      ".SB_1.ob-widget .ob_feed_logo{background:url('https://widgets.outbrain.com/images/widgetIcons/ob_feed_logo.png') no-repeat center top;width:86px;height:23px;}\n",
      ".SB_1.ob-widget .ob_sfeed_logo{background:url('https://widgets.outbrain.com/images/widgetIcons/ob_smartFeedLogo.min.svg') no-repeat center top;width:140px;height:21px;}\n",
      ".SB_1.ob-widget .ob_sphere_logo{background:url('https://widgets.outbrain.com/images/widgetIcons/ob_sphere.svg') no-repeat center top;width:93px;height:27px;vertical-align:baseline!important;display:inline-block;vertical-align:text-bottom;padding:0px 0px;box-sizing:content-box;-moz-box-sizing:content-box;-webkit-box-sizing:content-box;}\n",
      "@media only screen and (-webkit-min-device-pixel-ratio: 2),(min-resolution: 192dpi) {\n",
      ".SB_1.ob-widget .ob_amelia{background:url('https://widgets.outbrain.com/images/widgetIcons/ob_logo_16x16@2x.png') no-repeat center top;width:16px;height:16px;margin-bottom:-2px; background-size:16px 32px;}\n",
      ".SB_1.ob-widget .ob_logo{background:url('https://widgets.outbrain.com/images/widgetIcons/ob_logo_67x12@2x.png') no-repeat center top;width:67px;height:12px; background-size:67px 24px;}\n",
      ".SB_1.ob-widget .ob_text_logo{background:url('https://widgets.outbrain.com/images/widgetIcons/ob_text_logo_67x22@2x.png') no-repeat center top;width:67px;height:20px; background-size:67px 40px;}\n",
      ".SB_1.ob-widget .ob_feed_logo{background:url('https://widgets.outbrain.com/images/widgetIcons/ob_feed_logo@2x.png') no-repeat center top;width:86px;height:23px;background-size: 86px 23px;}\n",
      "}\n",
      "@media only screen and (max-width: 600px) {\n",
      ".SB_1.ob-widget .ob_sfeed_logo{width:90px;height:20px;background-size:90px 20px;}\n",
      "}\n",
      ".SB_1.ob-widget:hover .ob_amelia,\n",
      ".SB_1.ob-widget:hover .ob_logo,\n",
      ".SB_1.ob-widget:hover .ob_text_logo{background-position:center bottom;}\n",
      "  .SB_1.ob-widget .ob_what{text-align:right;}\n",
      "\n",
      ".SB_1.ob-widget .ob-rec-image-container .ob-rec-image {display:block;}\n",
      "    .SB_1.ob-widget .ob-rec-description {max-height:42.0px;overflow:hidden;font-weight:normal;}\n",
      "\n",
      "      /* dynamic strip css */\n",
      ".SB_1.ob-widget .ob-rec-image-container {position:relative;}\n",
      ".SB_1.ob-widget .ob-rec-image-container .ob-image-ratio {height:0px;line-height:0px;padding-top:56.39999999999999%;}\n",
      ".SB_1.ob-widget .ob-rec-image-container img.ob-rec-image {width:100%;position:absolute;top:0;bottom:0;left:0;right:0;opacity:0;transition:all 750ms;}\n",
      ".SB_1.ob-widget .ob-rec-image-container img.ob-show {opacity:1;}\n",
      ".SB_1.ob-widget .ob-rec-image-container .ob-rec-label {position:absolute;bottom:0px;left:0px;padding:0px 3px;background-color:#666;color:white;font-size:10px;line-height:15px;}\n",
      ".SB_1.ob-widget {width:auto;min-width:240px;}\n",
      ".SB_1.ob-widget .ob-dynamic-rec-container {display:inline-block;vertical-align:top;min-width:50px;width:100.0%;box-sizing:border-box;-moz-box-sizing:border-box;}\n",
      ".SB_1.ob-widget .ob-unit.ob-rec-brandName,\n",
      ".SB_1.ob-widget .ob-unit.ob-rec-brandLogo-container,\n",
      ".SB_1.ob-widget .ob-rec-brandLogoAndName {display:inline-block;}\n",
      ".SB_1.ob-widget .ob-rec-brandLogo {width:20px;height:20px;}\n",
      ".SB_1.ob-widget .ob-rec-brandName {vertical-align:bottom;}\n",
      ".SB_1.ob-widget .ob-unit.ob-rec-brandName {vertical-align:super;}\n",
      "  .SB_1.ob-widget .ob-widget-items-container {direction: ltr;}\n",
      "  .SB_1.ob-widget .ob-dynamic-rec-container {margin-left:0;}\n",
      "  .SB_1.ob-widget .ob-dynamic-rec-container ~ .ob-dynamic-rec-container {margin:0 0 0 2.3%; }\n",
      ".SB_1.ob-widget .ob-widget-header {direction:ltr; }\n",
      ".SB_1.ob-widget .ob-unit {display:block;}\n",
      ".SB_1.ob-widget .ob-rec-text {max-height:53.0px;overflow:hidden;}\n",
      ".SB_1.ob-widget .ob-rec-source {}\n",
      ".SB_1.ob-widget .ob-rec-description {overflow:hidden;}\n",
      ".SB_1.ob-widget .ob-rec-date {font-weight:bold;}\n",
      "\n",
      "\n",
      "\n",
      "\n",
      ".SB_1.ob-widget .ob-rec-description {max-height:42.0px;overflow:hidden;font-weight:normal;}\n",
      "\n",
      "\n",
      "      /* dynamic customized css */\n",
      "      \n",
      ".SB_1.ob-strip-layout .ob-widget-header {font-family:inherit;font-size:16px;color:#000;padding-bottom:0px;padding-top:0px;}\n",
      ".SB_1.ob-strip-layout .ob-dynamic-rec-container {max-width:250px;}\n",
      ".SB_1.ob-strip-layout .ob-rec-text {font-family:helvetica;color:#000;padding:0px 0 0px;text-align:left;line-height:1.25;font-size:14px;}\n",
      ".SB_1.ob-strip-layout .ob-rec-text:hover {color:#000;}\n",
      ".SB_1.ob-strip-layout .ob-rec-source {font-family:inherit;color:#888;padding:0px 0 0px;text-align:left;font-size:11px;}\n",
      ".SB_1.ob-strip-layout .ob-rec-date {font-family:inherit;color:#000;padding:0px 0 0px;text-align:left;font-size:11px;}\n",
      ".SB_1.ob-strip-layout .ob-rec-author {font-family:inherit;color:#000;padding:0px 0 0px;text-align:left;font-size:11px;}\n",
      ".SB_1.ob-strip-layout .ob-rec-description {font-family:helvetica;color:#000;margin:;text-align:none;font-size:11px;line-height:1.25;}\n",
      ".SB_1.ob-strip-layout .ob-rec-brandName {font-family:helvetica;padding:0px 0 0px;line-height:1.25;font-size:13px;font-weight:400;}\n",
      ".SB_1.ob-strip-layout .ob-rec-brandLogo {width:20px;height:20px;}    </style>\n",
      "    <style type=\"text/css\" class=\"ob-custom-css\">\n",
      "      .SB_1.ob-strip-layout .ob-widget-section.ob-first {\n",
      "\tborder-left: 1px solid #dddee4;\n",
      "\tborder-right: 1px solid #dddee4;\n",
      "    border-bottom: 1px solid #dddee4;\n",
      "    background-color: #fff;\n",
      "}\n",
      ".SB_1.ob-strip-layout .ob-widget-header {\n",
      "\ttext-align: center;\n",
      "\tborder-top: 4px solid #000;\n",
      "\tborder-bottom: 1px solid #dddee4;\n",
      "    margin: 10px 0 0 0;\n",
      "\tpadding: 10px 0;\n",
      "\tletter-spacing: 3.3px;\n",
      "\tfont-size: 16px;\n",
      "\tfont-family: helvetica;\n",
      "\tdisplay: flex;\n",
      "\tjustify-content: center;\n",
      "\talign-items: center;\n",
      "}\n",
      ".SB_1.ob-strip-layout .ob-widget-header span.obPMCLogo {\n",
      "\tbackground-image: url('https://s0.wp.com/wp-content/themes/vip/pmc-corporate/images/logo.png');\n",
      "\tdisplay: inline-block;\n",
      "\twidth: 108px;\n",
      "\theight: 14px;\n",
      "\tbackground-repeat: no-repeat;\n",
      "\tbackground-size: contain;\n",
      "}\n",
      ".SB_1.ob-widget .ob-widget-items-container {\n",
      "    direction: ltr;\n",
      "    display: flex;\n",
      "    justify-content: center;\n",
      "    width: 100%;\n",
      "    margin: 0 auto;\n",
      "    padding: 0;\n",
      "\n",
      "}\n",
      ".SB_1.ob-strip-layout .ob-dynamic-rec-container {\n",
      "    max-width: 100%;\n",
      "    padding: 15px;\n",
      "}\n",
      "\n",
      ".SB_1.ob-widget .ob-widget-items-container:not(:last-of-type) {\n",
      "\tborder-bottom: 1px solid #dddee4;\n",
      "}\n",
      ".SB_1.ob-widget.ob-strip-layout .ob-widget-items-container:first-of-type .ob-rec-brandLogo-container {\n",
      "\tmargin-top: 10px;\n",
      "}\n",
      ".SB_1.ob-widget .ob-widget-items-container.ob-multi-row{\n",
      "\tpadding-top: 0;}\n",
      "\n",
      "/*.SB_1.ob-strip-layout .ob-widget-items-container.ob-multi-row {\n",
      "\theight: 0;\n",
      "\tpadding-bottom: 32%;\n",
      "}*/\n",
      "\n",
      ".SB_1.ob-strip-layout .ob-widget-items-container.ob-multi-row .ob-unit.ob-rec-image-container {\n",
      "    float: left;\n",
      "    width: 75px;\n",
      "    height: 75px;\n",
      "    margin-right: 15px;\n",
      "    margin-top: 0;\n",
      "}\n",
      ".SB_1.ob-widget .ob-rec-image-container img.ob-rec-image {\n",
      "\theight: 100%;\n",
      "\tobject-fit: cover\n",
      "}\n",
      ".SB_1.ob-strip-layout .ob-rec-brandLogo {\n",
      "    width: auto;\n",
      "    height: auto;\n",
      "    object-fit: cover;\n",
      "    overflow: hidden;\n",
      "    margin: -3px 0 -3px 0;\n",
      "}\n",
      ".SB_1.ob-widget .ob-unit.ob-rec-brandLogo-container {\n",
      "\twidth: 100px;\n",
      "}\n",
      ".SB_1.ob-strip-layout .ob-dynamic-rec-container .ob-rec-source {\n",
      "\tmax-height: 15px;\n",
      "\toverflow: hidden;\n",
      "}\n",
      ".SB_1.ob-strip-layout .ob-dynamic-rec-container:first-of-type .ob-rec-source {\n",
      "\tmargin: 8px 0 0 5px;\n",
      "}\n",
      ".SB_1.ob-strip-layout .ob-dynamic-rec-container:not(:first-of-type) .ob-rec-source {\n",
      "\tmargin: 0 0 5px;\n",
      "}\n",
      "    </style>\n",
      "    <div class=\"ob-widget-section ob-first\">\n",
      "          \n",
      "  <div class=\"ob-widget-header\"><span class=\"obPMCLogo\"></span> TRENDING</div>\n",
      "            <ul class=\"ob-widget-items-container\">\n",
      "        <li class=\"ob-dynamic-rec-container ob-recIdx-0 ob-o\" data-pos=\"0\"><a class=\"ob-dynamic-rec-link \" onclick=\"\" href=\"http://www.goldderby.com/gallery/oscar-best-director-gallery-every-winner-academy-award-history/?utm_source=spy.com&amp;utm_medium=outbrain&amp;utm_campaign=internalmodule&amp;obOrigUrl=true\" onmousedown=\"this.href='https://traffic.outbrain.com/network/redir?p=26VjM3SwjSvGGevydpsFRWoOE2hi8yyqEQ5YuSruNMfAi2COTO_iE2umutJuFyMWIPdjYufoY-2gB6rqgZCgPy4wKUbnk3FSLq8oQkwRlM10Lu3Xp9UHi9o8NVHA6vI0PgM3vhIUn4Br-ulh_RIhjX-SGzXamP2xpxGT84zR34PEyHH40CYUT-rXY_FvXwjeV7GpPRQk4MeEdN26d1DjIp98E9o6r9c7ppYZfQTyxvSLlJqEQ9zU9GCjd7-93ZVN-nR1VzGOoXx0qeqjBe_uUUL6NZ55Z4hUm7HYfJjTysdGwGStXeNaWvNI7hH7P4e1Fdp0GdoEMlYct93pS-FFg1Ul9dTnAkjX_NSHbL0G7OfbdfAOtLHhc0Vnr7BR8DDPZ54b89KezmbMBERTOvqRMtA-2atyLWFQn6hMcJUFOl-F0GEZn4hljlxkjMGfi212SdSRumKsnVw1JorMwTUTYrlD5SJ4AtGWv361lg7rYBN3c7NKYciEEMEH8afUEyZaVrJN4yMAGavouLiQZZlmMZRZJzKiah7dT_3RpCiEtGqubH7w_21jBzqNK22bG22q6Sj4TO9KYPFBUC8RslaMRH5fFQclKvxiFlwMhBZhDefeGRlwx3Bj1OppsdvZJX8l-CGeEBgz2KsC3ockZZyAM0faojgo3A-DPJNr3yW2mXiDxTlijENEQ04PYMR2Q0J6cshaflFbYp9ag71Rm9pOHu5TSEECGeQr3KCt3ZUCiDKUv_CG_zOQZTJ38to5VoBLy0DZOkQSh0ZCUSb-5cW-fSBpd56vx_OVZ8rooxy8wRDg_8GlbrTpNz807GL1Kyzv7ECW_bHJQXKS4VBXcfCgT6Rl0GSrwgzn7tBrxVP0dtlpM5SMehtRaGpFk55qaZmncax1WvAaGgv3P46bkEF8XZT-lTuwQNAgrQLrzK4PGCoLDrCAZUEU40pixCttSIke0JSn9Y9i4cZSzlwOUY9k7zv4t4__WmrTDi3Cm-62W767tYfy7jET7dFpiHb7o1jo&amp;c=99156e00&amp;v=3';\" target=\"_blank\" rel=\"\">\n",
      "\n",
      "      <span class=\"ob-unit ob-rec-image-container\" data-type=\"Image\">\n",
      "  <div class=\"ob-image-ratio\"></div>\n",
      "    <img class=\"ob-rec-image ob-show\" aria-hidden=\"true\" src=\"https://images.outbrainimg.com/transform/v3/eyJpdSI6IjYzZGQ3MTRkZjJmNjk3YjQwMTRkZWUzOTc2MzFmNzZmYzQ5YzQ4ODIzODllMzliNGY4ZTMxODY0YTNjOWU3M2IiLCJ3IjoyNTAsImgiOjE0MSwiZCI6MS41LCJjcyI6MCwiZiI6MH0.jpg\" onload=\"this.className+=' ob-show'\" alt=\"Oscar Best Director Gallery: Every Winner In Academy Award History\" title=\"Oscar Best Director Gallery: Every Winner In Academy Award History\" onerror=\"OBR.extern.imageError(this)\">\n",
      "            </span>\n",
      "\n",
      "      <span class=\"ob-unit ob-rec-brandLogo-container\" data-type=\"BrandLogo\">\n",
      "    <img class=\"ob-unit ob-rec-brandLogo\" src=\"https://pmccorp2.files.wordpress.com/2018/03/goldderby_logo_outbrain.png\" alt=\"\" data-type=\"BrandLogo\">\n",
      "</span>\n",
      "          <span class=\"ob-unit ob-rec-text\" data-type=\"Title\" title=\"Oscar Best Director Gallery: Every Winner In Academy Award History\">Oscar Best Director Gallery: Every Winner In Academy Award History</span>\n",
      "    </a>\n",
      "</li></ul><ul class=\"ob-widget-items-container ob-multi-row ob-row-1\"><li class=\"ob-dynamic-rec-container ob-recIdx-1 ob-o\" data-pos=\"1\"><a class=\"ob-dynamic-rec-link \" onclick=\"\" href=\"http://www.goldderby.com/gallery/laura-dern-movies-15-greatest-films-ranked-from-worst-to-best/?utm_source=spy.com&amp;utm_medium=outbrain&amp;utm_campaign=internalmodule&amp;obOrigUrl=true\" onmousedown=\"this.href='https://traffic.outbrain.com/network/redir?p=ezrshldPPbGnRt9m-pG9CQEjiGrqFqkxEwPkM5dbayedAM27Jgsn6j5gVEXXggu-Pl5faFaksY5_6DDX7Z3n3fstw0vlklJFYfvcF4HSx7uZiEBw-bGMJPlUXTzHlaeAn2nDlvlCAcagVJFAGglsF3Xb-7cjo2K9y5x0yM-t3aZTxbZs1shxCjl0AkX0kgxYpCdijLOCECgzTDQz5QW-tMEiHLncXVUOG0v-UPR895h6Jhabs3LL__PT2hNXl6oixhAOoKSflwD0WPDolUqtr2XCwzhM_qC7Pr6veeR6eAhFpNxXhuDoOaX_Nm-TbmnqOX0N9PqtGi_WhqCSVH11imU_gKaTJAzUoHgaBfsmFQAD0rk_IVZbGyTpWG8hXCJzmS2hwQModCsWXOcX3dTIHKpsp5772v048MiOgciD6QmVA4ww6YAgpgTzfllQhrokxwmjBZzXOSXO1VyPyLqtpaV6T22T4c_7DS6hv1Cqo9z0J-8x2VILQC45KsorPS8TZqRGvfc2GDXQChEy3zijh67YGwfLE92zUyus54vnMGPglR7dJfcRuJipgUjIG5U57_hmlVWUG5jweLVwitjjJBUEl4cHYwYXjpyTo0xN6Kxe1Dz-xAymqb7ElczslUb6yShLyQ0cx2FkmJe6CQrl_yR4tZLKA0bifZKvkri7fu_f_dX83KsyuCEtQGwkiTCM0VFIE2Q6XmakNH5Fsi6P-VLxaDbQ9k3wtsmmew-0TSG0GHqgMdD0eRLGtGT_X1GgZIVSOblODViTIeIVCXVoQwVMdJrKq-_QoFTMbeXxZ309T8owM1U3jXs9WO12dsqHHTshqJPhq5r-uPY5YvSotadeBbL_fcpKMyL30eFhST1ffb1N4tYZeMiJwQksoA6tV66E8Lo2xTK0DhJEU6DnAOLrHtjaC9bwvGB3XPqtcEa5KvVAhN9Z4kr40V42DSHtjm95WwCEKVQiE9Jr03Yw6onJXFrntRb4idaaIFgT8v7uqh3dRf18EvT5-TTQqu7OotYjhVNOGbU0UbMBAwvDLA&amp;c=dc3763f2&amp;v=3';\" target=\"_blank\" rel=\"\">\n",
      "\n",
      "      <span class=\"ob-unit ob-rec-image-container\" data-type=\"Image\">\n",
      "  <div class=\"ob-image-ratio\"></div>\n",
      "    <img class=\"ob-rec-image ob-show\" aria-hidden=\"true\" src=\"https://images.outbrainimg.com/transform/v3/eyJpdSI6ImExYTczNzA5ZTQzN2Q0Y2M5MzU5OTNiOWE4ZDM0Zjk3ZDEwNDQwZjcwM2VmNzZkMmVkY2MxM2QwNzk1NmEyZjciLCJ3IjoyNTAsImgiOjE0MSwiZCI6MS41LCJjcyI6MCwiZiI6MH0.jpg\" onload=\"this.className+=' ob-show'\" alt=\"Laura Dern movies: 15 greatest films ranked from worst to best\" title=\"Laura Dern movies: 15 greatest films ranked from worst to best\" onerror=\"OBR.extern.imageError(this)\">\n",
      "            </span>\n",
      "\n",
      "      <span class=\"ob-unit ob-rec-brandLogo-container\" data-type=\"BrandLogo\">\n",
      "    <img class=\"ob-unit ob-rec-brandLogo\" src=\"https://pmccorp2.files.wordpress.com/2018/03/goldderby_logo_outbrain.png\" alt=\"\" data-type=\"BrandLogo\">\n",
      "</span>\n",
      "          <span class=\"ob-unit ob-rec-text\" data-type=\"Title\" title=\"Laura Dern movies: 15 greatest films ranked from worst to best\">Laura Dern movies: 15 greatest films ranked from worst to best</span>\n",
      "    </a>\n",
      "</li></ul><ul class=\"ob-widget-items-container ob-multi-row ob-row-2\"><li class=\"ob-dynamic-rec-container ob-recIdx-2 ob-o\" data-pos=\"2\"><a class=\"ob-dynamic-rec-link \" onclick=\"\" href=\"https://deadline.com/2020/02/harvey-weinstein-walker-prop-ill-have-a-race-with-you-1202857409/?utm_source=spy.com&amp;utm_medium=outbrain&amp;utm_campaign=internalmodule&amp;obOrigUrl=true\" onmousedown=\"this.href='https://traffic.outbrain.com/network/redir?p=sO_z8m_Kj8y764pP0haernJWrUSi1NHE02HlxjWDT_Gue9aMxD-bdozxyXq9uImmomUnS2fWFNbs14wlYrCrS4uri_fDNk4DzcVFFpspABPseJQoZ-_-5SrVBoBvx4tDMySwGhPK69Kfwlo4s6yX01jnfvd43nIytiL24MiJWW-iHjci887RRdKWeM22Mf5oPVSeOhg_E-RKTmeWIWWSUju1DTaM5QKWshEWh90THuRyPRIoouLRQ4ugE5-pczWbKvwmfabWiCY13jgYtH_kxnVATBjRmHli9hgeIitQDrn0My-egpxr6Tuh74zqjUFNxMfluhfafXLNG2EFcYYpJ3e1HsQAOw86NXd_k1L6C6Xif4OFNAfZx-DehoyFua276GV7gsUM84VSvShvA8vGfJzBqhwEMJ2bn7FBebIesEIHv30n1ReculrSurU3z-x79W_z-Hal3hONGHFXDTrbmoBOsE60KybYAupqJWDctAqG1cSbY09pVfK8d4rYrLfeA2b4eEY9bfwPSzEe4bKZCjm8nrrWqM38juojx4davVV-DhBR-L8WFKUMegsj_JcMQPsHYQjnPyqKhv9oFqkDTt3WI5oD_-wGbTXQBhUuTWM3iZcVRQD8aBSYoWSVFxsR3wuXXElQzD3l7OBeUZTKz9rzGpAIpKRMl9AURGNvy4tWdfZKMBm4GZtr4gcUhcwfAzJxpXRi6Qry8TElFKz4brt-GMAfywqn4bawxzQsPLoejA5nlpM4tuT6zwAzbbH6VGaP8HRDCQcw03fZ--RY7HHiHr5crI96Q2DOtif2ulavPnNuN6yVbvBC6sdW0CasQTlLi7l3Sin1qGJTIPh-oqEof0Av70KiEWwP9Ph1WxnIg6ImslARrBvlZGS6FEuSDIKq4VTZRfwrQlHfnDKLgxDDq6VRCyKdu1sjYNrGVbiII_3GEXEpjymgc_Dtm_ridsE1PrnPwxeAtuSxIs4LLCDC39Yoftpsfx-UDmnsco8AhcP39t5iD_VMOM0nqWw_dJi63dEfWUqCch6FaY5VUQvKVIHK8p72RB83ONBCwLg&amp;c=64a6d147&amp;v=3';\" target=\"_blank\" rel=\"\">\n",
      "\n",
      "      <span class=\"ob-unit ob-rec-image-container\" data-type=\"Image\">\n",
      "  <div class=\"ob-image-ratio\"></div>\n",
      "    <img class=\"ob-rec-image ob-show\" aria-hidden=\"true\" src=\"https://images.outbrainimg.com/transform/v3/eyJpdSI6ImFjOWE3MzFlMDQ1ZmMwNWVjMGFhNzQ5YTE0MTQ5MTFhZDA3MGZhYzMxNTM5OWRjMmZiNTZiMDM4NzBkMGIzNWIiLCJ3IjoyNTAsImgiOjE0MSwiZCI6MS41LCJjcyI6MCwiZiI6MH0.jpg\" onload=\"this.className+=' ob-show'\" alt=\"Harvey Weinstein Denies His Walker Is “A Prop”, Tells Reporters “I’ll Have A Race With You”\" title=\"Harvey Weinstein Denies His Walker Is “A Prop”, Tells Reporters “I’ll Have A Race With You”\" onerror=\"OBR.extern.imageError(this)\">\n",
      "            </span>\n",
      "\n",
      "      <span class=\"ob-unit ob-rec-brandLogo-container\" data-type=\"BrandLogo\">\n",
      "    <img class=\"ob-unit ob-rec-brandLogo\" src=\"https://pmccorp2.files.wordpress.com/2018/03/deadline_logo_outbrain.png\" alt=\"\" data-type=\"BrandLogo\">\n",
      "</span>\n",
      "          <span class=\"ob-unit ob-rec-text\" data-type=\"Title\" title=\"Harvey Weinstein Denies His Walker Is “A Prop”, Tells Reporters “I’ll Have A Race With You”\">Harvey Weinstein Denies His Walker Is “A Prop”, Tells Reporters “I’ll Have A…</span>\n",
      "    </a>\n",
      "</li></ul><ul class=\"ob-widget-items-container ob-multi-row ob-row-3\"><li class=\"ob-dynamic-rec-container ob-recIdx-3 ob-o\" data-pos=\"3\"><a class=\"ob-dynamic-rec-link \" onclick=\"\" href=\"https://deadline.com/2020/02/streaming-u-s-consumers-hungry-for-more-nielsen-study-netflix-disney-plus-1202856301/?utm_source=spy.com&amp;utm_medium=outbrain&amp;utm_campaign=internalmodule&amp;obOrigUrl=true\" onmousedown=\"this.href='https://traffic.outbrain.com/network/redir?p=rJkB6GpiI2TEqKOtLOBEyRiY_jlDtSKgYn1KlBUkPI0FLZJ96F9zoBMLTsBbUDg75LCoS8tOSUHX3QUbxHE9NLP7OaVsASaRRYgi4V0aWvb_CkLg_edIJZ7dLNC-7asSZzwq1snuFkVv0K6blPCOGnyDWqI3uoecU0EgDHPIlObTfKG6admw3mSXxT_uHCV3CVIRi2uT0xS2tEHl6vBA_sJZiiUA6650Ip0iBa0tUFWbu7tiGnkK2Lfqff2g4xxbmv2lATfV_tb_lj1_ShyOrAbVoy-nedbRrJ2oL7TSb-SbiMz3V_NnWBfry00yqrn2rFlh4chRmGdAmpvY1sl-zZkjqFXZWwiNCek2y9uF731LZBnQUkZse2PFjOm3i1WOhm0h4E5MPHrZ8VlSdAJKJlWYjim0U5ZTrOVbVE4YETpoesE3mLa_z485YGxxbX858oOtZtBrs4OpUSrZClGMyl4kqlSQbOw3VXJBMtryyRQAZZtLUNNeUt9tDKNJCrY5m38sdU5YeUaaxrFvZT7KvVNGjVdXf2v8cX4dJ8SKCuXf0tJMczoU-Qm4pAy1UV2-CkrRd3A1FJpkDFCRBnUVXZJ4f_TVA9Be6bGxwGzD4NeY16QP5QQE_Tleg8-OUt1DtLq9QF29L9vkhozBKC-29K5bfPDWrPWLPcOY6b0o60jqvT6RM9jSgFwR8puPLxVp9xHDKulBcaxAwgz8_akzJ_tAacQtm8E6nylKu34NZMn1t2chT-TXbGQmh0ETRiTNHBliXWZNdvl5eEUHgJRBFYm4aT7qt3-meDojZJrssK-UFkxMRgRh54Z1goaYKHt_y-U27zyRpJn0VdzoTQjB7xMowSLpjBHGrdILkhSKiAb1EzlmvgW2-34aF7CfqYYCTS32x4n699mruwH0d0g4n6bS0JrTBYNcw2EUtI3CNgUZPnHezjeFNQjNeYHlocfpsFpIpBDjqhVyRnMJwI9bKAOUfBjpC0NyoQHejq8HKeoC6Ys4CM5dS1GPGldvr3mJcgQop5yEPs9V4hE1xWHCD0t3gEgUUikTJUOy5sm3Xdk&amp;c=de6eaf9b&amp;v=3';\" target=\"_blank\" rel=\"\">\n",
      "\n",
      "      <span class=\"ob-unit ob-rec-image-container\" data-type=\"Image\">\n",
      "  <div class=\"ob-image-ratio\"></div>\n",
      "    <img class=\"ob-rec-image ob-show\" aria-hidden=\"true\" src=\"https://images.outbrainimg.com/transform/v3/eyJpdSI6IjU5MDQ0NTc3MDlhNGI5ODBiYTYwNDFmZjc5ZDdmOTRkYjZhYmQwNzAxMmU1MzBjMmVmMjZlYTg3MGU3MTU1ZWMiLCJ3IjoyNTAsImgiOjE0MSwiZCI6MS41LCJjcyI6MCwiZiI6MH0.jpg\" onload=\"this.className+=' ob-show'\" alt=\"Awash In Content, U.S. Consumers Remain Hungry To Stream More – Report\" title=\"Awash In Content, U.S. Consumers Remain Hungry To Stream More – Report\" onerror=\"OBR.extern.imageError(this)\">\n",
      "            </span>\n",
      "\n",
      "      <span class=\"ob-unit ob-rec-brandLogo-container\" data-type=\"BrandLogo\">\n",
      "    <img class=\"ob-unit ob-rec-brandLogo\" src=\"https://pmccorp2.files.wordpress.com/2018/03/deadline_logo_outbrain.png\" alt=\"\" data-type=\"BrandLogo\">\n",
      "</span>\n",
      "          <span class=\"ob-unit ob-rec-text\" data-type=\"Title\" title=\"Awash In Content, U.S. Consumers Remain Hungry To Stream More – Report\">Awash In Content, U.S. Consumers Remain Hungry To Stream More – Report</span>\n",
      "    </a>\n",
      "</li>      </ul>\n",
      "          </div>\n",
      "                        <div class=\"ob_what\">\n",
      "\t\t<a href=\"https://www.outbrain.com/what-is/default/en\" rel=\"nofollow\" onclick=\"OBR.extern.callWhatIs('https://www.outbrain.com/what-is/default/en','',-1,-1, false ,null);return false\"></a>\n",
      "\t</div>\n",
      "    <div class=\"ob-pixels\">\n",
      "        </div>\n",
      "  </div></div>\n",
      "\n",
      "\t\t\t\t\t<div class=\"ad ad-sidebar-bottom hide-on-mobile\">\n",
      "\t\t\t\t\t\t\t</div>\n",
      "\t\t</div>\n",
      "\n",
      "\n",
      "\t</div>\n"
     ]
    }
   ],
   "source": [
    "# url 42\n",
    "i = urls[41]\n",
    "#open_url(i)\n",
    "element = driver.find_element_by_css_selector('#secondary')\n",
    "source = element.get_attribute(\"outerHTML\")\n",
    "print(source)\n",
    "ad_type = \"better\"\n",
    "data.append({\"TYPE\" : ad_type, \"ad_code\" : source, \"URL\" : i})"
   ]
  },
  {
   "cell_type": "code",
   "execution_count": 377,
   "metadata": {
    "collapsed": true
   },
   "outputs": [
    {
     "name": "stdout",
     "output_type": "stream",
     "text": [
      "<aside>\n",
      "\t\t\t\t\t\t            \t<div class=\"newsletterSignup signupDiv best-bets-signup\" data-confirm=\"\">\n",
      "          \t  \t    <label for=\"userContact\">Best Bets</label>\n",
      "\t  \t  <p>Get the scoop on events, nightlife, day trips, family fun and things to do on Long Island.</p>\t  <form id=\"subscribeForm\" action=\"\" method=\"POST\">\n",
      "\t\t<div class=\"formBorder\">\n",
      "\t\t  <input class=\"form-control\" type=\"text\" id=\"userContact\" name=\"userContact\" value=\"\" placeholder=\"Email address\" required=\"required\">\n",
      "\t\t  <input type=\"hidden\" name=\"sub\" value=\"ND_edit_best_bets_masterlist\">\n",
      "\t\t  <input type=\"hidden\" name=\"requestType\" value=\"new_subscription\">\n",
      "\t\t  <input type=\"hidden\" name=\"responseType\" value=\"json\">\n",
      "\t\t  <input type=\"hidden\" name=\"version\" value=\"2\">\n",
      "\t\t  <input type=\"hidden\" name=\"search_token\" value=\"9bbab14f80f0007c1fb905d969719f952d8a6b90\">\n",
      "\t\t  <input type=\"hidden\" name=\"confirmationEmail\" value=\"\">\n",
      "\t\t  <input type=\"hidden\" name=\"email\" value=\"\">\t\t  <input type=\"hidden\" name=\"nsource\" value=\"A\">\t\t</div>\n",
      "\t\t  <a class=\"btn disable\" href=\"#\">Sign up</a>\n",
      "\t  </form>\n",
      "\t  <div class=\"signupSuccess\"></div>\n",
      "\t  <p class=\"disclaimer\">By clicking Sign up, you agree to our <a href=\"/privacy\" target=\"blank\">privacy policy</a>.</p>\n",
      "\t  \t   <div class=\"not-loggedin active\" style=\"display:none;\">\n",
      "\t     <p></p>\n",
      "\t   </div>\n",
      "\t  \t</div>\n",
      "\t\t\t\t</aside>\n"
     ]
    }
   ],
   "source": [
    "# url 43\n",
    "i = urls[42]\n",
    "#open_url(i)\n",
    "element = driver.find_element_by_css_selector('#contentAccess > aside:nth-child(10)')\n",
    "source = element.get_attribute(\"outerHTML\")\n",
    "print(source)\n",
    "ad_type = \"better\"\n",
    "data.append({\"TYPE\" : ad_type, \"ad_code\" : source, \"URL\" : i})"
   ]
  },
  {
   "cell_type": "code",
   "execution_count": 382,
   "metadata": {
    "collapsed": true
   },
   "outputs": [
    {
     "name": "stdout",
     "output_type": "stream",
     "text": [
      "<div class=\"ad cubeAd\">\n",
      "    <div class=\"adBanner done\"><div id=\"div-gpt-ad-6587958213479-as1\" data-google-query-id=\"CN-ysdXyyucCFQ58iwodM1IATA\"><div id=\"google_ads_iframe_/5819/nwsd.desktop/lifestyle/fashion_1__container__\" style=\"border: 0pt none;\"><iframe id=\"google_ads_iframe_/5819/nwsd.desktop/lifestyle/fashion_1\" title=\"3rd party ad content\" name=\"google_ads_iframe_/5819/nwsd.desktop/lifestyle/fashion_1\" scrolling=\"no\" marginwidth=\"0\" marginheight=\"0\" style=\"border: 0px none; vertical-align: bottom;\" srcdoc=\"\" data-google-container-id=\"6\" data-load-complete=\"true\" width=\"300\" height=\"250\" frameborder=\"0\"></iframe></div></div></div>\n",
      "    </div>\n"
     ]
    }
   ],
   "source": [
    "# url 44\n",
    "i = urls[43]\n",
    "#open_url(i)\n",
    "element = driver.find_element_by_css_selector('div.cubeAd:nth-child(1)')\n",
    "source = element.get_attribute(\"outerHTML\")\n",
    "print(source)\n",
    "ad_type = \"better\"\n",
    "data.append({\"TYPE\" : ad_type, \"ad_code\" : source, \"URL\" : i})"
   ]
  },
  {
   "cell_type": "code",
   "execution_count": 385,
   "metadata": {
    "collapsed": true
   },
   "outputs": [
    {
     "name": "stdout",
     "output_type": "stream",
     "text": [
      "<div class=\"ad cubeAd\">\n",
      "  <div class=\"adBanner lazy done\"><div id=\"div-gpt-ad-3530933722256-bs2\" data-google-query-id=\"CIL3hufyyucCFURevQodX10OJA\"><div id=\"google_ads_iframe_/5819/nwsd.desktop/sports/college_basketball_3__container__\" style=\"border: 0pt none;\"><iframe id=\"google_ads_iframe_/5819/nwsd.desktop/sports/college_basketball_3\" title=\"3rd party ad content\" name=\"google_ads_iframe_/5819/nwsd.desktop/sports/college_basketball_3\" scrolling=\"no\" marginwidth=\"0\" marginheight=\"0\" style=\"border: 0px none; vertical-align: bottom;\" srcdoc=\"\" data-google-container-id=\"4\" data-load-complete=\"true\" width=\"300\" height=\"250\" frameborder=\"0\"></iframe></div></div></div>\n",
      "</div>\n"
     ]
    }
   ],
   "source": [
    "# url 45\n",
    "i = urls[44]\n",
    "#open_url(i)\n",
    "element = driver.find_element_by_css_selector('div.ad:nth-child(3)')\n",
    "source = element.get_attribute(\"outerHTML\")\n",
    "print(source)\n",
    "ad_type = \"better\"\n",
    "data.append({\"TYPE\" : ad_type, \"ad_code\" : source, \"URL\" : i})"
   ]
  },
  {
   "cell_type": "code",
   "execution_count": 388,
   "metadata": {
    "collapsed": true
   },
   "outputs": [
    {
     "name": "stdout",
     "output_type": "stream",
     "text": [
      "<div id=\"hs-eu-cookie-confirmation\" class=\" can-use-gradients\"><div id=\"hs-eu-cookie-confirmation-inner\"><p style=\"\"></p><p>We use cookies to make HubSpot’s website a better place. Cookies help to provide a more personalized experience and relevant advertising for you, and web analytics for us. To learn more, and to see a full list of cookies we use, check out our <u><a href=\"https://legal.hubspot.com/cookie-policy\">Cookie Policy</a></u> (baked goods not included).</p><p></p><div id=\"hs-en-cookie-confirmation-buttons-area\"><a href=\"#\" id=\"hs-eu-confirmation-button\">Allow cookies</a><a href=\"#\" id=\"hs-eu-decline-button\">Decline</a></div></div></div>\n"
     ]
    }
   ],
   "source": [
    "# url 46\n",
    "i = urls[45]\n",
    "#open_url(i)\n",
    "element = driver.find_element_by_css_selector('#hs-eu-cookie-confirmation')\n",
    "source = element.get_attribute(\"outerHTML\")\n",
    "print(source)\n",
    "ad_type = \"better\"\n",
    "data.append({\"TYPE\" : ad_type, \"ad_code\" : source, \"URL\" : i})"
   ]
  },
  {
   "cell_type": "code",
   "execution_count": 393,
   "metadata": {
    "collapsed": true
   },
   "outputs": [
    {
     "name": "stdout",
     "output_type": "stream",
     "text": [
      "<div class=\"Page-above\"><div class=\"GoogleDfpAd-wrapper\" style=\"height: 307px; overflow: hidden;\">\n",
      "    <div class=\"GoogleDfpAd-adCaption\">Advertisement</div>\n",
      "    <div id=\"googleAdb7e7cca6-e09b-4558-8c5c-b15afe16f704\" class=\"GoogleDfpAd\" data-slot-name=\"/21787098806/web.latimes/entertainment-arts/television\" data-slot-sizes=\"[[1280, 220], [970, 250], [970, 90], [728, 90], [320, 50]]\" data-ad-type=\"leaderboard\" data-ptype=\"story\" data-slot-adsizemap=\"[[[1241, 0], [1280, 220], [970, 250], [970, 90], [728, 90]], [[1024, 0], [728, 90], [1280, 220]], [[800, 0], [1280, 220], [728, 90]], [[0, 0], [320, 50], [320, 100], [1280, 220]]]\" data-pos=\"1\" data-current-size=\"[970,250]\" data-hold-size=\"[970,250]\" data-google-query-id=\"CIzAl8_zyucCFUvAlgodBR8MhQ\"><div id=\"google_ads_iframe_/21787098806/web.latimes/entertainment-arts/television_7__container__\" style=\"border: 0pt none;\"><iframe id=\"google_ads_iframe_/21787098806/web.latimes/entertainment-arts/television_7\" title=\"3rd party ad content\" name=\"google_ads_iframe_/21787098806/web.latimes/entertainment-arts/television_7\" scrolling=\"no\" marginwidth=\"0\" marginheight=\"0\" style=\"border: 0px none; vertical-align: bottom;\" data-google-container-id=\"b\" data-load-complete=\"true\" width=\"970\" height=\"250\" frameborder=\"0\"></iframe></div></div>\n",
      "</div>\n",
      "</div>\n"
     ]
    }
   ],
   "source": [
    "# url 47\n",
    "i = urls[46]\n",
    "#open_url(i)\n",
    "element = driver.find_element_by_css_selector('.Page-above')\n",
    "source = element.get_attribute(\"outerHTML\")\n",
    "print(source)\n",
    "ad_type = \"better\"\n",
    "data.append({\"TYPE\" : ad_type, \"ad_code\" : source, \"URL\" : i})"
   ]
  },
  {
   "cell_type": "code",
   "execution_count": 396,
   "metadata": {
    "collapsed": true
   },
   "outputs": [
    {
     "name": "stdout",
     "output_type": "stream",
     "text": [
      "<ps-newsletter-module class=\"NewsletterModule\" data-id=\"126\">\n",
      "    <div class=\"NewsletterModule-container\">\n",
      "        <div class=\"NewsletterModule-icon\">\n",
      "            <svg><use xlink:href=\"#icon-flying-envelope\"></use></svg><span class=\"sr-only\">Newsletter</span>\n",
      "        </div>\n",
      "        \n",
      "            <div class=\"NewsletterModule-title\">Get our daily Entertainment newsletter</div>\n",
      "        \n",
      "        \n",
      "            <a class=\"NewsletterModule-link\" href=\"https://membership.latimes.com/newsletters\"></a>\n",
      "        \n",
      "    </div>\n",
      "    \n",
      "        <p class=\"NewsletterModule-description\">Get the day's top stories on Hollywood, film, television, music, arts, culture and more.</p>\n",
      "    \n",
      "    <form class=\"NewsletterModule-form\" role=\"form\" method=\"post\" action=\"https://membership.latimes.com/subscription-services/v1/newsletters/subscriptions\" data-error-message=\"Your request couldn’t be completed because of a server error. Please try again later.\" blank-error-message=\"This field is required and cannot be empty.\" field-error-message=\"Please enter a valid email address.\" data-success-message=\"Thank you for signing up.\" data-success-link-message=\"Check out our other newsletters\">\n",
      "        <div class=\"NewsletterModule-form-error\"></div>\n",
      "        \n",
      "            <div class=\"EmailInput\"><label class=\"EmailInput-label\"><span></span>\n",
      "        <input class=\"EmailInput-input\" type=\"email\" name=\"emailinput\" placeholder=\"Enter Email Address\">\n",
      "    </label>\n",
      "</div>\n",
      "\n",
      "        \n",
      "        <div class=\"NewsletterModule-form-buttons\">\n",
      "            <button class=\"Button\" type=\"submit\">Sign Me Up\n",
      "</button>\n",
      "\n",
      "        </div>\n",
      "    </form>\n",
      "    \n",
      "      <div class=\"NewsletterModule-disclaimer\">\n",
      "        You may occasionally receive promotional content from the Los Angeles Times.\n",
      "      </div>\n",
      "    \n",
      "    <div class=\"NewsletterModule-errorMessage\"></div>\n",
      "</ps-newsletter-module>\n"
     ]
    }
   ],
   "source": [
    "# url 48\n",
    "i = urls[47]\n",
    "#open_url(i)\n",
    "element = driver.find_element_by_css_selector('.NewsletterModule')\n",
    "source = element.get_attribute(\"outerHTML\")\n",
    "print(source)\n",
    "ad_type = \"better\"\n",
    "data.append({\"TYPE\" : ad_type, \"ad_code\" : source, \"URL\" : i})"
   ]
  },
  {
   "cell_type": "code",
   "execution_count": 399,
   "metadata": {
    "collapsed": true
   },
   "outputs": [
    {
     "name": "stdout",
     "output_type": "stream",
     "text": [
      "<aside class=\"ArticlePage-aside-content\">\n",
      "                                    <div class=\"GoogleDfpAd-wrapper\" style=\"height: 657px; overflow: hidden;\">\n",
      "    <div class=\"GoogleDfpAd-adCaption\">Advertisement</div>\n",
      "    <div id=\"googleAd64e1c121-2a16-4c62-a34b-fe8fdf886a7a\" class=\"GoogleDfpAd\" data-slot-name=\"/21787098806/web.latimes/entertainment-arts/television\" data-slot-sizes=\"[[300, 250], [300, 600]]\" data-ad-type=\"mrec\" data-ptype=\"story\" data-slot-adsizemap=\"[[[800, 0], [300, 250], [300, 600]], [[0, 0], [0, 0]]]\" data-pos=\"1\" data-current-size=\"[300,600]\" data-hold-size=\"[300,600]\" data-google-query-id=\"CPaUjZf0yucCFUKXlgodqesHMg\"><div id=\"google_ads_iframe_/21787098806/web.latimes/entertainment-arts/television_5__container__\" style=\"border: 0pt none;\"><iframe id=\"google_ads_iframe_/21787098806/web.latimes/entertainment-arts/television_5\" title=\"3rd party ad content\" name=\"google_ads_iframe_/21787098806/web.latimes/entertainment-arts/television_5\" scrolling=\"no\" marginwidth=\"0\" marginheight=\"0\" style=\"border: 0px none; vertical-align: bottom;\" data-google-container-id=\"7\" data-load-complete=\"true\" width=\"300\" height=\"600\" frameborder=\"0\"></iframe></div></div>\n",
      "</div>\n",
      "\n",
      "<div class=\"ListC\">\n",
      "    <div class=\"ListC-header\">\n",
      "    \n",
      "        <div class=\"ListC-header-title\"><a href=\"https://www.latimes.com/entertainment-arts/tv\">Latest Television<svg class=\"chevron\"><use xlink:href=\"#chevron\"></use></svg></a></div>\n",
      "    \n",
      "</div>\n",
      "\n",
      "\n",
      "    \n",
      "        <ul class=\"ListC-items\">\n",
      "            \n",
      "                <li class=\"ListC-items-item\" data-click=\"liC0promoSmall\" data-hide-description=\"\" data-left-center=\"\">\n",
      "                    <ps-promo class=\"PromoSmall\" data-content-type=\"article\">\n",
      "  <div class=\"PromoSmall-wrapper\">\n",
      "    <div class=\"PromoSmall-titleContainerDupe\">\n",
      "      \n",
      "\n",
      "      \n",
      "        \n",
      "          <div class=\"PromoSmall-category\">\n",
      "            <a class=\"Link\" href=\"https://www.latimes.com/entertainment-arts/movies\">Movies</a>\n",
      "          </div>\n",
      "        \n",
      "      \n",
      "\n",
      "      \n",
      "        <div class=\"PromoSmall-title\">\n",
      "          <a class=\"Link\" href=\"https://www.latimes.com/entertainment-arts/movies/story/2020-02-10/oscars-2020-in-memoriam-snubs-luke-perry-cameron-boyce\">Academy explains Luke Perry’s omission from Oscars In Memoriam segment</a>\n",
      "        </div>\n",
      "      \n",
      "    </div>\n",
      "\n",
      "    <div class=\"PromoSmall-media\">\n",
      "      \n",
      "        \n",
      "          \n",
      "              <a class=\"Link\" aria-label=\"Academy explains Luke Perry’s omission from Oscars In Memoriam segment\" href=\"https://www.latimes.com/entertainment-arts/movies/story/2020-02-10/oscars-2020-in-memoriam-snubs-luke-perry-cameron-boyce\">\n",
      "    <img class=\"Image\" alt=\"479059_ET_SAG_Awards_Show_RCG__4547-712615-713047.jpg\" data-src=\"https://ca-times.brightspotcdn.com/dims4/default/1d32685/2147483647/strip/true/crop/5213x3475+0+0/resize/840x560!/quality/90/?url=https%3A%2F%2Fcalifornia-times-brightspot.s3.amazonaws.com%2Fd6%2F26%2F228c0c3f4d1b92e24eb4c49df44b%2Fla-photos-1staff-479059-et-sag-awards-show-rcg-4547-712615-713047.jpg\" src=\"https://ca-times.brightspotcdn.com/dims4/default/1d32685/2147483647/strip/true/crop/5213x3475+0+0/resize/840x560!/quality/90/?url=https%3A%2F%2Fcalifornia-times-brightspot.s3.amazonaws.com%2Fd6%2F26%2F228c0c3f4d1b92e24eb4c49df44b%2Fla-photos-1staff-479059-et-sag-awards-show-rcg-4547-712615-713047.jpg\" width=\"840\" height=\"560\">\n",
      "\n",
      "</a>\n",
      "          \n",
      "        \n",
      "      \n",
      "    </div>\n",
      "\n",
      "    <div class=\"PromoSmall-content\">\n",
      "      <div class=\"PromoSmall-titleContainer\">\n",
      "        \n",
      "\n",
      "        \n",
      "          \n",
      "            <div class=\"PromoSmall-category\">\n",
      "              <a class=\"Link\" href=\"https://www.latimes.com/entertainment-arts/movies\">Movies</a>\n",
      "            </div>\n",
      "          \n",
      "        \n",
      "\n",
      "        \n",
      "          <div class=\"PromoSmall-title\">\n",
      "            <a class=\"Link\" href=\"https://www.latimes.com/entertainment-arts/movies/story/2020-02-10/oscars-2020-in-memoriam-snubs-luke-perry-cameron-boyce\">Academy explains Luke Perry’s omission from Oscars In Memoriam segment</a>\n",
      "          </div>\n",
      "        \n",
      "      </div>\n",
      "\n",
      "      \n",
      "        <div class=\"PromoSmall-description\">Billie Eilish singing “Yesterday” wasn’t enough to cover for Luke Perry, Orson Bean, Cameron Boyce and others being left out of the 2020 Oscars’ In Memoriam. </div>\n",
      "      \n",
      "\n",
      "      <div class=\"PromoSmall-timestamp\" data-date=\"Feb. 10, 2020\" data-shouldshowdate=\"true\" data-shouldshowtime=\"true\" data-timestamp=\"1581374268554\" data-show-timestamp=\"true\">Feb. 10, 2020</div>\n",
      "\n",
      "      \n",
      "    </div>\n",
      "  </div>\n",
      "</ps-promo>\n",
      "\n",
      "                </li>\n",
      "            \n",
      "                <li class=\"ListC-items-item\" data-click=\"liC1promoSmall\" data-hide-description=\"\" data-left-center=\"\">\n",
      "                    <ps-promo class=\"PromoSmall\" data-content-type=\"article\">\n",
      "  <div class=\"PromoSmall-wrapper\">\n",
      "    <div class=\"PromoSmall-titleContainerDupe\">\n",
      "      \n",
      "\n",
      "      \n",
      "        \n",
      "          <div class=\"PromoSmall-category\">\n",
      "            <a class=\"Link\" href=\"https://www.latimes.com/entertainment-arts/tv\">Television</a>\n",
      "          </div>\n",
      "        \n",
      "      \n",
      "\n",
      "      \n",
      "        <div class=\"PromoSmall-title\">\n",
      "          <a class=\"Link\" href=\"https://www.latimes.com/entertainment-arts/tv/story/2020-02-10/apple-tv-mythic-quest-game-culture\">Have a love-hate relationship with game culture? ‘Mythic Quest’ is the show for you</a>\n",
      "        </div>\n",
      "      \n",
      "    </div>\n",
      "\n",
      "    <div class=\"PromoSmall-media\">\n",
      "      \n",
      "        \n",
      "          \n",
      "              <a class=\"Link\" aria-label=\"Have a love-hate relationship with game culture? ‘Mythic Quest’ is the show for you\" href=\"https://www.latimes.com/entertainment-arts/tv/story/2020-02-10/apple-tv-mythic-quest-game-culture\">\n",
      "    <img class=\"Image\" alt=\"Assignment ID: 486821\n",
      "\n",
      "\" data-src=\"https://ca-times.brightspotcdn.com/dims4/default/523d23f/2147483647/strip/true/crop/5453x3635+0+0/resize/840x560!/quality/90/?url=https%3A%2F%2Fcalifornia-times-brightspot.s3.amazonaws.com%2F30%2F65%2F6e9904184d7a80d9fd9086f7db92%2F486821-et-mythic-quest-rl-001.JPG\" src=\"https://ca-times.brightspotcdn.com/dims4/default/523d23f/2147483647/strip/true/crop/5453x3635+0+0/resize/840x560!/quality/90/?url=https%3A%2F%2Fcalifornia-times-brightspot.s3.amazonaws.com%2F30%2F65%2F6e9904184d7a80d9fd9086f7db92%2F486821-et-mythic-quest-rl-001.JPG\" width=\"840\" height=\"560\">\n",
      "\n",
      "</a>\n",
      "          \n",
      "        \n",
      "      \n",
      "    </div>\n",
      "\n",
      "    <div class=\"PromoSmall-content\">\n",
      "      <div class=\"PromoSmall-titleContainer\">\n",
      "        \n",
      "\n",
      "        \n",
      "          \n",
      "            <div class=\"PromoSmall-category\">\n",
      "              <a class=\"Link\" href=\"https://www.latimes.com/entertainment-arts/tv\">Television</a>\n",
      "            </div>\n",
      "          \n",
      "        \n",
      "\n",
      "        \n",
      "          <div class=\"PromoSmall-title\">\n",
      "            <a class=\"Link\" href=\"https://www.latimes.com/entertainment-arts/tv/story/2020-02-10/apple-tv-mythic-quest-game-culture\">Have a love-hate relationship with game culture? ‘Mythic Quest’ is the show for you</a>\n",
      "          </div>\n",
      "        \n",
      "      </div>\n",
      "\n",
      "      \n",
      "        <div class=\"PromoSmall-description\">Apple TV+ series “Mythic Quest,” from the team behind “It’s Always Sunny in Philadelphia,” pulls no punches when it comes to game culture’s drawbacks.</div>\n",
      "      \n",
      "\n",
      "      <div class=\"PromoSmall-timestamp\" data-date=\"Feb. 10, 2020\" data-shouldshowdate=\"true\" data-shouldshowtime=\"true\" data-timestamp=\"1581350939952\" data-show-timestamp=\"true\">Feb. 10, 2020</div>\n",
      "\n",
      "      \n",
      "    </div>\n",
      "  </div>\n",
      "</ps-promo>\n",
      "\n",
      "                </li>\n",
      "            \n",
      "                <li class=\"ListC-items-item\" data-click=\"liC2promoSmall\" data-hide-description=\"\" data-left-center=\"\">\n",
      "                    <ps-promo class=\"PromoSmall\" data-content-type=\"article\">\n",
      "  <div class=\"PromoSmall-wrapper\">\n",
      "    <div class=\"PromoSmall-titleContainerDupe\">\n",
      "      \n",
      "\n",
      "      \n",
      "        \n",
      "          <div class=\"PromoSmall-category\">\n",
      "            <a class=\"Link\" href=\"https://www.latimes.com/entertainment-arts/tv\">Television</a>\n",
      "          </div>\n",
      "        \n",
      "      \n",
      "\n",
      "      \n",
      "        <div class=\"PromoSmall-title\">\n",
      "          <a class=\"Link\" href=\"https://www.latimes.com/entertainment-arts/tv/story/2020-02-09/oscars-2020-ceremony-eminem-janelle-monae\">Review: The Oscars ceremony fights its own irrelevance — by drawing attention to it</a>\n",
      "        </div>\n",
      "      \n",
      "    </div>\n",
      "\n",
      "    <div class=\"PromoSmall-media\">\n",
      "      \n",
      "        \n",
      "          \n",
      "              <a class=\"Link\" aria-label=\"Review: The Oscars ceremony fights its own irrelevance — by drawing attention to it\" href=\"https://www.latimes.com/entertainment-arts/tv/story/2020-02-09/oscars-2020-ceremony-eminem-janelle-monae\">\n",
      "    <img class=\"Image\" alt=\"488196_ET_Oscars_Show_RCG_0772-739562-739730.JPG\" data-src=\"https://ca-times.brightspotcdn.com/dims4/default/b0131b8/2147483647/strip/true/crop/5095x3397+0+0/resize/840x560!/quality/90/?url=https%3A%2F%2Fcalifornia-times-brightspot.s3.amazonaws.com%2F45%2F98%2F4defe81a4dc0971c490645d581d2%2Fla-photos-1staff-488196-et-oscars-show-rcg-0772-739562-739730.JPG\" src=\"https://ca-times.brightspotcdn.com/dims4/default/b0131b8/2147483647/strip/true/crop/5095x3397+0+0/resize/840x560!/quality/90/?url=https%3A%2F%2Fcalifornia-times-brightspot.s3.amazonaws.com%2F45%2F98%2F4defe81a4dc0971c490645d581d2%2Fla-photos-1staff-488196-et-oscars-show-rcg-0772-739562-739730.JPG\" width=\"840\" height=\"560\">\n",
      "\n",
      "</a>\n",
      "          \n",
      "        \n",
      "      \n",
      "    </div>\n",
      "\n",
      "    <div class=\"PromoSmall-content\">\n",
      "      <div class=\"PromoSmall-titleContainer\">\n",
      "        \n",
      "\n",
      "        \n",
      "          \n",
      "            <div class=\"PromoSmall-category\">\n",
      "              <a class=\"Link\" href=\"https://www.latimes.com/entertainment-arts/tv\">Television</a>\n",
      "            </div>\n",
      "          \n",
      "        \n",
      "\n",
      "        \n",
      "          <div class=\"PromoSmall-title\">\n",
      "            <a class=\"Link\" href=\"https://www.latimes.com/entertainment-arts/tv/story/2020-02-09/oscars-2020-ceremony-eminem-janelle-monae\">Review: The Oscars ceremony fights its own irrelevance — by drawing attention to it</a>\n",
      "          </div>\n",
      "        \n",
      "      </div>\n",
      "\n",
      "      \n",
      "        <div class=\"PromoSmall-description\">From a performance by Eminem to the presenters’ funniest gags, the Oscars telecast highlighted the tension between old and new in the film academy.</div>\n",
      "      \n",
      "\n",
      "      <div class=\"PromoSmall-timestamp\" data-date=\"Feb. 9, 2020\" data-shouldshowdate=\"true\" data-shouldshowtime=\"true\" data-timestamp=\"1581318021442\" data-show-timestamp=\"true\">Feb. 9, 2020</div>\n",
      "\n",
      "      \n",
      "        <div class=\"PromoSmall-items\">\n",
      "          <div class=\"PromoSmall-items-title\">More Coverage</div>\n",
      "\n",
      "          \n",
      "            \n",
      "                <div class=\"PromoSmall-items-item\"><a class=\"Link\" href=\"https://www.latimes.com/entertainment-arts/movies/story/2020-02-09/parasite-oscars-2020-best-picture-history-korea\">How ‘Parasite’ made Oscars history as the first foreign-language best picture winner</a></div>\n",
      "            \n",
      "          \n",
      "            \n",
      "                <div class=\"PromoSmall-items-item\"><a class=\"Link\" href=\"https://www.latimes.com/entertainment-arts/movies/story/2020-02-09/why-parasite-and-1917-have-more-in-common-than-you-would-think\">Why ‘Parasite’ and ‘1917' have more in common than you would think </a></div>\n",
      "            \n",
      "          \n",
      "        </div>\n",
      "      \n",
      "    </div>\n",
      "  </div>\n",
      "</ps-promo>\n",
      "\n",
      "                </li>\n",
      "            \n",
      "                <li class=\"ListC-items-item\" data-click=\"liC3promoSmall\" data-hide-description=\"\" data-left-center=\"\">\n",
      "                    <ps-promo class=\"PromoSmall\" data-content-type=\"article\">\n",
      "  <div class=\"PromoSmall-wrapper\">\n",
      "    <div class=\"PromoSmall-titleContainerDupe\">\n",
      "      \n",
      "\n",
      "      \n",
      "        \n",
      "          <div class=\"PromoSmall-category\">\n",
      "            <a class=\"Link\" href=\"https://www.latimes.com/entertainment-arts\">Entertainment &amp; Arts</a>\n",
      "          </div>\n",
      "        \n",
      "      \n",
      "\n",
      "      \n",
      "        <div class=\"PromoSmall-title\">\n",
      "          <a class=\"Link\" href=\"https://www.latimes.com/entertainment-arts/story/2020-02-09/whats-on-tv-monday-feb-10\">What’s on TV Monday, Feb. 10: ‘Bob Hearts Abishola’ on CBS</a>\n",
      "        </div>\n",
      "      \n",
      "    </div>\n",
      "\n",
      "    <div class=\"PromoSmall-media\">\n",
      "      \n",
      "        \n",
      "          \n",
      "              <a class=\"Link\" aria-label=\"What’s on TV Monday, Feb. 10: ‘Bob Hearts Abishola’ on CBS\" href=\"https://www.latimes.com/entertainment-arts/story/2020-02-09/whats-on-tv-monday-feb-10\">\n",
      "    <img class=\"Image\" alt=\"Folake Olowofoyeku and Billy Gardell in “Bob Hearts Abishola” on CBS.\" data-src=\"https://ca-times.brightspotcdn.com/dims4/default/2bbf5ee/2147483647/strip/true/crop/2357x1571+218+0/resize/840x560!/quality/90/?url=https%3A%2F%2Fcalifornia-times-brightspot.s3.amazonaws.com%2Fd5%2F8c%2Fed15d9f042828b4eb39bd8b8361b%2Fbob-hearts-abishola-1.jpg\" data-lazy-load=\"true\" src=\"data:image/gif;base64,R0lGODlhAQABAAAAACH5BAEKAAEALAAAAAABAAEAAAICTAEAOw==\" width=\"840\" height=\"560\">\n",
      "\n",
      "</a>\n",
      "          \n",
      "        \n",
      "      \n",
      "    </div>\n",
      "\n",
      "    <div class=\"PromoSmall-content\">\n",
      "      <div class=\"PromoSmall-titleContainer\">\n",
      "        \n",
      "\n",
      "        \n",
      "          \n",
      "            <div class=\"PromoSmall-category\">\n",
      "              <a class=\"Link\" href=\"https://www.latimes.com/entertainment-arts\">Entertainment &amp; Arts</a>\n",
      "            </div>\n",
      "          \n",
      "        \n",
      "\n",
      "        \n",
      "          <div class=\"PromoSmall-title\">\n",
      "            <a class=\"Link\" href=\"https://www.latimes.com/entertainment-arts/story/2020-02-09/whats-on-tv-monday-feb-10\">What’s on TV Monday, Feb. 10: ‘Bob Hearts Abishola’ on CBS</a>\n",
      "          </div>\n",
      "        \n",
      "      </div>\n",
      "\n",
      "      \n",
      "        <div class=\"PromoSmall-description\">What’s on TV Monday, Feb. 10: ‘Bob Hearts Abishola’ on CBS</div>\n",
      "      \n",
      "\n",
      "      <div class=\"PromoSmall-timestamp\" data-date=\"Feb. 9, 2020\" data-shouldshowdate=\"true\" data-shouldshowtime=\"true\" data-timestamp=\"1581307250485\" data-show-timestamp=\"true\">Feb. 9, 2020</div>\n",
      "\n",
      "      \n",
      "    </div>\n",
      "  </div>\n",
      "</ps-promo>\n",
      "\n",
      "                </li>\n",
      "            \n",
      "                <li class=\"ListC-items-item\" data-click=\"liC4promoSmall\" data-hide-description=\"\" data-left-center=\"\">\n",
      "                    <ps-promo class=\"PromoSmall\" data-content-type=\"article\">\n",
      "  <div class=\"PromoSmall-wrapper\">\n",
      "    <div class=\"PromoSmall-titleContainerDupe\">\n",
      "      \n",
      "\n",
      "      \n",
      "        \n",
      "          <div class=\"PromoSmall-category\">\n",
      "            <a class=\"Link\" href=\"https://www.latimes.com/entertainment-arts/tv\">Television</a>\n",
      "          </div>\n",
      "        \n",
      "      \n",
      "\n",
      "      \n",
      "        <div class=\"PromoSmall-title\">\n",
      "          <a class=\"Link\" href=\"https://www.latimes.com/entertainment-arts/tv/story/2020-02-08/snl-rupaul-justin-bieber\">RuPaul’s ‘Saturday Night Live’ hosting debut overrun by Democratic candidates</a>\n",
      "        </div>\n",
      "      \n",
      "    </div>\n",
      "\n",
      "    <div class=\"PromoSmall-media\">\n",
      "      \n",
      "        \n",
      "          \n",
      "              <a class=\"Link\" aria-label=\"RuPaul’s ‘Saturday Night Live’ hosting debut overrun by Democratic candidates\" href=\"https://www.latimes.com/entertainment-arts/tv/story/2020-02-08/snl-rupaul-justin-bieber\">\n",
      "    <img class=\"Image\" alt=\"“SNL” — RuPaul\" data-src=\"https://ca-times.brightspotcdn.com/dims4/default/301b5f4/2147483647/strip/true/crop/1000x667+0+0/resize/840x560!/quality/90/?url=https%3A%2F%2Fcalifornia-times-brightspot.s3.amazonaws.com%2Fea%2F8c%2F5e61e58b4ddba5526151af277d79%2Fnup-190222-0001.JPG\" data-lazy-load=\"true\" src=\"data:image/gif;base64,R0lGODlhAQABAAAAACH5BAEKAAEALAAAAAABAAEAAAICTAEAOw==\" width=\"840\" height=\"560\">\n",
      "\n",
      "</a>\n",
      "          \n",
      "        \n",
      "      \n",
      "    </div>\n",
      "\n",
      "    <div class=\"PromoSmall-content\">\n",
      "      <div class=\"PromoSmall-titleContainer\">\n",
      "        \n",
      "\n",
      "        \n",
      "          \n",
      "            <div class=\"PromoSmall-category\">\n",
      "              <a class=\"Link\" href=\"https://www.latimes.com/entertainment-arts/tv\">Television</a>\n",
      "            </div>\n",
      "          \n",
      "        \n",
      "\n",
      "        \n",
      "          <div class=\"PromoSmall-title\">\n",
      "            <a class=\"Link\" href=\"https://www.latimes.com/entertainment-arts/tv/story/2020-02-08/snl-rupaul-justin-bieber\">RuPaul’s ‘Saturday Night Live’ hosting debut overrun by Democratic candidates</a>\n",
      "          </div>\n",
      "        \n",
      "      </div>\n",
      "\n",
      "      \n",
      "        <div class=\"PromoSmall-description\">The longtime “Drag Race” host, both in and out of drag, joined musical guest Justin Bieber to give the “SNL” episode a throwback feel.</div>\n",
      "      \n",
      "\n",
      "      <div class=\"PromoSmall-timestamp\" data-date=\"Feb. 8, 2020\" data-shouldshowdate=\"true\" data-shouldshowtime=\"true\" data-timestamp=\"1581230785851\" data-show-timestamp=\"true\">Feb. 8, 2020</div>\n",
      "\n",
      "      \n",
      "    </div>\n",
      "  </div>\n",
      "</ps-promo>\n",
      "\n",
      "                </li>\n",
      "            \n",
      "        </ul>\n",
      "    \n",
      "</div>\n",
      "<div class=\"GoogleDfpAd-wrapper\" article-dynamic-aside=\"true\">\n",
      "    <div class=\"GoogleDfpAd-adCaption\">Advertisement</div>\n",
      "    <div id=\"googleAdc75a3592-c161-4c45-b8c9-5f6d1ad0502e\" class=\"GoogleDfpAd\" data-slot-name=\"/21787098806/web.latimes/entertainment-arts/television\" data-slot-sizes=\"[[300, 250], [300, 600]]\" data-ad-type=\"mrec\" data-ptype=\"story\" data-slot-adsizemap=\"[[[800, 0], [300, 250], [300, 600]], [[0, 0], [0, 0]]]\" data-pos=\"2\" data-google-query-id=\"CP2UrIb0yucCFYGJlgodqP4BAg\" data-current-size=\"[300,250]\" data-hold-size=\"[300,250]\">\n",
      "        \n",
      "    <div id=\"google_ads_iframe_/21787098806/web.latimes/entertainment-arts/television_3__container__\" style=\"border: 0pt none;\"><iframe id=\"google_ads_iframe_/21787098806/web.latimes/entertainment-arts/television_3\" title=\"3rd party ad content\" name=\"google_ads_iframe_/21787098806/web.latimes/entertainment-arts/television_3\" scrolling=\"no\" marginwidth=\"0\" marginheight=\"0\" style=\"border: 0px none; vertical-align: bottom;\" data-google-container-id=\"3\" data-load-complete=\"true\" width=\"300\" height=\"250\" frameborder=\"0\"></iframe></div></div>\n",
      "</div>\n",
      "<div class=\"GoogleDfpAd-wrapper\" article-dynamic-aside=\"true\">\n",
      "    <div class=\"GoogleDfpAd-adCaption\">Advertisement</div>\n",
      "    <div id=\"googleAdc06b5c26-8a0b-49a9-a017-3ceef7f4ea76\" class=\"GoogleDfpAd\" data-slot-name=\"/21787098806/web.latimes/entertainment-arts/television\" data-slot-sizes=\"[[300, 250], [300, 600]]\" data-ad-type=\"mrec\" data-ptype=\"story\" data-slot-adsizemap=\"[[[800, 0], [300, 250], [300, 600]], [[0, 0], [0, 0]]]\" data-pos=\"3\">\n",
      "        <span class=\"GoogleDfpAd-placeholder\"></span>\n",
      "    </div>\n",
      "</div>\n",
      "<div class=\"GoogleDfpAd-wrapper\" article-dynamic-aside=\"true\">\n",
      "    <div class=\"GoogleDfpAd-adCaption\">Advertisement</div>\n",
      "    <div id=\"googleAd54cdb4f6-5759-4ff2-a916-8c28d1d9500a\" class=\"GoogleDfpAd\" data-slot-name=\"/21787098806/web.latimes/entertainment-arts/television\" data-slot-sizes=\"[[300, 250], [300, 600]]\" data-ad-type=\"mrec\" data-ptype=\"story\" data-slot-adsizemap=\"[[[800, 0], [300, 250], [300, 600]], [[0, 0], [0, 0]]]\" data-pos=\"4\">\n",
      "        <span class=\"GoogleDfpAd-placeholder\"></span>\n",
      "    </div>\n",
      "</div>\n",
      "\n",
      "\n",
      "\n",
      "\n",
      "\n",
      "                                </aside>\n"
     ]
    }
   ],
   "source": [
    "# url 49\n",
    "i = urls[48]\n",
    "#open_url(i)\n",
    "element = driver.find_element_by_css_selector('.ArticlePage-aside-content')\n",
    "source = element.get_attribute(\"outerHTML\")\n",
    "print(source)\n",
    "ad_type = \"better\"\n",
    "data.append({\"TYPE\" : ad_type, \"ad_code\" : source, \"URL\" : i})"
   ]
  },
  {
   "cell_type": "code",
   "execution_count": 402,
   "metadata": {
    "collapsed": true
   },
   "outputs": [
    {
     "name": "stdout",
     "output_type": "stream",
     "text": [
      "<div class=\"footer-ad\">\n",
      "\t\t<div style=\"min-width: 728px; min-height: 90px\" data-info=\"{&quot;tagName&quot;:&quot;BIO_BROWSE&quot;,&quot;divId&quot;:&quot;f57a64fe-8fa0-40b1-ac58-ec77a7461fe2&quot;,&quot;pos&quot;:&quot;BOT&quot;,&quot;desktopSize&quot;:{&quot;width&quot;:728,&quot;height&quot;:90},&quot;phoneSize&quot;:{&quot;width&quot;:320,&quot;height&quot;:50},&quot;desktopBlocktroughId&quot;:&quot;5b28667921-187&quot;,&quot;phoneBlocktroughId&quot;:&quot;5b28666f7a-187&quot;}\" data-pos=\"BOT\" id=\"div-gpt-ad-f57a64fe-8fa0-40b1-ac58-ec77a7461fe2\" class=\"google-ad-iframe ui-hide-on-modal  middle-xs center-xs BOT\" data-google-query-id=\"COu7nLL0yucCFYEBXAodpJQFZA\">\n",
      "\t\t\t\n",
      "\t\t<div id=\"google_ads_iframe_/15510053/EB_B/BIO_BROWSE_0__container__\" style=\"border: 0pt none;\"><iframe id=\"google_ads_iframe_/15510053/EB_B/BIO_BROWSE_0\" title=\"3rd party ad content\" name=\"google_ads_iframe_/15510053/EB_B/BIO_BROWSE_0\" scrolling=\"no\" marginwidth=\"0\" marginheight=\"0\" style=\"border: 0px none; vertical-align: bottom;\" srcdoc=\"\" sandbox=\"allow-forms allow-pointer-lock allow-popups allow-popups-to-escape-sandbox allow-same-origin allow-scripts allow-top-navigation-by-user-activation\" data-google-container-id=\"1\" data-load-complete=\"true\" width=\"728\" height=\"90\" frameborder=\"0\"></iframe></div></div>\n",
      "\t\t\n",
      "\t\t\t\n",
      "\t\t\t\n",
      "\t\t\t\t<span class=\"btx\" data-id=\"5b28667921-187\">\n",
      "\t\t\t\t<span class=\"bt-uid-tg\" uid=\"5b28667921-187\" style=\"display:none !important\"></span>\n",
      "\t\t\t\t</span>\n",
      "\t\t\t\n",
      "\t\t\n",
      "\t\t</div>\n"
     ]
    }
   ],
   "source": [
    "# url 50\n",
    "i = urls[49]\n",
    "#open_url(i)\n",
    "element = driver.find_element_by_css_selector('.footer-ad')\n",
    "source = element.get_attribute(\"outerHTML\")\n",
    "print(source)\n",
    "ad_type = \"better\"\n",
    "data.append({\"TYPE\" : ad_type, \"ad_code\" : source, \"URL\" : i})"
   ]
  },
  {
   "cell_type": "code",
   "execution_count": 410,
   "metadata": {
    "collapsed": true
   },
   "outputs": [
    {
     "name": "stdout",
     "output_type": "stream",
     "text": [
      "<div class=\"footer-bck\">\n",
      "        <div class=\"marketing-FOOTER_NEWSLETTER marketing-content\" data-marketing-id=\"FOOTER_NEWSLETTER\"><div class=\"md-footer-newsletter-form pt-10 mb-30 mx-15 mx-sm-120\">\n",
      "   <div class=\"font-18\">\n",
      "      <strong>Inspire your inbox –</strong>\n",
      "      Sign up for daily fun facts about this day in history, updates, and special offers.\n",
      "   </div>\n",
      "   <div class=\"p-30\">\n",
      "      <div class=\"newsletter-form-container\">\n",
      "\n",
      "    <form class=\"newsletter-form\" method=\"post\" action=\"/newsletter-subscription/EB_ON_THIS_DAY\">\n",
      "\n",
      "        <div class=\"form-group grid no-gutter center-xs\">\n",
      "            <div class=\"grid-sm-50 grid-xs-100\">\n",
      "                <input title=\"Enter your email\" type=\"email\" name=\"email\" class=\"form-control font-18 p-10\" placeholder=\"Enter your email\" pattern=\"[a-z0-9._%+-]+@[a-z0-9.-]+\\.[a-z]{2,4}$\" required=\"\">\n",
      "            </div>\n",
      "            <div class=\"grid-sm-shrink grid-xs-100\">\n",
      "                <input type=\"submit\" class=\"md-button md-primary\" style=\"width: 100%; height:100%;\" value=\"SUBSCRIBE\">\n",
      "            </div>\n",
      "        </div>\n",
      "        <div class=\"text-white pt-30 text-opacity\">\n",
      "            By signing up for this email, you are agreeing to news, offers, and information from Encyclopaedia Britannica.<br>\n",
      "            Click here to view our <a class=\"text-white text-underscore\" href=\"https://corporate.britannica.com/privacy-policy\" target=\"_blank\" rel=\"noopener nofollow\">Privacy Notice</a>. Easy unsubscribe links are provided in every email.\n",
      "        </div>\n",
      "\n",
      "        <input type=\"hidden\" name=\"source\" value=\"Footer\"><input type=\"hidden\" name=\"campaign\" value=\"Mendel\"><input type=\"hidden\" name=\"medium\" value=\"Box\"></form>\n",
      "\n",
      "    <div class=\"md-subscribed hidden text-white\">\n",
      "       <div class=\"my-10\">Thank you for subscribing!</div>\n",
      "       <div>Be on the lookout for your Britannica newsletter to get trusted stories delivered right to your inbox.</div>\n",
      "    </div>\n",
      "\n",
      "</div>\n",
      "   </div>\n",
      "</div></div>\n",
      "\n",
      "\n",
      "\n",
      "\n",
      "\n",
      "\n",
      "\n",
      "\n",
      "\n",
      "\n",
      "\n",
      "\n",
      "\n",
      "\n",
      "\n",
      "\n",
      "\n",
      "\n",
      "\n",
      "\n",
      "\n",
      "\n",
      "\n",
      "\n",
      "\n",
      "\n",
      "\n",
      "\n",
      "\n",
      "\n",
      "\n",
      "\n",
      "\n",
      "\n",
      "\n",
      "\n",
      "\n",
      "\n",
      "\n",
      "\n",
      "\n",
      "\n",
      "\n",
      "    \n",
      "        \n",
      "    \n",
      "    \n",
      "    \n",
      "\n",
      "\n",
      "\n",
      "    \n",
      "    \n",
      "    \n",
      "        \n",
      "    \n",
      "\n",
      "\n",
      "\n",
      "\n",
      "\n",
      "\n",
      "<div class=\"md-social-toolbar-circle center-xs colored\" data-value=\"connect\">\n",
      "    \n",
      "        <div class=\"share-label hidden-xs\">Stay Connected</div>\n",
      "    \n",
      "    \n",
      "        <a class=\"ui-icon-facebook center-xs middle-xs\" data-provider=\"facebook\" href=\"https://www.facebook.com/BRITANNICA/\" target=\"_blank\" rel=\"noopener\"><span>Facebook</span></a>\n",
      "    \n",
      "    \n",
      "        <a class=\"ui-icon-twitter center-xs middle-xs\" data-provider=\"twitter\" href=\"https://twitter.com/britannica\" target=\"_blank\" rel=\"noopener\"><span>Twitter</span></a>\n",
      "    \n",
      "    \n",
      "        <a class=\"ui-icon-youtube-play center-xs middle-xs\" data-provider=\"youtube\" href=\"https://www.youtube.com/c/encyclopaediabritannica\" target=\"_blank\" rel=\"noopener\"><span>YouTube</span></a>\n",
      "    \n",
      "    \n",
      "        <a class=\"ui-icon-instagram center-xs middle-xs\" data-provider=\"instagram\" href=\"https://www.instagram.com/britannica/\" target=\"_blank\" rel=\"noopener\"><span>Instagram</span></a>\n",
      "    \n",
      "    \n",
      "    \n",
      "        <a class=\"ui-icon-pinterest center-xs middle-xs\" data-provider=\"pinterest\" href=\"https://www.pinterest.com/britannica/\" target=\"_blank\" rel=\"noopener\"><span>Pinterest</span></a>\n",
      "    \n",
      "    \n",
      "        <a class=\"ui-icon center-xs middle-xs\" href=\"https://cloud.email.britannica.com/PreferenceCenter\" title=\"Newsletters\" target=\"_blank\" rel=\"noopener\">\n",
      "            <em class=\"material-icons\" data-icon=\"drafts\"><span>Newsletters</span></em>\n",
      "        </a>\n",
      "    \n",
      "    \n",
      "</div>\n",
      "\n",
      "<br>\n",
      "            <ul class=\"md-footer-slim main-footer-links\">\n",
      "            <li><a href=\"https://corporate.britannica.com\" rel=\"noopener\" target=\"_blank\">About Us &amp; Legal Info</a></li>\n",
      "            <li><a href=\"https://corporate.britannica.com/publishing-partner-program/\" target=\"_blank\" rel=\"noopener nofollow\">Partner Program</a></li>\n",
      "            <li><a href=\"https://corporate.britannica.com/contact/\" target=\"_blank\" rel=\"noopener nofollow\">Contact Us</a></li>\n",
      "            <li><a href=\"https://corporate.britannica.com/privacy-policy\" target=\"_blank\" rel=\"noopener nofollow\">Privacy Notice</a></li>\n",
      "            <li><a href=\"https://corporate.britannica.com/termsofuse.html\" target=\"_blank\" rel=\"noopener nofollow\">Terms of Use</a></li>\n",
      "            </ul>\n",
      "        <br>\n",
      "        ©2020 Encyclopædia Britannica, Inc.\n",
      "    </div>\n"
     ]
    }
   ],
   "source": [
    "# url 51\n",
    "i = urls[50]\n",
    "#open_url(i)\n",
    "element = driver.find_element_by_css_selector('.footer-bck')\n",
    "source = element.get_attribute(\"outerHTML\")\n",
    "print(source)\n",
    "ad_type = \"better\"\n",
    "data.append({\"TYPE\" : ad_type, \"ad_code\" : source, \"URL\" : i})"
   ]
  },
  {
   "cell_type": "code",
   "execution_count": 413,
   "metadata": {
    "collapsed": true
   },
   "outputs": [
    {
     "name": "stdout",
     "output_type": "stream",
     "text": [
      "<div class=\"abl mw-ad-slot-top abl-m320-t728-d728\"><div id=\"mw-ad-slot-top\"><div id=\"M72890TOP-ad\" data-google-query-id=\"CJCQx7L1yucCFYjClgodAT0Lhg\"><div id=\"google_ads_iframe_/15510053/MW_DICT/REF_0__container__\" style=\"border: 0pt none;\"><iframe id=\"google_ads_iframe_/15510053/MW_DICT/REF_0\" title=\"3rd party ad content\" name=\"google_ads_iframe_/15510053/MW_DICT/REF_0\" scrolling=\"no\" marginwidth=\"0\" marginheight=\"0\" style=\"border: 0px none; vertical-align: bottom;\" srcdoc=\"\" data-google-container-id=\"7\" data-load-complete=\"true\" width=\"728\" height=\"90\" frameborder=\"0\"></iframe></div></div></div></div>\n"
     ]
    }
   ],
   "source": [
    "# url 52\n",
    "i = urls[51]\n",
    "#open_url(i)\n",
    "element = driver.find_element_by_css_selector('div.abl:nth-child(5)')\n",
    "source = element.get_attribute(\"outerHTML\")\n",
    "print(source)\n",
    "ad_type = \"better\"\n",
    "data.append({\"TYPE\" : ad_type, \"ad_code\" : source, \"URL\" : i})"
   ]
  },
  {
   "cell_type": "code",
   "execution_count": 418,
   "metadata": {
    "collapsed": true
   },
   "outputs": [
    {
     "name": "stdout",
     "output_type": "stream",
     "text": [
      "<div id=\"definition-right-rail\" class=\"right-rail col-lg-5 col-xl-4\"><div class=\"fixed-wrapper hash-bg\" id=\"definition-fixed-wrapper\"><div class=\"rail-abl-box\"><div class=\"abl abl-300-250-nr mw-ad-slot-right1\"><div id=\"M300250TOP-ad\" data-google-query-id=\"CJiStfr1yucCFcxuiwod9W8G2A\"><div id=\"google_ads_iframe_/15510053/MW_DICT/REF_1__container__\" style=\"border: 0pt none;\"><iframe id=\"google_ads_iframe_/15510053/MW_DICT/REF_1\" title=\"3rd party ad content\" name=\"google_ads_iframe_/15510053/MW_DICT/REF_1\" scrolling=\"no\" marginwidth=\"0\" marginheight=\"0\" style=\"border: 0px none; vertical-align: bottom;\" srcdoc=\"\" data-google-container-id=\"3216e5fca12e8009b3ead1c7038fdcc6\" width=\"300\" height=\"250\" frameborder=\"0\"></iframe></div></div></div></div> <div class=\"wgt-side wgt-wod-side top-location\"><h4 class=\"jc-wgt-title-type1 margin-t-0p9375em\"><a href=\"/word-of-the-day\">WORD OF THE DAY</a></h4> <div class=\"jc-under-tline-type2 margin-t-0p625em\"></div> <div class=\"ws-word-and-pron\"><h4 class=\"ws-word\"><a href=\"/word-of-the-day\">obloquy</a></h4> <a class=\"play-pron jc-play-icon-type1 hoverable\" data-lang=\"en_us\" data-dir=\"o\" data-file=\"obloqu01\" href=\"javascript:void(0)\" title=\"Listen to the pronounciation of obloquy\"><svg width=\"22px\" height=\"22px\" viewBox=\"0 0 26 26\" version=\"1.1\" xmlns=\"http://www.w3.org/2000/svg\" xmlns:xlink=\"http://www.w3.org/1999/xlink\" class=\"svg replaced-svg\" alt=\"Listen to the pronounciation of obloquy\"><title>Listen to the pronounciation of obloquy</title>\n",
      "  <defs>\n",
      "    <linearGradient id=\"grad3\" x1=\"0%\" y1=\"0%\" x2=\"0%\" y2=\"100%\">\n",
      "      <stop offset=\"0%\" style=\"stop-color:rgb(38,86,103);stop-opacity:1\"></stop>\n",
      "      <stop offset=\"100%\" style=\"stop-color:rgb(15,56,80);stop-opacity:1\"></stop>\n",
      "    </linearGradient>\n",
      "  </defs>\n",
      "    <g class=\"Audio\" stroke=\"none\" stroke-width=\"1\" fill=\"none\" fill-rule=\"evenodd\">\n",
      "        <g class=\"Icon/AudioPron\">\n",
      "            <g class=\"Audio\">\n",
      "                <circle class=\"outline Oval\" fill=\"url(#grad3) #265667\" cx=\"13\" cy=\"13\" r=\"13\"></circle>\n",
      "                <polygon class=\"logo Path-2\" stroke=\"#FFFFFF\" fill=\"#FFFFFF\" points=\"6 10.5031797 6 15.4563465 9.37102011 15.4563465 13 18 13 8.02789307 9.5 10.5031797\"></polygon>\n",
      "                <path class=\"logo2 Path-3\" d=\"M16,8.5 C17.4887382,10.0718463 18.2331073,11.569707 18.2331073,12.993582 C18.2331073,15.1293945 17.1165537,16.4498291 16,17.5894775\" stroke=\"#FFFFFF\"></path>\n",
      "                <path class=\"logo2 Path-4\" d=\"M18.0189209,6.5 C20.0989176,8.3652264 21.138916,10.5318931 21.138916,13 C21.138916,15.4681069 20.0723674,17.6756672 17.93927,19.6226807\" stroke=\"#FFFFFF\"></path>\n",
      "            </g>\n",
      "        </g>\n",
      "    </g>\n",
      "</svg></a></div> <style>.ws-def-text{padding-right:0!important; opacity: 1!important;} .ws-def-text:hover{color:#265667!important;} a.ws-def-text {text-decoration:underline!important; }</style>\n",
      "<p class=\"ws-def-text\"><a href=\"/word-of-the-day\" class=\"ws-def-text\">Definition, fun facts, plus test your vocab</a> »</p><div class=\"word-of-day-subscribe-block\"><p class=\"wod-lead\">Get Word of the Day daily email! </p><form class=\"js-wod-subscribe-frm\" action=\"/word-of-the-day\" method=\"post\"><input type=\"submit\" class=\"wod-submit\" name=\"wod-submit\" value=\"SUBSCRIBE\"> <input type=\"text\" class=\"wod-subscribe\" name=\"wod-subscribe\" placeholder=\"Your email address\" aria-label=\"Subscribe to Word of the Day\"></form></div></div></div> <div id=\"M300250BOT-sticky-wrapper\" style=\"height: 2416.85px; position: relative;\"><div id=\"M300250BOT-sticky\" class=\"rail-abl-box hash-bg hasExtraAd\" style=\"background-position-y: -15px;\"><div class=\"abl abl-300-250-nr mw-ad-slot-right2\"><div id=\"M300250BOT-ad\" data-google-query-id=\"CJmStfr1yucCFcxuiwod9W8G2A\"><div id=\"google_ads_iframe_/15510053/MW_DICT/REF_2__container__\" style=\"border: 0pt none;\"><iframe id=\"google_ads_iframe_/15510053/MW_DICT/REF_2\" title=\"3rd party ad content\" name=\"google_ads_iframe_/15510053/MW_DICT/REF_2\" scrolling=\"no\" marginwidth=\"0\" marginheight=\"0\" style=\"border: 0px none; vertical-align: bottom;\" srcdoc=\"\" data-google-container-id=\"c524b6a450d9ac6bbbdeb3cbeac688f8\" data-load-complete=\"true\" width=\"300\" height=\"250\" frameborder=\"0\"></iframe></div></div></div> <div class=\"wgt-side wgt-games-side\"><h4 class=\"jc-wgt-title-type1\"><a href=\"/word-games\">Test Your Vocabulary</a></h4> <div class=\"jc-under-tline-type2 margin-t-0p625em margin-b-1p375em\"></div> <p class=\"lead\">Name that Thing: Toys and Games Edition </p><div class=\"wgt-games-side-items\"><div class=\"wgts-quiz-with-answers\"><ul class=\"wgts-quiz-question\"><li class=\"wgts-quiz-image\"><div class=\"thumbnail\"><span class=\"lazyload-container ratio-4-3\"><img data-sizes=\"auto\" alt=\"a game for two players in which the goal is to surround more territory with stones\" is_retina=\"true\" data-src=\"https://merriam-webster.com/assets/mw/images/quiz/quiz-games-quizplay-question/a game for two players in which the goal is to surround more territory with stones-3274-561dd24076ab0a4680c0c82858b6bee7@1x.jpg\" data-caption=\"\" data-credit=\"\" data-type=\"quiz\" data-dim=\"quiz-games-quizplay-question\" data-ret-pref=\"a game for two players in which the goal is to surround more territory with stones-3274-561dd24076ab0a4680c0c82858b6bee7\" data-ret-x=\"1\" data-srcset=\"https://merriam-webster.com/assets/mw/images/quiz/quiz-games-quizplay-question/a game for two players in which the goal is to surround more territory with stones-3274-561dd24076ab0a4680c0c82858b6bee7@1x.jpg 1x, https://merriam-webster.com/assets/mw/images/quiz/quiz-games-quizplay-question/a game for two players in which the goal is to surround more territory with stones-3274-561dd24076ab0a4680c0c82858b6bee7@2x.jpg 2x\" pair-id=\"3277\" image-id=\"3274\" class=\"lazyload\" src=\"data:image/gif;base64,R0lGODlhAQABAAAAACH5BAEKAAEALAAAAAABAAEAAAICTAEAOw==\"></span></div> </li><li class=\"lead\">Name that thing:</li></ul> <div class=\"content\"><ul class=\"quiz-answer-list\"><li><a class=\"quiz-answer\" href=\"/word-games/ntt-toys-and-games?q=2151&amp;a=7655\">Chinese checkers</a> <a class=\"quiz-answer\" href=\"/word-games/ntt-toys-and-games?q=2151&amp;a=7657\">reversi</a></li><li><a class=\"quiz-answer\" href=\"/word-games/ntt-toys-and-games?q=2151&amp;a=7656\">pente</a> <a class=\"quiz-answer\" href=\"/word-games/ntt-toys-and-games?q=2151&amp;a=7654\">go</a></li></ul></div></div> <div class=\"wgts-quiz\"><div class=\"thumbnail\"><span class=\"lazyload-container ratio-4-3\"><img data-sizes=\"auto\" alt=\"Spell It\" data-src=\"https://merriam-webster.com/assets/mw/static/images/old-quizzes/spell-it/80x60@1x.jpg\" data-dim=\"80x60\" data-srcset=\"https://merriam-webster.com/assets/mw/static/images/old-quizzes/spell-it/80x60@1x.jpg 1x, https://merriam-webster.com/assets/mw/static/images/old-quizzes/spell-it/80x60@2x.jpg 2x\" class=\"lazyload\" src=\"data:image/gif;base64,R0lGODlhAQABAAAAACH5BAEKAAEALAAAAAABAAEAAAICTAEAOw==\"></span></div> <div class=\"content\"><p class=\"blurb\">Can you spell these 10 commonly misspelled words?</p> <a class=\"to-quiz\" href=\"/word-games/spell-it\">TAKE THE QUIZ</a></div></div> <div class=\"wgts-quiz last\"><div class=\"thumbnail\"><span class=\"lazyload-container ratio-4-3\"><img data-sizes=\"auto\" alt=\"Dictionary Devil\" data-src=\"https://merriam-webster.com/assets/mw/static/images/games/special5/dictionary-devil/204x153@1x.jpg\" data-srcset=\"https://merriam-webster.com/assets/mw/static/images/games/special5/dictionary-devil/204x153@1x.jpg 1x, https://merriam-webster.com/assets/mw/static/images/games/special5/dictionary-devil/204x153@2x.jpg 2x\" data-dim=\"204x153\" class=\"lazyload\" src=\"data:image/gif;base64,R0lGODlhAQABAAAAACH5BAEKAAEALAAAAAABAAEAAAICTAEAOw==\"></span></div> <div class=\"content\"><p class=\"blurb\"><strong>Test Your Knowledge</strong> - and learn some interesting things along the way.</p> <a class=\"to-quiz\" href=\"/word-games/dictionary-devil\">TAKE THE QUIZ</a></div></div></div></div><div id=\"M300250BOT-sticky-wrapper-2\" style=\"height:900px;\"><div id=\"M300250BOT-sticky-2\" class=\"hash-bg\" style=\"background-position-y: -7px;\"><div class=\"abl abl-300-250-sticky\"><div id=\"M300250BOT1-ad\" data-google-query-id=\"CLrP5_v1yucCFceHwgodcBEF7g\"><div id=\"google_ads_iframe_/15510053/MW_DICT/REF_3__container__\" style=\"border: 0pt none;\"><iframe id=\"google_ads_iframe_/15510053/MW_DICT/REF_3\" title=\"3rd party ad content\" name=\"google_ads_iframe_/15510053/MW_DICT/REF_3\" scrolling=\"no\" marginwidth=\"0\" marginheight=\"0\" style=\"border: 0px none; vertical-align: bottom;\" srcdoc=\"\" data-google-container-id=\"f1b0a4cb749334c1ef85f23d85d399f3\" data-load-complete=\"true\" width=\"300\" height=\"250\" frameborder=\"0\"></iframe></div></div></div></div></div></div></div><div class=\"flex-ad-wrapper\"><div class=\"mw-right-ad-slot hash-bg right-ad-slot-1\" style=\"background-position-y: -12px;\"><div class=\"right-ad-300-250\"><div id=\"M300250BOT2-ad\" data-google-query-id=\"CLvP5_v1yucCFceHwgodcBEF7g\"><div id=\"google_ads_iframe_/15510053/MW_DICT/REF_4__container__\" style=\"border: 0pt none;\"><iframe id=\"google_ads_iframe_/15510053/MW_DICT/REF_4\" title=\"3rd party ad content\" name=\"google_ads_iframe_/15510053/MW_DICT/REF_4\" scrolling=\"no\" marginwidth=\"0\" marginheight=\"0\" style=\"border: 0px none; vertical-align: bottom;\" srcdoc=\"\" data-google-container-id=\"e551bc8b3f7be3deecf491b3ea798793\" data-load-complete=\"true\" width=\"300\" height=\"250\" frameborder=\"0\"></iframe></div></div></div></div></div><div class=\"mw-right-ad-slot hash-bg right-ad-slot-2\" style=\"background-position-y: -12px;\"><div class=\"right-ad-300-250\"><div id=\"M300250BOT3-ad\"></div></div></div></div>\n"
     ]
    }
   ],
   "source": [
    "# url 53\n",
    "i = urls[52]\n",
    "#open_url(i)\n",
    "element = driver.find_element_by_css_selector('#definition-right-rail')\n",
    "source = element.get_attribute(\"outerHTML\")\n",
    "print(source)\n",
    "ad_type = \"better\"\n",
    "data.append({\"TYPE\" : ad_type, \"ad_code\" : source, \"URL\" : i})"
   ]
  },
  {
   "cell_type": "code",
   "execution_count": 421,
   "metadata": {
    "collapsed": true
   },
   "outputs": [
    {
     "name": "stdout",
     "output_type": "stream",
     "text": [
      "<div id=\"subscribe-unabridged\" class=\"clearfix\"><div class=\"header\">Love words? Need even more definitions?</div> <p class=\"teaser\">Subscribe to America's largest dictionary and get thousands more definitions and advanced search—ad free!</p> <a class=\"subscribe-btn\" rel=\"noopener\" target=\"_blank\" href=\"https://unabridged.merriam-webster.com/subscriber/register/p1?refc=FOOTER_DEF_MWU\">Merriam-Webster unabridged</a></div>\n"
     ]
    }
   ],
   "source": [
    "# url 54\n",
    "i = urls[53]\n",
    "#open_url(i)\n",
    "element = driver.find_element_by_css_selector('#subscribe-unabridged')\n",
    "source = element.get_attribute(\"outerHTML\")\n",
    "print(source)\n",
    "ad_type = \"better\"\n",
    "data.append({\"TYPE\" : ad_type, \"ad_code\" : source, \"URL\" : i})"
   ]
  },
  {
   "cell_type": "code",
   "execution_count": 424,
   "metadata": {
    "collapsed": true
   },
   "outputs": [
    {
     "name": "stdout",
     "output_type": "stream",
     "text": [
      "<footer class=\"global-footer \"><div class=\"footer-mast clearfix\"><div class=\"mw-logo-section lazyloaded\" data-loaded=\"true\"><a href=\"/\" class=\"footer-logo\">Merriam Webster</a></div> <div class=\"footer-mast-content clearfix\"><div class=\"footer-subscribe-block\"><div class=\"footer-subscribe-msg\"><p>Learn a new word every day. Delivered to your inbox!</p></div> <form data-medium=\"footer\" class=\"footer-subscribe js-wod-subscribe-frm\"><input class=\"footer-subscribe-field\" type=\"text\" name=\"email\" aria-label=\"Sign up for Merriam-Webster's Word of the Day newsletter\" placeholder=\"Your email address\"> <input class=\"footer-subscribe-button\" type=\"submit\" name=\"submit\" aria-label=\"Subscribe\" value=\"SUBSCRIBE\"> <input class=\"footer-subscribe-button hidden arrow\" type=\"submit\" name=\"submit\" value=\">\"></form></div> <div class=\"footer-dictionaries\"><p>OTHER MERRIAM-WEBSTER DICTIONARIES </p><div class=\"other-dictionaries\"><ul><li><a href=\"http://www.spanishcentral.com/\">SPANISH CENTRAL</a> </li><li><a href=\"http://learnersdictionary.com/\">LEARNER'S ESL DICTIONARY</a> </li><li><a href=\"http://www.wordcentral.com/\">WORDCENTRAL FOR KIDS</a> </li><li><a href=\"http://www.visualdictionaryonline.com/\">VISUAL DICTIONARY</a></li></ul> <ul><li><a href=\"http://scrabble.merriam.com/\">SCRABBLE<sup>®</sup> WORD FINDER</a> </li><li><a href=\"http://unabridged.merriam-webster.com/\">MERRIAM-WEBSTER'S UNABRIDGED DICTIONARY</a> </li><li><a href=\"http://arabic.britannicaenglish.com/en\">BRITANNICA ENGLISH - ARABIC TRANSLATION</a> </li><li><a href=\"http://www.nglish.com/spanish/en/\">NGLISH - SPANISH-ENGLISH TRANSLATION</a></li></ul></div></div> <div class=\"follow-us lazyload\"><p>FOLLOW US </p><div class=\"follow-links\"><ul><li><a href=\"https://www.facebook.com/merriamwebster\" rel=\"noopener\" target=\"_blank\" class=\"social-link social-fb\">Facebook</a> </li><li><a href=\"https://twitter.com/merriamwebster\" rel=\"noopener\" target=\"_blank\" class=\"social-link social-tw\">Twitter</a> </li><li><a href=\"https://www.youtube.com/user/MerriamWebsterOnline\" rel=\"noopener\" target=\"_blank\" class=\"social-link social-play\">YouTube</a> </li><li><a href=\"https://www.instagram.com/merriamwebster/\" rel=\"noopener\" target=\"_blank\" class=\"social-link social-ig\">Instagram</a></li></ul></div></div></div></div> <div class=\"footer-foot clearfix footer-oa\" style=\"padding-bottom: 0px; transition: padding-bottom 0.2s ease-out 0s;\"><div class=\"footer-foot-content clearfix\"><ul class=\"footer-menu browse-dictionary\"><li><a href=\"/browse/dictionary/a\">Browse the Dictionary:</a> </li><li><a href=\"/browse/dictionary/a\">a</a> </li><li><a href=\"/browse/dictionary/b\">b</a> </li><li><a href=\"/browse/dictionary/c\">c</a> </li><li><a href=\"/browse/dictionary/d\">d</a> </li><li><a href=\"/browse/dictionary/e\">e</a> </li><li><a href=\"/browse/dictionary/f\">f</a> </li><li><a href=\"/browse/dictionary/g\">g</a> </li><li><a href=\"/browse/dictionary/h\">h</a> </li><li><a href=\"/browse/dictionary/i\">i</a> </li><li><a href=\"/browse/dictionary/j\">j</a> </li><li><a href=\"/browse/dictionary/k\">k</a> </li><li><a href=\"/browse/dictionary/l\">l</a> </li><li><a href=\"/browse/dictionary/m\">m</a> </li><li><a href=\"/browse/dictionary/n\">n</a> </li><li><a href=\"/browse/dictionary/o\">o</a> </li><li><a href=\"/browse/dictionary/p\">p</a> </li><li><a href=\"/browse/dictionary/q\">q</a> </li><li><a href=\"/browse/dictionary/r\">r</a> </li><li><a href=\"/browse/dictionary/s\">s</a> </li><li><a href=\"/browse/dictionary/t\">t</a> </li><li><a href=\"/browse/dictionary/u\">u</a> </li><li><a href=\"/browse/dictionary/v\">v</a> </li><li><a href=\"/browse/dictionary/w\">w</a> </li><li><a href=\"/browse/dictionary/x\">x</a> </li><li><a href=\"/browse/dictionary/y\">y</a> </li><li><a href=\"/browse/dictionary/z\">z</a> </li><li><a href=\"/browse/dictionary/0\">0-9</a></li></ul> <ul class=\"footer-menu\"><li><a href=\"/\">Home <span class=\"rborder\"></span></a> </li><li><a href=\"/help\">Help <span class=\"rborder\"></span></a> </li><li><a href=\"/apps\">Apps <span class=\"rborder\"></span></a> </li><li><a href=\"/about-us\">About Us <span class=\"rborder\"></span></a> </li><li><a href=\"/shop-dictionaries\">Shop <span class=\"rborder\"></span></a> </li><li><a href=\"/advertising\">Advertising Info <span class=\"rborder\"></span></a> </li><li><a href=\"https://www.dictionaryapi.com/\" rel=\"noopener\" target=\"_blank\">Dictionary API <span class=\"rborder\"></span></a> </li><li><a href=\"/contact-us\">Contact Us <span class=\"rborder\"></span></a> </li><li><a href=\"https://unabridged.merriam-webster.com/subscriber/register/p1?HDR_GLOBAL_JOINMWU\" rel=\"noopener\" target=\"_blank\">Join MWU <span class=\"rborder\"></span></a> </li><li><a href=\"/video\">Video <span class=\"rborder\"></span></a> </li><li><a href=\"/words-at-play/word-of-the-year\">Word of the Year <span class=\"rborder\"></span></a> </li><li><a href=\"/legal\">Law Dictionary <span class=\"rborder\"></span></a> </li><li><a href=\"/medical\">Medical Dictionary <span class=\"rborder\"></span></a> </li><li><a href=\"/privacy-policy\">Privacy Policy <span class=\"rborder\"></span></a> </li><li><a href=\"/terms-of-use\">Terms of Use <span class=\"rborder\"></span></a> </li><li class=\"last\"><a href=\"#\" id=\"doNotSell\">Do Not Sell My Info</a></li></ul> <ul class=\"footer-menu\"><li><a href=\"/browse/thesaurus/a\">Browse the Thesaurus <span class=\"rborder\"></span></a> </li><li><a href=\"/browse/medical/a\">Browse the Medical Dictionary<span class=\"rborder\"></span></a> </li><li><a href=\"/browse/legal/a\">Browse the Legal Dictionary<span class=\"rborder\"></span></a> </li><li class=\"last\"><a href=\"http://www.spanishcentral.com/browse/a\" rel=\"noopener\" target=\"_blank\">Browse the Spanish-English Dictionary</a></li></ul> <p class=\"copyright\">© 2020 Merriam-Webster, Incorporated</p></div></div></footer>\n"
     ]
    }
   ],
   "source": [
    "# url 55\n",
    "i = urls[54]\n",
    "#open_url(i)\n",
    "element = driver.find_element_by_css_selector('.global-footer')\n",
    "source = element.get_attribute(\"outerHTML\")\n",
    "print(source)\n",
    "ad_type = \"better\"\n",
    "data.append({\"TYPE\" : ad_type, \"ad_code\" : source, \"URL\" : i})"
   ]
  },
  {
   "cell_type": "code",
   "execution_count": 427,
   "metadata": {
    "collapsed": true
   },
   "outputs": [
    {
     "name": "stdout",
     "output_type": "stream",
     "text": [
      "<div id=\"div-gpt-square-flex-1\" data-tier=\"1\" class=\"ad ad-container ad-wrapper  desktop-ad  karma-ad\" data-dimensions=\"\" role=\"complementary\" aria-hidden=\"true\" tabindex=\"-1\" data-google-query-id=\"CLCj78n2yucCFdOTvQodF7YN6A\"><div id=\"google_ads_iframe_3865/rsm.mdp.com/tier1/video_article/home_2__container__\" style=\"border: 0pt none;\"><iframe id=\"google_ads_iframe_3865/rsm.mdp.com/tier1/video_article/home_2\" title=\"3rd party ad content\" name=\"google_ads_iframe_3865/rsm.mdp.com/tier1/video_article/home_2\" scrolling=\"no\" marginwidth=\"0\" marginheight=\"0\" style=\"border: 0px none; vertical-align: bottom;\" srcdoc=\"\" sandbox=\"allow-forms allow-pointer-lock allow-popups allow-popups-to-escape-sandbox allow-same-origin allow-scripts allow-top-navigation-by-user-activation\" data-google-container-id=\"2\" data-load-complete=\"true\" width=\"300\" height=\"1050\" frameborder=\"0\"></iframe></div></div>\n"
     ]
    }
   ],
   "source": [
    "# url 56\n",
    "i = urls[55]\n",
    "#open_url(i)\n",
    "element = driver.find_element_by_css_selector('#div-gpt-square-flex-1')\n",
    "source = element.get_attribute(\"outerHTML\")\n",
    "print(source)\n",
    "ad_type = \"better\"\n",
    "data.append({\"TYPE\" : ad_type, \"ad_code\" : source, \"URL\" : i})"
   ]
  },
  {
   "cell_type": "code",
   "execution_count": 430,
   "metadata": {
    "collapsed": true
   },
   "outputs": [
    {
     "name": "stdout",
     "output_type": "stream",
     "text": [
      "<div id=\"footermagmore\"><div class=\"bxc bx-base bx-custom bx-active-step-1 bx-campaign-1021405 bx-brand-12278 bx-width-full bx-type-agilityzone bx-has-close-x-1 bx-impress\" id=\"bx-campaign-1021405\" style=\"display: none; visibility: hidden; margin-top: 0px; margin-left: 0px;\" aria-hidden=\"false\"><div id=\"bx-shroud-1021405\" class=\"bx-matte bx-shroud bx-shroud-1021405\"></div><div id=\"bx-hover-shroud-1021405\" class=\"bx-hover-shroud bx-hover-shroud-1021405\" style=\"display:none\"></div><div class=\"bx-slab\"><div class=\"bx-align\"><div class=\"bx-creative bx-creative-1021405\" id=\"bx-creative-1021405\"><div class=\"bx-wrap\"><a id=\"bx-close-inside-1021405\" class=\"bx-close bx-close-link bx-close-inside\" href=\"javascript:void(0)\" data-click=\"close\"><svg class=\"bx-close-xsvg\" viewBox=\"240 240 20 20\"><g class=\"bx-close-xstroke bx-close-x-adaptive\"><path class=\"bx-close-x-adaptive-1\" d=\"M255.6 255.6l-11.2-11.2\" vector-effect=\"non-scaling-stroke\"></path><path class=\"bx-close-x-adaptive-2\" d=\"M255.6 244.4l-11.2 11.2\" vector-effect=\"non-scaling-stroke\"></path></g></svg><div class=\"bx-ally-label\">close dialog</div></a><div class=\"bx-step bx-step-1 bx-active-step bx-step-7LmfTpO bx-step-1021405-1 bx-tail-placement-hidden\" id=\"bx-step-1021405-1\" data-close-placement=\"\"><form id=\"bx-form-1021405-step-1\" bx-novalidate=\"true\" method=\"post\" action=\"https://api.bounceexchange.com/capture/submit\" onsubmit=\"return bouncex.submitCampaignStep(1021405); return false\" onreset=\"bouncex.close_ad(1021405); return false\" tabindex=\"0\"><input type=\"hidden\" name=\"campaign_id\" value=\"1021405\"><div class=\"bx-group bx-group-default bx-group-1021405-2JlhMqj bx-group-2JlhMqj\" id=\"bx-group-1021405-2JlhMqj\"><div class=\"bx-row bx-row-text bx-row-text-subheadline  bx-row-7Pzp6d6 bx-element-1021405-7Pzp6d6\" id=\"bx-element-1021405-7Pzp6d6\"><div>Get Real Simple Magazine</div></div><div class=\"bx-row bx-row-text bx-row-text-subheadline  bx-row-oks2Tbg bx-element-1021405-oks2Tbg\" id=\"bx-element-1021405-oks2Tbg\"><div>for less than</div></div><div class=\"bx-row bx-row-text bx-row-text-headline  bx-row-PoYEsxL bx-element-1021405-PoYEsxL\" id=\"bx-element-1021405-PoYEsxL\"><div>$1 an issue</div></div></div><div class=\"bx-group bx-group-default bx-group-1021405-hSQySe7 bx-group-hSQySe7\" id=\"bx-group-1021405-hSQySe7\"><div class=\"bx-row bx-row-line bx-row-line-default  bx-row-w55dVJX bx-element-1021405-w55dVJX\" id=\"bx-element-1021405-w55dVJX\"><div class=\"bx-lineshape\"></div></div></div><div class=\"bx-group bx-group-default bx-group-1021405-S3PWoho bx-group-S3PWoho\" id=\"bx-group-1021405-S3PWoho\"><div class=\"bx-row bx-row-submit bx-row-submit-default  bx-row-wRaF6o8 bx-element-1021405-wRaF6o8\" id=\"bx-element-1021405-wRaF6o8\"><a href=\"https://www.magazine.store/real-simple?utm_source=realsimple.com&amp;utm_medium=owned&amp;utm_campaign=bx_i907rsrfw1468a\" target=\"\" class=\"bx-button\" data-click=\"hyperlink\" data-click-report=\"click\">SUBSCRIBE NOW</a></div></div></form></div></div></div></div></div><a id=\"bx-close-outside-1021405\" class=\"bx-close bx-close-link bx-close-outside\" href=\"javascript:void(0)\" data-click=\"close\"><svg class=\"bx-close-xsvg\" viewBox=\"240 240 20 20\"><g class=\"bx-close-xstroke bx-close-x-adaptive\"><path class=\"bx-close-x-adaptive-1\" d=\"M255.6 255.6l-11.2-11.2\" vector-effect=\"non-scaling-stroke\"></path><path class=\"bx-close-x-adaptive-2\" d=\"M255.6 244.4l-11.2 11.2\" vector-effect=\"non-scaling-stroke\"></path></g></svg><div class=\"bx-ally-label\">close dialog</div></a><style id=\"bx-campaign-1021405-style\">/* effects for .bx-campaign-1021405 *//* rendered styles .bx-campaign-1021405 */.bxc.bx-campaign-1021405.bx-active-step-1 .bx-creative> *:first-child {width: 300px;padding: 10px;}.bxc.bx-campaign-1021405.bx-active-step-1 .bx-creative:before {min-height: 250px;}.bxc.bx-campaign-1021405.bx-active-step-1 .bx-creative {border-style: solid;border-color: rgb(245, 65, 108);border-width: 2px;max-width: 300px;max-height: 250px;}@media all and (max-width: 736px) {.bxc.bx-campaign-1021405.bx-active-step-1 .bx-creative:before {min-height: 180px;}}.bxc.bx-campaign-1021405 .bx-group-1021405-2JlhMqj {width: 100%;cursor: pointer;}@media all and (max-width: 736px) {.bxc.bx-campaign-1021405 .bx-group-1021405-2JlhMqj {width: 100%;}}.bxc.bx-campaign-1021405 .bx-element-1021405-7Pzp6d6 {padding: 0 0 6px ;}@media all and (max-width: 736px) {.bxc.bx-campaign-1021405 .bx-element-1021405-7Pzp6d6 {width: auto;}}.bxc.bx-campaign-1021405 .bx-element-1021405-7Pzp6d6> *:first-child {font-size: 16px;letter-spacing: 0.05em;color: rgb(245, 65, 108);cursor: pointer;}.bxc.bx-campaign-1021405 .bx-element-1021405-oks2Tbg> *:first-child {font-size: 16px;font-weight: 400;color: #000000;cursor: pointer;}.bxc.bx-campaign-1021405 .bx-element-1021405-PoYEsxL {width: 100%;padding: 0 0 10px;}.bxc.bx-campaign-1021405 .bx-element-1021405-PoYEsxL> *:first-child {font-size: 30px;font-family: Sophia, sans-serif;font-weight: 700;letter-spacing: -0.01em;cursor: pointer;}@media all and (max-width: 736px) {.bxc.bx-campaign-1021405 .bx-element-1021405-PoYEsxL> *:first-child {font-size: 26px;}}@media all and (min-width: 737px) and (max-width: 1024px) {.bxc.bx-campaign-1021405 .bx-element-1021405-PoYEsxL> *:first-child {font-size: 30px;}}.bxc.bx-campaign-1021405 .bx-group-1021405-hSQySe7 {padding: 10px 0;position: relative;cursor: pointer;}.bxc.bx-campaign-1021405 .bx-element-1021405-w55dVJX {width: 60PX;padding: 0px;}.bxc.bx-campaign-1021405 .bx-element-1021405-w55dVJX> *:first-child {height: 76PX;background-image: url(https://secure.static.meredith.com/crt/store/covers/magazines/mdp/RSP_m.jpg);BOX-SHADOW: 0 0 5px rgba(0,0,0,0.3);}.bxc.bx-campaign-1021405 .bx-group-1021405-S3PWoho {padding: 10px 0 0 ;}.bxc.bx-campaign-1021405 .bx-element-1021405-wRaF6o8 {width: auto;padding: 0px;}.bxc.bx-campaign-1021405 .bx-element-1021405-wRaF6o8> *:first-child {padding: 12px 20px ;font-size: 11px;}</style></div></div>\n"
     ]
    }
   ],
   "source": [
    "# url 57\n",
    "i = urls[56]\n",
    "#open_url(i)\n",
    "element = driver.find_element_by_css_selector('#footermagmore')\n",
    "source = element.get_attribute(\"outerHTML\")\n",
    "print(source)\n",
    "ad_type = \"better\"\n",
    "data.append({\"TYPE\" : ad_type, \"ad_code\" : source, \"URL\" : i})"
   ]
  },
  {
   "cell_type": "code",
   "execution_count": 434,
   "metadata": {
    "collapsed": true
   },
   "outputs": [
    {
     "name": "stdout",
     "output_type": "stream",
     "text": [
      "<section class=\"m-adaptive-ad-component m-component-stack\"><aside class=\"m-in-content-ad-row not-size-b not-size-c not-size-d\" data-ad-group=\"below_content-0\"><phoenix-ad class=\"m-ad not-size-b not-size-c not-size-d m-in-content-ad--slot\" config=\"{&quot;adHtml&quot;:&quot;&quot;,&quot;adReloaderDelay&quot;:0,&quot;maxAdReloads&quot;:5,&quot;adReloaderSizeCodes&quot;:null,&quot;adCloseButton&quot;:false,&quot;bonusConfig&quot;:null,&quot;classRules&quot;:[{&quot;dimensions&quot;:[&quot;0x0&quot;],&quot;classes&quot;:[&quot;m-advertisement--fluid-card&quot;,&quot;m-advertisement--fluid-list-card&quot;]}],&quot;localizedPhrases&quot;:{&quot;advertisement_legend&quot;:&quot;ADVERTISEMENT&quot;,&quot;outstream_clickout&quot;:&quot;Visit Website&quot;,&quot;outstream_thanks&quot;:&quot;Thanks for watching!&quot;},&quot;overrideOutstreamScript&quot;:false,&quot;moduleClass&quot;:&quot;m-in-content-ad&quot;,&quot;slotId&quot;:&quot;ad-7763055f3e4f41c4bb40fa1df8c849af&quot;,&quot;visClasses&quot;:[&quot;not-size-b&quot;,&quot;not-size-c&quot;,&quot;not-size-d&quot;],&quot;extraClasses&quot;:null,&quot;zone&quot;:&quot;below_content&quot;,&quot;adGroup&quot;:&quot;below_content-0&quot;,&quot;slotConfig&quot;:{&quot;config&quot;:{&quot;sizes&quot;:[[300,250],&quot;fluid&quot;]},&quot;model&quot;:{&quot;zone&quot;:&quot;below_content&quot;,&quot;index&quot;:&quot;0&quot;,&quot;isOutstream&quot;:false,&quot;deferLoad&quot;:false,&quot;nativeCardType&quot;:&quot;list&quot;},&quot;sizes&quot;:[{&quot;width&quot;:300,&quot;height&quot;:250},{&quot;name&quot;:&quot;fluid&quot;}],&quot;screenSizes&quot;:[&quot;A&quot;],&quot;slotModel&quot;:{&quot;zone&quot;:&quot;below_content&quot;,&quot;index&quot;:&quot;0&quot;,&quot;isOutstream&quot;:false,&quot;deferLoad&quot;:false,&quot;nativeCardType&quot;:&quot;list&quot;},&quot;id&quot;:&quot;ad-7763055f3e4f41c4bb40fa1df8c849af&quot;,&quot;adUnitPath&quot;:&quot;/88059007/www.thestreet.com/personal-finance/taxes&quot;}}\"><div class=\"not-size-b not-size-c not-size-d m-in-content-ad is-placeholder\"><div id=\"ad-7763055f3e4f41c4bb40fa1df8c849af\"></div></div></phoenix-ad></aside><aside class=\"m-in-content-ad-row not-size-a not-size-c not-size-d\" data-ad-group=\"below_content-0\"><phoenix-ad class=\"m-ad not-size-a not-size-c not-size-d m-in-content-ad--slot\" config=\"{&quot;adHtml&quot;:&quot;&quot;,&quot;adReloaderDelay&quot;:0,&quot;maxAdReloads&quot;:5,&quot;adReloaderSizeCodes&quot;:null,&quot;adCloseButton&quot;:false,&quot;bonusConfig&quot;:null,&quot;classRules&quot;:[{&quot;sizes&quot;:[&quot;728x90&quot;],&quot;classes&quot;:[&quot;is-728x90&quot;]},{&quot;dimensions&quot;:[&quot;0x0&quot;],&quot;classes&quot;:[&quot;m-advertisement--fluid-card&quot;,&quot;m-advertisement--fluid-list-card&quot;]}],&quot;localizedPhrases&quot;:{&quot;advertisement_legend&quot;:&quot;ADVERTISEMENT&quot;,&quot;outstream_clickout&quot;:&quot;Visit Website&quot;,&quot;outstream_thanks&quot;:&quot;Thanks for watching!&quot;},&quot;overrideOutstreamScript&quot;:false,&quot;moduleClass&quot;:&quot;m-in-content-ad&quot;,&quot;slotId&quot;:&quot;ad-a5e1d8a3a0e644afbe3002754f5f456b&quot;,&quot;visClasses&quot;:[&quot;not-size-a&quot;,&quot;not-size-c&quot;,&quot;not-size-d&quot;],&quot;extraClasses&quot;:null,&quot;zone&quot;:&quot;below_content&quot;,&quot;adGroup&quot;:&quot;below_content-0&quot;,&quot;slotConfig&quot;:{&quot;config&quot;:{&quot;sizes&quot;:[[728,90],&quot;fluid&quot;]},&quot;model&quot;:{&quot;zone&quot;:&quot;below_content&quot;,&quot;index&quot;:&quot;0&quot;,&quot;isOutstream&quot;:false,&quot;deferLoad&quot;:false,&quot;nativeCardType&quot;:&quot;list&quot;},&quot;sizes&quot;:[{&quot;width&quot;:728,&quot;height&quot;:90},{&quot;name&quot;:&quot;fluid&quot;}],&quot;screenSizes&quot;:[&quot;B&quot;],&quot;slotModel&quot;:{&quot;zone&quot;:&quot;below_content&quot;,&quot;index&quot;:&quot;0&quot;,&quot;isOutstream&quot;:false,&quot;deferLoad&quot;:false,&quot;nativeCardType&quot;:&quot;list&quot;},&quot;id&quot;:&quot;ad-a5e1d8a3a0e644afbe3002754f5f456b&quot;,&quot;adUnitPath&quot;:&quot;/88059007/www.thestreet.com/personal-finance/taxes&quot;}}\"><div class=\"not-size-a not-size-c not-size-d m-in-content-ad is-placeholder\"><div id=\"ad-a5e1d8a3a0e644afbe3002754f5f456b\"></div></div></phoenix-ad></aside><aside class=\"m-in-content-ad-row not-size-a not-size-b\" data-ad-group=\"below_content-0\"><phoenix-ad class=\"m-ad not-size-a not-size-b m-in-content-ad--slot is-loaded\" config=\"{&quot;adHtml&quot;:&quot;&quot;,&quot;adReloaderDelay&quot;:0,&quot;maxAdReloads&quot;:5,&quot;adReloaderSizeCodes&quot;:null,&quot;adCloseButton&quot;:false,&quot;bonusConfig&quot;:null,&quot;classRules&quot;:[{&quot;sizes&quot;:[&quot;970x250&quot;],&quot;classes&quot;:[&quot;is-970x250&quot;]},{&quot;sizes&quot;:[&quot;728x90&quot;],&quot;classes&quot;:[&quot;is-728x90&quot;]},{&quot;dimensions&quot;:[&quot;0x0&quot;],&quot;classes&quot;:[&quot;m-advertisement--fluid-card&quot;,&quot;m-advertisement--fluid-list-card&quot;]}],&quot;localizedPhrases&quot;:{&quot;advertisement_legend&quot;:&quot;ADVERTISEMENT&quot;,&quot;outstream_clickout&quot;:&quot;Visit Website&quot;,&quot;outstream_thanks&quot;:&quot;Thanks for watching!&quot;},&quot;overrideOutstreamScript&quot;:false,&quot;moduleClass&quot;:&quot;m-in-content-ad&quot;,&quot;slotId&quot;:&quot;ad-7f801b33e9d9485ea1f7e4df73fb4e36&quot;,&quot;visClasses&quot;:[&quot;not-size-a&quot;,&quot;not-size-b&quot;],&quot;extraClasses&quot;:null,&quot;zone&quot;:&quot;below_content&quot;,&quot;adGroup&quot;:&quot;below_content-0&quot;,&quot;slotConfig&quot;:{&quot;config&quot;:{&quot;sizes&quot;:[[970,250],[970,90],[728,90],&quot;fluid&quot;]},&quot;model&quot;:{&quot;zone&quot;:&quot;below_content&quot;,&quot;index&quot;:&quot;0&quot;,&quot;isOutstream&quot;:false,&quot;deferLoad&quot;:false,&quot;nativeCardType&quot;:&quot;list&quot;},&quot;sizes&quot;:[{&quot;width&quot;:970,&quot;height&quot;:250},{&quot;width&quot;:970,&quot;height&quot;:90},{&quot;width&quot;:728,&quot;height&quot;:90},{&quot;name&quot;:&quot;fluid&quot;}],&quot;screenSizes&quot;:[&quot;C&quot;],&quot;slotModel&quot;:{&quot;zone&quot;:&quot;below_content&quot;,&quot;index&quot;:&quot;0&quot;,&quot;isOutstream&quot;:false,&quot;deferLoad&quot;:false,&quot;nativeCardType&quot;:&quot;list&quot;},&quot;id&quot;:&quot;ad-7f801b33e9d9485ea1f7e4df73fb4e36&quot;,&quot;adUnitPath&quot;:&quot;/88059007/www.thestreet.com/personal-finance/taxes&quot;},&quot;showBlockthrough&quot;:true}\"><div class=\"not-size-a not-size-b m-in-content-ad is-loaded\"><div id=\"ad-7f801b33e9d9485ea1f7e4df73fb4e36\" data-google-query-id=\"CIeLy7H3yucCFcJxvQodiTYMmQ\" data-ad-size=\"970x250\"><div id=\"google_ads_iframe_/88059007/www.thestreet.com/personal-finance/taxes_4__container__\" style=\"border: 0pt none; padding-top: 0px;\"><iframe id=\"google_ads_iframe_/88059007/www.thestreet.com/personal-finance/taxes_4\" title=\"3rd party ad content\" name=\"google_ads_iframe_/88059007/www.thestreet.com/personal-finance/taxes_4\" scrolling=\"no\" marginwidth=\"0\" marginheight=\"0\" style=\"border: 0px none; vertical-align: bottom;\" srcdoc=\"\" data-google-container-id=\"5\" data-load-complete=\"true\" width=\"970\" height=\"250\" frameborder=\"0\"></iframe></div></div></div></phoenix-ad></aside></section>\n"
     ]
    }
   ],
   "source": [
    "# url 58\n",
    "i = urls[57]\n",
    "#open_url(i)\n",
    "element = driver.find_element_by_css_selector('.m-adaptive-ad-component')\n",
    "source = element.get_attribute(\"outerHTML\")\n",
    "print(source)\n",
    "ad_type = \"better\"\n",
    "data.append({\"TYPE\" : ad_type, \"ad_code\" : source, \"URL\" : i})"
   ]
  },
  {
   "cell_type": "code",
   "execution_count": 439,
   "metadata": {
    "collapsed": true
   },
   "outputs": [
    {
     "name": "stdout",
     "output_type": "stream",
     "text": [
      "<div class=\"sidebar-ad\"><div id=\"pos_2_atf_300x250-wrap\" class=\"ad-wrapper\"><div id=\"pos_2_atf_300x250\" class=\"pos_2_atf_300x250\" data-google-query-id=\"CMX3pND3yucCFYMFXAodsysO3g\"><div id=\"google_ads_iframe_/6119/pressherald.com/news_12__container__\" style=\"border: 0pt none;\"><iframe id=\"google_ads_iframe_/6119/pressherald.com/news_12\" title=\"3rd party ad content\" name=\"google_ads_iframe_/6119/pressherald.com/news_12\" scrolling=\"no\" marginwidth=\"0\" marginheight=\"0\" style=\"border: 0px none; vertical-align: bottom;\" srcdoc=\"\" data-google-container-id=\"2\" data-load-complete=\"true\" width=\"300\" height=\"600\" frameborder=\"0\"></iframe></div></div></div></div>\n"
     ]
    }
   ],
   "source": [
    "# url 59\n",
    "i = urls[58]\n",
    "#open_url(i)\n",
    "element = driver.find_element_by_css_selector('div.mtm-ad-col:nth-child(2) > div:nth-child(2)')\n",
    "source = element.get_attribute(\"outerHTML\")\n",
    "print(source)\n",
    "ad_type = \"better\"\n",
    "data.append({\"TYPE\" : ad_type, \"ad_code\" : source, \"URL\" : i})"
   ]
  },
  {
   "cell_type": "code",
   "execution_count": 442,
   "metadata": {
    "collapsed": true
   },
   "outputs": [
    {
     "name": "stdout",
     "output_type": "stream",
     "text": [
      "<div id=\"adslot5\" style=\"margin: 0px auto; text-align: center; width: 302px;\" data-google-query-id=\"CI3f7Kj4yucCFRy8vQodE74Mdg\"><div id=\"google_ads_iframe_/6119/pressherald.com/news_4__container__\" style=\"border: 0pt none; padding-top: 0px;\"><iframe id=\"google_ads_iframe_/6119/pressherald.com/news_4\" title=\"3rd party ad content\" name=\"google_ads_iframe_/6119/pressherald.com/news_4\" scrolling=\"no\" marginwidth=\"0\" marginheight=\"0\" style=\"border: 0px none; vertical-align: bottom;\" srcdoc=\"\" data-google-container-id=\"b\" data-load-complete=\"true\" width=\"300\" height=\"250\" frameborder=\"0\"></iframe></div></div>\n"
     ]
    }
   ],
   "source": [
    "# url 60\n",
    "i = urls[59]\n",
    "#open_url(i)\n",
    "element = driver.find_element_by_css_selector('#adslot5')\n",
    "source = element.get_attribute(\"outerHTML\")\n",
    "print(source)\n",
    "ad_type = \"better\"\n",
    "data.append({\"TYPE\" : ad_type, \"ad_code\" : source, \"URL\" : i})"
   ]
  },
  {
   "cell_type": "code",
   "execution_count": 445,
   "metadata": {
    "collapsed": true
   },
   "outputs": [
    {
     "name": "stdout",
     "output_type": "stream",
     "text": [
      "<div class=\"gf_browser_gecko gform_wrapper article-signup_wrapper\" id=\"gform_wrapper_249\"><div id=\"gf_249\" class=\"gform_anchor\" tabindex=\"-1\"></div><form method=\"post\" enctype=\"multipart/form-data\" target=\"gform_ajax_frame_249\" id=\"gform_249\" class=\"article-signup\" action=\"/2020/02/11/tick-surveillance-study-finds-40-of-deer-tick-samples-tested-positive-for-lyme-disease/#gf_249\">\n",
      "<input type=\"hidden\" class=\"gforms-pum\" value=\"{&quot;closepopup&quot;:false,&quot;closedelay&quot;:0,&quot;openpopup&quot;:false,&quot;openpopup_id&quot;:0}\">\n",
      "<div class=\"gform_heading\">\n",
      "<h3 class=\"gform_title\">Want the news that's vital to Maine?</h3>\n",
      "<span class=\"gform_description\">Our daily headlines email is delivered each morning. </span>\n",
      "</div>\n",
      "<div class=\"gform_body\"><ul id=\"gform_fields_249\" class=\"gform_fields top_label form_sublabel_below description_below\"><li id=\"field_249_1\" class=\"gfield newsletter-input-condition gfield_contains_required field_sublabel_below field_description_below gfield_visibility_visible\"><label class=\"gfield_label\" for=\"input_249_1\">Email<span class=\"gfield_required\">*</span></label><div class=\"ginput_container ginput_container_email\">\n",
      "<input name=\"input_1\" id=\"input_249_1\" type=\"text\" value=\"\" class=\"large\" placeholder=\"Enter email address here\" aria-required=\"true\" aria-invalid=\"false\">\n",
      "</div></li><li id=\"field_249_2\" class=\"gfield newsletter-conditional gfield_contains_required field_sublabel_below field_description_below gfield_visibility_visible\"><label class=\"gfield_label\">Newsletter Choices<span class=\"gfield_required\">*</span></label><div class=\"ginput_container ginput_container_checkbox\"><ul class=\"gfield_checkbox\" id=\"input_249_2\"><li class=\"gchoice_249_2_1\">\n",
      "<input name=\"input_2.1\" type=\"checkbox\" value=\"Daily Headlines and Evening Express\" checked=\"checked\" id=\"choice_249_2_1\">\n",
      "<label for=\"choice_249_2_1\" id=\"label_249_2_1\">Daily Headlines and Evening Express</label>\n",
      "</li><li class=\"gchoice_249_2_2\">\n",
      "<input name=\"input_2.2\" type=\"checkbox\" value=\"Breaking News\" id=\"choice_249_2_2\">\n",
      "<label for=\"choice_249_2_2\" id=\"label_249_2_2\">Breaking News</label>\n",
      "</li><li class=\"gchoice_249_2_3\">\n",
      "<input name=\"input_2.3\" type=\"checkbox\" value=\"Business Headlines\" id=\"choice_249_2_3\">\n",
      "<label for=\"choice_249_2_3\" id=\"label_249_2_3\">Business Headlines</label>\n",
      "</li><li class=\"gchoice_249_2_4\">\n",
      "<input name=\"input_2.4\" type=\"checkbox\" value=\"Maine Cannabis Report\" id=\"choice_249_2_4\">\n",
      "<label for=\"choice_249_2_4\" id=\"label_249_2_4\">Maine Cannabis Report</label>\n",
      "</li><li class=\"gchoice_249_2_5\">\n",
      "<input name=\"input_2.5\" type=\"checkbox\" value=\"High School Sports\" id=\"choice_249_2_5\">\n",
      "<label for=\"choice_249_2_5\" id=\"label_249_2_5\">High School Sports</label>\n",
      "</li><li class=\"gchoice_249_2_6\">\n",
      "<input name=\"input_2.6\" type=\"checkbox\" value=\"Real Estate\" id=\"choice_249_2_6\">\n",
      "<label for=\"choice_249_2_6\" id=\"label_249_2_6\">Real Estate</label>\n",
      "</li></ul></div></li><li id=\"field_249_4\" class=\"gfield gfield_html gfield_html_formatted gfield_no_follows_desc field_sublabel_below field_description_below gfield_visibility_visible\"><div class=\"terms-text\">By submitting your email address you agree to our <a href=\"https://www.pressherald.com/terms-use/?rel=related\" target=\"_blank\">terms of service</a>.</div>\n",
      "<style>\n",
      "#gform_wrapper_249 {\n",
      "margin:60px  0px 80px;\n",
      "}\n",
      "\n",
      ".no-sidebar #gform_wrapper_249 {\n",
      "    max-width: 60%;\n",
      "    margin-left: auto;\n",
      "    margin-right: auto;\n",
      "}\n",
      ".no-sidebar #gform_wrapper_249 .terms-text { \n",
      "    text-align: center !important;\n",
      "}\n",
      "\n",
      "#gform_wrapper_249 .terms-text { \n",
      "     font-family: 'Open Sans', sans-serif;\n",
      "     text-align: left;\n",
      "     font-size: 10px;\n",
      "     display: table;\n",
      "     color: #222;\n",
      "     position:relative;\n",
      "     top: 55px;\n",
      "     width: 100%;\n",
      "\n",
      "}\n",
      "\n",
      "@media only screen and (max-width: 420px) {\n",
      "     #gform_wrapper_249 .terms-text { \n",
      "          top: 75px;\n",
      "     }\n",
      "}\n",
      "\n",
      "#gform_wrapper_249 .article-signup {\n",
      "    border-top: none;\n",
      "    border-bottom: none;\n",
      "    width:100%;\n",
      "}\n",
      "#gform_wrapper_249 .top_label .gfield_label {\n",
      "    display: none;\n",
      "}\n",
      "#gform_wrapper_249 input:not([type=radio]):not([type=checkbox]):not([type=submit]):not([type=button]):not([type=image]):not([type=file]) {\n",
      "    width:100%;\n",
      "}\n",
      "\n",
      "\n",
      "#gform_wrapper_249 .gform_heading {\n",
      "    width: 100%;\n",
      "    margin-right: 0px;\n",
      "}\n",
      "#gform_wrapper_249 .gform_body {\n",
      "    width: 100%;\n",
      "}\n",
      "#gform_wrapper_249 .article-signup .gform_footer.top_label {\n",
      "    width: 100%;\n",
      "    display: inline-block;\n",
      "}\n",
      "#gform_wrapper_249 .gform_footer input.button, #gform_wrapper_249 .gform_footer input[type=submit]{\n",
      "    width: 100%;\n",
      "}\n",
      "\n",
      "#gform_wrapper_249 .gfield_html.gfield_no_follows_desc {\n",
      "     margin-top: 0px;\n",
      "}\n",
      "#gform_wrapper_249 ul.gform_fields li.gfield {\n",
      "     padding-right: 0px;\n",
      "}\n",
      "\n",
      "</style></li><li id=\"field_249_5\" class=\"gfield gform_validation_container field_sublabel_below field_description_below gfield_visibility_visible\"><label class=\"gfield_label\" for=\"input_249_5\">Comments</label><div class=\"ginput_container\"><input name=\"input_5\" id=\"input_249_5\" type=\"text\" value=\"\"></div><div class=\"gfield_description\" id=\"gfield_description__5\">This field is for validation purposes and should be left unchanged.</div></li>\n",
      "</ul></div>\n",
      "<div class=\"gform_footer top_label\"> <input type=\"submit\" id=\"gform_submit_button_249\" class=\"gform_button button\" value=\"Sign up\" onclick=\"if(window[&quot;gf_submitting_249&quot;]){return false;}  window[&quot;gf_submitting_249&quot;]=true;  \" onkeypress=\"if( event.keyCode == 13 ){ if(window[&quot;gf_submitting_249&quot;]){return false;} window[&quot;gf_submitting_249&quot;]=true;  jQuery(&quot;#gform_249&quot;).trigger(&quot;submit&quot;,[true]); }\"> <input type=\"hidden\" name=\"gform_ajax\" value=\"form_id=249&amp;title=1&amp;description=1&amp;tabindex=0\">\n",
      "<input type=\"hidden\" class=\"gform_hidden\" name=\"is_submit_249\" value=\"1\">\n",
      "<input type=\"hidden\" class=\"gform_hidden\" name=\"gform_submit\" value=\"249\">\n",
      "<input type=\"hidden\" class=\"gform_hidden\" name=\"gform_unique_id\" value=\"\">\n",
      "<input type=\"hidden\" class=\"gform_hidden\" name=\"state_249\" value=\"WyJbXSIsIjljZDljOTdiMWYwNDE1YjFjYTk1Y2UxOWM4NDk4MGUzIl0=\">\n",
      "<input type=\"hidden\" class=\"gform_hidden\" name=\"gform_target_page_number_249\" id=\"gform_target_page_number_249\" value=\"0\">\n",
      "<input type=\"hidden\" class=\"gform_hidden\" name=\"gform_source_page_number_249\" id=\"gform_source_page_number_249\" value=\"1\">\n",
      "<input type=\"hidden\" name=\"gform_field_values\" value=\"\">\n",
      "</div>\n",
      "</form>\n",
      "</div>\n"
     ]
    }
   ],
   "source": [
    "# url 61\n",
    "i = urls[60]\n",
    "#open_url(i)\n",
    "element = driver.find_element_by_css_selector('#gform_wrapper_249')\n",
    "source = element.get_attribute(\"outerHTML\")\n",
    "print(source)\n",
    "ad_type = \"better\"\n",
    "data.append({\"TYPE\" : ad_type, \"ad_code\" : source, \"URL\" : i})"
   ]
  },
  {
   "cell_type": "code",
   "execution_count": 450,
   "metadata": {
    "collapsed": true
   },
   "outputs": [
    {
     "name": "stdout",
     "output_type": "stream",
     "text": [
      "<div id=\"pos_1_atf_728x90-wrap\" class=\"ad-wrapper\"><div id=\"pos_1_atf_728x90\" class=\"mtm-leaderboard-pos1\" data-google-query-id=\"CLv7gOT4yucCFQuylgodJLMJOg\"><div id=\"google_ads_iframe_/6119/pressherald.com/news_3__container__\" style=\"border: 0pt none;\"><iframe id=\"google_ads_iframe_/6119/pressherald.com/news_3\" title=\"3rd party ad content\" name=\"google_ads_iframe_/6119/pressherald.com/news_3\" scrolling=\"no\" marginwidth=\"0\" marginheight=\"0\" style=\"border: 0px none; vertical-align: bottom;\" srcdoc=\"\" data-google-container-id=\"1\" data-load-complete=\"true\" width=\"970\" height=\"90\" frameborder=\"0\"></iframe></div></div></div>\n"
     ]
    }
   ],
   "source": [
    "# url 62\n",
    "i = urls[61]\n",
    "#open_url(i)\n",
    "element = driver.find_element_by_css_selector('#pos_1_atf_728x90-wrap')\n",
    "source = element.get_attribute(\"outerHTML\")\n",
    "print(source)\n",
    "ad_type = \"better\"\n",
    "data.append({\"TYPE\" : ad_type, \"ad_code\" : source, \"URL\" : i})"
   ]
  },
  {
   "cell_type": "code",
   "execution_count": 454,
   "metadata": {
    "collapsed": true
   },
   "outputs": [
    {
     "name": "stdout",
     "output_type": "stream",
     "text": [
      "<div class=\"main-container main-container-3\" tabindex=\"-1\" data-js=\"main-container-3\"><div id=\"ContentPane37\" class=\"pane\" tabindex=\"-1\"><!-- No Shared module mapped for widget Id:091e9c5e81437ec1 DM category:091e9c5e813fe389 Channel:1107 Program: --><!-- No Shared module mapped for widget Id:091e9c5e81695234 DM category:091e9c5e81673cc6 Channel:1107 Program: --></div><div id=\"ContentPane38\" class=\"pane\" tabindex=\"-1\"><script>\n",
      "                    var priTopId='1837', secTopId='';\n",
      "                </script>\n",
      "<div id=\"ads2-pos-121-ad-right\" class=\"module ad ad-121\" data-is-mobile=\"false\" data-targets=\"{'art':'091e9c5e802cf1da','cc':'56','env':'&amp;env=0','hcent':'1107','leaf':'&amp;leaf=16105','mcent':'','mic':'','pt':'1837','sec':'','pug':'','scent':'','tmg':'','tug':'','uri':'%2fsmoking-cessation%2fss%2fslideshow-13-best-quit-smoking-tips-ever','rd':'1'}\" data-block-codes=\"_cust017_gen1_z720_f1_\" data-pos=\"121\" data-sizes=\"[[300,250],[300, 600],[300,1050]]\" data-google-query-id=\"COb51pL5yucCFcsNKgodmgsMYA\"><div id=\"google_ads_iframe_/4312434/consumer/webmd_1__container__\" style=\"border: 0pt none; padding-top: 0px;\"><iframe id=\"google_ads_iframe_/4312434/consumer/webmd_1\" title=\"3rd party ad content\" name=\"google_ads_iframe_/4312434/consumer/webmd_1\" scrolling=\"no\" marginwidth=\"0\" marginheight=\"0\" style=\"border: 0px none; vertical-align: bottom;\" srcdoc=\"\" data-google-container-id=\"c\" data-integralas-id-ab00250a-8f96-20b4-4973-a6fe22bd5f62=\"\" data-load-complete=\"true\" width=\"300\" height=\"250\" frameborder=\"0\"></iframe></div></div></div></div>\n"
     ]
    }
   ],
   "source": [
    "# url 63\n",
    "i = urls[62]\n",
    "#open_url(i)\n",
    "element = driver.find_element_by_css_selector('div.main-container:nth-child(3)')\n",
    "source = element.get_attribute(\"outerHTML\")\n",
    "print(source)\n",
    "ad_type = \"better\"\n",
    "data.append({\"TYPE\" : ad_type, \"ad_code\" : source, \"URL\" : i})"
   ]
  },
  {
   "cell_type": "code",
   "execution_count": 459,
   "metadata": {
    "collapsed": true
   },
   "outputs": [
    {
     "name": "stdout",
     "output_type": "stream",
     "text": [
      "<div class=\"global-nav-subscribe\" data-metrics-module=\"nl-mast\"><a class=\"button\" href=\"https://member.webmd.com/subscribe\" data-metrics-type=\"ad-hoc\" data-metrics-link=\"sub\">Subscribe</a></div>\n"
     ]
    }
   ],
   "source": [
    "# url 64\n",
    "i = urls[63]\n",
    "#open_url(i)\n",
    "element = driver.find_element_by_css_selector('div.global-nav-subscribe')\n",
    "source = element.get_attribute(\"outerHTML\")\n",
    "print(source)\n",
    "ad_type = \"better\"\n",
    "data.append({\"TYPE\" : ad_type, \"ad_code\" : source, \"URL\" : i})"
   ]
  },
  {
   "cell_type": "code",
   "execution_count": 468,
   "metadata": {
    "collapsed": true
   },
   "outputs": [
    {
     "name": "stdout",
     "output_type": "stream",
     "text": [
      "<div id=\"google_ads_iframe_/4312434/consumer/webmd_1__container__\" style=\"border: 0pt none;\"><iframe id=\"google_ads_iframe_/4312434/consumer/webmd_1\" title=\"3rd party ad content\" name=\"google_ads_iframe_/4312434/consumer/webmd_1\" scrolling=\"no\" marginwidth=\"0\" marginheight=\"0\" style=\"border: 0px none; vertical-align: bottom;\" srcdoc=\"\" data-google-container-id=\"2\" data-integralas-id-c5d50f0a-5f11-ca75-fce3-1139bcf8c2b6=\"\" data-load-complete=\"true\" width=\"160\" height=\"600\" frameborder=\"0\"></iframe></div>\n"
     ]
    }
   ],
   "source": [
    "# url 65\n",
    "i = urls[64]\n",
    "#open_url(i)\n",
    "element = driver.find_element_by_css_selector('#google_ads_iframe_\\/4312434\\/consumer\\/webmd_1__container__')\n",
    "source = element.get_attribute(\"outerHTML\")\n",
    "print(source)\n",
    "ad_type = \"better\"\n",
    "data.append({\"TYPE\" : ad_type, \"ad_code\" : source, \"URL\" : i})"
   ]
  },
  {
   "cell_type": "code",
   "execution_count": 471,
   "metadata": {
    "collapsed": true
   },
   "outputs": [
    {
     "name": "stdout",
     "output_type": "stream",
     "text": [
      "<div class=\"main-container main-container-3\" tabindex=\"-1\" data-js=\"main-container-3\"><div id=\"ContentPane37\" class=\"pane\" tabindex=\"-1\"><aside class=\"module module-unified-right-rail module-ed-urr dfp-native\" id=\"ed-urr\" data-metrics-module=\"ed-urr\" role=\"complementary\">\n",
      "  <header>\n",
      "    <h3>Today on WebMD</h3>\n",
      "  </header>\n",
      "  <div class=\"unified_right_inner_v2_rdr\">\n",
      "    <div class=\"entry_fmt\" id=\"dfpslot_tow_1\" data-sizes=\"[[1,10],&quot;fluid&quot;]\" data-pos=\"9001\" data-scp=\"{'mod' : ed-urr}\" data-google-query-id=\"CJ2rxtL6yucCFZ4cKgodv2oIWQ\">\n",
      "      \n",
      "    <div id=\"google_ads_iframe_/4312434/consumer/webmd_7__container__\" style=\"border: 0pt none; display: inline-block; width: 100%; height: auto; padding-top: 0px;\"><iframe style=\"border: 0px none; vertical-align: bottom; min-width: 100%;\" src=\"https://tpc.googlesyndication.com/safeframe/1-0-37/html/container.html\" id=\"google_ads_iframe_/4312434/consumer/webmd_7\" title=\"3rd party ad content\" name=\"\" scrolling=\"no\" marginwidth=\"0\" marginheight=\"0\" data-is-safeframe=\"true\" data-google-container-id=\"a\" data-load-complete=\"true\" width=\"0\" height=\"84\" frameborder=\"0\"></iframe></div></div>\n",
      "    <div class=\"entry_fmt entry_fmt_st\">\n",
      "      <div id=\"ads2-pos-921-ad-right\" class=\"ad-no-css ad-921\" data-pos=\"921\" data-sizes=\"[[1, 7]]\" data-scp=\"{'strnativekey':'xP8Dby8p66dX1vZpKKVKX4fu'}\" data-google-query-id=\"CNzihdL6yucCFULKvQodmL0KSg\">\n",
      "      <div id=\"google_ads_iframe_/4312434/consumer/webmd_2__container__\" style=\"border: 0pt none;\"><iframe id=\"google_ads_iframe_/4312434/consumer/webmd_2\" title=\"3rd party ad content\" name=\"google_ads_iframe_/4312434/consumer/webmd_2\" scrolling=\"no\" marginwidth=\"0\" marginheight=\"0\" style=\"border: 0px none; vertical-align: bottom; display: none;\" srcdoc=\"\" data-google-container-id=\"3\" data-load-complete=\"true\" data-str-iframe-visited=\"true\" width=\"1\" height=\"7\" frameborder=\"0\"></iframe><div id=\"str-native-key\" data-str-native-key=\"xP8Dby8p66dX1vZpKKVKX4fu\" style=\"display: none;\" data-str-click-tracker=\"https://adclick.g.doubleclick.net/pcs/click%253Fxai%253DAKAOjss5YSSKFFzMn4nczod3pcFTPWbTjDjjvWZJRVMI_7RxjznGmWg-U7_R4gMUS23WQ2Twc651KHEp4CRSb2q8TCpbESnISLonDvevDcoFxwCTxxqtF04kvdTrIr-0ME-UAfLAjCzwCTRGsoPxbWfmjK7Og3XNwP6vm4lWFRZEfvbSB-Gobsnp_GjIp0lF1zR-Y_mRG20L2Y1knR5xTO2Bb34_q0zvuPuDmJLM4xi5xFNc7Ta9-meYW3nsHajXDgHXXf6u%2526sai%253DAMfl-YR-H9eFfq1dCscD_TbxZJYGDKsknZkX4R3zqpyfMfNhf4j_tKuRpOsE97ib9eBtZfKwJ6v4u_jwblrOsoTbnjWmtiQT5-ezZAldu8uDmA%2526sig%253DCg0ArKJSzLsi32pBPwCYEAE%2526urlfix%253D1%2526adurl%253D\" data-str-visited-flag=\"true\" data-str-placement-index=\"1\"></div></div></div>\n",
      "    </div>\n",
      "    <script>\n",
      "\t\t\t\n",
      "\t\t\t\t\t\t\t\t\tif($('#ads2-pos-921-ad-right').length > 0 && $('.ad').first().data('is-mobile') === true) {\n",
      "\t\t\t\t\t\t\t\t\t\t\t\t\t\t$('#ads2-pos-921-ad-right').removeClass('ad-921').addClass('ad-1921').attr('id', 'ads2-pos-1921-ad-right').data('pos', '1921');\n",
      "\t\t\t\t\t\t\t\t\t}\n",
      "\t\t\t\t\n",
      "\t\t\t</script>\n",
      "    <div class=\"entry_fmt\" id=\"dfpslot_tow_2\" data-sizes=\"[[1,10],&quot;fluid&quot;]\" data-pos=\"9002\" data-scp=\"{'mod' : ed-urr}\" data-google-query-id=\"CJ6rxtL6yucCFZ4cKgodv2oIWQ\">\n",
      "      \n",
      "    <div id=\"google_ads_iframe_/4312434/consumer/webmd_8__container__\" style=\"border: 0pt none; display: inline-block; width: 100%; height: auto; padding-top: 0px;\"><iframe style=\"border: 0px none; vertical-align: bottom; min-width: 100%;\" src=\"https://tpc.googlesyndication.com/safeframe/1-0-37/html/container.html\" id=\"google_ads_iframe_/4312434/consumer/webmd_8\" title=\"3rd party ad content\" name=\"\" scrolling=\"no\" marginwidth=\"0\" marginheight=\"0\" data-is-safeframe=\"true\" data-google-container-id=\"b\" data-load-complete=\"true\" width=\"0\" height=\"70\" frameborder=\"0\"></iframe></div></div>\n",
      "    <div class=\"entry_fmt\" id=\"dfpslot_tow_3\" data-sizes=\"[[1,10],&quot;fluid&quot;]\" data-pos=\"9003\" data-scp=\"{'mod' : ed-urr}\" data-google-query-id=\"CJ-rxtL6yucCFZ4cKgodv2oIWQ\">\n",
      "      \n",
      "    <div id=\"google_ads_iframe_/4312434/consumer/webmd_9__container__\" style=\"border: 0pt none; display: inline-block; width: 100%; height: auto; padding-top: 0px;\"><iframe style=\"border: 0px none; vertical-align: bottom; min-width: 100%;\" src=\"https://tpc.googlesyndication.com/safeframe/1-0-37/html/container.html\" id=\"google_ads_iframe_/4312434/consumer/webmd_9\" title=\"3rd party ad content\" name=\"\" scrolling=\"no\" marginwidth=\"0\" marginheight=\"0\" data-is-safeframe=\"true\" data-google-container-id=\"c\" data-load-complete=\"true\" width=\"0\" height=\"70\" frameborder=\"0\"></iframe></div></div>\n",
      "    <div class=\"entry_fmt\" id=\"dfpslot_tow_4\" data-sizes=\"[[1,10],&quot;fluid&quot;]\" data-pos=\"9004\" data-scp=\"{'mod' : ed-urr}\" data-google-query-id=\"CKSrxtL6yucCFZ4cKgodv2oIWQ\">\n",
      "      \n",
      "    <div id=\"google_ads_iframe_/4312434/consumer/webmd_10__container__\" style=\"border: 0pt none; display: inline-block; width: 100%; height: auto;\"><iframe style=\"border: 0px none; vertical-align: bottom; min-width: 100%;\" src=\"https://tpc.googlesyndication.com/safeframe/1-0-37/html/container.html\" id=\"google_ads_iframe_/4312434/consumer/webmd_10\" title=\"3rd party ad content\" name=\"\" scrolling=\"no\" marginwidth=\"0\" marginheight=\"0\" data-is-safeframe=\"true\" data-google-container-id=\"d\" data-load-complete=\"true\" width=\"0\" height=\"70\" frameborder=\"0\"></iframe></div></div>\n",
      "  </div>\n",
      "</aside></div><div id=\"ContentPane38\" class=\"pane\" tabindex=\"-1\"><!--$$ContentPane38$$--></div><div id=\"ContentPane39\" class=\"pane\" tabindex=\"-1\"><!--$$ContentPane39$$--></div><div id=\"ContentPane40\" class=\"pane\" tabindex=\"-1\"><script>\n",
      "                    var priTopId='', secTopId='';\n",
      "                </script>\n",
      "<div id=\"ads2-pos-121-ad-right\" class=\"module ad ad-121\" data-is-mobile=\"false\" data-targets=\"{'art':'','cc':'','env':'&amp;env=0','hcent':'','leaf':'&amp;leaf=','mcent':'','mic':'','pt':'','sec':'','pug':'','scent':'','tmg':'','tug':'','uri':'','rd':'1'}\" data-block-codes=\"__\" data-pos=\"121\" data-sizes=\"[[300,250],[300, 600],[300,1050]]\" data-google-query-id=\"CN3ihdL6yucCFULKvQodmL0KSg\">\n",
      "<div id=\"google_ads_iframe_/4312434/consumer/webmd_3__container__\" style=\"border: 0pt none; padding-top: 0px;\"><iframe id=\"google_ads_iframe_/4312434/consumer/webmd_3\" title=\"3rd party ad content\" name=\"google_ads_iframe_/4312434/consumer/webmd_3\" scrolling=\"no\" marginwidth=\"0\" marginheight=\"0\" style=\"border: 0px none; vertical-align: bottom;\" srcdoc=\"\" data-google-container-id=\"4\" data-integralas-id-db31ef17-a653-a0eb-d487-50dee323b838=\"\" data-load-complete=\"true\" width=\"300\" height=\"600\" frameborder=\"0\"></iframe></div></div></div><div id=\"ContentPane41\" class=\"pane\" tabindex=\"-1\"><aside class=\"module module-unified-right-rail module-ed-rcmmnddforyou dfp-native\" id=\"ed-rcmmnddforyou\" data-metrics-module=\"ed-rcmmnddforyou\" role=\"complementary\">\n",
      "  <header>\n",
      "    <h3>Recommended for You</h3>\n",
      "  </header>\n",
      "  <div class=\"unified_right_inner_rdr\">\n",
      "    <div class=\"entry_fmt\" id=\"dfp_slot_tow1\">\n",
      "      <a href=\"https://www.webmd.com/drug-medication/ss/slideshow-affect-medication\" data-metrics-link=\"1othr\">\n",
      "        <img src=\"https://img.webmd.com/dtmcms/live/webmd/consumer_assets/site_images/article_thumbnails/reference_guide/grapefruit_juice_affecting_your_medication_ref_guide/69x75_grapefruit_juice_affecting_your_medication_ref_guide.jpg?resize=69px:*&amp;output-quality=50\" alt=\"grapefruit and juicer\">\n",
      "        <span class=\"asset-type\">SLIDESHOW</span>\n",
      "        <h4>Things That Can Affect Your Medication</h4>\n",
      "      </a>\n",
      "    </div>\n",
      "    <div class=\"entry_fmt\" id=\"dfp_slot_tow2\">\n",
      "      <a href=\"https://www.webmd.com/diabetes/change-type-2-diabetes-meds\" data-metrics-link=\"2othr\">\n",
      "        <img src=\"https://img.webmd.com/dtmcms/live/webmd/consumer_assets/site_images/article_thumbnails/news/2013/02_2013/asthma_drug_takes_itch_out_of_chronic_hives/69x75_asthma_drug_takes_itch_out_of_chronic_hives.jpg?resize=69px:*&amp;output-quality=50\" alt=\"medical bottles in line\">\n",
      "        <span class=\"asset-type\">ARTICLE</span>\n",
      "        <h4>Do I Need to Change My Type 2 Diabetes Medication?</h4>\n",
      "      </a>\n",
      "    </div>\n",
      "    <div class=\"entry_fmt\" id=\"dfp_slot_tow3\">\n",
      "      <a href=\"https://www.webmd.com/migraines-headaches/medication-headaches\" data-metrics-link=\"3othr\">\n",
      "        <img src=\"https://img.webmd.com/dtmcms/live/webmd/consumer_assets/site_images/article_thumbnails/news/2013/01_2013/migraines_hurt_womens_hearts_01152013xml/69x75_migraines_hurt_womens_hearts_01152013xml.jpg?resize=69px:*&amp;output-quality=50\" alt=\"woman with a migraine\">\n",
      "        <span class=\"asset-type\">ARTICLE</span>\n",
      "        <h4>Medicines That Can Cause Headaches</h4>\n",
      "      </a>\n",
      "    </div>\n",
      "    <div class=\"entry_fmt\" id=\"dfp_slot_tow4\">\n",
      "      <a href=\"https://www.webmd.com/eye-health/medication-cause-dry-eye\" data-metrics-link=\"4othr\">\n",
      "        <img src=\"https://img.webmd.com/dtmcms/live/webmd/consumer_assets/site_images/article_thumbnails/slideshows/dry_eyes_and_what_to_do_about_them_slideshow/69x75_dry_eyes_and_what_to_do_about_them_slideshow.jpg?resize=69px:*&amp;output-quality=50\" alt=\"dry eye syndrome close up\">\n",
      "        <span class=\"asset-type\">ARTICLE</span>\n",
      "        <h4>Is Your Medication Causing Dry Eye?</h4>\n",
      "      </a>\n",
      "    </div>\n",
      "    <div class=\"entry_fmt\" id=\"dfp_slot_tow5\">\n",
      "      <a href=\"https://www.webmd.com/erectile-dysfunction/how-make-ed-drugs-work-better\" data-metrics-link=\"5othr\">\n",
      "        <img src=\"https://img.webmd.com/dtmcms/live/webmd/consumer_assets/site_images/article_thumbnails/news/2011/11_2011/multiple_medications_ed/69x75_multiple_medications_ed.jpg?resize=69px:*&amp;output-quality=50\" alt=\"man taking prescription medication\">\n",
      "        <span class=\"asset-type\">ARTICLE</span>\n",
      "        <h4>Erectile Dysfunction Meds: Make Them Work Better</h4>\n",
      "      </a>\n",
      "    </div>\n",
      "    <div class=\"entry_fmt\" id=\"dfp_slot_tow6\">\n",
      "      <a href=\"https://www.webmd.com/diabetes/medicines-blood-sugar-spike\" data-metrics-link=\"6othr\">\n",
      "        <img src=\"https://img.webmd.com/dtmcms/live/webmd/consumer_assets/site_images/article_thumbnails/video/blood_glucose_swings_video/69x75_blood_glucose_swings_video.jpg?resize=69px:*&amp;output-quality=50\" alt=\"blood glucose illustrations\">\n",
      "        <span class=\"asset-type\">ARTICLE</span>\n",
      "        <h4>What Medicines Can Make Your Blood Sugar Spike?</h4>\n",
      "      </a>\n",
      "    </div>\n",
      "    <div class=\"entry_fmt\" id=\"dfp_slot_tow7\">\n",
      "      <a href=\"https://www.webmd.com/add-adhd/tips-reduce-adult-adhd-medication-side-effects\" data-metrics-link=\"7othr\">\n",
      "        <img src=\"https://img.webmd.com/dtmcms/live/webmd/consumer_assets/site_images/article_thumbnails/news/2012/12_2012/adolescent_adhd_adult_stress_12102012xml/69x75_adolescent_adhd_adult_stress_12102012xml.jpg?resize=69px:*&amp;output-quality=50\" alt=\"young man feeling stressed\">\n",
      "        <span class=\"asset-type\">ARTICLE</span>\n",
      "        <h4>ADHD Drug Side Effects in Adults</h4>\n",
      "      </a>\n",
      "    </div>\n",
      "    <div class=\"entry_fmt\" id=\"dfp_slot_tow8\">\n",
      "      <a href=\"https://www.webmd.com/cancer/cancer-pain-meds\" data-metrics-link=\"8othr\">\n",
      "        <img src=\"https://img.webmd.com/dtmcms/live/webmd/consumer_assets/site_images/article_thumbnails/slideshows/cancer_wish_you_knew_slideshow/69x75_cancer_wish_you_knew_slideshow.jpg?resize=69px:*&amp;output-quality=50\" alt=\"woman with cancer hugging friend\">\n",
      "        <span class=\"asset-type\">ARTICLE</span>\n",
      "        <h4>Drugs to Treat Cancer Pain</h4>\n",
      "      </a>\n",
      "    </div>\n",
      "  </div>\n",
      "</aside></div><div id=\"ContentPane42\" class=\"pane\" tabindex=\"-1\"><!--$$ContentPane42$$--></div><div id=\"ContentPane43\" class=\"pane\" tabindex=\"-1\"><!--$$ContentPane43$$--></div><div id=\"ContentPane44\" class=\"pane\" tabindex=\"-1\"><!--$$ContentPane44$$--></div><div id=\"ContentPane45\" class=\"pane\" tabindex=\"-1\"><!--$$ContentPane45$$--></div></div>\n"
     ]
    }
   ],
   "source": [
    "# url 66\n",
    "i = urls[65]\n",
    "#open_url(i)\n",
    "element = driver.find_element_by_css_selector('div.main-container:nth-child(3)')\n",
    "source = element.get_attribute(\"outerHTML\")\n",
    "print(source)\n",
    "ad_type = \"better\"\n",
    "data.append({\"TYPE\" : ad_type, \"ad_code\" : source, \"URL\" : i})"
   ]
  },
  {
   "cell_type": "code",
   "execution_count": 476,
   "metadata": {
    "collapsed": true
   },
   "outputs": [
    {
     "name": "stdout",
     "output_type": "stream",
     "text": [
      "<div class=\"sal--wrapper\" style=\"position:static;\"><div id=\"MAD_RIGHT_RAIL\" class=\"sal--container size--300x600 size--300x250 sal--loaded\" data-google-query-id=\"CPupz6L7yucCFQQslgodD6oNcw\"><div id=\"google_ads_iframe_/6088/ssp.wxmi/news/local_news/kent/detail_1__container__\" style=\"border: 0pt none;\"><iframe id=\"google_ads_iframe_/6088/ssp.wxmi/news/local_news/kent/detail_1\" title=\"3rd party ad content\" name=\"google_ads_iframe_/6088/ssp.wxmi/news/local_news/kent/detail_1\" scrolling=\"no\" marginwidth=\"0\" marginheight=\"0\" style=\"border: 0px none; vertical-align: bottom;\" srcdoc=\"\" data-google-container-id=\"89ab9b2191ebdfbdfa68dab890d17823\" data-load-complete=\"true\" width=\"300\" height=\"250\" frameborder=\"0\"></iframe></div></div></div>\n"
     ]
    }
   ],
   "source": [
    "# url 67\n",
    "i = urls[66]\n",
    "#open_url(i)\n",
    "element = driver.find_element_by_css_selector('div.sal--wrapper:nth-child(2)')\n",
    "source = element.get_attribute(\"outerHTML\")\n",
    "print(source)\n",
    "ad_type = \"better\"\n",
    "data.append({\"TYPE\" : ad_type, \"ad_code\" : source, \"URL\" : i})"
   ]
  },
  {
   "cell_type": "code",
   "execution_count": 479,
   "metadata": {
    "collapsed": true
   },
   "outputs": [
    {
     "name": "stdout",
     "output_type": "stream",
     "text": [
      "<div class=\"ad-header\"><div class=\"sal--wrapper\"><div id=\"MAD_HEADER\" class=\"sal--container size--970x250 size--728x90 size--970x90 size--994x30 size--10x1 sal--loaded\" style=\"\" data-google-query-id=\"CM692cP7yucCFUqVvQoda68KVg\"><div id=\"google_ads_iframe_/6088/ssp.wxmi/news/local_news/lakeshore/ottawa/detail_0__container__\" style=\"border: 0pt none;\"><iframe id=\"google_ads_iframe_/6088/ssp.wxmi/news/local_news/lakeshore/ottawa/detail_0\" title=\"3rd party ad content\" name=\"google_ads_iframe_/6088/ssp.wxmi/news/local_news/lakeshore/ottawa/detail_0\" scrolling=\"no\" marginwidth=\"0\" marginheight=\"0\" style=\"border: 0px none; vertical-align: bottom;\" srcdoc=\"\" data-google-container-id=\"5\" data-load-complete=\"true\" width=\"970\" height=\"250\" frameborder=\"0\"></iframe></div></div></div></div>\n"
     ]
    }
   ],
   "source": [
    "# url 68\n",
    "i = urls[67]\n",
    "#open_url(i)\n",
    "element = driver.find_element_by_css_selector('.ad-header')\n",
    "source = element.get_attribute(\"outerHTML\")\n",
    "print(source)\n",
    "ad_type = \"better\"\n",
    "data.append({\"TYPE\" : ad_type, \"ad_code\" : source, \"URL\" : i})"
   ]
  },
  {
   "cell_type": "code",
   "execution_count": 482,
   "metadata": {
    "collapsed": true
   },
   "outputs": [
    {
     "name": "stdout",
     "output_type": "stream",
     "text": [
      "<a href=\"https://www.fox17online.com/appupdate?utm_source=website&amp;utm_medium=local-promo-right-rail&amp;\" class=\"AsidePromo TrackedSidebarPromo \">\n",
      "\n",
      "        \n",
      "            <div class=\"AsidePromo-media\">\n",
      "                <img class=\"Image\" alt=\"app promo graphic.jpg\" src=\"https://ewscripps.brightspotcdn.com/dims4/default/ed0454a/2147483647/strip/true/crop/480x360+0+0/resize/480x360!/quality/90/?url=https%3A%2F%2Fewscripps.brightspotcdn.com%2F97%2Fc4%2Fb7348e2e4bc89b2b889bf1f2088f%2Fapp-promo-graphic.jpg\" width=\"480\" height=\"360\">\n",
      "            </div>\n",
      "        \n",
      "\n",
      "        \n",
      "            <div class=\"AsidePromo-info\">\n",
      "\n",
      "                  \n",
      "                    <p class=\"AsidePromo-category\">Homepage Showcase</p>\n",
      "                  \n",
      "                  \n",
      "                    <h3 class=\"AsidePromo-title\">How to update to the new FOX 17 app</h3>\n",
      "                  \n",
      "\n",
      "            </div>\n",
      "        \n",
      "    </a>\n"
     ]
    }
   ],
   "source": [
    "# url 69\n",
    "i = urls[68]\n",
    "#open_url(i)\n",
    "element = driver.find_element_by_css_selector('.AsidePromo')\n",
    "source = element.get_attribute(\"outerHTML\")\n",
    "print(source)\n",
    "ad_type = \"better\"\n",
    "data.append({\"TYPE\" : ad_type, \"ad_code\" : source, \"URL\" : i})"
   ]
  },
  {
   "cell_type": "code",
   "execution_count": 499,
   "metadata": {
    "collapsed": true
   },
   "outputs": [
    {
     "name": "stdout",
     "output_type": "stream",
     "text": [
      "<div class=\"sidebar-content\"><div id=\"div-gpt-ad-Cube1_RRail_ATF\" class=\"dfp-ad dfp-Cube1_RRail_ATF loaded\" data-ad-unit=\"Cube1_RRail_ATF\" data-google-query-id=\"CPHMt_j8yucCFUFuiwodi5YMJQ\">\n",
      "\t\t\t\t\t\n",
      "\t\t\t\t<div id=\"google_ads_iframe_/8013/mercurynews.com/lifestyle/eat-drink_2__container__\" style=\"border: 0pt none;\"><iframe id=\"google_ads_iframe_/8013/mercurynews.com/lifestyle/eat-drink_2\" title=\"3rd party ad content\" name=\"google_ads_iframe_/8013/mercurynews.com/lifestyle/eat-drink_2\" scrolling=\"no\" marginwidth=\"0\" marginheight=\"0\" style=\"border: 0px none; vertical-align: bottom;\" srcdoc=\"\" data-google-container-id=\"3\" data-load-complete=\"true\" width=\"300\" height=\"600\" frameborder=\"0\"></iframe></div><div style=\"min-height: 0px !important; margin: 0px;\"></div><div style=\"min-height: 0px !important; margin: 0px;\" align=\"center\"><iframe src=\"about:blank\" name=\"realvu_ad_12766\" scrolling=\"no\" style=\"border: 0px none; display: block; margin: auto;\" width=\"298\" height=\"0\" frameborder=\"0\"></iframe></div></div>\t<div class=\"sign-up-follow\">\n",
      "\t<div class=\"newsletter-simple\">\n",
      "\t\t<div class=\"newsletter-item\">\n",
      "\t\t\t<p class=\"prompt\">Get Morning Report and other email newsletters</p>\n",
      "\t\t\t<a class=\"\" onclick=\"mg2WidgetAPI.openNewsletter({\n",
      "\t\t\tcategoryIdsList: [6,1],\n",
      "\t\t\tnewsletterIdsList: [38,39,40,41,42,43,44,45,46,47,48,49,50,51,52,53,54,55,56,86,88,91,94,96,98,100,111,117,118,89,110,1,2,3,4]\n",
      "\t\t});\">Sign Up</a>\t\t</div>\n",
      "\t</div>\n",
      "\t<div class=\"share-with-prompt\">\n",
      "\t\t<span class=\"prompt\">Follow Us</span>\n",
      "\t\t\t<ul class=\"sharing\">\n",
      "\t\t\t\t\t\t<li>\n",
      "\t\t\t\t\t<a href=\"https://facebook.com/mercurynews\" target=\"self\" class=\"icon-facebook\">\n",
      "\t\t\t\t\t\t<span class=\"label\">Facebook</span>\n",
      "\t\t\t\t\t</a>\n",
      "\t\t\t\t</li>\n",
      "\t\t\t\t\t\t\t\t<li>\n",
      "\t\t\t\t\t<a href=\"https://twitter.com/mercnews\" target=\"self\" class=\"icon-twitter\">\n",
      "\t\t\t\t\t\t<span class=\"label\">Twitter</span>\n",
      "\t\t\t\t\t</a>\n",
      "\t\t\t\t</li>\n",
      "\t\t\t\t\t\t\t\t<li>\n",
      "\t\t\t\t\t<a href=\"https://instagram.com/mercnews\" target=\"self\" class=\"icon-instagram\">\n",
      "\t\t\t\t\t\t<span class=\"label\">Instagram</span>\n",
      "\t\t\t\t\t</a>\n",
      "\t\t\t\t</li>\n",
      "\t\t\t\t\t\t\t\t<li>\n",
      "\t\t\t\t\t<a href=\"https://www.mercurynews.com/feed/\" target=\"self\" class=\"icon-feed\">\n",
      "\t\t\t\t\t\t<span class=\"label\">RSS</span>\n",
      "\t\t\t\t\t</a>\n",
      "\t\t\t\t</li>\n",
      "\t\t\t\t\t</ul>\n",
      "\t\t</div>\n",
      "\t</div>\n",
      "\n",
      "<div class=\"widget widget-popular-stories\"><section class=\"popular section\" id=\"most-popular-stories\">\n",
      " \n",
      " \n",
      "  <div class=\"bccomplexobject bcComplexObject1560928708903 bcComplexObject1581474852904\" data-bc-preload=\"\"><div class=\"bcpSmallWidth\" data-bc-external=\"true\" data-bc-id=\"1581474852904\"><div class=\"widget widget-popular-stories\">\n",
      "    <section class=\"popular section\" id=\"most-popular-stories\">\n",
      "        <h2 class=\"widget-title\">\n",
      "            <span>Recommended For You</span>\n",
      "        </h2>\n",
      "        <ol class=\"bcRecommendations bcOneLineTemplate bcTemplate4\">                                                                                                                    \n",
      "            <li class=\"bcRecommendedItem entry-title\">\n",
      "                <a class=\"article-title\" href=\"https://www.mercurynews.com/2020/02/10/who-responsible-for-ridiculous-bart-situation-roadshow/\" title=\"Who is responsible for this ridiculous BART situation? Roadshow\" data-bc-item-id=\"6875306\">\n",
      "                    <span class=\"dfm-title\">Who is responsible for this ridiculous BART situation? Roadshow</span>\n",
      "                </a>\n",
      "            </li>                                                                                                                    \n",
      "            <li class=\"bcRecommendedItem entry-title\">\n",
      "                <a class=\"article-title\" href=\"https://www.mercurynews.com/2020/02/11/college-admissions-scandal-prosecutors-urge-longest-sentence-for-atherton-mom-who-gloated-over-cheating/\" title=\"College admissions scandal: Prosecutors urge longest sentence for Atherton mom who ‘gloated’ over cheating\" data-bc-item-id=\"6887043\">\n",
      "                    <span class=\"dfm-title\">College admissions scandal: Prosecutors urge longest sentence for Atherton mom who ‘gloated’ over cheating</span>\n",
      "                </a>\n",
      "            </li>                                                                                                                    \n",
      "            <li class=\"bcRecommendedItem entry-title\">\n",
      "                <a class=\"article-title\" href=\"https://www.mercurynews.com/2020/02/11/coronavirus-the-8-big-questions-that-scientists-are-asking/\" title=\"Coronavirus: The 8 big questions that scientists are asking\" data-bc-item-id=\"6885324\">\n",
      "                    <span class=\"dfm-title\">Coronavirus: The 8 big questions that scientists are asking</span>\n",
      "                </a>\n",
      "            </li>                                                                                                                    \n",
      "            <li class=\"bcRecommendedItem entry-title\">\n",
      "                <a class=\"article-title\" href=\"https://www.mercurynews.com/2020/02/05/word-game-feb-5-2020/\" title=\"Word Game: Feb. 5, 2020\" data-bc-item-id=\"6862814\">\n",
      "                    <span class=\"dfm-title\">Word Game: Feb. 5, 2020</span>\n",
      "                </a>\n",
      "            </li>                                                                                                                    \n",
      "            <li class=\"bcRecommendedItem entry-title\">\n",
      "                <a class=\"article-title\" href=\"https://www.mercurynews.com/2020/02/07/word-game-feb-7-2020/\" title=\"Word Game: Feb. 7, 2020\" data-bc-item-id=\"6862852\">\n",
      "                    <span class=\"dfm-title\">Word Game: Feb. 7, 2020</span>\n",
      "                </a>\n",
      "            </li>                                                                                                                    \n",
      "            <li class=\"bcRecommendedItem entry-title\">\n",
      "                <a class=\"article-title\" href=\"https://www.mercurynews.com/2020/02/11/five-more-restaurants-coming-to-santa-clara-square/\" title=\"Five more restaurants coming to Santa Clara Square\" data-bc-item-id=\"6887309\">\n",
      "                    <span class=\"dfm-title\">Five more restaurants coming to Santa Clara Square</span>\n",
      "                </a>\n",
      "            </li>                                                                                                                    \n",
      "            <li class=\"bcRecommendedItem entry-title\">\n",
      "                <a class=\"article-title\" href=\"https://www.mercurynews.com/2020/02/10/dear-abby-divorce-him-skips-sons-wedding/\" title=\"Dear Abby: I'll divorce him if he skips our son's wedding for this embarrassing reason\" data-bc-item-id=\"6852957\">\n",
      "                    <span class=\"dfm-title\">Dear Abby: I'll divorce him if he skips our son's wedding for this embarrassing reason</span>\n",
      "                </a>\n",
      "            </li>                                                                                                                    \n",
      "            <li class=\"bcRecommendedItem entry-title\">\n",
      "                <a class=\"article-title\" href=\"https://www.mercurynews.com/2020/02/11/family-dog-kills-5-year-old-california-boy/\" title=\"Family pit bull attacks and kills 5-year-old California boy\" data-bc-item-id=\"6886390\">\n",
      "                    <span class=\"dfm-title\">Family pit bull attacks and kills 5-year-old California boy</span>\n",
      "                </a>\n",
      "            </li>                                                                                                                    \n",
      "            <li class=\"bcRecommendedItem entry-title\">\n",
      "                <a class=\"article-title\" href=\"https://www.mercurynews.com/2020/02/10/california-surgeon-and-his-girlfriend-accused-of-raping-women-thought-their-charges-would-be-dropped-a-stunning-twist-in-court-might-change-that/\" title=\"California surgeon and his girlfriend accused of raping women thought their charges would be dropped. A stunning twist in court might change that\" data-bc-item-id=\"6883415\">\n",
      "                    <span class=\"dfm-title\">California surgeon and his girlfriend accused of raping women thought their charges would be dropped. A stunning twist in court might change that</span>\n",
      "                </a>\n",
      "            </li>                                                                                                                    \n",
      "            <li class=\"bcRecommendedItem entry-title\">\n",
      "                <a class=\"article-title\" href=\"https://www.mercurynews.com/2020/02/09/john-wayne-is-a-racist-oscars-50-years-ago-struggled-with-a-new-world-order/\" title=\"'John Wayne is a racist:' Oscars 50 years ago struggled with a new world order\" data-bc-item-id=\"6880355\">\n",
      "                    <span class=\"dfm-title\">'John Wayne is a racist:' Oscars 50 years ago struggled with a new world order</span>\n",
      "                </a>\n",
      "            </li>                           \n",
      "        </ol></section></div></div></div> \n",
      "  <p></p>\n",
      " \n",
      "</section>\n",
      "\n",
      "</div><div id=\"stick-trigger\"></div><div class=\"sidebar-bottom-flex-single\"></div><div class=\"swappable swap-ad\" data-swap-location=\".recirc\" data-swap-method=\"after\" data-swap-max=\"m\"><div id=\"div-gpt-ad-Cube2_RRail_mid\" class=\"dfp-ad dfp-Cube2_RRail_mid loaded\" data-ad-unit=\"Cube2_RRail_mid\" data-google-query-id=\"CK3Ot_j8yucCFUFuiwodi5YMJQ\" style=\"top: 50px; left: 970.033px;\">\n",
      "\t\t\t\t\t\n",
      "\t\t\t\t<div id=\"google_ads_iframe_/8013/mercurynews.com/lifestyle/eat-drink_3__container__\" style=\"border: 0pt none;\"><iframe id=\"google_ads_iframe_/8013/mercurynews.com/lifestyle/eat-drink_3\" title=\"3rd party ad content\" name=\"google_ads_iframe_/8013/mercurynews.com/lifestyle/eat-drink_3\" scrolling=\"no\" marginwidth=\"0\" marginheight=\"0\" style=\"border: 0px none; vertical-align: bottom;\" srcdoc=\"\" data-google-container-id=\"4\" data-load-complete=\"true\" width=\"300\" height=\"250\" frameborder=\"0\"></iframe></div></div></div><div class=\"swappable swap-ad swap-ad-lower bottom\" data-swap-location=\".feature-video\" data-swap-method=\"after\" data-swap-max=\"m\" style=\"top: 1074.65px;\"><div id=\"div-gpt-ad-Cube3_RRail_lower\" class=\"dfp-ad dfp-Cube3_RRail_lower loaded\" data-ad-unit=\"Cube3_RRail_lower\" data-google-query-id=\"CLDYt_j8yucCFUFuiwodi5YMJQ\">\n",
      "\t\t\t\t\t\n",
      "\t\t\t\t<div id=\"google_ads_iframe_/8013/mercurynews.com/lifestyle/eat-drink_11__container__\" style=\"border: 0pt none;\"><iframe id=\"google_ads_iframe_/8013/mercurynews.com/lifestyle/eat-drink_11\" title=\"3rd party ad content\" name=\"google_ads_iframe_/8013/mercurynews.com/lifestyle/eat-drink_11\" scrolling=\"no\" marginwidth=\"0\" marginheight=\"0\" style=\"border: 0px none; vertical-align: bottom;\" srcdoc=\"\" data-google-container-id=\"c\" data-load-complete=\"true\" width=\"300\" height=\"250\" frameborder=\"0\"></iframe></div></div></div></div>\n"
     ]
    }
   ],
   "source": [
    "# url 70\n",
    "i = urls[69]\n",
    "#open_url(i)\n",
    "element = driver.find_element_by_css_selector('.sidebar-content')\n",
    "source = element.get_attribute(\"outerHTML\")\n",
    "print(source)\n",
    "ad_type = \"better\"\n",
    "data.append({\"TYPE\" : ad_type, \"ad_code\" : source, \"URL\" : i})"
   ]
  },
  {
   "cell_type": "code",
   "execution_count": 500,
   "metadata": {
    "collapsed": true
   },
   "outputs": [
    {
     "name": "stdout",
     "output_type": "stream",
     "text": [
      "<div id=\"web-push-prompt\" class=\"alert-bar\" style=\"background-color: rgb(0, 0, 0); display: block;\">\n",
      "\t\t\t<div class=\"alert-bar-wrapper\">\n",
      "\t\t\t\t<div class=\"alert-bar-message\">\n",
      "\t\t\t\t\t<p style=\"color: #FFFFFF;\" onclick=\"DfmWebPush.doRegisterPushPermission();\">\n",
      "\t\t\t\t\t\tGET BREAKING NEWS IN YOUR BROWSER. CLICK HERE TO TURN ON NOTIFICATIONS.\t\t\t\t\t</p>\n",
      "\t\t\t\t</div>\n",
      "\t\t\t\t<div class=\"alert-bar-close\">\n",
      "\t\t\t\t\t<p style=\"color: #FFFFFF;\" onclick=\"DfmWebPush.closePushPrompt();\">X\n",
      "\t\t\t\t\t</p>\n",
      "\t\t\t\t</div>\n",
      "\t\t\t</div>\n",
      "\t\t</div>\n"
     ]
    }
   ],
   "source": [
    "# url 71\n",
    "i = urls[70]\n",
    "#open_url(i)\n",
    "element = driver.find_element_by_css_selector('#web-push-prompt')\n",
    "source = element.get_attribute(\"outerHTML\")\n",
    "print(source)\n",
    "ad_type = \"better\"\n",
    "data.append({\"TYPE\" : ad_type, \"ad_code\" : source, \"URL\" : i})"
   ]
  },
  {
   "cell_type": "code",
   "execution_count": 502,
   "metadata": {
    "collapsed": true
   },
   "outputs": [
    {
     "name": "stdout",
     "output_type": "stream",
     "text": [
      "<div class=\"header-banners\">\n",
      "                <div id=\"div-gpt-ad-interstitial\" class=\"dfp-ad dfp-interstitial\" data-ad-unit=\"interstitial\" data-google-query-id=\"CJ7IuuX9yucCFc9iYAodcUoC1A\" style=\"display: none;\">\n",
      "\t\t\t\t\t<script type=\"text/javascript\">\n",
      "\t\t\t\t\t\tif ( \"undefined\" !== typeof googletag ) {\n",
      "\t\t\t\t\t\t\tgoogletag.cmd.push( function() { googletag.display(\"div-gpt-ad-interstitial\"); } );\n",
      "\t\t\t\t\t\t}\n",
      "\t\t\t\t\t</script>\n",
      "\t\t\t\t<div id=\"google_ads_iframe_/8013/mercurynews.com/lifestyle/eat-drink_0__container__\" style=\"border: 0pt none; width: 1px; height: 1px;\"></div></div>\t\t\t\t<div id=\"div-gpt-ad-top_leaderboard\" class=\"dfp-ad dfp-top_leaderboard\" data-ad-unit=\"top_leaderboard\" data-google-query-id=\"CNqIvuX9yucCFc9iYAodcUoC1A\">\n",
      "\t\t\t\t\t\n",
      "\t\t\t\t<div id=\"google_ads_iframe_/8013/mercurynews.com/lifestyle/eat-drink_1__container__\" style=\"border: 0pt none;\"><iframe id=\"google_ads_iframe_/8013/mercurynews.com/lifestyle/eat-drink_1\" title=\"3rd party ad content\" name=\"google_ads_iframe_/8013/mercurynews.com/lifestyle/eat-drink_1\" scrolling=\"no\" marginwidth=\"0\" marginheight=\"0\" style=\"border: 0px none; vertical-align: bottom;\" srcdoc=\"\" data-google-container-id=\"2\" data-load-complete=\"true\" width=\"970\" height=\"250\" frameborder=\"0\"></iframe></div></div>\t\t\t</div>\n"
     ]
    }
   ],
   "source": [
    "# url 72\n",
    "i = urls[71]\n",
    "open_url(i)\n",
    "element = driver.find_element_by_css_selector('.header-banners')\n",
    "source = element.get_attribute(\"outerHTML\")\n",
    "print(source)\n",
    "ad_type = \"better\"\n",
    "data.append({\"TYPE\" : ad_type, \"ad_code\" : source, \"URL\" : i})"
   ]
  },
  {
   "cell_type": "code",
   "execution_count": 509,
   "metadata": {
    "collapsed": true
   },
   "outputs": [
    {
     "name": "stdout",
     "output_type": "stream",
     "text": [
      "<aside id=\"ad-standard-wrap\" aria-label=\"advertisement\" style=\"height: 530px;\">\n",
      "    \n",
      "\n",
      "    <div id=\"ad-standard-News_Health\" class=\"ad-standard\" data-ad-config=\"{&quot;network&quot;:&quot;\\/6735\\/&quot;,&quot;site&quot;:{&quot;default&quot;:&quot;n6735.NPR&quot;,&quot;mobile&quot;:&quot;n6735.NPRMOBILE&quot;},&quot;zone&quot;:&quot;News_Health&quot;,&quot;targets&quot;:{&quot;testserver&quot;:&quot;false&quot;,&quot;isPodcastEpisode&quot;:&quot;false&quot;,&quot;storyId&quot;:&quot;803394030&quot;,&quot;program&quot;:&quot;Fresh_Air&quot;,&quot;agg&quot;:[&quot;191676894&quot;,&quot;434975886&quot;,&quot;103537970&quot;],&quot;blog&quot;:&quot;103537970&quot;},&quot;location&quot;:&quot;standard&quot;,&quot;deferred&quot;:false,&quot;isBetweenContent&quot;:false,&quot;isAggSponsorship&quot;:false,&quot;borderClass&quot;:&quot;&quot;}\" style=\"\" data-google-query-id=\"CPK6587-yucCFUZ4iwodvdENKg\"><div id=\"google_ads_iframe_/6735/n6735.NPR/News_Health_0__container__\" style=\"border: 0pt none;\"><iframe id=\"google_ads_iframe_/6735/n6735.NPR/News_Health_0\" title=\"3rd party ad content\" name=\"google_ads_iframe_/6735/n6735.NPR/News_Health_0\" scrolling=\"no\" marginwidth=\"0\" marginheight=\"0\" style=\"border: 0px none; vertical-align: bottom;\" srcdoc=\"\" data-google-container-id=\"1\" data-load-complete=\"true\" width=\"300\" height=\"600\" frameborder=\"0\"></iframe></div></div>\n",
      "    <p class=\"left\">NPR thanks our sponsors</p><p class=\"right\"><a href=\"/about-npr/186948703/corporate-sponsorship\">Become an NPR sponsor</a></p>\n",
      "\n",
      "</aside>\n"
     ]
    }
   ],
   "source": [
    "# url 73\n",
    "i = urls[72]\n",
    "#open_url(i)\n",
    "element = driver.find_element_by_css_selector('#ad-standard-wrap')\n",
    "source = element.get_attribute(\"outerHTML\")\n",
    "print(source)\n",
    "ad_type = \"better\"\n",
    "data.append({\"TYPE\" : ad_type, \"ad_code\" : source, \"URL\" : i})"
   ]
  },
  {
   "cell_type": "code",
   "execution_count": 512,
   "metadata": {
    "collapsed": true
   },
   "outputs": [
    {
     "name": "stdout",
     "output_type": "stream",
     "text": [
      "<div class=\"article-right-rail two-col-right-rail sidebar-item karma-sticky-rail\"><div class=\"bxc bx-base bx-custom bx-active-step-1 bx-ally bx-campaign-926778 bx-brand-11155 bx-width-default bx-type-agilityzone bx-has-close-x-1 bx-impress\" id=\"bx-campaign-926778\" style=\"display: none; visibility: hidden; margin-top: 0px; margin-left: 0px;\" aria-hidden=\"false\" aria-label=\"Decorating Style Quiz\" role=\"region\"><div id=\"bx-shroud-926778\" class=\"bx-matte bx-shroud bx-shroud-926778\"></div><div id=\"bx-hover-shroud-926778\" class=\"bx-hover-shroud bx-hover-shroud-926778\" style=\"display:none\"></div><div class=\"bx-slab\"><div class=\"bx-align\"><div class=\"bx-creative bx-creative-926778\" id=\"bx-creative-926778\"><div class=\"bx-wrap\"><a id=\"bx-close-inside-926778\" class=\"bx-close bx-close-link bx-close-inside\" href=\"javascript:void(0)\" data-click=\"close\" aria-label=\"close dialog\"><svg class=\"bx-close-xsvg\" viewBox=\"240 240 20 20\"><g class=\"bx-close-xstroke bx-close-x-adaptive\"><path class=\"bx-close-x-adaptive-1\" d=\"M255.6 255.6l-11.2-11.2\" vector-effect=\"non-scaling-stroke\"></path><path class=\"bx-close-x-adaptive-2\" d=\"M255.6 244.4l-11.2 11.2\" vector-effect=\"non-scaling-stroke\"></path></g></svg><div class=\"bx-ally-label\">close dialog</div></a><div class=\"bx-step bx-step-1 bx-active-step bx-step-e9d5h4F bx-step-926778-1 bx-tail-placement-hidden\" id=\"bx-step-926778-1\" data-close-placement=\"\"><form id=\"bx-form-926778-step-1\" bx-novalidate=\"true\" method=\"post\" action=\"https://api.bounceexchange.com/capture/submit\" onsubmit=\"return bouncex.submitCampaignStep(926778); return false\" onreset=\"bouncex.close_ad(926778); return false\" aria-labelledby=\"bx-campaign-ally-title-926778\" class=\"bx-ally-no-focus\"><input type=\"hidden\" name=\"campaign_id\" value=\"926778\"><div class=\"bx-group bx-group-default bx-group-926778-IoD1U1K bx-group-IoD1U1K\" id=\"bx-group-926778-IoD1U1K\"><div class=\"bx-row bx-row-text bx-row-text-default  bx-row-5xZoxYw bx-element-926778-5xZoxYw\" id=\"bx-element-926778-5xZoxYw\"><div>find your</div></div><div class=\"bx-row bx-row-text bx-row-text-headline  bx-row-ouMdQDz bx-element-926778-ouMdQDz\" id=\"bx-element-926778-ouMdQDz\"><div>Decorating Style</div></div><div class=\"bx-row bx-row-submit bx-row-submit-default  bx-row-0yR5zH3 bx-element-926778-0yR5zH3\" id=\"bx-element-926778-0yR5zH3\"><a href=\"https://www.bhg.com/decorating/decorating-style/decorating-style-onsite/?psrc=BX_R812BRB1234DS\" target=\"_blank\" class=\"bx-button\" data-click=\"hyperlink\" data-click-report=\"click\" aria-label=\"start now\">start now</a></div></div></form></div></div></div></div></div><a id=\"bx-close-outside-926778\" class=\"bx-close bx-close-link bx-close-outside\" href=\"javascript:void(0)\" data-click=\"close\" aria-label=\"close dialog\"><svg class=\"bx-close-xsvg\" viewBox=\"240 240 20 20\"><g class=\"bx-close-xstroke bx-close-x-adaptive\"><path class=\"bx-close-x-adaptive-1\" d=\"M255.6 255.6l-11.2-11.2\" vector-effect=\"non-scaling-stroke\"></path><path class=\"bx-close-x-adaptive-2\" d=\"M255.6 244.4l-11.2 11.2\" vector-effect=\"non-scaling-stroke\"></path></g></svg><div class=\"bx-ally-label\">close dialog</div></a><style id=\"bx-campaign-926778-style\">/* effects for .bx-campaign-926778 *//* custom css .bx-campaign-926778 *//* custom css from creative 36709 */.bx-custom.bx-campaign-926778 .bx-group-custom a {  position: absolute;  top: 0;  left: 0;  width: 100%;  height: 100%;}/* rendered styles .bx-campaign-926778 */.bxc.bx-campaign-926778.bx-active-step-1 .bx-creative:before {min-height: 150px;}.bxc.bx-campaign-926778.bx-active-step-1 .bx-creative {background-image: url(//assets.bounceexchange.com/assets/uploads/clients/3166/creatives/c45f9ca4f8cf66ae90f620b63c97906c.jpg);background-repeat: no-repeat;background-position: 50%;background-size: cover;background-color: #ffffff;border-style: solid;border-color: #feca1f;border-width: 0 3px 0 0;margin-bottom: 20px;}@media all and (max-width: 736px) {.bxc.bx-campaign-926778.bx-active-step-1 .bx-creative:before {min-height: 150px;}}.bxc.bx-campaign-926778.bx-active-step-1 .bx-creative> *:first-child {width: 300px;padding: 0 10px 0 140px;vertical-align: middle;}.bxc.bx-campaign-926778.bx-active-step-1 .bx-close {width: 14px;height: 14px;padding: 0px;top: 3px;right: 3px;}.bxc.bx-campaign-926778 .bx-group-926778-IoD1U1K {width: 100%;}@media all and (max-width: 736px) {.bxc.bx-campaign-926778 .bx-group-926778-IoD1U1K {position: static;}}.bxc.bx-campaign-926778 .bx-element-926778-5xZoxYw> *:first-child {font-size: 25px;text-transform: uppercase;line-height: 0.8em;letter-spacing: 0em;}.bxc.bx-campaign-926778 .bx-element-926778-5xZoxYw {width: auto;}.bxc.bx-campaign-926778 .bx-element-926778-ouMdQDz {padding: 0 0 10px ;}.bxc.bx-campaign-926778 .bx-element-926778-ouMdQDz> *:first-child {font-size: 29px;}.bxc.bx-campaign-926778 .bx-element-926778-0yR5zH3 {width: 120px;padding: 0;}.bxc.bx-campaign-926778 .bx-element-926778-0yR5zH3> *:first-child {padding: 7px;font-size: 14px;border-color: #ab308a;background-color: #ab308a;color: white;letter-spacing: 0;}</style></div>\n",
      "                <div class=\"monetate\" id=\"Storyrightrail\" role=\"complementary\" aria-hidden=\"true\"></div>\n",
      "                <div class=\"karma-docking-rail-placeholder\"></div><div class=\"karma-rail-docking-element karma-sticky-top\">\n",
      "                        \n",
      "                          <div id=\"div-gpt-square-flex-1\" data-tier=\"1\" class=\"ad ad-container ad-wrapper  desktop-ad  karma-ad\" data-dimensions=\"\" role=\"complementary\" aria-hidden=\"true\" tabindex=\"-1\" data-google-query-id=\"CNabi-j-yucCFVMfKgodCEgDPw\"><div id=\"google_ads_iframe_3865/bhg.mdp.com/tier1/video_article/Christmas_2__container__\" style=\"border: 0pt none;\"><iframe id=\"google_ads_iframe_3865/bhg.mdp.com/tier1/video_article/Christmas_2\" title=\"3rd party ad content\" name=\"google_ads_iframe_3865/bhg.mdp.com/tier1/video_article/Christmas_2\" scrolling=\"no\" marginwidth=\"0\" marginheight=\"0\" style=\"border: 0px none; vertical-align: bottom;\" srcdoc=\"\" data-google-container-id=\"2\" data-load-complete=\"true\" width=\"300\" height=\"250\" frameborder=\"0\"></iframe></div></div>\n",
      "                        \n",
      "                        \n",
      "                          <div id=\"div-gpt-square-fixed-5\" data-tier=\"2\" class=\"ad ad-container ad-wrapper  desktop-ad  karma-ad\" data-dimensions=\"\" role=\"complementary\" aria-hidden=\"true\" tabindex=\"-1\" data-google-query-id=\"CNebi-j-yucCFVMfKgodCEgDPw\"><div id=\"google_ads_iframe_3865/bhg.mdp.com/tier2/video_article/Christmas_1__container__\" style=\"border: 0pt none;\"><iframe id=\"google_ads_iframe_3865/bhg.mdp.com/tier2/video_article/Christmas_1\" title=\"3rd party ad content\" name=\"google_ads_iframe_3865/bhg.mdp.com/tier2/video_article/Christmas_1\" scrolling=\"no\" marginwidth=\"0\" marginheight=\"0\" style=\"border: 0px none; vertical-align: bottom;\" srcdoc=\"\" data-google-container-id=\"3\" data-load-complete=\"true\" width=\"300\" height=\"250\" frameborder=\"0\"></iframe></div></div>\n",
      "                        \n",
      "                  <div class=\"ad-title desktop-only\">Advertisement</div>\n",
      "                </div>\n",
      "              </div>\n"
     ]
    }
   ],
   "source": [
    "# url 74\n",
    "i = urls[73]\n",
    "#open_url(i)\n",
    "element = driver.find_element_by_css_selector('div.two-col-main-content:nth-child(3) > div:nth-child(2)')\n",
    "source = element.get_attribute(\"outerHTML\")\n",
    "print(source)\n",
    "ad_type = \"better\"\n",
    "data.append({\"TYPE\" : ad_type, \"ad_code\" : source, \"URL\" : i})"
   ]
  },
  {
   "cell_type": "code",
   "execution_count": 515,
   "metadata": {
    "collapsed": true
   },
   "outputs": [
    {
     "name": "stdout",
     "output_type": "stream",
     "text": [
      "<div class=\"article-right-rail two-col-right-rail sidebar-item karma-sticky-rail\" aria-hidden=\"false\"><div class=\"bxc bx-base bx-custom bx-active-step-1 bx-ally bx-campaign-926767 bx-brand-11155 bx-width-default bx-type-agilityzone bx-has-close-x-1 bx-impress\" id=\"bx-campaign-926767\" style=\"display: none; visibility: hidden; margin-top: 0px; margin-left: 0px;\" aria-hidden=\"false\" aria-label=\"Garden Plan Quiz\" role=\"region\"><div id=\"bx-shroud-926767\" class=\"bx-matte bx-shroud bx-shroud-926767\"></div><div id=\"bx-hover-shroud-926767\" class=\"bx-hover-shroud bx-hover-shroud-926767\" style=\"display:none\"></div><div class=\"bx-slab\"><div class=\"bx-align\"><div class=\"bx-creative bx-creative-926767\" id=\"bx-creative-926767\"><div class=\"bx-wrap\"><a id=\"bx-close-inside-926767\" class=\"bx-close bx-close-link bx-close-inside\" href=\"javascript:void(0)\" data-click=\"close\" aria-label=\"close dialog\"><svg class=\"bx-close-xsvg\" viewBox=\"240 240 20 20\"><g class=\"bx-close-xstroke bx-close-x-adaptive\"><path class=\"bx-close-x-adaptive-1\" d=\"M255.6 255.6l-11.2-11.2\" vector-effect=\"non-scaling-stroke\"></path><path class=\"bx-close-x-adaptive-2\" d=\"M255.6 244.4l-11.2 11.2\" vector-effect=\"non-scaling-stroke\"></path></g></svg><div class=\"bx-ally-label\">close dialog</div></a><div class=\"bx-step bx-step-1 bx-active-step bx-step-NLlOxUZ bx-step-926767-1 bx-tail-placement-hidden\" id=\"bx-step-926767-1\" data-close-placement=\"\"><form id=\"bx-form-926767-step-1\" bx-novalidate=\"true\" method=\"post\" action=\"https://api.bounceexchange.com/capture/submit\" onsubmit=\"return bouncex.submitCampaignStep(926767); return false\" onreset=\"bouncex.close_ad(926767); return false\" aria-labelledby=\"bx-campaign-ally-title-926767\" class=\"bx-ally-no-focus\"><input type=\"hidden\" name=\"campaign_id\" value=\"926767\"><div class=\"bx-group bx-group-default bx-group-926767-qVzSWJd bx-group-qVzSWJd\" id=\"bx-group-926767-qVzSWJd\"><div class=\"bx-row bx-row-text bx-row-text-subheadline  bx-row-IWY9fc5 bx-element-926767-IWY9fc5\" id=\"bx-element-926767-IWY9fc5\"><div>personalized</div></div><div class=\"bx-row bx-row-text bx-row-text-headline  bx-row-Lezz6Eu bx-element-926767-Lezz6Eu\" id=\"bx-element-926767-Lezz6Eu\"><div>garden plans</div></div><div class=\"bx-row bx-row-submit bx-row-submit-default  bx-row-SKKGiNm bx-element-926767-SKKGiNm\" id=\"bx-element-926767-SKKGiNm\"><a href=\"https://www.bhg.com/quizzes/garden-plan-finder/?psrc=BX_R812BRB1234GF\" target=\"_blank\" class=\"bx-button\" data-click=\"hyperlink\" data-click-report=\"click\">start now</a></div></div></form></div></div></div></div></div><a id=\"bx-close-outside-926767\" class=\"bx-close bx-close-link bx-close-outside\" href=\"javascript:void(0)\" data-click=\"close\" aria-label=\"close dialog\"><svg class=\"bx-close-xsvg\" viewBox=\"240 240 20 20\"><g class=\"bx-close-xstroke bx-close-x-adaptive\"><path class=\"bx-close-x-adaptive-1\" d=\"M255.6 255.6l-11.2-11.2\" vector-effect=\"non-scaling-stroke\"></path><path class=\"bx-close-x-adaptive-2\" d=\"M255.6 244.4l-11.2 11.2\" vector-effect=\"non-scaling-stroke\"></path></g></svg><div class=\"bx-ally-label\">close dialog</div></a><style id=\"bx-campaign-926767-style\">/* effects for .bx-campaign-926767 *//* custom css .bx-campaign-926767 *//* custom css from creative 36709 */.bx-custom.bx-campaign-926767 .bx-group-custom a {  position: absolute;  top: 0;  left: 0;  width: 100%;  height: 100%;}/* rendered styles .bx-campaign-926767 */.bxc.bx-campaign-926767.bx-active-step-1 .bx-creative:before {min-height: 150px;}.bxc.bx-campaign-926767.bx-active-step-1 .bx-creative {background-image: url(//assets.bounceexchange.com/assets/uploads/clients/3166/creatives/5ec8e03f1d9e0edf779c9cc881da5384.jpg);background-repeat: no-repeat;background-position: 50%;background-size: cover;background-color: #ffffff;border-style: none;border-color: #feca1f;border-width: 0 0 0 3px ;margin-bottom: 20px;}@media all and (max-width: 736px) {.bxc.bx-campaign-926767.bx-active-step-1 .bx-creative:before {min-height: 150px;}}.bxc.bx-campaign-926767.bx-active-step-1 .bx-creative> *:first-child {width: 300px;padding: 0 140px 0 25px;vertical-align: middle;}.bxc.bx-campaign-926767.bx-active-step-1 .bx-close {width: 14px;height: 14px;padding: 0px;top: 3px;right: 3px;}.bxc.bx-campaign-926767 .bx-group-926767-qVzSWJd {width: 100%;text-align: left;}@media all and (max-width: 736px) {.bxc.bx-campaign-926767 .bx-group-926767-qVzSWJd {position: static;}}.bxc.bx-campaign-926767 .bx-element-926767-IWY9fc5> *:first-child {font-size: 17px;color: #000000;letter-spacing: 0.03em;}.bxc.bx-campaign-926767 .bx-element-926767-Lezz6Eu {padding: 0 0 6px ;}.bxc.bx-campaign-926767 .bx-element-926767-Lezz6Eu> *:first-child {font-size: 32px;text-align: left;text-transform: capitalize;}.bxc.bx-campaign-926767 .bx-element-926767-SKKGiNm {width: 110px;padding: 0;}.bxc.bx-campaign-926767 .bx-element-926767-SKKGiNm> *:first-child {padding: 7px;font-size: 14px;border-color: #ab308a;background-color: #ab308a;color: white;letter-spacing: 0;}</style></div>\n",
      "                <div class=\"monetate\" id=\"Storyrightrail\" role=\"complementary\" aria-hidden=\"true\"></div>\n",
      "                <div class=\"karma-docking-rail-placeholder\"></div><div class=\"karma-rail-docking-element karma-sticky-top\">\n",
      "                        \n",
      "                          <div id=\"div-gpt-square-flex-1\" data-tier=\"1\" class=\"ad ad-container ad-wrapper  desktop-ad  karma-ad\" data-dimensions=\"\" role=\"complementary\" aria-hidden=\"true\" tabindex=\"-1\" data-google-query-id=\"CKu1gJ3_yucCFQ86lgodEZ8IFg\"><div id=\"google_ads_iframe_3865/bhg.mdp.com/tier1/article/Gardening_2__container__\" style=\"border: 0pt none;\"><iframe id=\"google_ads_iframe_3865/bhg.mdp.com/tier1/article/Gardening_2\" title=\"3rd party ad content\" name=\"google_ads_iframe_3865/bhg.mdp.com/tier1/article/Gardening_2\" scrolling=\"no\" marginwidth=\"0\" marginheight=\"0\" style=\"border: 0px none; vertical-align: bottom;\" srcdoc=\"\" data-google-container-id=\"2\" data-load-complete=\"true\" width=\"300\" height=\"250\" frameborder=\"0\"></iframe></div></div>\n",
      "                        \n",
      "                        \n",
      "                          <div id=\"div-gpt-square-fixed-5\" data-tier=\"2\" class=\"ad ad-container ad-wrapper  desktop-ad  karma-ad\" data-dimensions=\"\" role=\"complementary\" aria-hidden=\"true\" tabindex=\"-1\" data-google-query-id=\"CKy1gJ3_yucCFQ86lgodEZ8IFg\"><div id=\"google_ads_iframe_3865/bhg.mdp.com/tier2/article/Gardening_1__container__\" style=\"border: 0pt none;\"><iframe id=\"google_ads_iframe_3865/bhg.mdp.com/tier2/article/Gardening_1\" title=\"3rd party ad content\" name=\"google_ads_iframe_3865/bhg.mdp.com/tier2/article/Gardening_1\" scrolling=\"no\" marginwidth=\"0\" marginheight=\"0\" style=\"border: 0px none; vertical-align: bottom;\" srcdoc=\"\" data-google-container-id=\"3\" data-load-complete=\"true\" width=\"300\" height=\"250\" frameborder=\"0\"></iframe></div></div>\n",
      "                        \n",
      "                  <div class=\"ad-title desktop-only\">Advertisement</div>\n",
      "                </div>\n",
      "              </div>\n"
     ]
    }
   ],
   "source": [
    "# url 75\n",
    "i = urls[74]\n",
    "#open_url(i)\n",
    "element = driver.find_element_by_css_selector('.article-right-rail')\n",
    "source = element.get_attribute(\"outerHTML\")\n",
    "print(source)\n",
    "ad_type = \"better\"\n",
    "data.append({\"TYPE\" : ad_type, \"ad_code\" : source, \"URL\" : i})"
   ]
  },
  {
   "cell_type": "code",
   "execution_count": 518,
   "metadata": {
    "collapsed": true
   },
   "outputs": [
    {
     "name": "stdout",
     "output_type": "stream",
     "text": [
      "<aside class=\"sidebar sidebar-primary widget-area\" role=\"complementary\" aria-label=\"Primary Sidebar\" itemscope=\"\" itemtype=\"https://schema.org/WPSideBar\" id=\"genesis-sidebar-primary\"><h2 class=\"genesis-sidebar-title screen-reader-text\">Primary Sidebar</h2><section id=\"enews-ext-3\" class=\"widget enews-widget\"><div class=\"widget-wrap\"><div class=\"enews\"><h3 class=\"widgettitle widget-title\">Subscribe for Updates</h3><p>New patterns, videos &amp; sales. Cool stuff only. Unsubscribe anytime.</p><form id=\"subscribeenews-ext-3\" action=\"https://www.cloudy.email/go/subscribe\" method=\"post\" target=\"_blank\" onsubmit=\"if ( subbox1.value == 'your name...') { subbox1.value = ''; } if ( subbox2.value == 'Last Name') { subbox2.value = ''; }\" name=\"enews-ext-3\"> <label for=\"subbox1\" class=\"screenread\">your name...</label><input type=\"text\" id=\"subbox1\" class=\"enews-subbox\" value=\"\" placeholder=\"your name...\" name=\"name\"> <label for=\"subbox\" class=\"screenread\">your email...</label><input type=\"email\" value=\"\" id=\"subbox\" placeholder=\"your email...\" name=\"email\" required=\"required\"> <input type=\"hidden\" name=\"list\" value=\"o892lTo48J4MqIMgaR892BkwQQ\"> <input type=\"submit\" value=\"Subscribe\" id=\"subbutton\"></form></div></div></section><section id=\"media_image-3\" class=\"widget widget_media_image\"><div class=\"widget-wrap\"><a href=\"https://www.lovecrafts.com?utm_medium=affiliate&amp;a_aid=22ca8fee&amp;a_bid=202da254\" rel=\"httpswwwlovecraftscomutm_mediumaffiliatea_aid22ca8feea_bid202da254 noopener noreferrer\" target=\"_blank\" class=\"no-shadow\"><noscript><img width=\"377\" height=\"314\" src=\"https://sheepandstitch.com/wp-content/uploads/2019/07/lovecrafts-banner2.jpg\" class=\"image wp-image-6204  attachment-full size-full\" alt=\"\" style=\"max-width: 100%; height: auto;\" srcset=\"https://sheepandstitch.com/wp-content/uploads/2019/07/lovecrafts-banner2.jpg 377w, https://sheepandstitch.com/wp-content/uploads/2019/07/lovecrafts-banner2-300x250.jpg 300w\" sizes=\"(max-width: 377px) 100vw, 377px\" /></noscript><img src=\"https://sheepandstitch.com/wp-content/uploads/2019/07/lovecrafts-banner2.jpg\" data-src=\"https://sheepandstitch.com/wp-content/uploads/2019/07/lovecrafts-banner2.jpg\" class=\"image wp-image-6204  attachment-full size-full lazyloaded\" alt=\"\" style=\"max-width: 100%; height: auto;\" data-srcset=\"https://sheepandstitch.com/wp-content/uploads/2019/07/lovecrafts-banner2.jpg 377w, https://sheepandstitch.com/wp-content/uploads/2019/07/lovecrafts-banner2-300x250.jpg 300w\" data-sizes=\"(max-width: 377px) 100vw, 377px\" sizes=\"(max-width: 377px) 100vw, 377px\" srcset=\"https://sheepandstitch.com/wp-content/uploads/2019/07/lovecrafts-banner2.jpg 377w, https://sheepandstitch.com/wp-content/uploads/2019/07/lovecrafts-banner2-300x250.jpg 300w\" width=\"377\" height=\"314\"></a></div></section><section id=\"wpp-2\" class=\"widget popular-posts\"><div class=\"widget-wrap\"><h3 class=\"widgettitle widget-title\"><span id=\"ezoic-pub-ad-placeholder-113\" class=\"ezoic-adpicker-ad\"></span><span style=\"display:block !important;float:none;margin-bottom:5px !important;margin-left:0px !important;margin-right:0px !important;margin-top:5px !important;min-height:250px;min-width:300px;text-align:center !important;\" class=\"ezoic-ad large-billboard-2 adtester-container adtester-container-113\" data-ez-name=\"sheepandstitch_com-large-billboard-2\"><span id=\"div-gpt-ad-sheepandstitch_com-large-billboard-2-0\" ezaw=\"300\" ezah=\"250\" style=\"position: relative; z-index: 0; min-height: 250px; min-width: 300px;\" class=\"ezoic-ad ezfound\" data-google-query-id=\"CK7Ekcj_yucCFQRylgodvoYELg\"><div id=\"google_ads_iframe_/1254144/sheepandstitch_com-large-billboard-2_0__container__\" style=\"border: 0pt none; display: inline-block; width: 300px; height: 250px;\"><iframe style=\"border: 0px none; vertical-align: bottom;\" src=\"https://tpc.googlesyndication.com/safeframe/1-0-37/html/container.html\" id=\"google_ads_iframe_/1254144/sheepandstitch_com-large-billboard-2_0\" title=\"3rd party ad content\" name=\"\" scrolling=\"no\" marginwidth=\"0\" marginheight=\"0\" data-is-safeframe=\"true\" data-google-container-id=\"h\" data-load-complete=\"true\" width=\"300\" height=\"250\" frameborder=\"0\"></iframe></div></span></span>Most Popular</h3><ul class=\"wpp-list wpp-list-with-thumbnails\"><li> <a href=\"https://sheepandstitch.com/3-beginner-knitting-mistakes/\" title=\"3 Beginner Knitting Mistakes and How to Fix Them\" target=\"_self\" class=\"no-shadow\"><noscript><img src=\"https://sheepandstitch.com/wp-content/uploads/wordpress-popular-posts/1309-featured-377x227.jpg\" width=\"377\" height=\"227\" alt=\"3 Beginner Knitting Mistakes and How to Fix Them\" class=\"wpp-thumbnail wpp_cached_thumb wpp_featured\" /></noscript><img src=\"https://sheepandstitch.com/wp-content/uploads/wordpress-popular-posts/1309-featured-377x227.jpg\" data-src=\"https://sheepandstitch.com/wp-content/uploads/wordpress-popular-posts/1309-featured-377x227.jpg\" alt=\"3 Beginner Knitting Mistakes and How to Fix Them\" class=\"wpp-thumbnail wpp_cached_thumb wpp_featured lazyloaded\" width=\"377\" height=\"227\"></a> <a href=\"https://sheepandstitch.com/3-beginner-knitting-mistakes/\" title=\"3 Beginner Knitting Mistakes and How to Fix Them\" class=\"wpp-post-title\" target=\"_self\">3 Beginner Knitting Mistakes and How to Fix Them</a></li><li> <a href=\"https://sheepandstitch.com/how-to-knit-a-scarf-for-beginners/\" title=\"How to Knit a Scarf for Beginners\" target=\"_self\" class=\"no-shadow\"><noscript><img src=\"https://sheepandstitch.com/wp-content/uploads/wordpress-popular-posts/3124-featured-377x227.jpg\" width=\"377\" height=\"227\" alt=\"How to Knit a Scarf for Beginners\" class=\"wpp-thumbnail wpp_cached_thumb wpp_featured\" /></noscript><img src=\"https://sheepandstitch.com/wp-content/uploads/wordpress-popular-posts/3124-featured-377x227.jpg\" data-src=\"https://sheepandstitch.com/wp-content/uploads/wordpress-popular-posts/3124-featured-377x227.jpg\" alt=\"How to Knit a Scarf for Beginners\" class=\"wpp-thumbnail wpp_cached_thumb wpp_featured lazyloaded\" width=\"377\" height=\"227\"></a> <a href=\"https://sheepandstitch.com/how-to-knit-a-scarf-for-beginners/\" title=\"How to Knit a Scarf for Beginners\" class=\"wpp-post-title\" target=\"_self\">How to Knit a Scarf for Beginners</a></li><li> <a href=\"https://sheepandstitch.com/the-history-of-knitting-part-1-mysterious-origins/\" title=\"The History of Knitting Pt 1: Mysterious Origins\" target=\"_self\" class=\"no-shadow\"><noscript><img src=\"https://sheepandstitch.com/wp-content/uploads/wordpress-popular-posts/236-featured-377x227.jpg\" width=\"377\" height=\"227\" alt=\"The History of Knitting Pt 1: Mysterious Origins\" class=\"wpp-thumbnail wpp_cached_thumb wpp_featured\" /></noscript><img src=\"https://sheepandstitch.com/wp-content/uploads/wordpress-popular-posts/236-featured-377x227.jpg\" data-src=\"https://sheepandstitch.com/wp-content/uploads/wordpress-popular-posts/236-featured-377x227.jpg\" alt=\"The History of Knitting Pt 1: Mysterious Origins\" class=\"wpp-thumbnail wpp_cached_thumb wpp_featured lazyloaded\" width=\"377\" height=\"227\"></a> <a href=\"https://sheepandstitch.com/the-history-of-knitting-part-1-mysterious-origins/\" title=\"The History of Knitting Pt 1: Mysterious Origins\" class=\"wpp-post-title\" target=\"_self\">The History of Knitting Pt 1: Mysterious Origins</a></li></ul></div></section><section id=\"custom_html-2\" class=\"widget_text widget widget_custom_html\"><div class=\"widget_text widget-wrap\"><h3 class=\"widgettitle widget-title\">Follow Us on Pinterest</h3><div class=\"textwidget custom-html-widget\"><span class=\"PIN_1581475547589_embed_grid PIN_1581475547589_c3\" data-pin-log=\"embed_grid\" data-pin-href=\"https://www.pinterest.com\"><span class=\"PIN_1581475547589_hd\" data-pin-href=\"https://www.pinterest.com/sheepandstitch/\" data-pin-log=\"embed_grid\"><span class=\"PIN_1581475547589_img\" data-pin-href=\"https://www.pinterest.com/sheepandstitch/\" data-pin-log=\"embed_grid\" style=\"background-image: url(&quot;https://i.pinimg.com/60x60_RS/0f/0b/c0/0f0bc0e943e5a715df354040dfcc621a.jpg&quot;);\" data-pin-src=\"https://i.pinimg.com/60x60_RS/0f/0b/c0/0f0bc0e943e5a715df354040dfcc621a.jpg\"></span><span class=\"PIN_1581475547589_pinner\" data-pin-href=\"https://www.pinterest.com/sheepandstitch/\" data-pin-log=\"embed_grid\">Sheep &amp; Stitch</span></span><span class=\"PIN_1581475547589_bd\" data-pin-href=\"https://www.pinterest.com\" data-pin-log=\"embed_grid\" style=\"height: 240px;\"><span class=\"PIN_1581475547589_ct\" data-pin-href=\"https://www.pinterest.com\" data-pin-log=\"embed_grid\"><span class=\"PIN_1581475547589_col\" data-pin-href=\"https://www.pinterest.com\" data-pin-log=\"embed_grid\"><span class=\"PIN_1581475547589_img\" data-pin-href=\"https://www.pinterest.com/pin/7107311900300261\" data-pin-log=\"embed_grid\" style=\"background-image: url(&quot;https://i.pinimg.com/237x/e0/85/05/e08505c7d3545893fc4a74d3020a9727.jpg&quot;); background-color: rgb(199, 182, 181); padding-bottom: 149.789%;\" data-pin-src=\"https://i.pinimg.com/237x/e0/85/05/e08505c7d3545893fc4a74d3020a9727.jpg\"></span><span class=\"PIN_1581475547589_img\" data-pin-href=\"https://www.pinterest.com/pin/490329478182188862\" data-pin-log=\"embed_grid\" style=\"background-image: url(&quot;https://i.pinimg.com/237x/9c/72/b4/9c72b4c9e10d395f32117b3a782f6aea.jpg&quot;); background-color: rgb(204, 190, 172); padding-bottom: 200%;\" data-pin-src=\"https://i.pinimg.com/237x/9c/72/b4/9c72b4c9e10d395f32117b3a782f6aea.jpg\"></span><span class=\"PIN_1581475547589_img\" data-pin-href=\"https://www.pinterest.com/pin/490329478182178031\" data-pin-log=\"embed_grid\" style=\"background-image: url(&quot;https://i.pinimg.com/237x/ba/29/32/ba293218e84c7e131a3ffa271d999abe.jpg&quot;); background-color: rgb(246, 228, 216); padding-bottom: 210.127%;\" data-pin-src=\"https://i.pinimg.com/237x/ba/29/32/ba293218e84c7e131a3ffa271d999abe.jpg\"></span><span class=\"PIN_1581475547589_img\" data-pin-href=\"https://www.pinterest.com/pin/490329478182177858\" data-pin-log=\"embed_grid\" style=\"background-image: url(&quot;https://i.pinimg.com/237x/4a/38/1c/4a381c4a5ef687a78ea992fbc652f0e8.jpg&quot;); background-color: rgb(183, 158, 143); padding-bottom: 149.789%;\" data-pin-src=\"https://i.pinimg.com/237x/4a/38/1c/4a381c4a5ef687a78ea992fbc652f0e8.jpg\"></span><span class=\"PIN_1581475547589_img\" data-pin-href=\"https://www.pinterest.com/pin/490329478182174212\" data-pin-log=\"embed_grid\" style=\"background-image: url(&quot;https://i.pinimg.com/237x/02/04/51/0204516461b461bc09937347e35270f7.jpg&quot;); background-color: rgb(149, 180, 190); padding-bottom: 217.3%;\" data-pin-src=\"https://i.pinimg.com/237x/02/04/51/0204516461b461bc09937347e35270f7.jpg\"></span><span class=\"PIN_1581475547589_img\" data-pin-href=\"https://www.pinterest.com/pin/490329478182165454\" data-pin-log=\"embed_grid\" style=\"background-image: url(&quot;https://i.pinimg.com/237x/bc/2b/d3/bc2bd3a772e897a90d097791c59c302d.jpg&quot;); background-color: rgb(208, 201, 205); padding-bottom: 259.916%;\" data-pin-src=\"https://i.pinimg.com/237x/bc/2b/d3/bc2bd3a772e897a90d097791c59c302d.jpg\"></span><span class=\"PIN_1581475547589_img\" data-pin-href=\"https://www.pinterest.com/pin/587790188853077385\" data-pin-log=\"embed_grid\" style=\"background-image: url(&quot;https://i.pinimg.com/237x/e5/e5/e0/e5e5e06b0303852e98b60790fe3505c2.jpg&quot;); background-color: rgb(199, 186, 191); padding-bottom: 149.789%;\" data-pin-src=\"https://i.pinimg.com/237x/e5/e5/e0/e5e5e06b0303852e98b60790fe3505c2.jpg\"></span><span class=\"PIN_1581475547589_img\" data-pin-href=\"https://www.pinterest.com/pin/490329478182147624\" data-pin-log=\"embed_grid\" style=\"background-image: url(&quot;https://i.pinimg.com/237x/de/f9/60/def96014bd69edd36b3e7a6ce44fbd44.jpg&quot;); background-color: rgb(89, 97, 101); padding-bottom: 230.38%;\" data-pin-src=\"https://i.pinimg.com/237x/de/f9/60/def96014bd69edd36b3e7a6ce44fbd44.jpg\"></span><span class=\"PIN_1581475547589_img\" data-pin-href=\"https://www.pinterest.com/pin/490329478182138758\" data-pin-log=\"embed_grid\" style=\"background-image: url(&quot;https://i.pinimg.com/237x/99/7b/71/997b71f9f2114f074b7016753f491d82.jpg&quot;); background-color: rgb(201, 86, 106); padding-bottom: 149.789%;\" data-pin-src=\"https://i.pinimg.com/237x/99/7b/71/997b71f9f2114f074b7016753f491d82.jpg\"></span><span class=\"PIN_1581475547589_img\" data-pin-href=\"https://www.pinterest.com/pin/490329478182131311\" data-pin-log=\"embed_grid\" style=\"background-image: url(&quot;https://i.pinimg.com/237x/3f/cc/5c/3fcc5ced0b09370f0a6ea47446128054.jpg&quot;); background-color: rgb(228, 228, 228); padding-bottom: 149.789%;\" data-pin-src=\"https://i.pinimg.com/237x/3f/cc/5c/3fcc5ced0b09370f0a6ea47446128054.jpg\"></span><span class=\"PIN_1581475547589_img\" data-pin-href=\"https://www.pinterest.com/pin/490329478182127592\" data-pin-log=\"embed_grid\" style=\"background-image: url(&quot;https://i.pinimg.com/237x/44/38/d5/4438d55ead9f92bd7df5c2cae21c25df.jpg&quot;); background-color: rgb(203, 192, 179); padding-bottom: 149.789%;\" data-pin-src=\"https://i.pinimg.com/237x/44/38/d5/4438d55ead9f92bd7df5c2cae21c25df.jpg\"></span><span class=\"PIN_1581475547589_img\" data-pin-href=\"https://www.pinterest.com/pin/490329478182119575\" data-pin-log=\"embed_grid\" style=\"background-image: url(&quot;https://i.pinimg.com/237x/92/ac/48/92ac48a0440f8020edf6d23a724552e7.jpg&quot;); background-color: rgb(241, 241, 240); padding-bottom: 149.789%;\" data-pin-src=\"https://i.pinimg.com/237x/92/ac/48/92ac48a0440f8020edf6d23a724552e7.jpg\"></span><span class=\"PIN_1581475547589_img\" data-pin-href=\"https://www.pinterest.com/pin/490329478182116017\" data-pin-log=\"embed_grid\" style=\"background-image: url(&quot;https://i.pinimg.com/237x/b6/d3/30/b6d330227593c84afce3fda7726f6762.jpg&quot;); background-color: rgb(209, 216, 227); padding-bottom: 213.924%;\" data-pin-src=\"https://i.pinimg.com/237x/b6/d3/30/b6d330227593c84afce3fda7726f6762.jpg\"></span><span class=\"PIN_1581475547589_img\" data-pin-href=\"https://www.pinterest.com/pin/490329478182108233\" data-pin-log=\"embed_grid\" style=\"background-image: url(&quot;https://i.pinimg.com/237x/95/af/23/95af23818118599a828a6544f391c48b.jpg&quot;); background-color: rgb(254, 255, 253); padding-bottom: 183.122%;\" data-pin-src=\"https://i.pinimg.com/237x/95/af/23/95af23818118599a828a6544f391c48b.jpg\"></span><span class=\"PIN_1581475547589_img\" data-pin-href=\"https://www.pinterest.com/pin/490329478182107837\" data-pin-log=\"embed_grid\" style=\"background-image: url(&quot;https://i.pinimg.com/237x/8a/a9/49/8aa9492d817c7e0f0a87cad3b4c40a85.jpg&quot;); background-color: rgb(110, 106, 107); padding-bottom: 149.789%;\" data-pin-src=\"https://i.pinimg.com/237x/8a/a9/49/8aa9492d817c7e0f0a87cad3b4c40a85.jpg\"></span><span class=\"PIN_1581475547589_img\" data-pin-href=\"https://www.pinterest.com/pin/490329478182096788\" data-pin-log=\"embed_grid\" style=\"background-image: url(&quot;https://i.pinimg.com/237x/95/af/23/95af23818118599a828a6544f391c48b.jpg&quot;); background-color: rgb(254, 255, 253); padding-bottom: 183.122%;\" data-pin-src=\"https://i.pinimg.com/237x/95/af/23/95af23818118599a828a6544f391c48b.jpg\"></span></span><span class=\"PIN_1581475547589_col\" data-pin-href=\"https://www.pinterest.com\" data-pin-log=\"embed_grid\"><span class=\"PIN_1581475547589_img\" data-pin-href=\"https://www.pinterest.com/pin/267542034101651350\" data-pin-log=\"embed_grid\" style=\"background-image: url(&quot;https://i.pinimg.com/237x/e0/85/05/e08505c7d3545893fc4a74d3020a9727.jpg&quot;); background-color: rgb(199, 182, 181); padding-bottom: 149.789%;\" data-pin-src=\"https://i.pinimg.com/237x/e0/85/05/e08505c7d3545893fc4a74d3020a9727.jpg\"></span><span class=\"PIN_1581475547589_img\" data-pin-href=\"https://www.pinterest.com/pin/587790188853163263\" data-pin-log=\"embed_grid\" style=\"background-image: url(&quot;https://i.pinimg.com/237x/e0/85/05/e08505c7d3545893fc4a74d3020a9727.jpg&quot;); background-color: rgb(199, 182, 181); padding-bottom: 149.789%;\" data-pin-src=\"https://i.pinimg.com/237x/e0/85/05/e08505c7d3545893fc4a74d3020a9727.jpg\"></span><span class=\"PIN_1581475547589_img\" data-pin-href=\"https://www.pinterest.com/pin/490329478182186326\" data-pin-log=\"embed_grid\" style=\"background-image: url(&quot;https://i.pinimg.com/237x/bb/fb/c6/bbfbc61e4177aa2c5bbe11526c277d3c.jpg&quot;); background-color: rgb(186, 178, 167); padding-bottom: 209.705%;\" data-pin-src=\"https://i.pinimg.com/237x/bb/fb/c6/bbfbc61e4177aa2c5bbe11526c277d3c.jpg\"></span><span class=\"PIN_1581475547589_img\" data-pin-href=\"https://www.pinterest.com/pin/490329478182178006\" data-pin-log=\"embed_grid\" style=\"background-image: url(&quot;https://i.pinimg.com/237x/60/24/1d/60241d329b284da1c2535e1c2c6a9a82.jpg&quot;); background-color: rgb(224, 220, 217); padding-bottom: 211.814%;\" data-pin-src=\"https://i.pinimg.com/237x/60/24/1d/60241d329b284da1c2535e1c2c6a9a82.jpg\"></span><span class=\"PIN_1581475547589_img\" data-pin-href=\"https://www.pinterest.com/pin/490329478182166323\" data-pin-log=\"embed_grid\" style=\"background-image: url(&quot;https://i.pinimg.com/237x/ff/e3/78/ffe378c056472c79b6c4797f822cfd56.jpg&quot;); background-color: rgb(240, 239, 237); padding-bottom: 153.165%;\" data-pin-src=\"https://i.pinimg.com/237x/ff/e3/78/ffe378c056472c79b6c4797f822cfd56.jpg\"></span><span class=\"PIN_1581475547589_img\" data-pin-href=\"https://www.pinterest.com/pin/267542034101637050\" data-pin-log=\"embed_grid\" style=\"background-image: url(&quot;https://i.pinimg.com/237x/da/af/57/daaf57d02ccbe612a55e25241c1cffc2.jpg&quot;); background-color: rgb(180, 169, 163); padding-bottom: 149.789%;\" data-pin-src=\"https://i.pinimg.com/237x/da/af/57/daaf57d02ccbe612a55e25241c1cffc2.jpg\"></span><span class=\"PIN_1581475547589_img\" data-pin-href=\"https://www.pinterest.com/pin/490329478182162341\" data-pin-log=\"embed_grid\" style=\"background-image: url(&quot;https://i.pinimg.com/237x/51/3e/3c/513e3c2e295da177f980e975d97b3cf7.jpg&quot;); background-color: rgb(84, 71, 65); padding-bottom: 149.789%;\" data-pin-src=\"https://i.pinimg.com/237x/51/3e/3c/513e3c2e295da177f980e975d97b3cf7.jpg\"></span><span class=\"PIN_1581475547589_img\" data-pin-href=\"https://www.pinterest.com/pin/587790188853082484\" data-pin-log=\"embed_grid\" style=\"background-image: url(&quot;https://i.pinimg.com/237x/da/af/57/daaf57d02ccbe612a55e25241c1cffc2.jpg&quot;); background-color: rgb(180, 169, 163); padding-bottom: 149.789%;\" data-pin-src=\"https://i.pinimg.com/237x/da/af/57/daaf57d02ccbe612a55e25241c1cffc2.jpg\"></span><span class=\"PIN_1581475547589_img\" data-pin-href=\"https://www.pinterest.com/pin/490329478182150123\" data-pin-log=\"embed_grid\" style=\"background-image: url(&quot;https://i.pinimg.com/237x/7b/2e/7a/7b2e7a2385d99d2ad7a086ef3e6d769e.jpg&quot;); background-color: rgb(165, 126, 100); padding-bottom: 199.578%;\" data-pin-src=\"https://i.pinimg.com/237x/7b/2e/7a/7b2e7a2385d99d2ad7a086ef3e6d769e.jpg\"></span><span class=\"PIN_1581475547589_img\" data-pin-href=\"https://www.pinterest.com/pin/490329478182142422\" data-pin-log=\"embed_grid\" style=\"background-image: url(&quot;https://i.pinimg.com/237x/60/48/54/604854723b67def449ffa5fe75093393.jpg&quot;); background-color: rgb(173, 136, 113); padding-bottom: 183.122%;\" data-pin-src=\"https://i.pinimg.com/237x/60/48/54/604854723b67def449ffa5fe75093393.jpg\"></span><span class=\"PIN_1581475547589_img\" data-pin-href=\"https://www.pinterest.com/pin/490329478182136198\" data-pin-log=\"embed_grid\" style=\"background-image: url(&quot;https://i.pinimg.com/237x/e4/2d/67/e42d67bbfc2ce95a85f419aae6120b57.jpg&quot;); background-color: rgb(231, 205, 216); padding-bottom: 149.789%;\" data-pin-src=\"https://i.pinimg.com/237x/e4/2d/67/e42d67bbfc2ce95a85f419aae6120b57.jpg\"></span><span class=\"PIN_1581475547589_img\" data-pin-href=\"https://www.pinterest.com/pin/490329478182131308\" data-pin-log=\"embed_grid\" style=\"background-image: url(&quot;https://i.pinimg.com/237x/0a/2e/ae/0a2eae3184c02b36a7e3c934315f2aba.jpg&quot;); background-color: rgb(251, 251, 252); padding-bottom: 149.789%;\" data-pin-src=\"https://i.pinimg.com/237x/0a/2e/ae/0a2eae3184c02b36a7e3c934315f2aba.jpg\"></span><span class=\"PIN_1581475547589_img\" data-pin-href=\"https://www.pinterest.com/pin/490329478182124754\" data-pin-log=\"embed_grid\" style=\"background-image: url(&quot;https://i.pinimg.com/237x/a8/0b/42/a80b42b416ebe49d10d61de73f7ede1e.jpg&quot;); background-color: rgb(217, 180, 164); padding-bottom: 149.789%;\" data-pin-src=\"https://i.pinimg.com/237x/a8/0b/42/a80b42b416ebe49d10d61de73f7ede1e.jpg\"></span><span class=\"PIN_1581475547589_img\" data-pin-href=\"https://www.pinterest.com/pin/490329478182119283\" data-pin-log=\"embed_grid\" style=\"background-image: url(&quot;https://i.pinimg.com/237x/d8/2e/fb/d82efb5f90244a65f5af23a7dab6e5c1.jpg&quot;); background-color: rgb(225, 215, 206); padding-bottom: 185.232%;\" data-pin-src=\"https://i.pinimg.com/237x/d8/2e/fb/d82efb5f90244a65f5af23a7dab6e5c1.jpg\"></span><span class=\"PIN_1581475547589_img\" data-pin-href=\"https://www.pinterest.com/pin/490329478182110531\" data-pin-log=\"embed_grid\" style=\"background-image: url(&quot;https://i.pinimg.com/237x/28/de/7d/28de7dff11fac1c699ed16c3bd3792bc.jpg&quot;); background-color: rgb(234, 233, 233); padding-bottom: 149.789%;\" data-pin-src=\"https://i.pinimg.com/237x/28/de/7d/28de7dff11fac1c699ed16c3bd3792bc.jpg\"></span><span class=\"PIN_1581475547589_img\" data-pin-href=\"https://www.pinterest.com/pin/490329478182108126\" data-pin-log=\"embed_grid\" style=\"background-image: url(&quot;https://i.pinimg.com/237x/95/f3/53/95f353f129645a90a557368fbf22c3b3.jpg&quot;); background-color: rgb(254, 255, 255); padding-bottom: 210.549%;\" data-pin-src=\"https://i.pinimg.com/237x/95/f3/53/95f353f129645a90a557368fbf22c3b3.jpg\"></span><span class=\"PIN_1581475547589_img\" data-pin-href=\"https://www.pinterest.com/pin/490329478182097737\" data-pin-log=\"embed_grid\" style=\"background-image: url(&quot;https://i.pinimg.com/237x/28/de/7d/28de7dff11fac1c699ed16c3bd3792bc.jpg&quot;); background-color: rgb(234, 233, 233); padding-bottom: 149.789%;\" data-pin-src=\"https://i.pinimg.com/237x/28/de/7d/28de7dff11fac1c699ed16c3bd3792bc.jpg\"></span></span><span class=\"PIN_1581475547589_col\" data-pin-href=\"https://www.pinterest.com\" data-pin-log=\"embed_grid\"><span class=\"PIN_1581475547589_img\" data-pin-href=\"https://www.pinterest.com/pin/490329478182197576\" data-pin-log=\"embed_grid\" style=\"background-image: url(&quot;https://i.pinimg.com/237x/bb/fb/c6/bbfbc61e4177aa2c5bbe11526c277d3c.jpg&quot;); background-color: rgb(186, 178, 167); padding-bottom: 209.705%;\" data-pin-src=\"https://i.pinimg.com/237x/bb/fb/c6/bbfbc61e4177aa2c5bbe11526c277d3c.jpg\"></span><span class=\"PIN_1581475547589_img\" data-pin-href=\"https://www.pinterest.com/pin/490329478182188705\" data-pin-log=\"embed_grid\" style=\"background-image: url(&quot;https://i.pinimg.com/237x/06/e6/4f/06e64f0fb85e5792b2a16bf280f6c553.jpg&quot;); background-color: rgb(207, 165, 172); padding-bottom: 210.127%;\" data-pin-src=\"https://i.pinimg.com/237x/06/e6/4f/06e64f0fb85e5792b2a16bf280f6c553.jpg\"></span><span class=\"PIN_1581475547589_img\" data-pin-href=\"https://www.pinterest.com/pin/853432198125312029\" data-pin-log=\"embed_grid\" style=\"background-image: url(&quot;https://i.pinimg.com/237x/da/af/57/daaf57d02ccbe612a55e25241c1cffc2.jpg&quot;); background-color: rgb(180, 169, 163); padding-bottom: 149.789%;\" data-pin-src=\"https://i.pinimg.com/237x/da/af/57/daaf57d02ccbe612a55e25241c1cffc2.jpg\"></span><span class=\"PIN_1581475547589_img\" data-pin-href=\"https://www.pinterest.com/pin/490329478182174238\" data-pin-log=\"embed_grid\" style=\"background-image: url(&quot;https://i.pinimg.com/237x/06/e6/4f/06e64f0fb85e5792b2a16bf280f6c553.jpg&quot;); background-color: rgb(207, 165, 172); padding-bottom: 210.127%;\" data-pin-src=\"https://i.pinimg.com/237x/06/e6/4f/06e64f0fb85e5792b2a16bf280f6c553.jpg\"></span><span class=\"PIN_1581475547589_img\" data-pin-href=\"https://www.pinterest.com/pin/490329478182165792\" data-pin-log=\"embed_grid\" style=\"background-image: url(&quot;https://i.pinimg.com/237x/60/24/1d/60241d329b284da1c2535e1c2c6a9a82.jpg&quot;); background-color: rgb(224, 220, 217); padding-bottom: 211.814%;\" data-pin-src=\"https://i.pinimg.com/237x/60/24/1d/60241d329b284da1c2535e1c2c6a9a82.jpg\"></span><span class=\"PIN_1581475547589_img\" data-pin-href=\"https://www.pinterest.com/pin/267542034101636341\" data-pin-log=\"embed_grid\" style=\"background-image: url(&quot;https://i.pinimg.com/237x/e5/e5/e0/e5e5e06b0303852e98b60790fe3505c2.jpg&quot;); background-color: rgb(199, 186, 191); padding-bottom: 149.789%;\" data-pin-src=\"https://i.pinimg.com/237x/e5/e5/e0/e5e5e06b0303852e98b60790fe3505c2.jpg\"></span><span class=\"PIN_1581475547589_img\" data-pin-href=\"https://www.pinterest.com/pin/490329478182161518\" data-pin-log=\"embed_grid\" style=\"background-image: url(&quot;https://i.pinimg.com/237x/80/8b/34/808b34cbeeab3359ae65b90595b8d7c9.jpg&quot;); background-color: rgb(174, 156, 145); padding-bottom: 224.473%;\" data-pin-src=\"https://i.pinimg.com/237x/80/8b/34/808b34cbeeab3359ae65b90595b8d7c9.jpg\"></span><span class=\"PIN_1581475547589_img\" data-pin-href=\"https://www.pinterest.com/pin/490329478182143772\" data-pin-log=\"embed_grid\" style=\"background-image: url(&quot;https://i.pinimg.com/237x/3f/cc/5c/3fcc5ced0b09370f0a6ea47446128054.jpg&quot;); background-color: rgb(228, 228, 228); padding-bottom: 149.789%;\" data-pin-src=\"https://i.pinimg.com/237x/3f/cc/5c/3fcc5ced0b09370f0a6ea47446128054.jpg\"></span><span class=\"PIN_1581475547589_img\" data-pin-href=\"https://www.pinterest.com/pin/490329478182142711\" data-pin-log=\"embed_grid\" style=\"background-image: url(&quot;https://i.pinimg.com/237x/80/8b/34/808b34cbeeab3359ae65b90595b8d7c9.jpg&quot;); background-color: rgb(174, 156, 145); padding-bottom: 224.473%;\" data-pin-src=\"https://i.pinimg.com/237x/80/8b/34/808b34cbeeab3359ae65b90595b8d7c9.jpg\"></span><span class=\"PIN_1581475547589_img\" data-pin-href=\"https://www.pinterest.com/pin/490329478182131310\" data-pin-log=\"embed_grid\" style=\"background-image: url(&quot;https://i.pinimg.com/237x/92/ac/48/92ac48a0440f8020edf6d23a724552e7.jpg&quot;); background-color: rgb(241, 241, 240); padding-bottom: 149.789%;\" data-pin-src=\"https://i.pinimg.com/237x/92/ac/48/92ac48a0440f8020edf6d23a724552e7.jpg\"></span><span class=\"PIN_1581475547589_img\" data-pin-href=\"https://www.pinterest.com/pin/490329478182127550\" data-pin-log=\"embed_grid\" style=\"background-image: url(&quot;https://i.pinimg.com/237x/7d/b8/38/7db8382f52f8e94b3de455e198fb72a5.jpg&quot;); background-color: rgb(80, 87, 64); padding-bottom: 177.637%;\" data-pin-src=\"https://i.pinimg.com/237x/7d/b8/38/7db8382f52f8e94b3de455e198fb72a5.jpg\"></span><span class=\"PIN_1581475547589_img\" data-pin-href=\"https://www.pinterest.com/pin/490329478182119508\" data-pin-log=\"embed_grid\" style=\"background-image: url(&quot;https://i.pinimg.com/237x/0a/2e/ae/0a2eae3184c02b36a7e3c934315f2aba.jpg&quot;); background-color: rgb(251, 251, 252); padding-bottom: 149.789%;\" data-pin-src=\"https://i.pinimg.com/237x/0a/2e/ae/0a2eae3184c02b36a7e3c934315f2aba.jpg\"></span><span class=\"PIN_1581475547589_img\" data-pin-href=\"https://www.pinterest.com/pin/490329478182115763\" data-pin-log=\"embed_grid\" style=\"background-image: url(&quot;https://i.pinimg.com/237x/8d/f9/dc/8df9dceb3c159ae0ceac529cc6519284.jpg&quot;); background-color: rgb(205, 195, 176); padding-bottom: 149.789%;\" data-pin-src=\"https://i.pinimg.com/237x/8d/f9/dc/8df9dceb3c159ae0ceac529cc6519284.jpg\"></span><span class=\"PIN_1581475547589_img\" data-pin-href=\"https://www.pinterest.com/pin/490329478182108779\" data-pin-log=\"embed_grid\" style=\"background-image: url(&quot;https://i.pinimg.com/237x/0a/2e/ae/0a2eae3184c02b36a7e3c934315f2aba.jpg&quot;); background-color: rgb(251, 251, 252); padding-bottom: 149.789%;\" data-pin-src=\"https://i.pinimg.com/237x/0a/2e/ae/0a2eae3184c02b36a7e3c934315f2aba.jpg\"></span><span class=\"PIN_1581475547589_img\" data-pin-href=\"https://www.pinterest.com/pin/490329478182108101\" data-pin-log=\"embed_grid\" style=\"background-image: url(&quot;https://i.pinimg.com/237x/a8/e3/b3/a8e3b32e72b4e820bf8dc17ba7c86df8.jpg&quot;); background-color: rgb(208, 207, 206); padding-bottom: 149.789%;\" data-pin-src=\"https://i.pinimg.com/237x/a8/e3/b3/a8e3b32e72b4e820bf8dc17ba7c86df8.jpg\"></span><span class=\"PIN_1581475547589_img\" data-pin-href=\"https://www.pinterest.com/pin/490329478182105278\" data-pin-log=\"embed_grid\" style=\"background-image: url(&quot;https://i.pinimg.com/237x/8d/f9/dc/8df9dceb3c159ae0ceac529cc6519284.jpg&quot;); background-color: rgb(205, 195, 176); padding-bottom: 149.789%;\" data-pin-src=\"https://i.pinimg.com/237x/8d/f9/dc/8df9dceb3c159ae0ceac529cc6519284.jpg\"></span><span class=\"PIN_1581475547589_img\" data-pin-href=\"https://www.pinterest.com/pin/490329478182093140\" data-pin-log=\"embed_grid\" style=\"background-image: url(&quot;https://i.pinimg.com/237x/00/e2/2e/00e22e51276a126c31b43ce52a354fb7.jpg&quot;); background-color: rgb(216, 109, 132); padding-bottom: 149.789%;\" data-pin-src=\"https://i.pinimg.com/237x/00/e2/2e/00e22e51276a126c31b43ce52a354fb7.jpg\"></span></span></span></span><span class=\"PIN_1581475547589_ft\" data-pin-href=\"https://www.pinterest.com/sheepandstitch/pins/follow/?guid=8tuc4ME2w_rB\" data-pin-log=\"embed_user_ft\"><span class=\"PIN_1581475547589_button\" data-pin-href=\"https://www.pinterest.com/sheepandstitch/pins/follow/?guid=8tuc4ME2w_rB\" data-pin-log=\"embed_user_ft\"><span class=\"PIN_1581475547589_label PIN_1581475547589_bottom\" data-pin-href=\"https://www.pinterest.com/sheepandstitch/pins/follow/?guid=8tuc4ME2w_rB\" data-pin-log=\"embed_user_ft\"><span class=\"PIN_1581475547589_string\" data-pin-href=\"https://www.pinterest.com/sheepandstitch/pins/follow?guid=8tuc4ME2w_rB\" data-pin-log=\"embed_user_ft\">Follow On </span><span class=\"PIN_1581475547589_logo\" data-pin-href=\"https://www.pinterest.com/sheepandstitch/pins/follow?guid=8tuc4ME2w_rB\" data-pin-log=\"embed_user_ft\"></span></span></span></span></span></div></div></section><section id=\"categories-3\" class=\"widget widget_categories\"><div class=\"widget-wrap\"><h3 class=\"widgettitle widget-title\">Categories</h3><form action=\"https://sheepandstitch.com\" method=\"get\"><label class=\"screen-reader-text\" for=\"cat\">Categories</label><select name=\"cat\" id=\"cat\" class=\"postform\"><option value=\"-1\">Select Category</option><option class=\"level-0\" value=\"139\">Announcements</option><option class=\"level-0\" value=\"3\">Behind-the-Scenes</option><option class=\"level-0\" value=\"4\">Fibre Philosophy</option><option class=\"level-0\" value=\"217\">Freebies</option><option class=\"level-0\" value=\"150\">Giveaways</option><option class=\"level-0\" value=\"2\">History</option><option class=\"level-0\" value=\"77\">Knits in the News</option><option class=\"level-0\" value=\"100\">Knits in Utero</option><option class=\"level-0\" value=\"64\">Knitspotting</option><option class=\"level-0\" value=\"106\">Knitting Benefits</option><option class=\"level-0\" value=\"91\">Knitting Techniques</option><option class=\"level-0\" value=\"276\">Knitting Tips</option><option class=\"level-0\" value=\"122\">Meet a Maker</option><option class=\"level-0\" value=\"83\">Music</option><option class=\"level-0\" value=\"45\">Patterns</option><option class=\"level-0\" value=\"57\">Personal Stories</option><option class=\"level-0\" value=\"273\">Reviews</option><option class=\"level-0\" value=\"56\">Style Trends</option><option class=\"level-0\" value=\"111\">Tools</option><option class=\"level-0\" value=\"216\">Yarn</option> </select></form> <script type=\"text/javascript\">(function() {\n",
      "\tvar dropdown = document.getElementById( \"cat\" );\n",
      "\tfunction onCatChange() {\n",
      "\t\tif ( dropdown.options[ dropdown.selectedIndex ].value > 0 ) {\n",
      "\t\t\tdropdown.parentNode.submit();\n",
      "\t\t}\n",
      "\t}\n",
      "\tdropdown.onchange = onCatChange;\n",
      "})();</script> </div></section><span id=\"ezoic-pub-ad-placeholder-114\" class=\"ezoic-adpicker-ad\"></span><span style=\"background:0 0 !important;display:block !important;float:none;margin-left:auto !important;margin-right:auto !important;min-height:1050px;min-width:300px;text-align:center !important;width:300px;\" class=\"ezoic-ad large-leaderboard-1 adtester-container adtester-container-114 ezoic-ad-adaptive\" data-ez-name=\"sheepandstitch_com-large-leaderboard-1\"><span style=\"display:block !important;float:none;margin-bottom:2px !important;margin-left:0px !important;margin-right:0px !important;margin-top:3px !important;min-height:250px;min-width:300px;text-align:center !important;\" class=\"ezoic-ad large-leaderboard-1 adtester-container adtester-container-114\" data-ez-name=\"sheepandstitch_com-large-leaderboard-1\"><span id=\"div-gpt-ad-sheepandstitch_com-large-leaderboard-1-0\" ezaw=\"300\" ezah=\"262\" style=\"position: relative; z-index: 0; min-height: 262px; min-width: 300px;\" class=\"ezoic-ad ezfound\" data-google-query-id=\"CJiH6ub_yucCFYW7lgodXagBUA\"><div id=\"google_ads_iframe_/1254144/sheepandstitch_com-large-leaderboard-1_0__container__\" style=\"border: 0pt none; display: inline-block; width: 300px; height: 250px;\"><iframe style=\"border: 0px none; vertical-align: bottom;\" src=\"https://tpc.googlesyndication.com/safeframe/1-0-37/html/container.html\" id=\"google_ads_iframe_/1254144/sheepandstitch_com-large-leaderboard-1_0\" title=\"3rd party ad content\" name=\"\" scrolling=\"no\" marginwidth=\"0\" marginheight=\"0\" data-is-safeframe=\"true\" sandbox=\"allow-forms allow-pointer-lock allow-popups allow-popups-to-escape-sandbox allow-same-origin allow-scripts allow-top-navigation-by-user-activation\" data-google-container-id=\"1i\" data-load-complete=\"true\" width=\"300\" height=\"250\" frameborder=\"0\"></iframe></div></span></span><span style=\"display:block !important;float:none;margin-bottom:2px !important;margin-left:0px !important;margin-right:0px !important;margin-top:3px !important;min-height:250px;min-width:300px;text-align:center !important;\" class=\"ezoic-ad large-leaderboard-1 adtester-container adtester-container-114\" data-ez-name=\"sheepandstitch_com-large-leaderboard-1\"><span id=\"div-gpt-ad-sheepandstitch_com-large-leaderboard-1-0_1\" ezaw=\"300\" ezah=\"262\" style=\"position: relative; z-index: 0; min-height: 262px; min-width: 300px;\" class=\"ezoic-ad ezfound\" data-google-query-id=\"CP61tuf_yucCFdMYKgodABsNWQ\"><script data-ezscrex=\"false\" data-cfasync=\"false\" type=\"text/javascript\" style=\"display:none;\">eval(ez_write_tag([[300,250],'sheepandstitch_com-large-leaderboard-1','ezslot_1',114,'0','1']));</script><div id=\"google_ads_iframe_/1254144/sheepandstitch_com-large-leaderboard-1_1__container__\" style=\"border: 0pt none; width: 300px; height: 250px;\"></div></span></span><span style=\"display:block !important;float:none;margin-bottom:2px !important;margin-left:0px !important;margin-right:0px !important;margin-top:3px !important;min-height:250px;min-width:300px;text-align:center !important;\" class=\"ezoic-ad large-leaderboard-1 adtester-container adtester-container-114\" data-ez-name=\"sheepandstitch_com-large-leaderboard-1\"><span id=\"div-gpt-ad-sheepandstitch_com-large-leaderboard-1-0_2\" ezaw=\"300\" ezah=\"262\" style=\"position: relative; z-index: 0; min-height: 262px; min-width: 300px;\" class=\"ezoic-ad ezfound\" data-google-query-id=\"CILM9-f_yucCFQd6vQodIi4LLA\"><script data-ezscrex=\"false\" data-cfasync=\"false\" type=\"text/javascript\" style=\"display:none;\">eval(ez_write_tag([[300,250],'sheepandstitch_com-large-leaderboard-1','ezslot_2',114,'0','2']));</script><div id=\"google_ads_iframe_/1254144/sheepandstitch_com-large-leaderboard-1_2__container__\" style=\"border: 0pt none; width: 300px; height: 250px;\"></div></span></span><span style=\"display:block !important;float:none;margin-bottom:2px !important;margin-left:0px !important;margin-right:0px !important;margin-top:3px !important;min-height:250px;min-width:300px;text-align:center !important;\" class=\"ezoic-ad large-leaderboard-1 adtester-container adtester-container-114\" data-ez-name=\"sheepandstitch_com-large-leaderboard-1\"><span id=\"div-gpt-ad-sheepandstitch_com-large-leaderboard-1-0_3\" ezaw=\"300\" ezah=\"262\" style=\"position:relative;z-index:0;display:inline-block;min-height:262px;min-width:300px;\" class=\"ezoic-ad ezfound\" data-google-query-id=\"CIHC0uf_yucCFRBuvQodKG4GpQ\"><script data-ezscrex=\"false\" data-cfasync=\"false\" type=\"text/javascript\" style=\"display:none;\">eval(ez_write_tag([[300,250],'sheepandstitch_com-large-leaderboard-1','ezslot_3',114,'0','3']));</script><div id=\"google_ads_iframe_/1254144/sheepandstitch_com-large-leaderboard-1_3__container__\" style=\"border: 0pt none; width: 300px; height: 250px;\"></div></span></span></span></aside>\n"
     ]
    }
   ],
   "source": [
    "# url 76\n",
    "i = urls[75]\n",
    "#open_url(i)\n",
    "element = driver.find_element_by_css_selector('#genesis-sidebar-primary')\n",
    "source = element.get_attribute(\"outerHTML\")\n",
    "print(source)\n",
    "ad_type = \"better\"\n",
    "data.append({\"TYPE\" : ad_type, \"ad_code\" : source, \"URL\" : i})"
   ]
  },
  {
   "cell_type": "code",
   "execution_count": 521,
   "metadata": {
    "collapsed": true
   },
   "outputs": [
    {
     "name": "stdout",
     "output_type": "stream",
     "text": [
      "<span style=\"display:block !important;float:none;margin-bottom:10px !important;margin-left:0px !important;margin-right:0px !important;margin-top:10px !important;min-height:250px;min-width:250px;text-align:center !important;\" class=\"ezoic-ad box-4 adtester-container adtester-container-115\" data-ez-name=\"sheepandstitch_com-box-4\"><span id=\"div-gpt-ad-sheepandstitch_com-box-4-0\" ezaw=\"250\" ezah=\"250\" style=\"position: relative; z-index: 0; min-height: 250px; min-width: 250px;\" class=\"ezoic-ad ezfound\" data-google-query-id=\"CIXA8oyCy-cCFRGclgodvRIIUA\"><div id=\"google_ads_iframe_/1254144/sheepandstitch_com-box-4_0__container__\" style=\"border: 0pt none;\"><iframe id=\"google_ads_iframe_/1254144/sheepandstitch_com-box-4_0\" title=\"3rd party ad content\" name=\"google_ads_iframe_/1254144/sheepandstitch_com-box-4_0\" scrolling=\"no\" marginwidth=\"0\" marginheight=\"0\" style=\"border: 0px none; vertical-align: bottom;\" srcdoc=\"\" sandbox=\"allow-forms allow-pointer-lock allow-popups allow-popups-to-escape-sandbox allow-same-origin allow-scripts allow-top-navigation-by-user-activation\" data-google-container-id=\"27\" data-load-complete=\"true\" width=\"250\" height=\"250\" frameborder=\"0\"></iframe></div></span></span>\n"
     ]
    }
   ],
   "source": [
    "# url 77\n",
    "i = urls[76]\n",
    "#open_url(i)\n",
    "element = driver.find_element_by_css_selector('.box-4')\n",
    "source = element.get_attribute(\"outerHTML\")\n",
    "print(source)\n",
    "ad_type = \"better\"\n",
    "data.append({\"TYPE\" : ad_type, \"ad_code\" : source, \"URL\" : i})"
   ]
  },
  {
   "cell_type": "code",
   "execution_count": 526,
   "metadata": {
    "collapsed": true
   },
   "outputs": [
    {
     "name": "stdout",
     "output_type": "stream",
     "text": [
      "<span style=\"display:block !important;float:none;margin-bottom:10px !important;margin-left:0px !important;margin-right:0px !important;margin-top:10px !important;min-height:250px;min-width:970px;text-align:center !important;\" class=\"ezoic-ad medrectangle-1 adtester-container adtester-container-111\" data-ez-name=\"sheepandstitch_com-medrectangle-1\"><span id=\"div-gpt-ad-sheepandstitch_com-medrectangle-1-0\" ezaw=\"970\" ezah=\"250\" style=\"position: relative; z-index: 0; min-height: 250px; min-width: 970px;\" class=\"ezoic-ad ezfound\" data-google-query-id=\"CLvGirCCy-cCFVMfKgodCEgDPw\"><div id=\"google_ads_iframe_/1254144/sheepandstitch_com-medrectangle-1_0__container__\" style=\"border: 0pt none;\"><iframe id=\"google_ads_iframe_/1254144/sheepandstitch_com-medrectangle-1_0\" title=\"3rd party ad content\" name=\"google_ads_iframe_/1254144/sheepandstitch_com-medrectangle-1_0\" scrolling=\"no\" marginwidth=\"0\" marginheight=\"0\" style=\"border: 0px none; vertical-align: bottom;\" srcdoc=\"\" data-google-container-id=\"215cd9be429836a23a668662d20cf02e\" data-load-complete=\"true\" width=\"970\" height=\"250\" frameborder=\"0\"></iframe></div></span><span style=\"width:970px;display:block;height:14px;margin:auto\" class=\"reportline\"><span style=\"text-align:center;font-size: smaller;float:left;line-height:normal;\"><a href=\"https://www.ezoic.com/what-is-ezoic/\" target=\"_blank\" rel=\"noopener noreferrer nofollow\" style=\"cursor:pointer\" class=\"no-shadow\"><img src=\"https://go.ezoic.net/utilcave_com/img/ezoic.png\" style=\"height:12px !important; padding:2px !important; border:0px !important; cursor:pointer !important; width: 58px !important; margin:0 !important; box-sizing: content-box !important;\"></a></span><span class=\"ez-report-ad-button\" name=\"?pageview_id=6e03cb22-78bf-4f4e-625f-f5c5c87688e0&amp;ad_position_id=111&amp;impression_group_id=sheepandstitch_com-medrectangle-1/2020-02-11/1681966&amp;ad_size=970x250&amp;domain_id=111948&amp;url=https://sheepandstitch.com/pattern/infinity-scarf-pattern-tutoria/\" style=\"cursor: pointer!important; font-size:12px !important;color: #a5a5a5 ;float:right;text-decoration:none !important;font-family:arial !important;line-height:normal;\">report this ad</span></span></span>\n"
     ]
    }
   ],
   "source": [
    "# url 78\n",
    "i = urls[77]\n",
    "#open_url(i)\n",
    "element = driver.find_element_by_css_selector('.medrectangle-1')\n",
    "source = element.get_attribute(\"outerHTML\")\n",
    "print(source)\n",
    "ad_type = \"better\"\n",
    "data.append({\"TYPE\" : ad_type, \"ad_code\" : source, \"URL\" : i})"
   ]
  },
  {
   "cell_type": "code",
   "execution_count": 529,
   "metadata": {
    "collapsed": true
   },
   "outputs": [
    {
     "name": "stdout",
     "output_type": "stream",
     "text": [
      "<div class=\"announcement-widget widget-area\"><div class=\"wrap\"><section id=\"custom_html-5\" class=\"widget_text widget widget_custom_html\"><div class=\"widget_text widget-wrap\"><div class=\"textwidget custom-html-widget\">Don't Miss A Pattern! <span class=\"hide-on-mobile\">free patterns, tutorials and more </span> <a href=\"\" class=\"button trigger-newsletter-popup\"> I‘m In! </a></div></div></section></div></div>\n"
     ]
    }
   ],
   "source": [
    "# url 79\n",
    "i = urls[78]\n",
    "#open_url(i)\n",
    "element = driver.find_element_by_css_selector('.announcement-widget')\n",
    "source = element.get_attribute(\"outerHTML\")\n",
    "print(source)\n",
    "ad_type = \"better\"\n",
    "data.append({\"TYPE\" : ad_type, \"ad_code\" : source, \"URL\" : i})"
   ]
  },
  {
   "cell_type": "code",
   "execution_count": 531,
   "metadata": {
    "collapsed": true
   },
   "outputs": [
    {
     "name": "stdout",
     "output_type": "stream",
     "text": [
      "<aside class=\"sidebar sidebar-primary widget-area\" role=\"complementary\" aria-label=\"Primary Sidebar\"><h2 class=\"genesis-sidebar-title screen-reader-text\">Primary Sidebar</h2><section id=\"enews-ext-1\" class=\"widget enews-widget\"><div class=\"widget-wrap\"><div class=\"enews\"><h3 class=\"widgettitle widget-title\">Don’t Miss A Pattern!</h3><form id=\"subscribeenews-ext-1\" action=\"https://mamainastitch.us10.list-manage.com/subscribe/post?u=ffb8e6d13867933fbdd8f2754&amp;id=3c8952c5fe\" method=\"post\" target=\"_blank\" onsubmit=\"if ( subbox1.value == 'First Name') { subbox1.value = ''; } if ( subbox2.value == 'Last Name') { subbox2.value = ''; }\" name=\"enews-ext-1\"> <label for=\"subbox1\" class=\"screenread\">First Name</label><input type=\"text\" id=\"subbox1\" class=\"enews-subbox\" value=\"\" placeholder=\"First Name\" name=\"FNAME\"> <label for=\"subbox\" class=\"screenread\">E-Mail Address</label><input type=\"email\" value=\"\" id=\"subbox\" placeholder=\"E-Mail Address\" name=\"EMAIL\" required=\"required\"> <input type=\"submit\" value=\"JOIN NEWSLETTER\" id=\"subbutton\"></form> <small class=\"enews-privacy\"><a class=\"privacy-policy-link\" href=\"https://www.mamainastitch.com/privacy-policy/\">Privacy Policy</a></small></div></div></section><div id=\"AdThrive_Sidebar_1_desktop\" class=\"adthrive-ad adthrive-sidebar adthrive-sidebar-1 widget\" data-google-query-id=\"CIuvgMSCy-cCFQtqvQodJGcKbw\"><div id=\"google_ads_iframe_/18190176/AdThrive_Sidebar_1/5707b6e99472026f43796912_0__container__\" style=\"border: 0pt none; padding-top: 0px;\"><iframe id=\"google_ads_iframe_/18190176/AdThrive_Sidebar_1/5707b6e99472026f43796912_0\" title=\"3rd party ad content\" name=\"google_ads_iframe_/18190176/AdThrive_Sidebar_1/5707b6e99472026f43796912_0\" scrolling=\"no\" marginwidth=\"0\" marginheight=\"0\" style=\"border: 0px none; vertical-align: bottom;\" sandbox=\"allow-forms allow-pointer-lock allow-popups allow-popups-to-escape-sandbox allow-same-origin allow-scripts allow-top-navigation-by-user-activation\" data-forced-sandbox=\"true\" data-google-container-id=\"2\" data-load-complete=\"true\" width=\"1\" height=\"1\" frameborder=\"0\"></iframe></div></div><section id=\"black-studio-tinymce-8\" class=\"widget widget_black_studio_tinymce\"><div class=\"widget-wrap\"><h3 class=\"widgettitle widget-title\">About</h3><div class=\"textwidget\"><p style=\"text-align: justify;\"><img class=\"alignnone wp-image-2852 size-medium_large lazyloaded\" src=\"https://mamainastitchcom.bigscoots-staging.com/wp-content/uploads/2016/07/Latest-Edit-MIAS-Profile-Pic-2-768x512.jpg\" alt=\"Latest Edit MIAS Profile Pic 2\" data-lazy-src=\"https://mamainastitchcom.bigscoots-staging.com/wp-content/uploads/2016/07/Latest-Edit-MIAS-Profile-Pic-2-768x512.jpg\" data-was-processed=\"true\" width=\"768\" height=\"512\"><noscript><img class=\"alignnone wp-image-2852 size-medium_large\" src=\"https://mamainastitchcom.bigscoots-staging.com/wp-content/uploads/2016/07/Latest-Edit-MIAS-Profile-Pic-2-768x512.jpg\" alt=\"Latest Edit MIAS Profile Pic 2\" width=\"768\" height=\"512\" /></noscript><a href=\"https://mamainastitchcom.bigscoots-staging.com/wp-content/uploads/2016/01/Easy-Crochet-free-pattern-headband-1.jpg\"><br> </a></p><p style=\"text-align: justify;\">Hi, I'm Jessica! Mama, Colorado gal, lover of yarn and life. I like sharing my easy &amp; timeless knit and crochet projects and patterns. &nbsp;You'll also find some DIY's, random thoughts and a bit of nature - Come on in!</p></div></div></section><section id=\"black-studio-tinymce-9\" class=\"widget widget_black_studio_tinymce\"><div class=\"widget-wrap\"><h3 class=\"widgettitle widget-title\">PRINT THE PATTERNS TODAY</h3><div class=\"textwidget\"><p><a href=\"https://www.mamainastitch.com/mamas-maker-membership/\"><img class=\"alignnone wp-image-13074 size-full lazyloaded\" src=\"https://www.mamainastitch.com/wp-content/uploads/2020/01/Grey-White-Icon-Membership-ID-Card-3.png\" alt=\"\" data-lazy-src=\"https://www.mamainastitch.com/wp-content/uploads/2020/01/Grey-White-Icon-Membership-ID-Card-3.png\" data-was-processed=\"true\" width=\"1011\" height=\"636\"><noscript><img class=\"alignnone wp-image-13074 size-full\" src=\"https://www.mamainastitch.com/wp-content/uploads/2020/01/Grey-White-Icon-Membership-ID-Card-3.png\" alt=\"\" width=\"1011\" height=\"636\" /></noscript></a></p></div></div></section><section id=\"text-33\" class=\"widget widget_text\"><div class=\"widget-wrap\"><h3 class=\"widgettitle widget-title\">Shop My Fave Yarns On Amazon</h3><div class=\"textwidget\"><p><a href=\"https://www.amazon.com/shop/influencer-68dcfff9\">Mama In A Stitch Store – Amazon HERE</a></p></div></div></section><div id=\"AdThrive_Sidebar_2_desktop\" class=\"adthrive-ad adthrive-sidebar adthrive-sidebar-1 widget\" data-google-query-id=\"CJnP-MOCy-cCFZaVvQodUbMDdQ\"><div id=\"google_ads_iframe_/18190176/AdThrive_Sidebar_2/5707b6e99472026f43796912_0__container__\" style=\"border: 0pt none;\"><iframe id=\"google_ads_iframe_/18190176/AdThrive_Sidebar_2/5707b6e99472026f43796912_0\" title=\"3rd party ad content\" name=\"google_ads_iframe_/18190176/AdThrive_Sidebar_2/5707b6e99472026f43796912_0\" scrolling=\"no\" marginwidth=\"0\" marginheight=\"0\" style=\"border: 0px none; vertical-align: bottom;\" sandbox=\"allow-forms allow-pointer-lock allow-popups allow-popups-to-escape-sandbox allow-same-origin allow-scripts allow-top-navigation-by-user-activation\" data-forced-sandbox=\"true\" data-google-container-id=\"1\" data-load-complete=\"true\" width=\"1\" height=\"1\" frameborder=\"0\"></iframe></div></div><section id=\"simple-social-icons-5\" class=\"widget simple-social-icons\"><div class=\"widget-wrap\"><h3 class=\"widgettitle widget-title\">Follow Along</h3><ul class=\"aligncenter\"><li class=\"ssi-facebook\"><a href=\"https://www.facebook.com/MamaInAStitch/\" target=\"_blank\" rel=\"noopener noreferrer\"><svg role=\"img\" class=\"social-facebook\" aria-labelledby=\"social-facebook-5\"><title id=\"social-facebook-5\">Facebook</title><use xlink:href=\"https://www.mamainastitch.com/wp-content/plugins/simple-social-icons/symbol-defs.svg#social-facebook\"></use></svg></a></li><li class=\"ssi-instagram\"><a href=\"https://www.instagram.com/mamainastitch/\" target=\"_blank\" rel=\"noopener noreferrer\"><svg role=\"img\" class=\"social-instagram\" aria-labelledby=\"social-instagram-5\"><title id=\"social-instagram-5\">Instagram</title><use xlink:href=\"https://www.mamainastitch.com/wp-content/plugins/simple-social-icons/symbol-defs.svg#social-instagram\"></use></svg></a></li><li class=\"ssi-pinterest\"><a href=\"https://www.pinterest.com/MamaInAStitch/\" target=\"_blank\" rel=\"noopener noreferrer\"><svg role=\"img\" class=\"social-pinterest\" aria-labelledby=\"social-pinterest-5\"><title id=\"social-pinterest-5\">Pinterest</title><use xlink:href=\"https://www.mamainastitch.com/wp-content/plugins/simple-social-icons/symbol-defs.svg#social-pinterest\"></use></svg></a></li><li class=\"ssi-twitter\"><a href=\"https://twitter.com/mamainastitch\" target=\"_blank\" rel=\"noopener noreferrer\"><svg role=\"img\" class=\"social-twitter\" aria-labelledby=\"social-twitter-5\"><title id=\"social-twitter-5\">Twitter</title><use xlink:href=\"https://www.mamainastitch.com/wp-content/plugins/simple-social-icons/symbol-defs.svg#social-twitter\"></use></svg></a></li></ul></div></section><section id=\"black-studio-tinymce-10\" class=\"widget widget_black_studio_tinymce\"><div class=\"widget-wrap\"><h3 class=\"widgettitle widget-title\">Dedicated Indie Designer</h3><div class=\"textwidget\"><p><a href=\"https://www.mamainastitch.com/dedicated-indie-designer-award-winner/\"><img class=\"alignnone wp-image-12836 size-full\" src=\"data:image/svg+xml,%3Csvg%20xmlns='http://www.w3.org/2000/svg'%20viewBox='0%200%20416%20416'%3E%3C/svg%3E\" alt=\"\" data-lazy-src=\"https://www.mamainastitch.com/wp-content/uploads/2019/12/Craftie-Winner-2019.png\" width=\"416\" height=\"416\"><noscript><img class=\"alignnone wp-image-12836 size-full\" src=\"https://www.mamainastitch.com/wp-content/uploads/2019/12/Craftie-Winner-2019.png\" alt=\"\" width=\"416\" height=\"416\" /></noscript></a></p></div></div></section><div id=\"AdThrive_Sidebar_9_desktop\" class=\"adthrive-ad adthrive-sidebar adthrive-sidebar-9 widget adthrive-sticky\" data-google-query-id=\"CN68m8SCy-cCFcV8vQod-7IDaw\"><div id=\"google_ads_iframe_/18190176/AdThrive_Sidebar_9/5707b6e99472026f43796912_0__container__\" style=\"border: 0pt none;\"><iframe id=\"google_ads_iframe_/18190176/AdThrive_Sidebar_9/5707b6e99472026f43796912_0\" title=\"3rd party ad content\" name=\"google_ads_iframe_/18190176/AdThrive_Sidebar_9/5707b6e99472026f43796912_0\" scrolling=\"no\" marginwidth=\"0\" marginheight=\"0\" style=\"border: 0px none; vertical-align: bottom;\" sandbox=\"allow-forms allow-pointer-lock allow-popups allow-popups-to-escape-sandbox allow-same-origin allow-scripts allow-top-navigation-by-user-activation\" data-forced-sandbox=\"true\" data-google-container-id=\"4\" data-load-complete=\"true\" width=\"1\" height=\"1\" frameborder=\"0\"></iframe></div></div></aside>\n"
     ]
    }
   ],
   "source": [
    "# url 80\n",
    "i = urls[79]\n",
    "#open_url(i)\n",
    "element = driver.find_element_by_css_selector('.sidebar')\n",
    "source = element.get_attribute(\"outerHTML\")\n",
    "print(source)\n",
    "ad_type = \"better\"\n",
    "data.append({\"TYPE\" : ad_type, \"ad_code\" : source, \"URL\" : i})"
   ]
  },
  {
   "cell_type": "code",
   "execution_count": 571,
   "metadata": {
    "collapsed": true
   },
   "outputs": [
    {
     "name": "stdout",
     "output_type": "stream",
     "text": [
      "<div id=\"div-gpt-ad-1391092477373-2\" style=\"width:100%;position:relative;margin-top:20px; text-align: center;\" data-google-query-id=\"CN7puf_Fy-cCFcGzlgod7wsNIw\">\n",
      "    \n",
      "<div id=\"google_ads_iframe_/104357825/Freshome.com-Leaderboard-1_0__container__\" style=\"border: 0pt none;\"><iframe id=\"google_ads_iframe_/104357825/Freshome.com-Leaderboard-1_0\" title=\"3rd party ad content\" name=\"google_ads_iframe_/104357825/Freshome.com-Leaderboard-1_0\" scrolling=\"no\" marginwidth=\"0\" marginheight=\"0\" style=\"border: 0px none; vertical-align: bottom;\" srcdoc=\"\" data-google-container-id=\"1\" data-load-complete=\"true\" width=\"728\" height=\"90\" frameborder=\"0\"></iframe></div></div>\n"
     ]
    }
   ],
   "source": [
    "# url 81\n",
    "i = urls[80]\n",
    "#open_url(i)\n",
    "element = driver.find_element_by_css_selector('#div-gpt-ad-1391092477373-2')\n",
    "source = element.get_attribute(\"outerHTML\")\n",
    "print(source)\n",
    "ad_type = \"better\"\n",
    "data.append({\"TYPE\" : ad_type, \"ad_code\" : source, \"URL\" : i})"
   ]
  },
  {
   "cell_type": "code",
   "execution_count": 574,
   "metadata": {
    "collapsed": true
   },
   "outputs": [
    {
     "name": "stdout",
     "output_type": "stream",
     "text": [
      "<div style=\"text-align: center; margin-bottom: 25px;\">\n",
      "                <!-- Freshome.com-List-Rectangle-Netboard-1 -->\n",
      "                <div id=\"div-gpt-ad-1391092477373-4\" data-google-query-id=\"CNWKvs7Gy-cCFUkOKgodtAIGBQ\">\n",
      "                    \n",
      "                <div id=\"google_ads_iframe_/104357825/Freshome.com-List-Rectangle-Netboard-1_0__container__\" style=\"border: 0pt none;\"><iframe id=\"google_ads_iframe_/104357825/Freshome.com-List-Rectangle-Netboard-1_0\" title=\"3rd party ad content\" name=\"google_ads_iframe_/104357825/Freshome.com-List-Rectangle-Netboard-1_0\" scrolling=\"no\" marginwidth=\"0\" marginheight=\"0\" style=\"border: 0px none; vertical-align: bottom;\" srcdoc=\"\" data-google-container-id=\"2\" data-load-complete=\"true\" width=\"300\" height=\"250\" frameborder=\"0\"></iframe></div></div>\n",
      "\n",
      "            </div>\n"
     ]
    }
   ],
   "source": [
    "# url 82\n",
    "i = urls[81]\n",
    "#open_url(i)\n",
    "element = driver.find_element_by_css_selector('.quinstreet-widget > div:nth-child(3)')\n",
    "source = element.get_attribute(\"outerHTML\")\n",
    "print(source)\n",
    "ad_type = \"better\"\n",
    "data.append({\"TYPE\" : ad_type, \"ad_code\" : source, \"URL\" : i})"
   ]
  },
  {
   "cell_type": "code",
   "execution_count": 576,
   "metadata": {
    "collapsed": true
   },
   "outputs": [
    {
     "name": "stdout",
     "output_type": "stream",
     "text": [
      "<div class=\"aside-block aside-block-subscribe\">\n",
      "                            <div class=\"aside-block-inner\">\n",
      "                                <span class=\"aside-block-subtitle\">Subscribe to our newsletter</span>\n",
      "                                <div id=\"mc_embed_signup\">\n",
      "                                    <form action=\"//freshome.us10.list-manage.com/subscribe/post?u=4297facec81eec96790cc8a42&amp;id=48b115d29a\" method=\"post\" id=\"mc-embedded-subscribe-form\" name=\"mc-embedded-subscribe-form\" class=\"validate\" target=\"_blank\" novalidate=\"novalidate\">\n",
      "                                        <div id=\"mc_embed_signup_scroll subscribe-block input-group\">\n",
      "                                            <div class=\"mc-field-group subscribe-block input-group\">\n",
      "                                                <input type=\"email\" value=\"\" name=\"EMAIL\" class=\"required email subscribe-block-input form-control\" id=\"mce-EMAIL\" placeholder=\"ENTER YOUR EMAIL\" aria-required=\"true\">\n",
      "                                                <input type=\"submit\" value=\"Subscribe\" name=\"subscribe\" id=\"mc-embedded-subscribe\" class=\"button subscribe-block-btn btn btn-default ga_event\" data-event-category=\"Click\" data-event-type=\"SubscribeBottom\">\n",
      "                                            </div>\n",
      "\n",
      "                                            <div id=\"mce-responses\" class=\"clear\">\n",
      "                                                <div class=\"response\" id=\"mce-error-response\" style=\"display:none\"></div>\n",
      "                                                <div class=\"response\" id=\"mce-success-response\" style=\"display:none\"></div>\n",
      "                                            </div>    <!-- real people should not fill this in and expect good things - do not remove this or risk form bot signups-->\n",
      "                                            <div style=\"position: absolute; left: -5000px;\"><input type=\"text\" name=\"b_4297facec81eec96790cc8a42_48b115d29a\" tabindex=\"-1\" value=\"\"></div>\n",
      "                                        </div>\n",
      "                                    </form>\n",
      "                                </div>\n",
      "                                <script type=\"text/javascript\" src=\"//s3.amazonaws.com/downloads.mailchimp.com/js/mc-validate.js\"></script><script type=\"text/javascript\">(function($) {window.fnames = new Array(); window.ftypes = new Array();fnames[0]='EMAIL';ftypes[0]='email';fnames[1]='FNAME';ftypes[1]='text';fnames[2]='LNAME';ftypes[2]='text';fnames[3]='MMERGE3';ftypes[3]='text';}(jQuery));var $mcj = jQuery.noConflict(true);</script>\n",
      "                            </div>\n",
      "                        </div>\n"
     ]
    }
   ],
   "source": [
    "# url 83\n",
    "i = urls[82]\n",
    "#open_url(i)\n",
    "element = driver.find_element_by_css_selector('div.aside-block:nth-child(4)')\n",
    "source = element.get_attribute(\"outerHTML\")\n",
    "print(source)\n",
    "ad_type = \"better\"\n",
    "data.append({\"TYPE\" : ad_type, \"ad_code\" : source, \"URL\" : i})"
   ]
  },
  {
   "cell_type": "code",
   "execution_count": 578,
   "metadata": {
    "collapsed": true
   },
   "outputs": [
    {
     "name": "stdout",
     "output_type": "stream",
     "text": [
      "<div class=\"sidebar-item karma-sticky-rail\">\n",
      "          \n",
      "              <div class=\"top-container\">\n",
      "                \n",
      "                \n",
      "                  <div id=\"ad-300x600_300x250_160x600_LL_1\" data-companion=\"companion\" data-tgxcompanion=\"true\" data-tgxlazy=\"200\" class=\"ad ad-container ad-wrapper desktop-only tgx-processed\" data-dimensions=\"300x600;300x250;160x600\" role=\"complementary\" aria-hidden=\"true\" data-tgxposition=\"1\" data-google-query-id=\"CO-L5ajHy-cCFZiMlgod--sO0w\">\n",
      "                  <div id=\"google_ads_iframe_/21801468956/tim.mdp.com/living/article_8__container__\" style=\"border: 0pt none;\"><iframe id=\"google_ads_iframe_/21801468956/tim.mdp.com/living/article_8\" title=\"3rd party ad content\" name=\"google_ads_iframe_/21801468956/tim.mdp.com/living/article_8\" scrolling=\"no\" marginwidth=\"0\" marginheight=\"0\" style=\"border: 0px none; vertical-align: bottom;\" srcdoc=\"\" data-google-container-id=\"7\" data-load-complete=\"true\" width=\"300\" height=\"600\" frameborder=\"0\"></iframe></div></div>\n",
      "              </div>\n",
      "          \n",
      "          \n",
      "                    <div class=\"component most-popular-feed right-rail\" data-gtm-vis-first-on-screen-11864053_374=\"4441\" data-gtm-vis-total-visible-time-11864053_374=\"100\" data-gtm-vis-has-fired-11864053_374=\"1\">\n",
      "                      <div class=\"title\">Most Popular Stories</div>\n",
      "                    \n",
      "                          <div class=\"list-item\">\n",
      "                            <div class=\"number\">1</div>\n",
      "                            <a href=\"/5782201/roger-stone-prison-recommendation-change/\">\n",
      "                              <div class=\"headline\">Prosecutors Quit Roger Stone Case After DOJ Intervenes</div>\n",
      "                            </a>\n",
      "                          </div>\n",
      "                          <div class=\"list-item\">\n",
      "                            <div class=\"number\">2</div>\n",
      "                            <a href=\"/5782129/cruise-ship-stranded-coronavirus-fears/\">\n",
      "                              <div class=\"headline\">U.S. Cruise Ship Stranded Over Coronavirus Fears</div>\n",
      "                            </a>\n",
      "                          </div>\n",
      "                          <div class=\"list-item\">\n",
      "                            <div class=\"number\">3</div>\n",
      "                            <a href=\"/5781959/chinese-coronavirus-vlogger-quarantine/\">\n",
      "                              <div class=\"headline\">Chinese Vlogger Disappears Amid Coronavirus Outbreak</div>\n",
      "                            </a>\n",
      "                          </div>\n",
      "                          <div class=\"list-item\">\n",
      "                            <div class=\"number\">4</div>\n",
      "                            <a href=\"/5782284/who-name-coronavirus-covid-19/\">\n",
      "                              <div class=\"headline\">COVID-19: Why Does the Disease's Name Matter?</div>\n",
      "                            </a>\n",
      "                          </div>\n",
      "                    </div>\n",
      "          \n",
      "              \n",
      "              \n",
      "                <div id=\"ad-300x250_RR_LL_2\" data-tgxlazy=\"200\" class=\"ad ad-container ad-wrapper type-300-flex desktop-only tgx-processed\" data-dimensions=\"300x250\" role=\"complementary\" aria-hidden=\"true\" data-tgxposition=\"2\" data-google-query-id=\"CKm9vLbHy-cCFQGGlgodkuYEcg\"><div id=\"google_ads_iframe_/21801468956/tim.mdp.com/living/article_10__container__\" style=\"border: 0pt none;\"><iframe id=\"google_ads_iframe_/21801468956/tim.mdp.com/living/article_10\" title=\"3rd party ad content\" name=\"google_ads_iframe_/21801468956/tim.mdp.com/living/article_10\" scrolling=\"no\" marginwidth=\"0\" marginheight=\"0\" style=\"border: 0px none; vertical-align: bottom;\" srcdoc=\"\" data-google-container-id=\"9\" data-load-complete=\"true\" width=\"300\" height=\"250\" frameborder=\"0\"></iframe></div></div>\n",
      "          \n",
      "                    <div class=\"component feed clearfix right-rail-recirc right-rail\" data-endpoint=\"/element-api/content-proxy/documents\" data-request-data=\"%7B%22excluded%22%3A5360413%2C%22recirculation%22%3Atrue%7D\" data-partial=\"list-item\" data-variation=\"right-rail-recirc\" data-type=\"feed\" data-title=\"Related Stories\" data-native_ad=\"%7B%22dimensions%22%3A%22481x100%22%2C%22placement%22%3A%22rail%22%2C%22priority%22%3A6%7D\" data-nativekey=\"oFWdVTZ81Us2wpc8c3z2poJx\" data-gtm-vis-first-on-screen-11864053_371=\"4771\" data-gtm-vis-total-visible-time-11864053_371=\"100\" data-gtm-vis-has-fired-11864053_371=\"1\"><h2 class=\"subtitle feed-subtitle\">Related Stories</h2>\n",
      "\n",
      "            <article class=\"partial list-item media padding-16-top type- padding-16-bottom border-top has-image\" data-crop=\"app_list_thumbnail_2x\">\n",
      "              <div class=\"media-body article-info padding-8-right\">\n",
      "                  <a class=\"unskinned display-inline-block eyebrow-link\" href=\"https://time.com/living/\">\n",
      "                    <div class=\"category-small heading-eyebrow \">\n",
      "                      Living\n",
      "                    </div>\n",
      "                  </a>\n",
      "                <h2 class=\"headline heading-2 scale-16 margin-8-bottom media-heading\">\n",
      "                  <a href=\"https://time.com/5777709/notable-kids-books/\">\n",
      "                      <div class=\"component line-clamp\" data-lines=\"3\" data-extra-classes=\"\" data-link=\"\" data-link-aria=\"\"><span class=\"line-clamp-text\">10 Children's Books to Read This Winter, Reviewed by Kids</span></div>\n",
      "                          </a>\n",
      "                </h2>\n",
      "              </div>\n",
      "                <a class=\"media-img\" href=\"https://time.com/5777709/notable-kids-books/\">\n",
      "                    <div class=\"component lazy-image app_list_thumbnail_2x rendered image-loaded\" data-high-density=\"\" data-src=\"https://api.time.com/wp-content/uploads/2020/02/books_ALL.jpg?quality=85&amp;w=600\" data-crop=\"app_list_thumbnail_2x\" data-alt=\"\" data-title=\"\" data-shop-image=\"false\">\n",
      "                    \n",
      "                    <noscript>\n",
      "                      <div class=\"inner-container\">\n",
      "                        <img src=\"https://api.time.com/wp-content/uploads/2020/02/books_ALL.jpg?quality&#x3D;85&amp;w&#x3D;600\" alt=\"\" title=\"\">\n",
      "                      </div>\n",
      "                    </noscript>\n",
      "                    \n",
      "                    <div class=\"inner-container js-inner-container \"><img src=\"https://api.time.com/wp-content/uploads/2020/02/books_ALL.jpg?quality=85&amp;resize=100%2C100\" alt=\"\" title=\"\">\n",
      "                    </div>\n",
      "                    \n",
      "                    \n",
      "                    </div>\n",
      "                </a>\n",
      "            </article>\n",
      "            <article class=\"partial list-item media padding-16-top type- padding-16-bottom has-native-ad border-top has-image\" data-crop=\"app_list_thumbnail_2x\">\n",
      "                <div class=\"component native-ad type-481x100 \">\n",
      "                  \n",
      "                  \n",
      "                    <div id=\"ad-481x100_1x5_rail\" data-tgxnativekey=\"oFWdVTZ81Us2wpc8c3z2poJx\" data-tgxpriority=\"6\" data-tgxlazy=\"200\" class=\"ad ad-container ad-wrapper type-nativo type-481x100-flex tgx-processed\" data-dimensions=\"481x100;1x5\" role=\"complementary\" aria-hidden=\"true\" data-tgxposition=\"2\">\n",
      "                    </div>\n",
      "                </div>\n",
      "              <div class=\"media-body article-info padding-8-right\">\n",
      "                  <a class=\"unskinned display-inline-block eyebrow-link\" href=\"https://time.com/living/\">\n",
      "                    <div class=\"category-small heading-eyebrow \">\n",
      "                      Living\n",
      "                    </div>\n",
      "                  </a>\n",
      "                <h2 class=\"headline heading-2 scale-16 margin-8-bottom media-heading\">\n",
      "                  <a href=\"https://time.com/5762011/america-milk-industry-failing/\">\n",
      "                      <div class=\"component line-clamp\" data-lines=\"3\" data-extra-classes=\"\" data-link=\"\" data-link-aria=\"\"><span class=\"line-clamp-text\">Milk Has Long Been a Staple of American Life. But Now, the Dairy Industry Is in Trouble</span></div>\n",
      "                          </a>\n",
      "                </h2>\n",
      "              </div>\n",
      "                <a class=\"media-img\" href=\"https://time.com/5762011/america-milk-industry-failing/\">\n",
      "                    <div class=\"component lazy-image app_list_thumbnail_2x rendered image-loaded\" data-high-density=\"\" data-src=\"https://api.time.com/wp-content/uploads/2020/01/america-milk-industry-failing.jpg?quality=85&amp;w=600\" data-crop=\"app_list_thumbnail_2x\" data-alt=\"\" data-title=\"\" data-shop-image=\"false\">\n",
      "                    \n",
      "                    <noscript>\n",
      "                      <div class=\"inner-container\">\n",
      "                        <img src=\"https://api.time.com/wp-content/uploads/2020/01/america-milk-industry-failing.jpg?quality&#x3D;85&amp;w&#x3D;600\" alt=\"\" title=\"\">\n",
      "                      </div>\n",
      "                    </noscript>\n",
      "                    \n",
      "                    <div class=\"inner-container js-inner-container \"><img src=\"https://api.time.com/wp-content/uploads/2020/01/america-milk-industry-failing.jpg?quality=85&amp;resize=100%2C100\" alt=\"\" title=\"\">\n",
      "                    </div>\n",
      "                    \n",
      "                    \n",
      "                    </div>\n",
      "                </a>\n",
      "            </article>\n",
      "            <article class=\"partial list-item media padding-16-top type- padding-16-bottom border-top has-image\" data-crop=\"app_list_thumbnail_2x\">\n",
      "              <div class=\"media-body article-info padding-8-right\">\n",
      "                  <a class=\"unskinned display-inline-block eyebrow-link\" href=\"https://time.com/living/\">\n",
      "                    <div class=\"category-small heading-eyebrow \">\n",
      "                      Living\n",
      "                    </div>\n",
      "                  </a>\n",
      "                <h2 class=\"headline heading-2 scale-16 margin-8-bottom media-heading\">\n",
      "                  <a href=\"https://time.com/5756969/japan-airlines-free-tickets/\">\n",
      "                      <div class=\"component line-clamp\" data-lines=\"3\" data-extra-classes=\"\" data-link=\"\" data-link-aria=\"\"><span class=\"line-clamp-text\">Japan Airlines Is Giving Away 50,000 Free Flights to Tourists</span></div>\n",
      "                          </a>\n",
      "                </h2>\n",
      "              </div>\n",
      "                <a class=\"media-img\" href=\"https://time.com/5756969/japan-airlines-free-tickets/\">\n",
      "                    <div class=\"component lazy-image app_list_thumbnail_2x rendered image-loaded\" data-high-density=\"\" data-src=\"https://api.time.com/wp-content/uploads/2019/12/japan-airlines.jpg?quality=85&amp;w=600\" data-crop=\"app_list_thumbnail_2x\" data-alt=\"\" data-title=\"\" data-shop-image=\"false\">\n",
      "                    \n",
      "                    <noscript>\n",
      "                      <div class=\"inner-container\">\n",
      "                        <img src=\"https://api.time.com/wp-content/uploads/2019/12/japan-airlines.jpg?quality&#x3D;85&amp;w&#x3D;600\" alt=\"\" title=\"\">\n",
      "                      </div>\n",
      "                    </noscript>\n",
      "                    \n",
      "                    <div class=\"inner-container js-inner-container \"><img src=\"https://api.time.com/wp-content/uploads/2019/12/japan-airlines.jpg?quality=85&amp;resize=100%2C100\" alt=\"\" title=\"\">\n",
      "                    </div>\n",
      "                    \n",
      "                    \n",
      "                    </div>\n",
      "                </a>\n",
      "            </article>\n",
      "            <article class=\"partial list-item media padding-16-top type- padding-16-bottom border-top has-image\" data-crop=\"app_list_thumbnail_2x\">\n",
      "              <div class=\"media-body article-info padding-8-right\">\n",
      "                  <a class=\"unskinned display-inline-block eyebrow-link\" href=\"https://time.com/living/\">\n",
      "                    <div class=\"category-small heading-eyebrow \">\n",
      "                      Living\n",
      "                    </div>\n",
      "                  </a>\n",
      "                <h2 class=\"headline heading-2 scale-16 margin-8-bottom media-heading\">\n",
      "                  <a href=\"https://time.com/5750814/dim-sum-ordering-guide/\">\n",
      "                      <div class=\"component line-clamp\" data-lines=\"3\" data-extra-classes=\"\" data-link=\"\" data-link-aria=\"\"><span class=\"line-clamp-text\">How to Order Dim Sum, According to the Head Chef of the First Chinese Restaurant in North America to Receive a Michelin Star</span></div>\n",
      "                          </a>\n",
      "                </h2>\n",
      "              </div>\n",
      "                <a class=\"media-img\" href=\"https://time.com/5750814/dim-sum-ordering-guide/\">\n",
      "                    <div class=\"component lazy-image app_list_thumbnail_2x rendered image-loaded\" data-high-density=\"\" data-src=\"https://api.time.com/wp-content/uploads/2019/12/dumplings-dim-sum.jpg?quality=85&amp;w=600\" data-crop=\"app_list_thumbnail_2x\" data-alt=\"\" data-title=\"\" data-shop-image=\"false\">\n",
      "                    \n",
      "                    <noscript>\n",
      "                      <div class=\"inner-container\">\n",
      "                        <img src=\"https://api.time.com/wp-content/uploads/2019/12/dumplings-dim-sum.jpg?quality&#x3D;85&amp;w&#x3D;600\" alt=\"\" title=\"\">\n",
      "                      </div>\n",
      "                    </noscript>\n",
      "                    \n",
      "                    <div class=\"inner-container js-inner-container \"><img src=\"https://api.time.com/wp-content/uploads/2019/12/dumplings-dim-sum.jpg?quality=85&amp;resize=100%2C100\" alt=\"\" title=\"\">\n",
      "                    </div>\n",
      "                    \n",
      "                    \n",
      "                    </div>\n",
      "                </a>\n",
      "            </article></div>\n",
      "          \n",
      "                \n",
      "                <div class=\"component outbrain clearfix  \" data-action=\"outbrain-component\" data-tracking-zone=\"outbrain-right-rail\">\n",
      "                  <div class=\"OUTBRAIN\" data-src=\"https://time.com/5360413/decorate-remodel-home-tips/\" data-widget-id=\"SB_24\" data-ob-template=\"timemag\" data-ob-mark=\"true\" data-browser=\"firefox\" data-os=\"macintel\" data-dynload=\"\" data-idx=\"1\" id=\"outbrain_widget_1\"><div class=\"ob-widget ob-one-column-layout SB_24\" data-dynamic-truncate=\"true\">\n",
      "      <style type=\"text/css\">      /* dynamic basic css */\n",
      ".SB_24.ob-widget .ob-widget-items-container {margin:0;padding:0;}\n",
      ".SB_24.ob-widget .ob-widget-items-container .ob-clearfix {display:block;width:100%;float:none;clear:both;height:0px;line-height:0px;font-size:0px;}\n",
      ".SB_24.ob-widget .ob-widget-items-container.ob-multi-row {padding-top: 2%;}\n",
      ".SB_24.ob-widget .ob-dynamic-rec-container {position:relative;margin:0;padding;0;}\n",
      ".SB_24.ob-widget .ob-dynamic-rec-link,\n",
      ".SB_24.ob-widget .ob-dynamic-rec-link:hover {text-decoration:none;}\n",
      ".SB_24.ob-widget .ob-rec-image-container .ob-video-icon-container {position:absolute;left:0;height:30%;width:100%;text-align:center;top:35%;}\n",
      ".SB_24.ob-widget .ob-rec-image-container .ob-video-icon {display:inline-block;height:100%;float:none;opacity:0.7;transition: opacity 500ms;}\n",
      ".SB_24.ob-widget .ob-rec-image-container .ob-video-icon:hover {opacity:1;}\n",
      ".SB_24.ob-widget .ob_what{direction:ltr;clear:both;padding:5px 10px 0px;}\n",
      "            .SB_24 .ob_what a:after {content: \"\";vertical-align:text-bottom;;margin-left:5px;;background-image: url('https://widgets.outbrain.com/images/widgetIcons/achoice.svg');background-size:75% 75%;width:12px;height:12px;padding-left:4px;display:inline-block;background-repeat:no-repeat;background-position:right center;border-left:1px solid #999;}\n",
      "    .SB_24.ob-widget .ob_what a{color:#757575;font-size:11px;font-family:arial;text-decoration: none;}\n",
      ".SB_24.ob-widget .ob_what.ob-hover:hover a{text-decoration: underline;}\n",
      ".SB_24.ob-widget .ob_amelia,\n",
      ".SB_24.ob-widget .ob_logo,\n",
      ".SB_24.ob-widget .ob_feed_logo,\n",
      ".SB_24.ob-widget .ob_sfeed_logo,\n",
      ".SB_24.ob-widget .ob_text_logo{vertical-align:baseline !important;display:inline-block;vertical-align:text-bottom;padding:0px 5px;box-sizing:content-box;-moz-box-sizing:content-box;-webkit-box-sizing:content-box;}\n",
      ".SB_24.ob-widget .ob_amelia{background:url('https://widgets.outbrain.com/images/widgetIcons/ob_logo_16x16.png') no-repeat center top;width:16px;height:16px;margin-bottom:-2px;}\n",
      ".SB_24.ob-widget .ob_logo{background:url('https://widgets.outbrain.com/images/widgetIcons/ob_logo_67x12.png') no-repeat center top;width:67px;height:12px;}\n",
      ".SB_24.ob-widget .ob_text_logo{background:url('https://widgets.outbrain.com/images/widgetIcons/ob_text_logo_67x22.png') no-repeat center top;width:67px;height:22px;}\n",
      ".SB_24.ob-widget .ob_feed_logo{background:url('https://widgets.outbrain.com/images/widgetIcons/ob_feed_logo.png') no-repeat center top;width:86px;height:23px;}\n",
      ".SB_24.ob-widget .ob_sfeed_logo{background:url('https://widgets.outbrain.com/images/widgetIcons/ob_smartFeedLogo.min.svg') no-repeat center top;width:140px;height:21px;}\n",
      ".SB_24.ob-widget .ob_sphere_logo{background:url('https://widgets.outbrain.com/images/widgetIcons/ob_sphere.svg') no-repeat center top;width:93px;height:27px;vertical-align:baseline!important;display:inline-block;vertical-align:text-bottom;padding:0px 0px;box-sizing:content-box;-moz-box-sizing:content-box;-webkit-box-sizing:content-box;}\n",
      "@media only screen and (-webkit-min-device-pixel-ratio: 2),(min-resolution: 192dpi) {\n",
      ".SB_24.ob-widget .ob_amelia{background:url('https://widgets.outbrain.com/images/widgetIcons/ob_logo_16x16@2x.png') no-repeat center top;width:16px;height:16px;margin-bottom:-2px; background-size:16px 32px;}\n",
      ".SB_24.ob-widget .ob_logo{background:url('https://widgets.outbrain.com/images/widgetIcons/ob_logo_67x12@2x.png') no-repeat center top;width:67px;height:12px; background-size:67px 24px;}\n",
      ".SB_24.ob-widget .ob_text_logo{background:url('https://widgets.outbrain.com/images/widgetIcons/ob_text_logo_67x22@2x.png') no-repeat center top;width:67px;height:20px; background-size:67px 40px;}\n",
      ".SB_24.ob-widget .ob_feed_logo{background:url('https://widgets.outbrain.com/images/widgetIcons/ob_feed_logo@2x.png') no-repeat center top;width:86px;height:23px;background-size: 86px 23px;}\n",
      "}\n",
      "@media only screen and (max-width: 600px) {\n",
      ".SB_24.ob-widget .ob_sfeed_logo{width:90px;height:20px;background-size:90px 20px;}\n",
      "}\n",
      ".SB_24.ob-widget:hover .ob_amelia,\n",
      ".SB_24.ob-widget:hover .ob_logo,\n",
      ".SB_24.ob-widget:hover .ob_text_logo{background-position:center bottom;}\n",
      "  .SB_24.ob-widget {position:relative;}\n",
      "  .SB_24.ob-widget .ob_what{position:absolute;top:5px;right:0px;}\n",
      "  .SB_24.ob-widget .ob_what{text-align:right;}\n",
      "\n",
      ".SB_24.ob-widget .ob-rec-image-container .ob-rec-image {display:block;}\n",
      "    .SB_24.ob-widget .ob-rec-description {max-height:53.0px;overflow:hidden;font-weight:normal;}\n",
      "\n",
      "      /* dynamic one-column css */\n",
      ".SB_24.ob-widget .ob-rec-image-container {position:relative;}\n",
      ".SB_24.ob-widget .ob-rec-image-container .ob-image-ratio {height:0px;line-height:0px;padding-top:100.0%;}\n",
      ".SB_24.ob-widget .ob-rec-image-container img.ob-rec-image {width:100%;position:absolute;top:0;bottom:0;left:0;right:0;opacity:0;transition:all 750ms;}\n",
      ".SB_24.ob-widget .ob-rec-image-container img.ob-show {opacity:1;}\n",
      ".SB_24.ob-widget .ob-rec-image-container .ob-rec-label {position:absolute;bottom:0px;left:0px;padding:0px 3px;background-color:#666;color:white;font-size:10px;line-height:15px;}\n",
      ".SB_24.ob-one-column-layout .ob-dynamic-rec-container {display:block;position:relative;}\n",
      "\n",
      ".SB_24.ob-one-column-layout .ob-widget-header {font-weight:bold;}\n",
      ".SB_24.ob-one-column-layout .ob-unit {display:block;}\n",
      ".SB_24.ob-one-column-layout .ob-unit.ob-rec-text {max-height:60.0px;overflow:hidden;font-weight:bold;}\n",
      ".SB_24.ob-one-column-layout .ob-unit.ob-rec-source {}\n",
      ".SB_24.ob-one-column-layout .ob-unit.ob-rec-date {font-weight:bold;}\n",
      "  .SB_24.ob-one-column-layout .ob-unit.ob-rec-source,\n",
      ".SB_24.ob-one-column-layout .ob-unit.ob-rec-date {display:inline;}\n",
      ".SB_24.ob-one-column-layout .ob-rec-brandName,\n",
      ".SB_24.ob-one-column-layout .ob-rec-brandLogo-container,\n",
      ".SB_24.ob-one-column-layout .ob-unit.ob-rec-brandLogoAndName,\n",
      ".SB_24.ob-one-column-layout .ob-rec-brandLogo {display:inline-block;}\n",
      ".SB_24.ob-one-column-layout .ob-rec-brandLogo {width:20px;height:20px;}\n",
      "\n",
      "\n",
      "  .SB_24.ob-one-column-layout .ob-unit.ob-rec-image-container {float:left;}\n",
      "  .SB_24.ob-one-column-layout .ob-unit.ob-rec-text {margin-left:110px;text-align:left;}\n",
      "  .SB_24.ob-one-column-layout .ob-unit.ob-rec-source,\n",
      "      .SB_24.ob-one-column-layout .ob-unit.ob-rec-date {float:left;margin-left:5px;}\n",
      "    .SB_24.ob-one-column-layout .ob-unit.ob-rec-source {margin-left:10px;}\n",
      "    .SB_24.ob-one-column-layout .ob-unit.ob-rec-author {float:left;margin-left:5px;}\n",
      "  .SB_24.ob-one-column-layout .ob-unit.ob-rec-brandName {padding-left:10px;}\n",
      "  .SB_24.ob-one-column-layout .ob-unit.ob-rec-brandLogoAndName {padding-left:10px;}\n",
      "  .SB_24.ob-one-column-layout .ob-unit.ob-rec-brandLogo-container {padding-left:10px;}\n",
      "  .SB_24.ob-one-column-layout .ob-unit.ob-rec-brandLogo-container + .ob-rec-brandName {padding-left:0px;}\n",
      "  .SB_24.ob-one-column-layout .ob-unit.ob-rec-brandName + .ob-rec-brandLogo-container {padding-left:0px;}\n",
      "      /* dynamic customized css */\n",
      "      \n",
      ".SB_24.ob-one-column-layout {width:autopx;}\n",
      ".SB_24.ob-one-column-layout .ob-widget-header {font-family:PT, Serif;font-size:20px;color:#282f2f;padding-bottom:10px;padding-top:0px;}\n",
      ".SB_24.ob-one-column-layout .ob-dynamic-rec-container {min-height:100px;}\n",
      ".SB_24.ob-one-column-layout .ob-dynamic-rec-container ~ .ob-dynamic-rec-container {margin-top:15px;}\n",
      ".SB_24.ob-one-column-layout .ob-rec-image-container {width:100px;}\n",
      ".SB_24.ob-one-column-layout .ob-rec-text {font-family:Zilla Slab,Lora,Georgia,Times,serif;color:#2d2d2d;padding:0px 0 0px;line-height:1.25;font-size:16px;}\n",
      ".SB_24.ob-one-column-layout .ob-rec-text:hover {color:#2d2d2d;}\n",
      ".SB_24.ob-one-column-layout .ob-rec-source {font-family:Zilla Slab,Lora,Georgia,Times,serif;color:#a3a5a9;padding:0px 0 0px;font-size:12px;}\n",
      ".SB_24.ob-one-column-layout .ob-rec-date {font-family:inherit;color:black;padding:0px 0 0px;font-size:11px;}\n",
      ".SB_24.ob-one-column-layout .ob-rec-author {font-family:inherit;color:black;padding:0px 0 0px;font-size:11px;}\n",
      ".SB_24.ob-one-column-layout .ob-rec-description {font-family:inherit;color:black;text-align:left;font-size:14px;line-height:1.25;}\n",
      ".SB_24.ob-one-column-layout .ob-rec-brandName {font-family:Zilla Slab,Lora,Georgia,Times,serif;padding:0px 0 0px;line-height:1.25;}\n",
      ".SB_24.ob-one-column-layout .ob-rec-brandLogo {width:20px;height:20px;}    </style>\n",
      "    <style type=\"text/css\" class=\"ob-custom-css\">\n",
      "       .SB_24.ob-one-column-layout .ob-widget-header { line-height: 1; letter-spacing: 0.3px; border-bottom: 1px solid #d7d7d0; font-family: Zilla Slab, Lora, Georgia, Times, serif; } .SB_24.ob-widget .ob-widget-items-container { margin-top: 7px; padding-top: 6px; } .SB_24.ob-one-column-layout .ob-dynamic-rec-container~.ob-dynamic-rec-container { border-top: 1px solid #d7d7d0; } .SB_24.ob-one-column-layout .ob-dynamic-rec-container~.ob-dynamic-rec-container { min-height: 115px; } .SB_24.ob-one-column-layout .ob-dynamic-rec-container:not(:first-of-type) { padding: 13px 0; margin: 13px 0; } .SB_24.ob-one-column-layout .ob-rec-text { line-height: 1.38; letter-spacing: 0.3px; } .SB_24.ob-one-column-layout .ob-unit.ob-rec-text { margin-left: inherit; max-width: 188px; max-height: 66px; margin-bottom: 9px; } .SB_24.ob-one-column-layout .ob-unit.ob-rec-source { margin-left: 0px; max-width: 60%; line-height: 1.18; overflow: hidden; max-height: 30px; margin-top: 0; padding-bottom: 5px; } .SB_24.ob-one-column-layout .ob-rec-source:before { content: \"by \"; } .SB_24.ob-one-column-layout .ob-unit.ob-rec-image-container { float: right; } .SB_24.ob-widget .ob_what { position: absolute; top: -1px; right: 0px; padding: 5px 0; } .SB_24.ob-one-column-layout .ob-p .ob-unit.ob-rec-source:after { content: \" | Sponsored\"; }\n",
      "    </style>\n",
      "    <div class=\"ob-widget-section ob-first\">\n",
      "          \n",
      "  <div class=\"ob-widget-header\">You May Like</div>\n",
      "            <ul class=\"ob-widget-items-container\">\n",
      "        <li class=\"ob-dynamic-rec-container ob-recIdx-0 ob-p\" data-pos=\"0\"><a class=\"ob-dynamic-rec-link \" onclick=\"\" href=\"https://www.mansionglobal.com/articles/cristiano-ronaldo-selling-former-manchester-mansion-for-3-25m-117501?reflink=outbrain_editorial_$section_id$&amp;obOrigUrl=true\" onmousedown=\"this.href='https://paid.outbrain.com/network/redir?p=2c6CXyL2no3VcPSsj5f7v5QV3pNyk4sXtwm6PDT-Hx6_EkdD36KJ-oycIQJ7uTuhnrtIyiAIyPN0chNuhfeBanP5b0NAjszaoL0j9_5_wjwqV4IqG0VPhXi9qMIO2Mj1ecNNZjzN5qsDg9jFbKL84rcyPUfdoyX84OUW5UJ9wkD7ZM28Aqm6d2RNDtZaRH4czwn2Z0A2ydXtjM-MwSWi7JONkr4RJYPYj_2uk48p8sWVd46u5ggvZFnzLPuL_P6FUkDUGsV7038FHI8YX9xWzDyR0ggjpl5Uacd3r8jZcae4d_8Udlkj3EEQKM7_g9dNwXdseVyEbMz8t3oguRnsT4bPn2ieqsFPFoj7--Jk6M193eRFLKr71U6mFgVtFmEHIP15JIolFq-_ORK5TPExXknOdOwfbS4lDFRkoXbkFxJL1mS9eIT7EIwyGehTf0Q2mFZqfegtXu3OIx4DnrXBtOnXexW2i5KadxVHHun1m4WFJf_Q0puBLY0EeB9JO4x5ked_1jpRyVqJZNfsxzO2AsKAqxjZmxa31r_9VS2fbxEz2X2C_HAERvmVnST1R3uYUvuIENeiYrzqFoLGA5Vuk-7OO6ZIwCjWb2clN3BEns_t28KNm0Y6BwQPtgUuS_R7-FOcxJnXHvoxC10f6gJgA9XxHApSJ7KMClIqS2TNfM7OTY8cie_gubPhrVpihO1sUl0KdN-qEcqSNxbjTOarK55rjJcO-DOxLMJLpg2M9ShUq1WV58Imhu-ep6ySmEaO_ZXkM1ycQmKqXz_UVSn-v7WjPOAK3TKqTpp3j1Ow0jZVUKU59TiVyDFZ5mdhbTBgBiGH8aPCiOljAAQE3U8ih-tKAqHRF8KSZ6is8oxeObOhJt7Gp5Li2y7hefc47RFb-FDvo7zlbLIIzEJK4_gLauTkNgOdg6IKOn0h9iFTSzvOxl7K6EWRSdCjUKJR6y1ajRtKgCf1cV5Ic_ekI2m0fC_diaoD7iDmMh-hLgk5fJG786-U6FvLZXQ1MuGYaKGNrizGFEJy-XBRKmaHLOXQG5vtArfBGVKcLmbMDyhM-mP57REXlmcxpsP0moxIZhJQUZ2-D_CD9cxfXQRcc2e9ZDeoTrar1uWcoMgF_1phKCPGk319TlVmC5QwXNTXYyvdd7_XbdEXmyBycQPwXuAITJTf9-zubtSSPBZJUhAkDcyi_sC0eMefENkCi8fxucgcSjeG3Dy_vzTnu4YoeLUWxg&amp;c=37363fb8&amp;v=3';\" target=\"_blank\" rel=\"nofollow\">\n",
      "\n",
      "      <span class=\"ob-unit ob-rec-image-container\" data-type=\"Image\">\n",
      "  <div class=\"ob-image-ratio\"></div>\n",
      "    <img class=\"ob-rec-image ob-show\" aria-hidden=\"true\" src=\"https://images.outbrainimg.com/transform/v3/eyJpdSI6IjgzYjg2OTYxMTQyMmUwOTczMjg1MGU2MGY2ZTFlNDJlNmY3NGJlNjU3ZjA2NzBjYjRjZGZlMzM0OTU1MDhlYzciLCJ3IjoxMDAsImgiOjEwMCwiZCI6MS41LCJjcyI6MCwiZiI6MH0.jpg\" onload=\"this.className+=' ob-show'\" alt=\"Cristiano Ronaldo Selling Former Manchester Mansion for £3.25M\" title=\"Cristiano Ronaldo Selling Former Manchester Mansion for £3.25M\" onerror=\"OBR.extern.imageError(this)\">\n",
      "            </span>\n",
      "\n",
      "          <span class=\"ob-unit ob-rec-text\" data-type=\"Title\" title=\"Cristiano Ronaldo Selling Former Manchester Mansion for £3.25M\">Cristiano Ronaldo Selling Former Manchester Mansion for £3.25M</span>\n",
      "                  <span class=\"ob-unit ob-rec-source\" data-type=\"Source\">Mansion Global</span>\n",
      "    \n",
      "\n",
      "          </a>\n",
      "</li><li class=\"ob-dynamic-rec-container ob-recIdx-1 ob-p\" data-pos=\"1\"><a class=\"ob-dynamic-rec-link \" onclick=\"\" href=\"https://www.clicktraceclick.com/df191298-85ba-49d6-a01c-0a8f9ff8e204?sectionid=$section_id$&amp;sectionname=$section_name$&amp;publisherid=$publisher_id$&amp;publishername=$publisher_name$&amp;adtitle=Mac+User+2020%3A+The+Only+Providers+You+Should+Trust+To+Protect+Your+Mac&amp;OutbrainClickId=$ob_click_id$&amp;obOrigUrl=true\" onmousedown=\"this.href='https://paid.outbrain.com/network/redir?p=X3hfAjqPGPIkMGSNejHYGSYtAANiL7ySkEWToAWxtTLSSTaPcMlPaCAcGyoZ9UlJztbdJ_OiCshWJfiFruFmxfJDKL3DuA-sEgF_gaqiTGxxyd2tBuC1R2c5HHTPokgtWUjsriBZTJb_6s83nOsr6plwXXSwVDsrOerfq2k8ILjFcXcnPdWdLyXX09QpkVbZ681_T9aoUsd5rQyjPndmsaQ-w251pdi2_D--YoS182YbA0hMVJ31S4XYkqKJlav5e7gWFhs4bMQ4pzCNezhmz9ZQTIK8U5zMiMnRjqG4lnTpk15AxglSCa3kqknNU5u0vXb2PF4ViDPytPS8jIZ9XgjWymPLe6eBjdyNMSct8ATT0EUEAopkd0CdfDEJ-OhXJuJGs9R0SF03CMwm-rJUirfTQyxMw17LKloaHZ45eIVvm7STP5RFnS2QCHAaf9UaPXyhGOvvJ1gdcDmozxTnZOMMRBnItA4eYoW7rH7xoWiCUzeIubRx9MhpHMH7UZaxcAvPm221yj2qlKQRBApmAN0FsRmpxq0hx3VrMqTWtLJxNGQ7WivrwuAabNldpq5PowXMULahNQmmc5UqQ_zVWCx11tLVw4CkqImDeOC8xbWgxR2KDA9MzNA0FODMnB07urbpIVJC9q0Ru9hkODQE05YRufPDlENsFTNC0oxtBpXcqoV0tj_u6H9HqMTiPKMWQ7lodEFe4WumZlvGoqkP4IN0nLfPnbGqjJbKdBBtEadI7VDUN2PLbfJXeRgsuUeTG-kEkh_-H2AT5srCAGcgOfSFPXmIN2X0BoHi_0wh0EkdS6vE5HuodcS-q5Rqa-7wDc60sANWCbufEyXka7YdYmGf6mOXxQyH6RznLRyJ8NIUK6VKcA3tKPH3uM76mZfmWPAzksvBkXKrGwc8P2j5WGFj9AEgaD5z5V_egQOSidLtWNoM_yCTmdAASGOIj3T1xYiCSyDJavgxhOXw6sB-FddUnl6BHtnr4Q6GuPfe46rhHjsVC_klA7kK5VxeRu--yZlXRkYPWATSNBwQ2axos6vD7fgka0PvZxcSx1HaVm2AUMZxGVA9W135gzsOpNhKpXOHgfOvsbSdbQ8p9q-v42M5cuAG-1RGGSuCIetsd8lEdXaGykfIYKS9OrwzRVNYCv4tgsSU8j5Jvk6NceNa7I_ffOY2sPMW52D3rAby54fqkKIe1O8_OnbyKrNvZ76PX1W-Fqw64uvgX9673Cry3Q&amp;c=94057bbc&amp;v=3';\" target=\"_blank\" rel=\"nofollow\">\n",
      "\n",
      "      <span class=\"ob-unit ob-rec-image-container\" data-type=\"Image\">\n",
      "  <div class=\"ob-image-ratio\"></div>\n",
      "    <img class=\"ob-rec-image ob-show\" aria-hidden=\"true\" src=\"https://images.outbrainimg.com/transform/v3/eyJpdSI6ImMzZGE1ODgxMGUxMDdiMjBmMGVlNjYwMTA2Y2FkY2MxZGViZTdkNDc3NTM2MTcyNDc4MzMxZGM0YzcwYTZlY2QiLCJ3IjoxMDAsImgiOjEwMCwiZCI6MS41LCJjcyI6MCwiZiI6MH0.jpg\" onload=\"this.className+=' ob-show'\" alt=\"Mac User 2020: The Only Providers You Should Trust To Protect Your Mac.\" title=\"Mac User 2020: The Only Providers You Should Trust To Protect Your Mac.\" onerror=\"OBR.extern.imageError(this)\">\n",
      "            </span>\n",
      "\n",
      "          <span class=\"ob-unit ob-rec-text\" data-type=\"Title\" title=\"Mac User 2020: The Only Providers You Should Trust To Protect Your Mac.\">Mac User 2020: The Only Providers You Should Trust To Protect Your…</span>\n",
      "                  <span class=\"ob-unit ob-rec-source\" data-type=\"Source\">antivirustop-10.com</span>\n",
      "    \n",
      "\n",
      "          </a>\n",
      "</li><li class=\"ob-dynamic-rec-container ob-recIdx-2 ob-o\" data-pos=\"2\"><a class=\"ob-dynamic-rec-link \" onclick=\"\" href=\"https://time.com/5686487/best-halloween-costumes-heidi-klum-party-2019/?obOrigUrl=true\" onmousedown=\"this.href='https://traffic.outbrain.com/network/redir?p=bB64N7i408JwKc6yOu88q3f7HkRHBmFMsi9qZ3usmyG6HADckVx21a0LTGuacvkcTdsTse6TIjaVdPpod8knkBae_waoD11AqqikomEmebTZ6N-DTG8HCbAEKt31lm85-kqHn9mL2L2klztFU6UTWfEcxJ_rAQW1gFd0lpRKkB1lN-ATsfAsWCPBLPWgk2G5ADM9BXp6PhKz-a6R_ggHl4_5WAyP1KWoeFZqGL8IAluolkssZlk_WuoBsdXGEy9CSy70cOkJc-HrSeLdqJnq2zgKzFtVzk5l7g8bo_gLGG5tx2pWlmMSf0q8bHYGk7tm3Vz3AYj6cAbP9VzEv8CDMGn0aybrR9Nql70KDDrQXDB-cAHp84atlMed64QnNmQt71WkfIhmkOYHrQkY9dzlVrK0X0N5iSfYfLztxZgpaLui09msq6sXaipnKLYRTcnigz_-cHFOKgzlln_DWpH-24QWkP24sddcIDrUeEjbVAxK8YyRd_6JEDYJ1m7eUDFAiw_ajH9Mdedt64Ex0bztX7KLoTBoxFAHLOcbGh4aNlLR1bwMHF4uFuhB77KMnnikUfLH_SID4VGC33G2X198ppiCitEnP155lz3TPXYOS7waS-pefb8XSzlF11rlzQGAdrMEsWrc_iAZBHZ19b_LemHiZVPbjyWkZ8QJ7KiW6Nw7aU6_mif7b3MGBpXHoMmcbMv9my3L3tLNQvr41BmOLrDIYTzUjOcEy9ZWCXdUN1pG93E48FPbnvNTRWy7I5jTNMFfFiqzfmFfy6XochVb12-LYiipm5X-bz42qpZfhX13r0qCLF4YDydulZ768PfnJ6fuU-Id4luSSlCa4aKNs_2Wt33ze2ouv6LBe_7Eb8xXPQNlm_qZYygab--RwtAl3mURAQUxqHw7Cg_5XgYuhdcybR2o4APLMNalARALG-vRBKbxDhADVfenTxFJQ5Owy84bIaWXStbMuwgX27Se1kVmoR4htxAFr-VKvDonRsA&amp;c=31d6ceb7&amp;v=3';\" target=\"_self\" rel=\"\">\n",
      "\n",
      "      <span class=\"ob-unit ob-rec-image-container\" data-type=\"Image\">\n",
      "  <div class=\"ob-image-ratio\"></div>\n",
      "    <img class=\"ob-rec-image ob-show\" aria-hidden=\"true\" src=\"https://images.outbrainimg.com/transform/v3/eyJpdSI6Ijg1YWE0OTdlMmM2ZTkyMzdhMmNmODRmYjBlOTYxY2IzMTU1ZWU0Njg3OTgyYTYwOTJjMWE1MzQ3NDk5YTA4MzEiLCJ3IjoxMDAsImgiOjEwMCwiZCI6MS41LCJjcyI6MCwiZiI6MH0.jpg\" onload=\"this.className+=' ob-show'\" alt=\"The Most Over-the-Top Costumes From Heidi Klum's Halloween Party\" title=\"The Most Over-the-Top Costumes From Heidi Klum's Halloween Party\" onerror=\"OBR.extern.imageError(this)\">\n",
      "            </span>\n",
      "\n",
      "          <span class=\"ob-unit ob-rec-text\" data-type=\"Title\" title=\"The Most Over-the-Top Costumes From Heidi Klum's Halloween Party\">The Most Over-the-Top Costumes From Heidi Klum's Halloween Party</span>\n",
      "                  <span class=\"ob-unit ob-rec-source\" data-type=\"Source\">TIME</span>\n",
      "    \n",
      "\n",
      "          </a>\n",
      "</li><li class=\"ob-dynamic-rec-container ob-recIdx-3 ob-o\" data-pos=\"3\"><a class=\"ob-dynamic-rec-link \" onclick=\"\" href=\"https://time.com/5778994/coronavirus-china-country-future/?obOrigUrl=true\" onmousedown=\"this.href='https://traffic.outbrain.com/network/redir?p=ZEOM-T68TttPPpJ0GWbdjgceXlesG2GV6_3IiRSgWaf1pHJeuDnUKXdiwn3E_WqAp3jaEKoPdFZbm9nZjtRgDIPBXzPEtSMs-1gpFwCYdE43pGYmj6ORGQOvZ4TyIQIEXM_YEcoBXyzOESppoelV_BV2FND0n7WwKwHJEq3PJgsmMnHpO_IG-jwWaQBAgV60BtuBg5CN1NIH-m3bKYBn-nOXQZhXKM274dNgvMW00vEiiQbZbdk_KJ4QEMZCyookEyyiLAWHaHf2J3SxyzHqD37PTfeP-nA_v50Lo4qrLvKns3_b3f57N0BlbWdKKYaHcJbHfdpxoBkEjUJAjYb77JCJhjeCwHeb9AB66tTHjwd2yNhQ9ZaFVSq6x-HdQkPTob1FNl_Djj9N2rr1hWy-pqwKb1mEm41qZl_B9cr2FNgPBBBm9xkSVtpp2OQ3Su2RIjx4r5oxcl_R5B-ba595aUByMWdecDDil9xfhQIBn87D-RnD49wN69dA-anQgvZ7ih_zs7WxTbJnx7lBc6xAamR9rQtibG1cErNe4-5Gvu7zRR49HXboPoDhJf4LH6f7q-D3_7HWZNpEB6KyrgCgObVYOExwe4JtVPeYc-0IOpTqxuIBokdQtAxHNOZqmm8IrGLHOS03jNCHW4yY0kX6mVthg2J_yxzjbPqNrGkWD6x4rJekNCdY4eIjRECDl60pXM2jA-5py06lh09K1vyWK781OC-j-rUx9vcARQhXBVLGbi_Skshunha7eymS9Q_SHtfAEgYZrSDmSUOwD7UlVi-yXpAuCYK7P6CGjRpnjI-tMhyxP_DuCurEb7FJyGZhrxSXKRfQijHYVA5rcwNwtZLK-LF_uDS7VPuJfA0f1RSKohxdJjvNX3LzR7llb3GTW0jyixbLO0diVEInrtGdTZ4viZYnHYvImM9QDg88TU19d1MounlnjhmBCuLa1kSaXI_9MNElVF8f367jES5cH0wP2I0sp13dWIfGh15IyZo&amp;c=abba0a2d&amp;v=3';\" target=\"_self\" rel=\"\">\n",
      "\n",
      "      <span class=\"ob-unit ob-rec-image-container\" data-type=\"Image\">\n",
      "  <div class=\"ob-image-ratio\"></div>\n",
      "    <img class=\"ob-rec-image ob-show\" aria-hidden=\"true\" src=\"https://images.outbrainimg.com/transform/v3/eyJpdSI6IjJmYmI2NTFkY2JiZTU2MjU2MjNjNTA0NzQzNjJkMmU4N2VjYzZkM2Y5NDk0MTU4NmEwNGViZWQzYWY1ZTQyYjYiLCJ3IjoxMDAsImgiOjEwMCwiZCI6MS41LCJjcyI6MCwiZiI6MH0.jpg\" onload=\"this.className+=' ob-show'\" alt=\"The Coronavirus Outbreak Could Derail Xi Jinping’s Dreams of a Chinese Century\" title=\"The Coronavirus Outbreak Could Derail Xi Jinping’s Dreams of a Chinese Century\" onerror=\"OBR.extern.imageError(this)\">\n",
      "            </span>\n",
      "\n",
      "          <span class=\"ob-unit ob-rec-text\" data-type=\"Title\" title=\"The Coronavirus Outbreak Could Derail Xi Jinping’s Dreams of a Chinese Century\">The Coronavirus Outbreak Could Derail Xi Jinping’s Dreams of a…</span>\n",
      "                  <span class=\"ob-unit ob-rec-source\" data-type=\"Source\">TIME</span>\n",
      "    \n",
      "\n",
      "          </a>\n",
      "</li>      </ul>\n",
      "          </div>\n",
      "                        <div class=\"ob_what\">\n",
      "\t\t<a href=\"https://www.outbrain.com/what-is/default/en\" rel=\"nofollow\" onclick=\"OBR.extern.callWhatIs('https://www.outbrain.com/what-is/default/en','',-1,-1,true ,null);return false\">by<span class=\"ob_logo\"></span></a>\n",
      "\t</div>\n",
      "    <div class=\"ob-pixels\">\n",
      "        </div>\n",
      "  </div></div>\n",
      "                </div>\n",
      "                \n",
      "          \n",
      "            </div>\n"
     ]
    }
   ],
   "source": [
    "# url 84\n",
    "i = urls[83]\n",
    "#open_url(i)\n",
    "element = driver.find_element_by_css_selector('.sidebar-item')\n",
    "source = element.get_attribute(\"outerHTML\")\n",
    "print(source)\n",
    "ad_type = \"better\"\n",
    "data.append({\"TYPE\" : ad_type, \"ad_code\" : source, \"URL\" : i})"
   ]
  },
  {
   "cell_type": "code",
   "execution_count": 585,
   "metadata": {
    "collapsed": true
   },
   "outputs": [
    {
     "name": "stdout",
     "output_type": "stream",
     "text": [
      "<div class=\"above-footer\">\n",
      "            <div class=\"component subscribe-callout media\">\n",
      "              <div class=\"media-img\">\n",
      "                  <div class=\"component lazy-image evergreen-cover rendered image-loaded\" data-high-density=\"true\" data-src=\"//subscription-assets.timeinc.com/current/1850_top2_205_thumb.jpg\" data-crop=\"\" data-alt=\"\" data-title=\"\" data-shop-image=\"false\">\n",
      "                  \n",
      "                  <noscript>\n",
      "                    <div class=\"inner-container\">\n",
      "                      <img src=\"//subscription-assets.timeinc.com/current/1850_top2_205_thumb.jpg\" alt=\"\" title=\"\">\n",
      "                    </div>\n",
      "                  </noscript>\n",
      "                  \n",
      "                  <div class=\"inner-container js-inner-container \"><img src=\"//subscription-assets.timeinc.com/current/1850_top2_205_thumb.jpg?w=150&amp;quality=85\" alt=\"\" title=\"\">\n",
      "                  </div>\n",
      "                  \n",
      "                  \n",
      "                  </div>\n",
      "                  <div class=\"component lazy-image latest-cover rendered image-loaded\" data-high-density=\"true\" data-src=\"//api.time.com/wp-content/uploads/2020/01/tim191125_cover_awkwafina3.jpg\" data-crop=\"\" data-alt=\"\" data-title=\"\" data-shop-image=\"false\">\n",
      "                  \n",
      "                  <noscript>\n",
      "                    <div class=\"inner-container\">\n",
      "                      <img src=\"//api.time.com/wp-content/uploads/2020/01/tim191125_cover_awkwafina3.jpg\" alt=\"\" title=\"\">\n",
      "                    </div>\n",
      "                  </noscript>\n",
      "                  \n",
      "                  <div class=\"inner-container js-inner-container \"><img src=\"//api.time.com/wp-content/uploads/2020/01/tim191125_cover_awkwafina3.jpg?w=150&amp;quality=85\" alt=\"\" title=\"\">\n",
      "                  </div>\n",
      "                  \n",
      "                  \n",
      "                  </div>\n",
      "              </div>\n",
      "              <div class=\"media-body\">\n",
      "                <div class=\"partial tout\">\n",
      "                  <div class=\"tout-content-wrapper\">\n",
      "                    <h3>Subscribe &amp; Save</h3>\n",
      "                    <div class=\"tout-content\">Subscribe today and save up to 84% off the cover price.</div>\n",
      "                  </div>\n",
      "                      <div class=\"button-style\">\n",
      "                          <a href=\"/subscribe-body-time\" target=\"_blank\"> SUBSCRIBE NOW </a>\n",
      "                      </div>\n",
      "                </div>\n",
      "              </div>\n",
      "            </div>\n",
      "            <div class=\"component newsletter-callout \">\n",
      "                  <div class=\"component lazy-image rendered image-loaded\" data-high-density=\"true\" data-src=\"https://api.time.com/wp-content/uploads/2017/09/time-newsletter-tout-footer.png\" data-crop=\"\" data-alt=\"\" data-title=\"\" data-shop-image=\"false\">\n",
      "                  \n",
      "                  <noscript>\n",
      "                    <div class=\"inner-container\">\n",
      "                      <img src=\"https://api.time.com/wp-content/uploads/2017/09/time-newsletter-tout-footer.png\" alt=\"\" title=\"\">\n",
      "                    </div>\n",
      "                  </noscript>\n",
      "                  \n",
      "                  <div class=\"inner-container js-inner-container \"><img src=\"https://api.time.com/wp-content/uploads/2017/09/time-newsletter-tout-footer.png?w=616&amp;h=274&amp;quality=85\" alt=\"\" title=\"\">\n",
      "                  </div>\n",
      "                  \n",
      "                  \n",
      "                  </div>\n",
      "                <div class=\"partial tout\">\n",
      "                  <div class=\"tout-content-wrapper\">\n",
      "                    <h3>Sign Up for Our Newsletters</h3>\n",
      "                    <div class=\"tout-content\">Sign up to receive the top stories you need to know now on politics, health and more</div>\n",
      "                  </div>\n",
      "                      <div class=\"button-style\">\n",
      "                          <a href=\"https://cloud.newsletters.time.com/newsletters/?source=TD_CMS_Art_Footer\" target=\"_blank\"> SUBSCRIBE </a>\n",
      "                      </div>\n",
      "                </div>\n",
      "            </div>\n",
      "        </div>\n"
     ]
    }
   ],
   "source": [
    "# url 85\n",
    "i = urls[84]\n",
    "#open_url(i)\n",
    "element = driver.find_element_by_css_selector('.above-footer')\n",
    "source = element.get_attribute(\"outerHTML\")\n",
    "print(source)\n",
    "ad_type = \"better\"\n",
    "data.append({\"TYPE\" : ad_type, \"ad_code\" : source, \"URL\" : i})"
   ]
  },
  {
   "cell_type": "code",
   "execution_count": 591,
   "metadata": {
    "collapsed": true
   },
   "outputs": [
    {
     "name": "stdout",
     "output_type": "stream",
     "text": [
      "<div id=\"ad-728x90_LL_td_3\" data-tgxtargeting=\"%7B%7D\" data-tgxlazy=\"200\" class=\"ad ad-container ad-wrapper type-728x90 instream-ad tablet-ad desktop-ad x2 tgx-processed\" data-dimensions=\"728x90\" role=\"complementary\" aria-hidden=\"true\" data-tgxposition=\"4\" data-google-query-id=\"CI3GiJPIy-cCFVN7iwodswwAUg\">\n",
      "                  <div id=\"google_ads_iframe_/21801468956/tim.mdp.com/living/article_8__container__\" style=\"border: 0pt none;\"><iframe id=\"google_ads_iframe_/21801468956/tim.mdp.com/living/article_8\" title=\"3rd party ad content\" name=\"google_ads_iframe_/21801468956/tim.mdp.com/living/article_8\" scrolling=\"no\" marginwidth=\"0\" marginheight=\"0\" style=\"border: 0px none; vertical-align: bottom;\" srcdoc=\"\" data-google-container-id=\"9\" data-load-complete=\"true\" width=\"728\" height=\"90\" frameborder=\"0\"></iframe></div></div>\n"
     ]
    }
   ],
   "source": [
    "# url 86\n",
    "i = urls[85]\n",
    "#open_url(i)\n",
    "element = driver.find_element_by_css_selector('#ad-728x90_LL_td_3')\n",
    "source = element.get_attribute(\"outerHTML\")\n",
    "print(source)\n",
    "ad_type = \"better\"\n",
    "data.append({\"TYPE\" : ad_type, \"ad_code\" : source, \"URL\" : i})"
   ]
  },
  {
   "cell_type": "code",
   "execution_count": 598,
   "metadata": {},
   "outputs": [],
   "source": [
    "ad_type = \"better\""
   ]
  },
  {
   "cell_type": "code",
   "execution_count": 599,
   "metadata": {
    "collapsed": true
   },
   "outputs": [
    {
     "name": "stdout",
     "output_type": "stream",
     "text": [
      "<div class=\"ad_area\">\n",
      "\t<iframe id=\"f240240\" name=\"f240240\" title=\"f240240\" src=\"https://veta.naver.com/fxshow?su=SU10415&amp;calp=endic\" data-veta-preview=\"dic_240\" border=\"0\" scrolling=\"no\" marginheight=\"0\" marginwidth=\"0\" width=\"240\" height=\"240\" frameborder=\"0\" align=\"middle\"></iframe>\n",
      "</div>\n"
     ]
    }
   ],
   "source": [
    "# url 87\n",
    "i = urls[86]\n",
    "#open_url(i)\n",
    "element = driver.find_element_by_css_selector('.ad_area')\n",
    "source = element.get_attribute(\"outerHTML\")\n",
    "print(source)\n",
    "data.append({\"TYPE\" : ad_type, \"ad_code\" : source, \"URL\" : i})"
   ]
  },
  {
   "cell_type": "code",
   "execution_count": 601,
   "metadata": {
    "collapsed": true
   },
   "outputs": [
    {
     "name": "stdout",
     "output_type": "stream",
     "text": [
      "<section class=\"module-article-newsletter uk-padding-large\">\n",
      "<div class=\"form-section uk-container-large uk-background-secondary uk-flex uk-padding-large\">\n",
      "<div class=\"uk-width-expand\">\n",
      "<h1>Get the latest from IAB in your inbox</h1>\n",
      "<p>Be the first to know. Sign up to receive news about the IAB programs, standards, events, classes, and more!</p>\n",
      "</div>\n",
      "<div class=\"subscribe-form uk-width-auto\">\n",
      "<a href=\"http://go.iab.com/Subscribe\" target=\"_blank\" class=\"primary-button-black uk-padding-small uk-flex\">\n",
      "Sign up now <div class=\"arrow-right\"></div>\n",
      "</a>\n",
      "</div>\n",
      "</div>\n",
      "</section>\n"
     ]
    }
   ],
   "source": [
    "# url 88\n",
    "i = urls[87]\n",
    "#open_url(i)\n",
    "element = driver.find_element_by_css_selector('.module-article-newsletter')\n",
    "source = element.get_attribute(\"outerHTML\")\n",
    "print(source)\n",
    "data.append({\"TYPE\" : ad_type, \"ad_code\" : source, \"URL\" : i})"
   ]
  },
  {
   "cell_type": "code",
   "execution_count": 603,
   "metadata": {
    "collapsed": true
   },
   "outputs": [
    {
     "name": "stdout",
     "output_type": "stream",
     "text": [
      "<div class=\"mayoad\">\n",
      "    <h2>Advertisement</h2>\n",
      "    <div id=\"gpt-ad-mayoclinic.org-top\" style=\"\" data-google-query-id=\"CI6Ru-7K0ucCFUFSvQod3HIHRQ\"><div id=\"google_ads_iframe_129348672/mayoclinic.org_top_0__container__\" style=\"border: 0pt none;\"><iframe id=\"google_ads_iframe_129348672/mayoclinic.org_top_0\" title=\"3rd party ad content\" name=\"google_ads_iframe_129348672/mayoclinic.org_top_0\" scrolling=\"no\" marginwidth=\"0\" marginheight=\"0\" style=\"border: 0px none; vertical-align: bottom;\" srcdoc=\"\" data-google-container-id=\"1\" data-load-complete=\"true\" width=\"300\" height=\"250\" frameborder=\"0\"></iframe></div></div>\n",
      "    <!--Policy text  -->\n",
      "    \n",
      "<div class=\"contentbox policy\">\n",
      "\n",
      "\n",
      "\n",
      "\n",
      "<p>Mayo Clinic does not endorse companies or products. Advertising revenue supports our not-for-profit mission.</p>\n",
      "<strong>Advertising &amp; Sponsorship</strong>\n",
      "<ul>\n",
      "    <li><a href=\"/about-this-site/advertising-sponsorship-policy\">Policy</a></li>\n",
      "    <li><a href=\"/about-this-site/advertising-sponsorship\">Opportunities</a></li>\n",
      "    <li class=\"add-choice\"><a href=\"http://www.aboutads.info/choices/\">Ad Choices</a></li>\n",
      "</ul>\n",
      "\n",
      "\n",
      "</div>\n",
      "\n",
      "\n",
      "\n",
      "\n",
      "    <!-- Book store would be a content tile. -->\n",
      "    \n",
      "<div class=\"contentbox book\">\n",
      "\n",
      "\n",
      "\n",
      "<h3>Mayo Clinic Marketplace</h3>\n",
      "\n",
      "\n",
      " \n",
      "<p>Check out these best-sellers and special offers on books and newsletters from Mayo Clinic. </p>\n",
      "<ul><li><a href=\"https://diet.mayoclinic.org/diet/home/?promo=52-qtr&amp;utm_source=Mayo&amp;utm_medium=Display&amp;utm_campaign=SiteStore_text\">The Mayo Clinic Diet Online</a></li><li><a href=\"https://order.store.mayoclinic.com/books/gnweb35?utm_source=MC-DotOrg-Text&amp;utm_medium=Link&amp;utm_campaign=Stress-Combo&amp;utm_content=SFLCOMBO\">4 simple steps to a joy-filled life</a></li><li><a href=\"https://order.store.mayoclinic.com/books/gnweb14?utm_source=MC-DotOrg-Text&amp;utm_campaign=Heart-Book&amp;utm_medium=Link&amp;utm_content=HEART\">Conquer heart disease in 10 min. a day</a></li><li><a href=\"https://order.store.mayoclinic.com/books/gnweb54?utm_source=MC-DotOrg-Text&amp;utm_medium=Link&amp;utm_campaign=Fibromyalgia-Book&amp;utm_content=FIBRO\">NEW – Guide to Fibromyalgia</a></li><li><a href=\"https://order.store.mayoclinic.com/books/gnweb27?utm_source=MC-DotOrg-Text&amp;utm_medium=Link&amp;utm_campaign=Osteoporosis-Book&amp;utm_content=OSTEO\">Stop osteoporosis in its tracks</a></li></ul>\n",
      "\n",
      "</div>\n",
      "\n",
      "\n",
      "\n",
      "\n",
      "    <div id=\"gpt-ad-mayoclinic.org-bottom\" style=\"\" data-google-query-id=\"CI-Ru-7K0ucCFUFSvQod3HIHRQ\"><div id=\"google_ads_iframe_129348672/mayoclinic.org_bottom_0__container__\" style=\"border: 0pt none;\"><iframe id=\"google_ads_iframe_129348672/mayoclinic.org_bottom_0\" title=\"3rd party ad content\" name=\"google_ads_iframe_129348672/mayoclinic.org_bottom_0\" scrolling=\"no\" marginwidth=\"0\" marginheight=\"0\" style=\"border: 0px none; vertical-align: bottom;\" srcdoc=\"\" data-google-container-id=\"2\" data-load-complete=\"true\" width=\"300\" height=\"251\" frameborder=\"0\"></iframe></div></div>\n",
      "</div>\n"
     ]
    }
   ],
   "source": [
    "# url 89\n",
    "i = urls[88]\n",
    "#open_url(i)\n",
    "element = driver.find_element_by_css_selector('.mayoad')\n",
    "source = element.get_attribute(\"outerHTML\")\n",
    "print(source)\n",
    "data.append({\"TYPE\" : ad_type, \"ad_code\" : source, \"URL\" : i})"
   ]
  },
  {
   "cell_type": "code",
   "execution_count": 606,
   "metadata": {
    "collapsed": true
   },
   "outputs": [
    {
     "name": "stdout",
     "output_type": "stream",
     "text": [
      "<div data-ad=\"mpu-plus-top\" data-ad-container=\"5e475dafeefa3\" class=\"ad-mpu-plus-top ad-slot rendered\" data-instance=\"1\" id=\"mpu-plus-top\" data-google-query-id=\"CKW2pJvL0ucCFcWXlgodvcIIng\">\n",
      "    <div id=\"google_ads_iframe_/8264/aw-cnet/home-entertainment/tvs_0__container__\" style=\"border: 0pt none;\"><iframe id=\"google_ads_iframe_/8264/aw-cnet/home-entertainment/tvs_0\" title=\"3rd party ad content\" name=\"google_ads_iframe_/8264/aw-cnet/home-entertainment/tvs_0\" scrolling=\"no\" marginwidth=\"0\" marginheight=\"0\" style=\"border: 0px none; vertical-align: bottom;\" srcdoc=\"\" data-google-container-id=\"3\" data-load-complete=\"true\" width=\"300\" height=\"250\" frameborder=\"0\"></iframe></div></div>\n"
     ]
    }
   ],
   "source": [
    "# url 90\n",
    "i = urls[89]\n",
    "#open_url(i)\n",
    "element = driver.find_element_by_css_selector('#mpu-plus-top')\n",
    "source = element.get_attribute(\"outerHTML\")\n",
    "print(source)\n",
    "data.append({\"TYPE\" : ad_type, \"ad_code\" : source, \"URL\" : i})"
   ]
  },
  {
   "cell_type": "code",
   "execution_count": 609,
   "metadata": {
    "collapsed": true
   },
   "outputs": [
    {
     "name": "stdout",
     "output_type": "stream",
     "text": [
      "<a href=\"http://symposia.co.uk\" class=\"symposia-brand-footer\" target=\"_blank\">\n",
      "        <div class=\"symposia-brand-footer-inner\">\n",
      "          <div class=\"symposia-brand-label\">Website by</div>\n",
      "          <div class=\"symposia-brand-logo\"><img src=\"/sites/all/modules/_emf/symposia_brand_footer/assets/img/symposia-logo.png\" alt=\"Symposia Logo\"></div>\n",
      "        </div>\n",
      "      </a>\n"
     ]
    }
   ],
   "source": [
    "# url 91\n",
    "i = urls[90]\n",
    "#open_url(i)\n",
    "element = driver.find_element_by_css_selector('.symposia-brand-footer')\n",
    "source = element.get_attribute(\"outerHTML\")\n",
    "print(source)\n",
    "data.append({\"TYPE\" : ad_type, \"ad_code\" : source, \"URL\" : i})"
   ]
  },
  {
   "cell_type": "code",
   "execution_count": 613,
   "metadata": {
    "collapsed": true
   },
   "outputs": [
    {
     "name": "stdout",
     "output_type": "stream",
     "text": [
      "<div class=\"elementor-element elementor-element-7ccca8b elementor-widget elementor-widget-text-editor\" data-id=\"7ccca8b\" data-element_type=\"widget\" data-widget_type=\"text-editor.default\"><div class=\"elementor-widget-container\"><div class=\"elementor-text-editor elementor-clearfix\"><a href=\"http://bit.ly/2qxURGD\" rel=\"nofollow\" target=\"_blank\"><noscript><img class=\"aligncenter\" style=\"margin-bottom: 8px;\" src=\"https://www.marketingterms.com/wp-content/uploads/2019/10/SMSS_SF_horizontal.jpg\" alt=\"Social Media Strategies Summit\" width=\"728\" height=\"90\" /></noscript><img class=\"aligncenter ls-is-cached lazyloaded\" style=\"margin-bottom: 8px;\" src=\"https://www.marketingterms.com/wp-content/uploads/2019/10/SMSS_SF_horizontal.jpg\" data-src=\"https://www.marketingterms.com/wp-content/uploads/2019/10/SMSS_SF_horizontal.jpg\" alt=\"Social Media Strategies Summit\" width=\"728\" height=\"90\"></a></div></div></div>\n"
     ]
    }
   ],
   "source": [
    "# url 92\n",
    "i = urls[91]\n",
    "#open_url(i)\n",
    "element = driver.find_element_by_css_selector('.elementor-element-7ccca8b')\n",
    "source = element.get_attribute(\"outerHTML\")\n",
    "print(source)\n",
    "data.append({\"TYPE\" : ad_type, \"ad_code\" : source, \"URL\" : i})"
   ]
  },
  {
   "cell_type": "code",
   "execution_count": 615,
   "metadata": {
    "collapsed": true
   },
   "outputs": [
    {
     "name": "stdout",
     "output_type": "stream",
     "text": [
      "<div class=\"elementor-element elementor-element-5adb56b elementor-widget elementor-widget-text-editor\" data-id=\"5adb56b\" data-element_type=\"widget\" data-widget_type=\"text-editor.default\"><div class=\"elementor-widget-container\"><div class=\"elementor-text-editor elementor-clearfix\"><p><a href=\"http://bit.ly/2qxURGD\" rel=\"nofollow\" target=\"_blank\"><noscript><img class=\"aligncenter\" style=\"margin-bottom: 8px;\" src=\"https://www.marketingterms.com/wp-content/uploads/2019/10/SMSS_SF_vertical.jpg\" alt=\"Social Media Strategies Summit\" width=\"300\" height=\"600\" /></noscript><img class=\"aligncenter ls-is-cached lazyloaded\" style=\"margin-bottom: 8px;\" src=\"https://www.marketingterms.com/wp-content/uploads/2019/10/SMSS_SF_vertical.jpg\" data-src=\"https://www.marketingterms.com/wp-content/uploads/2019/10/SMSS_SF_vertical.jpg\" alt=\"Social Media Strategies Summit\" width=\"300\" height=\"600\"></a></p></div></div></div>\n"
     ]
    }
   ],
   "source": [
    "# url 93\n",
    "i = urls[92]\n",
    "#open_url(i)\n",
    "element = driver.find_element_by_css_selector('.elementor-element-5adb56b')\n",
    "source = element.get_attribute(\"outerHTML\")\n",
    "print(source)\n",
    "data.append({\"TYPE\" : ad_type, \"ad_code\" : source, \"URL\" : i})"
   ]
  },
  {
   "cell_type": "code",
   "execution_count": 618,
   "metadata": {
    "collapsed": true
   },
   "outputs": [
    {
     "name": "stdout",
     "output_type": "stream",
     "text": [
      "<p style=\"text-align: center;\"><a href=\"https://bit.ly/2I6DD9g\" rel=\"nofollow\" target=\"_blank\"><noscript><img style=\"margin-bottom: 8px;\" src=\"https://www.marketingterms.com/wp-content/uploads/2019/06/etailwest2020-horizontal.png\" alt=\"eTail Palm Springs\" width=\"728\" height=\"90\" /></noscript><img class=\" ls-is-cached lazyloaded\" style=\"margin-bottom: 8px;\" src=\"https://www.marketingterms.com/wp-content/uploads/2019/06/etailwest2020-horizontal.png\" data-src=\"https://www.marketingterms.com/wp-content/uploads/2019/06/etailwest2020-horizontal.png\" alt=\"eTail Palm Springs\" width=\"728\" height=\"90\"></a><br>Save 20% with discount code&nbsp;<strong>MKTERMS2020</strong> — <a href=\"https://bit.ly/2I6DD9g\" rel=\"nofollow\" target=\"_blank\">eTail West</a></p>\n"
     ]
    }
   ],
   "source": [
    "# url 94\n",
    "i = urls[93]\n",
    "#open_url(i)\n",
    "element = driver.find_element_by_css_selector('.elementor-element-84c3a1b > div:nth-child(1) > div:nth-child(1) > p:nth-child(1)')\n",
    "source = element.get_attribute(\"outerHTML\")\n",
    "print(source)\n",
    "data.append({\"TYPE\" : ad_type, \"ad_code\" : source, \"URL\" : i})"
   ]
  },
  {
   "cell_type": "code",
   "execution_count": 620,
   "metadata": {
    "collapsed": true
   },
   "outputs": [
    {
     "name": "stdout",
     "output_type": "stream",
     "text": [
      "<div id=\"js-gdpr-consent-banner\" class=\"p8 ff-sans ps-fixed b0 l0 r0 z-banner\" role=\"banner\" aria-hidden=\"false\" style=\"background-color: #3b4045; color: white;\"> \n",
      "        <div class=\"wmx8 mx-auto grid grid__center\" role=\"alertdialog\" aria-describedby=\"notice-message\">\n",
      "            <div class=\"grid--cell mr12\" aria-label=\"notice-message\">\n",
      "                <p class=\"mb0 lh-lg\">\n",
      "                    By using our site, you acknowledge that you have read and understand our <a class=\"s-link s-link__inherit td-underline fc-white\" target=\"_blank\" href=\"https://stackoverflow.com/legal/cookie-policy\">Cookie Policy</a>, <a class=\"s-link s-link__inherit td-underline fc-white\" target=\"_blank\" href=\"https://stackoverflow.com/legal/privacy-policy\">Privacy Policy</a>, and our <a class=\"s-link s-link__inherit td-underline fc-white\" target=\"_blank\" href=\"https://stackoverflow.com/legal/terms-of-service/public\">Terms of Service</a>.\n",
      "                </p>\n",
      "            </div>\n",
      "            <div class=\"grid--cell\">\n",
      "                <a class=\"s-btn s-btn__muted s-btn__icon js-notice-close\" aria-label=\"notice-dismiss\">\n",
      "                    <svg aria-hidden=\"true\" class=\"svg-icon iconClear\" width=\"18\" height=\"18\" viewBox=\"0 0 18 18\"><path d=\"M15 4.41L13.59 3 9 7.59 4.41 3 3 4.41 7.59 9 3 13.59 4.41 15 9 10.41 13.59 15 15 13.59 10.41 9 15 4.41z\"></path></svg>\n",
      "                </a>\n",
      "            </div>\n",
      "        </div>\n",
      "    </div>\n"
     ]
    }
   ],
   "source": [
    "# url 95\n",
    "i = urls[94]\n",
    "#open_url(i)\n",
    "element = driver.find_element_by_css_selector('#js-gdpr-consent-banner')\n",
    "source = element.get_attribute(\"outerHTML\")\n",
    "print(source)\n",
    "data.append({\"TYPE\" : ad_type, \"ad_code\" : source, \"URL\" : i})"
   ]
  },
  {
   "cell_type": "code",
   "execution_count": 623,
   "metadata": {
    "collapsed": true
   },
   "outputs": [
    {
     "name": "stdout",
     "output_type": "stream",
     "text": [
      "<div data-module-id=\"42\" data-module-name=\"article.app/lib/module/responsiveAd\" data-module-zone=\"rightRailAd1\" class=\"zonedModule\">\n",
      "  <div class=\"wsj-responsive-ad-wrap\" id=\"AD_RIGHT1\" data-ad-options=\"{&quot;adUnitPath&quot;:&quot;/2/us.mansionglobal.com/defaultarticle&quot;,&quot;autoRefresh&quot;:false,&quot;adTargeting&quot;:{&quot;bkuuid&quot;:null,&quot;circ&quot;:&quot;fullarticle&quot;,&quot;metazone&quot;:null,&quot;msrc&quot;:null,&quot;topic&quot;:&quot;location_country-england,location_country-united_kingdom,location_region-emea,location_region-united-kingdom,subject_subject-listing-of-the-day&quot;,&quot;S&quot;:&quot;prod&quot;,&quot;alert&quot;:[&quot;volatility050&quot;,&quot;red&quot;],&quot;adlocation&quot;:&quot;RIGHT1&quot;},&quot;disableRefresh&quot;:false,&quot;adSize&quot;:[[300,250],[300,600]],&quot;adSizeMap&quot;:{&quot;at4units&quot;:[[300,250]],&quot;at8units&quot;:[[300,250]],&quot;at12units&quot;:[[300,600],[300,250]],&quot;at16units&quot;:[[300,600],[300,250]]},&quot;adId&quot;:&quot;AD_RIGHT1&quot;,&quot;adActivate&quot;:true,&quot;deferLoad&quot;:true,&quot;refLinkTargeting&quot;:true}\" data-tracking=\"us.mansionglobal.com/defaultarticle\" data-type=\"Mansion Global Article\" data-is-logged-in=\"\" data-google-query-id=\"COWLi_TP0ucCFQOSvQod2G4ILA\">\n",
      "  <div id=\"google_ads_iframe_/2/us.mansionglobal.com/defaultarticle_3__container__\" style=\"border: 0pt none;\"><iframe id=\"google_ads_iframe_/2/us.mansionglobal.com/defaultarticle_3\" title=\"3rd party ad content\" name=\"google_ads_iframe_/2/us.mansionglobal.com/defaultarticle_3\" scrolling=\"no\" marginwidth=\"0\" marginheight=\"0\" style=\"border: 0px none; vertical-align: bottom;\" srcdoc=\"\" data-google-container-id=\"2\" data-integralas-id-254b22b3-6ac6-d6d8-c51d-7ffbf937f642=\"\" data-load-complete=\"true\" width=\"300\" height=\"600\" frameborder=\"0\"></iframe></div></div>\n",
      "\n",
      "</div>\n"
     ]
    }
   ],
   "source": [
    "# url 96\n",
    "i = urls[95]\n",
    "#open_url(i)\n",
    "element = driver.find_element_by_css_selector('.inline-container > div:nth-child(1)')\n",
    "source = element.get_attribute(\"outerHTML\")\n",
    "print(source)\n",
    "data.append({\"TYPE\" : ad_type, \"ad_code\" : source, \"URL\" : i})"
   ]
  },
  {
   "cell_type": "code",
   "execution_count": 626,
   "metadata": {
    "collapsed": true
   },
   "outputs": [
    {
     "name": "stdout",
     "output_type": "stream",
     "text": [
      "<div id=\"newsletter\">\n",
      "\n",
      "<div data-module-id=\"22\" data-module-name=\"article.app/lib/webui/modules/mg/newsletterBottomColumn\" data-module-zone=\"newsletter_bottom\" class=\"zonedModule\">\n",
      "<script>\n",
      "  window.INITIAL_PROPS_NEWSLETTER_BOTTOM_COL = {\"data\":{},\"id\":\"mg/newsletterBottomColumn\",\"context\":{\"i18nLocale\":\"en_US\"},\"package\":{\"accessedContext\":[],\"nodes\":{\"0\":{\"component\":{\"options\":{\"breakpoints\":[\"xs\",\"sm\",\"md\",\"lg\"]},\"id\":\"c8882c9c-15d3-4d1f-9b0e-81b6f321365d\",\"acceptsTypes\":{},\"isConditional\":true,\"$context\":{\"./options/initialBreakpoint\":{\"key\":[\".\",\"options\",\"initialBreakpoint\"],\"value\":[\"#\",\"breakpoint\"]}},\"decorators\":[\"MGTheme\",\"GridStyles\"]},\"children\":[\"0.0\",\"0.1\",\"0.2\",\"0.3\"],\"treeOrder\":1,\"name\":\"0\",\"hierarchy\":\"0\",\"states\":[{\"nodes\":[],\"data\":[],\"hierarchy\":{},\"dedupeGroups\":{},\"components\":{\"code___decoratedComponent___4d7c84cf-ae91-4e65-bf2c-cc9353c24997___MGTheme---GridStyles\":{\"id\":\"4d7c84cf-ae91-4e65-bf2c-cc9353c24997\",\"decorators\":[\"MGTheme\",\"GridStyles\"]}}},{\"nodes\":[],\"data\":[],\"hierarchy\":{},\"dedupeGroups\":{},\"components\":{\"code___decoratedComponent___4d7c84cf-ae91-4e65-bf2c-cc9353c24997___MGTheme---GridStyles\":{\"id\":\"4d7c84cf-ae91-4e65-bf2c-cc9353c24997\",\"decorators\":[\"MGTheme\",\"GridStyles\"]}}},{\"nodes\":[],\"data\":[],\"hierarchy\":{},\"dedupeGroups\":{},\"components\":{\"code___decoratedComponent___4d7c84cf-ae91-4e65-bf2c-cc9353c24997___MGTheme---GridStyles\":{\"id\":\"4d7c84cf-ae91-4e65-bf2c-cc9353c24997\",\"decorators\":[\"MGTheme\",\"GridStyles\"]}}},{\"nodes\":[],\"data\":[],\"hierarchy\":{},\"dedupeGroups\":{},\"components\":{\"code___decoratedComponent___4d7c84cf-ae91-4e65-bf2c-cc9353c24997___MGTheme---GridStyles\":{\"id\":\"4d7c84cf-ae91-4e65-bf2c-cc9353c24997\",\"decorators\":[\"MGTheme\",\"GridStyles\"]}}}]},\"0.0.0\":{\"component\":{\"id\":\"4d7c84cf-ae91-4e65-bf2c-cc9353c24997\",\"options\":{\"variant\":\"bottom\",\"headline\":\"\",\"legend\":\"Stay up to date with Mansion Global newsletters\",\"rootDomain\":\"https://www.mansionglobal.com\",\"module\":\"article inline bottom\"},\"acceptsTypes\":{},\"isConditional\":false,\"$context\":{},\"decorators\":[\"MGTheme\",\"GridStyles\"]},\"treeOrder\":3,\"name\":\"0.0.0\",\"hierarchy\":\"0\"},\"0.0\":{\"component\":{\"id\":\"275181c7-8620-4df3-a008-d0cd9937db22\",\"acceptsTypes\":{},\"isConditional\":false,\"$context\":{},\"decorators\":[\"MGTheme\",\"GridStyles\"]},\"children\":[\"0.0.0\"],\"treeOrder\":2,\"name\":\"0.0\",\"hierarchy\":\"0\"},\"0.1.0\":{\"component\":{\"id\":\"4d7c84cf-ae91-4e65-bf2c-cc9353c24997\",\"options\":{\"variant\":\"bottom\",\"headline\":\"\",\"legend\":\"Stay up to date with Mansion Global newsletters\",\"rootDomain\":\"https://www.mansionglobal.com\",\"module\":\"article inline bottom\"},\"acceptsTypes\":{},\"isConditional\":false,\"$context\":{},\"decorators\":[\"MGTheme\",\"GridStyles\"]},\"treeOrder\":5,\"name\":\"0.1.0\",\"hierarchy\":\"0\"},\"0.1\":{\"component\":{\"id\":\"275181c7-8620-4df3-a008-d0cd9937db22\",\"acceptsTypes\":{},\"isConditional\":false,\"$context\":{},\"decorators\":[\"MGTheme\",\"GridStyles\"]},\"children\":[\"0.1.0\"],\"treeOrder\":4,\"name\":\"0.1\",\"hierarchy\":\"0\"},\"0.2.0\":{\"component\":{\"id\":\"4d7c84cf-ae91-4e65-bf2c-cc9353c24997\",\"options\":{\"variant\":\"bottom\",\"headline\":\"\",\"legend\":\"Stay up to date with Mansion Global newsletters\",\"rootDomain\":\"https://www.mansionglobal.com\",\"module\":\"article inline bottom\"},\"acceptsTypes\":{},\"isConditional\":false,\"$context\":{},\"decorators\":[\"MGTheme\",\"GridStyles\"]},\"treeOrder\":7,\"name\":\"0.2.0\",\"hierarchy\":\"0\"},\"0.2\":{\"component\":{\"id\":\"275181c7-8620-4df3-a008-d0cd9937db22\",\"acceptsTypes\":{},\"isConditional\":false,\"$context\":{},\"decorators\":[\"MGTheme\",\"GridStyles\"]},\"children\":[\"0.2.0\"],\"treeOrder\":6,\"name\":\"0.2\",\"hierarchy\":\"0\"},\"0.3.0\":{\"component\":{\"id\":\"4d7c84cf-ae91-4e65-bf2c-cc9353c24997\",\"options\":{\"variant\":\"bottom\",\"headline\":\"\",\"legend\":\"Stay up to date with Mansion Global newsletters\",\"rootDomain\":\"https://www.mansionglobal.com\",\"module\":\"article inline bottom\"},\"acceptsTypes\":{},\"isConditional\":false,\"$context\":{},\"decorators\":[\"MGTheme\",\"GridStyles\"]},\"treeOrder\":9,\"name\":\"0.3.0\",\"hierarchy\":\"0\"},\"0.3\":{\"component\":{\"id\":\"275181c7-8620-4df3-a008-d0cd9937db22\",\"acceptsTypes\":{},\"isConditional\":false,\"$context\":{},\"decorators\":[\"MGTheme\",\"GridStyles\"]},\"children\":[\"0.3.0\"],\"treeOrder\":8,\"name\":\"0.3\",\"hierarchy\":\"0\"}},\"root\":\"0\",\"states\":{\"nodes\":[],\"data\":[],\"hierarchy\":{},\"dedupeGroups\":{},\"components\":{\"code___decoratedComponent___c8882c9c-15d3-4d1f-9b0e-81b6f321365d___MGTheme---GridStyles\":{\"id\":\"c8882c9c-15d3-4d1f-9b0e-81b6f321365d\",\"decorators\":[\"MGTheme\",\"GridStyles\"]},\"code___decoratedComponent___275181c7-8620-4df3-a008-d0cd9937db22___MGTheme---GridStyles\":{\"id\":\"275181c7-8620-4df3-a008-d0cd9937db22\",\"decorators\":[\"MGTheme\",\"GridStyles\"]}},\"children\":[\"0\"]},\"refreshInterval\":null},\"currentState\":{\"data\":[],\"nodes\":{\"0\":{\"query\":{},\"$content\":\"\",\"state\":3}},\"hierarchy\":{},\"dedupeGroups\":{},\"components\":{\"code___decoratedComponent___c8882c9c-15d3-4d1f-9b0e-81b6f321365d___MGTheme---GridStyles\":{\"id\":\"c8882c9c-15d3-4d1f-9b0e-81b6f321365d\",\"decorators\":[\"MGTheme\",\"GridStyles\"]},\"code___decoratedComponent___275181c7-8620-4df3-a008-d0cd9937db22___MGTheme---GridStyles\":{\"id\":\"275181c7-8620-4df3-a008-d0cd9937db22\",\"decorators\":[\"MGTheme\",\"GridStyles\"]},\"code___decoratedComponent___4d7c84cf-ae91-4e65-bf2c-cc9353c24997___MGTheme---GridStyles\":{\"id\":\"4d7c84cf-ae91-4e65-bf2c-cc9353c24997\",\"decorators\":[\"MGTheme\",\"GridStyles\"]}}}}\n",
      "</script>\n",
      "\n",
      "<div id=\"webui-newsletter-bottom-column\"><div class=\"\"><div class=\"\"><div class=\"\"><div class=\"style--newsletter-signup-bottom-3_7aijvT1rIaZTkEfcAq63 \"><h3 class=\"style--newsletter-sign-up-bottom-header-2mLLF35-UDIh1UD1kWjbE0 typography--serif-q8PKfIJF8Owdyq4cmLKnJ \">Stay up to date with Mansion Global newsletters</h3><button class=\"style--newsletter-sign-up-submit-button-3RF0t163gCEcB2DE2sGeuG typography--sans-serif-sJbsWeUF0DMCtApmZAdli \">Sign Up</button></div></div></div></div></div>\n",
      "\n",
      "</div> <!-- data-module-name=\"article.app/lib/webui/modules/mg/newsletterBottomColumn\" -->\n",
      "\n",
      "              </div>\n"
     ]
    }
   ],
   "source": [
    "# url 97\n",
    "i = urls[96]\n",
    "#open_url(i)\n",
    "element = driver.find_element_by_css_selector('article.article > div:nth-child(2) > div:nth-child(1) > div:nth-child(3)')\n",
    "source = element.get_attribute(\"outerHTML\")\n",
    "print(source)\n",
    "data.append({\"TYPE\" : ad_type, \"ad_code\" : source, \"URL\" : i})"
   ]
  },
  {
   "cell_type": "code",
   "execution_count": 632,
   "metadata": {
    "collapsed": true
   },
   "outputs": [
    {
     "name": "stdout",
     "output_type": "stream",
     "text": [
      "<div class=\"bh_ad_container\">\n",
      "\n",
      "<div data-module-id=\"23\" data-module-name=\"article.app/lib/webui/modules/mg/berkshireHathaway\" data-module-zone=\"webUi_berkshireHathaway\" class=\"zonedModule\">\n",
      "<script>\n",
      "  window.INITIAL_PROPS_BERKSHIRE_HATHAWAY = {\"data\":{},\"id\":\"mg/berkshireHathaway\",\"context\":null,\"package\":{\"accessedContext\":[],\"nodes\":{\"0\":{\"component\":{\"id\":\"275181c7-8620-4df3-a008-d0cd9937db22\",\"acceptsTypes\":{},\"isConditional\":false,\"$context\":{},\"decorators\":[\"MGTheme\",\"GridStyles\"]},\"children\":[\"0.0\"],\"treeOrder\":1,\"name\":\"0\",\"hierarchy\":\"0\"},\"0.0\":{\"component\":{\"id\":\"55d9f697-d34b-4336-8762-2209402b89d0\",\"acceptsTypes\":{},\"isConditional\":false,\"$context\":{},\"decorators\":[\"MGTheme\",\"GridStyles\"]},\"treeOrder\":2,\"name\":\"0.0\",\"hierarchy\":\"0\"}},\"root\":\"0\",\"states\":{\"nodes\":[],\"data\":[],\"hierarchy\":{},\"dedupeGroups\":{},\"components\":{\"code___decoratedComponent___275181c7-8620-4df3-a008-d0cd9937db22___MGTheme---GridStyles\":{\"id\":\"275181c7-8620-4df3-a008-d0cd9937db22\",\"decorators\":[\"MGTheme\",\"GridStyles\"]},\"code___decoratedComponent___55d9f697-d34b-4336-8762-2209402b89d0___MGTheme---GridStyles\":{\"id\":\"55d9f697-d34b-4336-8762-2209402b89d0\",\"decorators\":[\"MGTheme\",\"GridStyles\"]}}},\"refreshInterval\":null},\"currentState\":{\"data\":[],\"nodes\":{},\"hierarchy\":{},\"dedupeGroups\":{},\"components\":{\"code___decoratedComponent___275181c7-8620-4df3-a008-d0cd9937db22___MGTheme---GridStyles\":{\"id\":\"275181c7-8620-4df3-a008-d0cd9937db22\",\"decorators\":[\"MGTheme\",\"GridStyles\"]},\"code___decoratedComponent___55d9f697-d34b-4336-8762-2209402b89d0___MGTheme---GridStyles\":{\"id\":\"55d9f697-d34b-4336-8762-2209402b89d0\",\"decorators\":[\"MGTheme\",\"GridStyles\"]}}}}\n",
      "</script>\n",
      "\n",
      "<div id=\"webui-berkshire-hathaway\"><div class=\"\"><div class=\"\"><div class=\"style--berkshire-3McyUkFUxfWJo-mgCU7gtw \" data-test=\"locale_en_US\"><iframe src=\"https://mansionglobal.com/widgets/berkshire_hathaway?embed=1\" scrolling=\"no\"></iframe></div></div></div></div>\n",
      "\n",
      "</div> <!-- data-module-name=\"article.app/lib/webui/modules/mg/berkshireHathaway\" -->\n",
      "\n",
      "      </div>\n"
     ]
    }
   ],
   "source": [
    "# url 98\n",
    "i = urls[97]\n",
    "#open_url(i)\n",
    "element = driver.find_element_by_css_selector('.bh_ad_container')\n",
    "source = element.get_attribute(\"outerHTML\")\n",
    "print(source)\n",
    "data.append({\"TYPE\" : ad_type, \"ad_code\" : source, \"URL\" : i})"
   ]
  },
  {
   "cell_type": "code",
   "execution_count": 636,
   "metadata": {
    "collapsed": true
   },
   "outputs": [
    {
     "name": "stdout",
     "output_type": "stream",
     "text": [
      "<div id=\"billboard1-dynamic_1-0\" class=\"comp billboard1-dynamic mntl-gpt-dynamic-adunit mntl-gpt-adunit gpt billboard dynamic is_stuck\" data-ad-width=\"300\" data-ad-height=\"250\" style=\"position: fixed; top: 80px; width: 300px;\">\n",
      "<div id=\"billboard\" class=\"wrapper\" data-type=\"billboard\" data-pos=\"atf\" data-priority=\"2\" data-sizes=\"[[300, 250], [300, 600], [300, 1050], [1, 2], &quot;fluid&quot;]\" data-rtb=\"true\" data-targeting=\"{}\" data-auction-floor-id=\"433bda80bf2e4d1684323f0653703042\" data-auction-floor-value=\"25\" data-google-query-id=\"CI6944nU0ucCFRQlKgod44MLpw\"><div id=\"google_ads_iframe_/479/thespruce/spr_landscaping/billboard_0__container__\" style=\"border: 0pt none; padding-top: 0px;\"><iframe id=\"google_ads_iframe_/479/thespruce/spr_landscaping/billboard_0\" title=\"3rd party ad content\" name=\"google_ads_iframe_/479/thespruce/spr_landscaping/billboard_0\" scrolling=\"no\" marginwidth=\"0\" marginheight=\"0\" style=\"border: 0px none; vertical-align: bottom;\" srcdoc=\"\" data-google-container-id=\"1\" data-load-complete=\"true\" width=\"300\" height=\"250\" frameborder=\"0\"></iframe></div></div>\n",
      "</div>\n"
     ]
    }
   ],
   "source": [
    "# url 99\n",
    "i = urls[98]\n",
    "#open_url(i)\n",
    "element = driver.find_element_by_css_selector('#billboard1-dynamic_1-0')\n",
    "source = element.get_attribute(\"outerHTML\")\n",
    "print(source)\n",
    "data.append({\"TYPE\" : ad_type, \"ad_code\" : source, \"URL\" : i})"
   ]
  },
  {
   "cell_type": "code",
   "execution_count": 638,
   "metadata": {
    "collapsed": true
   },
   "outputs": [
    {
     "name": "stdout",
     "output_type": "stream",
     "text": [
      "<div id=\"leaderboard-post-content_1-0\" class=\"comp has-right-label js-lazy-ad leaderboard-post-content leaderboard--lazy mntl-lazy-flexible-ad mntl-flexible-ad mntl-gpt-adunit gpt leaderboard dynamic is-requested\" data-offset=\"400\" data-ad-width=\"728\" data-ad-height=\"90\">\n",
      "<div id=\"leaderboardac\" class=\"wrapper\" data-type=\"leaderboard\" data-pos=\"ac\" data-priority=\"10\" data-sizes=\"[[728, 90], [970, 250], [1200, 450], [1,11], &quot;fluid&quot;]\" data-rtb=\"true\" data-targeting=\"{}\" data-auction-floor-id=\"f3b62d94e1b6406e9ea39be248fd5081\" data-auction-floor-value=\"75\" data-google-query-id=\"CLaXtr_U0ucCFQc5lgodM3gHKw\"><div id=\"google_ads_iframe_/479/thespruce/spr_landscaping/leaderboardac_0__container__\" style=\"border: 0pt none; padding-top: 0px;\"><iframe id=\"google_ads_iframe_/479/thespruce/spr_landscaping/leaderboardac_0\" title=\"3rd party ad content\" name=\"google_ads_iframe_/479/thespruce/spr_landscaping/leaderboardac_0\" scrolling=\"no\" marginwidth=\"0\" marginheight=\"0\" style=\"border: 0px none; vertical-align: bottom;\" srcdoc=\"\" data-google-container-id=\"a\" data-load-complete=\"true\" width=\"728\" height=\"90\" frameborder=\"0\"></iframe></div></div>\n",
      "</div>\n"
     ]
    }
   ],
   "source": [
    "# url 100\n",
    "i = urls[99]\n",
    "#open_url(i)\n",
    "element = driver.find_element_by_css_selector('#leaderboard-post-content_1-0')\n",
    "source = element.get_attribute(\"outerHTML\")\n",
    "print(source)\n",
    "data.append({\"TYPE\" : ad_type, \"ad_code\" : source, \"URL\" : i})"
   ]
  },
  {
   "cell_type": "code",
   "execution_count": 640,
   "metadata": {
    "collapsed": true
   },
   "outputs": [
    {
     "name": "stdout",
     "output_type": "stream",
     "text": [
      "<div class=\"photo-info-boxes large\" href=\"#\" style=\"margin-left: 0; border: none; margin-top: 22px; background-color: #e5e5e5; border-radius: 9px; padding: 1em;\">\n",
      "\t\t<span class=\"big-title\" style=\"line-height: 20px;\">Find a Local Concrete Contractor</span>\n",
      "\t\t<span class=\"info-box-desc-text\" style=\"color: #616161;\"><strong>See contractor photos &amp; info in your area on ConcreteNetwork.com</strong></span>\n",
      "\n",
      "\t\t<form action=\"https://www.concretenetwork.com/contractors/search\" target=\"_blank\" style=\"margin:0; margin-top: 8px;\">\n",
      "  \t\t  <input type=\"text\" name=\"search\" value=\"\" class=\"placeholder geotarget mobileInput\" data-geotext=\"{City}, {State}\" size=\"14\" style=\"height: 29px; width: 121px; font-size: 12px; padding:8px 12px 8px 8px;vertical-align:middle; border: 0; border-radius: 5px;\"><input alt=\"Go\" class=\"go-btn\" src=\"/img/go-photo2.jpg\" type=\"image\" style=\"border: none; width: 65px; height: 45px; padding: 0;vertical-align:middle; margin-left: -3px;\" border=\"0\">\n",
      "\t\t</form>\n",
      "\n",
      "\t\t<span class=\"info-box-desc-text\" style=\"color: #616161; font-size: 10px;\"><strong>Search by city/state or postal code</strong></span>\n",
      "\n",
      "\t</div>\n"
     ]
    }
   ],
   "source": [
    "# url 101\n",
    "i = urls[100]\n",
    "#open_url(i)\n",
    "element = driver.find_element_by_css_selector('.photo-info-boxes')\n",
    "source = element.get_attribute(\"outerHTML\")\n",
    "print(source)\n",
    "data.append({\"TYPE\" : ad_type, \"ad_code\" : source, \"URL\" : i})"
   ]
  },
  {
   "cell_type": "code",
   "execution_count": 25,
   "metadata": {
    "collapsed": true
   },
   "outputs": [
    {
     "name": "stdout",
     "output_type": "stream",
     "text": [
      "<div class=\"slot-topOfSidebar\" style=\"position: relative; box-sizing: border-box; height: 630px; margin: 0px auto 20px; text-align: center; pointer-events: none; transform: none; display: block; contain: layout; width: 300px; background-color: rgb(237, 237, 237);\"><div class=\"advertisement-label\" style=\"font-size: 12px; width: 100%; height: 30px; text-align: center; line-height: 30px;\">Advertisement</div><div class=\"jifevrjdmjfzqewp\" style=\"flex-flow: row nowrap; justify-content: center; align-items: center; position: relative;\"><div style=\"box-sizing: border-box; pointer-events: none; width: 100%; position: relative; left: 0px; top: 0px;\"><div class=\"bordeaux-outer-box\" style=\"display: flex; flex-flow: row nowrap; justify-content: center; contain: none; pointer-events: auto; width: 300px; height: 600px;\"><div class=\"bordeaux-inner-box\"><div style=\"position: relative; contain: none; box-sizing: border-box; display: flex; flex-flow: row wrap; align-items: center; justify-content: center;\"><div id=\"mpu1\" style=\"width: 100%; height: 100%;\" data-google-query-id=\"CIWAx-3T4OcCFQYolgodD08IvQ\"><div id=\"google_ads_iframe_10518929/Science_LiveScience/article_1__container__\" style=\"border: 0pt none; margin: auto; text-align: center;\"><iframe id=\"google_ads_iframe_10518929/Science_LiveScience/article_1\" title=\"3rd party ad content\" name=\"google_ads_iframe_10518929/Science_LiveScience/article_1\" scrolling=\"no\" marginwidth=\"0\" marginheight=\"0\" style=\"border: 0px none; vertical-align: bottom;\" srcdoc=\"\" sandbox=\"allow-forms allow-pointer-lock allow-popups allow-popups-to-escape-sandbox allow-same-origin allow-scripts allow-top-navigation-by-user-activation\" data-google-container-id=\"2\" data-load-complete=\"true\" width=\"300\" height=\"600\" frameborder=\"0\"></iframe></div></div></div></div></div></div></div></div>\n"
     ]
    }
   ],
   "source": [
    "# url 102\n",
    "i = urls[101]\n",
    "#open_url(i)\n",
    "element = driver.find_element_by_css_selector('.slot-topOfSidebar')\n",
    "source = element.get_attribute(\"outerHTML\")\n",
    "print(source)\n",
    "data.append({\"TYPE\" : ad_type, \"ad_code\" : source, \"URL\" : i})"
   ]
  },
  {
   "cell_type": "code",
   "execution_count": 28,
   "metadata": {
    "collapsed": true
   },
   "outputs": [
    {
     "name": "stdout",
     "output_type": "stream",
     "text": [
      "<section class=\"box newsletter-signup\">\n",
      "<h3 class=\"separator-heading\">\n",
      "<span>\n",
      "<i class=\"icon icon-envelope white\"></i><span class=\"newsletter-title\">Sign Up for e-mail newsletters</span>\n",
      "</span>\n",
      "</h3>\n",
      "<div class=\"grey-box\">\n",
      "<p>Get breaking science news on monster snakes and dinosaurs, aliens, spooky particles and more!</p>\n",
      "<iframe style=\"width:100%\" sandbox=\"allow-scripts allow-forms\" data-lazy-src=\"https://futureplc.slgnt.eu/optiext/optiextension.dll?ID=s6XsWnyjpNGgHmS9IDSe4kGMs9Z0hv5kXjNQUQiRO2tDkDpIITWHetB5caZtol9br5fEOvs9fVr9oPM92i&amp;BRAND=LVS\" data-lazy-priority=\"low\" scrolling=\"no\" data-lazy-report=\"lazily loaded with low priority\" src=\"https://futureplc.slgnt.eu/optiext/optiextension.dll?ID=s6XsWnyjpNGgHmS9IDSe4kGMs9Z0hv5kXjNQUQiRO2tDkDpIITWHetB5caZtol9br5fEOvs9fVr9oPM92i&amp;BRAND=LVS\" height=\"100\">\n",
      "</iframe>\n",
      "<footer>\n",
      "<small>No spam, we promise. You can unsubscribe at any time and we'll never share your details without your permission.</small>\n",
      "</footer>\n",
      "</div>\n",
      "</section>\n"
     ]
    }
   ],
   "source": [
    "# url 103\n",
    "i = urls[102]\n",
    "#open_url(i)\n",
    "element = driver.find_element_by_css_selector('section.box')\n",
    "source = element.get_attribute(\"outerHTML\")\n",
    "print(source)\n",
    "data.append({\"TYPE\" : ad_type, \"ad_code\" : source, \"URL\" : i})"
   ]
  },
  {
   "cell_type": "code",
   "execution_count": 30,
   "metadata": {
    "collapsed": true
   },
   "outputs": [
    {
     "name": "stdout",
     "output_type": "stream",
     "text": [
      "<div class=\"slot-single-height-0-598\" style=\"position: relative; box-sizing: border-box; height: 280px; margin: 5px -325px 10px 25px; text-align: center; pointer-events: none; transform: none; display: block; contain: layout; float: right; width: 300px; background-color: rgb(237, 237, 237);\"><div class=\"advertisement-label\" style=\"font-size: 12px; width: 100%; height: 30px; text-align: center; line-height: 30px;\">Advertisement</div><div class=\"coqxqmpmyozwyzdc\" style=\"flex-flow: row nowrap; justify-content: center; align-items: center; position: relative;\"><div style=\"box-sizing: border-box; pointer-events: none; width: 100%; position: relative; left: 0px; top: 0px;\"><div class=\"bordeaux-outer-box\" style=\"display: flex; flex-flow: row nowrap; justify-content: center; contain: none; pointer-events: auto; width: 300px; height: 250px;\"><div class=\"bordeaux-inner-box\"><div style=\"position: relative; contain: none; box-sizing: border-box; display: flex; flex-flow: row wrap; align-items: center; justify-content: center;\"><div id=\"incr-mpu2\" style=\"width: 100%; height: 100%;\" data-google-query-id=\"CNChr-zU4OcCFZC8lgod6fkHOA\"><div id=\"google_ads_iframe_10518929/Science_LiveScience/article_18__container__\" style=\"border: 0pt none; margin: auto; text-align: center;\"><iframe id=\"google_ads_iframe_10518929/Science_LiveScience/article_18\" title=\"3rd party ad content\" name=\"google_ads_iframe_10518929/Science_LiveScience/article_18\" scrolling=\"no\" marginwidth=\"0\" marginheight=\"0\" style=\"border: 0px none; vertical-align: bottom;\" srcdoc=\"\" data-google-container-id=\"j\" data-load-complete=\"true\" width=\"300\" height=\"251\" frameborder=\"0\"></iframe></div></div></div></div></div></div></div></div>\n"
     ]
    }
   ],
   "source": [
    "# url 104\n",
    "i = urls[103]\n",
    "#open_url(i)\n",
    "element = driver.find_element_by_css_selector('.slot-single-height-0-598')\n",
    "source = element.get_attribute(\"outerHTML\")\n",
    "print(source)\n",
    "data.append({\"TYPE\" : ad_type, \"ad_code\" : source, \"URL\" : i})"
   ]
  },
  {
   "cell_type": "code",
   "execution_count": 32,
   "metadata": {
    "collapsed": true
   },
   "outputs": [
    {
     "name": "stdout",
     "output_type": "stream",
     "text": [
      "<form style=\"border:none; margin:0px; padding:0px; background:#272f3b;\" action=\"https://spellmanhv.us3.list-manage.com/subscribe/post\" method=\"post\" id=\"mc-embedded-subscribe-form\" name=\"mc-embedded-subscribe-form\" target=\"_blank\" novalidate=\"novalidate\">\n",
      "        <input type=\"hidden\" name=\"u\" value=\"227cebe2070d531e265d73047\">\n",
      "        <input type=\"hidden\" name=\"id\" value=\"f7ae92617c\">\n",
      "        <div class=\"container\">\n",
      "            <div class=\"row\" style=\"text-align:center;\">\n",
      "                <div class=\"col-sm-12\">\n",
      "                    <label style=\"max-width:100%;\" for=\"mce-EMAIL\"><h3>뉴스레터 구독하기</h3></label>\n",
      "                </div>\n",
      "            </div>\n",
      "            <div class=\"row\" style=\"text-align:center;\">\n",
      "                <div class=\"hidden-xs col-sm-2\">\n",
      "                    &nbsp;\n",
      "                </div>\n",
      "                <div class=\"col-sm-8\">\n",
      "                    <input style=\"width:100%;height:40px; margin-bottom:10px; padding-left:15px;\" type=\"email\" value=\"\" name=\"EMAIL\" class=\"email\" id=\"mce-EMAIL\" placeholder=\"최신 제품 및 산업 정보를 원하시면 이메일을 입력하십시오.\" required=\"\" aria-required=\"true\">\n",
      "                </div>\n",
      "                <div class=\"hidden-xs col-sm-2\">\n",
      "                    &nbsp;\n",
      "                </div>\n",
      "            </div>\n",
      "            <div class=\"row\" style=\"text-align:center;\">\n",
      "                <div class=\"col-sm-12\">\n",
      "                    <div style=\"position: absolute; left: -5000px;\" aria-hidden=\"true\"><input type=\"text\" name=\"b_227cebe2070d531e265d73047_0ebd418663\" tabindex=\"-1\" value=\"\"></div>\n",
      "                    <div class=\"get-quote margin-top-10\" style=\"clear:both;\">\n",
      "                        <button type=\"submit\" form=\"mc-embedded-subscribe-form\" value=\"submit\" class=\"btn btn-darkred-white-darkred\">구독하기</button>\n",
      "                    </div>\n",
      "                </div>\n",
      "            </div>\n",
      "        </div>\n",
      "    </form>\n"
     ]
    }
   ],
   "source": [
    "# url 105\n",
    "i = urls[104]\n",
    "#open_url(i)\n",
    "element = driver.find_element_by_css_selector('#mc-embedded-subscribe-form')\n",
    "source = element.get_attribute(\"outerHTML\")\n",
    "print(source)\n",
    "data.append({\"TYPE\" : ad_type, \"ad_code\" : source, \"URL\" : i})"
   ]
  },
  {
   "cell_type": "code",
   "execution_count": 34,
   "metadata": {
    "collapsed": true
   },
   "outputs": [
    {
     "name": "stdout",
     "output_type": "stream",
     "text": [
      "<div data-ad-container=\"true\" class=\"adContainer--6CVz1 horizontal\"><span class=\"adLabel--35hfi\">Advertisement</span><ins class=\"adsbygoogle\" data-ad-client=\"ca-pub-7093273770345366\" style=\"display:inline-block;width:300px;height:250px\" data-ad-slot=\"3516331235\" data-adsbygoogle-status=\"done\"><ins id=\"aswift_2_expand\" style=\"display:inline-table;border:none;height:250px;margin:0;padding:0;position:relative;visibility:visible;width:300px;background-color:transparent;\"><ins id=\"aswift_2_anchor\" style=\"display:block;border:none;height:250px;margin:0;padding:0;position:relative;visibility:visible;width:300px;background-color:transparent;\"><iframe marginwidth=\"0\" marginheight=\"0\" vspace=\"0\" hspace=\"0\" allowtransparency=\"true\" scrolling=\"no\" allowfullscreen=\"true\" onload=\"var i=this.id,s=window.google_iframe_oncopy,H=s&amp;&amp;s.handlers,h=H&amp;&amp;H[i],w=this.contentWindow,d;try{d=w.document}catch(e){}if(h&amp;&amp;d&amp;&amp;(!d.body||!d.body.firstChild)){if(h.call){setTimeout(h,0)}else if(h.match){try{h=s.upd(h,i)}catch(e){}w.location.replace(h)}}\" id=\"aswift_2\" name=\"aswift_2\" style=\"left:0;position:absolute;top:0;border:0px;width:300px;height:250px;\" width=\"300\" height=\"250\" frameborder=\"0\"></iframe></ins></ins></ins></div>\n"
     ]
    }
   ],
   "source": [
    "# url 106\n",
    "i = urls[105]\n",
    "#open_url(i)\n",
    "element = driver.find_element_by_css_selector('div.horizontal:nth-child(1)')\n",
    "source = element.get_attribute(\"outerHTML\")\n",
    "print(source)\n",
    "data.append({\"TYPE\" : ad_type, \"ad_code\" : source, \"URL\" : i})"
   ]
  },
  {
   "cell_type": "code",
   "execution_count": 36,
   "metadata": {
    "collapsed": true
   },
   "outputs": [
    {
     "name": "stdout",
     "output_type": "stream",
     "text": [
      "<div class=\"container-gas container-gas-leaderboard middle flex flex-dir-col flex-align-center flex-justify-center\">\n",
      "    <span class=\"gas-label\">ADVERTISEMENT</span>\n",
      "    <div class=\"gas-leaderboard\" style=\"height: auto !important;\">\n",
      "        \n",
      "    <div style=\"height: auto !important;\">\n",
      "        <ins class=\"adsbygoogle\" style=\"display:inline-block;min-width:320px;max-width:1200px;width:100%;height:90px\" data-ad-client=\"ca-pub-5077429869863377\" data-ad-slot=\"3712925246\" data-ad-format=\"horizontal\" data-full-width-responsive=\"true\" data-adsbygoogle-status=\"done\"><ins id=\"aswift_1_expand\" style=\"display:inline-table;border:none;height:90px;margin:0;padding:0;position:relative;visibility:visible;width:728px;background-color:transparent;\"><ins id=\"aswift_1_anchor\" style=\"display:block;border:none;height:90px;margin:0;padding:0;position:relative;visibility:visible;width:728px;background-color:transparent;\"><iframe marginwidth=\"0\" marginheight=\"0\" vspace=\"0\" hspace=\"0\" allowtransparency=\"true\" scrolling=\"no\" allowfullscreen=\"true\" onload=\"var i=this.id,s=window.google_iframe_oncopy,H=s&amp;&amp;s.handlers,h=H&amp;&amp;H[i],w=this.contentWindow,d;try{d=w.document}catch(e){}if(h&amp;&amp;d&amp;&amp;(!d.body||!d.body.firstChild)){if(h.call){setTimeout(h,0)}else if(h.match){try{h=s.upd(h,i)}catch(e){}w.location.replace(h)}}\" id=\"aswift_1\" name=\"aswift_1\" style=\"left: 0px; position: absolute; top: 0px; border: 0px none; width: 728px; height: 90px; overflow: visible;\" width=\"728\" height=\"90\" frameborder=\"0\"></iframe></ins></ins></ins>\n",
      "        <script>\n",
      "            (adsbygoogle = window.adsbygoogle || []).push({});\n",
      "        </script>\n",
      "    </div>\n",
      "\n",
      "    </div>    \n",
      "</div>\n"
     ]
    }
   ],
   "source": [
    "# url 107\n",
    "i = urls[106]\n",
    "#open_url(i)\n",
    "element = driver.find_element_by_css_selector('div.container-gas:nth-child(2)')\n",
    "source = element.get_attribute(\"outerHTML\")\n",
    "print(source)\n",
    "data.append({\"TYPE\" : ad_type, \"ad_code\" : source, \"URL\" : i})"
   ]
  },
  {
   "cell_type": "code",
   "execution_count": 38,
   "metadata": {
    "collapsed": true
   },
   "outputs": [
    {
     "name": "stdout",
     "output_type": "stream",
     "text": [
      "<div class=\"footer-newsletter-panel\"><div class=\"wrapper\"><div class=\"footer-newsletter-wrapper\"><form class=\"site-footer__subscribe newsletterSignUp\" novalidate=\"novalidate\" action=\"https://www.styletread.com.au/newsletter/subscriber/new/\" method=\"post\" id=\"newsletter-validate-detail\">\n",
      "    <input type=\"hidden\" name=\"form_key\" value=\"DQEBWveQYYPVczLx\">\n",
      "        <div style=\"display: none\">\n",
      "        <input type=\"text\" name=\"fdata\" id=\"fdata\" style=\"display: none\">\n",
      "        <label for=\"fdata\">data</label>\n",
      "    </div>\n",
      "    <h2 class=\"subscribe__label\" for=\"newsletter\"><span>STAY IN THE LOOP</span></h2>\n",
      "    <p>\n",
      "        <span class=\"newsletter-signup_line\">Subscribe to our newsletter to receive updates on new styles,</span>\n",
      "        <span class=\"newsletter-signup_line\">sales &amp; exclusives and get a $10 voucher for your first purchase.</span>\n",
      "    </p>\n",
      "    <ul class=\"site-footer__subscribe-container\">\n",
      "        <li class=\"site-footer__email-container\">\n",
      "            <input class=\"site-footer__subscribe-input\" name=\"email\" type=\"email\" id=\"newsletter\" placeholder=\"Email Address\" data-validate=\"{required:true, 'validate-email':true}\">\n",
      "            <!-- /li -->\n",
      "        </li><li class=\"site-footer__submit-container\">\n",
      "            <button class=\"site-footer__submit button button--border\" title=\"Sign Up\" type=\"submit\">\n",
      "                Subscribe            </button>\n",
      "            <!-- /li -->\n",
      "        </li><li class=\"newsletter-gender\">\n",
      "            <div class=\"newsletter-interests\">\n",
      "                <input type=\"radio\" class=\"input-checkbox validate-one-required\" id=\"womens-interest-checkbox\" name=\"gender\" value=\"2\">\n",
      "                <label class=\"womens-interest-checkbox\" for=\"womens-interest-checkbox\"><span> Womens</span></label>\n",
      "                <input type=\"radio\" class=\"input-checkbox\" id=\"mens-interest-checkbox\" name=\"gender\" value=\"1\">\n",
      "                <label for=\"mens-interest-checkbox\"><span>Mens</span></label>\n",
      "            </div>\n",
      "            <div class=\"newsletter-gender-error\"><span>Please select a gender.</span></div>\n",
      "        </li>\n",
      "    </ul>\n",
      "</form>\n",
      "\n",
      "<script>\n",
      "    require(['jquery', 'jquery/ui'], function($) {\n",
      "        $( document ).ready(function() {\n",
      "            // Footer Newsletter Gender\n",
      "            $(\".footer-newsletter-wrapper .site-footer__subscribe .site-footer__submit\").click(function () {\n",
      "                if ($(\".newsletter-interests .input-checkbox\").is(':checked')) {\n",
      "                    $('.site-footer__subscribe-container .newsletter-gender .newsletter-gender-error').css('display', 'none');\n",
      "                }\n",
      "                else {\n",
      "                    event.preventDefault();\n",
      "                    $('.site-footer__subscribe-container .newsletter-gender .newsletter-gender-error').css('display', 'block');\n",
      "                }\n",
      "            });\n",
      "        });\n",
      "    });\n",
      "</script></div><div class=\"footer-social-wrapper\"><style xml=\"space\"><!--\n",
      ".footer-social-block .social-links a span {\n",
      "   display: none;\n",
      "}\n",
      "#footer-seo-wrapper {\n",
      "   background-color: #FFF;\n",
      "}\n",
      ".footer-newsletter-panel .footer-newsletter-panel-divider {\n",
      "   display: none;\n",
      "}\n",
      "--></style>\n",
      "<div class=\"footer-social-block\">\n",
      "<h3><span>The Social Tread</span></h3>\n",
      "<p>There is too much shoe business going on at Styletread to keep it all on this site. Keep up with all things shoe related here:</p>\n",
      "<div class=\"social-links\"><a class=\"facebook-icon\" title=\"facebook\" href=\"http://www.facebook.com/StyleTread\" target=\"_blank\"> <img src=\"https://www.styletread.com.au/media/wysiwyg/Styletread/cms-content/facebook.png\" alt=\"Facebook\"></a> <a class=\"instagram-icon\" title=\"instagram\" href=\"http://instagram.com/styletread#\" target=\"_blank\"> <img src=\"https://www.styletread.com.au/media/wysiwyg/Styletread/cms-content/instagram.png\" alt=\"Instagram\"></a></div>\n",
      "</div></div><div class=\"footer-newsletter-panel-divider\"></div></div></div>\n"
     ]
    }
   ],
   "source": [
    "# url 108\n",
    "i = urls[107]\n",
    "#open_url(i)\n",
    "element = driver.find_element_by_css_selector('.footer-newsletter-panel')\n",
    "source = element.get_attribute(\"outerHTML\")\n",
    "print(source)\n",
    "data.append({\"TYPE\" : ad_type, \"ad_code\" : source, \"URL\" : i})"
   ]
  },
  {
   "cell_type": "code",
   "execution_count": 41,
   "metadata": {
    "collapsed": true
   },
   "outputs": [
    {
     "name": "stdout",
     "output_type": "stream",
     "text": [
      "<section class=\"ad side-advertising-1\">\n",
      "                        <div class=\"advertisement-300x600 text-center\">\n",
      "                            <div id=\"dfpMultiflexBigBox-911699982\" class=\"dfp-multiflex-bigbox dfp-ad desktop-top-ad ad-desktop position-applied\" data-size=\"dfpMultiflexBigBox\" data-position=\"\" data-tile=\"\" data-ajax-interval=\"\" data-is-empty=\"true\" data-google-query-id=\"CKCembjW4OcCFdC3lgod6b4EdA\">\n",
      "                            <div id=\"google_ads_iframe_/7548/GTVA_TVAP_STYLEATHOME_EN_WEB/homepage_2__container__\" style=\"border: 0pt none; width: 300px; height: 250px;\"></div></div>\n",
      "                        </div>\n",
      "                    </section>\n"
     ]
    }
   ],
   "source": [
    "# url 109\n",
    "i = urls[108]\n",
    "#open_url(i)\n",
    "element = driver.find_element_by_css_selector('.layout-2x2 > div:nth-child(1) > div:nth-child(2) > section:nth-child(1)')\n",
    "source = element.get_attribute(\"outerHTML\")\n",
    "print(source)\n",
    "data.append({\"TYPE\" : ad_type, \"ad_code\" : source, \"URL\" : i})"
   ]
  },
  {
   "cell_type": "code",
   "execution_count": 45,
   "metadata": {
    "collapsed": true
   },
   "outputs": [
    {
     "name": "stdout",
     "output_type": "stream",
     "text": [
      "<div class=\"admz\" id=\"adm-widget-dsk-tab-ros-rail-bottom\">\n",
      "\t\t\t\t\t<div class=\"adma google-publisher\" data-device=\"Desktop\" data-width=\"300\">\n",
      "\t\t\t\t\n",
      "<div class=\"pmc-adm-goog-pub-div ad-text\">\n",
      "\t<div id=\"gpt-dsk-tab-ros-railbottom-uid3\" class=\"ad-rotatable adw-300 adh-250\" data-google-query-id=\"CIK-n9nW4OcCFdUyKgod2U4CCQ\"><div id=\"google_ads_iframe_8352/RobbReport/ros/rightrail-bottom_0__container__\" style=\"border: 0pt none;\"><iframe id=\"google_ads_iframe_8352/RobbReport/ros/rightrail-bottom_0\" title=\"3rd party ad content\" name=\"google_ads_iframe_8352/RobbReport/ros/rightrail-bottom_0\" scrolling=\"no\" marginwidth=\"0\" marginheight=\"0\" style=\"border: 0px none; vertical-align: bottom;\" srcdoc=\"\" data-google-container-id=\"4\" data-load-complete=\"true\" data-integralas-id-76e34769-2024-17a6-9f52-c346dbc289a0=\"\" width=\"300\" height=\"250\" frameborder=\"0\"></iframe></div></div>\n",
      "\t\t</div>\n",
      "\t\t\t</div>\n",
      "\t\t\t\t</div>\n"
     ]
    }
   ],
   "source": [
    "# url 110\n",
    "i = urls[109]\n",
    "#open_url(i)\n",
    "element = driver.find_element_by_css_selector('#adm-widget-dsk-tab-ros-rail-bottom')\n",
    "source = element.get_attribute(\"outerHTML\")\n",
    "print(source)\n",
    "data.append({\"TYPE\" : ad_type, \"ad_code\" : source, \"URL\" : i})"
   ]
  },
  {
   "cell_type": "code",
   "execution_count": 47,
   "metadata": {
    "collapsed": true
   },
   "outputs": [
    {
     "name": "stdout",
     "output_type": "stream",
     "text": [
      "<div class=\"signup-newsletter\">\n",
      "\t<div class=\"header-subscribe__container-inner\" style=\"background-color:#e8e8e8\">\n",
      "\t\t\t<div class=\"header-get__magazine-container\">\n",
      "\t<div class=\"gtm-sub-cover\">\n",
      "\t<img src=\"https://robbreportedit.files.wordpress.com/2020/02/rr0220_cv1_sub_shadow-gray.jpg\" alt=\"magazine cover\" class=\"gtm-cover\">\n",
      "</div>\n",
      "\t<div class=\"gtm-sub-container\">\n",
      "\t\t<div class=\"subscription-header\"><p><span style=\"color:#000000;\"><strong>Get the Magazine</strong></span></p>\n",
      "</div>\n",
      "<div class=\"gtm-text\"><p>Order Robb Report today and <strong>save up to </strong><strong>70%</strong>. Plus, get digital access and <strong>a free tote bag!</strong></p>\n",
      "</div>\n",
      "\t\t<div class=\"gtm-content\">\n",
      "\t<a href=\"https://rbr.pcdfusion.com/pcd/Order?iKey=I**WRD\" class=\"button header-subscribe__subscribe\" style=\"background-color:#0071bd\"><p>SUBSCRIBE</p>\n",
      "</a>\n",
      "\t<a href=\"https://rbr.pcdfusion.com/pcd/Order?iKey=7**CS1\" class=\"header-subscribe__give-the-gift hide\"><span>Give the Gift of Luxury</span></a>\n",
      "</div>\n",
      "\t</div>\n",
      "</div>\n",
      "\t\t<div class=\"subscribe-newsletter subscribe-newsletter--river\">\n",
      "\t\t<h3>Newsletter</h3>\n",
      "\t\t<p>Sign up for our newsletter and go inside the world of luxury.</p>\n",
      "\t\t<form method=\"post\" action=\"https://pages.email.robbreport.com/signup\" name=\"newsletter-module-form\" class=\"subscribe-newsletter__form\" target=\"_blank\" data-inst-tracked=\"1\">\n",
      "\t\t\t<input type=\"email\" name=\"EmailAddress\" class=\"toolkitEmail subscribe-newsletter__email js-newsletter-email\" placeholder=\"Email address\" required=\"\">\n",
      "\t\t\t<span class=\"subscribe-newsletter__tooltip js-newsletter-tooltip\">Please fill out this field with valid email address.</span>\n",
      "\t\t\t<input type=\"hidden\" name=\"InsiderDaily_Opted_In\" value=\"Yes\">\n",
      "\t\t\t<input type=\"hidden\" name=\"InsiderWeekly_Opted_In\" value=\"Yes\">\n",
      "\t\t\t<input type=\"hidden\" name=\"__contextName\" id=\"__contextName\" value=\"FormPost\">\n",
      "\t\t\t<input type=\"hidden\" name=\"__executionContext\" id=\"__executionContext\" value=\"Post\">\n",
      "\t\t\t<input name=\"Travel_Opted_In\" value=\"Yes\" type=\"hidden\">\n",
      "\t\t\t<input name=\"SpecialOffers_Opted_In\" value=\"Yes\" type=\"hidden\">\n",
      "\t\t\t<input name=\"Promotions_Opted_In\" value=\"Yes\" type=\"hidden\">\n",
      "\t\t\t<input type=\"hidden\" name=\"__successPage\" id=\"__successPage\" value=\"https://pages.email.robbreport.com/signup/?signup=success&amp;email=\">\n",
      "\t\t\t<button class=\"subscribe-newsletter__submit js-newsletter-submit\" type=\"submit\">Submit</button>\n",
      "\t\t</form>\n",
      "\t</div>\n",
      "</div>\n",
      "</div>\n"
     ]
    }
   ],
   "source": [
    "# url 111\n",
    "i = urls[110]\n",
    "#open_url(i)\n",
    "element = driver.find_element_by_css_selector('.signup-newsletter')\n",
    "source = element.get_attribute(\"outerHTML\")\n",
    "print(source)\n",
    "data.append({\"TYPE\" : ad_type, \"ad_code\" : source, \"URL\" : i})"
   ]
  },
  {
   "cell_type": "code",
   "execution_count": 49,
   "metadata": {
    "collapsed": true
   },
   "outputs": [
    {
     "name": "stdout",
     "output_type": "stream",
     "text": [
      "<div class=\"vertical-ad feed-block-vertical-ad\">\n",
      "\t<div class=\"breaker-ad-text\">Advertisement - Continue Reading Below</div>\n",
      "\t<div id=\"gpt-ad-vertical-top\" class=\"ad-container\" style=\"min-height: 250px;\"><div class=\"bt\"><span class=\"bt-uid-tg\" data-uid=\"5b915ae022-213\" style=\"display: none !important;\"></span></div><div id=\"gpt_gal_a\" class=\"gpt-adslot noskim\" style=\"\" data-google-query-id=\"COrNgdTX4OcCFYqFlgodMpAO3Q\"><div id=\"google_ads_iframe_/36117602/hdm-cosmopolitan/homepage/atf_2__container__\" style=\"border: 0pt none;\"><iframe id=\"google_ads_iframe_/36117602/hdm-cosmopolitan/homepage/atf_2\" title=\"3rd party ad content\" name=\"google_ads_iframe_/36117602/hdm-cosmopolitan/homepage/atf_2\" scrolling=\"no\" marginwidth=\"0\" marginheight=\"0\" style=\"border: 0px none; vertical-align: bottom;\" srcdoc=\"\" data-google-container-id=\"5\" data-load-complete=\"true\" width=\"300\" height=\"250\" frameborder=\"0\"></iframe></div></div></div>\n",
      "</div>\n"
     ]
    }
   ],
   "source": [
    "# url 112\n",
    "i = urls[111]\n",
    "#open_url(i)\n",
    "element = driver.find_element_by_css_selector('div.feed-block-container:nth-child(2) > div:nth-child(1) > div:nth-child(1) > div:nth-child(1)')\n",
    "source = element.get_attribute(\"outerHTML\")\n",
    "print(source)\n",
    "data.append({\"TYPE\" : ad_type, \"ad_code\" : source, \"URL\" : i})"
   ]
  },
  {
   "cell_type": "code",
   "execution_count": 51,
   "metadata": {
    "collapsed": true
   },
   "outputs": [
    {
     "name": "stdout",
     "output_type": "stream",
     "text": [
      "<div class=\"vertical-ad feed-block-vertical-ad\">\n",
      "\t<div class=\"breaker-ad-text\">Advertisement - Continue Reading Below</div>\n",
      "\t<div id=\"gpt-ad-vertical-bottom\" class=\"ad-container\"><div class=\"bt\"><span class=\"bt-uid-tg\" data-uid=\"5bb767b7fc-213\" style=\"display: none !important;\"></span></div><div id=\"gpt_gal_b\" class=\"gpt-adslot noskim\" style=\"\" data-google-query-id=\"CIHp29zX4OcCFQmalgodpNUIxA\"><div id=\"google_ads_iframe_/36117602/hdm-cosmopolitan/homepage/btf_0__container__\" style=\"border: 0pt none;\"><iframe id=\"google_ads_iframe_/36117602/hdm-cosmopolitan/homepage/btf_0\" title=\"3rd party ad content\" name=\"google_ads_iframe_/36117602/hdm-cosmopolitan/homepage/btf_0\" scrolling=\"no\" marginwidth=\"0\" marginheight=\"0\" style=\"border: 0px none; vertical-align: bottom;\" srcdoc=\"\" data-google-container-id=\"3\" data-load-complete=\"true\" width=\"300\" height=\"251\" frameborder=\"0\"></iframe></div></div></div>\n",
      "</div>\n"
     ]
    }
   ],
   "source": [
    "# url 113\n",
    "i = urls[112]\n",
    "#open_url(i)\n",
    "element = driver.find_element_by_css_selector('div.feed-block-container:nth-child(6) > div:nth-child(1) > div:nth-child(1) > div:nth-child(1)')\n",
    "source = element.get_attribute(\"outerHTML\")\n",
    "print(source)\n",
    "data.append({\"TYPE\" : ad_type, \"ad_code\" : source, \"URL\" : i})"
   ]
  },
  {
   "cell_type": "code",
   "execution_count": 53,
   "metadata": {
    "collapsed": true
   },
   "outputs": [
    {
     "name": "stdout",
     "output_type": "stream",
     "text": [
      "<div class=\"breaker-ad custom-breaker-ad\">\n",
      "\t\t\t\t<div class=\"breaker-ad-text\">Advertisement - Continue Reading Below</div>\n",
      "\t\t<div id=\"gpt-ad-leaderboard-bottom\" class=\"ad-container\"><div id=\"gpt_lb_b\" class=\"gpt-adslot noskim\" style=\"\" data-google-query-id=\"CK_ByZXY4OcCFYPVTAIdSmwPVw\"><div id=\"google_ads_iframe_/36117602/hdm-elle/homepage/btf_1__container__\" style=\"border: 0pt none;\"><iframe id=\"google_ads_iframe_/36117602/hdm-elle/homepage/btf_1\" title=\"3rd party ad content\" name=\"google_ads_iframe_/36117602/hdm-elle/homepage/btf_1\" scrolling=\"no\" marginwidth=\"0\" marginheight=\"0\" style=\"border: 0px none; vertical-align: bottom;\" srcdoc=\"\" data-google-container-id=\"4\" data-load-complete=\"true\" width=\"728\" height=\"91\" frameborder=\"0\"></iframe></div></div></div>\n",
      "\t</div>\n"
     ]
    }
   ],
   "source": [
    "# url 114\n",
    "i = urls[113]\n",
    "#open_url(i)\n",
    "element = driver.find_element_by_css_selector('.breaker-ad')\n",
    "source = element.get_attribute(\"outerHTML\")\n",
    "print(source)\n",
    "data.append({\"TYPE\" : ad_type, \"ad_code\" : source, \"URL\" : i})"
   ]
  },
  {
   "cell_type": "code",
   "execution_count": 55,
   "metadata": {
    "collapsed": true
   },
   "outputs": [
    {
     "name": "stdout",
     "output_type": "stream",
     "text": [
      "<div class=\"vertical-ad feed-block-vertical-ad\">\n",
      "\t<div class=\"breaker-ad-text\">Advertisement - Continue Reading Below</div>\n",
      "\t<div id=\"gpt-ad-vertical-top\" class=\"ad-container\"><div class=\"bt\"><span class=\"bt-uid-tg\" data-uid=\"5b915ae022-213\" style=\"display: none !important;\"></span></div><div id=\"gpt_gal_a\" class=\"gpt-adslot noskim\" style=\"\" data-google-query-id=\"CJj1ra3Y4OcCFYgqKgodj6cNNw\"><div id=\"google_ads_iframe_/36117602/hdm-elle/homepage/atf_1__container__\" style=\"border: 0pt none;\"><iframe id=\"google_ads_iframe_/36117602/hdm-elle/homepage/atf_1\" title=\"3rd party ad content\" name=\"google_ads_iframe_/36117602/hdm-elle/homepage/atf_1\" scrolling=\"no\" marginwidth=\"0\" marginheight=\"0\" style=\"border: 0px none; vertical-align: bottom;\" srcdoc=\"\" data-google-container-id=\"2\" data-load-complete=\"true\" width=\"300\" height=\"250\" frameborder=\"0\"></iframe></div></div></div>\n",
      "</div>\n"
     ]
    }
   ],
   "source": [
    "# url 115\n",
    "i = urls[114]\n",
    "#open_url(i)\n",
    "element = driver.find_element_by_css_selector('div.feed-block-container:nth-child(2) > div:nth-child(1) > div:nth-child(1) > div:nth-child(1)')\n",
    "source = element.get_attribute(\"outerHTML\")\n",
    "print(source)\n",
    "data.append({\"TYPE\" : ad_type, \"ad_code\" : source, \"URL\" : i})"
   ]
  },
  {
   "cell_type": "code",
   "execution_count": 57,
   "metadata": {
    "collapsed": true
   },
   "outputs": [
    {
     "name": "stdout",
     "output_type": "stream",
     "text": [
      "<div class=\"advert advert--homepage\" id=\"HomepageAd1\" data-size=\"full-width\" data-test-id=\"Inline Ad\" data-google-query-id=\"CK2qjMPY4OcCFRQlKgodx5gOvg\"><div id=\"google_ads_iframe_/5605/teg.FMSQ/J2EK_1__container__\" style=\"border: 0pt none;\"><iframe id=\"google_ads_iframe_/5605/teg.FMSQ/J2EK_1\" title=\"3rd party ad content\" name=\"google_ads_iframe_/5605/teg.FMSQ/J2EK_1\" scrolling=\"no\" marginwidth=\"0\" marginheight=\"0\" style=\"border: 0px none; vertical-align: bottom;\" srcdoc=\"\" data-google-container-id=\"2\" data-load-complete=\"true\" width=\"970\" height=\"250\" frameborder=\"0\"></iframe></div></div>\n"
     ]
    }
   ],
   "source": [
    "# url 116\n",
    "i = urls[115]\n",
    "#open_url(i)\n",
    "element = driver.find_element_by_css_selector('#HomepageAd1')\n",
    "source = element.get_attribute(\"outerHTML\")\n",
    "print(source)\n",
    "data.append({\"TYPE\" : ad_type, \"ad_code\" : source, \"URL\" : i})"
   ]
  },
  {
   "cell_type": "code",
   "execution_count": 59,
   "metadata": {
    "collapsed": true
   },
   "outputs": [
    {
     "name": "stdout",
     "output_type": "stream",
     "text": [
      "<aside data-uri=\"nymag.com/_components/ad/instances/homepageBottomLeaderboardDesktop@published\" data-placeholder=\"settings\" class=\"ad vp-1180-plus\" data-name=\"/172968584/nym.nymag/homepage\" data-sizes=\"970x90, 728x90, 970x250, 728x91, 970x91, 970x252, 970x254, 1100x350\" data-label=\"BottomLeaderboard\" data-site=\"NewYorkMagazine\" id=\"ad-cid-PXrkIurs\" data-google-query-id=\"CNje0ejY4OcCFQmzlgod61sLHg\">\n",
      "      <div id=\"google_ads_iframe_/172968584/nym.nymag/homepage_4__container__\" style=\"border: 0pt none;\"><iframe id=\"google_ads_iframe_/172968584/nym.nymag/homepage_4\" title=\"3rd party ad content\" name=\"google_ads_iframe_/172968584/nym.nymag/homepage_4\" scrolling=\"no\" marginwidth=\"0\" marginheight=\"0\" style=\"border: 0px none; vertical-align: bottom;\" srcdoc=\"\" data-google-container-id=\"5\" data-gtm-yt-inspected-6771955_113=\"true\" data-load-complete=\"true\" width=\"970\" height=\"250\" frameborder=\"0\"></iframe></div></aside>\n"
     ]
    }
   ],
   "source": [
    "# url 117\n",
    "i = urls[116]\n",
    "#open_url(i)\n",
    "element = driver.find_element_by_css_selector('#ad-cid-PXrkIurs')\n",
    "source = element.get_attribute(\"outerHTML\")\n",
    "print(source)\n",
    "data.append({\"TYPE\" : ad_type, \"ad_code\" : source, \"URL\" : i})"
   ]
  },
  {
   "cell_type": "code",
   "execution_count": 61,
   "metadata": {
    "collapsed": true
   },
   "outputs": [
    {
     "name": "stdout",
     "output_type": "stream",
     "text": [
      "<section class=\"mpu-container js-sticky-homepage-ad js-fixed\" style=\"top: 58px;\"><div id=\"mpu-sidebar\" class=\"mpu\" data-viewable=\"true\" data-google-query-id=\"CMir9ofZ4OcCFQ5SvQodXM0IQg\"><div id=\"google_ads_iframe_/21632812681/NewScientist/Homepage-sidebar_0__container__\" style=\"border: 0pt none;\"><iframe id=\"google_ads_iframe_/21632812681/NewScientist/Homepage-sidebar_0\" title=\"3rd party ad content\" name=\"google_ads_iframe_/21632812681/NewScientist/Homepage-sidebar_0\" scrolling=\"no\" marginwidth=\"0\" marginheight=\"0\" style=\"border: 0px none; vertical-align: bottom;\" srcdoc=\"\" data-google-container-id=\"5\" data-load-complete=\"true\" width=\"300\" height=\"600\" frameborder=\"0\"></iframe></div></div></section>\n"
     ]
    }
   ],
   "source": [
    "# url 118\n",
    "i = urls[117]\n",
    "#open_url(i)\n",
    "element = driver.find_element_by_css_selector('.mpu-container')\n",
    "source = element.get_attribute(\"outerHTML\")\n",
    "print(source)\n",
    "data.append({\"TYPE\" : ad_type, \"ad_code\" : source, \"URL\" : i})"
   ]
  },
  {
   "cell_type": "code",
   "execution_count": 63,
   "metadata": {
    "collapsed": true
   },
   "outputs": [
    {
     "name": "stdout",
     "output_type": "stream",
     "text": [
      "<div class=\"footer-section\"><div class=\"footer-newsletter\"><h3 class=\"footer__heading\">Sign up to our newsletter</h3><form id=\"signup-form\" class=\"signup-form\" action=\"/sign-up/daily/\" method=\"POST\"><input type=\"hidden\" name=\"newsletter\" value=\"true\"><input type=\"hidden\" name=\"disable_errors\" value=\"true\"><label for=\"signup-email\" class=\"signup-form__label\">Enter your email address to get started</label><input type=\"email\" name=\"sign-up[email]\" id=\"signup-email\" class=\"signup-form__input\" placeholder=\"Your email\" required=\"required\"><input type=\"hidden\" id=\"sign-up_newsletterCode\" name=\"sign-up[newsletterCode]\" value=\"NSDAY\"><input type=\"submit\" class=\"signup-form__button\" value=\"Sign up\"></form></div></div>\n"
     ]
    }
   ],
   "source": [
    "# url 119\n",
    "i = urls[118]\n",
    "#open_url(i)\n",
    "element = driver.find_element_by_css_selector('div.footer-section:nth-child(1)')\n",
    "source = element.get_attribute(\"outerHTML\")\n",
    "print(source)\n",
    "data.append({\"TYPE\" : ad_type, \"ad_code\" : source, \"URL\" : i})"
   ]
  },
  {
   "cell_type": "code",
   "execution_count": 65,
   "metadata": {
    "collapsed": true
   },
   "outputs": [
    {
     "name": "stdout",
     "output_type": "stream",
     "text": [
      "<div id=\"div-gpt-ad-tower\" style=\"\" class=\"weby-gam\" network_code=\"21824331052\" data-google-query-id=\"CIynjMHZ4OcCFQ2zlgodQW4DSQ\" is-processed=\"true\"><div id=\"google_ads_iframe_/21824331052/sciencemag/science/front_2__container__\" style=\"border: 0pt none; display: inline-block; width: 300px; height: 600px;\"><iframe style=\"border: 0px none; vertical-align: bottom;\" src=\"https://tpc.googlesyndication.com/safeframe/1-0-37/html/container.html\" id=\"google_ads_iframe_/21824331052/sciencemag/science/front_2\" title=\"3rd party ad content\" name=\"\" scrolling=\"no\" marginwidth=\"0\" marginheight=\"0\" data-is-safeframe=\"true\" data-google-container-id=\"3\" data-load-complete=\"true\" width=\"300\" height=\"600\" frameborder=\"0\"></iframe></div></div>\n"
     ]
    }
   ],
   "source": [
    "# url 120\n",
    "i = urls[119]\n",
    "#open_url(i)\n",
    "element = driver.find_element_by_css_selector('#div-gpt-ad-tower')\n",
    "source = element.get_attribute(\"outerHTML\")\n",
    "print(source)\n",
    "data.append({\"TYPE\" : ad_type, \"ad_code\" : source, \"URL\" : i})"
   ]
  },
  {
   "cell_type": "code",
   "execution_count": 67,
   "metadata": {
    "collapsed": true
   },
   "outputs": [
    {
     "name": "stdout",
     "output_type": "stream",
     "text": [
      "<div class=\"region region-pre-footer pre--footer container--promo container\">\n",
      "    \n",
      "  <div class=\"primary\"><h2 class=\"subsection-title heading--block\"><a href=\"https://pubs.aaas.org/Promo/promo_setup_rd.asp?dmc=P5XPZ\" target=\"_blank\">Read the Latest Issue of <em>Science</em></a></h2>\n",
      "  <div class=\"primary__main promo-foot--mag\"><div class=\"promo-foot--current\">\n",
      "  \n",
      "        \n",
      "      <div class=\"highwire-article-citation highwire-citation-type-highwire-issue\" data-pisa=\"sci;367/6479\" data-pisa-master=\"sci;367/6479\" data-apath=\"/sci/367/6479.atom\" id=\"sci3676479atom\"><h3>14 February 2020</h3>\n",
      "<p class=\"promo-foot__meta\">Vol 367, Issue 6479</p>\n",
      "<a href=\"https://pubs.aaas.org/Promo/promo_setup_rd.asp?dmc=P5XPZ\" target=\"_blank\" class=\"\" data-icon-position=\"\" data-hide-link-title=\"0\"><img class=\"promo-foot__cover\" src=\"https://science.sciencemag.org/sites/default/files/styles/sci_footer_promo_cover/public/externals/0951be208ab44dbb42c9f501c237b8c8.gif?itok=lfADm23x\" alt=\"Magazine Cover\"></a></div><p><a href=\"http://science.sciencemag.org/content/367/6479\" class=\"btn--cta btn--cta--small\" data-icon-position=\"\" data-hide-link-title=\"0\">Table of Contents</a></p>  \n",
      "</div>\n",
      "<div class=\"promo-foot--heds\">\n",
      "  \n",
      "        \n",
      "      <ul class=\"media-grid media-grid--2 media-grid--minor\"><li class=\"first\"><div class=\"highwire-article-citation highwire-citation-type-highwire-article\" data-pisa=\"sci;367/6479/730\" data-pisa-master=\"sci;367/6479/730\" data-apath=\"/sci/367/6479/730.atom\" id=\"sci3676479730atom\"><h3 class=\"overline\">Feature</h3>\n",
      "  <a href=\"/content/367/6479/730\" class=\"highwire-cite-linked-title\" data-icon-position=\"\" data-hide-link-title=\"0\"><span class=\"highwire-cite-title\">The health carer</span></a></div></li>\n",
      "<li><div class=\"highwire-article-citation highwire-citation-type-highwire-article\" data-pisa=\"sci;367/6479/745\" data-pisa-master=\"sci;367/6479/745\" data-apath=\"/sci/367/6479/745.atom\" id=\"sci3676479745atom\"><h3 class=\"overline\">Data and Regulation</h3>\n",
      "  <a href=\"/content/367/6479/745\" class=\"highwire-cite-linked-title\" data-icon-position=\"\" data-hide-link-title=\"0\"><span class=\"highwire-cite-title\">When health tech companies change their terms of service</span></a></div></li>\n",
      "<li><div class=\"highwire-article-citation highwire-citation-type-highwire-article\" data-pisa=\"sci;367/6479/747\" data-pisa-master=\"sci;367/6479/747\" data-apath=\"/sci/367/6479/747.atom\" id=\"sci3676479747atom\"><h3 class=\"overline\">Science Policy</h3>\n",
      "  <a href=\"/content/367/6479/747\" class=\"highwire-cite-linked-title\" data-icon-position=\"\" data-hide-link-title=\"0\"><span class=\"highwire-cite-title\">The art of misleading the public</span></a></div></li>\n",
      "<li><div class=\"highwire-article-citation highwire-citation-type-highwire-article\" data-pisa=\"sci;367/6479/720\" data-pisa-master=\"sci;367/6479/720\" data-apath=\"/sci/367/6479/720.atom\" id=\"sci3676479720atom\"><h3 class=\"overline\">SCI COMMUN</h3>\n",
      "  <a href=\"/content/367/6479/720\" class=\"highwire-cite-linked-title\" data-icon-position=\"\" data-hide-link-title=\"0\"><span class=\"highwire-cite-title\">News at a glance</span></a></div></li>\n",
      "<li><div class=\"highwire-article-citation highwire-citation-type-highwire-article\" data-pisa=\"sci;367/6479/734\" data-pisa-master=\"sci;367/6479/734\" data-apath=\"/sci/367/6479/734.atom\" id=\"sci3676479734atom\"><h3 class=\"overline\">Neuroscience</h3>\n",
      "  <a href=\"/content/367/6479/734\" class=\"highwire-cite-linked-title\" data-icon-position=\"\" data-hide-link-title=\"0\"><span class=\"highwire-cite-title\">Resilience to trauma: Just a matter of control?</span></a></div></li>\n",
      "<li class=\"last\"><div class=\"highwire-article-citation highwire-citation-type-highwire-article\" data-pisa=\"sci;367/6479/822\" data-pisa-master=\"sci;367/6479/822\" data-apath=\"/sci/367/6479/822.atom\" id=\"sci3676479822atom\"><h3 class=\"overline\">Working Life</h3>\n",
      "  <a href=\"/content/367/6479/822\" class=\"highwire-cite-linked-title\" data-icon-position=\"\" data-hide-link-title=\"0\"><span class=\"highwire-cite-title\">My best is good enough</span></a></div></li>\n",
      "</ul>  \n",
      "</div>\n",
      "</div><div class=\"primary__secondary\">\n",
      "  \n",
      "        \n",
      "      <div id=\"aaas-util-foot-1\"></div>  \n",
      "</div>\n",
      "</div>  <div class=\"secondary\"><div id=\"aaas-util-foot-2\"><div class=\"promo--newsletters\"><h2 class=\"subsection-title\">Get Our E-Alerts</h2><p class=\"priority-2\">Receive emails from <cite>Science</cite>.&nbsp;<a href=\"https://www.sciencemag.org/subscribe/get-our-newsletters\">See full list</a></p><form id=\"form-footer-newsletters\"><div id=\"newsletter-footer-checkboxes\"><p class=\"priority-2\"><label><div style=\"display: inline;\"><input id=\"Science_Magazine_TOC\" name=\"33 Science Magazine TOC\" type=\"checkbox\" checked=\"\"></div><span><cite>Science</cite> Table of Contents</span></label></p><p class=\"priority-2\"><label><div style=\"display: inline;\"><input id=\"Science_Latest_News_and_Headlines\" name=\"35 Science Latest News and Headlines\" type=\"checkbox\" checked=\"\"></div><span><cite>Science</cite> Daily News</span></label></p><p class=\"priority-2\"><label><div style=\"display: inline;\"><input id=\"News_from_Science_Weekly_Headlines\" name=\"36 News from Science Weekly Headlines\" type=\"checkbox\" checked=\"\"></div><span>Weekly News Roundup</span></label></p><p class=\"priority-2\"><label><div style=\"display: inline;\"><input id=\"Editors_Choice\" name=\"31 Editors Choice\" type=\"checkbox\" checked=\"\"></div><span><cite>Science</cite> Editor's Choice</span></label></p><p class=\"priority-2\"><label><div style=\"display: inline;\"><input id=\"Science_Express_Notification\" name=\"32 Science Express Notification\" type=\"checkbox\" checked=\"\"></div><span>First Release Notification</span></label></p><p class=\"priority-2\"><label><div style=\"display: inline;\"><input id=\"Job_Seeker_Newsletter\" name=\"44 Job Seeker Newsletter\" type=\"checkbox\" checked=\"\"></div><span><cite>Science</cite> Careers Job Seeker</span></label></p></div><label for=\"aaas-newsletter-footer-country\" class=\"element-invisible\">Country</label><select style=\"width: 100%; font-size: 0.825rem; padding: 0.25rem;\" class=\"inpt\" id=\"aaas-newsletter-footer-country\" name=\"Country\"><option>Country*</option><option value=\"AF\">Afghanistan</option><option value=\"AX\">Aland Islands</option><option value=\"AL\">Albania</option><option value=\"DZ\">Algeria</option><option value=\"AD\">Andorra</option><option value=\"AO\">Angola</option><option value=\"AI\">Anguilla</option><option value=\"AQ\">Antarctica</option><option value=\"AG\">Antigua and Barbuda</option><option value=\"AR\">Argentina</option><option value=\"AM\">Armenia</option><option value=\"AW\">Aruba</option><option value=\"AU\">Australia</option><option value=\"AT\">Austria</option><option value=\"AZ\">Azerbaijan</option><option value=\"BS\">Bahamas</option><option value=\"BH\">Bahrain</option><option value=\"BD\">Bangladesh</option><option value=\"BB\">Barbados</option><option value=\"BY\">Belarus</option><option value=\"BE\">Belgium</option><option value=\"BZ\">Belize</option><option value=\"BJ\">Benin</option><option value=\"BM\">Bermuda</option><option value=\"BT\">Bhutan</option><option value=\"BO\">Bolivia, Plurinational State of</option><option value=\"BQ\">Bonaire, Sint Eustatius and Saba</option><option value=\"BA\">Bosnia and Herzegovina</option><option value=\"BW\">Botswana</option><option value=\"BV\">Bouvet Island</option><option value=\"BR\">Brazil</option><option value=\"IO\">British Indian Ocean Territory</option><option value=\"BN\">Brunei Darussalam</option><option value=\"BG\">Bulgaria</option><option value=\"BF\">Burkina Faso</option><option value=\"BI\">Burundi</option><option value=\"KH\">Cambodia</option><option value=\"CM\">Cameroon</option><option value=\"CA\">Canada</option><option value=\"CV\">Cape Verde</option><option value=\"KY\">Cayman Islands</option><option value=\"CF\">Central African Republic</option><option value=\"TD\">Chad</option><option value=\"CL\">Chile</option><option value=\"CN\">China</option><option value=\"CX\">Christmas Island</option><option value=\"CC\">Cocos (Keeling) Islands</option><option value=\"CO\">Colombia</option><option value=\"KM\">Comoros</option><option value=\"CG\">Congo</option><option value=\"CD\">Congo, The Democratic Republic of the</option><option value=\"CK\">Cook Islands</option><option value=\"CR\">Costa Rica</option><option value=\"CI\">Cote D'Ivoire</option><option value=\"HR\">Croatia</option><option value=\"CU\">Cuba</option><option value=\"CW\">Curaçao</option><option value=\"CY\">Cyprus</option><option value=\"CZ\">Czech Republic</option><option value=\"DK\">Denmark</option><option value=\"DJ\">Djibouti</option><option value=\"DM\">Dominica</option><option value=\"DO\">Dominican Republic</option><option value=\"EC\">Ecuador</option><option value=\"EG\">Egypt</option><option value=\"SV\">El Salvador</option><option value=\"GQ\">Equatorial Guinea</option><option value=\"ER\">Eritrea</option><option value=\"EE\">Estonia</option><option value=\"ET\">Ethiopia</option><option value=\"FK\">Falkland Islands (Malvinas)</option><option value=\"FO\">Faroe Islands</option><option value=\"FJ\">Fiji</option><option value=\"FI\">Finland</option><option value=\"FR\">France</option><option value=\"GF\">French Guiana</option><option value=\"PF\">French Polynesia</option><option value=\"TF\">French Southern Territories</option><option value=\"GA\">Gabon</option><option value=\"GM\">Gambia</option><option value=\"GE\">Georgia</option><option value=\"DE\">Germany</option><option value=\"GH\">Ghana</option><option value=\"GI\">Gibraltar</option><option value=\"GR\">Greece</option><option value=\"GL\">Greenland</option><option value=\"GD\">Grenada</option><option value=\"GP\">Guadeloupe</option><option value=\"GT\">Guatemala</option><option value=\"GG\">Guernsey</option><option value=\"GN\">Guinea</option><option value=\"GW\">Guinea-Bissau</option><option value=\"GY\">Guyana</option><option value=\"HT\">Haiti</option><option value=\"HM\">Heard Island and Mcdonald Islands</option><option value=\"VA\">Holy See (Vatican City State)</option><option value=\"HN\">Honduras</option><option value=\"HK\">Hong Kong</option><option value=\"HU\">Hungary</option><option value=\"IS\">Iceland</option><option value=\"IN\">India</option><option value=\"ID\">Indonesia</option><option value=\"IR\">Iran, Islamic Republic of</option><option value=\"IQ\">Iraq</option><option value=\"IE\">Ireland</option><option value=\"IM\">Isle of Man</option><option value=\"IL\">Israel</option><option value=\"IT\">Italy</option><option value=\"JM\">Jamaica</option><option value=\"JP\">Japan</option><option value=\"JE\">Jersey</option><option value=\"JO\">Jordan</option><option value=\"KZ\">Kazakhstan</option><option value=\"KE\">Kenya</option><option value=\"KI\">Kiribati</option><option value=\"KP\">Korea, Democratic People's Republic of</option><option value=\"KR\">Korea, Republic of</option><option value=\"KW\">Kuwait</option><option value=\"KG\">Kyrgyzstan</option><option value=\"LA\">Lao People's Democratic Republic</option><option value=\"LV\">Latvia</option><option value=\"LB\">Lebanon</option><option value=\"LS\">Lesotho</option><option value=\"LR\">Liberia</option><option value=\"LY\">Libyan Arab Jamahiriya</option><option value=\"LI\">Liechtenstein</option><option value=\"LT\">Lithuania</option><option value=\"LU\">Luxembourg</option><option value=\"MO\">Macao</option><option value=\"MK\">Macedonia, The Former Yugoslav Republic of</option><option value=\"MG\">Madagascar</option><option value=\"MW\">Malawi</option><option value=\"MY\">Malaysia</option><option value=\"MV\">Maldives</option><option value=\"ML\">Mali</option><option value=\"MT\">Malta</option><option value=\"MQ\">Martinique</option><option value=\"MR\">Mauritania</option><option value=\"MU\">Mauritius</option><option value=\"YT\">Mayotte</option><option value=\"MX\">Mexico</option><option value=\"MD\">Moldova, Republic of</option><option value=\"MC\">Monaco</option><option value=\"MN\">Mongolia</option><option value=\"ME\">Montenegro</option><option value=\"MS\">Montserrat</option><option value=\"MA\">Morocco</option><option value=\"MZ\">Mozambique</option><option value=\"MM\">Myanmar</option><option value=\"NA\">Namibia</option><option value=\"NR\">Nauru</option><option value=\"NP\">Nepal</option><option value=\"NL\">Netherlands</option><option value=\"NC\">New Caledonia</option><option value=\"NZ\">New Zealand</option><option value=\"NI\">Nicaragua</option><option value=\"NE\">Niger</option><option value=\"NG\">Nigeria</option><option value=\"NU\">Niue</option><option value=\"NF\">Norfolk Island</option><option value=\"NO\">Norway</option><option value=\"OM\">Oman</option><option value=\"PK\">Pakistan</option><option value=\"PS\">Palestinian</option><option value=\"PA\">Panama</option><option value=\"PG\">Papua New Guinea</option><option value=\"PY\">Paraguay</option><option value=\"PE\">Peru</option><option value=\"PH\">Philippines</option><option value=\"PN\">Pitcairn</option><option value=\"PL\">Poland</option><option value=\"PT\">Portugal</option><option value=\"QA\">Qatar</option><option value=\"RE\">Reunion</option><option value=\"RO\">Romania</option><option value=\"RU\">Russian Federation</option><option value=\"RW\">RWANDA</option><option value=\"BL\">Saint Barthélemy </option><option value=\"SH\">Saint Helena, Ascension and Tristan da Cunha</option><option value=\"KN\">Saint Kitts and Nevis</option><option value=\"LC\">Saint Lucia</option><option value=\"MF\">Saint Martin (French part)</option><option value=\"PM\">Saint Pierre and Miquelon</option><option value=\"VC\">Saint Vincent and the Grenadines</option><option value=\"WS\">Samoa</option><option value=\"SM\">San Marino</option><option value=\"ST\">Sao Tome and Principe</option><option value=\"SA\">Saudi Arabia</option><option value=\"SN\">Senegal</option><option value=\"RS\">Serbia</option><option value=\"SC\">Seychelles</option><option value=\"SL\">Sierra Leone</option><option value=\"SG\">Singapore</option><option value=\"SX\">Sint Maarten (Dutch part)</option><option value=\"SK\">Slovakia</option><option value=\"SI\">Slovenia</option><option value=\"SB\">Solomon Islands</option><option value=\"SO\">Somalia</option><option value=\"ZA\">South Africa</option><option value=\"GS\">South Georgia and the South Sandwich Islands</option><option value=\"SS\">South Sudan</option><option value=\"ES\">Spain</option><option value=\"LK\">Sri Lanka</option><option value=\"SD\">Sudan</option><option value=\"SR\">Suriname</option><option value=\"SJ\">Svalbard and Jan Mayen</option><option value=\"SZ\">Swaziland</option><option value=\"SE\">Sweden</option><option value=\"CH\">Switzerland</option><option value=\"SY\">Syrian Arab Republic</option><option value=\"TW\">Taiwan</option><option value=\"TJ\">Tajikistan</option><option value=\"TZ\">Tanzania, United Republic of</option><option value=\"TH\">Thailand</option><option value=\"TL\">Timor-Leste</option><option value=\"TG\">Togo</option><option value=\"TK\">Tokelau</option><option value=\"TO\">Tonga</option><option value=\"TT\">Trinidad and Tobago</option><option value=\"TN\">Tunisia</option><option value=\"TR\">Turkey</option><option value=\"TM\">Turkmenistan</option><option value=\"TC\">Turks and Caicos Islands</option><option value=\"TV\">Tuvalu</option><option value=\"UG\">Uganda</option><option value=\"UA\">Ukraine</option><option value=\"AE\">United Arab Emirates</option><option value=\"GB\">United Kingdom</option><option value=\"US\">United States</option><option value=\"UY\">Uruguay</option><option value=\"UZ\">Uzbekistan</option><option value=\"VU\">Vanuatu</option><option value=\"VE\">Venezuela, Bolivarian Republic of</option><option value=\"VN\">Vietnam</option><option value=\"VG\">Virgin Islands, British</option><option value=\"WF\">Wallis and Futuna</option><option value=\"EH\">Western Sahara</option><option value=\"YE\">Yemen</option><option value=\"ZM\">Zambia</option><option value=\"ZW\">Zimbabwe</option></select><p class=\"priority-2\"><label class=\"element-invisible\">Email</label><div class=\"form-control\"><input id=\"emailNewsFooter\" name=\"EmailAddress\" type=\"email\" placeholder=\"Email address*\" style=\"padding: 0.31rem 0.31rem 0.31rem 0.45rem; border-color: rgb(169, 169, 169);\" required=\"\" value=\"\"></div></p><p class=\"priority-2\"><label><div style=\"display: inline;\"><input id=\"consentcheckbox\" name=\"consentcheckbox\" type=\"checkbox\"></div><span> I also wish to receive emails from AAAS/<cite>Science</cite><br> and <cite>Science</cite> advertisers, including information on <br> products, services, and special offers which may<br> include but are not limited to news, career<br> information, &amp; upcoming events.</span></label></p><label class=\"element-invisible\">Sign up today</label><input type=\"submit\" id=\"newsletter-footer-submit\" class=\"btn--cta btn--cta--small\" disabled=\"\" value=\"Sign up today\"><p class=\"priority-3\">Required fields are indicated by an asterisk (*)</p></form></div></div></div>  </div>\n"
     ]
    }
   ],
   "source": [
    "# url 121\n",
    "i = urls[120]\n",
    "#open_url(i)\n",
    "element = driver.find_element_by_css_selector('.region-pre-footer')\n",
    "source = element.get_attribute(\"outerHTML\")\n",
    "print(source)\n",
    "data.append({\"TYPE\" : ad_type, \"ad_code\" : source, \"URL\" : i})"
   ]
  },
  {
   "cell_type": "code",
   "execution_count": 69,
   "metadata": {
    "collapsed": true
   },
   "outputs": [
    {
     "name": "stdout",
     "output_type": "stream",
     "text": [
      "<div class=\"rightside gutter-top xl\">\n",
      "\t\t\t<div class=\"rtcontent\">\n",
      "\t\t\t\t\t\t\t\t\t\n",
      "\t<div class=\"island-ad adbox adbox--called adbox--handled\" data-key=\"vad\" assigned-pos=\"5\" id=\"emfuw26imn\" data-google-query-id=\"CMXZz6va4OcCFda6lgodfM0PsA\">\n",
      "\t<div id=\"google_ads_iframe_/6280/Entrepreneur-in/frontdoor_3__container__\" style=\"border: 0pt none;\"><iframe id=\"google_ads_iframe_/6280/Entrepreneur-in/frontdoor_3\" title=\"3rd party ad content\" name=\"google_ads_iframe_/6280/Entrepreneur-in/frontdoor_3\" scrolling=\"no\" marginwidth=\"0\" marginheight=\"0\" style=\"border: 0px none; vertical-align: bottom;\" srcdoc=\"\" data-google-container-id=\"4\" data-load-complete=\"true\" width=\"300\" height=\"600\" frameborder=\"0\"></iframe></div></div>\n",
      "\t\t\t\t\t\t\t</div>\n",
      "\t\t</div>\n"
     ]
    }
   ],
   "source": [
    "# url 122\n",
    "i = urls[121]\n",
    "#open_url(i)\n",
    "element = driver.find_element_by_css_selector('.rightside')\n",
    "source = element.get_attribute(\"outerHTML\")\n",
    "print(source)\n",
    "data.append({\"TYPE\" : ad_type, \"ad_code\" : source, \"URL\" : i})"
   ]
  },
  {
   "cell_type": "code",
   "execution_count": 71,
   "metadata": {
    "collapsed": true
   },
   "outputs": [
    {
     "name": "stdout",
     "output_type": "stream",
     "text": [
      "<div class=\"container\">\n",
      "\t\n",
      "\n",
      "\t\t<div class=\"banner-ad adbox adbox--called adbox--handled\" data-key=\"had\" assigned-pos=\"9\" id=\"u9x5oxw3cc\" data-google-query-id=\"CKa6_97a4OcCFU-8vQodFqIKRQ\">\n",
      "\t<div id=\"google_ads_iframe_/6280/Entrepreneur-in/frontdoor_7__container__\" style=\"border: 0pt none;\"><iframe id=\"google_ads_iframe_/6280/Entrepreneur-in/frontdoor_7\" title=\"3rd party ad content\" name=\"google_ads_iframe_/6280/Entrepreneur-in/frontdoor_7\" scrolling=\"no\" marginwidth=\"0\" marginheight=\"0\" style=\"border: 0px none; vertical-align: bottom;\" srcdoc=\"\" data-google-container-id=\"8\" data-load-complete=\"true\" width=\"728\" height=\"90\" frameborder=\"0\"></iframe></div></div>\n",
      "\t</div>\n"
     ]
    }
   ],
   "source": [
    "# url 123\n",
    "i = urls[122]\n",
    "#open_url(i)\n",
    "element = driver.find_element_by_css_selector('div.container:nth-child(14)')\n",
    "source = element.get_attribute(\"outerHTML\")\n",
    "print(source)\n",
    "data.append({\"TYPE\" : ad_type, \"ad_code\" : source, \"URL\" : i})"
   ]
  },
  {
   "cell_type": "code",
   "execution_count": 73,
   "metadata": {
    "collapsed": true
   },
   "outputs": [
    {
     "name": "stdout",
     "output_type": "stream",
     "text": [
      "<div class=\"container\">\n",
      "\t\n",
      "\n",
      "\t\t<div class=\"banner-ad adbox adbox--called adbox--handled\" data-key=\"had\" assigned-pos=\"4\" id=\"48t6t4yxtq\" data-google-query-id=\"CMn-9Ibb4OcCFUholgods-QOJA\">\n",
      "\t<div id=\"google_ads_iframe_/6280/Entrepreneur-in/frontdoor_3__container__\" style=\"border: 0pt none;\"><iframe id=\"google_ads_iframe_/6280/Entrepreneur-in/frontdoor_3\" title=\"3rd party ad content\" name=\"google_ads_iframe_/6280/Entrepreneur-in/frontdoor_3\" scrolling=\"no\" marginwidth=\"0\" marginheight=\"0\" style=\"border: 0px none; vertical-align: bottom;\" srcdoc=\"\" data-google-container-id=\"4\" data-load-complete=\"true\" width=\"728\" height=\"90\" frameborder=\"0\"></iframe></div></div>\n",
      "\t</div>\n"
     ]
    }
   ],
   "source": [
    "# url 124\n",
    "i = urls[123]\n",
    "#open_url(i)\n",
    "element = driver.find_element_by_css_selector('div.container:nth-child(4)')\n",
    "source = element.get_attribute(\"outerHTML\")\n",
    "print(source)\n",
    "data.append({\"TYPE\" : ad_type, \"ad_code\" : source, \"URL\" : i})"
   ]
  },
  {
   "cell_type": "code",
   "execution_count": 75,
   "metadata": {
    "collapsed": true
   },
   "outputs": [
    {
     "name": "stdout",
     "output_type": "stream",
     "text": [
      "<section id=\"Homepage_BTF_970x250_Wrapper\" class=\"ad\">\n",
      "\t\t<div class=\"htl-ad  Homepage_BTF_970x250 htl-size-970x250 undefined display-block\" data-unit=\"Homepage_BTF_970x250\" data-sizes=\"0x0:|768x0:|992x0:970x250\" data-prebid=\"0x0:|768x0:|992x0:Homepage_BTF_970x250\" data-refresh=\"viewable\" data-refresh-secs=\"30\" data-backfill=\"\" id=\"htlad-8\"><div class=\"htl-ad-gpt\" id=\"htlad-8-gpt\" data-google-query-id=\"CPmw0dPb4OcCFQ8lKgodMgIDBQ\"><div id=\"google_ads_iframe_/49189977/Homepage_BTF_970x250_0__container__\" style=\"border: 0pt none; margin: auto; text-align: center;\"><iframe id=\"google_ads_iframe_/49189977/Homepage_BTF_970x250_0\" title=\"3rd party ad content\" name=\"google_ads_iframe_/49189977/Homepage_BTF_970x250_0\" scrolling=\"no\" marginwidth=\"0\" marginheight=\"0\" style=\"border: 0px none; vertical-align: bottom;\" srcdoc=\"\" data-google-container-id=\"6\" data-load-complete=\"true\" width=\"970\" height=\"250\" frameborder=\"0\"></iframe></div></div><div class=\"htl-ad-backfill\" id=\"htlad-8-backfill\" style=\"display: none;\"></div><a class=\"mj-advertise-link\" href=\"/advertising/\" data-ga-label=\"Homepage_BTF_970x250\" data-ga-category=\"AdvertiseLink\">Advertise with <em>Mother Jones</em></a></div>\t</section>\n"
     ]
    }
   ],
   "source": [
    "# url 125\n",
    "i = urls[124]\n",
    "#open_url(i)\n",
    "element = driver.find_element_by_css_selector('#Homepage_BTF_970x250_Wrapper')\n",
    "source = element.get_attribute(\"outerHTML\")\n",
    "print(source)\n",
    "data.append({\"TYPE\" : ad_type, \"ad_code\" : source, \"URL\" : i})"
   ]
  },
  {
   "cell_type": "code",
   "execution_count": 77,
   "metadata": {
    "collapsed": true
   },
   "outputs": [
    {
     "name": "stdout",
     "output_type": "stream",
     "text": [
      "<section class=\"house-promo max-lg\">\n",
      "\t\t<div>\n",
      "\t\t\t<h3>\n",
      "\t\t\t\t<svg version=\"1.1\" xmlns=\"http://www.w3.org/2000/svg\" xmlns:xlink=\"http://www.w3.org/1999/xlink\" x=\"0px\" y=\"0px\" viewBox=\"0 0 164 110\" style=\"enable-background:new 0 0 164 110;max-width:1.8rem;\" xml:space=\"preserve\">\n",
      "\t\t\t\t\t<path d=\"M0,0.48v109.22h163.84V0.48H0z M81.92,64.62l-68.27-41.6l5.69-9.33l62.59,38.14l62.59-38.14l5.69,9.33L81.92,64.62z\"></path>\n",
      "\t\t\t\t</svg>\n",
      "\t\t\t\tSign up for our newsletters\n",
      "\t\t\t</h3>\n",
      "\t\t\t<!-- <p>\n",
      "\t\t\t\t<a href=\"https://www.motherjones.com/newsletters/\" data-ga-label=\"NewsletterSubscribe\" data-ga-category=\"InContentSubscribe\">Sign up for our newsletters</a>\n",
      "\t\t\t</p> -->\n",
      "\t\t\t<p><em>Subscribe and we'll send</em> Mother Jones <em>straight to your inbox.</em></p>\n",
      "\t\t\t<div class=\"col-sm-6 col-xs-12\">\n",
      "\t\t\t\t<form action=\"https://api.maropost.com/accounts/585/forms/3289/subscribe/177d8ba3b7fe7d39e28dcba73123eeffbd01878b\" method=\"post\" data-ga-label=\"NewsletterSignup\" data-ga-category=\"MidPagePromo\" id=\"HousePromoNewsletterSignup\" onsubmit=\"return mj_check_email(this, event);\" data-gtm-vis-recent-on-screen-8851012_28=\"23034\" data-gtm-vis-first-on-screen-8851012_28=\"23034\" data-gtm-vis-total-visible-time-8851012_28=\"100\" data-gtm-vis-has-fired-8851012_28=\"1\">\n",
      "\t\t\t\t\t<input include_blank=\"true\" start_year=\"1950\" type=\"hidden\" name=\"custom_fields[outreach_affiliate_code]\" value=\"InContent\">\n",
      "\t\t\t\t\t<input include_blank=\"true\" start_year=\"1950\" type=\"hidden\" name=\"custom_fields[signup_url]\" value=\"\">\n",
      "\t\t\t\t\t<input type=\"hidden\" value=\"\" name=\"email_const_mp\">\n",
      "\t\t\t\t\t<label for=\"cons_email_h\" class=\"visuallyhidden\">Email</label>\n",
      "\t\t\t\t\t<input include_blank=\"true\" start_year=\"1950\" id=\"cons_email_h\" name=\"contact_fields[email]\" placeholder=\"Email\" type=\"text\">\n",
      "\t\t\t\t\t<input type=\"submit\" name=\"commit\" value=\"Sign Up\">\n",
      "\t\t\t\t</form>\n",
      "\t\t\t</div>\n",
      "\t\t</div>\n",
      "\t</section>\n"
     ]
    }
   ],
   "source": [
    "# url 126\n",
    "i = urls[125]\n",
    "#open_url(i)\n",
    "element = driver.find_element_by_css_selector('section.house-promo:nth-child(4)')\n",
    "source = element.get_attribute(\"outerHTML\")\n",
    "print(source)\n",
    "data.append({\"TYPE\" : ad_type, \"ad_code\" : source, \"URL\" : i})"
   ]
  },
  {
   "cell_type": "code",
   "execution_count": 79,
   "metadata": {
    "collapsed": true
   },
   "outputs": [
    {
     "name": "stdout",
     "output_type": "stream",
     "text": [
      "<article id=\"formulario-newsletter-home\" class=\"formNewsletter\">\n",
      "\t\t<form action=\"https://hellomagazine.us12.list-manage.com/subscribe/post?u=194a250663bd2b8b5c5a586c3&amp;id=95b594f122\" method=\"post\" id=\"mc-embedded-subscribe-form\" name=\"mc-embedded-subscribe-form\" class=\"validate\" target=\"_blank\" novalidate=\"novalidate\">\n",
      "\t\t    <div id=\"formulario-newsletter-home_scroll\">\n",
      "\t\t    <h2>   \n",
      "\t\t\t    REGISTER FOR HELLO!'s NEWSLETTER\t\n",
      "\t\t\t</h2>\n",
      "\t\t    <div class=\"campos\">\n",
      "\t\t\t    <div class=\"mc-field-group\">\n",
      "\t\t\t\t    <input value=\"\" name=\"EMAIL\" class=\"required email\" id=\"mce-EMAIL\" placeholder=\"Email\" required=\"\" type=\"email\" aria-required=\"true\">\n",
      "\t\t\t\t    <input value=\"Sign up\" name=\"Sign up\" id=\"mc-embedded-subscribe\" class=\"button\" type=\"submit\">\n",
      "\t\t\t\t</div>\n",
      "\t    \t</div>\n",
      "\t    </div>\n",
      "\t    <p class=\"legal\">By registering to HELLO!'s newsletter, you acknowledge that you have read and accepted <a href=\"https://www.hellomagazine.com/privacy-policy.html\" target=\"_blank\">hellomagazine.com's privacy policy</a>, the <a href=\"https://www.hellomagazine.com/cookies.html\" target=\"_blank\">cookies policy</a>, and the website <a href=\"https://www.hellomagazine.com/subscription-terms-conditions.html\" target=\"_blank\">terms of use</a>, and that you consent to hellomagazine.com using your data according to the established laws.If you wish to change your mind and would like to stop receiving communications from hellomagazine.com, you can revoke your consent by clicking on \"unsubscribe\" in the footer of the newsletter.     </p>\n",
      "\t</form>\n",
      "\t<div id=\"mce-responses\" class=\"clear\">\n",
      "\t\t<div class=\"response\" id=\"mce-error-response\" style=\"display:none\">&nbsp;</div>\n",
      "\t\t<div class=\"response\" id=\"mce-success-response\" style=\"display:none\">&nbsp;</div>\n",
      "\t</div>\n",
      "</article>\n"
     ]
    }
   ],
   "source": [
    "# url 127\n",
    "i = urls[126]\n",
    "#open_url(i)\n",
    "element = driver.find_element_by_css_selector('#formulario-newsletter-home')\n",
    "source = element.get_attribute(\"outerHTML\")\n",
    "print(source)\n",
    "data.append({\"TYPE\" : ad_type, \"ad_code\" : source, \"URL\" : i})"
   ]
  },
  {
   "cell_type": "code",
   "execution_count": 81,
   "metadata": {
    "collapsed": true
   },
   "outputs": [
    {
     "name": "stdout",
     "output_type": "stream",
     "text": [
      "<aside role=\"complementary\" class=\"col-md-4 col-xs-12 sticky\" data-layer-location=\"columna-derecha\">\n",
      "\t\t\t<div data-js-ad-manager-slot=\"div-hola-slot-robainferior\" data-js-minw=\"768\" ad=\"\" data-shortcode=\"MPU2\" id=\"div-hola-slot-robainferior\" data-google-query-id=\"CLHZpsLc4OcCFUoGXAoddu8LMg\" tg-zone-original=\"77855.01\"><div id=\"google_ads_iframe_/87824813/Hellomagazine/home_3__container__\" style=\"border: 0pt none; display: inline-block; width: 300px; height: 250px; padding-top: 0px;\" tg-zone=\"77855.01\"><iframe style=\"border: 0px none; vertical-align: bottom;\" src=\"https://tpc.googlesyndication.com/safeframe/1-0-37/html/container.html\" id=\"google_ads_iframe_/87824813/Hellomagazine/home_3\" title=\"3rd party ad content\" name=\"\" scrolling=\"no\" marginwidth=\"0\" marginheight=\"0\" data-is-safeframe=\"true\" data-google-container-id=\"4\" data-load-complete=\"true\" width=\"300\" height=\"250\" frameborder=\"0\"></iframe></div></div>\t\t\t<!-- Inicio de Zeddit suscipciones-->\n",
      "\t\t\t<div class=\"zeddit-rcm\" data-pid=\"898\" data-wid=\"1186\" data-clickedid=\"0\" data-src=\"https://www.hellomagazine.com/\"></div>\n",
      "\t\t\t<!-- Fin de Zeddit suscipciones-->\n",
      "\t\t\t<!--- sustituir por bloque de barra -->\n",
      "\t\t\t\t\t</aside>\n"
     ]
    }
   ],
   "source": [
    "# url 128\n",
    "i = urls[127]\n",
    "#open_url(i)\n",
    "element = driver.find_element_by_css_selector('aside.col-md-4:nth-child(2)')\n",
    "source = element.get_attribute(\"outerHTML\")\n",
    "print(source)\n",
    "data.append({\"TYPE\" : ad_type, \"ad_code\" : source, \"URL\" : i})"
   ]
  },
  {
   "cell_type": "code",
   "execution_count": 83,
   "metadata": {
    "collapsed": true
   },
   "outputs": [
    {
     "name": "stdout",
     "output_type": "stream",
     "text": [
      "<div data-js-ad-manager-slot=\"div-hola-slot-bannerinferior\" ad=\"\" data-shortcode=\"TOP2\" id=\"div-hola-slot-bannerinferior\" data-google-query-id=\"CMfXmtrc4OcCFYezlgodZwICLg\" tg-zone-original=\"77855.00\"><div id=\"google_ads_iframe_/87824813/Hellomagazine/home_4__container__\" style=\"border: 0pt none; display: inline-block; width: 728px; height: 90px;\" tg-zone=\"77855.00\"><iframe style=\"border: 0px none; vertical-align: bottom;\" src=\"https://tpc.googlesyndication.com/safeframe/1-0-37/html/container.html\" id=\"google_ads_iframe_/87824813/Hellomagazine/home_4\" title=\"3rd party ad content\" name=\"\" scrolling=\"no\" marginwidth=\"0\" marginheight=\"0\" data-is-safeframe=\"true\" sandbox=\"allow-forms allow-pointer-lock allow-popups allow-popups-to-escape-sandbox allow-same-origin allow-scripts allow-top-navigation-by-user-activation\" data-google-container-id=\"5\" data-load-complete=\"true\" width=\"728\" height=\"90\" frameborder=\"0\"></iframe></div></div>\n"
     ]
    }
   ],
   "source": [
    "# url 129\n",
    "i = urls[128]\n",
    "#open_url(i)\n",
    "element = driver.find_element_by_css_selector('#div-hola-slot-bannerinferior')\n",
    "source = element.get_attribute(\"outerHTML\")\n",
    "print(source)\n",
    "data.append({\"TYPE\" : ad_type, \"ad_code\" : source, \"URL\" : i})"
   ]
  },
  {
   "cell_type": "code",
   "execution_count": 85,
   "metadata": {
    "collapsed": true
   },
   "outputs": [
    {
     "name": "stdout",
     "output_type": "stream",
     "text": [
      "<div class=\"home__poster-sidebar has-top-offset\" data-reactid=\"296\"><div class=\"home__poster-sidebar__img fill-h\" data-reactid=\"297\"><a href=\"https://www.quantamagazine.org/gift-store\" title=\"Alice and Bob Meet the Wall of Fire - The Biggest Ideas in Science from Quanta – Available now!\" class=\"__desktop\" target=\"_blank\" data-reactid=\"298\"><img src=\"https://d2r55xnwy6nx47.cloudfront.net/uploads/2019/01/Ad_Default_250x342_2x_Science.jpg\" alt=\"Alice and Bob Meet the Wall of Fire - The Biggest Ideas in Science from Quanta – Available now!\" class=\"fill-h\" data-reactid=\"299\"></a><a href=\"https://www.quantamagazine.org/gift-store\" title=\"Alice and Bob Meet the Wall of Fire - The Biggest Ideas in Science from Quanta – Available now!\" class=\"__mobile\" target=\"_blank\" data-reactid=\"300\"><img src=\"https://d2r55xnwy6nx47.cloudfront.net/uploads/2019/01/Ad_Mobile_250x200_2x_Science.jpg\" alt=\"Alice and Bob Meet the Wall of Fire - The Biggest Ideas in Science from Quanta – Available now!\" class=\"fill-h\" data-reactid=\"301\"></a><a href=\"https://www.quantamagazine.org/gift-store\" title=\"Alice and Bob Meet the Wall of Fire - The Biggest Ideas in Science from Quanta – Available now!\" class=\"__tablet\" target=\"_blank\" data-reactid=\"302\"><img src=\"https://d2r55xnwy6nx47.cloudfront.net/uploads/2019/01/Ad_Tablet_890x250_2x_Science.jpg\" alt=\"Alice and Bob Meet the Wall of Fire - The Biggest Ideas in Science from Quanta – Available now!\" class=\"fill-h\" data-reactid=\"303\"></a></div></div>\n"
     ]
    }
   ],
   "source": [
    "# url 130\n",
    "i = urls[129]\n",
    "#open_url(i)\n",
    "element = driver.find_element_by_css_selector('.home__poster-sidebar')\n",
    "source = element.get_attribute(\"outerHTML\")\n",
    "print(source)\n",
    "data.append({\"TYPE\" : ad_type, \"ad_code\" : source, \"URL\" : i})"
   ]
  },
  {
   "cell_type": "code",
   "execution_count": 87,
   "metadata": {
    "collapsed": true
   },
   "outputs": [
    {
     "name": "stdout",
     "output_type": "stream",
     "text": [
      "<section class=\"outer newsletter bg-gray1 align-c pv1 scale1\" id=\"newsletter\" data-reactid=\"788\"><div class=\"scale0 mt1 pv05 mha container--xs\" data-reactid=\"789\"><h2 class=\"newsletter__title h1 noe mv0\" data-reactid=\"790\">The Quanta Newsletter</h2><p class=\"gray4 mt025 scale5\" data-reactid=\"791\"><em data-reactid=\"792\">Get highlights of the most important news delivered to your email inbox</em></p><div class=\"newsletter__form block mha\" data-reactid=\"793\"><form action=\"https://quantamagazine.us1.list-manage.com/subscribe/post?u=0d6ddf7dc1a0b7297c8e06618&amp;id=f0cb61321c\" target=\"_blank\" method=\"post\" class=\"bg-white\" data-reactid=\"794\"><div class=\"newsletter__form__inner flex flex-items-start mha\" data-reactid=\"795\"><div class=\"newsletter__form__field flex flex-auto relative fill-v\" data-reactid=\"796\"><input type=\"email\" class=\"flex fill-h px1 input--transparent pangram light scale3\" name=\"EMAIL\" placeholder=\"Email address\" autocorrect=\"off\" autocapitalize=\"off\" data-reactid=\"797\"></div><button type=\"submit\" class=\"ph2 pangram scale5 medium fill-v orange hover--black\" data-reactid=\"798\">Subscribe</button></div></form></div><h4 class=\"inline-block\" data-reactid=\"799\"><a target=\"_blank\" href=\"http://us1.campaign-archive2.com/home/?u=0d6ddf7dc1a0b7297c8e06618&amp;id=f0cb61321c\" class=\"newsletter__link inline-block link--underline orange hover--black transition--color\" data-reactid=\"800\"><span class=\"\" data-reactid=\"801\">Most recent newsletter</span></a></h4></div><div class=\"mega__other__divider mv2 white o2 shop_divider\" data-reactid=\"802\"></div></section>\n"
     ]
    }
   ],
   "source": [
    "# url 131\n",
    "i = urls[130]\n",
    "#open_url(i)\n",
    "element = driver.find_element_by_css_selector('#newsletter')\n",
    "source = element.get_attribute(\"outerHTML\")\n",
    "print(source)\n",
    "data.append({\"TYPE\" : ad_type, \"ad_code\" : source, \"URL\" : i})"
   ]
  },
  {
   "cell_type": "code",
   "execution_count": 89,
   "metadata": {
    "collapsed": true
   },
   "outputs": [
    {
     "name": "stdout",
     "output_type": "stream",
     "text": [
      "<div class=\"sectionsRundown__adWrapper--1WdeK\"><div></div><div class=\"adTag__RightRailFlex--13zWM fortune-ad-tag__rightrailflex\" id=\"RightRailFlex2\" data-google-query-id=\"CL2Tqdzd4OcCFZGalgodytMALg\" align=\"center\"><div id=\"google_ads_iframe_/21809533738/fortune/homepage/homepage/rightrailflex_2__container__\" style=\"border: 0pt none;\"><iframe id=\"google_ads_iframe_/21809533738/fortune/homepage/homepage/rightrailflex_2\" title=\"3rd party ad content\" name=\"google_ads_iframe_/21809533738/fortune/homepage/homepage/rightrailflex_2\" scrolling=\"no\" marginwidth=\"0\" marginheight=\"0\" style=\"border: 0px none; vertical-align: bottom;\" srcdoc=\"\" data-google-container-id=\"7\" data-load-complete=\"true\" width=\"300\" height=\"250\" frameborder=\"0\"></iframe></div></div></div>\n"
     ]
    }
   ],
   "source": [
    "# url 132\n",
    "i = urls[131]\n",
    "#open_url(i)\n",
    "element = driver.find_element_by_css_selector('.sectionsRundown__adWrapper--1WdeK')\n",
    "source = element.get_attribute(\"outerHTML\")\n",
    "print(source)\n",
    "data.append({\"TYPE\" : ad_type, \"ad_code\" : source, \"URL\" : i})"
   ]
  },
  {
   "cell_type": "code",
   "execution_count": 91,
   "metadata": {
    "collapsed": true
   },
   "outputs": [
    {
     "name": "stdout",
     "output_type": "stream",
     "text": [
      "<div class=\"col-md-12 col-sm-12 \"><div class=\"region region-full-content-2-1\"><section id=\"block-dfptaghomepageleaderboardatf728x90970x90\" class=\"block block-dfp block-dfp-ad8b916d28-f28c-4b87-b22b-e90fefadf7f7 clearfix\"><div id=\"js-dfp-tag-homepage_728_90\" data-google-query-id=\"CKyH1pDe4OcCFdEDXAod16wNPA\"><div id=\"google_ads_iframe_/26887245/d8_homepage_leaderboard-atf_0__container__\" style=\"border: 0pt none;\"><iframe id=\"google_ads_iframe_/26887245/d8_homepage_leaderboard-atf_0\" title=\"3rd party ad content\" name=\"google_ads_iframe_/26887245/d8_homepage_leaderboard-atf_0\" scrolling=\"no\" marginwidth=\"0\" marginheight=\"0\" style=\"border: 0px none; vertical-align: bottom;\" srcdoc=\"\" data-google-container-id=\"8df5694cbeda193e7c5f680c4fac195c\" data-load-complete=\"true\" width=\"728\" height=\"90\" frameborder=\"0\"></iframe></div></div></section></div></div>\n"
     ]
    }
   ],
   "source": [
    "# url 133\n",
    "i = urls[132]\n",
    "#open_url(i)\n",
    "element = driver.find_element_by_css_selector('div.container:nth-child(3) > div:nth-child(1) > div:nth-child(1)')\n",
    "source = element.get_attribute(\"outerHTML\")\n",
    "print(source)\n",
    "data.append({\"TYPE\" : ad_type, \"ad_code\" : source, \"URL\" : i})"
   ]
  },
  {
   "cell_type": "code",
   "execution_count": 93,
   "metadata": {
    "collapsed": true
   },
   "outputs": [
    {
     "name": "stdout",
     "output_type": "stream",
     "text": [
      "<div class=\"NET-INSIGHT\">\n",
      "\t\n",
      "\t<h3>.NET Insight</h3><p class=\"signupfor\">Sign up for our newsletter.</p>\n",
      "\t<div class=\"enl\">\n",
      "\t\t<div id=\"error\" style=\"\"></div>\n",
      "\t\t<div class=\"enlform\">\n",
      "\t\t\t<div id=\"dvForm\">\n",
      "\t\t\t\t<div id=\"result\"></div>\n",
      "\t\t\t\t\t<input type=\"hidden\" id=\"hndTABLENAME\" value=\"ONE001982\">\n",
      "\t\t\t\t<input type=\"hidden\" id=\"hndP00150002\" value=\"1S\">\n",
      "\t\t\t\t<input type=\"hidden\" id=\"hndP00490002\" value=\"ZN\">\n",
      "\t\t\t\t<input type=\"hidden\" id=\"hndP06660001\" value=\"A\">\n",
      "\t\t\t\t<input type=\"hidden\" id=\"hndP35160001\" value=\"R\">\n",
      "\t\t\t\t<input type=\"hidden\" id=\"hndP91620001\" value=\"R\">\n",
      "\t\t\t\t<input type=\"hidden\" id=\"hndP43140001\" value=\"H\">\n",
      "\t\t\t\t<input type=\"hidden\" id=\"hndP23230006\" value=\"GetDate()\">\n",
      "\t\t\t\t<input type=\"hidden\" id=\"hndP00880006\" value=\"WSREDM\">\n",
      "\t\t\t\t<div class=\"formlabel\">\n",
      "                    <label for=\"textfield\">Email Address:</label>\n",
      "                </div>\n",
      "\t\t\t\t<div class=\"emailAddress\">\n",
      "\t\t\t\t\t<div class=\"userEntry\">\n",
      "\t\t\t\t\t\t<input type=\"text\" name=\"txtEMAILADR\" id=\"txtEMAILADR\" data-val=\"true\" data-val-required=\"The Email address field is required.\" data-val-regex-pattern=\"^[\\w\\.=-]+@[\\w\\.-]+\\.[\\w]{2,3}$\" data-val-regex=\"Please enter valid email\" placeholder=\"signup@example.com\">\n",
      "\t\t\t\t\t</div>\n",
      "\t\t\t\t</div>\n",
      "\n",
      "    <div class=\"selectCountry\">\n",
      "      <div class=\"userEntry\">\n",
      "        <select id=\"drpCOUNTRY\" data-state=\"show\" data-val=\"true\" data-val-required=\"Select country\">\n",
      "            <option value=\"\">Click to Select One</option>\n",
      "            <option value=\"USA\">United States</option>\n",
      "            <option value=\"AFG\">Afghanistan</option>\n",
      "            <option value=\"ALA\">Åland Islands</option>\n",
      "            <option value=\"ALB\">Albania</option>\n",
      "            <option value=\"DZA\">Algeria</option>\n",
      "            <option value=\"ASM\">American Samoa</option>\n",
      "            <option value=\"AND\">Andorra</option>\n",
      "            <option value=\"AGO\">Angola</option>\n",
      "            <option value=\"AIA\">Anguilla</option>\n",
      "            <option value=\"ATA\">Antarctica</option>\n",
      "            <option value=\"ATG\">Antigua and Barbuda</option>\n",
      "            <option value=\"ARG\">Argentina</option>\n",
      "            <option value=\"ARM\">Armenia</option>\n",
      "            <option value=\"ABW\">Aruba</option>\n",
      "            <option value=\"AUS\">Australia</option>\n",
      "            <option value=\"AUT\">Austria</option>\n",
      "            <option value=\"AZE\">Azerbaijan</option>\n",
      "            <option value=\"BHS\">Bahamas</option>\n",
      "            <option value=\"BHR\">Bahrain</option>\n",
      "            <option value=\"BGD\">Bangladesh</option>\n",
      "            <option value=\"BRB\">Barbados</option>\n",
      "            <option value=\"BLR\">Belarus</option>\n",
      "            <option value=\"BEL\">Belgium</option>\n",
      "            <option value=\"BLZ\">Belize</option>\n",
      "            <option value=\"BEN\">Benin</option>\n",
      "            <option value=\"BMU\">Bermuda</option>\n",
      "            <option value=\"BTN\">Bhutan</option>\n",
      "            <option value=\"BOL\">Bolivia, Plurinational State of</option>\n",
      "            <option value=\"BES\">Bonaire, Sint Eustatius and Saba</option>\n",
      "            <option value=\"BIH\">Bosnia and Herzegovina</option>\n",
      "            <option value=\"BWA\">Botswana</option>\n",
      "            <option value=\"BVT\">Bouvet Island</option>\n",
      "            <option value=\"BRA\">Brazil</option>\n",
      "            <option value=\"IOT\">British Indian Ocean Territory</option>\n",
      "            <option value=\"BRN\">Brunei Darussalam</option>\n",
      "            <option value=\"BGR\">Bulgaria</option>\n",
      "            <option value=\"BFA\">Burkina Faso</option>\n",
      "            <option value=\"BDI\">Burundi</option>\n",
      "            <option value=\"KHM\">Cambodia</option>\n",
      "            <option value=\"CMR\">Cameroon</option>\n",
      "            <option value=\"CAN\">Canada</option>\n",
      "            <option value=\"CPV\">Cape Verde (Cabo Verde)</option>\n",
      "            <option value=\"CYM\">Cayman Islands</option>\n",
      "            <option value=\"CAF\">Central African Republic</option>\n",
      "            <option value=\"TCD\">Chad</option>\n",
      "            <option value=\"CHL\">Chile</option>\n",
      "            <option value=\"CHN\">China</option>\n",
      "            <option value=\"CXR\">Christmas Island</option>\n",
      "            <option value=\"CCK\">Cocos (Keeling) Islands</option>\n",
      "            <option value=\"COL\">Colombia</option>\n",
      "            <option value=\"COM\">Comoros</option>\n",
      "            <option value=\"COG\">Congo</option>\n",
      "            <option value=\"COD\">Congo, the Democratic Republic of the</option>\n",
      "            <option value=\"COK\">Cook Islands</option>\n",
      "            <option value=\"CRI\">Costa Rica</option>\n",
      "            <option value=\"CIV\">Côte d'Ivoire</option>\n",
      "            <option value=\"HRV\">Croatia</option>\n",
      "            <option value=\"CUB\">Cuba</option>\n",
      "            <option value=\"CUW\">Curaçao</option>\n",
      "            <option value=\"CYP\">Cyprus</option>\n",
      "            <option value=\"CZE\">Czech Republic</option>\n",
      "            <option value=\"DNK\">Denmark</option>\n",
      "            <option value=\"DJI\">Djibouti</option>\n",
      "            <option value=\"DMA\">Dominica</option>\n",
      "            <option value=\"DOM\">Dominican Republic</option>\n",
      "            <option value=\"ECU\">Ecuador</option>\n",
      "            <option value=\"EGY\">Egypt</option>\n",
      "            <option value=\"SLV\">El Salvador</option>\n",
      "            <option value=\"GNQ\">Equatorial Guinea</option>\n",
      "            <option value=\"ERI\">Eritrea</option>\n",
      "            <option value=\"EST\">Estonia</option>\n",
      "            <option value=\"ETH\">Ethiopia</option>\n",
      "            <option value=\"FLK\">Falkland Islands (Malvinas)</option>\n",
      "            <option value=\"FRO\">Faroe Islands</option>\n",
      "            <option value=\"FJI\">Fiji</option>\n",
      "            <option value=\"FIN\">Finland</option>\n",
      "            <option value=\"FRA\">France</option>\n",
      "            <option value=\"GUF\">French Guiana</option>\n",
      "            <option value=\"PYF\">French Polynesia</option>\n",
      "            <option value=\"ATF\">French Southern Territories</option>\n",
      "            <option value=\"GAB\">Gabon</option>\n",
      "            <option value=\"GMB\">Gambia</option>\n",
      "            <option value=\"GEO\">Georgia</option>\n",
      "            <option value=\"DEU\">Germany</option>\n",
      "            <option value=\"GHA\">Ghana</option>\n",
      "            <option value=\"GIB\">Gibraltar</option>\n",
      "            <option value=\"GRC\">Greece</option>\n",
      "            <option value=\"GRL\">Greenland</option>\n",
      "            <option value=\"GRD\">Grenada</option>\n",
      "            <option value=\"GLP\">Guadeloupe</option>\n",
      "            <option value=\"GUM\">Guam</option>\n",
      "            <option value=\"GTM\">Guatemala</option>\n",
      "            <option value=\"GGY\">Guernsey</option>\n",
      "            <option value=\"GIN\">Guinea</option>\n",
      "            <option value=\"GNB\">Guinea-Bissau</option>\n",
      "            <option value=\"GUY\">Guyana</option>\n",
      "            <option value=\"HTI\">Haiti</option>\n",
      "            <option value=\"HMD\">Heard Island and McDonald Islands</option>\n",
      "            <option value=\"VAT\">Holy See (Vatican City State)</option>\n",
      "            <option value=\"HND\">Honduras</option>\n",
      "            <option value=\"HKG\">Hong Kong</option>\n",
      "            <option value=\"HUN\">Hungary</option>\n",
      "            <option value=\"ISL\">Iceland</option>\n",
      "            <option value=\"IND\">India</option>\n",
      "            <option value=\"IDN\">Indonesia</option>\n",
      "            <option value=\"IRN\">Iran, Islamic Republic of</option>\n",
      "            <option value=\"IRQ\">Iraq</option>\n",
      "            <option value=\"IRL\">Ireland</option>\n",
      "            <option value=\"IMN\">Isle of Man</option>\n",
      "            <option value=\"ISR\">Israel</option>\n",
      "            <option value=\"ITA\">Italy</option>\n",
      "            <option value=\"JAM\">Jamaica</option>\n",
      "            <option value=\"JPN\">Japan</option>\n",
      "            <option value=\"JEY\">Jersey</option>\n",
      "            <option value=\"JOR\">Jordan</option>\n",
      "            <option value=\"KAZ\">Kazakhstan</option>\n",
      "            <option value=\"KEN\">Kenya</option>\n",
      "            <option value=\"KIR\">Kiribati</option>\n",
      "            <option value=\"PRK\">Korea, Democratic People's Republic of</option>\n",
      "            <option value=\"KOR\">Korea, Republic of</option>\n",
      "            <option value=\"KWT\">Kuwait</option>\n",
      "            <option value=\"KGZ\">Kyrgyzstan</option>\n",
      "            <option value=\"LAO\">Lao People's Democratic Republic</option>\n",
      "            <option value=\"LVA\">Latvia</option>\n",
      "            <option value=\"LBN\">Lebanon</option>\n",
      "            <option value=\"LSO\">Lesotho</option>\n",
      "            <option value=\"LBR\">Liberia</option>\n",
      "            <option value=\"LBY\">Libya</option>\n",
      "            <option value=\"LIE\">Liechtenstein</option>\n",
      "            <option value=\"LTU\">Lithuania</option>\n",
      "            <option value=\"LUX\">Luxembourg</option>\n",
      "            <option value=\"MAC\">Macao</option>\n",
      "            <option value=\"MKD\">Macedonia, the former Yugoslav Republic of</option>\n",
      "            <option value=\"MDG\">Madagascar</option>\n",
      "            <option value=\"MWI\">Malawi</option>\n",
      "            <option value=\"MYS\">Malaysia</option>\n",
      "            <option value=\"MDV\">Maldives</option>\n",
      "            <option value=\"MLI\">Mali</option>\n",
      "            <option value=\"MLT\">Malta</option>\n",
      "            <option value=\"MHL\">Marshall Islands</option>\n",
      "            <option value=\"MTQ\">Martinique</option>\n",
      "            <option value=\"MRT\">Mauritania</option>\n",
      "            <option value=\"MUS\">Mauritius</option>\n",
      "            <option value=\"MYT\">Mayotte</option>\n",
      "            <option value=\"MEX\">Mexico</option>\n",
      "            <option value=\"FSM\">Micronesia, Federated States of</option>\n",
      "            <option value=\"MDA\">Moldova, Republic of</option>\n",
      "            <option value=\"MCO\">Monaco</option>\n",
      "            <option value=\"MNG\">Mongolia</option>\n",
      "            <option value=\"MNE\">Montenegro</option>\n",
      "            <option value=\"MSR\">Montserrat</option>\n",
      "            <option value=\"MAR\">Morocco</option>\n",
      "            <option value=\"MOZ\">Mozambique</option>\n",
      "            <option value=\"MMR\">Myanmar</option>\n",
      "            <option value=\"NAM\">Namibia</option>\n",
      "            <option value=\"NRU\">Nauru</option>\n",
      "            <option value=\"NPL\">Nepal</option>\n",
      "            <option value=\"NLD\">Netherlands</option>\n",
      "            <option value=\"NCL\">New Caledonia</option>\n",
      "            <option value=\"NZL\">New Zealand</option>\n",
      "            <option value=\"NIC\">Nicaragua</option>\n",
      "            <option value=\"NER\">Niger</option>\n",
      "            <option value=\"NGA\">Nigeria</option>\n",
      "            <option value=\"NIU\">Niue</option>\n",
      "            <option value=\"NFK\">Norfolk Island</option>\n",
      "            <option value=\"MNP\">Northern Mariana Islands</option>\n",
      "            <option value=\"NOR\">Norway</option>\n",
      "            <option value=\"OMN\">Oman</option>\n",
      "            <option value=\"PAK\">Pakistan</option>\n",
      "            <option value=\"PLW\">Palau</option>\n",
      "            <option value=\"PSE\">Palestinian Territory, Occupied</option>\n",
      "            <option value=\"PAN\">Panama</option>\n",
      "            <option value=\"PNG\">Papua New Guinea</option>\n",
      "            <option value=\"PRY\">Paraguay</option>\n",
      "            <option value=\"PER\">Peru</option>\n",
      "            <option value=\"PHL\">Philippines</option>\n",
      "            <option value=\"PCN\">Pitcairn</option>\n",
      "            <option value=\"POL\">Poland</option>\n",
      "            <option value=\"PRT\">Portugal</option>\n",
      "            <option value=\"PRI\">Puerto Rico</option>\n",
      "            <option value=\"QAT\">Qatar</option>\n",
      "            <option value=\"REU\">Réunion</option>\n",
      "            <option value=\"ROU\">Romania</option>\n",
      "            <option value=\"RUS\">Russian Federation</option>\n",
      "            <option value=\"RWA\">Rwanda</option>\n",
      "            <option value=\"BLM\">Saint Barthélemy</option>\n",
      "            <option value=\"SHN\">Saint Helena, Ascension and Tristan da Cunha</option>\n",
      "            <option value=\"KNA\">Saint Kitts and Nevis</option>\n",
      "            <option value=\"LCA\">Saint Lucia</option>\n",
      "            <option value=\"MAF\">Saint Martin (French part)</option>\n",
      "            <option value=\"SPM\">Saint Pierre and Miquelon</option>\n",
      "            <option value=\"VCT\">Saint Vincent and the Grenadines</option>\n",
      "            <option value=\"WSM\">Samoa</option>\n",
      "            <option value=\"SMR\">San Marino</option>\n",
      "            <option value=\"STP\">Sao Tome and Principe</option>\n",
      "            <option value=\"SAU\">Saudi Arabia</option>\n",
      "            <option value=\"SEN\">Senegal</option>\n",
      "            <option value=\"SRB\">Serbia</option>\n",
      "            <option value=\"SYC\">Seychelles</option>\n",
      "            <option value=\"SLE\">Sierra Leone</option>\n",
      "            <option value=\"SGP\">Singapore</option>\n",
      "            <option value=\"SXM\">Sint Maarten (Dutch part)</option>\n",
      "            <option value=\"SVK\">Slovakia</option>\n",
      "            <option value=\"SVN\">Slovenia</option>\n",
      "            <option value=\"SLB\">Solomon Islands</option>\n",
      "            <option value=\"SOM\">Somalia</option>\n",
      "            <option value=\"ZAF\">South Africa</option>\n",
      "            <option value=\"SGS\">South Georgia and the South Sandwich Islands</option>\n",
      "            <option value=\"SSD\">South Sudan</option>\n",
      "            <option value=\"ESP\">Spain</option>\n",
      "            <option value=\"LKA\">Sri Lanka</option>\n",
      "            <option value=\"SDN\">Sudan</option>\n",
      "            <option value=\"SUR\">Suriname</option>\n",
      "            <option value=\"SJM\">Svalbard and Jan Mayen</option>\n",
      "            <option value=\"SWZ\">Eswatini (Swaziland)</option>\n",
      "            <option value=\"SWE\">Sweden</option>\n",
      "            <option value=\"CHE\">Switzerland</option>\n",
      "            <option value=\"SYR\">Syrian Arab Republic</option>\n",
      "            <option value=\"TWN\">Taiwan, Province of China</option>\n",
      "            <option value=\"TJK\">Tajikistan</option>\n",
      "            <option value=\"TZA\">Tanzania, United Republic of</option>\n",
      "            <option value=\"THA\">Thailand</option>\n",
      "            <option value=\"TLS\">Timor-Leste</option>\n",
      "            <option value=\"TGO\">Togo</option>\n",
      "            <option value=\"TKL\">Tokelau</option>\n",
      "            <option value=\"TON\">Tonga</option>\n",
      "            <option value=\"TTO\">Trinidad and Tobago</option>\n",
      "            <option value=\"TUN\">Tunisia</option>\n",
      "            <option value=\"TUR\">Turkey</option>\n",
      "            <option value=\"TKM\">Turkmenistan</option>\n",
      "            <option value=\"TCA\">Turks and Caicos Islands</option>\n",
      "            <option value=\"TUV\">Tuvalu</option>\n",
      "            <option value=\"UGA\">Uganda</option>\n",
      "            <option value=\"UKR\">Ukraine</option>\n",
      "            <option value=\"ARE\">United Arab Emirates</option>\n",
      "            <option value=\"GBR\">United Kingdom</option>\n",
      "            <option value=\"UMI\">United States Minor Outlying Islands</option>\n",
      "            <option value=\"URY\">Uruguay</option>\n",
      "            <option value=\"UZB\">Uzbekistan</option>\n",
      "            <option value=\"VUT\">Vanuatu</option>\n",
      "            <option value=\"VEN\">Venezuela, Bolivarian Republic of</option>\n",
      "            <option value=\"VNM\">Viet Nam</option>\n",
      "            <option value=\"VGB\">Virgin Islands, British</option>\n",
      "            <option value=\"VIR\">Virgin Islands, U.S.</option>\n",
      "            <option value=\"WLF\">Wallis and Futuna</option>\n",
      "            <option value=\"ESH\">Western Sahara</option>\n",
      "            <option value=\"YEM\">Yemen</option>\n",
      "            <option value=\"ZMB\">Zambia</option>\n",
      "            <option value=\"ZWE\">Zimbabwe</option>\n",
      "        </select>\n",
      "       </div>\n",
      "    </div>\n",
      "\n",
      "        <div class=\"gdprNL gdprNLHide\">\n",
      "                <span class=\"label\"><a href=\"https://1105media.com/pages/terms-of-use.aspx\" target=\"_blank\">Terms</a> and <a href=\"https://1105media.com/pages/privacy-policy.aspx\" target=\"_blank\">Privacy Policy</a> consent</span>\n",
      "\n",
      "                <div id=\"gdprOptIn\" class=\"gdprOptions\">\n",
      "                    <span>\n",
      "                        <input id=\"radGDPR12117_Y\" type=\"radio\" name=\"gdprOptIn\" value=\"65603\" data-val=\"true\" data-val-required=\"Please make your consent selection\">\n",
      "                        <label>Yes, I agree</label>\n",
      "                    </span>\n",
      "\n",
      "                    <span>\n",
      "                        <input id=\"radGDPR12117_N\" type=\"radio\" name=\"gdprOptIn\" value=\"65602\">\n",
      "                        <label>No, I don't agree</label>\n",
      "                    </span>\n",
      "                </div>\n",
      "        </div>\n",
      "\n",
      "\t\t\t\t<div class=\"dvForm-button\">\n",
      "                    <input type=\"button\" value=\"submit\" id=\"button\" data-state=\"hidden\">\n",
      "                </div>\n",
      "\t\t\t</div>\n",
      "\t\t\t<div id=\"FormSent\" class=\"hide\"></div>\n",
      "\t\t</div>\n",
      "\t</div>\n",
      "\t<script type=\"text/javascript\" src=\"https://1105media.com/script/enewsletter-miniforms.js\"></script><p class=\"enewsletterprivacypolicy\">I agree to this site's <a href=\"https://1105media.com/pages/privacy-policy.aspx\" target=\"_blank\">Privacy Policy</a>.</p>\n",
      "</div>\n"
     ]
    }
   ],
   "source": [
    "# url 134\n",
    "i = urls[133]\n",
    "#open_url(i)\n",
    "element = driver.find_element_by_css_selector('.NET-INSIGHT')\n",
    "source = element.get_attribute(\"outerHTML\")\n",
    "print(source)\n",
    "data.append({\"TYPE\" : ad_type, \"ad_code\" : source, \"URL\" : i})"
   ]
  },
  {
   "cell_type": "code",
   "execution_count": 95,
   "metadata": {
    "collapsed": true
   },
   "outputs": [
    {
     "name": "stdout",
     "output_type": "stream",
     "text": [
      "<div class=\"ad special--fixed\">\n",
      "        <div id=\"div-gpt-ad-wallpaper_right-0004\" data-google-query-id=\"CNPo8MTe4OcCFTHUTAIdYIUKvg\" class=\"ad-loaded\">\n",
      "            \n",
      "            \n",
      "        <div id=\"google_ads_iframe_/5978/eof.vsm/home_3__container__\" style=\"border: 0pt none;\"><iframe id=\"google_ads_iframe_/5978/eof.vsm/home_3\" title=\"3rd party ad content\" name=\"google_ads_iframe_/5978/eof.vsm/home_3\" scrolling=\"no\" marginwidth=\"0\" marginheight=\"0\" style=\"border: 0px none; vertical-align: bottom;\" srcdoc=\"\" data-google-container-id=\"4\" data-load-complete=\"true\" width=\"152\" height=\"600\" frameborder=\"0\"></iframe></div></div>\n",
      "    </div>\n"
     ]
    }
   ],
   "source": [
    "# url 135\n",
    "i = urls[134]\n",
    "#open_url(i)\n",
    "element = driver.find_element_by_css_selector('div.special--fixed:nth-child(2)')\n",
    "source = element.get_attribute(\"outerHTML\")\n",
    "print(source)\n",
    "data.append({\"TYPE\" : ad_type, \"ad_code\" : source, \"URL\" : i})"
   ]
  },
  {
   "cell_type": "code",
   "execution_count": 97,
   "metadata": {
    "collapsed": true
   },
   "outputs": [
    {
     "name": "stdout",
     "output_type": "stream",
     "text": [
      "<div class=\"fl-row fl-row-full-width fl-row-bg-photo fl-node-5b5a882d194e5\" data-node=\"5b5a882d194e5\">\n",
      "\t<div class=\"fl-row-content-wrap\">\n",
      "\t\t\t\t\t\t\t\t<div class=\"fl-row-content fl-row-fixed-width fl-node-content\">\n",
      "\t\t\n",
      "<div class=\"fl-col-group fl-node-5b5a882d238d6 fl-col-group-equal-height fl-col-group-align-center\" data-node=\"5b5a882d238d6\">\n",
      "\t\t\t<div class=\"fl-col fl-node-5b5a882d23a8d fl-col-small\" data-node=\"5b5a882d23a8d\">\n",
      "\t<div class=\"fl-col-content fl-node-content\">\n",
      "\t<div class=\"fl-module fl-module-photo fl-node-5b5a88941882d\" data-node=\"5b5a88941882d\">\n",
      "\t<div class=\"fl-module-content fl-node-content\">\n",
      "\t\t<div class=\"fl-photo fl-photo-align-center\" itemscope=\"\" itemtype=\"https://schema.org/ImageObject\">\n",
      "\t<div class=\"fl-photo-content fl-photo-img-png\">\n",
      "\t\t\t\t<img class=\"fl-photo-img wp-image-32891\" src=\"https://www.success.com/wp-content/uploads/2018/07/SUCCESS_mag_fan_sm.png\" alt=\"SUCCESS_mag_fan_sm\" itemprop=\"image\" title=\"SUCCESS_mag_fan_sm\" srcset=\"https://www.success.com/wp-content/uploads/2018/07/SUCCESS_mag_fan_sm.png 446w, https://www.success.com/wp-content/uploads/2018/07/SUCCESS_mag_fan_sm-250x300.png 250w\" sizes=\"(max-width: 446px) 100vw, 446px\" data-large_image_width=\"446\" data-large_image_height=\"536\">\n",
      "\t\t\t\t\t</div>\n",
      "\t</div>\n",
      "\t</div>\n",
      "</div>\n",
      "\t</div>\n",
      "</div>\n",
      "\t\t\t<div class=\"fl-col fl-node-5b5a882d23acd\" data-node=\"5b5a882d23acd\">\n",
      "\t<div class=\"fl-col-content fl-node-content\">\n",
      "\t<div class=\"fl-module fl-module-rich-text fl-node-5b5a89525c940 success_mag_text\" data-node=\"5b5a89525c940\">\n",
      "\t<div class=\"fl-module-content fl-node-content\">\n",
      "\t\t<div class=\"fl-rich-text\">\n",
      "\t<h1 style=\"font-size: 6rem;\">Bring SUCCESS Home</h1>\n",
      "<p>&nbsp;</p>\n",
      "<p><span style=\"font-size: 2rem; line-height: 1em;\">Discover the magazine that SUCCESSFUL people read. Inspiring stories, instructive interviews and life-changing strategies. </span></p>\n",
      "</div>\n",
      "\t</div>\n",
      "</div>\n",
      "<div class=\"fl-module fl-module-button fl-node-5b5f54da7ee00\" data-node=\"5b5f54da7ee00\">\n",
      "\t<div class=\"fl-module-content fl-node-content\">\n",
      "\t\t<div class=\"fl-button-wrap fl-button-width-custom fl-button-left\">\n",
      "\t\t\t<a href=\"http://www.success.com/subscribe\" target=\"_blank\" class=\"fl-button\" role=\"button\" rel=\"noopener\">\n",
      "\t\t\t\t\t\t\t<span class=\"fl-button-text\">Subscribe Today!</span>\n",
      "\t\t\t\t\t</a>\n",
      "</div>\n",
      "\t</div>\n",
      "</div>\n",
      "\t</div>\n",
      "</div>\n",
      "\t</div>\n",
      "\t\t</div>\n",
      "\t</div>\n",
      "</div>\n"
     ]
    }
   ],
   "source": [
    "# url 136\n",
    "i = urls[135]\n",
    "#open_url(i)\n",
    "element = driver.find_element_by_css_selector('div.fl-row:nth-child(10)')\n",
    "source = element.get_attribute(\"outerHTML\")\n",
    "print(source)\n",
    "data.append({\"TYPE\" : ad_type, \"ad_code\" : source, \"URL\" : i})"
   ]
  },
  {
   "cell_type": "code",
   "execution_count": 99,
   "metadata": {
    "collapsed": true
   },
   "outputs": [
    {
     "name": "stdout",
     "output_type": "stream",
     "text": [
      "<div class=\"fl-row fl-row-full-width fl-row-bg-parallax fl-node-5b5a81e2c43ad fl-row-full-height fl-row-align-center\" data-node=\"5b5a81e2c43ad\" data-parallax-speed=\"2\" data-parallax-image=\"https://www.success.com/wp-content/uploads/2019/12/success-plus-bg.jpg\">\n",
      "\t<div class=\"fl-row-content-wrap\" style=\"background-position: center -39.9167px; background-image: url(&quot;https://www.success.com/wp-content/uploads/2019/12/success-plus-bg.jpg&quot;);\">\n",
      "\t\t\t\t\t\t\t\t<div class=\"fl-row-content fl-row-fixed-width fl-node-content\">\n",
      "\t\t\n",
      "<div class=\"fl-col-group fl-node-5b5a81e2cf661\" data-node=\"5b5a81e2cf661\">\n",
      "\t\t\t<div class=\"fl-col fl-node-5b5a81e2cf899\" data-node=\"5b5a81e2cf899\">\n",
      "\t<div class=\"fl-col-content fl-node-content\">\n",
      "\t<div class=\"fl-module fl-module-cta fl-node-5b5c97694ec15\" data-node=\"5b5c97694ec15\">\n",
      "\t<div class=\"fl-module-content fl-node-content\">\n",
      "\t\t<div class=\"fl-cta-wrap fl-cta-inline\">\n",
      "\t<div class=\"fl-cta-text\">\n",
      "\t\t<h3 class=\"fl-cta-title\">Take your success journey to the next level!</h3>\n",
      "\t\t<div class=\"fl-cta-text-content\"><p><span style=\"font-size: 18px;\">Join our private membership community for more exclusives and interactivity with world-class leaders.</span></p>\n",
      "</div>\n",
      "\t</div>\n",
      "\t<div class=\"fl-cta-button\">\n",
      "\t\t<div class=\"fl-button-wrap fl-button-width-full\">\n",
      "\t\t\t<a href=\"https://www.successacademy.com/success-plus\" target=\"_blank\" class=\"fl-button\" role=\"button\" rel=\"noopener\">\n",
      "\t\t\t\t\t\t\t<span class=\"fl-button-text\">Try SUCCESS+ Today</span>\n",
      "\t\t\t\t\t</a>\n",
      "</div>\n",
      "\t</div>\n",
      "</div>\n",
      "\t</div>\n",
      "</div>\n",
      "\t</div>\n",
      "</div>\n",
      "\t</div>\n",
      "\t\t</div>\n",
      "\t</div>\n",
      "</div>\n"
     ]
    }
   ],
   "source": [
    "# url 137\n",
    "i = urls[136]\n",
    "#open_url(i)\n",
    "element = driver.find_element_by_css_selector('div.fl-row:nth-child(14)')\n",
    "source = element.get_attribute(\"outerHTML\")\n",
    "print(source)\n",
    "data.append({\"TYPE\" : ad_type, \"ad_code\" : source, \"URL\" : i})"
   ]
  },
  {
   "cell_type": "code",
   "execution_count": 101,
   "metadata": {
    "collapsed": true
   },
   "outputs": [
    {
     "name": "stdout",
     "output_type": "stream",
     "text": [
      "<div class=\"ad-leaderboard-container\">\n",
      "        <div id=\"div-gpt-ad-leaderboard\" class=\"advertisement\" data-google-query-id=\"COzF17nf4OcCFcZplgodNlsE8g\"><div id=\"google_ads_iframe_/52040140/sec/web/home/leaderboard_0__container__\" style=\"border: 0pt none;\"><iframe id=\"google_ads_iframe_/52040140/sec/web/home/leaderboard_0\" title=\"3rd party ad content\" name=\"google_ads_iframe_/52040140/sec/web/home/leaderboard_0\" scrolling=\"no\" marginwidth=\"0\" marginheight=\"0\" style=\"border: 0px none; vertical-align: bottom;\" srcdoc=\"\" data-google-container-id=\"7\" data-load-complete=\"true\" width=\"728\" height=\"90\" frameborder=\"0\"></iframe></div></div>\n",
      "      </div>\n"
     ]
    }
   ],
   "source": [
    "# url 138\n",
    "i = urls[137]\n",
    "#open_url(i)\n",
    "element = driver.find_element_by_css_selector('.ad-leaderboard-container')\n",
    "source = element.get_attribute(\"outerHTML\")\n",
    "print(source)\n",
    "data.append({\"TYPE\" : ad_type, \"ad_code\" : source, \"URL\" : i})"
   ]
  },
  {
   "cell_type": "code",
   "execution_count": 103,
   "metadata": {
    "collapsed": true
   },
   "outputs": [
    {
     "name": "stdout",
     "output_type": "stream",
     "text": [
      "<div id=\"div-gpt-ad-sidebar-sky\" class=\"advertisement\" data-google-query-id=\"CNHmptff4OcCFU0uKgodswYCQA\"><div id=\"google_ads_iframe_/52040140/sec/web/home/sidebar-sky_0__container__\" style=\"border: 0pt none;\"><iframe id=\"google_ads_iframe_/52040140/sec/web/home/sidebar-sky_0\" title=\"3rd party ad content\" name=\"google_ads_iframe_/52040140/sec/web/home/sidebar-sky_0\" scrolling=\"no\" marginwidth=\"0\" marginheight=\"0\" style=\"border: 0px none; vertical-align: bottom;\" srcdoc=\"\" data-google-container-id=\"1\" data-load-complete=\"true\" width=\"160\" height=\"600\" frameborder=\"0\"></iframe></div></div>\n"
     ]
    }
   ],
   "source": [
    "# url 139\n",
    "i = urls[138]\n",
    "#open_url(i)\n",
    "element = driver.find_element_by_css_selector('#div-gpt-ad-sidebar-sky')\n",
    "source = element.get_attribute(\"outerHTML\")\n",
    "print(source)\n",
    "data.append({\"TYPE\" : ad_type, \"ad_code\" : source, \"URL\" : i})"
   ]
  },
  {
   "cell_type": "code",
   "execution_count": 105,
   "metadata": {
    "collapsed": true
   },
   "outputs": [
    {
     "name": "stdout",
     "output_type": "stream",
     "text": [
      "<div class=\"signup-nl-right-rail-top\">\n",
      "                    <div class=\"signup-nl-module show-for-large-only\">\n",
      "                        <div class=\"signup-cta\" id=\"nl-rr-top-label\">Sign up for our free email newsletters</div><div class=\"form-message form-success-message\">Your free email newsletter subscription is confirmed. Thank you for subscribing!</div><div class=\"form-message form-error-message\">Sorry, there was a problem. Please check the information entered and try again.</div><form class=\"signup-nl-form clearfix\" id=\"signup-nl-hp-right-rail-top\" action=\"/signup\" method=\"POST\" novalidate=\"novalidate\"><div class=\"email-wrapper\"><input name=\"email\" class=\"email-input\" placeholder=\"Enter email\" aria-labelledby=\"nl-rr-top-label\" type=\"email\" required=\"\" aria-required=\"true\"></div><input name=\"signupsource\" value=\"hp_right_rail_top\" class=\"hide\" type=\"hidden\"><button class=\"submit-button tw-button opacity-rollover\" type=\"submit\">SIGN UP NOW</button></form>                    </div>\n",
      "                </div>\n"
     ]
    }
   ],
   "source": [
    "# url 140\n",
    "i = urls[139]\n",
    "#open_url(i)\n",
    "element = driver.find_element_by_css_selector('.signup-nl-right-rail-top')\n",
    "source = element.get_attribute(\"outerHTML\")\n",
    "print(source)\n",
    "data.append({\"TYPE\" : ad_type, \"ad_code\" : source, \"URL\" : i})"
   ]
  },
  {
   "cell_type": "code",
   "execution_count": 107,
   "metadata": {
    "collapsed": true
   },
   "outputs": [
    {
     "name": "stdout",
     "output_type": "stream",
     "text": [
      "<div class=\"hp-right-rail-top-ad\">\n",
      "                     \n",
      "    <!--TARGETING [home_right_rail_top_ad-desktop-0]:\n",
      "- name = home_right_rail_top_ad\n",
      "- position = 6\n",
      "- placement = TW_Home_D_6\n",
      "- inventory = btf\n",
      "- breakpoint = desktop\n",
      "- dev = 0\n",
      "- sponsored = 0\n",
      "- preview = 0\n",
      "- tags = home\n",
      "- [300x250,300x600,1x1]--><div id=\"home_right_rail_top_ad-desktop-0\" class=\"home-right-rail-top-ad managed-ad dfp-ad desktop\" data-google-query-id=\"CKLk24ng4OcCFUK_vQod4G4Pyg\"><div id=\"google_ads_iframe_/4697366/theweek.com/home_4__container__\" style=\"border: 0pt none;\"><iframe id=\"google_ads_iframe_/4697366/theweek.com/home_4\" title=\"3rd party ad content\" name=\"google_ads_iframe_/4697366/theweek.com/home_4\" scrolling=\"no\" marginwidth=\"0\" marginheight=\"0\" style=\"border: 0px none; vertical-align: bottom;\" srcdoc=\"\" sandbox=\"allow-forms allow-same-origin allow-scripts allow-popups\" data-google-container-id=\"5\" data-load-complete=\"true\" width=\"300\" height=\"600\" frameborder=\"0\"></iframe></div></div>\n",
      "\n",
      "    <div id=\"home-right-rail-top-ad-tablet\" class=\"home-right-rail-top-ad managed-ad dfp-ad tablet\" data-ad-id=\"home_right_rail_top_ad\" data-device=\"tablet\" data-targets=\"name:home_right_rail_top_ad;position:6;placement:TW_Home_T_6;inventory:btf;breakpoint:tablet;\">\n",
      "    </div>\n",
      "\n",
      "\n",
      "                </div>\n"
     ]
    }
   ],
   "source": [
    "# url 141\n",
    "i = urls[140]\n",
    "#open_url(i)\n",
    "element = driver.find_element_by_css_selector('.hp-right-rail-top-ad')\n",
    "source = element.get_attribute(\"outerHTML\")\n",
    "print(source)\n",
    "data.append({\"TYPE\" : ad_type, \"ad_code\" : source, \"URL\" : i})"
   ]
  },
  {
   "cell_type": "code",
   "execution_count": 109,
   "metadata": {
    "collapsed": true
   },
   "outputs": [
    {
     "name": "stdout",
     "output_type": "stream",
     "text": [
      "<div id=\"ATF_300x250_300x600_300x1050\" class=\"cbv-ad\" style=\"\">\n",
      "    <div id=\"div-gpt-ad-chuckweasley-2\" class=\"ad-slot\" data-ad-settings=\"desktopSideTop\" data-ad-setup=\"true\" data-google-query-id=\"CN68grng4OcCFQglKgodOLYMQA\"><div id=\"google_ads_iframe_/308522/smithsonianmag.tmus/homepage_3__container__\" style=\"border: 0pt none;\"><iframe id=\"google_ads_iframe_/308522/smithsonianmag.tmus/homepage_3\" title=\"3rd party ad content\" name=\"google_ads_iframe_/308522/smithsonianmag.tmus/homepage_3\" scrolling=\"no\" marginwidth=\"0\" marginheight=\"0\" style=\"border: 0px none; vertical-align: bottom;\" srcdoc=\"\" data-google-container-id=\"5\" data-load-complete=\"true\" width=\"300\" height=\"250\" frameborder=\"0\"></iframe></div></div>\n",
      "</div>\n"
     ]
    }
   ],
   "source": [
    "# url 142\n",
    "i = urls[141]\n",
    "#open_url(i)\n",
    "element = driver.find_element_by_css_selector('#ATF_300x250_300x600_300x1050')\n",
    "source = element.get_attribute(\"outerHTML\")\n",
    "print(source)\n",
    "data.append({\"TYPE\" : ad_type, \"ad_code\" : source, \"URL\" : i})"
   ]
  },
  {
   "cell_type": "code",
   "execution_count": 111,
   "metadata": {
    "collapsed": true
   },
   "outputs": [
    {
     "name": "stdout",
     "output_type": "stream",
     "text": [
      "<section class=\"ad_right clm2 ad_pc\">\n",
      "<ul>\n",
      "<li>\n",
      "<!-- Side1 -->\n",
      "<div id=\"div-gpt-ad-1357687694768-2\" data-google-query-id=\"CJG7l8Xg4OcCFQUlvQody3YJbA\">\n",
      "\n",
      "<div id=\"google_ads_iframe_/20924569/Side1_0__container__\" style=\"border: 0pt none;\"><iframe id=\"google_ads_iframe_/20924569/Side1_0\" title=\"3rd party ad content\" name=\"google_ads_iframe_/20924569/Side1_0\" scrolling=\"no\" marginwidth=\"0\" marginheight=\"0\" style=\"border: 0px none; vertical-align: bottom;\" srcdoc=\"\" data-google-container-id=\"2\" data-load-complete=\"true\" width=\"300\" height=\"250\" frameborder=\"0\"></iframe></div></div>\n",
      "</li>\n",
      "<li>\n",
      "<!-- Side2 -->\n",
      "<div id=\"div-gpt-ad-1357687694768-3\" data-google-query-id=\"CJK7l8Xg4OcCFQUlvQody3YJbA\">\n",
      "\n",
      "<div id=\"google_ads_iframe_/20924569/Side2_0__container__\" style=\"border: 0pt none;\"><iframe id=\"google_ads_iframe_/20924569/Side2_0\" title=\"3rd party ad content\" name=\"google_ads_iframe_/20924569/Side2_0\" scrolling=\"no\" marginwidth=\"0\" marginheight=\"0\" style=\"border: 0px none; vertical-align: bottom;\" srcdoc=\"\" data-google-container-id=\"3\" data-load-complete=\"true\" width=\"300\" height=\"250\" frameborder=\"0\"></iframe></div></div>\n",
      "</li>\n",
      "</ul>\n",
      "</section>\n"
     ]
    }
   ],
   "source": [
    "# url 143\n",
    "i = urls[142]\n",
    "#open_url(i)\n",
    "element = driver.find_element_by_css_selector('section.ad_right:nth-child(1)')\n",
    "source = element.get_attribute(\"outerHTML\")\n",
    "print(source)\n",
    "data.append({\"TYPE\" : ad_type, \"ad_code\" : source, \"URL\" : i})"
   ]
  },
  {
   "cell_type": "code",
   "execution_count": 113,
   "metadata": {
    "collapsed": true
   },
   "outputs": [
    {
     "name": "stdout",
     "output_type": "stream",
     "text": [
      "<div style=\"min-width: 300px;\" class=\"BarronsTheme--adWrapper--JuoHipNd \"><div id=\"AD_1TOP\" style=\"width: 300px;\" class=\"BarronsTheme--adContainer--Y8mK0EH6  null\" data-google-query-id=\"CLnR9-Dg4OcCFYaXlgod8o0Cww\"><div id=\"google_ads_iframe_/2/barrons.com/BarronsThisWeeksMagazine_0__container__\" style=\"border: 0pt none;\"><iframe id=\"google_ads_iframe_/2/barrons.com/BarronsThisWeeksMagazine_0\" title=\"3rd party ad content\" name=\"google_ads_iframe_/2/barrons.com/BarronsThisWeeksMagazine_0\" scrolling=\"no\" marginwidth=\"0\" marginheight=\"0\" style=\"border: 0px none; vertical-align: bottom;\" srcdoc=\"\" data-google-container-id=\"1\" data-load-complete=\"true\" width=\"300\" height=\"250\" frameborder=\"0\"></iframe></div></div></div>\n"
     ]
    }
   ],
   "source": [
    "# url 144\n",
    "i = urls[143]\n",
    "#open_url(i)\n",
    "element = driver.find_element_by_css_selector('.BarronsTheme--adWrapper--JuoHipNd')\n",
    "source = element.get_attribute(\"outerHTML\")\n",
    "print(source)\n",
    "data.append({\"TYPE\" : ad_type, \"ad_code\" : source, \"URL\" : i})"
   ]
  },
  {
   "cell_type": "code",
   "execution_count": 115,
   "metadata": {
    "collapsed": true
   },
   "outputs": [
    {
     "name": "stdout",
     "output_type": "stream",
     "text": [
      "<div id=\"custom_html-1002\" class=\"widget_text widget widget_custom_html\"><div class=\"textwidget custom-html-widget\"><style>\n",
      ".inline_widget_advert_content { \n",
      "text-align:center; \n",
      "padding-top: 0px; \n",
      "padding-bottom: 30px; \n",
      "}\n",
      "</style>\n",
      "\n",
      "<div class=\"inline_widget_advert_content\" style=\"min-height: auto; width: 100%;\">\n",
      "<!-- /21624813019/ApolloHome//1stInline_BB -->\n",
      "<div id=\"div-gpt-ad-Apollo-Home-InlineLB1\" data-google-query-id=\"CJfLrvrg4OcCFUvAvQodUPILYA\">\n",
      "<div id=\"google_ads_iframe_/21624813019/ApolloHome//1stInline_BB_0__container__\" style=\"border: 0pt none;\"><iframe id=\"google_ads_iframe_/21624813019/ApolloHome//1stInline_BB_0\" title=\"3rd party ad content\" name=\"google_ads_iframe_/21624813019/ApolloHome//1stInline_BB_0\" scrolling=\"no\" marginwidth=\"0\" marginheight=\"0\" style=\"border: 0px none; vertical-align: bottom;\" srcdoc=\"\" data-google-container-id=\"2\" data-load-complete=\"true\" width=\"1140\" height=\"250\" frameborder=\"0\"></iframe></div></div>\n",
      "</div></div></div>\n"
     ]
    }
   ],
   "source": [
    "# url 145\n",
    "i = urls[144]\n",
    "#open_url(i)\n",
    "element = driver.find_element_by_css_selector('#custom_html-1002')\n",
    "source = element.get_attribute(\"outerHTML\")\n",
    "print(source)\n",
    "data.append({\"TYPE\" : ad_type, \"ad_code\" : source, \"URL\" : i})"
   ]
  },
  {
   "cell_type": "code",
   "execution_count": 117,
   "metadata": {
    "collapsed": true
   },
   "outputs": [
    {
     "name": "stdout",
     "output_type": "stream",
     "text": [
      "<div class=\"adunitContainer\"><div class=\"adBox\" id=\"homepageBillboardDesktop\" data-google-query-id=\"CIzqhZbh4OcCFU0uKgodEjQDfw\"><div id=\"google_ads_iframe_3004818/DSC-Billboard-HP_0__container__\" style=\"border: 0pt none;\"><iframe id=\"google_ads_iframe_3004818/DSC-Billboard-HP_0\" title=\"3rd party ad content\" name=\"google_ads_iframe_3004818/DSC-Billboard-HP_0\" scrolling=\"no\" marginwidth=\"0\" marginheight=\"0\" style=\"border: 0px none; vertical-align: bottom;\" srcdoc=\"\" data-google-container-id=\"2\" data-load-complete=\"true\" width=\"970\" height=\"250\" frameborder=\"0\"></iframe></div></div></div>\n"
     ]
    }
   ],
   "source": [
    "# url 146\n",
    "i = urls[145]\n",
    "#open_url(i)\n",
    "element = driver.find_element_by_css_selector('.sc-7xvhmc-2 > div:nth-child(1) > div:nth-child(1)')\n",
    "source = element.get_attribute(\"outerHTML\")\n",
    "print(source)\n",
    "data.append({\"TYPE\" : ad_type, \"ad_code\" : source, \"URL\" : i})"
   ]
  },
  {
   "cell_type": "code",
   "execution_count": 119,
   "metadata": {
    "collapsed": true
   },
   "outputs": [
    {
     "name": "stdout",
     "output_type": "stream",
     "text": [
      "<div class=\"sc-1bn6ekv-0 hVnGXW\"><a class=\"sc-1l8y4q5-0 sc-1bn6ekv-1 gnDFwo\" target=\"_blank\" rel=\"noopener noreferrer\" href=\"https://www.discovermagazine.com/newsletter-signup\"><h3 class=\"sc-1bn6ekv-2 fVvKok\">Newsletter signup</h3><img src=\"https://images.ctfassets.net/cnu0m8re1exe/1bqJMbFHq5FEoASO5gXUge/92698e3a561e34a3dc8472c1c828ab3d/DSC_newsletter.jpg?w=420&amp;h=230&amp;fit=fill\" alt=\"DSC newsletter\" class=\"sc-bdVaJa sc-bZQynM sc-1bn6ekv-3 hENyOd sc-16f2h9s-0 dxtHqu\"><p class=\"sc-1bn6ekv-4 dUmcCR\">Sign up for our email newsletter for the latest science news and fun facts you won't want to miss!</p></a></div>\n"
     ]
    }
   ],
   "source": [
    "# url 147\n",
    "i = urls[146]\n",
    "#open_url(i)\n",
    "element = driver.find_element_by_css_selector('.sc-7xvhmc-7 > div:nth-child(2)')\n",
    "source = element.get_attribute(\"outerHTML\")\n",
    "print(source)\n",
    "data.append({\"TYPE\" : ad_type, \"ad_code\" : source, \"URL\" : i})"
   ]
  },
  {
   "cell_type": "code",
   "execution_count": 121,
   "metadata": {
    "collapsed": true
   },
   "outputs": [
    {
     "name": "stdout",
     "output_type": "stream",
     "text": [
      "<div class=\"mid-content-ad\">\n",
      "    <section class=\"ad\">\n",
      "  <div id=\"div-gpt-ad-mid-content\" class=\"ad__placement ad__content\" data-google-query-id=\"CNDH0cHh4OcCFY4tlgod4C0MtQ\"><div id=\"google_ads_iframe_/8971760/home-mid-leaderboard_0__container__\" style=\"border: 0pt none;\"><iframe id=\"google_ads_iframe_/8971760/home-mid-leaderboard_0\" title=\"3rd party ad content\" name=\"google_ads_iframe_/8971760/home-mid-leaderboard_0\" scrolling=\"no\" marginwidth=\"0\" marginheight=\"0\" style=\"border: 0px none; vertical-align: bottom;\" srcdoc=\"\" data-google-container-id=\"5\" data-load-complete=\"true\" width=\"728\" height=\"90\" frameborder=\"0\"></iframe></div></div>\n",
      "</section>\n",
      "  </div>\n"
     ]
    }
   ],
   "source": [
    "# url 148\n",
    "i = urls[147]\n",
    "#open_url(i)\n",
    "element = driver.find_element_by_css_selector('.mid-content-ad')\n",
    "source = element.get_attribute(\"outerHTML\")\n",
    "print(source)\n",
    "data.append({\"TYPE\" : ad_type, \"ad_code\" : source, \"URL\" : i})"
   ]
  },
  {
   "cell_type": "code",
   "execution_count": 123,
   "metadata": {
    "collapsed": true
   },
   "outputs": [
    {
     "name": "stdout",
     "output_type": "stream",
     "text": [
      "<div class=\"safety-tips-ad\">\n",
      "      <section class=\"ad\">\n",
      "  <div id=\"div-gpt-ad-either-or-int\" class=\"ad__placement ad__content\" data-google-query-id=\"CN-Ku9bh4OcCFUGUwgodkbUFFg\"><div id=\"google_ads_iframe_/8971760/Internal_either_or_0__container__\" style=\"border: 0pt none;\"><iframe id=\"google_ads_iframe_/8971760/Internal_either_or_0\" title=\"3rd party ad content\" name=\"google_ads_iframe_/8971760/Internal_either_or_0\" scrolling=\"no\" marginwidth=\"0\" marginheight=\"0\" style=\"border: 0px none; vertical-align: bottom;\" srcdoc=\"\" data-google-container-id=\"2\" data-load-complete=\"true\" width=\"300\" height=\"250\" frameborder=\"0\"></iframe></div></div>\n",
      "</section>\n",
      "    </div>\n"
     ]
    }
   ],
   "source": [
    "# url 149\n",
    "i = urls[148]\n",
    "#open_url(i)\n",
    "element = driver.find_element_by_css_selector('.safety-tips-ad')\n",
    "source = element.get_attribute(\"outerHTML\")\n",
    "print(source)\n",
    "data.append({\"TYPE\" : ad_type, \"ad_code\" : source, \"URL\" : i})"
   ]
  },
  {
   "cell_type": "code",
   "execution_count": 125,
   "metadata": {},
   "outputs": [],
   "source": [
    "driver.close()"
   ]
  },
  {
   "cell_type": "code",
   "execution_count": 126,
   "metadata": {},
   "outputs": [
    {
     "name": "stdout",
     "output_type": "stream",
     "text": [
      "     Unnamed: 0    TYPE                                            ad_code  \\\n",
      "0             0  better  <div id=\"secondary\">\\n    \\n    \\n\\n<div class...   \n",
      "1             1  better  <aside id=\"ad-standard-wrap\" aria-label=\"adver...   \n",
      "2             2  better  <span id=\"ad_contentslot_1\" class=\"am-default ...   \n",
      "3             3  better  <div style=\"width: 100%; height: auto; clear: ...   \n",
      "4             4  better  <div id=\"mainLeaderboard\" style=\"overflow:hidd...   \n",
      "..          ...     ...                                                ...   \n",
      "96           96  better  <div id=\"newsletter\">\\n\\n<div data-module-id=\"...   \n",
      "97           97  better  <div class=\"bh_ad_container\">\\n\\n<div data-mod...   \n",
      "98           98  better  <div id=\"billboard1-dynamic_1-0\" class=\"comp b...   \n",
      "99           99  better  <div id=\"leaderboard-post-content_1-0\" class=\"...   \n",
      "100         100  better  <div class=\"photo-info-boxes large\" href=\"#\" s...   \n",
      "\n",
      "                                                   URL  \n",
      "0    https://www.mayoclinic.org/healthy-lifestyle/a...  \n",
      "1    https://www.npr.org/2020/02/10/804518735/barr-...  \n",
      "2    https://www.ldoceonline.com/dictionary/instruc...  \n",
      "3    https://www.howtogeek.com/569951/which-trackin...  \n",
      "4    https://www.w3schools.com/howto/howto_css_icon...  \n",
      "..                                                 ...  \n",
      "96   https://www.mansionglobal.com/articles/j-r-r-t...  \n",
      "97   https://www.mansionglobal.com/articles/j-r-r-t...  \n",
      "98   https://www.thespruce.com/what-is-landscaping-...  \n",
      "99   https://www.thespruce.com/what-is-landscaping-...  \n",
      "100  https://www.landscapingnetwork.com/landscape-d...  \n",
      "\n",
      "[101 rows x 4 columns]\n"
     ]
    }
   ],
   "source": [
    "import pandas as pd\n",
    "df1 = pd.DataFrame(data)\n",
    "print(df)"
   ]
  },
  {
   "cell_type": "code",
   "execution_count": 131,
   "metadata": {},
   "outputs": [],
   "source": [
    "df2.to_csv('acceptable_ad_code_raw.csv') # saving data"
   ]
  },
  {
   "cell_type": "markdown",
   "metadata": {},
   "source": [
    "***Data Cleansing***"
   ]
  },
  {
   "cell_type": "code",
   "execution_count": 132,
   "metadata": {},
   "outputs": [],
   "source": [
    "df = pd.read_csv('acceptable_ad_code_raw.csv')\n",
    "df = df.drop('Unnamed: 0', 1)"
   ]
  },
  {
   "cell_type": "code",
   "execution_count": 133,
   "metadata": {},
   "outputs": [],
   "source": [
    "code = df.ad_code"
   ]
  },
  {
   "cell_type": "code",
   "execution_count": 135,
   "metadata": {},
   "outputs": [],
   "source": [
    "def get_divs(code):\n",
    "    \"\"\"Extract div tags from HTML for better manipulation\"\"\"\n",
    "    soup = bs(code)\n",
    "    divs = soup.select(\"div\")\n",
    "    return divs"
   ]
  },
  {
   "cell_type": "code",
   "execution_count": 137,
   "metadata": {},
   "outputs": [],
   "source": [
    "df[\"divs\"] = df[\"ad_code\"].map(get_divs)"
   ]
  },
  {
   "cell_type": "code",
   "execution_count": 138,
   "metadata": {},
   "outputs": [],
   "source": [
    "def strip_html_tags(text):\n",
    "    \"\"\"Remove html tags from text\"\"\"\n",
    "    soup = bs(text, \"html.parser\")\n",
    "    stripped_text = soup.get_text(separator=\" \")\n",
    "    return stripped_text"
   ]
  },
  {
   "cell_type": "code",
   "execution_count": 139,
   "metadata": {},
   "outputs": [],
   "source": [
    "import string\n",
    "import re"
   ]
  },
  {
   "cell_type": "code",
   "execution_count": 140,
   "metadata": {},
   "outputs": [],
   "source": [
    "def strip_jamo(string):\n",
    "    \"\"\"Remove Korean from text\"\"\"\n",
    "    jamo_list = re.findall(u'[^\\uAC00-\\uD7A3]', string)\n",
    "    for c in string:\n",
    "        if c not in jamo_list:\n",
    "            string = string.replace(c, '')\n",
    "    return string\n",
    "\n",
    "def strip_cjk(string):\n",
    "    \"\"\"Remove Chinese, Japanese, Korean from text\"\"\"\n",
    "    cjk_list = re.findall(u'[^\\u4E00-\\u9FFF]', string)\n",
    "    for c in string:\n",
    "        if c not in cjk_list:\n",
    "            string = string.replace(c, '')\n",
    "    return string\n",
    "\n",
    "def strip_tamazight(string):\n",
    "    \"\"\"Strip Tamazight from text\"\"\"\n",
    "    tama_list = re.findall(u'[^\\u23D0-\\u2D7F]', string)\n",
    "    for c in string:\n",
    "        if c not in tama_list:\n",
    "            string = string.replace(c, '')\n",
    "    return string\n",
    "\n",
    "def strip_hindu(string):\n",
    "    \"\"\"Strip Hindu from text\"\"\"\n",
    "    hindu_list = re.findall(u'[^\\u0900-\\u097F]', string)\n",
    "    for c in string:\n",
    "        if c not in hindu_list:\n",
    "            string = string.replace(c, '')\n",
    "    return string\n",
    "\n",
    "def strip_khmer(string):\n",
    "    \"\"\"Strip Khmer from text\"\"\"\n",
    "    khmer_list = re.findall(u'[^\\u1780-\\u17FF]', string)\n",
    "    for c in string:\n",
    "        if c not in khmer_list:\n",
    "            string = string.replace(c, '')\n",
    "    return string\n",
    "\n",
    "def strip_ethiopic(string):\n",
    "    \"\"\"Strip Ethiopic from text\"\"\"\n",
    "    ethiopic_list = re.findall(u'[^\\u1200-\\u137F]', string)\n",
    "    for c in string:\n",
    "        if c not in ethiopic_list:\n",
    "            string = string.replace(c, '')\n",
    "    return string\n",
    "\n",
    "def strip_george(string):\n",
    "    \"\"\"Strip Georgian from text\"\"\"\n",
    "    george_list = re.findall(u'[^\\u10A0-\\u10FF]', string)\n",
    "    for c in string:\n",
    "        if c not in george_list:\n",
    "            string = string.replace(c, '')\n",
    "    return string\n",
    "\n",
    "def strip_myan(string):\n",
    "    \"\"\"Strip Myan from text\"\"\"\n",
    "    myan_list = re.findall(u'[^\\u1000-\\u109F]', string)\n",
    "    for c in string:\n",
    "        if c not in myan_list:\n",
    "            string = string.replace(c, '')\n",
    "    return string\n",
    "\n",
    "def strip_tibet(string):\n",
    "    \"\"\"Strip Tibetian from text\"\"\"\n",
    "    tibet_list = re.findall(u'[^\\u0F00-\\u0FFF]', string)\n",
    "    for c in string:\n",
    "        if c not in tibet_list:\n",
    "            string = string.replace(c, '')\n",
    "    return string\n",
    "\n",
    "def strip_lao(string):\n",
    "    \"\"\"Strip Laotian from text\"\"\"\n",
    "    lao_list = re.findall(u'[^\\u0E80-\\u0EFF]', string)\n",
    "    for c in string:\n",
    "        if c not in lao_list:\n",
    "            string = string.replace(c, '')\n",
    "    return string\n",
    "\n",
    "def strip_thai(string):\n",
    "    \"\"\"Strip Thai from text\"\"\"\n",
    "    thai_list = re.findall(u'[^\\u0E00-\\u0E7F]', string)\n",
    "    for c in string:\n",
    "        if c not in thai_list:\n",
    "            string = string.replace(c, '')\n",
    "    return string\n",
    "\n",
    "def strip_sinhala(string):\n",
    "    \"\"\"Strip Sinhala from text\"\"\"\n",
    "    hala_list = re.findall(u'[^\\u0D80-\\u0DFF]', string)\n",
    "    for c in string:\n",
    "        if c not in hala_list:\n",
    "            string = string.replace(c, '')\n",
    "    return string\n",
    "\n",
    "def strip_malayalam(string):\n",
    "    \"\"\"Strip Malayalam from text\"\"\"\n",
    "    mala_list = re.findall(u'[^\\u0D02-\\u0D4D]', string)\n",
    "    for c in string:\n",
    "        if c not in mala_list:\n",
    "            string = string.replace(c, '')\n",
    "    return string\n",
    "\n",
    "def strip_kannada(string):\n",
    "    \"\"\"Strip Kannada from text\"\"\"\n",
    "    kan_list = re.findall(u'[^\\u0C80-\\u0CFF]', string)\n",
    "    for c in string:\n",
    "        if c not in kan_list:\n",
    "            string = string.replace(c, '')\n",
    "    return string\n",
    "\n",
    "def strip_telugu(string):\n",
    "    \"\"\"Strip Telugu from text\"\"\"\n",
    "    tel_list = re.findall(u'[^\\u0C00-\\u0C7F]', string)\n",
    "    for c in string:\n",
    "        if c not in tel_list:\n",
    "            string = string.replace(c, '')\n",
    "    return string\n",
    "\n",
    "def strip_tamil(string):\n",
    "    \"\"\"Strip Tamil from text\"\"\"\n",
    "    ta_list = re.findall(u'[^\\u0B80-\\u0BFF]', string)\n",
    "    for c in string:\n",
    "        if c not in ta_list:\n",
    "            string = string.replace(c, '')\n",
    "    return string\n",
    "\n",
    "\n",
    "def strip_gujarati(string):\n",
    "    \"\"\"Strip Gujarati from Text\"\"\"\n",
    "    guj_list = re.findall(u'[^\\u0A80-\\u0AFF]', string)\n",
    "    for c in string:\n",
    "        if c not in guj_list:\n",
    "            string = string.replace(c, '')\n",
    "    return string\n",
    "\n",
    "def strip_mongolia(string):\n",
    "    \"\"\"Strip Mongolian from text\"\"\"\n",
    "    mon_list = re.findall(u'[^\\u1800-\\u18AF]', string)\n",
    "    for c in string:\n",
    "        if c not in mon_list:\n",
    "            string = string.replace(c, '')\n",
    "    return string\n",
    "\n",
    "def strip_punjabi(string):\n",
    "    \"\"\"Strip Punjabi from text\"\"\"\n",
    "    pun_list = re.findall(u'[^\\u0A02-\\u0A4C]', string)\n",
    "    for c in string:\n",
    "        if c not in pun_list:\n",
    "            string = string.replace(c, '')\n",
    "    return string\n",
    "\n",
    "def strip_bengali(string):\n",
    "    \"\"\"Strip Bengali from text\"\"\"\n",
    "    ben_list = re.findall(u'[^\\u0980-\\u09FF]', string)\n",
    "    for c in string:\n",
    "        if c not in ben_list:\n",
    "            string = string.replace(c, '')\n",
    "    return string\n",
    "\n",
    "def strip_urdu(string):\n",
    "    \"\"\"Strip Urdu from text\"\"\"\n",
    "    ur_list = re.findall(u'[^\\u0600-\\u06FF]', string)\n",
    "    for c in string:\n",
    "        if c not in ur_list:\n",
    "            string = string.replace(c, '')\n",
    "    return string\n",
    "\n",
    "def strip_herbrew_a(string):\n",
    "    \"\"\"Strip Hebrew from text\"\"\"\n",
    "    he_list = re.findall(u'[^\\u0590-\\u05FF]', string)\n",
    "    for c in string:\n",
    "        if c not in he_list:\n",
    "            string = string.replace(c, '')\n",
    "    return string\n",
    "\n",
    "def strip_herbrew(string):\n",
    "    \"\"\"Strip Hebrew from text\"\"\"\n",
    "    brew_list = re.findall(u'[^\\uFB1D-\\uFB4F]', string)\n",
    "    for c in string:\n",
    "        if c not in brew_list:\n",
    "            string = string.replace(c, '')\n",
    "    return string\n",
    "\n",
    "def strip_armenian(string):\n",
    "    \"\"\"Strip Armenian from text\"\"\"\n",
    "    ar_list = re.findall(u'[^\\u0530-\\u058F]', string)\n",
    "    for c in string:\n",
    "        if c not in ar_list:\n",
    "            string = string.replace(c, '')\n",
    "    return string\n",
    "\n",
    "def strip_cyrillic(string):\n",
    "    \"\"\"Strip Cyrillic from text\"\"\"\n",
    "    cy_list = re.findall(u'[^\\u0400-\\u04FF]', string)\n",
    "    for c in string:\n",
    "        if c not in cy_list:\n",
    "            string = string.replace(c, '')\n",
    "    return string\n",
    "\n",
    "def strip_greek(string):\n",
    "    \"\"\"Strip Greek from text\"\"\"\n",
    "    gre_list = re.findall(u'[^\\u0370-\\u03FF]', string)\n",
    "    for c in string:\n",
    "        if c not in gre_list:\n",
    "            string = string.replace(c, '')\n",
    "    return string\n",
    "\n",
    "def strip_lat(string):\n",
    "    lat_list = re.findall(u'[^\\u00A0-\\u00FF]', string)\n",
    "    for c in string:\n",
    "        if c not in lat_list:\n",
    "            string = string.replace(c, '')\n",
    "    return string"
   ]
  },
  {
   "cell_type": "code",
   "execution_count": 141,
   "metadata": {},
   "outputs": [],
   "source": [
    "div_refined = []\n",
    "\n",
    "for i in code:\n",
    "    divs = get_divs(i)\n",
    "    divs = str(divs)\n",
    "    divs = divs.lower() # convert to lowercase\n",
    "    divs = strip_html_tags(divs)\n",
    "    divs = re.sub(r\"[{(,.;:@#?!&$)}]+\\ *\", \" \", divs) # strip punctuation\n",
    "    divs = divs.replace(\"_\", \" \")\n",
    "    divs = divs.replace(\"-\", \" \")\n",
    "    # strip non-english characters\n",
    "    divs = strip_jamo(divs)\n",
    "    divs = strip_cjk(divs)\n",
    "    divs = strip_hindu(divs)\n",
    "    divs = strip_khmer(divs)\n",
    "    divs = strip_ethiopic(divs)\n",
    "    divs = strip_george(divs)\n",
    "    divs = strip_myan(divs)\n",
    "    divs = strip_tibet(divs)\n",
    "    divs = strip_lao(divs)\n",
    "    divs = strip_thai(divs)\n",
    "    divs = strip_sinhala(divs)\n",
    "    divs = strip_malayalam(divs)\n",
    "    divs = strip_kannada(divs)\n",
    "    divs = strip_telugu(divs)\n",
    "    divs = strip_kannada(divs)\n",
    "    divs = strip_tamil(divs)\n",
    "    divs = strip_gujarati(divs)\n",
    "    divs = strip_mongolia(divs)\n",
    "    divs = strip_gujarati(divs)\n",
    "    divs = strip_punjabi(divs)\n",
    "    divs = strip_bengali(divs)\n",
    "    divs = strip_urdu(divs)\n",
    "    divs = strip_armenian(divs)\n",
    "    divs = strip_cyrillic(divs)\n",
    "    divs = strip_greek(divs)\n",
    "    div_refined.append(divs)"
   ]
  },
  {
   "cell_type": "code",
   "execution_count": 142,
   "metadata": {},
   "outputs": [
    {
     "data": {
      "text/plain": [
       "149"
      ]
     },
     "execution_count": 142,
     "metadata": {},
     "output_type": "execute_result"
    }
   ],
   "source": [
    "len(div_refined)"
   ]
  },
  {
   "cell_type": "code",
   "execution_count": 144,
   "metadata": {},
   "outputs": [],
   "source": [
    "df['n_divs'] = div_refined"
   ]
  },
  {
   "cell_type": "code",
   "execution_count": 145,
   "metadata": {},
   "outputs": [],
   "source": [
    "def get_class(code):\n",
    "    \"\"\"Extract classes from HTML for better manipulation\"\"\"\n",
    "    soup = bs(code)\n",
    "    elements = soup.select('*')\n",
    "    classes = []\n",
    "    for element in elements:\n",
    "        classes.extend(element.attrs.get(\"class\", []))\n",
    "    return classes"
   ]
  },
  {
   "cell_type": "code",
   "execution_count": 147,
   "metadata": {},
   "outputs": [],
   "source": [
    "df[\"classes\"] = df[\"ad_code\"].map(get_class)"
   ]
  },
  {
   "cell_type": "code",
   "execution_count": 148,
   "metadata": {},
   "outputs": [],
   "source": [
    "class_refined = []\n",
    "\n",
    "for i in code:\n",
    "    classes = get_class(i)\n",
    "    classes = str(classes)\n",
    "    classes = classes.lower() # convert to lowercase\n",
    "    classes = re.sub(r\"[{(,.;:@#?!&$)}]+\\ *\", \" \", classes) # strip punctuation\n",
    "    classes = classes.replace(\"_\", \" \")\n",
    "    classes = classes.replace(\"-\", \" \")\n",
    "    # strip foreign characters\n",
    "    classes = strip_jamo(classes)\n",
    "    classes = strip_cjk(classes)\n",
    "    classes = strip_hindu(classes)\n",
    "    classes = strip_khmer(classes)\n",
    "    classes = strip_ethiopic(classes)\n",
    "    classes = strip_george(classes)\n",
    "    classes = strip_myan(classes)\n",
    "    classes = strip_tibet(classes)\n",
    "    classes = strip_lao(classes)\n",
    "    classes = strip_thai(classes)\n",
    "    classes = strip_sinhala(classes)\n",
    "    classes = strip_malayalam(classes)\n",
    "    classes = strip_kannada(classes)\n",
    "    classes = strip_telugu(classes)\n",
    "    classes = strip_kannada(classes)\n",
    "    classes = strip_tamil(classes)\n",
    "    classes = strip_gujarati(classes)\n",
    "    classes = strip_mongolia(classes)\n",
    "    classes = strip_gujarati(classes)\n",
    "    classes = strip_punjabi(classes)\n",
    "    classes = strip_bengali(classes)\n",
    "    classes = strip_urdu(classes)\n",
    "    classes = strip_armenian(classes)\n",
    "    classes = strip_cyrillic(classes)\n",
    "    classes = strip_greek(classes)\n",
    "    class_refined.append(classes)"
   ]
  },
  {
   "cell_type": "code",
   "execution_count": 150,
   "metadata": {},
   "outputs": [],
   "source": [
    "df['n_classes'] = class_refined"
   ]
  },
  {
   "cell_type": "code",
   "execution_count": 151,
   "metadata": {},
   "outputs": [],
   "source": [
    "def get_style(code):\n",
    "    \"\"\"Extract style tags from HTMl\"\"\"\n",
    "    soup = bs(code)\n",
    "    divs = soup.select('div')\n",
    "    styles = []\n",
    "    for div in divs:\n",
    "        style = div.attrs.get(\"style\")\n",
    "        if style:            \n",
    "            styles.append(div.attrs.get(\"style\"))                  \n",
    "    return styles"
   ]
  },
  {
   "cell_type": "code",
   "execution_count": 152,
   "metadata": {},
   "outputs": [
    {
     "data": {
      "text/plain": [
       "0                 [border: 0pt none;, border: 0pt none;]\n",
       "1                                    [border: 0pt none;]\n",
       "2                                    [border: 0pt none;]\n",
       "3      [width: 100%; height: auto; clear: both; text-...\n",
       "4                  [overflow:hidden;, border: 0pt none;]\n",
       "                             ...                        \n",
       "144    [min-height: auto; width: 100%;, border: 0pt n...\n",
       "145                                  [border: 0pt none;]\n",
       "146                                                   []\n",
       "147                                  [border: 0pt none;]\n",
       "148                                  [border: 0pt none;]\n",
       "Name: ad_code, Length: 149, dtype: object"
      ]
     },
     "execution_count": 152,
     "metadata": {},
     "output_type": "execute_result"
    }
   ],
   "source": [
    "df.ad_code.map(get_style)"
   ]
  },
  {
   "cell_type": "code",
   "execution_count": 153,
   "metadata": {},
   "outputs": [],
   "source": [
    "df[\"style\"] = df[\"ad_code\"].map(get_style)"
   ]
  },
  {
   "cell_type": "code",
   "execution_count": 154,
   "metadata": {},
   "outputs": [],
   "source": [
    "style_refined = []\n",
    "\n",
    "for i in code:\n",
    "    style = get_style(i)\n",
    "    style = str(style)\n",
    "    style = style.lower()\n",
    "    style = re.sub(r\"[{(,.;:@#?!&$)}]+/\\ *\", \" \", style) # strip punctuation\n",
    "    style = style.replace(\"_\", \" \")\n",
    "    style = style.replace(\"-\", \" \")\n",
    "    style = style.replace(\";\", \" \")\n",
    "    style = style.replace(\":\", \" \")\n",
    "    # strip foreign characters\n",
    "    style = strip_jamo(style)\n",
    "    style = strip_cjk(style)\n",
    "    style = strip_hindu(style)\n",
    "    style = strip_khmer(style)\n",
    "    style = strip_ethiopic(style)\n",
    "    style = strip_george(style)\n",
    "    style = strip_myan(style)\n",
    "    style = strip_tibet(style)\n",
    "    style = strip_lao(style)\n",
    "    style = strip_thai(style)\n",
    "    style = strip_sinhala(style)\n",
    "    style = strip_malayalam(style)\n",
    "    style = strip_kannada(style)\n",
    "    style = strip_telugu(style)\n",
    "    style = strip_kannada(style)\n",
    "    style = strip_tamil(style)\n",
    "    style = strip_gujarati(style)\n",
    "    style = strip_mongolia(style)\n",
    "    style = strip_gujarati(style)\n",
    "    style = strip_punjabi(style)\n",
    "    style = strip_bengali(style)\n",
    "    style = strip_urdu(style)\n",
    "    style = strip_armenian(style)\n",
    "    style = strip_cyrillic(style)\n",
    "    style = strip_greek(style)\n",
    "    style = str(style)\n",
    "    style_refined.append(style)"
   ]
  },
  {
   "cell_type": "code",
   "execution_count": 156,
   "metadata": {},
   "outputs": [],
   "source": [
    "df['n_style'] = style_refined"
   ]
  },
  {
   "cell_type": "code",
   "execution_count": 163,
   "metadata": {},
   "outputs": [
    {
     "data": {
      "text/html": [
       "<div>\n",
       "<style scoped>\n",
       "    .dataframe tbody tr th:only-of-type {\n",
       "        vertical-align: middle;\n",
       "    }\n",
       "\n",
       "    .dataframe tbody tr th {\n",
       "        vertical-align: top;\n",
       "    }\n",
       "\n",
       "    .dataframe thead th {\n",
       "        text-align: right;\n",
       "    }\n",
       "</style>\n",
       "<table border=\"1\" class=\"dataframe\">\n",
       "  <thead>\n",
       "    <tr style=\"text-align: right;\">\n",
       "      <th></th>\n",
       "      <th>TYPE</th>\n",
       "      <th>URL</th>\n",
       "      <th>ad_code</th>\n",
       "      <th>divs</th>\n",
       "      <th>n_divs</th>\n",
       "      <th>classes</th>\n",
       "      <th>n_classes</th>\n",
       "      <th>style</th>\n",
       "      <th>n_style</th>\n",
       "    </tr>\n",
       "  </thead>\n",
       "  <tbody>\n",
       "    <tr>\n",
       "      <th>0</th>\n",
       "      <td>better</td>\n",
       "      <td>https://www.mayoclinic.org/healthy-lifestyle/a...</td>\n",
       "      <td>&lt;div id=\"secondary\"&gt;\\n    \\n    \\n\\n&lt;div class...</td>\n",
       "      <td>[[\\n, [\\n, &lt;h2&gt;Advertisement&lt;/h2&gt;, \\n, &lt;div da...</td>\n",
       "      <td>[ \\n \\n advertisement \\n \\n \\n \\n mayo clinic ...</td>\n",
       "      <td>[mayoad, contentbox, policy, add-choice, conte...</td>\n",
       "      <td>['mayoad' 'contentbox' 'policy' 'add choice' '...</td>\n",
       "      <td>[border: 0pt none;, border: 0pt none;]</td>\n",
       "      <td>['border  0pt none ', 'border  0pt none ']</td>\n",
       "    </tr>\n",
       "    <tr>\n",
       "      <th>1</th>\n",
       "      <td>better</td>\n",
       "      <td>https://www.npr.org/2020/02/10/804518735/barr-...</td>\n",
       "      <td>&lt;aside id=\"ad-standard-wrap\" aria-label=\"adver...</td>\n",
       "      <td>[[[&lt;iframe data-google-container-id=\"1\" data-l...</td>\n",
       "      <td>[  ]</td>\n",
       "      <td>[ad-standard, left, right]</td>\n",
       "      <td>['ad standard' 'left' 'right']</td>\n",
       "      <td>[border: 0pt none;]</td>\n",
       "      <td>['border  0pt none ']</td>\n",
       "    </tr>\n",
       "    <tr>\n",
       "      <th>2</th>\n",
       "      <td>better</td>\n",
       "      <td>https://www.ldoceonline.com/dictionary/instruc...</td>\n",
       "      <td>&lt;span id=\"ad_contentslot_1\" class=\"am-default ...</td>\n",
       "      <td>[[[]]]</td>\n",
       "      <td>[ ]</td>\n",
       "      <td>[am-default, contentslot]</td>\n",
       "      <td>['am default' 'contentslot']</td>\n",
       "      <td>[border: 0pt none;]</td>\n",
       "      <td>['border  0pt none ']</td>\n",
       "    </tr>\n",
       "    <tr>\n",
       "      <th>3</th>\n",
       "      <td>better</td>\n",
       "      <td>https://www.howtogeek.com/569951/which-trackin...</td>\n",
       "      <td>&lt;div style=\"width: 100%; height: auto; clear: ...</td>\n",
       "      <td>[[[&lt;ins id=\"aswift_2_expand\" style=\"display:in...</td>\n",
       "      <td>[ ]</td>\n",
       "      <td>[google-auto-placed, adsbygoogle, adsbygoogle-...</td>\n",
       "      <td>['google auto placed' 'adsbygoogle' 'adsbygoog...</td>\n",
       "      <td>[width: 100%; height: auto; clear: both; text-...</td>\n",
       "      <td>['width  100%  height  auto  clear  both  text...</td>\n",
       "    </tr>\n",
       "    <tr>\n",
       "      <th>4</th>\n",
       "      <td>better</td>\n",
       "      <td>https://www.w3schools.com/howto/howto_css_icon...</td>\n",
       "      <td>&lt;div id=\"mainLeaderboard\" style=\"overflow:hidd...</td>\n",
       "      <td>[[\\n,  MainLeaderboard, \\n, &lt;pre&gt;main_leaderbo...</td>\n",
       "      <td>[ \\n \\n \\n \\n \\n   ]</td>\n",
       "      <td>[]</td>\n",
       "      <td>[]</td>\n",
       "      <td>[overflow:hidden;, border: 0pt none;]</td>\n",
       "      <td>['overflow hidden ', 'border  0pt none ']</td>\n",
       "    </tr>\n",
       "    <tr>\n",
       "      <th>...</th>\n",
       "      <td>...</td>\n",
       "      <td>...</td>\n",
       "      <td>...</td>\n",
       "      <td>...</td>\n",
       "      <td>...</td>\n",
       "      <td>...</td>\n",
       "      <td>...</td>\n",
       "      <td>...</td>\n",
       "      <td>...</td>\n",
       "    </tr>\n",
       "    <tr>\n",
       "      <th>144</th>\n",
       "      <td>better</td>\n",
       "      <td>https://www.apollo-magazine.com/</td>\n",
       "      <td>&lt;div id=\"custom_html-1002\" class=\"widget_text ...</td>\n",
       "      <td>[[[&lt;style&gt;\\n.inline_widget_advert_content { \\n...</td>\n",
       "      <td>[ \\n inline widget advert content  \\ntext alig...</td>\n",
       "      <td>[widget_text, widget, widget_custom_html, text...</td>\n",
       "      <td>['widget text' 'widget' 'widget custom html' '...</td>\n",
       "      <td>[min-height: auto; width: 100%;, border: 0pt n...</td>\n",
       "      <td>['min height  auto  width  100% ', 'border  0p...</td>\n",
       "    </tr>\n",
       "    <tr>\n",
       "      <th>145</th>\n",
       "      <td>better</td>\n",
       "      <td>https://www.discovermagazine.com/</td>\n",
       "      <td>&lt;div class=\"adunitContainer\"&gt;&lt;div class=\"adBox...</td>\n",
       "      <td>[[[&lt;div id=\"google_ads_iframe_3004818/DSC-Bill...</td>\n",
       "      <td>[   ]</td>\n",
       "      <td>[adunitContainer, adBox]</td>\n",
       "      <td>['adunitcontainer' 'adbox']</td>\n",
       "      <td>[border: 0pt none;]</td>\n",
       "      <td>['border  0pt none ']</td>\n",
       "    </tr>\n",
       "    <tr>\n",
       "      <th>146</th>\n",
       "      <td>better</td>\n",
       "      <td>https://www.discovermagazine.com/</td>\n",
       "      <td>&lt;div class=\"sc-1bn6ekv-0 hVnGXW\"&gt;&lt;a class=\"sc-...</td>\n",
       "      <td>[[[&lt;h3 class=\"sc-1bn6ekv-2 fVvKok\"&gt;Newsletter ...</td>\n",
       "      <td>[ newsletter signup sign up for our email news...</td>\n",
       "      <td>[sc-1bn6ekv-0, hVnGXW, sc-1l8y4q5-0, sc-1bn6ek...</td>\n",
       "      <td>['sc 1bn6ekv 0' 'hvngxw' 'sc 1l8y4q5 0' 'sc 1b...</td>\n",
       "      <td>[]</td>\n",
       "      <td>[]</td>\n",
       "    </tr>\n",
       "    <tr>\n",
       "      <th>147</th>\n",
       "      <td>better</td>\n",
       "      <td>https://www.safetyandhealthmagazine.com/</td>\n",
       "      <td>&lt;div class=\"mid-content-ad\"&gt;\\n    &lt;section cla...</td>\n",
       "      <td>[[\\n, [\\n, &lt;div class=\"ad__placement ad__conte...</td>\n",
       "      <td>[ \\n \\n \\n \\n   ]</td>\n",
       "      <td>[mid-content-ad, ad, ad__placement, ad__content]</td>\n",
       "      <td>['mid content ad' 'ad' 'ad  placement' 'ad  co...</td>\n",
       "      <td>[border: 0pt none;]</td>\n",
       "      <td>['border  0pt none ']</td>\n",
       "    </tr>\n",
       "    <tr>\n",
       "      <th>148</th>\n",
       "      <td>better</td>\n",
       "      <td>https://www.safetyandhealthmagazine.com/</td>\n",
       "      <td>&lt;div class=\"safety-tips-ad\"&gt;\\n      &lt;section c...</td>\n",
       "      <td>[[\\n, [\\n, &lt;div class=\"ad__placement ad__conte...</td>\n",
       "      <td>[ \\n \\n \\n \\n   ]</td>\n",
       "      <td>[safety-tips-ad, ad, ad__placement, ad__content]</td>\n",
       "      <td>['safety tips ad' 'ad' 'ad  placement' 'ad  co...</td>\n",
       "      <td>[border: 0pt none;]</td>\n",
       "      <td>['border  0pt none ']</td>\n",
       "    </tr>\n",
       "  </tbody>\n",
       "</table>\n",
       "<p>149 rows × 9 columns</p>\n",
       "</div>"
      ],
      "text/plain": [
       "       TYPE                                                URL  \\\n",
       "0    better  https://www.mayoclinic.org/healthy-lifestyle/a...   \n",
       "1    better  https://www.npr.org/2020/02/10/804518735/barr-...   \n",
       "2    better  https://www.ldoceonline.com/dictionary/instruc...   \n",
       "3    better  https://www.howtogeek.com/569951/which-trackin...   \n",
       "4    better  https://www.w3schools.com/howto/howto_css_icon...   \n",
       "..      ...                                                ...   \n",
       "144  better                   https://www.apollo-magazine.com/   \n",
       "145  better                  https://www.discovermagazine.com/   \n",
       "146  better                  https://www.discovermagazine.com/   \n",
       "147  better           https://www.safetyandhealthmagazine.com/   \n",
       "148  better           https://www.safetyandhealthmagazine.com/   \n",
       "\n",
       "                                               ad_code  \\\n",
       "0    <div id=\"secondary\">\\n    \\n    \\n\\n<div class...   \n",
       "1    <aside id=\"ad-standard-wrap\" aria-label=\"adver...   \n",
       "2    <span id=\"ad_contentslot_1\" class=\"am-default ...   \n",
       "3    <div style=\"width: 100%; height: auto; clear: ...   \n",
       "4    <div id=\"mainLeaderboard\" style=\"overflow:hidd...   \n",
       "..                                                 ...   \n",
       "144  <div id=\"custom_html-1002\" class=\"widget_text ...   \n",
       "145  <div class=\"adunitContainer\"><div class=\"adBox...   \n",
       "146  <div class=\"sc-1bn6ekv-0 hVnGXW\"><a class=\"sc-...   \n",
       "147  <div class=\"mid-content-ad\">\\n    <section cla...   \n",
       "148  <div class=\"safety-tips-ad\">\\n      <section c...   \n",
       "\n",
       "                                                  divs  \\\n",
       "0    [[\\n, [\\n, <h2>Advertisement</h2>, \\n, <div da...   \n",
       "1    [[[<iframe data-google-container-id=\"1\" data-l...   \n",
       "2                                               [[[]]]   \n",
       "3    [[[<ins id=\"aswift_2_expand\" style=\"display:in...   \n",
       "4    [[\\n,  MainLeaderboard, \\n, <pre>main_leaderbo...   \n",
       "..                                                 ...   \n",
       "144  [[[<style>\\n.inline_widget_advert_content { \\n...   \n",
       "145  [[[<div id=\"google_ads_iframe_3004818/DSC-Bill...   \n",
       "146  [[[<h3 class=\"sc-1bn6ekv-2 fVvKok\">Newsletter ...   \n",
       "147  [[\\n, [\\n, <div class=\"ad__placement ad__conte...   \n",
       "148  [[\\n, [\\n, <div class=\"ad__placement ad__conte...   \n",
       "\n",
       "                                                n_divs  \\\n",
       "0    [ \\n \\n advertisement \\n \\n \\n \\n mayo clinic ...   \n",
       "1                                                 [  ]   \n",
       "2                                                  [ ]   \n",
       "3                                                  [ ]   \n",
       "4                                 [ \\n \\n \\n \\n \\n   ]   \n",
       "..                                                 ...   \n",
       "144  [ \\n inline widget advert content  \\ntext alig...   \n",
       "145                                              [   ]   \n",
       "146  [ newsletter signup sign up for our email news...   \n",
       "147                                  [ \\n \\n \\n \\n   ]   \n",
       "148                                  [ \\n \\n \\n \\n   ]   \n",
       "\n",
       "                                               classes  \\\n",
       "0    [mayoad, contentbox, policy, add-choice, conte...   \n",
       "1                           [ad-standard, left, right]   \n",
       "2                            [am-default, contentslot]   \n",
       "3    [google-auto-placed, adsbygoogle, adsbygoogle-...   \n",
       "4                                                   []   \n",
       "..                                                 ...   \n",
       "144  [widget_text, widget, widget_custom_html, text...   \n",
       "145                           [adunitContainer, adBox]   \n",
       "146  [sc-1bn6ekv-0, hVnGXW, sc-1l8y4q5-0, sc-1bn6ek...   \n",
       "147   [mid-content-ad, ad, ad__placement, ad__content]   \n",
       "148   [safety-tips-ad, ad, ad__placement, ad__content]   \n",
       "\n",
       "                                             n_classes  \\\n",
       "0    ['mayoad' 'contentbox' 'policy' 'add choice' '...   \n",
       "1                       ['ad standard' 'left' 'right']   \n",
       "2                         ['am default' 'contentslot']   \n",
       "3    ['google auto placed' 'adsbygoogle' 'adsbygoog...   \n",
       "4                                                   []   \n",
       "..                                                 ...   \n",
       "144  ['widget text' 'widget' 'widget custom html' '...   \n",
       "145                        ['adunitcontainer' 'adbox']   \n",
       "146  ['sc 1bn6ekv 0' 'hvngxw' 'sc 1l8y4q5 0' 'sc 1b...   \n",
       "147  ['mid content ad' 'ad' 'ad  placement' 'ad  co...   \n",
       "148  ['safety tips ad' 'ad' 'ad  placement' 'ad  co...   \n",
       "\n",
       "                                                 style  \\\n",
       "0               [border: 0pt none;, border: 0pt none;]   \n",
       "1                                  [border: 0pt none;]   \n",
       "2                                  [border: 0pt none;]   \n",
       "3    [width: 100%; height: auto; clear: both; text-...   \n",
       "4                [overflow:hidden;, border: 0pt none;]   \n",
       "..                                                 ...   \n",
       "144  [min-height: auto; width: 100%;, border: 0pt n...   \n",
       "145                                [border: 0pt none;]   \n",
       "146                                                 []   \n",
       "147                                [border: 0pt none;]   \n",
       "148                                [border: 0pt none;]   \n",
       "\n",
       "                                               n_style  \n",
       "0           ['border  0pt none ', 'border  0pt none ']  \n",
       "1                                ['border  0pt none ']  \n",
       "2                                ['border  0pt none ']  \n",
       "3    ['width  100%  height  auto  clear  both  text...  \n",
       "4            ['overflow hidden ', 'border  0pt none ']  \n",
       "..                                                 ...  \n",
       "144  ['min height  auto  width  100% ', 'border  0p...  \n",
       "145                              ['border  0pt none ']  \n",
       "146                                                 []  \n",
       "147                              ['border  0pt none ']  \n",
       "148                              ['border  0pt none ']  \n",
       "\n",
       "[149 rows x 9 columns]"
      ]
     },
     "execution_count": 163,
     "metadata": {},
     "output_type": "execute_result"
    }
   ],
   "source": [
    "df"
   ]
  },
  {
   "cell_type": "code",
   "execution_count": 164,
   "metadata": {},
   "outputs": [],
   "source": [
    "df.to_csv('/Users/SeoyeonHong/Desktop/annoying_ad_classifier/data_collection/data/acceptable_ad_code.csv')"
   ]
  }
 ],
 "metadata": {
  "kernelspec": {
   "display_name": "Python 3",
   "language": "python",
   "name": "python3"
  },
  "language_info": {
   "codemirror_mode": {
    "name": "ipython",
    "version": 3
   },
   "file_extension": ".py",
   "mimetype": "text/x-python",
   "name": "python",
   "nbconvert_exporter": "python",
   "pygments_lexer": "ipython3",
   "version": "3.7.7"
  }
 },
 "nbformat": 4,
 "nbformat_minor": 2
}
