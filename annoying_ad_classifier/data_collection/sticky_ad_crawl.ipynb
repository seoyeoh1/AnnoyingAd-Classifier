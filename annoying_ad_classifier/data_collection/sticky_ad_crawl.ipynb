{
 "cells": [
  {
   "cell_type": "markdown",
   "metadata": {},
   "source": [
    "***Data collection code for sticky ads***"
   ]
  },
  {
   "cell_type": "code",
   "execution_count": 7,
   "metadata": {},
   "outputs": [],
   "source": [
    "import requests\n",
    "import urllib.request\n",
    "import time\n",
    "from bs4 import BeautifulSoup as bs\n",
    "import csv"
   ]
  },
  {
   "cell_type": "markdown",
   "metadata": {},
   "source": [
    "### 135 Entries of Sticky Ads\n",
    "\n",
    "*Because for classification precision is integral and there are no particular method for distinguishing ad format, I manually crawled each sticky ad using Selenium.*"
   ]
  },
  {
   "cell_type": "markdown",
   "metadata": {},
   "source": [
    "***Open Sample Sites List***"
   ]
  },
  {
   "cell_type": "code",
   "execution_count": 1,
   "metadata": {},
   "outputs": [],
   "source": [
    "with open(\"/Users/SeoyeonHong/Desktop/annoying_ad_classifier/data_collection/sites_list/sticky_ad_list.txt\") as sample:\n",
    "    urls = []\n",
    "    for line in sample:\n",
    "        urls.append(line.rstrip())"
   ]
  },
  {
   "cell_type": "code",
   "execution_count": 2,
   "metadata": {},
   "outputs": [
    {
     "data": {
      "text/plain": [
       "136"
      ]
     },
     "execution_count": 2,
     "metadata": {},
     "output_type": "execute_result"
    }
   ],
   "source": [
    "len(urls)"
   ]
  },
  {
   "cell_type": "markdown",
   "metadata": {},
   "source": [
    "***Manual collection of HTML snippets corresponding to each ad***### Crawling"
   ]
  },
  {
   "cell_type": "code",
   "execution_count": 13,
   "metadata": {},
   "outputs": [],
   "source": [
    "def open_url(url):\n",
    "    driver.get(url)\n",
    "    time.sleep(10)\n",
    "    driver.execute_script(\"window.scrollTo(0, 150)\")\n",
    "    time.sleep(10)"
   ]
  },
  {
   "cell_type": "code",
   "execution_count": 12,
   "metadata": {},
   "outputs": [],
   "source": [
    "data = []"
   ]
  },
  {
   "cell_type": "code",
   "execution_count": 14,
   "metadata": {},
   "outputs": [],
   "source": [
    "from selenium import webdriver\n",
    "#driver.close()\n",
    "driver = webdriver.Firefox()"
   ]
  },
  {
   "cell_type": "code",
   "execution_count": 88,
   "metadata": {
    "collapsed": true
   },
   "outputs": [
    {
     "name": "stdout",
     "output_type": "stream",
     "text": [
      "<div class=\"ad-wrapper outer tablet-ad desktop-ad full-column karma-leaderboard-docking-element docked\">\n",
      "                      <div class=\"ad-sticky-container desktop-ad tablet-ad karma-ad\">\n",
      "                    \n",
      "                      <div id=\"div-gpt-leaderboard-flex-1\" data-tier=\"1\" class=\"ad ad-container ad-wrapper type-banner type-970x90-flex margin-16-tb desktop-ad tablet-ad  karma-ad\" data-dimensions=\"101x1;970x90;970x66;970x250;728x90\" role=\"complementary\" aria-hidden=\"true\" tabindex=\"-1\" data-google-query-id=\"CJqpn8S4yecCFZd8iwoda1ALeA\"><div id=\"google_ads_iframe_3865/rsm.mdp.com/tier1/video_article/home_0__container__\" style=\"border: 0pt none;\"><iframe id=\"google_ads_iframe_3865/rsm.mdp.com/tier1/video_article/home_0\" title=\"3rd party ad content\" name=\"google_ads_iframe_3865/rsm.mdp.com/tier1/video_article/home_0\" scrolling=\"no\" marginwidth=\"0\" marginheight=\"0\" style=\"border: 0px none; vertical-align: bottom;\" srcdoc=\"\" data-google-container-id=\"1\" data-load-complete=\"true\" width=\"728\" height=\"90\" frameborder=\"0\"></iframe></div></div>\n",
      "                    \n",
      "                      </div>\n",
      "              </div>\n"
     ]
    }
   ],
   "source": [
    "# url 1\n",
    "i = urls[0]\n",
    "open_url(i)\n",
    "element = driver.find_element_by_css_selector('.outer')\n",
    "source = element.get_attribute(\"outerHTML\")\n",
    "print(source)\n",
    "ad_type = \"sticky\"\n",
    "data.append({\"TYPE\" : ad_type, \"ad_code\" : source, \"URL\" : i})"
   ]
  },
  {
   "cell_type": "code",
   "execution_count": 89,
   "metadata": {
    "collapsed": true
   },
   "outputs": [
    {
     "name": "stdout",
     "output_type": "stream",
     "text": [
      "<div class=\"ad-wrapper outer tablet-ad desktop-ad full-column karma-leaderboard-docking-element docked\">\n",
      "                      <div class=\"ad-sticky-container desktop-ad tablet-ad karma-ad\">\n",
      "                    \n",
      "                      <div id=\"div-gpt-leaderboard-flex-1\" data-tier=\"1\" class=\"ad ad-container ad-wrapper type-banner type-970x90-flex margin-16-tb desktop-ad tablet-ad  karma-ad\" data-dimensions=\"101x1;970x90;970x66;970x250;728x90\" role=\"complementary\" aria-hidden=\"true\" tabindex=\"-1\" data-google-query-id=\"CO7pltG4yecCFcuzlgodSLMDpw\"><div id=\"google_ads_iframe_3865/rsm.mdp.com/tier1/article/home_0__container__\" style=\"border: 0pt none;\"><iframe id=\"google_ads_iframe_3865/rsm.mdp.com/tier1/article/home_0\" title=\"3rd party ad content\" name=\"google_ads_iframe_3865/rsm.mdp.com/tier1/article/home_0\" scrolling=\"no\" marginwidth=\"0\" marginheight=\"0\" style=\"border: 0px none; vertical-align: bottom;\" srcdoc=\"\" data-google-container-id=\"1\" data-load-complete=\"true\" width=\"728\" height=\"90\" frameborder=\"0\"></iframe></div></div>\n",
      "                    \n",
      "                      </div>\n",
      "              </div>\n"
     ]
    }
   ],
   "source": [
    "# url 2\n",
    "i = urls[1]\n",
    "open_url(i)\n",
    "element = driver.find_element_by_css_selector('.outer')\n",
    "source = element.get_attribute(\"outerHTML\")\n",
    "print(source)\n",
    "ad_type = \"sticky\"\n",
    "data.append({\"TYPE\" : ad_type, \"ad_code\" : source, \"URL\" : i})"
   ]
  },
  {
   "cell_type": "code",
   "execution_count": 90,
   "metadata": {
    "collapsed": true
   },
   "outputs": [
    {
     "name": "stdout",
     "output_type": "stream",
     "text": [
      "<div class=\"ad-wrapper outer tablet-ad desktop-ad full-column karma-leaderboard-docking-element docked\">\n",
      "                      <div class=\"ad-sticky-container desktop-ad tablet-ad karma-ad\">\n",
      "                    \n",
      "                      <div id=\"div-gpt-leaderboard-flex-1\" data-tier=\"1\" class=\"ad ad-container ad-wrapper type-banner type-970x90-flex margin-16-tb desktop-ad tablet-ad  karma-ad\" data-dimensions=\"101x1;970x90;970x66;970x250;728x90\" role=\"complementary\" aria-hidden=\"true\" tabindex=\"-1\" data-google-query-id=\"CMSu_Nu4yecCFQ6GlgodNIUKTA\"><div id=\"google_ads_iframe_3865/rsm.mdp.com/tier1/tag_0__container__\" style=\"border: 0pt none;\"><iframe id=\"google_ads_iframe_3865/rsm.mdp.com/tier1/tag_0\" title=\"3rd party ad content\" name=\"google_ads_iframe_3865/rsm.mdp.com/tier1/tag_0\" scrolling=\"no\" marginwidth=\"0\" marginheight=\"0\" style=\"border: 0px none; vertical-align: bottom;\" srcdoc=\"\" data-google-container-id=\"1\" data-load-complete=\"true\" width=\"728\" height=\"90\" frameborder=\"0\"></iframe></div></div>\n",
      "                    \n",
      "                      </div>\n",
      "              </div>\n"
     ]
    }
   ],
   "source": [
    "# url 3\n",
    "i = urls[2]\n",
    "open_url(i)\n",
    "element = driver.find_element_by_css_selector('.outer')\n",
    "source = element.get_attribute(\"outerHTML\")\n",
    "print(source)        \n",
    "ad_type = \"sticky\"\n",
    "data.append({\"TYPE\" : ad_type, \"ad_code\" : source, \"URL\" : i})"
   ]
  },
  {
   "cell_type": "code",
   "execution_count": 91,
   "metadata": {
    "collapsed": true
   },
   "outputs": [
    {
     "name": "stdout",
     "output_type": "stream",
     "text": [
      "<div class=\"ad-wrapper outer tablet-ad desktop-ad full-column karma-leaderboard-docking-element\">\n",
      "                      <div class=\"ad-sticky-container desktop-ad tablet-ad karma-ad\">\n",
      "                    \n",
      "                      <div id=\"div-gpt-leaderboard-flex-1\" data-tier=\"1\" class=\"ad ad-container ad-wrapper type-banner type-970x90-flex margin-16-tb desktop-ad tablet-ad  karma-ad\" data-dimensions=\"101x1;970x90;970x66;970x250;728x90\" role=\"complementary\" aria-hidden=\"true\" tabindex=\"-1\" data-google-query-id=\"CIjph-e4yecCFQ1evQodJu4DFg\"><div id=\"google_ads_iframe_3865/rsm.mdp.com/tier1/tag_0__container__\" style=\"border: 0pt none; display: inline-block; width: 970px; height: 250px;\"><iframe style=\"border: 0px none; vertical-align: bottom;\" src=\"https://tpc.googlesyndication.com/safeframe/1-0-37/html/container.html\" id=\"google_ads_iframe_3865/rsm.mdp.com/tier1/tag_0\" title=\"3rd party ad content\" name=\"\" scrolling=\"no\" marginwidth=\"0\" marginheight=\"0\" data-is-safeframe=\"true\" data-google-container-id=\"1\" data-load-complete=\"true\" width=\"970\" height=\"250\" frameborder=\"0\"></iframe></div></div>\n",
      "                    \n",
      "                      </div>\n",
      "              </div>\n"
     ]
    }
   ],
   "source": [
    "# url 4\n",
    "i = urls[3]\n",
    "open_url(i)\n",
    "element = driver.find_element_by_css_selector('.outer')\n",
    "source = element.get_attribute(\"outerHTML\")\n",
    "print(source)\n",
    "ad_type = \"sticky\"\n",
    "data.append({\"TYPE\" : ad_type, \"ad_code\" : source, \"URL\" : i})"
   ]
  },
  {
   "cell_type": "code",
   "execution_count": 92,
   "metadata": {
    "collapsed": true
   },
   "outputs": [
    {
     "name": "stdout",
     "output_type": "stream",
     "text": [
      "<div class=\"ad-wrapper outer tablet-ad desktop-ad full-column karma-leaderboard-docking-element\">\n",
      "                      <div class=\"ad-sticky-container desktop-ad tablet-ad karma-ad\">\n",
      "                    \n",
      "                      <div id=\"div-gpt-leaderboard-flex-1\" data-tier=\"1\" class=\"ad ad-container ad-wrapper type-banner type-970x90-flex margin-16-tb desktop-ad tablet-ad  karma-ad\" data-dimensions=\"101x1;970x90;970x66;970x250;728x90\" role=\"complementary\" aria-hidden=\"true\" tabindex=\"-1\" data-google-query-id=\"CKj5lfG4yecCFQ28lgodk60Akw\"><div id=\"google_ads_iframe_3865/rsm.mdp.com/tier1/video_article/weddings_0__container__\" style=\"border: 0pt none;\"><iframe id=\"google_ads_iframe_3865/rsm.mdp.com/tier1/video_article/weddings_0\" title=\"3rd party ad content\" name=\"google_ads_iframe_3865/rsm.mdp.com/tier1/video_article/weddings_0\" scrolling=\"no\" marginwidth=\"0\" marginheight=\"0\" style=\"border: 0px none; vertical-align: bottom;\" srcdoc=\"\" data-google-container-id=\"1\" data-load-complete=\"true\" width=\"728\" height=\"90\" frameborder=\"0\"></iframe></div></div>\n",
      "                    \n",
      "                      </div>\n",
      "              </div>\n"
     ]
    }
   ],
   "source": [
    "# url 5\n",
    "i = urls[4]\n",
    "open_url(i)\n",
    "element = driver.find_element_by_css_selector('.outer')\n",
    "source = element.get_attribute(\"outerHTML\")\n",
    "print(source)\n",
    "ad_type = \"sticky\"\n",
    "data.append({\"TYPE\" : ad_type, \"ad_code\" : source, \"URL\" : i})"
   ]
  },
  {
   "cell_type": "code",
   "execution_count": 124,
   "metadata": {
    "collapsed": true
   },
   "outputs": [
    {
     "name": "stdout",
     "output_type": "stream",
     "text": [
      "<div class=\"ad-wrapper outer tablet-ad desktop-ad full-column karma-leaderboard-docking-element docked\">\n",
      "                      <div class=\"ad-sticky-container desktop-ad tablet-ad karma-ad\">\n",
      "                    \n",
      "                      <div id=\"div-gpt-leaderboard-flex-1\" data-tier=\"1\" class=\"ad ad-container ad-wrapper type-banner type-970x90-flex margin-16-tb desktop-ad tablet-ad  karma-ad\" data-dimensions=\"101x1;970x90;970x66;970x250;728x90\" role=\"complementary\" aria-hidden=\"true\" tabindex=\"-1\" data-google-query-id=\"CMOc7YK-yecCFUHOvQodPncOGw\"><div id=\"google_ads_iframe_3865/bhg.mdp.com/tier1/video_article/Christmas_0__container__\" style=\"border: 0pt none;\"><iframe id=\"google_ads_iframe_3865/bhg.mdp.com/tier1/video_article/Christmas_0\" title=\"3rd party ad content\" name=\"google_ads_iframe_3865/bhg.mdp.com/tier1/video_article/Christmas_0\" scrolling=\"no\" marginwidth=\"0\" marginheight=\"0\" style=\"border: 0px none; vertical-align: bottom;\" srcdoc=\"\" data-google-container-id=\"1\" data-load-complete=\"true\" width=\"728\" height=\"90\" frameborder=\"0\"></iframe></div></div>\n",
      "                    \n",
      "                      </div>\n",
      "              </div>\n"
     ]
    }
   ],
   "source": [
    "# url 6\n",
    "i = urls[5]\n",
    "open_url(i)\n",
    "element = driver.find_element_by_css_selector('.outer')\n",
    "source = element.get_attribute(\"outerHTML\")\n",
    "print(source)\n",
    "ad_type = \"sticky\"\n",
    "data.append({\"TYPE\" : ad_type, \"ad_code\" : source, \"URL\" : i})"
   ]
  },
  {
   "cell_type": "code",
   "execution_count": 125,
   "metadata": {
    "collapsed": true
   },
   "outputs": [
    {
     "name": "stdout",
     "output_type": "stream",
     "text": [
      "<div class=\"ad-wrapper outer tablet-ad desktop-ad full-column karma-leaderboard-docking-element\">\n",
      "                      <div class=\"ad-sticky-container desktop-ad tablet-ad karma-ad\">\n",
      "                    \n",
      "                      <div id=\"div-gpt-leaderboard-flex-1\" data-tier=\"1\" class=\"ad ad-container ad-wrapper type-banner type-970x90-flex margin-16-tb desktop-ad tablet-ad  karma-ad\" data-dimensions=\"101x1;970x90;970x66;970x250;728x90\" role=\"complementary\" aria-hidden=\"true\" tabindex=\"-1\" data-google-query-id=\"CM2yr42-yecCFQoZKgodKYUNCQ\"><div id=\"google_ads_iframe_3865/bhg.mdp.com/tier1/article/Gardening_0__container__\" style=\"border: 0pt none;\"><iframe id=\"google_ads_iframe_3865/bhg.mdp.com/tier1/article/Gardening_0\" title=\"3rd party ad content\" name=\"google_ads_iframe_3865/bhg.mdp.com/tier1/article/Gardening_0\" scrolling=\"no\" marginwidth=\"0\" marginheight=\"0\" style=\"border: 0px none; vertical-align: bottom;\" srcdoc=\"\" data-google-container-id=\"1\" data-load-complete=\"true\" width=\"728\" height=\"90\" frameborder=\"0\"></iframe></div></div>\n",
      "                    \n",
      "                      </div>\n",
      "              </div>\n"
     ]
    }
   ],
   "source": [
    "# url 7\n",
    "i = urls[6]\n",
    "open_url(i)\n",
    "element = driver.find_element_by_css_selector('.outer')\n",
    "source = element.get_attribute(\"outerHTML\")\n",
    "print(source)\n",
    "ad_type = \"sticky\"\n",
    "data.append({\"TYPE\" : ad_type, \"ad_code\" : source, \"URL\" : i})"
   ]
  },
  {
   "cell_type": "code",
   "execution_count": 126,
   "metadata": {
    "collapsed": true
   },
   "outputs": [
    {
     "name": "stdout",
     "output_type": "stream",
     "text": [
      "<div class=\"ad-wrapper outer tablet-ad desktop-ad full-column karma-leaderboard-docking-element docked\">\n",
      "                      <div class=\"ad-sticky-container desktop-ad tablet-ad karma-ad\">\n",
      "                    \n",
      "                      <div id=\"div-gpt-leaderboard-flex-1\" data-tier=\"1\" class=\"ad ad-container ad-wrapper type-banner type-970x90-flex margin-16-tb desktop-ad tablet-ad  karma-ad\" data-dimensions=\"101x1;970x90;970x66;970x250;728x90\" role=\"complementary\" aria-hidden=\"true\" tabindex=\"-1\" data-google-query-id=\"CL6VlJq-yecCFZB7vQodVTQPhQ\"><div id=\"google_ads_iframe_3865/bhg.mdp.com/tier1/slideshow/RecipesandCooking_0__container__\" style=\"border: 0pt none;\"><iframe id=\"google_ads_iframe_3865/bhg.mdp.com/tier1/slideshow/RecipesandCooking_0\" title=\"3rd party ad content\" name=\"google_ads_iframe_3865/bhg.mdp.com/tier1/slideshow/RecipesandCooking_0\" scrolling=\"no\" marginwidth=\"0\" marginheight=\"0\" style=\"border: 0px none; vertical-align: bottom;\" srcdoc=\"\" data-google-container-id=\"1\" data-load-complete=\"true\" width=\"728\" height=\"90\" frameborder=\"0\"></iframe></div></div>\n",
      "                    \n",
      "                      </div>\n",
      "              </div>\n"
     ]
    }
   ],
   "source": [
    "# url 8\n",
    "i = urls[7]\n",
    "open_url(i)\n",
    "element = driver.find_element_by_css_selector('.outer')\n",
    "source = element.get_attribute(\"outerHTML\")\n",
    "print(source)\n",
    "ad_type = \"sticky\"\n",
    "data.append({\"TYPE\" : ad_type, \"ad_code\" : source, \"URL\" : i})"
   ]
  },
  {
   "cell_type": "code",
   "execution_count": 127,
   "metadata": {
    "collapsed": true
   },
   "outputs": [
    {
     "name": "stdout",
     "output_type": "stream",
     "text": [
      "<div class=\"ad-wrapper outer tablet-ad desktop-ad full-column karma-leaderboard-docking-element docked\">\n",
      "                      <div class=\"ad-sticky-container desktop-ad tablet-ad karma-ad\">\n",
      "                    \n",
      "                      <div id=\"div-gpt-leaderboard-flex-1\" data-tier=\"1\" class=\"ad ad-container ad-wrapper type-banner type-970x90-flex margin-16-tb desktop-ad tablet-ad  karma-ad\" data-dimensions=\"101x1;970x90;970x66;970x250;728x90\" role=\"complementary\" aria-hidden=\"true\" tabindex=\"-1\" data-google-query-id=\"CLiuvqS-yecCFQqGlgodDLsMaw\"><div id=\"google_ads_iframe_3865/bhg.mdp.com/tier1/video_article/RecipesandCooking_0__container__\" style=\"border: 0pt none;\"><iframe id=\"google_ads_iframe_3865/bhg.mdp.com/tier1/video_article/RecipesandCooking_0\" title=\"3rd party ad content\" name=\"google_ads_iframe_3865/bhg.mdp.com/tier1/video_article/RecipesandCooking_0\" scrolling=\"no\" marginwidth=\"0\" marginheight=\"0\" style=\"border: 0px none; vertical-align: bottom;\" srcdoc=\"\" data-google-container-id=\"1\" data-load-complete=\"true\" width=\"728\" height=\"90\" frameborder=\"0\"></iframe></div></div>\n",
      "                    \n",
      "                      </div>\n",
      "              </div>\n"
     ]
    }
   ],
   "source": [
    "# url 9\n",
    "i = urls[8]\n",
    "open_url(i)\n",
    "element = driver.find_element_by_css_selector('.outer')\n",
    "source = element.get_attribute(\"outerHTML\")\n",
    "print(source)\n",
    "ad_type = \"sticky\"\n",
    "data.append({\"TYPE\" : ad_type, \"ad_code\" : source, \"URL\" : i})"
   ]
  },
  {
   "cell_type": "code",
   "execution_count": 128,
   "metadata": {
    "collapsed": true
   },
   "outputs": [
    {
     "name": "stdout",
     "output_type": "stream",
     "text": [
      "<div class=\"ad-wrapper outer tablet-ad desktop-ad full-column karma-leaderboard-docking-element docked\">\n",
      "                      <div class=\"ad-sticky-container desktop-ad tablet-ad karma-ad\">\n",
      "                    \n",
      "                      <div id=\"div-gpt-leaderboard-flex-1\" data-tier=\"1\" class=\"ad ad-container ad-wrapper type-banner type-970x90-flex margin-16-tb desktop-ad tablet-ad  karma-ad\" data-dimensions=\"101x1;970x90;970x66;970x250;728x90\" role=\"complementary\" aria-hidden=\"true\" tabindex=\"-1\" data-google-query-id=\"CKTMoq--yecCFU1TvQodWh0KjA\"><div id=\"google_ads_iframe_3865/bhg.mdp.com/tier1/video_article/Decorating_0__container__\" style=\"border: 0pt none;\"><iframe id=\"google_ads_iframe_3865/bhg.mdp.com/tier1/video_article/Decorating_0\" title=\"3rd party ad content\" name=\"google_ads_iframe_3865/bhg.mdp.com/tier1/video_article/Decorating_0\" scrolling=\"no\" marginwidth=\"0\" marginheight=\"0\" style=\"border: 0px none; vertical-align: bottom;\" srcdoc=\"\" data-google-container-id=\"1\" data-load-complete=\"true\" width=\"728\" height=\"90\" frameborder=\"0\"></iframe></div></div>\n",
      "                    \n",
      "                      </div>\n",
      "              </div>\n"
     ]
    }
   ],
   "source": [
    "# url 10\n",
    "i = urls[9]\n",
    "open_url(i)\n",
    "element = driver.find_element_by_css_selector('.outer')\n",
    "source = element.get_attribute(\"outerHTML\")\n",
    "print(source)\n",
    "ad_type = \"sticky\"\n",
    "data.append({\"TYPE\" : ad_type, \"ad_code\" : source, \"URL\" : i})"
   ]
  },
  {
   "cell_type": "code",
   "execution_count": 145,
   "metadata": {
    "collapsed": true
   },
   "outputs": [
    {
     "name": "stdout",
     "output_type": "stream",
     "text": [
      "<div id=\"sticky-footer\" style=\"z-index: 2147483647;\" class=\"sticky-footer-standard\"><div id=\"slot-footer-wrapper\" class=\"sticky-wrapper\"><div id=\"gardeningknowhow_728x90_desktop_adhesion\" name=\"gardeningknowhow_728x90_desktop_adhesion\" data-google-query-id=\"CMqy6pDByecCFUJcvQodB9sAtA\"><a class=\"fs-branding-elm\" id=\"fs-sticky-branding-elm\" href=\"https://freestar.io/?utm_medium=stickyFooter\" target=\"_blank\" data-ad-height=\"90\" style=\"display: inline-block;\"></a><div id=\"google_ads_iframe_/15184186/gardeningknowhow_728x90_desktop_adhesion_0__container__\" style=\"display: inline-block;\"><iframe id=\"google_ads_iframe_/15184186/gardeningknowhow_728x90_desktop_adhesion_0\" title=\"3rd party ad content\" name=\"google_ads_iframe_/15184186/gardeningknowhow_728x90_desktop_adhesion_0\" scrolling=\"no\" marginwidth=\"0\" marginheight=\"0\" style=\"border: 0px none; vertical-align: bottom;\" srcdoc=\"\" sandbox=\"allow-forms allow-pointer-lock allow-popups allow-popups-to-escape-sandbox allow-same-origin allow-scripts allow-top-navigation-by-user-activation\" data-google-container-id=\"4\" data-load-complete=\"true\" width=\"728\" height=\"90\" frameborder=\"0\"></iframe></div></div><button class=\"fs-close-button\"></button></div></div>\n"
     ]
    }
   ],
   "source": [
    "# url 11\n",
    "i = urls[10]\n",
    "#open_url(i)\n",
    "element = driver.find_element_by_css_selector('#sticky-footer')\n",
    "source = element.get_attribute(\"outerHTML\")\n",
    "print(source)\n",
    "ad_type = \"sticky\"\n",
    "data.append({\"TYPE\" : ad_type, \"ad_code\" : source, \"URL\" : i})"
   ]
  },
  {
   "cell_type": "code",
   "execution_count": 150,
   "metadata": {
    "collapsed": true
   },
   "outputs": [
    {
     "name": "stdout",
     "output_type": "stream",
     "text": [
      "<div id=\"sticky-footer\" style=\"z-index: 2147483647;\" class=\"sticky-footer-standard\"><div id=\"slot-footer-wrapper\" class=\"sticky-wrapper\"><div id=\"gardeningknowhow_728x90_desktop_adhesion\" name=\"gardeningknowhow_728x90_desktop_adhesion\" data-google-query-id=\"COLA9-DByecCFRN5vQodxAcDDg\"><a class=\"fs-branding-elm\" id=\"fs-sticky-branding-elm\" href=\"https://freestar.io/?utm_medium=stickyFooter\" target=\"_blank\" data-ad-height=\"90\" style=\"display: inline-block;\"></a><div id=\"google_ads_iframe_/15184186/gardeningknowhow_728x90_desktop_adhesion_0__container__\" style=\"border: 0pt none; display: inline-block; width: 728px; height: 90px;\"><iframe style=\"border: 0px none; vertical-align: bottom;\" src=\"https://tpc.googlesyndication.com/safeframe/1-0-37/html/container.html\" id=\"google_ads_iframe_/15184186/gardeningknowhow_728x90_desktop_adhesion_0\" title=\"3rd party ad content\" name=\"\" scrolling=\"no\" marginwidth=\"0\" marginheight=\"0\" data-is-safeframe=\"true\" sandbox=\"allow-forms allow-pointer-lock allow-popups allow-popups-to-escape-sandbox allow-same-origin allow-scripts allow-top-navigation-by-user-activation\" data-google-container-id=\"9\" data-load-complete=\"true\" width=\"728\" height=\"90\" frameborder=\"0\"></iframe></div></div><button class=\"fs-close-button\"></button></div></div>\n"
     ]
    }
   ],
   "source": [
    "# url 12\n",
    "i = urls[11]\n",
    "#open_url(i)\n",
    "element = driver.find_element_by_css_selector('#sticky-footer')\n",
    "source = element.get_attribute(\"outerHTML\")\n",
    "print(source)\n",
    "ad_type = \"sticky\"\n",
    "data.append({\"TYPE\" : ad_type, \"ad_code\" : source, \"URL\" : i})"
   ]
  },
  {
   "cell_type": "code",
   "execution_count": 154,
   "metadata": {
    "collapsed": true
   },
   "outputs": [
    {
     "name": "stdout",
     "output_type": "stream",
     "text": [
      "<div id=\"sticky-footer\" style=\"z-index: 2147483647;\" class=\"sticky-footer-standard\"><div id=\"slot-footer-wrapper\" class=\"sticky-wrapper\"><div id=\"gardeningknowhow_728x90_desktop_adhesion\" name=\"gardeningknowhow_728x90_desktop_adhesion\" data-google-query-id=\"CISroYPCyecCFcyVvQodtG4Hew\"><a class=\"fs-branding-elm\" id=\"fs-sticky-branding-elm\" href=\"https://freestar.io/?utm_medium=stickyFooter\" target=\"_blank\" data-ad-height=\"90\" style=\"display: inline-block;\"></a><div id=\"google_ads_iframe_/15184186/gardeningknowhow_728x90_desktop_adhesion_0__container__\" style=\"display: inline-block;\"><iframe id=\"google_ads_iframe_/15184186/gardeningknowhow_728x90_desktop_adhesion_0\" title=\"3rd party ad content\" name=\"google_ads_iframe_/15184186/gardeningknowhow_728x90_desktop_adhesion_0\" scrolling=\"no\" marginwidth=\"0\" marginheight=\"0\" style=\"border: 0px none; vertical-align: bottom;\" srcdoc=\"\" data-google-container-id=\"4\" data-load-complete=\"true\" width=\"728\" height=\"90\" frameborder=\"0\"></iframe></div></div><button class=\"fs-close-button\"></button></div></div>\n"
     ]
    }
   ],
   "source": [
    "# url 13\n",
    "i = urls[12]\n",
    "#open_url(i)\n",
    "element = driver.find_element_by_css_selector('#sticky-footer')\n",
    "source = element.get_attribute(\"outerHTML\")\n",
    "print(source)\n",
    "ad_type = \"sticky\"\n",
    "data.append({\"TYPE\" : ad_type, \"ad_code\" : source, \"URL\" : i})"
   ]
  },
  {
   "cell_type": "code",
   "execution_count": 161,
   "metadata": {
    "collapsed": true
   },
   "outputs": [
    {
     "name": "stdout",
     "output_type": "stream",
     "text": [
      "<div id=\"sticky-footer\" style=\"z-index: 2147483647;\" class=\"sticky-footer-standard\"><div id=\"slot-footer-wrapper\" class=\"sticky-wrapper\"><div id=\"gardeningknowhow_728x90_desktop_adhesion\" name=\"gardeningknowhow_728x90_desktop_adhesion\" data-google-query-id=\"COv_me7CyecCFYGclgode1MMIg\"><a class=\"fs-branding-elm\" id=\"fs-sticky-branding-elm\" href=\"https://freestar.io/?utm_medium=stickyFooter\" target=\"_blank\" data-ad-height=\"90\" style=\"display: inline-block;\"></a><div id=\"google_ads_iframe_/15184186/gardeningknowhow_728x90_desktop_adhesion_0__container__\" style=\"display: inline-block;\"><iframe id=\"google_ads_iframe_/15184186/gardeningknowhow_728x90_desktop_adhesion_0\" title=\"3rd party ad content\" name=\"google_ads_iframe_/15184186/gardeningknowhow_728x90_desktop_adhesion_0\" scrolling=\"no\" marginwidth=\"0\" marginheight=\"0\" style=\"border: 0px none; vertical-align: bottom;\" srcdoc=\"\" data-google-container-id=\"4\" data-load-complete=\"true\" width=\"728\" height=\"90\" frameborder=\"0\"></iframe></div></div><button class=\"fs-close-button\"></button></div></div>\n"
     ]
    }
   ],
   "source": [
    "# url 14\n",
    "i = urls[13]\n",
    "open_url(i)\n",
    "element = driver.find_element_by_css_selector('#sticky-footer')\n",
    "source = element.get_attribute(\"outerHTML\")\n",
    "print(source)\n",
    "ad_type = \"sticky\"\n",
    "data.append({\"TYPE\" : ad_type, \"ad_code\" : source, \"URL\" : i})"
   ]
  },
  {
   "cell_type": "code",
   "execution_count": 163,
   "metadata": {
    "collapsed": true
   },
   "outputs": [
    {
     "name": "stdout",
     "output_type": "stream",
     "text": [
      "<div id=\"sticky-footer\" style=\"z-index: 2147483647;\" class=\"sticky-footer-standard\"><div id=\"slot-footer-wrapper\" class=\"sticky-wrapper\"><div id=\"gardeningknowhow_728x90_desktop_adhesion\" name=\"gardeningknowhow_728x90_desktop_adhesion\" data-google-query-id=\"CLORidDDyecCFcYxKgodLMEI7Q\"><a class=\"fs-branding-elm\" id=\"fs-sticky-branding-elm\" href=\"https://freestar.io/?utm_medium=stickyFooter\" target=\"_blank\" data-ad-height=\"90\" style=\"display: inline-block;\"></a><div id=\"google_ads_iframe_/15184186/gardeningknowhow_728x90_desktop_adhesion_0__container__\" style=\"border: 0pt none; display: inline-block; width: 728px; height: 90px;\"><iframe style=\"border: 0px none; vertical-align: bottom;\" src=\"https://tpc.googlesyndication.com/safeframe/1-0-37/html/container.html\" id=\"google_ads_iframe_/15184186/gardeningknowhow_728x90_desktop_adhesion_0\" title=\"3rd party ad content\" name=\"\" scrolling=\"no\" marginwidth=\"0\" marginheight=\"0\" data-is-safeframe=\"true\" data-google-container-id=\"4\" data-load-complete=\"true\" width=\"728\" height=\"90\" frameborder=\"0\"></iframe></div></div><button class=\"fs-close-button\"></button></div></div>\n"
     ]
    }
   ],
   "source": [
    "# url 15\n",
    "i = urls[14]\n",
    "#open_url(i)\n",
    "element = driver.find_element_by_css_selector('#sticky-footer')\n",
    "source = element.get_attribute(\"outerHTML\")\n",
    "print(source)\n",
    "ad_type = \"sticky\"\n",
    "data.append({\"TYPE\" : ad_type, \"ad_code\" : source, \"URL\" : i})"
   ]
  },
  {
   "cell_type": "code",
   "execution_count": 167,
   "metadata": {
    "collapsed": true
   },
   "outputs": [
    {
     "name": "stdout",
     "output_type": "stream",
     "text": [
      "<div class=\"ezmob-footer ezoic-floating-bottom ezo_ad ezmob-footer-desktop\" id=\"ezmobfooter\"><center><span style=\"display:inline-block;float:none;margin-bottom:2px !important;margin-left:0px !important;margin-right:0px !important;margin-top:2px !important;min-height:90px;min-width:728px;\" class=\"ezoic-ad medrectangle-2 adtester-container adtester-container-100\" data-ez-name=\"sheepandstitch_com-medrectangle-2\"><span id=\"div-gpt-ad-sheepandstitch_com-medrectangle-2-0\" ezaw=\"728\" ezah=\"90\" style=\"position: relative; z-index: 0; min-height: 90px; min-width: 728px;\" class=\"ezoic-ad ezfound\" data-google-query-id=\"CNGqpO7DyecCFVK_vQodY8sNIw\"><div id=\"google_ads_iframe_/1254144/sheepandstitch_com-medrectangle-2_0__container__\" style=\"border: 0pt none; display: inline-block; width: 728px; height: 90px;\"><iframe style=\"border: 0px none; vertical-align: bottom;\" src=\"https://tpc.googlesyndication.com/safeframe/1-0-37/html/container.html\" id=\"google_ads_iframe_/1254144/sheepandstitch_com-medrectangle-2_0\" title=\"3rd party ad content\" name=\"\" scrolling=\"no\" marginwidth=\"0\" marginheight=\"0\" data-is-safeframe=\"true\" sandbox=\"allow-forms allow-pointer-lock allow-popups allow-popups-to-escape-sandbox allow-same-origin allow-scripts allow-top-navigation-by-user-activation\" data-google-container-id=\"p\" data-load-complete=\"true\" width=\"728\" height=\"90\" frameborder=\"0\"></iframe></div></span></span></center><span class=\"ezmob-footer-close\" onclick=\"document.getElementById('ezmobfooter').style.display='none';\">x</span></div>\n"
     ]
    }
   ],
   "source": [
    "# url 16\n",
    "i = urls[15]\n",
    "#open_url(i)\n",
    "element = driver.find_element_by_css_selector('div.ezmob-footer:nth-child(2)')\n",
    "source = element.get_attribute(\"outerHTML\")\n",
    "print(source)\n",
    "ad_type = \"sticky\"\n",
    "data.append({\"TYPE\" : ad_type, \"ad_code\" : source, \"URL\" : i})"
   ]
  },
  {
   "cell_type": "code",
   "execution_count": 177,
   "metadata": {
    "collapsed": true
   },
   "outputs": [
    {
     "name": "stdout",
     "output_type": "stream",
     "text": [
      "<div class=\"ezmob-footer ezoic-floating-bottom ezo_ad ezmob-footer-desktop\" id=\"ezmobfooter\"><center><span id=\"ezoic-pub-ad-placeholder-100\"></span>\n",
      "\t\t<!-- Ezoic - Anchor Ad - bottom_floating -->\n",
      "\t\t<div class=\"ezmob-footer ezoic-floating-bottom ezo_ad ezmob-footer-desktop\" id=\"ezmobfooter\"><center><span style=\"display:inline-block;float:none;margin-bottom:2px !important;margin-left:0px !important;margin-right:0px !important;margin-top:2px !important;min-height:90px;min-width:728px;\" class=\"ezoic-ad medrectangle-2 adtester-container adtester-container-100\" data-ez-name=\"sheepandstitch_com-medrectangle-2\"><span id=\"div-gpt-ad-sheepandstitch_com-medrectangle-2-0\" ezaw=\"728\" ezah=\"90\" style=\"position: relative; z-index: 0; min-height: 90px; min-width: 728px;\" class=\"ezoic-ad ezfound\" data-google-query-id=\"CPnYubfFyecCFZGMvQodPZsF4g\"><div id=\"google_ads_iframe_/1254144/sheepandstitch_com-medrectangle-2_0__container__\" style=\"border: 0pt none; display: inline-block; width: 728px; height: 90px;\"><iframe style=\"border: 0px none; vertical-align: bottom;\" src=\"https://tpc.googlesyndication.com/safeframe/1-0-37/html/container.html\" id=\"google_ads_iframe_/1254144/sheepandstitch_com-medrectangle-2_0\" title=\"3rd party ad content\" name=\"\" scrolling=\"no\" marginwidth=\"0\" marginheight=\"0\" data-is-safeframe=\"true\" sandbox=\"allow-forms allow-pointer-lock allow-popups allow-popups-to-escape-sandbox allow-same-origin allow-scripts allow-top-navigation-by-user-activation\" data-google-container-id=\"24\" data-load-complete=\"true\" width=\"728\" height=\"90\" frameborder=\"0\"></iframe></div></span></span></center><span class=\"ezmob-footer-close\" onclick=\"document.getElementById('ezmobfooter').style.display='none';\">x</span></div>\n",
      "\t\t<!-- End Ezoic - Anchor Ad - bottom_floating -->\n",
      "\t\t</center><span class=\"ezmob-footer-close\" onclick=\"document.getElementById('ezmobfooter').style.display='none';\">x</span></div>\n"
     ]
    }
   ],
   "source": [
    "# url 17\n",
    "i = urls[16]\n",
    "#open_url(i)\n",
    "element = driver.find_element_by_css_selector('div.ezmob-footer:nth-child(17)')\n",
    "source = element.get_attribute(\"outerHTML\")\n",
    "print(source)\n",
    "ad_type = \"sticky\"\n",
    "data.append({\"TYPE\" : ad_type, \"ad_code\" : source, \"URL\" : i})"
   ]
  },
  {
   "cell_type": "code",
   "execution_count": 180,
   "metadata": {
    "collapsed": true
   },
   "outputs": [
    {
     "name": "stdout",
     "output_type": "stream",
     "text": [
      "<div class=\"ezmob-footer ezoic-floating-bottom ezo_ad ezmob-footer-desktop\" id=\"ezmobfooter\"><center><span id=\"ezoic-pub-ad-placeholder-100\"></span>\n",
      "\t\t<!-- Ezoic - Anchor Ad - bottom_floating -->\n",
      "\t\t<div class=\"ezmob-footer ezoic-floating-bottom ezo_ad ezmob-footer-desktop\" id=\"ezmobfooter\"><center><span style=\"display:inline-block;float:none;margin-bottom:2px !important;margin-left:0px !important;margin-right:0px !important;margin-top:2px !important;min-height:90px;min-width:728px;\" class=\"ezoic-ad medrectangle-2 adtester-container adtester-container-100\" data-ez-name=\"sheepandstitch_com-medrectangle-2\"><span id=\"div-gpt-ad-sheepandstitch_com-medrectangle-2-0\" ezaw=\"728\" ezah=\"90\" style=\"position: relative; z-index: 0; min-height: 90px; min-width: 728px;\" class=\"ezoic-ad ezfound\" data-google-query-id=\"CO2u5MjFyecCFRTDlgodjt8HVw\"><div id=\"google_ads_iframe_/1254144/sheepandstitch_com-medrectangle-2_0__container__\" style=\"border: 0pt none; display: inline-block; width: 728px; height: 90px;\"><iframe style=\"border: 0px none; vertical-align: bottom;\" src=\"https://tpc.googlesyndication.com/safeframe/1-0-37/html/container.html\" id=\"google_ads_iframe_/1254144/sheepandstitch_com-medrectangle-2_0\" title=\"3rd party ad content\" name=\"\" scrolling=\"no\" marginwidth=\"0\" marginheight=\"0\" data-is-safeframe=\"true\" sandbox=\"allow-forms allow-pointer-lock allow-popups allow-popups-to-escape-sandbox allow-same-origin allow-scripts allow-top-navigation-by-user-activation\" data-google-container-id=\"p\" data-load-complete=\"true\" width=\"728\" height=\"90\" frameborder=\"0\"></iframe></div></span></span></center><span class=\"ezmob-footer-close\" onclick=\"document.getElementById('ezmobfooter').style.display='none';\">x</span></div>\n",
      "\t\t<!-- End Ezoic - Anchor Ad - bottom_floating -->\n",
      "\t\t</center><span class=\"ezmob-footer-close\" onclick=\"document.getElementById('ezmobfooter').style.display='none';\">x</span></div>\n"
     ]
    }
   ],
   "source": [
    "# url 18\n",
    "i = urls[17]\n",
    "#open_url(i)\n",
    "element = driver.find_element_by_css_selector('div.ezmob-footer:nth-child(14)')\n",
    "source = element.get_attribute(\"outerHTML\")\n",
    "print(source)\n",
    "ad_type = \"sticky\"\n",
    "data.append({\"TYPE\" : ad_type, \"ad_code\" : source, \"URL\" : i})"
   ]
  },
  {
   "cell_type": "code",
   "execution_count": 183,
   "metadata": {
    "collapsed": true
   },
   "outputs": [
    {
     "name": "stdout",
     "output_type": "stream",
     "text": [
      "<div class=\"ezmob-footer ezoic-floating-bottom ezo_ad ezmob-footer-desktop\" id=\"ezmobfooter\"><center><span id=\"ezoic-pub-ad-placeholder-100\"></span>\n",
      "\t\t<!-- Ezoic - Anchor Ad - bottom_floating -->\n",
      "\t\t<div class=\"ezmob-footer ezoic-floating-bottom ezo_ad ezmob-footer-desktop\" id=\"ezmobfooter\"><center><span style=\"display:inline-block;float:none;margin-bottom:2px !important;margin-left:0px !important;margin-right:0px !important;margin-top:2px !important;min-height:90px;min-width:728px;\" class=\"ezoic-ad medrectangle-2 adtester-container adtester-container-100\" data-ez-name=\"sheepandstitch_com-medrectangle-2\"><span id=\"div-gpt-ad-sheepandstitch_com-medrectangle-2-0\" ezaw=\"728\" ezah=\"90\" style=\"position: relative; z-index: 0; min-height: 90px; min-width: 728px;\" class=\"ezoic-ad ezfound\" data-google-query-id=\"CNP37cPGyecCFQ99vQodT_EGRA\"><div id=\"google_ads_iframe_/1254144/sheepandstitch_com-medrectangle-2_0__container__\" style=\"border: 0pt none; display: inline-block; width: 728px; height: 90px;\"><iframe style=\"border: 0px none; vertical-align: bottom;\" src=\"https://tpc.googlesyndication.com/safeframe/1-0-37/html/container.html\" id=\"google_ads_iframe_/1254144/sheepandstitch_com-medrectangle-2_0\" title=\"3rd party ad content\" name=\"\" scrolling=\"no\" marginwidth=\"0\" marginheight=\"0\" data-is-safeframe=\"true\" sandbox=\"allow-forms allow-pointer-lock allow-popups allow-popups-to-escape-sandbox allow-same-origin allow-scripts allow-top-navigation-by-user-activation\" data-google-container-id=\"s\" data-load-complete=\"true\" width=\"728\" height=\"90\" frameborder=\"0\"></iframe></div></span></span></center><span class=\"ezmob-footer-close\" onclick=\"document.getElementById('ezmobfooter').style.display='none';\">x</span></div>\n",
      "\t\t<!-- End Ezoic - Anchor Ad - bottom_floating -->\n",
      "\t\t</center><span class=\"ezmob-footer-close\" onclick=\"document.getElementById('ezmobfooter').style.display='none';\">x</span></div>\n"
     ]
    }
   ],
   "source": [
    "# url 19\n",
    "i = urls[18]\n",
    "#open_url(i)\n",
    "element = driver.find_element_by_css_selector('div.ezmob-footer:nth-child(14)')\n",
    "source = element.get_attribute(\"outerHTML\")\n",
    "print(source)\n",
    "ad_type = \"sticky\"\n",
    "data.append({\"TYPE\" : ad_type, \"ad_code\" : source, \"URL\" : i})"
   ]
  },
  {
   "cell_type": "code",
   "execution_count": 186,
   "metadata": {
    "collapsed": true
   },
   "outputs": [
    {
     "name": "stdout",
     "output_type": "stream",
     "text": [
      "<div class=\"ezmob-footer ezoic-floating-bottom ezo_ad ezmob-footer-desktop\" id=\"ezmobfooter\"><center><span id=\"ezoic-pub-ad-placeholder-100\"></span>\n",
      "\t\t<!-- Ezoic - Anchor Ad - bottom_floating -->\n",
      "\t\t<div class=\"ezmob-footer ezoic-floating-bottom ezo_ad ezmob-footer-desktop\" id=\"ezmobfooter\"><center><span style=\"display:inline-block;float:none;margin-bottom:2px !important;margin-left:0px !important;margin-right:0px !important;margin-top:2px !important;min-height:90px;min-width:728px;\" class=\"ezoic-ad medrectangle-2 adtester-container adtester-container-100\" data-ez-name=\"sheepandstitch_com-medrectangle-2\"><span id=\"div-gpt-ad-sheepandstitch_com-medrectangle-2-0\" ezaw=\"728\" ezah=\"90\" style=\"position: relative; z-index: 0; min-height: 90px; min-width: 728px;\" class=\"ezoic-ad ezfound\" data-google-query-id=\"CMLowvrGyecCFZGMvQodPZsF4g\"><div id=\"google_ads_iframe_/1254144/sheepandstitch_com-medrectangle-2_0__container__\" style=\"border: 0pt none; display: inline-block; width: 728px; height: 90px;\"><iframe style=\"border: 0px none; vertical-align: bottom;\" src=\"https://tpc.googlesyndication.com/safeframe/1-0-37/html/container.html\" id=\"google_ads_iframe_/1254144/sheepandstitch_com-medrectangle-2_0\" title=\"3rd party ad content\" name=\"\" scrolling=\"no\" marginwidth=\"0\" marginheight=\"0\" data-is-safeframe=\"true\" sandbox=\"allow-forms allow-pointer-lock allow-popups allow-popups-to-escape-sandbox allow-same-origin allow-scripts allow-top-navigation-by-user-activation\" data-google-container-id=\"u\" data-load-complete=\"true\" width=\"728\" height=\"90\" frameborder=\"0\"></iframe></div></span></span></center><span class=\"ezmob-footer-close\" onclick=\"document.getElementById('ezmobfooter').style.display='none';\">x</span></div>\n",
      "\t\t<!-- End Ezoic - Anchor Ad - bottom_floating -->\n",
      "\t\t</center><span class=\"ezmob-footer-close\" onclick=\"document.getElementById('ezmobfooter').style.display='none';\">x</span></div>\n"
     ]
    }
   ],
   "source": [
    "# url 20\n",
    "i = urls[19]\n",
    "#open_url(i)\n",
    "element = driver.find_element_by_css_selector('div.ezmob-footer:nth-child(14)')\n",
    "source = element.get_attribute(\"outerHTML\")\n",
    "print(source)\n",
    "ad_type = \"sticky\"\n",
    "data.append({\"TYPE\" : ad_type, \"ad_code\" : source, \"URL\" : i})"
   ]
  },
  {
   "cell_type": "code",
   "execution_count": 196,
   "metadata": {
    "collapsed": true
   },
   "outputs": [
    {
     "name": "stdout",
     "output_type": "stream",
     "text": [
      "<div id=\"AdThrive_Footer_1_desktop\" class=\"adthrive-ad adthrive-footer adthrive-footer-1 adthrive-sticky\" data-google-query-id=\"CMz8g8LIyecCFRq8vQodECILlg\" closable=\"true\"><div id=\"google_ads_iframe_/18190176/AdThrive_Footer_1/5707b6e99472026f43796912_0__container__\" style=\"border: 0pt none; padding-top: 0px;\"><iframe id=\"google_ads_iframe_/18190176/AdThrive_Footer_1/5707b6e99472026f43796912_0\" title=\"3rd party ad content\" name=\"google_ads_iframe_/18190176/AdThrive_Footer_1/5707b6e99472026f43796912_0\" scrolling=\"no\" marginwidth=\"0\" marginheight=\"0\" style=\"border: 0px none; vertical-align: bottom;\" sandbox=\"allow-forms allow-pointer-lock allow-popups allow-popups-to-escape-sandbox allow-same-origin allow-scripts allow-top-navigation-by-user-activation\" data-forced-sandbox=\"true\" data-google-container-id=\"3\" data-load-complete=\"true\" width=\"970\" height=\"90\" frameborder=\"0\"></iframe></div><span class=\"adthrive-close\">×</span></div>\n"
     ]
    }
   ],
   "source": [
    "# url 21\n",
    "i = urls[20]\n",
    "#open_url(i)\n",
    "element = driver.find_element_by_css_selector('#AdThrive_Footer_1_desktop')\n",
    "source = element.get_attribute(\"outerHTML\")\n",
    "print(source)\n",
    "ad_type = \"sticky\"\n",
    "data.append({\"TYPE\" : ad_type, \"ad_code\" : source, \"URL\" : i})"
   ]
  },
  {
   "cell_type": "code",
   "execution_count": 232,
   "metadata": {
    "collapsed": true
   },
   "outputs": [
    {
     "name": "stdout",
     "output_type": "stream",
     "text": [
      "<div id=\"AdThrive_Footer_1_desktop\" class=\"adthrive-ad adthrive-footer adthrive-footer-1 adthrive-sticky\" closable=\"true\" data-google-query-id=\"CI3e4aTNyecCFQg3lgodWhwMrg\"><div id=\"google_ads_iframe_/18190176/AdThrive_Footer_1/5707b6e99472026f43796912_0__container__\" style=\"border: 0pt none; padding-top: 0px;\"><iframe id=\"google_ads_iframe_/18190176/AdThrive_Footer_1/5707b6e99472026f43796912_0\" title=\"3rd party ad content\" name=\"google_ads_iframe_/18190176/AdThrive_Footer_1/5707b6e99472026f43796912_0\" scrolling=\"no\" marginwidth=\"0\" marginheight=\"0\" style=\"border: 0px none; vertical-align: bottom;\" sandbox=\"allow-forms allow-pointer-lock allow-popups allow-popups-to-escape-sandbox allow-same-origin allow-scripts allow-top-navigation-by-user-activation\" data-forced-sandbox=\"true\" data-google-container-id=\"6\" data-load-complete=\"true\" width=\"1\" height=\"1\" frameborder=\"0\"></iframe></div><span class=\"adthrive-close\">×</span></div>\n"
     ]
    }
   ],
   "source": [
    "# url 22\n",
    "i = urls[21]\n",
    "#open_url(i)\n",
    "element = driver.find_element_by_css_selector('#AdThrive_Footer_1_desktop')\n",
    "source = element.get_attribute(\"outerHTML\")\n",
    "print(source)\n",
    "ad_type = \"sticky\"\n",
    "data.append({\"TYPE\" : ad_type, \"ad_code\" : source, \"URL\" : i})"
   ]
  },
  {
   "cell_type": "code",
   "execution_count": 235,
   "metadata": {
    "collapsed": true
   },
   "outputs": [
    {
     "name": "stdout",
     "output_type": "stream",
     "text": [
      "<div class=\"met-flyout met-rule-2749\" aria-hidden=\"true\" aria-live=\"off\"><style>.met-rule-2749{height:104px;width:100%;padding:24px 40px;max-width:1200px;text-align:center;font:400 18px/24px Lato,Arial,sans-serif;box-sizing:border-box;background: url('https://www.latimes.com/subscriptions/ad-arc-ears/img/LA_Skyling_toaster.svg') no-repeat -110px center/cover;;background-size:cover;background-position:-110px center;background-color:#FAE300;color:#000;position:fixed;bottom:0;left:0;right:0;box-shadow:0 1px 4px 0 #9b9b9b;margin:0 auto;-webkit-transition:-webkit-transform 375ms cubic-bezier(.2,.84,.46,.99);-moz-transition:-moz-transform 375ms cubic-bezier(.2,.84,.46,.99);transition:transform 375ms cubic-bezier(.2,.84,.46,.99);z-index:30}.met-rule-2749 *{font:inherit;box-sizing:inherit}.met-rule-2749.closed{-webkit-transform:translateY(150%);-moz-transform:translateY(150%);-ms-transform:translateY(150%);-o-transform:translateY(150%);transform:translateY(150%);-webkit-transition:-webkit-transform .15s linear;-moz-transition:-moz-transform .15s linear;transition:transform .15s linear}.met-rule-2749 b{font-weight:700}.met-rule-2749 mark{color:#62A1D5;background:0 0}.met-toast-left,.met-toast-right{float:left}.met-rule-2749 .met-flyout-close,.met-rule-2749 [data-met-return]{float:right}.met-toast-left{text-align:right;padding-right:20px;line-height:56px;white-space:nowrap;width:160px}.met-toast-left:before{content:\"\";border-right:1px solid;height:40px;float:right;position:relative;top:8px;left:20px}.met-toast-right{padding:4px 0 0 20px;line-height:24px;width:256px}.met-rule-2749 [data-met-return]{background-color:#62A1D5;font-size:14px;line-height:40px;text-decoration:none;border-radius:3px;margin-top:8px;white-space:nowrap;width:344px;color:#333}.met-rule-2749 [data-met-return] mark{color:#FAE300;background:0 0}.met-rule-2749 [data-met-return] i{color:#fff;font-style:normal}.met-rule-2749 .met-flyout-close{cursor:pointer;display:table-cell;position:absolute;right:20px;top:10px;width:16px;height:16px}.met-flyout-close::after,.met-flyout-close::before{content:'';position:absolute;height:4px;top:50%;background-color:#000;width:90%}.met-flyout-close::before{-webkit-transform:rotate(45deg);-moz-transform:rotate(45deg);-ms-transform:rotate(45deg);-o-transform:rotate(45deg);transform:rotate(45deg)}.met-flyout-close::after{-webkit-transform:rotate(-45deg);-moz-transform:rotate(-45deg);-ms-transform:rotate(-45deg);-o-transform:rotate(-45deg);transform:rotate(-45deg)}.met-toast-varE [data-met-return]{width:260px;margin:8px 20px 0 0;padding:4px 0 5px;font-weight:800;letter-spacing:1px;line-height:18px;color:#fff}.met-toast-varF [data-met-return]{width:260px;margin:15px 40px 0 0;padding:7px 0 8px;font-weight:800;letter-spacing:1px;color:#fff;line-height:20px}.met-toast-varG [data-met-return]{width:150px;margin:15px 20px 0 0;padding:7px 0 8px;font-weight:800;letter-spacing:1px;color:#fff;line-height:20px}.met-toast-btn div:last-child{font-style:italic;font-weight:600}.met-toast-varA .met-toast-btn div:last-child,.met-toast-varA .met-toast-right div:last-child,.met-toast-varB .met-toast-btn div:last-child,.met-toast-varC .met-toast-btn div:last-child,.met-toast-varC .met-toast-left,.met-toast-varD .met-toast-btn div:last-child,.met-toast-varD .met-toast-left,.met-toast-varE .met-toast-left,.met-toast-varF .met-toast-btn div:last-child,.met-toast-varF .met-toast-left,.met-toast-varG .met-toast-btn div:last-child,.met-toast-varG .met-toast-left{display:none}.met-toast-varE .met-toast-right,.met-toast-varF .met-toast-right,.met-toast-varG .met-toast-right{text-align:left;width:330px;padding-left:0}.met-toast-varG .met-toast-right{width:870px;font-family:Georgia,serif;font-size:26px;margin:20px 0 0}.met-toast-varA .met-toast-right{text-align:left;line-height:56px;padding-top:0}.met-toast-varB .met-toast-right{text-align:left}.met-toast-varC .met-toast-right{width:416px;padding-left:0}.met-toast-varD .met-toast-right{width:280px;padding-left:0}.met-toast-varD [data-met-return]{width:480px}.da-wrapclicker{height:80px}.br-hide{display:none}@media only screen and (min-device-width:768px) and (max-device-width:1024px) and (orientation:portrait){.met-rule-2749{background-position:-250px center!important}br.br-hide{display:initial}.met-toast-varG .met-toast-right{width:500px;margin:0}}@media only screen and (min-device-width:1024px) and (max-device-width:1366px) and (orientation:portrait){.met-rule-2749{background-position:-170px center!important}.met-toast-varE [data-met-return]{width:250px;margin:8px 30px 0 0}.met-toast-varG .met-toast-right{width:760px}}@media only screen and (min-device-width:1024px) and (max-device-width:1366px) and (orientation:landscape){.met-toast-varG .met-toast-right{width:790px;font-size:22px}.met-toast-varG .met-toast-right span{font-size:15px}.met-toast-varG [data-met-return]{width:125px;margin-right:0}}@media only screen and (min-device-width:320px) and (max-device-width:812px) and (orientation:landscape){.met-rule-2749{background-image:none}br.br-hide{display:initial}.met-toast-varG .met-toast-right{width:390px;font-size:21px;margin:5px 0 0}}@media only screen and (max-width:839px){.met-rule-2749{padding:24px 14px;z-index:5000001}.met-rule-2749 [data-met-return]{width:96px}.met-toast-varD [data-met-return]{width:232px}.met-toast-varG .met-toast-btn a{width:120px}.met-toast-varE [data-met-return]{width:165px;margin:8px 30px 0 0;padding:4px 0 5px}.met-toast-varF [data-met-return]{width:135px}}@media only screen and (max-width:547px){.met-rule-2749{display:none}}</style><a href=\"#\" class=\"met-flyout-close\"></a><div class=\"met-toast-varF\" style=\"cursor: pointer;\"><div class=\"da-wrapclicker\"><a class=\"wrapclicker\" href=\"https://checkout2.latimes.com/MTRDWPNAVADIV2?pid=6491#int_source=on_site&amp;int_medium=toaster&amp;int_campaign=4_weeks_for_four_dollars\"></a><div class=\"met-toast-left\">    <b><mark>TRIAL OFFER</mark></b> </div><div class=\"met-toast-right\"><div><b>The story begins in California.</b></div><div>Try for $1 a week.</div></div><div class=\"met-toast-btn\"><a href=\"#\" data-met-return=\"\">SUBSCRIBE <div></div></a></div></div></div><script>!function(){trb.metering.manager.user.track(function(){var r=trb.registration.config.get(\"rules\");registration.events.fire(\"met_toaster_mather\",r.filter(function(r){return r.i==2749})[0]._)})}(),$(\"div.da-wrapclicker\").click(function(){return window.location=$(this).find(\"a.wrapclicker\").attr(\"href\"),!1}),$(\"div.met-toast-varF\").hover(function(){$(this).css(\"cursor\",\"pointer\")});</script></div>\n"
     ]
    }
   ],
   "source": [
    "# url 23\n",
    "i = urls[22]\n",
    "#open_url(i)\n",
    "element = driver.find_element_by_css_selector('div.met-flyout:nth-child(7)')\n",
    "source = element.get_attribute(\"outerHTML\")\n",
    "print(source)\n",
    "ad_type = \"sticky\"\n",
    "data.append({\"TYPE\" : ad_type, \"ad_code\" : source, \"URL\" : i})"
   ]
  },
  {
   "cell_type": "code",
   "execution_count": 238,
   "metadata": {
    "collapsed": true
   },
   "outputs": [
    {
     "name": "stdout",
     "output_type": "stream",
     "text": [
      "<div class=\"met-flyout met-rule-2749\"><style>.met-rule-2749{height:104px;width:100%;padding:24px 40px;max-width:1200px;text-align:center;font:400 18px/24px Lato,Arial,sans-serif;box-sizing:border-box;background: url('https://www.latimes.com/subscriptions/ad-arc-ears/img/LA_Skyling_toaster.svg') no-repeat -110px center/cover;;background-size:cover;background-position:-110px center;background-color:#FAE300;color:#000;position:fixed;bottom:0;left:0;right:0;box-shadow:0 1px 4px 0 #9b9b9b;margin:0 auto;-webkit-transition:-webkit-transform 375ms cubic-bezier(.2,.84,.46,.99);-moz-transition:-moz-transform 375ms cubic-bezier(.2,.84,.46,.99);transition:transform 375ms cubic-bezier(.2,.84,.46,.99);z-index:30}.met-rule-2749 *{font:inherit;box-sizing:inherit}.met-rule-2749.closed{-webkit-transform:translateY(150%);-moz-transform:translateY(150%);-ms-transform:translateY(150%);-o-transform:translateY(150%);transform:translateY(150%);-webkit-transition:-webkit-transform .15s linear;-moz-transition:-moz-transform .15s linear;transition:transform .15s linear}.met-rule-2749 b{font-weight:700}.met-rule-2749 mark{color:#62A1D5;background:0 0}.met-toast-left,.met-toast-right{float:left}.met-rule-2749 .met-flyout-close,.met-rule-2749 [data-met-return]{float:right}.met-toast-left{text-align:right;padding-right:20px;line-height:56px;white-space:nowrap;width:160px}.met-toast-left:before{content:\"\";border-right:1px solid;height:40px;float:right;position:relative;top:8px;left:20px}.met-toast-right{padding:4px 0 0 20px;line-height:24px;width:256px}.met-rule-2749 [data-met-return]{background-color:#62A1D5;font-size:14px;line-height:40px;text-decoration:none;border-radius:3px;margin-top:8px;white-space:nowrap;width:344px;color:#333}.met-rule-2749 [data-met-return] mark{color:#FAE300;background:0 0}.met-rule-2749 [data-met-return] i{color:#fff;font-style:normal}.met-rule-2749 .met-flyout-close{cursor:pointer;display:table-cell;position:absolute;right:20px;top:10px;width:16px;height:16px}.met-flyout-close::after,.met-flyout-close::before{content:'';position:absolute;height:4px;top:50%;background-color:#000;width:90%}.met-flyout-close::before{-webkit-transform:rotate(45deg);-moz-transform:rotate(45deg);-ms-transform:rotate(45deg);-o-transform:rotate(45deg);transform:rotate(45deg)}.met-flyout-close::after{-webkit-transform:rotate(-45deg);-moz-transform:rotate(-45deg);-ms-transform:rotate(-45deg);-o-transform:rotate(-45deg);transform:rotate(-45deg)}.met-toast-varE [data-met-return]{width:260px;margin:8px 20px 0 0;padding:4px 0 5px;font-weight:800;letter-spacing:1px;line-height:18px;color:#fff}.met-toast-varF [data-met-return]{width:260px;margin:15px 40px 0 0;padding:7px 0 8px;font-weight:800;letter-spacing:1px;color:#fff;line-height:20px}.met-toast-varG [data-met-return]{width:150px;margin:15px 20px 0 0;padding:7px 0 8px;font-weight:800;letter-spacing:1px;color:#fff;line-height:20px}.met-toast-btn div:last-child{font-style:italic;font-weight:600}.met-toast-varA .met-toast-btn div:last-child,.met-toast-varA .met-toast-right div:last-child,.met-toast-varB .met-toast-btn div:last-child,.met-toast-varC .met-toast-btn div:last-child,.met-toast-varC .met-toast-left,.met-toast-varD .met-toast-btn div:last-child,.met-toast-varD .met-toast-left,.met-toast-varE .met-toast-left,.met-toast-varF .met-toast-btn div:last-child,.met-toast-varF .met-toast-left,.met-toast-varG .met-toast-btn div:last-child,.met-toast-varG .met-toast-left{display:none}.met-toast-varE .met-toast-right,.met-toast-varF .met-toast-right,.met-toast-varG .met-toast-right{text-align:left;width:330px;padding-left:0}.met-toast-varG .met-toast-right{width:870px;font-family:Georgia,serif;font-size:26px;margin:20px 0 0}.met-toast-varA .met-toast-right{text-align:left;line-height:56px;padding-top:0}.met-toast-varB .met-toast-right{text-align:left}.met-toast-varC .met-toast-right{width:416px;padding-left:0}.met-toast-varD .met-toast-right{width:280px;padding-left:0}.met-toast-varD [data-met-return]{width:480px}.da-wrapclicker{height:80px}.br-hide{display:none}@media only screen and (min-device-width:768px) and (max-device-width:1024px) and (orientation:portrait){.met-rule-2749{background-position:-250px center!important}br.br-hide{display:initial}.met-toast-varG .met-toast-right{width:500px;margin:0}}@media only screen and (min-device-width:1024px) and (max-device-width:1366px) and (orientation:portrait){.met-rule-2749{background-position:-170px center!important}.met-toast-varE [data-met-return]{width:250px;margin:8px 30px 0 0}.met-toast-varG .met-toast-right{width:760px}}@media only screen and (min-device-width:1024px) and (max-device-width:1366px) and (orientation:landscape){.met-toast-varG .met-toast-right{width:790px;font-size:22px}.met-toast-varG .met-toast-right span{font-size:15px}.met-toast-varG [data-met-return]{width:125px;margin-right:0}}@media only screen and (min-device-width:320px) and (max-device-width:812px) and (orientation:landscape){.met-rule-2749{background-image:none}br.br-hide{display:initial}.met-toast-varG .met-toast-right{width:390px;font-size:21px;margin:5px 0 0}}@media only screen and (max-width:839px){.met-rule-2749{padding:24px 14px;z-index:5000001}.met-rule-2749 [data-met-return]{width:96px}.met-toast-varD [data-met-return]{width:232px}.met-toast-varG .met-toast-btn a{width:120px}.met-toast-varE [data-met-return]{width:165px;margin:8px 30px 0 0;padding:4px 0 5px}.met-toast-varF [data-met-return]{width:135px}}@media only screen and (max-width:547px){.met-rule-2749{display:none}}</style><a href=\"#\" class=\"met-flyout-close\"></a><div class=\"met-toast-varF\" style=\"cursor: pointer;\"><div class=\"da-wrapclicker\"><a class=\"wrapclicker\" href=\"https://checkout2.latimes.com/MTRDWPNAVADIV2?pid=6491#int_source=on_site&amp;int_medium=toaster&amp;int_campaign=4_weeks_for_four_dollars\"></a><div class=\"met-toast-left\">    <b><mark>TRIAL OFFER</mark></b> </div><div class=\"met-toast-right\"><div><b>The story begins in California.</b></div><div>Try for $1 a week.</div></div><div class=\"met-toast-btn\"><a href=\"#\" data-met-return=\"\">SUBSCRIBE <div></div></a></div></div></div><script>!function(){trb.metering.manager.user.track(function(){var r=trb.registration.config.get(\"rules\");registration.events.fire(\"met_toaster_mather\",r.filter(function(r){return r.i==2749})[0]._)})}(),$(\"div.da-wrapclicker\").click(function(){return window.location=$(this).find(\"a.wrapclicker\").attr(\"href\"),!1}),$(\"div.met-toast-varF\").hover(function(){$(this).css(\"cursor\",\"pointer\")});</script></div>\n"
     ]
    }
   ],
   "source": [
    "# url 24\n",
    "i = urls[23]\n",
    "#open_url(i)\n",
    "element = driver.find_element_by_css_selector('div.met-flyout:nth-child(7)')\n",
    "source = element.get_attribute(\"outerHTML\")\n",
    "print(source)\n",
    "ad_type = \"sticky\"\n",
    "data.append({\"TYPE\" : ad_type, \"ad_code\" : source, \"URL\" : i})"
   ]
  },
  {
   "cell_type": "code",
   "execution_count": 245,
   "metadata": {
    "collapsed": true
   },
   "outputs": [
    {
     "name": "stdout",
     "output_type": "stream",
     "text": [
      "<div class=\"met-flyout met-rule-2749\"><style>.met-rule-2749{height:104px;width:100%;padding:24px 40px;max-width:1200px;text-align:center;font:400 18px/24px Lato,Arial,sans-serif;box-sizing:border-box;background: url('https://www.latimes.com/subscriptions/ad-arc-ears/img/LA_Skyling_toaster.svg') no-repeat -110px center/cover;;background-size:cover;background-position:-110px center;background-color:#FAE300;color:#000;position:fixed;bottom:0;left:0;right:0;box-shadow:0 1px 4px 0 #9b9b9b;margin:0 auto;-webkit-transition:-webkit-transform 375ms cubic-bezier(.2,.84,.46,.99);-moz-transition:-moz-transform 375ms cubic-bezier(.2,.84,.46,.99);transition:transform 375ms cubic-bezier(.2,.84,.46,.99);z-index:30}.met-rule-2749 *{font:inherit;box-sizing:inherit}.met-rule-2749.closed{-webkit-transform:translateY(150%);-moz-transform:translateY(150%);-ms-transform:translateY(150%);-o-transform:translateY(150%);transform:translateY(150%);-webkit-transition:-webkit-transform .15s linear;-moz-transition:-moz-transform .15s linear;transition:transform .15s linear}.met-rule-2749 b{font-weight:700}.met-rule-2749 mark{color:#62A1D5;background:0 0}.met-toast-left,.met-toast-right{float:left}.met-rule-2749 .met-flyout-close,.met-rule-2749 [data-met-return]{float:right}.met-toast-left{text-align:right;padding-right:20px;line-height:56px;white-space:nowrap;width:160px}.met-toast-left:before{content:\"\";border-right:1px solid;height:40px;float:right;position:relative;top:8px;left:20px}.met-toast-right{padding:4px 0 0 20px;line-height:24px;width:256px}.met-rule-2749 [data-met-return]{background-color:#62A1D5;font-size:14px;line-height:40px;text-decoration:none;border-radius:3px;margin-top:8px;white-space:nowrap;width:344px;color:#333}.met-rule-2749 [data-met-return] mark{color:#FAE300;background:0 0}.met-rule-2749 [data-met-return] i{color:#fff;font-style:normal}.met-rule-2749 .met-flyout-close{cursor:pointer;display:table-cell;position:absolute;right:20px;top:10px;width:16px;height:16px}.met-flyout-close::after,.met-flyout-close::before{content:'';position:absolute;height:4px;top:50%;background-color:#000;width:90%}.met-flyout-close::before{-webkit-transform:rotate(45deg);-moz-transform:rotate(45deg);-ms-transform:rotate(45deg);-o-transform:rotate(45deg);transform:rotate(45deg)}.met-flyout-close::after{-webkit-transform:rotate(-45deg);-moz-transform:rotate(-45deg);-ms-transform:rotate(-45deg);-o-transform:rotate(-45deg);transform:rotate(-45deg)}.met-toast-varE [data-met-return]{width:260px;margin:8px 20px 0 0;padding:4px 0 5px;font-weight:800;letter-spacing:1px;line-height:18px;color:#fff}.met-toast-varF [data-met-return]{width:260px;margin:15px 40px 0 0;padding:7px 0 8px;font-weight:800;letter-spacing:1px;color:#fff;line-height:20px}.met-toast-varG [data-met-return]{width:150px;margin:15px 20px 0 0;padding:7px 0 8px;font-weight:800;letter-spacing:1px;color:#fff;line-height:20px}.met-toast-btn div:last-child{font-style:italic;font-weight:600}.met-toast-varA .met-toast-btn div:last-child,.met-toast-varA .met-toast-right div:last-child,.met-toast-varB .met-toast-btn div:last-child,.met-toast-varC .met-toast-btn div:last-child,.met-toast-varC .met-toast-left,.met-toast-varD .met-toast-btn div:last-child,.met-toast-varD .met-toast-left,.met-toast-varE .met-toast-left,.met-toast-varF .met-toast-btn div:last-child,.met-toast-varF .met-toast-left,.met-toast-varG .met-toast-btn div:last-child,.met-toast-varG .met-toast-left{display:none}.met-toast-varE .met-toast-right,.met-toast-varF .met-toast-right,.met-toast-varG .met-toast-right{text-align:left;width:330px;padding-left:0}.met-toast-varG .met-toast-right{width:870px;font-family:Georgia,serif;font-size:26px;margin:20px 0 0}.met-toast-varA .met-toast-right{text-align:left;line-height:56px;padding-top:0}.met-toast-varB .met-toast-right{text-align:left}.met-toast-varC .met-toast-right{width:416px;padding-left:0}.met-toast-varD .met-toast-right{width:280px;padding-left:0}.met-toast-varD [data-met-return]{width:480px}.da-wrapclicker{height:80px}.br-hide{display:none}@media only screen and (min-device-width:768px) and (max-device-width:1024px) and (orientation:portrait){.met-rule-2749{background-position:-250px center!important}br.br-hide{display:initial}.met-toast-varG .met-toast-right{width:500px;margin:0}}@media only screen and (min-device-width:1024px) and (max-device-width:1366px) and (orientation:portrait){.met-rule-2749{background-position:-170px center!important}.met-toast-varE [data-met-return]{width:250px;margin:8px 30px 0 0}.met-toast-varG .met-toast-right{width:760px}}@media only screen and (min-device-width:1024px) and (max-device-width:1366px) and (orientation:landscape){.met-toast-varG .met-toast-right{width:790px;font-size:22px}.met-toast-varG .met-toast-right span{font-size:15px}.met-toast-varG [data-met-return]{width:125px;margin-right:0}}@media only screen and (min-device-width:320px) and (max-device-width:812px) and (orientation:landscape){.met-rule-2749{background-image:none}br.br-hide{display:initial}.met-toast-varG .met-toast-right{width:390px;font-size:21px;margin:5px 0 0}}@media only screen and (max-width:839px){.met-rule-2749{padding:24px 14px;z-index:5000001}.met-rule-2749 [data-met-return]{width:96px}.met-toast-varD [data-met-return]{width:232px}.met-toast-varG .met-toast-btn a{width:120px}.met-toast-varE [data-met-return]{width:165px;margin:8px 30px 0 0;padding:4px 0 5px}.met-toast-varF [data-met-return]{width:135px}}@media only screen and (max-width:547px){.met-rule-2749{display:none}}</style><a href=\"#\" class=\"met-flyout-close\"></a><div class=\"met-toast-varF\" style=\"cursor: pointer;\"><div class=\"da-wrapclicker\"><a class=\"wrapclicker\" href=\"https://checkout2.latimes.com/MTRDWPNAVADIV2?pid=6491#int_source=on_site&amp;int_medium=toaster&amp;int_campaign=4_weeks_for_four_dollars\"></a><div class=\"met-toast-left\">    <b><mark>TRIAL OFFER</mark></b> </div><div class=\"met-toast-right\"><div><b>The story begins in California.</b></div><div>Try for $1 a week.</div></div><div class=\"met-toast-btn\"><a href=\"#\" data-met-return=\"\">SUBSCRIBE <div></div></a></div></div></div><script>!function(){trb.metering.manager.user.track(function(){var r=trb.registration.config.get(\"rules\");registration.events.fire(\"met_toaster_mather\",r.filter(function(r){return r.i==2749})[0]._)})}(),$(\"div.da-wrapclicker\").click(function(){return window.location=$(this).find(\"a.wrapclicker\").attr(\"href\"),!1}),$(\"div.met-toast-varF\").hover(function(){$(this).css(\"cursor\",\"pointer\")});</script></div>\n"
     ]
    }
   ],
   "source": [
    "# url 25\n",
    "i = urls[24]\n",
    "#open_url(i)\n",
    "element = driver.find_element_by_css_selector('div.met-flyout:nth-child(8)')\n",
    "source = element.get_attribute(\"outerHTML\")\n",
    "print(source)\n",
    "ad_type = \"sticky\"\n",
    "data.append({\"TYPE\" : ad_type, \"ad_code\" : source, \"URL\" : i})"
   ]
  },
  {
   "cell_type": "code",
   "execution_count": 251,
   "metadata": {
    "collapsed": true
   },
   "outputs": [
    {
     "name": "stdout",
     "output_type": "stream",
     "text": [
      "<div id=\"rt-bottom\">\n",
      "\t\t\t\t\t\t<div class=\"rt-section-surround\">\n",
      "\t\t\t\t\t\t\t<div class=\"rt-row-surround\">\n",
      "\t\t\t\t\t\t\t\t<div class=\"rt-grid-12 rt-alpha rt-omega\">\n",
      "                <div class=\"rt-block \">\n",
      "            \t<div class=\"module-surround\">\n",
      "\t\t\t\t\t\t\t\t\t\t<div class=\"module-content\">\n",
      "\t                \t\t<!--googleoff: all-->\n",
      "\t\t\t<style type=\"text/css\">  \n",
      "\t\t\t.jb.decline.link {\n",
      "\t\t\t\tcolor: #37a4fc;\n",
      "\t\t\t\tpadding: 0;\n",
      "\t\t\t}\n",
      "\t\t</style>\n",
      "\t\t<!-- Template Decline -->\n",
      "\t\t<div class=\"jb cookie-decline \" style=\"display: none;\">\n",
      "\t\t\t<p>\n",
      "\t\t\t\tIn order to provide you with the best online experience this website uses cookies.\t\t\t\t<span class=\"btn btn-link jb decline link\">Delete cookies</span>\n",
      "\t\t\t</p>\n",
      "\t\t</div>\n",
      "\t\t\t\t<!-- Template Default bootstrap -->\n",
      "\t\t<div class=\"jb cookie bottom black green \" style=\"display: block;\">\n",
      "\t\t    \n",
      "\t\t\t<!-- BG color -->\n",
      "\t\t\t<div class=\"jb cookie-bg black\"></div>\n",
      "\t\t    \n",
      "\t\t\t<h2>In order to provide you with the best online experience this website uses cookies.</h2>\n",
      "\t\t     \n",
      "\t\t\t<p>By using our website, you agree to our use of cookies.\t\t\t\t\t\t\t</p>\n",
      "\t\t    \n",
      "\t\t\t<div class=\"btn btn-primary jb accept green\">I agree</div>\n",
      "\t\t    \n",
      "\t\t</div>\n",
      "\t\t\n",
      "\t\t\t\n",
      "\t\t<!--googleon: all-->\n",
      "\t\n",
      "\t<script type=\"text/javascript\">\n",
      "\t    jQuery(document).ready(function () { \n",
      "\t\t\tfunction setCookie(c_name,value,exdays)\n",
      "\t\t\t{\n",
      "\t\t\t\tvar exdate=new Date();\n",
      "\t\t\t\texdate.setDate(exdate.getDate() + exdays);\n",
      "\t\t\t\tvar c_value=escape(value) + ((exdays==null) ? \"\" : \"; expires=\"+exdate.toUTCString()) + \"; path=/\";\n",
      "\t\t\t\tdocument.cookie=c_name + \"=\" + c_value;\n",
      "\t\t\t}\n",
      "\t\t\t\n",
      "\t\t\tfunction readCookie(name) {\n",
      "\t\t\t\tvar nameEQ = name + \"=\";\n",
      "\t\t\t\tvar jb = document.cookie.split(';');\n",
      "\t\t\t\tfor(var i=0;i < jb.length;i++) {\n",
      "\t\t\t\t\tvar c = jb[i];\n",
      "\t\t\t\t\twhile (c.charAt(0)==' ') c = c.substring(1,c.length);\n",
      "\t\t\t\t\t\tif (c.indexOf(nameEQ) == 0) return c.substring(nameEQ.length,c.length);\n",
      "\t\t\t\t\t}\n",
      "\t\t\t\treturn null;\n",
      "\t\t\t}\n",
      "\t\t    \n",
      "\t\t\tvar $jb_cookie = jQuery('.jb.cookie');\n",
      "\t\t\tvar $jb_infoaccept = jQuery('.jb.accept');\n",
      "\t\t\tvar jbcookies = readCookie('jbcookies');\n",
      "\t\t\tif(!(jbcookies == \"yes\")){\n",
      "\t\t\t\t$jb_cookie.delay(1000).slideDown('fast'); \n",
      "\t\t\t\t$jb_infoaccept.click(function(){\n",
      "\t\t\t\t\tsetCookie(\"jbcookies\",\"yes\",90);\n",
      "\t\t\t\t\t$jb_cookie.slideUp('slow');\n",
      "\t\t\t\t\tjQuery('.jb.cookie-decline').fadeIn('slow', function() {});\n",
      "\t\t\t\t});\n",
      "\t\t\t}\n",
      "\n",
      "\t\t\tjQuery('.jb.decline').click(function(){\n",
      "\t\t\t\tsetCookie(\"jbcookies\",\"\",0);\n",
      "\t\t\t\twindow.location.reload();\n",
      "\t\t\t});\n",
      "\t    });\n",
      "\t</script>\n",
      "\n",
      "\t\t\t\t\t\t<div class=\"clear\"></div>\n",
      "\t\t\t\t\t</div>\n",
      "\t\t\t\t</div>\n",
      "            </div>\n",
      "\t\n",
      "</div>\n",
      "\t\t\t\t\t\t\t</div>\n",
      "\t\t\t\t\t\t</div>\n",
      "\t\t\t\t\t\t<div class=\"clear\"></div>\n",
      "\t\t\t\t\t</div>\n"
     ]
    }
   ],
   "source": [
    "# url 26\n",
    "i = urls[25]\n",
    "#open_url(i)\n",
    "element = driver.find_element_by_css_selector('#rt-bottom')\n",
    "source = element.get_attribute(\"outerHTML\")\n",
    "print(source)\n",
    "ad_type = \"sticky\"\n",
    "data.append({\"TYPE\" : ad_type, \"ad_code\" : source, \"URL\" : i})"
   ]
  },
  {
   "cell_type": "code",
   "execution_count": 254,
   "metadata": {
    "collapsed": true
   },
   "outputs": [
    {
     "name": "stdout",
     "output_type": "stream",
     "text": [
      "<div class=\"htl-ad-sticky\">\n",
      "<div class=\"htl-ad htl-size-970x90 undefined htl-sticky\" data-eager=\"\" data-prebid=\"0x0:|768x0:728x90,970x90\" data-refresh-secs=\"30\" data-refresh=\"viewable\" data-sizes=\"0x0:|768x0:728x90,970x90\" data-sticky-hours=\"0\" data-sticky=\"\" data-unit=\"Adhesive_DSK_Leaderboard_1\" id=\"htlad-4\"><div class=\"htl-ad-gpt\" id=\"htlad-4-gpt\" data-google-query-id=\"CJLgjKjPyecCFREEXAod9eoM2g\" style=\"width: 970px;\"><div id=\"google_ads_iframe_/15930320/Adhesive_DSK_Leaderboard_1_0__container__\" style=\"border: 0pt none; margin: auto; text-align: center; width: 970px; height: 90px;\"><iframe style=\"border: 0px none; vertical-align: bottom;\" src=\"https://tpc.googlesyndication.com/safeframe/1-0-37/html/container.html\" id=\"google_ads_iframe_/15930320/Adhesive_DSK_Leaderboard_1_0\" title=\"3rd party ad content\" name=\"\" scrolling=\"no\" marginwidth=\"0\" marginheight=\"0\" data-is-safeframe=\"true\" data-google-container-id=\"2\" data-load-complete=\"true\" width=\"970\" height=\"90\" frameborder=\"0\"></iframe></div><a class=\"htl-sticky-close\" href=\"#\"></a></div><div class=\"htl-ad-backfill\" id=\"htlad-4-backfill\" style=\"display: none;\"><a class=\"htl-sticky-close\" href=\"#\"></a></div></div>\n",
      "<div class=\"htl-ad\" data-eager=\"\" data-prebid=\"0x0:320x50|768x0:\" data-refresh-secs=\"30\" data-refresh=\"viewable\" data-sizes=\"0x0:320x50|768x0:\" data-sticky-hours=\"0\" data-sticky=\"\" data-unit=\"Mobile_Leaderboard_1\" id=\"htlad-5\"><div class=\"htl-ad-gpt\" id=\"htlad-5-gpt\" style=\"display: none;\"></div><div class=\"htl-ad-backfill\" id=\"htlad-5-backfill\" style=\"display: none;\"></div></div>\n",
      "</div>\n"
     ]
    }
   ],
   "source": [
    "# url 27\n",
    "i = urls[26]\n",
    "#open_url(i)\n",
    "element = driver.find_element_by_css_selector('.htl-ad-sticky')\n",
    "source = element.get_attribute(\"outerHTML\")\n",
    "print(source)\n",
    "ad_type = \"sticky\"\n",
    "data.append({\"TYPE\" : ad_type, \"ad_code\" : source, \"URL\" : i})"
   ]
  },
  {
   "cell_type": "code",
   "execution_count": 257,
   "metadata": {
    "collapsed": true
   },
   "outputs": [
    {
     "name": "stdout",
     "output_type": "stream",
     "text": [
      "<div class=\"htl-ad-sticky\">\n",
      "<div class=\"htl-ad htl-size-970x90 undefined htl-sticky\" data-eager=\"\" data-prebid=\"0x0:|768x0:728x90,970x90\" data-refresh-secs=\"30\" data-refresh=\"viewable\" data-sizes=\"0x0:|768x0:728x90,970x90\" data-sticky-hours=\"0\" data-sticky=\"\" data-unit=\"Adhesive_DSK_Leaderboard_1\" id=\"htlad-13\"><div class=\"htl-ad-gpt\" id=\"htlad-13-gpt\" data-google-query-id=\"CKr8we7PyecCFcs7lgodzI8Dkw\" style=\"width: 970px;\"><div id=\"google_ads_iframe_/15930320/Adhesive_DSK_Leaderboard_1_0__container__\" style=\"border: 0pt none; margin: auto; text-align: center;\"><iframe id=\"google_ads_iframe_/15930320/Adhesive_DSK_Leaderboard_1_0\" title=\"3rd party ad content\" name=\"google_ads_iframe_/15930320/Adhesive_DSK_Leaderboard_1_0\" scrolling=\"no\" marginwidth=\"0\" marginheight=\"0\" style=\"border: 0px none; vertical-align: bottom;\" srcdoc=\"\" data-google-container-id=\"8\" data-load-complete=\"true\" width=\"970\" height=\"90\" frameborder=\"0\"></iframe></div><a class=\"htl-sticky-close\" href=\"#\"></a></div><div class=\"htl-ad-backfill\" id=\"htlad-13-backfill\" style=\"display: none;\"><a class=\"htl-sticky-close\" href=\"#\"></a></div></div>\n",
      "<div class=\"htl-ad\" data-eager=\"\" data-prebid=\"0x0:320x50|768x0:\" data-refresh-secs=\"30\" data-refresh=\"viewable\" data-sizes=\"0x0:320x50|768x0:\" data-sticky-hours=\"0\" data-sticky=\"\" data-unit=\"Mobile_Leaderboard_1\" id=\"htlad-14\"><div class=\"htl-ad-gpt\" id=\"htlad-14-gpt\" style=\"display: none;\"></div><div class=\"htl-ad-backfill\" id=\"htlad-14-backfill\" style=\"display: none;\"></div></div>\n",
      "</div>\n"
     ]
    }
   ],
   "source": [
    "# url 28\n",
    "i = urls[27]\n",
    "#open_url(i)\n",
    "element = driver.find_element_by_css_selector('.htl-ad-sticky')\n",
    "source = element.get_attribute(\"outerHTML\")\n",
    "print(source)\n",
    "ad_type = \"sticky\"\n",
    "data.append({\"TYPE\" : ad_type, \"ad_code\" : source, \"URL\" : i})"
   ]
  },
  {
   "cell_type": "code",
   "execution_count": 260,
   "metadata": {
    "collapsed": true
   },
   "outputs": [
    {
     "name": "stdout",
     "output_type": "stream",
     "text": [
      "<div class=\"htl-ad-sticky\">\n",
      "<div class=\"htl-ad htl-size-728x90 undefined htl-sticky\" data-eager=\"\" data-prebid=\"0x0:|768x0:728x90,970x90\" data-refresh-secs=\"30\" data-refresh=\"viewable\" data-sizes=\"0x0:|768x0:728x90,970x90\" data-sticky-hours=\"0\" data-sticky=\"\" data-unit=\"Adhesive_DSK_Leaderboard_1\" id=\"htlad-6\"><div class=\"htl-ad-gpt\" id=\"htlad-6-gpt\" data-google-query-id=\"CNvSjYjQyecCFRFuvQod2PwNDQ\" style=\"width: 728px;\"><div id=\"google_ads_iframe_/15930320/Adhesive_DSK_Leaderboard_1_0__container__\" style=\"border: 0pt none; margin: auto; text-align: center;\"><iframe id=\"google_ads_iframe_/15930320/Adhesive_DSK_Leaderboard_1_0\" title=\"3rd party ad content\" name=\"google_ads_iframe_/15930320/Adhesive_DSK_Leaderboard_1_0\" scrolling=\"no\" marginwidth=\"0\" marginheight=\"0\" style=\"border: 0px none; vertical-align: bottom;\" srcdoc=\"\" data-google-container-id=\"4\" data-load-complete=\"true\" width=\"728\" height=\"90\" frameborder=\"0\"></iframe></div><a class=\"htl-sticky-close\" href=\"#\"></a></div><div class=\"htl-ad-backfill\" id=\"htlad-6-backfill\" style=\"display: none;\"><a class=\"htl-sticky-close\" href=\"#\"></a></div></div>\n",
      "<div class=\"htl-ad\" data-eager=\"\" data-prebid=\"0x0:320x50|768x0:\" data-refresh-secs=\"30\" data-refresh=\"viewable\" data-sizes=\"0x0:320x50|768x0:\" data-sticky-hours=\"0\" data-sticky=\"\" data-unit=\"Mobile_Leaderboard_1\" id=\"htlad-7\"><div class=\"htl-ad-gpt\" id=\"htlad-7-gpt\" style=\"display: none;\"></div><div class=\"htl-ad-backfill\" id=\"htlad-7-backfill\" style=\"display: none;\"></div></div>\n",
      "</div>\n"
     ]
    }
   ],
   "source": [
    "# url 29\n",
    "i = urls[28]\n",
    "#open_url(i)\n",
    "element = driver.find_element_by_css_selector('.htl-ad-sticky')\n",
    "source = element.get_attribute(\"outerHTML\")\n",
    "print(source)\n",
    "ad_type = \"sticky\"\n",
    "data.append({\"TYPE\" : ad_type, \"ad_code\" : source, \"URL\" : i})"
   ]
  },
  {
   "cell_type": "code",
   "execution_count": 264,
   "metadata": {
    "collapsed": true
   },
   "outputs": [
    {
     "name": "stdout",
     "output_type": "stream",
     "text": [
      "<div class=\"htl-ad-sticky\">\n",
      "<div class=\"htl-ad htl-size-970x90 undefined htl-sticky\" data-eager=\"\" data-prebid=\"0x0:|768x0:728x90,970x90\" data-refresh-secs=\"30\" data-refresh=\"viewable\" data-sizes=\"0x0:|768x0:728x90,970x90\" data-sticky-hours=\"0\" data-sticky=\"\" data-unit=\"Adhesive_DSK_Leaderboard_1\" id=\"htlad-6\"><div class=\"htl-ad-gpt\" id=\"htlad-6-gpt\" data-google-query-id=\"CPiqx7nQyecCFQa7lgodIOUApw\" style=\"width: 970px;\"><div id=\"google_ads_iframe_/15930320/Adhesive_DSK_Leaderboard_1_0__container__\" style=\"border: 0pt none; margin: auto; text-align: center; width: 970px; height: 90px;\"><iframe style=\"border: 0px none; vertical-align: bottom;\" src=\"https://tpc.googlesyndication.com/safeframe/1-0-37/html/container.html\" id=\"google_ads_iframe_/15930320/Adhesive_DSK_Leaderboard_1_0\" title=\"3rd party ad content\" name=\"\" scrolling=\"no\" marginwidth=\"0\" marginheight=\"0\" data-is-safeframe=\"true\" data-google-container-id=\"4\" data-load-complete=\"true\" width=\"970\" height=\"90\" frameborder=\"0\"></iframe></div><a class=\"htl-sticky-close\" href=\"#\"></a></div><div class=\"htl-ad-backfill\" id=\"htlad-6-backfill\" style=\"display: none;\"><a class=\"htl-sticky-close\" href=\"#\"></a></div></div>\n",
      "<div class=\"htl-ad\" data-eager=\"\" data-prebid=\"0x0:320x50|768x0:\" data-refresh-secs=\"30\" data-refresh=\"viewable\" data-sizes=\"0x0:320x50|768x0:\" data-sticky-hours=\"0\" data-sticky=\"\" data-unit=\"Mobile_Leaderboard_1\" id=\"htlad-7\"><div class=\"htl-ad-gpt\" id=\"htlad-7-gpt\" style=\"display: none;\"></div><div class=\"htl-ad-backfill\" id=\"htlad-7-backfill\" style=\"display: none;\"></div></div>\n",
      "</div>\n"
     ]
    }
   ],
   "source": [
    "# url 30\n",
    "i = urls[29]\n",
    "#open_url(i)\n",
    "element = driver.find_element_by_css_selector('.htl-ad-sticky')\n",
    "source = element.get_attribute(\"outerHTML\")\n",
    "print(source)\n",
    "ad_type = \"sticky\"\n",
    "data.append({\"TYPE\" : ad_type, \"ad_code\" : source, \"URL\" : i})"
   ]
  },
  {
   "cell_type": "code",
   "execution_count": 269,
   "metadata": {
    "collapsed": true
   },
   "outputs": [
    {
     "name": "stdout",
     "output_type": "stream",
     "text": [
      "<div class=\"email-signup-banner qa-email-signup-banner\">\n",
      "    <div id=\"ember1515\" class=\"email-sign-up qa-email-sign-up banner-view qa-banner-view __34bcf us in ember-view\"><button class=\"close clickable btn-cancel qa-btn-cancel\" aria-label=\"close\" type=\"button\" data-ember-action=\"\" data-ember-action-1516=\"1516\">\n",
      "  <span aria-hidden=\"true\">×</span>\n",
      "</button>\n",
      "<div class=\"container-fluid banner-content\" role=\"button\" aria-label=\"expand-banner\">\n",
      "    <div id=\"ember1517\" class=\"section-email qa-section-email __e6058 ember-view\"><form class=\"sign-up-form\" novalidate=\"\">\n",
      "  <div class=\"email-sign-up-body row\">\n",
      "    <div class=\"col-md-7 col-xs-12\">\n",
      "      <p class=\"email-sign-up-msg qa-email-sign-up-msg\">\n",
      "        <strong class=\"text-uppercase\">Sign Up For Email!</strong>\n",
      "        Get an exclusive offer when you sign up, plus insider access to even more offers, new arrivals, style tips and more.\n",
      "      </p>\n",
      "    </div>\n",
      "    <div class=\"col-md-4 col-md-offset-1 col-xs-12 pull-right\">\n",
      "      <div class=\"form-group aeo-input  qa-input-email email-subscription\">\n",
      "        <label for=\"ember1518-input\">\n",
      "    Email\n",
      "</label>\n",
      "\n",
      "      <input name=\"email\" autocomplete=\"email\" placeholder=\"Email\" maxlength=\"50\" id=\"ember1518-input\" class=\"form-control form-input-email ember-text-field ember-view\" type=\"email\">\n",
      "\n",
      "<!----></div>\n",
      "\n",
      "<!---->    </div>\n",
      "    <div class=\"col-md-7 col-xs-12\">\n",
      "      <div id=\"ember1520\" class=\"marketing-signup-form qa-marketing-signup-form __b6701 ember-view form-group form-group-subscription collapsed-item\">\n",
      "        <div id=\"ember1521\" class=\"form-group aeo-checkbox checkbox not-empty qa-checkbox-receiveAEPromoEmails ember-view aeo-emails\"><input name=\"receiveAEPromoEmails\" id=\"ember1521-checkbox\" class=\"ember-checkbox ember-view\" type=\"checkbox\">\n",
      "\n",
      "  <label class=\"aeo-checkbox-label clickable\" for=\"ember1521-checkbox\">\n",
      "    AE Emails\n",
      "  </label>\n",
      "\n",
      "<!----></div>\n",
      "        <div id=\"ember1522\" class=\"form-group aeo-checkbox checkbox not-empty qa-checkbox-receiveAeriePromoEmails ember-view aerie-emails\"><input name=\"receiveAeriePromoEmails\" id=\"ember1522-checkbox\" class=\"ember-checkbox ember-view\" type=\"checkbox\">\n",
      "\n",
      "  <label class=\"aeo-checkbox-label clickable\" for=\"ember1522-checkbox\">\n",
      "    Aerie Emails\n",
      "  </label>\n",
      "\n",
      "<!----></div>\n",
      "          <div id=\"ember1523\" class=\"form-group aeo-checkbox checkbox not-empty qa-checkbox-receiveTailgatePromoEmails ember-view tailgate-emails\"><input name=\"receiveTailgatePromoEmails\" id=\"ember1523-checkbox\" class=\"ember-checkbox ember-view\" type=\"checkbox\">\n",
      "\n",
      "  <label class=\"aeo-checkbox-label clickable\" for=\"ember1523-checkbox\">\n",
      "    Tailgate Emails\n",
      "  </label>\n",
      "\n",
      "<!----></div>\n",
      "<!---->\n",
      "<!---->      \n",
      "</div>\n",
      "    </div>\n",
      "    <div class=\"col-md-4 col-md-offset-1 col-xs-12 pull-right\">\n",
      "      <div class=\"form-group btn-email-subscribe collapsed-item\">\n",
      "        <button data-tl=\"btn-email-sign-up\" name=\"email-sign-up\" id=\"ember1524\" class=\"btn btn-primary qa-btn-email-sign-up ember-view btn-block\" type=\"submit\">\n",
      "          Subscribe\n",
      "        \n",
      "</button>\n",
      "      </div>\n",
      "    </div>\n",
      "  </div>\n",
      "</form>\n",
      "</div>\n",
      "  </div>\n",
      "<div class=\"container-fluid text-center collapsed-item\">\n",
      "    <p id=\"ember1525\" class=\"section-legal qa-section-legal __2d19e ember-view\">\n",
      "<!---->\n",
      "  Offer valid for new email subscribers only. Any information you provide will be held in accordance with our <a href=\"#\" data-route=\"cms-page\" data-path=\"help/privacy-notice\" class=\"msg-link msg-link-cms-page-help/privacy-notice text-nowrap msg-link-to qa-email-sign-up-privacy-policy\" target=\"_blank\" rel=\"\">Privacy Notice</a> and\n",
      "  <a href=\"#\" data-route=\"cms-page\" data-path=\"help/terms-of-use\" class=\"msg-link msg-link-cms-page-help/terms-of-use text-nowrap msg-link-to qa-email-sign-up-terms\" target=\"_blank\" rel=\"\">Terms of Use</a>.\n",
      "  <a href=\"#\" data-route=\"cms-page\" data-path=\"help/call-us\" class=\"msg-link msg-link-cms-page-help/call-us text-nowrap msg-link-to qa-btn-subscription-terms\" target=\"_blank\" rel=\"\">Contact Us</a>\n",
      "</p>\n",
      "</div>\n",
      "</div>\n",
      "  </div>\n"
     ]
    }
   ],
   "source": [
    "# url 31\n",
    "i = urls[30]\n",
    "#open_url(i)\n",
    "element = driver.find_element_by_css_selector('.email-signup-banner')\n",
    "source = element.get_attribute(\"outerHTML\")\n",
    "print(source)\n",
    "ad_type = \"sticky\"\n",
    "data.append({\"TYPE\" : ad_type, \"ad_code\" : source, \"URL\" : i})"
   ]
  },
  {
   "cell_type": "code",
   "execution_count": 276,
   "metadata": {
    "collapsed": true
   },
   "outputs": [
    {
     "name": "stdout",
     "output_type": "stream",
     "text": [
      "<div class=\"twelve large-12 columns text-center\" style=\"padding:0;\" id=\"header-ad\">\n",
      "                            <div id=\"ad-super-www\" data-google-query-id=\"CJWGkJ3SyecCFYMdKgod57ICzg\"><div id=\"google_ads_iframe_/1004147/YD_Www_728_0__container__\" style=\"border: 0pt none;\"><iframe id=\"google_ads_iframe_/1004147/YD_Www_728_0\" title=\"3rd party ad content\" name=\"google_ads_iframe_/1004147/YD_Www_728_0\" scrolling=\"no\" marginwidth=\"0\" marginheight=\"0\" style=\"border: 0px none; vertical-align: bottom;\" srcdoc=\"\" data-google-container-id=\"a\" data-load-complete=\"true\" width=\"728\" height=\"90\" frameborder=\"0\"></iframe></div></div>\n",
      "                <script>YD.ads.define(\"ad-super-www\",\"YD_Www_728\",'YD',[[[0,0],[320,50]],[[765,1],[[728,90]]]],false)</script>\n",
      "                    </div>\n"
     ]
    }
   ],
   "source": [
    "# url 32\n",
    "i = urls[31]\n",
    "#open_url(i)\n",
    "element = driver.find_element_by_css_selector('#header-ad')\n",
    "source = element.get_attribute(\"outerHTML\")\n",
    "print(source)\n",
    "ad_type = \"sticky\"\n",
    "data.append({\"TYPE\" : ad_type, \"ad_code\" : source, \"URL\" : i})"
   ]
  },
  {
   "cell_type": "code",
   "execution_count": 279,
   "metadata": {
    "collapsed": true
   },
   "outputs": [
    {
     "name": "stdout",
     "output_type": "stream",
     "text": [
      "<div class=\"twelve large-12 columns text-center\" style=\"padding:0;\" id=\"header-ad\">\n",
      "                            <div id=\"ad-super-www\" data-google-query-id=\"CO68wcLSyecCFYxxYAodgzsKvA\"><div id=\"google_ads_iframe_/1004147/YD_Www_728_0__container__\" style=\"border: 0pt none;\"><iframe id=\"google_ads_iframe_/1004147/YD_Www_728_0\" title=\"3rd party ad content\" name=\"google_ads_iframe_/1004147/YD_Www_728_0\" scrolling=\"no\" marginwidth=\"0\" marginheight=\"0\" style=\"border: 0px none; vertical-align: bottom;\" srcdoc=\"\" data-google-container-id=\"2\" data-load-complete=\"true\" width=\"728\" height=\"90\" frameborder=\"0\"></iframe></div></div>\n",
      "                <script>YD.ads.define(\"ad-super-www\",\"YD_Www_728\",'YD',[[[0,0],[320,50]],[[765,1],[[728,90]]]],false)</script>\n",
      "                    </div>\n"
     ]
    }
   ],
   "source": [
    "# url 33\n",
    "i = urls[32]\n",
    "#open_url(i)\n",
    "element = driver.find_element_by_css_selector('#header-ad')\n",
    "source = element.get_attribute(\"outerHTML\")\n",
    "print(source)\n",
    "ad_type = \"sticky\"\n",
    "data.append({\"TYPE\" : ad_type, \"ad_code\" : source, \"URL\" : i})"
   ]
  },
  {
   "cell_type": "code",
   "execution_count": 294,
   "metadata": {
    "collapsed": true
   },
   "outputs": [
    {
     "name": "stdout",
     "output_type": "stream",
     "text": [
      "<div id=\"cmpContainer\"><div class=\"css-9om789-bannerStyles\"><div class=\"css-1d3gwgt-outerContainerStyles\"><div class=\"css-8we3uj-roundelContainerStyles\"><svg xmlns=\"http://www.w3.org/2000/svg\" width=\"36\" height=\"36\" viewBox=\"0 0 36 36\"><path fill=\"#FFFFFF\" d=\"M18 0a18 18 0 1 0 0 36 18 18 0 0 0 0-36\"></path><path fill=\"#333333\" d=\"M21.2 4.4c2.3.4 5.3 2 6.3 3.1v5.2H27L21.2 5v-.6zm-2.2.4c-4 0-6.3 5.6-6.3 13.2 0 7.7 2.2 13.3 6.3 13.3v.6c-6 .4-14.4-4.2-14-13.8A13.3 13.3 0 0 1 19 4v.7zm10.4 14.4l-1.9.9v8.6c-1 1-3.8 2.6-6.3 3.1V19.9l-2.2-.7v-.6h10.4v.6z\"></path></svg></div><div class=\"css-1ognw8s\"><div><h1 class=\"css-1ib6hh4\">Your privacy</h1></div><div class=\"css-bfr3cy-mobileScrollable\"><p>We use cookies to improve your experience on our site and to show you personalised advertising.</p><p>To find out more, read our <a data-link-name=\"first-pv-consent : to-privacy\" href=\"https://www.theguardian.com/help/privacy-policy\">privacy policy</a> and <a data-link-name=\"first-pv-consent : to-cookies\" href=\"https://www.theguardian.com/info/cookies\">cookie policy</a>.</p><button aria-expanded=\"false\" aria-controls=\"cmpInfoList\" class=\"css-1e1bdu5\"><span class=\"css-loz5fx-visuallyHiddenStyles\">Show</span> Information that may be used</button><ul id=\"cmpInfoList\" class=\"css-51mn9\"><li>Type of browser and its settings</li><li>Cookie information</li><li>Information about other identifiers assigned to the device</li><li>The IP address from which the device accesses a client's website or mobile application</li><li>Information about the geographic location of the device when it accesses a website or mobile application</li></ul><button aria-expanded=\"false\" aria-controls=\"cmpPurposeList\" class=\"css-1e1bdu5\"><span class=\"css-loz5fx-visuallyHiddenStyles\">Show</span> Purposes</button><ul id=\"cmpPurposeList\" class=\"css-51mn9\"><li>Information storage and access</li><li>Personalisation</li><li>Ad selection, delivery, reporting</li><li>Content selection, delivery, reporting</li><li>Measurement</li></ul></div><div class=\"css-14xb8m-buttonContainerStyles\"><button class=\"css-1yc819t-button-defaultSize-iconDefault-iconRight\" type=\"button\">I'm OK with that<svg viewBox=\"0 0 30 30\" xmlns=\"http://www.w3.org/2000/svg\"><path fill-rule=\"evenodd\" clip-rule=\"evenodd\" d=\"M6 14.775l-1 1 5 7h.475l14.3-14.8-1-.975-13.3 12.05L6 14.775z\"></path></svg></button><button class=\"css-1e976qq-button-defaultSize\" type=\"button\">Options</button></div></div></div></div></div>\n"
     ]
    }
   ],
   "source": [
    "# url 34\n",
    "i = urls[33]\n",
    "open_url(i)\n",
    "element = driver.find_element_by_css_selector('#cmpContainer')\n",
    "source = element.get_attribute(\"outerHTML\")\n",
    "print(source)\n",
    "ad_type = \"sticky\"\n",
    "data.append({\"TYPE\" : ad_type, \"ad_code\" : source, \"URL\" : i})"
   ]
  },
  {
   "cell_type": "code",
   "execution_count": 297,
   "metadata": {
    "collapsed": true
   },
   "outputs": [
    {
     "name": "stdout",
     "output_type": "stream",
     "text": [
      "<div class=\"site-message js-site-message site-message--engagement-banner site-message--banner\" tabindex=\"-1\" data-link-name=\"membership message\" role=\"dialog\" aria-label=\"welcome\" aria-describedby=\"site-message__message\" aria-live=\"polite\" data-component=\"control_banner_from_google_doc\">\n",
      "<div class=\"gs-container\">\n",
      "<div class=\"site-message__inner js-site-message-inner\">\n",
      "<div class=\"site-message__roundel\">\n",
      "<span class=\"inline-marque-36 inline-icon u-vertical-align-middle-icon\">\n",
      "<svg width=\"36\" height=\"36\" viewBox=\"0 0 36 36\" class=\"u-vertical-align-middle-icon__svg inline-marque-36__svg inline-icon__svg\">\n",
      "<path d=\"M18 0a18 18 0 1 0 0 36 18 18 0 0 0 0-36\"></path>\n",
      "<path fill=\"#FFF\" d=\"M21.2 4.4c2.3.4 5.3 2 6.3 3.1v5.2H27L21.2 5v-.6zm-2.2.4c-4 0-6.3 5.6-6.3 13.2 0 7.7 2.2 13.3 6.3 13.3v.6c-6 .4-14.4-4.2-14-13.8A13.3 13.3 0 0 1 19 4v.7zm10.4 14.4l-1.9.9v8.6c-1 1-3.8 2.6-6.3 3.1V19.9l-2.2-.7v-.6h10.4v.6z\"></path>\n",
      "</svg>\n",
      "</span>\n",
      "</div>\n",
      "<div class=\"site-message__copy js-site-message-copy u-cf\">\n",
      "        <div class=\"engagement-banner__close\">\n",
      "            <div class=\"engagement-banner__roundel hide-until-phablet\">\n",
      "                <span class=\"inline-marque-36 inline-icon\"><svg xmlns=\"http://www.w3.org/2000/svg\" width=\"36\" height=\"36\" viewBox=\"0 0 36 36\"><path fill=\"#000\" d=\"M18 0a18 18 0 1 0 0 36 18 18 0 0 0 0-36\"></path><path fill=\"#FFF\" d=\"M21.2 4.4c2.3.4 5.3 2 6.3 3.1v5.2H27L21.2 5v-.6zm-2.2.4c-4 0-6.3 5.6-6.3 13.2 0 7.7 2.2 13.3 6.3 13.3v.6c-6 .4-14.4-4.2-14-13.8A13.3 13.3 0 0 1 19 4v.7zm10.4 14.4l-1.9.9v8.6c-1 1-3.8 2.6-6.3 3.1V19.9l-2.2-.7v-.6h10.4v.6z\"></path></svg></span>\n",
      "            </div>\n",
      "            <button tabindex=\"4\" class=\"button engagement-banner__close-button js-site-message-close js-engagement-banner-close-button\" data-link-name=\"hide release message\">\n",
      "                <span class=\"u-h\">Close the support banner</span>\n",
      "                <span class=\"inline-close-central inline-icon\"><svg width=\"30\" height=\"30\"><path d=\"M21 9.8l-.8-.8-5.2 4.8-5.2-4.8-.8.8 4.8 5.2-4.8 5.2.8.8 5.2-4.8 5.2 4.8.8-.8-4.8-5.2 4.8-5.2\"></path></svg></span>\n",
      "            </button>\n",
      "        </div>\n",
      "        <div class=\"engagement-banner__container\">\n",
      "            <div class=\"engagement-banner__text\">\n",
      "                \n",
      "                <strong> We chose a different approach. Will you support it?</strong>  Unlike many news organisations, we made a choice to keep all of our independent, investigative reporting free and available for everyone. We believe that each of us, around the world, deserves access to accurate information with integrity at its heart. At a time when factual reporting is critical, support from our readers is essential in safeguarding The Guardian’s editorial independence. This is our model for open, independent journalism.<span class=\"engagement-banner__highlight\">  If you’re able to, please support The Guardian today from as little as $1.</span>\n",
      "                \n",
      "            </div>\n",
      "            <div class=\"engagement-banner__cta\">\n",
      "                <a tabindex=\"3\" class=\"button engagement-banner__button\" href=\"https://support.theguardian.com/int/contribute?REFPVID=k6hyd7tco0i17zts9jlp&amp;INTCMP=control_banner_from_google_doc&amp;acquisitionData=%7B%22source%22%3A%22GUARDIAN_WEB%22%2C%22componentId%22%3A%22control_banner_from_google_doc%22%2C%22componentType%22%3A%22ACQUISITIONS_ENGAGEMENT_BANNER%22%2C%22campaignCode%22%3A%22control_banner_from_google_doc%22%2C%22referrerPageviewId%22%3A%22k6hyd7tco0i17zts9jlp%22%2C%22referrerUrl%22%3A%22https%3A%2F%2Fwww.theguardian.com%2Fuk%2Fculture%22%7D\">\n",
      "                    Support The Guardian<span class=\"inline-arrow-white-right inline-icon\"><svg xmlns=\"http://www.w3.org/2000/svg\" width=\"30\" height=\"30\"><path fill=\"#fff\" d=\"M22.8 14.6L15.2 7l-.7.7 5.5 6.6H6v1.5h14l-5.5 6.6.7.7 7.6-7.6v-.9\"></path></svg></span>\n",
      "                </a>\n",
      "                <div class=\"engagement-banner__payment-logos\">\n",
      "        <img src=\"https://assets.guim.co.uk/images/acquisitions/2db3a266287f452355b68d4240df8087/payment-methods.png\" alt=\"Accepted payment methods: Visa, Mastercard, American Express  and Paypal\">\n",
      "        \n",
      "    </div>\n",
      "            </div>\n",
      "        </div>\n",
      "\n",
      "    </div>\n",
      "<div class=\"site-message__close\">\n",
      "<button class=\"site-message__close-btn js-site-message-close\" data-link-name=\"hide\">\n",
      "<span class=\"u-h\">Close</span>\n",
      "<span class=\"inline-close inline-icon inline-close--small\">\n",
      "<svg width=\"18\" height=\"18\" viewBox=\"0 0 18 18\" class=\"inline-close--small__svg inline-close__svg inline-icon__svg\">\n",
      "<path d=\"M7.5 9L1 2l1-1 7 6.5L16 1l1 1-6.5 7 6.5 7-1 1-7-6.5L2 17l-1-1 6.5-7z\"></path>\n",
      "</svg>\n",
      "</span>\n",
      "</button>\n",
      "</div>\n",
      "</div>\n",
      "</div>\n",
      "</div>\n"
     ]
    }
   ],
   "source": [
    "# url 35\n",
    "i = urls[34]\n",
    "#open_url(i)\n",
    "element = driver.find_element_by_css_selector('.site-message')\n",
    "source = element.get_attribute(\"outerHTML\")\n",
    "print(source)\n",
    "ad_type = \"sticky\"\n",
    "data.append({\"TYPE\" : ad_type, \"ad_code\" : source, \"URL\" : i})"
   ]
  },
  {
   "cell_type": "code",
   "execution_count": 304,
   "metadata": {
    "collapsed": true
   },
   "outputs": [
    {
     "name": "stdout",
     "output_type": "stream",
     "text": [
      "<div id=\"onetrust-consent-sdk\"><div class=\"onetrust-pc-dark-filter hide fade-in\"></div><div id=\"onetrust-pc-sdk\" class=\"ot-sdk-container otPcTab hide fade-in ot-sdk-not-webkit\" lang=\"en\"><!-- pc header --><div class=\"pc-header\"><!-- Header logo --><div class=\"pc-logo-container\"><div class=\"pc-logo\" style=\"background-image: url(&quot;https://cdn.cookielaw.org/logos/a0b7fb19-3586-4009-b55d-4329aaf1d163/81ed91f4-0f89-404b-9e79-2b8b7d8de40a/Asset_1.png&quot;)\"></div></div><div class=\"pc-title-container\"><h2 id=\"pc-title\">Cookie Preference Center</h2><div class=\"pc-close-btn-container\"><a href=\"javascript:void(0)\" id=\"close-pc-btn-handler\" class=\"pc-close-button close-icon\" role=\"button\" aria-label=\"Close Button\" title=\"Close\"></a></div></div></div><!-- content --><div id=\"content\"><!-- Groups / Sub groups with cookies --><div class=\"main-content pc-content\"><div class=\"ot-sdk-container groups-container\"><div class=\"ot-sdk-row\"><!-- About Privacy container --><div class=\"ot-sdk-column\"><div class=\"ot-sdk-four ot-sdk-columns group active-group category-menu-switch-handler\"><h3 id=\"privacy-text\">Your Privacy</h3></div></div><div class=\"ot-sdk-eight ot-sdk-columns description-container\"><h3 id=\"pc-privacy-header\">Your Privacy</h3><p id=\"pc-policy-text\" class=\"group-description\">When you visit any website, it may store or retrieve information on your browser, mostly in the form of cookies. This information might be about you, your preferences or your device and is mostly used to make the site work as you expect it to. The information does not usually directly identify you, but it can give you a more personalized web experience. Because we respect your right to privacy, you can choose not to allow some types of cookies. Click on the different category headings to find out more and change our default settings. However, blocking some types of cookies may impact your experience of the site and the services we are able to offer.</p></div><ul class=\"category-group\"><li class=\"category-item\" data-optanongroupid=\"BG24\"><div class=\"ot-sdk-column\"><div class=\"ot-sdk-four ot-sdk-columns group category-menu-switch-handler\" role=\"button\"><h3 id=\"ot-header-id-BG24\">Required</h3></div></div><div class=\"ot-sdk-eight ot-sdk-columns description-container hide\"><div class=\"group-toggle\"><h3 class=\"category-header\">Required</h3><div class=\"toggle-group\"><div class=\"always-active\">Always Active</div></div></div><p class=\"group-description\">These cookies are necessary for the website to function and cannot be switched off in our systems. They are usually only set in response to actions made by you which amount to a request for services, such as setting your privacy preferences, logging in or filling in forms.    You can set your browser to block or alert you about these cookies, but some parts of the site will not then work. These cookies do not store any personally identifiable information.</p><!-- sub groups --><div class=\"category-vendors-list-container\"></div><div class=\"category-host-list-container\"></div></div></li><li class=\"category-item\" data-optanongroupid=\"BG25\"><div class=\"ot-sdk-column\"><div class=\"ot-sdk-four ot-sdk-columns group category-menu-switch-handler\" role=\"button\"><h3 id=\"ot-header-id-BG25\">Optional</h3></div></div><div class=\"ot-sdk-eight ot-sdk-columns description-container hide\"><div class=\"group-toggle\"><h3 class=\"category-header\">Optional</h3><div class=\"toggle-group\"><div class=\"toggle\"><div class=\"checkbox\"><!-- DYNAMICALLY GENERATE Input ID  --> <input id=\"ot-group-id-BG25\" class=\"category-switch-handler\" title=\"Location Based Ads Toggle\" type=\"checkbox\" aria-label=\"personalization-cookies\" name=\"ot-group-id-BG25\" data-optanongroupid=\"BG25\" checked=\"true\" aria-checked=\"true\" aria-describedby=\"ot-header-id-BG25\"> <label for=\"ot-group-id-BG25\"><span class=\"label-text\">Optional</span></label><!-- DYNAMICALLY GENERATE Input ID  --></div></div></div></div><p class=\"group-description\">Under the California Consumer Privacy Act, you have the right to opt-out of the these cookies that collect information for analytics and to personalize your experience with targeted ads. You may exercise your right to opt out by using this toggle switch. If you opt out we will not be able to offer you personalized ads</p><!-- sub groups --><div class=\"cookie-subgroups-container\"><ul class=\"cookie-subgroups\"><li class=\"cookie-subgroup\" data-optanongroupid=\"C0004\"><h6>Targeting Cookies</h6><div class=\"toggle-group cookie-subgroup-toggle\"></div><p> </p></li></ul></div><div class=\"cookie-subgroups-container\"><ul class=\"cookie-subgroups\"><li class=\"cookie-subgroup\" data-optanongroupid=\"C0005\"><h6>Social Media Cookies</h6><div class=\"toggle-group cookie-subgroup-toggle\"></div><p> </p></li></ul></div><div class=\"cookie-subgroups-container\"><ul class=\"cookie-subgroups\"><li class=\"cookie-subgroup\" data-optanongroupid=\"C0002\"><h6>Performance Cookies</h6><div class=\"toggle-group cookie-subgroup-toggle\"></div><p> </p></li></ul></div><div class=\"cookie-subgroups-container\"><ul class=\"cookie-subgroups\"><li class=\"cookie-subgroup\" data-optanongroupid=\"C0003\"><h6>Functional Cookies</h6><div class=\"toggle-group cookie-subgroup-toggle\"></div><p> </p></li></ul></div><div class=\"category-vendors-list-container\"></div><div class=\"category-host-list-container\"></div></div></li></ul></div></div></div><!-- Vendors / Hosts --><section id=\"vendors-list\" class=\"hide\"><div class=\"vendor-content\"><nav id=\"vendors-list-header\"><div class=\"navigation-container\"><a class=\"back-btn-handler\" role=\"button\" href=\"javascript:void(0)\"><div id=\"back-arrow\"><svg xmlns=\"http://www.w3.org/2000/svg\" xmlns:xlink=\"http://www.w3.org/1999/xlink\" x=\"0px\" y=\"0px\" width=\"15px\" height=\"15px\" viewBox=\"0 0 444.531 444.531\" xml:space=\"preserve\"><title>Back Button</title><g><path fill=\"#2c3643\" d=\"M213.13,222.409L351.88,83.653c7.05-7.043,10.567-15.657,10.567-25.841c0-10.183-3.518-18.793-10.567-25.835\n",
      "                    l-21.409-21.416C323.432,3.521,314.817,0,304.637,0s-18.791,3.521-25.841,10.561L92.649,196.425\n",
      "                    c-7.044,7.043-10.566,15.656-10.566,25.841s3.521,18.791,10.566,25.837l186.146,185.864c7.05,7.043,15.66,10.564,25.841,10.564\n",
      "                    s18.795-3.521,25.834-10.564l21.409-21.412c7.05-7.039,10.567-15.604,10.567-25.697c0-10.085-3.518-18.746-10.567-25.978\n",
      "                    L213.13,222.409z\"></path></g></svg></div><h3 id=\"vendors-list-title\">Advertising Cookies</h3></a></div><div class=\"action-container\"><div id=\"search-container\"><input id=\"vendor-search-handler\" title=\"Vendor Search\" type=\"text\" placeholder=\"Search...\" name=\"vendor-search-handler\"> <svg width=\"30\" height=\"30\" xmlns=\"http://www.w3.org/2000/svg\" xmlns:xlink=\"http://www.w3.org/1999/xlink\" x=\"0px\" y=\"0px\" viewBox=\"0 -30 110 110\"><path fill=\"#2e3644\" d=\"M55.146,51.887L41.588,37.786c3.486-4.144,5.396-9.358,5.396-14.786c0-12.682-10.318-23-23-23s-23,10.318-23,23\n",
      "              s10.318,23,23,23c4.761,0,9.298-1.436,13.177-4.162l13.661,14.208c0.571,0.593,1.339,0.92,2.162,0.92\n",
      "              c0.779,0,1.518-0.297,2.079-0.837C56.255,54.982,56.293,53.08,55.146,51.887z M23.984,6c9.374,0,17,7.626,17,17s-7.626,17-17,17\n",
      "              s-17-7.626-17-17S14.61,6,23.984,6z\"></path></svg></div><div id=\"filter-container\"><a id=\"filter-btn-handler\" role=\"button\" href=\"javascript:void(0)\"><svg xmlns=\"http://www.w3.org/2000/svg\" xmlns:xlink=\"http://www.w3.org/1999/xlink\" x=\"0px\" y=\"0px\" width=\"15\" height=\"15\" viewBox=\"0 0 402.577 402.577\" style=\"enable-background:new 0 0 402.577 402.577;\" xml:space=\"preserve\"><title>Filter Button</title><g><path fill=\"#2c3643\" d=\"M400.858,11.427c-3.241-7.421-8.85-11.132-16.854-11.136H18.564c-7.993,0-13.61,3.715-16.846,11.136\n",
      "                            c-3.234,7.801-1.903,14.467,3.999,19.985l140.757,140.753v138.755c0,4.955,1.809,9.232,5.424,12.854l73.085,73.083\n",
      "                            c3.429,3.614,7.71,5.428,12.851,5.428c2.282,0,4.66-0.479,7.135-1.43c7.426-3.238,11.14-8.851,11.14-16.845V172.166L396.861,31.413\n",
      "                            C402.765,25.895,404.093,19.231,400.858,11.427z\"></path></g></svg></a></div></div></nav><section id=\"vendor-list-content\"><div class=\"ot-sdk-row\"><div class=\"ot-sdk-column\"><div id=\"select-all-container\"><div class=\"ot-checkbox\"><!-- Vendors select all input container  --><div id=\"select-all-vendors-input-container\"><input title=\"Select All\" id=\"select-all-vendor-groups-handler\" class=\"group-option-box\" type=\"checkbox\"> <label for=\"select-all-vendor-groups-handler\"><span class=\"label-text\">Select All Vendors</span></label></div><!-- Hosts select all input container --><div id=\"select-all-hosts-input-container\"><input title=\"Select All\" id=\"select-all-hosts-groups-handler\" class=\"group-option-box\" type=\"checkbox\"> <label for=\"select-all-hosts-groups-handler\"><span class=\"label-text\">Select All Hosts</span></label></div><div id=\"select-all-text-container\"><p>Select All</p></div></div></div><ul id=\"hosts-list-container\"><li class=\"host-item\"><input title=\"Host Accordion\" type=\"checkbox\" class=\"host-box\"><section class=\"accordion-header\"><div class=\"toggle-group\"><!-- Checkbox --><div class=\"ot-checkbox\"><input id=\"REPLACE-WITH-DYANMIC-HOST-ID\" class=\"host-checkbox-handler group-option-box\" type=\"checkbox\"> <label for=\"REPLACE-WITH-DYANMIC-HOST-ID\"><span class=\"label-text\">REPLACE-WITH-DYANMIC-HOST-ID</span></label></div><!-- Checkbox END --><div class=\"host-info\"><h3 class=\"host-title\">33Across</h3><h4 class=\"host-description\">33Across</h4></div></div><div class=\"host-notice\"><div class=\"third-party-cookies-container\"><a class=\"third-party-cookie-notice\" href=\"javascript:void(0)\" role=\"button\">View Third Party Cookies</a></div><div class=\"arrow-container\"><svg class=\"arrow\" x=\"0px\" y=\"0px\" width=\"10px\" height=\"10px\" viewBox=\"0 0 451.846 451.847\" style=\"enable-background:new 0 0 451.846 451.847;\" xml:space=\"preserve\"><g><path fill=\"#7b7b7b\" d=\"M345.441,248.292L151.154,442.573c-12.359,12.365-32.397,12.365-44.75,0c-12.354-12.354-12.354-32.391,0-44.744\n",
      "                        L278.318,225.92L106.409,54.017c-12.354-12.359-12.354-32.394,0-44.748c12.354-12.359,32.391-12.359,44.75,0l194.287,194.284\n",
      "                        c6.177,6.18,9.262,14.271,9.262,22.366C354.708,234.018,351.617,242.115,345.441,248.292z\"></path></g></svg></div></div></section><div class=\"accordion-text\"><div class=\"host-options\"><!-- HOST LIST VIEW UPDATE *** --><ul class=\"host-option-group\"><li class=\"vendor-host\"><div class=\"cookie-name-container\"><div>Name</div><div>cookie name</div></div><div class=\"cookie-host-container\"><div>Host</div><div>cookie host</div></div><div class=\"cookie-duration-container\"><div>Duration</div><div>cookie duration</div></div><div class=\"cookie-type-container\"><div>Type</div><div>cookie type</div></div><div class=\"cookie-category-container\"><div>Category</div><div>cookie category</div></div><div class=\"cookie-description-container\"><div>Description</div><div>cookie category</div></div></li></ul><!-- HOST LIST VIEW UPDATE END *** --></div></div></li></ul><ul id=\"vendors-list-container\"><li><input title=\"Vendor Accordion\" type=\"checkbox\" class=\"vendor-box\"><section class=\"accordion-header\"><div class=\"toggle-group\"><!-- Checkbox --><div class=\"ot-checkbox\"><input id=\"REPLACE-WITH-DYANMIC-VENDOR-ID\" class=\"vendor-checkbox-handler group-option-box\" type=\"checkbox\"> <label for=\"REPLACE-WITH-DYANMIC-VENDOR-ID\"><span class=\"label-text\">REPLACE-WITH-DYANMIC-VENDOR-ID</span></label></div><!-- Checkbox END --><div class=\"vendor-info\"><h3 class=\"vendor-title\">33Across</h3><div class=\"vendor-purposes\"><p>3 Purposes</p></div></div></div><div class=\"vendor-notice\"><div class=\"vendor-privacy-notice-container\"><a class=\"vendor-privacy-notice\" href=\"#\">View Privacy Notice</a></div><div class=\"arrow-container\"><svg class=\"arrow\" xmlns=\"http://www.w3.org/2000/svg\" xmlns:xlink=\"http://www.w3.org/1999/xlink\" x=\"0px\" y=\"0px\" width=\"10px\" height=\"10px\" viewBox=\"0 0 451.846 451.847\" style=\"enable-background:new 0 0 451.846 451.847;\" xml:space=\"preserve\"><g><path fill=\"#7b7b7b\" d=\"M345.441,248.292L151.154,442.573c-12.359,12.365-32.397,12.365-44.75,0c-12.354-12.354-12.354-32.391,0-44.744\n",
      "                                    L278.318,225.92L106.409,54.017c-12.354-12.359-12.354-32.394,0-44.748c12.354-12.359,32.391-12.359,44.75,0l194.287,194.284\n",
      "                                    c6.177,6.18,9.262,14.271,9.262,22.366C354.708,234.018,351.617,242.115,345.441,248.292z\"></path></g></svg></div></div></section><div class=\"accordion-text\"><div class=\"vendor-options\"><!-- VENDOR PURPOSE UPDATE *** --><div class=\"vendor-purpose-groups\"><!-- vendor purposes --><div class=\"vendor-option-purpose\"><p>Consent Purposes</p></div><div class=\"vendor-consent-group\"><p class=\"consent-category\">Location Based Ads</p><p class=\"consent-status\">Consent Allowed</p></div><!-- vendor legitimate interest purposes --><div class=\"vendor-option-purpose legitimate-interest\"><p>Legitimate Interest Purposes</p></div><div class=\"vendor-consent-group legitimate-interest-group\"><p class=\"consent-category\">Personalize</p><a href=\"#\" class=\"vendor-opt-out-handler\"><div class=\"op-out-group\"><span>Require Opt-Out</span> <svg x=\"0px\" y=\"0px\" width=\"15\" height=\"15\" viewBox=\"0 0 511.626 511.627\" style=\"enable-background:new 0 0 511.626 511.627;\" xml:space=\"preserve\"><g fill=\"#1a73e8\"><g><path d=\"M392.857,292.354h-18.274c-2.669,0-4.859,0.855-6.563,2.573c-1.718,1.708-2.573,3.897-2.573,6.563v91.361\n",
      "                                      c0,12.563-4.47,23.315-13.415,32.262c-8.945,8.945-19.701,13.414-32.264,13.414H82.224c-12.562,0-23.317-4.469-32.264-13.414\n",
      "                                      c-8.945-8.946-13.417-19.698-13.417-32.262V155.31c0-12.562,4.471-23.313,13.417-32.259c8.947-8.947,19.702-13.418,32.264-13.418\n",
      "                                      h200.994c2.669,0,4.859-0.859,6.57-2.57c1.711-1.713,2.566-3.9,2.566-6.567V82.221c0-2.662-0.855-4.853-2.566-6.563\n",
      "                                      c-1.711-1.713-3.901-2.568-6.57-2.568H82.224c-22.648,0-42.016,8.042-58.102,24.125C8.042,113.297,0,132.665,0,155.313v237.542\n",
      "                                      c0,22.647,8.042,42.018,24.123,58.095c16.086,16.084,35.454,24.13,58.102,24.13h237.543c22.647,0,42.017-8.046,58.101-24.13\n",
      "                                      c16.085-16.077,24.127-35.447,24.127-58.095v-91.358c0-2.669-0.856-4.859-2.574-6.57\n",
      "                                      C397.709,293.209,395.519,292.354,392.857,292.354z\"></path><path d=\"M506.199,41.971c-3.617-3.617-7.905-5.424-12.85-5.424H347.171c-4.948,0-9.233,1.807-12.847,5.424\n",
      "                                      c-3.617,3.615-5.428,7.898-5.428,12.847s1.811,9.233,5.428,12.85l50.247,50.248L198.424,304.067\n",
      "                                      c-1.906,1.903-2.856,4.093-2.856,6.563c0,2.479,0.953,4.668,2.856,6.571l32.548,32.544c1.903,1.903,4.093,2.852,6.567,2.852\n",
      "                                      s4.665-0.948,6.567-2.852l186.148-186.148l50.251,50.248c3.614,3.617,7.898,5.426,12.847,5.426s9.233-1.809,12.851-5.426\n",
      "                                      c3.617-3.616,5.424-7.898,5.424-12.847V54.818C511.626,49.866,509.813,45.586,506.199,41.971z\"></path></g></g></svg></div></a></div><!-- Vendor features --><div class=\"vendor-option-purpose vendor-feature\"><p>Features</p></div><div class=\"vendor-consent-group vendor-feature-group\"><p class=\"consent-category\">Location Based Ads</p></div></div><!-- VENDOR PURPOSE UPDATE END *** --></div></div></li></ul></div></div></section></div><div id=\"triangle\"></div><section id=\"filter-modal\"><div id=\"options\"><div id=\"clear-filters-container\"><a href=\"javascript:void(0)\" id=\"clear-filters-handler\" role=\"button\"><p>Clear Fliters</p></a></div><div class=\"group-options\"><div class=\"group-option\"><div class=\"ot-checkbox\"><input title=\"Information storage and access\" id=\"storage-access-group\" class=\"group-option-box category-filter-handler\" type=\"checkbox\"> <label for=\"storage-access-group\"><span>Information storage and access</span></label></div></div></div><button id=\"filter-apply-handler\" class=\"pill\">Apply</button></div></section></section></div><!-- footer --><div class=\"button-group-parent\"><div class=\"button-group\"><button id=\"accept-recommended-btn-handler\" aria-label=\"All Allow\" role=\"button\">All Allow</button> <button class=\"save-preference-btn-handler onetrust-close-btn-handler\" aria-label=\"Confirm My Choices\" role=\"button\">Confirm My Choices</button></div><div class=\"footer-logo\"><a class=\"powered-by-logo\" href=\"https://onetrust.com/poweredbyonetrust\" target=\"_blank\" rel=\"noopener\" aria-label=\"Powered by Onetrust\"></a></div></div></div><div id=\"onetrust-banner-sdk\" class=\"otFlat vertical-align-content bottom\" style=\"bottom: -99px; animation-name: slide-down-custom; animation-duration: 1000ms; animation-fill-mode: forwards; animation-timing-function: ease-out;\"><div class=\"ot-sdk-container\"><div class=\"ot-sdk-row\"><div id=\"onetrust-group-container\" class=\"ot-sdk-eight ot-sdk-columns\"><div class=\"banner_logo\"></div><div id=\"onetrust-policy\"><!-- Mobile Close Button --><div id=\"onetrust-close-btn-container-mobile\" class=\"hide-large\"></div><!-- Mobile Close Button END--><p id=\"onetrust-policy-text\">This website uses cookies to enhance user experience and to analyze performance and traffic on our website. We also share information about your use of our site with our social media, advertising and analytics partners. To learn more about cookies, including how to disable them, click on Cookie Preferences.</p></div></div><div id=\"onetrust-button-group-parent\" class=\"ot-sdk-three ot-sdk-columns\"><div id=\"onetrust-button-group\"><button id=\"onetrust-pc-btn-handler\" title=\"Open Preference Center Button\" class=\"cookie-setting-link\" tabindex=\"0\">Cookie Preferences</button>  <button id=\"onetrust-accept-btn-handler\" title=\"Accept Cookies Button\" tabindex=\"0\">Got It</button></div></div><!-- Close Button --><div id=\"onetrust-close-btn-container\" class=\"ot-sdk-one ot-sdk-column hide-small\"></div><!-- Close Button END--></div></div></div></div>\n"
     ]
    }
   ],
   "source": [
    "# url 36\n",
    "i = urls[35]\n",
    "#open_url(i)\n",
    "element = driver.find_element_by_css_selector('#onetrust-consent-sdk')\n",
    "source = element.get_attribute(\"outerHTML\")\n",
    "print(source)\n",
    "ad_type = \"sticky\"\n",
    "data.append({\"TYPE\" : ad_type, \"ad_code\" : source, \"URL\" : i})"
   ]
  },
  {
   "cell_type": "code",
   "execution_count": 310,
   "metadata": {
    "collapsed": true
   },
   "outputs": [
    {
     "name": "stdout",
     "output_type": "stream",
     "text": [
      "<div id=\"sliding-popup\" style=\"height: 300px; width: 100%; bottom: 0px;\" class=\"sliding-popup-bottom\"><div class=\"eu-cookie-compliance-banner eu-cookie-compliance-banner-info\">\n",
      "  <div class=\"popup-content info eu-cookie-compliance-content\">\n",
      "    <div id=\"popup-text\" class=\"eu-cookie-compliance-message\">\n",
      "      <h2>This website uses cookies to improve your experience</h2>\n",
      "<h3>We hope that's okay!</h3>\n",
      "\n",
      "              <button type=\"button\" class=\"find-more-button eu-cookie-compliance-more-button find-more-button-processed\">Find out more</button>\n",
      "          </div>\n",
      "    <div id=\"popup-buttons\" class=\"eu-cookie-compliance-buttons\">\n",
      "      <button type=\"button\" class=\"agree-button eu-cookie-compliance-secondary-button\">Okay, got it</button>\n",
      "              <button type=\"button\" class=\"decline-button eu-cookie-compliance-default-button\">No thanks</button>\n",
      "          </div>\n",
      "  </div>\n",
      "</div></div>\n"
     ]
    }
   ],
   "source": [
    "# url 37\n",
    "i = urls[36]\n",
    "#open_url(i)\n",
    "element = driver.find_element_by_css_selector('#sliding-popup')\n",
    "source = element.get_attribute(\"outerHTML\")\n",
    "print(source)\n",
    "ad_type = \"sticky\"\n",
    "data.append({\"TYPE\" : ad_type, \"ad_code\" : source, \"URL\" : i})"
   ]
  },
  {
   "cell_type": "code",
   "execution_count": 319,
   "metadata": {
    "collapsed": true
   },
   "outputs": [
    {
     "name": "stdout",
     "output_type": "stream",
     "text": [
      "<div id=\"consent_blackbar\" style=\"position: fixed; left: 0; bottom: 0; width: 100%; background-color: white; color: white; text-align: center; z-index: 1010\"><style> #truste-repop-msg element     #truste-repop-msg {     display:none;   }  #truste-consent-track {    border: 1px solid #333;    padding: 10px 60px;    background-color: #fff;  }      #truste-consent-text {    color: #333;    font-size: 14px;    direction:ltr;  }      #truste-consent-button {    background-color: #367dff;    color: white;    padding: 5px 10px;    border: 1px solid #367dff;    border-radius: 2px;    direction:ltr;  }      #truste-consent-required, #truste-show-consent {    background-color: #fff;    color: #367dff;    border: 1px solid #367dff;    padding: 5px 10px;    border-radius: 2px;  }      #truste-privacy-button {    color: #367dff;  }      .truste-messageColumn {    font-family: \"JD Sans Medium\",sans-serif;    font-size: 14px;    color: #000000;    margin: 15px 0px 15px 0px;    float: left;  }  .truste-buttonsColumn {    float: right;    margin: 10px 5px 10px 0px;  }.opencm {  color: #367dff;  text-decoration: underline;  cursor: pointer;}</style><div id=\"truste-consent-track\" style=\"position: relative; z-index: 999999; opacity: 1; display: block;\">  <div id=\"truste-consent-content\" style=\"overflow: hidden;\">    <div id=\"truste-consent-text\" class=\"truste-messageColumn\">We use cookies and similar technologies to understand how you use our site, optimize its functionality, to create more valuable experiences for you, to keep our site secure and functional, and deliver content tailored to your interests.  By clicking on the \"I agree\" button below, you consent to our use of cookies and similar technologies. For more information see our&nbsp;<a href=\"https://www.marriott.com/about/privacy.mi\" target=\"_blank\" id=\"truste-privacy-button\">Global Privacy Statement</a>. You can also change your preferences regarding cookies and similar technologies at any time by visiting&nbsp;<a class=\"opencm\" onclick=\"truste.eu &amp;&amp; truste.eu.clickListener(2)\">Tracking Preferences</a>.</div>    <div id=\"truste-consent-buttons\" class=\"truste-buttonsColumn\">      <span id=\"truste-repop-msg\" style=\"padding: 7px 10px; background: #F9EDBE; border:1px solid #F0C36D; margin: 11px 0px 13px;font-size:11; line-height: 16px;color: #AF7501; display:none;\"></span>       <button id=\"truste-consent-button\">I&nbsp;agree</button>      <button id=\"truste-consent-required\">I&nbsp;decline</button>      <button id=\"truste-show-consent\">Change&nbsp;settings</button>    </div>  </div></div></div>\n"
     ]
    }
   ],
   "source": [
    "# url 38\n",
    "i = urls[37]\n",
    "#open_url(i)\n",
    "element = driver.find_element_by_css_selector('#consent_blackbar')\n",
    "source = element.get_attribute(\"outerHTML\")\n",
    "print(source)\n",
    "ad_type = \"sticky\"\n",
    "data.append({\"TYPE\" : ad_type, \"ad_code\" : source, \"URL\" : i})"
   ]
  },
  {
   "cell_type": "code",
   "execution_count": 327,
   "metadata": {
    "collapsed": true
   },
   "outputs": [
    {
     "name": "stdout",
     "output_type": "stream",
     "text": [
      "<div data-test=\"cookie-banner\" class=\"CookieBannerstyles__Wrapper-sc-1nn4qlf-0 dyAUWl\"><div class=\"CookieBannerstyles__Container-sc-1nn4qlf-1 jxoXNS\"><h2 class=\"CookieBannerstyles__Title-sc-1nn4qlf-3 gBIFKU Text__BaseText-aa2o0i-0 flGMYQ\">쿠키 설정</h2><div class=\"CookieBannerstyles__CopyContainer-sc-1nn4qlf-4 hDDCDE\"><span><p>LEGO System A/S는 당사 웹 사이트를 운영하기 위한 \"필수 쿠키\", 쇼핑 환경을 개선하기 위한 \"기능 쿠키\", 제3자가 소셜 미디어 기능을 포함한 맞춤화된 마케팅을 운영하기 위한 \"마케팅 쿠키\"를 활용하고 있습니다.</p> <p>모든 페이지의 하단에 있는 \"쿠키 설정\" 링크를 클릭하면 설정 내용을 변경할 수 있습니다. <a href=\"http://www.lego.com/legal/cookieinfo\">쿠키 정책</a> 및 <a href=\"https://www.lego.com/legal/legal-notice/privacy-policy-full\">개인정보처리방침에서</a> 쿠키에 대한 더 자세한 정보를 확인하십시오.&nbsp;아래의 \"쿠키 허용\" 버튼을 클릭하면 당사의 쿠키 사용에 동의하는 것으로 간주됩니다.</p> <p>\"필수 쿠키\"는 쿠키 허용 여부와 관계없이 설정됩니다.</p></span></div><div class=\"CookieBannerstyles__CookieActions-sc-1nn4qlf-6 wmdxp\"><button kind=\"primary\" type=\"submit\" data-test=\"cookie-banner-normal-button\" class=\"CookieBannerstyles__StyledButton-sc-1nn4qlf-7 bYGznE Button__Base-sc-1jdmsyi-0 dNUJxY\">쿠키 허용</button><a href=\"https://www.lego.com/ko-kr/legal/cookies/cookie-settings\" data-test=\"cookie-banner-settings-button\" kind=\"secondary\" class=\"CookieBannerstyles__StyledLink-sc-1nn4qlf-8 ipdVbY Linksstyles__AnchorButton-sc-707k3h-1 eAXjzL\"><span>쿠키 설정</span></a></div></div></div>\n"
     ]
    }
   ],
   "source": [
    "# url 39\n",
    "i = urls[38]\n",
    "#open_url(i)\n",
    "element = driver.find_element_by_css_selector('.CookieBannerstyles__Wrapper-sc-1nn4qlf-0')\n",
    "source = element.get_attribute(\"outerHTML\")\n",
    "print(source)\n",
    "ad_type = \"sticky\"\n",
    "data.append({\"TYPE\" : ad_type, \"ad_code\" : source, \"URL\" : i})"
   ]
  },
  {
   "cell_type": "code",
   "execution_count": 332,
   "metadata": {
    "collapsed": true
   },
   "outputs": [
    {
     "name": "stdout",
     "output_type": "stream",
     "text": [
      "<form action=\"\" class=\"CookieBanner\" id=\"CookieBanner\" data-cookie-banner=\"\" data-not-seen=\"true\"><div class=\"CookieBanner-description\"><div class=\"CookieBanner-text\">This site uses cookies as described in our <a class=\"Link\" href=\"http://www.vetstreet.com/cookie-policy\">Cookie Policy</a>.  Please click the \"Accept\" button or continue to use our site if you agree to our use of cookies.</div><button class=\"CookieBanner-button Button\" type=\"button\" data-cookie-banner-accept=\"\">Accept</button></div><div class=\"CookieBanner-close\"><svg version=\"1.1\" xmlns=\"http://www.w3.org/2000/svg\" xmlns:xlink=\"http://www.w3.org/1999/xlink\" x=\"0px\" y=\"0px\" viewBox=\"0 0 40 40\" style=\"enable-background:new 0 0 40 40;\" xml:space=\"preserve\" ${attr_close}=\"\"><rect x=\"19.5\" y=\"-7.6\" transform=\"matrix(0.7055 -0.7087 0.7087 0.7055 -8.1657 20.0404)\" fill=\"currentColor\" width=\"1\" height=\"54.9\"></rect><rect x=\"-7.1\" y=\"19.3\" transform=\"matrix(0.7052 -0.7091 0.7091 0.7052 -8.1127 20.18)\" fill=\"currentColor\" width=\"54.7\" height=\"1\"></rect></svg></div></form>\n"
     ]
    }
   ],
   "source": [
    "# url 40\n",
    "i = urls[39]\n",
    "#open_url(i)\n",
    "element = driver.find_element_by_css_selector('#CookieBanner')\n",
    "source = element.get_attribute(\"outerHTML\")\n",
    "print(source)\n",
    "ad_type = \"sticky\"\n",
    "data.append({\"TYPE\" : ad_type, \"ad_code\" : source, \"URL\" : i})"
   ]
  },
  {
   "cell_type": "code",
   "execution_count": 337,
   "metadata": {
    "collapsed": true
   },
   "outputs": [
    {
     "name": "stdout",
     "output_type": "stream",
     "text": [
      "<div id=\"plcPrivacyPopup\" style=\"display: block;\">\n",
      "    <!-- NOTE: Only render to page if cookie flag doesn't exist.  Except for CSS, this snippet is entirely self-contained.  On button click, data in the ajax data property below will be sent to the endpoint in the ajax url property. -->\n",
      "    <div class=\"cookie-message\" style=\"z-index: 100;\">\n",
      "        <h2 class=\"cookie-message__title\">PLEASE REVIEW OUR UPDATED PRIVACY &amp; COOKIES NOTICE\n",
      "</h2>\n",
      "        <div class=\"cookie-messages__body\">\n",
      "            This site uses cookies and similar technologies to store information on your computer or device. By continuing to use this site, you agree to the placement of these cookies and similar technologies. Read our updated <a href=\"https://www.gatesfoundation.org/Privacy-and-Cookies-Notice\" target=\"_blank\">Privacy &amp; Cookies Notice</a> to learn more.\n",
      "        </div>\n",
      "<button class=\"btn cookie-message__button\" id=\"js-cooking-message-accept\">I AGREE</button>\n",
      "</div>\n",
      "</div>\n"
     ]
    }
   ],
   "source": [
    "# url 41\n",
    "i = urls[40]\n",
    "#open_url(i)\n",
    "element = driver.find_element_by_css_selector('#plcPrivacyPopup')\n",
    "source = element.get_attribute(\"outerHTML\")\n",
    "print(source)\n",
    "ad_type = \"sticky\"\n",
    "data.append({\"TYPE\" : ad_type, \"ad_code\" : source, \"URL\" : i})"
   ]
  },
  {
   "cell_type": "code",
   "execution_count": 340,
   "metadata": {
    "collapsed": true
   },
   "outputs": [
    {
     "name": "stdout",
     "output_type": "stream",
     "text": [
      "<div id=\"onetrust-consent-sdk\"><div class=\"onetrust-pc-dark-filter hide fade-in\"></div><div id=\"onetrust-pc-sdk\" class=\"ot-sdk-container otPcPanel hide fade-in ot-sdk-not-webkit\" lang=\"en\"><!-- Close Button --><div><a href=\"javascript:void(0)\" id=\"close-pc-btn-handler\" class=\"main close-pc-btn-handler pc-close-button close-icon\" role=\"button\" title=\"Close\" aria-label=\"Close Button\"></a></div><!-- Close Button --><div id=\"content\" class=\"main-content\"><!-- Logo Tag --><div class=\"pc-logo-container\"><div class=\"pc-logo\"></div></div><h3 id=\"pc-title\">Cookie Preference Center</h3><div id=\"pc-policy-text\">Below, you can review the categories of Cookies we use, and manage your preferences (i.e, which Cookies you wish to accept) by adjusting each category’s toggle as desired. \n",
      "\n",
      "If you make any changes to the default toggle positions, you must click on the SAVE MY CHANGES button below in order to make your changes effective.</div><div id=\"accept-recommended-container\" class=\"ot-sdk-row\"><div class=\"ot-sdk-column\"><button id=\"accept-recommended-btn-handler\" class=\"button-theme\" aria-label=\"Allow All\" role=\"button\" cobrowse=\"viewonly\">Allow All</button></div></div><section id=\"cookie-preferences\" class=\"ot-sdk-row category-group\"><h3 id=\"manage-cookies-text\"> Manage Cookie Preferences</h3><div class=\"accordion-text category-item\" data-optanongroupid=\"C0001\"><h4 class=\"category-header\" id=\"ot-header-id-C0001\">Strictly Necessary Cookies</h4><div class=\"always-active\">Always Active</div><p>Strictly Necessary Cookies let you securely navigate our Sites and use essential features such as access to the shopping cart and tools to pay for your purchase or enhance your security. For example, we use these Strictly Necessary Cookies to identify you as being logged in to the Sites and to authenticate you. Strictly Necessary Cookies are also required to ensure that the products that you add to your shopping cart are kept there while you are shopping, and that the data that you enter during the ordering process is retained, to allow you to proceed with the payment of your order.  These cookies are persistent and allow for session to session browsing.\n",
      "You may not opt out of Strictly Necessary Cookies. Accepting these cookies is a condition of using the Sites, because if you disable these cookies we can't guarantee how the Sites or the security on the Sites will perform during your visit or subsequent visits.</p><!-- sub groups --><div class=\"category-host-list-container\"></div></div><div class=\"accordion-text category-item\" data-optanongroupid=\"C0002\"><h4 class=\"category-header\" id=\"ot-header-id-C0002\">Performance Cookies</h4><div class=\"ot-switch toggle\"><input type=\"checkbox\" name=\"ot-group-id-C0002\" class=\"switch-checkbox category-switch-handler\" id=\"ot-group-id-C0002\" aria-label=\"performance-switch\" aria-checked=\"true\" data-optanongroupid=\"C0002\" checked=\"true\" aria-describedby=\"ot-header-id-C0002\" tabindex=\"6\"> <label class=\"switch-label\" for=\"ot-group-id-C0002\"><span class=\"switch-inner\"></span> <span class=\"switch-nob\"></span> <span class=\"label-text\">Performance Cookies</span></label></div><p>Performance Cookies may be placed on your device by us (or by third party companies operating on our behalf) to collect analytics, statistical and other information about how you and others use our Sites (e.g. which pages you visit, when you open or read the communications we send you, which of our ads you interact with on our Sites or other websites where our ads may appear, if you receive any error messages, how many users have viewed a product, etc.).</p><!-- sub groups --><div class=\"category-host-list-container\"></div></div><div class=\"accordion-text category-item\" data-optanongroupid=\"C0003\"><h4 class=\"category-header\" id=\"ot-header-id-C0003\">Functional Cookies</h4><div class=\"ot-switch toggle\"><input type=\"checkbox\" name=\"ot-group-id-C0003\" class=\"switch-checkbox category-switch-handler\" id=\"ot-group-id-C0003\" aria-label=\"performance-switch\" aria-checked=\"true\" data-optanongroupid=\"C0003\" checked=\"true\" aria-describedby=\"ot-header-id-C0003\" tabindex=\"7\"> <label class=\"switch-label\" for=\"ot-group-id-C0003\"><span class=\"switch-inner\"></span> <span class=\"switch-nob\"></span> <span class=\"label-text\">Functional Cookies</span></label></div><p>Functionality Cookies may be placed on your device by us (or by third party companies operating on our behalf) and are used to improve your visit to our Sites by providing you the personalised or enhanced features that you have selected or remembering certain settings you have chosen (e.g., language preferences, the country from where you are visiting, if you have engaged with a particular component or list on the Sites so that it won’t repeat, show you when you're logged in to the Site, etc.). If you disable these cookies, we will not be able to retain your preferences or selected settings for your next visit.</p><!-- sub groups --><div class=\"category-host-list-container\"></div></div><div class=\"accordion-text category-item\" data-optanongroupid=\"C0004\"><h4 class=\"category-header\" id=\"ot-header-id-C0004\">Targeting Cookies</h4><div class=\"ot-switch toggle\"><input type=\"checkbox\" name=\"ot-group-id-C0004\" class=\"switch-checkbox category-switch-handler\" id=\"ot-group-id-C0004\" aria-label=\"performance-switch\" aria-checked=\"true\" data-optanongroupid=\"C0004\" checked=\"true\" aria-describedby=\"ot-header-id-C0004\" tabindex=\"8\"> <label class=\"switch-label\" for=\"ot-group-id-C0004\"><span class=\"switch-inner\"></span> <span class=\"switch-nob\"></span> <span class=\"label-text\">Targeting Cookies</span></label></div><p>Targeting or Advertising Cookies are used to track your visit to the Sites, as well as other websites, applications or online services, including the pages you have visited and the links you have followed. This allows us, and third party companies acting on our behalf, to display targeted ads to you, and it allows us to improve how we deliver personalized ads and content to you and measure the success of our ad campaigns. We may also use these Targeting or Advertising Cookies on our Sites and in connection with our content and ads that appear on third-party websites (such as social media) to see whether you interacted with our content or ads and  to limit the number of times you see the same ad.</p><!-- sub groups --><div class=\"category-host-list-container\"></div></div><div class=\"save-preference-btn-container\"><button class=\"save-preference-btn-handler onetrust-close-btn-handler button-theme\" aria-label=\"SAVE MY CHANGES\" role=\"button\" cobrowse=\"viewonly\">SAVE MY CHANGES</button><div class=\"pc-footer-logo\"><a class=\"powered-by-logo\" href=\"https://onetrust.com/poweredbyonetrust\" target=\"_blank\" rel=\"noopener\" aria-label=\"Powered by Onetrust\"></a></div></div></section></div><section id=\"vendors-list\" class=\"hide\"><div id=\"vendors-list-header\"><a class=\"back-btn-handler\" role=\"button\" href=\"javascript:void(0)\"><svg id=\"back-arrow\" xmlns=\"http://www.w3.org/2000/svg\" xmlns:xlink=\"http://www.w3.org/1999/xlink\" x=\"0px\" y=\"0px\" viewBox=\"0 0 444.531 444.531\" xml:space=\"preserve\" height=\"12px\" width=\"12px\"><title>Back Button</title><g><path fill=\"#656565\" d=\"M213.13,222.409L351.88,83.653c7.05-7.043,10.567-15.657,10.567-25.841c0-10.183-3.518-18.793-10.567-25.835\n",
      "          l-21.409-21.416C323.432,3.521,314.817,0,304.637,0s-18.791,3.521-25.841,10.561L92.649,196.425\n",
      "          c-7.044,7.043-10.566,15.656-10.566,25.841s3.521,18.791,10.566,25.837l186.146,185.864c7.05,7.043,15.66,10.564,25.841,10.564\n",
      "          s18.795-3.521,25.834-10.564l21.409-21.412c7.05-7.039,10.567-15.604,10.567-25.697c0-10.085-3.518-18.746-10.567-25.978\n",
      "          L213.13,222.409z\"></path></g></svg><p>Back</p></a><!-- Close Button --> <a href=\"javascript:void(0)\" id=\"vendor-close-pc-btn-handler\" class=\"vendors-list close-pc-btn-handler pc-close-button close-icon\" role=\"button\" title=\"Close\" aria-label=\"Close Button\"></a><!-- Close Button --><h3 id=\"vendors-list-title\">Performance Cookies</h3><div id=\"search-container\"><label for=\"vendor-search-handler\" class=\"screen-reader-only\">Vendor Search</label> <input id=\"vendor-search-handler\" type=\"text\" placeholder=\"Search...\" name=\"vendor-search-handler\" tabindex=\"9\"> <svg xmlns=\"http://www.w3.org/2000/svg\" xmlns:xlink=\"http://www.w3.org/1999/xlink\" x=\"0px\" y=\"0px\" width=\"30\" height=\"30\" viewBox=\"0 -30 110 110\"><title>Search Icon</title><path fill=\"#2e3644\" d=\"M55.146,51.887L41.588,37.786c3.486-4.144,5.396-9.358,5.396-14.786c0-12.682-10.318-23-23-23s-23,10.318-23,23\n",
      "        s10.318,23,23,23c4.761,0,9.298-1.436,13.177-4.162l13.661,14.208c0.571,0.593,1.339,0.92,2.162,0.92\n",
      "        c0.779,0,1.518-0.297,2.079-0.837C56.255,54.982,56.293,53.08,55.146,51.887z M23.984,6c9.374,0,17,7.626,17,17s-7.626,17-17,17\n",
      "        s-17-7.626-17-17S14.61,6,23.984,6z\"></path></svg> <a href=\"javascript:void(0)\" id=\"filter-btn-handler\" role=\"button\"><svg id=\"filter-icon\" xmlns=\"http://www.w3.org/2000/svg\" xmlns:xlink=\"http://www.w3.org/1999/xlink\" x=\"0px\" y=\"0px\" width=\"15px\" height=\"15px\" viewBox=\"0 0 402.577 402.577\" style=\"enable-background:new 0 0 402.577 402.577;\" xml:space=\"preserve\"><title>Filter Icon</title><g><path id=\"filter-icon-path\" fill=\"#fff\" d=\"M400.858,11.427c-3.241-7.421-8.85-11.132-16.854-11.136H18.564c-7.993,0-13.61,3.715-16.846,11.136\n",
      "  c-3.234,7.801-1.903,14.467,3.999,19.985l140.757,140.753v138.755c0,4.955,1.809,9.232,5.424,12.854l73.085,73.083\n",
      "  c3.429,3.614,7.71,5.428,12.851,5.428c2.282,0,4.66-0.479,7.135-1.43c7.426-3.238,11.14-8.851,11.14-16.845V172.166L396.861,31.413\n",
      "  C402.765,25.895,404.093,19.231,400.858,11.427z\"></path></g></svg></a><div id=\"triangle\"></div><section id=\"filter-modal\"><div id=\"options\"><div id=\"clear-filters-container\"><a href=\"javascript:void(0)\" id=\"clear-filters-handler\" role=\"button\"><p>Clear Fliters</p></a></div><div class=\"group-options\"><div class=\"group-option\"><div class=\"ot-checkbox\"><input title=\"Information storage and access\" id=\"storage-access-group\" class=\"group-option-box category-filter-handler\" type=\"checkbox\" tabindex=\"10\"> <label for=\"storage-access-group\"><span>Information storage and access</span></label></div></div></div><button id=\"filter-apply-handler\" class=\"pill\" cobrowse=\"viewonly\">Apply</button></div></section></div><div id=\"select-all-container\"><div class=\"ot-checkbox\"><div id=\"select-all-text-container\"><p>All Consent Allowed</p></div><!-- Vendors select all input container  --><div id=\"select-all-vendors-input-container\"><input title=\"Select All\" id=\"select-all-vendor-groups-handler\" class=\"group-option-box\" type=\"checkbox\" tabindex=\"11\"> <label for=\"select-all-vendor-groups-handler\"><span class=\"label-text\">Select All Vendors</span></label></div><!-- Hosts select all input container --><div id=\"select-all-hosts-input-container\"><input title=\"Select All\" id=\"select-all-hosts-groups-handler\" class=\"group-option-box\" type=\"checkbox\" tabindex=\"12\"> <label for=\"select-all-hosts-groups-handler\"><span class=\"label-text\">Select All Hosts</span></label></div></div></div></div><section id=\"vendor-list-content\"><div id=\"vendors-list-text\" class=\"ot-sdk-row\"><div class=\"ot-sdk-column\"><ul id=\"hosts-list-container\"><li class=\"host-item\"><input title=\"Host Accordion\" type=\"checkbox\" class=\"host-box\" tabindex=\"13\"><section class=\"accordion-header\"><div class=\"host-info\"><h3 class=\"host-title\">33Across</h3><h4 class=\"host-description\">host description</h4><!-- view third party cookie link with arrow --><div class=\"host-notice\"><h4>View Cookies</h4><div class=\"arrow-container\"></div></div></div><!-- Checkbox --><div class=\"ot-checkbox\"><input id=\"REPLACE-WITH-DYANMIC-HOST-ID\" class=\"host-checkbox-handler group-option-box\" type=\"checkbox\" tabindex=\"14\"> <label for=\"REPLACE-WITH-DYANMIC-HOST-ID\"><span class=\"label-text\">REPLACE-WITH-DYANMIC-HOST-ID</span></label></div><!-- Checkbox END --></section><div class=\"accordion-text\"><div class=\"host-options\"><!-- HOST LIST VIEW UPDATE *** --><ul class=\"host-option-group\"><li class=\"vendor-host\"><div class=\"cookie-name-container\"><div>Name</div><div>cookie name</div></div><div class=\"cookie-host-container\"><div>Host</div><div>cookie host</div></div><div class=\"cookie-duration-container\"><div>Duration</div><div>cookie duration</div></div><div class=\"cookie-type-container\"><div>Type</div><div>cookie type</div></div><div class=\"cookie-category-container\"><div>Category</div><div>cookie category</div></div><div class=\"cookie-description-container\"><div>Description</div><div>cookie category</div></div></li></ul><!-- HOST LIST VIEW UPDATE END *** --></div></div></li></ul><ul id=\"vendors-list-container\"><li class=\"vendor-item\"><input title=\"Vendor Accordion\" type=\"checkbox\" class=\"vendor-box\" tabindex=\"15\"><section class=\"accordion-header\"><div class=\"vendor-info\"><h3 class=\"vendor-title\">33Across</h3><a class=\"vendor-privacy-notice\" href=\"#\">View Privacy Notice</a></div><div class=\"vendor-purposes\"><p>3 Purposes</p></div><div class=\"toggle-group\"><!-- Checkbox --><div class=\"ot-checkbox\"><input id=\"REPLACE-WITH-DYANMIC-VENDOR-ID\" class=\"vendor-checkbox vendor-checkbox-handler group-option-box\" type=\"checkbox\" tabindex=\"16\"> <label for=\"REPLACE-WITH-DYANMIC-VENDOR-ID\"><span class=\"label-text\">REPLACE-WITH-DYANMIC-VENDOR-ID</span></label></div><!-- Checkbox END --><div class=\"arrow-container\"><svg class=\"arrow\" xmlns=\"http://www.w3.org/2000/svg\" xmlns:xlink=\"http://www.w3.org/1999/xlink\" x=\"0px\" y=\"0px\" width=\"10px\" height=\"10px\" viewBox=\"0 0 451.846 451.847\" style=\"enable-background:new 0 0 451.846 451.847;\" xml:space=\"preserve\"><title>Arrow</title><g><path fill=\"#7b7b7b\" d=\"M345.441,248.292L151.154,442.573c-12.359,12.365-32.397,12.365-44.75,0c-12.354-12.354-12.354-32.391,0-44.744\n",
      "                        L278.318,225.92L106.409,54.017c-12.354-12.359-12.354-32.394,0-44.748c12.354-12.359,32.391-12.359,44.75,0l194.287,194.284\n",
      "                        c6.177,6.18,9.262,14.271,9.262,22.366C354.708,234.018,351.617,242.115,345.441,248.292z\"></path></g></svg></div></div></section><div class=\"accordion-text\"><div class=\"vendor-options\"><!-- VENDOR PURPOSE UPDATE *** --><div class=\"vendor-purpose-groups\"><!-- vendor purposes --><div class=\"vendor-option vendor-option-purpose\"><p>Consent Purposes</p></div><div class=\"vendor-consent-group\"><p class=\"consent-category\">Location Based Ads</p><p class=\"consent-status\">Consent Allowed</p></div><!-- vendor legitimate interest purposes --><div class=\"vendor-option vendor-option-purpose legitimate-interest\"><p>Legitimate Interest Purposes</p></div><div class=\"vendor-consent-group legitimate-interest-group\"><p class=\"consent-category\">Personalize</p><a href=\"#\" class=\"vendor-opt-out-handler\"><div class=\"op-out-group\"><span>Require Opt-Out</span> <svg x=\"0px\" y=\"0px\" width=\"15\" height=\"15\" viewBox=\"0 0 511.626 511.627\" style=\"enable-background:new 0 0 511.626 511.627;\" xml:space=\"preserve\"><g fill=\"#718593\"><g><path d=\"M392.857,292.354h-18.274c-2.669,0-4.859,0.855-6.563,2.573c-1.718,1.708-2.573,3.897-2.573,6.563v91.361\n",
      "                                  c0,12.563-4.47,23.315-13.415,32.262c-8.945,8.945-19.701,13.414-32.264,13.414H82.224c-12.562,0-23.317-4.469-32.264-13.414\n",
      "                                  c-8.945-8.946-13.417-19.698-13.417-32.262V155.31c0-12.562,4.471-23.313,13.417-32.259c8.947-8.947,19.702-13.418,32.264-13.418\n",
      "                                  h200.994c2.669,0,4.859-0.859,6.57-2.57c1.711-1.713,2.566-3.9,2.566-6.567V82.221c0-2.662-0.855-4.853-2.566-6.563\n",
      "                                  c-1.711-1.713-3.901-2.568-6.57-2.568H82.224c-22.648,0-42.016,8.042-58.102,24.125C8.042,113.297,0,132.665,0,155.313v237.542\n",
      "                                  c0,22.647,8.042,42.018,24.123,58.095c16.086,16.084,35.454,24.13,58.102,24.13h237.543c22.647,0,42.017-8.046,58.101-24.13\n",
      "                                  c16.085-16.077,24.127-35.447,24.127-58.095v-91.358c0-2.669-0.856-4.859-2.574-6.57\n",
      "                                  C397.709,293.209,395.519,292.354,392.857,292.354z\"></path><path d=\"M506.199,41.971c-3.617-3.617-7.905-5.424-12.85-5.424H347.171c-4.948,0-9.233,1.807-12.847,5.424\n",
      "                                  c-3.617,3.615-5.428,7.898-5.428,12.847s1.811,9.233,5.428,12.85l50.247,50.248L198.424,304.067\n",
      "                                  c-1.906,1.903-2.856,4.093-2.856,6.563c0,2.479,0.953,4.668,2.856,6.571l32.548,32.544c1.903,1.903,4.093,2.852,6.567,2.852\n",
      "                                  s4.665-0.948,6.567-2.852l186.148-186.148l50.251,50.248c3.614,3.617,7.898,5.426,12.847,5.426s9.233-1.809,12.851-5.426\n",
      "                                  c3.617-3.616,5.424-7.898,5.424-12.847V54.818C511.626,49.866,509.813,45.586,506.199,41.971z\"></path></g></g></svg></div></a></div><!-- Vendor features --><div class=\"vendor-option-purpose vendor-feature\"><p>Features</p></div><div class=\"vendor-consent-group vendor-feature-group\"><p class=\"consent-category\">Location Based Ads</p></div></div><!-- VENDOR PURPOSE UPDATE END *** --></div></div></li></ul></div></div></section><div id=\"vendor-list-save-btn\" class=\"save-preference-btn-container\"><button class=\"save-preference-btn-handler onetrust-close-btn-handler button-theme\" aria-label=\"SAVE MY CHANGES\" role=\"button\" cobrowse=\"viewonly\">SAVE MY CHANGES</button><div class=\"pc-footer-logo\"><a class=\"powered-by-logo\" href=\"https://onetrust.com/poweredbyonetrust\" target=\"_blank\" rel=\"noopener\" aria-label=\"Powered by Onetrust\"></a></div></div></section></div><div id=\"onetrust-banner-sdk\" class=\"otFlat vertical-align-content bottom\" style=\"bottom: -99px; animation-name: slide-down-custom; animation-duration: 1000ms; animation-fill-mode: forwards; animation-timing-function: ease-out;\"><div class=\"ot-sdk-container\"><div class=\"ot-sdk-row\"><div id=\"onetrust-group-container\" class=\"ot-sdk-eight ot-sdk-columns\" data-gtm-vis-recent-on-screen-7091197_1518=\"66520\" data-gtm-vis-first-on-screen-7091197_1518=\"66520\" data-gtm-vis-total-visible-time-7091197_1518=\"100\" data-gtm-vis-has-fired-7091197_1518=\"1\"><div class=\"banner_logo\"></div><div id=\"onetrust-policy\"><h3 id=\"onetrust-policy-title\">Cookie Consent</h3><!-- Mobile Close Button --><div id=\"onetrust-close-btn-container-mobile\" class=\"hide-large\"></div><!-- Mobile Close Button END--><p id=\"onetrust-policy-text\">We and our partners use cookies to improve your experience and offer you personalized features on the site, measure the effectiveness of our services, and tailor ads and content to your interests while you navigate on the web or interact with us across devices. You can choose to accept all of these cookies or only some. To learn more and manage your preferences, click the \"Manage Settings\" link.<a href=\"https://www.forever21.com/us/shop/info/privacypolicy\" tabindex=\"0\">Privacy Policy</a></p></div></div><div id=\"onetrust-button-group-parent\" class=\"ot-sdk-three ot-sdk-columns\"><div id=\"onetrust-button-group\"><button id=\"onetrust-pc-btn-handler\" title=\"Open Preference Center Button\" class=\"cookie-setting-link\" tabindex=\"0\" cobrowse=\"viewonly\">Manage Settings</button>  <button id=\"onetrust-accept-btn-handler\" title=\"Accept Cookies Button\" tabindex=\"0\" cobrowse=\"viewonly\">Accept All Cookies</button></div></div><!-- Close Button --><div id=\"onetrust-close-btn-container\" class=\"ot-sdk-one ot-sdk-column hide-small\"></div><!-- Close Button END--></div></div></div></div>\n"
     ]
    }
   ],
   "source": [
    "# url 42\n",
    "i = urls[41]\n",
    "#open_url(i)\n",
    "element = driver.find_element_by_css_selector('#onetrust-consent-sdk')\n",
    "source = element.get_attribute(\"outerHTML\")\n",
    "print(source)\n",
    "ad_type = \"sticky\"\n",
    "data.append({\"TYPE\" : ad_type, \"ad_code\" : source, \"URL\" : i})"
   ]
  },
  {
   "cell_type": "code",
   "execution_count": 349,
   "metadata": {
    "collapsed": true
   },
   "outputs": [
    {
     "name": "stdout",
     "output_type": "stream",
     "text": [
      "<section id=\"js-emailSignUpPopup\" class=\"email-sign-up-popup email-sign-up-popup--is-active\">\n",
      "    <div class=\"email-sign-up-popup__wrapper\">\n",
      "        <button id=\"js-cancel\" class=\"page-overlay__close-button\" data-page-overlay-close=\"\" aria-label=\"Close the dialog\">×</button>\n",
      "        \n",
      "        <form id=\"js-emailSignUp\" action=\"/webstore/api/responsys/newsletter/signUp\" method=\"post\" class=\"email-sign-up-popup__form\">\n",
      "            <input type=\"hidden\" name=\"\" value=\"\">\n",
      "\n",
      "            <p class=\"email-sign-up-popup__text\">\n",
      "                <span class=\"email-sign-up-popup__line-1\">10% off</span>\n",
      "                <span class=\"email-sign-up-popup__line-2\">on your next purchase<sup class=\"email-sign-up-popup__asterix\">*</sup></span>\n",
      "            </p>\n",
      "\n",
      "            <p class=\"email-sign-up-popup__line-3\">*Exclusions apply</p>\n",
      "\n",
      "            <p class=\"email-sign-up-popup__body\">Sign up to our newsletter to receive your 10% off code</p>\n",
      "\n",
      "            <div class=\"email-sign-up-popup__field-wrapper\">\n",
      "                <input type=\"email\" id=\"js-emailSignUpEmail\" class=\"email-sign-up-popup__input-field\" name=\"email\" placeholder=\"Enter email address\" required=\"\">\n",
      "                <input type=\"submit\" value=\"Sign up\" class=\"button email-sign-up-popup__submit\">\n",
      "            </div>\n",
      "            \n",
      "            <div class=\"email-sign-up-popup__input-error\"></div>\n",
      "\n",
      "            <svg class=\"spinner\" viewBox=\"0 0 40 40\">\n",
      "\t<circle cx=\"20\" cy=\"20\" r=\"18\" x=\"0\" y=\"0\"></circle>\n",
      "</svg>\n",
      "\n",
      "\n",
      "            <div class=\"email-sign-up-popup__privacy-policy\">I accept the\n",
      "                <a href=\"/webstore/static/customerservice/customer_privacy_policy.do\" class=\"email-sign-up-popup__privacy-link\">privacy policy</a> &amp;\n",
      "                <a href=\"/webstore/static/customerservice/terms_and_conditions.do\" class=\"email-sign-up-popup__privacy-link\">terms and conditions</a>\n",
      "            </div>\n",
      "        </form>\n",
      "\n",
      "        \n",
      "        <div id=\"js-userNewsletterSubscribedSuccess\" class=\"email-sign-up-popup__response\" hidden=\"\">\n",
      "            <span class=\"email-sign-up-popup__line-2\">Thank you!</span>\n",
      "            <p>You are now set to receive our newsletter.</p>\n",
      "            <button id=\"js-returnToSite\" class=\"button email-sign-up-popup__close-thank-you\" data-page-overlay-close=\"\">Continue Shopping</button>\n",
      "        </div>\n",
      "\n",
      "        \n",
      "        <div id=\"js-userAlredySubscribedToNewsletter\" class=\"email-sign-up-popup__response\" hidden=\"\">\n",
      "            <span class=\"email-sign-up-popup__line-2\">Already subscribed</span>\n",
      "            <p>You are already subscribed to receive our newsletter.</p>\n",
      "            <button id=\"js-returnToSite\" class=\"button email-sign-up-popup__close-thank-you\" data-page-overlay-close=\"\">Continue Shopping</button>\n",
      "        </div>\n",
      "\n",
      "        \n",
      "        <div id=\"js-failed403\" class=\"email-sign-up-popup__response\" hidden=\"\">\n",
      "            <span class=\"email-sign-up-popup__line-2\">Session timeout</span>\n",
      "            <p>We believe your session has timed-out. Please refresh this page and try again.</p>\n",
      "            <button id=\"js-returnToSite\" class=\"button email-sign-up-popup__close-refresh\" data-page-overlay-close=\"\">Refresh page</button>\n",
      "        </div>\n",
      "    </div>\n",
      "</section>\n"
     ]
    }
   ],
   "source": [
    "# url 43\n",
    "i = urls[42]\n",
    "#open_url(i)\n",
    "element = driver.find_element_by_css_selector('#js-emailSignUpPopup')\n",
    "source = element.get_attribute(\"outerHTML\")\n",
    "print(source)\n",
    "ad_type = \"sticky\"\n",
    "data.append({\"TYPE\" : ad_type, \"ad_code\" : source, \"URL\" : i})"
   ]
  },
  {
   "cell_type": "code",
   "execution_count": 352,
   "metadata": {
    "collapsed": true
   },
   "outputs": [
    {
     "name": "stdout",
     "output_type": "stream",
     "text": [
      "<div class=\"cookie-message cookie-message--show\" id=\"js-cookie\">\n",
      "\t<div class=\"cookie-message__container\">\n",
      "\t\t<div class=\"cookie-message__wrapper\">\n",
      "\t\t\t<div class=\"cookie-message__description\">\n",
      "\t\t\t\t<p>We use cookies to give you a better service. To learn more about them and how to prevent cookies being set, see our <a class=\"cookie-message__link\" href=\"/webstore/static/customerservice/customer_cookies_policy.do\">Cookie Policy</a>.</p>\n",
      "\t\t\t\t<p>If you click I ACCEPT or close this banner, you signify your consent to the use of these cookies.</p>\n",
      "\t\t\t</div>\n",
      "\t\t\t<button id=\"js-cookie-close\" type=\"button\" class=\"button button--interaction\" value=\"Close\">I accept</button>\n",
      "\t\t</div>\n",
      "\t\t<button id=\"js-cookie-close-icon\" type=\"button\" class=\"cookie-message__button\" value=\"Close\">×<span>Close</span></button>\n",
      "\t</div>\n",
      "</div>\n"
     ]
    }
   ],
   "source": [
    "# url 44\n",
    "i = urls[43]\n",
    "#open_url(i)\n",
    "element = driver.find_element_by_css_selector('#js-cookie')\n",
    "source = element.get_attribute(\"outerHTML\")\n",
    "print(source)\n",
    "ad_type = \"sticky\"\n",
    "data.append({\"TYPE\" : ad_type, \"ad_code\" : source, \"URL\" : i})"
   ]
  },
  {
   "cell_type": "code",
   "execution_count": 359,
   "metadata": {
    "collapsed": true
   },
   "outputs": [
    {
     "name": "stdout",
     "output_type": "stream",
     "text": [
      "<div class=\"cookie-bar-container\" style=\"display: block;\">\n",
      "    <div class=\"cookie-bar\">\n",
      "        <div class=\"cookie-bar-left float-left\">\n",
      "           We use cookies to enhance your experience and improve the quality of our site. To find more or to learn how you can adjust your cookies settings,  <span><a href=\"/row-en/cookies.html\"> click here.</a></span>\n",
      "        </div>\n",
      "        <div class=\"cookie-bar-right\">\n",
      "           <div class=\"float-left\" id=\"cookie-bar-radio-label\">\n",
      "                I accept the <span><a href=\"/row-en/privacy.html\"> Privacy Policy </a></span> and <span><a href=\"/row-en/terms.html\"> Terms of Use </a></span>\n",
      "           </div>\n",
      "           <div class=\"radio-button inline-block\">\n",
      "                <input class=\"input-radio\" type=\"submit\" name=\"cookie-bar-radio-btn\" id=\"cookie-bar-radio-btn\" aria-labelledby=\"cookie-bar-radio-label\" value=\"\">\n",
      "           </div>\n",
      "           <div class=\"clear-both\"></div>\n",
      "        </div>\n",
      "    </div>\n",
      "</div>\n"
     ]
    }
   ],
   "source": [
    "# url 45\n",
    "i = urls[44]\n",
    "#open_url(i)\n",
    "element = driver.find_element_by_css_selector('.cookie-bar-container')\n",
    "source = element.get_attribute(\"outerHTML\")\n",
    "print(source)\n",
    "ad_type = \"sticky\"\n",
    "data.append({\"TYPE\" : ad_type, \"ad_code\" : source, \"URL\" : i})"
   ]
  },
  {
   "cell_type": "code",
   "execution_count": 362,
   "metadata": {
    "collapsed": true
   },
   "outputs": [
    {
     "name": "stdout",
     "output_type": "stream",
     "text": [
      "<div id=\"cloudIqPersistentOverlay\" style=\"width: 100%; height: 160px; z-index: 2147483647; display: block;\"><iframe src=\"//content.cloud-iq.com/widgets/overlay/hearst_magazines/branded_sites/hearst_newsletter_banner_prima.html\" marginheight=\"0\" marginwidth=\"0\" id=\"cloudiqPersistentOverlayIframe\" style=\"z-index: 2147483647; width: 100%; height: 160px; position: fixed; bottom: 0px;\" frameborder=\"0\"></iframe><div id=\"cloudIqOverlayBackground\"></div></div>\n"
     ]
    }
   ],
   "source": [
    "# url 46\n",
    "i = urls[45]\n",
    "#open_url(i)\n",
    "element = driver.find_element_by_css_selector('#cloudIqPersistentOverlay')\n",
    "source = element.get_attribute(\"outerHTML\")\n",
    "print(source)\n",
    "ad_type = \"sticky\"\n",
    "data.append({\"TYPE\" : ad_type, \"ad_code\" : source, \"URL\" : i})"
   ]
  },
  {
   "cell_type": "code",
   "execution_count": 366,
   "metadata": {
    "collapsed": true
   },
   "outputs": [
    {
     "name": "stdout",
     "output_type": "stream",
     "text": [
      "<div id=\"adhesion_desktop_wrapper\" class=\"adhesion_wrapper mv-dynamic-size adhesion_container\" data-wrapper=\"adhesion_desktop\" style=\"min-height: 90px; display: flex;\">\n",
      "\n",
      "        <div id=\"adhesion_desktop\" class=\"adunit\" data-google-query-id=\"CLrJt6ffyecCFUZcvQodMjoDiw\"><div id=\"google_ads_iframe_/1030006/studioknit/adhesion_0__container__\" style=\"border: 0pt none;\"><iframe id=\"google_ads_iframe_/1030006/studioknit/adhesion_0\" title=\"3rd party ad content\" name=\"google_ads_iframe_/1030006/studioknit/adhesion_0\" scrolling=\"no\" marginwidth=\"0\" marginheight=\"0\" style=\"border: 0px none; vertical-align: bottom; height: 90px; width: 970px;\" srcdoc=\"\" data-google-container-id=\"1\" data-load-complete=\"true\" width=\"970\" height=\"90\" frameborder=\"0\"></iframe></div></div>\n",
      "        <div class=\"adhesion_buttons adhesion_desktop\">\n",
      "          <span class=\"mv_close_button mv_unbutton\" role=\"button\" aria-label=\"Close ad\">\n",
      "            <object id=\"iconCloseSvg\" data=\"data:image/svg+xml;base64,PD94bWwgdmVyc2lvbj0iMS4wIiBlbmNvZGluZz0iVVRGLTgiPz4KPHN2ZyB3aWR0aD0iMTRweCIgaGVpZ2h0PSIxNHB4IiB2aWV3Qm94PSIwIDAgMTQgMTQiIHZlcnNpb249IjEuMSIgeG1sbnM9Imh0dHA6Ly93d3cudzMub3JnLzIwMDAvc3ZnIiB4bWxuczp4bGluaz0iaHR0cDovL3d3dy53My5vcmcvMTk5OS94bGluayI+CiAgPHN0eWxlPgogICAgI2ljb25DbG9zZSB7CiAgICAgIGZpbGw6ICNhYWFhYWE7CiAgICB9CiAgPC9zdHlsZT4KICA8ZyBpZD0iUGFnZS0xIiBzdHJva2U9Im5vbmUiIHN0cm9rZS13aWR0aD0iMSIgZmlsbD0ibm9uZSIgZmlsbC1ydWxlPSJldmVub2RkIj4KICAgIDxnIGlkPSJhc3NldHMiIHRyYW5zZm9ybT0idHJhbnNsYXRlKC0zNTkuMDAwMDAwLCAtMTAzLjAwMDAwMCkiPgogICAgICA8cG9seWdvbiBpZD0iaWNvbkNsb3NlIiBwb2ludHM9IjM3Mi4xNTI3ODYgMTAzIDM2Ni4wMDA1OTkgMTA5LjE1MzM4NSAzNTkuODQ3MjE0IDEwMyAzNTkgMTAzLjg0NzIxNCAzNjUuMTUyMTg3IDExMC4wMDA1OTkgMzU5IDExNi4xNTI3ODYgMzU5Ljg0NzIxNCAxMTcgMzY2LjAwMDU5OSAxMTAuODQ2NjE1IDM3Mi4xNTI3ODYgMTE3IDM3MyAxMTYuMTUyNzg2IDM2Ni44NDY2MTUgMTEwLjAwMDU5OSAzNzMgMTAzLjg0NzIxNCI+PC9wb2x5Z29uPgogICAgPC9nPgogIDwvZz4KPC9zdmc+\" type=\"image/svg+xml\">\n",
      "              Close ad\n",
      "            </object>\n",
      "          </span>\n",
      "        </div>\n",
      "      </div>\n"
     ]
    }
   ],
   "source": [
    "# url 47\n",
    "i = urls[46]\n",
    "#open_url(i)\n",
    "element = driver.find_element_by_css_selector('#adhesion_desktop_wrapper')\n",
    "source = element.get_attribute(\"outerHTML\")\n",
    "print(source)\n",
    "ad_type = \"sticky\"\n",
    "data.append({\"TYPE\" : ad_type, \"ad_code\" : source, \"URL\" : i})"
   ]
  },
  {
   "cell_type": "code",
   "execution_count": 371,
   "metadata": {
    "collapsed": true
   },
   "outputs": [
    {
     "name": "stdout",
     "output_type": "stream",
     "text": [
      "<div id=\"adhesion_desktop_wrapper\" class=\"adhesion_wrapper mv-dynamic-size adhesion_container\" data-wrapper=\"adhesion_desktop\" style=\"min-height: 90px; display: flex;\">\n",
      "\n",
      "        <div id=\"adhesion_desktop\" class=\"adunit\" data-google-query-id=\"CNq5mrziyecCFY0OXAodrN4PDA\"><div id=\"google_ads_iframe_/1030006/studioknit/adhesion_0__container__\" style=\"border: 0pt none;\"><iframe id=\"google_ads_iframe_/1030006/studioknit/adhesion_0\" title=\"3rd party ad content\" name=\"google_ads_iframe_/1030006/studioknit/adhesion_0\" scrolling=\"no\" marginwidth=\"0\" marginheight=\"0\" style=\"border: 0px none; vertical-align: bottom; height: 90px; width: 728px;\" srcdoc=\"\" data-google-container-id=\"1\" data-load-complete=\"true\" width=\"728\" height=\"90\" frameborder=\"0\"></iframe></div></div>\n",
      "        <div class=\"adhesion_buttons adhesion_desktop\">\n",
      "          <span class=\"mv_close_button mv_unbutton\" role=\"button\" aria-label=\"Close ad\">\n",
      "            <object id=\"iconCloseSvg\" data=\"data:image/svg+xml;base64,PD94bWwgdmVyc2lvbj0iMS4wIiBlbmNvZGluZz0iVVRGLTgiPz4KPHN2ZyB3aWR0aD0iMTRweCIgaGVpZ2h0PSIxNHB4IiB2aWV3Qm94PSIwIDAgMTQgMTQiIHZlcnNpb249IjEuMSIgeG1sbnM9Imh0dHA6Ly93d3cudzMub3JnLzIwMDAvc3ZnIiB4bWxuczp4bGluaz0iaHR0cDovL3d3dy53My5vcmcvMTk5OS94bGluayI+CiAgPHN0eWxlPgogICAgI2ljb25DbG9zZSB7CiAgICAgIGZpbGw6ICNhYWFhYWE7CiAgICB9CiAgPC9zdHlsZT4KICA8ZyBpZD0iUGFnZS0xIiBzdHJva2U9Im5vbmUiIHN0cm9rZS13aWR0aD0iMSIgZmlsbD0ibm9uZSIgZmlsbC1ydWxlPSJldmVub2RkIj4KICAgIDxnIGlkPSJhc3NldHMiIHRyYW5zZm9ybT0idHJhbnNsYXRlKC0zNTkuMDAwMDAwLCAtMTAzLjAwMDAwMCkiPgogICAgICA8cG9seWdvbiBpZD0iaWNvbkNsb3NlIiBwb2ludHM9IjM3Mi4xNTI3ODYgMTAzIDM2Ni4wMDA1OTkgMTA5LjE1MzM4NSAzNTkuODQ3MjE0IDEwMyAzNTkgMTAzLjg0NzIxNCAzNjUuMTUyMTg3IDExMC4wMDA1OTkgMzU5IDExNi4xNTI3ODYgMzU5Ljg0NzIxNCAxMTcgMzY2LjAwMDU5OSAxMTAuODQ2NjE1IDM3Mi4xNTI3ODYgMTE3IDM3MyAxMTYuMTUyNzg2IDM2Ni44NDY2MTUgMTEwLjAwMDU5OSAzNzMgMTAzLjg0NzIxNCI+PC9wb2x5Z29uPgogICAgPC9nPgogIDwvZz4KPC9zdmc+\" type=\"image/svg+xml\">\n",
      "              Close ad\n",
      "            </object>\n",
      "          </span>\n",
      "        </div>\n",
      "      </div>\n"
     ]
    }
   ],
   "source": [
    "# url 48\n",
    "i = urls[47]\n",
    "#open_url(i)\n",
    "element = driver.find_element_by_css_selector('#adhesion_desktop_wrapper')\n",
    "source = element.get_attribute(\"outerHTML\")\n",
    "print(source)\n",
    "ad_type = \"sticky\"\n",
    "data.append({\"TYPE\" : ad_type, \"ad_code\" : source, \"URL\" : i})"
   ]
  },
  {
   "cell_type": "code",
   "execution_count": 374,
   "metadata": {
    "collapsed": true
   },
   "outputs": [
    {
     "name": "stdout",
     "output_type": "stream",
     "text": [
      "<div id=\"adhesion_desktop_wrapper\" class=\"adhesion_wrapper mv-dynamic-size adhesion_container\" data-wrapper=\"adhesion_desktop\" style=\"min-height: 90px; display: flex;\">\n",
      "\n",
      "        <div id=\"adhesion_desktop\" class=\"adunit\" data-google-query-id=\"CIyX5djiyecCFZUAXAod-GoNow\"><div id=\"google_ads_iframe_/1030006/studioknit/adhesion_0__container__\" style=\"border: 0pt none;\"><iframe id=\"google_ads_iframe_/1030006/studioknit/adhesion_0\" title=\"3rd party ad content\" name=\"google_ads_iframe_/1030006/studioknit/adhesion_0\" scrolling=\"no\" marginwidth=\"0\" marginheight=\"0\" style=\"border: 0px none; vertical-align: bottom; height: 90px; width: 970px;\" srcdoc=\"\" data-google-container-id=\"1\" data-load-complete=\"true\" width=\"970\" height=\"90\" frameborder=\"0\"></iframe></div></div>\n",
      "        <div class=\"adhesion_buttons adhesion_desktop\">\n",
      "          <span class=\"mv_close_button mv_unbutton\" role=\"button\" aria-label=\"Close ad\">\n",
      "            <object id=\"iconCloseSvg\" data=\"data:image/svg+xml;base64,PD94bWwgdmVyc2lvbj0iMS4wIiBlbmNvZGluZz0iVVRGLTgiPz4KPHN2ZyB3aWR0aD0iMTRweCIgaGVpZ2h0PSIxNHB4IiB2aWV3Qm94PSIwIDAgMTQgMTQiIHZlcnNpb249IjEuMSIgeG1sbnM9Imh0dHA6Ly93d3cudzMub3JnLzIwMDAvc3ZnIiB4bWxuczp4bGluaz0iaHR0cDovL3d3dy53My5vcmcvMTk5OS94bGluayI+CiAgPHN0eWxlPgogICAgI2ljb25DbG9zZSB7CiAgICAgIGZpbGw6ICNhYWFhYWE7CiAgICB9CiAgPC9zdHlsZT4KICA8ZyBpZD0iUGFnZS0xIiBzdHJva2U9Im5vbmUiIHN0cm9rZS13aWR0aD0iMSIgZmlsbD0ibm9uZSIgZmlsbC1ydWxlPSJldmVub2RkIj4KICAgIDxnIGlkPSJhc3NldHMiIHRyYW5zZm9ybT0idHJhbnNsYXRlKC0zNTkuMDAwMDAwLCAtMTAzLjAwMDAwMCkiPgogICAgICA8cG9seWdvbiBpZD0iaWNvbkNsb3NlIiBwb2ludHM9IjM3Mi4xNTI3ODYgMTAzIDM2Ni4wMDA1OTkgMTA5LjE1MzM4NSAzNTkuODQ3MjE0IDEwMyAzNTkgMTAzLjg0NzIxNCAzNjUuMTUyMTg3IDExMC4wMDA1OTkgMzU5IDExNi4xNTI3ODYgMzU5Ljg0NzIxNCAxMTcgMzY2LjAwMDU5OSAxMTAuODQ2NjE1IDM3Mi4xNTI3ODYgMTE3IDM3MyAxMTYuMTUyNzg2IDM2Ni44NDY2MTUgMTEwLjAwMDU5OSAzNzMgMTAzLjg0NzIxNCI+PC9wb2x5Z29uPgogICAgPC9nPgogIDwvZz4KPC9zdmc+\" type=\"image/svg+xml\">\n",
      "              Close ad\n",
      "            </object>\n",
      "          </span>\n",
      "        </div>\n",
      "      </div>\n"
     ]
    }
   ],
   "source": [
    "# url 49\n",
    "i = urls[48]\n",
    "#open_url(i)\n",
    "element = driver.find_element_by_css_selector('#adhesion_desktop_wrapper')\n",
    "source = element.get_attribute(\"outerHTML\")\n",
    "print(source)\n",
    "ad_type = \"sticky\"\n",
    "data.append({\"TYPE\" : ad_type, \"ad_code\" : source, \"URL\" : i})"
   ]
  },
  {
   "cell_type": "code",
   "execution_count": 377,
   "metadata": {
    "collapsed": true
   },
   "outputs": [
    {
     "name": "stdout",
     "output_type": "stream",
     "text": [
      "<div id=\"adhesion_desktop_wrapper\" class=\"adhesion_wrapper mv-dynamic-size adhesion_container\" data-wrapper=\"adhesion_desktop\" style=\"min-height: 90px; display: flex;\">\n",
      "\n",
      "        <div id=\"adhesion_desktop\" class=\"adunit\" data-google-query-id=\"CM_uivXiyecCFRkllgodUiMF1A\"><div id=\"google_ads_iframe_/1030006/studioknit/adhesion_0__container__\" style=\"border: 0pt none;\"><iframe id=\"google_ads_iframe_/1030006/studioknit/adhesion_0\" title=\"3rd party ad content\" name=\"google_ads_iframe_/1030006/studioknit/adhesion_0\" scrolling=\"no\" marginwidth=\"0\" marginheight=\"0\" style=\"border: 0px none; vertical-align: bottom; height: 90px; width: 970px;\" srcdoc=\"\" data-google-container-id=\"1\" data-load-complete=\"true\" width=\"970\" height=\"90\" frameborder=\"0\"></iframe></div></div>\n",
      "        <div class=\"adhesion_buttons adhesion_desktop\">\n",
      "          <span class=\"mv_close_button mv_unbutton\" role=\"button\" aria-label=\"Close ad\">\n",
      "            <object id=\"iconCloseSvg\" data=\"data:image/svg+xml;base64,PD94bWwgdmVyc2lvbj0iMS4wIiBlbmNvZGluZz0iVVRGLTgiPz4KPHN2ZyB3aWR0aD0iMTRweCIgaGVpZ2h0PSIxNHB4IiB2aWV3Qm94PSIwIDAgMTQgMTQiIHZlcnNpb249IjEuMSIgeG1sbnM9Imh0dHA6Ly93d3cudzMub3JnLzIwMDAvc3ZnIiB4bWxuczp4bGluaz0iaHR0cDovL3d3dy53My5vcmcvMTk5OS94bGluayI+CiAgPHN0eWxlPgogICAgI2ljb25DbG9zZSB7CiAgICAgIGZpbGw6ICNhYWFhYWE7CiAgICB9CiAgPC9zdHlsZT4KICA8ZyBpZD0iUGFnZS0xIiBzdHJva2U9Im5vbmUiIHN0cm9rZS13aWR0aD0iMSIgZmlsbD0ibm9uZSIgZmlsbC1ydWxlPSJldmVub2RkIj4KICAgIDxnIGlkPSJhc3NldHMiIHRyYW5zZm9ybT0idHJhbnNsYXRlKC0zNTkuMDAwMDAwLCAtMTAzLjAwMDAwMCkiPgogICAgICA8cG9seWdvbiBpZD0iaWNvbkNsb3NlIiBwb2ludHM9IjM3Mi4xNTI3ODYgMTAzIDM2Ni4wMDA1OTkgMTA5LjE1MzM4NSAzNTkuODQ3MjE0IDEwMyAzNTkgMTAzLjg0NzIxNCAzNjUuMTUyMTg3IDExMC4wMDA1OTkgMzU5IDExNi4xNTI3ODYgMzU5Ljg0NzIxNCAxMTcgMzY2LjAwMDU5OSAxMTAuODQ2NjE1IDM3Mi4xNTI3ODYgMTE3IDM3MyAxMTYuMTUyNzg2IDM2Ni44NDY2MTUgMTEwLjAwMDU5OSAzNzMgMTAzLjg0NzIxNCI+PC9wb2x5Z29uPgogICAgPC9nPgogIDwvZz4KPC9zdmc+\" type=\"image/svg+xml\">\n",
      "              Close ad\n",
      "            </object>\n",
      "          </span>\n",
      "        </div>\n",
      "      </div>\n"
     ]
    }
   ],
   "source": [
    "# url 50\n",
    "i = urls[49]\n",
    "#open_url(i)\n",
    "element = driver.find_element_by_css_selector('#adhesion_desktop_wrapper')\n",
    "source = element.get_attribute(\"outerHTML\")\n",
    "print(source)\n",
    "ad_type = \"sticky\"\n",
    "data.append({\"TYPE\" : ad_type, \"ad_code\" : source, \"URL\" : i})"
   ]
  },
  {
   "cell_type": "code",
   "execution_count": 383,
   "metadata": {
    "collapsed": true
   },
   "outputs": [
    {
     "name": "stdout",
     "output_type": "stream",
     "text": [
      "<div id=\"adhesion_desktop_wrapper\" class=\"adhesion_wrapper mv-dynamic-size adhesion_container\" data-wrapper=\"adhesion_desktop\" style=\"min-height: 90px; display: flex;\">\n",
      "\n",
      "        <div id=\"adhesion_desktop\" class=\"adunit\" data-google-query-id=\"CPivuN3myecCFZeMlgodTEYP2A\"><div id=\"google_ads_iframe_/1030006/studioknit/adhesion_0__container__\" style=\"border: 0pt none;\"><iframe id=\"google_ads_iframe_/1030006/studioknit/adhesion_0\" title=\"3rd party ad content\" name=\"google_ads_iframe_/1030006/studioknit/adhesion_0\" scrolling=\"no\" marginwidth=\"0\" marginheight=\"0\" style=\"border: 0px none; vertical-align: bottom; height: 90px; width: 728px;\" srcdoc=\"\" sandbox=\"allow-forms allow-pointer-lock allow-popups allow-popups-to-escape-sandbox allow-same-origin allow-scripts allow-top-navigation-by-user-activation\" data-google-container-id=\"1\" data-load-complete=\"true\" width=\"728\" height=\"90\" frameborder=\"0\"></iframe></div></div>\n",
      "        <div class=\"adhesion_buttons adhesion_desktop\">\n",
      "          <span class=\"mv_close_button mv_unbutton\" role=\"button\" aria-label=\"Close ad\">\n",
      "            <object id=\"iconCloseSvg\" data=\"data:image/svg+xml;base64,PD94bWwgdmVyc2lvbj0iMS4wIiBlbmNvZGluZz0iVVRGLTgiPz4KPHN2ZyB3aWR0aD0iMTRweCIgaGVpZ2h0PSIxNHB4IiB2aWV3Qm94PSIwIDAgMTQgMTQiIHZlcnNpb249IjEuMSIgeG1sbnM9Imh0dHA6Ly93d3cudzMub3JnLzIwMDAvc3ZnIiB4bWxuczp4bGluaz0iaHR0cDovL3d3dy53My5vcmcvMTk5OS94bGluayI+CiAgPHN0eWxlPgogICAgI2ljb25DbG9zZSB7CiAgICAgIGZpbGw6ICNhYWFhYWE7CiAgICB9CiAgPC9zdHlsZT4KICA8ZyBpZD0iUGFnZS0xIiBzdHJva2U9Im5vbmUiIHN0cm9rZS13aWR0aD0iMSIgZmlsbD0ibm9uZSIgZmlsbC1ydWxlPSJldmVub2RkIj4KICAgIDxnIGlkPSJhc3NldHMiIHRyYW5zZm9ybT0idHJhbnNsYXRlKC0zNTkuMDAwMDAwLCAtMTAzLjAwMDAwMCkiPgogICAgICA8cG9seWdvbiBpZD0iaWNvbkNsb3NlIiBwb2ludHM9IjM3Mi4xNTI3ODYgMTAzIDM2Ni4wMDA1OTkgMTA5LjE1MzM4NSAzNTkuODQ3MjE0IDEwMyAzNTkgMTAzLjg0NzIxNCAzNjUuMTUyMTg3IDExMC4wMDA1OTkgMzU5IDExNi4xNTI3ODYgMzU5Ljg0NzIxNCAxMTcgMzY2LjAwMDU5OSAxMTAuODQ2NjE1IDM3Mi4xNTI3ODYgMTE3IDM3MyAxMTYuMTUyNzg2IDM2Ni44NDY2MTUgMTEwLjAwMDU5OSAzNzMgMTAzLjg0NzIxNCI+PC9wb2x5Z29uPgogICAgPC9nPgogIDwvZz4KPC9zdmc+\" type=\"image/svg+xml\">\n",
      "              Close ad\n",
      "            </object>\n",
      "          </span>\n",
      "        </div>\n",
      "      </div>\n"
     ]
    }
   ],
   "source": [
    "# url 51\n",
    "#i = urls[50]\n",
    "#open_url(i)\n",
    "element = driver.find_element_by_css_selector('#adhesion_desktop_wrapper')\n",
    "source = element.get_attribute(\"outerHTML\")\n",
    "print(source)\n",
    "ad_type = \"sticky\"\n",
    "data.append({\"TYPE\" : ad_type, \"ad_code\" : source, \"URL\" : i})"
   ]
  },
  {
   "cell_type": "code",
   "execution_count": 388,
   "metadata": {
    "collapsed": true
   },
   "outputs": [
    {
     "name": "stdout",
     "output_type": "stream",
     "text": [
      "<span id=\"tad2y6\" style=\"z-index: 99999;\"><iframe id=\"yi66k\" name=\"yi66k\" style=\"display:none!important\"></iframe><div style=\"overflow:hidden;visibility:hidden;padding:0;margin:0;border:none;width:calc(100vw + 0px);position:absolute\"><iframe class=\"resize-listener\" style=\"display: block; position: absolute; top: 0; left: 0; height: 100%; width: 100%; overflow: hidden; pointer-events: none; z-index: -1;\"></iframe></div><div style=\"visibility:hidden;overflow-y:scroll;position:absolute;z-index:-1\">blaah</div><div class=\"dzye0n  form8bb1f3fe-40ae-4a2b-924e-56078b776265\"><span id=\"form8bb1f3fe-40ae-4a2b-924e-56078b776265\" class=\"auh8g5 \" style=\"z-index: -2; width: calc(0px + 100vw); height: calc(190px + 0vh); display: block; transform-origin: 0% 0% 0px; transform: translate(0%); position: relative; top: calc(0px + 0vh); left: calc(0px + 0vw);\"><iframe class=\"pqknu\" scrolling=\"no\"></iframe></span></div><div class=\"dzye0n undefined sleeknote-badge\"><span id=\"sleeknote-badge\" class=\"auh8g5 \" style=\"z-index: 4; display: block; transform-origin: 50% 50% 0px; transform: translate(-50%); position: relative; width: calc(76px + 0vw); height: calc(20px + 0vh); top: calc(0px + 100vh); left: calc(0px + 50vw); visibility: visible;\"><iframe class=\"pqknu\" scrolling=\"no\"></iframe></span></div><div class=\"dzye0n undefined sleeknote-cover\"><span id=\"sleeknote-cover\" class=\"auh8g5 \" style=\"cursor: pointer; z-index: 0; display: block; transform-origin: 0% 0% 0px; transform: translate(0%); position: relative; width: calc(0px + 101vw); height: 0px; opacity: 0; top: calc(0px + 0vh); left: calc(0px + 0vw); visibility: hidden; pointer-events: none;\" data-conceal=\"{&quot;height&quot;:&quot;calc(0px + 101vh)&quot;,&quot;pointerEvents&quot;:&quot;&quot;,&quot;visibility&quot;:&quot;visible&quot;}\"><iframe class=\"pqknu\" scrolling=\"no\"></iframe></span></div></span>\n"
     ]
    }
   ],
   "source": [
    "# url 52\n",
    "i = urls[51]\n",
    "#open_url(i)\n",
    "element = driver.find_element_by_css_selector('#tad2y6')\n",
    "source = element.get_attribute(\"outerHTML\")\n",
    "print(source)\n",
    "ad_type = \"sticky\"\n",
    "data.append({\"TYPE\" : ad_type, \"ad_code\" : source, \"URL\" : i})"
   ]
  },
  {
   "cell_type": "code",
   "execution_count": 391,
   "metadata": {
    "collapsed": true
   },
   "outputs": [
    {
     "name": "stdout",
     "output_type": "stream",
     "text": [
      "<div class=\"ju_Con\" id=\"ju_Con_527460\" data-position=\"9\" data-zindex=\"999998\" style=\"z-index: 999998; position: fixed; display: block; height: 161px; left: 0px; top: 0px; width: 100%;\" data-title=\"Valentines%20Day%20Sale%202020\"><div class=\"ju_wrapper\" style=\"width: 100%; height: 100%; overflow: auto; -webkit-overflow-scrolling: touch;overflow-x: hidden;\" role=\"dialog\"><iframe name=\"ju_iframe_527460\" data-ex=\"0\" title=\"Valentines%20Day%20Sale%202020\" class=\"ju_iframe\" id=\"ju_iframe_527460\" tabindex=\"0\" allowtransparency=\"true\" scrolling=\"no\" src=\"about:blank\" style=\"width: 1280px; opacity: 1; display: block;\" data-hj-allow-iframe=\"\" frameborder=\"0\"></iframe></div></div>\n"
     ]
    }
   ],
   "source": [
    "# url 53\n",
    "i = urls[52]\n",
    "#open_url(i)\n",
    "element = driver.find_element_by_css_selector('#ju_Con_527460')\n",
    "source = element.get_attribute(\"outerHTML\")\n",
    "print(source)\n",
    "ad_type = \"sticky\"\n",
    "data.append({\"TYPE\" : ad_type, \"ad_code\" : source, \"URL\" : i})"
   ]
  },
  {
   "cell_type": "code",
   "execution_count": 399,
   "metadata": {
    "collapsed": true
   },
   "outputs": [
    {
     "name": "stdout",
     "output_type": "stream",
     "text": [
      "<div class=\"cm-cookie-geo cm-cookie-geo--type-manage\" role=\"status\" data-initialized=\"true\">\n",
      "\t\t\t\t<div class=\"cm-cookie-geo__msg-wrap\">\n",
      "\t\t\t\t\t<div class=\"cm-cookie-geo__msg\">\n",
      "\t\t\t\t\t\t<div class=\"cm-cookie-geo__msg-title\">\n",
      "\t\t\t\t\t\t\t<strong>Samsung and Cookies</strong>\n",
      "\t\t\t\t\t\t</div>\n",
      "\t\t\t\t\t\t\n",
      "\t\t\t\t\t\t\t<p>This site uses cookies. By clicking ACCEPT or continuing to browse the site you are agreeing to our use of cookies. <a href=\"/my/info/privacy/\">See our Privacy Policy here.</a>.</p>\n",
      "\t\t\t\t\t\t\n",
      "\t\t\t\t\t</div>\n",
      "\t\t\t\t\t<div class=\"cm-cookie-geo__manage\">\n",
      "\t\t\t\t\t\t\n",
      "\t\t\t\t\t\t<button class=\"cm-cookie-geo__cta-encased js-cookie-accept\" data-omni-type=\"microsite_contentinter\" data-omni=\"cookie bar:accept\" ga-ca=\"contents interaction\" ga-ac=\"cookie bar\" ga-la=\"accept\">ACCEPT</button>\n",
      "\t\t\t\t\t</div>\n",
      "\t\t\t\t</div>\n",
      "\t\t\t\t<div class=\"cm-cookie-geo__select\">\n",
      "\t\t\t\t\t<div class=\"cm-cookie-geo__select-text\">\n",
      "\t\t\t\t\t\t<p>Choose your location or language</p>\n",
      "\t\t\t\t\t</div>\n",
      "\t\t\t\t\t<div class=\"cm-cookie-geo__list-wrap js-list-wrap\">\n",
      "\t\t\t\t\t\t<div class=\"cm-cookie-geo__list\">\n",
      "\t\t\t\t\t\t\t<button class=\"cm-cookie-geo__list-head-mo js-list-head js-list-toogle\">Malaysia <span class=\"lang\">/ English</span></button>\n",
      "\t\t\t\t\t\t\t<span class=\"js-visit-btns\"><button type=\"button\" site_cd=\"my\" data-omni=\"click\" data-omni-type=\"content_click\" data-omni-data=\"choose location:my\" title=\"Visit Malaysia/English site\" class=\"cm-cookie-geo__list-cta\"><span>Malaysia <span class=\"lang\">/ English</span></span></button><button type=\"button\" site_cd=\"sec\" data-omni=\"click\" data-omni-type=\"content_click\" data-omni-data=\"choose location:sec\" title=\"Visit 대한민국/한국어 site\" class=\"cm-cookie-geo__list-cta\"><span>대한민국 <span class=\"lang\">/ 한국어</span></span></button></span>\n",
      "\t\t\t\t\t\t\t<button class=\"cm-cookie-geo__list-close js-list-toogle\" data-omni-type=\"microsite_contentinter\" data-omni=\"cookie bar:close\" ga-ca=\"contents interaction\" ga-ac=\"cookie bar\" ga-la=\"close\"><span class=\"blind\">Close</span></button>\n",
      "\t\t\t\t\t\t</div>\n",
      "\t\t\t\t\t</div>\n",
      "\t\t\t\t</div>\n",
      "\t\t\t\t<div class=\"cm-cookie-geo__close\">\n",
      "\t\t\t\t\t<button type=\"button\" class=\"cm-cookie-geo__close-cta js-geo-close\" data-omni-type=\"microsite_contentinter\" data-omni=\"cookie bar:close\" ga-ca=\"contents interaction\" ga-ac=\"cookie bar\" ga-la=\"close\"><span>Close</span></button>\n",
      "\t\t\t\t</div>\n",
      "\t\t\t</div>\n"
     ]
    }
   ],
   "source": [
    "# url 54\n",
    "i = urls[53]\n",
    "#open_url(i)\n",
    "element = driver.find_element_by_css_selector('.cm-cookie-geo')\n",
    "source = element.get_attribute(\"outerHTML\")\n",
    "print(source)\n",
    "ad_type = \"sticky\"\n",
    "data.append({\"TYPE\" : ad_type, \"ad_code\" : source, \"URL\" : i})"
   ]
  },
  {
   "cell_type": "code",
   "execution_count": 402,
   "metadata": {
    "collapsed": true
   },
   "outputs": [
    {
     "name": "stdout",
     "output_type": "stream",
     "text": [
      "<div style=\"position: fixed; bottom: 0px; width: 100%; height: auto; z-index: 9995; pointer-events: none;\"><style>\n",
      "        .jslaxjgwavhglii > div { pointer-events: auto }\n",
      "      </style><div style=\"width: 100%; height: auto; background-color: rgb(245, 245, 245); margin: 0px auto; position: relative;\"><div style=\"float: left; position: absolute; background-color: rgb(74, 74, 74); width: 25px; height: 100%; pointer-events: auto; cursor: pointer; z-index: 9999; display: flex; justify-content: center; align-items: center; overflow: hidden;\">\n",
      "        <div style=\"\n",
      "        transform: rotate(270deg);\n",
      "        color: #bfbfbf;\n",
      "        letter-spacing: 2px;\n",
      "        \">CLOSE<span style=\"\n",
      "        color: white;\n",
      "        margin-left: 5px;\n",
      "        \">X</span>\n",
      "        </div>\n",
      "        </div><div style=\"position: relative; height: auto; background-color: transparent; display: flex; justify-content: center; pointer-events: auto;\" class=\"jslaxjgwavhglii mobile-leaderboard-320-50\"><div id=\"anchored-leaderboard\" style=\"\" data-google-query-id=\"CIyA4N6LyucCFcoolgodN2cLgA\"><div id=\"google_ads_iframe_10518929/tech_techradar/how-to_9__container__\" style=\"border: 0pt none; margin: auto; text-align: center;\"><iframe id=\"google_ads_iframe_10518929/tech_techradar/how-to_9\" title=\"3rd party ad content\" name=\"google_ads_iframe_10518929/tech_techradar/how-to_9\" scrolling=\"no\" marginwidth=\"0\" marginheight=\"0\" style=\"border: 0px none; vertical-align: bottom;\" srcdoc=\"\" sandbox=\"allow-forms allow-pointer-lock allow-popups allow-popups-to-escape-sandbox allow-same-origin allow-scripts allow-top-navigation-by-user-activation\" data-google-container-id=\"a\" data-load-complete=\"true\" width=\"728\" height=\"90\" frameborder=\"0\"></iframe></div></div></div></div></div>\n"
     ]
    }
   ],
   "source": [
    "# url 55\n",
    "i = urls[54]\n",
    "#open_url(i)\n",
    "element = driver.find_element_by_css_selector('body > div:nth-child(34)')\n",
    "source = element.get_attribute(\"outerHTML\")\n",
    "print(source)\n",
    "ad_type = \"sticky\"\n",
    "data.append({\"TYPE\" : ad_type, \"ad_code\" : source, \"URL\" : i})"
   ]
  },
  {
   "cell_type": "code",
   "execution_count": 404,
   "metadata": {
    "collapsed": true
   },
   "outputs": [
    {
     "name": "stdout",
     "output_type": "stream",
     "text": [
      "<div style=\"position: fixed; bottom: 0px; width: 100%; height: auto; z-index: 9995; pointer-events: none;\"><style>\n",
      "        .wglhherisbppjav > div { pointer-events: auto }\n",
      "      </style><div style=\"width: 100%; height: auto; background-color: rgb(245, 245, 245); margin: 0px auto; position: relative;\"><div style=\"float: left; position: absolute; background-color: rgb(74, 74, 74); width: 25px; height: 100%; pointer-events: auto; cursor: pointer; z-index: 9999; display: flex; justify-content: center; align-items: center; overflow: hidden;\">\n",
      "        <div style=\"\n",
      "        transform: rotate(270deg);\n",
      "        color: #bfbfbf;\n",
      "        letter-spacing: 2px;\n",
      "        \">CLOSE<span style=\"\n",
      "        color: white;\n",
      "        margin-left: 5px;\n",
      "        \">X</span>\n",
      "        </div>\n",
      "        </div><div style=\"position: relative; height: auto; background-color: transparent; display: flex; justify-content: center; pointer-events: auto;\" class=\"wglhherisbppjav mobile-leaderboard-320-50\"><div id=\"anchored-leaderboard\" style=\"\" data-google-query-id=\"CJjl7PWLyucCFQ4CXAodS-wFzg\"><div id=\"google_ads_iframe_10518929/tech_techradar/reviews/home_9__container__\" style=\"border: 0pt none; margin: auto; text-align: center; width: 728px; height: 90px;\"><iframe style=\"border: 0px none; vertical-align: bottom;\" src=\"https://tpc.googlesyndication.com/safeframe/1-0-37/html/container.html\" id=\"google_ads_iframe_10518929/tech_techradar/reviews/home_9\" title=\"3rd party ad content\" name=\"\" scrolling=\"no\" marginwidth=\"0\" marginheight=\"0\" data-is-safeframe=\"true\" sandbox=\"allow-forms allow-pointer-lock allow-popups allow-popups-to-escape-sandbox allow-same-origin allow-scripts allow-top-navigation-by-user-activation\" data-google-container-id=\"a\" data-load-complete=\"true\" width=\"728\" height=\"90\" frameborder=\"0\"></iframe></div></div></div></div></div>\n"
     ]
    }
   ],
   "source": [
    "# url 56\n",
    "i = urls[55]\n",
    "#open_url(i)\n",
    "element = driver.find_element_by_css_selector('body > div:nth-child(34)')\n",
    "source = element.get_attribute(\"outerHTML\")\n",
    "print(source)\n",
    "ad_type = \"sticky\"\n",
    "data.append({\"TYPE\" : ad_type, \"ad_code\" : source, \"URL\" : i})"
   ]
  },
  {
   "cell_type": "code",
   "execution_count": 407,
   "metadata": {
    "collapsed": true
   },
   "outputs": [
    {
     "name": "stdout",
     "output_type": "stream",
     "text": [
      "<div style=\"position: fixed; bottom: 0px; width: 100%; height: auto; z-index: 9995; pointer-events: none;\"><style>\n",
      "        .trpctnngoorgapv > div { pointer-events: auto }\n",
      "      </style><div style=\"width: 100%; height: auto; background-color: rgb(245, 245, 245); margin: 0px auto; position: relative;\"><div style=\"float: left; position: absolute; background-color: rgb(74, 74, 74); width: 25px; height: 100%; pointer-events: auto; cursor: pointer; z-index: 9999; display: flex; justify-content: center; align-items: center; overflow: hidden;\">\n",
      "        <div style=\"\n",
      "        transform: rotate(270deg);\n",
      "        color: #bfbfbf;\n",
      "        letter-spacing: 2px;\n",
      "        \">CLOSE<span style=\"\n",
      "        color: white;\n",
      "        margin-left: 5px;\n",
      "        \">X</span>\n",
      "        </div>\n",
      "        </div><div style=\"position: relative; height: auto; background-color: transparent; display: flex; justify-content: center; pointer-events: auto;\" class=\"trpctnngoorgapv mobile-leaderboard-320-50\"><div id=\"anchored-leaderboard\" style=\"\" data-google-query-id=\"CKbO6YiMyucCFUggKgodVQ0Dyw\"><div id=\"google_ads_iframe_10518929/tech_techradar/laptops_9__container__\" style=\"border: 0pt none; margin: auto; text-align: center;\"><iframe id=\"google_ads_iframe_10518929/tech_techradar/laptops_9\" title=\"3rd party ad content\" name=\"google_ads_iframe_10518929/tech_techradar/laptops_9\" scrolling=\"no\" marginwidth=\"0\" marginheight=\"0\" style=\"border: 0px none; vertical-align: bottom;\" srcdoc=\"\" data-google-container-id=\"a\" data-load-complete=\"true\" width=\"728\" height=\"90\" frameborder=\"0\"></iframe></div></div></div></div></div>\n"
     ]
    }
   ],
   "source": [
    "# url 57\n",
    "i = urls[56]\n",
    "#open_url(i)\n",
    "element = driver.find_element_by_css_selector('body > div:nth-child(32)')\n",
    "source = element.get_attribute(\"outerHTML\")\n",
    "print(source)\n",
    "ad_type = \"sticky\"\n",
    "data.append({\"TYPE\" : ad_type, \"ad_code\" : source, \"URL\" : i})"
   ]
  },
  {
   "cell_type": "code",
   "execution_count": 410,
   "metadata": {
    "collapsed": true
   },
   "outputs": [
    {
     "name": "stdout",
     "output_type": "stream",
     "text": [
      "<div id=\"mntl-leaderboard-header_1-0\" class=\"comp has-left-label has-right-label leaderboard--full-bleed leaderboard--header mntl-leaderboard-header mntl-flexible-leaderboard mntl-flexible-ad mntl-gpt-adunit gpt leaderboard\" data-options=\"99\" data-ad-width=\"728\" data-ad-height=\"90\">\n",
      "<div id=\"leaderboard\" class=\"wrapper\" data-google-query-id=\"CIvbsJmMyucCFZKMlgoddnwM8A\"><div id=\"google_ads_iframe_/479/verywellhealth/vwh_sexual-health/leaderboard_0__container__\" style=\"border: 0pt none;\"><iframe id=\"google_ads_iframe_/479/verywellhealth/vwh_sexual-health/leaderboard_0\" title=\"3rd party ad content\" name=\"google_ads_iframe_/479/verywellhealth/vwh_sexual-health/leaderboard_0\" scrolling=\"no\" marginwidth=\"0\" marginheight=\"0\" style=\"border: 0px none; vertical-align: bottom;\" srcdoc=\"\" data-google-container-id=\"1\" data-load-complete=\"true\" width=\"728\" height=\"90\" frameborder=\"0\"></iframe></div></div>\n",
      "</div>\n"
     ]
    }
   ],
   "source": [
    "# url 58\n",
    "i = urls[57]\n",
    "#open_url(i)\n",
    "element = driver.find_element_by_css_selector('#mntl-leaderboard-header_1-0')\n",
    "source = element.get_attribute(\"outerHTML\")\n",
    "print(source)\n",
    "ad_type = \"sticky\"\n",
    "data.append({\"TYPE\" : ad_type, \"ad_code\" : source, \"URL\" : i})"
   ]
  },
  {
   "cell_type": "code",
   "execution_count": 415,
   "metadata": {
    "collapsed": true
   },
   "outputs": [
    {
     "name": "stdout",
     "output_type": "stream",
     "text": [
      "<div id=\"leaderboard\" class=\"wrapper\" data-google-query-id=\"COaZtPCMyucCFY-3lgodM-4FaQ\"><div id=\"google_ads_iframe_/479/verywellhealth/vwh_brain-and-nervous-system/leaderboard_0__container__\" style=\"border: 0pt none;\"><iframe id=\"google_ads_iframe_/479/verywellhealth/vwh_brain-and-nervous-system/leaderboard_0\" title=\"3rd party ad content\" name=\"google_ads_iframe_/479/verywellhealth/vwh_brain-and-nervous-system/leaderboard_0\" scrolling=\"no\" marginwidth=\"0\" marginheight=\"0\" style=\"border: 0px none; vertical-align: bottom;\" srcdoc=\"\" data-google-container-id=\"1\" data-load-complete=\"true\" width=\"728\" height=\"90\" frameborder=\"0\"></iframe></div></div>\n"
     ]
    }
   ],
   "source": [
    "# url 59\n",
    "i = urls[58]\n",
    "open_url(i)\n",
    "element = driver.find_element_by_css_selector('#leaderboard')\n",
    "source = element.get_attribute(\"outerHTML\")\n",
    "print(source)\n",
    "ad_type = \"sticky\"\n",
    "data.append({\"TYPE\" : ad_type, \"ad_code\" : source, \"URL\" : i})"
   ]
  },
  {
   "cell_type": "code",
   "execution_count": 418,
   "metadata": {
    "collapsed": true
   },
   "outputs": [
    {
     "name": "stdout",
     "output_type": "stream",
     "text": [
      "<div id=\"leaderboard\" class=\"wrapper\" data-google-query-id=\"CLXw7P6MyucCFYEBXAodei8CnQ\"><div id=\"google_ads_iframe_/479/verywellhealth/vwh_brain-and-nervous-system/leaderboard_0__container__\" style=\"border: 0pt none;\"><iframe id=\"google_ads_iframe_/479/verywellhealth/vwh_brain-and-nervous-system/leaderboard_0\" title=\"3rd party ad content\" name=\"google_ads_iframe_/479/verywellhealth/vwh_brain-and-nervous-system/leaderboard_0\" scrolling=\"no\" marginwidth=\"0\" marginheight=\"0\" style=\"border: 0px none; vertical-align: bottom;\" srcdoc=\"\" data-google-container-id=\"1\" data-load-complete=\"true\" width=\"728\" height=\"90\" frameborder=\"0\"></iframe></div></div>\n"
     ]
    }
   ],
   "source": [
    "# url 60\n",
    "i = urls[59]\n",
    "#open_url(i)\n",
    "element = driver.find_element_by_css_selector('#leaderboard')\n",
    "source = element.get_attribute(\"outerHTML\")\n",
    "print(source)\n",
    "ad_type = \"sticky\"\n",
    "data.append({\"TYPE\" : ad_type, \"ad_code\" : source, \"URL\" : i})"
   ]
  },
  {
   "cell_type": "code",
   "execution_count": 421,
   "metadata": {
    "collapsed": true
   },
   "outputs": [
    {
     "name": "stdout",
     "output_type": "stream",
     "text": [
      "<div id=\"ads2-pos-101-ad-banner\" class=\"module ad ad-101 is-fixed\" data-is-mobile=\"false\" data-targets=\"{'art':'091e9c5e802cf1da','cc':'56','env':'&amp;env=0','hcent':'1107','leaf':'&amp;leaf=16105','mcent':'','mic':'','pt':'1837','sec':'','pug':'','scent':'','tmg':'','tug':'','uri':'%2fsmoking-cessation%2fss%2fslideshow-13-best-quit-smoking-tips-ever','rd':'1'}\" data-block-codes=\"_cust017_gen1_z720_f1_\" data-pos=\"101\" data-sizes=\"[[728,90],[970, 90],[970,250]]\" style=\"visibility: visible;\" data-google-query-id=\"CP6Z5KyNyucCFQVxvQodKV4Hug\"><div id=\"google_ads_iframe_/4312434/consumer/webmd_0__container__\" style=\"border: 0pt none;\"><iframe id=\"google_ads_iframe_/4312434/consumer/webmd_0\" title=\"3rd party ad content\" name=\"google_ads_iframe_/4312434/consumer/webmd_0\" scrolling=\"no\" marginwidth=\"0\" marginheight=\"0\" style=\"border: 0px none; vertical-align: bottom;\" srcdoc=\"\" data-google-container-id=\"1\" data-integralas-id-9f6c0281-e5db-5239-bb79-9db03f9d5a7e=\"\" data-load-complete=\"true\" width=\"728\" height=\"90\" frameborder=\"0\"></iframe></div></div>\n"
     ]
    }
   ],
   "source": [
    "# url 61\n",
    "i = urls[60]\n",
    "#open_url(i)\n",
    "element = driver.find_element_by_css_selector('#ads2-pos-101-ad-banner')\n",
    "source = element.get_attribute(\"outerHTML\")\n",
    "print(source)\n",
    "ad_type = \"sticky\"\n",
    "data.append({\"TYPE\" : ad_type, \"ad_code\" : source, \"URL\" : i})"
   ]
  },
  {
   "cell_type": "code",
   "execution_count": 424,
   "metadata": {
    "collapsed": true
   },
   "outputs": [
    {
     "name": "stdout",
     "output_type": "stream",
     "text": [
      "<div id=\"ads2-pos-101-ad-banner\" class=\"module ad ad-101 is-fixed\" data-is-mobile=\"false\" data-targets=\"{'art':'091e9c5e81dec76e','cc':'17','env':'&amp;env=0','hcent':'1242','leaf':'&amp;leaf=','mcent':'','mic':'','pt':'3554','sec':'','pug':'','scent':'','tmg':'','tug':'','uri':'%2fadd-adhd%2fchildhood-adhd%2fnews%2f20191226%2fcould-brain-scans-spot-childrens-mood-attention-problems-early','rd':'1'}\" data-block-codes=\"_age2_0_\" data-pos=\"101\" data-sizes=\"[[728,90],[970, 90],[970,250]]\" data-google-query-id=\"CI-ps9WNyucCFQhevQodm70P8w\">\n",
      "<div id=\"google_ads_iframe_/4312434/consumer/webmd_0__container__\" style=\"border: 0pt none;\"><iframe id=\"google_ads_iframe_/4312434/consumer/webmd_0\" title=\"3rd party ad content\" name=\"google_ads_iframe_/4312434/consumer/webmd_0\" scrolling=\"no\" marginwidth=\"0\" marginheight=\"0\" style=\"border: 0px none; vertical-align: bottom;\" srcdoc=\"\" data-google-container-id=\"1\" data-integralas-id-82961d82-6795-5db0-1374-ce5eb50ce15b=\"\" data-load-complete=\"true\" width=\"728\" height=\"90\" frameborder=\"0\"></iframe></div></div>\n"
     ]
    }
   ],
   "source": [
    "# url 62\n",
    "i = urls[61]\n",
    "#open_url(i)\n",
    "element = driver.find_element_by_css_selector('#ads2-pos-101-ad-banner')\n",
    "source = element.get_attribute(\"outerHTML\")\n",
    "print(source)\n",
    "ad_type = \"sticky\"\n",
    "data.append({\"TYPE\" : ad_type, \"ad_code\" : source, \"URL\" : i})"
   ]
  },
  {
   "cell_type": "code",
   "execution_count": 426,
   "metadata": {
    "collapsed": true
   },
   "outputs": [
    {
     "name": "stdout",
     "output_type": "stream",
     "text": [
      "<div id=\"ads2-pos-101-ad-banner\" class=\"module ad ad-101 is-fixed\" data-is-mobile=\"false\" data-targets=\"{'art':'091e9c5e815d9fea','cc':'16','env':'&amp;env=0','hcent':'1242','leaf':'&amp;leaf=16101','mcent':'','mic':'','pt':'3554','sec':'','pug':'','scent':'','tmg':'2','tug':'','uri':'%2fadd-adhd%2fchildhood-adhd%2fadhd-drugs-handle-side-effects-kids','rd':'1'}\" data-block-codes=\"_l93_age1_age2_cust4_f900_f908_m32_\" data-pos=\"101\" data-sizes=\"[[728,90],[970, 90],[970,250]]\" data-google-query-id=\"CKiM4YyOyucCFdGXvQod-C8Gfg\">\n",
      "<div id=\"google_ads_iframe_/4312434/consumer/webmd_0__container__\" style=\"border: 0pt none;\"><iframe id=\"google_ads_iframe_/4312434/consumer/webmd_0\" title=\"3rd party ad content\" name=\"google_ads_iframe_/4312434/consumer/webmd_0\" scrolling=\"no\" marginwidth=\"0\" marginheight=\"0\" style=\"border: 0px none; vertical-align: bottom;\" srcdoc=\"\" data-google-container-id=\"1b\" data-integralas-id-2a567dfe-f51e-3ac9-2d6f-5c33b1996ae4=\"\" data-load-complete=\"true\" width=\"728\" height=\"90\" frameborder=\"0\"></iframe></div></div>\n"
     ]
    }
   ],
   "source": [
    "# url 63\n",
    "i = urls[62]\n",
    "#open_url(i)\n",
    "element = driver.find_element_by_css_selector('#ads2-pos-101-ad-banner')\n",
    "source = element.get_attribute(\"outerHTML\")\n",
    "print(source)\n",
    "ad_type = \"sticky\"\n",
    "data.append({\"TYPE\" : ad_type, \"ad_code\" : source, \"URL\" : i})"
   ]
  },
  {
   "cell_type": "code",
   "execution_count": 433,
   "metadata": {
    "collapsed": true
   },
   "outputs": [
    {
     "name": "stdout",
     "output_type": "stream",
     "text": [
      "<div id=\"ads2-pos-101-ad-banner\" class=\"module ad ad-101 is-fixed\" data-is-mobile=\"false\" data-targets=\"{'art':'091e9c5e81465f14','cc':'16','env':'&amp;env=0','hcent':'1242','leaf':'&amp;leaf=','mcent':'','mic':'','pt':'3554','sec':'','pug':'','scent':'','tmg':'','tug':'','uri':'%2fadd-adhd%2fchildhood-adhd%2fadhd-common-side-effects-children','rd':'1'}\" data-block-codes=\"_cust023_f33_cust4_age1_age2_f900_f908_\" data-pos=\"101\" data-sizes=\"[[728,90],[970, 90],[970,250]]\" data-google-query-id=\"COHIpsyOyucCFZWclgodaQoIRg\">\n",
      "<div id=\"google_ads_iframe_/4312434/consumer/webmd_0__container__\" style=\"border: 0pt none;\"><iframe id=\"google_ads_iframe_/4312434/consumer/webmd_0\" title=\"3rd party ad content\" name=\"google_ads_iframe_/4312434/consumer/webmd_0\" scrolling=\"no\" marginwidth=\"0\" marginheight=\"0\" style=\"border: 0px none; vertical-align: bottom;\" srcdoc=\"\" data-google-container-id=\"1\" data-load-complete=\"true\" width=\"728\" height=\"90\" frameborder=\"0\"></iframe></div></div>\n"
     ]
    }
   ],
   "source": [
    "# url 64\n",
    "i = urls[63]\n",
    "#open_url(i)\n",
    "element = driver.find_element_by_css_selector('#ads2-pos-101-ad-banner')\n",
    "source = element.get_attribute(\"outerHTML\")\n",
    "print(source)\n",
    "ad_type = \"sticky\"\n",
    "data.append({\"TYPE\" : ad_type, \"ad_code\" : source, \"URL\" : i})"
   ]
  },
  {
   "cell_type": "code",
   "execution_count": 436,
   "metadata": {
    "collapsed": true
   },
   "outputs": [
    {
     "name": "stdout",
     "output_type": "stream",
     "text": [
      "<div id=\"mntl-leaderboard-header_1-0\" class=\"comp has-right-label mntl-leaderboard-header mntl-flexible-leaderboard mntl-flexible-ad mntl-gpt-adunit gpt leaderboard\" data-options=\"99\" data-ad-width=\"970\" data-ad-height=\"250\">\n",
      "<div id=\"leaderboard\" class=\"wrapper\" data-google-query-id=\"CPHGy-KOyucCFcySvQodlc0Gnw\"><div id=\"google_ads_iframe_/479/investopedia/inv_bonds/leaderboard_0__container__\" style=\"border: 0pt none;\"><iframe id=\"google_ads_iframe_/479/investopedia/inv_bonds/leaderboard_0\" title=\"3rd party ad content\" name=\"google_ads_iframe_/479/investopedia/inv_bonds/leaderboard_0\" scrolling=\"no\" marginwidth=\"0\" marginheight=\"0\" style=\"border: 0px none; vertical-align: bottom;\" srcdoc=\"\" data-google-container-id=\"c\" data-load-complete=\"true\" width=\"970\" height=\"250\" frameborder=\"0\"></iframe></div></div>\n",
      "</div>\n"
     ]
    }
   ],
   "source": [
    "# url 65\n",
    "i = urls[64]\n",
    "#open_url(i)\n",
    "element = driver.find_element_by_css_selector('#mntl-leaderboard-header_1-0')\n",
    "source = element.get_attribute(\"outerHTML\")\n",
    "print(source)\n",
    "ad_type = \"sticky\"\n",
    "data.append({\"TYPE\" : ad_type, \"ad_code\" : source, \"URL\" : i})"
   ]
  },
  {
   "cell_type": "code",
   "execution_count": 439,
   "metadata": {
    "collapsed": true
   },
   "outputs": [
    {
     "name": "stdout",
     "output_type": "stream",
     "text": [
      "<div id=\"mntl-leaderboard-header_1-0\" class=\"comp has-right-label mntl-leaderboard-header mntl-flexible-leaderboard mntl-flexible-ad mntl-gpt-adunit gpt leaderboard\" data-options=\"99\" data-ad-width=\"970\" data-ad-height=\"250\">\n",
      "<div id=\"leaderboard\" class=\"wrapper\" data-google-query-id=\"CM2v6f6OyucCFUl4iwod4lEIlA\"><div id=\"google_ads_iframe_/479/investopedia/inv_stocks/leaderboard_0__container__\" style=\"border: 0pt none;\"><iframe id=\"google_ads_iframe_/479/investopedia/inv_stocks/leaderboard_0\" title=\"3rd party ad content\" name=\"google_ads_iframe_/479/investopedia/inv_stocks/leaderboard_0\" scrolling=\"no\" marginwidth=\"0\" marginheight=\"0\" style=\"border: 0px none; vertical-align: bottom;\" srcdoc=\"\" data-google-container-id=\"1\" data-load-complete=\"true\" width=\"970\" height=\"250\" frameborder=\"0\"></iframe></div></div>\n",
      "</div>\n"
     ]
    }
   ],
   "source": [
    "# url 66\n",
    "i = urls[65]\n",
    "#open_url(i)\n",
    "element = driver.find_element_by_css_selector('#mntl-leaderboard-header_1-0')\n",
    "source = element.get_attribute(\"outerHTML\")\n",
    "print(source)\n",
    "ad_type = \"sticky\"\n",
    "data.append({\"TYPE\" : ad_type, \"ad_code\" : source, \"URL\" : i})"
   ]
  },
  {
   "cell_type": "code",
   "execution_count": 443,
   "metadata": {
    "collapsed": true
   },
   "outputs": [
    {
     "name": "stdout",
     "output_type": "stream",
     "text": [
      "<div class=\"fixed left-0 w-100\" style=\"z-index: 16; transition: bottom 0.5s ease-in 0s; bottom: 0px; height: 506px;\"><iframe id=\"wallIframe\" src=\"https://subscribe.washingtonpost.com/paywall/get-softwall?destination=https%3A%2F%2Fwww.washingtonpost.com%2Fpolitics%2F2020%2F02%2F11%2Fnew-hampshire-primary-live-updates%2F&amp;actions=60&amp;section=politics&amp;commercial_node=/politics&amp;ct_tags=coverage-active,election-2020&amp;sct_tags=&amp;content_type=article&amp;wp_prop=&amp;referrer=&amp;mtrwmac=0&amp;arcId=P7LUQ3IDRFDE5LZ3FMAL3YO7XI&amp;action=6\" class=\"absolute left-0 top-0 h-100 w-100 b-none\" style=\"height: 506px;\" frameborder=\"0\"></iframe></div>\n"
     ]
    }
   ],
   "source": [
    "# url 67\n",
    "i = urls[66]\n",
    "#open_url(i)\n",
    "element = driver.find_element_by_css_selector('div.fixed:nth-child(1)')\n",
    "source = element.get_attribute(\"outerHTML\")\n",
    "print(source)\n",
    "ad_type = \"sticky\"\n",
    "data.append({\"TYPE\" : ad_type, \"ad_code\" : source, \"URL\" : i})"
   ]
  },
  {
   "cell_type": "code",
   "execution_count": 448,
   "metadata": {
    "collapsed": true
   },
   "outputs": [
    {
     "name": "stdout",
     "output_type": "stream",
     "text": [
      "<div class=\"qc-cmp-ui qc-cmp-showing\" id=\"qcCmpUi\"><div class=\"qc-cmp-ui-content\">  <div class=\"qc-cmp-initial-info\"> <img class=\"qc-cmp-publisher-logo qc-cmp-hidden\" src=\"\" alt=\"Express logo\" onerror=\"window.__cmpui(&quot;hideLogo&quot;,event)\"> <p class=\"qc-cmp-title\"> We value your privacy </p> <p class=\"qc-cmp-main-messaging\"> We and our partners use technologies, such as cookies, and process personal data, such as IP addresses and cookie identifiers, to personalise ads and content based on your interests, measure the performance of ads and content, and derive insights about the audiences who saw ads and content. Click below to consent to the use of this technology and the processing of your personal data for these purposes. You can change your mind and change your consent choices at any time by returning to this site. </p> <div class=\"qc-cmp-alt-buttons\"></div> </div> <div class=\"qc-cmp-buttons\" id=\"qcCmpButtons\"><button class=\"qc-cmp-button qc-cmp-secondary-button\">MORE OPTIONS</button> <button class=\"qc-cmp-button\" onclick=\"window.__cmpui(&quot;setAndSaveAllConsent&quot;,!0)\"> I accept </button> <a id=\"qc-cmp-purpose-button\" class=\"qc-cmp-alt-action\" onclick=\"window.__cmpui(&quot;updateConsentUi&quot;,2)\"> Manage </a> <a id=\"qc-cmp-vendor-button\" class=\"qc-cmp-alt-action\" onclick=\"window.__cmpui(&quot;updateConsentUi&quot;,3)\"> See Vendors </a> </div> <div class=\"qc-cmp-qc-link-container\" style=\"display:flex!important\"> <p class=\"qc-cmp-link-text\" style=\"color: rgb(255, 255, 255);\"> Powered by </p> <a class=\"qc-cmp-qc-link\" target=\"_blank\"> <img id=\"qcLogo\" alt=\"Quantcast - GDPR Consent Solution\" style=\"border-style:none\" src=\"data:image/png;base64,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\" class=\"logo-white\"> </a> </div> </div> </div>\n"
     ]
    }
   ],
   "source": [
    "# url 68\n",
    "i = urls[67]\n",
    "#open_url(i)\n",
    "element = driver.find_element_by_css_selector('#qcCmpUi')\n",
    "source = element.get_attribute(\"outerHTML\")\n",
    "print(source)\n",
    "ad_type = \"sticky\"\n",
    "data.append({\"TYPE\" : ad_type, \"ad_code\" : source, \"URL\" : i})"
   ]
  },
  {
   "cell_type": "code",
   "execution_count": 451,
   "metadata": {
    "collapsed": true
   },
   "outputs": [
    {
     "name": "stdout",
     "output_type": "stream",
     "text": [
      "<div class=\"sal--wrapper\"><div id=\"MAD_INVIEW\" class=\"sal--container ad--inview size--728x90 sal--loaded\" style=\"\" data-google-query-id=\"CIH14pWQyucCFUG0lgodFSkGVQ\"><div id=\"google_ads_iframe_/6088/ssp.wxmi/inview-bottom_0__container__\" style=\"border: 0pt none;\"><iframe id=\"google_ads_iframe_/6088/ssp.wxmi/inview-bottom_0\" title=\"3rd party ad content\" name=\"google_ads_iframe_/6088/ssp.wxmi/inview-bottom_0\" scrolling=\"no\" marginwidth=\"0\" marginheight=\"0\" style=\"border: 0px none; vertical-align: bottom;\" srcdoc=\"\" data-google-container-id=\"b\" data-load-complete=\"true\" width=\"728\" height=\"90\" frameborder=\"0\"></iframe></div><div class=\"MAD_INVIEW_CLOSE\">close</div></div></div>\n"
     ]
    }
   ],
   "source": [
    "# url 69\n",
    "i = urls[68]\n",
    "#open_url(i)\n",
    "element = driver.find_element_by_css_selector('div.sal--wrapper:nth-child(18)')\n",
    "source = element.get_attribute(\"outerHTML\")\n",
    "print(source)\n",
    "ad_type = \"sticky\"\n",
    "data.append({\"TYPE\" : ad_type, \"ad_code\" : source, \"URL\" : i})"
   ]
  },
  {
   "cell_type": "code",
   "execution_count": 454,
   "metadata": {
    "collapsed": true
   },
   "outputs": [
    {
     "name": "stdout",
     "output_type": "stream",
     "text": [
      "<div class=\"sal--wrapper\"><div id=\"MAD_INVIEW\" class=\"sal--container ad--inview size--728x90 sal--loaded\" style=\"\" data-google-query-id=\"CPuwrdyQyucCFUQ7lgodl08PFA\"><div id=\"google_ads_iframe_/6088/ssp.wxmi/inview-bottom_0__container__\" style=\"border: 0pt none;\"><iframe id=\"google_ads_iframe_/6088/ssp.wxmi/inview-bottom_0\" title=\"3rd party ad content\" name=\"google_ads_iframe_/6088/ssp.wxmi/inview-bottom_0\" scrolling=\"no\" marginwidth=\"0\" marginheight=\"0\" style=\"border: 0px none; vertical-align: bottom;\" srcdoc=\"\" data-google-container-id=\"7\" data-load-complete=\"true\" width=\"728\" height=\"90\" frameborder=\"0\"></iframe></div><div class=\"MAD_INVIEW_CLOSE\">close</div></div></div>\n"
     ]
    }
   ],
   "source": [
    "# url 70\n",
    "i = urls[69]\n",
    "#open_url(i)\n",
    "element = driver.find_element_by_css_selector('div.sal--wrapper:nth-child(19)')\n",
    "source = element.get_attribute(\"outerHTML\")\n",
    "print(source)\n",
    "ad_type = \"sticky\"\n",
    "data.append({\"TYPE\" : ad_type, \"ad_code\" : source, \"URL\" : i})"
   ]
  },
  {
   "cell_type": "code",
   "execution_count": 457,
   "metadata": {
    "collapsed": true
   },
   "outputs": [
    {
     "name": "stdout",
     "output_type": "stream",
     "text": [
      "<div class=\"sal--wrapper\"><div id=\"MAD_INVIEW\" class=\"sal--container ad--inview size--728x90 sal--loaded\" style=\"\" data-google-query-id=\"CM7nreSQyucCFQMolgodknkJcQ\"><div id=\"google_ads_iframe_/6088/ssp.wxmi/inview-bottom_0__container__\" style=\"border: 0pt none;\"><iframe id=\"google_ads_iframe_/6088/ssp.wxmi/inview-bottom_0\" title=\"3rd party ad content\" name=\"google_ads_iframe_/6088/ssp.wxmi/inview-bottom_0\" scrolling=\"no\" marginwidth=\"0\" marginheight=\"0\" style=\"border: 0px none; vertical-align: bottom;\" srcdoc=\"\" data-google-container-id=\"1\" data-load-complete=\"true\" width=\"728\" height=\"90\" frameborder=\"0\"></iframe></div><div class=\"MAD_INVIEW_CLOSE\">close</div></div></div>\n"
     ]
    }
   ],
   "source": [
    "# url 71\n",
    "i = urls[70]\n",
    "#open_url(i)\n",
    "element = driver.find_element_by_css_selector('div.sal--wrapper:nth-child(20)')\n",
    "source = element.get_attribute(\"outerHTML\")\n",
    "print(source)\n",
    "ad_type = \"sticky\"\n",
    "data.append({\"TYPE\" : ad_type, \"ad_code\" : source, \"URL\" : i})"
   ]
  },
  {
   "cell_type": "code",
   "execution_count": 460,
   "metadata": {
    "collapsed": true
   },
   "outputs": [
    {
     "name": "stdout",
     "output_type": "stream",
     "text": [
      "<div data-display-type=\"mg2bn\" tabindex=\"-1\" class=\"Mg2-connext mg2bn cmg-styles mg2bn-reveal_mob fullwidth bottom sticky-bottom\" style=\"bottom: 0px;\" id=\"ConneXt_Action_Id-111522\"><style id=\"111522-mg2style\">null</style>\t\n",
      "\t\t<div class=\"mg2bn-body x-editable-text\" id=\"mce_21\" spellcheck=\"false\"><div class=\"mg2bn-inner\"><i class=\"fa fa-times closebtn pull-right m-0\" aria-label=\"Close\" aria-hidden=\"true\" style=\"display: inline;\" data-mce-style=\"display: inline;\" data-dismiss=\"info-box\"></i><div class=\"cmg-mg2bn-collapsed text-center clearfix\" style=\"background-color: #0090D9;\" data-mce-style=\"background-color: #0090D9;\"><p class=\"cmg-call-text\"><span face=\"helvetica\" data-mce-style=\"font-family: helvetica;\" style=\"font-family: helvetica;\"><span style=\"font-size: 18px;\" data-mce-style=\"font-size: 18px;\"><b>Only 99¢ for the first 3 months</b></span></span><br><span class=\"Mg2-font-norm\" style=\"font-family: helvetica; font-size: 18px; color: rgb(255, 255, 255);\" data-mce-style=\"font-family: helvetica; font-size: 18px; color: #ffffff;\"> <span style=\"text-decoration: underline;\" data-mce-style=\"text-decoration: underline;\"> <strong><a href=\"https://checkout.mercurynews.com/SubscriptionmultiproductPW1c?g2i_source=ConneXt&amp;g2i_medium=paywall&amp;g2i_campaign=MG2PW07C&amp;returnUrl=https://www.mercurynews.com/2020/02/11/make-the-perfect-roast-chicken-with-tips-from-souvlas-chef/?clearUserState=true\" data-mg2-action=\"click\" data-mce-href=\"https://checkout.mercurynews.com/SubscriptionmultiproductPW1c?g2i_source=ConneXt&amp;g2i_medium=paywall&amp;g2i_campaign=MG2PW07C\" style=\"color: rgb(255, 255, 255); text-decoration: underline; line-height: 1.2;\" data-mce-style=\"color: rgb(255, 255, 255); text-decoration: underline; line-height: 1.2;\" data-mce-selected=\"1\">GET THIS OFFER</a></strong></span></span></p><strong><span style=\"color: #ffffff; font-family: helvetica;\" data-mce-style=\"color: #ffffff; font-family: helvetica;\">Already a subscriber? <a href=\"?returnUrl=https://www.mercurynews.com/2020/02/11/make-the-perfect-roast-chicken-with-tips-from-souvlas-chef/?clearUserState=true\" class=\"strong\" data-mg2-action=\"login\" data-mce-href=\"#\"><span style=\"color: #ffffff; text-decoration: underline;\" data-mce-style=\"color: #ffffff; text-decoration: underline;\">Log in</span></a></span></strong></div></div></div>\n",
      "\t\t<script>\n",
      "\n",
      "\t\tif(getTmplCookie(\"isBannerCollapsedMob\")){\n",
      "\t\t\tjQuery(\".cmg-mg2bn-collapsed\").hide();\n",
      "\t\t}\n",
      "\t\t\tjQuery(\".cmg-collapse-btn\").on(\"click\", function(e){  e.preventDefault();\n",
      "\t\t\t\tjQuery(this).parents(\".cmg-mg2bn-collapsed\").slideUp();\n",
      "\t\t\t\tdocument.cookie = \"isBannerCollapsedMob=true\";\t\n",
      "\t\t\t});\n",
      "\t\t\tjQuery(\".cmg-mg2bn-label, .cmg-reveal-message\").on(\"click\",function(){\n",
      "\t\t\t\tjQuery(this).parents(\".Mg2-connext\").find(\".cmg-mg2bn-collapsed\").slideDown();\n",
      "\t\t\t});\n",
      "\t\t\tfunction getTmplCookie(name) {\n",
      "\t\t\t  var matches = document.cookie.match(new RegExp(\"(?:^|; )\" + name.replace(/([\\.$?*|{}\\(\\)\\[\\]\\\\\\/\\+^])/g, \"\\\\$1\") + \"=([^;]*)\"));\n",
      "\t\t\t  return matches ? decodeURIComponent(matches[1]) : undefined;\n",
      "\t\t\t}\n",
      "\t\t</script>\n",
      "\t</div>\n"
     ]
    }
   ],
   "source": [
    "# url 72\n",
    "i = urls[71]\n",
    "#open_url(i)\n",
    "element = driver.find_element_by_css_selector('#ConneXt_Action_Id-111522')\n",
    "source = element.get_attribute(\"outerHTML\")\n",
    "print(source)\n",
    "ad_type = \"sticky\"\n",
    "data.append({\"TYPE\" : ad_type, \"ad_code\" : source, \"URL\" : i})"
   ]
  },
  {
   "cell_type": "code",
   "execution_count": 463,
   "metadata": {
    "collapsed": true
   },
   "outputs": [
    {
     "name": "stdout",
     "output_type": "stream",
     "text": [
      "<div class=\"qc-cmp-ui qc-cmp-showing\" id=\"qcCmpUi\"><div class=\"qc-cmp-ui-content\">  <div class=\"qc-cmp-initial-info\"> <img class=\"qc-cmp-publisher-logo qc-cmp-hidden\" src=\"\" alt=\"Mirror logo\" onerror=\"window.__cmpui(&quot;hideLogo&quot;,event)\"> <h2 class=\"qc-cmp-title\"> We value your privacy </h2> <p class=\"qc-cmp-main-messaging\"> We and our partners use technologies, such as cookies, and process personal data, such as IP addresses and cookie identifiers, to personalise ads and content based on your interests, measure the performance of ads and content, and derive insights about the audiences who saw ads and content. Click below to consent to the use of this technology and the processing of your personal data for these purposes. You can change your mind and change your consent choices at any time by returning to this site. </p> <div class=\"qc-cmp-alt-buttons\"></div> </div> <div class=\"qc-cmp-buttons\" id=\"qcCmpButtons\"><button class=\"qc-cmp-button qc-cmp-secondary-button\">MORE OPTIONS</button> <button class=\"qc-cmp-button\" onclick=\"window.__cmpui(&quot;setAndSaveAllConsent&quot;,!0)\"> I accept </button> <a id=\"qc-cmp-purpose-button\" class=\"qc-cmp-alt-action\" onclick=\"window.__cmpui(&quot;updateConsentUi&quot;,2)\"> Manage </a> <a id=\"qc-cmp-vendor-button\" class=\"qc-cmp-alt-action\" onclick=\"window.__cmpui(&quot;updateConsentUi&quot;,3)\"> See Vendors </a> </div> <div class=\"qc-cmp-qc-link-container\" style=\"display:flex!important\"> <p class=\"qc-cmp-link-text\" style=\"color: rgb(255, 255, 255);\"> Powered by </p> <a class=\"qc-cmp-qc-link\" target=\"_blank\"> <img id=\"qcLogo\" alt=\"Quantcast - GDPR Consent Solution\" style=\"border-style:none\" src=\"data:image/png;base64,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\" class=\"logo-white\" width=\"70\"> </a> </div> </div> </div>\n"
     ]
    }
   ],
   "source": [
    "# url 73\n",
    "i = urls[72]\n",
    "#open_url(i)\n",
    "element = driver.find_element_by_css_selector('#qcCmpUi')\n",
    "source = element.get_attribute(\"outerHTML\")\n",
    "print(source)\n",
    "ad_type = \"sticky\"\n",
    "data.append({\"TYPE\" : ad_type, \"ad_code\" : source, \"URL\" : i})"
   ]
  },
  {
   "cell_type": "code",
   "execution_count": 467,
   "metadata": {
    "collapsed": true
   },
   "outputs": [
    {
     "name": "stdout",
     "output_type": "stream",
     "text": [
      "<div class=\"optanon-alert-box-wrapper  \" role=\"alertdialog\" aria-labelledby=\"alert-box-title\" aria-describedby=\"alert-box-message\" style=\"top: 0px;\"><div class=\"optanon-alert-box-bottom-top\"></div><div class=\"optanon-alert-box-bg\"><div class=\"optanon-alert-box-logo\"> </div><div class=\"optanon-alert-box-body\"><p class=\"optanon-alert-box-title legacy-banner-title sr-only\" id=\"alert-box-title\" role=\"heading\" aria-level=\"2\">Cookie Notice</p><p class=\"banner-content\" id=\"alert-box-message\">We use cookies to personalise content and ads, to provide social media features and to analyse our traffic. We also share information about your use of our site with our social media, advertising and analytics partners in accordance with our <a href=\"https://www.nature.com/info/privacy.html\" class=\"banner-policy-link\" tabindex=\"1\" aria-label=\"Privacy Policy\">Privacy Policy</a>. You can manage your preferences in 'Manage Cookies'.</p></div><div class=\"optanon-clearfix\"></div><div class=\"optanon-alert-box-button-container\"><div class=\"optanon-alert-box-button optanon-button-close\"><div class=\"optanon-alert-box-button-middle\"><button class=\"optanon-alert-box-close\" aria-label=\"Close\">Close</button></div></div><div class=\"optanon-alert-box-button optanon-button-allow\"><div class=\"optanon-alert-box-button-middle accept-cookie-container\"><button class=\"optanon-allow-all accept-cookies-button\" title=\"OK\" aria-label=\"OK\" onclick=\"Optanon.TriggerGoogleAnalyticsEvent('OneTrust Cookie Consent', 'Banner Accept Cookies');\" tabindex=\"3\">OK</button></div></div><div class=\"optanon-alert-box-button optanon-button-more\"><div class=\"optanon-alert-box-button-middle\"><button class=\"optanon-toggle-display cookie-settings-button\" title=\"Manage Cookies\" aria-label=\"Manage Cookies\" onclick=\"Optanon.TriggerGoogleAnalyticsEvent('OneTrust Cookie Consent', 'Banner Open Preferences');\" tabindex=\"2\">Manage Cookies</button></div></div></div><div class=\"optanon-clearfix optanon-alert-box-bottom-padding\"></div></div></div>\n"
     ]
    }
   ],
   "source": [
    "# url 74\n",
    "i = urls[73]\n",
    "#open_url(i)\n",
    "element = driver.find_element_by_css_selector('.optanon-alert-box-wrapper')\n",
    "source = element.get_attribute(\"outerHTML\")\n",
    "print(source)\n",
    "ad_type = \"sticky\"\n",
    "data.append({\"TYPE\" : ad_type, \"ad_code\" : source, \"URL\" : i})"
   ]
  },
  {
   "cell_type": "code",
   "execution_count": 471,
   "metadata": {
    "collapsed": true
   },
   "outputs": [
    {
     "name": "stdout",
     "output_type": "stream",
     "text": [
      "<div class=\"c-site-messages message c-site-messages--nature-briefing c-site-messages--nature-briefing-email-variant serif c-site-messages--is-visible\" data-component-id=\"nature-briefing-banner\" data-component-expirydays=\"7\" data-component-trigger-scroll-percentage=\"15\" data-track=\"in-view\" data-track-action=\"in-view\" data-track-category=\"nature briefing\" data-track-label=\"banner visible\">\n",
      "\n",
      "    <div class=\"content mq1200-padded\">\n",
      "\n",
      "        \n",
      "        <div class=\"c-site-messages__banner-large\">\n",
      "\n",
      "            <div class=\"c-site-messages__close-container\">\n",
      "                <button class=\"c-site-messages__close\" data-track=\"click\" data-track-category=\"nature briefing\" data-track-label=\"nature briefing banner dismiss\">\n",
      "                    <!--?xml version=\"1.0\" encoding=\"UTF-8\" standalone=\"no\"?-->\n",
      "                    <!--?xml version=\"1.0\" encoding=\"UTF-8\"?-->\n",
      "                    <svg width=\"24px\" height=\"24px\" focusable=\"false\" aria-hidden=\"true\" viewBox=\"0 0 24 24\" version=\"1.1\" xmlns=\"http://www.w3.org/2000/svg\" xmlns:xlink=\"http://www.w3.org/1999/xlink\">\n",
      "                        <title>Close banner</title>\n",
      "                        <defs></defs>\n",
      "                        <g id=\"Symbols\" stroke=\"none\" stroke-width=\"1\" fill=\"none\" fill-rule=\"evenodd\">\n",
      "                            <g id=\"Icon-/-close\">\n",
      "                                <g id=\"Close\">\n",
      "                                    <rect opacity=\"0\" x=\"0\" y=\"0\" width=\"24\" height=\"24\"></rect>\n",
      "                                    <path d=\"M6.29679575,16.2772478 C5.90020818,16.6738354 5.90240728,17.3100587 6.29617427,17.7038257 C6.69268654,18.100338 7.32864195,18.0973145 7.72275218,17.7032043 L12,13.4259564 L16.2772478,17.7032043 C16.6738354,18.0997918 17.3100587,18.0975927 17.7038257,17.7038257 C18.100338,17.3073135 18.0973145,16.671358 17.7032043,16.2772478 L13.4259564,12 L17.7032043,7.72275218 C18.0997918,7.32616461 18.0975927,6.68994127 17.7038257,6.29617427 C17.3073135,5.89966201 16.671358,5.90268552 16.2772478,6.29679575 L12,10.5740436 L7.72275218,6.29679575 C7.32616461,5.90020818 6.68994127,5.90240728 6.29617427,6.29617427 C5.89966201,6.69268654 5.90268552,7.32864195 6.29679575,7.72275218 L10.5740436,12 L6.29679575,16.2772478 Z\" fill=\"#006699\"></path>\n",
      "                                </g>\n",
      "                            </g>\n",
      "                        </g>\n",
      "                    </svg>\n",
      "                    <span class=\"visually-hidden\">Close</span>\n",
      "                </button>\n",
      "            </div>\n",
      "\n",
      "            <div class=\"c-site-messages__form-container\">\n",
      "                <form action=\"/briefing/signup/formfeedback\" method=\"post\" class=\"nature-briefing-banner__form box-sizing grid grid-12 last\" data-location=\"banner\" data-track=\"submit\" data-track-action=\"transmit-form\">\n",
      "                    <div class=\"grid grid-6\">\n",
      "                        <div class=\"text13 grid grid-7\">\n",
      "                            <span class=\"block strong extra-tight-line-height sans-serif\">Sign up for the <em>Nature Briefing</em> newsletter — what matters in science, free to your inbox daily.</span>\n",
      "                        </div>\n",
      "\n",
      "                        <div class=\"grid grid-5 last\">\n",
      "                            <label for=\"banner-EmailAddressInput\" class=\"visually-hidden\">Enter your email address</label>\n",
      "                            <input class=\"nature-briefing-banner__email-input border-gray border-all-1 equalize-line-height pa10 box-sizing text13\" type=\"email\" id=\"banner-EmailAddressInput\" name=\"email_field\" value=\"\" placeholder=\"Enter your email address\" required=\"true\" aria-required=\"true\" data-track=\"click\" data-track-category=\"briefing-banner-form-input\" data-track-label=\"briefing-banner-form-input\">\n",
      "                        </div>\n",
      "                    </div>\n",
      "\n",
      "                    <div class=\"grid grid-6 last\">\n",
      "                        <div class=\"grid grid-9\">\n",
      "                            <div class=\"grid grid-12 last\">\n",
      "                                <input class=\"nature-briefing-banner__checkbox-checkbox\" id=\"gdpr-briefing-banner-checkbox\" type=\"checkbox\" name=\"gdpr\" value=\"1\" required=\"\">\n",
      "                                <label class=\"nature-briefing-banner__checkbox-label box-sizing text13 sans-serif block tighten-line-height\" for=\"gdpr-briefing-banner-checkbox\">I agree my information will be processed in accordance with the <em>Nature</em> and Springer Nature Limited <a href=\"https://www.nature.com/info/privacy\">Privacy Policy</a>.</label>\n",
      "                            </div>\n",
      "                        </div>\n",
      "\n",
      "                        <div class=\"grid grid-3 last\">\n",
      "                            <button type=\"submit\" class=\"nature-briefing-banner__submit-button box-sizing\" data-track=\"click\" data-track-category=\"signup-form-button\" data-track-action=\"transmit-form\" data-track-label=\"briefing-banner-form-submit-button\">Sign up</button>\n",
      "                        </div>\n",
      "                    </div>\n",
      "                </form>\n",
      "            </div>\n",
      "\n",
      "        </div>\n",
      "\n",
      "        \n",
      "        <div class=\"c-site-messages__banner-small\">\n",
      "\n",
      "            <div class=\"c-site-messages__content text14\">\n",
      "                <span class=\"strong\">Get the most important science stories of the day, free in your inbox.</span>\n",
      "                <a class=\"nature-briefing__link text14 sans-serif\" data-track=\"click\" data-track-category=\"nature briefing\" data-track-label=\"nature briefing banner subscribe\" target=\"_blank\" rel=\"noreferrer noopener\" href=\"https://www.nature.com/briefing/signup/\">Sign up for Nature Briefing\n",
      "                </a>\n",
      "            </div>\n",
      "            <div class=\"c-site-messages__close-container pin-right\">\n",
      "                <button class=\"c-site-messages__close\" data-track=\"click\" data-track-category=\"nature briefing\" data-track-label=\"nature briefing banner dismiss\">\n",
      "                    <span class=\"icon--inline inline-block\"><!--?xml version=\"1.0\" encoding=\"UTF-8\" standalone=\"no\"?-->\n",
      "                        <!--?xml version=\"1.0\" encoding=\"UTF-8\"?-->\n",
      "                        <svg width=\"24px\" height=\"24px\" focusable=\"false\" aria-hidden=\"true\" viewBox=\"0 0 24 24\" version=\"1.1\" xmlns=\"http://www.w3.org/2000/svg\" xmlns:xlink=\"http://www.w3.org/1999/xlink\">\n",
      "                            <title>Close banner</title>\n",
      "                            <defs></defs>\n",
      "                            <g id=\"Symbols\" stroke=\"none\" stroke-width=\"1\" fill=\"none\" fill-rule=\"evenodd\">\n",
      "                                <g id=\"Icon-/-close\">\n",
      "                                    <g id=\"Close\">\n",
      "                                        <rect opacity=\"0\" x=\"0\" y=\"0\" width=\"24\" height=\"24\"></rect>\n",
      "                                        <path d=\"M6.29679575,16.2772478 C5.90020818,16.6738354 5.90240728,17.3100587 6.29617427,17.7038257 C6.69268654,18.100338 7.32864195,18.0973145 7.72275218,17.7032043 L12,13.4259564 L16.2772478,17.7032043 C16.6738354,18.0997918 17.3100587,18.0975927 17.7038257,17.7038257 C18.100338,17.3073135 18.0973145,16.671358 17.7032043,16.2772478 L13.4259564,12 L17.7032043,7.72275218 C18.0997918,7.32616461 18.0975927,6.68994127 17.7038257,6.29617427 C17.3073135,5.89966201 16.671358,5.90268552 16.2772478,6.29679575 L12,10.5740436 L7.72275218,6.29679575 C7.32616461,5.90020818 6.68994127,5.90240728 6.29617427,6.29617427 C5.89966201,6.69268654 5.90268552,7.32864195 6.29679575,7.72275218 L10.5740436,12 L6.29679575,16.2772478 Z\" fill=\"#006699\"></path>\n",
      "                                    </g>\n",
      "                                </g>\n",
      "                            </g>\n",
      "                        </svg>\n",
      "                    </span>\n",
      "                    <span class=\"visually-hidden\">Close</span>\n",
      "                </button>\n",
      "            </div>\n",
      "\n",
      "        </div>\n",
      "\n",
      "    </div>\n",
      "\n",
      "</div>\n"
     ]
    }
   ],
   "source": [
    "# url 75\n",
    "i = urls[74]\n",
    "#open_url(i)\n",
    "element = driver.find_element_by_css_selector('.c-site-messages')\n",
    "source = element.get_attribute(\"outerHTML\")\n",
    "print(source)\n",
    "ad_type = \"sticky\"\n",
    "data.append({\"TYPE\" : ad_type, \"ad_code\" : source, \"URL\" : i})"
   ]
  },
  {
   "cell_type": "code",
   "execution_count": 475,
   "metadata": {
    "collapsed": true
   },
   "outputs": [
    {
     "name": "stdout",
     "output_type": "stream",
     "text": [
      "<div data-ad=\"nav-ad-plus-leader\" data-ad-container=\"5e42ebb94078b\" class=\"ad-nav-ad-plus-leader ad-slot skybox-closeBtn skybox-collapseBtn skybox-videoStop rendered sticky-nav-leader\" data-instance=\"1\" id=\"nav-ad-plus-leader\" data-google-query-id=\"CKG1oO2SyucCFQdviwodhwAHiw\">\n",
      "    <div id=\"google_ads_iframe_/8264/aw-cnet/appliances/smart-home_1__container__\" style=\"border: 0pt none;\"><iframe id=\"google_ads_iframe_/8264/aw-cnet/appliances/smart-home_1\" title=\"3rd party ad content\" name=\"google_ads_iframe_/8264/aw-cnet/appliances/smart-home_1\" scrolling=\"no\" marginwidth=\"0\" marginheight=\"0\" style=\"border: 0px none; vertical-align: bottom;\" srcdoc=\"\" data-google-container-id=\"1\" data-load-complete=\"true\" width=\"728\" height=\"90\" frameborder=\"0\"></iframe></div></div>\n"
     ]
    }
   ],
   "source": [
    "# url 76\n",
    "i = urls[75]\n",
    "#open_url(i)\n",
    "element = driver.find_element_by_css_selector('#nav-ad-plus-leader')\n",
    "source = element.get_attribute(\"outerHTML\")\n",
    "print(source)\n",
    "ad_type = \"sticky\"\n",
    "data.append({\"TYPE\" : ad_type, \"ad_code\" : source, \"URL\" : i})"
   ]
  },
  {
   "cell_type": "code",
   "execution_count": 479,
   "metadata": {
    "collapsed": true
   },
   "outputs": [
    {
     "name": "stdout",
     "output_type": "stream",
     "text": [
      "<div data-ad=\"nav-ad-plus-leader\" data-ad-container=\"5e42eb7db0a0e\" class=\"ad-nav-ad-plus-leader ad-slot skybox-closeBtn skybox-collapseBtn skybox-videoStop rendered sticky-nav-leader\" data-instance=\"1\" id=\"nav-ad-plus-leader\" data-google-query-id=\"CLj686mTyucCFcS0lgodAfwEPQ\">\n",
      "    <div id=\"google_ads_iframe_/8264/aw-cnet/home-entertainment/tvs_1__container__\" style=\"border: 0pt none;\"><iframe id=\"google_ads_iframe_/8264/aw-cnet/home-entertainment/tvs_1\" title=\"3rd party ad content\" name=\"google_ads_iframe_/8264/aw-cnet/home-entertainment/tvs_1\" scrolling=\"no\" marginwidth=\"0\" marginheight=\"0\" style=\"border: 0px none; vertical-align: bottom;\" srcdoc=\"\" data-google-container-id=\"1\" data-load-complete=\"true\" width=\"728\" height=\"90\" frameborder=\"0\"></iframe></div></div>\n"
     ]
    }
   ],
   "source": [
    "# url 77\n",
    "i = urls[76]\n",
    "#open_url(i)\n",
    "element = driver.find_element_by_css_selector('#nav-ad-plus-leader')\n",
    "source = element.get_attribute(\"outerHTML\")\n",
    "print(source)\n",
    "ad_type = \"sticky\"\n",
    "data.append({\"TYPE\" : ad_type, \"ad_code\" : source, \"URL\" : i})"
   ]
  },
  {
   "cell_type": "code",
   "execution_count": 482,
   "metadata": {
    "collapsed": true
   },
   "outputs": [
    {
     "name": "stdout",
     "output_type": "stream",
     "text": [
      "<div data-ad=\"nav-ad-plus-leader\" data-ad-container=\"5e42ed7736bf8\" class=\"ad-nav-ad-plus-leader ad-slot skybox-closeBtn skybox-collapseBtn skybox-videoStop rendered sticky-nav-leader\" data-instance=\"1\" id=\"nav-ad-plus-leader\" data-google-query-id=\"CL7c0r-TyucCFZGxlgod2BoE1Q\">\n",
      "    <div id=\"google_ads_iframe_/8264/aw-cnet/computers_1__container__\" style=\"border: 0pt none;\"><iframe id=\"google_ads_iframe_/8264/aw-cnet/computers_1\" title=\"3rd party ad content\" name=\"google_ads_iframe_/8264/aw-cnet/computers_1\" scrolling=\"no\" marginwidth=\"0\" marginheight=\"0\" style=\"border: 0px none; vertical-align: bottom;\" srcdoc=\"\" sandbox=\"allow-forms allow-pointer-lock allow-popups allow-popups-to-escape-sandbox allow-same-origin allow-scripts allow-top-navigation-by-user-activation\" data-google-container-id=\"1\" data-load-complete=\"true\" width=\"728\" height=\"90\" frameborder=\"0\"></iframe></div></div>\n"
     ]
    }
   ],
   "source": [
    "# url 78\n",
    "i = urls[77]\n",
    "#open_url(i)\n",
    "element = driver.find_element_by_css_selector('#nav-ad-plus-leader')\n",
    "source = element.get_attribute(\"outerHTML\")\n",
    "print(source)\n",
    "ad_type = \"sticky\"\n",
    "data.append({\"TYPE\" : ad_type, \"ad_code\" : source, \"URL\" : i})"
   ]
  },
  {
   "cell_type": "code",
   "execution_count": 485,
   "metadata": {
    "collapsed": true
   },
   "outputs": [
    {
     "name": "stdout",
     "output_type": "stream",
     "text": [
      "<div class=\"optanon-alert-box-wrapper  \" role=\"alertdialog\" aria-labelledby=\"alert-box-title\" aria-describedby=\"alert-box-message\" style=\"bottom: 0px;\"><div class=\"optanon-alert-box-bottom-top\"><div class=\"optanon-alert-box-corner-close\"><button class=\"optanon-alert-box-close banner-close-button\" aria-label=\"Close\" title=\"Close\" onclick=\"Optanon.TriggerGoogleAnalyticsEvent('OneTrust Cookie Consent', 'Banner Close Button');\" tabindex=\"3\"></button></div></div><div class=\"optanon-alert-box-bg\"><div class=\"optanon-alert-box-logo\"> </div><div class=\"optanon-alert-box-body\"><p class=\"optanon-alert-box-title legacy-banner-title sr-only\" id=\"alert-box-title\" role=\"heading\" aria-level=\"2\">Cookie Notice</p><p class=\"banner-content\" id=\"alert-box-message\">ThePointsGuy.com uses cookies to provide you with a great experience and enables you to enjoy all the functionality of the site.</p></div><div class=\"optanon-clearfix\"></div><div class=\"optanon-alert-box-button-container\"><div class=\"optanon-alert-box-button optanon-button-close\"><div class=\"optanon-alert-box-button-middle\"><button class=\"optanon-alert-box-close\" aria-label=\"Close\">Close</button></div></div><div class=\"optanon-alert-box-button optanon-button-allow\"><div class=\"optanon-alert-box-button-middle accept-cookie-container\"><button class=\"optanon-allow-all accept-cookies-button\" title=\"Accept Cookies\" aria-label=\"Accept Cookies\" onclick=\"Optanon.TriggerGoogleAnalyticsEvent('OneTrust Cookie Consent', 'Banner Accept Cookies');\" tabindex=\"2\">Accept Cookies</button></div></div><div class=\"optanon-alert-box-button optanon-button-more\"><div class=\"optanon-alert-box-button-middle\"><button class=\"optanon-toggle-display cookie-settings-button\" title=\"Cookie Preferences\" aria-label=\"Cookie Preferences\" onclick=\"Optanon.TriggerGoogleAnalyticsEvent('OneTrust Cookie Consent', 'Banner Open Preferences');\" tabindex=\"1\">Cookie Preferences</button></div></div></div><div class=\"optanon-clearfix optanon-alert-box-bottom-padding\"></div></div></div>\n"
     ]
    }
   ],
   "source": [
    "# url 79\n",
    "i = urls[78]\n",
    "#open_url(i)\n",
    "element = driver.find_element_by_css_selector('.optanon-alert-box-wrapper')\n",
    "source = element.get_attribute(\"outerHTML\")\n",
    "print(source)\n",
    "ad_type = \"sticky\"\n",
    "data.append({\"TYPE\" : ad_type, \"ad_code\" : source, \"URL\" : i})"
   ]
  },
  {
   "cell_type": "code",
   "execution_count": 488,
   "metadata": {
    "collapsed": true
   },
   "outputs": [
    {
     "name": "stdout",
     "output_type": "stream",
     "text": [
      "<div class=\"cookie-notification cookie-notification--display\">\n",
      "  <div class=\"cookie-notification--border-chrome\">\n",
      "    <div class=\"cookie-notification--text\">\n",
      "     <div>This site uses cookies for analytics and personalized content.</div><div>By continuing to browse this site, you agree to this use. </div><div>Learn more about our use of <a href=\"https://www.pokemon.com/us/cookie-page/\">cookies</a> and how to configure them.</div>\n",
      "    </div>\n",
      "      <div id=\"cookie-dismisser\" class=\"gus-close-button\">\n",
      "    </div>\n",
      "  </div>\n",
      "</div>\n"
     ]
    }
   ],
   "source": [
    "# url 80\n",
    "i = urls[79]\n",
    "#open_url(i)\n",
    "element = driver.find_element_by_css_selector('.cookie-notification')\n",
    "source = element.get_attribute(\"outerHTML\")\n",
    "print(source)\n",
    "ad_type = \"sticky\"\n",
    "data.append({\"TYPE\" : ad_type, \"ad_code\" : source, \"URL\" : i})"
   ]
  },
  {
   "cell_type": "code",
   "execution_count": 638,
   "metadata": {},
   "outputs": [],
   "source": [
    "ad_type = \"sticky\""
   ]
  },
  {
   "cell_type": "code",
   "execution_count": 515,
   "metadata": {
    "collapsed": true
   },
   "outputs": [
    {
     "name": "stdout",
     "output_type": "stream",
     "text": [
      "<div id=\"global-stickybar-mount\" class=\"global-stickybar-mount\"><span data-reactroot=\"\"><section class=\"global-stickybar\"><button class=\"global-stickybar__dismiss\">X</button><div class=\"global-stickybar__inner\"><section class=\"callout callout--newsletter callout--politics \"><div class=\"callout__inner\"><!-- react-text: 8 --><!-- /react-text --><div class=\"callout__main\"><div><h2 class=\"callout__header\">Sign Up For The NPR Politics Newsletter</h2><p class=\"callout__description\">From the White House to your home — political news and analysis that matter, sent weekly.</p></div><b class=\"callout__error\"></b><form id=\"callout__form--newsletter\" class=\"callout__form\"><label for=\"callout__input\">E-mail address</label><input type=\"hidden\" name=\"newsletterId\" value=\"politics\"><input type=\"email\" class=\"callout__input\" id=\"callout__input\" name=\"email\" placeholder=\"What's your email?\"><div class=\"g-recaptcha\" data-sitekey=\"6LfD6CYUAAAAAIBeUekwZ9KCjF4UyLFtu7NWNaEK\" data-callback=\"onNewsletterSubmitRecaptcha\" data-error-callback=\"onNewsletterErrorRecaptcha\" data-size=\"invisible\"></div><input type=\"submit\" class=\"callout__submit\" value=\"subscribe\"></form><footer class=\"callout__footer\"><p>By subscribing, you agree to <a href=\"/about-npr/179876898/terms-of-use\">NPR's terms of use</a> and <a href=\"/about-npr/179878450/privacy-policy\">privacy policy</a>. NPR may share your name and email address with your NPR station. <a href=\"https://www.npr.org/about-npr/179878450/privacy-policy#disclosure\">See Details</a>. This site is protected by reCAPTCHA and the Google <a href=\"https://policies.google.com/privacy\">Privacy Policy</a> and <a href=\"https://policies.google.com/terms\">Terms of Service</a> apply.</p></footer></div></div></section></div></section></span></div>\n"
     ]
    }
   ],
   "source": [
    "# url 81\n",
    "i = urls[80]\n",
    "#open_url(i)\n",
    "element = driver.find_element_by_css_selector('#global-stickybar-mount')\n",
    "source = element.get_attribute(\"outerHTML\")\n",
    "print(source)\n",
    "data.append({\"TYPE\" : ad_type, \"ad_code\" : source, \"URL\" : i})"
   ]
  },
  {
   "cell_type": "code",
   "execution_count": 517,
   "metadata": {
    "collapsed": true
   },
   "outputs": [
    {
     "name": "stdout",
     "output_type": "stream",
     "text": [
      "<div class=\"ad-wrapper outer tablet-ad desktop-ad full-column\" style=\"\">\n",
      "                  \n",
      "                    <div class=\"ad-sticky-container tablet-ad\">\n",
      "                  \n",
      "                    <div id=\"ad-101x1_728x90_ATF\" data-tgxposition=\"1\" data-companion=\"companion\" data-tgxsticky=\"header\" data-tgxcompanion=\"true\" class=\"ad ad-container ad-wrapper type-banner type-728x90 padding-8-tb tablet-ad tgx-processed\" data-dimensions=\"101x1;728x90\" role=\"complementary\" aria-hidden=\"true\">\n",
      "                    </div>\n",
      "                    </div>\n",
      "                  \n",
      "                    <div class=\"ad-sticky-container desktop-ad\" style=\"\">\n",
      "                  \n",
      "                    <div id=\"oop_1581765021303\" style=\"width: 0px; height: 0px;\" data-google-query-id=\"CJmFtvO10-cCFcq8lgodUWwA4w\"><div id=\"google_ads_iframe_/21801468956/tim.mdp.com/living/article_0__container__\" style=\"border: 0pt none;\"><iframe id=\"google_ads_iframe_/21801468956/tim.mdp.com/living/article_0\" title=\"3rd party ad content\" name=\"google_ads_iframe_/21801468956/tim.mdp.com/living/article_0\" scrolling=\"no\" marginwidth=\"0\" marginheight=\"0\" style=\"border: 0px none; vertical-align: bottom;\" srcdoc=\"\" data-google-container-id=\"1\" data-load-complete=\"true\" width=\"1\" height=\"1\" frameborder=\"0\"></iframe></div></div><div id=\"ad-101x1_970x90_970x66_970x250_728x90_1920x480_1920x300_ATF\" data-tgxposition=\"1\" data-companion=\"companion\" data-tgxsticky=\"header\" data-tgxcompanion=\"true\" class=\"ad ad-container ad-wrapper type-banner type-970x90-flex padding-8-tb desktop-ad tgx-processed\" data-dimensions=\"101x1;970x90;970x66;970x250;728x90;1920x480;1920x300\" role=\"complementary\" aria-hidden=\"true\" data-google-query-id=\"CJmq9PO10-cCFReblgodbEsEhg\">\n",
      "                    <div id=\"google_ads_iframe_/21801468956/tim.mdp.com/living/article_1__container__\" style=\"border: 0pt none;\"><iframe id=\"google_ads_iframe_/21801468956/tim.mdp.com/living/article_1\" title=\"3rd party ad content\" name=\"google_ads_iframe_/21801468956/tim.mdp.com/living/article_1\" scrolling=\"no\" marginwidth=\"0\" marginheight=\"0\" style=\"border: 0px none; vertical-align: bottom;\" srcdoc=\"\" data-google-container-id=\"2\" data-load-complete=\"true\" width=\"970\" height=\"250\" frameborder=\"0\"></iframe></div></div>\n",
      "                    </div>\n",
      "              </div>\n"
     ]
    }
   ],
   "source": [
    "# url 82\n",
    "i = urls[81]\n",
    "#open_url(i)\n",
    "element = driver.find_element_by_css_selector('.outer')\n",
    "source = element.get_attribute(\"outerHTML\")\n",
    "print(source)\n",
    "data.append({\"TYPE\" : ad_type, \"ad_code\" : source, \"URL\" : i})"
   ]
  },
  {
   "cell_type": "code",
   "execution_count": 519,
   "metadata": {
    "collapsed": true
   },
   "outputs": [
    {
     "name": "stdout",
     "output_type": "stream",
     "text": [
      "<div id=\"cx-notification-wrapper\" class=\"gdpr-message\">\n",
      "  <div class=\"notification-contain\">\n",
      "    <div class=\"notification-inner\">\n",
      "      <div class=\"notification-content\">\n",
      "        <div class=\"notification-title\">Cookie Notice</div>\n",
      "        <div class=\"notification-body\">We use cookies for analytics, advertising and to improve our site.\n",
      "          You agree to our use of cookies by closing this message box or continuing to use our site.\n",
      "          To find out more, including how to change your settings, see our\n",
      "          <a id=\"cXLinkIdk6ni386amnlxhsid\" href=\"https://dowjones.com/cookie-notice?mod=mg&amp;cx_u_policy=mgoct2017\" target=\"_top\">Cookie Notice</a>\n",
      "        </div>\n",
      "      </div>\n",
      "    </div>\n",
      "    <a class=\"gdpr-close\" title=\"Close Notification\">\n",
      "      <svg xmlns=\"http://www.w3.org/2000/svg\" viewBox=\"0 0 14.7 14.7\">\n",
      "          <path d=\"M14.7.7L14 0 7.4 6.6.7 0 0 .7l6.6 6.7L0 14l.7.7 6.7-6.6 6.6 6.6.7-.7-6.6-6.6\"></path>\n",
      "      </svg>\n",
      "    </a>\n",
      "  </div>\n",
      "</div>\n"
     ]
    }
   ],
   "source": [
    "# url 83\n",
    "i = urls[82]\n",
    "#open_url(i)\n",
    "element = driver.find_element_by_css_selector('#cx-notification-wrapper')\n",
    "source = element.get_attribute(\"outerHTML\")\n",
    "print(source)\n",
    "data.append({\"TYPE\" : ad_type, \"ad_code\" : source, \"URL\" : i})"
   ]
  },
  {
   "cell_type": "code",
   "execution_count": 523,
   "metadata": {
    "collapsed": true
   },
   "outputs": [
    {
     "name": "stdout",
     "output_type": "stream",
     "text": [
      "<div id=\"mntl-leaderboard-header_1-0\" class=\"comp has-right-label leaderboard--header mntl-leaderboard-header mntl-flexible-leaderboard mntl-flexible-ad mntl-gpt-adunit gpt leaderboard\" data-options=\"99\" data-ad-width=\"970\" data-ad-height=\"250\">\n",
      "<div id=\"leaderboard\" class=\"wrapper\" data-google-query-id=\"CK37tZi90-cCFdAyKgod95ECZA\"><div id=\"google_ads_iframe_/479/thespruce/spr_landscaping/leaderboard_0__container__\" style=\"border: 0pt none; padding-top: 0px;\"><iframe id=\"google_ads_iframe_/479/thespruce/spr_landscaping/leaderboard_0\" title=\"3rd party ad content\" name=\"google_ads_iframe_/479/thespruce/spr_landscaping/leaderboard_0\" scrolling=\"no\" marginwidth=\"0\" marginheight=\"0\" style=\"border: 0px none; vertical-align: bottom;\" srcdoc=\"\" data-google-container-id=\"1\" data-load-complete=\"true\" width=\"970\" height=\"250\" frameborder=\"0\"></iframe></div></div>\n",
      "</div>\n"
     ]
    }
   ],
   "source": [
    "# url 84\n",
    "i = urls[83]\n",
    "#open_url(i)\n",
    "element = driver.find_element_by_css_selector('#mntl-leaderboard-header_1-0')\n",
    "source = element.get_attribute(\"outerHTML\")\n",
    "print(source)\n",
    "data.append({\"TYPE\" : ad_type, \"ad_code\" : source, \"URL\" : i})"
   ]
  },
  {
   "cell_type": "code",
   "execution_count": 525,
   "metadata": {
    "collapsed": true
   },
   "outputs": [
    {
     "name": "stdout",
     "output_type": "stream",
     "text": [
      "<div style=\"background-color: rgb(244, 244, 244); opacity: 1;\" class=\"cookie_policy\">\n",
      "<div class=\"sobeys_container\">\n",
      "<div class=\"col_left\">\n",
      "\t\t\t<h2 style=\"color:#000\" class=\"cookie_policy_title\">Cookie &amp; Privacy Policy</h2>\n",
      "\t\t<div class=\"scp_desc\">\n",
      "\t\t\t<span style=\"color:#404040\" class=\"cookie_policy_desc\"><span>We use Cookies to create the most secure and effective Website experience for our customers. For more information about Cookies and how you can disable Cookies,</span> <span>visit our privacy policy page.</span> \t\t<span class=\"cookie_policy_lmore\"><a style=\"color:#f4b233\" href=\"http://beercorpp.wpengine.com/privacy-policy/ \" target=\"_self\">Learn More</a></span></span>\n",
      "\t\n",
      "\t\t</div>\n",
      "   </div> \n",
      "    \n",
      "    <div class=\"col_right\">\n",
      "\t\t<span style=\"background-color:#f4b233;color:#000;\" class=\"cookie_policy_btn\">Ok</span>\n",
      "\t    </div>\n",
      "    </div>\n",
      "\t</div>\n"
     ]
    }
   ],
   "source": [
    "# url 85\n",
    "i = urls[84]\n",
    "#open_url(i)\n",
    "element = driver.find_element_by_css_selector('.cookie_policy')\n",
    "source = element.get_attribute(\"outerHTML\")\n",
    "print(source)\n",
    "data.append({\"TYPE\" : ad_type, \"ad_code\" : source, \"URL\" : i})"
   ]
  },
  {
   "cell_type": "code",
   "execution_count": 527,
   "metadata": {
    "collapsed": true
   },
   "outputs": [
    {
     "name": "stdout",
     "output_type": "stream",
     "text": [
      "<div class=\"popup_content--2JBXA\"><div class=\"intro_intro--Ntqks\"><span class=\"closebutton_closeButton--3abym closebutton_hasBorder--1W5To \"><svg width=\"30\" height=\"30\" viewBox=\"0 0 16 16\" preserveAspectRatio=\"xMidYMid meet\"><path d=\"M6.837 8l-2.45-2.464 1.17-1.17 2.45 2.464 2.465-2.465 1.17 1.17L9.162 8l2.48 2.464-1.167 1.17-2.467-2.48-2.48 2.48-1.17-1.17L6.838 8z\"></path></svg></span><div class=\"intro_title--RHESN\"><span class=\"\">Your privacy settings</span></div><div class=\"intro_introWrap--2tfha\"><div class=\"intro_description--3WeSb\"><span class=\"\">We use cookies to bring you personalized content, relevant ads, social media features, and to better understand how you use our website. (e.g IP Address) To do this, we sometimes share this data with social media, advertising, and analytics partners, who may in turn combine it with other data you've given them. Your data may be stored by us and our service providers. In case the applicable data protection laws provide so, you may access, rectify, and erase the data or you may restrict or object to our processing of your data. Please contact us in such event. Click the \"SETTINGS\" button to change your privacy settings and learn more about our use of cookies, or click \"ACCEPT\" to agree with the above mentioned. You can change your mind and change your consent choices at any time by returning to this site.</span></div><div class=\"intro_actions--2q7Hg\"><button class=\"button_button--lgX0P intro_acceptAll--23PPA \"><span class=\"\">Accept</span></button><button class=\"button_button--lgX0P intro_showSettings--Cd9hu button_invert--1bse9\"><span class=\"\">Settings</span></button></div></div><div class=\"intro_links--37tmv\"><a><span class=\"\">Vendor List</span></a><span> | </span><a href=\"/privacy\" target=\"_blank\"><span class=\"\">Privacy policy</span></a><span> | </span><a><span class=\"\">Features</span></a></div></div></div>\n"
     ]
    }
   ],
   "source": [
    "# url 86\n",
    "i = urls[85]\n",
    "#open_url(i)\n",
    "element = driver.find_element_by_css_selector('.popup_content--2JBXA')\n",
    "source = element.get_attribute(\"outerHTML\")\n",
    "print(source)\n",
    "data.append({\"TYPE\" : ad_type, \"ad_code\" : source, \"URL\" : i})"
   ]
  },
  {
   "cell_type": "code",
   "execution_count": 529,
   "metadata": {
    "collapsed": true
   },
   "outputs": [
    {
     "name": "stdout",
     "output_type": "stream",
     "text": [
      "<div id=\"block-ag_footer_content-ag_footer_content\" class=\"block block-ag-footer-content block-even clearfix\">\n",
      "<div class=\"footer-content\">\n",
      "<div class=\"container\">\n",
      "<div class=\"addiction-game-sec\">\n",
      "<div class=\"container\">\n",
      "<div class=\"add-bx-section\">\n",
      "<div class=\"game-gallerty inn_panel1_box\">\n",
      "<div class=\"new-games-buttons-wrapper\">\n",
      "</div>\n",
      "<div class=\"row add-bx-row\">\n",
      " <div class=\"add-bx-side\">\n",
      "<div class=\"col-lg-2 col-md-2 col-sm-2 inn_box_panel1\">\n",
      "<div class=\"inn_box_panel1_box\">\n",
      "<a class=\"recent-node-link pic_box\" data-nid=\"19016\" href=\"https://www.addictinggames.com/puzzle/bubble-spinner?utm_source=https%3A%2F%2Fwww.addictinggames.com%2Fpuzzle%2Fbubble-spinner&amp;utm_position=footer\">\n",
      "<div class=\"thumbnail-image mobile-enabled\"><div class=\"b-loader\">\n",
      "<img class=\"b-lazy b-loaded\" src=\"https://www.addictinggames.com/sites/default/files/styles/homepage_views_style/public/bubblespinner_sp.png?itok=bhPwin0Z\" alt=\"\">\n",
      "</div></div> </a>\n",
      "<h4 class=\"txt_box\">\n",
      "<a href=\"https://www.addictinggames.com/puzzle/bubble-spinner?utm_source=https%3A%2F%2Fwww.addictinggames.com%2Fpuzzle%2Fbubble-spinner&amp;utm_position=footer\">Bubble Spinner</a>\n",
      "</h4>\n",
      "<div class=\"video-thumb-link\" data-video=\"https://www.addictinggames.com/sites/default/files/bubblespinner.mp4\"></div>\n",
      "</div>\n",
      "</div> <div class=\"col-lg-2 col-md-2 col-sm-2 inn_box_panel1\">\n",
      "<div class=\"inn_box_panel1_box\">\n",
      "<a class=\"recent-node-link pic_box\" data-nid=\"18557\" href=\"https://www.addictinggames.com/puzzle/mahjongg?utm_source=https%3A%2F%2Fwww.addictinggames.com%2Fpuzzle%2Fbubble-spinner&amp;utm_position=footer\">\n",
      "<div class=\"thumbnail-image mobile-enabled\"><div class=\"b-loader\">\n",
      "<img class=\"b-lazy b-loaded\" src=\"https://www.addictinggames.com/sites/default/files/styles/homepage_views_style/public/mahjongg_sp.png?itok=7W2JFQt0\" alt=\"\">\n",
      "</div></div> </a>\n",
      "<h4 class=\"txt_box\">\n",
      "<a href=\"https://www.addictinggames.com/puzzle/mahjongg?utm_source=https%3A%2F%2Fwww.addictinggames.com%2Fpuzzle%2Fbubble-spinner&amp;utm_position=footer\">Mahjongg</a>\n",
      "</h4>\n",
      "<div class=\"video-thumb-link\" data-video=\"https://www.addictinggames.com/sites/default/files/mahjongg.mp4\"></div>\n",
      "</div>\n",
      "</div> <div class=\"col-lg-2 col-md-2 col-sm-2 inn_box_panel1\">\n",
      "<div class=\"inn_box_panel1_box\">\n",
      "<a class=\"recent-node-link pic_box\" data-nid=\"23658\" href=\"https://www.addictinggames.com/puzzle/1000-blocks?utm_source=https%3A%2F%2Fwww.addictinggames.com%2Fpuzzle%2Fbubble-spinner&amp;utm_position=footer\">\n",
      "<div class=\"thumbnail-image mobile-enabled\"><div class=\"b-loader b-loading\">\n",
      "<img class=\"b-lazy\" src=\"data:image/gif;base64,R0lGODlhAQABAAAAACH5BAEKAAEALAAAAAABAAEAAAICTAEAOw==\" data-src=\"https://www.addictinggames.com/sites/default/files/styles/homepage_views_style/public/1000-blocks.JPG?itok=HotL-L59\" alt=\"\">\n",
      "</div></div> </a>\n",
      "<h4 class=\"txt_box\">\n",
      "<a href=\"https://www.addictinggames.com/puzzle/1000-blocks?utm_source=https%3A%2F%2Fwww.addictinggames.com%2Fpuzzle%2Fbubble-spinner&amp;utm_position=footer\">1000 Blocks</a>\n",
      "</h4>\n",
      "<div class=\"video-thumb-link\" data-video=\"https://www.addictinggames.com/sites/default/files/1000-blocks.mp4\"></div>\n",
      "</div>\n",
      "</div> <div class=\"col-lg-2 col-md-2 col-sm-2 inn_box_panel1\">\n",
      "<div class=\"inn_box_panel1_box\">\n",
      "<a class=\"recent-node-link pic_box\" data-nid=\"23623\" href=\"https://www.addictinggames.com/sports/3d-free-kick?utm_source=https%3A%2F%2Fwww.addictinggames.com%2Fpuzzle%2Fbubble-spinner&amp;utm_position=footer\">\n",
      "<div class=\"thumbnail-image mobile-enabled\"><div class=\"b-loader b-loading\">\n",
      "<img class=\"b-lazy\" src=\"data:image/gif;base64,R0lGODlhAQABAAAAACH5BAEKAAEALAAAAAABAAEAAAICTAEAOw==\" data-src=\"https://www.addictinggames.com/sites/default/files/styles/homepage_views_style/public/3dFreeKick.jpg?itok=xMXS9xWd\" alt=\"\">\n",
      "</div></div> </a>\n",
      "<h4 class=\"txt_box\">\n",
      "<a href=\"https://www.addictinggames.com/sports/3d-free-kick?utm_source=https%3A%2F%2Fwww.addictinggames.com%2Fpuzzle%2Fbubble-spinner&amp;utm_position=footer\">3D Free Kick</a>\n",
      "</h4>\n",
      "<div class=\"video-thumb-link\" data-video=\"https://www.addictinggames.com/sites/default/files/soccer.mp4\"></div>\n",
      "</div>\n",
      "</div> </div>\n",
      "<div class=\"add-bx\">\n",
      "<div class=\"ympb_target_banner\" id=\"ympb_slot__desktop-leaderboard-template-0\" style=\"min-height: auto; clear: both;\"><div class=\"ympb_target_wrapper\" id=\"ympb_wrapper__desktop-leaderboard-template-0\" style=\"display: block;\"><div class=\"ympb_target\" data-type=\"desktop-leaderboard-template\" data-subtype=\"728x90\" style=\"\" data-outer-html=\"<div class=&quot;ympb_target_delay&quot; data-type=&quot;desktop-leaderboard-template&quot; data-subtype=&quot;728x90&quot; style=&quot;min-height: 90px;&quot;></div>\"><div class=\"ympb_target_size_corrector\" style=\"min-width: 728px; min-height: 90px;\"><div class=\"ympb_instanse\" id=\"desktop-leaderboard-template-0\" data-google-query-id=\"CKK1wc2-0-cCFdGUvQod-qUIPw\"><div id=\"google_ads_iframe_/21745415141/AddictingGames.com/desktop-leaderboard-template_0__container__\" style=\"border: 0pt none;\"><iframe id=\"google_ads_iframe_/21745415141/AddictingGames.com/desktop-leaderboard-template_0\" title=\"3rd party ad content\" name=\"google_ads_iframe_/21745415141/AddictingGames.com/desktop-leaderboard-template_0\" scrolling=\"no\" marginwidth=\"0\" marginheight=\"0\" style=\"border: 0px none; vertical-align: bottom;\" srcdoc=\"\" data-google-container-id=\"2\" width=\"728\" height=\"90\" frameborder=\"0\"></iframe></div></div></div></div><div class=\"ympb_close-surfer\" data-target-unit=\"desktop-leaderboard-template-0\" style=\"z-index: 2147483548;\">×</div></div><div class=\"ympb_target_placeholder\" id=\"ympb_placeholder__desktop-leaderboard-template-0\" style=\"position: static; height: 0px; width: 728px; visibility: hidden; background: transparent none repeat scroll 0% 0%; pointer-events: none;\"></div></div>\n",
      "</div>\n",
      "<div class=\"add-bx-side\">\n",
      "<div class=\"col-lg-2 col-md-2 col-sm-2 inn_box_panel1\">\n",
      "<div class=\"inn_box_panel1_box\">\n",
      "<a class=\"recent-node-link pic_box\" data-nid=\"23663\" href=\"https://www.addictinggames.com/puzzle/hex-puzzle?utm_source=https%3A%2F%2Fwww.addictinggames.com%2Fpuzzle%2Fbubble-spinner&amp;utm_position=footer\">\n",
      "<div class=\"thumbnail-image mobile-enabled\"><div class=\"b-loader b-loading\">\n",
      "<img class=\"b-lazy\" src=\"data:image/gif;base64,R0lGODlhAQABAAAAACH5BAEKAAEALAAAAAABAAEAAAICTAEAOw==\" data-src=\"https://www.addictinggames.com/sites/default/files/styles/homepage_views_style/public/hextttt.jpg?itok=T2JF91aF\" alt=\"\">\n",
      "</div></div> </a>\n",
      "<h4 class=\"txt_box\">\n",
      "<a href=\"https://www.addictinggames.com/puzzle/hex-puzzle?utm_source=https%3A%2F%2Fwww.addictinggames.com%2Fpuzzle%2Fbubble-spinner&amp;utm_position=footer\">Hex Puzzle</a>\n",
      "</h4>\n",
      "<div class=\"video-thumb-link\" data-video=\"https://www.addictinggames.com/sites/default/files/hex-puzzle.mp4\"></div>\n",
      "</div>\n",
      "</div> <div class=\"col-lg-2 col-md-2 col-sm-2 inn_box_panel1\">\n",
      "<div class=\"inn_box_panel1_box\">\n",
      "<a class=\"recent-node-link pic_box\" data-nid=\"23628\" href=\"https://www.addictinggames.com/puzzle/jewelish-blitz?utm_source=https%3A%2F%2Fwww.addictinggames.com%2Fpuzzle%2Fbubble-spinner&amp;utm_position=footer\">\n",
      "<div class=\"thumbnail-image mobile-enabled\"><div class=\"b-loader b-loading\">\n",
      "<img class=\"b-lazy\" src=\"data:image/gif;base64,R0lGODlhAQABAAAAACH5BAEKAAEALAAAAAABAAEAAAICTAEAOw==\" data-src=\"https://www.addictinggames.com/sites/default/files/styles/homepage_views_style/public/jewelish-blitz.JPG?itok=ST47q0yQ\" alt=\"\">\n",
      "</div></div> </a>\n",
      "<h4 class=\"txt_box\">\n",
      "<a href=\"https://www.addictinggames.com/puzzle/jewelish-blitz?utm_source=https%3A%2F%2Fwww.addictinggames.com%2Fpuzzle%2Fbubble-spinner&amp;utm_position=footer\">Jewelish Blitz</a>\n",
      "</h4>\n",
      "<div class=\"video-thumb-link\" data-video=\"https://www.addictinggames.com/sites/default/files/jewelish-blitz.mp4\"></div>\n",
      "</div>\n",
      "</div> <div class=\"col-lg-2 col-md-2 col-sm-2 inn_box_panel1\">\n",
      "<div class=\"inn_box_panel1_box\">\n",
      "<a class=\"recent-node-link pic_box\" data-nid=\"23644\" href=\"https://www.addictinggames.com/action/high-hills?utm_source=https%3A%2F%2Fwww.addictinggames.com%2Fpuzzle%2Fbubble-spinner&amp;utm_position=footer\">\n",
      "<div class=\"thumbnail-image mobile-enabled\"><div class=\"b-loader b-loading\">\n",
      "<img class=\"b-lazy\" src=\"data:image/gif;base64,R0lGODlhAQABAAAAACH5BAEKAAEALAAAAAABAAEAAAICTAEAOw==\" data-src=\"https://www.addictinggames.com/sites/default/files/styles/homepage_views_style/public/high-hills.JPG?itok=9a4ldfoU\" alt=\"\">\n",
      "</div></div> </a>\n",
      "<h4 class=\"txt_box\">\n",
      "<a href=\"https://www.addictinggames.com/action/high-hills?utm_source=https%3A%2F%2Fwww.addictinggames.com%2Fpuzzle%2Fbubble-spinner&amp;utm_position=footer\">High Hills</a>\n",
      "</h4>\n",
      "<div class=\"video-thumb-link\" data-video=\"https://www.addictinggames.com/sites/default/files/high-hills.mp4\"></div>\n",
      "</div>\n",
      "</div> <div class=\"col-lg-2 col-md-2 col-sm-2 inn_box_panel1\">\n",
      "<div class=\"inn_box_panel1_box\">\n",
      "<a class=\"recent-node-link pic_box\" data-nid=\"23497\" href=\"https://www.addictinggames.com/action/dont-touch-the-red?utm_source=https%3A%2F%2Fwww.addictinggames.com%2Fpuzzle%2Fbubble-spinner&amp;utm_position=footer\">\n",
      "<div class=\"thumbnail-image mobile-enabled\"><div class=\"b-loader b-loading\">\n",
      "<img class=\"b-lazy\" src=\"data:image/gif;base64,R0lGODlhAQABAAAAACH5BAEKAAEALAAAAAABAAEAAAICTAEAOw==\" data-src=\"https://www.addictinggames.com/sites/default/files/styles/homepage_views_style/public/dont-touch-the-red.jpg?itok=XVwSIFef\" alt=\"\">\n",
      "</div></div> </a>\n",
      "<h4 class=\"txt_box\">\n",
      "<a href=\"https://www.addictinggames.com/action/dont-touch-the-red?utm_source=https%3A%2F%2Fwww.addictinggames.com%2Fpuzzle%2Fbubble-spinner&amp;utm_position=footer\">Dont Touch The Red</a>\n",
      "</h4>\n",
      "<div class=\"video-thumb-link\" data-video=\"https://www.addictinggames.com/sites/default/files/dont-touch-the-red.mp4\"></div>\n",
      "</div>\n",
      "</div> </div>\n",
      "</div>\n",
      "</div>\n",
      "</div>\n",
      "</div>\n",
      "</div>\n",
      "</div>\n",
      "</div>\n",
      "<script>\n",
      "\tdocument.addEventListener(\"readystatechange\",function(e){if(!(\"complete\"!==e.target.readyState||window.matchMedia&&window.matchMedia(DEVICE_AD_QUERY).matches)){var a=document.getElementsByTagName(\"script\")[0],t=document.createElement(\"script\");t.src=\"//portal.cdn.yollamedia.com/storage/tag/ps3a21ed9389c3c60c71ddfc8340dceed451a88b5a.js\",t.onload=function(){console.log(\"yolla loaded\")},a.parentNode.insertBefore(t,a)}});</script>\n",
      "</div>\n"
     ]
    }
   ],
   "source": [
    "# url 87\n",
    "i = urls[86]\n",
    "#open_url(i)\n",
    "element = driver.find_element_by_css_selector('#block-ag_footer_content-ag_footer_content')\n",
    "source = element.get_attribute(\"outerHTML\")\n",
    "print(source)\n",
    "data.append({\"TYPE\" : ad_type, \"ad_code\" : source, \"URL\" : i})"
   ]
  },
  {
   "cell_type": "code",
   "execution_count": 533,
   "metadata": {
    "collapsed": true
   },
   "outputs": [
    {
     "name": "stdout",
     "output_type": "stream",
     "text": [
      "<div class=\"emsWrapper\">\n",
      "\t\t<div class=\"ems\" id=\"COOKIEPOLICY_OVERLAY\">\n",
      "\t\t\t\n",
      "\t\t\t\t\t\t<div class=\"ad\" id=\"ad_COOKIEPOLICY_OVERLAY\">\n",
      "\t\t\t\t\t\n",
      "\t\t\t\t\t            <div class=\"textSpot\">\t       \t\n",
      "\t\t\t\t\t\t\t\t\t<!-- Cookie Policy eSpot html -->\n",
      "<style type=\"text/css\">\n",
      "    @import url('https://fonts.googleapis.com/css?family=Montserrat:400,700,800,900');\n",
      "    .cookiePolicy {\n",
      "        border-bottom: 0px!important;\n",
      "        display: none;\n",
      "        padding: 0;\n",
      "        position: fixed;\n",
      "        bottom: 70px!important;\n",
      "        font-family: sans-serif;\n",
      "        font-size: 14px;\n",
      "        font-weight: normal;\n",
      "        line-height: 1.5;\n",
      "        left: 10%;\n",
      "        width: 80%;\n",
      "        opacity: 0.9;\n",
      "        z-index: 9999;\n",
      "        font-family: 'Montserrat', 'Open-sans', sans-serif !important;\n",
      "        color: #ffffff;\n",
      "    }\n",
      "    \n",
      "    .cookiePolicy div {\n",
      "        margin: 0 auto;\n",
      "        padding: 5px;\n",
      "    }\n",
      "    \n",
      "    .cookiePolicy .cookiePolicy_inner {\n",
      "        background-color: #404040;\n",
      "        width: 100%;\n",
      "        display: flex;\n",
      "        align-items: center;\n",
      "    }\n",
      "    \n",
      "    .cookiePolicy .cookiePolicy_inner:after {\n",
      "        content: \"\";\n",
      "        clear: both;\n",
      "        display: block;\n",
      "        overflow: hidden;\n",
      "    }\n",
      "    \n",
      "    .cookiePolicy .cookiePolicy_inner .cookiePolicy_inner-col1 {\n",
      "        color: #fff;\n",
      "        float: left;\n",
      "        width: calc(100% - 150px);\n",
      "    }\n",
      "    \n",
      "    .cookiePolicy .cookiePolicy_inner .cookiePolicy_inner-col1 p {\n",
      "        margin: 0 0 10px 0;\n",
      "        font-family: 'Montserrat', 'Open-sans', Arial !important;\n",
      "    }\n",
      "    \n",
      "    .cookiePolicy .cookiePolicy_inner .cookiePolicy_inner-col1 h2,\n",
      "    .cookiePolicy .cookiePolicy_inner .cookiePolicy_inner-col2 .cookiePolicy_inner-link {\n",
      "        margin: 0 0 10px 0;\n",
      "        font-family: 'Montserrat', 'Open-sans', Arial !important;\n",
      "        font-size: 15px;\n",
      "        color: #ffffff;\n",
      "        background-color: #bd1a8d;\n",
      "        padding: 5px 15px;\n",
      "        text-decoration: none;\n",
      "        text-transform: uppercase;\n",
      "        display: inline-block;\n",
      "        font-weight: 900;\n",
      "    }\n",
      "    \n",
      "    .cookiePolicy .cookiePolicy_inner .cookiePolicy_inner-col1 p a {\n",
      "        color: #fff;\n",
      "        font-family: 'Montserrat', 'Open-sans', Arial !important;\n",
      "    }\n",
      "    \n",
      "    .cookiePolicy .cookiePolicy_inner .cookiePolicy_inner-col2 {\n",
      "        float: left;\n",
      "        text-align: center;\n",
      "        width: 150px;\n",
      "        color: #ffffff;\n",
      "    }\n",
      "    .cookiePolicy .cookiePolicy_inner .cookiePolicy_inner-col2 .cookiePolicy_inner-link {\n",
      "      width: 100%;\n",
      "    }\n",
      "\n",
      "    @media (max-width:768px) {\n",
      "        .cookiePolicy {\n",
      "            width: 100%;\n",
      "            left: 0;\n",
      "        }\n",
      "    }\n",
      "\n",
      "    @media (max-width:414px) {\n",
      "        .cookiePolicy {\n",
      "            font-size: 12px;\n",
      "        }\n",
      "    }\n",
      "    \n",
      "</style>\n",
      "<div id=\"cookiePolicy\" class=\"cookiePolicy\" style=\"display: block;\">\n",
      "  <div class=\"cookiePolicy_inner\">\n",
      "    <div class=\"cookiePolicy_inner-col1\">\n",
      "      <h2>COOKIE POLICY</h2> <br>\n",
      "      <p>We use cookies belonging to GAME &amp; third parties to provide you with the best experience on our site and deliver marketing based on your interests. By clicking I accept you signify your consent to the use of these cookies. By clicking close we'll assume you are happy to receive cookies from the game.co.uk website. To learn more, please see our <a href=\"https://www.game.co.uk/webapp/wcs/stores/servlet/HubArticleView?hubId=Hub-2368251&amp;articleId=2368251&amp;catalogId=10201&amp;langId=44&amp;storeId=10151#parentHorizontalTab2\">COOKIE POLICY</a>. \n",
      "      </p>\n",
      "    </div>\n",
      "    <div class=\"cookiePolicy_inner-col2\">\n",
      "      <div class=\"cookiePolicy_inner--actions\">\n",
      "        <a href=\"\" class=\"cookiePolicy_inner-link accept\">I accept</a> \n",
      "        <a href=\"\" class=\"cookiePolicy_inner-link\">Close</a> \n",
      "      </div>\n",
      "    </div>\n",
      "  </div>\n",
      "</div>\n",
      "\t\t\t\t\t\t\t\t</div>\n",
      "\t\t\t\t\t\t\t\n",
      "\t\t\t\t\t\t</div>\n",
      "\t\t\t\t\t\t\n",
      "\t\t</div>\n",
      "\t</div>\n"
     ]
    }
   ],
   "source": [
    "# url 88\n",
    "i = urls[87]\n",
    "open_url(i)\n",
    "element = driver.find_element_by_css_selector('div.emsWrapper:nth-child(12)')\n",
    "source = element.get_attribute(\"outerHTML\")\n",
    "print(source)\n",
    "data.append({\"TYPE\" : ad_type, \"ad_code\" : source, \"URL\" : i})"
   ]
  },
  {
   "cell_type": "code",
   "execution_count": 535,
   "metadata": {
    "collapsed": true
   },
   "outputs": [
    {
     "name": "stdout",
     "output_type": "stream",
     "text": [
      "<div class=\"privy-banner-container privy-bottom\" style=\"border-color: rgb(0, 27, 40); top: auto; bottom: 0px;\"><div class=\"privy-banner-content-wrap privy-banner-1830552\"><div class=\"privy privy-banner\">\n",
      "  <div tabindex=\"5\" role=\"button\" class=\"privy-dismiss-content\" title=\"Close\" aria-label=\"Close\">\n",
      "        <img alt=\"Close\" class=\"privy-x\" src=\"https://assets.privy.com/assets/x-0a764ccd3422a2f636a50079fcf0d7a99d860578b62094ca213ef05ade38d160.svg\">\n",
      "      </div><table class=\"privy-layout-table\" width=\"100%\">\n",
      "    <tbody><tr>\n",
      "            <td class=\"privy-content-container\"><div class=\"privy-row\">\n",
      "\n",
      "  <div class=\"privy-banner-text-container col-sm-offset-1 col-sm-10 col-xs-12\"><div class=\"privy-element-wrapper privy-html-element-wrapper\" data-element-id=\"9479917\" style=\"z-index: 5; margin: 0px auto 10px;\"><div class=\"privy-element privy-html-element\" style=\"color: rgb(51, 51, 51); font-family: Lato, Helvetica, Arial, Sans Serif; font-size: 16px; font-weight: 400; text-align: left; letter-spacing: 0px; border-width: 0px; border-radius: 0px;\"><style type=\"text/css\">\n",
      "#privy-container #privy-inner-container .privy-banner-container .privy .privy-text-element span{font-family:\"Granville\",Constantia,\"Lucida Bright\",Lucidabright,\"Lucida Serif\",Lucida,\"DejaVu Serif\",\"Bitstream Vera Serif\",\"Liberation Serif\",Georgia,serif !important;font-size:30px;line-height:1.2 !important;letter-spacing:-1px !important}#privy-container #privy-inner-container .privy-banner-container .privy .privy-text-element-wrapper:last-child .privy-text-element span{font-family:\"Granville\",Constantia,\"Lucida Bright\",Lucidabright,\"Lucida Serif\",Lucida,\"DejaVu Serif\",\"Bitstream Vera Serif\",\"Liberation Serif\",Georgia,serif !important;font-size:16px !important;line-height:1.38 !important;letter-spacing:normal !important}#privy-container #privy-inner-container .privy-banner-container .privy .privy-element.privy-button-element.privy-button-flat{-webkit-box-shadow:none;box-shadow:none}#privy-container #privy-inner-container .privy-banner-container .privy #privy-submit-btn{font-family:\"GT America Regular\",\"Segoe UI\",Roboto,Arial,sans-serif,\"Apple Color Emoji\",\"Segoe UI Emoji\",\"Segoe UI Symbol\";text-transform:uppercase !important;letter-spacing:2px !important;font-size:11px !important;font-weight:700 !important}#privy-container #privy-inner-container .privy-banner-container .privy.privy-banner #privy-submit-btn{margin:0;height:45px;min-height:45px;min-width:160px}#privy-container #privy-inner-container .privy-banner-container .privy.privy-banner .privy-form-container,#privy-container #privy-inner-container .privy-banner-container .privy.privy-banner .privy-content-container{vertical-align:middle;padding:65px 35px}@media(max-width: 991px){#privy-container #privy-inner-container .privy-banner-container .privy.privy-banner .privy-form-container,#privy-container #privy-inner-container .privy-banner-container .privy.privy-banner .privy-content-container{padding:0 10px 16px 10px;display:block}}#privy-container #privy-inner-container .privy-banner-container .privy.privy-banner .privy-form-container{background:transparent !important}#privy-container #privy-inner-container .privy-banner-container .privy.privy-banner .privy-form-element-wrapper,#privy-container #privy-inner-container .privy-banner-container .privy.privy-banner .privy-button-element-wrapper,#privy-container #privy-inner-container .privy-banner-container .privy.privy-banner .privy-html-element-wrapper{margin:0 !important}#privy-container #privy-inner-container .privy-banner-container .privy.privy-banner .privy-form-container{max-width:none;width:auto}@media(min-width: 1200px){#privy-container #privy-inner-container .privy-banner-container .privy.privy-banner .privy-form-container{width:610px}}@media(min-width: 1200px){#privy-container #privy-inner-container .privy-banner-container .privy.privy-banner input[type=email]{min-width:375px !important}}#privy-container #privy-inner-container .privy-banner-container .privy.privy-banner .privy-banner-form-container{float:left}#privy-container #privy-inner-container .privy-banner-container .privy.privy-banner .privy-banner-submit-button-container{float:left}#privy-container #privy-inner-container .privy-banner-container .privy .privy-banner-container{border:none !important}#privy-container #privy-inner-container .privy-banner-container .privy.privy-popup-container .privy-popup-inner-content-wrap{border:none !important;border-radius:0 !important}#privy-container #privy-inner-container .privy-banner-container .privy.privy-popup-container .privy-foreground-element{border-radius:0 !important}@media(max-width: 991px){#privy-container #privy-inner-container .privy-banner-container.privy-bottom .privy-banner-content-wrap .privy-banner{padding:42px 25px}#privy-container #privy-inner-container .privy-banner-container .privy-banner-text-container{margin-left:0;float:none;width:100%}#privy-container #privy-inner-container .privy-banner-container .privy-layout-table tr{display:-webkit-box;display:-webkit-flex;display:-moz-flex;display:-ms-flexbox;display:flex;-webkit-box-direction:normal;-webkit-box-orient:vertical;-webkit-flex-direction:column;-moz-flex-direction:column;-ms-flex-direction:column;flex-direction:column;-webkit-align-items:stretch;-moz-align-items:stretch;-ms-align-items:stretch;align-items:stretch;margin:auto;max-width:400px;padding:0 20px}#privy-container #privy-inner-container .privy-banner-container .privy .privy-banner-form-container{float:none;margin-bottom:16px;width:100%}#privy-container #privy-inner-container .privy-banner-container .privy .privy-form-container .privy-banner-submit-button-container{float:none}#privy-container #privy-inner-container .privy-banner-container .privy-form-container,#privy-container #privy-inner-container .privy-banner-container .privy-content-container{padding:0 10px 16px 10px;display:block}}\n",
      "</style>\n",
      "</div></div><div class=\"privy-element-wrapper privy-text-element-wrapper\" data-element-id=\"9463597\" style=\"z-index: 4; margin: 0px auto 16px;\"><div class=\"privy-element privy-text-element privy-text-center\"><div style=\"text-align:left\"><span style=\"color:rgb(255, 255, 255)\"><span style=\"font-weight:300\"><span style=\"letter-spacing:0.5px\"><span style=\"font-family:&quot;Open Sans&quot;\"><span style=\"font-size:30px\">Get $25 Off Your First Order.</span></span></span></span></span></div></div></div><div class=\"privy-element-wrapper privy-text-element-wrapper\" data-element-id=\"9463598\" style=\"z-index: 3; margin: 0px auto;\"><div class=\"privy-element privy-text-element privy-text-center\"><div style=\"text-align:\"><span style=\"color:rgb(255, 255, 255)\"><span style=\"font-weight:400\"><span style=\"font-size:16px\"><span style=\"font-family:&quot;Open Sans&quot;\"><span style=\"letter-spacing:0px\">Plus, get styling inspo from Rachel straight to your inbox.</span></span></span></span></span></div></div></div></div>\n",
      "</div></td>\n",
      "      <td class=\"privy-form-container\">\n",
      "        <div class=\"privy-banner-form-container\"><div class=\"privy-element-wrapper privy-form-element-wrapper\" data-element-id=\"9463599\" style=\"z-index: 2; margin: 0px auto 15px;\"><form aria-label=\"marketing offers and promotions\" accept-charset=\"UTF-8\" method=\"post\" class=\"privy-form privy-element privy-form-element privy-form-vertical\" id=\"privy-form-9463599\" style=\"color: rgb(0, 0, 0); font-family: Lato, Helvetica, Arial, Sans Serif; font-size: 20px; font-weight: 500; text-align: left; letter-spacing: 0px; border-width: 0px; border-radius: 0px;\">\n",
      "  <div class=\"privy-alert-error privy-form-errors\" role=\"alert\" style=\"display:none;\"></div><div class=\"privy-form-inner\"><input name=\"customer_attributes[registration_source]\" type=\"hidden\" style=\"display:none\" value=\"modal\" tabindex=\"3\"><div class=\"privy-form-group privy-email-group\"><input class=\"privy-email-input \" name=\"customer_attributes[email]\" type=\"email\" autocomplete=\"email\" aria-label=\"Email\" placeholder=\"Email\" tabindex=\"3\"></div></div>\n",
      "  <input name=\"utf8\" type=\"hidden\" value=\"✓\" tabindex=\"3\">\n",
      "</form></div></div>\n",
      "        <div class=\"privy-banner-submit-button-container\"><div class=\"privy-element-wrapper privy-button-element-wrapper\" data-element-id=\"9463596\" style=\"z-index: 1; margin: 0px auto 10px;\"><button role=\"button\" aria-label=\"Submit\" class=\"privy-element privy-button-element privy-button-flat\" tabindex=\"4\" id=\"privy-submit-btn\" style=\"color: rgb(255, 255, 255); font-family: Lato, Helvetica, Arial, Sans Serif; font-size: 20px; font-weight: 400; text-align: center; letter-spacing: 0px; background-color: rgb(193, 116, 101); border-width: 0px; border-radius: 0px;\">Submit</button></div></div>\n",
      "        <div class=\"privy-banner-sharing-links-container\"></div>\n",
      "          \n",
      "      </td>\n",
      "    </tr>\n",
      "  </tbody></table>\n",
      "</div></div></div>\n"
     ]
    }
   ],
   "source": [
    "# url 89\n",
    "i = urls[88]\n",
    "#open_url(i)\n",
    "element = driver.find_element_by_css_selector('.privy-banner-container')\n",
    "source = element.get_attribute(\"outerHTML\")\n",
    "print(source)\n",
    "data.append({\"TYPE\" : ad_type, \"ad_code\" : source, \"URL\" : i})"
   ]
  },
  {
   "cell_type": "code",
   "execution_count": 537,
   "metadata": {
    "collapsed": true
   },
   "outputs": [
    {
     "name": "stdout",
     "output_type": "stream",
     "text": [
      "<div id=\"AdThrive_Footer_1_desktop\" class=\"adthrive-ad adthrive-footer adthrive-footer-1 adthrive-sticky\" data-google-query-id=\"CJ3j85DA0-cCFYOclgoddpoDPA\" closable=\"true\"><div id=\"google_ads_iframe_/18190176/AdThrive_Footer_1/57c884a1caa6beea5b649f2a_0__container__\" style=\"border: 0pt none; display: inline-block; width: 728px; height: 90px; padding-top: 0px;\"><iframe style=\"border: 0px none; vertical-align: bottom;\" src=\"https://tpc.googlesyndication.com/safeframe/1-0-37/html/container.html\" id=\"google_ads_iframe_/18190176/AdThrive_Footer_1/57c884a1caa6beea5b649f2a_0\" title=\"3rd party ad content\" name=\"\" scrolling=\"no\" marginwidth=\"0\" marginheight=\"0\" data-is-safeframe=\"true\" sandbox=\"allow-forms allow-pointer-lock allow-popups allow-popups-to-escape-sandbox allow-same-origin allow-scripts allow-top-navigation-by-user-activation\" data-google-container-id=\"5\" data-load-complete=\"true\" width=\"728\" height=\"90\" frameborder=\"0\"></iframe></div><span class=\"adthrive-close\">×</span></div>\n"
     ]
    }
   ],
   "source": [
    "# url 90\n",
    "i = urls[89]\n",
    "#open_url(i)\n",
    "element = driver.find_element_by_css_selector('#AdThrive_Footer_1_desktop')\n",
    "source = element.get_attribute(\"outerHTML\")\n",
    "print(source)\n",
    "data.append({\"TYPE\" : ad_type, \"ad_code\" : source, \"URL\" : i})"
   ]
  },
  {
   "cell_type": "code",
   "execution_count": 539,
   "metadata": {
    "collapsed": true
   },
   "outputs": [
    {
     "name": "stdout",
     "output_type": "stream",
     "text": [
      "<div class=\"ad-wrapper outer tablet-ad desktop-ad full-column karma-leaderboard-docking-element docked\">\n",
      "                      <div class=\"ad-sticky-container desktop-ad tablet-ad karma-ad\">\n",
      "                    \n",
      "                      <div id=\"div-gpt-leaderboard-flex-1\" data-tier=\"1\" class=\"ad ad-container ad-wrapper type-banner type-970x90-flex margin-16-tb desktop-ad tablet-ad  karma-ad\" data-dimensions=\"101x1;970x90;970x66;970x250;728x90\" role=\"complementary\" aria-hidden=\"true\" tabindex=\"-1\" data-google-query-id=\"CNHWj6jA0-cCFZmylgodBIwHKQ\"><div id=\"google_ads_iframe_3865/ins.mdp.com/tier1/homepage/homepage_0__container__\" style=\"border: 0pt none;\"><iframe id=\"google_ads_iframe_3865/ins.mdp.com/tier1/homepage/homepage_0\" title=\"3rd party ad content\" name=\"google_ads_iframe_3865/ins.mdp.com/tier1/homepage/homepage_0\" scrolling=\"no\" marginwidth=\"0\" marginheight=\"0\" style=\"border: 0px none; vertical-align: bottom;\" srcdoc=\"\" data-google-container-id=\"1\" data-load-complete=\"true\" width=\"728\" height=\"90\" frameborder=\"0\"></iframe></div></div>\n",
      "                    \n",
      "                      </div>\n",
      "              </div>\n"
     ]
    }
   ],
   "source": [
    "# url 91\n",
    "i = urls[90]\n",
    "#open_url(i)\n",
    "element = driver.find_element_by_css_selector('div.ad-wrapper:nth-child(2)')\n",
    "source = element.get_attribute(\"outerHTML\")\n",
    "print(source)\n",
    "data.append({\"TYPE\" : ad_type, \"ad_code\" : source, \"URL\" : i})"
   ]
  },
  {
   "cell_type": "code",
   "execution_count": 543,
   "metadata": {
    "collapsed": true
   },
   "outputs": [
    {
     "name": "stdout",
     "output_type": "stream",
     "text": [
      "<div class=\"ad-wrapper outer tablet-ad desktop-ad full-column karma-leaderboard-docking-element\">\n",
      "                      <div class=\"ad-sticky-container desktop-ad tablet-ad karma-ad\">\n",
      "                    \n",
      "                      <div id=\"div-gpt-leaderboard-flex-1\" data-tier=\"1\" class=\"ad ad-container ad-wrapper type-banner type-970x90-flex margin-16-tb desktop-ad tablet-ad  karma-ad\" data-dimensions=\"101x1;970x90;970x66;970x250;728x90\" role=\"complementary\" aria-hidden=\"true\" tabindex=\"-1\" data-google-query-id=\"CJ6l8ZvB0-cCFQ2clgod8SYBYQ\"><div id=\"google_ads_iframe_3865/ins.mdp.com/tier1/tag_0__container__\" style=\"border: 0pt none;\"><iframe id=\"google_ads_iframe_3865/ins.mdp.com/tier1/tag_0\" title=\"3rd party ad content\" name=\"google_ads_iframe_3865/ins.mdp.com/tier1/tag_0\" scrolling=\"no\" marginwidth=\"0\" marginheight=\"0\" style=\"border: 0px none; vertical-align: bottom;\" srcdoc=\"\" data-google-container-id=\"1\" data-load-complete=\"true\" width=\"970\" height=\"250\" frameborder=\"0\"></iframe></div></div>\n",
      "                    \n",
      "                      </div>\n",
      "              </div>\n"
     ]
    }
   ],
   "source": [
    "# url 92\n",
    "i = urls[91]\n",
    "#open_url(i)\n",
    "element = driver.find_element_by_css_selector('.outer')\n",
    "source = element.get_attribute(\"outerHTML\")\n",
    "print(source)\n",
    "data.append({\"TYPE\" : ad_type, \"ad_code\" : source, \"URL\" : i})"
   ]
  },
  {
   "cell_type": "code",
   "execution_count": 545,
   "metadata": {
    "collapsed": true
   },
   "outputs": [
    {
     "name": "stdout",
     "output_type": "stream",
     "text": [
      "<div class=\"ad-wrapper outer tablet-ad desktop-ad full-column karma-leaderboard-docking-element docked\">\n",
      "                      <div class=\"ad-sticky-container desktop-ad tablet-ad karma-ad\">\n",
      "                    \n",
      "                      <div id=\"div-gpt-leaderboard-flex-1\" data-tier=\"1\" class=\"ad ad-container ad-wrapper type-banner type-970x90-flex margin-16-tb desktop-ad tablet-ad  karma-ad\" data-dimensions=\"101x1;970x90;970x66;970x250;728x90\" role=\"complementary\" aria-hidden=\"true\" tabindex=\"-1\" data-google-query-id=\"CKiu0czB0-cCFUeylgodj08Kkg\"><div id=\"google_ads_iframe_3865/ins.mdp.com/tier1/slideshow/hair_0__container__\" style=\"border: 0pt none;\"><iframe id=\"google_ads_iframe_3865/ins.mdp.com/tier1/slideshow/hair_0\" title=\"3rd party ad content\" name=\"google_ads_iframe_3865/ins.mdp.com/tier1/slideshow/hair_0\" scrolling=\"no\" marginwidth=\"0\" marginheight=\"0\" style=\"border: 0px none; vertical-align: bottom;\" srcdoc=\"\" data-google-container-id=\"1\" data-load-complete=\"true\" width=\"728\" height=\"90\" frameborder=\"0\"></iframe></div></div>\n",
      "                    \n",
      "                      </div>\n",
      "              </div>\n"
     ]
    }
   ],
   "source": [
    "# url 93\n",
    "i = urls[92]\n",
    "#open_url(i)\n",
    "element = driver.find_element_by_css_selector('.outer')\n",
    "source = element.get_attribute(\"outerHTML\")\n",
    "print(source)\n",
    "data.append({\"TYPE\" : ad_type, \"ad_code\" : source, \"URL\" : i})"
   ]
  },
  {
   "cell_type": "code",
   "execution_count": 547,
   "metadata": {
    "collapsed": true
   },
   "outputs": [
    {
     "name": "stdout",
     "output_type": "stream",
     "text": [
      "<div class=\"ad-wrapper outer tablet-ad desktop-ad full-column karma-leaderboard-docking-element docked\">\n",
      "                      <div class=\"ad-sticky-container desktop-ad tablet-ad karma-ad\">\n",
      "                    \n",
      "                      <div id=\"div-gpt-leaderboard-flex-1\" data-tier=\"1\" class=\"ad ad-container ad-wrapper type-banner type-970x90-flex margin-16-tb desktop-ad tablet-ad  karma-ad\" data-dimensions=\"101x1;970x90;970x66;970x250;728x90\" role=\"complementary\" aria-hidden=\"true\" tabindex=\"-1\" data-google-query-id=\"CM-AhpjC0-cCFQS8lgodO7MJUA\"><div id=\"google_ads_iframe_3865/ins.mdp.com/tier1/tag_0__container__\" style=\"border: 0pt none;\"><iframe id=\"google_ads_iframe_3865/ins.mdp.com/tier1/tag_0\" title=\"3rd party ad content\" name=\"google_ads_iframe_3865/ins.mdp.com/tier1/tag_0\" scrolling=\"no\" marginwidth=\"0\" marginheight=\"0\" style=\"border: 0px none; vertical-align: bottom;\" srcdoc=\"\" data-google-container-id=\"1\" data-load-complete=\"true\" width=\"728\" height=\"90\" frameborder=\"0\"></iframe></div></div>\n",
      "                    \n",
      "                      </div>\n",
      "              </div>\n"
     ]
    }
   ],
   "source": [
    "# url 94\n",
    "i = urls[93]\n",
    "#open_url(i)\n",
    "element = driver.find_element_by_css_selector('.outer')\n",
    "source = element.get_attribute(\"outerHTML\")\n",
    "print(source)\n",
    "data.append({\"TYPE\" : ad_type, \"ad_code\" : source, \"URL\" : i})"
   ]
  },
  {
   "cell_type": "code",
   "execution_count": 549,
   "metadata": {
    "collapsed": true
   },
   "outputs": [
    {
     "name": "stdout",
     "output_type": "stream",
     "text": [
      "<div id=\"pub_25\" class=\"an-full g-1 g-mb with-refresh an-fixed\" style=\"display: block;\" data-slotempty=\"false\"><div id=\"pub_25_ad_refresh\"><div id=\"pub_25_ad\" data-google-query-id=\"CM_ipfHC0-cCFRGblgoddkAM9g\"><div id=\"google_ads_iframe_/8348802/LetrasDesktop:footer:fixed:reload_0__container__\" style=\"border: 0pt none; display: inline-block; width: 728px; height: 90px;\"><iframe style=\"border: 0px none; vertical-align: bottom;\" src=\"https://tpc.googlesyndication.com/safeframe/1-0-37/html/container.html\" id=\"google_ads_iframe_/8348802/LetrasDesktop:footer:fixed:reload_0\" title=\"3rd party ad content\" name=\"\" scrolling=\"no\" marginwidth=\"0\" marginheight=\"0\" data-is-safeframe=\"true\" sandbox=\"allow-forms allow-pointer-lock allow-popups allow-popups-to-escape-sandbox allow-same-origin allow-scripts allow-top-navigation-by-user-activation\" data-google-container-id=\"a\" data-load-complete=\"true\" width=\"728\" height=\"90\" frameborder=\"0\"></iframe></div></div></div><button class=\"an-fixed-close\">close</button></div>\n"
     ]
    }
   ],
   "source": [
    "# url 95\n",
    "i = urls[94]\n",
    "#open_url(i)\n",
    "element = driver.find_element_by_css_selector('#pub_25')\n",
    "source = element.get_attribute(\"outerHTML\")\n",
    "print(source)\n",
    "data.append({\"TYPE\" : ad_type, \"ad_code\" : source, \"URL\" : i})"
   ]
  },
  {
   "cell_type": "code",
   "execution_count": 551,
   "metadata": {
    "collapsed": true
   },
   "outputs": [
    {
     "name": "stdout",
     "output_type": "stream",
     "text": [
      "<div id=\"modal-promo\" class=\"orientation-bottom modal\" data-id=\"115685\" data-timeout=\"0\">\n",
      "        <div class=\"container\">\n",
      "            <div class=\"content\">\n",
      "                <div class=\"row d-flex flex-column flex-lg-row justify-content-center\">\n",
      "                                            <div class=\"col col-12 col-lg-4 py-lg-5\">\n",
      "                            <div class=\"modal-promo-img\" style=\"background-image: url('https://camillestyles.com/wp-content/uploads/2020/02/18eab1b0-molly-madfis_camille-styles-32-768x512.jpg');\"></div>\n",
      "                        </div>\n",
      "                                        <div class=\"col col-12 col-lg-6 py-5 text-center subscribe\">\n",
      "                        <div class=\"modal-promo-inner\">\n",
      "\n",
      "                            <h2>Your inbox just got better.</h2>\n",
      "Sign up for healthy recipes, wellness advice, &amp; inspiration to live life <strong>like you mean it</strong>.                        </div>\n",
      "                                                            <div class=\"subscribe-form-container\">\n",
      "                                                                        \n",
      "<form class=\"subscribe-form\">\n",
      "<input type=\"hidden\" name=\"list_id\" value=\"876c959d2c\">        <div class=\"input-group\">\n",
      "                <input type=\"email\" class=\"form-control\" name=\"email\" placeholder=\"Your email address\">\n",
      "                <div class=\"input-group-append\">\n",
      "                    <button class=\"btn btn-subscribe\" type=\"submit\"></button>\n",
      "                </div>\n",
      "        </div>\n",
      "\n",
      "</form>                                </div>\n",
      "                                <div class=\"subscribe-thanks\">\n",
      "                                    <h2>Thank you!</h2>\n",
      "                                </div>\n",
      "                                <div class=\"subscribe-failed\">\n",
      "                                    <h2>Oops!</h2>\n",
      "                                    <p>Looks like you’ve already signed up.</p>\n",
      "                                </div>\n",
      "                                                                            </div>\n",
      "                </div>\n",
      "\n",
      "            </div>\n",
      "            <a href=\"#\" id=\"modal-promo-close\"></a>\n",
      "        </div>\n",
      "    </div>\n"
     ]
    }
   ],
   "source": [
    "# url 96\n",
    "i = urls[95]\n",
    "#open_url(i)\n",
    "element = driver.find_element_by_css_selector('#modal-promo')\n",
    "source = element.get_attribute(\"outerHTML\")\n",
    "print(source)\n",
    "data.append({\"TYPE\" : ad_type, \"ad_code\" : source, \"URL\" : i})"
   ]
  },
  {
   "cell_type": "code",
   "execution_count": 553,
   "metadata": {
    "collapsed": true
   },
   "outputs": [
    {
     "name": "stdout",
     "output_type": "stream",
     "text": [
      "<div id=\"AdThrive_Footer_1_desktop\" class=\"adthrive-ad adthrive-footer adthrive-footer-1 adthrive-sticky\" closable=\"true\" data-google-query-id=\"CLWcy67D0-cCFdUyKgodQYkJlQ\"><div id=\"google_ads_iframe_/18190176/AdThrive_Footer_1/57c884a1caa6beea5b649f2a_0__container__\" style=\"border: 0pt none; display: inline-block; width: 728px; height: 90px;\"><iframe style=\"border: 0px none; vertical-align: bottom;\" src=\"https://tpc.googlesyndication.com/safeframe/1-0-37/html/container.html\" id=\"google_ads_iframe_/18190176/AdThrive_Footer_1/57c884a1caa6beea5b649f2a_0\" title=\"3rd party ad content\" name=\"\" scrolling=\"no\" marginwidth=\"0\" marginheight=\"0\" data-is-safeframe=\"true\" sandbox=\"allow-forms allow-pointer-lock allow-popups allow-popups-to-escape-sandbox allow-same-origin allow-scripts allow-top-navigation-by-user-activation\" data-google-container-id=\"7\" data-load-complete=\"true\" width=\"728\" height=\"90\" frameborder=\"0\"></iframe></div><span class=\"adthrive-close\">×</span></div>\n"
     ]
    }
   ],
   "source": [
    "# url 97\n",
    "i = urls[96]\n",
    "#open_url(i)\n",
    "element = driver.find_element_by_css_selector('#AdThrive_Footer_1_desktop')\n",
    "source = element.get_attribute(\"outerHTML\")\n",
    "print(source)\n",
    "data.append({\"TYPE\" : ad_type, \"ad_code\" : source, \"URL\" : i})"
   ]
  },
  {
   "cell_type": "code",
   "execution_count": 555,
   "metadata": {
    "collapsed": true
   },
   "outputs": [
    {
     "name": "stdout",
     "output_type": "stream",
     "text": [
      "<div id=\"AdThrive_Footer_1_desktop\" class=\"adthrive-ad adthrive-footer adthrive-footer-1 adthrive-sticky\" closable=\"true\" data-google-query-id=\"CNDsxcPE0-cCFcWCvQodPsMCSw\"><div id=\"google_ads_iframe_/18190176/AdThrive_Footer_1/57c884a1caa6beea5b649f2a_0__container__\" style=\"border: 0pt none; display: inline-block; width: 728px; height: 90px; padding-top: 0px;\"><iframe style=\"border: 0px none; vertical-align: bottom;\" src=\"https://tpc.googlesyndication.com/safeframe/1-0-37/html/container.html\" id=\"google_ads_iframe_/18190176/AdThrive_Footer_1/57c884a1caa6beea5b649f2a_0\" title=\"3rd party ad content\" name=\"\" scrolling=\"no\" marginwidth=\"0\" marginheight=\"0\" data-is-safeframe=\"true\" sandbox=\"allow-forms allow-pointer-lock allow-popups allow-popups-to-escape-sandbox allow-same-origin allow-scripts allow-top-navigation-by-user-activation\" data-google-container-id=\"g\" data-load-complete=\"true\" width=\"728\" height=\"90\" frameborder=\"0\"></iframe></div><span class=\"adthrive-close\">×</span></div>\n"
     ]
    }
   ],
   "source": [
    "# url 98\n",
    "i = urls[97]\n",
    "#open_url(i)\n",
    "element = driver.find_element_by_css_selector('#AdThrive_Footer_1_desktop')\n",
    "source = element.get_attribute(\"outerHTML\")\n",
    "print(source)\n",
    "data.append({\"TYPE\" : ad_type, \"ad_code\" : source, \"URL\" : i})"
   ]
  },
  {
   "cell_type": "code",
   "execution_count": 557,
   "metadata": {
    "collapsed": true
   },
   "outputs": [
    {
     "name": "stdout",
     "output_type": "stream",
     "text": [
      "<div id=\"AdThrive_Footer_1_desktop\" class=\"adthrive-ad adthrive-footer adthrive-footer-1 adthrive-sticky\" closable=\"true\" data-google-query-id=\"CPmk1oTF0-cCFRZuvQodJ1oLHA\"><div id=\"google_ads_iframe_/18190176/AdThrive_Footer_1/57c884a1caa6beea5b649f2a_0__container__\" style=\"border: 0pt none; display: inline-block; width: 728px; height: 90px; padding-top: 0px;\"><iframe style=\"border: 0px none; vertical-align: bottom;\" src=\"https://tpc.googlesyndication.com/safeframe/1-0-37/html/container.html\" id=\"google_ads_iframe_/18190176/AdThrive_Footer_1/57c884a1caa6beea5b649f2a_0\" title=\"3rd party ad content\" name=\"\" scrolling=\"no\" marginwidth=\"0\" marginheight=\"0\" data-is-safeframe=\"true\" sandbox=\"allow-forms allow-pointer-lock allow-popups allow-popups-to-escape-sandbox allow-same-origin allow-scripts allow-top-navigation-by-user-activation\" data-google-container-id=\"a\" data-load-complete=\"true\" width=\"728\" height=\"90\" frameborder=\"0\"></iframe></div><span class=\"adthrive-close\">×</span></div>\n"
     ]
    }
   ],
   "source": [
    "# url 99\n",
    "i = urls[98]\n",
    "#open_url(i)\n",
    "element = driver.find_element_by_css_selector('#AdThrive_Footer_1_desktop')\n",
    "source = element.get_attribute(\"outerHTML\")\n",
    "print(source)\n",
    "data.append({\"TYPE\" : ad_type, \"ad_code\" : source, \"URL\" : i})"
   ]
  },
  {
   "cell_type": "code",
   "execution_count": 561,
   "metadata": {
    "collapsed": true
   },
   "outputs": [
    {
     "name": "stdout",
     "output_type": "stream",
     "text": [
      "<iframe id=\"_cpmt-iframe\" src=\"about:blank\" scrolling=\"no\" width=\"100%\" height=\"130px\" frameborder=\"0\"></iframe>\n"
     ]
    }
   ],
   "source": [
    "# url 100\n",
    "i = urls[99]\n",
    "#open_url(i)\n",
    "element = driver.find_element_by_css_selector('#_cpmt-iframe')\n",
    "source = element.get_attribute(\"outerHTML\")\n",
    "print(source)\n",
    "data.append({\"TYPE\" : ad_type, \"ad_code\" : source, \"URL\" : i})"
   ]
  },
  {
   "cell_type": "code",
   "execution_count": 641,
   "metadata": {
    "collapsed": true
   },
   "outputs": [
    {
     "name": "stdout",
     "output_type": "stream",
     "text": [
      "<div class=\"cc_banner-wrapper \"><div class=\"cc_banner cc_container cc_container--open\">\n",
      "    <a href=\"#null\" data-cc-event=\"click:dismiss\" target=\"_blank\" class=\"cc_btn cc_btn_accept_all\">I agree</a>\n",
      "    <p class=\"cc_message\">This website is using cookies. We use cookies to personalize content and ads, give you rights to access protected areas, social media features, and analyse traffic. In addition, we share collected data with the public media, advertising and analytics partners who may add it to other information provided by you or collected during browsing the website. By continuing to use our website, you agree to our cookies and <a data-cc-if=\"options.link\" target=\"_self\" class=\"cc_more_info\" href=\"/privacy-policy\">Privacy Policy.</a></p>\n",
      "    <a class=\"cc_logo\" target=\"_blank\" href=\"http://silktide.com/cookieconsent\">Cookie Consent plugin for the EU cookie law</a>\n",
      "</div>\n",
      "</div>\n"
     ]
    }
   ],
   "source": [
    "# url 101\n",
    "i = urls[100]\n",
    "#open_url(i)\n",
    "element = driver.find_element_by_css_selector('.cc_banner-wrapper')\n",
    "source = element.get_attribute(\"outerHTML\")\n",
    "print(source)\n",
    "data.append({\"TYPE\" : ad_type, \"ad_code\" : source, \"URL\" : i})"
   ]
  },
  {
   "cell_type": "code",
   "execution_count": 643,
   "metadata": {
    "collapsed": true
   },
   "outputs": [
    {
     "name": "stdout",
     "output_type": "stream",
     "text": [
      "<div id=\"CookieBanner\" class=\"cookie-banner drawer drawer-bottom opened\" data-days=\"365\">\n",
      "    <p></p><div>We use cookies on our site to give you the best experience. By using our site you agree to our use of cookies in accordance with our <a href=\"https://www.aerosoles.com/pages/privacy-policy/\">Privacy Policy</a>.</div><p></p>\n",
      "    <button type=\"button\" name=\"button\" class=\"btn accept ae-button\" data-ae-blurbtype=\"button\" data-ae-form-field=\"true\">I agree</button>\n",
      "</div>\n"
     ]
    }
   ],
   "source": [
    "# url 102\n",
    "i = urls[101]\n",
    "#open_url(i)\n",
    "element = driver.find_element_by_css_selector('#CookieBanner')\n",
    "source = element.get_attribute(\"outerHTML\")\n",
    "print(source)\n",
    "data.append({\"TYPE\" : ad_type, \"ad_code\" : source, \"URL\" : i})"
   ]
  },
  {
   "cell_type": "code",
   "execution_count": 645,
   "metadata": {
    "collapsed": true
   },
   "outputs": [
    {
     "name": "stdout",
     "output_type": "stream",
     "text": [
      "<div id=\"lower-screen-popups\">\n",
      "    \n",
      "\n",
      "    <div id=\"consent-modal\" class=\"consent-modal\">\n",
      "        <div class=\"consent-modal__container\">\n",
      "            <button id=\"consent-modal-back\" class=\"consent-modal__back expanded-element\" style=\"display: none;\">\n",
      "                <i class=\"icon icon-left-chevron\"></i> Back            </button>\n",
      "\n",
      "            <h4 class=\"consent-modal__title\">\n",
      "                We value your privacy            </h4>\n",
      "\n",
      "            <div class=\"consent-modal__content\">\n",
      "                <div class=\"consent-modal__text non-expanded-element\">\n",
      "                    This site uses cookies to provide you with the best experience. By clicking \"I accept\", you accept our use of cookies. There are various ways in which we will process your data, including personalised ads and content, which will be shared with some of our partners.            </div>\n",
      "\n",
      "                <div class=\"consent-modal__text expanded-element\" style=\"display: none;\">\n",
      "                    On this page you can set your preferences with regards to how we will process your data and share it with other organisations.                </div>\n",
      "\n",
      "                <div class=\"consent-modal__buttons\">\n",
      "                    <button id=\"more-info\" class=\"consent-modal__button non-expanded-element\">\n",
      "                        More options                    </button>\n",
      "\n",
      "                    <button id=\"i-accept\" class=\"consent-modal__button consent-modal__button--accept non-expanded-element\">\n",
      "                        I accept                    </button>\n",
      "\n",
      "                    <button id=\"reject-all\" class=\"consent-modal__button expanded-element\" style=\"display: none;\">\n",
      "                        Reject all                    </button>\n",
      "\n",
      "                    <button id=\"accept-all\" class=\"consent-modal__button consent-modal__button--accept expanded-element\" style=\"display: none;\">\n",
      "                        Accept all                    </button>\n",
      "                </div>\n",
      "            </div>\n",
      "\n",
      "            <div id=\"more-info-container\" class=\"consent-modal__more-info\" style=\"display: none;\"></div>\n",
      "\n",
      "            <div class=\"consent-modal__save-exit-container\">\n",
      "                <button id=\"save-and-exit\" class=\"consent-modal__button consent-modal__button--accept expanded-element\" style=\"display: none;\">\n",
      "                    Save &amp; Exit                </button>\n",
      "            </div>\n",
      "        </div>\n",
      "\n",
      "        <div id=\"consent-modal-overlay\" class=\"consent-modal__overlay\">\n",
      "            <span class=\"load-spin consent-modal__load-spinner\"></span>\n",
      "        </div>\n",
      "    </div>\n",
      "\n",
      "    <script>\n",
      "        amaraReady(function() {\n",
      "            const customisePermissionsUrl = \"https:\\/\\/www.amara.com\\/navigation\\/browsing-data-preferences\\/customise-permissions\";\n",
      "            const acceptAllUrl = \"https:\\/\\/www.amara.com\\/navigation\\/browsing-data-preferences\\/accept-all\";\n",
      "            const rejectAllUrl = \"https:\\/\\/www.amara.com\\/navigation\\/browsing-data-preferences\\/reject-all\";\n",
      "\n",
      "            const $cookieMessage = $('#consent-modal');\n",
      "            const $cookieMessageOverlay = $('#consent-modal-overlay');\n",
      "            const $moreInfoContainer = $('#more-info-container');\n",
      "\n",
      "            const $moreInfoButton = $('#more-info');\n",
      "            const $acceptAllButton = $('#accept-all, #i-accept');\n",
      "            const $rejectAllButton = $('#reject-all');\n",
      "            const $saveButton = $('#save-and-exit');\n",
      "            const $backButton = $('#consent-modal-back');\n",
      "\n",
      "            const $elementsVisibleWhenExpanded = $('.expanded-element');\n",
      "            const $elementsVisibleWhenNotExpanded = $('.non-expanded-element');\n",
      "\n",
      "            var isMoreInfoLoaded = false;\n",
      "\n",
      "            // Inject css and js for permission toggles\n",
      "            amaraLazyLoader.injectCss(\"https:\\/\\/www.amara.com\\/static\\/build-main\\/60111cf88bc70f32391167bfa106da5a3107dc8a\\/css\\/front\\/vendor\\/bootstrap-toggle.min.css?v=109&s=amara.com\");\n",
      "            amaraLazyLoader({load: ['https://www.amara.com/static/build-main/60111cf88bc70f32391167bfa106da5a3107dc8a/js/vendor/bootstrap-toggle.min.js?v=109&amp;s=amara.com']});\n",
      "\n",
      "            $moreInfoButton.click(function() {\n",
      "                if (!isMoreInfoLoaded) {\n",
      "                    loadMoreInfo();\n",
      "                } else {\n",
      "                    showMoreInfo();\n",
      "                }\n",
      "            });\n",
      "\n",
      "            function loadMoreInfo() {\n",
      "                $.ajax({\n",
      "                    url: customisePermissionsUrl,\n",
      "                    dataType: 'json',\n",
      "                    beforeSend: function () {\n",
      "                        $cookieMessageOverlay.fadeIn(500);\n",
      "                    },\n",
      "                    success: function (data) {\n",
      "                        isMoreInfoLoaded = true;\n",
      "                        $moreInfoContainer.append(data.html);\n",
      "                        showMoreInfo();\n",
      "                    },\n",
      "                    complete: function () {\n",
      "                        $cookieMessageOverlay.fadeOut(500);\n",
      "                    }\n",
      "                });\n",
      "            }\n",
      "\n",
      "            function showMoreInfo() {\n",
      "                $elementsVisibleWhenExpanded.show();\n",
      "                $elementsVisibleWhenNotExpanded.hide();\n",
      "\n",
      "                $moreInfoContainer.slideDown(500);\n",
      "                $('.bootstrap-toggles').bootstrapToggle();\n",
      "            }\n",
      "\n",
      "            $saveButton.click(function() {\n",
      "                const $form = $('#more-info-container [name=\"browsing_consents\"]');\n",
      "\n",
      "                $.ajax({\n",
      "                    url: customisePermissionsUrl,\n",
      "                    type: 'POST',\n",
      "                    dataType: 'json',\n",
      "                    data: $form.serialize(),\n",
      "                    beforeSend: function () {\n",
      "                        $cookieMessageOverlay.fadeIn(500);\n",
      "                    },\n",
      "                    success: function (data) {\n",
      "                        if (!data.isSuccess) {\n",
      "                            // If the form is not handled successfully then we\n",
      "                            // receive a new form which will contain error\n",
      "                            // information so we display that\n",
      "                            $moreInfoContainer.children().remove();\n",
      "                            $moreInfoContainer.append(data.html);\n",
      "                            $('.bootstrap-toggles').bootstrapToggle();\n",
      "                        } else {\n",
      "                            $cookieMessage.slideUp(500);\n",
      "                        }\n",
      "                    },\n",
      "                    complete: function () {\n",
      "                        $cookieMessageOverlay.fadeOut(500);\n",
      "                    },\n",
      "                });\n",
      "            });\n",
      "\n",
      "            $backButton.click(function() {\n",
      "                $elementsVisibleWhenExpanded.hide();\n",
      "                $elementsVisibleWhenNotExpanded.show();\n",
      "\n",
      "                $moreInfoContainer.slideUp(500);\n",
      "            });\n",
      "\n",
      "            $acceptAllButton.click(function() {\n",
      "                basicAjaxPost(acceptAllUrl);\n",
      "            });\n",
      "\n",
      "            $rejectAllButton.click(function() {\n",
      "                basicAjaxPost(rejectAllUrl);\n",
      "            });\n",
      "\n",
      "            function basicAjaxPost(url) {\n",
      "                $.ajax({\n",
      "                    url: url,\n",
      "                    type: 'POST',\n",
      "                    beforeSend: function () {\n",
      "                        $cookieMessageOverlay.fadeIn(500);\n",
      "                    },\n",
      "                    success: function () {\n",
      "                        $cookieMessage.slideUp(500);\n",
      "                        window.dispatchEvent(new CustomEvent('amaraConsentMessageClose'));\n",
      "                    },\n",
      "                    complete: function () {\n",
      "                        $cookieMessageOverlay.fadeOut(500);\n",
      "                    },\n",
      "                });\n",
      "            }\n",
      "        });\n",
      "    </script>\n",
      "</div>\n"
     ]
    }
   ],
   "source": [
    "# url 103\n",
    "i = urls[102]\n",
    "#open_url(i)\n",
    "element = driver.find_element_by_css_selector('#lower-screen-popups')\n",
    "source = element.get_attribute(\"outerHTML\")\n",
    "print(source)\n",
    "data.append({\"TYPE\" : ad_type, \"ad_code\" : source, \"URL\" : i})"
   ]
  },
  {
   "cell_type": "code",
   "execution_count": 647,
   "metadata": {
    "collapsed": true
   },
   "outputs": [
    {
     "name": "stdout",
     "output_type": "stream",
     "text": [
      "<div id=\"_evidon_banner\" class=\"evidon-banner\" style=\"position: fixed; padding-bottom: 10px; display: block; width: 100%; background: rgb(51, 51, 51) none repeat scroll 0% 0%; font-size: 14px; color: rgb(0, 0, 0); bottom: 0px; z-index: 2147000001; text-align: center;\"><div id=\"_evidon-title\" class=\"evidon-banner-title\" style=\"display: block; font-size: 14px; text-align: center; margin: 15px 15px 5px 20px; font-family: UniversNextW04-530Mediu, sans-serif; color: rgb(255, 255, 255); letter-spacing: 1px;\">About Cookies On This Site</div><div id=\"_evidon-message\" class=\"evidon-banner-message\" style=\"display: block; margin: 0px 15px 15px 0px; color: rgb(153, 153, 153); font-size: 12px; text-align: center; line-height: 14px; font-family: UniversNextW04-330Light, sans-serif;\">In order to optimize our website and to continuously improve it for you, we use cookies. HUGO BOSS may pass this data on to third parties. Details can be found in our <a href=\"https://www.hugoboss.com/uk/about-hugo-boss/cookie-policy/cookie-policy.html\" target=\"_blank\" style=\"color: white;\">Cookie Policy</a>. With \"Accept\" you agree to the use of cookies as described in the <a href=\"https://www.hugoboss.com/uk/about-hugo-boss/cookie-policy/cookie-policy.html\" target=\"_blank\" style=\"color: white;\">Cookie Policy</a>. Under \"Options\" you can accept individual categories of cookies or confirm that no cookies other than those required for the use of the site are to be set.</div><button id=\"_evidon-accept-button\" class=\"evidon-banner-acceptbutton\" style=\"display: inline; border: 0.0625rem solid rgb(255, 255, 255); background: transparent none repeat scroll 0% 0%; color: rgb(255, 255, 255); padding: 10px 30px; cursor: pointer; border-radius: 0px; font-family: UniversNextW04-330Light, sans-serif; letter-spacing: 1px; width: 150px;\" tabindex=\"0\">Accept</button><button id=\"_evidon-option-button\" class=\"evidon-banner-optionbutton\" style=\"font-family: UniversNextW04-330Light, sans-serif; background: transparent none repeat scroll 0% 0%; width: 150px; color: rgb(255, 255, 255); display: inline; border: 0px none; cursor: pointer;\" tabindex=\"0\">Options</button></div>\n"
     ]
    }
   ],
   "source": [
    "# url 104\n",
    "i = urls[103]\n",
    "#open_url(i)\n",
    "element = driver.find_element_by_css_selector('#_evidon_banner')\n",
    "source = element.get_attribute(\"outerHTML\")\n",
    "print(source)\n",
    "data.append({\"TYPE\" : ad_type, \"ad_code\" : source, \"URL\" : i})"
   ]
  },
  {
   "cell_type": "code",
   "execution_count": 649,
   "metadata": {
    "collapsed": true
   },
   "outputs": [
    {
     "name": "stdout",
     "output_type": "stream",
     "text": [
      "<div id=\"email-signup-widget-container\">\n",
      "      \n",
      "\n",
      "\n",
      "\n",
      "<link rel=\"stylesheet\" href=\"https://images-na.ssl-images-amazon.com/images/I/31363MqY3jL.css?AUIClients/ShopbopEmailSignUpWidgetAssets\">\n",
      "\n",
      "\n",
      "    <meta name=\"viewport\" content=\"width=device-width,initial-scale=1\">\n",
      "\n",
      "<div id=\"esp-d-container\" class=\"sui-container-fluid esp-container\">\n",
      "    <div class=\"sui-row\" align=\"center\">\n",
      "        \n",
      "\n",
      "\n",
      "\n",
      "\n",
      "<div class=\"modal-container\" id=\"esw-modal-container\" style=\"bottom: 0px;\">\n",
      "    <input id=\"esw-siteId-param\" type=\"hidden\" value=\"1000\">\n",
      "    <input id=\"esw-siteDomain-param\" type=\"hidden\" value=\".shopbop.com\">\n",
      "    <input id=\"esw-countryCode-param\" type=\"hidden\" value=\"KR\">\n",
      "    <input id=\"esw-currencyCode-param\" type=\"hidden\" value=\"USD\">\n",
      "    <input id=\"esw-languageCode-param\" type=\"hidden\" value=\"ko\">\n",
      "    <input id=\"esw-role-param\" type=\"hidden\" value=\"shopbop\">\n",
      "\n",
      "    <span class=\"esw-modal-x\" id=\"esw-modal-close\">✕</span>\n",
      "    <br>\n",
      "    <div id=\"esw-signup-page\">\n",
      "        <div class=\"email-title-div\">\n",
      "            <div class=\"title\">Want 15% off your first purchase?</div>\n",
      "            <div class=\"sub-title\">Sign up for Shopbop emails and make your closet (very) happy.</div>\n",
      "        </div>\n",
      "        <div class=\"esw-error-input-div\">\n",
      "            <span id=\"esw-email-error-msg\">Please enter a valid email address, e.g. jane@example.com</span>\n",
      "            <div class=\"email-input-button-div\" id=\"esw-signup\">\n",
      "                <input type=\"email\" class=\"email-signup-box\" id=\"esw-email-signup-input\" placeholder=\"Enter your email address\" data-placeholder=\"Enter your email address\" data-error-msg=\"Please Enter Your Email\"><!--\n",
      "                Remove white space--><div class=\"esw-mount\"></div><!--Remove white space\n",
      "                --><button class=\"button\" id=\"esw-email-signup-button\" type=\"button\">Sign Up</button>\n",
      "            </div>\n",
      "        </div>\n",
      "\n",
      "\n",
      "    </div>\n",
      "    <div id=\"esw-confirmation-page\" style=\"display: none;\">\n",
      "        <div class=\"title\">Thanks for signing up — and welcome!</div>\n",
      "        <div class=\"sub-title\">Check your inbox for further details from us.</div>\n",
      "    </div>\n",
      "    <div id=\"esw-error-page\" style=\"display: none\">\n",
      "        <div class=\"title\">Oops!</div>\n",
      "        <div class=\"sub-title\">There was an error. Please try again later.</div>\n",
      "    </div>\n",
      "</div>\n",
      "\n",
      "                <script>\n",
      "                    if (typeof bopCSM === \"object\" && typeof bopCSM.setCSMProp === \"function\") {\n",
      "                        bopCSM.setCSMProp('uet', 'bb', 'emailSignUpWidgetJS');\n",
      "                    }\n",
      "            var $jscomp=$jscomp||{};$jscomp.scope={};$jscomp.ASSUME_ES5=!1;$jscomp.ASSUME_NO_NATIVE_MAP=!1;$jscomp.ASSUME_NO_NATIVE_SET=!1;$jscomp.defineProperty=$jscomp.ASSUME_ES5||\"function\"==typeof Object.defineProperties?Object.defineProperty:function(a,c,e){a!=Array.prototype&&a!=Object.prototype&&(a[c]=e.value)};$jscomp.getGlobal=function(a){return\"undefined\"!=typeof window&&window===a?a:\"undefined\"!=typeof global&&null!=global?global:a};$jscomp.global=$jscomp.getGlobal(this);$jscomp.SYMBOL_PREFIX=\"jscomp_symbol_\";\n",
      "$jscomp.initSymbol=function(){$jscomp.initSymbol=function(){};$jscomp.global.Symbol||($jscomp.global.Symbol=$jscomp.Symbol)};$jscomp.Symbol=function(){var a=0;return function(c){return $jscomp.SYMBOL_PREFIX+(c||\"\")+a++}}();\n",
      "$jscomp.initSymbolIterator=function(){$jscomp.initSymbol();var a=$jscomp.global.Symbol.iterator;a||(a=$jscomp.global.Symbol.iterator=$jscomp.global.Symbol(\"iterator\"));\"function\"!=typeof Array.prototype[a]&&$jscomp.defineProperty(Array.prototype,a,{configurable:!0,writable:!0,value:function(){return $jscomp.arrayIterator(this)}});$jscomp.initSymbolIterator=function(){}};$jscomp.arrayIterator=function(a){var c=0;return $jscomp.iteratorPrototype(function(){return c<a.length?{done:!1,value:a[c++]}:{done:!0}})};\n",
      "$jscomp.iteratorPrototype=function(a){$jscomp.initSymbolIterator();a={next:a};a[$jscomp.global.Symbol.iterator]=function(){return this};return a};$jscomp.polyfill=function(a,c,e,f){if(c){e=$jscomp.global;a=a.split(\".\");for(f=0;f<a.length-1;f++){var m=a[f];m in e||(e[m]={});e=e[m]}a=a[a.length-1];f=e[a];c=c(f);c!=f&&null!=c&&$jscomp.defineProperty(e,a,{configurable:!0,writable:!0,value:c})}};\n",
      "$jscomp.polyfill(\"Array.from\",function(a){return a?a:function(a,e,f){$jscomp.initSymbolIterator();e=null!=e?e:function(b){return b};var c=[],h=a[Symbol.iterator];if(\"function\"==typeof h)for(a=h.call(a);!(h=a.next()).done;)c.push(e.call(f,h.value));else{h=a.length;for(var k=0;k<h;k++)c.push(e.call(f,a[k]))}return c}},\"es6\",\"es3\");\n",
      "function loadEmailSignup(){function a(){b.emailSignUpErrorElement.style.visibility=\"visible\";b.emailSignUpInputDivElement.classList.add(\"invalid-email-input-button-div\")}function c(b){b+=\"=\";for(var a=document.cookie.split(\";\"),d=0;d<a.length;d++){for(var c=a[d];\" \"===c.charAt(0);)c=c.substring(1);if(0===c.indexOf(b))return c.substring(b.length,c.length)}return\"\"}function e(a,c,g){var d=new Date;d.setTime(Number(g)+31536E6);d=\"expires=\"+d.toUTCString();document.cookie=a+\"=\"+c+\"_\"+g+\";\"+(\"domain=\"+\n",
      "b.emailSignUpSiteDomainParam.value)+\";\"+d+\";path=/\"}function f(b,a){return Array.from({length:a}).map(function(a,d){a=document.createElement(\"div\");a.classList=[\"fetti\"];a.style[\"background-color\"]=n[d%n.length];a.style.width=\"10px\";a.style.height=\"10px\";a.style.position=\"absolute\";b.appendChild(a);return a})}function m(a,b,c){function d(){b.forEach(function(a){var b=e/200;a.physics.x+=Math.cos(a.physics.angle2D)*a.physics.velocity*2;a.physics.y+=Math.sin(a.physics.angle2D)*a.physics.velocity*.5;\n",
      "a.physics.z+=Math.sin(a.physics.angle3D)*a.physics.velocity;a.physics.wobble+=.1;a.physics.velocity*=c;a.physics.y+=3;a.physics.tiltAngle+=.1;var d=a.physics.wobble;a.element.style.transform=\"translate3d(\"+(a.physics.x+10*Math.cos(d))+\"px,\"+(a.physics.y+10*Math.sin(d))+\"px, 0)rotate3d(1, 1, 1, \"+a.physics.tiltAngle+\"rad)\";a.element.style.opacity=1-b});e+=1;200>e?requestAnimationFrame(d):b.forEach(function(b){a.removeChild(b.element)})}var e=0;requestAnimationFrame(d)}function h(a){var b=f(a,50).map(function(a){var b=\n",
      "Math.PI/180*45;return{element:a,physics:{x:0,y:0,wobble:10*Math.random(),velocity:22.5+45*Math.random(),angle2D:-(Math.PI/180*90)+(.5*b-Math.random()*b),angle3D:-(Math.PI/4)+Math.PI/2*Math.random(),tiltAngle:Math.random()*Math.PI}}});m(a,b,.9)}var k=function(a){\"esw-modal-close\"===a&&b.emailSignUpESPContainer.setAttribute(\"style\",\"display : none\")},b={emailSignUpModalContainer:document.getElementById(\"esw-modal-container\"),emailSignUpCloseElement:document.getElementById(\"esw-modal-close\"),emailSignUpInputElement:document.getElementById(\"esw-email-signup-input\"),\n",
      "emailSignUpButtonElement:document.getElementById(\"esw-email-signup-button\"),emailSignUpErrorElement:document.getElementById(\"esw-email-error-msg\"),emailSignUpInputDivElement:document.getElementById(\"esw-signup\"),emailSignUpSiteIdParam:document.getElementById(\"esw-siteId-param\"),emailSignUpSiteDomainParam:document.getElementById(\"esw-siteDomain-param\"),emailSignUpRoleParam:document.getElementById(\"esw-role-param\"),emailSignUpCountryCodeParam:document.getElementById(\"esw-countryCode-param\"),emailSignUpCurrencyCodeParam:document.getElementById(\"esw-currencyCode-param\"),\n",
      "emailSignUpLanguageCodeParam:document.getElementById(\"esw-languageCode-param\"),emailSignUpConfirmationPage:document.getElementById(\"esw-confirmation-page\"),emailSignUpSignUpPage:document.getElementById(\"esw-signup-page\"),emailSignUpErrorPage:document.getElementById(\"esw-error-page\"),emailSignUpESPContainer:document.getElementsByClassName(\"esp-container\")[0],emailSignUpESPMdotContainer:document.getElementById(\"esp-m-container\"),emailSignUpESPDesktopContainer:document.getElementById(\"esp-d-container\")};\n",
      "\"ru\"===b.emailSignUpLanguageCodeParam.value&&b.emailSignUpModalContainer.classList.add(\"esw-modal-container-ru\");b.emailSignUpESPDesktopContainer&&(b.emailSignUpModalContainer.style.bottom=\"0\");var q=window.scrollY||document.documentElement.scrollTop,p=function(){(window.scrollY||document.documentElement.scrollTop)>q&&\"none\"===b.emailSignUpESPMdotContainer.style.display&&(b.emailSignUpESPMdotContainer.style.display=\"block\",setTimeout(function(){b.emailSignUpModalContainer.style.bottom=\"0\"},20),window.removeEventListener(\"scroll\",\n",
      "p))};b.emailSignUpESPMdotContainer&&window.addEventListener(\"scroll\",p);(function(){var a=c(\"showEmailPopUp\");if(\"\"===a){var f=(new Date).getTime();e(\"showEmailPopUp\",!0,f)}else f=a.split(\"_\")[0],a=Number(a.split(\"_\")[1]),\"false\"===f?b.emailSignUpModalContainer.style.display=\"none\":864E5<(new Date).getTime()-a&&(e(\"showEmailPopUp\",!1,a),b.emailSignUpModalContainer.style.display=\"none\")})();b.emailSignUpCloseElement.addEventListener(\"click\",function(a){a.preventDefault();k(\"esw-modal-close\");a=Number(c(\"showEmailPopUp\").split(\"_\")[1]);\n",
      "e(\"showEmailPopUp\",!1,a)});b.emailSignUpInputElement.addEventListener(\"focus\",function(){b.emailSignUpInputElement.classList.remove(\"empty-email\");if(\"invalidname@email.com\"===b.emailSignUpInputElement.value||\"nameexample@gmail.com\"===b.emailSignUpInputElement.value)b.emailSignUpInputElement.value=\"\";b.emailSignUpInputElement.setAttribute(\"placeholder\",\"\")});b.emailSignUpInputElement.addEventListener(\"blur\",function(){b.emailSignUpInputElement.classList.remove(\"empty-email\");document.body.classList.contains(\"ios\")&&\n",
      "document.body.classList.remove(\"email-popup-input-focus\")});b.emailSignUpInputElement.addEventListener(\"touchstart\",function(){document.body.classList.contains(\"ios\")&&(event.preventDefault(),event.stopPropagation(),document.body.classList.add(\"email-popup-input-focus\"))});b.emailSignUpInputElement.addEventListener(\"touchend\",function(){document.body.classList.contains(\"ios\")&&(event.preventDefault(),event.stopPropagation(),b.emailSignUpInputElement.focus())});b.emailSignUpInputElement.addEventListener(\"keyup\",\n",
      "function(a){a.preventDefault();13!==a.keyCode&&13!==a.which||b.emailSignUpButtonElement.click()});b.emailSignUpSignUpPage.addEventListener(\"transitionend\",function(a){a.preventDefault();\"signup-hidden\"===a.target.className&&(b.emailSignUpSignUpPage.style.display=\"none\",b.emailSignUpConfirmationPage.style.display=\"block\",setTimeout(function(){k(\"esw-modal-close\")},5E3))});b.emailSignUpButtonElement.addEventListener(\"click\",function(d){d.stopPropagation();d.preventDefault();d=b.emailSignUpInputElement;\n",
      "var f=/^['\"_a-zA-Z0-9-\\+!#$%&\\u2019*+/=?^_`{|}vv-]+(\\.['\"_a-zA-Z0-9-\\+]+)*@[a-zA-Z0-9]+[a-zA-Z0-9-]+(\\.[a-zA-Z0-9-]+)*\\.([a-zA-Z]{2,6})$/,g=d.value.trim();if(\"\"===g)b.emailSignUpErrorElement.style.visibility=\"hidden\",b.emailSignUpInputElement.classList.add(\"empty-email\"),d.setAttribute(\"placeholder\",b.emailSignUpInputElement.getAttribute(\"data-error-msg\"));else if(f.test(g)&&\"nameexample@gmail.com\"!==g&&\"invalidname@email.com\"!==g){d=b.emailSignUpSiteIdParam.value;f=b.emailSignUpLanguageCodeParam.value;\n",
      "g=b.emailSignUpCurrencyCodeParam.value;var k=b.emailSignUpCountryCodeParam.value,l=new XMLHttpRequest;d=\"emailAddress=\"+encodeURIComponent(b.emailSignUpInputElement.value)+\"&siteId=\"+encodeURIComponent(d)+\"&languageCode=\"+encodeURIComponent(f)+\"&currencyCode=\"+encodeURIComponent(g)+\"&countryCode=\"+encodeURIComponent(k);l.onreadystatechange=function(){b.emailSignUpButtonElement.disabled=!0;if(l.readyState===XMLHttpRequest.DONE)if(200===l.status){h(r);setTimeout(function(){b.emailSignUpSignUpPage.classList.add(\"signup-hidden\")},\n",
      "1E3);var d=Number(c(\"showEmailPopUp\").split(\"_\")[1]);e(\"showEmailPopUp\",!1,d)}else 400===l.status?(b.emailSignUpButtonElement.disabled=!1,a()):500===l.status&&(b.emailSignUpSignUpPage.style.display=\"none\",b.emailSignUpErrorPage.style.display=\"block\")};l.open(\"POST\",\"/subscribe_email?sif_profile=shopbop\",!0);l.setRequestHeader(\"Content-type\",\"application/x-www-form-urlencoded\");l.send(d)}else a()});var n=\"eastdane\"===b.emailSignUpRoleParam.value?[\"#5D808A\",\"#000000\",\"#FFFFFF\"]:[\"#EE4A1B\",\"#F194C9\",\n",
      "\"#FFAF87\",\"#D8D8D8\"],r=document.querySelector(\".esw-mount\")}\"complete\"===document.readyState?loadEmailSignup():window.onload=loadEmailSignup();\n",
      "\n",
      "                    if (typeof bopCSM === \"object\" && typeof bopCSM.setCSMProp === \"function\") {\n",
      "                        bopCSM.setCSMProp('uex', 'ld', 'emailSignUpWidgetJS');\n",
      "                    }\n",
      "                </script>\n",
      "            </div>\n",
      "</div>\n",
      "\n",
      "\n",
      "\n",
      "    \n",
      "\n",
      "\n",
      "</div>\n"
     ]
    }
   ],
   "source": [
    "# url 105\n",
    "i = urls[104]\n",
    "#open_url(i)\n",
    "element = driver.find_element_by_css_selector('#email-signup-widget-container')\n",
    "source = element.get_attribute(\"outerHTML\")\n",
    "print(source)\n",
    "data.append({\"TYPE\" : ad_type, \"ad_code\" : source, \"URL\" : i})"
   ]
  },
  {
   "cell_type": "code",
   "execution_count": 652,
   "metadata": {
    "collapsed": true
   },
   "outputs": [
    {
     "name": "stdout",
     "output_type": "stream",
     "text": [
      "<div id=\"CybotCookiebotDialog\" name=\"CybotCookiebotDialog\" role=\"alertdialog\" aria-describedby=\"CybotCookiebotDialogBodyContentTitle\" dir=\"ltr\" ng-non-bindable=\"\" style=\"display: block; opacity: 1; top: 266px; width: 100%; height: auto;\" lang=\"en\"><div id=\"CybotCookiebotDialogBody\"><div id=\"CybotCookiebotDialogPoweredbyLink\" style=\"display: none;\"><img id=\"CybotCookiebotDialogPoweredbyImage\" src=\"\" alt=\"\"></div><div id=\"CybotCookiebotDialogBodyContent\" style=\"padding-left: 8px;\"><h2 id=\"CybotCookiebotDialogBodyContentTitle\" lang=\"en\">This website uses cookies</h2><div id=\"CybotCookiebotDialogBodyContentText\" lang=\"en\">Cookies help us to provide our services via our internet website. The website also uses profiling and third-party cookies to provide personalised content and advertising. By continuing to browse or access any element of the page below you are agreeing to the use of our and third-party cookies.<br style=\"\">For further information or to reject the use of all or certain cookies, open the \"<a href=\"https://www.fabianafilippi.com/_/cookie\" title=\"About cookies\" style=\"\">Cookie</a>\" section.</div></div><div id=\"CybotCookiebotDialogBodyContentControls\" style=\"display: none;\"><div class=\"CybotCookiebotDialogBodyContentControlsWrapper\"><input type=\"checkbox\" id=\"CybotCookiebotDialogBodyContentCheckboxPersonalInformation\" class=\"CybotCookiebotDialogBodyLevelButton\" tabindex=\"0\"><label class=\"CybotCookiebotDialogBodyContentLabelPersonalInformation\" for=\"CybotCookiebotDialogBodyContentCheckboxPersonalInformation\"></label></div></div><div id=\"CybotCookiebotDialogBodyButtons\" style=\"display: none;\"><a id=\"CybotCookiebotDialogBodyButtonDecline\" class=\"CybotCookiebotDialogBodyButton\" href=\"javascript: void(0);\" tabindex=\"0\" lang=\"en\"> Use necessary cookies only </a><a id=\"CybotCookiebotDialogBodyButtonAccept\" class=\"CybotCookiebotDialogBodyButton\" href=\"javascript: void(0);\" tabindex=\"0\" style=\"margin-left: 2px;\" lang=\"en\"> Allow all cookies </a><a id=\"CybotCookiebotDialogBodyButtonDetails\" class=\"CybotCookiebotDialogBodyLink\" href=\"javascript: void(0);\" tabindex=\"0\" lang=\"en\"> Show details </a></div><div id=\"CybotCookiebotDialogBodyLevelWrapper\" style=\"display: block;\"><div id=\"CybotCookiebotDialogBodyLevelButtonAcceptWrapper\" style=\"display: block;\"><a id=\"CybotCookiebotDialogBodyLevelButtonAccept\" href=\"javascript: void(0);\" tabindex=\"0\" lang=\"en\"> OK </a></div><div id=\"CybotCookiebotDialogBodyLevelButtonLevelOptinAllowallSelectionWrapper\" style=\"display:none\"><a id=\"CybotCookiebotDialogBodyLevelButtonLevelOptinAllowallSelection\" class=\"CybotCookiebotDialogBodyButton\" href=\"javascript: void(0);\" tabindex=\"0\" lang=\"en\"> Allow selection </a><a id=\"CybotCookiebotDialogBodyLevelButtonLevelOptinAllowAll\" class=\"CybotCookiebotDialogBodyButton\" href=\"javascript: void(0);\" tabindex=\"0\" lang=\"en\"> Allow all cookies </a></div><!--Checkboxes--><div id=\"CybotCookiebotDialogBodyLevelButtons\" style=\"margin-left: 8px; float: left; pointer-events: auto; margin-right: 0px;\"><div id=\"CybotCookiebotDialogBodyLevelButtonsTable\" style=\"width: auto;\"><div id=\"CybotCookiebotDialogBodyLevelButtonsRow\"><div id=\"CybotCookiebotDialogBodyLevelButtonsSelectPane\"><div class=\"CybotCookiebotDialogBodyLevelButtonWrapper\" title=\"Mandatory - can not be deselected. Necessary cookies help make a website usable by enabling basic functions like page navigation and access to secure areas of the website. The website cannot function properly without these cookies.\"><input type=\"checkbox\" id=\"CybotCookiebotDialogBodyLevelButtonNecessary\" class=\"CybotCookiebotDialogBodyLevelButton CybotCookiebotDialogBodyLevelButtonDisabled\" disabled=\"disabled\" checked=\"checked\"><label for=\"CybotCookiebotDialogBodyLevelButtonNecessary\">Necessary</label></div><div class=\"CybotCookiebotDialogBodyLevelButtonWrapper\" title=\"Preference cookies enable a website to remember information that changes the way the website behaves or looks, like your preferred language or the region that you are in.\"><input type=\"checkbox\" id=\"CybotCookiebotDialogBodyLevelButtonPreferences\" class=\"CybotCookiebotDialogBodyLevelButton\" checked=\"checked\" tabindex=\"0\"><label for=\"CybotCookiebotDialogBodyLevelButtonPreferences\">Preferences</label></div><div class=\"CybotCookiebotDialogBodyLevelButtonWrapper\" title=\"Statistic cookies help website owners to understand how visitors interact with websites by collecting and reporting information anonymously.\"><input type=\"checkbox\" id=\"CybotCookiebotDialogBodyLevelButtonStatistics\" class=\"CybotCookiebotDialogBodyLevelButton\" checked=\"checked\" tabindex=\"0\"><label for=\"CybotCookiebotDialogBodyLevelButtonStatistics\">Statistics</label></div><div class=\"CybotCookiebotDialogBodyLevelButtonWrapper\" title=\"Marketing cookies are used to track visitors across websites. The intention is to display ads that are relevant and engaging for the individual user and thereby more valuable for publishers and third party advertisers.\"><input type=\"checkbox\" id=\"CybotCookiebotDialogBodyLevelButtonMarketing\" class=\"CybotCookiebotDialogBodyLevelButton\" checked=\"checked\" tabindex=\"0\"><label for=\"CybotCookiebotDialogBodyLevelButtonMarketing\">Marketing</label></div></div><div id=\"CybotCookiebotDialogBodyLevelDetailsWrapper\"><a id=\"CybotCookiebotDialogBodyLevelDetailsButton\" class=\"CybotCookiebotDialogBodyLink\" href=\"javascript: void(0);\" tabindex=\"0\" lang=\"en\"> Show details </a></div></div></div></div></div></div><div id=\"CybotCookiebotDialogDetail\"><div id=\"CybotCookiebotDialogDetailBody\"><div id=\"CybotCookiebotDialogDetailBodyContentTabs\"><a id=\"CybotCookiebotDialogDetailBodyContentTabsOverview\" class=\"CybotCookiebotDialogDetailBodyContentTab CybotCookiebotDialogDetailBodyContentTabsItemSelected\" href=\"javascript: CookieConsent.dialog.showDetailPane('overview');\" lang=\"en\"> Cookie declaration </a><a id=\"CybotCookiebotDialogDetailBodyContentTabsIAB\" class=\"CybotCookiebotDialogDetailBodyContentTab CybotCookiebotDialogDetailBodyContentTabsItem\" href=\"javascript: CookieConsent.dialog.showDetailPane('iab');\" lang=\"en\"> [#IABSETTINGS#] </a><a id=\"CybotCookiebotDialogDetailBodyContentTabsAbout\" class=\"CybotCookiebotDialogDetailBodyContentTab CybotCookiebotDialogDetailBodyContentTabsItem\" href=\"javascript: CookieConsent.dialog.showDetailPane('about');\" lang=\"en\"> About cookies </a></div><div id=\"CybotCookiebotDialogDetailBodyContent\"><div id=\"CybotCookiebotDialogDetailBodyContentTextOverview\" lang=\"en\"><div id=\"CybotCookiebotDialogDetailBodyContentCookieContainer\"><div id=\"CybotCookiebotDialogDetailBodyContentCookieContainerTypes\"><a id=\"CybotCookiebotDialogDetailBodyContentCookieContainerNecessary\" href=\"javascript: CookieConsent.dialog.showCookieContainerDetailPane('necessary');\" class=\"CybotCookiebotDialogDetailBodyContentCookieContainerTypesSelected\" style=\"border-top: 0px none;\" lang=\"en\"><label>&nbsp;</label>Necessary (9)</a><a id=\"CybotCookiebotDialogDetailBodyContentCookieContainerPreference\" href=\"javascript: CookieConsent.dialog.showCookieContainerDetailPane('preference');\" class=\"CybotCookiebotDialogDetailBodyContentCookieContainerTypes\" lang=\"en\"><label>&nbsp;</label>Preferences (2)</a><a id=\"CybotCookiebotDialogDetailBodyContentCookieContainerStatistics\" href=\"javascript: CookieConsent.dialog.showCookieContainerDetailPane('statistics');\" class=\"CybotCookiebotDialogDetailBodyContentCookieContainerTypes\" lang=\"en\"><label>&nbsp;</label>Statistics (11)</a><a id=\"CybotCookiebotDialogDetailBodyContentCookieContainerAdvertising\" href=\"javascript: CookieConsent.dialog.showCookieContainerDetailPane('advertising');\" class=\"CybotCookiebotDialogDetailBodyContentCookieContainerTypes\" lang=\"en\"><label>&nbsp;</label>Marketing (29)</a><a id=\"CybotCookiebotDialogDetailBodyContentCookieContainerUnclassified\" href=\"javascript: CookieConsent.dialog.showCookieContainerDetailPane('unclassified');\" class=\"CybotCookiebotDialogDetailBodyContentCookieContainerTypes\" lang=\"en\"><label>&nbsp;</label>Unclassified (19)</a></div><div id=\"CybotCookiebotDialogDetailBodyContentCookieContainerTypeDetails\"><div id=\"CybotCookiebotDialogDetailBodyContentCookieTabsNecessary\"><div class=\"CybotCookiebotDialogDetailBodyContentCookieTypeIntro\">Necessary cookies help make a website usable by enabling basic functions like page navigation and access to secure areas of the website. The website cannot function properly without these cookies.</div><div class=\"CybotCookiebotDialogDetailBodyContentCookieTypeTableContainer\"> <table id=\"CybotCookiebotDialogDetailTableNecessary\" class=\"CybotCookiebotDialogDetailBodyContentCookieTypeTable\"><thead><tr><th scope=\"col\">Name</th><th scope=\"col\">Provider</th><th scope=\"col\">Purpose</th><th scope=\"col\">Expiry</th><th scope=\"col\">Type</th></tr></thead><tbody><tr><td title=\"SESS#\">SESS#</td><td><a href=\"https://www.amazon.com/gp/help/customer/display.html/ref=footer_privacy?ie=UTF8&amp;nodeId=468496\" target=\"_blank\" rel=\"noopener noreferrer nofollow\" title=\"Amazon's privacy policy\">Amazon</a></td><td title=\"Preserves users states across page requests.\">Preserves users states across page requests.</td><td title=\"20 years\">20 years</td><td title=\"HTTP\">HTTP</td></tr><tr><td title=\"__EC_TEST__\">__EC_TEST__</td><td>www.fabianafilippi.com</td><td title=\"Used to remember if the user is accessing the website on a computer or mobile device.\">Used to remember if the user is accessing the website on a computer or mobile device.</td><td title=\"Session\">Session</td><td title=\"HTTP\">HTTP</td></tr><tr><td title=\"apay-session-set\">apay-session-set</td><td><a href=\"https://aws.amazon.com/privacy/\" target=\"_blank\" rel=\"noopener noreferrer nofollow\" title=\"Amazon's privacy policy\">Amazon</a></td><td title=\"This cookie is used in conjunction with the payment window - The cookie is necessary for making secure transactions on the website. \">This cookie is used in conjunction with the payment window - The cookie is necessary for making secure transactions on the website. </td><td title=\"1 year\">1 year</td><td title=\"HTTP\">HTTP</td></tr><tr><td title=\"cart\">cart</td><td>www.fabianafilippi.com</td><td title=\"Necessary for the shopping cart functionality on the website.\">Necessary for the shopping cart functionality on the website.</td><td title=\"Persistent\">Persistent</td><td title=\"HTML\">HTML</td></tr><tr><td title=\"CookieConsent\">CookieConsent</td><td><a href=\"https://www.cookiebot.com/goto/privacy-policy/\" target=\"_blank\" rel=\"noopener noreferrer nofollow\" title=\"Cookiebot's privacy policy\">Cookiebot</a></td><td title=\"Stores the user's cookie consent state for the current domain\">Stores the user's cookie consent state for the current domain</td><td title=\"1 year\">1 year</td><td title=\"HTTP\">HTTP</td></tr><tr><td title=\"frontend\">frontend</td><td>www.fabianafilippi.com</td><td title=\"Stores a random ID which ensures that a user can be uniquely identified as a guest or logged-in user. Functions such as &quot;Items last viewed&quot; or retention of the logged-in state are connected with this cookie.\">Stores a random ID which ensures that a user can be uniquely identified as a guest or logged-in user. Functions such as \"Items last viewed\" or retention of the logged-in state are connected with this cookie.</td><td title=\"1 day\">1 day</td><td title=\"HTTP\">HTTP</td></tr><tr><td title=\"TCSESSION\">TCSESSION&nbsp;[x2]</td><td>www.fabianafilippi.com<br><a href=\"https://www.commandersact.com/fr/vie-privee/\" target=\"_blank\" rel=\"noopener noreferrer nofollow\" title=\"Commanders Act's privacy policy\">Commanders Act</a></td><td title=\"Registers which server-cluster is serving the visitor. This is used in context with load balancing, in order to optimize user experience.  \">Registers which server-cluster is serving the visitor. This is used in context with load balancing, in order to optimize user experience.  </td><td title=\"1 day\">1 day</td><td title=\"HTTP\">HTTP</td></tr><tr><td title=\"test\">test</td><td>www.fabianafilippi.com</td><td title=\"Used to detect if the visitor has accepted the marketing category in the cookie banner. This cookie is necessary for GDPR-compliance of the website.  \">Used to detect if the visitor has accepted the marketing category in the cookie banner. This cookie is necessary for GDPR-compliance of the website.  </td><td title=\"Persistent\">Persistent</td><td title=\"HTML\">HTML</td></tr></tbody></table> </div></div><div id=\"CybotCookiebotDialogDetailBodyContentCookieTabsPreference\"><div class=\"CybotCookiebotDialogDetailBodyContentCookieTypeIntro\">Preference cookies enable a website to remember information that changes the way the website behaves or looks, like your preferred language or the region that you are in.</div><div class=\"CybotCookiebotDialogDetailBodyContentCookieTypeTableContainer\"> <table id=\"CybotCookiebotDialogDetailTablePreference\" class=\"CybotCookiebotDialogDetailBodyContentCookieTypeTable\"><thead><tr><th scope=\"col\">Name</th><th scope=\"col\">Provider</th><th scope=\"col\">Purpose</th><th scope=\"col\">Expiry</th><th scope=\"col\">Type</th></tr></thead><tbody><tr><td title=\"player\">player</td><td><a href=\"https://vimeo.com/privacy\" target=\"_blank\" rel=\"noopener noreferrer nofollow\" title=\"Vimeo's privacy policy\">Vimeo</a></td><td title=\"Saves the user's preferences when playing embedded videos from Vimeo.\">Saves the user's preferences when playing embedded videos from Vimeo.</td><td title=\"1 year\">1 year</td><td title=\"HTTP\">HTTP</td></tr><tr><td title=\"sync_active\">sync_active</td><td><a href=\"https://vimeo.com/privacy\" target=\"_blank\" rel=\"noopener noreferrer nofollow\" title=\"Vimeo's privacy policy\">Vimeo</a></td><td title=\"Contains data on visitor's video-content preferences - This allows the website to remember parameters such as preferred volume or video quality. The service is provided by Vimeo.com.\">Contains data on visitor's video-content preferences - This allows the website to remember parameters such as preferred volume or video quality. The service is provided by Vimeo.com.</td><td title=\"Persistent\">Persistent</td><td title=\"HTML\">HTML</td></tr></tbody></table> </div></div><div id=\"CybotCookiebotDialogDetailBodyContentCookieTabsStatistics\"><div class=\"CybotCookiebotDialogDetailBodyContentCookieTypeIntro\">Statistic cookies help website owners to understand how visitors interact with websites by collecting and reporting information anonymously.</div><div class=\"CybotCookiebotDialogDetailBodyContentCookieTypeTableContainer\"> <table id=\"CybotCookiebotDialogDetailTableStatistics\" class=\"CybotCookiebotDialogDetailBodyContentCookieTypeTable\"><thead><tr><th scope=\"col\">Name</th><th scope=\"col\">Provider</th><th scope=\"col\">Purpose</th><th scope=\"col\">Expiry</th><th scope=\"col\">Type</th></tr></thead><tbody><tr><td title=\"TCID\">TCID</td><td><a href=\"https://www.commandersact.com/fr/vie-privee/\" target=\"_blank\" rel=\"noopener noreferrer nofollow\" title=\"Commanders Act's privacy policy\">Commanders Act</a></td><td title=\"This cookie is used to count how many times a website has been visited by different visitors - this is done by assigning the visitor a random ID, so the visitor does not get registered twice.\">This cookie is used to count how many times a website has been visited by different visitors - this is done by assigning the visitor a random ID, so the visitor does not get registered twice.</td><td title=\"1 year\">1 year</td><td title=\"HTTP\">HTTP</td></tr><tr><td title=\"_ga\">_ga</td><td><a href=\"https://policies.google.com/privacy\" target=\"_blank\" rel=\"noopener noreferrer nofollow\" title=\"Google Tag Manager's privacy policy\">Google Tag Manager</a></td><td title=\"Registers a unique ID that is used to generate statistical data on how the visitor uses the website.\">Registers a unique ID that is used to generate statistical data on how the visitor uses the website.</td><td title=\"2 years\">2 years</td><td title=\"HTTP\">HTTP</td></tr><tr><td title=\"_gat\">_gat</td><td><a href=\"https://policies.google.com/privacy\" target=\"_blank\" rel=\"noopener noreferrer nofollow\" title=\"Google Tag Manager's privacy policy\">Google Tag Manager</a></td><td title=\"Used by Google Analytics to throttle request rate\">Used by Google Analytics to throttle request rate</td><td title=\"1 day\">1 day</td><td title=\"HTTP\">HTTP</td></tr><tr><td title=\"_gid\">_gid</td><td><a href=\"https://policies.google.com/privacy\" target=\"_blank\" rel=\"noopener noreferrer nofollow\" title=\"Google Tag Manager's privacy policy\">Google Tag Manager</a></td><td title=\"Registers a unique ID that is used to generate statistical data on how the visitor uses the website.\">Registers a unique ID that is used to generate statistical data on how the visitor uses the website.</td><td title=\"1 day\">1 day</td><td title=\"HTTP\">HTTP</td></tr><tr><td title=\"_hjid\">_hjid</td><td><a href=\"https://www.hotjar.com/legal/policies/privacy\" target=\"_blank\" rel=\"noopener noreferrer nofollow\" title=\"Hotjar's privacy policy\">Hotjar</a></td><td title=\"Sets a unique ID for the session. This allows the website to obtain data on visitor behaviour for statistical purposes.\">Sets a unique ID for the session. This allows the website to obtain data on visitor behaviour for statistical purposes.</td><td title=\"1 year\">1 year</td><td title=\"HTML\">HTML</td></tr><tr><td title=\"external_no_cache\">external_no_cache</td><td>www.fabianafilippi.com</td><td title=\"This cookie is set to determine if the cache is enabled or disabled - a cache is used by the website to optimize the response time between the visitor and the website. The cache is usually stored on the visitor’s browser.\">This cookie is set to determine if the cache is enabled or disabled - a cache is used by the website to optimize the response time between the visitor and the website. The cache is usually stored on the visitor’s browser.</td><td title=\"1 day\">1 day</td><td title=\"HTTP\">HTTP</td></tr><tr><td title=\"rxvisitid\">rxvisitid</td><td>www.fabianafilippi.com</td><td title=\"Sets a unique ID for the session. This allows the website to obtain data on visitor behaviour for statistical purposes.\">Sets a unique ID for the session. This allows the website to obtain data on visitor behaviour for statistical purposes.</td><td title=\"Persistent\">Persistent</td><td title=\"HTML\">HTML</td></tr><tr><td title=\"rxvt\">rxvt</td><td>www.fabianafilippi.com</td><td title=\"Sets a timestamp for when the visitor entered the website. This is used for analytical purposes on the website. \">Sets a timestamp for when the visitor entered the website. This is used for analytical purposes on the website. </td><td title=\"Persistent\">Persistent</td><td title=\"HTML\">HTML</td></tr><tr><td title=\"cgi-bin/csa.cgi\">cgi-bin/csa.cgi</td><td><a href=\"https://www.shinystat.com/en/informativa_sito.html\" target=\"_blank\" rel=\"noopener noreferrer nofollow\" title=\"Shinystat's privacy policy\">Shinystat</a></td><td title=\"Registers statistical data on visitors' behaviour on the website. Used for internal analytics by the website operator. \">Registers statistical data on visitors' behaviour on the website. Used for internal analytics by the website operator. </td><td title=\"Session\">Session</td><td title=\"Pixel\">Pixel</td></tr><tr><td title=\"vuid\">vuid</td><td><a href=\"https://vimeo.com/privacy\" target=\"_blank\" rel=\"noopener noreferrer nofollow\" title=\"Vimeo's privacy policy\">Vimeo</a></td><td title=\"Collects data on the user's visits to the website, such as which pages have been read.\">Collects data on the user's visits to the website, such as which pages have been read.</td><td title=\"2 years\">2 years</td><td title=\"HTTP\">HTTP</td></tr><tr><td title=\"yt-player-headers-readable\">yt-player-headers-readable</td><td><a href=\"https://policies.google.com/privacy\" target=\"_blank\" rel=\"noopener noreferrer nofollow\" title=\"YouTube's privacy policy\">YouTube</a></td><td title=\"Used to determine the optimal video quality based on the visitor's device and network settings. \">Used to determine the optimal video quality based on the visitor's device and network settings. </td><td title=\"Persistent\">Persistent</td><td title=\"HTML\">HTML</td></tr></tbody></table> </div></div><div id=\"CybotCookiebotDialogDetailBodyContentCookieTabsAdvertising\"><div class=\"CybotCookiebotDialogDetailBodyContentCookieTypeIntro\">Marketing cookies are used to track visitors across websites. The intention is to display ads that are relevant and engaging for the individual user and thereby more valuable for publishers and third party advertisers.</div><div class=\"CybotCookiebotDialogDetailBodyContentCookieTypeTableContainer\"> <table id=\"CybotCookiebotDialogDetailTableAdvertising\" class=\"CybotCookiebotDialogDetailBodyContentCookieTypeTable\"><thead><tr><th scope=\"col\">Name</th><th scope=\"col\">Provider</th><th scope=\"col\">Purpose</th><th scope=\"col\">Expiry</th><th scope=\"col\">Type</th></tr></thead><tbody><tr><td title=\"ubid-main\">ubid-main</td><td><a href=\"https://www.amazon.com/gp/help/customer/display.html/ref=footer_privacy?ie=UTF8&amp;nodeId=468496\" target=\"_blank\" rel=\"noopener noreferrer nofollow\" title=\"Amazon's privacy policy\">Amazon</a></td><td title=\"Used to identify the visitor across visits and devices. This allows the website to present the visitor with relevant advertisement - The service is provided by third party advertisement hubs, which facilitate real-time bidding for advertisers. \">Used to identify the visitor across visits and devices. This allows the website to present the visitor with relevant advertisement - The service is provided by third party advertisement hubs, which facilitate real-time bidding for advertisers. </td><td title=\"20 years\">20 years</td><td title=\"HTTP\">HTTP</td></tr><tr><td title=\"MUID\">MUID</td><td><a href=\"https://privacy.microsoft.com/en-us/privacystatement\" target=\"_blank\" rel=\"noopener noreferrer nofollow\" title=\"Microsoft's privacy policy\">Microsoft</a></td><td title=\"Used widely by Microsoft as a unique user ID. The cookie enables user tracking by synchronising the ID across many Microsoft domains.\">Used widely by Microsoft as a unique user ID. The cookie enables user tracking by synchronising the ID across many Microsoft domains.</td><td title=\"1 year\">1 year</td><td title=\"HTTP\">HTTP</td></tr><tr><td title=\"MUIDB\">MUIDB</td><td><a href=\"https://privacy.microsoft.com/en-us/privacystatement\" target=\"_blank\" rel=\"noopener noreferrer nofollow\" title=\"Microsoft's privacy policy\">Microsoft</a></td><td title=\"Registers data on visitors from multiple visits and on multiple websites. This information is used to measure the efficiency of advertisement on websites.  \">Registers data on visitors from multiple visits and on multiple websites. This information is used to measure the efficiency of advertisement on websites.  </td><td title=\"1 year\">1 year</td><td title=\"HTTP\">HTTP</td></tr><tr><td title=\"reach\">reach</td><td><a href=\"https://www.commandersact.com/fr/vie-privee/\" target=\"_blank\" rel=\"noopener noreferrer nofollow\" title=\"Commanders Act's privacy policy\">Commanders Act</a></td><td title=\"Used to present the visitor with relevant content and advertisement - The service is provided by third party advertisement hubs, which facilitate real-time bidding for advertisers.\">Used to present the visitor with relevant content and advertisement - The service is provided by third party advertisement hubs, which facilitate real-time bidding for advertisers.</td><td title=\"Session\">Session</td><td title=\"Pixel\">Pixel</td></tr><tr><td title=\"tc_cj_v2\">tc_cj_v2&nbsp;[x2]</td><td><a href=\"https://www.commandersact.com/fr/vie-privee/\" target=\"_blank\" rel=\"noopener noreferrer nofollow\" title=\"Commanders Act's privacy policy\">Commanders Act</a><br>www.fabianafilippi.com</td><td title=\"Collects data on visitors' behaviour and interaction - This is used to optimize the website and make advertisement on the website more relevant. \">Collects data on visitors' behaviour and interaction - This is used to optimize the website and make advertisement on the website more relevant. </td><td title=\"1 year\">1 year</td><td title=\"HTTP\">HTTP</td></tr><tr><td title=\"uid\">uid</td><td><a href=\"https://www.criteo.com/privacy/\" target=\"_blank\" rel=\"noopener noreferrer nofollow\" title=\"Criteo's privacy policy\">Criteo</a></td><td title=\"Collects anonymous data related to the user's visits to the website, such as the number of visits, average time spent on the website and what pages have been loaded, with the purpose of displaying targeted ads.\">Collects anonymous data related to the user's visits to the website, such as the number of visits, average time spent on the website and what pages have been loaded, with the purpose of displaying targeted ads.</td><td title=\"1 year\">1 year</td><td title=\"HTTP\">HTTP</td></tr><tr><td title=\"IDE\">IDE</td><td><a href=\"https://policies.google.com/privacy\" target=\"_blank\" rel=\"noopener noreferrer nofollow\" title=\"Google's privacy policy\">Google</a></td><td title=\"Used by Google DoubleClick to register and report the website user's actions after viewing or clicking one of the advertiser's ads with the purpose of measuring the efficacy of an ad and to present targeted ads to the user.\">Used by Google DoubleClick to register and report the website user's actions after viewing or clicking one of the advertiser's ads with the purpose of measuring the efficacy of an ad and to present targeted ads to the user.</td><td title=\"1 year\">1 year</td><td title=\"HTTP\">HTTP</td></tr><tr><td title=\"test_cookie\">test_cookie</td><td><a href=\"https://policies.google.com/privacy\" target=\"_blank\" rel=\"noopener noreferrer nofollow\" title=\"Google's privacy policy\">Google</a></td><td title=\"Used to check if the user's browser supports cookies.\">Used to check if the user's browser supports cookies.</td><td title=\"1 day\">1 day</td><td title=\"HTTP\">HTTP</td></tr><tr><td title=\"_fbp\">_fbp</td><td><a href=\"https://policies.google.com/privacy\" target=\"_blank\" rel=\"noopener noreferrer nofollow\" title=\"Google Tag Manager's privacy policy\">Google Tag Manager</a></td><td title=\"Used by Facebook to deliver a series of advertisement products such as real time bidding from third party advertisers.\">Used by Facebook to deliver a series of advertisement products such as real time bidding from third party advertisers.</td><td title=\"3 months\">3 months</td><td title=\"HTTP\">HTTP</td></tr><tr><td title=\"_hjIncludedInSample\">_hjIncludedInSample</td><td><a href=\"https://www.hotjar.com/legal/policies/privacy\" target=\"_blank\" rel=\"noopener noreferrer nofollow\" title=\"Hotjar's privacy policy\">Hotjar</a></td><td title=\"Determines if the user's navigation should be registered in a certain statistical place holder.\">Determines if the user's navigation should be registered in a certain statistical place holder.</td><td title=\"Session\">Session</td><td title=\"HTTP\">HTTP</td></tr><tr><td title=\"criteo_write_test\">criteo_write_test</td><td>www.fabianafilippi.com</td><td title=\"Sets a unique ID for the visitor, that allows third party advertisers to target the visitor with relevant advertisement. This pairing service is provided by third party advertisement hubs, which facilitates real-time bidding for advertisers.\">Sets a unique ID for the visitor, that allows third party advertisers to target the visitor with relevant advertisement. This pairing service is provided by third party advertisement hubs, which facilitates real-time bidding for advertisers.</td><td title=\"1 day\">1 day</td><td title=\"HTTP\">HTTP</td></tr><tr><td title=\"cto_tld_test\">cto_tld_test</td><td>www.fabianafilippi.com</td><td title=\"Used to identify the visitor across visits and devices. This allows the website to present the visitor with relevant advertisement - The service is provided by third party advertisement hubs, which facilitate real-time bidding for advertisers. \">Used to identify the visitor across visits and devices. This allows the website to present the visitor with relevant advertisement - The service is provided by third party advertisement hubs, which facilitate real-time bidding for advertisers. </td><td title=\"1 day\">1 day</td><td title=\"HTTP\">HTTP</td></tr><tr><td title=\"tC_Sync\">tC_Sync</td><td>www.fabianafilippi.com</td><td title=\"This cookie is set by the audience manager of the website to determine the time and frequencies of visitor data synchronization - cookie data synchronization is used to synchronize and gather visitor data from several websites.\">This cookie is set by the audience manager of the website to determine the time and frequencies of visitor data synchronization - cookie data synchronization is used to synchronize and gather visitor data from several websites.</td><td title=\"Persistent\">Persistent</td><td title=\"HTML\">HTML</td></tr><tr><td title=\"fr\">fr</td><td><a href=\"https://www.facebook.com/policies/cookies/\" target=\"_blank\" rel=\"noopener noreferrer nofollow\" title=\"Facebook's privacy policy\">Facebook</a></td><td title=\"Used by Facebook to deliver a series of advertisement products such as real time bidding from third party advertisers.\">Used by Facebook to deliver a series of advertisement products such as real time bidding from third party advertisers.</td><td title=\"3 months\">3 months</td><td title=\"HTTP\">HTTP</td></tr><tr><td title=\"tr\">tr</td><td><a href=\"https://www.facebook.com/policies/cookies/\" target=\"_blank\" rel=\"noopener noreferrer nofollow\" title=\"Facebook's privacy policy\">Facebook</a></td><td title=\"Used by Facebook to deliver a series of advertisement products such as real time bidding from third party advertisers.\">Used by Facebook to deliver a series of advertisement products such as real time bidding from third party advertisers.</td><td title=\"Session\">Session</td><td title=\"Pixel\">Pixel</td></tr><tr><td title=\"ads/ga-audiences\">ads/ga-audiences</td><td><a href=\"https://policies.google.com/privacy\" target=\"_blank\" rel=\"noopener noreferrer nofollow\" title=\"Google's privacy policy\">Google</a></td><td title=\"Used by Google AdWords to re-engage visitors that are likely to convert to customers based on the visitor's online behaviour across websites.\">Used by Google AdWords to re-engage visitors that are likely to convert to customers based on the visitor's online behaviour across websites.</td><td title=\"Session\">Session</td><td title=\"Pixel\">Pixel</td></tr><tr><td title=\"GPS\">GPS</td><td><a href=\"https://policies.google.com/privacy\" target=\"_blank\" rel=\"noopener noreferrer nofollow\" title=\"YouTube's privacy policy\">YouTube</a></td><td title=\"Registers a unique ID on mobile devices to enable tracking based on geographical GPS location.\">Registers a unique ID on mobile devices to enable tracking based on geographical GPS location.</td><td title=\"1 day\">1 day</td><td title=\"HTTP\">HTTP</td></tr><tr><td title=\"VISITOR_INFO1_LIVE\">VISITOR_INFO1_LIVE</td><td><a href=\"https://policies.google.com/privacy\" target=\"_blank\" rel=\"noopener noreferrer nofollow\" title=\"YouTube's privacy policy\">YouTube</a></td><td title=\"Tries to estimate the users' bandwidth on pages with integrated YouTube videos.\">Tries to estimate the users' bandwidth on pages with integrated YouTube videos.</td><td title=\"179 days\">179 days</td><td title=\"HTTP\">HTTP</td></tr><tr><td title=\"YSC\">YSC</td><td><a href=\"https://policies.google.com/privacy\" target=\"_blank\" rel=\"noopener noreferrer nofollow\" title=\"YouTube's privacy policy\">YouTube</a></td><td title=\"Registers a unique ID to keep statistics of what videos from YouTube the user has seen.\">Registers a unique ID to keep statistics of what videos from YouTube the user has seen.</td><td title=\"Session\">Session</td><td title=\"HTTP\">HTTP</td></tr><tr><td title=\"yt-remote-cast-installed\">yt-remote-cast-installed</td><td><a href=\"https://policies.google.com/privacy\" target=\"_blank\" rel=\"noopener noreferrer nofollow\" title=\"YouTube's privacy policy\">YouTube</a></td><td title=\"Stores the user's video player preferences using embedded YouTube video\">Stores the user's video player preferences using embedded YouTube video</td><td title=\"Session\">Session</td><td title=\"HTML\">HTML</td></tr><tr><td title=\"yt-remote-connected-devices\">yt-remote-connected-devices</td><td><a href=\"https://policies.google.com/privacy\" target=\"_blank\" rel=\"noopener noreferrer nofollow\" title=\"YouTube's privacy policy\">YouTube</a></td><td title=\"Stores the user's video player preferences using embedded YouTube video\">Stores the user's video player preferences using embedded YouTube video</td><td title=\"Persistent\">Persistent</td><td title=\"HTML\">HTML</td></tr><tr><td title=\"yt-remote-device-id\">yt-remote-device-id</td><td><a href=\"https://policies.google.com/privacy\" target=\"_blank\" rel=\"noopener noreferrer nofollow\" title=\"YouTube's privacy policy\">YouTube</a></td><td title=\"Stores the user's video player preferences using embedded YouTube video\">Stores the user's video player preferences using embedded YouTube video</td><td title=\"Persistent\">Persistent</td><td title=\"HTML\">HTML</td></tr><tr><td title=\"yt-remote-fast-check-period\">yt-remote-fast-check-period</td><td><a href=\"https://policies.google.com/privacy\" target=\"_blank\" rel=\"noopener noreferrer nofollow\" title=\"YouTube's privacy policy\">YouTube</a></td><td title=\"Stores the user's video player preferences using embedded YouTube video\">Stores the user's video player preferences using embedded YouTube video</td><td title=\"Session\">Session</td><td title=\"HTML\">HTML</td></tr><tr><td title=\"yt-remote-session-app\">yt-remote-session-app</td><td><a href=\"https://policies.google.com/privacy\" target=\"_blank\" rel=\"noopener noreferrer nofollow\" title=\"YouTube's privacy policy\">YouTube</a></td><td title=\"Stores the user's video player preferences using embedded YouTube video\">Stores the user's video player preferences using embedded YouTube video</td><td title=\"Session\">Session</td><td title=\"HTML\">HTML</td></tr><tr><td title=\"yt-remote-session-name\">yt-remote-session-name</td><td><a href=\"https://policies.google.com/privacy\" target=\"_blank\" rel=\"noopener noreferrer nofollow\" title=\"YouTube's privacy policy\">YouTube</a></td><td title=\"Stores the user's video player preferences using embedded YouTube video\">Stores the user's video player preferences using embedded YouTube video</td><td title=\"Session\">Session</td><td title=\"HTML\">HTML</td></tr><tr><td title=\"s3\">s3</td><td><a href=\"https://www.commandersact.com/fr/vie-privee/\" target=\"_blank\" rel=\"noopener noreferrer nofollow\" title=\"Commanders Act's privacy policy\">Commanders Act</a></td><td title=\"Pending\">Pending</td><td title=\"Session\">Session</td><td title=\"Pixel\">Pixel</td></tr><tr><td title=\"WID\">WID</td><td><a href=\"https://www.commandersact.com/fr/vie-privee/\" target=\"_blank\" rel=\"noopener noreferrer nofollow\" title=\"Commanders Act's privacy policy\">Commanders Act</a></td><td title=\"Pending\">Pending</td><td title=\"Session\">Session</td><td title=\"HTTP\">HTTP</td></tr><tr><td title=\"pagead/1p-user-list/#\">pagead/1p-user-list/#</td><td><a href=\"https://policies.google.com/privacy\" target=\"_blank\" rel=\"noopener noreferrer nofollow\" title=\"Google's privacy policy\">Google</a></td><td title=\"Pending\">Pending</td><td title=\"Session\">Session</td><td title=\"Pixel\">Pixel</td></tr></tbody></table> </div></div><div id=\"CybotCookiebotDialogDetailBodyContentCookieTabsUnclassified\"><div class=\"CybotCookiebotDialogDetailBodyContentCookieTypeIntro\">Unclassified cookies are cookies that we are in the process of classifying, together with the providers of individual cookies.</div><div class=\"CybotCookiebotDialogDetailBodyContentCookieTypeTableContainer\"> <table id=\"CybotCookiebotDialogDetailTableUnclassified\" class=\"CybotCookiebotDialogDetailBodyContentCookieTypeTable\"><thead><tr><th scope=\"col\">Name</th><th scope=\"col\">Provider</th><th scope=\"col\">Purpose</th><th scope=\"col\">Expiry</th><th scope=\"col\">Type</th></tr></thead><tbody><tr><td title=\"_hjTLDTest\">_hjTLDTest</td><td><a href=\"https://www.hotjar.com/legal/policies/privacy\" target=\"_blank\" rel=\"noopener noreferrer nofollow\" title=\"Hotjar's privacy policy\">Hotjar</a></td><td title=\"Pending\">Pending</td><td title=\"Session\">Session</td><td title=\"HTTP\">HTTP</td></tr><tr><td title=\"account\">account</td><td>www.fabianafilippi.com</td><td title=\"Pending\">Pending</td><td title=\"Persistent\">Persistent</td><td title=\"HTML\">HTML</td></tr><tr><td title=\"amazon-pay-abtesting-apa-migration\">amazon-pay-abtesting-apa-migration</td><td><a href=\"https://aws.amazon.com/privacy/\" target=\"_blank\" rel=\"noopener noreferrer nofollow\" title=\"Amazon's privacy policy\">Amazon</a></td><td title=\"Pending\">Pending</td><td title=\"Session\">Session</td><td title=\"HTTP\">HTTP</td></tr><tr><td title=\"amazon-pay-abtesting-new-widgets\">amazon-pay-abtesting-new-widgets</td><td><a href=\"https://aws.amazon.com/privacy/\" target=\"_blank\" rel=\"noopener noreferrer nofollow\" title=\"Amazon's privacy policy\">Amazon</a></td><td title=\"Pending\">Pending</td><td title=\"Session\">Session</td><td title=\"HTTP\">HTTP</td></tr><tr><td title=\"cartCount\">cartCount</td><td>www.fabianafilippi.com</td><td title=\"Pending\">Pending</td><td title=\"Persistent\">Persistent</td><td title=\"HTML\">HTML</td></tr><tr><td title=\"invalidate_local_storage\">invalidate_local_storage</td><td>www.fabianafilippi.com</td><td title=\"Pending\">Pending</td><td title=\"Session\">Session</td><td title=\"HTTP\">HTTP</td></tr><tr><td title=\"isLogged\">isLogged</td><td>www.fabianafilippi.com</td><td title=\"Pending\">Pending</td><td title=\"Persistent\">Persistent</td><td title=\"HTML\">HTML</td></tr><tr><td title=\"ruxitagentjs_4a52b393609813c1_Store\">ruxitagentjs_4a52b393609813c1_Store</td><td>www.fabianafilippi.com</td><td title=\"Pending\">Pending</td><td title=\"Persistent\">Persistent</td><td title=\"HTML\">HTML</td></tr><tr><td title=\"rxec\">rxec</td><td>www.fabianafilippi.com</td><td title=\"Pending\">Pending</td><td title=\"Persistent\">Persistent</td><td title=\"HTML\">HTML</td></tr><tr><td title=\"SN_TRO-fabianafilippicom\">SN_TRO-fabianafilippicom</td><td><a href=\"https://www.shinystat.com/en/informativa_sito.html\" target=\"_blank\" rel=\"noopener noreferrer nofollow\" title=\"Shinystat's privacy policy\">Shinystat</a></td><td title=\"Pending\">Pending</td><td title=\"179 days\">179 days</td><td title=\"HTTP\">HTTP</td></tr><tr><td title=\"SSC_TRO-fabianafilippicom\">SSC_TRO-fabianafilippicom</td><td><a href=\"https://www.shinystat.com/en/informativa_sito.html\" target=\"_blank\" rel=\"noopener noreferrer nofollow\" title=\"Shinystat's privacy policy\">Shinystat</a></td><td title=\"Pending\">Pending</td><td title=\"179 days\">179 days</td><td title=\"HTTP\">HTTP</td></tr><tr><td title=\"SSID_TRO-fabianafilippicom\">SSID_TRO-fabianafilippicom</td><td><a href=\"https://www.shinystat.com/en/informativa_sito.html\" target=\"_blank\" rel=\"noopener noreferrer nofollow\" title=\"Shinystat's privacy policy\">Shinystat</a></td><td title=\"Pending\">Pending</td><td title=\"Session\">Session</td><td title=\"HTTP\">HTTP</td></tr><tr><td title=\"storageTime\">storageTime</td><td>www.fabianafilippi.com</td><td title=\"Pending\">Pending</td><td title=\"Persistent\">Persistent</td><td title=\"HTML\">HTML</td></tr><tr><td title=\"storeCode\">storeCode</td><td>www.fabianafilippi.com</td><td title=\"Pending\">Pending</td><td title=\"Persistent\">Persistent</td><td title=\"HTML\">HTML</td></tr><tr><td title=\"SV_TRO-fabianafilippicom\">SV_TRO-fabianafilippicom</td><td><a href=\"https://www.shinystat.com/en/informativa_sito.html\" target=\"_blank\" rel=\"noopener noreferrer nofollow\" title=\"Shinystat's privacy policy\">Shinystat</a></td><td title=\"Pending\">Pending</td><td title=\"Session\">Session</td><td title=\"HTTP\">HTTP</td></tr><tr><td title=\"tbuyAjaxTime\">tbuyAjaxTime</td><td>www.fabianafilippi.com</td><td title=\"Pending\">Pending</td><td title=\"Persistent\">Persistent</td><td title=\"HTML\">HTML</td></tr><tr><td title=\"tCdebugLib\">tCdebugLib</td><td>www.fabianafilippi.com</td><td title=\"Pending\">Pending</td><td title=\"29 days\">29 days</td><td title=\"HTTP\">HTTP</td></tr><tr><td title=\"wishlist\">wishlist</td><td>www.fabianafilippi.com</td><td title=\"Pending\">Pending</td><td title=\"Persistent\">Persistent</td><td title=\"HTML\">HTML</td></tr><tr><td title=\"wishlistCount\">wishlistCount</td><td>www.fabianafilippi.com</td><td title=\"Pending\">Pending</td><td title=\"Persistent\">Persistent</td><td title=\"HTML\">HTML</td></tr></tbody></table> </div></div></div></div></div><div id=\"CybotCookiebotDialogDetailBodyContentTextIAB\" lang=\"en\"> [#COOKIESIABCONTENT#] </div><div id=\"CybotCookiebotDialogDetailBodyContentTextAbout\" lang=\"en\"> Cookies are small text files that can be used by websites to make a user's experience more efficient.<br style=\"\"><br style=\"\">The law states that we can store cookies on your device if they are strictly necessary for the operation of this site. For all other types of cookies we need your permission.<br style=\"\"><br style=\"\">This site uses different types of cookies. Some cookies are placed by third party services that appear on our pages.<br style=\"\"><br style=\"\">You can at any time change or withdraw your consent from the Cookie Declaration on our website.<br style=\"\"><br style=\"\">Learn more about who we are, how you can contact us and how we process personal data in our Privacy Policy. </div></div><div id=\"CybotCookiebotDialogDetailFooter\" lang=\"en\"> Cookie declaration last updated on 07/02/2020 by <a href=\"https://www.cookiebot.com\" target=\"_blank\" rel=\"noopener\" title=\"Cookiebot\">Cookiebot</a> </div></div></div></div>\n"
     ]
    }
   ],
   "source": [
    "# url 106\n",
    "i = urls[105]\n",
    "#open_url(i)\n",
    "element = driver.find_element_by_css_selector('#CybotCookiebotDialog')\n",
    "source = element.get_attribute(\"outerHTML\")\n",
    "print(source)\n",
    "data.append({\"TYPE\" : ad_type, \"ad_code\" : source, \"URL\" : i})"
   ]
  },
  {
   "cell_type": "code",
   "execution_count": 654,
   "metadata": {
    "collapsed": true
   },
   "outputs": [
    {
     "name": "stdout",
     "output_type": "stream",
     "text": [
      "<div id=\"cmpbox\" class=\"cmpbox cmpbox1\" style=\"display: block;\"><div class=\"cmpboxinner\"><div id=\"cmpboxcontent\" class=\"cmpboxcontent\"><div class=\"cmpboxhl\">We value your privacy!</div><div class=\"cmpboxtxt\">We use cookies and process personal data to personalize and improve your shopping experience. As we value your privacy, we are asking for your permission to use these technologies. Adapt your consent by clicking on the \"customize your choice\" link.</div></div><div class=\"cmpboxbtns\"><span id=\"cmpwelcomebtnno\"><a class=\"cmpboxbtn cmpboxbtnno\" href=\"#\" onclick=\"window.cmpmngr.setConsentViaBtn(0); return false\"><svg xmlns=\"http://www.w3.org/2000/svg\" xmlns:xlink=\"http://www.w3.org/1999/xlink\" viewBox=\"0 0 32 32\" version=\"1.1\" width=\"32px\" height=\"32px\"><g id=\"surface1\"><path id=\"cmpsvgrejectbtn\" d=\"M31.708 25.708c-0-0-0-0-0-0l-9.708-9.708 9.708-9.708c0-0 0-0 0-0 0.105-0.105 0.18-0.227 0.229-0.357 0.133-0.356 0.057-0.771-0.229-1.057l-4.586-4.586c-0.286-0.286-0.702-0.361-1.057-0.229-0.13 0.048-0.252 0.124-0.357 0.228 0 0-0 0-0 0l-9.708 9.708-9.708-9.708c-0-0-0-0-0-0-0.105-0.104-0.227-0.18-0.357-0.228-0.356-0.133-0.771-0.057-1.057 0.229l-4.586 4.586c-0.286 0.286-0.361 0.702-0.229 1.057 0.049 0.13 0.124 0.252 0.229 0.357 0 0 0 0 0 0l9.708 9.708-9.708 9.708c-0 0-0 0-0 0-0.104 0.105-0.18 0.227-0.229 0.357-0.133 0.355-0.057 0.771 0.229 1.057l4.586 4.586c0.286 0.286 0.702 0.361 1.057 0.229 0.13-0.049 0.252-0.124 0.357-0.229 0-0 0-0 0-0l9.708-9.708 9.708 9.708c0 0 0 0 0 0 0.105 0.105 0.227 0.18 0.357 0.229 0.356 0.133 0.771 0.057 1.057-0.229l4.586-4.586c0.286-0.286 0.362-0.702 0.229-1.057-0.049-0.13-0.124-0.252-0.229-0.357z\"></path></g></svg> <span id=\"cmpbntnotxt\">Reject</span></a></span><span id=\"cmpwelcomebtnyes\"><a class=\"cmpboxbtn cmpboxbtnyes\" href=\"#\" onclick=\"window.cmpmngr.setConsentViaBtn(1); return false\"><svg xmlns=\"http://www.w3.org/2000/svg\" xmlns:xlink=\"http://www.w3.org/1999/xlink\" viewBox=\"0 0 32 32\" version=\"1.1\" width=\"32px\" height=\"32px\"><g id=\"surface1\"><path id=\"cmpsvgacceptbtn\" d=\"M27 4l-15 15-7-7-5 5 12 12 20-20z\"></path></g></svg> <span id=\"cmpbntyestxt\">Accept </span></a></span><span style=\"display:none;\" id=\"cmpwelcomebtnsave\"><a class=\"cmpboxbtn cmpboxbtnyes\" href=\"#\" onclick=\"window.cmpmngr.setConsentViaBtn(2); return false\"><svg xmlns=\"http://www.w3.org/2000/svg\" xmlns:xlink=\"http://www.w3.org/1999/xlink\" viewBox=\"0 0 32 32\" version=\"1.1\" width=\"32px\" height=\"32px\"><g id=\"surface1\"><path fill=\"#FFFFFF\" d=\"M27 4l-15 15-7-7-5 5 12 12 20-20z\"></path></g></svg> Save</a></span><div class=\"cmpmore\"><a class=\"cmpmorelink\" href=\"#\" onclick=\"window.cmpmngr.showCustomChoices(); return false\">Customize your choice</a> | <a class=\"cmpmorelink\" href=\"https://www.falke.com/de_de/informationen/datenschutz#cmpnoscreen\">Privacy Policy</a></div></div></div><div class=\"cmpclose\"><a href=\"#\" onclick=\"window.cmpmngr.closeClick(); window.cmpmngr.hideContent(); return false;\"><svg xmlns=\"http://www.w3.org/2000/svg\" xmlns:xlink=\"http://www.w3.org/1999/xlink\" viewBox=\"0 0 32 32\" version=\"1.1\" width=\"32px\" height=\"32px\"><g id=\"surface1\"><path id=\"cmpsvgclosebtn\" d=\"M31.708 25.708c-0-0-0-0-0-0l-9.708-9.708 9.708-9.708c0-0 0-0 0-0 0.105-0.105 0.18-0.227 0.229-0.357 0.133-0.356 0.057-0.771-0.229-1.057l-4.586-4.586c-0.286-0.286-0.702-0.361-1.057-0.229-0.13 0.048-0.252 0.124-0.357 0.228 0 0-0 0-0 0l-9.708 9.708-9.708-9.708c-0-0-0-0-0-0-0.105-0.104-0.227-0.18-0.357-0.228-0.356-0.133-0.771-0.057-1.057 0.229l-4.586 4.586c-0.286 0.286-0.361 0.702-0.229 1.057 0.049 0.13 0.124 0.252 0.229 0.357 0 0 0 0 0 0l9.708 9.708-9.708 9.708c-0 0-0 0-0 0-0.104 0.105-0.18 0.227-0.229 0.357-0.133 0.355-0.057 0.771 0.229 1.057l4.586 4.586c0.286 0.286 0.702 0.361 1.057 0.229 0.13-0.049 0.252-0.124 0.357-0.229 0-0 0-0 0-0l9.708-9.708 9.708 9.708c0 0 0 0 0 0 0.105 0.105 0.227 0.18 0.357 0.229 0.356 0.133 0.771 0.057 1.057-0.229l4.586-4.586c0.286-0.286 0.362-0.702 0.229-1.057-0.049-0.13-0.124-0.252-0.229-0.357z\"></path></g></svg></a></div><div class=\"cmplogo2\"><span class=\"cmplogo2hx\">powered by </span><a href=\"https://www.consentmanager.net/?utm_source=cmplogo&amp;utm_medium=banner&amp;utm_campaign=cmplogo612\" target=\"_blank\"><img src=\"//cdn.consentmanager.mgr.consensu.org/delivery/cmplogo.svg\" alt=\"consentmanager.net\" width=\"16\" height=\"16\" border=\"0\"><span class=\"cmplogo2h\">consentmanager.net</span></a></div><div class=\"cmplanguage\" id=\"cmplanguage\" onclick=\"window.cmpmngr.showLanguages(); return false\"><img class=\"cmplangicon\" src=\"//cdn.consentmanager.mgr.consensu.org/delivery/flags/en.gif\" alt=\"en\" title=\"en\" width=\"16\" height=\"11\"></div></div>\n"
     ]
    }
   ],
   "source": [
    "# url 107\n",
    "i = urls[106]\n",
    "#open_url(i)\n",
    "element = driver.find_element_by_css_selector('#cmpbox')\n",
    "source = element.get_attribute(\"outerHTML\")\n",
    "print(source)\n",
    "data.append({\"TYPE\" : ad_type, \"ad_code\" : source, \"URL\" : i})"
   ]
  },
  {
   "cell_type": "code",
   "execution_count": 656,
   "metadata": {
    "collapsed": true
   },
   "outputs": [
    {
     "name": "stdout",
     "output_type": "stream",
     "text": [
      "<div footer-popup=\"\" id=\"popup-container\" ng-show=\"popupEnabled\" class=\"\"><aside class=\"sp-footer-popup\">\n",
      "\t<div class=\"container\">\n",
      "\t\t<div class=\"container-group\">\n",
      "\t\t\t<div class=\"warning-text ng-binding\" ng-bind-html=\"popupContent\"><p>We use our own and third-parties cookies to ensure you have the best possible shopping experience, for web analytics and to provide you with personalized contents and ads or social media features. By continuing to browse our site, you agree to their use. For more information, please see our <a target=\"_blank\" rel=\"noopener noreferrer\" href=\"/privacy-policy\">Privacy &amp; Cookie Policy.</a></p></div>\n",
      "\t\t\t<div class=\"action-container\"><button class=\"popup-action\" ng-click=\"saveAgreePolicy()\" type=\"submit\">Agree</button></div>\n",
      "\t\t</div>\n",
      "\t</div>\n",
      "</aside></div>\n"
     ]
    }
   ],
   "source": [
    "# url 108\n",
    "i = urls[107]\n",
    "#open_url(i)\n",
    "element = driver.find_element_by_css_selector('#popup-container')\n",
    "source = element.get_attribute(\"outerHTML\")\n",
    "print(source)\n",
    "data.append({\"TYPE\" : ad_type, \"ad_code\" : source, \"URL\" : i})"
   ]
  },
  {
   "cell_type": "code",
   "execution_count": 663,
   "metadata": {
    "collapsed": true
   },
   "outputs": [
    {
     "name": "stdout",
     "output_type": "stream",
     "text": [
      "<div role=\"complementary\" class=\"css-14j546w e12uhmgb1\"><div class=\"css-113m88c e12uhmgb2\"><p>We use technology such as cookies to collect information and store your online preferences. Cookies are small pieces of information sent by a web server to a web browser, which allows the server to uniquely identify the browser on each page. You may disable these cookies at any time in your browser’s system settings and delete existing cookies. Read our <a href=\"/en-kr/customer-service/site-policy\">Cookie Policy</a>.</p></div><span class=\"css-1rayrqq e12uhmgb0\"><button type=\"button\" class=\"e12uhmgb4 css-1wwnhrd e1y6awi20\"><span>Edit Preferences</span></button><button type=\"button\" class=\"e12uhmgb3 css-1qqka33 e1y6awi20\"><span>Accept</span></button></span></div>\n"
     ]
    }
   ],
   "source": [
    "# url 109\n",
    "i = urls[108]\n",
    "#open_url(i)\n",
    "element = driver.find_element_by_css_selector('.css-14j546w')\n",
    "source = element.get_attribute(\"outerHTML\")\n",
    "print(source)\n",
    "data.append({\"TYPE\" : ad_type, \"ad_code\" : source, \"URL\" : i})"
   ]
  },
  {
   "cell_type": "code",
   "execution_count": 665,
   "metadata": {
    "collapsed": true
   },
   "outputs": [
    {
     "name": "stdout",
     "output_type": "stream",
     "text": [
      "<div id=\"CybotCookiebotDialog\" name=\"CybotCookiebotDialog\" role=\"alertdialog\" aria-describedby=\"CybotCookiebotDialogBodyContentTitle\" dir=\"ltr\" ng-non-bindable=\"\" style=\"display: block; opacity: 1; top: 283px; width: 100%; height: auto;\" lang=\"en\"><div id=\"CybotCookiebotDialogBody\"><div id=\"CybotCookiebotDialogPoweredbyLink\" style=\"display: none;\"><img id=\"CybotCookiebotDialogPoweredbyImage\" src=\"\" alt=\"\"></div><div id=\"CybotCookiebotDialogBodyContent\" style=\"padding-left: 8px;\"><h2 id=\"CybotCookiebotDialogBodyContentTitle\" lang=\"en\">This site uses cookies</h2><div id=\"CybotCookiebotDialogBodyContentText\" lang=\"en\">Cookies are used to enhance browsing and personalize your experience. By continuing you are consenting to the use of cookies. To learn more or adjust your settings visit the cookie preferences page.</div></div><div id=\"CybotCookiebotDialogBodyContentControls\" style=\"display: none;\"><div class=\"CybotCookiebotDialogBodyContentControlsWrapper\"><input type=\"checkbox\" id=\"CybotCookiebotDialogBodyContentCheckboxPersonalInformation\" class=\"CybotCookiebotDialogBodyLevelButton\" tabindex=\"0\" data-gaconnector-tracked=\"true\"><label class=\"CybotCookiebotDialogBodyContentLabelPersonalInformation\" for=\"CybotCookiebotDialogBodyContentCheckboxPersonalInformation\"></label></div></div><div id=\"CybotCookiebotDialogBodyButtons\" style=\"padding-left: 0px;\"><a id=\"CybotCookiebotDialogBodyButtonDecline\" class=\"CybotCookiebotDialogBodyButton\" href=\"javascript: void(0);\" tabindex=\"0\" style=\"display: none;\" lang=\"en\"> Use necessary cookies only </a><a id=\"CybotCookiebotDialogBodyButtonAccept\" class=\"CybotCookiebotDialogBodyButton\" href=\"javascript: void(0);\" tabindex=\"0\" style=\"margin-left: 2px; padding-left: 12px; padding-right: 12px;\" lang=\"en\"> OK </a><a id=\"CybotCookiebotDialogBodyButtonDetails\" class=\"CybotCookiebotDialogBodyLink\" href=\"javascript: void(0);\" tabindex=\"0\" lang=\"en\"> Settings </a></div><div id=\"CybotCookiebotDialogBodyLevelWrapper\"><div id=\"CybotCookiebotDialogBodyLevelButtonAcceptWrapper\"><a id=\"CybotCookiebotDialogBodyLevelButtonAccept\" href=\"javascript: void(0);\" tabindex=\"0\" lang=\"en\"> OK </a></div><div id=\"CybotCookiebotDialogBodyLevelButtonLevelOptinAllowallSelectionWrapper\" style=\"display:none\"><a id=\"CybotCookiebotDialogBodyLevelButtonLevelOptinAllowallSelection\" class=\"CybotCookiebotDialogBodyButton\" href=\"javascript: void(0);\" tabindex=\"0\" lang=\"en\"> Allow selection </a><a id=\"CybotCookiebotDialogBodyLevelButtonLevelOptinAllowAll\" class=\"CybotCookiebotDialogBodyButton\" href=\"javascript: void(0);\" tabindex=\"0\" lang=\"en\"> Allow all cookies </a></div><!--Checkboxes--><div id=\"CybotCookiebotDialogBodyLevelButtons\"><div id=\"CybotCookiebotDialogBodyLevelButtonsTable\"><div id=\"CybotCookiebotDialogBodyLevelButtonsRow\"><div id=\"CybotCookiebotDialogBodyLevelButtonsSelectPane\"><div class=\"CybotCookiebotDialogBodyLevelButtonWrapper\"><label for=\"CybotCookiebotDialogBodyLevelButtonNecessary\">Necessary</label></div><div class=\"CybotCookiebotDialogBodyLevelButtonWrapper\"><label for=\"CybotCookiebotDialogBodyLevelButtonPreferences\">Preferences</label></div><div class=\"CybotCookiebotDialogBodyLevelButtonWrapper\"><label for=\"CybotCookiebotDialogBodyLevelButtonStatistics\">Statistics</label></div><div class=\"CybotCookiebotDialogBodyLevelButtonWrapper\"><label for=\"CybotCookiebotDialogBodyLevelButtonMarketing\">Marketing</label></div></div><div id=\"CybotCookiebotDialogBodyLevelDetailsWrapper\"><a id=\"CybotCookiebotDialogBodyLevelDetailsButton\" class=\"CybotCookiebotDialogBodyLink\" href=\"javascript: void(0);\" tabindex=\"0\" lang=\"en\"> Settings </a></div></div></div></div></div></div><div id=\"CybotCookiebotDialogDetail\"><div id=\"CybotCookiebotDialogDetailBody\"><div id=\"CybotCookiebotDialogDetailBodyContentTabs\"><a id=\"CybotCookiebotDialogDetailBodyContentTabsOverview\" class=\"CybotCookiebotDialogDetailBodyContentTab CybotCookiebotDialogDetailBodyContentTabsItemSelected\" href=\"javascript: CookieConsent.dialog.showDetailPane('overview');\" lang=\"en\"> Cookie declaration </a><a id=\"CybotCookiebotDialogDetailBodyContentTabsIAB\" class=\"CybotCookiebotDialogDetailBodyContentTab CybotCookiebotDialogDetailBodyContentTabsItem\" href=\"javascript: CookieConsent.dialog.showDetailPane('iab');\" lang=\"en\"> [#IABSETTINGS#] </a><a id=\"CybotCookiebotDialogDetailBodyContentTabsAbout\" class=\"CybotCookiebotDialogDetailBodyContentTab CybotCookiebotDialogDetailBodyContentTabsItem\" href=\"javascript: CookieConsent.dialog.showDetailPane('about');\" lang=\"en\"> About cookies </a></div><div id=\"CybotCookiebotDialogDetailBodyContent\"><div id=\"CybotCookiebotDialogDetailBodyContentTextOverview\" lang=\"en\"><div id=\"CybotCookiebotDialogDetailBodyContentCookieContainer\"><div id=\"CybotCookiebotDialogDetailBodyContentCookieContainerTypes\" style=\"background-color: rgb(255, 255, 255);\"><a id=\"CybotCookiebotDialogDetailBodyContentCookieContainerNecessary\" class=\"CybotCookiebotDialogDetailBodyContentCookieContainerTypesSelected\" title=\"Mandatory - can not be deselected.\" style=\"padding-top: 7px; padding-bottom: 5px; position: relative; z-index: 1;\" lang=\"en\"><input type=\"checkbox\" id=\"CybotCookiebotDialogBodyLevelButtonNecessary\" class=\"CybotCookiebotDialogBodyLevelButton CybotCookiebotDialogBodyLevelButtonDisabled\" disabled=\"disabled\" checked=\"checked\" style=\"z-index: 10000; position: absolute;\" data-gaconnector-tracked=\"true\"><label for=\"CybotCookiebotDialogBodyLevelButtonNecessary\" style=\"display: inline-block; background-position-y: -1px;\">&nbsp;</label>Necessary (42)</a><a id=\"CybotCookiebotDialogDetailBodyContentCookieContainerPreference\" class=\"CybotCookiebotDialogDetailBodyContentCookieContainerTypes\" style=\"padding-top: 7px; padding-bottom: 5px; position: relative; z-index: 1;\" lang=\"en\"><input type=\"checkbox\" id=\"CybotCookiebotDialogBodyLevelButtonPreferences\" class=\"CybotCookiebotDialogBodyLevelButton\" checked=\"checked\" tabindex=\"0\" style=\"z-index: 10000; position: absolute;\" data-gaconnector-tracked=\"true\"><label for=\"CybotCookiebotDialogBodyLevelButtonPreferences\" style=\"display: inline-block; background-position-y: -1px;\">&nbsp;</label>Preferences (8)</a><a id=\"CybotCookiebotDialogDetailBodyContentCookieContainerStatistics\" class=\"CybotCookiebotDialogDetailBodyContentCookieContainerTypes\" style=\"padding-top: 7px; padding-bottom: 5px; position: relative; z-index: 1;\" lang=\"en\"><input type=\"checkbox\" id=\"CybotCookiebotDialogBodyLevelButtonStatistics\" class=\"CybotCookiebotDialogBodyLevelButton\" checked=\"checked\" tabindex=\"0\" style=\"z-index: 10000; position: absolute;\" data-gaconnector-tracked=\"true\"><label for=\"CybotCookiebotDialogBodyLevelButtonStatistics\" style=\"display: inline-block; background-position-y: -1px;\">&nbsp;</label>Statistics (36)</a><a id=\"CybotCookiebotDialogDetailBodyContentCookieContainerAdvertising\" class=\"CybotCookiebotDialogDetailBodyContentCookieContainerTypes\" style=\"padding-top: 7px; padding-bottom: 5px; position: relative; z-index: 1;\" lang=\"en\"><input type=\"checkbox\" id=\"CybotCookiebotDialogBodyLevelButtonMarketing\" class=\"CybotCookiebotDialogBodyLevelButton\" checked=\"checked\" tabindex=\"0\" style=\"z-index: 10000; position: absolute;\" data-gaconnector-tracked=\"true\"><label for=\"CybotCookiebotDialogBodyLevelButtonMarketing\" style=\"display: inline-block; background-position-y: -1px;\">&nbsp;</label>Marketing (111)</a><a id=\"CybotCookiebotDialogDetailBodyContentCookieContainerUnclassified\" href=\"javascript: CookieConsent.dialog.showCookieContainerDetailPane('unclassified');\" class=\"CybotCookiebotDialogDetailBodyContentCookieContainerTypes\" style=\"padding-top: 7px; padding-bottom: 7px; border-bottom: 0px none;\" lang=\"en\"><label>&nbsp;</label>Unclassified (291)</a></div><div id=\"CybotCookiebotDialogDetailBodyContentCookieContainerTypeDetails\"><div id=\"CybotCookiebotDialogDetailBodyContentCookieTabsNecessary\"><div class=\"CybotCookiebotDialogDetailBodyContentCookieTypeIntro\">Necessary cookies help make a website usable by enabling basic functions like page navigation and access to secure areas of the website. The website cannot function properly without these cookies.</div><div class=\"CybotCookiebotDialogDetailBodyContentCookieTypeTableContainer\"> <table id=\"CybotCookiebotDialogDetailTableNecessary\" class=\"CybotCookiebotDialogDetailBodyContentCookieTypeTable\"><thead><tr><th scope=\"col\">Name</th><th scope=\"col\">Provider</th><th scope=\"col\">Purpose</th><th scope=\"col\">Expiry</th><th scope=\"col\">Type</th></tr></thead><tbody><tr><td title=\"algoliasearch-client-js\">algoliasearch-client-js</td><td><a href=\"https://readme.io/privacy/\" target=\"_blank\" rel=\"noopener noreferrer nofollow\" title=\"Readme's privacy policy\">Readme</a></td><td title=\"Necessary in order to optimize the website's search-bar function. The cookie ensures accurate and fast search results.\">Necessary in order to optimize the website's search-bar function. The cookie ensures accurate and fast search results.</td><td title=\"Persistent\">Persistent</td><td title=\"HTML\">HTML</td></tr><tr><td title=\"CookieConsent\">CookieConsent&nbsp;[x7]</td><td><a href=\"https://www.cookiebot.com/goto/privacy-policy/\" target=\"_blank\" rel=\"noopener noreferrer nofollow\" title=\"Cookiebot's privacy policy\">Cookiebot</a></td><td title=\"Stores the user's cookie consent state for the current domain\">Stores the user's cookie consent state for the current domain</td><td title=\"1 year\">1 year</td><td title=\"HTTP\">HTTP</td></tr><tr><td title=\"__stripe_mid\">__stripe_mid</td><td><a href=\"https://stripe.com/dk/privacy\" target=\"_blank\" rel=\"noopener noreferrer nofollow\" title=\"Stripe's privacy policy\">Stripe</a></td><td title=\"This cookie is necessary for making credit card transactions on the website. The service is provided by Stripe.com which allows online transactions without storing any credit card information.\">This cookie is necessary for making credit card transactions on the website. The service is provided by Stripe.com which allows online transactions without storing any credit card information.</td><td title=\"1 year\">1 year</td><td title=\"HTTP\">HTTP</td></tr><tr><td title=\"__stripe_sid\">__stripe_sid</td><td><a href=\"https://stripe.com/dk/privacy\" target=\"_blank\" rel=\"noopener noreferrer nofollow\" title=\"Stripe's privacy policy\">Stripe</a></td><td title=\"This cookie is necessary for making credit card transactions on the website. The service is provided by Stripe.com which allows online transactions without storing any credit card information.\">This cookie is necessary for making credit card transactions on the website. The service is provided by Stripe.com which allows online transactions without storing any credit card information.</td><td title=\"1 day\">1 day</td><td title=\"HTTP\">HTTP</td></tr><tr><td title=\"__zlcstore\">__zlcstore&nbsp;[x3]</td><td><a href=\"https://www.stackpath.com/legal/privacy-statement/\" target=\"_blank\" rel=\"noopener noreferrer nofollow\" title=\"Stackpath's privacy policy\">Stackpath</a><br><a href=\"https://www.zendesk.com/company/customers-partners/privacy-policy/\" target=\"_blank\" rel=\"noopener noreferrer nofollow\" title=\"Zendesk's privacy policy\">Zendesk</a><br><a href=\"https://policies.google.com/privacy\" target=\"_blank\" rel=\"noopener noreferrer nofollow\" title=\"Google Tag Manager's privacy policy\">Google Tag Manager</a></td><td title=\"This cookie is necessary for the chat-box function on the website to function.\">This cookie is necessary for the chat-box function on the website to function.</td><td title=\"Persistent\">Persistent</td><td title=\"HTML\">HTML</td></tr><tr><td title=\"ZD-suid\">ZD-suid&nbsp;[x3]</td><td><a href=\"https://www.stackpath.com/legal/privacy-statement/\" target=\"_blank\" rel=\"noopener noreferrer nofollow\" title=\"Stackpath's privacy policy\">Stackpath</a><br><a href=\"https://www.zendesk.com/company/customers-partners/privacy-policy/\" target=\"_blank\" rel=\"noopener noreferrer nofollow\" title=\"Zendesk's privacy policy\">Zendesk</a><br><a href=\"https://policies.google.com/privacy\" target=\"_blank\" rel=\"noopener noreferrer nofollow\" title=\"Google Tag Manager's privacy policy\">Google Tag Manager</a></td><td title=\"Unique id that identifies the user's session.\">Unique id that identifies the user's session.</td><td title=\"Persistent\">Persistent</td><td title=\"HTML\">HTML</td></tr><tr><td title=\"rc::c\">rc::c</td><td><a href=\"https://policies.google.com/privacy\" target=\"_blank\" rel=\"noopener noreferrer nofollow\" title=\"Google's privacy policy\">Google</a></td><td title=\"Used in context with video-advertisement. The cookie limits the number of times a visitor is shown the same advertisement-content. The cookie is also used to ensure relevance of the video-advertisement to the specific visitor.  \">Used in context with video-advertisement. The cookie limits the number of times a visitor is shown the same advertisement-content. The cookie is also used to ensure relevance of the video-advertisement to the specific visitor.  </td><td title=\"Session\">Session</td><td title=\"HTML\">HTML</td></tr><tr><td title=\"m\">m</td><td><a href=\"https://stripe.com/dk/privacy\" target=\"_blank\" rel=\"noopener noreferrer nofollow\" title=\"Stripe's privacy policy\">Stripe</a></td><td title=\"Determines the device used to access the website. This allows the website to be formatted accordingly. \">Determines the device used to access the website. This allows the website to be formatted accordingly. </td><td title=\"10 years\">10 years</td><td title=\"HTTP\">HTTP</td></tr><tr><td title=\"https://q.stripe.com/\">https://q.stripe.com/</td><td><a href=\"https://stripe.com/dk/privacy\" target=\"_blank\" rel=\"noopener noreferrer nofollow\" title=\"Stripe's privacy policy\">Stripe</a></td><td title=\"This cookie is necessary for making credit card transactions on the website. The service is provided by Stripe.com which allows online transactions without storing any credit card information.\">This cookie is necessary for making credit card transactions on the website. The service is provided by Stripe.com which allows online transactions without storing any credit card information.</td><td title=\"Session\">Session</td><td title=\"Pixel\">Pixel</td></tr><tr><td title=\"m-b\">m-b</td><td><a href=\"https://www.quora.com/about/privacy\" target=\"_blank\" rel=\"noopener noreferrer nofollow\" title=\"Quora's privacy policy\">Quora</a></td><td title=\"Ensures visitor browsing-security by preventing cross-site request forgery. This cookie is essential for the security of the website and visitor.   \">Ensures visitor browsing-security by preventing cross-site request forgery. This cookie is essential for the security of the website and visitor.   </td><td title=\"2 years\">2 years</td><td title=\"HTTP\">HTTP</td></tr><tr><td title=\"tld\">tld</td><td><a href=\"https://policies.google.com/privacy\" target=\"_blank\" rel=\"noopener noreferrer nofollow\" title=\"Google Tag Manager's privacy policy\">Google Tag Manager</a></td><td title=\"Used to optimize the loading speed on the website. This is done by pre-loading some procedures in the visitors' browser.\">Used to optimize the loading speed on the website. This is done by pre-loading some procedures in the visitors' browser.</td><td title=\"Session\">Session</td><td title=\"HTTP\">HTTP</td></tr><tr><td title=\"__cfruid\">__cfruid&nbsp;[x4]</td><td><a href=\"https://www.zendesk.com/company/customers-partners/privacy-policy/\" target=\"_blank\" rel=\"noopener noreferrer nofollow\" title=\"Zendesk's privacy policy\">Zendesk</a><br><a href=\"https://www.stackpath.com/legal/privacy-statement/\" target=\"_blank\" rel=\"noopener noreferrer nofollow\" title=\"Stackpath's privacy policy\">Stackpath</a><br></td><td title=\"This cookie is a part of the services provided by Cloudflare - Including load-balancing, deliverance of website content and serving DNS connection for website operators. \">This cookie is a part of the services provided by Cloudflare - Including load-balancing, deliverance of website content and serving DNS connection for website operators. </td><td title=\"Session\">Session</td><td title=\"HTTP\">HTTP</td></tr><tr><td title=\"AWSALB\">AWSALB</td><td><a href=\"https://www.zendesk.com/company/customers-partners/privacy-policy/\" target=\"_blank\" rel=\"noopener noreferrer nofollow\" title=\"Zendesk's privacy policy\">Zendesk</a></td><td title=\"Registers which server-cluster is serving the visitor. This is used in context with load balancing, in order to optimize user experience.   \">Registers which server-cluster is serving the visitor. This is used in context with load balancing, in order to optimize user experience.   </td><td title=\"6 days\">6 days</td><td title=\"HTTP\">HTTP</td></tr><tr><td title=\"rc::a\">rc::a</td><td><a href=\"https://policies.google.com/privacy\" target=\"_blank\" rel=\"noopener noreferrer nofollow\" title=\"Google's privacy policy\">Google</a></td><td title=\"This cookie is used to distinguish between humans and bots. This is beneficial for the website, in order to make valid reports on the use of their website.\">This cookie is used to distinguish between humans and bots. This is beneficial for the website, in order to make valid reports on the use of their website.</td><td title=\"Persistent\">Persistent</td><td title=\"HTML\">HTML</td></tr><tr><td title=\"rc::b\">rc::b</td><td><a href=\"https://policies.google.com/privacy\" target=\"_blank\" rel=\"noopener noreferrer nofollow\" title=\"Google's privacy policy\">Google</a></td><td title=\"This cookie is used to distinguish between humans and bots. \">This cookie is used to distinguish between humans and bots. </td><td title=\"Session\">Session</td><td title=\"HTML\">HTML</td></tr><tr><td title=\"JSESSIONID\">JSESSIONID</td><td><a href=\"https://newrelic.com/privacy\" target=\"_blank\" rel=\"noopener noreferrer nofollow\" title=\"New Relic's privacy policy\">New Relic</a></td><td title=\"Preserves users states across page requests.\">Preserves users states across page requests.</td><td title=\"Session\">Session</td><td title=\"HTTP\">HTTP</td></tr><tr><td title=\"cookies.js\">cookies.js</td><td>ljsp.lwcdn.com</td><td title=\"Determines whether the visitor has accepted the cookie consent box. This ensures that the cookie consent box will not be presented again upon re-entry.  \">Determines whether the visitor has accepted the cookie consent box. This ensures that the cookie consent box will not be presented again upon re-entry.  </td><td title=\"Session\">Session</td><td title=\"HTTP\">HTTP</td></tr><tr><td title=\"__cfduid\">__cfduid&nbsp;[x2]</td><td><a href=\"https://www.stackpath.com/legal/privacy-statement/\" target=\"_blank\" rel=\"noopener noreferrer nofollow\" title=\"Stackpath's privacy policy\">Stackpath</a></td><td title=\"Used by the content network, Cloudflare, to identify trusted web traffic.\">Used by the content network, Cloudflare, to identify trusted web traffic.</td><td title=\"29 days\">29 days</td><td title=\"HTTP\">HTTP</td></tr><tr><td title=\"_help_center_session\">_help_center_session</td><td><a href=\"https://www.zendesk.com/company/customers-partners/privacy-policy/\" target=\"_blank\" rel=\"noopener noreferrer nofollow\" title=\"Zendesk's privacy policy\">Zendesk</a></td><td title=\"Preserves users states across page requests.\">Preserves users states across page requests.</td><td title=\"Session\">Session</td><td title=\"HTTP\">HTTP</td></tr><tr><td title=\"UTGv2\">UTGv2</td><td><a href=\"https://www.stackpath.com/legal/privacy-statement/\" target=\"_blank\" rel=\"noopener noreferrer nofollow\" title=\"Stackpath's privacy policy\">Stackpath</a></td><td title=\"Used in order to detect spam and improve the website's security. Does not store  visitor specific data.\">Used in order to detect spam and improve the website's security. Does not store  visitor specific data.</td><td title=\"1 year\">1 year</td><td title=\"HTTP\">HTTP</td></tr><tr><td title=\"AWSELB\">AWSELB</td><td><a href=\"https://www.jazzhr.com/privacy-policy/\" target=\"_blank\" rel=\"noopener noreferrer nofollow\" title=\"Jazzhr's privacy policy\">Jazzhr</a></td><td title=\"Used to distribute traffic to the website on several servers in order to optimise response times.\">Used to distribute traffic to the website on several servers in order to optimise response times.</td><td title=\"Session\">Session</td><td title=\"HTTP\">HTTP</td></tr><tr><td title=\"incap_ses_#\">incap_ses_#&nbsp;[x2]</td><td><a href=\"https://www.cedexis.com/privacy-policy/\" target=\"_blank\" rel=\"noopener noreferrer nofollow\" title=\"Cedexis's privacy policy\">Cedexis</a></td><td title=\"Preserves users states across page requests.\">Preserves users states across page requests.</td><td title=\"Session\">Session</td><td title=\"HTTP\">HTTP</td></tr><tr><td title=\"visid_incap_#\">visid_incap_#</td><td><a href=\"https://www.cedexis.com/privacy-policy/\" target=\"_blank\" rel=\"noopener noreferrer nofollow\" title=\"Cedexis's privacy policy\">Cedexis</a></td><td title=\"Preserves users states across page requests.\">Preserves users states across page requests.</td><td title=\"1 year\">1 year</td><td title=\"HTTP\">HTTP</td></tr><tr><td title=\"BIGipServer#\">BIGipServer#&nbsp;[x2]</td><td><a href=\"https://www.stackpath.com/legal/privacy-statement/\" target=\"_blank\" rel=\"noopener noreferrer nofollow\" title=\"Stackpath's privacy policy\">Stackpath</a><br><a href=\"https://info.impartner.com/privacy-policy.aspx\" target=\"_blank\" rel=\"noopener noreferrer nofollow\" title=\"Impartner's privacy policy\">Impartner</a></td><td title=\"Used to distribute traffic to the website on several servers in order to optimise response times.\">Used to distribute traffic to the website on several servers in order to optimise response times.</td><td title=\"Session\">Session</td><td title=\"HTTP\">HTTP</td></tr><tr><td title=\"TS#\">TS#&nbsp;[x2]</td><td><a href=\"https://www.stackpath.com/legal/privacy-statement/\" target=\"_blank\" rel=\"noopener noreferrer nofollow\" title=\"Stackpath's privacy policy\">Stackpath</a><br><a href=\"https://info.impartner.com/privacy-policy.aspx\" target=\"_blank\" rel=\"noopener noreferrer nofollow\" title=\"Impartner's privacy policy\">Impartner</a></td><td title=\"Pending\">Pending</td><td title=\"Session\">Session</td><td title=\"HTTP\">HTTP</td></tr></tbody></table> </div></div><div id=\"CybotCookiebotDialogDetailBodyContentCookieTabsPreference\"><div class=\"CybotCookiebotDialogDetailBodyContentCookieTypeIntro\">Preference cookies enable a website to remember information that changes the way the website behaves or looks, like your preferred language or the region that you are in.</div><div class=\"CybotCookiebotDialogDetailBodyContentCookieTypeTableContainer\"> <table id=\"CybotCookiebotDialogDetailTablePreference\" class=\"CybotCookiebotDialogDetailBodyContentCookieTypeTable\"><thead><tr><th scope=\"col\">Name</th><th scope=\"col\">Provider</th><th scope=\"col\">Purpose</th><th scope=\"col\">Expiry</th><th scope=\"col\">Type</th></tr></thead><tbody><tr><td title=\"CookieConsentBulkSetting-#\">CookieConsentBulkSetting-#</td><td><a href=\"https://www.cookiebot.com/goto/privacy-policy/\" target=\"_blank\" rel=\"noopener noreferrer nofollow\" title=\"Cookiebot's privacy policy\">Cookiebot</a></td><td title=\"Enables cookie consent across multiple websites\">Enables cookie consent across multiple websites</td><td title=\"Persistent\">Persistent</td><td title=\"HTML\">HTML</td></tr><tr><td title=\"CookieConsentBulkTicket\">CookieConsentBulkTicket</td><td><a href=\"https://www.cookiebot.com/goto/privacy-policy/\" target=\"_blank\" rel=\"noopener noreferrer nofollow\" title=\"Cookiebot's privacy policy\">Cookiebot</a></td><td title=\"Enables cookie consent across multiple websites\">Enables cookie consent across multiple websites</td><td title=\"1 year\">1 year</td><td title=\"HTTP\">HTTP</td></tr><tr><td title=\"lang\">lang&nbsp;[x2]</td><td><a href=\"https://www.linkedin.com/legal/privacy-policy\" target=\"_blank\" rel=\"noopener noreferrer nofollow\" title=\"LinkedIn's privacy policy\">LinkedIn</a></td><td title=\"Set by LinkedIn when a web page contains an embedded &quot;Follow us&quot; panel.\">Set by LinkedIn when a web page contains an embedded \"Follow us\" panel.</td><td title=\"Session\">Session</td><td title=\"HTTP\">HTTP</td></tr><tr><td title=\"ZD-store\">ZD-store&nbsp;[x3]</td><td><a href=\"https://www.stackpath.com/legal/privacy-statement/\" target=\"_blank\" rel=\"noopener noreferrer nofollow\" title=\"Stackpath's privacy policy\">Stackpath</a><br><a href=\"https://www.zendesk.com/company/customers-partners/privacy-policy/\" target=\"_blank\" rel=\"noopener noreferrer nofollow\" title=\"Zendesk's privacy policy\">Zendesk</a><br><a href=\"https://policies.google.com/privacy\" target=\"_blank\" rel=\"noopener noreferrer nofollow\" title=\"Google Tag Manager's privacy policy\">Google Tag Manager</a></td><td title=\"Registers whether the self-service-assistant Zendesk Answer Bot has been displayed to the website user.\">Registers whether the self-service-assistant Zendesk Answer Bot has been displayed to the website user.</td><td title=\"Persistent\">Persistent</td><td title=\"HTML\">HTML</td></tr><tr><td title=\"ZD-settings\">ZD-settings</td><td><a href=\"https://policies.google.com/privacy\" target=\"_blank\" rel=\"noopener noreferrer nofollow\" title=\"Google Tag Manager's privacy policy\">Google Tag Manager</a></td><td title=\"Arbitrary and anonymous settings for the user's preferences when browsing a Zendesk knowledge base.\">Arbitrary and anonymous settings for the user's preferences when browsing a Zendesk knowledge base.</td><td title=\"Persistent\">Persistent</td><td title=\"HTML\">HTML</td></tr></tbody></table> </div></div><div id=\"CybotCookiebotDialogDetailBodyContentCookieTabsStatistics\"><div class=\"CybotCookiebotDialogDetailBodyContentCookieTypeIntro\">Statistic cookies help website owners to understand how visitors interact with websites by collecting and reporting information anonymously.</div><div class=\"CybotCookiebotDialogDetailBodyContentCookieTypeTableContainer\"> <table id=\"CybotCookiebotDialogDetailTableStatistics\" class=\"CybotCookiebotDialogDetailBodyContentCookieTypeTable\"><thead><tr><th scope=\"col\">Name</th><th scope=\"col\">Provider</th><th scope=\"col\">Purpose</th><th scope=\"col\">Expiry</th><th scope=\"col\">Type</th></tr></thead><tbody><tr><td title=\"_ga\">_ga&nbsp;[x3]</td><td>stackpath.dev<br><a href=\"https://policies.google.com/privacy\" target=\"_blank\" rel=\"noopener noreferrer nofollow\" title=\"Google Tag Manager's privacy policy\">Google Tag Manager</a><br><a href=\"https://www.bugcrowd.com/privacy/\" target=\"_blank\" rel=\"noopener noreferrer nofollow\" title=\"Bugcrowd's privacy policy\">Bugcrowd</a></td><td title=\"Registers a unique ID that is used to generate statistical data on how the visitor uses the website.\">Registers a unique ID that is used to generate statistical data on how the visitor uses the website.</td><td title=\"2 years\">2 years</td><td title=\"HTTP\">HTTP</td></tr><tr><td title=\"_gat\">_gat&nbsp;[x3]</td><td>stackpath.dev<br><a href=\"https://policies.google.com/privacy\" target=\"_blank\" rel=\"noopener noreferrer nofollow\" title=\"Google Tag Manager's privacy policy\">Google Tag Manager</a><br><a href=\"https://www.bugcrowd.com/privacy/\" target=\"_blank\" rel=\"noopener noreferrer nofollow\" title=\"Bugcrowd's privacy policy\">Bugcrowd</a></td><td title=\"Used by Google Analytics to throttle request rate\">Used by Google Analytics to throttle request rate</td><td title=\"1 day\">1 day</td><td title=\"HTTP\">HTTP</td></tr><tr><td title=\"_gid\">_gid&nbsp;[x3]</td><td>stackpath.dev<br><a href=\"https://policies.google.com/privacy\" target=\"_blank\" rel=\"noopener noreferrer nofollow\" title=\"Google Tag Manager's privacy policy\">Google Tag Manager</a><br><a href=\"https://www.bugcrowd.com/privacy/\" target=\"_blank\" rel=\"noopener noreferrer nofollow\" title=\"Bugcrowd's privacy policy\">Bugcrowd</a></td><td title=\"Registers a unique ID that is used to generate statistical data on how the visitor uses the website.\">Registers a unique ID that is used to generate statistical data on how the visitor uses the website.</td><td title=\"1 day\">1 day</td><td title=\"HTTP\">HTTP</td></tr><tr><td title=\"personalization_id\">personalization_id</td><td><a href=\"https://twitter.com/en/privacy\" target=\"_blank\" rel=\"noopener noreferrer nofollow\" title=\"Twitter's privacy policy\">Twitter</a></td><td title=\"This cookie is set by Twitter - The cookie allows the visitor to share content from the website onto their Twitter profile. \">This cookie is set by Twitter - The cookie allows the visitor to share content from the website onto their Twitter profile. </td><td title=\"2 years\">2 years</td><td title=\"HTTP\">HTTP</td></tr><tr><td title=\"_hjid\">_hjid&nbsp;[x3]</td><td><a href=\"https://policies.google.com/privacy\" target=\"_blank\" rel=\"noopener noreferrer nofollow\" title=\"Google Tag Manager's privacy policy\">Google Tag Manager</a><br><a href=\"https://www.hotjar.com/legal/policies/privacy\" target=\"_blank\" rel=\"noopener noreferrer nofollow\" title=\"Hotjar's privacy policy\">Hotjar</a></td><td title=\"Sets a unique ID for the session. This allows the website to obtain data on visitor behaviour for statistical purposes.\">Sets a unique ID for the session. This allows the website to obtain data on visitor behaviour for statistical purposes.</td><td title=\"Persistent\">Persistent</td><td title=\"HTML\">HTML</td></tr><tr><td title=\"ZD-buid\">ZD-buid&nbsp;[x3]</td><td><a href=\"https://www.stackpath.com/legal/privacy-statement/\" target=\"_blank\" rel=\"noopener noreferrer nofollow\" title=\"Stackpath's privacy policy\">Stackpath</a><br><a href=\"https://www.zendesk.com/company/customers-partners/privacy-policy/\" target=\"_blank\" rel=\"noopener noreferrer nofollow\" title=\"Zendesk's privacy policy\">Zendesk</a><br><a href=\"https://policies.google.com/privacy\" target=\"_blank\" rel=\"noopener noreferrer nofollow\" title=\"Google Tag Manager's privacy policy\">Google Tag Manager</a></td><td title=\"Unique id that identifies the user on recurring visits.\">Unique id that identifies the user on recurring visits.</td><td title=\"Persistent\">Persistent</td><td title=\"HTML\">HTML</td></tr><tr><td title=\"ZD-currentTime\">ZD-currentTime&nbsp;[x3]</td><td><a href=\"https://www.stackpath.com/legal/privacy-statement/\" target=\"_blank\" rel=\"noopener noreferrer nofollow\" title=\"Stackpath's privacy policy\">Stackpath</a><br><a href=\"https://www.zendesk.com/company/customers-partners/privacy-policy/\" target=\"_blank\" rel=\"noopener noreferrer nofollow\" title=\"Zendesk's privacy policy\">Zendesk</a><br><a href=\"https://policies.google.com/privacy\" target=\"_blank\" rel=\"noopener noreferrer nofollow\" title=\"Google Tag Manager's privacy policy\">Google Tag Manager</a></td><td title=\"Registers the date and time for the user's latest visit to the website.\">Registers the date and time for the user's latest visit to the website.</td><td title=\"Session\">Session</td><td title=\"HTML\">HTML</td></tr><tr><td title=\"collect\">collect</td><td><a href=\"https://policies.google.com/privacy\" target=\"_blank\" rel=\"noopener noreferrer nofollow\" title=\"Google's privacy policy\">Google</a></td><td title=\"Used to send data to Google Analytics about the visitor's device and behaviour. Tracks the visitor across devices and marketing channels.\">Used to send data to Google Analytics about the visitor's device and behaviour. Tracks the visitor across devices and marketing channels.</td><td title=\"Session\">Session</td><td title=\"Pixel\">Pixel</td></tr><tr><td title=\"_dc_gtm_UA-#\">_dc_gtm_UA-#</td><td><a href=\"https://policies.google.com/privacy\" target=\"_blank\" rel=\"noopener noreferrer nofollow\" title=\"Google Tag Manager's privacy policy\">Google Tag Manager</a></td><td title=\"Used by Google Tag Manager to control the loading of a Google Analytics script tag.\">Used by Google Tag Manager to control the loading of a Google Analytics script tag.</td><td title=\"1 day\">1 day</td><td title=\"HTTP\">HTTP</td></tr><tr><td title=\"ga_#\">ga_#</td><td><a href=\"https://policies.google.com/privacy\" target=\"_blank\" rel=\"noopener noreferrer nofollow\" title=\"Google Tag Manager's privacy policy\">Google Tag Manager</a></td><td title=\"Registers a unique ID that is used to generate statistical data on how the visitor uses the website.\">Registers a unique ID that is used to generate statistical data on how the visitor uses the website.</td><td title=\"1 day\">1 day</td><td title=\"HTTP\">HTTP</td></tr><tr><td title=\"AWSALBCORS\">AWSALBCORS</td><td><a href=\"https://www.zendesk.com/company/customers-partners/privacy-policy/\" target=\"_blank\" rel=\"noopener noreferrer nofollow\" title=\"Zendesk's privacy policy\">Zendesk</a></td><td title=\"Pending\">Pending</td><td title=\"6 days\">6 days</td><td title=\"HTTP\">HTTP</td></tr><tr><td title=\"ajs_anonymous_id\">ajs_anonymous_id</td><td><a href=\"https://www.amazon.com/gp/help/customer/display.html/ref=footer_privacy?ie=UTF8&amp;nodeId=468496\" target=\"_blank\" rel=\"noopener noreferrer nofollow\" title=\"Amazon's privacy policy\">Amazon</a></td><td title=\"This cookie is used to identify a specific visitor - this information is used to identify the number of specific visitors on a website.\">This cookie is used to identify a specific visitor - this information is used to identify the number of specific visitors on a website.</td><td title=\"1 year\">1 year</td><td title=\"HTTP\">HTTP</td></tr><tr><td title=\"flowplayerTestStorage\">flowplayerTestStorage</td><td>ljsp.lwcdn.com</td><td title=\"This cookie is used to store information on the Flowplayer-status of the visitor, which determines if the visitor can access media content on the website.\">This cookie is used to store information on the Flowplayer-status of the visitor, which determines if the visitor can access media content on the website.</td><td title=\"Persistent\">Persistent</td><td title=\"HTML\">HTML</td></tr><tr><td title=\"hc:da39a3ee5e6b4b0d3255bfef95601890afd80709:recently_visited_articles\">hc:da39a3ee5e6b4b0d3255bfef95601890afd80709:recently_visited_articles</td><td><a href=\"https://www.zendesk.com/company/customers-partners/privacy-policy/\" target=\"_blank\" rel=\"noopener noreferrer nofollow\" title=\"Zendesk's privacy policy\">Zendesk</a></td><td title=\"Registers statistical data on visitors' behaviour on the website. Used for internal analytics by the website operator. \">Registers statistical data on visitors' behaviour on the website. Used for internal analytics by the website operator. </td><td title=\"Persistent\">Persistent</td><td title=\"HTML\">HTML</td></tr><tr><td title=\"SPSI\">SPSI</td><td><a href=\"https://www.stackpath.com/legal/privacy-statement/\" target=\"_blank\" rel=\"noopener noreferrer nofollow\" title=\"Stackpath's privacy policy\">Stackpath</a></td><td title=\"Sets a unique ID for the session. This allows the website to obtain data on visitor behaviour for statistical purposes.\">Sets a unique ID for the session. This allows the website to obtain data on visitor behaviour for statistical purposes.</td><td title=\"Session\">Session</td><td title=\"HTTP\">HTTP</td></tr><tr><td title=\"r20.gif\">r20.gif</td><td><a href=\"https://policies.google.com/privacy\" target=\"_blank\" rel=\"noopener noreferrer nofollow\" title=\"Google's privacy policy\">Google</a></td><td title=\"Sets a unique ID for the visitor, that allows third party advertisers to target the visitor with relevant advertisement. This pairing service is provided by third party advertisement hubs, which facilitates real-time bidding for advertisers.\">Sets a unique ID for the visitor, that allows third party advertisers to target the visitor with relevant advertisement. This pairing service is provided by third party advertisement hubs, which facilitates real-time bidding for advertisers.</td><td title=\"Session\">Session</td><td title=\"Pixel\">Pixel</td></tr><tr><td title=\"__utm.gif\">__utm.gif</td><td><a href=\"https://policies.google.com/privacy\" target=\"_blank\" rel=\"noopener noreferrer nofollow\" title=\"Google's privacy policy\">Google</a></td><td title=\"Google Analytics Tracking Code that logs details about the visitor's browser and computer.\">Google Analytics Tracking Code that logs details about the visitor's browser and computer.</td><td title=\"Session\">Session</td><td title=\"Pixel\">Pixel</td></tr><tr><td title=\"cdo/cdxs/r20.gif\">cdo/cdxs/r20.gif</td><td><a href=\"https://www.linkedin.com/legal/privacy-policy\" target=\"_blank\" rel=\"noopener noreferrer nofollow\" title=\"LinkedIn's privacy policy\">LinkedIn</a></td><td title=\"Used by the social networking service, LinkedIn, for tracking the use of embedded services.\">Used by the social networking service, LinkedIn, for tracking the use of embedded services.</td><td title=\"Session\">Session</td><td title=\"Pixel\">Pixel</td></tr><tr><td title=\"PugT\">PugT</td><td><a href=\"https://www.adroll.com/about/privacy\" target=\"_blank\" rel=\"noopener noreferrer nofollow\" title=\"Adroll's privacy policy\">Adroll</a></td><td title=\"Used to determine the number of times the cookies have been updated in the visitor's browser. Used to optimize the website's server efficiency.  \">Used to determine the number of times the cookies have been updated in the visitor's browser. Used to optimize the website's server efficiency.  </td><td title=\"29 days\">29 days</td><td title=\"HTTP\">HTTP</td></tr><tr><td title=\"__utma\">__utma</td><td><a href=\"https://policies.google.com/privacy\" target=\"_blank\" rel=\"noopener noreferrer nofollow\" title=\"Google's privacy policy\">Google</a></td><td title=\"Collects data on the number of times a user has visited the website as well as dates for the first and most recent visit. Used by Google Analytics.\">Collects data on the number of times a user has visited the website as well as dates for the first and most recent visit. Used by Google Analytics.</td><td title=\"2 years\">2 years</td><td title=\"HTTP\">HTTP</td></tr><tr><td title=\"__utmb\">__utmb</td><td><a href=\"https://policies.google.com/privacy\" target=\"_blank\" rel=\"noopener noreferrer nofollow\" title=\"Google's privacy policy\">Google</a></td><td title=\"Registers a timestamp with the exact time of when the user accessed the website. Used by Google Analytics to calculate the duration of a website visit.\">Registers a timestamp with the exact time of when the user accessed the website. Used by Google Analytics to calculate the duration of a website visit.</td><td title=\"1 day\">1 day</td><td title=\"HTTP\">HTTP</td></tr><tr><td title=\"__utmc\">__utmc</td><td><a href=\"https://policies.google.com/privacy\" target=\"_blank\" rel=\"noopener noreferrer nofollow\" title=\"Google's privacy policy\">Google</a></td><td title=\"Registers a timestamp with the exact time of when the user leaves the website. Used by Google Analytics to calculate the duration of a website visit.\">Registers a timestamp with the exact time of when the user leaves the website. Used by Google Analytics to calculate the duration of a website visit.</td><td title=\"Session\">Session</td><td title=\"HTTP\">HTTP</td></tr><tr><td title=\"__utmt\">__utmt</td><td><a href=\"https://policies.google.com/privacy\" target=\"_blank\" rel=\"noopener noreferrer nofollow\" title=\"Google's privacy policy\">Google</a></td><td title=\"Used to throttle the speed of requests to the server.\">Used to throttle the speed of requests to the server.</td><td title=\"1 day\">1 day</td><td title=\"HTTP\">HTTP</td></tr><tr><td title=\"__utmz\">__utmz</td><td><a href=\"https://policies.google.com/privacy\" target=\"_blank\" rel=\"noopener noreferrer nofollow\" title=\"Google's privacy policy\">Google</a></td><td title=\"Collects data on where the user came from, what search engine was used, what link was clicked and what search term was used. Used by Google Analytics.\">Collects data on where the user came from, what search engine was used, what link was clicked and what search term was used. Used by Google Analytics.</td><td title=\"6 months\">6 months</td><td title=\"HTTP\">HTTP</td></tr></tbody></table> </div></div><div id=\"CybotCookiebotDialogDetailBodyContentCookieTabsAdvertising\"><div class=\"CybotCookiebotDialogDetailBodyContentCookieTypeIntro\">Marketing cookies are used to track visitors across websites. The intention is to display ads that are relevant and engaging for the individual user and thereby more valuable for publishers and third party advertisers.</div><div class=\"CybotCookiebotDialogDetailBodyContentCookieTypeTableContainer\"> <table id=\"CybotCookiebotDialogDetailTableAdvertising\" class=\"CybotCookiebotDialogDetailBodyContentCookieTypeTable\"><thead><tr><th scope=\"col\">Name</th><th scope=\"col\">Provider</th><th scope=\"col\">Purpose</th><th scope=\"col\">Expiry</th><th scope=\"col\">Type</th></tr></thead><tbody><tr><td title=\"fr\">fr</td><td><a href=\"https://www.facebook.com/policies/cookies/\" target=\"_blank\" rel=\"noopener noreferrer nofollow\" title=\"Facebook's privacy policy\">Facebook</a></td><td title=\"Used by Facebook to deliver a series of advertisement products such as real time bidding from third party advertisers.\">Used by Facebook to deliver a series of advertisement products such as real time bidding from third party advertisers.</td><td title=\"3 months\">3 months</td><td title=\"HTTP\">HTTP</td></tr><tr><td title=\"tr\">tr</td><td><a href=\"https://www.facebook.com/policies/cookies/\" target=\"_blank\" rel=\"noopener noreferrer nofollow\" title=\"Facebook's privacy policy\">Facebook</a></td><td title=\"Used by Facebook to deliver a series of advertisement products such as real time bidding from third party advertisers.\">Used by Facebook to deliver a series of advertisement products such as real time bidding from third party advertisers.</td><td title=\"Session\">Session</td><td title=\"Pixel\">Pixel</td></tr><tr><td title=\"ads/ga-audiences\">ads/ga-audiences</td><td><a href=\"https://policies.google.com/privacy\" target=\"_blank\" rel=\"noopener noreferrer nofollow\" title=\"Google's privacy policy\">Google</a></td><td title=\"Used by Google AdWords to re-engage visitors that are likely to convert to customers based on the visitor's online behaviour across websites.\">Used by Google AdWords to re-engage visitors that are likely to convert to customers based on the visitor's online behaviour across websites.</td><td title=\"Session\">Session</td><td title=\"Pixel\">Pixel</td></tr><tr><td title=\"_fbp\">_fbp&nbsp;[x2]</td><td>stackpath.dev<br><a href=\"https://policies.google.com/privacy\" target=\"_blank\" rel=\"noopener noreferrer nofollow\" title=\"Google Tag Manager's privacy policy\">Google Tag Manager</a></td><td title=\"Used by Facebook to deliver a series of advertisement products such as real time bidding from third party advertisers.\">Used by Facebook to deliver a series of advertisement products such as real time bidding from third party advertisers.</td><td title=\"3 months\">3 months</td><td title=\"HTTP\">HTTP</td></tr><tr><td title=\"i/adsct\">i/adsct</td><td><a href=\"https://twitter.com/en/privacy\" target=\"_blank\" rel=\"noopener noreferrer nofollow\" title=\"Twitter's privacy policy\">Twitter</a></td><td title=\"The cookie is used by Twitter.com in order to determine the number of visitors accessing the website through twitter advertisement content. \">The cookie is used by Twitter.com in order to determine the number of visitors accessing the website through twitter advertisement content. </td><td title=\"Session\">Session</td><td title=\"Pixel\">Pixel</td></tr><tr><td title=\"MUID\">MUID</td><td><a href=\"https://privacy.microsoft.com/en-us/privacystatement\" target=\"_blank\" rel=\"noopener noreferrer nofollow\" title=\"Microsoft's privacy policy\">Microsoft</a></td><td title=\"Used widely by Microsoft as a unique user ID. The cookie enables user tracking by synchronising the ID across many Microsoft domains.\">Used widely by Microsoft as a unique user ID. The cookie enables user tracking by synchronising the ID across many Microsoft domains.</td><td title=\"1 year\">1 year</td><td title=\"HTTP\">HTTP</td></tr><tr><td title=\"MUIDB\">MUIDB</td><td><a href=\"https://privacy.microsoft.com/en-us/privacystatement\" target=\"_blank\" rel=\"noopener noreferrer nofollow\" title=\"Microsoft's privacy policy\">Microsoft</a></td><td title=\"Registers data on visitors from multiple visits and on multiple websites. This information is used to measure the efficiency of advertisement on websites.  \">Registers data on visitors from multiple visits and on multiple websites. This information is used to measure the efficiency of advertisement on websites.  </td><td title=\"1 year\">1 year</td><td title=\"HTTP\">HTTP</td></tr><tr><td title=\"_hjIncludedInSample\">_hjIncludedInSample&nbsp;[x3]</td><td><a href=\"https://policies.google.com/privacy\" target=\"_blank\" rel=\"noopener noreferrer nofollow\" title=\"Google Tag Manager's privacy policy\">Google Tag Manager</a><br><a href=\"https://www.hotjar.com/legal/policies/privacy\" target=\"_blank\" rel=\"noopener noreferrer nofollow\" title=\"Hotjar's privacy policy\">Hotjar</a></td><td title=\"Determines if the user's navigation should be registered in a certain statistical place holder.\">Determines if the user's navigation should be registered in a certain statistical place holder.</td><td title=\"Session\">Session</td><td title=\"HTTP\">HTTP</td></tr><tr><td title=\"eng_mt\">eng_mt&nbsp;[x2]</td><td><a href=\"https://policies.google.com/privacy\" target=\"_blank\" rel=\"noopener noreferrer nofollow\" title=\"Google Tag Manager's privacy policy\">Google Tag Manager</a></td><td title=\"Tracks the conversion rate between the user and the advertisement banners on the website - This serves to optimise the relevance of the advertisements on the website. \">Tracks the conversion rate between the user and the advertisement banners on the website - This serves to optimise the relevance of the advertisements on the website. </td><td title=\"Persistent\">Persistent</td><td title=\"HTML\">HTML</td></tr><tr><td title=\"taboola global:user-id\">taboola global:user-id&nbsp;[x2]</td><td><a href=\"https://policies.google.com/privacy\" target=\"_blank\" rel=\"noopener noreferrer nofollow\" title=\"Google Tag Manager's privacy policy\">Google Tag Manager</a></td><td title=\"Sets a unique ID for the visitor, that allows third party advertisers to target the visitor with relevant advertisement. This pairing service is provided by third party advertisement hubs, which facilitates real-time bidding for advertisers.\">Sets a unique ID for the visitor, that allows third party advertisers to target the visitor with relevant advertisement. This pairing service is provided by third party advertisement hubs, which facilitates real-time bidding for advertisers.</td><td title=\"Persistent\">Persistent</td><td title=\"HTML\">HTML</td></tr><tr><td title=\"trctestcookie\">trctestcookie&nbsp;[x2]</td><td><a href=\"https://policies.google.com/privacy\" target=\"_blank\" rel=\"noopener noreferrer nofollow\" title=\"Google Tag Manager's privacy policy\">Google Tag Manager</a></td><td title=\"Detects whether partner data synchronization is functioning and currently running - This function sends user data between third-party advertisement companies for the purpose of targeted advertisements.  \">Detects whether partner data synchronization is functioning and currently running - This function sends user data between third-party advertisement companies for the purpose of targeted advertisements.  </td><td title=\"Session\">Session</td><td title=\"HTTP\">HTTP</td></tr><tr><td title=\"IDE\">IDE</td><td><a href=\"https://policies.google.com/privacy\" target=\"_blank\" rel=\"noopener noreferrer nofollow\" title=\"Google's privacy policy\">Google</a></td><td title=\"Used by Google DoubleClick to register and report the website user's actions after viewing or clicking one of the advertiser's ads with the purpose of measuring the efficacy of an ad and to present targeted ads to the user.\">Used by Google DoubleClick to register and report the website user's actions after viewing or clicking one of the advertiser's ads with the purpose of measuring the efficacy of an ad and to present targeted ads to the user.</td><td title=\"1 year\">1 year</td><td title=\"HTTP\">HTTP</td></tr><tr><td title=\"test_cookie\">test_cookie</td><td><a href=\"https://policies.google.com/privacy\" target=\"_blank\" rel=\"noopener noreferrer nofollow\" title=\"Google's privacy policy\">Google</a></td><td title=\"Used to check if the user's browser supports cookies.\">Used to check if the user's browser supports cookies.</td><td title=\"1 day\">1 day</td><td title=\"HTTP\">HTTP</td></tr><tr><td title=\"__ptq.gif\">__ptq.gif</td><td><a href=\"https://legal.hubspot.com/privacy-policy?_ga=2.250808134.1581177119.1522931914-1869930087.1510729546\" target=\"_blank\" rel=\"noopener noreferrer nofollow\" title=\"Hubspot's privacy policy\">Hubspot</a></td><td title=\"Sends data to the marketing platform Hubspot about the visitor's device and behaviour. Tracks the visitor across devices and marketing channels.\">Sends data to the marketing platform Hubspot about the visitor's device and behaviour. Tracks the visitor across devices and marketing channels.</td><td title=\"Session\">Session</td><td title=\"Pixel\">Pixel</td></tr><tr><td title=\"bcookie\">bcookie</td><td><a href=\"https://www.linkedin.com/legal/privacy-policy\" target=\"_blank\" rel=\"noopener noreferrer nofollow\" title=\"LinkedIn's privacy policy\">LinkedIn</a></td><td title=\"Used by the social networking service, LinkedIn, for tracking the use of embedded services.\">Used by the social networking service, LinkedIn, for tracking the use of embedded services.</td><td title=\"2 years\">2 years</td><td title=\"HTTP\">HTTP</td></tr><tr><td title=\"bscookie\">bscookie</td><td><a href=\"https://www.linkedin.com/legal/privacy-policy\" target=\"_blank\" rel=\"noopener noreferrer nofollow\" title=\"LinkedIn's privacy policy\">LinkedIn</a></td><td title=\"Used by the social networking service, LinkedIn, for tracking the use of embedded services.\">Used by the social networking service, LinkedIn, for tracking the use of embedded services.</td><td title=\"2 years\">2 years</td><td title=\"HTTP\">HTTP</td></tr><tr><td title=\"lidc\">lidc</td><td><a href=\"https://www.linkedin.com/legal/privacy-policy\" target=\"_blank\" rel=\"noopener noreferrer nofollow\" title=\"LinkedIn's privacy policy\">LinkedIn</a></td><td title=\"Used by the social networking service, LinkedIn, for tracking the use of embedded services.\">Used by the social networking service, LinkedIn, for tracking the use of embedded services.</td><td title=\"1 day\">1 day</td><td title=\"HTTP\">HTTP</td></tr><tr><td title=\"UserMatchHistory\">UserMatchHistory</td><td><a href=\"https://www.linkedin.com/legal/privacy-policy\" target=\"_blank\" rel=\"noopener noreferrer nofollow\" title=\"LinkedIn's privacy policy\">LinkedIn</a></td><td title=\"Used to track visitors on multiple websites, in order to present relevant advertisement based on the visitor's preferences.  \">Used to track visitors on multiple websites, in order to present relevant advertisement based on the visitor's preferences.  </td><td title=\"29 days\">29 days</td><td title=\"HTTP\">HTTP</td></tr><tr><td title=\"__hssc\">__hssc</td><td><a href=\"https://policies.google.com/privacy\" target=\"_blank\" rel=\"noopener noreferrer nofollow\" title=\"Google Tag Manager's privacy policy\">Google Tag Manager</a></td><td title=\"Collects statistical data related to the user's website visits, such as the number of visits, average time spent on the website and what pages have been loaded. The purpose is to segment the website's users according to factors such as demographics and geographical location, in order to enable media and marketing agencies to structure and understand their target groups to enable customised online advertising.\">Collects statistical data related to the user's website visits, such as the number of visits, average time spent on the website and what pages have been loaded. The purpose is to segment the website's users according to factors such as demographics and geographical location, in order to enable media and marketing agencies to structure and understand their target groups to enable customised online advertising.</td><td title=\"1 day\">1 day</td><td title=\"HTTP\">HTTP</td></tr><tr><td title=\"__hssrc\">__hssrc</td><td><a href=\"https://policies.google.com/privacy\" target=\"_blank\" rel=\"noopener noreferrer nofollow\" title=\"Google Tag Manager's privacy policy\">Google Tag Manager</a></td><td title=\"Collects anonymous statistical data related to the user's website visits, such as the number of visits, average time spent on the website and what pages have been loaded. The purpose is to segment the website's users according to factors such as demographics and geographical location, in order to enable media and marketing agencies to structure and understand their target groups to enable customised online advertising.\">Collects anonymous statistical data related to the user's website visits, such as the number of visits, average time spent on the website and what pages have been loaded. The purpose is to segment the website's users according to factors such as demographics and geographical location, in order to enable media and marketing agencies to structure and understand their target groups to enable customised online advertising.</td><td title=\"Session\">Session</td><td title=\"HTTP\">HTTP</td></tr><tr><td title=\"__hstc\">__hstc</td><td><a href=\"https://policies.google.com/privacy\" target=\"_blank\" rel=\"noopener noreferrer nofollow\" title=\"Google Tag Manager's privacy policy\">Google Tag Manager</a></td><td title=\"Collects statistical data related to the user's website visits, such as the number of visits, average time spent on the website and what pages have been loaded. The purpose is to segment the website's users according to factors such as demographics and geographical location, in order to enable media and marketing agencies to structure and understand their target groups to enable customised online advertising.\">Collects statistical data related to the user's website visits, such as the number of visits, average time spent on the website and what pages have been loaded. The purpose is to segment the website's users according to factors such as demographics and geographical location, in order to enable media and marketing agencies to structure and understand their target groups to enable customised online advertising.</td><td title=\"1 year\">1 year</td><td title=\"HTTP\">HTTP</td></tr><tr><td title=\"__zlcmid\">__zlcmid</td><td><a href=\"https://www.stackpath.com/legal/privacy-statement/\" target=\"_blank\" rel=\"noopener noreferrer nofollow\" title=\"Stackpath's privacy policy\">Stackpath</a></td><td title=\"Preserves users states across page requests.\">Preserves users states across page requests.</td><td title=\"1 year\">1 year</td><td title=\"HTTP\">HTTP</td></tr><tr><td title=\"_gcl_au\">_gcl_au</td><td><a href=\"https://policies.google.com/privacy\" target=\"_blank\" rel=\"noopener noreferrer nofollow\" title=\"Google Tag Manager's privacy policy\">Google Tag Manager</a></td><td title=\"Used by Google AdSense for experimenting with advertisement efficiency across websites using their services.   \">Used by Google AdSense for experimenting with advertisement efficiency across websites using their services.   </td><td title=\"3 months\">3 months</td><td title=\"HTTP\">HTTP</td></tr><tr><td title=\"hubspotutk\">hubspotutk</td><td><a href=\"https://policies.google.com/privacy\" target=\"_blank\" rel=\"noopener noreferrer nofollow\" title=\"Google Tag Manager's privacy policy\">Google Tag Manager</a></td><td title=\"Keeps track of a visitor's identity. This cookie is passed to the marketing platform HubSpot on form submission and used when de-duplicating contacts.\">Keeps track of a visitor's identity. This cookie is passed to the marketing platform HubSpot on form submission and used when de-duplicating contacts.</td><td title=\"1 year\">1 year</td><td title=\"HTTP\">HTTP</td></tr><tr><td title=\"IR_gbd\">IR_gbd</td><td><a href=\"https://policies.google.com/privacy\" target=\"_blank\" rel=\"noopener noreferrer nofollow\" title=\"Google Tag Manager's privacy policy\">Google Tag Manager</a></td><td title=\"Registers a unique ID that identifies the user's device during return visits across websites that use the same ad network. The ID is used to allow targeted ads.\">Registers a unique ID that identifies the user's device during return visits across websites that use the same ad network. The ID is used to allow targeted ads.</td><td title=\"Session\">Session</td><td title=\"HTTP\">HTTP</td></tr><tr><td title=\"zte#\">zte#</td><td><a href=\"https://www.stackpath.com/legal/privacy-statement/\" target=\"_blank\" rel=\"noopener noreferrer nofollow\" title=\"Stackpath's privacy policy\">Stackpath</a></td><td title=\"Saves a Zopim Live Chat ID that recognises a device between visits during a chat session.\">Saves a Zopim Live Chat ID that recognises a device between visits during a chat session.</td><td title=\"Session\">Session</td><td title=\"HTTP\">HTTP</td></tr><tr><td title=\"t_gid\">t_gid</td><td><a href=\"https://www.taboola.com/privacy-policy\" target=\"_blank\" rel=\"noopener noreferrer nofollow\" title=\"Taboola's privacy policy\">Taboola</a></td><td title=\"This cookie assigns a specific visitor ID, when the visitor interacts with ads or content from the website - this allows the website to target the visitor with similar ads or content.\">This cookie assigns a specific visitor ID, when the visitor interacts with ads or content from the website - this allows the website to target the visitor with similar ads or content.</td><td title=\"1 year\">1 year</td><td title=\"HTTP\">HTTP</td></tr><tr><td title=\"taboola_session_id\">taboola_session_id</td><td><a href=\"https://www.taboola.com/privacy-policy\" target=\"_blank\" rel=\"noopener noreferrer nofollow\" title=\"Taboola's privacy policy\">Taboola</a></td><td title=\"This cookie is used to collect information on a visitor. This information will become an ID string with information on a specific visitor – ID information strings can be used to target groups with similar preferences, or can be used by third-party domains or ad-exchanges.\">This cookie is used to collect information on a visitor. This information will become an ID string with information on a specific visitor – ID information strings can be used to target groups with similar preferences, or can be used by third-party domains or ad-exchanges.</td><td title=\"Session\">Session</td><td title=\"HTTP\">HTTP</td></tr><tr><td title=\"pagead/1p-user-list/#\">pagead/1p-user-list/#</td><td><a href=\"https://policies.google.com/privacy\" target=\"_blank\" rel=\"noopener noreferrer nofollow\" title=\"Google's privacy policy\">Google</a></td><td title=\"Pending\">Pending</td><td title=\"Session\">Session</td><td title=\"Pixel\">Pixel</td></tr><tr><td title=\"NID\">NID</td><td><a href=\"https://policies.google.com/privacy\" target=\"_blank\" rel=\"noopener noreferrer nofollow\" title=\"Google's privacy policy\">Google</a></td><td title=\"Registers a unique ID that identifies a returning user's device. The ID is used for targeted ads.\">Registers a unique ID that identifies a returning user's device. The ID is used for targeted ads.</td><td title=\"6 months\">6 months</td><td title=\"HTTP\">HTTP</td></tr><tr><td title=\"__tld__\">__tld__</td><td><a href=\"https://www.amazon.com/gp/help/customer/display.html/ref=footer_privacy?ie=UTF8&amp;nodeId=468496\" target=\"_blank\" rel=\"noopener noreferrer nofollow\" title=\"Amazon's privacy policy\">Amazon</a></td><td title=\"Used to track visitors on multiple websites, in order to present relevant advertisement based on the visitor's preferences. \">Used to track visitors on multiple websites, in order to present relevant advertisement based on the visitor's preferences. </td><td title=\"Session\">Session</td><td title=\"HTTP\">HTTP</td></tr><tr><td title=\"ajs%3Acookies\">ajs%3Acookies</td><td><a href=\"https://www.amazon.com/gp/help/customer/display.html/ref=footer_privacy?ie=UTF8&amp;nodeId=468496\" target=\"_blank\" rel=\"noopener noreferrer nofollow\" title=\"Amazon's privacy policy\">Amazon</a></td><td title=\"Collects data on visitors. This information is used to assign visitors into segments, making website advertisement more efficient. \">Collects data on visitors. This information is used to assign visitors into segments, making website advertisement more efficient. </td><td title=\"1 year\">1 year</td><td title=\"HTTP\">HTTP</td></tr><tr><td title=\"ajs%3Atest\">ajs%3Atest</td><td><a href=\"https://www.amazon.com/gp/help/customer/display.html/ref=footer_privacy?ie=UTF8&amp;nodeId=468496\" target=\"_blank\" rel=\"noopener noreferrer nofollow\" title=\"Amazon's privacy policy\">Amazon</a></td><td title=\"Collects data on visitors. This information is used to assign visitors into segments, making website advertisement more efficient. \">Collects data on visitors. This information is used to assign visitors into segments, making website advertisement more efficient. </td><td title=\"1 year\">1 year</td><td title=\"HTTP\">HTTP</td></tr><tr><td title=\"ajs_group_id\">ajs_group_id</td><td><a href=\"https://www.amazon.com/gp/help/customer/display.html/ref=footer_privacy?ie=UTF8&amp;nodeId=468496\" target=\"_blank\" rel=\"noopener noreferrer nofollow\" title=\"Amazon's privacy policy\">Amazon</a></td><td title=\"This cookie is used to assign specific visitors into segments, this segmentation is based on visitor behavior on the website - the segmentation can be used to target larger groups.\">This cookie is used to assign specific visitors into segments, this segmentation is based on visitor behavior on the website - the segmentation can be used to target larger groups.</td><td title=\"1 year\">1 year</td><td title=\"HTTP\">HTTP</td></tr><tr><td title=\"ajs_group_properties\">ajs_group_properties</td><td><a href=\"https://www.amazon.com/gp/help/customer/display.html/ref=footer_privacy?ie=UTF8&amp;nodeId=468496\" target=\"_blank\" rel=\"noopener noreferrer nofollow\" title=\"Amazon's privacy policy\">Amazon</a></td><td title=\"Collects data on visitors. This information is used to assign visitors into segments, making website advertisement more efficient. \">Collects data on visitors. This information is used to assign visitors into segments, making website advertisement more efficient. </td><td title=\"Persistent\">Persistent</td><td title=\"HTML\">HTML</td></tr><tr><td title=\"rc::d-15#\">rc::d-15#</td><td><a href=\"https://policies.google.com/privacy\" target=\"_blank\" rel=\"noopener noreferrer nofollow\" title=\"Google's privacy policy\">Google</a></td><td title=\"Pending\">Pending</td><td title=\"Persistent\">Persistent</td><td title=\"HTML\">HTML</td></tr><tr><td title=\"tluid\">tluid</td><td><a href=\"https://triplelift.com/privacy/\" target=\"_blank\" rel=\"noopener noreferrer nofollow\" title=\"TripleLift's privacy policy\">TripleLift</a></td><td title=\"This cookie is used to identify the visitor and optimize ad-relevance by collecting visitor data from multiple websites – this exchange of visitor data is normally provided by a third-party data-center or ad-exchange.\">This cookie is used to identify the visitor and optimize ad-relevance by collecting visitor data from multiple websites – this exchange of visitor data is normally provided by a third-party data-center or ad-exchange.</td><td title=\"3 months\">3 months</td><td title=\"HTTP\">HTTP</td></tr><tr><td title=\"xuid\">xuid</td><td><a href=\"https://triplelift.com/privacy/\" target=\"_blank\" rel=\"noopener noreferrer nofollow\" title=\"TripleLift's privacy policy\">TripleLift</a></td><td title=\"Used to present the visitor with relevant content and advertisement - The service is provided by third party advertisement hubs, which facilitate real-time bidding for advertisers.\">Used to present the visitor with relevant content and advertisement - The service is provided by third party advertisement hubs, which facilitate real-time bidding for advertisers.</td><td title=\"Session\">Session</td><td title=\"Pixel\">Pixel</td></tr><tr><td title=\"anj\">anj</td><td><a href=\"https://www.appnexus.com/en/company/privacy-policy\" target=\"_blank\" rel=\"noopener noreferrer nofollow\" title=\"Appnexus's privacy policy\">Appnexus</a></td><td title=\"Registers a unique ID that identifies a returning user's device. The ID is used for targeted ads.\">Registers a unique ID that identifies a returning user's device. The ID is used for targeted ads.</td><td title=\"3 months\">3 months</td><td title=\"HTTP\">HTTP</td></tr><tr><td title=\"setuid\">setuid</td><td><a href=\"https://www.appnexus.com/en/company/privacy-policy\" target=\"_blank\" rel=\"noopener noreferrer nofollow\" title=\"Appnexus's privacy policy\">Appnexus</a></td><td title=\"This cookie is set by the audience manager of the website to determine the time and frequencies of visitor data synchronization - cookie data synchronization is used to synchronize and gather visitor data from several websites.\">This cookie is set by the audience manager of the website to determine the time and frequencies of visitor data synchronization - cookie data synchronization is used to synchronize and gather visitor data from several websites.</td><td title=\"Session\">Session</td><td title=\"Pixel\">Pixel</td></tr><tr><td title=\"APID\">APID&nbsp;[x2]</td><td><a href=\"http://privacy.aol.com/\" target=\"_blank\" rel=\"noopener noreferrer nofollow\" title=\"AOL's privacy policy\">AOL</a><br><a href=\"https://policies.yahoo.com/us/en/yahoo/privacy/index.htm\" target=\"_blank\" rel=\"noopener noreferrer nofollow\" title=\"Yahoo's privacy policy\">Yahoo</a></td><td title=\"Collects information on visitor behaviour on multiple websites. This information is used on the website, in order to optimize the relevance of advertisement. \">Collects information on visitor behaviour on multiple websites. This information is used on the website, in order to optimize the relevance of advertisement. </td><td title=\"1 year\">1 year</td><td title=\"HTTP\">HTTP</td></tr><tr><td title=\"IDSYNC\">IDSYNC</td><td><a href=\"https://policies.oath.com/us/en/oath/privacy/index.html\" target=\"_blank\" rel=\"noopener noreferrer nofollow\" title=\"Oath's privacy policy\">Oath</a></td><td title=\"Used to identify the visitor across visits and devices. This allows the website to present the visitor with relevant advertisement - The service is provided by third party advertisement hubs, which facilitate real-time bidding for advertisers. \">Used to identify the visitor across visits and devices. This allows the website to present the visitor with relevant advertisement - The service is provided by third party advertisement hubs, which facilitate real-time bidding for advertisers. </td><td title=\"1 year\">1 year</td><td title=\"HTTP\">HTTP</td></tr><tr><td title=\"c\">c</td><td><a href=\"http://www.bidswitch.com/privacy-policy/\" target=\"_blank\" rel=\"noopener noreferrer nofollow\" title=\"Bidswitch's privacy policy\">Bidswitch</a></td><td title=\"Regulates synchronisation of user identification and exchange of user data between various ad services.\">Regulates synchronisation of user identification and exchange of user data between various ad services.</td><td title=\"1 year\">1 year</td><td title=\"HTTP\">HTTP</td></tr><tr><td title=\"sync\">sync</td><td><a href=\"http://www.bidswitch.com/privacy-policy/\" target=\"_blank\" rel=\"noopener noreferrer nofollow\" title=\"Bidswitch's privacy policy\">Bidswitch</a></td><td title=\"Collects data on visitors' behaviour and interaction - This is used to optimize the website and make advertisement on the website more relevant. \">Collects data on visitors' behaviour and interaction - This is used to optimize the website and make advertisement on the website more relevant. </td><td title=\"Session\">Session</td><td title=\"Pixel\">Pixel</td></tr><tr><td title=\"tuuid\">tuuid</td><td><a href=\"http://www.bidswitch.com/privacy-policy/\" target=\"_blank\" rel=\"noopener noreferrer nofollow\" title=\"Bidswitch's privacy policy\">Bidswitch</a></td><td title=\"Registers whether or not the user has consented to the use of cookies.\">Registers whether or not the user has consented to the use of cookies.</td><td title=\"1 year\">1 year</td><td title=\"HTTP\">HTTP</td></tr><tr><td title=\"tuuid_lu\">tuuid_lu</td><td><a href=\"http://www.bidswitch.com/privacy-policy/\" target=\"_blank\" rel=\"noopener noreferrer nofollow\" title=\"Bidswitch's privacy policy\">Bidswitch</a></td><td title=\"Contains a unique visitor ID, which allows Bidswitch.com to track the visitor across multiple websites. This allows Bidswitch to optimize advertisement relevance and ensure that the visitor does not see the same ads multiple times.   \">Contains a unique visitor ID, which allows Bidswitch.com to track the visitor across multiple websites. This allows Bidswitch to optimize advertisement relevance and ensure that the visitor does not see the same ads multiple times.   </td><td title=\"1 year\">1 year</td><td title=\"HTTP\">HTTP</td></tr><tr><td title=\"ul_cb/sync\">ul_cb/sync</td><td><a href=\"http://www.bidswitch.com/privacy-policy/\" target=\"_blank\" rel=\"noopener noreferrer nofollow\" title=\"Bidswitch's privacy policy\">Bidswitch</a></td><td title=\"Collects information on visitor behaviour on multiple websites. This information is used on the website, in order to optimize the relevance of advertisement.\">Collects information on visitor behaviour on multiple websites. This information is used on the website, in order to optimize the relevance of advertisement.</td><td title=\"Session\">Session</td><td title=\"Pixel\">Pixel</td></tr><tr><td title=\"CMID\">CMID</td><td><a href=\"http://casalemedia.com/\" target=\"_blank\" rel=\"noopener noreferrer nofollow\" title=\"Casalemedia's privacy policy\">Casalemedia</a></td><td title=\"Collects anonymous data related to the user's visits to the website, such as the number of visits, average time spent on the website and what pages have been loaded, with the purpose of displaying targeted ads.\">Collects anonymous data related to the user's visits to the website, such as the number of visits, average time spent on the website and what pages have been loaded, with the purpose of displaying targeted ads.</td><td title=\"1 year\">1 year</td><td title=\"HTTP\">HTTP</td></tr><tr><td title=\"CMPRO\">CMPRO</td><td><a href=\"http://casalemedia.com/\" target=\"_blank\" rel=\"noopener noreferrer nofollow\" title=\"Casalemedia's privacy policy\">Casalemedia</a></td><td title=\"Collects data on visitor behaviour from multiple websites, in order to present more relevant advertisement - This also allows the website to limit the number of times that the visitor is shown the same advertisement.  \">Collects data on visitor behaviour from multiple websites, in order to present more relevant advertisement - This also allows the website to limit the number of times that the visitor is shown the same advertisement.  </td><td title=\"3 months\">3 months</td><td title=\"HTTP\">HTTP</td></tr><tr><td title=\"CMPS\">CMPS</td><td><a href=\"http://casalemedia.com/\" target=\"_blank\" rel=\"noopener noreferrer nofollow\" title=\"Casalemedia's privacy policy\">Casalemedia</a></td><td title=\"Collects anonymous data related to the user's visits to the website, such as the number of visits, average time spent on the website and what pages have been loaded, with the purpose of displaying targeted ads.\">Collects anonymous data related to the user's visits to the website, such as the number of visits, average time spent on the website and what pages have been loaded, with the purpose of displaying targeted ads.</td><td title=\"3 months\">3 months</td><td title=\"HTTP\">HTTP</td></tr><tr><td title=\"CMRUM3\">CMRUM3</td><td><a href=\"http://casalemedia.com/\" target=\"_blank\" rel=\"noopener noreferrer nofollow\" title=\"Casalemedia's privacy policy\">Casalemedia</a></td><td title=\"Collects anonymous data related to the user's visits to the website, such as the number of visits, average time spent on the website and what pages have been loaded, with the purpose of displaying targeted ads.\">Collects anonymous data related to the user's visits to the website, such as the number of visits, average time spent on the website and what pages have been loaded, with the purpose of displaying targeted ads.</td><td title=\"1 year\">1 year</td><td title=\"HTTP\">HTTP</td></tr><tr><td title=\"CMST\">CMST</td><td><a href=\"http://casalemedia.com/\" target=\"_blank\" rel=\"noopener noreferrer nofollow\" title=\"Casalemedia's privacy policy\">Casalemedia</a></td><td title=\"Collects anonymous data related to the user's visits to the website, such as the number of visits, average time spent on the website and what pages have been loaded, with the purpose of displaying targeted ads.\">Collects anonymous data related to the user's visits to the website, such as the number of visits, average time spent on the website and what pages have been loaded, with the purpose of displaying targeted ads.</td><td title=\"1 day\">1 day</td><td title=\"HTTP\">HTTP</td></tr><tr><td title=\"rum\">rum</td><td><a href=\"http://casalemedia.com/\" target=\"_blank\" rel=\"noopener noreferrer nofollow\" title=\"Casalemedia's privacy policy\">Casalemedia</a></td><td title=\"Collects data related to the user's visits to the website, such as the number of visits, average time spent on the website and what pages have been loaded, with the purpose of displaying targeted ads.\">Collects data related to the user's visits to the website, such as the number of visits, average time spent on the website and what pages have been loaded, with the purpose of displaying targeted ads.</td><td title=\"Session\">Session</td><td title=\"Pixel\">Pixel</td></tr><tr><td title=\"__adroll\">__adroll</td><td>d.adroll.mgr.consensu.org</td><td title=\"Registers a unique ID that identifies a returning user's device. The ID is used for targeted ads.\">Registers a unique ID that identifies a returning user's device. The ID is used for targeted ads.</td><td title=\"1 year\">1 year</td><td title=\"HTTP\">HTTP</td></tr><tr><td title=\"cm/b/out\">cm/b/out</td><td><a href=\"https://www.adroll.com/about/privacy\" target=\"_blank\" rel=\"noopener noreferrer nofollow\" title=\"Adroll's privacy policy\">Adroll</a></td><td title=\"Used to present the visitor with relevant content and advertisement - The service is provided by third party advertisement hubs, which facilitate real-time bidding for advertisers.\">Used to present the visitor with relevant content and advertisement - The service is provided by third party advertisement hubs, which facilitate real-time bidding for advertisers.</td><td title=\"Session\">Session</td><td title=\"Pixel\">Pixel</td></tr><tr><td title=\"cm/g/out\">cm/g/out</td><td><a href=\"https://www.adroll.com/about/privacy\" target=\"_blank\" rel=\"noopener noreferrer nofollow\" title=\"Adroll's privacy policy\">Adroll</a></td><td title=\"Used to present the visitor with relevant content and advertisement - The service is provided by third party advertisement hubs, which facilitate real-time bidding for advertisers.\">Used to present the visitor with relevant content and advertisement - The service is provided by third party advertisement hubs, which facilitate real-time bidding for advertisers.</td><td title=\"Session\">Session</td><td title=\"Pixel\">Pixel</td></tr><tr><td title=\"cm/index/out\">cm/index/out</td><td><a href=\"https://www.adroll.com/about/privacy\" target=\"_blank\" rel=\"noopener noreferrer nofollow\" title=\"Adroll's privacy policy\">Adroll</a></td><td title=\"Used to present the visitor with relevant content and advertisement - The service is provided by third party advertisement hubs, which facilitate real-time bidding for advertisers.\">Used to present the visitor with relevant content and advertisement - The service is provided by third party advertisement hubs, which facilitate real-time bidding for advertisers.</td><td title=\"Session\">Session</td><td title=\"Pixel\">Pixel</td></tr><tr><td title=\"cm/o/out\">cm/o/out</td><td><a href=\"https://www.adroll.com/about/privacy\" target=\"_blank\" rel=\"noopener noreferrer nofollow\" title=\"Adroll's privacy policy\">Adroll</a></td><td title=\"Used to present the visitor with relevant content and advertisement - The service is provided by third party advertisement hubs, which facilitate real-time bidding for advertisers.\">Used to present the visitor with relevant content and advertisement - The service is provided by third party advertisement hubs, which facilitate real-time bidding for advertisers.</td><td title=\"Session\">Session</td><td title=\"Pixel\">Pixel</td></tr><tr><td title=\"cm/r/in\">cm/r/in</td><td><a href=\"https://www.adroll.com/about/privacy\" target=\"_blank\" rel=\"noopener noreferrer nofollow\" title=\"Adroll's privacy policy\">Adroll</a></td><td title=\"Registers a unique ID that identifies a returning user's device. The ID is used for targeted ads.\">Registers a unique ID that identifies a returning user's device. The ID is used for targeted ads.</td><td title=\"Session\">Session</td><td title=\"Pixel\">Pixel</td></tr><tr><td title=\"cm/r/out\">cm/r/out</td><td><a href=\"https://www.adroll.com/about/privacy\" target=\"_blank\" rel=\"noopener noreferrer nofollow\" title=\"Adroll's privacy policy\">Adroll</a></td><td title=\"Registers a unique ID that identifies a returning user's device. The ID is used for targeted ads.\">Registers a unique ID that identifies a returning user's device. The ID is used for targeted ads.</td><td title=\"Session\">Session</td><td title=\"Pixel\">Pixel</td></tr><tr><td title=\"cm/triplelift/out\">cm/triplelift/out</td><td><a href=\"https://www.adroll.com/about/privacy\" target=\"_blank\" rel=\"noopener noreferrer nofollow\" title=\"Adroll's privacy policy\">Adroll</a></td><td title=\"Used to present the visitor with relevant content and advertisement - The service is provided by third party advertisement hubs, which facilitate real-time bidding for advertisers.\">Used to present the visitor with relevant content and advertisement - The service is provided by third party advertisement hubs, which facilitate real-time bidding for advertisers.</td><td title=\"Session\">Session</td><td title=\"Pixel\">Pixel</td></tr><tr><td title=\"cm/x/out\">cm/x/out</td><td><a href=\"https://www.adroll.com/about/privacy\" target=\"_blank\" rel=\"noopener noreferrer nofollow\" title=\"Adroll's privacy policy\">Adroll</a></td><td title=\"Used to identify the visitor across visits and devices. This allows the website to present the visitor with relevant advertisement - The service is provided by third party advertisement hubs, which facilitate real-time bidding for advertisers. \">Used to identify the visitor across visits and devices. This allows the website to present the visitor with relevant advertisement - The service is provided by third party advertisement hubs, which facilitate real-time bidding for advertisers. </td><td title=\"Session\">Session</td><td title=\"Pixel\">Pixel</td></tr><tr><td title=\"___utmvc#\">___utmvc#</td><td><a href=\"https://www.cedexis.com/privacy-policy/\" target=\"_blank\" rel=\"noopener noreferrer nofollow\" title=\"Cedexis's privacy policy\">Cedexis</a></td><td title=\"Collects information on visitor behaviour on multiple websites. This information is used on the website, in order to optimize the relevance of advertisement.\">Collects information on visitor behaviour on multiple websites. This information is used on the website, in order to optimize the relevance of advertisement.</td><td title=\"1 day\">1 day</td><td title=\"HTTP\">HTTP</td></tr><tr><td title=\"i\">i</td><td><a href=\"https://www.openx.com/legal/privacy-policy/\" target=\"_blank\" rel=\"noopener noreferrer nofollow\" title=\"Openx's privacy policy\">Openx</a></td><td title=\"Registers anonymised user data, such as IP address, geographical location, visited websites, and what ads the user has clicked, with the purpose of optimising ad display based on the user's movement on websites that use the same ad network.\">Registers anonymised user data, such as IP address, geographical location, visited websites, and what ads the user has clicked, with the purpose of optimising ad display based on the user's movement on websites that use the same ad network.</td><td title=\"1 year\">1 year</td><td title=\"HTTP\">HTTP</td></tr><tr><td title=\"w/1.0/sd\">w/1.0/sd</td><td><a href=\"https://www.openx.com/legal/privacy-policy/\" target=\"_blank\" rel=\"noopener noreferrer nofollow\" title=\"Openx's privacy policy\">Openx</a></td><td title=\"Registers data on visitors such as IP addresses, geographical location and advertisement interaction. This information is used optimize the advertisement on websites that make use of OpenX.net services.  \">Registers data on visitors such as IP addresses, geographical location and advertisement interaction. This information is used optimize the advertisement on websites that make use of OpenX.net services.  </td><td title=\"Session\">Session</td><td title=\"Pixel\">Pixel</td></tr><tr><td title=\"adrl\">adrl</td><td><a href=\"https://www.outbrain.com/legal/privacy#privacy-policy\" target=\"_blank\" rel=\"noopener noreferrer nofollow\" title=\"Outbrain's privacy policy\">Outbrain</a></td><td title=\"This cookie registers data on the visitor. The information is used to optimize advertisement relevance. \">This cookie registers data on the visitor. The information is used to optimize advertisement relevance. </td><td title=\"29 days\">29 days</td><td title=\"HTTP\">HTTP</td></tr><tr><td title=\"obuid\">obuid</td><td><a href=\"https://www.outbrain.com/legal/privacy#privacy-policy\" target=\"_blank\" rel=\"noopener noreferrer nofollow\" title=\"Outbrain's privacy policy\">Outbrain</a></td><td title=\"Sets a unique ID for the visitor, that allows third party advertisers to target the visitor with relevant advertisement. This pairing service is provided by third party advertisement hubs, which facilitates real-time bidding for advertisers. \">Sets a unique ID for the visitor, that allows third party advertisers to target the visitor with relevant advertisement. This pairing service is provided by third party advertisement hubs, which facilitates real-time bidding for advertisers. </td><td title=\"3 months\">3 months</td><td title=\"HTTP\">HTTP</td></tr><tr><td title=\"img/r20.gif/r20.gif\">img/r20.gif/r20.gif</td><td><a href=\"https://www.cedexis.com/cookie-policy/\" target=\"_blank\" rel=\"noopener noreferrer nofollow\" title=\"Cedexis's privacy policy\">Cedexis</a></td><td title=\"Used to present the visitor with relevant content and advertisement - The service is provided by third party advertisement hubs, which facilitate real-time bidding for advertisers.\">Used to present the visitor with relevant content and advertisement - The service is provided by third party advertisement hubs, which facilitate real-time bidding for advertisers.</td><td title=\"Session\">Session</td><td title=\"Pixel\">Pixel</td></tr><tr><td title=\"f5_cspm\">f5_cspm</td><td><a href=\"https://pubmatic.com/legal/privacy-policy/\" target=\"_blank\" rel=\"noopener noreferrer nofollow\" title=\"Pubmatic's privacy policy\">Pubmatic</a></td><td title=\"Saves the address and port number of the web server that is managing the session. Used to improve the website's performance security.\">Saves the address and port number of the web server that is managing the session. Used to improve the website's performance security.</td><td title=\"Session\">Session</td><td title=\"HTTP\">HTTP</td></tr><tr><td title=\"KRTBCOOKIE_#\">KRTBCOOKIE_#</td><td><a href=\"https://www.adroll.com/about/privacy\" target=\"_blank\" rel=\"noopener noreferrer nofollow\" title=\"Adroll's privacy policy\">Adroll</a></td><td title=\"Registers a unique ID that identifies the user's device during return visits across websites that use the same ad network. The ID is used to allow targeted ads.\">Registers a unique ID that identifies the user's device during return visits across websites that use the same ad network. The ID is used to allow targeted ads.</td><td title=\"399 days\">399 days</td><td title=\"HTTP\">HTTP</td></tr><tr><td title=\"PUBMDCID\">PUBMDCID</td><td><a href=\"https://www.adroll.com/about/privacy\" target=\"_blank\" rel=\"noopener noreferrer nofollow\" title=\"Adroll's privacy policy\">Adroll</a></td><td title=\"Registers a unique ID that identifies the user's device during return visits across websites that use the same ad network. The ID is used to allow targeted ads.\">Registers a unique ID that identifies the user's device during return visits across websites that use the same ad network. The ID is used to allow targeted ads.</td><td title=\"3 months\">3 months</td><td title=\"HTTP\">HTTP</td></tr><tr><td title=\"__adroll_fpc\">__adroll_fpc</td><td><a href=\"https://policies.google.com/privacy\" target=\"_blank\" rel=\"noopener noreferrer nofollow\" title=\"Google Tag Manager's privacy policy\">Google Tag Manager</a></td><td title=\"Used to identify the visitor across visits and devices. This allows the website to present the visitor with relevant advertisement - The service is provided by third party advertisement hubs, which facilitate real-time bidding for advertisers. \">Used to identify the visitor across visits and devices. This allows the website to present the visitor with relevant advertisement - The service is provided by third party advertisement hubs, which facilitate real-time bidding for advertisers. </td><td title=\"5 years\">5 years</td><td title=\"HTTP\">HTTP</td></tr><tr><td title=\"__ar_v4\">__ar_v4</td><td><a href=\"https://policies.google.com/privacy\" target=\"_blank\" rel=\"noopener noreferrer nofollow\" title=\"Google Tag Manager's privacy policy\">Google Tag Manager</a></td><td title=\"Optimises ad display based on the user's movement combined and various advertiser bids for displaying user ads.\">Optimises ad display based on the user's movement combined and various advertiser bids for displaying user ads.</td><td title=\"1 year\">1 year</td><td title=\"HTTP\">HTTP</td></tr><tr><td title=\"_te_\">_te_</td><td><a href=\"https://policies.google.com/privacy\" target=\"_blank\" rel=\"noopener noreferrer nofollow\" title=\"Google Tag Manager's privacy policy\">Google Tag Manager</a></td><td title=\"Registers a unique ID that identifies a returning user's device. The ID is used for targeted ads.\">Registers a unique ID that identifies a returning user's device. The ID is used for targeted ads.</td><td title=\"Session\">Session</td><td title=\"HTTP\">HTTP</td></tr><tr><td title=\"APIDTS\">APIDTS</td><td><a href=\"https://policies.yahoo.com/us/en/yahoo/privacy/index.htm\" target=\"_blank\" rel=\"noopener noreferrer nofollow\" title=\"Yahoo's privacy policy\">Yahoo</a></td><td title=\"Collects data on visitors' preferences and behaviour on the website - This information is used make content and advertisement more relevant to the specific visitor. \">Collects data on visitors' preferences and behaviour on the website - This information is used make content and advertisement more relevant to the specific visitor. </td><td title=\"1 day\">1 day</td><td title=\"HTTP\">HTTP</td></tr><tr><td title=\"B\">B</td><td><a href=\"https://policies.yahoo.com/us/en/yahoo/privacy/index.htm\" target=\"_blank\" rel=\"noopener noreferrer nofollow\" title=\"Yahoo's privacy policy\">Yahoo</a></td><td title=\"Collects anonymous data related to the user's website visits, such as the number of visits, average time spent on the website and what pages have been loaded. The registered data is used to categorise the users' interest and demographical profiles with the purpose of customising the website content depending on the visitor.\">Collects anonymous data related to the user's website visits, such as the number of visits, average time spent on the website and what pages have been loaded. The registered data is used to categorise the users' interest and demographical profiles with the purpose of customising the website content depending on the visitor.</td><td title=\"1 year\">1 year</td><td title=\"HTTP\">HTTP</td></tr><tr><td title=\"img/#/r20.gif\">img/#/r20.gif&nbsp;[x27]</td><td><a href=\"https://privacy.microsoft.com/en-US/privacystatement\" target=\"_blank\" rel=\"noopener noreferrer nofollow\" title=\"Microsoft's privacy policy\">Microsoft</a><br><a href=\"https://www.cedexis.com/privacy-policy/\" target=\"_blank\" rel=\"noopener noreferrer nofollow\" title=\"Cedexis's privacy policy\">Cedexis</a><br><a href=\"https://www.cdnvideo.ru/terms-of-use.pdf\" target=\"_blank\" rel=\"noopener noreferrer nofollow\" title=\"CDN Video's privacy policy\">CDN Video</a><br><a href=\"https://www.warpcache.com/acceptable-use-policy/\" target=\"_blank\" rel=\"noopener noreferrer nofollow\" title=\"Warpcache's privacy policy\">Warpcache</a><br><a href=\"https://www.akamai.com/us/en/privacy-policies/\" target=\"_blank\" rel=\"noopener noreferrer nofollow\" title=\"Akamai Technologies's privacy policy\">Akamai Technologies</a><br><a href=\"https://www.fastly.com/privacy\" target=\"_blank\" rel=\"noopener noreferrer nofollow\" title=\"Fastly's privacy policy\">Fastly</a></td><td title=\"Pending\">Pending</td><td title=\"Session\">Session</td><td title=\"Pixel\">Pixel</td></tr><tr><td title=\"cookieJartestCookie\">cookieJartestCookie</td><td><a href=\"https://www.outbrain.com/legal/privacy#privacy-policy\" target=\"_blank\" rel=\"noopener noreferrer nofollow\" title=\"Outbrain's privacy policy\">Outbrain</a></td><td title=\"Pending\">Pending</td><td title=\"1 day\">1 day</td><td title=\"HTTP\">HTTP</td></tr></tbody></table> </div></div><div id=\"CybotCookiebotDialogDetailBodyContentCookieTabsUnclassified\"><div class=\"CybotCookiebotDialogDetailBodyContentCookieTypeIntro\">Unclassified cookies are cookies that we are in the process of classifying, together with the providers of individual cookies.</div><div class=\"CybotCookiebotDialogDetailBodyContentCookieTypeTableContainer\"> <table id=\"CybotCookiebotDialogDetailTableUnclassified\" class=\"CybotCookiebotDialogDetailBodyContentCookieTypeTable\"><thead><tr><th scope=\"col\">Name</th><th scope=\"col\">Provider</th><th scope=\"col\">Purpose</th><th scope=\"col\">Expiry</th><th scope=\"col\">Type</th></tr></thead><tbody><tr><td title=\"_uiq_ct\">_uiq_ct</td><td><a href=\"https://www.stackpath.com/legal/privacy-statement/\" target=\"_blank\" rel=\"noopener noreferrer nofollow\" title=\"Stackpath's privacy policy\">Stackpath</a></td><td title=\"Pending\">Pending</td><td title=\"Session\">Session</td><td title=\"HTML\">HTML</td></tr><tr><td title=\"_uiq_id.705105301.70de\">_uiq_id.705105301.70de</td><td><a href=\"https://www.stackpath.com/legal/privacy-statement/\" target=\"_blank\" rel=\"noopener noreferrer nofollow\" title=\"Stackpath's privacy policy\">Stackpath</a></td><td title=\"Pending\">Pending</td><td title=\"1 year\">1 year</td><td title=\"HTTP\">HTTP</td></tr><tr><td title=\"1203321:session-data\">1203321:session-data&nbsp;[x2]</td><td><a href=\"https://policies.google.com/privacy\" target=\"_blank\" rel=\"noopener noreferrer nofollow\" title=\"Google Tag Manager's privacy policy\">Google Tag Manager</a></td><td title=\"Pending\">Pending</td><td title=\"Persistent\">Persistent</td><td title=\"HTML\">HTML</td></tr><tr><td title=\"hbv_610890\">hbv_610890</td><td><a href=\"https://policies.google.com/privacy\" target=\"_blank\" rel=\"noopener noreferrer nofollow\" title=\"Google Tag Manager's privacy policy\">Google Tag Manager</a></td><td title=\"Pending\">Pending</td><td title=\"Persistent\">Persistent</td><td title=\"HTML\">HTML</td></tr><tr><td title=\"SessionForMain\">SessionForMain</td><td><a href=\"https://policies.google.com/privacy\" target=\"_blank\" rel=\"noopener noreferrer nofollow\" title=\"Google Tag Manager's privacy policy\">Google Tag Manager</a></td><td title=\"Pending\">Pending</td><td title=\"Session\">Session</td><td title=\"HTML\">HTML</td></tr><tr><td title=\"lissc\">lissc</td><td><a href=\"https://www.linkedin.com/legal/privacy-policy\" target=\"_blank\" rel=\"noopener noreferrer nofollow\" title=\"LinkedIn's privacy policy\">LinkedIn</a></td><td title=\"Pending\">Pending</td><td title=\"1 year\">1 year</td><td title=\"HTTP\">HTTP</td></tr><tr><td title=\"_/ad/6c70d5d9f594405b8ed57b328e6622dd/pixel\">_/ad/6c70d5d9f594405b8ed57b328e6622dd/pixel</td><td><a href=\"https://www.quora.com/about/privacy\" target=\"_blank\" rel=\"noopener noreferrer nofollow\" title=\"Quora's privacy policy\">Quora</a></td><td title=\"Pending\">Pending</td><td title=\"Session\">Session</td><td title=\"Pixel\">Pixel</td></tr><tr><td title=\"_hjTLDTest\">_hjTLDTest</td><td><a href=\"https://policies.google.com/privacy\" target=\"_blank\" rel=\"noopener noreferrer nofollow\" title=\"Google Tag Manager's privacy policy\">Google Tag Manager</a></td><td title=\"Pending\">Pending</td><td title=\"Session\">Session</td><td title=\"HTTP\">HTTP</td></tr><tr><td title=\"IR_8285\">IR_8285</td><td><a href=\"https://policies.google.com/privacy\" target=\"_blank\" rel=\"noopener noreferrer nofollow\" title=\"Google Tag Manager's privacy policy\">Google Tag Manager</a></td><td title=\"Pending\">Pending</td><td title=\"Session\">Session</td><td title=\"HTTP\">HTTP</td></tr><tr><td title=\"awc.last.screen.event\">awc.last.screen.event</td><td><a href=\"https://www.amazon.com/gp/help/customer/display.html/ref=footer_privacy?ie=UTF8&amp;nodeId=468496\" target=\"_blank\" rel=\"noopener noreferrer nofollow\" title=\"Amazon's privacy policy\">Amazon</a></td><td title=\"Pending\">Pending</td><td title=\"Session\">Session</td><td title=\"HTML\">HTML</td></tr><tr><td title=\"awc.session.expiry\">awc.session.expiry</td><td><a href=\"https://www.amazon.com/gp/help/customer/display.html/ref=footer_privacy?ie=UTF8&amp;nodeId=468496\" target=\"_blank\" rel=\"noopener noreferrer nofollow\" title=\"Amazon's privacy policy\">Amazon</a></td><td title=\"Pending\">Pending</td><td title=\"Persistent\">Persistent</td><td title=\"HTML\">HTML</td></tr><tr><td title=\"awc.session.id\">awc.session.id</td><td><a href=\"https://www.amazon.com/gp/help/customer/display.html/ref=footer_privacy?ie=UTF8&amp;nodeId=468496\" target=\"_blank\" rel=\"noopener noreferrer nofollow\" title=\"Amazon's privacy policy\">Amazon</a></td><td title=\"Pending\">Pending</td><td title=\"Persistent\">Persistent</td><td title=\"HTML\">HTML</td></tr><tr><td title=\"awc.tab.id\">awc.tab.id</td><td><a href=\"https://www.amazon.com/gp/help/customer/display.html/ref=footer_privacy?ie=UTF8&amp;nodeId=468496\" target=\"_blank\" rel=\"noopener noreferrer nofollow\" title=\"Amazon's privacy policy\">Amazon</a></td><td title=\"Pending\">Pending</td><td title=\"Session\">Session</td><td title=\"HTML\">HTML</td></tr><tr><td title=\"awc.taskSessions\">awc.taskSessions</td><td><a href=\"https://www.amazon.com/gp/help/customer/display.html/ref=footer_privacy?ie=UTF8&amp;nodeId=468496\" target=\"_blank\" rel=\"noopener noreferrer nofollow\" title=\"Amazon's privacy policy\">Amazon</a></td><td title=\"Pending\">Pending</td><td title=\"Session\">Session</td><td title=\"HTML\">HTML</td></tr><tr><td title=\"awc.taskSessionsInit\">awc.taskSessionsInit</td><td><a href=\"https://www.amazon.com/gp/help/customer/display.html/ref=footer_privacy?ie=UTF8&amp;nodeId=468496\" target=\"_blank\" rel=\"noopener noreferrer nofollow\" title=\"Amazon's privacy policy\">Amazon</a></td><td title=\"Pending\">Pending</td><td title=\"Session\">Session</td><td title=\"HTML\">HTML</td></tr><tr><td title=\"awc-prod.09603dda-3143-4907-9017-9a4f794c1c63.ack\">awc-prod.09603dda-3143-4907-9017-9a4f794c1c63.ack</td><td><a href=\"https://www.stackpath.com/legal/privacy-statement/\" target=\"_blank\" rel=\"noopener noreferrer nofollow\" title=\"Stackpath's privacy policy\">Stackpath</a></td><td title=\"Pending\">Pending</td><td title=\"Persistent\">Persistent</td><td title=\"HTML\">HTML</td></tr><tr><td title=\"awc-prod.09603dda-3143-4907-9017-9a4f794c1c63.inProgress\">awc-prod.09603dda-3143-4907-9017-9a4f794c1c63.inProgress</td><td><a href=\"https://www.stackpath.com/legal/privacy-statement/\" target=\"_blank\" rel=\"noopener noreferrer nofollow\" title=\"Stackpath's privacy policy\">Stackpath</a></td><td title=\"Pending\">Pending</td><td title=\"Persistent\">Persistent</td><td title=\"HTML\">HTML</td></tr><tr><td title=\"awc-prod.09603dda-3143-4907-9017-9a4f794c1c63.queue\">awc-prod.09603dda-3143-4907-9017-9a4f794c1c63.queue</td><td><a href=\"https://www.stackpath.com/legal/privacy-statement/\" target=\"_blank\" rel=\"noopener noreferrer nofollow\" title=\"Stackpath's privacy policy\">Stackpath</a></td><td title=\"Pending\">Pending</td><td title=\"Persistent\">Persistent</td><td title=\"HTML\">HTML</td></tr><tr><td title=\"awc-prod.09603dda-3143-4907-9017-9a4f794c1c63.reclaimEnd\">awc-prod.09603dda-3143-4907-9017-9a4f794c1c63.reclaimEnd</td><td><a href=\"https://www.stackpath.com/legal/privacy-statement/\" target=\"_blank\" rel=\"noopener noreferrer nofollow\" title=\"Stackpath's privacy policy\">Stackpath</a></td><td title=\"Pending\">Pending</td><td title=\"Persistent\">Persistent</td><td title=\"HTML\">HTML</td></tr><tr><td title=\"awc-prod.09603dda-3143-4907-9017-9a4f794c1c63.reclaimStart\">awc-prod.09603dda-3143-4907-9017-9a4f794c1c63.reclaimStart</td><td><a href=\"https://www.stackpath.com/legal/privacy-statement/\" target=\"_blank\" rel=\"noopener noreferrer nofollow\" title=\"Stackpath's privacy policy\">Stackpath</a></td><td title=\"Pending\">Pending</td><td title=\"Persistent\">Persistent</td><td title=\"HTML\">HTML</td></tr><tr><td title=\"awc-prod.0b52ec80-dcc2-4259-adc2-2993397dd81f.ack\">awc-prod.0b52ec80-dcc2-4259-adc2-2993397dd81f.ack</td><td><a href=\"https://www.stackpath.com/legal/privacy-statement/\" target=\"_blank\" rel=\"noopener noreferrer nofollow\" title=\"Stackpath's privacy policy\">Stackpath</a></td><td title=\"Pending\">Pending</td><td title=\"Persistent\">Persistent</td><td title=\"HTML\">HTML</td></tr><tr><td title=\"awc-prod.0b52ec80-dcc2-4259-adc2-2993397dd81f.inProgress\">awc-prod.0b52ec80-dcc2-4259-adc2-2993397dd81f.inProgress</td><td><a href=\"https://www.stackpath.com/legal/privacy-statement/\" target=\"_blank\" rel=\"noopener noreferrer nofollow\" title=\"Stackpath's privacy policy\">Stackpath</a></td><td title=\"Pending\">Pending</td><td title=\"Persistent\">Persistent</td><td title=\"HTML\">HTML</td></tr><tr><td title=\"awc-prod.0b52ec80-dcc2-4259-adc2-2993397dd81f.queue\">awc-prod.0b52ec80-dcc2-4259-adc2-2993397dd81f.queue</td><td><a href=\"https://www.stackpath.com/legal/privacy-statement/\" target=\"_blank\" rel=\"noopener noreferrer nofollow\" title=\"Stackpath's privacy policy\">Stackpath</a></td><td title=\"Pending\">Pending</td><td title=\"Persistent\">Persistent</td><td title=\"HTML\">HTML</td></tr><tr><td title=\"awc-prod.0b52ec80-dcc2-4259-adc2-2993397dd81f.reclaimEnd\">awc-prod.0b52ec80-dcc2-4259-adc2-2993397dd81f.reclaimEnd</td><td><a href=\"https://www.stackpath.com/legal/privacy-statement/\" target=\"_blank\" rel=\"noopener noreferrer nofollow\" title=\"Stackpath's privacy policy\">Stackpath</a></td><td title=\"Pending\">Pending</td><td title=\"Persistent\">Persistent</td><td title=\"HTML\">HTML</td></tr><tr><td title=\"awc-prod.0b52ec80-dcc2-4259-adc2-2993397dd81f.reclaimStart\">awc-prod.0b52ec80-dcc2-4259-adc2-2993397dd81f.reclaimStart</td><td><a href=\"https://www.stackpath.com/legal/privacy-statement/\" target=\"_blank\" rel=\"noopener noreferrer nofollow\" title=\"Stackpath's privacy policy\">Stackpath</a></td><td title=\"Pending\">Pending</td><td title=\"Persistent\">Persistent</td><td title=\"HTML\">HTML</td></tr><tr><td title=\"awc-prod.129af3e4-f9bc-4cc9-bed5-108ede29b39e.ack\">awc-prod.129af3e4-f9bc-4cc9-bed5-108ede29b39e.ack</td><td><a href=\"https://www.amazon.com/gp/help/customer/display.html/ref=footer_privacy?ie=UTF8&amp;nodeId=468496\" target=\"_blank\" rel=\"noopener noreferrer nofollow\" title=\"Amazon's privacy policy\">Amazon</a></td><td title=\"Pending\">Pending</td><td title=\"Persistent\">Persistent</td><td title=\"HTML\">HTML</td></tr><tr><td title=\"awc-prod.129af3e4-f9bc-4cc9-bed5-108ede29b39e.inProgress\">awc-prod.129af3e4-f9bc-4cc9-bed5-108ede29b39e.inProgress</td><td><a href=\"https://www.amazon.com/gp/help/customer/display.html/ref=footer_privacy?ie=UTF8&amp;nodeId=468496\" target=\"_blank\" rel=\"noopener noreferrer nofollow\" title=\"Amazon's privacy policy\">Amazon</a></td><td title=\"Pending\">Pending</td><td title=\"Persistent\">Persistent</td><td title=\"HTML\">HTML</td></tr><tr><td title=\"awc-prod.129af3e4-f9bc-4cc9-bed5-108ede29b39e.queue\">awc-prod.129af3e4-f9bc-4cc9-bed5-108ede29b39e.queue</td><td><a href=\"https://www.amazon.com/gp/help/customer/display.html/ref=footer_privacy?ie=UTF8&amp;nodeId=468496\" target=\"_blank\" rel=\"noopener noreferrer nofollow\" title=\"Amazon's privacy policy\">Amazon</a></td><td title=\"Pending\">Pending</td><td title=\"Persistent\">Persistent</td><td title=\"HTML\">HTML</td></tr><tr><td title=\"awc-prod.129af3e4-f9bc-4cc9-bed5-108ede29b39e.reclaimEnd\">awc-prod.129af3e4-f9bc-4cc9-bed5-108ede29b39e.reclaimEnd</td><td><a href=\"https://www.amazon.com/gp/help/customer/display.html/ref=footer_privacy?ie=UTF8&amp;nodeId=468496\" target=\"_blank\" rel=\"noopener noreferrer nofollow\" title=\"Amazon's privacy policy\">Amazon</a></td><td title=\"Pending\">Pending</td><td title=\"Persistent\">Persistent</td><td title=\"HTML\">HTML</td></tr><tr><td title=\"awc-prod.129af3e4-f9bc-4cc9-bed5-108ede29b39e.reclaimStart\">awc-prod.129af3e4-f9bc-4cc9-bed5-108ede29b39e.reclaimStart</td><td><a href=\"https://www.amazon.com/gp/help/customer/display.html/ref=footer_privacy?ie=UTF8&amp;nodeId=468496\" target=\"_blank\" rel=\"noopener noreferrer nofollow\" title=\"Amazon's privacy policy\">Amazon</a></td><td title=\"Pending\">Pending</td><td title=\"Persistent\">Persistent</td><td title=\"HTML\">HTML</td></tr><tr><td title=\"awc-prod.1a85cf99-de27-4d41-b500-2c57b9d66780.ack\">awc-prod.1a85cf99-de27-4d41-b500-2c57b9d66780.ack</td><td><a href=\"https://www.stackpath.com/legal/privacy-statement/\" target=\"_blank\" rel=\"noopener noreferrer nofollow\" title=\"Stackpath's privacy policy\">Stackpath</a></td><td title=\"Pending\">Pending</td><td title=\"Persistent\">Persistent</td><td title=\"HTML\">HTML</td></tr><tr><td title=\"awc-prod.1a85cf99-de27-4d41-b500-2c57b9d66780.inProgress\">awc-prod.1a85cf99-de27-4d41-b500-2c57b9d66780.inProgress</td><td><a href=\"https://www.stackpath.com/legal/privacy-statement/\" target=\"_blank\" rel=\"noopener noreferrer nofollow\" title=\"Stackpath's privacy policy\">Stackpath</a></td><td title=\"Pending\">Pending</td><td title=\"Persistent\">Persistent</td><td title=\"HTML\">HTML</td></tr><tr><td title=\"awc-prod.1a85cf99-de27-4d41-b500-2c57b9d66780.queue\">awc-prod.1a85cf99-de27-4d41-b500-2c57b9d66780.queue</td><td><a href=\"https://www.stackpath.com/legal/privacy-statement/\" target=\"_blank\" rel=\"noopener noreferrer nofollow\" title=\"Stackpath's privacy policy\">Stackpath</a></td><td title=\"Pending\">Pending</td><td title=\"Persistent\">Persistent</td><td title=\"HTML\">HTML</td></tr><tr><td title=\"awc-prod.1a85cf99-de27-4d41-b500-2c57b9d66780.reclaimEnd\">awc-prod.1a85cf99-de27-4d41-b500-2c57b9d66780.reclaimEnd</td><td><a href=\"https://www.stackpath.com/legal/privacy-statement/\" target=\"_blank\" rel=\"noopener noreferrer nofollow\" title=\"Stackpath's privacy policy\">Stackpath</a></td><td title=\"Pending\">Pending</td><td title=\"Persistent\">Persistent</td><td title=\"HTML\">HTML</td></tr><tr><td title=\"awc-prod.1a85cf99-de27-4d41-b500-2c57b9d66780.reclaimStart\">awc-prod.1a85cf99-de27-4d41-b500-2c57b9d66780.reclaimStart</td><td><a href=\"https://www.stackpath.com/legal/privacy-statement/\" target=\"_blank\" rel=\"noopener noreferrer nofollow\" title=\"Stackpath's privacy policy\">Stackpath</a></td><td title=\"Pending\">Pending</td><td title=\"Persistent\">Persistent</td><td title=\"HTML\">HTML</td></tr><tr><td title=\"awc-prod.1c7fd5b7-a60d-463c-8d20-0f36b8dc6085.ack\">awc-prod.1c7fd5b7-a60d-463c-8d20-0f36b8dc6085.ack</td><td><a href=\"https://www.amazon.com/gp/help/customer/display.html/ref=footer_privacy?ie=UTF8&amp;nodeId=468496\" target=\"_blank\" rel=\"noopener noreferrer nofollow\" title=\"Amazon's privacy policy\">Amazon</a></td><td title=\"Pending\">Pending</td><td title=\"Persistent\">Persistent</td><td title=\"HTML\">HTML</td></tr><tr><td title=\"awc-prod.1c7fd5b7-a60d-463c-8d20-0f36b8dc6085.inProgress\">awc-prod.1c7fd5b7-a60d-463c-8d20-0f36b8dc6085.inProgress</td><td><a href=\"https://www.amazon.com/gp/help/customer/display.html/ref=footer_privacy?ie=UTF8&amp;nodeId=468496\" target=\"_blank\" rel=\"noopener noreferrer nofollow\" title=\"Amazon's privacy policy\">Amazon</a></td><td title=\"Pending\">Pending</td><td title=\"Persistent\">Persistent</td><td title=\"HTML\">HTML</td></tr><tr><td title=\"awc-prod.1c7fd5b7-a60d-463c-8d20-0f36b8dc6085.queue\">awc-prod.1c7fd5b7-a60d-463c-8d20-0f36b8dc6085.queue</td><td><a href=\"https://www.amazon.com/gp/help/customer/display.html/ref=footer_privacy?ie=UTF8&amp;nodeId=468496\" target=\"_blank\" rel=\"noopener noreferrer nofollow\" title=\"Amazon's privacy policy\">Amazon</a></td><td title=\"Pending\">Pending</td><td title=\"Persistent\">Persistent</td><td title=\"HTML\">HTML</td></tr><tr><td title=\"awc-prod.1c7fd5b7-a60d-463c-8d20-0f36b8dc6085.reclaimEnd\">awc-prod.1c7fd5b7-a60d-463c-8d20-0f36b8dc6085.reclaimEnd</td><td><a href=\"https://www.amazon.com/gp/help/customer/display.html/ref=footer_privacy?ie=UTF8&amp;nodeId=468496\" target=\"_blank\" rel=\"noopener noreferrer nofollow\" title=\"Amazon's privacy policy\">Amazon</a></td><td title=\"Pending\">Pending</td><td title=\"Persistent\">Persistent</td><td title=\"HTML\">HTML</td></tr><tr><td title=\"awc-prod.1c7fd5b7-a60d-463c-8d20-0f36b8dc6085.reclaimStart\">awc-prod.1c7fd5b7-a60d-463c-8d20-0f36b8dc6085.reclaimStart</td><td><a href=\"https://www.amazon.com/gp/help/customer/display.html/ref=footer_privacy?ie=UTF8&amp;nodeId=468496\" target=\"_blank\" rel=\"noopener noreferrer nofollow\" title=\"Amazon's privacy policy\">Amazon</a></td><td title=\"Pending\">Pending</td><td title=\"Persistent\">Persistent</td><td title=\"HTML\">HTML</td></tr><tr><td title=\"awc-prod.1cc0a2e0-2114-4308-bde4-8630d508fed7.ack\">awc-prod.1cc0a2e0-2114-4308-bde4-8630d508fed7.ack</td><td><a href=\"https://www.stackpath.com/legal/privacy-statement/\" target=\"_blank\" rel=\"noopener noreferrer nofollow\" title=\"Stackpath's privacy policy\">Stackpath</a></td><td title=\"Pending\">Pending</td><td title=\"Persistent\">Persistent</td><td title=\"HTML\">HTML</td></tr><tr><td title=\"awc-prod.1cc0a2e0-2114-4308-bde4-8630d508fed7.inProgress\">awc-prod.1cc0a2e0-2114-4308-bde4-8630d508fed7.inProgress</td><td><a href=\"https://www.stackpath.com/legal/privacy-statement/\" target=\"_blank\" rel=\"noopener noreferrer nofollow\" title=\"Stackpath's privacy policy\">Stackpath</a></td><td title=\"Pending\">Pending</td><td title=\"Persistent\">Persistent</td><td title=\"HTML\">HTML</td></tr><tr><td title=\"awc-prod.1cc0a2e0-2114-4308-bde4-8630d508fed7.queue\">awc-prod.1cc0a2e0-2114-4308-bde4-8630d508fed7.queue</td><td><a href=\"https://www.stackpath.com/legal/privacy-statement/\" target=\"_blank\" rel=\"noopener noreferrer nofollow\" title=\"Stackpath's privacy policy\">Stackpath</a></td><td title=\"Pending\">Pending</td><td title=\"Persistent\">Persistent</td><td title=\"HTML\">HTML</td></tr><tr><td title=\"awc-prod.1cc0a2e0-2114-4308-bde4-8630d508fed7.reclaimEnd\">awc-prod.1cc0a2e0-2114-4308-bde4-8630d508fed7.reclaimEnd</td><td><a href=\"https://www.stackpath.com/legal/privacy-statement/\" target=\"_blank\" rel=\"noopener noreferrer nofollow\" title=\"Stackpath's privacy policy\">Stackpath</a></td><td title=\"Pending\">Pending</td><td title=\"Persistent\">Persistent</td><td title=\"HTML\">HTML</td></tr><tr><td title=\"awc-prod.1cc0a2e0-2114-4308-bde4-8630d508fed7.reclaimStart\">awc-prod.1cc0a2e0-2114-4308-bde4-8630d508fed7.reclaimStart</td><td><a href=\"https://www.stackpath.com/legal/privacy-statement/\" target=\"_blank\" rel=\"noopener noreferrer nofollow\" title=\"Stackpath's privacy policy\">Stackpath</a></td><td title=\"Pending\">Pending</td><td title=\"Persistent\">Persistent</td><td title=\"HTML\">HTML</td></tr><tr><td title=\"awc-prod.2305fd83-2302-4025-99a0-5695105b9b68.ack\">awc-prod.2305fd83-2302-4025-99a0-5695105b9b68.ack</td><td><a href=\"https://www.stackpath.com/legal/privacy-statement/\" target=\"_blank\" rel=\"noopener noreferrer nofollow\" title=\"Stackpath's privacy policy\">Stackpath</a></td><td title=\"Pending\">Pending</td><td title=\"Persistent\">Persistent</td><td title=\"HTML\">HTML</td></tr><tr><td title=\"awc-prod.2305fd83-2302-4025-99a0-5695105b9b68.inProgress\">awc-prod.2305fd83-2302-4025-99a0-5695105b9b68.inProgress</td><td><a href=\"https://www.stackpath.com/legal/privacy-statement/\" target=\"_blank\" rel=\"noopener noreferrer nofollow\" title=\"Stackpath's privacy policy\">Stackpath</a></td><td title=\"Pending\">Pending</td><td title=\"Persistent\">Persistent</td><td title=\"HTML\">HTML</td></tr><tr><td title=\"awc-prod.2305fd83-2302-4025-99a0-5695105b9b68.queue\">awc-prod.2305fd83-2302-4025-99a0-5695105b9b68.queue</td><td><a href=\"https://www.stackpath.com/legal/privacy-statement/\" target=\"_blank\" rel=\"noopener noreferrer nofollow\" title=\"Stackpath's privacy policy\">Stackpath</a></td><td title=\"Pending\">Pending</td><td title=\"Persistent\">Persistent</td><td title=\"HTML\">HTML</td></tr><tr><td title=\"awc-prod.2305fd83-2302-4025-99a0-5695105b9b68.reclaimEnd\">awc-prod.2305fd83-2302-4025-99a0-5695105b9b68.reclaimEnd</td><td><a href=\"https://www.stackpath.com/legal/privacy-statement/\" target=\"_blank\" rel=\"noopener noreferrer nofollow\" title=\"Stackpath's privacy policy\">Stackpath</a></td><td title=\"Pending\">Pending</td><td title=\"Persistent\">Persistent</td><td title=\"HTML\">HTML</td></tr><tr><td title=\"awc-prod.2305fd83-2302-4025-99a0-5695105b9b68.reclaimStart\">awc-prod.2305fd83-2302-4025-99a0-5695105b9b68.reclaimStart</td><td><a href=\"https://www.stackpath.com/legal/privacy-statement/\" target=\"_blank\" rel=\"noopener noreferrer nofollow\" title=\"Stackpath's privacy policy\">Stackpath</a></td><td title=\"Pending\">Pending</td><td title=\"Persistent\">Persistent</td><td title=\"HTML\">HTML</td></tr><tr><td title=\"awc-prod.27a7ccb5-2fb7-4504-96ea-b2da5ea971fa.ack\">awc-prod.27a7ccb5-2fb7-4504-96ea-b2da5ea971fa.ack</td><td><a href=\"https://www.stackpath.com/legal/privacy-statement/\" target=\"_blank\" rel=\"noopener noreferrer nofollow\" title=\"Stackpath's privacy policy\">Stackpath</a></td><td title=\"Pending\">Pending</td><td title=\"Persistent\">Persistent</td><td title=\"HTML\">HTML</td></tr><tr><td title=\"awc-prod.27a7ccb5-2fb7-4504-96ea-b2da5ea971fa.inProgress\">awc-prod.27a7ccb5-2fb7-4504-96ea-b2da5ea971fa.inProgress</td><td><a href=\"https://www.stackpath.com/legal/privacy-statement/\" target=\"_blank\" rel=\"noopener noreferrer nofollow\" title=\"Stackpath's privacy policy\">Stackpath</a></td><td title=\"Pending\">Pending</td><td title=\"Persistent\">Persistent</td><td title=\"HTML\">HTML</td></tr><tr><td title=\"awc-prod.27a7ccb5-2fb7-4504-96ea-b2da5ea971fa.queue\">awc-prod.27a7ccb5-2fb7-4504-96ea-b2da5ea971fa.queue</td><td><a href=\"https://www.stackpath.com/legal/privacy-statement/\" target=\"_blank\" rel=\"noopener noreferrer nofollow\" title=\"Stackpath's privacy policy\">Stackpath</a></td><td title=\"Pending\">Pending</td><td title=\"Persistent\">Persistent</td><td title=\"HTML\">HTML</td></tr><tr><td title=\"awc-prod.27a7ccb5-2fb7-4504-96ea-b2da5ea971fa.reclaimEnd\">awc-prod.27a7ccb5-2fb7-4504-96ea-b2da5ea971fa.reclaimEnd</td><td><a href=\"https://www.stackpath.com/legal/privacy-statement/\" target=\"_blank\" rel=\"noopener noreferrer nofollow\" title=\"Stackpath's privacy policy\">Stackpath</a></td><td title=\"Pending\">Pending</td><td title=\"Persistent\">Persistent</td><td title=\"HTML\">HTML</td></tr><tr><td title=\"awc-prod.27a7ccb5-2fb7-4504-96ea-b2da5ea971fa.reclaimStart\">awc-prod.27a7ccb5-2fb7-4504-96ea-b2da5ea971fa.reclaimStart</td><td><a href=\"https://www.stackpath.com/legal/privacy-statement/\" target=\"_blank\" rel=\"noopener noreferrer nofollow\" title=\"Stackpath's privacy policy\">Stackpath</a></td><td title=\"Pending\">Pending</td><td title=\"Persistent\">Persistent</td><td title=\"HTML\">HTML</td></tr><tr><td title=\"awc-prod.3b3bd6a2-8224-4fc2-823c-8cd3bb42965a.ack\">awc-prod.3b3bd6a2-8224-4fc2-823c-8cd3bb42965a.ack</td><td><a href=\"https://www.amazon.com/gp/help/customer/display.html/ref=footer_privacy?ie=UTF8&amp;nodeId=468496\" target=\"_blank\" rel=\"noopener noreferrer nofollow\" title=\"Amazon's privacy policy\">Amazon</a></td><td title=\"Pending\">Pending</td><td title=\"Persistent\">Persistent</td><td title=\"HTML\">HTML</td></tr><tr><td title=\"awc-prod.3b3bd6a2-8224-4fc2-823c-8cd3bb42965a.inProgress\">awc-prod.3b3bd6a2-8224-4fc2-823c-8cd3bb42965a.inProgress</td><td><a href=\"https://www.amazon.com/gp/help/customer/display.html/ref=footer_privacy?ie=UTF8&amp;nodeId=468496\" target=\"_blank\" rel=\"noopener noreferrer nofollow\" title=\"Amazon's privacy policy\">Amazon</a></td><td title=\"Pending\">Pending</td><td title=\"Persistent\">Persistent</td><td title=\"HTML\">HTML</td></tr><tr><td title=\"awc-prod.3b3bd6a2-8224-4fc2-823c-8cd3bb42965a.queue\">awc-prod.3b3bd6a2-8224-4fc2-823c-8cd3bb42965a.queue</td><td><a href=\"https://www.amazon.com/gp/help/customer/display.html/ref=footer_privacy?ie=UTF8&amp;nodeId=468496\" target=\"_blank\" rel=\"noopener noreferrer nofollow\" title=\"Amazon's privacy policy\">Amazon</a></td><td title=\"Pending\">Pending</td><td title=\"Persistent\">Persistent</td><td title=\"HTML\">HTML</td></tr><tr><td title=\"awc-prod.3b3bd6a2-8224-4fc2-823c-8cd3bb42965a.reclaimEnd\">awc-prod.3b3bd6a2-8224-4fc2-823c-8cd3bb42965a.reclaimEnd</td><td><a href=\"https://www.amazon.com/gp/help/customer/display.html/ref=footer_privacy?ie=UTF8&amp;nodeId=468496\" target=\"_blank\" rel=\"noopener noreferrer nofollow\" title=\"Amazon's privacy policy\">Amazon</a></td><td title=\"Pending\">Pending</td><td title=\"Persistent\">Persistent</td><td title=\"HTML\">HTML</td></tr><tr><td title=\"awc-prod.3b3bd6a2-8224-4fc2-823c-8cd3bb42965a.reclaimStart\">awc-prod.3b3bd6a2-8224-4fc2-823c-8cd3bb42965a.reclaimStart</td><td><a href=\"https://www.amazon.com/gp/help/customer/display.html/ref=footer_privacy?ie=UTF8&amp;nodeId=468496\" target=\"_blank\" rel=\"noopener noreferrer nofollow\" title=\"Amazon's privacy policy\">Amazon</a></td><td title=\"Pending\">Pending</td><td title=\"Persistent\">Persistent</td><td title=\"HTML\">HTML</td></tr><tr><td title=\"awc-prod.41ba7772-3630-4c2d-a56c-b7f15e66a1e4.ack\">awc-prod.41ba7772-3630-4c2d-a56c-b7f15e66a1e4.ack</td><td><a href=\"https://www.amazon.com/gp/help/customer/display.html/ref=footer_privacy?ie=UTF8&amp;nodeId=468496\" target=\"_blank\" rel=\"noopener noreferrer nofollow\" title=\"Amazon's privacy policy\">Amazon</a></td><td title=\"Pending\">Pending</td><td title=\"Persistent\">Persistent</td><td title=\"HTML\">HTML</td></tr><tr><td title=\"awc-prod.41ba7772-3630-4c2d-a56c-b7f15e66a1e4.inProgress\">awc-prod.41ba7772-3630-4c2d-a56c-b7f15e66a1e4.inProgress</td><td><a href=\"https://www.amazon.com/gp/help/customer/display.html/ref=footer_privacy?ie=UTF8&amp;nodeId=468496\" target=\"_blank\" rel=\"noopener noreferrer nofollow\" title=\"Amazon's privacy policy\">Amazon</a></td><td title=\"Pending\">Pending</td><td title=\"Persistent\">Persistent</td><td title=\"HTML\">HTML</td></tr><tr><td title=\"awc-prod.41ba7772-3630-4c2d-a56c-b7f15e66a1e4.queue\">awc-prod.41ba7772-3630-4c2d-a56c-b7f15e66a1e4.queue</td><td><a href=\"https://www.amazon.com/gp/help/customer/display.html/ref=footer_privacy?ie=UTF8&amp;nodeId=468496\" target=\"_blank\" rel=\"noopener noreferrer nofollow\" title=\"Amazon's privacy policy\">Amazon</a></td><td title=\"Pending\">Pending</td><td title=\"Persistent\">Persistent</td><td title=\"HTML\">HTML</td></tr><tr><td title=\"awc-prod.41ba7772-3630-4c2d-a56c-b7f15e66a1e4.reclaimEnd\">awc-prod.41ba7772-3630-4c2d-a56c-b7f15e66a1e4.reclaimEnd</td><td><a href=\"https://www.amazon.com/gp/help/customer/display.html/ref=footer_privacy?ie=UTF8&amp;nodeId=468496\" target=\"_blank\" rel=\"noopener noreferrer nofollow\" title=\"Amazon's privacy policy\">Amazon</a></td><td title=\"Pending\">Pending</td><td title=\"Persistent\">Persistent</td><td title=\"HTML\">HTML</td></tr><tr><td title=\"awc-prod.41ba7772-3630-4c2d-a56c-b7f15e66a1e4.reclaimStart\">awc-prod.41ba7772-3630-4c2d-a56c-b7f15e66a1e4.reclaimStart</td><td><a href=\"https://www.amazon.com/gp/help/customer/display.html/ref=footer_privacy?ie=UTF8&amp;nodeId=468496\" target=\"_blank\" rel=\"noopener noreferrer nofollow\" title=\"Amazon's privacy policy\">Amazon</a></td><td title=\"Pending\">Pending</td><td title=\"Persistent\">Persistent</td><td title=\"HTML\">HTML</td></tr><tr><td title=\"awc-prod.422b7ebe-64af-4241-9419-cd6747be3d21.ack\">awc-prod.422b7ebe-64af-4241-9419-cd6747be3d21.ack</td><td><a href=\"https://www.stackpath.com/legal/privacy-statement/\" target=\"_blank\" rel=\"noopener noreferrer nofollow\" title=\"Stackpath's privacy policy\">Stackpath</a></td><td title=\"Pending\">Pending</td><td title=\"Persistent\">Persistent</td><td title=\"HTML\">HTML</td></tr><tr><td title=\"awc-prod.422b7ebe-64af-4241-9419-cd6747be3d21.inProgress\">awc-prod.422b7ebe-64af-4241-9419-cd6747be3d21.inProgress</td><td><a href=\"https://www.stackpath.com/legal/privacy-statement/\" target=\"_blank\" rel=\"noopener noreferrer nofollow\" title=\"Stackpath's privacy policy\">Stackpath</a></td><td title=\"Pending\">Pending</td><td title=\"Persistent\">Persistent</td><td title=\"HTML\">HTML</td></tr><tr><td title=\"awc-prod.422b7ebe-64af-4241-9419-cd6747be3d21.queue\">awc-prod.422b7ebe-64af-4241-9419-cd6747be3d21.queue</td><td><a href=\"https://www.stackpath.com/legal/privacy-statement/\" target=\"_blank\" rel=\"noopener noreferrer nofollow\" title=\"Stackpath's privacy policy\">Stackpath</a></td><td title=\"Pending\">Pending</td><td title=\"Persistent\">Persistent</td><td title=\"HTML\">HTML</td></tr><tr><td title=\"awc-prod.422b7ebe-64af-4241-9419-cd6747be3d21.reclaimEnd\">awc-prod.422b7ebe-64af-4241-9419-cd6747be3d21.reclaimEnd</td><td><a href=\"https://www.stackpath.com/legal/privacy-statement/\" target=\"_blank\" rel=\"noopener noreferrer nofollow\" title=\"Stackpath's privacy policy\">Stackpath</a></td><td title=\"Pending\">Pending</td><td title=\"Persistent\">Persistent</td><td title=\"HTML\">HTML</td></tr><tr><td title=\"awc-prod.422b7ebe-64af-4241-9419-cd6747be3d21.reclaimStart\">awc-prod.422b7ebe-64af-4241-9419-cd6747be3d21.reclaimStart</td><td><a href=\"https://www.stackpath.com/legal/privacy-statement/\" target=\"_blank\" rel=\"noopener noreferrer nofollow\" title=\"Stackpath's privacy policy\">Stackpath</a></td><td title=\"Pending\">Pending</td><td title=\"Persistent\">Persistent</td><td title=\"HTML\">HTML</td></tr><tr><td title=\"awc-prod.42e61605-f158-49dd-9112-b4b1b230b13b.ack\">awc-prod.42e61605-f158-49dd-9112-b4b1b230b13b.ack</td><td><a href=\"https://www.amazon.com/gp/help/customer/display.html/ref=footer_privacy?ie=UTF8&amp;nodeId=468496\" target=\"_blank\" rel=\"noopener noreferrer nofollow\" title=\"Amazon's privacy policy\">Amazon</a></td><td title=\"Pending\">Pending</td><td title=\"Persistent\">Persistent</td><td title=\"HTML\">HTML</td></tr><tr><td title=\"awc-prod.42e61605-f158-49dd-9112-b4b1b230b13b.inProgress\">awc-prod.42e61605-f158-49dd-9112-b4b1b230b13b.inProgress</td><td><a href=\"https://www.amazon.com/gp/help/customer/display.html/ref=footer_privacy?ie=UTF8&amp;nodeId=468496\" target=\"_blank\" rel=\"noopener noreferrer nofollow\" title=\"Amazon's privacy policy\">Amazon</a></td><td title=\"Pending\">Pending</td><td title=\"Persistent\">Persistent</td><td title=\"HTML\">HTML</td></tr><tr><td title=\"awc-prod.42e61605-f158-49dd-9112-b4b1b230b13b.queue\">awc-prod.42e61605-f158-49dd-9112-b4b1b230b13b.queue</td><td><a href=\"https://www.amazon.com/gp/help/customer/display.html/ref=footer_privacy?ie=UTF8&amp;nodeId=468496\" target=\"_blank\" rel=\"noopener noreferrer nofollow\" title=\"Amazon's privacy policy\">Amazon</a></td><td title=\"Pending\">Pending</td><td title=\"Persistent\">Persistent</td><td title=\"HTML\">HTML</td></tr><tr><td title=\"awc-prod.42e61605-f158-49dd-9112-b4b1b230b13b.reclaimEnd\">awc-prod.42e61605-f158-49dd-9112-b4b1b230b13b.reclaimEnd</td><td><a href=\"https://www.amazon.com/gp/help/customer/display.html/ref=footer_privacy?ie=UTF8&amp;nodeId=468496\" target=\"_blank\" rel=\"noopener noreferrer nofollow\" title=\"Amazon's privacy policy\">Amazon</a></td><td title=\"Pending\">Pending</td><td title=\"Persistent\">Persistent</td><td title=\"HTML\">HTML</td></tr><tr><td title=\"awc-prod.42e61605-f158-49dd-9112-b4b1b230b13b.reclaimStart\">awc-prod.42e61605-f158-49dd-9112-b4b1b230b13b.reclaimStart</td><td><a href=\"https://www.amazon.com/gp/help/customer/display.html/ref=footer_privacy?ie=UTF8&amp;nodeId=468496\" target=\"_blank\" rel=\"noopener noreferrer nofollow\" title=\"Amazon's privacy policy\">Amazon</a></td><td title=\"Pending\">Pending</td><td title=\"Persistent\">Persistent</td><td title=\"HTML\">HTML</td></tr><tr><td title=\"awc-prod.54bb9422-db34-49bb-b2f9-4a1f66d58eae.ack\">awc-prod.54bb9422-db34-49bb-b2f9-4a1f66d58eae.ack</td><td><a href=\"https://www.amazon.com/gp/help/customer/display.html/ref=footer_privacy?ie=UTF8&amp;nodeId=468496\" target=\"_blank\" rel=\"noopener noreferrer nofollow\" title=\"Amazon's privacy policy\">Amazon</a></td><td title=\"Pending\">Pending</td><td title=\"Persistent\">Persistent</td><td title=\"HTML\">HTML</td></tr><tr><td title=\"awc-prod.54bb9422-db34-49bb-b2f9-4a1f66d58eae.inProgress\">awc-prod.54bb9422-db34-49bb-b2f9-4a1f66d58eae.inProgress</td><td><a href=\"https://www.amazon.com/gp/help/customer/display.html/ref=footer_privacy?ie=UTF8&amp;nodeId=468496\" target=\"_blank\" rel=\"noopener noreferrer nofollow\" title=\"Amazon's privacy policy\">Amazon</a></td><td title=\"Pending\">Pending</td><td title=\"Persistent\">Persistent</td><td title=\"HTML\">HTML</td></tr><tr><td title=\"awc-prod.54bb9422-db34-49bb-b2f9-4a1f66d58eae.queue\">awc-prod.54bb9422-db34-49bb-b2f9-4a1f66d58eae.queue</td><td><a href=\"https://www.amazon.com/gp/help/customer/display.html/ref=footer_privacy?ie=UTF8&amp;nodeId=468496\" target=\"_blank\" rel=\"noopener noreferrer nofollow\" title=\"Amazon's privacy policy\">Amazon</a></td><td title=\"Pending\">Pending</td><td title=\"Persistent\">Persistent</td><td title=\"HTML\">HTML</td></tr><tr><td title=\"awc-prod.54bb9422-db34-49bb-b2f9-4a1f66d58eae.reclaimEnd\">awc-prod.54bb9422-db34-49bb-b2f9-4a1f66d58eae.reclaimEnd</td><td><a href=\"https://www.amazon.com/gp/help/customer/display.html/ref=footer_privacy?ie=UTF8&amp;nodeId=468496\" target=\"_blank\" rel=\"noopener noreferrer nofollow\" title=\"Amazon's privacy policy\">Amazon</a></td><td title=\"Pending\">Pending</td><td title=\"Persistent\">Persistent</td><td title=\"HTML\">HTML</td></tr><tr><td title=\"awc-prod.54bb9422-db34-49bb-b2f9-4a1f66d58eae.reclaimStart\">awc-prod.54bb9422-db34-49bb-b2f9-4a1f66d58eae.reclaimStart</td><td><a href=\"https://www.amazon.com/gp/help/customer/display.html/ref=footer_privacy?ie=UTF8&amp;nodeId=468496\" target=\"_blank\" rel=\"noopener noreferrer nofollow\" title=\"Amazon's privacy policy\">Amazon</a></td><td title=\"Pending\">Pending</td><td title=\"Persistent\">Persistent</td><td title=\"HTML\">HTML</td></tr><tr><td title=\"awc-prod.55f578fa-9f39-414f-9fd1-bd6b874a3676.ack\">awc-prod.55f578fa-9f39-414f-9fd1-bd6b874a3676.ack</td><td><a href=\"https://www.stackpath.com/legal/privacy-statement/\" target=\"_blank\" rel=\"noopener noreferrer nofollow\" title=\"Stackpath's privacy policy\">Stackpath</a></td><td title=\"Pending\">Pending</td><td title=\"Persistent\">Persistent</td><td title=\"HTML\">HTML</td></tr><tr><td title=\"awc-prod.55f578fa-9f39-414f-9fd1-bd6b874a3676.inProgress\">awc-prod.55f578fa-9f39-414f-9fd1-bd6b874a3676.inProgress</td><td><a href=\"https://www.stackpath.com/legal/privacy-statement/\" target=\"_blank\" rel=\"noopener noreferrer nofollow\" title=\"Stackpath's privacy policy\">Stackpath</a></td><td title=\"Pending\">Pending</td><td title=\"Persistent\">Persistent</td><td title=\"HTML\">HTML</td></tr><tr><td title=\"awc-prod.55f578fa-9f39-414f-9fd1-bd6b874a3676.queue\">awc-prod.55f578fa-9f39-414f-9fd1-bd6b874a3676.queue</td><td><a href=\"https://www.stackpath.com/legal/privacy-statement/\" target=\"_blank\" rel=\"noopener noreferrer nofollow\" title=\"Stackpath's privacy policy\">Stackpath</a></td><td title=\"Pending\">Pending</td><td title=\"Persistent\">Persistent</td><td title=\"HTML\">HTML</td></tr><tr><td title=\"awc-prod.55f578fa-9f39-414f-9fd1-bd6b874a3676.reclaimEnd\">awc-prod.55f578fa-9f39-414f-9fd1-bd6b874a3676.reclaimEnd</td><td><a href=\"https://www.stackpath.com/legal/privacy-statement/\" target=\"_blank\" rel=\"noopener noreferrer nofollow\" title=\"Stackpath's privacy policy\">Stackpath</a></td><td title=\"Pending\">Pending</td><td title=\"Persistent\">Persistent</td><td title=\"HTML\">HTML</td></tr><tr><td title=\"awc-prod.55f578fa-9f39-414f-9fd1-bd6b874a3676.reclaimStart\">awc-prod.55f578fa-9f39-414f-9fd1-bd6b874a3676.reclaimStart</td><td><a href=\"https://www.stackpath.com/legal/privacy-statement/\" target=\"_blank\" rel=\"noopener noreferrer nofollow\" title=\"Stackpath's privacy policy\">Stackpath</a></td><td title=\"Pending\">Pending</td><td title=\"Persistent\">Persistent</td><td title=\"HTML\">HTML</td></tr><tr><td title=\"awc-prod.58f795b9-41f8-4c44-ac72-1dc2f7f6f1c5.ack\">awc-prod.58f795b9-41f8-4c44-ac72-1dc2f7f6f1c5.ack</td><td><a href=\"https://www.amazon.com/gp/help/customer/display.html/ref=footer_privacy?ie=UTF8&amp;nodeId=468496\" target=\"_blank\" rel=\"noopener noreferrer nofollow\" title=\"Amazon's privacy policy\">Amazon</a></td><td title=\"Pending\">Pending</td><td title=\"Persistent\">Persistent</td><td title=\"HTML\">HTML</td></tr><tr><td title=\"awc-prod.58f795b9-41f8-4c44-ac72-1dc2f7f6f1c5.inProgress\">awc-prod.58f795b9-41f8-4c44-ac72-1dc2f7f6f1c5.inProgress</td><td><a href=\"https://www.amazon.com/gp/help/customer/display.html/ref=footer_privacy?ie=UTF8&amp;nodeId=468496\" target=\"_blank\" rel=\"noopener noreferrer nofollow\" title=\"Amazon's privacy policy\">Amazon</a></td><td title=\"Pending\">Pending</td><td title=\"Persistent\">Persistent</td><td title=\"HTML\">HTML</td></tr><tr><td title=\"awc-prod.58f795b9-41f8-4c44-ac72-1dc2f7f6f1c5.queue\">awc-prod.58f795b9-41f8-4c44-ac72-1dc2f7f6f1c5.queue</td><td><a href=\"https://www.amazon.com/gp/help/customer/display.html/ref=footer_privacy?ie=UTF8&amp;nodeId=468496\" target=\"_blank\" rel=\"noopener noreferrer nofollow\" title=\"Amazon's privacy policy\">Amazon</a></td><td title=\"Pending\">Pending</td><td title=\"Persistent\">Persistent</td><td title=\"HTML\">HTML</td></tr><tr><td title=\"awc-prod.58f795b9-41f8-4c44-ac72-1dc2f7f6f1c5.reclaimEnd\">awc-prod.58f795b9-41f8-4c44-ac72-1dc2f7f6f1c5.reclaimEnd</td><td><a href=\"https://www.amazon.com/gp/help/customer/display.html/ref=footer_privacy?ie=UTF8&amp;nodeId=468496\" target=\"_blank\" rel=\"noopener noreferrer nofollow\" title=\"Amazon's privacy policy\">Amazon</a></td><td title=\"Pending\">Pending</td><td title=\"Persistent\">Persistent</td><td title=\"HTML\">HTML</td></tr><tr><td title=\"awc-prod.58f795b9-41f8-4c44-ac72-1dc2f7f6f1c5.reclaimStart\">awc-prod.58f795b9-41f8-4c44-ac72-1dc2f7f6f1c5.reclaimStart</td><td><a href=\"https://www.amazon.com/gp/help/customer/display.html/ref=footer_privacy?ie=UTF8&amp;nodeId=468496\" target=\"_blank\" rel=\"noopener noreferrer nofollow\" title=\"Amazon's privacy policy\">Amazon</a></td><td title=\"Pending\">Pending</td><td title=\"Persistent\">Persistent</td><td title=\"HTML\">HTML</td></tr><tr><td title=\"awc-prod.6677fc49-6526-4d2d-b6a6-ff82e046a603.ack\">awc-prod.6677fc49-6526-4d2d-b6a6-ff82e046a603.ack</td><td><a href=\"https://www.stackpath.com/legal/privacy-statement/\" target=\"_blank\" rel=\"noopener noreferrer nofollow\" title=\"Stackpath's privacy policy\">Stackpath</a></td><td title=\"Pending\">Pending</td><td title=\"Persistent\">Persistent</td><td title=\"HTML\">HTML</td></tr><tr><td title=\"awc-prod.6677fc49-6526-4d2d-b6a6-ff82e046a603.inProgress\">awc-prod.6677fc49-6526-4d2d-b6a6-ff82e046a603.inProgress</td><td><a href=\"https://www.stackpath.com/legal/privacy-statement/\" target=\"_blank\" rel=\"noopener noreferrer nofollow\" title=\"Stackpath's privacy policy\">Stackpath</a></td><td title=\"Pending\">Pending</td><td title=\"Persistent\">Persistent</td><td title=\"HTML\">HTML</td></tr><tr><td title=\"awc-prod.6677fc49-6526-4d2d-b6a6-ff82e046a603.queue\">awc-prod.6677fc49-6526-4d2d-b6a6-ff82e046a603.queue</td><td><a href=\"https://www.stackpath.com/legal/privacy-statement/\" target=\"_blank\" rel=\"noopener noreferrer nofollow\" title=\"Stackpath's privacy policy\">Stackpath</a></td><td title=\"Pending\">Pending</td><td title=\"Persistent\">Persistent</td><td title=\"HTML\">HTML</td></tr><tr><td title=\"awc-prod.6677fc49-6526-4d2d-b6a6-ff82e046a603.reclaimEnd\">awc-prod.6677fc49-6526-4d2d-b6a6-ff82e046a603.reclaimEnd</td><td><a href=\"https://www.stackpath.com/legal/privacy-statement/\" target=\"_blank\" rel=\"noopener noreferrer nofollow\" title=\"Stackpath's privacy policy\">Stackpath</a></td><td title=\"Pending\">Pending</td><td title=\"Persistent\">Persistent</td><td title=\"HTML\">HTML</td></tr><tr><td title=\"awc-prod.6677fc49-6526-4d2d-b6a6-ff82e046a603.reclaimStart\">awc-prod.6677fc49-6526-4d2d-b6a6-ff82e046a603.reclaimStart</td><td><a href=\"https://www.stackpath.com/legal/privacy-statement/\" target=\"_blank\" rel=\"noopener noreferrer nofollow\" title=\"Stackpath's privacy policy\">Stackpath</a></td><td title=\"Pending\">Pending</td><td title=\"Persistent\">Persistent</td><td title=\"HTML\">HTML</td></tr><tr><td title=\"awc-prod.78c821f8-5c32-4917-b74e-6c78595b97fe.ack\">awc-prod.78c821f8-5c32-4917-b74e-6c78595b97fe.ack</td><td><a href=\"https://www.amazon.com/gp/help/customer/display.html/ref=footer_privacy?ie=UTF8&amp;nodeId=468496\" target=\"_blank\" rel=\"noopener noreferrer nofollow\" title=\"Amazon's privacy policy\">Amazon</a></td><td title=\"Pending\">Pending</td><td title=\"Persistent\">Persistent</td><td title=\"HTML\">HTML</td></tr><tr><td title=\"awc-prod.78c821f8-5c32-4917-b74e-6c78595b97fe.inProgress\">awc-prod.78c821f8-5c32-4917-b74e-6c78595b97fe.inProgress</td><td><a href=\"https://www.amazon.com/gp/help/customer/display.html/ref=footer_privacy?ie=UTF8&amp;nodeId=468496\" target=\"_blank\" rel=\"noopener noreferrer nofollow\" title=\"Amazon's privacy policy\">Amazon</a></td><td title=\"Pending\">Pending</td><td title=\"Persistent\">Persistent</td><td title=\"HTML\">HTML</td></tr><tr><td title=\"awc-prod.78c821f8-5c32-4917-b74e-6c78595b97fe.queue\">awc-prod.78c821f8-5c32-4917-b74e-6c78595b97fe.queue</td><td><a href=\"https://www.amazon.com/gp/help/customer/display.html/ref=footer_privacy?ie=UTF8&amp;nodeId=468496\" target=\"_blank\" rel=\"noopener noreferrer nofollow\" title=\"Amazon's privacy policy\">Amazon</a></td><td title=\"Pending\">Pending</td><td title=\"Persistent\">Persistent</td><td title=\"HTML\">HTML</td></tr><tr><td title=\"awc-prod.78c821f8-5c32-4917-b74e-6c78595b97fe.reclaimEnd\">awc-prod.78c821f8-5c32-4917-b74e-6c78595b97fe.reclaimEnd</td><td><a href=\"https://www.amazon.com/gp/help/customer/display.html/ref=footer_privacy?ie=UTF8&amp;nodeId=468496\" target=\"_blank\" rel=\"noopener noreferrer nofollow\" title=\"Amazon's privacy policy\">Amazon</a></td><td title=\"Pending\">Pending</td><td title=\"Persistent\">Persistent</td><td title=\"HTML\">HTML</td></tr><tr><td title=\"awc-prod.78c821f8-5c32-4917-b74e-6c78595b97fe.reclaimStart\">awc-prod.78c821f8-5c32-4917-b74e-6c78595b97fe.reclaimStart</td><td><a href=\"https://www.amazon.com/gp/help/customer/display.html/ref=footer_privacy?ie=UTF8&amp;nodeId=468496\" target=\"_blank\" rel=\"noopener noreferrer nofollow\" title=\"Amazon's privacy policy\">Amazon</a></td><td title=\"Pending\">Pending</td><td title=\"Persistent\">Persistent</td><td title=\"HTML\">HTML</td></tr><tr><td title=\"awc-prod.863f27fd-60f9-4b0b-9994-a38918849f7f.ack\">awc-prod.863f27fd-60f9-4b0b-9994-a38918849f7f.ack</td><td><a href=\"https://www.amazon.com/gp/help/customer/display.html/ref=footer_privacy?ie=UTF8&amp;nodeId=468496\" target=\"_blank\" rel=\"noopener noreferrer nofollow\" title=\"Amazon's privacy policy\">Amazon</a></td><td title=\"Pending\">Pending</td><td title=\"Persistent\">Persistent</td><td title=\"HTML\">HTML</td></tr><tr><td title=\"awc-prod.863f27fd-60f9-4b0b-9994-a38918849f7f.inProgress\">awc-prod.863f27fd-60f9-4b0b-9994-a38918849f7f.inProgress</td><td><a href=\"https://www.amazon.com/gp/help/customer/display.html/ref=footer_privacy?ie=UTF8&amp;nodeId=468496\" target=\"_blank\" rel=\"noopener noreferrer nofollow\" title=\"Amazon's privacy policy\">Amazon</a></td><td title=\"Pending\">Pending</td><td title=\"Persistent\">Persistent</td><td title=\"HTML\">HTML</td></tr><tr><td title=\"awc-prod.863f27fd-60f9-4b0b-9994-a38918849f7f.queue\">awc-prod.863f27fd-60f9-4b0b-9994-a38918849f7f.queue</td><td><a href=\"https://www.amazon.com/gp/help/customer/display.html/ref=footer_privacy?ie=UTF8&amp;nodeId=468496\" target=\"_blank\" rel=\"noopener noreferrer nofollow\" title=\"Amazon's privacy policy\">Amazon</a></td><td title=\"Pending\">Pending</td><td title=\"Persistent\">Persistent</td><td title=\"HTML\">HTML</td></tr><tr><td title=\"awc-prod.863f27fd-60f9-4b0b-9994-a38918849f7f.reclaimEnd\">awc-prod.863f27fd-60f9-4b0b-9994-a38918849f7f.reclaimEnd</td><td><a href=\"https://www.amazon.com/gp/help/customer/display.html/ref=footer_privacy?ie=UTF8&amp;nodeId=468496\" target=\"_blank\" rel=\"noopener noreferrer nofollow\" title=\"Amazon's privacy policy\">Amazon</a></td><td title=\"Pending\">Pending</td><td title=\"Persistent\">Persistent</td><td title=\"HTML\">HTML</td></tr><tr><td title=\"awc-prod.863f27fd-60f9-4b0b-9994-a38918849f7f.reclaimStart\">awc-prod.863f27fd-60f9-4b0b-9994-a38918849f7f.reclaimStart</td><td><a href=\"https://www.amazon.com/gp/help/customer/display.html/ref=footer_privacy?ie=UTF8&amp;nodeId=468496\" target=\"_blank\" rel=\"noopener noreferrer nofollow\" title=\"Amazon's privacy policy\">Amazon</a></td><td title=\"Pending\">Pending</td><td title=\"Persistent\">Persistent</td><td title=\"HTML\">HTML</td></tr><tr><td title=\"awc-prod.87ef42c1-03de-44d5-b797-5d6c5388c846.ack\">awc-prod.87ef42c1-03de-44d5-b797-5d6c5388c846.ack</td><td><a href=\"https://www.stackpath.com/legal/privacy-statement/\" target=\"_blank\" rel=\"noopener noreferrer nofollow\" title=\"Stackpath's privacy policy\">Stackpath</a></td><td title=\"Pending\">Pending</td><td title=\"Persistent\">Persistent</td><td title=\"HTML\">HTML</td></tr><tr><td title=\"awc-prod.87ef42c1-03de-44d5-b797-5d6c5388c846.inProgress\">awc-prod.87ef42c1-03de-44d5-b797-5d6c5388c846.inProgress</td><td><a href=\"https://www.stackpath.com/legal/privacy-statement/\" target=\"_blank\" rel=\"noopener noreferrer nofollow\" title=\"Stackpath's privacy policy\">Stackpath</a></td><td title=\"Pending\">Pending</td><td title=\"Persistent\">Persistent</td><td title=\"HTML\">HTML</td></tr><tr><td title=\"awc-prod.87ef42c1-03de-44d5-b797-5d6c5388c846.queue\">awc-prod.87ef42c1-03de-44d5-b797-5d6c5388c846.queue</td><td><a href=\"https://www.stackpath.com/legal/privacy-statement/\" target=\"_blank\" rel=\"noopener noreferrer nofollow\" title=\"Stackpath's privacy policy\">Stackpath</a></td><td title=\"Pending\">Pending</td><td title=\"Persistent\">Persistent</td><td title=\"HTML\">HTML</td></tr><tr><td title=\"awc-prod.87ef42c1-03de-44d5-b797-5d6c5388c846.reclaimEnd\">awc-prod.87ef42c1-03de-44d5-b797-5d6c5388c846.reclaimEnd</td><td><a href=\"https://www.stackpath.com/legal/privacy-statement/\" target=\"_blank\" rel=\"noopener noreferrer nofollow\" title=\"Stackpath's privacy policy\">Stackpath</a></td><td title=\"Pending\">Pending</td><td title=\"Persistent\">Persistent</td><td title=\"HTML\">HTML</td></tr><tr><td title=\"awc-prod.87ef42c1-03de-44d5-b797-5d6c5388c846.reclaimStart\">awc-prod.87ef42c1-03de-44d5-b797-5d6c5388c846.reclaimStart</td><td><a href=\"https://www.stackpath.com/legal/privacy-statement/\" target=\"_blank\" rel=\"noopener noreferrer nofollow\" title=\"Stackpath's privacy policy\">Stackpath</a></td><td title=\"Pending\">Pending</td><td title=\"Persistent\">Persistent</td><td title=\"HTML\">HTML</td></tr><tr><td title=\"awc-prod.9423ceba-d141-4c71-ab58-9e087353e2ba.ack\">awc-prod.9423ceba-d141-4c71-ab58-9e087353e2ba.ack</td><td><a href=\"https://www.amazon.com/gp/help/customer/display.html/ref=footer_privacy?ie=UTF8&amp;nodeId=468496\" target=\"_blank\" rel=\"noopener noreferrer nofollow\" title=\"Amazon's privacy policy\">Amazon</a></td><td title=\"Pending\">Pending</td><td title=\"Persistent\">Persistent</td><td title=\"HTML\">HTML</td></tr><tr><td title=\"awc-prod.9423ceba-d141-4c71-ab58-9e087353e2ba.inProgress\">awc-prod.9423ceba-d141-4c71-ab58-9e087353e2ba.inProgress</td><td><a href=\"https://www.amazon.com/gp/help/customer/display.html/ref=footer_privacy?ie=UTF8&amp;nodeId=468496\" target=\"_blank\" rel=\"noopener noreferrer nofollow\" title=\"Amazon's privacy policy\">Amazon</a></td><td title=\"Pending\">Pending</td><td title=\"Persistent\">Persistent</td><td title=\"HTML\">HTML</td></tr><tr><td title=\"awc-prod.9423ceba-d141-4c71-ab58-9e087353e2ba.queue\">awc-prod.9423ceba-d141-4c71-ab58-9e087353e2ba.queue</td><td><a href=\"https://www.amazon.com/gp/help/customer/display.html/ref=footer_privacy?ie=UTF8&amp;nodeId=468496\" target=\"_blank\" rel=\"noopener noreferrer nofollow\" title=\"Amazon's privacy policy\">Amazon</a></td><td title=\"Pending\">Pending</td><td title=\"Persistent\">Persistent</td><td title=\"HTML\">HTML</td></tr><tr><td title=\"awc-prod.9423ceba-d141-4c71-ab58-9e087353e2ba.reclaimEnd\">awc-prod.9423ceba-d141-4c71-ab58-9e087353e2ba.reclaimEnd</td><td><a href=\"https://www.amazon.com/gp/help/customer/display.html/ref=footer_privacy?ie=UTF8&amp;nodeId=468496\" target=\"_blank\" rel=\"noopener noreferrer nofollow\" title=\"Amazon's privacy policy\">Amazon</a></td><td title=\"Pending\">Pending</td><td title=\"Persistent\">Persistent</td><td title=\"HTML\">HTML</td></tr><tr><td title=\"awc-prod.9423ceba-d141-4c71-ab58-9e087353e2ba.reclaimStart\">awc-prod.9423ceba-d141-4c71-ab58-9e087353e2ba.reclaimStart</td><td><a href=\"https://www.amazon.com/gp/help/customer/display.html/ref=footer_privacy?ie=UTF8&amp;nodeId=468496\" target=\"_blank\" rel=\"noopener noreferrer nofollow\" title=\"Amazon's privacy policy\">Amazon</a></td><td title=\"Pending\">Pending</td><td title=\"Persistent\">Persistent</td><td title=\"HTML\">HTML</td></tr><tr><td title=\"awc-prod.964c37d0-846f-4ccb-954e-8eafc8256e31.ack\">awc-prod.964c37d0-846f-4ccb-954e-8eafc8256e31.ack</td><td><a href=\"https://www.stackpath.com/legal/privacy-statement/\" target=\"_blank\" rel=\"noopener noreferrer nofollow\" title=\"Stackpath's privacy policy\">Stackpath</a></td><td title=\"Pending\">Pending</td><td title=\"Persistent\">Persistent</td><td title=\"HTML\">HTML</td></tr><tr><td title=\"awc-prod.964c37d0-846f-4ccb-954e-8eafc8256e31.inProgress\">awc-prod.964c37d0-846f-4ccb-954e-8eafc8256e31.inProgress</td><td><a href=\"https://www.stackpath.com/legal/privacy-statement/\" target=\"_blank\" rel=\"noopener noreferrer nofollow\" title=\"Stackpath's privacy policy\">Stackpath</a></td><td title=\"Pending\">Pending</td><td title=\"Persistent\">Persistent</td><td title=\"HTML\">HTML</td></tr><tr><td title=\"awc-prod.964c37d0-846f-4ccb-954e-8eafc8256e31.queue\">awc-prod.964c37d0-846f-4ccb-954e-8eafc8256e31.queue</td><td><a href=\"https://www.stackpath.com/legal/privacy-statement/\" target=\"_blank\" rel=\"noopener noreferrer nofollow\" title=\"Stackpath's privacy policy\">Stackpath</a></td><td title=\"Pending\">Pending</td><td title=\"Persistent\">Persistent</td><td title=\"HTML\">HTML</td></tr><tr><td title=\"awc-prod.964c37d0-846f-4ccb-954e-8eafc8256e31.reclaimEnd\">awc-prod.964c37d0-846f-4ccb-954e-8eafc8256e31.reclaimEnd</td><td><a href=\"https://www.stackpath.com/legal/privacy-statement/\" target=\"_blank\" rel=\"noopener noreferrer nofollow\" title=\"Stackpath's privacy policy\">Stackpath</a></td><td title=\"Pending\">Pending</td><td title=\"Persistent\">Persistent</td><td title=\"HTML\">HTML</td></tr><tr><td title=\"awc-prod.964c37d0-846f-4ccb-954e-8eafc8256e31.reclaimStart\">awc-prod.964c37d0-846f-4ccb-954e-8eafc8256e31.reclaimStart</td><td><a href=\"https://www.stackpath.com/legal/privacy-statement/\" target=\"_blank\" rel=\"noopener noreferrer nofollow\" title=\"Stackpath's privacy policy\">Stackpath</a></td><td title=\"Pending\">Pending</td><td title=\"Persistent\">Persistent</td><td title=\"HTML\">HTML</td></tr><tr><td title=\"awc-prod.9739666a-0be6-4df9-a4bc-f2b32cdea2c9.ack\">awc-prod.9739666a-0be6-4df9-a4bc-f2b32cdea2c9.ack</td><td><a href=\"https://www.stackpath.com/legal/privacy-statement/\" target=\"_blank\" rel=\"noopener noreferrer nofollow\" title=\"Stackpath's privacy policy\">Stackpath</a></td><td title=\"Pending\">Pending</td><td title=\"Persistent\">Persistent</td><td title=\"HTML\">HTML</td></tr><tr><td title=\"awc-prod.9739666a-0be6-4df9-a4bc-f2b32cdea2c9.inProgress\">awc-prod.9739666a-0be6-4df9-a4bc-f2b32cdea2c9.inProgress</td><td><a href=\"https://www.stackpath.com/legal/privacy-statement/\" target=\"_blank\" rel=\"noopener noreferrer nofollow\" title=\"Stackpath's privacy policy\">Stackpath</a></td><td title=\"Pending\">Pending</td><td title=\"Persistent\">Persistent</td><td title=\"HTML\">HTML</td></tr><tr><td title=\"awc-prod.9739666a-0be6-4df9-a4bc-f2b32cdea2c9.queue\">awc-prod.9739666a-0be6-4df9-a4bc-f2b32cdea2c9.queue</td><td><a href=\"https://www.stackpath.com/legal/privacy-statement/\" target=\"_blank\" rel=\"noopener noreferrer nofollow\" title=\"Stackpath's privacy policy\">Stackpath</a></td><td title=\"Pending\">Pending</td><td title=\"Persistent\">Persistent</td><td title=\"HTML\">HTML</td></tr><tr><td title=\"awc-prod.9739666a-0be6-4df9-a4bc-f2b32cdea2c9.reclaimEnd\">awc-prod.9739666a-0be6-4df9-a4bc-f2b32cdea2c9.reclaimEnd</td><td><a href=\"https://www.stackpath.com/legal/privacy-statement/\" target=\"_blank\" rel=\"noopener noreferrer nofollow\" title=\"Stackpath's privacy policy\">Stackpath</a></td><td title=\"Pending\">Pending</td><td title=\"Persistent\">Persistent</td><td title=\"HTML\">HTML</td></tr><tr><td title=\"awc-prod.9739666a-0be6-4df9-a4bc-f2b32cdea2c9.reclaimStart\">awc-prod.9739666a-0be6-4df9-a4bc-f2b32cdea2c9.reclaimStart</td><td><a href=\"https://www.stackpath.com/legal/privacy-statement/\" target=\"_blank\" rel=\"noopener noreferrer nofollow\" title=\"Stackpath's privacy policy\">Stackpath</a></td><td title=\"Pending\">Pending</td><td title=\"Persistent\">Persistent</td><td title=\"HTML\">HTML</td></tr><tr><td title=\"awc-prod.9a805e59-6470-4298-8a11-d4009b70944a.ack\">awc-prod.9a805e59-6470-4298-8a11-d4009b70944a.ack</td><td><a href=\"https://www.amazon.com/gp/help/customer/display.html/ref=footer_privacy?ie=UTF8&amp;nodeId=468496\" target=\"_blank\" rel=\"noopener noreferrer nofollow\" title=\"Amazon's privacy policy\">Amazon</a></td><td title=\"Pending\">Pending</td><td title=\"Persistent\">Persistent</td><td title=\"HTML\">HTML</td></tr><tr><td title=\"awc-prod.9a805e59-6470-4298-8a11-d4009b70944a.inProgress\">awc-prod.9a805e59-6470-4298-8a11-d4009b70944a.inProgress</td><td><a href=\"https://www.amazon.com/gp/help/customer/display.html/ref=footer_privacy?ie=UTF8&amp;nodeId=468496\" target=\"_blank\" rel=\"noopener noreferrer nofollow\" title=\"Amazon's privacy policy\">Amazon</a></td><td title=\"Pending\">Pending</td><td title=\"Persistent\">Persistent</td><td title=\"HTML\">HTML</td></tr><tr><td title=\"awc-prod.9a805e59-6470-4298-8a11-d4009b70944a.queue\">awc-prod.9a805e59-6470-4298-8a11-d4009b70944a.queue</td><td><a href=\"https://www.amazon.com/gp/help/customer/display.html/ref=footer_privacy?ie=UTF8&amp;nodeId=468496\" target=\"_blank\" rel=\"noopener noreferrer nofollow\" title=\"Amazon's privacy policy\">Amazon</a></td><td title=\"Pending\">Pending</td><td title=\"Persistent\">Persistent</td><td title=\"HTML\">HTML</td></tr><tr><td title=\"awc-prod.9a805e59-6470-4298-8a11-d4009b70944a.reclaimEnd\">awc-prod.9a805e59-6470-4298-8a11-d4009b70944a.reclaimEnd</td><td><a href=\"https://www.amazon.com/gp/help/customer/display.html/ref=footer_privacy?ie=UTF8&amp;nodeId=468496\" target=\"_blank\" rel=\"noopener noreferrer nofollow\" title=\"Amazon's privacy policy\">Amazon</a></td><td title=\"Pending\">Pending</td><td title=\"Persistent\">Persistent</td><td title=\"HTML\">HTML</td></tr><tr><td title=\"awc-prod.9a805e59-6470-4298-8a11-d4009b70944a.reclaimStart\">awc-prod.9a805e59-6470-4298-8a11-d4009b70944a.reclaimStart</td><td><a href=\"https://www.amazon.com/gp/help/customer/display.html/ref=footer_privacy?ie=UTF8&amp;nodeId=468496\" target=\"_blank\" rel=\"noopener noreferrer nofollow\" title=\"Amazon's privacy policy\">Amazon</a></td><td title=\"Pending\">Pending</td><td title=\"Persistent\">Persistent</td><td title=\"HTML\">HTML</td></tr><tr><td title=\"awc-prod.a05a2fa8-8b81-48b9-8024-5069ecdf1625.ack\">awc-prod.a05a2fa8-8b81-48b9-8024-5069ecdf1625.ack</td><td><a href=\"https://www.stackpath.com/legal/privacy-statement/\" target=\"_blank\" rel=\"noopener noreferrer nofollow\" title=\"Stackpath's privacy policy\">Stackpath</a></td><td title=\"Pending\">Pending</td><td title=\"Persistent\">Persistent</td><td title=\"HTML\">HTML</td></tr><tr><td title=\"awc-prod.a05a2fa8-8b81-48b9-8024-5069ecdf1625.inProgress\">awc-prod.a05a2fa8-8b81-48b9-8024-5069ecdf1625.inProgress</td><td><a href=\"https://www.stackpath.com/legal/privacy-statement/\" target=\"_blank\" rel=\"noopener noreferrer nofollow\" title=\"Stackpath's privacy policy\">Stackpath</a></td><td title=\"Pending\">Pending</td><td title=\"Persistent\">Persistent</td><td title=\"HTML\">HTML</td></tr><tr><td title=\"awc-prod.a05a2fa8-8b81-48b9-8024-5069ecdf1625.queue\">awc-prod.a05a2fa8-8b81-48b9-8024-5069ecdf1625.queue</td><td><a href=\"https://www.stackpath.com/legal/privacy-statement/\" target=\"_blank\" rel=\"noopener noreferrer nofollow\" title=\"Stackpath's privacy policy\">Stackpath</a></td><td title=\"Pending\">Pending</td><td title=\"Persistent\">Persistent</td><td title=\"HTML\">HTML</td></tr><tr><td title=\"awc-prod.a05a2fa8-8b81-48b9-8024-5069ecdf1625.reclaimEnd\">awc-prod.a05a2fa8-8b81-48b9-8024-5069ecdf1625.reclaimEnd</td><td><a href=\"https://www.stackpath.com/legal/privacy-statement/\" target=\"_blank\" rel=\"noopener noreferrer nofollow\" title=\"Stackpath's privacy policy\">Stackpath</a></td><td title=\"Pending\">Pending</td><td title=\"Persistent\">Persistent</td><td title=\"HTML\">HTML</td></tr><tr><td title=\"awc-prod.a05a2fa8-8b81-48b9-8024-5069ecdf1625.reclaimStart\">awc-prod.a05a2fa8-8b81-48b9-8024-5069ecdf1625.reclaimStart</td><td><a href=\"https://www.stackpath.com/legal/privacy-statement/\" target=\"_blank\" rel=\"noopener noreferrer nofollow\" title=\"Stackpath's privacy policy\">Stackpath</a></td><td title=\"Pending\">Pending</td><td title=\"Persistent\">Persistent</td><td title=\"HTML\">HTML</td></tr><tr><td title=\"awc-prod.a4b6fdc6-48be-4395-ab3d-c7c9458df317.ack\">awc-prod.a4b6fdc6-48be-4395-ab3d-c7c9458df317.ack</td><td><a href=\"https://www.stackpath.com/legal/privacy-statement/\" target=\"_blank\" rel=\"noopener noreferrer nofollow\" title=\"Stackpath's privacy policy\">Stackpath</a></td><td title=\"Pending\">Pending</td><td title=\"Persistent\">Persistent</td><td title=\"HTML\">HTML</td></tr><tr><td title=\"awc-prod.a4b6fdc6-48be-4395-ab3d-c7c9458df317.inProgress\">awc-prod.a4b6fdc6-48be-4395-ab3d-c7c9458df317.inProgress</td><td><a href=\"https://www.stackpath.com/legal/privacy-statement/\" target=\"_blank\" rel=\"noopener noreferrer nofollow\" title=\"Stackpath's privacy policy\">Stackpath</a></td><td title=\"Pending\">Pending</td><td title=\"Persistent\">Persistent</td><td title=\"HTML\">HTML</td></tr><tr><td title=\"awc-prod.a4b6fdc6-48be-4395-ab3d-c7c9458df317.queue\">awc-prod.a4b6fdc6-48be-4395-ab3d-c7c9458df317.queue</td><td><a href=\"https://www.stackpath.com/legal/privacy-statement/\" target=\"_blank\" rel=\"noopener noreferrer nofollow\" title=\"Stackpath's privacy policy\">Stackpath</a></td><td title=\"Pending\">Pending</td><td title=\"Persistent\">Persistent</td><td title=\"HTML\">HTML</td></tr><tr><td title=\"awc-prod.a4b6fdc6-48be-4395-ab3d-c7c9458df317.reclaimEnd\">awc-prod.a4b6fdc6-48be-4395-ab3d-c7c9458df317.reclaimEnd</td><td><a href=\"https://www.stackpath.com/legal/privacy-statement/\" target=\"_blank\" rel=\"noopener noreferrer nofollow\" title=\"Stackpath's privacy policy\">Stackpath</a></td><td title=\"Pending\">Pending</td><td title=\"Persistent\">Persistent</td><td title=\"HTML\">HTML</td></tr><tr><td title=\"awc-prod.a4b6fdc6-48be-4395-ab3d-c7c9458df317.reclaimStart\">awc-prod.a4b6fdc6-48be-4395-ab3d-c7c9458df317.reclaimStart</td><td><a href=\"https://www.stackpath.com/legal/privacy-statement/\" target=\"_blank\" rel=\"noopener noreferrer nofollow\" title=\"Stackpath's privacy policy\">Stackpath</a></td><td title=\"Pending\">Pending</td><td title=\"Persistent\">Persistent</td><td title=\"HTML\">HTML</td></tr><tr><td title=\"awc-prod.a61d6839-f33b-49bc-a3a0-4dd6145497c1.ack\">awc-prod.a61d6839-f33b-49bc-a3a0-4dd6145497c1.ack</td><td><a href=\"https://www.stackpath.com/legal/privacy-statement/\" target=\"_blank\" rel=\"noopener noreferrer nofollow\" title=\"Stackpath's privacy policy\">Stackpath</a></td><td title=\"Pending\">Pending</td><td title=\"Persistent\">Persistent</td><td title=\"HTML\">HTML</td></tr><tr><td title=\"awc-prod.a61d6839-f33b-49bc-a3a0-4dd6145497c1.inProgress\">awc-prod.a61d6839-f33b-49bc-a3a0-4dd6145497c1.inProgress</td><td><a href=\"https://www.stackpath.com/legal/privacy-statement/\" target=\"_blank\" rel=\"noopener noreferrer nofollow\" title=\"Stackpath's privacy policy\">Stackpath</a></td><td title=\"Pending\">Pending</td><td title=\"Persistent\">Persistent</td><td title=\"HTML\">HTML</td></tr><tr><td title=\"awc-prod.a61d6839-f33b-49bc-a3a0-4dd6145497c1.queue\">awc-prod.a61d6839-f33b-49bc-a3a0-4dd6145497c1.queue</td><td><a href=\"https://www.stackpath.com/legal/privacy-statement/\" target=\"_blank\" rel=\"noopener noreferrer nofollow\" title=\"Stackpath's privacy policy\">Stackpath</a></td><td title=\"Pending\">Pending</td><td title=\"Persistent\">Persistent</td><td title=\"HTML\">HTML</td></tr><tr><td title=\"awc-prod.a61d6839-f33b-49bc-a3a0-4dd6145497c1.reclaimEnd\">awc-prod.a61d6839-f33b-49bc-a3a0-4dd6145497c1.reclaimEnd</td><td><a href=\"https://www.stackpath.com/legal/privacy-statement/\" target=\"_blank\" rel=\"noopener noreferrer nofollow\" title=\"Stackpath's privacy policy\">Stackpath</a></td><td title=\"Pending\">Pending</td><td title=\"Persistent\">Persistent</td><td title=\"HTML\">HTML</td></tr><tr><td title=\"awc-prod.a61d6839-f33b-49bc-a3a0-4dd6145497c1.reclaimStart\">awc-prod.a61d6839-f33b-49bc-a3a0-4dd6145497c1.reclaimStart</td><td><a href=\"https://www.stackpath.com/legal/privacy-statement/\" target=\"_blank\" rel=\"noopener noreferrer nofollow\" title=\"Stackpath's privacy policy\">Stackpath</a></td><td title=\"Pending\">Pending</td><td title=\"Persistent\">Persistent</td><td title=\"HTML\">HTML</td></tr><tr><td title=\"awc-prod.a819ec5f-d9c2-47fb-90d3-0ba916ab4a88.ack\">awc-prod.a819ec5f-d9c2-47fb-90d3-0ba916ab4a88.ack</td><td><a href=\"https://www.stackpath.com/legal/privacy-statement/\" target=\"_blank\" rel=\"noopener noreferrer nofollow\" title=\"Stackpath's privacy policy\">Stackpath</a></td><td title=\"Pending\">Pending</td><td title=\"Persistent\">Persistent</td><td title=\"HTML\">HTML</td></tr><tr><td title=\"awc-prod.a819ec5f-d9c2-47fb-90d3-0ba916ab4a88.inProgress\">awc-prod.a819ec5f-d9c2-47fb-90d3-0ba916ab4a88.inProgress</td><td><a href=\"https://www.stackpath.com/legal/privacy-statement/\" target=\"_blank\" rel=\"noopener noreferrer nofollow\" title=\"Stackpath's privacy policy\">Stackpath</a></td><td title=\"Pending\">Pending</td><td title=\"Persistent\">Persistent</td><td title=\"HTML\">HTML</td></tr><tr><td title=\"awc-prod.a819ec5f-d9c2-47fb-90d3-0ba916ab4a88.queue\">awc-prod.a819ec5f-d9c2-47fb-90d3-0ba916ab4a88.queue</td><td><a href=\"https://www.stackpath.com/legal/privacy-statement/\" target=\"_blank\" rel=\"noopener noreferrer nofollow\" title=\"Stackpath's privacy policy\">Stackpath</a></td><td title=\"Pending\">Pending</td><td title=\"Persistent\">Persistent</td><td title=\"HTML\">HTML</td></tr><tr><td title=\"awc-prod.a819ec5f-d9c2-47fb-90d3-0ba916ab4a88.reclaimEnd\">awc-prod.a819ec5f-d9c2-47fb-90d3-0ba916ab4a88.reclaimEnd</td><td><a href=\"https://www.stackpath.com/legal/privacy-statement/\" target=\"_blank\" rel=\"noopener noreferrer nofollow\" title=\"Stackpath's privacy policy\">Stackpath</a></td><td title=\"Pending\">Pending</td><td title=\"Persistent\">Persistent</td><td title=\"HTML\">HTML</td></tr><tr><td title=\"awc-prod.a819ec5f-d9c2-47fb-90d3-0ba916ab4a88.reclaimStart\">awc-prod.a819ec5f-d9c2-47fb-90d3-0ba916ab4a88.reclaimStart</td><td><a href=\"https://www.stackpath.com/legal/privacy-statement/\" target=\"_blank\" rel=\"noopener noreferrer nofollow\" title=\"Stackpath's privacy policy\">Stackpath</a></td><td title=\"Pending\">Pending</td><td title=\"Persistent\">Persistent</td><td title=\"HTML\">HTML</td></tr><tr><td title=\"awc-prod.b6e13a81-192b-4854-9c39-31cc3568ea10.ack\">awc-prod.b6e13a81-192b-4854-9c39-31cc3568ea10.ack</td><td><a href=\"https://www.stackpath.com/legal/privacy-statement/\" target=\"_blank\" rel=\"noopener noreferrer nofollow\" title=\"Stackpath's privacy policy\">Stackpath</a></td><td title=\"Pending\">Pending</td><td title=\"Persistent\">Persistent</td><td title=\"HTML\">HTML</td></tr><tr><td title=\"awc-prod.b6e13a81-192b-4854-9c39-31cc3568ea10.inProgress\">awc-prod.b6e13a81-192b-4854-9c39-31cc3568ea10.inProgress</td><td><a href=\"https://www.stackpath.com/legal/privacy-statement/\" target=\"_blank\" rel=\"noopener noreferrer nofollow\" title=\"Stackpath's privacy policy\">Stackpath</a></td><td title=\"Pending\">Pending</td><td title=\"Persistent\">Persistent</td><td title=\"HTML\">HTML</td></tr><tr><td title=\"awc-prod.b6e13a81-192b-4854-9c39-31cc3568ea10.queue\">awc-prod.b6e13a81-192b-4854-9c39-31cc3568ea10.queue</td><td><a href=\"https://www.stackpath.com/legal/privacy-statement/\" target=\"_blank\" rel=\"noopener noreferrer nofollow\" title=\"Stackpath's privacy policy\">Stackpath</a></td><td title=\"Pending\">Pending</td><td title=\"Persistent\">Persistent</td><td title=\"HTML\">HTML</td></tr><tr><td title=\"awc-prod.b6e13a81-192b-4854-9c39-31cc3568ea10.reclaimEnd\">awc-prod.b6e13a81-192b-4854-9c39-31cc3568ea10.reclaimEnd</td><td><a href=\"https://www.stackpath.com/legal/privacy-statement/\" target=\"_blank\" rel=\"noopener noreferrer nofollow\" title=\"Stackpath's privacy policy\">Stackpath</a></td><td title=\"Pending\">Pending</td><td title=\"Persistent\">Persistent</td><td title=\"HTML\">HTML</td></tr><tr><td title=\"awc-prod.b6e13a81-192b-4854-9c39-31cc3568ea10.reclaimStart\">awc-prod.b6e13a81-192b-4854-9c39-31cc3568ea10.reclaimStart</td><td><a href=\"https://www.stackpath.com/legal/privacy-statement/\" target=\"_blank\" rel=\"noopener noreferrer nofollow\" title=\"Stackpath's privacy policy\">Stackpath</a></td><td title=\"Pending\">Pending</td><td title=\"Persistent\">Persistent</td><td title=\"HTML\">HTML</td></tr><tr><td title=\"awc-prod.b88a3148-9a10-489d-ab5b-0708c8be9b6b.ack\">awc-prod.b88a3148-9a10-489d-ab5b-0708c8be9b6b.ack</td><td><a href=\"https://www.stackpath.com/legal/privacy-statement/\" target=\"_blank\" rel=\"noopener noreferrer nofollow\" title=\"Stackpath's privacy policy\">Stackpath</a></td><td title=\"Pending\">Pending</td><td title=\"Persistent\">Persistent</td><td title=\"HTML\">HTML</td></tr><tr><td title=\"awc-prod.b88a3148-9a10-489d-ab5b-0708c8be9b6b.inProgress\">awc-prod.b88a3148-9a10-489d-ab5b-0708c8be9b6b.inProgress</td><td><a href=\"https://www.stackpath.com/legal/privacy-statement/\" target=\"_blank\" rel=\"noopener noreferrer nofollow\" title=\"Stackpath's privacy policy\">Stackpath</a></td><td title=\"Pending\">Pending</td><td title=\"Persistent\">Persistent</td><td title=\"HTML\">HTML</td></tr><tr><td title=\"awc-prod.b88a3148-9a10-489d-ab5b-0708c8be9b6b.queue\">awc-prod.b88a3148-9a10-489d-ab5b-0708c8be9b6b.queue</td><td><a href=\"https://www.stackpath.com/legal/privacy-statement/\" target=\"_blank\" rel=\"noopener noreferrer nofollow\" title=\"Stackpath's privacy policy\">Stackpath</a></td><td title=\"Pending\">Pending</td><td title=\"Persistent\">Persistent</td><td title=\"HTML\">HTML</td></tr><tr><td title=\"awc-prod.b88a3148-9a10-489d-ab5b-0708c8be9b6b.reclaimEnd\">awc-prod.b88a3148-9a10-489d-ab5b-0708c8be9b6b.reclaimEnd</td><td><a href=\"https://www.stackpath.com/legal/privacy-statement/\" target=\"_blank\" rel=\"noopener noreferrer nofollow\" title=\"Stackpath's privacy policy\">Stackpath</a></td><td title=\"Pending\">Pending</td><td title=\"Persistent\">Persistent</td><td title=\"HTML\">HTML</td></tr><tr><td title=\"awc-prod.b88a3148-9a10-489d-ab5b-0708c8be9b6b.reclaimStart\">awc-prod.b88a3148-9a10-489d-ab5b-0708c8be9b6b.reclaimStart</td><td><a href=\"https://www.stackpath.com/legal/privacy-statement/\" target=\"_blank\" rel=\"noopener noreferrer nofollow\" title=\"Stackpath's privacy policy\">Stackpath</a></td><td title=\"Pending\">Pending</td><td title=\"Persistent\">Persistent</td><td title=\"HTML\">HTML</td></tr><tr><td title=\"awc-prod.bb830f7d-d247-4c01-b929-1716c402bdd7.ack\">awc-prod.bb830f7d-d247-4c01-b929-1716c402bdd7.ack</td><td><a href=\"https://www.stackpath.com/legal/privacy-statement/\" target=\"_blank\" rel=\"noopener noreferrer nofollow\" title=\"Stackpath's privacy policy\">Stackpath</a></td><td title=\"Pending\">Pending</td><td title=\"Persistent\">Persistent</td><td title=\"HTML\">HTML</td></tr><tr><td title=\"awc-prod.bb830f7d-d247-4c01-b929-1716c402bdd7.inProgress\">awc-prod.bb830f7d-d247-4c01-b929-1716c402bdd7.inProgress</td><td><a href=\"https://www.stackpath.com/legal/privacy-statement/\" target=\"_blank\" rel=\"noopener noreferrer nofollow\" title=\"Stackpath's privacy policy\">Stackpath</a></td><td title=\"Pending\">Pending</td><td title=\"Persistent\">Persistent</td><td title=\"HTML\">HTML</td></tr><tr><td title=\"awc-prod.bb830f7d-d247-4c01-b929-1716c402bdd7.queue\">awc-prod.bb830f7d-d247-4c01-b929-1716c402bdd7.queue</td><td><a href=\"https://www.stackpath.com/legal/privacy-statement/\" target=\"_blank\" rel=\"noopener noreferrer nofollow\" title=\"Stackpath's privacy policy\">Stackpath</a></td><td title=\"Pending\">Pending</td><td title=\"Persistent\">Persistent</td><td title=\"HTML\">HTML</td></tr><tr><td title=\"awc-prod.bb830f7d-d247-4c01-b929-1716c402bdd7.reclaimEnd\">awc-prod.bb830f7d-d247-4c01-b929-1716c402bdd7.reclaimEnd</td><td><a href=\"https://www.stackpath.com/legal/privacy-statement/\" target=\"_blank\" rel=\"noopener noreferrer nofollow\" title=\"Stackpath's privacy policy\">Stackpath</a></td><td title=\"Pending\">Pending</td><td title=\"Persistent\">Persistent</td><td title=\"HTML\">HTML</td></tr><tr><td title=\"awc-prod.bb830f7d-d247-4c01-b929-1716c402bdd7.reclaimStart\">awc-prod.bb830f7d-d247-4c01-b929-1716c402bdd7.reclaimStart</td><td><a href=\"https://www.stackpath.com/legal/privacy-statement/\" target=\"_blank\" rel=\"noopener noreferrer nofollow\" title=\"Stackpath's privacy policy\">Stackpath</a></td><td title=\"Pending\">Pending</td><td title=\"Persistent\">Persistent</td><td title=\"HTML\">HTML</td></tr><tr><td title=\"awc-prod.bfe387b4-4c9f-4e6f-8cc3-115f28ee67e8.ack\">awc-prod.bfe387b4-4c9f-4e6f-8cc3-115f28ee67e8.ack</td><td><a href=\"https://www.stackpath.com/legal/privacy-statement/\" target=\"_blank\" rel=\"noopener noreferrer nofollow\" title=\"Stackpath's privacy policy\">Stackpath</a></td><td title=\"Pending\">Pending</td><td title=\"Persistent\">Persistent</td><td title=\"HTML\">HTML</td></tr><tr><td title=\"awc-prod.bfe387b4-4c9f-4e6f-8cc3-115f28ee67e8.inProgress\">awc-prod.bfe387b4-4c9f-4e6f-8cc3-115f28ee67e8.inProgress</td><td><a href=\"https://www.stackpath.com/legal/privacy-statement/\" target=\"_blank\" rel=\"noopener noreferrer nofollow\" title=\"Stackpath's privacy policy\">Stackpath</a></td><td title=\"Pending\">Pending</td><td title=\"Persistent\">Persistent</td><td title=\"HTML\">HTML</td></tr><tr><td title=\"awc-prod.bfe387b4-4c9f-4e6f-8cc3-115f28ee67e8.queue\">awc-prod.bfe387b4-4c9f-4e6f-8cc3-115f28ee67e8.queue</td><td><a href=\"https://www.stackpath.com/legal/privacy-statement/\" target=\"_blank\" rel=\"noopener noreferrer nofollow\" title=\"Stackpath's privacy policy\">Stackpath</a></td><td title=\"Pending\">Pending</td><td title=\"Persistent\">Persistent</td><td title=\"HTML\">HTML</td></tr><tr><td title=\"awc-prod.bfe387b4-4c9f-4e6f-8cc3-115f28ee67e8.reclaimEnd\">awc-prod.bfe387b4-4c9f-4e6f-8cc3-115f28ee67e8.reclaimEnd</td><td><a href=\"https://www.stackpath.com/legal/privacy-statement/\" target=\"_blank\" rel=\"noopener noreferrer nofollow\" title=\"Stackpath's privacy policy\">Stackpath</a></td><td title=\"Pending\">Pending</td><td title=\"Persistent\">Persistent</td><td title=\"HTML\">HTML</td></tr><tr><td title=\"awc-prod.bfe387b4-4c9f-4e6f-8cc3-115f28ee67e8.reclaimStart\">awc-prod.bfe387b4-4c9f-4e6f-8cc3-115f28ee67e8.reclaimStart</td><td><a href=\"https://www.stackpath.com/legal/privacy-statement/\" target=\"_blank\" rel=\"noopener noreferrer nofollow\" title=\"Stackpath's privacy policy\">Stackpath</a></td><td title=\"Pending\">Pending</td><td title=\"Persistent\">Persistent</td><td title=\"HTML\">HTML</td></tr><tr><td title=\"awc-prod.c1b8e098-f700-4663-b97b-42a6c9b43faf.ack\">awc-prod.c1b8e098-f700-4663-b97b-42a6c9b43faf.ack</td><td><a href=\"https://www.amazon.com/gp/help/customer/display.html/ref=footer_privacy?ie=UTF8&amp;nodeId=468496\" target=\"_blank\" rel=\"noopener noreferrer nofollow\" title=\"Amazon's privacy policy\">Amazon</a></td><td title=\"Pending\">Pending</td><td title=\"Persistent\">Persistent</td><td title=\"HTML\">HTML</td></tr><tr><td title=\"awc-prod.c1b8e098-f700-4663-b97b-42a6c9b43faf.inProgress\">awc-prod.c1b8e098-f700-4663-b97b-42a6c9b43faf.inProgress</td><td><a href=\"https://www.amazon.com/gp/help/customer/display.html/ref=footer_privacy?ie=UTF8&amp;nodeId=468496\" target=\"_blank\" rel=\"noopener noreferrer nofollow\" title=\"Amazon's privacy policy\">Amazon</a></td><td title=\"Pending\">Pending</td><td title=\"Persistent\">Persistent</td><td title=\"HTML\">HTML</td></tr><tr><td title=\"awc-prod.c1b8e098-f700-4663-b97b-42a6c9b43faf.queue\">awc-prod.c1b8e098-f700-4663-b97b-42a6c9b43faf.queue</td><td><a href=\"https://www.amazon.com/gp/help/customer/display.html/ref=footer_privacy?ie=UTF8&amp;nodeId=468496\" target=\"_blank\" rel=\"noopener noreferrer nofollow\" title=\"Amazon's privacy policy\">Amazon</a></td><td title=\"Pending\">Pending</td><td title=\"Persistent\">Persistent</td><td title=\"HTML\">HTML</td></tr><tr><td title=\"awc-prod.c1b8e098-f700-4663-b97b-42a6c9b43faf.reclaimEnd\">awc-prod.c1b8e098-f700-4663-b97b-42a6c9b43faf.reclaimEnd</td><td><a href=\"https://www.amazon.com/gp/help/customer/display.html/ref=footer_privacy?ie=UTF8&amp;nodeId=468496\" target=\"_blank\" rel=\"noopener noreferrer nofollow\" title=\"Amazon's privacy policy\">Amazon</a></td><td title=\"Pending\">Pending</td><td title=\"Persistent\">Persistent</td><td title=\"HTML\">HTML</td></tr><tr><td title=\"awc-prod.c1b8e098-f700-4663-b97b-42a6c9b43faf.reclaimStart\">awc-prod.c1b8e098-f700-4663-b97b-42a6c9b43faf.reclaimStart</td><td><a href=\"https://www.amazon.com/gp/help/customer/display.html/ref=footer_privacy?ie=UTF8&amp;nodeId=468496\" target=\"_blank\" rel=\"noopener noreferrer nofollow\" title=\"Amazon's privacy policy\">Amazon</a></td><td title=\"Pending\">Pending</td><td title=\"Persistent\">Persistent</td><td title=\"HTML\">HTML</td></tr><tr><td title=\"awc-prod.ca0c8685-f242-4ea5-97c8-cc5ce6599de4.ack\">awc-prod.ca0c8685-f242-4ea5-97c8-cc5ce6599de4.ack</td><td><a href=\"https://www.stackpath.com/legal/privacy-statement/\" target=\"_blank\" rel=\"noopener noreferrer nofollow\" title=\"Stackpath's privacy policy\">Stackpath</a></td><td title=\"Pending\">Pending</td><td title=\"Persistent\">Persistent</td><td title=\"HTML\">HTML</td></tr><tr><td title=\"awc-prod.ca0c8685-f242-4ea5-97c8-cc5ce6599de4.inProgress\">awc-prod.ca0c8685-f242-4ea5-97c8-cc5ce6599de4.inProgress</td><td><a href=\"https://www.stackpath.com/legal/privacy-statement/\" target=\"_blank\" rel=\"noopener noreferrer nofollow\" title=\"Stackpath's privacy policy\">Stackpath</a></td><td title=\"Pending\">Pending</td><td title=\"Persistent\">Persistent</td><td title=\"HTML\">HTML</td></tr><tr><td title=\"awc-prod.ca0c8685-f242-4ea5-97c8-cc5ce6599de4.queue\">awc-prod.ca0c8685-f242-4ea5-97c8-cc5ce6599de4.queue</td><td><a href=\"https://www.stackpath.com/legal/privacy-statement/\" target=\"_blank\" rel=\"noopener noreferrer nofollow\" title=\"Stackpath's privacy policy\">Stackpath</a></td><td title=\"Pending\">Pending</td><td title=\"Persistent\">Persistent</td><td title=\"HTML\">HTML</td></tr><tr><td title=\"awc-prod.ca0c8685-f242-4ea5-97c8-cc5ce6599de4.reclaimEnd\">awc-prod.ca0c8685-f242-4ea5-97c8-cc5ce6599de4.reclaimEnd</td><td><a href=\"https://www.stackpath.com/legal/privacy-statement/\" target=\"_blank\" rel=\"noopener noreferrer nofollow\" title=\"Stackpath's privacy policy\">Stackpath</a></td><td title=\"Pending\">Pending</td><td title=\"Persistent\">Persistent</td><td title=\"HTML\">HTML</td></tr><tr><td title=\"awc-prod.ca0c8685-f242-4ea5-97c8-cc5ce6599de4.reclaimStart\">awc-prod.ca0c8685-f242-4ea5-97c8-cc5ce6599de4.reclaimStart</td><td><a href=\"https://www.stackpath.com/legal/privacy-statement/\" target=\"_blank\" rel=\"noopener noreferrer nofollow\" title=\"Stackpath's privacy policy\">Stackpath</a></td><td title=\"Pending\">Pending</td><td title=\"Persistent\">Persistent</td><td title=\"HTML\">HTML</td></tr><tr><td title=\"awc-prod.d6420e8b-5dfa-4168-a8a6-ad94d5eb0c9b.ack\">awc-prod.d6420e8b-5dfa-4168-a8a6-ad94d5eb0c9b.ack</td><td><a href=\"https://www.stackpath.com/legal/privacy-statement/\" target=\"_blank\" rel=\"noopener noreferrer nofollow\" title=\"Stackpath's privacy policy\">Stackpath</a></td><td title=\"Pending\">Pending</td><td title=\"Persistent\">Persistent</td><td title=\"HTML\">HTML</td></tr><tr><td title=\"awc-prod.d6420e8b-5dfa-4168-a8a6-ad94d5eb0c9b.inProgress\">awc-prod.d6420e8b-5dfa-4168-a8a6-ad94d5eb0c9b.inProgress</td><td><a href=\"https://www.stackpath.com/legal/privacy-statement/\" target=\"_blank\" rel=\"noopener noreferrer nofollow\" title=\"Stackpath's privacy policy\">Stackpath</a></td><td title=\"Pending\">Pending</td><td title=\"Persistent\">Persistent</td><td title=\"HTML\">HTML</td></tr><tr><td title=\"awc-prod.d6420e8b-5dfa-4168-a8a6-ad94d5eb0c9b.queue\">awc-prod.d6420e8b-5dfa-4168-a8a6-ad94d5eb0c9b.queue</td><td><a href=\"https://www.stackpath.com/legal/privacy-statement/\" target=\"_blank\" rel=\"noopener noreferrer nofollow\" title=\"Stackpath's privacy policy\">Stackpath</a></td><td title=\"Pending\">Pending</td><td title=\"Persistent\">Persistent</td><td title=\"HTML\">HTML</td></tr><tr><td title=\"awc-prod.d6420e8b-5dfa-4168-a8a6-ad94d5eb0c9b.reclaimEnd\">awc-prod.d6420e8b-5dfa-4168-a8a6-ad94d5eb0c9b.reclaimEnd</td><td><a href=\"https://www.stackpath.com/legal/privacy-statement/\" target=\"_blank\" rel=\"noopener noreferrer nofollow\" title=\"Stackpath's privacy policy\">Stackpath</a></td><td title=\"Pending\">Pending</td><td title=\"Persistent\">Persistent</td><td title=\"HTML\">HTML</td></tr><tr><td title=\"awc-prod.d6420e8b-5dfa-4168-a8a6-ad94d5eb0c9b.reclaimStart\">awc-prod.d6420e8b-5dfa-4168-a8a6-ad94d5eb0c9b.reclaimStart</td><td><a href=\"https://www.stackpath.com/legal/privacy-statement/\" target=\"_blank\" rel=\"noopener noreferrer nofollow\" title=\"Stackpath's privacy policy\">Stackpath</a></td><td title=\"Pending\">Pending</td><td title=\"Persistent\">Persistent</td><td title=\"HTML\">HTML</td></tr><tr><td title=\"awc-prod.d959e419-781a-4d0a-a504-6416ec9565f6.ack\">awc-prod.d959e419-781a-4d0a-a504-6416ec9565f6.ack</td><td><a href=\"https://www.stackpath.com/legal/privacy-statement/\" target=\"_blank\" rel=\"noopener noreferrer nofollow\" title=\"Stackpath's privacy policy\">Stackpath</a></td><td title=\"Pending\">Pending</td><td title=\"Persistent\">Persistent</td><td title=\"HTML\">HTML</td></tr><tr><td title=\"awc-prod.d959e419-781a-4d0a-a504-6416ec9565f6.inProgress\">awc-prod.d959e419-781a-4d0a-a504-6416ec9565f6.inProgress</td><td><a href=\"https://www.stackpath.com/legal/privacy-statement/\" target=\"_blank\" rel=\"noopener noreferrer nofollow\" title=\"Stackpath's privacy policy\">Stackpath</a></td><td title=\"Pending\">Pending</td><td title=\"Persistent\">Persistent</td><td title=\"HTML\">HTML</td></tr><tr><td title=\"awc-prod.d959e419-781a-4d0a-a504-6416ec9565f6.queue\">awc-prod.d959e419-781a-4d0a-a504-6416ec9565f6.queue</td><td><a href=\"https://www.stackpath.com/legal/privacy-statement/\" target=\"_blank\" rel=\"noopener noreferrer nofollow\" title=\"Stackpath's privacy policy\">Stackpath</a></td><td title=\"Pending\">Pending</td><td title=\"Persistent\">Persistent</td><td title=\"HTML\">HTML</td></tr><tr><td title=\"awc-prod.d959e419-781a-4d0a-a504-6416ec9565f6.reclaimEnd\">awc-prod.d959e419-781a-4d0a-a504-6416ec9565f6.reclaimEnd</td><td><a href=\"https://www.stackpath.com/legal/privacy-statement/\" target=\"_blank\" rel=\"noopener noreferrer nofollow\" title=\"Stackpath's privacy policy\">Stackpath</a></td><td title=\"Pending\">Pending</td><td title=\"Persistent\">Persistent</td><td title=\"HTML\">HTML</td></tr><tr><td title=\"awc-prod.d959e419-781a-4d0a-a504-6416ec9565f6.reclaimStart\">awc-prod.d959e419-781a-4d0a-a504-6416ec9565f6.reclaimStart</td><td><a href=\"https://www.stackpath.com/legal/privacy-statement/\" target=\"_blank\" rel=\"noopener noreferrer nofollow\" title=\"Stackpath's privacy policy\">Stackpath</a></td><td title=\"Pending\">Pending</td><td title=\"Persistent\">Persistent</td><td title=\"HTML\">HTML</td></tr><tr><td title=\"awc-prod.e16996c7-de31-420e-9379-582061c63f77.ack\">awc-prod.e16996c7-de31-420e-9379-582061c63f77.ack</td><td><a href=\"https://www.stackpath.com/legal/privacy-statement/\" target=\"_blank\" rel=\"noopener noreferrer nofollow\" title=\"Stackpath's privacy policy\">Stackpath</a></td><td title=\"Pending\">Pending</td><td title=\"Persistent\">Persistent</td><td title=\"HTML\">HTML</td></tr><tr><td title=\"awc-prod.e16996c7-de31-420e-9379-582061c63f77.inProgress\">awc-prod.e16996c7-de31-420e-9379-582061c63f77.inProgress</td><td><a href=\"https://www.stackpath.com/legal/privacy-statement/\" target=\"_blank\" rel=\"noopener noreferrer nofollow\" title=\"Stackpath's privacy policy\">Stackpath</a></td><td title=\"Pending\">Pending</td><td title=\"Persistent\">Persistent</td><td title=\"HTML\">HTML</td></tr><tr><td title=\"awc-prod.e16996c7-de31-420e-9379-582061c63f77.queue\">awc-prod.e16996c7-de31-420e-9379-582061c63f77.queue</td><td><a href=\"https://www.stackpath.com/legal/privacy-statement/\" target=\"_blank\" rel=\"noopener noreferrer nofollow\" title=\"Stackpath's privacy policy\">Stackpath</a></td><td title=\"Pending\">Pending</td><td title=\"Persistent\">Persistent</td><td title=\"HTML\">HTML</td></tr><tr><td title=\"awc-prod.e16996c7-de31-420e-9379-582061c63f77.reclaimEnd\">awc-prod.e16996c7-de31-420e-9379-582061c63f77.reclaimEnd</td><td><a href=\"https://www.stackpath.com/legal/privacy-statement/\" target=\"_blank\" rel=\"noopener noreferrer nofollow\" title=\"Stackpath's privacy policy\">Stackpath</a></td><td title=\"Pending\">Pending</td><td title=\"Persistent\">Persistent</td><td title=\"HTML\">HTML</td></tr><tr><td title=\"awc-prod.e16996c7-de31-420e-9379-582061c63f77.reclaimStart\">awc-prod.e16996c7-de31-420e-9379-582061c63f77.reclaimStart</td><td><a href=\"https://www.stackpath.com/legal/privacy-statement/\" target=\"_blank\" rel=\"noopener noreferrer nofollow\" title=\"Stackpath's privacy policy\">Stackpath</a></td><td title=\"Pending\">Pending</td><td title=\"Persistent\">Persistent</td><td title=\"HTML\">HTML</td></tr><tr><td title=\"awc-prod.e80080d4-9c8f-4ea2-9d26-10c56a4bc208.ack\">awc-prod.e80080d4-9c8f-4ea2-9d26-10c56a4bc208.ack</td><td><a href=\"https://www.stackpath.com/legal/privacy-statement/\" target=\"_blank\" rel=\"noopener noreferrer nofollow\" title=\"Stackpath's privacy policy\">Stackpath</a></td><td title=\"Pending\">Pending</td><td title=\"Persistent\">Persistent</td><td title=\"HTML\">HTML</td></tr><tr><td title=\"awc-prod.e80080d4-9c8f-4ea2-9d26-10c56a4bc208.inProgress\">awc-prod.e80080d4-9c8f-4ea2-9d26-10c56a4bc208.inProgress</td><td><a href=\"https://www.stackpath.com/legal/privacy-statement/\" target=\"_blank\" rel=\"noopener noreferrer nofollow\" title=\"Stackpath's privacy policy\">Stackpath</a></td><td title=\"Pending\">Pending</td><td title=\"Persistent\">Persistent</td><td title=\"HTML\">HTML</td></tr><tr><td title=\"awc-prod.e80080d4-9c8f-4ea2-9d26-10c56a4bc208.queue\">awc-prod.e80080d4-9c8f-4ea2-9d26-10c56a4bc208.queue</td><td><a href=\"https://www.stackpath.com/legal/privacy-statement/\" target=\"_blank\" rel=\"noopener noreferrer nofollow\" title=\"Stackpath's privacy policy\">Stackpath</a></td><td title=\"Pending\">Pending</td><td title=\"Persistent\">Persistent</td><td title=\"HTML\">HTML</td></tr><tr><td title=\"awc-prod.e80080d4-9c8f-4ea2-9d26-10c56a4bc208.reclaimEnd\">awc-prod.e80080d4-9c8f-4ea2-9d26-10c56a4bc208.reclaimEnd</td><td><a href=\"https://www.stackpath.com/legal/privacy-statement/\" target=\"_blank\" rel=\"noopener noreferrer nofollow\" title=\"Stackpath's privacy policy\">Stackpath</a></td><td title=\"Pending\">Pending</td><td title=\"Persistent\">Persistent</td><td title=\"HTML\">HTML</td></tr><tr><td title=\"awc-prod.e80080d4-9c8f-4ea2-9d26-10c56a4bc208.reclaimStart\">awc-prod.e80080d4-9c8f-4ea2-9d26-10c56a4bc208.reclaimStart</td><td><a href=\"https://www.stackpath.com/legal/privacy-statement/\" target=\"_blank\" rel=\"noopener noreferrer nofollow\" title=\"Stackpath's privacy policy\">Stackpath</a></td><td title=\"Pending\">Pending</td><td title=\"Persistent\">Persistent</td><td title=\"HTML\">HTML</td></tr><tr><td title=\"awc-prod.e9dcd600-54f3-4058-b37d-cdf232968f6a.ack\">awc-prod.e9dcd600-54f3-4058-b37d-cdf232968f6a.ack</td><td><a href=\"https://www.stackpath.com/legal/privacy-statement/\" target=\"_blank\" rel=\"noopener noreferrer nofollow\" title=\"Stackpath's privacy policy\">Stackpath</a></td><td title=\"Pending\">Pending</td><td title=\"Persistent\">Persistent</td><td title=\"HTML\">HTML</td></tr><tr><td title=\"awc-prod.e9dcd600-54f3-4058-b37d-cdf232968f6a.inProgress\">awc-prod.e9dcd600-54f3-4058-b37d-cdf232968f6a.inProgress</td><td><a href=\"https://www.stackpath.com/legal/privacy-statement/\" target=\"_blank\" rel=\"noopener noreferrer nofollow\" title=\"Stackpath's privacy policy\">Stackpath</a></td><td title=\"Pending\">Pending</td><td title=\"Persistent\">Persistent</td><td title=\"HTML\">HTML</td></tr><tr><td title=\"awc-prod.e9dcd600-54f3-4058-b37d-cdf232968f6a.queue\">awc-prod.e9dcd600-54f3-4058-b37d-cdf232968f6a.queue</td><td><a href=\"https://www.stackpath.com/legal/privacy-statement/\" target=\"_blank\" rel=\"noopener noreferrer nofollow\" title=\"Stackpath's privacy policy\">Stackpath</a></td><td title=\"Pending\">Pending</td><td title=\"Persistent\">Persistent</td><td title=\"HTML\">HTML</td></tr><tr><td title=\"awc-prod.e9dcd600-54f3-4058-b37d-cdf232968f6a.reclaimEnd\">awc-prod.e9dcd600-54f3-4058-b37d-cdf232968f6a.reclaimEnd</td><td><a href=\"https://www.stackpath.com/legal/privacy-statement/\" target=\"_blank\" rel=\"noopener noreferrer nofollow\" title=\"Stackpath's privacy policy\">Stackpath</a></td><td title=\"Pending\">Pending</td><td title=\"Persistent\">Persistent</td><td title=\"HTML\">HTML</td></tr><tr><td title=\"awc-prod.e9dcd600-54f3-4058-b37d-cdf232968f6a.reclaimStart\">awc-prod.e9dcd600-54f3-4058-b37d-cdf232968f6a.reclaimStart</td><td><a href=\"https://www.stackpath.com/legal/privacy-statement/\" target=\"_blank\" rel=\"noopener noreferrer nofollow\" title=\"Stackpath's privacy policy\">Stackpath</a></td><td title=\"Pending\">Pending</td><td title=\"Persistent\">Persistent</td><td title=\"HTML\">HTML</td></tr><tr><td title=\"awc-prod.ec1e3d70-1bb7-4f10-9275-e580faa09a36.ack\">awc-prod.ec1e3d70-1bb7-4f10-9275-e580faa09a36.ack</td><td><a href=\"https://www.stackpath.com/legal/privacy-statement/\" target=\"_blank\" rel=\"noopener noreferrer nofollow\" title=\"Stackpath's privacy policy\">Stackpath</a></td><td title=\"Pending\">Pending</td><td title=\"Persistent\">Persistent</td><td title=\"HTML\">HTML</td></tr><tr><td title=\"awc-prod.ec1e3d70-1bb7-4f10-9275-e580faa09a36.inProgress\">awc-prod.ec1e3d70-1bb7-4f10-9275-e580faa09a36.inProgress</td><td><a href=\"https://www.stackpath.com/legal/privacy-statement/\" target=\"_blank\" rel=\"noopener noreferrer nofollow\" title=\"Stackpath's privacy policy\">Stackpath</a></td><td title=\"Pending\">Pending</td><td title=\"Persistent\">Persistent</td><td title=\"HTML\">HTML</td></tr><tr><td title=\"awc-prod.ec1e3d70-1bb7-4f10-9275-e580faa09a36.queue\">awc-prod.ec1e3d70-1bb7-4f10-9275-e580faa09a36.queue</td><td><a href=\"https://www.stackpath.com/legal/privacy-statement/\" target=\"_blank\" rel=\"noopener noreferrer nofollow\" title=\"Stackpath's privacy policy\">Stackpath</a></td><td title=\"Pending\">Pending</td><td title=\"Persistent\">Persistent</td><td title=\"HTML\">HTML</td></tr><tr><td title=\"awc-prod.ec1e3d70-1bb7-4f10-9275-e580faa09a36.reclaimEnd\">awc-prod.ec1e3d70-1bb7-4f10-9275-e580faa09a36.reclaimEnd</td><td><a href=\"https://www.stackpath.com/legal/privacy-statement/\" target=\"_blank\" rel=\"noopener noreferrer nofollow\" title=\"Stackpath's privacy policy\">Stackpath</a></td><td title=\"Pending\">Pending</td><td title=\"Persistent\">Persistent</td><td title=\"HTML\">HTML</td></tr><tr><td title=\"awc-prod.ec1e3d70-1bb7-4f10-9275-e580faa09a36.reclaimStart\">awc-prod.ec1e3d70-1bb7-4f10-9275-e580faa09a36.reclaimStart</td><td><a href=\"https://www.stackpath.com/legal/privacy-statement/\" target=\"_blank\" rel=\"noopener noreferrer nofollow\" title=\"Stackpath's privacy policy\">Stackpath</a></td><td title=\"Pending\">Pending</td><td title=\"Persistent\">Persistent</td><td title=\"HTML\">HTML</td></tr><tr><td title=\"awc-prod.eeb926f9-6746-4cb2-bf03-dd9fa223c94a.ack\">awc-prod.eeb926f9-6746-4cb2-bf03-dd9fa223c94a.ack</td><td><a href=\"https://www.amazon.com/gp/help/customer/display.html/ref=footer_privacy?ie=UTF8&amp;nodeId=468496\" target=\"_blank\" rel=\"noopener noreferrer nofollow\" title=\"Amazon's privacy policy\">Amazon</a></td><td title=\"Pending\">Pending</td><td title=\"Persistent\">Persistent</td><td title=\"HTML\">HTML</td></tr><tr><td title=\"awc-prod.eeb926f9-6746-4cb2-bf03-dd9fa223c94a.inProgress\">awc-prod.eeb926f9-6746-4cb2-bf03-dd9fa223c94a.inProgress</td><td><a href=\"https://www.amazon.com/gp/help/customer/display.html/ref=footer_privacy?ie=UTF8&amp;nodeId=468496\" target=\"_blank\" rel=\"noopener noreferrer nofollow\" title=\"Amazon's privacy policy\">Amazon</a></td><td title=\"Pending\">Pending</td><td title=\"Persistent\">Persistent</td><td title=\"HTML\">HTML</td></tr><tr><td title=\"awc-prod.eeb926f9-6746-4cb2-bf03-dd9fa223c94a.queue\">awc-prod.eeb926f9-6746-4cb2-bf03-dd9fa223c94a.queue</td><td><a href=\"https://www.amazon.com/gp/help/customer/display.html/ref=footer_privacy?ie=UTF8&amp;nodeId=468496\" target=\"_blank\" rel=\"noopener noreferrer nofollow\" title=\"Amazon's privacy policy\">Amazon</a></td><td title=\"Pending\">Pending</td><td title=\"Persistent\">Persistent</td><td title=\"HTML\">HTML</td></tr><tr><td title=\"awc-prod.eeb926f9-6746-4cb2-bf03-dd9fa223c94a.reclaimEnd\">awc-prod.eeb926f9-6746-4cb2-bf03-dd9fa223c94a.reclaimEnd</td><td><a href=\"https://www.amazon.com/gp/help/customer/display.html/ref=footer_privacy?ie=UTF8&amp;nodeId=468496\" target=\"_blank\" rel=\"noopener noreferrer nofollow\" title=\"Amazon's privacy policy\">Amazon</a></td><td title=\"Pending\">Pending</td><td title=\"Persistent\">Persistent</td><td title=\"HTML\">HTML</td></tr><tr><td title=\"awc-prod.eeb926f9-6746-4cb2-bf03-dd9fa223c94a.reclaimStart\">awc-prod.eeb926f9-6746-4cb2-bf03-dd9fa223c94a.reclaimStart</td><td><a href=\"https://www.amazon.com/gp/help/customer/display.html/ref=footer_privacy?ie=UTF8&amp;nodeId=468496\" target=\"_blank\" rel=\"noopener noreferrer nofollow\" title=\"Amazon's privacy policy\">Amazon</a></td><td title=\"Pending\">Pending</td><td title=\"Persistent\">Persistent</td><td title=\"HTML\">HTML</td></tr><tr><td title=\"awc-prod.efdb621d-6be5-436b-b6d5-6c49aab098df.ack\">awc-prod.efdb621d-6be5-436b-b6d5-6c49aab098df.ack</td><td><a href=\"https://www.stackpath.com/legal/privacy-statement/\" target=\"_blank\" rel=\"noopener noreferrer nofollow\" title=\"Stackpath's privacy policy\">Stackpath</a></td><td title=\"Pending\">Pending</td><td title=\"Persistent\">Persistent</td><td title=\"HTML\">HTML</td></tr><tr><td title=\"awc-prod.efdb621d-6be5-436b-b6d5-6c49aab098df.inProgress\">awc-prod.efdb621d-6be5-436b-b6d5-6c49aab098df.inProgress</td><td><a href=\"https://www.stackpath.com/legal/privacy-statement/\" target=\"_blank\" rel=\"noopener noreferrer nofollow\" title=\"Stackpath's privacy policy\">Stackpath</a></td><td title=\"Pending\">Pending</td><td title=\"Persistent\">Persistent</td><td title=\"HTML\">HTML</td></tr><tr><td title=\"awc-prod.efdb621d-6be5-436b-b6d5-6c49aab098df.queue\">awc-prod.efdb621d-6be5-436b-b6d5-6c49aab098df.queue</td><td><a href=\"https://www.stackpath.com/legal/privacy-statement/\" target=\"_blank\" rel=\"noopener noreferrer nofollow\" title=\"Stackpath's privacy policy\">Stackpath</a></td><td title=\"Pending\">Pending</td><td title=\"Persistent\">Persistent</td><td title=\"HTML\">HTML</td></tr><tr><td title=\"awc-prod.efdb621d-6be5-436b-b6d5-6c49aab098df.reclaimEnd\">awc-prod.efdb621d-6be5-436b-b6d5-6c49aab098df.reclaimEnd</td><td><a href=\"https://www.stackpath.com/legal/privacy-statement/\" target=\"_blank\" rel=\"noopener noreferrer nofollow\" title=\"Stackpath's privacy policy\">Stackpath</a></td><td title=\"Pending\">Pending</td><td title=\"Persistent\">Persistent</td><td title=\"HTML\">HTML</td></tr><tr><td title=\"awc-prod.efdb621d-6be5-436b-b6d5-6c49aab098df.reclaimStart\">awc-prod.efdb621d-6be5-436b-b6d5-6c49aab098df.reclaimStart</td><td><a href=\"https://www.stackpath.com/legal/privacy-statement/\" target=\"_blank\" rel=\"noopener noreferrer nofollow\" title=\"Stackpath's privacy policy\">Stackpath</a></td><td title=\"Pending\">Pending</td><td title=\"Persistent\">Persistent</td><td title=\"HTML\">HTML</td></tr><tr><td title=\"awc-prod.f1748f62-ad03-415d-93b0-c3aa251eac9b.ack\">awc-prod.f1748f62-ad03-415d-93b0-c3aa251eac9b.ack</td><td><a href=\"https://www.stackpath.com/legal/privacy-statement/\" target=\"_blank\" rel=\"noopener noreferrer nofollow\" title=\"Stackpath's privacy policy\">Stackpath</a></td><td title=\"Pending\">Pending</td><td title=\"Persistent\">Persistent</td><td title=\"HTML\">HTML</td></tr><tr><td title=\"awc-prod.f1748f62-ad03-415d-93b0-c3aa251eac9b.inProgress\">awc-prod.f1748f62-ad03-415d-93b0-c3aa251eac9b.inProgress</td><td><a href=\"https://www.stackpath.com/legal/privacy-statement/\" target=\"_blank\" rel=\"noopener noreferrer nofollow\" title=\"Stackpath's privacy policy\">Stackpath</a></td><td title=\"Pending\">Pending</td><td title=\"Persistent\">Persistent</td><td title=\"HTML\">HTML</td></tr><tr><td title=\"awc-prod.f1748f62-ad03-415d-93b0-c3aa251eac9b.queue\">awc-prod.f1748f62-ad03-415d-93b0-c3aa251eac9b.queue</td><td><a href=\"https://www.stackpath.com/legal/privacy-statement/\" target=\"_blank\" rel=\"noopener noreferrer nofollow\" title=\"Stackpath's privacy policy\">Stackpath</a></td><td title=\"Pending\">Pending</td><td title=\"Persistent\">Persistent</td><td title=\"HTML\">HTML</td></tr><tr><td title=\"awc-prod.f1748f62-ad03-415d-93b0-c3aa251eac9b.reclaimEnd\">awc-prod.f1748f62-ad03-415d-93b0-c3aa251eac9b.reclaimEnd</td><td><a href=\"https://www.stackpath.com/legal/privacy-statement/\" target=\"_blank\" rel=\"noopener noreferrer nofollow\" title=\"Stackpath's privacy policy\">Stackpath</a></td><td title=\"Pending\">Pending</td><td title=\"Persistent\">Persistent</td><td title=\"HTML\">HTML</td></tr><tr><td title=\"awc-prod.f1748f62-ad03-415d-93b0-c3aa251eac9b.reclaimStart\">awc-prod.f1748f62-ad03-415d-93b0-c3aa251eac9b.reclaimStart</td><td><a href=\"https://www.stackpath.com/legal/privacy-statement/\" target=\"_blank\" rel=\"noopener noreferrer nofollow\" title=\"Stackpath's privacy policy\">Stackpath</a></td><td title=\"Pending\">Pending</td><td title=\"Persistent\">Persistent</td><td title=\"HTML\">HTML</td></tr><tr><td title=\"awc-prod.f2f62805-b896-4e18-b466-9ba9eb3c23a4.ack\">awc-prod.f2f62805-b896-4e18-b466-9ba9eb3c23a4.ack</td><td><a href=\"https://www.stackpath.com/legal/privacy-statement/\" target=\"_blank\" rel=\"noopener noreferrer nofollow\" title=\"Stackpath's privacy policy\">Stackpath</a></td><td title=\"Pending\">Pending</td><td title=\"Persistent\">Persistent</td><td title=\"HTML\">HTML</td></tr><tr><td title=\"awc-prod.f2f62805-b896-4e18-b466-9ba9eb3c23a4.inProgress\">awc-prod.f2f62805-b896-4e18-b466-9ba9eb3c23a4.inProgress</td><td><a href=\"https://www.stackpath.com/legal/privacy-statement/\" target=\"_blank\" rel=\"noopener noreferrer nofollow\" title=\"Stackpath's privacy policy\">Stackpath</a></td><td title=\"Pending\">Pending</td><td title=\"Persistent\">Persistent</td><td title=\"HTML\">HTML</td></tr><tr><td title=\"awc-prod.f2f62805-b896-4e18-b466-9ba9eb3c23a4.queue\">awc-prod.f2f62805-b896-4e18-b466-9ba9eb3c23a4.queue</td><td><a href=\"https://www.stackpath.com/legal/privacy-statement/\" target=\"_blank\" rel=\"noopener noreferrer nofollow\" title=\"Stackpath's privacy policy\">Stackpath</a></td><td title=\"Pending\">Pending</td><td title=\"Persistent\">Persistent</td><td title=\"HTML\">HTML</td></tr><tr><td title=\"awc-prod.f2f62805-b896-4e18-b466-9ba9eb3c23a4.reclaimEnd\">awc-prod.f2f62805-b896-4e18-b466-9ba9eb3c23a4.reclaimEnd</td><td><a href=\"https://www.stackpath.com/legal/privacy-statement/\" target=\"_blank\" rel=\"noopener noreferrer nofollow\" title=\"Stackpath's privacy policy\">Stackpath</a></td><td title=\"Pending\">Pending</td><td title=\"Persistent\">Persistent</td><td title=\"HTML\">HTML</td></tr><tr><td title=\"awc-prod.f2f62805-b896-4e18-b466-9ba9eb3c23a4.reclaimStart\">awc-prod.f2f62805-b896-4e18-b466-9ba9eb3c23a4.reclaimStart</td><td><a href=\"https://www.stackpath.com/legal/privacy-statement/\" target=\"_blank\" rel=\"noopener noreferrer nofollow\" title=\"Stackpath's privacy policy\">Stackpath</a></td><td title=\"Pending\">Pending</td><td title=\"Persistent\">Persistent</td><td title=\"HTML\">HTML</td></tr><tr><td title=\"awc-prod.f53315bb-db69-47ba-80e2-26beb2c8afa0.ack\">awc-prod.f53315bb-db69-47ba-80e2-26beb2c8afa0.ack</td><td><a href=\"https://www.stackpath.com/legal/privacy-statement/\" target=\"_blank\" rel=\"noopener noreferrer nofollow\" title=\"Stackpath's privacy policy\">Stackpath</a></td><td title=\"Pending\">Pending</td><td title=\"Persistent\">Persistent</td><td title=\"HTML\">HTML</td></tr><tr><td title=\"awc-prod.f53315bb-db69-47ba-80e2-26beb2c8afa0.inProgress\">awc-prod.f53315bb-db69-47ba-80e2-26beb2c8afa0.inProgress</td><td><a href=\"https://www.stackpath.com/legal/privacy-statement/\" target=\"_blank\" rel=\"noopener noreferrer nofollow\" title=\"Stackpath's privacy policy\">Stackpath</a></td><td title=\"Pending\">Pending</td><td title=\"Persistent\">Persistent</td><td title=\"HTML\">HTML</td></tr><tr><td title=\"awc-prod.f53315bb-db69-47ba-80e2-26beb2c8afa0.queue\">awc-prod.f53315bb-db69-47ba-80e2-26beb2c8afa0.queue</td><td><a href=\"https://www.stackpath.com/legal/privacy-statement/\" target=\"_blank\" rel=\"noopener noreferrer nofollow\" title=\"Stackpath's privacy policy\">Stackpath</a></td><td title=\"Pending\">Pending</td><td title=\"Persistent\">Persistent</td><td title=\"HTML\">HTML</td></tr><tr><td title=\"awc-prod.f53315bb-db69-47ba-80e2-26beb2c8afa0.reclaimEnd\">awc-prod.f53315bb-db69-47ba-80e2-26beb2c8afa0.reclaimEnd</td><td><a href=\"https://www.stackpath.com/legal/privacy-statement/\" target=\"_blank\" rel=\"noopener noreferrer nofollow\" title=\"Stackpath's privacy policy\">Stackpath</a></td><td title=\"Pending\">Pending</td><td title=\"Persistent\">Persistent</td><td title=\"HTML\">HTML</td></tr><tr><td title=\"awc-prod.f53315bb-db69-47ba-80e2-26beb2c8afa0.reclaimStart\">awc-prod.f53315bb-db69-47ba-80e2-26beb2c8afa0.reclaimStart</td><td><a href=\"https://www.stackpath.com/legal/privacy-statement/\" target=\"_blank\" rel=\"noopener noreferrer nofollow\" title=\"Stackpath's privacy policy\">Stackpath</a></td><td title=\"Pending\">Pending</td><td title=\"Persistent\">Persistent</td><td title=\"HTML\">HTML</td></tr><tr><td title=\"awc-prod.f9662cfc-881e-4817-99f8-8ccb5f0732cf.ack\">awc-prod.f9662cfc-881e-4817-99f8-8ccb5f0732cf.ack</td><td><a href=\"https://www.amazon.com/gp/help/customer/display.html/ref=footer_privacy?ie=UTF8&amp;nodeId=468496\" target=\"_blank\" rel=\"noopener noreferrer nofollow\" title=\"Amazon's privacy policy\">Amazon</a></td><td title=\"Pending\">Pending</td><td title=\"Persistent\">Persistent</td><td title=\"HTML\">HTML</td></tr><tr><td title=\"awc-prod.f9662cfc-881e-4817-99f8-8ccb5f0732cf.inProgress\">awc-prod.f9662cfc-881e-4817-99f8-8ccb5f0732cf.inProgress</td><td><a href=\"https://www.amazon.com/gp/help/customer/display.html/ref=footer_privacy?ie=UTF8&amp;nodeId=468496\" target=\"_blank\" rel=\"noopener noreferrer nofollow\" title=\"Amazon's privacy policy\">Amazon</a></td><td title=\"Pending\">Pending</td><td title=\"Persistent\">Persistent</td><td title=\"HTML\">HTML</td></tr><tr><td title=\"awc-prod.f9662cfc-881e-4817-99f8-8ccb5f0732cf.queue\">awc-prod.f9662cfc-881e-4817-99f8-8ccb5f0732cf.queue</td><td><a href=\"https://www.amazon.com/gp/help/customer/display.html/ref=footer_privacy?ie=UTF8&amp;nodeId=468496\" target=\"_blank\" rel=\"noopener noreferrer nofollow\" title=\"Amazon's privacy policy\">Amazon</a></td><td title=\"Pending\">Pending</td><td title=\"Persistent\">Persistent</td><td title=\"HTML\">HTML</td></tr><tr><td title=\"awc-prod.f9662cfc-881e-4817-99f8-8ccb5f0732cf.reclaimEnd\">awc-prod.f9662cfc-881e-4817-99f8-8ccb5f0732cf.reclaimEnd</td><td><a href=\"https://www.amazon.com/gp/help/customer/display.html/ref=footer_privacy?ie=UTF8&amp;nodeId=468496\" target=\"_blank\" rel=\"noopener noreferrer nofollow\" title=\"Amazon's privacy policy\">Amazon</a></td><td title=\"Pending\">Pending</td><td title=\"Persistent\">Persistent</td><td title=\"HTML\">HTML</td></tr><tr><td title=\"awc-prod.f9662cfc-881e-4817-99f8-8ccb5f0732cf.reclaimStart\">awc-prod.f9662cfc-881e-4817-99f8-8ccb5f0732cf.reclaimStart</td><td><a href=\"https://www.amazon.com/gp/help/customer/display.html/ref=footer_privacy?ie=UTF8&amp;nodeId=468496\" target=\"_blank\" rel=\"noopener noreferrer nofollow\" title=\"Amazon's privacy policy\">Amazon</a></td><td title=\"Pending\">Pending</td><td title=\"Persistent\">Persistent</td><td title=\"HTML\">HTML</td></tr><tr><td title=\"awc-prod.faf10d65-8136-47f9-aa5d-0be7a2f228a2.ack\">awc-prod.faf10d65-8136-47f9-aa5d-0be7a2f228a2.ack</td><td><a href=\"https://www.stackpath.com/legal/privacy-statement/\" target=\"_blank\" rel=\"noopener noreferrer nofollow\" title=\"Stackpath's privacy policy\">Stackpath</a></td><td title=\"Pending\">Pending</td><td title=\"Persistent\">Persistent</td><td title=\"HTML\">HTML</td></tr><tr><td title=\"awc-prod.faf10d65-8136-47f9-aa5d-0be7a2f228a2.inProgress\">awc-prod.faf10d65-8136-47f9-aa5d-0be7a2f228a2.inProgress</td><td><a href=\"https://www.stackpath.com/legal/privacy-statement/\" target=\"_blank\" rel=\"noopener noreferrer nofollow\" title=\"Stackpath's privacy policy\">Stackpath</a></td><td title=\"Pending\">Pending</td><td title=\"Persistent\">Persistent</td><td title=\"HTML\">HTML</td></tr><tr><td title=\"awc-prod.faf10d65-8136-47f9-aa5d-0be7a2f228a2.queue\">awc-prod.faf10d65-8136-47f9-aa5d-0be7a2f228a2.queue</td><td><a href=\"https://www.stackpath.com/legal/privacy-statement/\" target=\"_blank\" rel=\"noopener noreferrer nofollow\" title=\"Stackpath's privacy policy\">Stackpath</a></td><td title=\"Pending\">Pending</td><td title=\"Persistent\">Persistent</td><td title=\"HTML\">HTML</td></tr><tr><td title=\"awc-prod.faf10d65-8136-47f9-aa5d-0be7a2f228a2.reclaimEnd\">awc-prod.faf10d65-8136-47f9-aa5d-0be7a2f228a2.reclaimEnd</td><td><a href=\"https://www.stackpath.com/legal/privacy-statement/\" target=\"_blank\" rel=\"noopener noreferrer nofollow\" title=\"Stackpath's privacy policy\">Stackpath</a></td><td title=\"Pending\">Pending</td><td title=\"Persistent\">Persistent</td><td title=\"HTML\">HTML</td></tr><tr><td title=\"awc-prod.faf10d65-8136-47f9-aa5d-0be7a2f228a2.reclaimStart\">awc-prod.faf10d65-8136-47f9-aa5d-0be7a2f228a2.reclaimStart</td><td><a href=\"https://www.stackpath.com/legal/privacy-statement/\" target=\"_blank\" rel=\"noopener noreferrer nofollow\" title=\"Stackpath's privacy policy\">Stackpath</a></td><td title=\"Pending\">Pending</td><td title=\"Persistent\">Persistent</td><td title=\"HTML\">HTML</td></tr><tr><td title=\"awc-prod.fb286ba2-5470-442a-bf54-c0af2ceee09c.ack\">awc-prod.fb286ba2-5470-442a-bf54-c0af2ceee09c.ack</td><td><a href=\"https://www.amazon.com/gp/help/customer/display.html/ref=footer_privacy?ie=UTF8&amp;nodeId=468496\" target=\"_blank\" rel=\"noopener noreferrer nofollow\" title=\"Amazon's privacy policy\">Amazon</a></td><td title=\"Pending\">Pending</td><td title=\"Persistent\">Persistent</td><td title=\"HTML\">HTML</td></tr><tr><td title=\"awc-prod.fb286ba2-5470-442a-bf54-c0af2ceee09c.inProgress\">awc-prod.fb286ba2-5470-442a-bf54-c0af2ceee09c.inProgress</td><td><a href=\"https://www.amazon.com/gp/help/customer/display.html/ref=footer_privacy?ie=UTF8&amp;nodeId=468496\" target=\"_blank\" rel=\"noopener noreferrer nofollow\" title=\"Amazon's privacy policy\">Amazon</a></td><td title=\"Pending\">Pending</td><td title=\"Persistent\">Persistent</td><td title=\"HTML\">HTML</td></tr><tr><td title=\"awc-prod.fb286ba2-5470-442a-bf54-c0af2ceee09c.queue\">awc-prod.fb286ba2-5470-442a-bf54-c0af2ceee09c.queue</td><td><a href=\"https://www.amazon.com/gp/help/customer/display.html/ref=footer_privacy?ie=UTF8&amp;nodeId=468496\" target=\"_blank\" rel=\"noopener noreferrer nofollow\" title=\"Amazon's privacy policy\">Amazon</a></td><td title=\"Pending\">Pending</td><td title=\"Persistent\">Persistent</td><td title=\"HTML\">HTML</td></tr><tr><td title=\"awc-prod.fb286ba2-5470-442a-bf54-c0af2ceee09c.reclaimEnd\">awc-prod.fb286ba2-5470-442a-bf54-c0af2ceee09c.reclaimEnd</td><td><a href=\"https://www.amazon.com/gp/help/customer/display.html/ref=footer_privacy?ie=UTF8&amp;nodeId=468496\" target=\"_blank\" rel=\"noopener noreferrer nofollow\" title=\"Amazon's privacy policy\">Amazon</a></td><td title=\"Pending\">Pending</td><td title=\"Persistent\">Persistent</td><td title=\"HTML\">HTML</td></tr><tr><td title=\"awc-prod.fb286ba2-5470-442a-bf54-c0af2ceee09c.reclaimStart\">awc-prod.fb286ba2-5470-442a-bf54-c0af2ceee09c.reclaimStart</td><td><a href=\"https://www.amazon.com/gp/help/customer/display.html/ref=footer_privacy?ie=UTF8&amp;nodeId=468496\" target=\"_blank\" rel=\"noopener noreferrer nofollow\" title=\"Amazon's privacy policy\">Amazon</a></td><td title=\"Pending\">Pending</td><td title=\"Persistent\">Persistent</td><td title=\"HTML\">HTML</td></tr><tr><td title=\"awc-prod.fcd7c958-0f5b-4851-905f-aba9b41d1f04.ack\">awc-prod.fcd7c958-0f5b-4851-905f-aba9b41d1f04.ack</td><td><a href=\"https://www.stackpath.com/legal/privacy-statement/\" target=\"_blank\" rel=\"noopener noreferrer nofollow\" title=\"Stackpath's privacy policy\">Stackpath</a></td><td title=\"Pending\">Pending</td><td title=\"Persistent\">Persistent</td><td title=\"HTML\">HTML</td></tr><tr><td title=\"awc-prod.fcd7c958-0f5b-4851-905f-aba9b41d1f04.inProgress\">awc-prod.fcd7c958-0f5b-4851-905f-aba9b41d1f04.inProgress</td><td><a href=\"https://www.stackpath.com/legal/privacy-statement/\" target=\"_blank\" rel=\"noopener noreferrer nofollow\" title=\"Stackpath's privacy policy\">Stackpath</a></td><td title=\"Pending\">Pending</td><td title=\"Persistent\">Persistent</td><td title=\"HTML\">HTML</td></tr><tr><td title=\"awc-prod.fcd7c958-0f5b-4851-905f-aba9b41d1f04.queue\">awc-prod.fcd7c958-0f5b-4851-905f-aba9b41d1f04.queue</td><td><a href=\"https://www.stackpath.com/legal/privacy-statement/\" target=\"_blank\" rel=\"noopener noreferrer nofollow\" title=\"Stackpath's privacy policy\">Stackpath</a></td><td title=\"Pending\">Pending</td><td title=\"Persistent\">Persistent</td><td title=\"HTML\">HTML</td></tr><tr><td title=\"awc-prod.fcd7c958-0f5b-4851-905f-aba9b41d1f04.reclaimEnd\">awc-prod.fcd7c958-0f5b-4851-905f-aba9b41d1f04.reclaimEnd</td><td><a href=\"https://www.stackpath.com/legal/privacy-statement/\" target=\"_blank\" rel=\"noopener noreferrer nofollow\" title=\"Stackpath's privacy policy\">Stackpath</a></td><td title=\"Pending\">Pending</td><td title=\"Persistent\">Persistent</td><td title=\"HTML\">HTML</td></tr><tr><td title=\"awc-prod.fcd7c958-0f5b-4851-905f-aba9b41d1f04.reclaimStart\">awc-prod.fcd7c958-0f5b-4851-905f-aba9b41d1f04.reclaimStart</td><td><a href=\"https://www.stackpath.com/legal/privacy-statement/\" target=\"_blank\" rel=\"noopener noreferrer nofollow\" title=\"Stackpath's privacy policy\">Stackpath</a></td><td title=\"Pending\">Pending</td><td title=\"Persistent\">Persistent</td><td title=\"HTML\">HTML</td></tr><tr><td title=\"awc-prod.fd3dbb7e-0907-4cbc-8bfb-d89b6937f987.ack\">awc-prod.fd3dbb7e-0907-4cbc-8bfb-d89b6937f987.ack</td><td><a href=\"https://www.amazon.com/gp/help/customer/display.html/ref=footer_privacy?ie=UTF8&amp;nodeId=468496\" target=\"_blank\" rel=\"noopener noreferrer nofollow\" title=\"Amazon's privacy policy\">Amazon</a></td><td title=\"Pending\">Pending</td><td title=\"Persistent\">Persistent</td><td title=\"HTML\">HTML</td></tr><tr><td title=\"awc-prod.fd3dbb7e-0907-4cbc-8bfb-d89b6937f987.inProgress\">awc-prod.fd3dbb7e-0907-4cbc-8bfb-d89b6937f987.inProgress</td><td><a href=\"https://www.amazon.com/gp/help/customer/display.html/ref=footer_privacy?ie=UTF8&amp;nodeId=468496\" target=\"_blank\" rel=\"noopener noreferrer nofollow\" title=\"Amazon's privacy policy\">Amazon</a></td><td title=\"Pending\">Pending</td><td title=\"Persistent\">Persistent</td><td title=\"HTML\">HTML</td></tr><tr><td title=\"awc-prod.fd3dbb7e-0907-4cbc-8bfb-d89b6937f987.queue\">awc-prod.fd3dbb7e-0907-4cbc-8bfb-d89b6937f987.queue</td><td><a href=\"https://www.amazon.com/gp/help/customer/display.html/ref=footer_privacy?ie=UTF8&amp;nodeId=468496\" target=\"_blank\" rel=\"noopener noreferrer nofollow\" title=\"Amazon's privacy policy\">Amazon</a></td><td title=\"Pending\">Pending</td><td title=\"Persistent\">Persistent</td><td title=\"HTML\">HTML</td></tr><tr><td title=\"awc-prod.fd3dbb7e-0907-4cbc-8bfb-d89b6937f987.reclaimEnd\">awc-prod.fd3dbb7e-0907-4cbc-8bfb-d89b6937f987.reclaimEnd</td><td><a href=\"https://www.amazon.com/gp/help/customer/display.html/ref=footer_privacy?ie=UTF8&amp;nodeId=468496\" target=\"_blank\" rel=\"noopener noreferrer nofollow\" title=\"Amazon's privacy policy\">Amazon</a></td><td title=\"Pending\">Pending</td><td title=\"Persistent\">Persistent</td><td title=\"HTML\">HTML</td></tr><tr><td title=\"awc-prod.fd3dbb7e-0907-4cbc-8bfb-d89b6937f987.reclaimStart\">awc-prod.fd3dbb7e-0907-4cbc-8bfb-d89b6937f987.reclaimStart</td><td><a href=\"https://www.amazon.com/gp/help/customer/display.html/ref=footer_privacy?ie=UTF8&amp;nodeId=468496\" target=\"_blank\" rel=\"noopener noreferrer nofollow\" title=\"Amazon's privacy policy\">Amazon</a></td><td title=\"Pending\">Pending</td><td title=\"Persistent\">Persistent</td><td title=\"HTML\">HTML</td></tr><tr><td title=\"cc.js\">cc.js</td><td><a href=\"https://www.elastic.co/legal/privacy-statement\" target=\"_blank\" rel=\"noopener noreferrer nofollow\" title=\"Swiftype's privacy policy\">Swiftype</a></td><td title=\"Pending\">Pending</td><td title=\"Session\">Session</td><td title=\"Pixel\">Pixel</td></tr><tr><td title=\"ovp-analytics-142ddf11-bd83-4aa9-b803-4e807fbb3fe2\">ovp-analytics-142ddf11-bd83-4aa9-b803-4e807fbb3fe2</td><td>ljsp.lwcdn.com</td><td title=\"Pending\">Pending</td><td title=\"1 day\">1 day</td><td title=\"HTTP\">HTTP</td></tr><tr><td title=\"ovp-analytics-1867047b-50be-452a-ba95-6b6082d6c261\">ovp-analytics-1867047b-50be-452a-ba95-6b6082d6c261</td><td>ljsp.lwcdn.com</td><td title=\"Pending\">Pending</td><td title=\"1 day\">1 day</td><td title=\"HTTP\">HTTP</td></tr><tr><td title=\"ovp-analytics-3daa8ad9-05b0-4819-97f0-ebd3cc4b5eec\">ovp-analytics-3daa8ad9-05b0-4819-97f0-ebd3cc4b5eec</td><td>ljsp.lwcdn.com</td><td title=\"Pending\">Pending</td><td title=\"1 day\">1 day</td><td title=\"HTTP\">HTTP</td></tr><tr><td title=\"ovp-analytics-43c92309-5ad4-4e06-97ca-5ad598928f15\">ovp-analytics-43c92309-5ad4-4e06-97ca-5ad598928f15</td><td>ljsp.lwcdn.com</td><td title=\"Pending\">Pending</td><td title=\"1 day\">1 day</td><td title=\"HTTP\">HTTP</td></tr><tr><td title=\"ovp-analytics-54af1dca-0819-43b2-8702-fe7505d4043d\">ovp-analytics-54af1dca-0819-43b2-8702-fe7505d4043d</td><td>ljsp.lwcdn.com</td><td title=\"Pending\">Pending</td><td title=\"1 day\">1 day</td><td title=\"HTTP\">HTTP</td></tr><tr><td title=\"ovp-analytics-54d1be0d-786a-45fa-810b-f654d3cba985\">ovp-analytics-54d1be0d-786a-45fa-810b-f654d3cba985</td><td>ljsp.lwcdn.com</td><td title=\"Pending\">Pending</td><td title=\"1 day\">1 day</td><td title=\"HTTP\">HTTP</td></tr><tr><td title=\"ovp-analytics-6f80960e-b8ed-4405-bb55-7d69ade8b293\">ovp-analytics-6f80960e-b8ed-4405-bb55-7d69ade8b293</td><td>ljsp.lwcdn.com</td><td title=\"Pending\">Pending</td><td title=\"1 day\">1 day</td><td title=\"HTTP\">HTTP</td></tr><tr><td title=\"ovp-analytics-920630f5-b404-44ee-89db-0e94c33f98e5\">ovp-analytics-920630f5-b404-44ee-89db-0e94c33f98e5</td><td>ljsp.lwcdn.com</td><td title=\"Pending\">Pending</td><td title=\"1 day\">1 day</td><td title=\"HTTP\">HTTP</td></tr><tr><td title=\"ovp-analytics-a5c849dd-48fe-41fd-86c3-798331635a8d\">ovp-analytics-a5c849dd-48fe-41fd-86c3-798331635a8d</td><td>ljsp.lwcdn.com</td><td title=\"Pending\">Pending</td><td title=\"1 day\">1 day</td><td title=\"HTTP\">HTTP</td></tr><tr><td title=\"ovp-analytics-b3f85153-74f0-4d5b-93a5-9237772e06b6\">ovp-analytics-b3f85153-74f0-4d5b-93a5-9237772e06b6</td><td>ljsp.lwcdn.com</td><td title=\"Pending\">Pending</td><td title=\"1 day\">1 day</td><td title=\"HTTP\">HTTP</td></tr><tr><td title=\"ovp-analytics-bb8a33e8-b5cd-41e5-bcab-43d2c3268e45\">ovp-analytics-bb8a33e8-b5cd-41e5-bcab-43d2c3268e45</td><td>ljsp.lwcdn.com</td><td title=\"Pending\">Pending</td><td title=\"1 day\">1 day</td><td title=\"HTTP\">HTTP</td></tr><tr><td title=\"ovp-analytics-cbdb9909-0dbd-4c37-9cf7-56868ca136be\">ovp-analytics-cbdb9909-0dbd-4c37-9cf7-56868ca136be</td><td>ljsp.lwcdn.com</td><td title=\"Pending\">Pending</td><td title=\"1 day\">1 day</td><td title=\"HTTP\">HTTP</td></tr><tr><td title=\"ovp-analytics-cc1a8391-ae74-4124-95ea-7b464c6bdd99\">ovp-analytics-cc1a8391-ae74-4124-95ea-7b464c6bdd99</td><td>ljsp.lwcdn.com</td><td title=\"Pending\">Pending</td><td title=\"1 day\">1 day</td><td title=\"HTTP\">HTTP</td></tr><tr><td title=\"ovp-analytics-fef6a4d6-b509-473b-b53a-596996002e13\">ovp-analytics-fef6a4d6-b509-473b-b53a-596996002e13</td><td>ljsp.lwcdn.com</td><td title=\"Pending\">Pending</td><td title=\"1 day\">1 day</td><td title=\"HTTP\">HTTP</td></tr><tr><td title=\"adOtr\">adOtr</td><td><a href=\"https://www.stackpath.com/legal/privacy-statement/\" target=\"_blank\" rel=\"noopener noreferrer nofollow\" title=\"Stackpath's privacy policy\">Stackpath</a></td><td title=\"Pending\">Pending</td><td title=\"Session\">Session</td><td title=\"HTTP\">HTTP</td></tr><tr><td title=\"altutgv2\">altutgv2</td><td><a href=\"https://www.stackpath.com/legal/privacy-statement/\" target=\"_blank\" rel=\"noopener noreferrer nofollow\" title=\"Stackpath's privacy policy\">Stackpath</a></td><td title=\"Pending\">Pending</td><td title=\"Persistent\">Persistent</td><td title=\"HTML\">HTML</td></tr><tr><td title=\"cnv\">cnv</td><td><a href=\"https://www.stackpath.com/legal/privacy-statement/\" target=\"_blank\" rel=\"noopener noreferrer nofollow\" title=\"Stackpath's privacy policy\">Stackpath</a></td><td title=\"Pending\">Pending</td><td title=\"Persistent\">Persistent</td><td title=\"HTML\">HTML</td></tr><tr><td title=\"csr\">csr</td><td><a href=\"https://www.stackpath.com/legal/privacy-statement/\" target=\"_blank\" rel=\"noopener noreferrer nofollow\" title=\"Stackpath's privacy policy\">Stackpath</a></td><td title=\"Pending\">Pending</td><td title=\"Persistent\">Persistent</td><td title=\"HTML\">HTML</td></tr><tr><td title=\"otr\">otr</td><td><a href=\"https://www.stackpath.com/legal/privacy-statement/\" target=\"_blank\" rel=\"noopener noreferrer nofollow\" title=\"Stackpath's privacy policy\">Stackpath</a></td><td title=\"Pending\">Pending</td><td title=\"Persistent\">Persistent</td><td title=\"HTML\">HTML</td></tr><tr><td title=\"PRLST\">PRLST</td><td><a href=\"https://www.stackpath.com/legal/privacy-statement/\" target=\"_blank\" rel=\"noopener noreferrer nofollow\" title=\"Stackpath's privacy policy\">Stackpath</a></td><td title=\"Pending\">Pending</td><td title=\"Session\">Session</td><td title=\"HTTP\">HTTP</td></tr><tr><td title=\"sbbi\">sbbi</td><td><a href=\"https://www.stackpath.com/legal/privacy-statement/\" target=\"_blank\" rel=\"noopener noreferrer nofollow\" title=\"Stackpath's privacy policy\">Stackpath</a></td><td title=\"Pending\">Pending</td><td title=\"Session\">Session</td><td title=\"Pixel\">Pixel</td></tr><tr><td title=\"sbtsck\">sbtsck</td><td><a href=\"https://www.stackpath.com/legal/privacy-statement/\" target=\"_blank\" rel=\"noopener noreferrer nofollow\" title=\"Stackpath's privacy policy\">Stackpath</a></td><td title=\"Pending\">Pending</td><td title=\"1 day\">1 day</td><td title=\"HTTP\">HTTP</td></tr><tr><td title=\"spcsrf\">spcsrf</td><td><a href=\"https://www.stackpath.com/legal/privacy-statement/\" target=\"_blank\" rel=\"noopener noreferrer nofollow\" title=\"Stackpath's privacy policy\">Stackpath</a></td><td title=\"Pending\">Pending</td><td title=\"1 day\">1 day</td><td title=\"HTTP\">HTTP</td></tr><tr><td title=\"__adroll_shared\">__adroll_shared</td><td><a href=\"https://www.adrollgroup.com/privacy\" target=\"_blank\" rel=\"noopener noreferrer nofollow\" title=\"Adroll's privacy policy\">Adroll</a></td><td title=\"Pending\">Pending</td><td title=\"1 year\">1 year</td><td title=\"HTTP\">HTTP</td></tr><tr><td title=\"cedexistest/r20.gif\">cedexistest/r20.gif</td><td><a href=\"https://privacy.microsoft.com/en-us/privacystatement\" target=\"_blank\" rel=\"noopener noreferrer nofollow\" title=\"Microsoft's privacy policy\">Microsoft</a></td><td title=\"Pending\">Pending</td><td title=\"Session\">Session</td><td title=\"Pixel\">Pixel</td></tr><tr><td title=\"external_referrer_url\">external_referrer_url</td><td><a href=\"https://www.jazzhr.com/privacy-policy/\" target=\"_blank\" rel=\"noopener noreferrer nofollow\" title=\"Jazzhr's privacy policy\">Jazzhr</a></td><td title=\"Pending\">Pending</td><td title=\"1 day\">1 day</td><td title=\"HTTP\">HTTP</td></tr><tr><td title=\"internal_navigation_count\">internal_navigation_count</td><td><a href=\"https://www.jazzhr.com/privacy-policy/\" target=\"_blank\" rel=\"noopener noreferrer nofollow\" title=\"Jazzhr's privacy policy\">Jazzhr</a></td><td title=\"Pending\">Pending</td><td title=\"1 day\">1 day</td><td title=\"HTTP\">HTTP</td></tr><tr><td title=\"SF_PHPSESSID\">SF_PHPSESSID</td><td><a href=\"https://www.jazzhr.com/privacy-policy/\" target=\"_blank\" rel=\"noopener noreferrer nofollow\" title=\"Jazzhr's privacy policy\">Jazzhr</a></td><td title=\"Pending\">Pending</td><td title=\"Session\">Session</td><td title=\"HTTP\">HTTP</td></tr><tr><td title=\"gaconnectorId\">gaconnectorId</td><td>track.gaconnector.com</td><td title=\"Pending\">Pending</td><td title=\"1 year\">1 year</td><td title=\"HTTP\">HTTP</td></tr></tbody></table> </div></div></div></div></div><div id=\"CybotCookiebotDialogDetailBodyContentTextIAB\" lang=\"en\"> [#COOKIESIABCONTENT#] </div><div id=\"CybotCookiebotDialogDetailBodyContentTextAbout\" lang=\"en\"> Cookies are small text files that can be used by websites to make a user's experience more efficient.<br style=\"\"><br style=\"\">The law states that we can store cookies on your device if they are strictly necessary for the operation of this site. For all other types of cookies we need your permission.<br style=\"\"><br style=\"\">This site uses different types of cookies. Some cookies are placed by third party services that appear on our pages.<br style=\"\"><br style=\"\">You can at any time change or withdraw your consent from the Cookie Declaration on our website.<br style=\"\"><br style=\"\">Learn more about who we are, how you can contact us and how we process personal data in our&nbsp;<a href=\"https://www.stackpath.com/privacy-statement/\" style=\"\">Privacy Statement</a>.<br><br>Your consent applies to the following domains: lp.stackpath.com, developer.stackpath.com, control.stackpath.com, status.stackpath.com, support.stackpath.com, api.stackpath.com, blog.stackpath.com, stackpath.com, order.stackpath.com, app.stackpath.com<br><br> </div></div><div id=\"CybotCookiebotDialogDetailFooter\" lang=\"en\"> Cookie declaration last updated on 24/01/2020 by <a href=\"https://www.cookiebot.com\" target=\"_blank\" rel=\"noopener\" title=\"Cookiebot\">Cookiebot</a> </div></div></div></div>\n"
     ]
    }
   ],
   "source": [
    "# url 110\n",
    "i = urls[109]\n",
    "#open_url(i)\n",
    "element = driver.find_element_by_css_selector('#CybotCookiebotDialog')\n",
    "source = element.get_attribute(\"outerHTML\")\n",
    "print(source)\n",
    "data.append({\"TYPE\" : ad_type, \"ad_code\" : source, \"URL\" : i})"
   ]
  },
  {
   "cell_type": "code",
   "execution_count": 667,
   "metadata": {
    "collapsed": true
   },
   "outputs": [
    {
     "name": "stdout",
     "output_type": "stream",
     "text": [
      "<div role=\"alert\" class=\"cookie-banner js-cookie-banner\" id=\"plcPrivacyPopup\" style=\"display: block;\">\n",
      "    <div class=\"cookie-banner__content-wrapper cookie-message\">\n",
      "        <button class=\"cookie-banner__accept-button js-accept-cookies\" id=\"js-accept-cookies\">ACCEPT</button>\n",
      "        <div class=\"cookie-banner__rte\">\n",
      "            What do we use cookies for? We use cookies and similar technologies to recognize your repeat visits and preferences, as well as to measure the effectiveness of campaigns and analyze traffic. To learn more about cookies, including  <a href=\"/en/Cookie-Preferences\">how to disable them</a>,   <a href=\"/en/Learn/Privacy-Policy\">view our cookie policy</a> . By clicking \"Accept\" on this banner, you consent to the use of cookies unless you have disabled them.\n",
      "        </div>\n",
      "        <button class=\"close-button js-deny-cookies\" id=\"js-deny-cookies\" aria-label=\"Enable limited cookies only\">x</button>\n",
      "    </div>\n",
      "</div>\n"
     ]
    }
   ],
   "source": [
    "# url 111\n",
    "i = urls[110]\n",
    "#open_url(i)\n",
    "element = driver.find_element_by_css_selector('#plcPrivacyPopup')\n",
    "source = element.get_attribute(\"outerHTML\")\n",
    "print(source)\n",
    "data.append({\"TYPE\" : ad_type, \"ad_code\" : source, \"URL\" : i})"
   ]
  },
  {
   "cell_type": "code",
   "execution_count": 670,
   "metadata": {
    "collapsed": true
   },
   "outputs": [
    {
     "name": "stdout",
     "output_type": "stream",
     "text": [
      "<div id=\"CybotCookiebotDialog\" name=\"CybotCookiebotDialog\" role=\"alertdialog\" aria-describedby=\"CybotCookiebotDialogBodyContentTitle\" dir=\"ltr\" ng-non-bindable=\"\" style=\"display: block; opacity: 1; top: 174px; width: 100%; height: auto;\" lang=\"en\"><div id=\"CybotCookiebotDialogBody\"><div id=\"CybotCookiebotDialogPoweredbyLink\"><img id=\"CybotCookiebotDialogPoweredbyImage\" src=\"data:image/png;base64,iVBORw0KGgoAAAANSUhEUgAAAC4AAAAuCAYAAABXuSs3AAAAAXNSR0IArs4c6QAAAARnQU1BAACxjwv8YQUAAAAJcEhZcwAADsMAAA7DAcdvqGQAAAjESURBVGhD7Vh7cFTVGV+n7YCAlgLyfocqPopWHooUAkIohEcqILFYGYkQkkAIhCDvhw8GEKFVLFHKlEFE5TmOUrAKVamlUBQHKAgIreSxSXaT3Wx2s0n23nN//Z1zb9xsdvPY6Ez/yW/mm73nu+d+93e+8z3OXVszmtGMZjRDwTCM0f8P0TQtor6xYsMPhPLSSuze+AG2LNiDvx04a2kjw+sqt66ajkYTL8xzwuMqs0ahKC5w46khqzCsdRIebTcXQ1s+jW3L37buhqLSX4mPD/7DGjUdjSZe5vZhf/ZR6JpuaYLYvfl9PNJqFhJiMjG57yJM6JmBcd3mIecbuzUjiEM7PsLnx85Zo6YjqlA5eeQLbF/9rjUKYsui3Yj96RxFuloe7ZCM86euWDNMXPnqv1gwYQOqKgKWpumIOsZ/n7UHL5NoTZw4fBqP3Po0JvZaqEiP7pCKxAHPMrR81gyGWq4TCf0ycOTNzyzN90PUxLWAjpTRLyAzYTMc9hJLC8b0XozuOBexbWdjSv8snDkuE9Sr7l04fRWP3bkIzwxfB1YEpfu+iJo4YNCTfky9ezHie6bjra1HUJDjVHfsNx04f/oKF6dxpOHGxSPYtuIgxnZJw69uS8LlL2+oeWEwwvOmIURN3BCysjhw85qTSZiuKshjd2Uia+pWvL52P/b+4aiqKAsnbcLE3qkY9bO5DKNZ2LXxPdNALRhGJfTAdWvUeDTJ45r/ff4KnPrrBYy+Yy7iuy9AXMc0kkzGSMoolsS4TmmY1DsTI9smq0UJXZiP14JWcRIicNUaNR5NIA7olZ9A+Per6+w1+1VFSYgJVhQpcizJz3xoFVyOUjU3DIYXmucl/kZfZZpEHEY5tJI5vPDC76vE7wavZN1ODyEua/nkmMW4cTnHfCYCdN+flDQFTSNO6J6VEGWb1fU7r/yF1aRWHW+fipfmmfcjQi7eMYY5k28pokMt4oKdURqKHI81YWiXoBfczasK3LhUiPHd5zOmzTouJbbtPOxc8yzvR7YlyjZBL55mjeqH0B2U0HAL87jQCxHwHWK2eyxN3dCLhvDwsR6lbmA6G058jwXfER/TMR1Lp63krHDihuGDbu8Eo+KIpakbeuUplcD0lKUxETFUhHYVmns55/7H0kSG8L0BONsw+XIx/RerQ4hL74/tPB8XT1+zZgchyp6HsHeQ9cnSRIbu3QnN+7q8MhU1UGeMG1XnEXCMh6j6u6UJhyFcQGkLXD35BMb1WB0SKlJkiUyNW281JBOGKIXIawVRmmlpIkN3L4ReutwahaPe5DQCX0Kz94Eof9PSRICRiLfX9sDIdsvU6TC+ezoTMwVxnSX5LIy4fTay1+6zJtPbTGojx0bbFy1NKAyWSN05BnpJkqWJjHqJS4iq09DzWvKFa7m14Qj4TyBlxFT8uusShsY8PPHAMryQvAMZExazji+gPpMLmcNm9TVn09u5tFX0S/PhWjC0bxj7MRDFUy1N3WiQuITBcBH0kiiZoVp0Tbgd5Zh2z1KMuSMVs2M3oijXOnj5JuPknq6Y1j+F3XQ+Eh/YhJIbs4Ei2vG+as6pAVF5nItiCDknWpr60SjiEqLyI7XFouhhnomCTcXvq8CTD67geSQJh7O3W1qi+CGgyoYLn25AfK81GNYmE6+kDmbPahHyvITwZcO4SdvOsdzVhkuxBD+WG//9J/yHzRfYu3EhwaRdNysbD96Shg9eZXnEBaUThfcCXCiwD9nPfYbht6dhYs+ZyPlqrrovYUia7gwY39KmY0TYbtYHm+Z7B1rZdhKRB/yGj5cyUVVy5f2Envqz0p395GsM/NF8bE0eSBOJKhdEQS+TuJHNtl/EBjUbw9vMwb7XjqpnDMGm4hwPSNJFgzhuuG8Yei70cvJliVShIqr+ybqdBY3xpbszYdCb0ht1Qfe+ZpKXoeNZqnTLZ+zFpJ6/hf96K054D0Zhb5O4/0VUOZYgacgUfkynYVOGPN5e4o70B+TucWcMUaRsRIKh2+kgnmmKp5NfIs82OznfGRrjhnaNW5fFzO6tRLjnqZ0wjCprRhCibMN35OGdjqL864jruhaHNpKQ1geGvR2Qx/sOhkxha2SMfRxDWy3DxuQMoLyDWpQo6EtiNy2LQcgcEL4dDJ9R0PPbs0OP4k7Lb91gPwghXg3VJLxbGMs9IFRMd+IiUiAqjvFe8C8KXZbIXJqQUjUAn+9PQOK9T6Hs6o/ZUanLpxRQ7Dakj3kSQ1quw1vrGE5eSbobbeUpO3JvDXZr4d1GsiNZXXhfLqw4ISSXaoJW64bBmBf+dxmDg1VSKinowrI4k/pDEDxzCM8KepZE6V34bTiwaSD+mBELlFnEHTb4r92KGfen8PyShW8/5U54YvjVc5FNiGS5c8IxjDlD2zLeaUu453Mhof8Q1Ea9xKuhkq3iY3pgsulhuQD+ykXorO2ioLNJkp6V3jy2/R5cOtqVJZFjjw2XP+yOIS1WYUvyOLUgUcytZ3eUZKUtFeuyUnleVDHdGPCp6CCqzkG45sDIv80MESmSdLVI8gwT57m2JHYLT702bE0dh9/0S4PnWmtzMZKw9azsosL7hmr10YBPRw+1A4F/09vPcAEtQ4lXk2eHhMsG+7/aI/G+JFw53k3thiJN0Qv6s0Lsiqp21wQt8LCjneGh4wQTjB/BFXsZqzvYsl/mi1Zzq9N5xJhJEglAySh6k8nluJPSj+RY8iTJSMKkFIzvnUsG4ouDXVT8f7codZ875riLNmJo8z7KUL6DoeR+nO9MZkgtIYf1rEDb+OwunvsPkN+H5Mlk1c6ReOVWTsgiSZLzxPPBh0mQBku6U+glJbx29aCwqbj6UPgy1885l/PcAyj3h4tvAPLPxiLnTBy3hyUxbA51LjrARQe4+lLohJKe1ntrvpt6F+eXjiS/KbSbyoU8J1u+MahaAiHiDEogyl91bR9U6nTS7nVTH3Kvgd/qa9oIGKUUk1NNrtbf+81oRjOa8YPAZvsfy5zEI92nm+IAAAAASUVORK5CYII=\" alt=\"logo\"></div><div id=\"CybotCookiebotDialogBodyContent\"><h2 id=\"CybotCookiebotDialogBodyContentTitle\" lang=\"en\">This website uses cookies</h2><div id=\"CybotCookiebotDialogBodyContentText\" lang=\"en\"><p style=\"\">We use cookies to personalize content, to provide social media features and to analyze our traffic.&nbsp; We also share information about your use of our site with our advertising and analytics partners who may combine it with other information that you’ve provided to them or that they’ve collected from your use of their services.&nbsp;You may turn off any cookies that are not required to run the website by clicking “Show Details” and unselecting cookies.</p><p style=\"\">For more information on how we handle your personal data, view our <a href=\"http://www.biolegend.com/privacy_policy\" style=\"\">Privacy Policy.</a></p><p style=\"\">&nbsp;</p></div></div><div id=\"CybotCookiebotDialogBodyContentControls\" style=\"display: none;\"><div class=\"CybotCookiebotDialogBodyContentControlsWrapper\"><input type=\"checkbox\" id=\"CybotCookiebotDialogBodyContentCheckboxPersonalInformation\" class=\"CybotCookiebotDialogBodyLevelButton\" tabindex=\"0\"><label class=\"CybotCookiebotDialogBodyContentLabelPersonalInformation\" for=\"CybotCookiebotDialogBodyContentCheckboxPersonalInformation\"></label></div></div><div id=\"CybotCookiebotDialogBodyButtons\"><a id=\"CybotCookiebotDialogBodyButtonDecline\" class=\"CybotCookiebotDialogBodyButton\" href=\"javascript: void(0);\" tabindex=\"0\" style=\"display: none;\" lang=\"en\"> Use necessary cookies only </a><a id=\"CybotCookiebotDialogBodyButtonAccept\" class=\"CybotCookiebotDialogBodyButton\" href=\"javascript: void(0);\" tabindex=\"0\" style=\"padding-left: 12px; padding-right: 12px;\" lang=\"en\"> OK </a><a id=\"CybotCookiebotDialogBodyButtonDetails\" class=\"CybotCookiebotDialogBodyLink\" href=\"javascript: void(0);\" tabindex=\"0\" lang=\"en\"> Settings </a></div><div id=\"CybotCookiebotDialogBodyLevelWrapper\"><div id=\"CybotCookiebotDialogBodyLevelButtonAcceptWrapper\"><a id=\"CybotCookiebotDialogBodyLevelButtonAccept\" href=\"javascript: void(0);\" tabindex=\"0\" lang=\"en\"> OK </a></div><div id=\"CybotCookiebotDialogBodyLevelButtonLevelOptinAllowallSelectionWrapper\" style=\"display:none\"><a id=\"CybotCookiebotDialogBodyLevelButtonLevelOptinAllowallSelection\" class=\"CybotCookiebotDialogBodyButton\" href=\"javascript: void(0);\" tabindex=\"0\" lang=\"en\"> Allow selection </a><a id=\"CybotCookiebotDialogBodyLevelButtonLevelOptinAllowAll\" class=\"CybotCookiebotDialogBodyButton\" href=\"javascript: void(0);\" tabindex=\"0\" lang=\"en\"> Allow all cookies </a></div><!--Checkboxes--><div id=\"CybotCookiebotDialogBodyLevelButtons\"><div id=\"CybotCookiebotDialogBodyLevelButtonsTable\"><div id=\"CybotCookiebotDialogBodyLevelButtonsRow\"><div id=\"CybotCookiebotDialogBodyLevelButtonsSelectPane\"><div class=\"CybotCookiebotDialogBodyLevelButtonWrapper\"><label for=\"CybotCookiebotDialogBodyLevelButtonNecessary\">Necessary</label></div><div class=\"CybotCookiebotDialogBodyLevelButtonWrapper\"><label for=\"CybotCookiebotDialogBodyLevelButtonPreferences\">Preferences</label></div><div class=\"CybotCookiebotDialogBodyLevelButtonWrapper\"><label for=\"CybotCookiebotDialogBodyLevelButtonStatistics\">Statistics</label></div><div class=\"CybotCookiebotDialogBodyLevelButtonWrapper\"><label for=\"CybotCookiebotDialogBodyLevelButtonMarketing\">Marketing</label></div></div><div id=\"CybotCookiebotDialogBodyLevelDetailsWrapper\"><a id=\"CybotCookiebotDialogBodyLevelDetailsButton\" class=\"CybotCookiebotDialogBodyLink\" href=\"javascript: void(0);\" tabindex=\"0\" lang=\"en\"> Settings </a></div></div></div></div></div></div><div id=\"CybotCookiebotDialogDetail\"><div id=\"CybotCookiebotDialogDetailBody\"><div id=\"CybotCookiebotDialogDetailBodyContentTabs\"><a id=\"CybotCookiebotDialogDetailBodyContentTabsOverview\" class=\"CybotCookiebotDialogDetailBodyContentTab CybotCookiebotDialogDetailBodyContentTabsItemSelected\" href=\"javascript: CookieConsent.dialog.showDetailPane('overview');\" lang=\"en\"> Cookie declaration </a><a id=\"CybotCookiebotDialogDetailBodyContentTabsIAB\" class=\"CybotCookiebotDialogDetailBodyContentTab CybotCookiebotDialogDetailBodyContentTabsItem\" href=\"javascript: CookieConsent.dialog.showDetailPane('iab');\" lang=\"en\"> [#IABSETTINGS#] </a><a id=\"CybotCookiebotDialogDetailBodyContentTabsAbout\" class=\"CybotCookiebotDialogDetailBodyContentTab CybotCookiebotDialogDetailBodyContentTabsItem\" href=\"javascript: CookieConsent.dialog.showDetailPane('about');\" lang=\"en\"> About cookies </a></div><div id=\"CybotCookiebotDialogDetailBodyContent\"><div id=\"CybotCookiebotDialogDetailBodyContentTextOverview\" lang=\"en\"><div id=\"CybotCookiebotDialogDetailBodyContentCookieContainer\"><div id=\"CybotCookiebotDialogDetailBodyContentCookieContainerTypes\" style=\"background-color: rgb(255, 255, 255);\"><a id=\"CybotCookiebotDialogDetailBodyContentCookieContainerNecessary\" class=\"CybotCookiebotDialogDetailBodyContentCookieContainerTypesSelected\" title=\"Mandatory - can not be deselected.\" style=\"padding-top: 7px; padding-bottom: 5px; position: relative; z-index: 1;\" lang=\"en\"><input type=\"checkbox\" id=\"CybotCookiebotDialogBodyLevelButtonNecessary\" class=\"CybotCookiebotDialogBodyLevelButton CybotCookiebotDialogBodyLevelButtonDisabled\" disabled=\"disabled\" checked=\"checked\" style=\"z-index: 10000; position: absolute;\"><label for=\"CybotCookiebotDialogBodyLevelButtonNecessary\" style=\"display: inline-block; background-position-y: -1px;\">&nbsp;</label>Necessary (9)</a><a id=\"CybotCookiebotDialogDetailBodyContentCookieContainerPreference\" class=\"CybotCookiebotDialogDetailBodyContentCookieContainerTypes\" style=\"padding-top: 7px; padding-bottom: 5px; position: relative; z-index: 1;\" lang=\"en\"><input type=\"checkbox\" id=\"CybotCookiebotDialogBodyLevelButtonPreferences\" class=\"CybotCookiebotDialogBodyLevelButton\" checked=\"checked\" tabindex=\"0\" style=\"z-index: 10000; position: absolute;\"><label for=\"CybotCookiebotDialogBodyLevelButtonPreferences\" style=\"display: inline-block; background-position-y: -1px;\">&nbsp;</label>Preferences (3)</a><a id=\"CybotCookiebotDialogDetailBodyContentCookieContainerStatistics\" class=\"CybotCookiebotDialogDetailBodyContentCookieContainerTypes\" style=\"padding-top: 7px; padding-bottom: 5px; position: relative; z-index: 1;\" lang=\"en\"><input type=\"checkbox\" id=\"CybotCookiebotDialogBodyLevelButtonStatistics\" class=\"CybotCookiebotDialogBodyLevelButton\" checked=\"checked\" tabindex=\"0\" style=\"z-index: 10000; position: absolute;\"><label for=\"CybotCookiebotDialogBodyLevelButtonStatistics\" style=\"display: inline-block; background-position-y: -1px;\">&nbsp;</label>Statistics (12)</a><a id=\"CybotCookiebotDialogDetailBodyContentCookieContainerAdvertising\" class=\"CybotCookiebotDialogDetailBodyContentCookieContainerTypes\" style=\"padding-top: 7px; padding-bottom: 5px; position: relative; z-index: 1;\" lang=\"en\"><input type=\"checkbox\" id=\"CybotCookiebotDialogBodyLevelButtonMarketing\" class=\"CybotCookiebotDialogBodyLevelButton\" checked=\"checked\" tabindex=\"0\" style=\"z-index: 10000; position: absolute;\"><label for=\"CybotCookiebotDialogBodyLevelButtonMarketing\" style=\"display: inline-block; background-position-y: -1px;\">&nbsp;</label>Marketing (74)</a><a id=\"CybotCookiebotDialogDetailBodyContentCookieContainerUnclassified\" href=\"javascript: CookieConsent.dialog.showCookieContainerDetailPane('unclassified');\" class=\"CybotCookiebotDialogDetailBodyContentCookieContainerTypes\" style=\"padding-top: 7px; padding-bottom: 7px; border-bottom: 0px none;\" lang=\"en\"><label>&nbsp;</label>Unclassified (0)</a></div><div id=\"CybotCookiebotDialogDetailBodyContentCookieContainerTypeDetails\"><div id=\"CybotCookiebotDialogDetailBodyContentCookieTabsNecessary\"><div class=\"CybotCookiebotDialogDetailBodyContentCookieTypeIntro\">Necessary cookies help make a website usable by enabling basic functions like page navigation and access to secure areas of the website. The website cannot function properly without these cookies.</div><div class=\"CybotCookiebotDialogDetailBodyContentCookieTypeTableContainer\"> <table id=\"CybotCookiebotDialogDetailTableNecessary\" class=\"CybotCookiebotDialogDetailBodyContentCookieTypeTable\"><thead><tr><th scope=\"col\">Name</th><th scope=\"col\">Provider</th><th scope=\"col\">Purpose</th><th scope=\"col\">Expiry</th><th scope=\"col\">Type</th></tr></thead><tbody><tr><td title=\"ASP.NET_SessionId\">ASP.NET_SessionId</td><td>www.biolegend.com</td><td title=\"Preserves the visitor's session state across page requests.\">Preserves the visitor's session state across page requests.</td><td title=\"Session\">Session</td><td title=\"HTTP\">HTTP</td></tr><tr><td title=\"CookieConsent\">CookieConsent</td><td><a href=\"https://www.cookiebot.com/goto/privacy-policy/\" target=\"_blank\" rel=\"noopener noreferrer nofollow\" title=\"Cookiebot's privacy policy\">Cookiebot</a></td><td title=\"Stores the user's cookie consent state for the current domain\">Stores the user's cookie consent state for the current domain</td><td title=\"1 year\">1 year</td><td title=\"HTTP\">HTTP</td></tr><tr><td title=\"Dynamicweb.SessionVisitor\">Dynamicweb.SessionVisitor</td><td>www.biolegend.com</td><td title=\"Preserves users states across page requests.\">Preserves users states across page requests.</td><td title=\"1 day\">1 day</td><td title=\"HTTP\">HTTP</td></tr><tr><td title=\"Ecom.SelectedLangID.Frontend\">Ecom.SelectedLangID.Frontend</td><td>www.biolegend.com</td><td title=\"The cookie determines the preferred language and country-setting of the visitor - This allows the website to show content most relevant to that region and language.\">The cookie determines the preferred language and country-setting of the visitor - This allows the website to show content most relevant to that region and language.</td><td title=\"Session\">Session</td><td title=\"HTTP\">HTTP</td></tr><tr><td title=\"language\">language</td><td>www.biolegend.com</td><td title=\"Saves the user's preferred language on the website.\">Saves the user's preferred language on the website.</td><td title=\"6 days\">6 days</td><td title=\"HTTP\">HTTP</td></tr><tr><td title=\"JSESSIONID\">JSESSIONID</td><td><a href=\"https://newrelic.com/privacy\" target=\"_blank\" rel=\"noopener noreferrer nofollow\" title=\"New Relic's privacy policy\">New Relic</a></td><td title=\"Preserves users states across page requests.\">Preserves users states across page requests.</td><td title=\"Session\">Session</td><td title=\"HTTP\">HTTP</td></tr><tr><td title=\"OptanonConsent\">OptanonConsent</td><td><a href=\"https://prezi.com/privacy-policy/\" target=\"_blank\" rel=\"noopener noreferrer nofollow\" title=\"Prezi's privacy policy\">Prezi</a></td><td title=\"Determines whether the visitor has accepted the cookie consent box. This ensures that the cookie consent box will not be presented again upon re-entry.  \">Determines whether the visitor has accepted the cookie consent box. This ensures that the cookie consent box will not be presented again upon re-entry.  </td><td title=\"1 year\">1 year</td><td title=\"HTTP\">HTTP</td></tr><tr><td title=\"m-b\">m-b</td><td><a href=\"https://www.quora.com/about/privacy\" target=\"_blank\" rel=\"noopener noreferrer nofollow\" title=\"Quora's privacy policy\">Quora</a></td><td title=\"Ensures visitor browsing-security by preventing cross-site request forgery. This cookie is essential for the security of the website and visitor.   \">Ensures visitor browsing-security by preventing cross-site request forgery. This cookie is essential for the security of the website and visitor.   </td><td title=\"2 years\">2 years</td><td title=\"HTTP\">HTTP</td></tr><tr><td title=\"Dynamicweb.CookieOptInLevel\">Dynamicweb.CookieOptInLevel</td><td>biolegend.com</td><td title=\"Pending\">Pending</td><td title=\"1 year\">1 year</td><td title=\"HTTP\">HTTP</td></tr></tbody></table> </div></div><div id=\"CybotCookiebotDialogDetailBodyContentCookieTabsPreference\"><div class=\"CybotCookiebotDialogDetailBodyContentCookieTypeIntro\">Preference cookies enable a website to remember information that changes the way the website behaves or looks, like your preferred language or the region that you are in.</div><div class=\"CybotCookiebotDialogDetailBodyContentCookieTypeTableContainer\"> <table id=\"CybotCookiebotDialogDetailTablePreference\" class=\"CybotCookiebotDialogDetailBodyContentCookieTypeTable\"><thead><tr><th scope=\"col\">Name</th><th scope=\"col\">Provider</th><th scope=\"col\">Purpose</th><th scope=\"col\">Expiry</th><th scope=\"col\">Type</th></tr></thead><tbody><tr><td title=\"lang\">lang&nbsp;[x2]</td><td><a href=\"https://www.linkedin.com/legal/privacy-policy\" target=\"_blank\" rel=\"noopener noreferrer nofollow\" title=\"LinkedIn's privacy policy\">LinkedIn</a></td><td title=\"Remembers the user's selected language version of a website\">Remembers the user's selected language version of a website</td><td title=\"Session\">Session</td><td title=\"HTTP\">HTTP</td></tr><tr><td title=\"guid\">guid</td><td><a href=\"https://www.steelhousecopenhagen.com/da/cookiepolitik\" target=\"_blank\" rel=\"noopener noreferrer nofollow\" title=\"Steel House's privacy policy\">Steel House</a></td><td title=\"Preserves users states across page requests.\">Preserves users states across page requests.</td><td title=\"3 years\">3 years</td><td title=\"HTTP\">HTTP</td></tr></tbody></table> </div></div><div id=\"CybotCookiebotDialogDetailBodyContentCookieTabsStatistics\"><div class=\"CybotCookiebotDialogDetailBodyContentCookieTypeIntro\">Statistic cookies help website owners to understand how visitors interact with websites by collecting and reporting information anonymously.</div><div class=\"CybotCookiebotDialogDetailBodyContentCookieTypeTableContainer\"> <table id=\"CybotCookiebotDialogDetailTableStatistics\" class=\"CybotCookiebotDialogDetailBodyContentCookieTypeTable\"><thead><tr><th scope=\"col\">Name</th><th scope=\"col\">Provider</th><th scope=\"col\">Purpose</th><th scope=\"col\">Expiry</th><th scope=\"col\">Type</th></tr></thead><tbody><tr><td title=\"_ga\">_ga&nbsp;[x3]</td><td>biolegend.com<br><a href=\"https://momento360.com/ps/\" target=\"_blank\" rel=\"noopener noreferrer nofollow\" title=\"Momento360's privacy policy\">Momento360</a><br><a href=\"https://prezi.com/privacy-policy/\" target=\"_blank\" rel=\"noopener noreferrer nofollow\" title=\"Prezi's privacy policy\">Prezi</a></td><td title=\"Registers a unique ID that is used to generate statistical data on how the visitor uses the website.\">Registers a unique ID that is used to generate statistical data on how the visitor uses the website.</td><td title=\"2 years\">2 years</td><td title=\"HTTP\">HTTP</td></tr><tr><td title=\"_gat\">_gat&nbsp;[x3]</td><td>biolegend.com<br><a href=\"https://momento360.com/ps/\" target=\"_blank\" rel=\"noopener noreferrer nofollow\" title=\"Momento360's privacy policy\">Momento360</a><br><a href=\"https://prezi.com/privacy-policy/\" target=\"_blank\" rel=\"noopener noreferrer nofollow\" title=\"Prezi's privacy policy\">Prezi</a></td><td title=\"Used by Google Analytics to throttle request rate\">Used by Google Analytics to throttle request rate</td><td title=\"1 day\">1 day</td><td title=\"HTTP\">HTTP</td></tr><tr><td title=\"_gid\">_gid&nbsp;[x3]</td><td>biolegend.com<br><a href=\"https://momento360.com/ps/\" target=\"_blank\" rel=\"noopener noreferrer nofollow\" title=\"Momento360's privacy policy\">Momento360</a><br><a href=\"https://prezi.com/privacy-policy/\" target=\"_blank\" rel=\"noopener noreferrer nofollow\" title=\"Prezi's privacy policy\">Prezi</a></td><td title=\"Registers a unique ID that is used to generate statistical data on how the visitor uses the website.\">Registers a unique ID that is used to generate statistical data on how the visitor uses the website.</td><td title=\"1 day\">1 day</td><td title=\"HTTP\">HTTP</td></tr><tr><td title=\"collect\">collect</td><td><a href=\"https://policies.google.com/privacy\" target=\"_blank\" rel=\"noopener noreferrer nofollow\" title=\"Google's privacy policy\">Google</a></td><td title=\"Used to send data to Google Analytics about the visitor's device and behaviour. Tracks the visitor across devices and marketing channels.\">Used to send data to Google Analytics about the visitor's device and behaviour. Tracks the visitor across devices and marketing channels.</td><td title=\"Session\">Session</td><td title=\"Pixel\">Pixel</td></tr><tr><td title=\"_at.hist.#\">_at.hist.#</td><td><a href=\"https://www.podbean.com/site/default/privacy\" target=\"_blank\" rel=\"noopener noreferrer nofollow\" title=\"Podbean's privacy policy\">Podbean</a></td><td title=\"Used by the social sharing platform AddThis to store the user's usage history of the AddThis sharing widget\">Used by the social sharing platform AddThis to store the user's usage history of the AddThis sharing widget</td><td title=\"Persistent\">Persistent</td><td title=\"HTML\">HTML</td></tr><tr><td title=\"personalization_id\">personalization_id</td><td><a href=\"https://twitter.com/en/privacy\" target=\"_blank\" rel=\"noopener noreferrer nofollow\" title=\"Twitter's privacy policy\">Twitter</a></td><td title=\"This cookie is set by Twitter. The cookie allows the visitor to share content from the website on his/her Twitter profile.\">This cookie is set by Twitter. The cookie allows the visitor to share content from the website on his/her Twitter profile.</td><td title=\"2 years\">2 years</td><td title=\"HTTP\">HTTP</td></tr></tbody></table> </div></div><div id=\"CybotCookiebotDialogDetailBodyContentCookieTabsAdvertising\"><div class=\"CybotCookiebotDialogDetailBodyContentCookieTypeIntro\"><p class=\"cookiedeclarationtypedescription\" style=\"margin:1.5pt 0in 12pt;background-image:initial;background-position:initial;background-size:initial;background-repeat:initial;background-attachment:initial;background-origin:initial;background-clip:initial;\">Marketing cookies are used to track visitors across websites. The intention is to display third party hosted content that is relevant and engaging for the individual user. Viewing information is tracked by third party sites for marketing purposes.</p><p class=\"cookiedeclarationtypedescription\" style=\"margin:1.5pt 0in 12pt;background-image:initial;background-position:initial;background-size:initial;background-repeat:initial;background-attachment:initial;background-origin:initial;background-clip:initial;\">&nbsp;</p></div><div class=\"CybotCookiebotDialogDetailBodyContentCookieTypeTableContainer\"> <table id=\"CybotCookiebotDialogDetailTableAdvertising\" class=\"CybotCookiebotDialogDetailBodyContentCookieTypeTable\"><thead><tr><th scope=\"col\">Name</th><th scope=\"col\">Provider</th><th scope=\"col\">Purpose</th><th scope=\"col\">Expiry</th><th scope=\"col\">Type</th></tr></thead><tbody><tr><td title=\"loc\">loc</td><td><a href=\"http://www.addthis.com/privacy\" target=\"_blank\" rel=\"noopener noreferrer nofollow\" title=\"Oracle's privacy policy\">Oracle</a></td><td title=\"Geolocation, which is used to help providers determine how users who share information with each other are geographically located (state level).\">Geolocation, which is used to help providers determine how users who share information with each other are geographically located (state level).</td><td title=\"13 months\">13 months</td><td title=\"HTTP\">HTTP</td></tr><tr><td title=\"uvc\">uvc</td><td><a href=\"http://www.addthis.com/privacy\" target=\"_blank\" rel=\"noopener noreferrer nofollow\" title=\"Oracle's privacy policy\">Oracle</a></td><td title=\"Detects how often the social sharing service, AddThis, encounters the same user.\">Detects how often the social sharing service, AddThis, encounters the same user.</td><td title=\"13 months\">13 months</td><td title=\"HTTP\">HTTP</td></tr><tr><td title=\"xtc\">xtc</td><td><a href=\"http://www.addthis.com/privacy\" target=\"_blank\" rel=\"noopener noreferrer nofollow\" title=\"Oracle's privacy policy\">Oracle</a></td><td title=\"Registers the user's sharing of content via social media.\">Registers the user's sharing of content via social media.</td><td title=\"13 months\">13 months</td><td title=\"HTTP\">HTTP</td></tr><tr><td title=\"TDCPM\">TDCPM</td><td><a href=\"https://www.thetradedesk.com/general/privacy-policy\" target=\"_blank\" rel=\"noopener noreferrer nofollow\" title=\"The Trade Desk's privacy policy\">The Trade Desk</a></td><td title=\"Registers a unique ID that identifies a returning user's device. The ID is used for targeted ads.\">Registers a unique ID that identifies a returning user's device. The ID is used for targeted ads.</td><td title=\"1 year\">1 year</td><td title=\"HTTP\">HTTP</td></tr><tr><td title=\"TDID\">TDID</td><td><a href=\"https://www.thetradedesk.com/general/privacy-policy\" target=\"_blank\" rel=\"noopener noreferrer nofollow\" title=\"The Trade Desk's privacy policy\">The Trade Desk</a></td><td title=\"Registers a unique ID that identifies a returning user's device. The ID is used for targeted ads.\">Registers a unique ID that identifies a returning user's device. The ID is used for targeted ads.</td><td title=\"1 year\">1 year</td><td title=\"HTTP\">HTTP</td></tr><tr><td title=\"AA003\">AA003</td><td><a href=\"https://www.facebook.com/policies/cookies/\" target=\"_blank\" rel=\"noopener noreferrer nofollow\" title=\"Facebook's privacy policy\">Facebook</a></td><td title=\"Collects information on visitor behaviour on multiple websites. This information is used on the website, in order to optimize the relevance of advertisement.\">Collects information on visitor behaviour on multiple websites. This information is used on the website, in order to optimize the relevance of advertisement.</td><td title=\"3 months\">3 months</td><td title=\"HTTP\">HTTP</td></tr><tr><td title=\"ATN\">ATN</td><td><a href=\"https://www.facebook.com/policies/cookies/\" target=\"_blank\" rel=\"noopener noreferrer nofollow\" title=\"Facebook's privacy policy\">Facebook</a></td><td title=\"Targets ads based on behavioural profiling and geographical location.\">Targets ads based on behavioural profiling and geographical location.</td><td title=\"2 years\">2 years</td><td title=\"HTTP\">HTTP</td></tr><tr><td title=\"bito\">bito</td><td>bidr.io</td><td title=\"Sets a unique ID for the visitor, that allows third party advertisers to target the visitor with relevant advertisement. This pairing service is provided by third party advertisement hubs, which facilitates real-time bidding for advertisers.\">Sets a unique ID for the visitor, that allows third party advertisers to target the visitor with relevant advertisement. This pairing service is provided by third party advertisement hubs, which facilitates real-time bidding for advertisers.</td><td title=\"1 year\">1 year</td><td title=\"HTTP\">HTTP</td></tr><tr><td title=\"checkForPermission\">checkForPermission</td><td>bidr.io</td><td title=\"Determines whether the visitor has accepted the cookie consent box. \">Determines whether the visitor has accepted the cookie consent box. </td><td title=\"1 day\">1 day</td><td title=\"HTTP\">HTTP</td></tr><tr><td title=\"MUID\">MUID</td><td><a href=\"https://privacy.microsoft.com/en-us/privacystatement\" target=\"_blank\" rel=\"noopener noreferrer nofollow\" title=\"Microsoft's privacy policy\">Microsoft</a></td><td title=\"Used widely by Microsoft as a unique user ID. The cookie enables user tracking by synchronising the ID across many Microsoft domains.\">Used widely by Microsoft as a unique user ID. The cookie enables user tracking by synchronising the ID across many Microsoft domains.</td><td title=\"1 year\">1 year</td><td title=\"HTTP\">HTTP</td></tr><tr><td title=\"MUIDB\">MUIDB</td><td><a href=\"https://privacy.microsoft.com/en-us/privacystatement\" target=\"_blank\" rel=\"noopener noreferrer nofollow\" title=\"Microsoft's privacy policy\">Microsoft</a></td><td title=\"Registers data on visitors from multiple visits and on multiple websites. This information is used to measure the efficiency of advertisement on websites.  \">Registers data on visitors from multiple visits and on multiple websites. This information is used to measure the efficiency of advertisement on websites.  </td><td title=\"1 year\">1 year</td><td title=\"HTTP\">HTTP</td></tr><tr><td title=\"__atuvc\">__atuvc&nbsp;[x2]</td><td>www.biolegend.com<br><a href=\"https://www.podbean.com/site/default/privacy\" target=\"_blank\" rel=\"noopener noreferrer nofollow\" title=\"Podbean's privacy policy\">Podbean</a></td><td title=\"Updates the counter of a website's social sharing features.\">Updates the counter of a website's social sharing features.</td><td title=\"13 months\">13 months</td><td title=\"HTTP\">HTTP</td></tr><tr><td title=\"__atuvs\">__atuvs&nbsp;[x2]</td><td>www.biolegend.com<br><a href=\"https://www.podbean.com/site/default/privacy\" target=\"_blank\" rel=\"noopener noreferrer nofollow\" title=\"Podbean's privacy policy\">Podbean</a></td><td title=\"Ensures that the updated counter is displayed to the user if a page is shared with the social sharing service, AddThis.\">Ensures that the updated counter is displayed to the user if a page is shared with the social sharing service, AddThis.</td><td title=\"1 day\">1 day</td><td title=\"HTTP\">HTTP</td></tr><tr><td title=\"_at.cww\">_at.cww</td><td>www.biolegend.com</td><td title=\"Used by the social sharing platform AddThis\">Used by the social sharing platform AddThis</td><td title=\"Persistent\">Persistent</td><td title=\"HTML\">HTML</td></tr><tr><td title=\"_gcl_au\">_gcl_au&nbsp;[x2]</td><td>biolegend.com<br><a href=\"https://prezi.com/privacy-policy/\" target=\"_blank\" rel=\"noopener noreferrer nofollow\" title=\"Prezi's privacy policy\">Prezi</a></td><td title=\"Used by Google AdSense for experimenting with advertisement efficiency across websites using their services.   \">Used by Google AdSense for experimenting with advertisement efficiency across websites using their services.   </td><td title=\"3 months\">3 months</td><td title=\"HTTP\">HTTP</td></tr><tr><td title=\"at-rand\">at-rand</td><td>www.biolegend.com</td><td title=\"Used by the social sharing platform AddThis\">Used by the social sharing platform AddThis</td><td title=\"Persistent\">Persistent</td><td title=\"HTML\">HTML</td></tr><tr><td title=\"Dynamicweb\">Dynamicweb</td><td>biolegend.com</td><td title=\"Contains a unique ID as well as the date of the user's last visit to the website. This data is used to recognise returning users in order to personalise the website content and generate statistical data.\">Contains a unique ID as well as the date of the user's last visit to the website. This data is used to recognise returning users in order to personalise the website content and generate statistical data.</td><td title=\"1 year\">1 year</td><td title=\"HTTP\">HTTP</td></tr><tr><td title=\"smcx_0_last_shown_at\">smcx_0_last_shown_at</td><td>www.biolegend.com</td><td title=\"Used in context with the website’s pop-up questionnaires and messengering. The data is used for statistical or marketing purposes.\">Used in context with the website’s pop-up questionnaires and messengering. The data is used for statistical or marketing purposes.</td><td title=\"Session\">Session</td><td title=\"HTTP\">HTTP</td></tr><tr><td title=\"IDE\">IDE</td><td><a href=\"https://policies.google.com/privacy\" target=\"_blank\" rel=\"noopener noreferrer nofollow\" title=\"Google's privacy policy\">Google</a></td><td title=\"Used by Google DoubleClick to register and report the website user's actions after viewing or clicking one of the advertiser's ads with the purpose of measuring the efficacy of an ad and to present targeted ads to the user.\">Used by Google DoubleClick to register and report the website user's actions after viewing or clicking one of the advertiser's ads with the purpose of measuring the efficacy of an ad and to present targeted ads to the user.</td><td title=\"1 year\">1 year</td><td title=\"HTTP\">HTTP</td></tr><tr><td title=\"test_cookie\">test_cookie</td><td><a href=\"https://policies.google.com/privacy\" target=\"_blank\" rel=\"noopener noreferrer nofollow\" title=\"Google's privacy policy\">Google</a></td><td title=\"Used to check if the user's browser supports cookies.\">Used to check if the user's browser supports cookies.</td><td title=\"1 day\">1 day</td><td title=\"HTTP\">HTTP</td></tr><tr><td title=\"fr\">fr</td><td><a href=\"https://www.facebook.com/policies/cookies/\" target=\"_blank\" rel=\"noopener noreferrer nofollow\" title=\"Facebook's privacy policy\">Facebook</a></td><td title=\"Used by Facebook to deliver a series of advertisement products such as real time bidding from third party advertisers.\">Used by Facebook to deliver a series of advertisement products such as real time bidding from third party advertisers.</td><td title=\"3 months\">3 months</td><td title=\"HTTP\">HTTP</td></tr><tr><td title=\"pardot\">pardot&nbsp;[x2]</td><td>www.biolegend.com<br><a href=\"https://www.salesforce.com/company/privacy/\" target=\"_blank\" rel=\"noopener noreferrer nofollow\" title=\"Salesforce's privacy policy\">Salesforce</a></td><td title=\"Used to identify the visitor across visits and devices. This allows the website to present the visitor with relevant advertisement - The service is provided by third party advertisement hubs, which facilitate real-time bidding for advertisers. \">Used to identify the visitor across visits and devices. This allows the website to present the visitor with relevant advertisement - The service is provided by third party advertisement hubs, which facilitate real-time bidding for advertisers. </td><td title=\"Session\">Session</td><td title=\"HTTP\">HTTP</td></tr><tr><td title=\"NID\">NID</td><td><a href=\"https://policies.google.com/privacy\" target=\"_blank\" rel=\"noopener noreferrer nofollow\" title=\"Google's privacy policy\">Google</a></td><td title=\"Registers a unique ID that identifies a returning user's device. The ID is used for targeted ads.\">Registers a unique ID that identifies a returning user's device. The ID is used for targeted ads.</td><td title=\"6 months\">6 months</td><td title=\"HTTP\">HTTP</td></tr><tr><td title=\"lidid\">lidid</td><td><a href=\"https://liveintent.com/privacy-policy/\" target=\"_blank\" rel=\"noopener noreferrer nofollow\" title=\"Liveintent's privacy policy\">Liveintent</a></td><td title=\"Collects data on visitors' behaviour and interaction - This is used to make advertisement on the website more relevant. The cookie also allows the website to detect any referrals from other websites.  \">Collects data on visitors' behaviour and interaction - This is used to make advertisement on the website more relevant. The cookie also allows the website to detect any referrals from other websites.  </td><td title=\"52 years\">52 years</td><td title=\"HTTP\">HTTP</td></tr><tr><td title=\"bcookie\">bcookie</td><td><a href=\"https://www.linkedin.com/legal/privacy-policy\" target=\"_blank\" rel=\"noopener noreferrer nofollow\" title=\"LinkedIn's privacy policy\">LinkedIn</a></td><td title=\"Used by the social networking service, LinkedIn, for tracking the use of embedded services.\">Used by the social networking service, LinkedIn, for tracking the use of embedded services.</td><td title=\"2 years\">2 years</td><td title=\"HTTP\">HTTP</td></tr><tr><td title=\"bscookie\">bscookie</td><td><a href=\"https://www.linkedin.com/legal/privacy-policy\" target=\"_blank\" rel=\"noopener noreferrer nofollow\" title=\"LinkedIn's privacy policy\">LinkedIn</a></td><td title=\"Used by the social networking service, LinkedIn, for tracking the use of embedded services.\">Used by the social networking service, LinkedIn, for tracking the use of embedded services.</td><td title=\"2 years\">2 years</td><td title=\"HTTP\">HTTP</td></tr><tr><td title=\"lidc\">lidc</td><td><a href=\"https://www.linkedin.com/legal/privacy-policy\" target=\"_blank\" rel=\"noopener noreferrer nofollow\" title=\"LinkedIn's privacy policy\">LinkedIn</a></td><td title=\"Used by the social networking service, LinkedIn, for tracking the use of embedded services.\">Used by the social networking service, LinkedIn, for tracking the use of embedded services.</td><td title=\"1 day\">1 day</td><td title=\"HTTP\">HTTP</td></tr><tr><td title=\"UserMatchHistory\">UserMatchHistory</td><td><a href=\"https://www.linkedin.com/legal/privacy-policy\" target=\"_blank\" rel=\"noopener noreferrer nofollow\" title=\"LinkedIn's privacy policy\">LinkedIn</a></td><td title=\"Used to track visitors on multiple websites, in order to present relevant advertisement based on the visitor's preferences.  \">Used to track visitors on multiple websites, in order to present relevant advertisement based on the visitor's preferences.  </td><td title=\"29 days\">29 days</td><td title=\"HTTP\">HTTP</td></tr><tr><td title=\"amplitude_cookie_test\">amplitude_cookie_test</td><td><a href=\"https://momento360.com/ps/\" target=\"_blank\" rel=\"noopener noreferrer nofollow\" title=\"Momento360's privacy policy\">Momento360</a></td><td title=\"Detects whether partner data synchronization is functioning and currently running - This function sends user data between third-party advertisement companies for the purpose of targeted advertisements.  \">Detects whether partner data synchronization is functioning and currently running - This function sends user data between third-party advertisement companies for the purpose of targeted advertisements.  </td><td title=\"Session\">Session</td><td title=\"HTTP\">HTTP</td></tr><tr><td title=\"amplitude_unsent_#GUID#\">amplitude_unsent_#GUID#</td><td><a href=\"https://momento360.com/ps/\" target=\"_blank\" rel=\"noopener noreferrer nofollow\" title=\"Momento360's privacy policy\">Momento360</a></td><td title=\"Used in context with the website’s pop-up questionnaires and messengering. The data is used for statistical or marketing purposes.\">Used in context with the website’s pop-up questionnaires and messengering. The data is used for statistical or marketing purposes.</td><td title=\"Persistent\">Persistent</td><td title=\"HTML\">HTML</td></tr><tr><td title=\"amplitude_unsent_identify_#GUID#\">amplitude_unsent_identify_#GUID#</td><td><a href=\"https://momento360.com/ps/\" target=\"_blank\" rel=\"noopener noreferrer nofollow\" title=\"Momento360's privacy policy\">Momento360</a></td><td title=\"Used in context with the website’s pop-up questionnaires and messengering. The data is used for statistical or marketing purposes.\">Used in context with the website’s pop-up questionnaires and messengering. The data is used for statistical or marketing purposes.</td><td title=\"Persistent\">Persistent</td><td title=\"HTML\">HTML</td></tr><tr><td title=\"at-lojson-cache-#\">at-lojson-cache-#</td><td><a href=\"https://www.podbean.com/site/default/privacy\" target=\"_blank\" rel=\"noopener noreferrer nofollow\" title=\"Podbean's privacy policy\">Podbean</a></td><td title=\"Used by the social sharing platform AddThis\">Used by the social sharing platform AddThis</td><td title=\"Persistent\">Persistent</td><td title=\"HTML\">HTML</td></tr><tr><td title=\"AWSELB\">AWSELB</td><td><a href=\"https://www.podbean.com/site/default/privacy\" target=\"_blank\" rel=\"noopener noreferrer nofollow\" title=\"Podbean's privacy policy\">Podbean</a></td><td title=\"Used to distribute traffic to the website on several servers in order to optimise response times.\">Used to distribute traffic to the website on several servers in order to optimise response times.</td><td title=\"1 day\">1 day</td><td title=\"HTTP\">HTTP</td></tr><tr><td title=\"__putma\">__putma</td><td><a href=\"https://prezi.com/privacy-policy/\" target=\"_blank\" rel=\"noopener noreferrer nofollow\" title=\"Prezi's privacy policy\">Prezi</a></td><td title=\"Targets ads based on behavioural profiling and geographical location.\">Targets ads based on behavioural profiling and geographical location.</td><td title=\"20 years\">20 years</td><td title=\"HTTP\">HTTP</td></tr><tr><td title=\"_fbp\">_fbp</td><td><a href=\"https://prezi.com/privacy-policy/\" target=\"_blank\" rel=\"noopener noreferrer nofollow\" title=\"Prezi's privacy policy\">Prezi</a></td><td title=\"Used by Facebook to deliver a series of advertisement products such as real time bidding from third party advertisers.\">Used by Facebook to deliver a series of advertisement products such as real time bidding from third party advertisers.</td><td title=\"3 months\">3 months</td><td title=\"HTTP\">HTTP</td></tr><tr><td title=\"_li_duid\">_li_duid</td><td><a href=\"https://prezi.com/privacy-policy/\" target=\"_blank\" rel=\"noopener noreferrer nofollow\" title=\"Prezi's privacy policy\">Prezi</a></td><td title=\"Collects information on visitor behaviour on multiple websites. This information is used on the website, in order to optimize the relevance of advertisement.\">Collects information on visitor behaviour on multiple websites. This information is used on the website, in order to optimize the relevance of advertisement.</td><td title=\"Persistent\">Persistent</td><td title=\"HTML\">HTML</td></tr><tr><td title=\"_ptref\">_ptref</td><td><a href=\"https://prezi.com/privacy-policy/\" target=\"_blank\" rel=\"noopener noreferrer nofollow\" title=\"Prezi's privacy policy\">Prezi</a></td><td title=\"Targets ads based on behavioural profiling and geographical location.\">Targets ads based on behavioural profiling and geographical location.</td><td title=\"1 day\">1 day</td><td title=\"HTTP\">HTTP</td></tr><tr><td title=\"csrftoken\">csrftoken</td><td><a href=\"https://prezi.com/privacy-policy/\" target=\"_blank\" rel=\"noopener noreferrer nofollow\" title=\"Prezi's privacy policy\">Prezi</a></td><td title=\"Helps prevent Cross-Site Request Forgery (CSRF) attacks.\">Helps prevent Cross-Site Request Forgery (CSRF) attacks.</td><td title=\"1 year\">1 year</td><td title=\"HTTP\">HTTP</td></tr><tr><td title=\"reddaid\">reddaid</td><td><a href=\"https://www.reddit.com/help/privacypolicy\" target=\"_blank\" rel=\"noopener noreferrer nofollow\" title=\"Reddit's privacy policy\">Reddit</a></td><td title=\"Necessary for the implementation of the Reddit.com's share-button function.\">Necessary for the implementation of the Reddit.com's share-button function.</td><td title=\"2 years\">2 years</td><td title=\"HTTP\">HTTP</td></tr><tr><td title=\"rt\">rt</td><td><a href=\"https://www.steelhousecopenhagen.com/da/cookiepolitik\" target=\"_blank\" rel=\"noopener noreferrer nofollow\" title=\"Steel House's privacy policy\">Steel House</a></td><td title=\"This cookie is used to identify the visitor through an application. This allows the visitor to login to a website through their LinkedIn application for example.\">This cookie is used to identify the visitor through an application. This allows the visitor to login to a website through their LinkedIn application for example.</td><td title=\"3 years\">3 years</td><td title=\"HTTP\">HTTP</td></tr><tr><td title=\"tt\">tt</td><td><a href=\"https://steelhouse.com/privacy-policy/\" target=\"_blank\" rel=\"noopener noreferrer nofollow\" title=\"Steel House's privacy policy\">Steel House</a></td><td title=\"Registers the website's speed and performance. This function can be used in context with statistics and load-balancing.\">Registers the website's speed and performance. This function can be used in context with statistics and load-balancing.</td><td title=\"3 years\">3 years</td><td title=\"HTTP\">HTTP</td></tr><tr><td title=\"ep#\">ep#</td><td><a href=\"https://da.surveymonkey.com/mp/policy/privacy-policy/\" target=\"_blank\" rel=\"noopener noreferrer nofollow\" title=\"Surveymonkey's privacy policy\">Surveymonkey</a></td><td title=\"Saves user states across page requests when completing a web-based survey.\">Saves user states across page requests when completing a web-based survey.</td><td title=\"1 day\">1 day</td><td title=\"HTTP\">HTTP</td></tr><tr><td title=\"GPS\">GPS</td><td><a href=\"https://policies.google.com/privacy\" target=\"_blank\" rel=\"noopener noreferrer nofollow\" title=\"YouTube's privacy policy\">YouTube</a></td><td title=\"Registers a unique ID on mobile devices to enable tracking based on geographical GPS location.\">Registers a unique ID on mobile devices to enable tracking based on geographical GPS location.</td><td title=\"1 day\">1 day</td><td title=\"HTTP\">HTTP</td></tr><tr><td title=\"VISITOR_INFO1_LIVE\">VISITOR_INFO1_LIVE</td><td><a href=\"https://policies.google.com/privacy\" target=\"_blank\" rel=\"noopener noreferrer nofollow\" title=\"YouTube's privacy policy\">YouTube</a></td><td title=\"Tries to estimate the users' bandwidth on pages with integrated YouTube videos.\">Tries to estimate the users' bandwidth on pages with integrated YouTube videos.</td><td title=\"179 days\">179 days</td><td title=\"HTTP\">HTTP</td></tr><tr><td title=\"YSC\">YSC</td><td><a href=\"https://policies.google.com/privacy\" target=\"_blank\" rel=\"noopener noreferrer nofollow\" title=\"YouTube's privacy policy\">YouTube</a></td><td title=\"Registers a unique ID to keep statistics of what videos from YouTube the user has seen.\">Registers a unique ID to keep statistics of what videos from YouTube the user has seen.</td><td title=\"Session\">Session</td><td title=\"HTTP\">HTTP</td></tr><tr><td title=\"yt-remote-cast-installed\">yt-remote-cast-installed</td><td><a href=\"https://policies.google.com/privacy\" target=\"_blank\" rel=\"noopener noreferrer nofollow\" title=\"YouTube's privacy policy\">YouTube</a></td><td title=\"Stores the user's video player preferences using embedded YouTube video\">Stores the user's video player preferences using embedded YouTube video</td><td title=\"Session\">Session</td><td title=\"HTML\">HTML</td></tr><tr><td title=\"yt-remote-connected-devices\">yt-remote-connected-devices</td><td><a href=\"https://policies.google.com/privacy\" target=\"_blank\" rel=\"noopener noreferrer nofollow\" title=\"YouTube's privacy policy\">YouTube</a></td><td title=\"Stores the user's video player preferences using embedded YouTube video\">Stores the user's video player preferences using embedded YouTube video</td><td title=\"Persistent\">Persistent</td><td title=\"HTML\">HTML</td></tr><tr><td title=\"yt-remote-device-id\">yt-remote-device-id</td><td><a href=\"https://policies.google.com/privacy\" target=\"_blank\" rel=\"noopener noreferrer nofollow\" title=\"YouTube's privacy policy\">YouTube</a></td><td title=\"Stores the user's video player preferences using embedded YouTube video\">Stores the user's video player preferences using embedded YouTube video</td><td title=\"Persistent\">Persistent</td><td title=\"HTML\">HTML</td></tr><tr><td title=\"yt-remote-fast-check-period\">yt-remote-fast-check-period</td><td><a href=\"https://policies.google.com/privacy\" target=\"_blank\" rel=\"noopener noreferrer nofollow\" title=\"YouTube's privacy policy\">YouTube</a></td><td title=\"Stores the user's video player preferences using embedded YouTube video\">Stores the user's video player preferences using embedded YouTube video</td><td title=\"Session\">Session</td><td title=\"HTML\">HTML</td></tr><tr><td title=\"yt-remote-session-app\">yt-remote-session-app</td><td><a href=\"https://policies.google.com/privacy\" target=\"_blank\" rel=\"noopener noreferrer nofollow\" title=\"YouTube's privacy policy\">YouTube</a></td><td title=\"Stores the user's video player preferences using embedded YouTube video\">Stores the user's video player preferences using embedded YouTube video</td><td title=\"Session\">Session</td><td title=\"HTML\">HTML</td></tr><tr><td title=\"yt-remote-session-name\">yt-remote-session-name</td><td><a href=\"https://policies.google.com/privacy\" target=\"_blank\" rel=\"noopener noreferrer nofollow\" title=\"YouTube's privacy policy\">YouTube</a></td><td title=\"Stores the user's video player preferences using embedded YouTube video\">Stores the user's video player preferences using embedded YouTube video</td><td title=\"Session\">Session</td><td title=\"HTML\">HTML</td></tr><tr><td title=\"bitoIsSecure\">bitoIsSecure</td><td>bidr.io</td><td title=\"Pending\">Pending</td><td title=\"1 year\">1 year</td><td title=\"HTTP\">HTTP</td></tr><tr><td title=\"visitor_id#\">visitor_id#&nbsp;[x3]</td><td>biolegend.com<br>www.biolegend.com<br><a href=\"https://www.salesforce.com/company/privacy/\" target=\"_blank\" rel=\"noopener noreferrer nofollow\" title=\"Salesforce's privacy policy\">Salesforce</a></td><td title=\"Pending\">Pending</td><td title=\"10 years\">10 years</td><td title=\"HTTP\">HTTP</td></tr><tr><td title=\"visitor_id#-hash\">visitor_id#-hash&nbsp;[x3]</td><td>biolegend.com<br>www.biolegend.com<br><a href=\"https://www.salesforce.com/company/privacy/\" target=\"_blank\" rel=\"noopener noreferrer nofollow\" title=\"Salesforce's privacy policy\">Salesforce</a></td><td title=\"Pending\">Pending</td><td title=\"10 years\">10 years</td><td title=\"HTTP\">HTTP</td></tr><tr><td title=\"lissc\">lissc</td><td><a href=\"https://www.linkedin.com/legal/privacy-policy\" target=\"_blank\" rel=\"noopener noreferrer nofollow\" title=\"LinkedIn's privacy policy\">LinkedIn</a></td><td title=\"Pending\">Pending</td><td title=\"1 year\">1 year</td><td title=\"HTTP\">HTTP</td></tr><tr><td title=\"__tld_test__\">__tld_test__</td><td><a href=\"https://momento360.com/ps/\" target=\"_blank\" rel=\"noopener noreferrer nofollow\" title=\"Momento360's privacy policy\">Momento360</a></td><td title=\"Pending\">Pending</td><td title=\"Session\">Session</td><td title=\"HTTP\">HTTP</td></tr><tr><td title=\"amplitude_id_d5898f2cc9014822cf8939a86d395924momento360.com\">amplitude_id_d5898f2cc9014822cf8939a86d395924momento360.com</td><td><a href=\"https://momento360.com/ps/\" target=\"_blank\" rel=\"noopener noreferrer nofollow\" title=\"Momento360's privacy policy\">Momento360</a></td><td title=\"Pending\">Pending</td><td title=\"10 years\">10 years</td><td title=\"HTTP\">HTTP</td></tr><tr><td title=\"amplitude_testmomento360.com\">amplitude_testmomento360.com</td><td><a href=\"https://momento360.com/ps/\" target=\"_blank\" rel=\"noopener noreferrer nofollow\" title=\"Momento360's privacy policy\">Momento360</a></td><td title=\"Pending\">Pending</td><td title=\"10 years\">10 years</td><td title=\"HTTP\">HTTP</td></tr><tr><td title=\"lpv504701\">lpv504701</td><td><a href=\"https://www.salesforce.com/company/privacy/\" target=\"_blank\" rel=\"noopener noreferrer nofollow\" title=\"Salesforce's privacy policy\">Salesforce</a></td><td title=\"Pending\">Pending</td><td title=\"1 day\">1 day</td><td title=\"HTTP\">HTTP</td></tr><tr><td title=\"PBSECURESUSID\">PBSECURESUSID</td><td><a href=\"https://www.podbean.com/site/default/privacy\" target=\"_blank\" rel=\"noopener noreferrer nofollow\" title=\"Podbean's privacy policy\">Podbean</a></td><td title=\"Pending\">Pending</td><td title=\"Session\">Session</td><td title=\"HTTP\">HTTP</td></tr><tr><td title=\"_lc2_duid\">_lc2_duid</td><td><a href=\"https://prezi.com/privacy-policy/\" target=\"_blank\" rel=\"noopener noreferrer nofollow\" title=\"Prezi's privacy policy\">Prezi</a></td><td title=\"Pending\">Pending</td><td title=\"2 years\">2 years</td><td title=\"HTTP\">HTTP</td></tr><tr><td title=\"_litra_id.d087\">_litra_id.d087</td><td><a href=\"https://prezi.com/privacy-policy/\" target=\"_blank\" rel=\"noopener noreferrer nofollow\" title=\"Prezi's privacy policy\">Prezi</a></td><td title=\"Pending\">Pending</td><td title=\"Persistent\">Persistent</td><td title=\"HTML\">HTML</td></tr><tr><td title=\"rdt_uuid\">rdt_uuid</td><td><a href=\"https://prezi.com/privacy-policy/\" target=\"_blank\" rel=\"noopener noreferrer nofollow\" title=\"Prezi's privacy policy\">Prezi</a></td><td title=\"Pending\">Pending</td><td title=\"3 months\">3 months</td><td title=\"HTTP\">HTTP</td></tr><tr><td title=\"attr_multitouch\">attr_multitouch</td><td><a href=\"https://da.surveymonkey.com/mp/policy/privacy-policy/\" target=\"_blank\" rel=\"noopener noreferrer nofollow\" title=\"Surveymonkey's privacy policy\">Surveymonkey</a></td><td title=\"Pending\">Pending</td><td title=\"1 year\">1 year</td><td title=\"HTTP\">HTTP</td></tr><tr><td title=\"CX_252193362\">CX_252193362</td><td><a href=\"https://da.surveymonkey.com/mp/policy/privacy-policy/\" target=\"_blank\" rel=\"noopener noreferrer nofollow\" title=\"Surveymonkey's privacy policy\">Surveymonkey</a></td><td title=\"Pending\">Pending</td><td title=\"1 year\">1 year</td><td title=\"HTTP\">HTTP</td></tr><tr><td title=\"SM_COOKIE\">SM_COOKIE</td><td><a href=\"https://da.surveymonkey.com/mp/policy/privacy-policy/\" target=\"_blank\" rel=\"noopener noreferrer nofollow\" title=\"Surveymonkey's privacy policy\">Surveymonkey</a></td><td title=\"Pending\">Pending</td><td title=\"2 months\">2 months</td><td title=\"HTTP\">HTTP</td></tr></tbody></table> </div></div><div id=\"CybotCookiebotDialogDetailBodyContentCookieTabsUnclassified\"><div class=\"CybotCookiebotDialogDetailBodyContentCookieTypeIntro\"></div><div class=\"CybotCookiebotDialogDetailBodyContentCookieTypeTableContainer\"> <table id=\"CybotCookiebotDialogDetailTableUnclassified\" class=\"CybotCookiebotDialogDetailBodyContentCookieTypeTable\"><tbody><tr><td class=\"CybotCookiebotDialogDetailBodyContentCookieTypeTableEmpty\">We do not use cookies of this type</td></tr></tbody></table> </div></div></div></div></div><div id=\"CybotCookiebotDialogDetailBodyContentTextIAB\" lang=\"en\"> [#COOKIESIABCONTENT#] </div><div id=\"CybotCookiebotDialogDetailBodyContentTextAbout\" lang=\"en\"> Cookies are small text files that can be used by websites to make a user's experience more efficient.<br style=\"\"><br style=\"\">The law states that we can store cookies on your device if they are strictly necessary for the operation of this site. For all other types of cookies we need your permission.<br style=\"\"><br style=\"\">This site uses different types of cookies. Some cookies are placed by third party services that appear on our pages. </div></div><div id=\"CybotCookiebotDialogDetailFooter\" lang=\"en\"> Cookie declaration last updated on 20/01/2020 by <a href=\"https://www.cookiebot.com\" target=\"_blank\" rel=\"noopener\" title=\"Cookiebot\">Cookiebot</a> </div></div></div></div>\n"
     ]
    }
   ],
   "source": [
    "# url 112\n",
    "i = urls[111]\n",
    "#open_url(i)\n",
    "element = driver.find_element_by_css_selector('#CybotCookiebotDialog')\n",
    "source = element.get_attribute(\"outerHTML\")\n",
    "print(source)\n",
    "data.append({\"TYPE\" : ad_type, \"ad_code\" : source, \"URL\" : i})"
   ]
  },
  {
   "cell_type": "code",
   "execution_count": 675,
   "metadata": {
    "collapsed": true
   },
   "outputs": [
    {
     "name": "stdout",
     "output_type": "stream",
     "text": [
      "<div class=\"container\" data-js=\"m-cookie-message\" data-chimp=\"cookie-message\">\n",
      "            <div class=\"row\">\n",
      "                <div class=\"column column--narrow-content column--with-centered-content m-cookie-message\">\n",
      "                    <p><strong>This website uses cookies to improve your user experience.</strong>&nbsp;Click 'Agree' to accept.</p>\n",
      "                        <a class=\"button button--secondary\" data-chimp=\"secondary-button\" href=\"/cookie-preferences/\">Edit preferences</a>\n",
      "                                            <button class=\"button button--primary\" data-js=\"m-cookie-message__button-agree\" data-chimp=\"cookie-message-agree-button\">Agree</button>\n",
      "                </div>\n",
      "            </div>\n",
      "        </div>\n"
     ]
    }
   ],
   "source": [
    "# url 113\n",
    "i = urls[112]\n",
    "#open_url(i)\n",
    "element = driver.find_element_by_css_selector('div.container:nth-child(20)')\n",
    "source = element.get_attribute(\"outerHTML\")\n",
    "print(source)\n",
    "data.append({\"TYPE\" : ad_type, \"ad_code\" : source, \"URL\" : i})"
   ]
  },
  {
   "cell_type": "code",
   "execution_count": 677,
   "metadata": {
    "collapsed": true
   },
   "outputs": [
    {
     "name": "stdout",
     "output_type": "stream",
     "text": [
      "<div id=\"CookieReportsBanner\" aria-live=\"off\" style=\"z-index: 32002; position: relative;\" lang=\"en-gb\"><div class=\"wscrBannerContent\"><div class=\"wscrHeading\">Cookies</div><div><p>We use cookies to optimize site functionality and give you the best possible experience while browsing our site. If you are fine with this and accept all cookies just click 'Accept' button. You can also review our <a href=\"https://www.valmet.com/content_folder/privacy-notice/\" rel=\"noopener noreferrer\" target=\"_blank\">Privacy notice</a>.</p></div><div class=\"wscrBannerContentInner\" style=\"clear: both; margin: 10px 0px;\"><a class=\"wscrBannerLink\" href=\"https://www.valmet.com/content_folder/cookie-preference/\" target=\"_self\">Manage cookie preferences</a><a href=\"#\" class=\"wscrOk\" aria-label=\"Close cookie banner\" tabindex=\"1\" style=\"margin-left: 20px;\">Accept</a></div><a href=\"https://www.digitalcontrolroom.com/\" target=\"_blank\" rel=\"noopener noreferrer\" style=\"text-decoration: none; cursor: pointer; margin: 20px 0px 0px; padding: 0px; font-size: 8pt; font-family: Arial, sans-serif; color: rgb(51, 51, 51); display: block; width: 50%;\"><span style=\"font-style: italic; cursor: pointer; font-size: 8pt; font-family: Arial, sans-serif; color: rgb(51, 51, 51);\">Powered by</span> Digital <span style=\"font-weight: bold; cursor: pointer; font-size: 8pt; font-family: Arial, sans-serif; color: rgb(51, 51, 51);\">Control Room</span></a><div style=\"clear: both;\"></div></div></div>\n"
     ]
    }
   ],
   "source": [
    "# url 114\n",
    "i = urls[113]\n",
    "#open_url(i)\n",
    "element = driver.find_element_by_css_selector('#CookieReportsBanner')\n",
    "source = element.get_attribute(\"outerHTML\")\n",
    "print(source)\n",
    "data.append({\"TYPE\" : ad_type, \"ad_code\" : source, \"URL\" : i})"
   ]
  },
  {
   "cell_type": "code",
   "execution_count": 679,
   "metadata": {
    "collapsed": true
   },
   "outputs": [
    {
     "name": "stdout",
     "output_type": "stream",
     "text": [
      "<div class=\"cookie-notice-block\" id=\"vive-cookie-notice\" style=\"display: block;\">\n",
      "        <div class=\"container\">\n",
      "            <div class=\"notice-desc pt-2\">\n",
      "                <div>This site uses cookies to optimize website functionality, analyze website performance, and provide personalized experience and advertisement. You can accept our cookies by clicking on the button below or manage your preference on Cookie Preferences. You can also find more information about our <a class=\"text-vive\" href=\"https://www.htc.com/us/terms/cookies/\">Cookie Policy</a> here.</div>\n",
      "            </div>\n",
      "            <div class=\"btn-groups-block py-2\">\n",
      "                <a class=\"vive-button vive-btn-outline--light settings-button\" href=\"/us/cookie-preferences/\">Cookie Preferences</a>\n",
      "                <div class=\"vive-button close-button\" id=\"close-button\">ACCEPT</div>\n",
      "            </div>\n",
      "        </div>\n",
      "    </div>\n"
     ]
    }
   ],
   "source": [
    "# url 115\n",
    "i = urls[114]\n",
    "#open_url(i)\n",
    "element = driver.find_element_by_css_selector('#vive-cookie-notice')\n",
    "source = element.get_attribute(\"outerHTML\")\n",
    "print(source)\n",
    "data.append({\"TYPE\" : ad_type, \"ad_code\" : source, \"URL\" : i})"
   ]
  },
  {
   "cell_type": "code",
   "execution_count": 681,
   "metadata": {
    "collapsed": true
   },
   "outputs": [
    {
     "name": "stdout",
     "output_type": "stream",
     "text": [
      "<div class=\"cookie-disclaimer js-height-measure-hook bottom\" data-last-modified=\"1576674456855\" data-always-display=\"false\" data-position=\"bottom\" style=\"display: block;\">\n",
      "\t\t\t\n",
      "\t\t\t<div class=\"text\">\n",
      "\t\t\t\t<div class=\"cookie-disclaimer-text\"><p>Ford.ie uses cookies and similar technologies on this website to improve your online experience and to show tailored advertising to you.</p>\n",
      "\n",
      "<p><a class=\"cta-button cta-button-primary  initialized initialized-contextualLinks\" data-context-type=\"cookiesManage\" href=\"/useful-information/terms-and-privacy-policy-hub/preferences\" tabindex=\"1\">Manage</a> <a class=\"cta-button cta-button-primary  initialized initialized-contextualLinks\" data-context-type=\"cookiesAgree\" href=\"#\" tabindex=\"1\">Agree</a></p>\n",
      "\n",
      "<p>You can manage cookies at any time on the <a class=\"  \" href=\"/useful-information/terms-and-privacy-policy-hub/preferences\" tabindex=\"1\">Manage Cookie Settings page</a> but this may limit or prevent use of certain features on the website.</p>\n",
      "\n",
      "<p>Please see the <a class=\" link-blue-and-bold \" href=\"/useful-information/terms-and-privacy-policy-hub\" tabindex=\"1\">website privacy and cookie policy</a> for further information.</p>\n",
      "\n",
      "\n",
      "</div>\n",
      "\t\t\t\t\n",
      "\t\t\t</div>\n",
      "\t\t</div>\n"
     ]
    }
   ],
   "source": [
    "# url 116\n",
    "i = urls[115]\n",
    "#open_url(i)\n",
    "element = driver.find_element_by_css_selector('.cookie-disclaimer')\n",
    "source = element.get_attribute(\"outerHTML\")\n",
    "print(source)\n",
    "data.append({\"TYPE\" : ad_type, \"ad_code\" : source, \"URL\" : i})"
   ]
  },
  {
   "cell_type": "code",
   "execution_count": 684,
   "metadata": {
    "collapsed": true
   },
   "outputs": [
    {
     "name": "stdout",
     "output_type": "stream",
     "text": [
      "<amp-consent layout=\"nodisplay\" id=\"tracking-consent\" class=\"pwnl--c pwt--white bo i-amphtml-layout-nodisplay i-amphtml-element amp-active\" style=\"\" i-amphtml-layout=\"nodisplay\" i-amphtml-fixedid=\"F2\"><!-- googleoff:all --><script type=\"application/json\" hidden=\"\"> { \"consents\": { \"my-consent\": { \"checkConsentHref\": \"https://www.bmw.com/content/dam/bmw/marketBMWCOM/bmw_com/stories/assets/show-consent.json\", \"promptUI\": \"tracking-consent-ui\" } } } </script><div id=\"tracking-consent-ui\"><div class=\"af\" role=\"button\" tabindex=\"2\" on=\"tap:tracking-consent.dismiss\"><svg class=\"br\"><use xmlns:xlink=\"http://www.w3.org/1999/xlink\" xlink:href=\"#icon-close\"></use></svg></div><div class=\"r z\"><div class=\"q\"><div class=\"v dq\"><b class=\"eh\"> Cookies </b></div></div><div class=\"q\"><div class=\"v hn\"><p class=\"eh w\"> We use cookies to optimise and continuously improve our website for individual users like you. Please see “Cookies” to learn more about how they are used on our website. Click “Accept cookies” to activate them or “Reject cookies” if you do not want them. You can change your settings <a href=\"https://www.bmw.com/en/footer/cookies.html\">here</a> at any time. </p></div><div class=\"v da\"></div><div class=\"hk v\"><button class=\"d h\" tabindex=\"0\" aria-label=\"Ja, ich stimme zu\" on=\"tap:tracking-consent.accept\"> Accept cookies </button><button class=\"d ay\" role=\"button\" tabindex=\"1\" aria-label=\"Nein, ich lehne ab\" on=\"tap:tracking-consent.reject\"><span>Reject cookies</span></button></div></div></div></div><!-- googleon:all --></amp-consent>\n"
     ]
    }
   ],
   "source": [
    "# url 117\n",
    "i = urls[116]\n",
    "#open_url(i)\n",
    "element = driver.find_element_by_css_selector('#tracking-consent')\n",
    "source = element.get_attribute(\"outerHTML\")\n",
    "print(source)\n",
    "data.append({\"TYPE\" : ad_type, \"ad_code\" : source, \"URL\" : i})"
   ]
  },
  {
   "cell_type": "code",
   "execution_count": 687,
   "metadata": {
    "collapsed": true
   },
   "outputs": [
    {
     "name": "stdout",
     "output_type": "stream",
     "text": [
      "<div id=\"onetrust-consent-sdk\"><div class=\"onetrust-pc-dark-filter fade-in\" style=\"z-index:2147483645\"></div><div id=\"onetrust-pc-sdk\" class=\"ot-sdk-container otPcPanel hide fade-in ot-sdk-not-webkit\" lang=\"en\"><!-- Close Button --><div><a href=\"javascript:void(0)\" id=\"close-pc-btn-handler\" class=\"main close-pc-btn-handler pc-close-button close-icon\" role=\"button\" title=\"Close\" aria-label=\"Close Button\"></a></div><!-- Close Button --><div id=\"content\" class=\"main-content\"><!-- Logo Tag --><div class=\"pc-logo-container\"><div class=\"pc-logo\" style=\"background-image: url(&quot;https://cdn.cookielaw.org/logos/75697142-6da6-455d-a4fb-20ba89d56e0f/d74d356f-a108-4b5e-ba59-77d9f6c38a81/vw_logo.png&quot;)\"></div></div><h3 id=\"pc-title\">Privacy Preference Center</h3><div id=\"pc-policy-text\">When you visit any website, it may store or retrieve information on your browser, mostly in the form of cookies. This information might be about you, your preferences or your device and is mostly used to make the site work as you expect it to. The information does not usually directly identify you, but it can give you a more personalized web experience. Because we respect your right to privacy, you can choose not to allow some types of cookies. Click on the different category headings to find out more and change our default settings. However, blocking some types of cookies may impact your experience of the site and the services we are able to offer.\n",
      "                        <a href=\"https://www.vw.com/privacy\" class=\"privacy-notice-link\" target=\"_blank\" aria-label=\"This opens cookie policy in a new window\">More information</a></div><div id=\"accept-recommended-container\" class=\"ot-sdk-row\"><div class=\"ot-sdk-column\"><button id=\"accept-recommended-btn-handler\" class=\"button-theme\" aria-label=\"Allow All\" role=\"button\">Allow All</button></div></div><section id=\"cookie-preferences\" class=\"ot-sdk-row category-group\"><h3 id=\"manage-cookies-text\"> Manage Cookie Preferences</h3><div class=\"accordion-text category-item\" data-optanongroupid=\"BG45\"><h4 class=\"category-header\" id=\"ot-header-id-BG45\">Required Cookies</h4><div class=\"always-active\">Always Active</div><p>Includes Strictly Necessary, Performance monitoring and Functional Cookies. These cookies are either necessary for the website to function and cannot be switched off in our systems or enable the website to provide enhanced functionality and personalization. They are usually only set in response to actions made by you which amount to a request for services, such as setting your privacy preferences, logging in or filling in forms.    You can set your browser to block or alert you about these cookies, but some parts of the site will not then work. This category also includes cookies that allow us to count visits and traffic sources so we can measure and improve the performance of our site. They help us to know which pages are the most and least popular and see how visitors move around the site.    All information these cookies collect is aggregated and therefore anonymous. If you do not allow these cookies we will not know when you have visited our site, and will not be able to monitor its performance.</p><!-- sub groups --><div class=\"category-host-list-container\"></div></div><div class=\"accordion-text category-item\" data-optanongroupid=\"BG46\"><h4 class=\"category-header\" id=\"ot-header-id-BG46\">Targeting Cookies</h4><div class=\"ot-switch toggle\"><input type=\"checkbox\" name=\"ot-group-id-BG46\" class=\"switch-checkbox category-switch-handler\" id=\"ot-group-id-BG46\" aria-label=\"performance-switch\" aria-checked=\"false\" data-optanongroupid=\"BG46\" aria-describedby=\"ot-header-id-BG46\"> <label class=\"switch-label\" for=\"ot-group-id-BG46\"><span class=\"switch-inner\"></span> <span class=\"switch-nob\"></span> <span class=\"label-text\">Targeting Cookies</span></label></div><p>Contains targeting and social media cookies. Targeting cookies may be set through our site by our advertising partners. They may be used by those companies to build a profile of your interests and show you relevant adverts on other sites.    They are based on uniquely identifying your browser and internet device. If you do not allow these cookies, you will experience less targeted advertising.  Social media cookies are set by a range of social media services that we have added to the site to enable you to share our content with your friends and networks. They are capable of tracking your browser across other sites and building up a profile of your interests. This may impact the content and messages you see on other websites you visit.    If you do not allow these cookies you may not be able to use or see these sharing tools. </p><!-- sub groups --><div class=\"category-host-list-container\"></div></div><div class=\"save-preference-btn-container\"><button class=\"save-preference-btn-handler onetrust-close-btn-handler button-theme\" aria-label=\"Confirm My Choices\" role=\"button\">Confirm My Choices</button><div class=\"pc-footer-logo\"><a class=\"powered-by-logo\" href=\"https://onetrust.com/poweredbyonetrust\" target=\"_blank\" rel=\"noopener\" aria-label=\"Powered by Onetrust\"></a></div></div></section></div><section id=\"vendors-list\" class=\"hide\"><div id=\"vendors-list-header\"><a class=\"back-btn-handler\" role=\"button\" href=\"javascript:void(0)\"><svg id=\"back-arrow\" xmlns=\"http://www.w3.org/2000/svg\" xmlns:xlink=\"http://www.w3.org/1999/xlink\" x=\"0px\" y=\"0px\" viewBox=\"0 0 444.531 444.531\" xml:space=\"preserve\" height=\"12px\" width=\"12px\"><title>Back Button</title><g><path fill=\"#656565\" d=\"M213.13,222.409L351.88,83.653c7.05-7.043,10.567-15.657,10.567-25.841c0-10.183-3.518-18.793-10.567-25.835\n",
      "          l-21.409-21.416C323.432,3.521,314.817,0,304.637,0s-18.791,3.521-25.841,10.561L92.649,196.425\n",
      "          c-7.044,7.043-10.566,15.656-10.566,25.841s3.521,18.791,10.566,25.837l186.146,185.864c7.05,7.043,15.66,10.564,25.841,10.564\n",
      "          s18.795-3.521,25.834-10.564l21.409-21.412c7.05-7.039,10.567-15.604,10.567-25.697c0-10.085-3.518-18.746-10.567-25.978\n",
      "          L213.13,222.409z\"></path></g></svg><p>Back</p></a><!-- Close Button --> <a href=\"javascript:void(0)\" id=\"vendor-close-pc-btn-handler\" class=\"vendors-list close-pc-btn-handler pc-close-button close-icon\" role=\"button\" title=\"Close\" aria-label=\"Close Button\"></a><!-- Close Button --><h3 id=\"vendors-list-title\">Performance Cookies</h3><div id=\"search-container\"><label for=\"vendor-search-handler\" class=\"screen-reader-only\">Vendor Search</label> <input id=\"vendor-search-handler\" type=\"text\" placeholder=\"Search...\" name=\"vendor-search-handler\"> <svg xmlns=\"http://www.w3.org/2000/svg\" xmlns:xlink=\"http://www.w3.org/1999/xlink\" x=\"0px\" y=\"0px\" width=\"30\" height=\"30\" viewBox=\"0 -30 110 110\"><title>Search Icon</title><path fill=\"#2e3644\" d=\"M55.146,51.887L41.588,37.786c3.486-4.144,5.396-9.358,5.396-14.786c0-12.682-10.318-23-23-23s-23,10.318-23,23\n",
      "        s10.318,23,23,23c4.761,0,9.298-1.436,13.177-4.162l13.661,14.208c0.571,0.593,1.339,0.92,2.162,0.92\n",
      "        c0.779,0,1.518-0.297,2.079-0.837C56.255,54.982,56.293,53.08,55.146,51.887z M23.984,6c9.374,0,17,7.626,17,17s-7.626,17-17,17\n",
      "        s-17-7.626-17-17S14.61,6,23.984,6z\"></path></svg> <a href=\"javascript:void(0)\" id=\"filter-btn-handler\" role=\"button\"><svg id=\"filter-icon\" xmlns=\"http://www.w3.org/2000/svg\" xmlns:xlink=\"http://www.w3.org/1999/xlink\" x=\"0px\" y=\"0px\" width=\"15px\" height=\"15px\" viewBox=\"0 0 402.577 402.577\" style=\"enable-background:new 0 0 402.577 402.577;\" xml:space=\"preserve\"><title>Filter Icon</title><g><path id=\"filter-icon-path\" fill=\"#fff\" d=\"M400.858,11.427c-3.241-7.421-8.85-11.132-16.854-11.136H18.564c-7.993,0-13.61,3.715-16.846,11.136\n",
      "  c-3.234,7.801-1.903,14.467,3.999,19.985l140.757,140.753v138.755c0,4.955,1.809,9.232,5.424,12.854l73.085,73.083\n",
      "  c3.429,3.614,7.71,5.428,12.851,5.428c2.282,0,4.66-0.479,7.135-1.43c7.426-3.238,11.14-8.851,11.14-16.845V172.166L396.861,31.413\n",
      "  C402.765,25.895,404.093,19.231,400.858,11.427z\"></path></g></svg></a><div id=\"triangle\"></div><section id=\"filter-modal\"><div id=\"options\"><div id=\"clear-filters-container\"><a href=\"javascript:void(0)\" id=\"clear-filters-handler\" role=\"button\"><p>Clear Fliters</p></a></div><div class=\"group-options\"><div class=\"group-option\"><div class=\"ot-checkbox\"><input title=\"Information storage and access\" id=\"storage-access-group\" class=\"group-option-box category-filter-handler\" type=\"checkbox\"> <label for=\"storage-access-group\"><span>Information storage and access</span></label></div></div></div><button id=\"filter-apply-handler\" class=\"pill\">Apply</button></div></section></div><div id=\"select-all-container\"><div class=\"ot-checkbox\"><div id=\"select-all-text-container\"><p>All Consent Allowed</p></div><!-- Vendors select all input container  --><div id=\"select-all-vendors-input-container\"><input title=\"Select All\" id=\"select-all-vendor-groups-handler\" class=\"group-option-box\" type=\"checkbox\"> <label for=\"select-all-vendor-groups-handler\"><span class=\"label-text\">Select All Vendors</span></label></div><!-- Hosts select all input container --><div id=\"select-all-hosts-input-container\"><input title=\"Select All\" id=\"select-all-hosts-groups-handler\" class=\"group-option-box\" type=\"checkbox\"> <label for=\"select-all-hosts-groups-handler\"><span class=\"label-text\">Select All Hosts</span></label></div></div></div></div><section id=\"vendor-list-content\"><div id=\"vendors-list-text\" class=\"ot-sdk-row\"><div class=\"ot-sdk-column\"><ul id=\"hosts-list-container\"><li class=\"host-item\"><input title=\"Host Accordion\" type=\"checkbox\" class=\"host-box\"><section class=\"accordion-header\"><div class=\"host-info\"><h3 class=\"host-title\">33Across</h3><h4 class=\"host-description\">host description</h4><!-- view third party cookie link with arrow --><div class=\"host-notice\"><h4>View Cookies</h4><div class=\"arrow-container\"></div></div></div><!-- Checkbox --><div class=\"ot-checkbox\"><input id=\"REPLACE-WITH-DYANMIC-HOST-ID\" class=\"host-checkbox-handler group-option-box\" type=\"checkbox\"> <label for=\"REPLACE-WITH-DYANMIC-HOST-ID\"><span class=\"label-text\">REPLACE-WITH-DYANMIC-HOST-ID</span></label></div><!-- Checkbox END --></section><div class=\"accordion-text\"><div class=\"host-options\"><!-- HOST LIST VIEW UPDATE *** --><ul class=\"host-option-group\"><li class=\"vendor-host\"><div class=\"cookie-name-container\"><div>Name</div><div>cookie name</div></div><div class=\"cookie-host-container\"><div>Host</div><div>cookie host</div></div><div class=\"cookie-duration-container\"><div>Duration</div><div>cookie duration</div></div><div class=\"cookie-type-container\"><div>Type</div><div>cookie type</div></div><div class=\"cookie-category-container\"><div>Category</div><div>cookie category</div></div><div class=\"cookie-description-container\"><div>Description</div><div>cookie category</div></div></li></ul><!-- HOST LIST VIEW UPDATE END *** --></div></div></li></ul><ul id=\"vendors-list-container\"><li class=\"vendor-item\"><input title=\"Vendor Accordion\" type=\"checkbox\" class=\"vendor-box\"><section class=\"accordion-header\"><div class=\"vendor-info\"><h3 class=\"vendor-title\">33Across</h3><a class=\"vendor-privacy-notice\" href=\"#\">View Privacy Notice</a></div><div class=\"vendor-purposes\"><p>3 Purposes</p></div><div class=\"toggle-group\"><!-- Checkbox --><div class=\"ot-checkbox\"><input id=\"REPLACE-WITH-DYANMIC-VENDOR-ID\" class=\"vendor-checkbox vendor-checkbox-handler group-option-box\" type=\"checkbox\"> <label for=\"REPLACE-WITH-DYANMIC-VENDOR-ID\"><span class=\"label-text\">REPLACE-WITH-DYANMIC-VENDOR-ID</span></label></div><!-- Checkbox END --><div class=\"arrow-container\"><svg class=\"arrow\" xmlns=\"http://www.w3.org/2000/svg\" xmlns:xlink=\"http://www.w3.org/1999/xlink\" x=\"0px\" y=\"0px\" width=\"10px\" height=\"10px\" viewBox=\"0 0 451.846 451.847\" style=\"enable-background:new 0 0 451.846 451.847;\" xml:space=\"preserve\"><title>Arrow</title><g><path fill=\"#7b7b7b\" d=\"M345.441,248.292L151.154,442.573c-12.359,12.365-32.397,12.365-44.75,0c-12.354-12.354-12.354-32.391,0-44.744\n",
      "                        L278.318,225.92L106.409,54.017c-12.354-12.359-12.354-32.394,0-44.748c12.354-12.359,32.391-12.359,44.75,0l194.287,194.284\n",
      "                        c6.177,6.18,9.262,14.271,9.262,22.366C354.708,234.018,351.617,242.115,345.441,248.292z\"></path></g></svg></div></div></section><div class=\"accordion-text\"><div class=\"vendor-options\"><!-- VENDOR PURPOSE UPDATE *** --><div class=\"vendor-purpose-groups\"><!-- vendor purposes --><div class=\"vendor-option vendor-option-purpose\"><p>Consent Purposes</p></div><div class=\"vendor-consent-group\"><p class=\"consent-category\">Location Based Ads</p><p class=\"consent-status\">Consent Allowed</p></div><!-- vendor legitimate interest purposes --><div class=\"vendor-option vendor-option-purpose legitimate-interest\"><p>Legitimate Interest Purposes</p></div><div class=\"vendor-consent-group legitimate-interest-group\"><p class=\"consent-category\">Personalize</p><a href=\"#\" class=\"vendor-opt-out-handler\"><div class=\"op-out-group\"><span>Require Opt-Out</span> <svg x=\"0px\" y=\"0px\" width=\"15\" height=\"15\" viewBox=\"0 0 511.626 511.627\" style=\"enable-background:new 0 0 511.626 511.627;\" xml:space=\"preserve\"><g fill=\"#718593\"><g><path d=\"M392.857,292.354h-18.274c-2.669,0-4.859,0.855-6.563,2.573c-1.718,1.708-2.573,3.897-2.573,6.563v91.361\n",
      "                                  c0,12.563-4.47,23.315-13.415,32.262c-8.945,8.945-19.701,13.414-32.264,13.414H82.224c-12.562,0-23.317-4.469-32.264-13.414\n",
      "                                  c-8.945-8.946-13.417-19.698-13.417-32.262V155.31c0-12.562,4.471-23.313,13.417-32.259c8.947-8.947,19.702-13.418,32.264-13.418\n",
      "                                  h200.994c2.669,0,4.859-0.859,6.57-2.57c1.711-1.713,2.566-3.9,2.566-6.567V82.221c0-2.662-0.855-4.853-2.566-6.563\n",
      "                                  c-1.711-1.713-3.901-2.568-6.57-2.568H82.224c-22.648,0-42.016,8.042-58.102,24.125C8.042,113.297,0,132.665,0,155.313v237.542\n",
      "                                  c0,22.647,8.042,42.018,24.123,58.095c16.086,16.084,35.454,24.13,58.102,24.13h237.543c22.647,0,42.017-8.046,58.101-24.13\n",
      "                                  c16.085-16.077,24.127-35.447,24.127-58.095v-91.358c0-2.669-0.856-4.859-2.574-6.57\n",
      "                                  C397.709,293.209,395.519,292.354,392.857,292.354z\"></path><path d=\"M506.199,41.971c-3.617-3.617-7.905-5.424-12.85-5.424H347.171c-4.948,0-9.233,1.807-12.847,5.424\n",
      "                                  c-3.617,3.615-5.428,7.898-5.428,12.847s1.811,9.233,5.428,12.85l50.247,50.248L198.424,304.067\n",
      "                                  c-1.906,1.903-2.856,4.093-2.856,6.563c0,2.479,0.953,4.668,2.856,6.571l32.548,32.544c1.903,1.903,4.093,2.852,6.567,2.852\n",
      "                                  s4.665-0.948,6.567-2.852l186.148-186.148l50.251,50.248c3.614,3.617,7.898,5.426,12.847,5.426s9.233-1.809,12.851-5.426\n",
      "                                  c3.617-3.616,5.424-7.898,5.424-12.847V54.818C511.626,49.866,509.813,45.586,506.199,41.971z\"></path></g></g></svg></div></a></div><!-- Vendor features --><div class=\"vendor-option-purpose vendor-feature\"><p>Features</p></div><div class=\"vendor-consent-group vendor-feature-group\"><p class=\"consent-category\">Location Based Ads</p></div></div><!-- VENDOR PURPOSE UPDATE END *** --></div></div></li></ul></div></div></section><div id=\"vendor-list-save-btn\" class=\"save-preference-btn-container\"><button class=\"save-preference-btn-handler onetrust-close-btn-handler button-theme\" aria-label=\"Confirm My Choices\" role=\"button\">Confirm My Choices</button><div class=\"pc-footer-logo\"><a class=\"powered-by-logo\" href=\"https://onetrust.com/poweredbyonetrust\" target=\"_blank\" rel=\"noopener\" aria-label=\"Powered by Onetrust\"></a></div></div></section></div><div id=\"onetrust-banner-sdk\" class=\"otFlat vertical-align-content bottom\" style=\"bottom: -99px; animation-name: slide-down-custom; animation-duration: 1000ms; animation-fill-mode: forwards; animation-timing-function: ease-out;\"><div class=\"ot-sdk-container\"><div class=\"ot-sdk-row\"><div id=\"onetrust-group-container\" class=\"ot-sdk-eight ot-sdk-columns\"><div class=\"banner_logo\"></div><div id=\"onetrust-policy\"><!-- Mobile Close Button --><div id=\"onetrust-close-btn-container-mobile\" class=\"hide-large\"></div><!-- Mobile Close Button END--><p id=\"onetrust-policy-text\">We use cookies to personalize content and ads, to provide social media features and to analyze our traffic. We also share information about your use of our site with our social media, advertising and analytics partners. By clicking “I Accept” and using our website, you are giving consent to cookies being used and the information being shared. For more information on how we use cookies, please visit our <a href=\"https://www.vw.com/privacy\" tabindex=\"0\">Privacy Statement.</a>  To modify how we use cookies, please visit our <a href=\"#\" class=\"optanon-show-settings\" tabindex=\"0\">Cookie Settings</a> page.</p></div></div><div id=\"onetrust-button-group-parent\" class=\"ot-sdk-three ot-sdk-columns\"><div id=\"onetrust-button-group\">  <button id=\"onetrust-accept-btn-handler\" title=\"Accept Cookies Button\" tabindex=\"0\">I Accept</button></div></div><!-- Close Button --><div id=\"onetrust-close-btn-container\" class=\"ot-sdk-one ot-sdk-column hide-small\"></div><!-- Close Button END--></div></div></div></div>\n"
     ]
    }
   ],
   "source": [
    "# url 118\n",
    "i = urls[117]\n",
    "#open_url(i)\n",
    "element = driver.find_element_by_css_selector('#onetrust-consent-sdk')\n",
    "source = element.get_attribute(\"outerHTML\")\n",
    "print(source)\n",
    "data.append({\"TYPE\" : ad_type, \"ad_code\" : source, \"URL\" : i})"
   ]
  },
  {
   "cell_type": "code",
   "execution_count": 689,
   "metadata": {
    "collapsed": true
   },
   "outputs": [
    {
     "name": "stdout",
     "output_type": "stream",
     "text": [
      "<div class=\"cookie-notification section visible\">\n",
      "   <div class=\"container\"> \n",
      "    <h3>Privacy and Cookies</h3> \n",
      "    <p style=\"font-family: tahoma, arial, helvetica, sans-serif; font-size: 12px;\">We use cookies to give you the best experience on our website. By continuing, you're agreeing to our use of cookies. We have recently updated our policy.</p> \n",
      "    <p style=\"font-family: tahoma, arial, helvetica, sans-serif; font-size: 12px;\"><a href=\"/uk/pearson-privacy-and-you/cookie-policy.html\" class=\"button button-secondary--button-only js--pearson-cookie-policy-accept-continue\">Learn more</a><a href=\"javascript:void(0);\" class=\"button js--pearson-cookie-policy-accept-continue button-primary--button-only\" id=\"cookie-notification-policy-accept-continue\">Close this message and continue</a></p> \n",
      "   </div>\n",
      "  </div>\n"
     ]
    }
   ],
   "source": [
    "# url 119\n",
    "i = urls[118]\n",
    "#open_url(i)\n",
    "element = driver.find_element_by_css_selector('.cookie-notification')\n",
    "source = element.get_attribute(\"outerHTML\")\n",
    "print(source)\n",
    "data.append({\"TYPE\" : ad_type, \"ad_code\" : source, \"URL\" : i})"
   ]
  },
  {
   "cell_type": "code",
   "execution_count": 691,
   "metadata": {
    "collapsed": true
   },
   "outputs": [
    {
     "name": "stdout",
     "output_type": "stream",
     "text": [
      "<div id=\"onetrust-consent-sdk\"><div class=\"onetrust-pc-dark-filter hide fade-in\"></div><div id=\"onetrust-pc-sdk\" class=\"ot-sdk-container otPcTab hide fade-in ot-sdk-not-webkit\" lang=\"en\"><!-- pc header --><div class=\"pc-header\"><!-- Header logo --><div class=\"pc-logo-container\"><div class=\"pc-logo\" style=\"background-image: url(&quot;https://cdn.cookielaw.org/logos/2396a178-b290-4b3f-bf3f-5be727810e2a/4c9cdfe8-e4f7-46d4-827d-179a4eaf715c/Acc_Logo_Black_Purple_RGB-2.png&quot;)\"></div></div><div class=\"pc-title-container\"><h2 id=\"pc-title\">Privacy Preference Center</h2><div class=\"pc-close-btn-container\" data-analytics-template-zone=\"consent manager\" data-analytics-module-name=\"consent manager\"><a href=\"javascript:void(0)\" id=\"close-pc-btn-handler\" class=\"pc-close-button close-icon\" role=\"button\" aria-label=\"Close Button\" title=\"Close\" data-analytics-link-name=\"close\" data-analytics-content-type=\"cta\"></a></div></div></div><!-- content --><div id=\"content\"><!-- Groups / Sub groups with cookies --><div class=\"main-content pc-content\"><div class=\"ot-sdk-container groups-container\"><div class=\"ot-sdk-row\"><!-- About Privacy container --><div class=\"ot-sdk-column\" data-analytics-template-zone=\"consent manager\" data-analytics-module-name=\"consent manager\"><div class=\"ot-sdk-four ot-sdk-columns group active-group category-menu-switch-handler\" data-analytics-link-name=\"your privacy\" data-analytics-content-type=\"cta\"><h3 id=\"privacy-text\">Your Privacy</h3></div></div><div class=\"ot-sdk-eight ot-sdk-columns description-container\"><h3 id=\"pc-privacy-header\">Your Privacy</h3><p id=\"pc-policy-text\" class=\"group-description\" data-analytics-template-zone=\"consent manager\" data-analytics-module-name=\"consent manager\">Any web site that you visit may store or retrieve information on your browser, mostly through the use of cookies. The stored or retrieved information might be about you, your preferences or your device and is mostly used to make the site work as you expect it to. The information does not usually directly identify you, but aims at giving you a more personalized web experience. Because we respect your right to privacy, you can choose not to allow some types of cookies. Click on the different category headings to find out more and change our default settings.\n",
      "                        <a href=\"https://www.accenture.com/us-en/company-cookies-similar-technology\" class=\"privacy-notice-link\" target=\"_blank\" aria-label=\"This opens cookie policy in a new window\" data-analytics-link-name=\"more information\" data-analytics-content-type=\"cta\">More information</a></p></div><ul class=\"category-group\"><li class=\"category-item\" data-optanongroupid=\"1\"><div class=\"ot-sdk-column\" data-analytics-template-zone=\"consent manager\" data-analytics-module-name=\"consent manager\"><div class=\"ot-sdk-four ot-sdk-columns group category-menu-switch-handler\" role=\"button\" data-analytics-link-name=\"strictly necessary cookies\" data-analytics-content-type=\"cta\"><h3 id=\"ot-header-id-1\">Strictly Necessary Cookies</h3></div></div><div class=\"ot-sdk-eight ot-sdk-columns description-container hide\"><div class=\"group-toggle\"><h3 class=\"category-header\">Strictly Necessary Cookies</h3><div class=\"toggle-group\"><div class=\"always-active\">Always Active</div></div></div><p class=\"group-description\">These cookies are essential in order to enable you to move around the site and use its features, such as accessing secure areas of the site. Without these cookies, services you have asked for cannot be provided.</p><!-- sub groups --><div class=\"category-vendors-list-container\"></div><div class=\"category-host-list-container\"></div></div></li><li class=\"category-item\" data-optanongroupid=\"2\"><div class=\"ot-sdk-column\" data-analytics-template-zone=\"consent manager\" data-analytics-module-name=\"consent manager\"><div class=\"ot-sdk-four ot-sdk-columns group category-menu-switch-handler\" role=\"button\" data-analytics-link-name=\"first party analytics cookies\" data-analytics-content-type=\"cta\"><h3 id=\"ot-header-id-2\">First Party Analytics Cookies</h3></div></div><div class=\"ot-sdk-eight ot-sdk-columns description-container hide\"><div class=\"group-toggle\"><h3 class=\"category-header\">First Party Analytics Cookies</h3><div class=\"toggle-group\"><div class=\"toggle\"><div class=\"checkbox\"><!-- DYNAMICALLY GENERATE Input ID  --> <input id=\"ot-group-id-2\" class=\"category-switch-handler\" title=\"Location Based Ads Toggle\" type=\"checkbox\" aria-label=\"personalization-cookies\" name=\"ot-group-id-2\" data-optanongroupid=\"2\" aria-describedby=\"ot-header-id-2\" style=\"z-index: -1;\"> <label for=\"ot-group-id-2\"><span class=\"label-text\">First Party Analytics Cookies</span></label><!-- DYNAMICALLY GENERATE Input ID  --></div></div></div></div><p class=\"group-description\">These cookies allow us to employ data analytics so we can measure and improve the performance of our site and provide more relevant content to you. These cookies don't collect information that identifies a visitor down to an individual level that is available to us. These cookies are not passing personally identifiable information to any external third party other than in limited cases when we engage a service provider to act on our behalf but who is then unable to use the data for their own purposes.</p><!-- sub groups --><div class=\"category-vendors-list-container\"></div><div class=\"category-host-list-container\"></div></div></li><li class=\"category-item\" data-optanongroupid=\"3\"><div class=\"ot-sdk-column\" data-analytics-template-zone=\"consent manager\" data-analytics-module-name=\"consent manager\"><div class=\"ot-sdk-four ot-sdk-columns group category-menu-switch-handler\" role=\"button\" data-analytics-link-name=\"performance cookies and functional cookies\" data-analytics-content-type=\"cta\"><h3 id=\"ot-header-id-3\">Performance Cookies and Functional Cookies</h3></div></div><div class=\"ot-sdk-eight ot-sdk-columns description-container hide\"><div class=\"group-toggle\"><h3 class=\"category-header\">Performance Cookies and Functional Cookies</h3><div class=\"toggle-group\"><div class=\"toggle\"><div class=\"checkbox\"><!-- DYNAMICALLY GENERATE Input ID  --> <input id=\"ot-group-id-3\" class=\"category-switch-handler\" title=\"Location Based Ads Toggle\" type=\"checkbox\" aria-label=\"personalization-cookies\" name=\"ot-group-id-3\" data-optanongroupid=\"3\" aria-describedby=\"ot-header-id-3\" style=\"z-index: -1;\"> <label for=\"ot-group-id-3\"><span class=\"label-text\">Performance Cookies and Functional Cookies</span></label><!-- DYNAMICALLY GENERATE Input ID  --></div></div></div></div><p class=\"group-description\"><i>Performance cookies </i>are generally third-party cookies from vendors we work with or who work on our behalf that collect information about your visit and use of the Accenture website, for instance which pages you visit the most often, and if you get error messages from web pages. These cookies don't collect information that identifies a visitor. All information these cookies collect is anonymous and is only used to improve how the website works. Third party vendors may have access to this data and may use it to improve their overall services and offerings.\n",
      "\n",
      "\n",
      "<br><br>\n",
      "<i>Functionality cookies</i> allow a site to remember choices you make (such as your user name, language or the region you are in) and provide more enhanced, personal features. These cookies cannot track your browsing activity on other websites. They don’t gather any information about you that could be used for advertising or remembering where you’ve been on the Internet outside our site.\n",
      "</p><!-- sub groups --><div class=\"category-vendors-list-container\"></div><div class=\"category-host-list-container\"></div></div></li><li class=\"category-item\" data-optanongroupid=\"4\"><div class=\"ot-sdk-column\" data-analytics-template-zone=\"consent manager\" data-analytics-module-name=\"consent manager\"><div class=\"ot-sdk-four ot-sdk-columns group category-menu-switch-handler\" role=\"button\" data-analytics-link-name=\"advertising and social media cookies\" data-analytics-content-type=\"cta\"><h3 id=\"ot-header-id-4\">Advertising and Social Media Cookies</h3></div></div><div class=\"ot-sdk-eight ot-sdk-columns description-container hide\"><div class=\"group-toggle\"><h3 class=\"category-header\">Advertising and Social Media Cookies</h3><div class=\"toggle-group\"><div class=\"toggle\"><div class=\"checkbox\"><!-- DYNAMICALLY GENERATE Input ID  --> <input id=\"ot-group-id-4\" class=\"category-switch-handler\" title=\"Location Based Ads Toggle\" type=\"checkbox\" aria-label=\"personalization-cookies\" name=\"ot-group-id-4\" data-optanongroupid=\"4\" aria-describedby=\"ot-header-id-4\" style=\"z-index: -1;\"> <label for=\"ot-group-id-4\"><span class=\"label-text\">Advertising and Social Media Cookies</span></label><!-- DYNAMICALLY GENERATE Input ID  --></div></div></div></div><p class=\"group-description\">Third-party advertising and social media cookies are used to (1) deliver advertisements more relevant to you and your interests; (2) limit the number of times you see an advertisement; (3) help measure the effectiveness of the advertising campaign; and (4) understand people’s behavior after they view an advertisement. They are usually placed on behalf of advertising networks with the site operator’s permission. They remember that you have visited a site and quite often they will be linked to site functionality provided by the other organization. This may impact the content and messages you see on other websites you visit. If you do not allow these cookies you may not be able to use or see these sharing tools or play certain videos on our site.</p><!-- sub groups --><div class=\"category-vendors-list-container\"></div><div class=\"category-host-list-container\"></div></div></li></ul></div></div></div><!-- Vendors / Hosts --><section id=\"vendors-list\" class=\"hide\"><div class=\"vendor-content\"><nav id=\"vendors-list-header\"><div class=\"navigation-container\"><a class=\"back-btn-handler\" role=\"button\" href=\"javascript:void(0)\" data-analytics-template-zone=\"consent manager\" data-analytics-module-name=\"consent manager\"><div id=\"back-arrow\"><svg xmlns=\"http://www.w3.org/2000/svg\" xmlns:xlink=\"http://www.w3.org/1999/xlink\" x=\"0px\" y=\"0px\" width=\"15px\" height=\"15px\" viewBox=\"0 0 444.531 444.531\" xml:space=\"preserve\"><title>Back Button</title><g><path fill=\"#2c3643\" d=\"M213.13,222.409L351.88,83.653c7.05-7.043,10.567-15.657,10.567-25.841c0-10.183-3.518-18.793-10.567-25.835\n",
      "                    l-21.409-21.416C323.432,3.521,314.817,0,304.637,0s-18.791,3.521-25.841,10.561L92.649,196.425\n",
      "                    c-7.044,7.043-10.566,15.656-10.566,25.841s3.521,18.791,10.566,25.837l186.146,185.864c7.05,7.043,15.66,10.564,25.841,10.564\n",
      "                    s18.795-3.521,25.834-10.564l21.409-21.412c7.05-7.039,10.567-15.604,10.567-25.697c0-10.085-3.518-18.746-10.567-25.978\n",
      "                    L213.13,222.409z\"></path></g></svg></div><h3 id=\"vendors-list-title\" data-analytics-link-name=\"advertising cookies\" data-analytics-content-type=\"cta\">Advertising Cookies</h3></a></div><div class=\"action-container\"><div id=\"search-container\"><input id=\"vendor-search-handler\" title=\"Vendor Search\" type=\"text\" placeholder=\"Search...\" name=\"vendor-search-handler\"> <svg width=\"30\" height=\"30\" xmlns=\"http://www.w3.org/2000/svg\" xmlns:xlink=\"http://www.w3.org/1999/xlink\" x=\"0px\" y=\"0px\" viewBox=\"0 -30 110 110\"><path fill=\"#2e3644\" d=\"M55.146,51.887L41.588,37.786c3.486-4.144,5.396-9.358,5.396-14.786c0-12.682-10.318-23-23-23s-23,10.318-23,23\n",
      "              s10.318,23,23,23c4.761,0,9.298-1.436,13.177-4.162l13.661,14.208c0.571,0.593,1.339,0.92,2.162,0.92\n",
      "              c0.779,0,1.518-0.297,2.079-0.837C56.255,54.982,56.293,53.08,55.146,51.887z M23.984,6c9.374,0,17,7.626,17,17s-7.626,17-17,17\n",
      "              s-17-7.626-17-17S14.61,6,23.984,6z\"></path></svg></div><div id=\"filter-container\" data-analytics-template-zone=\"consent manager\" data-analytics-module-name=\"consent manager\"><a id=\"filter-btn-handler\" role=\"button\" href=\"javascript:void(0)\" data-analytics-link-name=\"filter button\" data-analytics-content-type=\"cta\"><svg xmlns=\"http://www.w3.org/2000/svg\" xmlns:xlink=\"http://www.w3.org/1999/xlink\" x=\"0px\" y=\"0px\" width=\"15\" height=\"15\" viewBox=\"0 0 402.577 402.577\" style=\"enable-background:new 0 0 402.577 402.577;\" xml:space=\"preserve\"><title>Filter Button</title><g><path fill=\"#2c3643\" d=\"M400.858,11.427c-3.241-7.421-8.85-11.132-16.854-11.136H18.564c-7.993,0-13.61,3.715-16.846,11.136\n",
      "                            c-3.234,7.801-1.903,14.467,3.999,19.985l140.757,140.753v138.755c0,4.955,1.809,9.232,5.424,12.854l73.085,73.083\n",
      "                            c3.429,3.614,7.71,5.428,12.851,5.428c2.282,0,4.66-0.479,7.135-1.43c7.426-3.238,11.14-8.851,11.14-16.845V172.166L396.861,31.413\n",
      "                            C402.765,25.895,404.093,19.231,400.858,11.427z\"></path></g></svg></a></div></div></nav><section id=\"vendor-list-content\"><div class=\"ot-sdk-row\"><div class=\"ot-sdk-column\"><div id=\"select-all-container\"><div class=\"ot-checkbox\"><!-- Vendors select all input container  --><div id=\"select-all-vendors-input-container\"><input title=\"Select All\" id=\"select-all-vendor-groups-handler\" class=\"group-option-box\" type=\"checkbox\"> <label for=\"select-all-vendor-groups-handler\"><span class=\"label-text\">Select All Vendors</span></label></div><!-- Hosts select all input container --><div id=\"select-all-hosts-input-container\"><input title=\"Select All\" id=\"select-all-hosts-groups-handler\" class=\"group-option-box\" type=\"checkbox\"> <label for=\"select-all-hosts-groups-handler\"><span class=\"label-text\">Select All Hosts</span></label></div><div id=\"select-all-text-container\"><p>Select All</p></div></div></div><ul id=\"hosts-list-container\" data-analytics-template-zone=\"consent manager\" data-analytics-module-name=\"consent manager\"><li class=\"host-item\" data-analytics-link-name=\" replace-with-dyanmic-host-id33across33acrossview third party cookiesnamecookie namehostcookie hostdurationcookie durationtypecookie typecategorycookie categorydescriptioncookie category\" data-analytics-content-type=\"cta\" data-analytics-template-zone=\"consent manager\" data-analytics-module-name=\"consent manager\"><input title=\"Host Accordion\" type=\"checkbox\" class=\"host-box\" data-analytics-link-name=\"host accordion\" data-analytics-content-type=\"cta\"><section class=\"accordion-header\"><div class=\"toggle-group\"><!-- Checkbox --><div class=\"ot-checkbox\"><input id=\"REPLACE-WITH-DYANMIC-HOST-ID\" class=\"host-checkbox-handler group-option-box\" type=\"checkbox\"> <label for=\"REPLACE-WITH-DYANMIC-HOST-ID\"><span class=\"label-text\">REPLACE-WITH-DYANMIC-HOST-ID</span></label></div><!-- Checkbox END --><div class=\"host-info\"><h3 class=\"host-title\">33Across</h3><h4 class=\"host-description\">33Across</h4></div></div><div class=\"host-notice\"><div class=\"third-party-cookies-container\"><a class=\"third-party-cookie-notice\" href=\"javascript:void(0)\" role=\"button\">View Third Party Cookies</a></div><div class=\"arrow-container\"><svg class=\"arrow\" x=\"0px\" y=\"0px\" width=\"10px\" height=\"10px\" viewBox=\"0 0 451.846 451.847\" style=\"enable-background:new 0 0 451.846 451.847;\" xml:space=\"preserve\"><g><path fill=\"#7b7b7b\" d=\"M345.441,248.292L151.154,442.573c-12.359,12.365-32.397,12.365-44.75,0c-12.354-12.354-12.354-32.391,0-44.744\n",
      "                        L278.318,225.92L106.409,54.017c-12.354-12.359-12.354-32.394,0-44.748c12.354-12.359,32.391-12.359,44.75,0l194.287,194.284\n",
      "                        c6.177,6.18,9.262,14.271,9.262,22.366C354.708,234.018,351.617,242.115,345.441,248.292z\"></path></g></svg></div></div></section><div class=\"accordion-text\"><div class=\"host-options\"><!-- HOST LIST VIEW UPDATE *** --><ul class=\"host-option-group\"><li class=\"vendor-host\"><div class=\"cookie-name-container\"><div>Name</div><div>cookie name</div></div><div class=\"cookie-host-container\"><div>Host</div><div>cookie host</div></div><div class=\"cookie-duration-container\"><div>Duration</div><div>cookie duration</div></div><div class=\"cookie-type-container\"><div>Type</div><div>cookie type</div></div><div class=\"cookie-category-container\"><div>Category</div><div>cookie category</div></div><div class=\"cookie-description-container\"><div>Description</div><div>cookie category</div></div></li></ul><!-- HOST LIST VIEW UPDATE END *** --></div></div></li></ul><ul id=\"vendors-list-container\"><li><input title=\"Vendor Accordion\" type=\"checkbox\" class=\"vendor-box\"><section class=\"accordion-header\"><div class=\"toggle-group\"><!-- Checkbox --><div class=\"ot-checkbox\"><input id=\"REPLACE-WITH-DYANMIC-VENDOR-ID\" class=\"vendor-checkbox-handler group-option-box\" type=\"checkbox\"> <label for=\"REPLACE-WITH-DYANMIC-VENDOR-ID\"><span class=\"label-text\">REPLACE-WITH-DYANMIC-VENDOR-ID</span></label></div><!-- Checkbox END --><div class=\"vendor-info\"><h3 class=\"vendor-title\">33Across</h3><div class=\"vendor-purposes\"><p>3 Purposes</p></div></div></div><div class=\"vendor-notice\"><div class=\"vendor-privacy-notice-container\"><a class=\"vendor-privacy-notice\" href=\"#\">View Privacy Notice</a></div><div class=\"arrow-container\"><svg class=\"arrow\" xmlns=\"http://www.w3.org/2000/svg\" xmlns:xlink=\"http://www.w3.org/1999/xlink\" x=\"0px\" y=\"0px\" width=\"10px\" height=\"10px\" viewBox=\"0 0 451.846 451.847\" style=\"enable-background:new 0 0 451.846 451.847;\" xml:space=\"preserve\"><g><path fill=\"#7b7b7b\" d=\"M345.441,248.292L151.154,442.573c-12.359,12.365-32.397,12.365-44.75,0c-12.354-12.354-12.354-32.391,0-44.744\n",
      "                                    L278.318,225.92L106.409,54.017c-12.354-12.359-12.354-32.394,0-44.748c12.354-12.359,32.391-12.359,44.75,0l194.287,194.284\n",
      "                                    c6.177,6.18,9.262,14.271,9.262,22.366C354.708,234.018,351.617,242.115,345.441,248.292z\"></path></g></svg></div></div></section><div class=\"accordion-text\"><div class=\"vendor-options\"><!-- VENDOR PURPOSE UPDATE *** --><div class=\"vendor-purpose-groups\"><!-- vendor purposes --><div class=\"vendor-option-purpose\"><p>Consent Purposes</p></div><div class=\"vendor-consent-group\"><p class=\"consent-category\">Location Based Ads</p><p class=\"consent-status\">Consent Allowed</p></div><!-- vendor legitimate interest purposes --><div class=\"vendor-option-purpose legitimate-interest\"><p>Legitimate Interest Purposes</p></div><div class=\"vendor-consent-group legitimate-interest-group\"><p class=\"consent-category\">Personalize</p><a href=\"#\" class=\"vendor-opt-out-handler\"><div class=\"op-out-group\"><span>Require Opt-Out</span> <svg x=\"0px\" y=\"0px\" width=\"15\" height=\"15\" viewBox=\"0 0 511.626 511.627\" style=\"enable-background:new 0 0 511.626 511.627;\" xml:space=\"preserve\"><g fill=\"#1a73e8\"><g><path d=\"M392.857,292.354h-18.274c-2.669,0-4.859,0.855-6.563,2.573c-1.718,1.708-2.573,3.897-2.573,6.563v91.361\n",
      "                                      c0,12.563-4.47,23.315-13.415,32.262c-8.945,8.945-19.701,13.414-32.264,13.414H82.224c-12.562,0-23.317-4.469-32.264-13.414\n",
      "                                      c-8.945-8.946-13.417-19.698-13.417-32.262V155.31c0-12.562,4.471-23.313,13.417-32.259c8.947-8.947,19.702-13.418,32.264-13.418\n",
      "                                      h200.994c2.669,0,4.859-0.859,6.57-2.57c1.711-1.713,2.566-3.9,2.566-6.567V82.221c0-2.662-0.855-4.853-2.566-6.563\n",
      "                                      c-1.711-1.713-3.901-2.568-6.57-2.568H82.224c-22.648,0-42.016,8.042-58.102,24.125C8.042,113.297,0,132.665,0,155.313v237.542\n",
      "                                      c0,22.647,8.042,42.018,24.123,58.095c16.086,16.084,35.454,24.13,58.102,24.13h237.543c22.647,0,42.017-8.046,58.101-24.13\n",
      "                                      c16.085-16.077,24.127-35.447,24.127-58.095v-91.358c0-2.669-0.856-4.859-2.574-6.57\n",
      "                                      C397.709,293.209,395.519,292.354,392.857,292.354z\"></path><path d=\"M506.199,41.971c-3.617-3.617-7.905-5.424-12.85-5.424H347.171c-4.948,0-9.233,1.807-12.847,5.424\n",
      "                                      c-3.617,3.615-5.428,7.898-5.428,12.847s1.811,9.233,5.428,12.85l50.247,50.248L198.424,304.067\n",
      "                                      c-1.906,1.903-2.856,4.093-2.856,6.563c0,2.479,0.953,4.668,2.856,6.571l32.548,32.544c1.903,1.903,4.093,2.852,6.567,2.852\n",
      "                                      s4.665-0.948,6.567-2.852l186.148-186.148l50.251,50.248c3.614,3.617,7.898,5.426,12.847,5.426s9.233-1.809,12.851-5.426\n",
      "                                      c3.617-3.616,5.424-7.898,5.424-12.847V54.818C511.626,49.866,509.813,45.586,506.199,41.971z\"></path></g></g></svg></div></a></div><!-- Vendor features --><div class=\"vendor-option-purpose vendor-feature\"><p>Features</p></div><div class=\"vendor-consent-group vendor-feature-group\"><p class=\"consent-category\">Location Based Ads</p></div></div><!-- VENDOR PURPOSE UPDATE END *** --></div></div></li></ul></div></div></section></div><div id=\"triangle\"></div><section id=\"filter-modal\"><div id=\"options\" data-analytics-template-zone=\"consent manager\" data-analytics-module-name=\"consent manager\"><div id=\"clear-filters-container\" data-analytics-template-zone=\"consent manager\" data-analytics-module-name=\"consent manager\"><a href=\"javascript:void(0)\" id=\"clear-filters-handler\" role=\"button\" data-analytics-link-name=\"clear fliters\" data-analytics-content-type=\"cta\"><p>Clear Fliters</p></a></div><div class=\"group-options\"><div class=\"group-option\"><div class=\"ot-checkbox\"><input title=\"Information storage and access\" id=\"storage-access-group\" class=\"group-option-box category-filter-handler\" type=\"checkbox\"> <label for=\"storage-access-group\"><span>Information storage and access</span></label></div></div></div><button id=\"filter-apply-handler\" class=\"pill\" data-analytics-link-name=\"apply\" data-analytics-content-type=\"cta\">Apply</button></div></section></section></div><!-- footer --><div class=\"button-group-parent\"><div class=\"button-group\" data-analytics-template-zone=\"consent manager\" data-analytics-module-name=\"consent manager\"><button id=\"accept-recommended-btn-handler\" aria-label=\"Allow All\" role=\"button\" data-analytics-link-name=\"allow all\" data-analytics-content-type=\"cta\">Allow All</button> <button class=\"save-preference-btn-handler onetrust-close-btn-handler\" aria-label=\"Save Settings\" role=\"button\" data-analytics-link-name=\"save settings\" data-analytics-content-type=\"cta\">Save Settings</button></div><div class=\"footer-logo\"><a class=\"powered-by-logo\" href=\"https://onetrust.com/poweredbyonetrust\" target=\"_blank\" rel=\"noopener\" aria-label=\"Powered by Onetrust\"></a></div></div></div><div id=\"onetrust-banner-sdk\" class=\"otFlat vertical-align-content bottom\" style=\"bottom: -99px; animation-name: slide-down-custom; animation-duration: 1000ms; animation-fill-mode: forwards; animation-timing-function: ease-out;\"><div class=\"ot-sdk-container\"><div class=\"ot-sdk-row\"><div id=\"onetrust-group-container\" class=\"ot-sdk-eight ot-sdk-columns\"><div class=\"banner_logo\"></div><div id=\"onetrust-policy\"><!-- Mobile Close Button --><div id=\"onetrust-close-btn-container-mobile\" class=\"hide-large\" data-analytics-template-zone=\"consent manager\" data-analytics-module-name=\"consent manager\"><a class=\"onetrust-close-btn-handler onetrust-close-btn-ui banner-close-button mobile close-icon\" role=\"button\" href=\"javascript:void(0)\" title=\"Close\" aria-label=\"Close Banner Button\" data-analytics-link-name=\"close\" data-analytics-content-type=\"cta\"></a></div><!-- Mobile Close Button END--><p id=\"onetrust-policy-text\" data-analytics-template-zone=\"consent manager\" data-analytics-module-name=\"consent manager\">Welcome to accenture.com! In order to provide a more relevant experience for you, we use cookies to enable some website functionality. Cookies help us see which articles most interest you; allow you to easily share articles on social media; permit us to deliver content, jobs and ads tailored to your interests and locations; and provide many other site benefits. For more information, please review our <a href=\"/us-en/company-cookies-similar-technology\" target=\"_blank\" style=\"color: #004DFF;\" aria-label=\"Read more about Accenture Cookie Policy\" tabindex=\"0\" data-analytics-link-name=\"cookies policy\" data-analytics-content-type=\"cta\">Cookies Policy</a> and <a href=\"/us-en/privacy-policy\" target=\"_blank\" style=\"color: #004DFF;\" aria-label=\"Read more about Accenture Privacy Policy\" tabindex=\"0\" data-analytics-link-name=\"privacy statement\" data-analytics-content-type=\"cta\">Privacy Statement</a>.\n",
      "</p></div></div><div id=\"onetrust-button-group-parent\" class=\"ot-sdk-three ot-sdk-columns\"><div id=\"onetrust-button-group\" data-analytics-template-zone=\"consent manager\" data-analytics-module-name=\"consent manager\"><button id=\"onetrust-pc-btn-handler\" title=\"Open Preference Center Button\" class=\"cookie-setting-link\" tabindex=\"0\" data-analytics-link-name=\"open preference center button\" data-analytics-content-type=\"cta\">Cookie Settings</button>  </div></div><!-- Close Button --><div id=\"onetrust-close-btn-container\" class=\"ot-sdk-one ot-sdk-column hide-small\" data-analytics-template-zone=\"consent manager\" data-analytics-module-name=\"consent manager\"><a class=\"onetrust-close-btn-handler onetrust-close-btn-ui banner-close-button onetrust-lg close-icon\" role=\"button\" href=\"javascript:void(0)\" title=\"Close\" aria-label=\"Close Banner Button\" tabindex=\"0\" data-analytics-link-name=\"close\" data-analytics-content-type=\"cta\"></a></div><!-- Close Button END--></div></div></div></div>\n"
     ]
    }
   ],
   "source": [
    "# url 120\n",
    "i = urls[119]\n",
    "#open_url(i)\n",
    "element = driver.find_element_by_css_selector('#onetrust-consent-sdk')\n",
    "source = element.get_attribute(\"outerHTML\")\n",
    "print(source)\n",
    "data.append({\"TYPE\" : ad_type, \"ad_code\" : source, \"URL\" : i})"
   ]
  },
  {
   "cell_type": "code",
   "execution_count": 693,
   "metadata": {
    "collapsed": true
   },
   "outputs": [
    {
     "name": "stdout",
     "output_type": "stream",
     "text": [
      "<div id=\"_evidon_banner\" class=\"evidon-banner\" style=\"position: fixed; display: flex; align-items: flex-start; justify-content: flex-start; flex-wrap: wrap; width: 100%; background: rgb(239, 239, 239) none repeat scroll 0% 0%; font-size: 14px; color: rgb(64, 64, 64); z-index: 2147483647; left: 0px; right: 0px; border: 0px solid rgb(221, 29, 33); box-sizing: border-box; bottom: 0px; padding: 50px 10%;\"><div id=\"_evidon-title\" class=\"evidon-banner-title\" style=\"display: inline-block; width: 100%; font-size: 14px; text-align: left; margin: 0px 30px 10px 0px; color: rgb(64, 64, 64); font-family: Arial; font-weight: bold; line-height: 1.4;\">About Cookies On This Site</div><div id=\"_evidon-message\" class=\"evidon-banner-message\" style=\"display: block; margin: 0px 30px 30px 0px; text-align: left; color: rgb(64, 64, 64); font-size: 12px; width: 60%; max-width: 800px; line-height: 1.37; font-family: Arial;\">We use cookies to personalize and enhance your experience on our site and improve the delivery of ads to you. Visit our <a href=\"https://www.shell.com/privacy.html\" target=\"_blank\">Cookie Policy</a> to learn more. By clicking \"accept\", you agree to our use of cookies.</div><button id=\"_evidon-accept-button\" class=\"evidon-banner-acceptbutton\" style=\"display: inline; border: 1px solid rgb(251, 206, 7); background: rgb(251, 206, 7) none repeat scroll 0% 0%; color: rgb(64, 64, 64); padding: 12px 20px; cursor: pointer; border-radius: 0px; font-family: Arial; font-size: 14px; line-height: 1.5; font-weight: bold; margin: 0px 10px 10px 0px;\" tabindex=\"0\">Accept cookies</button><button id=\"_evidon-option-button\" class=\"evidon-banner-optionbutton\" style=\"display: inline; border: 1px solid rgb(89, 89, 89); background: transparent none repeat scroll 0% 0%; color: rgb(64, 64, 64); padding: 12px 20px; cursor: pointer; border-radius: 0px; font-family: Arial; font-size: 14px; line-height: 1.5; font-weight: bold; margin: 0px 10px 10px 0px;\" tabindex=\"0\">Customise Cookies</button><button id=\"_evh-ric-c\" style=\"position: absolute; top: 10px; right: 10px; height: 16px; width: 16px; cursor: pointer; z-index: 100; border: 0px none; padding: 0px; background: transparent none repeat scroll 0% 0%;\"><svg viewBox=\"0 0 14 12\" version=\"1.1\" xmlns=\"http://www.w3.org/2000/svg\" class=\"evidon-banner-icon\" xmlns:xlink=\"http://www.w3.org/1999/xlink\" style=\"position:absolute; top:0; left:0;\"><g id=\"__ghostery-close-icon-svg\" stroke=\"none\" fill=\"none\" fill-rule=\"evenodd\" stroke-linecap=\"square\"><g id=\"__ghostery-close-icon-box\" transform=\"translate(-1410.000000, -643.000000)\" stroke=\"#404040\" stroke-width=\"2\"><g id=\"__ghostery-close-icon-svg\" transform=\"translate(1411.000000, 643.000000)\"><path id=\"__ghostery-close-icon-line1\" d=\"M0.5,0.5 L11.5679722,11.5679722\" stroke=\"#404040\"></path><path id=\"__ghostery-close-icon-line2\" d=\"M0.5,0.5 L11.5679722,11.5679722\" transform=\"translate(6.000000, 6.000000) scale(-1, 1) translate(-6.000000, -6.000000) \" stroke=\"#404040\"></path></g></g></g></svg></button></div>\n"
     ]
    }
   ],
   "source": [
    "# url 121\n",
    "i = urls[120]\n",
    "#open_url(i)\n",
    "element = driver.find_element_by_css_selector('#_evidon_banner')\n",
    "source = element.get_attribute(\"outerHTML\")\n",
    "print(source)\n",
    "data.append({\"TYPE\" : ad_type, \"ad_code\" : source, \"URL\" : i})"
   ]
  },
  {
   "cell_type": "code",
   "execution_count": 695,
   "metadata": {
    "collapsed": true
   },
   "outputs": [
    {
     "name": "stdout",
     "output_type": "stream",
     "text": [
      "<div id=\"_evidon_banner\" class=\"evidon-banner\" style=\"position: fixed; bottom: 0px; border-top: 5px solid rgb(4, 94, 108); display: block; width: 100%; background: rgb(255, 255, 255) none repeat scroll 0% 0%; font-size: 14px; color: rgb(0, 0, 0); z-index: 214700001; padding: 14px 15%;\"><div id=\"_evidon-title\" class=\"evidon-banner-title\" style=\"font-size: 24px; margin: 16px 0px 6px; color: rgb(5, 94, 108); font-family: Austin News Deck Semibold, Georgia, Times, serif; text-align: left;\">About Cookies On This Site</div><div id=\"_evidon-message\" class=\"evidon-banner-message\" style=\"font-size: 16px; display: block; margin-left: 0px; color: rgb(0, 0, 0); text-align: left; padding-bottom: 30px; font-family: Austin News Text Roman, Georgia, Times, serif;\">We use cookies to collect and analyse information on site performance and usage, and to enhance and customise content and advertisements. By Clicking \"Accept\" or by clicking into any content on this site, you agree to allow cookies to be placed. <br><br>To find out more or to change your <a href=\"#\" onclick=\"event.preventDefault(); window.evidon.notice.showPreferencesDialog();\" style=\"color: #000; text-decoration:underline; font-weight: bold;\">cookie settings</a>, visit the cookies section of our <a href=\"//www.telegraph.co.uk/about-us/privacy-and-cookie-policy/\" style=\"color: #000; text-decoration:underline\" target=\"_blank\">privacy policy</a>.</div><button id=\"_evidon-accept-button\" class=\"evidon-banner-acceptbutton\" style=\"background: rgb(5, 94, 108) none repeat scroll 0% 0%; color: rgb(255, 255, 255); padding: 12px; min-width: 100px; font-family: Telesans Text Regular, Arial, sans-serif; cursor: pointer; margin: 16px 0px;\" tabindex=\"0\">Accept</button><button id=\"_evidon-option-button\" class=\"evidon-banner-optionbutton\" style=\"background: rgb(5, 94, 108) none repeat scroll 0% 0%; color: rgb(255, 255, 255); padding: 12px; min-width: 100px; font-family: Telesans Text Regular, Arial, sans-serif; cursor: pointer; margin: 16px 0px;\" tabindex=\"0\">Manage</button><div style=\"position: absolute; bottom: 0px; left: 0px; width: 100%; padding: 2px; text-align: center;\"><button id=\"iabpurposebutton\" style=\"background-color: transparent; border: 0px none; font-size: 0.9em; margin: 2px 6px; cursor: pointer;\">Show Purposes</button><button id=\"iabvendorbutton\" style=\"background-color: transparent; border: 0px none; font-size: 0.9em; margin: 2px 6px; cursor: pointer;\">Show Vendors</button></div></div>\n"
     ]
    }
   ],
   "source": [
    "# url 122\n",
    "i = urls[121]\n",
    "#open_url(i)\n",
    "element = driver.find_element_by_css_selector('#_evidon_banner')\n",
    "source = element.get_attribute(\"outerHTML\")\n",
    "print(source)\n",
    "data.append({\"TYPE\" : ad_type, \"ad_code\" : source, \"URL\" : i})"
   ]
  },
  {
   "cell_type": "code",
   "execution_count": 697,
   "metadata": {
    "collapsed": true
   },
   "outputs": [
    {
     "name": "stdout",
     "output_type": "stream",
     "text": [
      "<div data-test=\"age-gate-disclaimer\" class=\"AgeGatestyles__CookieDisclaimerContainer-xudtvj-17 iatrms\"><div class=\"AgeGatestyles__CookieDisclaimer-xudtvj-18 kGLokO\"><p class=\"AgeGatestyles__CookieDisclaimerText-xudtvj-19 bSCeRH Text__BaseText-aa2o0i-0 kvIxvA\"><span>We want to let you know that we are placing cookies on your device that remember your choices on lego.com, e.g your home country, high-score and your LEGO ID. We also place cookies that performs statistics on our website and cookies that help us run the website.  For more info view our <a href=\"https://www.lego.com/legal/cookies/cookie-policy/\">Cookie Policy</a> and our <a href=\"https://www.lego.com/legal/notices-and-policies/privacy-policy\">Privacy Policy</a>.</span></p></div></div>\n"
     ]
    }
   ],
   "source": [
    "# url 123\n",
    "i = urls[122]\n",
    "#open_url(i)\n",
    "element = driver.find_element_by_css_selector('.AgeGatestyles__CookieDisclaimerContainer-xudtvj-17')\n",
    "source = element.get_attribute(\"outerHTML\")\n",
    "print(source)\n",
    "data.append({\"TYPE\" : ad_type, \"ad_code\" : source, \"URL\" : i})"
   ]
  },
  {
   "cell_type": "code",
   "execution_count": 699,
   "metadata": {
    "collapsed": true
   },
   "outputs": [
    {
     "name": "stdout",
     "output_type": "stream",
     "text": [
      "<form action=\"\" class=\"CookieBanner bsp-onDomInsert-inserted-25 jnj-cookie-banner-item\" data-jnj-cookie-banner=\"\" data-not-seen=\"true\">\n",
      "    \n",
      "      <div class=\"CookieBanner-description\">\n",
      "        \n",
      "          <div class=\"CookieBanner-text\">This site uses cookies as described in our <a class=\"Link\" href=\"https://www.jnj.com/cookie-policy\" data-cms-ai=\"0\">Cookie Policy</a>.  Please click the \"Accept\" button or continue to use our site if you agree to our use of cookies.</div>\n",
      "        \n",
      "        \n",
      "          <button class=\"CookieBanner-button Button\" type=\"button\" data-jnj-cookie-banner-accept=\"\">Accept</button>\n",
      "        \n",
      "      </div>\n",
      "    \n",
      "    \n",
      "      <div class=\"CookieBanner-close\">\n",
      "        <img alt=\"\" src=\"https://jnj-content-lab.brightspotcdn.com/resource/00000162-1ab1-d21f-a3fa-5eb33bb60000/styleguide/assets/images/close-cookie-banner.f1b43cd8862f9f16628ec938e704f276.svg\" data-jnj-cookie-banner-close=\"\">\n",
      "      </div>\n",
      "    \n",
      "  </form>\n"
     ]
    }
   ],
   "source": [
    "# url 124\n",
    "i = urls[123]\n",
    "#open_url(i)\n",
    "element = driver.find_element_by_css_selector('.CookieBanner')\n",
    "source = element.get_attribute(\"outerHTML\")\n",
    "print(source)\n",
    "data.append({\"TYPE\" : ad_type, \"ad_code\" : source, \"URL\" : i})"
   ]
  },
  {
   "cell_type": "code",
   "execution_count": 701,
   "metadata": {
    "collapsed": true
   },
   "outputs": [
    {
     "name": "stdout",
     "output_type": "stream",
     "text": [
      "<div id=\"AdThrive_Footer_1_desktop\" class=\"adthrive-ad adthrive-footer adthrive-footer-1 adthrive-sticky\" data-google-query-id=\"CPzVoqWc3ucCFQspvQod1wMD2w\" closable=\"true\"><div id=\"google_ads_iframe_/18190176/AdThrive_Footer_1/591b55faa29bbe3a6f50b09c_0__container__\" style=\"border: 0pt none; display: inline-block; width: 728px; height: 90px; padding-top: 0px;\"><iframe style=\"border: 0px none; vertical-align: bottom;\" src=\"https://tpc.googlesyndication.com/safeframe/1-0-37/html/container.html\" id=\"google_ads_iframe_/18190176/AdThrive_Footer_1/591b55faa29bbe3a6f50b09c_0\" title=\"3rd party ad content\" name=\"\" scrolling=\"no\" marginwidth=\"0\" marginheight=\"0\" data-is-safeframe=\"true\" sandbox=\"allow-forms allow-pointer-lock allow-popups allow-popups-to-escape-sandbox allow-same-origin allow-scripts allow-top-navigation-by-user-activation\" data-google-container-id=\"3\" data-load-complete=\"true\" width=\"728\" height=\"90\" frameborder=\"0\"></iframe></div><span class=\"adthrive-close\">×</span></div>\n"
     ]
    }
   ],
   "source": [
    "# url 125\n",
    "i = urls[124]\n",
    "#open_url(i)\n",
    "element = driver.find_element_by_css_selector('#AdThrive_Footer_1_desktop')\n",
    "source = element.get_attribute(\"outerHTML\")\n",
    "print(source)\n",
    "data.append({\"TYPE\" : ad_type, \"ad_code\" : source, \"URL\" : i})"
   ]
  },
  {
   "cell_type": "code",
   "execution_count": 703,
   "metadata": {
    "collapsed": true
   },
   "outputs": [
    {
     "name": "stdout",
     "output_type": "stream",
     "text": [
      "<div class=\"js-first-visit-banner first-visit-banner box-border box-padding-medium mobile-box-padding-large\" style=\"display: block;\">\n",
      "<div class=\"content-asset\" data-assetid=\"cookie-policy-message\">\n",
      "\n",
      "<div class=\"cookie-policy-message\"><p>This website uses cookies, belonging to Bally or to third parties to remember your log-in details, collect statistics to optimize site functionality, offer you a better browsing experience and deliver marketing based on your interests (profiling cookies).</p>\n",
      "<p>If you wish to learn more on these cookies, change your relevant browser’s settings or prevent this website from setting whatever cookies, <a href=\"https://www.ballyofswitzerland.com/en/client-services/cookie-policy.html?test=111\" target=\"_blank\" title=\"link opens in a new tab\">click here</a>.</p>\n",
      "<p>If you click I ACCEPT or close this banner, you signify your consent to the use of these cookies.</p></div>\n",
      "<div class=\"cookie-policy-actions\"><button class=\"js-save-cookie-accept\">I ACCEPT</button></div>\n",
      "\n",
      "</div>\n",
      "<button class=\"js-banner-close first-visit-banner-close\">\n",
      "<i class=\"icon-clear\" aria-hidden=\"true\"></i>\n",
      "<span class=\"visually-hidden\">Close</span>\n",
      "</button>\n",
      "</div>\n"
     ]
    }
   ],
   "source": [
    "# url 126\n",
    "i = urls[125]\n",
    "#open_url(i)\n",
    "element = driver.find_element_by_css_selector('.js-first-visit-banner')\n",
    "source = element.get_attribute(\"outerHTML\")\n",
    "print(source)\n",
    "data.append({\"TYPE\" : ad_type, \"ad_code\" : source, \"URL\" : i})"
   ]
  },
  {
   "cell_type": "code",
   "execution_count": 705,
   "metadata": {
    "collapsed": true
   },
   "outputs": [
    {
     "name": "stdout",
     "output_type": "stream",
     "text": [
      "<div class=\"fancybox-wrap fancybox-desktop fancybox-type-inline fancybox-opened\" tabindex=\"-1\" id=\"cookie-banner--popup-wrapper\" style=\"width: 1200px; height: auto; position: absolute; top: 136px; left: 20px; opacity: 1; overflow: visible;\"><div class=\"fancybox-skin\" style=\"padding: 15px; width: auto; height: auto;\"><div class=\"fancybox-outer\"><div class=\"fancybox-inner\" style=\"overflow: auto; width: 1200px; height: 130px;\"><div id=\"cookie-banner--popup\">\n",
      "    <div class=\"row\">\n",
      "      <div id=\"cookie-banner--popup--inner\">\n",
      "\n",
      "        <div class=\"text-container\">\n",
      "\n",
      "          <div class=\"mobile-text\"><p>This site uses cookies to simplify and improve your experience of this website. Further usage of the website implies acceptance of this usage.</p></div><!-- .mobile-text -->\n",
      "          <div class=\"desktop-text\"><p>This site uses cookies to simplify and improve your usage and experience of this website. Cookies are small text files stored on the device you are using to access this website. If you ignore this message and continue without changing your browser settings, we will assume that you are consenting to our use of cookies. For further information on our use of cookies, please see our <a href=\"https://thefryecompany.myshopify.com/pages/privacy-policy\" target=\"_blank\">Privacy Statement</a></p></div><!-- .desktop-text -->\n",
      "\n",
      "        </div><!-- .text-container -->\n",
      "\n",
      "        <div class=\"buttons\">\n",
      "          <a class=\"button more-info\" href=\"/pages/privacy-policy\" target=\"_blank\">\n",
      "            Learn More\n",
      "          </a>\n",
      "          <a class=\"button button-close\">\n",
      "            Accept\n",
      "          </a>\n",
      "        </div><!-- .buttons -->\n",
      "\n",
      "      </div><!-- #cookie-banner--popup--inner -->\n",
      "    </div><!--.row-->\n",
      "  </div></div></div><a title=\"Close\" class=\"fancybox-item fancybox-close\" href=\"javascript:;\"></a></div></div>\n"
     ]
    }
   ],
   "source": [
    "# url 127\n",
    "i = urls[126]\n",
    "#open_url(i)\n",
    "element = driver.find_element_by_css_selector('#cookie-banner--popup-wrapper')\n",
    "source = element.get_attribute(\"outerHTML\")\n",
    "print(source)\n",
    "data.append({\"TYPE\" : ad_type, \"ad_code\" : source, \"URL\" : i})"
   ]
  },
  {
   "cell_type": "code",
   "execution_count": 707,
   "metadata": {
    "collapsed": true
   },
   "outputs": [
    {
     "name": "stdout",
     "output_type": "stream",
     "text": [
      "<div id=\"CybotCookiebotDialog\" name=\"CybotCookiebotDialog\" role=\"alertdialog\" aria-describedby=\"CybotCookiebotDialogBodyContentTitle\" dir=\"ltr\" ng-non-bindable=\"\" style=\"display: block; opacity: 1; top: 259px; width: 100%; height: auto;\" lang=\"en\"><div id=\"CybotCookiebotDialogBody\"><div id=\"CybotCookiebotDialogPoweredbyLink\"><img id=\"CybotCookiebotDialogPoweredbyImage\" src=\"data:image/png;base64,iVBORw0KGgoAAAANSUhEUgAAAC4AAAAjCAYAAADrJzjpAAAAGXRFWHRTb2Z0d2FyZQBBZG9iZSBJbWFnZVJlYWR5ccllPAAAAztJREFUeNrMWL9v01AQtkOlbO5eKTvC3ZComr0C5hRlY4iSHdI/oMofUCUDEoOr7hFlrqvuLmFgqhG72ZjqLRt36feiF/N+2I7tcNLVSe34fXfv7rt75zolxfO8Ll180hekHUlNkpI+kCakP0njNE2jMuu7BYB6dHlL+pr0jVOthKS3pDdkSFoJcHj2HWnfaUbmpF9sO+EaAPO2T0m7zm6EgZ+TAbHq5jMN6DO6XOWI2TqF137fbred5XJ5b/Q44vhqh142eX8gx7+bAf0VTNGkBEhMH4mvcxqHTE+Al4FPG0xA4cWPhCNR7PpMw1whPT9YAwdzXDcEmD32gQCEGsrl/BoZfs8hE7bwZdxgWLzSgGYPf7eAdmCY48LKXzUDjuHluCLaPdqjP4c1h8UFAQ4MtHtWhipbBTzGiXTASp9PUaZtZfxEBZpzinRREvRK9tDwGAGITF678akcR9jmIdjIw+0ERkaa5JtV0Os8ClZZWKpkih7iMktfEigBfq5qlOj+CB72tg0/kuerkk9ldd+SHG3Sl5zx9KxP+ofK8IYB9D0m/UG6zADm5z9z+cZ7tpVP3ALIBeiuYNVk4JcGD+fh5KKSIG9SpkOfaYqvKPleCea4Ea2o1LePK27SeJ0eYiVm4COR+VuAb6La9uDgLjuohV3tCEt4K0B//4vECA+BiRsx55+Sz6xByuDPYekuvczF60QwGcKwLwPvI0xkzln1Ffzjhg1IsSb3NBeZeyMRxq5Udjf6XQ1P13FQ3jgw0/Jzw/pTOPXAlf9hA585QB9DD0syEY8p7jGiCC3rMcaJWEcA58RcZLhyoDukWoxx8HJfkWCp1C4UeW+2EVu1IKLkXysqZ4Dk2EmCIucmClzcB81d6aE7zZayAUFTBgDLUHOMjAjGafbMKce6blBza4vHkmA78OzQ0Hak4PNENZ6wgRcviBC3nFwPRXcDQH0kdzdHj7SunNpJFs5+s4JMIVhCJPfvzH0f79svMf6IQRaJdQQHj0xq5Oy8zggURcg8O5QobtzwZCsXIbgFYnKIHahrnhijv881anZL0pWonP4WhsTIi29Ogbl4aeCWqnlsCQEG+1i0KqvkrwADAA4ohyFmUvzrAAAAAElFTkSuQmCC\" alt=\"logo\"></div><div id=\"CybotCookiebotDialogBodyContent\"><h2 id=\"CybotCookiebotDialogBodyContentTitle\" lang=\"en\">This website uses cookies</h2><div id=\"CybotCookiebotDialogBodyContentText\" lang=\"en\">Cookies help us to provide our services via our internet website. The website also uses profiling and third-party cookies to provide <g class=\"gr_ gr_18 gr-alert gr_spell gr_inline_cards gr_run_anim ContextualSpelling multiReplace\" id=\"18\" data-gr-id=\"18\">personalised</g> content and advertising. By continuing to browse or access any element of the page below you are agreeing to the use of our and third-party cookies. For further information or to reject the use of all or certain cookies, open the \"Cookie\" section.</div></div><div id=\"CybotCookiebotDialogBodyContentControls\" style=\"display: none;\"><div class=\"CybotCookiebotDialogBodyContentControlsWrapper\"><input type=\"checkbox\" id=\"CybotCookiebotDialogBodyContentCheckboxPersonalInformation\" class=\"CybotCookiebotDialogBodyLevelButton\" tabindex=\"0\"><label class=\"CybotCookiebotDialogBodyContentLabelPersonalInformation\" for=\"CybotCookiebotDialogBodyContentCheckboxPersonalInformation\"></label></div></div><div id=\"CybotCookiebotDialogBodyButtons\"><a id=\"CybotCookiebotDialogBodyButtonDecline\" class=\"CybotCookiebotDialogBodyButton\" href=\"javascript: void(0);\" tabindex=\"0\" style=\"display: none;\" lang=\"en\"> Use necessary cookies only </a><a id=\"CybotCookiebotDialogBodyButtonAccept\" class=\"CybotCookiebotDialogBodyButton\" href=\"javascript: void(0);\" tabindex=\"0\" style=\"padding-left: 12px; padding-right: 12px;\" lang=\"en\"> Allow all cookies </a><a id=\"CybotCookiebotDialogBodyButtonDetails\" class=\"CybotCookiebotDialogBodyLink\" href=\"javascript: void(0);\" tabindex=\"0\" lang=\"en\"> Show details </a></div><div id=\"CybotCookiebotDialogBodyLevelWrapper\"><div id=\"CybotCookiebotDialogBodyLevelButtonAcceptWrapper\"><a id=\"CybotCookiebotDialogBodyLevelButtonAccept\" href=\"javascript: void(0);\" tabindex=\"0\" lang=\"en\"> OK </a></div><div id=\"CybotCookiebotDialogBodyLevelButtonLevelOptinAllowallSelectionWrapper\" style=\"display:none\"><a id=\"CybotCookiebotDialogBodyLevelButtonLevelOptinAllowallSelection\" class=\"CybotCookiebotDialogBodyButton\" href=\"javascript: void(0);\" tabindex=\"0\" lang=\"en\"> Allow selection </a><a id=\"CybotCookiebotDialogBodyLevelButtonLevelOptinAllowAll\" class=\"CybotCookiebotDialogBodyButton\" href=\"javascript: void(0);\" tabindex=\"0\" lang=\"en\"> Allow all cookies </a></div><!--Checkboxes--><div id=\"CybotCookiebotDialogBodyLevelButtons\"><div id=\"CybotCookiebotDialogBodyLevelButtonsTable\"><div id=\"CybotCookiebotDialogBodyLevelButtonsRow\"><div id=\"CybotCookiebotDialogBodyLevelButtonsSelectPane\"><div class=\"CybotCookiebotDialogBodyLevelButtonWrapper\"><input type=\"checkbox\" id=\"CybotCookiebotDialogBodyLevelButtonNecessary\" class=\"CybotCookiebotDialogBodyLevelButton CybotCookiebotDialogBodyLevelButtonDisabled\" disabled=\"disabled\" checked=\"checked\"><label for=\"CybotCookiebotDialogBodyLevelButtonNecessary\">Necessary</label></div><div class=\"CybotCookiebotDialogBodyLevelButtonWrapper\"><input type=\"checkbox\" id=\"CybotCookiebotDialogBodyLevelButtonPreferences\" class=\"CybotCookiebotDialogBodyLevelButton\" checked=\"checked\" tabindex=\"0\"><label for=\"CybotCookiebotDialogBodyLevelButtonPreferences\">Preferences</label></div><div class=\"CybotCookiebotDialogBodyLevelButtonWrapper\"><input type=\"checkbox\" id=\"CybotCookiebotDialogBodyLevelButtonStatistics\" class=\"CybotCookiebotDialogBodyLevelButton\" checked=\"checked\" tabindex=\"0\"><label for=\"CybotCookiebotDialogBodyLevelButtonStatistics\">Statistics</label></div><div class=\"CybotCookiebotDialogBodyLevelButtonWrapper\"><input type=\"checkbox\" id=\"CybotCookiebotDialogBodyLevelButtonMarketing\" class=\"CybotCookiebotDialogBodyLevelButton\" checked=\"checked\" tabindex=\"0\"><label for=\"CybotCookiebotDialogBodyLevelButtonMarketing\">Marketing</label></div></div><div id=\"CybotCookiebotDialogBodyLevelDetailsWrapper\"><a id=\"CybotCookiebotDialogBodyLevelDetailsButton\" class=\"CybotCookiebotDialogBodyLink\" href=\"javascript: void(0);\" tabindex=\"0\" lang=\"en\"> Show details </a></div></div></div></div></div></div><div id=\"CybotCookiebotDialogDetail\"><div id=\"CybotCookiebotDialogDetailBody\"><div id=\"CybotCookiebotDialogDetailBodyContentTabs\"><a id=\"CybotCookiebotDialogDetailBodyContentTabsOverview\" class=\"CybotCookiebotDialogDetailBodyContentTab CybotCookiebotDialogDetailBodyContentTabsItemSelected\" href=\"javascript: CookieConsent.dialog.showDetailPane('overview');\" lang=\"en\"> Cookie declaration </a><a id=\"CybotCookiebotDialogDetailBodyContentTabsIAB\" class=\"CybotCookiebotDialogDetailBodyContentTab CybotCookiebotDialogDetailBodyContentTabsItem\" href=\"javascript: CookieConsent.dialog.showDetailPane('iab');\" lang=\"en\"> [#IABSETTINGS#] </a><a id=\"CybotCookiebotDialogDetailBodyContentTabsAbout\" class=\"CybotCookiebotDialogDetailBodyContentTab CybotCookiebotDialogDetailBodyContentTabsItem\" href=\"javascript: CookieConsent.dialog.showDetailPane('about');\" lang=\"en\"> About cookies </a></div><div id=\"CybotCookiebotDialogDetailBodyContent\"><div id=\"CybotCookiebotDialogDetailBodyContentTextOverview\" lang=\"en\"><div id=\"CybotCookiebotDialogDetailBodyContentCookieContainer\"><div id=\"CybotCookiebotDialogDetailBodyContentCookieContainerTypes\"><a id=\"CybotCookiebotDialogDetailBodyContentCookieContainerNecessary\" href=\"javascript: CookieConsent.dialog.showCookieContainerDetailPane('necessary');\" class=\"CybotCookiebotDialogDetailBodyContentCookieContainerTypesSelected\" lang=\"en\"><label>&nbsp;</label>Necessary (7)</a><a id=\"CybotCookiebotDialogDetailBodyContentCookieContainerPreference\" href=\"javascript: CookieConsent.dialog.showCookieContainerDetailPane('preference');\" class=\"CybotCookiebotDialogDetailBodyContentCookieContainerTypes\" lang=\"en\"><label>&nbsp;</label>Preferences (0)</a><a id=\"CybotCookiebotDialogDetailBodyContentCookieContainerStatistics\" href=\"javascript: CookieConsent.dialog.showCookieContainerDetailPane('statistics');\" class=\"CybotCookiebotDialogDetailBodyContentCookieContainerTypes\" lang=\"en\"><label>&nbsp;</label>Statistics (11)</a><a id=\"CybotCookiebotDialogDetailBodyContentCookieContainerAdvertising\" href=\"javascript: CookieConsent.dialog.showCookieContainerDetailPane('advertising');\" class=\"CybotCookiebotDialogDetailBodyContentCookieContainerTypes\" lang=\"en\"><label>&nbsp;</label>Marketing (32)</a><a id=\"CybotCookiebotDialogDetailBodyContentCookieContainerUnclassified\" href=\"javascript: CookieConsent.dialog.showCookieContainerDetailPane('unclassified');\" class=\"CybotCookiebotDialogDetailBodyContentCookieContainerTypes\" lang=\"en\"><label>&nbsp;</label>Unclassified (17)</a></div><div id=\"CybotCookiebotDialogDetailBodyContentCookieContainerTypeDetails\"><div id=\"CybotCookiebotDialogDetailBodyContentCookieTabsNecessary\"><div class=\"CybotCookiebotDialogDetailBodyContentCookieTypeIntro\">Necessary cookies help make a website usable by enabling basic functions like page navigation and access to secure areas of the website. The website cannot function properly without these cookies.</div><div class=\"CybotCookiebotDialogDetailBodyContentCookieTypeTableContainer\"> <table id=\"CybotCookiebotDialogDetailTableNecessary\" class=\"CybotCookiebotDialogDetailBodyContentCookieTypeTable\"><thead><tr><th scope=\"col\">Name</th><th scope=\"col\">Provider</th><th scope=\"col\">Purpose</th><th scope=\"col\">Expiry</th><th scope=\"col\">Type</th></tr></thead><tbody><tr><td title=\"__EC_TEST__\">__EC_TEST__</td><td>www.gianvitorossi.com</td><td title=\"Used to remember if the user is accessing the website on a computer or mobile device.\">Used to remember if the user is accessing the website on a computer or mobile device.</td><td title=\"Session\">Session</td><td title=\"HTTP\">HTTP</td></tr><tr><td title=\"cart\">cart</td><td>www.gianvitorossi.com</td><td title=\"Necessary for the shopping cart functionality on the website.\">Necessary for the shopping cart functionality on the website.</td><td title=\"Persistent\">Persistent</td><td title=\"HTML\">HTML</td></tr><tr><td title=\"CookieConsent\">CookieConsent</td><td><a href=\"https://www.cookiebot.com/goto/privacy-policy/\" target=\"_blank\" rel=\"noopener noreferrer nofollow\" title=\"Cookiebot's privacy policy\">Cookiebot</a></td><td title=\"Stores the user's cookie consent state for the current domain\">Stores the user's cookie consent state for the current domain</td><td title=\"1 year\">1 year</td><td title=\"HTTP\">HTTP</td></tr><tr><td title=\"frontend\">frontend</td><td>www.gianvitorossi.com</td><td title=\"Stores a random ID which ensures that a user can be uniquely identified as a guest or logged-in user. Functions such as &quot;Items last viewed&quot; or retention of the logged-in state are connected with this cookie.\">Stores a random ID which ensures that a user can be uniquely identified as a guest or logged-in user. Functions such as \"Items last viewed\" or retention of the logged-in state are connected with this cookie.</td><td title=\"1 day\">1 day</td><td title=\"HTTP\">HTTP</td></tr><tr><td title=\"TCSESSION\">TCSESSION&nbsp;[x2]</td><td>www.gianvitorossi.com<br><a href=\"https://www.commandersact.com/fr/vie-privee/\" target=\"_blank\" rel=\"noopener noreferrer nofollow\" title=\"Commanders Act's privacy policy\">Commanders Act</a></td><td title=\"Registers which server-cluster is serving the visitor. This is used in context with load balancing, in order to optimize user experience.  \">Registers which server-cluster is serving the visitor. This is used in context with load balancing, in order to optimize user experience.  </td><td title=\"1 day\">1 day</td><td title=\"HTTP\">HTTP</td></tr><tr><td title=\"test\">test</td><td>www.gianvitorossi.com</td><td title=\"Used to detect if the visitor has accepted the marketing category in the cookie banner. This cookie is necessary for GDPR-compliance of the website.  \">Used to detect if the visitor has accepted the marketing category in the cookie banner. This cookie is necessary for GDPR-compliance of the website.  </td><td title=\"Persistent\">Persistent</td><td title=\"HTML\">HTML</td></tr></tbody></table> </div></div><div id=\"CybotCookiebotDialogDetailBodyContentCookieTabsPreference\"><div class=\"CybotCookiebotDialogDetailBodyContentCookieTypeIntro\">Preference cookies enable a website to remember information that changes the way the website behaves or looks, like your preferred language or the region that you are in.</div><div class=\"CybotCookiebotDialogDetailBodyContentCookieTypeTableContainer\"> <table id=\"CybotCookiebotDialogDetailTablePreference\" class=\"CybotCookiebotDialogDetailBodyContentCookieTypeTable\"><tbody><tr><td class=\"CybotCookiebotDialogDetailBodyContentCookieTypeTableEmpty\">We do not use cookies of this type.</td></tr></tbody></table> </div></div><div id=\"CybotCookiebotDialogDetailBodyContentCookieTabsStatistics\"><div class=\"CybotCookiebotDialogDetailBodyContentCookieTypeIntro\">Statistic cookies help website owners to understand how visitors interact with websites by collecting and reporting information anonymously.</div><div class=\"CybotCookiebotDialogDetailBodyContentCookieTypeTableContainer\"> <table id=\"CybotCookiebotDialogDetailTableStatistics\" class=\"CybotCookiebotDialogDetailBodyContentCookieTypeTable\"><thead><tr><th scope=\"col\">Name</th><th scope=\"col\">Provider</th><th scope=\"col\">Purpose</th><th scope=\"col\">Expiry</th><th scope=\"col\">Type</th></tr></thead><tbody><tr><td title=\"TCID\">TCID</td><td><a href=\"https://www.commandersact.com/fr/vie-privee/\" target=\"_blank\" rel=\"noopener noreferrer nofollow\" title=\"Commanders Act's privacy policy\">Commanders Act</a></td><td title=\"This cookie is used to count how many times a website has been visited by different visitors - this is done by assigning the visitor a random ID, so the visitor does not get registered twice.\">This cookie is used to count how many times a website has been visited by different visitors - this is done by assigning the visitor a random ID, so the visitor does not get registered twice.</td><td title=\"1 year\">1 year</td><td title=\"HTTP\">HTTP</td></tr><tr><td title=\"__qca\">__qca</td><td>www.gianvitorossi.com</td><td title=\"Collects anonymous data on the user's visits to the website, such as the number of visits, average time spent on the website and what pages have been loaded with the purpose of generating reports for optimising the website content.\">Collects anonymous data on the user's visits to the website, such as the number of visits, average time spent on the website and what pages have been loaded with the purpose of generating reports for optimising the website content.</td><td title=\"1 year\">1 year</td><td title=\"HTTP\">HTTP</td></tr><tr><td title=\"__utma\">__utma</td><td>www.gianvitorossi.com</td><td title=\"Collects data on the number of times a user has visited the website as well as dates for the first and most recent visit. Used by Google Analytics.\">Collects data on the number of times a user has visited the website as well as dates for the first and most recent visit. Used by Google Analytics.</td><td title=\"2 years\">2 years</td><td title=\"HTTP\">HTTP</td></tr><tr><td title=\"__utmb\">__utmb</td><td>www.gianvitorossi.com</td><td title=\"Registers a timestamp with the exact time of when the user accessed the website. Used by Google Analytics to calculate the duration of a website visit.\">Registers a timestamp with the exact time of when the user accessed the website. Used by Google Analytics to calculate the duration of a website visit.</td><td title=\"1 day\">1 day</td><td title=\"HTTP\">HTTP</td></tr><tr><td title=\"__utmc\">__utmc</td><td>www.gianvitorossi.com</td><td title=\"Registers a timestamp with the exact time of when the user leaves the website. Used by Google Analytics to calculate the duration of a website visit.\">Registers a timestamp with the exact time of when the user leaves the website. Used by Google Analytics to calculate the duration of a website visit.</td><td title=\"Session\">Session</td><td title=\"HTTP\">HTTP</td></tr><tr><td title=\"__utmt\">__utmt</td><td>www.gianvitorossi.com</td><td title=\"Used to throttle the speed of requests to the server.\">Used to throttle the speed of requests to the server.</td><td title=\"1 day\">1 day</td><td title=\"HTTP\">HTTP</td></tr><tr><td title=\"__utmz\">__utmz</td><td>www.gianvitorossi.com</td><td title=\"Collects data on where the user came from, what search engine was used, what link was clicked and what search term was used. Used by Google Analytics.\">Collects data on where the user came from, what search engine was used, what link was clicked and what search term was used. Used by Google Analytics.</td><td title=\"6 months\">6 months</td><td title=\"HTTP\">HTTP</td></tr><tr><td title=\"_hjid\">_hjid</td><td>www.gianvitorossi.com</td><td title=\"Sets a unique ID for the session. This allows the website to obtain data on visitor behaviour for statistical purposes.\">Sets a unique ID for the session. This allows the website to obtain data on visitor behaviour for statistical purposes.</td><td title=\"1 year\">1 year</td><td title=\"HTML\">HTML</td></tr><tr><td title=\"external_no_cache\">external_no_cache</td><td>www.gianvitorossi.com</td><td title=\"This cookie is set to determine if the cache is enabled or disabled - a cache is used by the website to optimize the response time between the visitor and the website. The cache is usually stored on the visitor’s browser.\">This cookie is set to determine if the cache is enabled or disabled - a cache is used by the website to optimize the response time between the visitor and the website. The cache is usually stored on the visitor’s browser.</td><td title=\"1 day\">1 day</td><td title=\"HTTP\">HTTP</td></tr><tr><td title=\"rxvisitid\">rxvisitid</td><td>www.gianvitorossi.com</td><td title=\"Sets a unique ID for the session. This allows the website to obtain data on visitor behaviour for statistical purposes.\">Sets a unique ID for the session. This allows the website to obtain data on visitor behaviour for statistical purposes.</td><td title=\"Persistent\">Persistent</td><td title=\"HTML\">HTML</td></tr><tr><td title=\"rxvt\">rxvt</td><td>www.gianvitorossi.com</td><td title=\"Sets a timestamp for when the visitor entered the website. This is used for analytical purposes on the website. \">Sets a timestamp for when the visitor entered the website. This is used for analytical purposes on the website. </td><td title=\"Persistent\">Persistent</td><td title=\"HTML\">HTML</td></tr></tbody></table> </div></div><div id=\"CybotCookiebotDialogDetailBodyContentCookieTabsAdvertising\"><div class=\"CybotCookiebotDialogDetailBodyContentCookieTypeIntro\">Marketing cookies are used to track visitors across websites. The intention is to display ads that are relevant and engaging for the individual user and thereby more valuable for publishers and third party advertisers.</div><div class=\"CybotCookiebotDialogDetailBodyContentCookieTypeTableContainer\"> <table id=\"CybotCookiebotDialogDetailTableAdvertising\" class=\"CybotCookiebotDialogDetailBodyContentCookieTypeTable\"><thead><tr><th scope=\"col\">Name</th><th scope=\"col\">Provider</th><th scope=\"col\">Purpose</th><th scope=\"col\">Expiry</th><th scope=\"col\">Type</th></tr></thead><tbody><tr><td title=\"anj\">anj</td><td><a href=\"https://www.appnexus.com/en/company/privacy-policy\" target=\"_blank\" rel=\"noopener noreferrer nofollow\" title=\"Appnexus's privacy policy\">Appnexus</a></td><td title=\"Registers a unique ID that identifies a returning user's device. The ID is used for targeted ads.\">Registers a unique ID that identifies a returning user's device. The ID is used for targeted ads.</td><td title=\"3 months\">3 months</td><td title=\"HTTP\">HTTP</td></tr><tr><td title=\"MUID\">MUID</td><td><a href=\"https://privacy.microsoft.com/en-us/privacystatement\" target=\"_blank\" rel=\"noopener noreferrer nofollow\" title=\"Microsoft's privacy policy\">Microsoft</a></td><td title=\"Used widely by Microsoft as a unique user ID. The cookie enables user tracking by synchronising the ID across many Microsoft domains.\">Used widely by Microsoft as a unique user ID. The cookie enables user tracking by synchronising the ID across many Microsoft domains.</td><td title=\"1 year\">1 year</td><td title=\"HTTP\">HTTP</td></tr><tr><td title=\"MUIDB\">MUIDB</td><td><a href=\"https://privacy.microsoft.com/en-us/privacystatement\" target=\"_blank\" rel=\"noopener noreferrer nofollow\" title=\"Microsoft's privacy policy\">Microsoft</a></td><td title=\"Registers anonymous data on visitors from multiple visits and on multiple websites. This information is used to measure the efficiency of advertisement on websites.   \">Registers anonymous data on visitors from multiple visits and on multiple websites. This information is used to measure the efficiency of advertisement on websites.   </td><td title=\"1 year\">1 year</td><td title=\"HTTP\">HTTP</td></tr><tr><td title=\"CMID\">CMID</td><td><a href=\"http://casalemedia.com/\" target=\"_blank\" rel=\"noopener noreferrer nofollow\" title=\"Casalemedia's privacy policy\">Casalemedia</a></td><td title=\"Collects anonymous data related to the user's visits to the website, such as the number of visits, average time spent on the website and what pages have been loaded, with the purpose of displaying targeted ads.\">Collects anonymous data related to the user's visits to the website, such as the number of visits, average time spent on the website and what pages have been loaded, with the purpose of displaying targeted ads.</td><td title=\"1 year\">1 year</td><td title=\"HTTP\">HTTP</td></tr><tr><td title=\"CMPRO\">CMPRO</td><td><a href=\"http://casalemedia.com/\" target=\"_blank\" rel=\"noopener noreferrer nofollow\" title=\"Casalemedia's privacy policy\">Casalemedia</a></td><td title=\"Collects data on visitor behaviour from multiple websites, in order to present more relevant advertisement - This also allows the website to limit the number of times that the visitor is shown the same advertisement.  \">Collects data on visitor behaviour from multiple websites, in order to present more relevant advertisement - This also allows the website to limit the number of times that the visitor is shown the same advertisement.  </td><td title=\"3 months\">3 months</td><td title=\"HTTP\">HTTP</td></tr><tr><td title=\"CMPS\">CMPS</td><td><a href=\"http://casalemedia.com/\" target=\"_blank\" rel=\"noopener noreferrer nofollow\" title=\"Casalemedia's privacy policy\">Casalemedia</a></td><td title=\"Collects anonymous data related to the user's visits to the website, such as the number of visits, average time spent on the website and what pages have been loaded, with the purpose of displaying targeted ads.\">Collects anonymous data related to the user's visits to the website, such as the number of visits, average time spent on the website and what pages have been loaded, with the purpose of displaying targeted ads.</td><td title=\"3 months\">3 months</td><td title=\"HTTP\">HTTP</td></tr><tr><td title=\"CMRUM3\">CMRUM3</td><td><a href=\"http://casalemedia.com/\" target=\"_blank\" rel=\"noopener noreferrer nofollow\" title=\"Casalemedia's privacy policy\">Casalemedia</a></td><td title=\"Collects anonymous data related to the user's visits to the website, such as the number of visits, average time spent on the website and what pages have been loaded, with the purpose of displaying targeted ads.\">Collects anonymous data related to the user's visits to the website, such as the number of visits, average time spent on the website and what pages have been loaded, with the purpose of displaying targeted ads.</td><td title=\"1 year\">1 year</td><td title=\"HTTP\">HTTP</td></tr><tr><td title=\"CMST\">CMST</td><td><a href=\"http://casalemedia.com/\" target=\"_blank\" rel=\"noopener noreferrer nofollow\" title=\"Casalemedia's privacy policy\">Casalemedia</a></td><td title=\"Collects anonymous data related to the user's visits to the website, such as the number of visits, average time spent on the website and what pages have been loaded, with the purpose of displaying targeted ads.\">Collects anonymous data related to the user's visits to the website, such as the number of visits, average time spent on the website and what pages have been loaded, with the purpose of displaying targeted ads.</td><td title=\"1 day\">1 day</td><td title=\"HTTP\">HTTP</td></tr><tr><td title=\"tc_cj_v2\">tc_cj_v2&nbsp;[x2]</td><td><a href=\"https://www.commandersact.com/fr/vie-privee/\" target=\"_blank\" rel=\"noopener noreferrer nofollow\" title=\"Commanders Act's privacy policy\">Commanders Act</a><br>www.gianvitorossi.com</td><td title=\"Collects data on visitors' behaviour and interaction - This is used to optimize the website and make advertisement on the website more relevant. \">Collects data on visitors' behaviour and interaction - This is used to optimize the website and make advertisement on the website more relevant. </td><td title=\"1 year\">1 year</td><td title=\"HTTP\">HTTP</td></tr><tr><td title=\"uid\">uid</td><td><a href=\"https://www.criteo.com/privacy/\" target=\"_blank\" rel=\"noopener noreferrer nofollow\" title=\"Criteo's privacy policy\">Criteo</a></td><td title=\"Collects anonymous data related to the user's visits to the website, such as the number of visits, average time spent on the website and what pages have been loaded, with the purpose of displaying targeted ads.\">Collects anonymous data related to the user's visits to the website, such as the number of visits, average time spent on the website and what pages have been loaded, with the purpose of displaying targeted ads.</td><td title=\"1 year\">1 year</td><td title=\"HTTP\">HTTP</td></tr><tr><td title=\"IDE\">IDE</td><td><a href=\"https://policies.google.com/privacy\" target=\"_blank\" rel=\"noopener noreferrer nofollow\" title=\"Google's privacy policy\">Google</a></td><td title=\"Used by Google DoubleClick to register and report the website user's actions after viewing or clicking one of the advertiser's ads with the purpose of measuring the efficacy of an ad and to present targeted ads to the user.\">Used by Google DoubleClick to register and report the website user's actions after viewing or clicking one of the advertiser's ads with the purpose of measuring the efficacy of an ad and to present targeted ads to the user.</td><td title=\"1 year\">1 year</td><td title=\"HTTP\">HTTP</td></tr><tr><td title=\"test_cookie\">test_cookie</td><td><a href=\"https://policies.google.com/privacy\" target=\"_blank\" rel=\"noopener noreferrer nofollow\" title=\"Google's privacy policy\">Google</a></td><td title=\"Used to check if the user's browser supports cookies.\">Used to check if the user's browser supports cookies.</td><td title=\"1 day\">1 day</td><td title=\"HTTP\">HTTP</td></tr><tr><td title=\"fr\">fr</td><td><a href=\"https://www.facebook.com/policies/cookies/\" target=\"_blank\" rel=\"noopener noreferrer nofollow\" title=\"Facebook's privacy policy\">Facebook</a></td><td title=\"Used by Facebook to deliver a series of advertisement products such as real time bidding from third party advertisers.\">Used by Facebook to deliver a series of advertisement products such as real time bidding from third party advertisers.</td><td title=\"3 months\">3 months</td><td title=\"HTTP\">HTTP</td></tr><tr><td title=\"_fbp\">_fbp</td><td>www.gianvitorossi.com</td><td title=\"Used by Facebook to deliver a series of advertisement products such as real time bidding from third party advertisers.\">Used by Facebook to deliver a series of advertisement products such as real time bidding from third party advertisers.</td><td title=\"3 months\">3 months</td><td title=\"HTTP\">HTTP</td></tr><tr><td title=\"_hjIncludedInSample\">_hjIncludedInSample</td><td>www.gianvitorossi.com</td><td title=\"Determines if the user's navigation should be registered in a certain statistical place holder.\">Determines if the user's navigation should be registered in a certain statistical place holder.</td><td title=\"Session\">Session</td><td title=\"HTTP\">HTTP</td></tr><tr><td title=\"criteo_write_test\">criteo_write_test</td><td>www.gianvitorossi.com</td><td title=\"Sets a unique ID for the visitor, that allows third party advertisers to target the visitor with relevant advertisement. This pairing service is provided by third party advertisement hubs, which facilitates real-time bidding for advertisers.\">Sets a unique ID for the visitor, that allows third party advertisers to target the visitor with relevant advertisement. This pairing service is provided by third party advertisement hubs, which facilitates real-time bidding for advertisers.</td><td title=\"1 day\">1 day</td><td title=\"HTTP\">HTTP</td></tr><tr><td title=\"cto_tld_test\">cto_tld_test</td><td>www.gianvitorossi.com</td><td title=\"Used to identify the visitor across visits and devices. This allows the website to present the visitor with relevant advertisement - The service is provided by third party advertisement hubs, which facilitate real-time bidding for advertisers. \">Used to identify the visitor across visits and devices. This allows the website to present the visitor with relevant advertisement - The service is provided by third party advertisement hubs, which facilitate real-time bidding for advertisers. </td><td title=\"1 day\">1 day</td><td title=\"HTTP\">HTTP</td></tr><tr><td title=\"tC_Sync\">tC_Sync</td><td>www.gianvitorossi.com</td><td title=\"This cookie is set by the audience manager of the website to determine the time and frequencies of visitor data synchronization - cookie data synchronization is used to synchronize and gather visitor data from several websites.\">This cookie is set by the audience manager of the website to determine the time and frequencies of visitor data synchronization - cookie data synchronization is used to synchronize and gather visitor data from several websites.</td><td title=\"Persistent\">Persistent</td><td title=\"HTML\">HTML</td></tr><tr><td title=\"mc\">mc</td><td><a href=\"https://www.quantcast.com/privacy/\" target=\"_blank\" rel=\"noopener noreferrer nofollow\" title=\"Quantcast's privacy policy\">Quantcast</a></td><td title=\"Collects data on the user's visits to the website, such as what pages have been loaded. The registered data is used for targeted ads.\">Collects data on the user's visits to the website, such as what pages have been loaded. The registered data is used for targeted ads.</td><td title=\"13 months\">13 months</td><td title=\"HTTP\">HTTP</td></tr><tr><td title=\"cmd\">cmd</td><td><a href=\"http://rocketfuel.com/se/old/privacy-policy\" target=\"_blank\" rel=\"noopener noreferrer nofollow\" title=\"Rocketfuel's privacy policy\">Rocketfuel</a></td><td title=\"Registers anonymised user data, such as IP address, geographical location, visited websites, and what ads the user has clicked, with the purpose of optimising ad display based on the user's movement on websites that use the same ad network.\">Registers anonymised user data, such as IP address, geographical location, visited websites, and what ads the user has clicked, with the purpose of optimising ad display based on the user's movement on websites that use the same ad network.</td><td title=\"1 year\">1 year</td><td title=\"HTTP\">HTTP</td></tr><tr><td title=\"eud\">eud</td><td><a href=\"http://rocketfuel.com/se/old/privacy-policy\" target=\"_blank\" rel=\"noopener noreferrer nofollow\" title=\"Rocketfuel's privacy policy\">Rocketfuel</a></td><td title=\"Registers anonymised user data, such as IP address, geographical location, visited websites, and what ads the user has clicked, with the purpose of optimising ad display based on the user's movement on websites that use the same ad network.\">Registers anonymised user data, such as IP address, geographical location, visited websites, and what ads the user has clicked, with the purpose of optimising ad display based on the user's movement on websites that use the same ad network.</td><td title=\"1 year\">1 year</td><td title=\"HTTP\">HTTP</td></tr><tr><td title=\"euds\">euds</td><td><a href=\"http://rocketfuel.com/se/old/privacy-policy\" target=\"_blank\" rel=\"noopener noreferrer nofollow\" title=\"Rocketfuel's privacy policy\">Rocketfuel</a></td><td title=\"Registers anonymised user data, such as IP address, geographical location, visited websites, and what ads the user has clicked, with the purpose of optimising ad display based on the user's movement on websites that use the same ad network.\">Registers anonymised user data, such as IP address, geographical location, visited websites, and what ads the user has clicked, with the purpose of optimising ad display based on the user's movement on websites that use the same ad network.</td><td title=\"Session\">Session</td><td title=\"HTTP\">HTTP</td></tr><tr><td title=\"rud\">rud</td><td><a href=\"http://rocketfuel.com/se/old/privacy-policy\" target=\"_blank\" rel=\"noopener noreferrer nofollow\" title=\"Rocketfuel's privacy policy\">Rocketfuel</a></td><td title=\"Registers anonymised user data, such as IP address, geographical location, visited websites, and what ads the user has clicked, with the purpose of optimising ad display based on the user's movement on websites that use the same ad network.\">Registers anonymised user data, such as IP address, geographical location, visited websites, and what ads the user has clicked, with the purpose of optimising ad display based on the user's movement on websites that use the same ad network.</td><td title=\"1 year\">1 year</td><td title=\"HTTP\">HTTP</td></tr><tr><td title=\"ruds\">ruds</td><td><a href=\"http://rocketfuel.com/se/old/privacy-policy\" target=\"_blank\" rel=\"noopener noreferrer nofollow\" title=\"Rocketfuel's privacy policy\">Rocketfuel</a></td><td title=\"Registers anonymised user data, such as IP address, geographical location, visited websites, and what ads the user has clicked, with the purpose of optimising ad display based on the user's movement on websites that use the same ad network.\">Registers anonymised user data, such as IP address, geographical location, visited websites, and what ads the user has clicked, with the purpose of optimising ad display based on the user's movement on websites that use the same ad network.</td><td title=\"Session\">Session</td><td title=\"HTTP\">HTTP</td></tr><tr><td title=\"smd\">smd</td><td><a href=\"http://rocketfuel.com/se/old/privacy-policy\" target=\"_blank\" rel=\"noopener noreferrer nofollow\" title=\"Rocketfuel's privacy policy\">Rocketfuel</a></td><td title=\"Used to present the visitor with relevant content and advertisement - The service is provided by third party advertisement hubs, which facilitate real-time bidding for advertisers.\">Used to present the visitor with relevant content and advertisement - The service is provided by third party advertisement hubs, which facilitate real-time bidding for advertisers.</td><td title=\"1 year\">1 year</td><td title=\"HTTP\">HTTP</td></tr><tr><td title=\"audience\">audience</td><td><a href=\"https://www.spotx.tv/privacy-policy/\" target=\"_blank\" rel=\"noopener noreferrer nofollow\" title=\"Spotx's privacy policy\">Spotx</a></td><td title=\"Used to determine whether the video-ads have been displayed correctly on the website - This is done to make video-ads more effective and ensure that the visitor is not shown the same ads more times than intended. The cookie also detects whether the visitor has any Do Not Track preferences.\">Used to determine whether the video-ads have been displayed correctly on the website - This is done to make video-ads more effective and ensure that the visitor is not shown the same ads more times than intended. The cookie also detects whether the visitor has any Do Not Track preferences.</td><td title=\"1 year\">1 year</td><td title=\"HTTP\">HTTP</td></tr><tr><td title=\"vuid\">vuid</td><td><a href=\"https://vimeo.com/privacy\" target=\"_blank\" rel=\"noopener noreferrer nofollow\" title=\"Vimeo's privacy policy\">Vimeo</a></td><td title=\"Collects data on the user's visits to the website, such as which pages have been read.\">Collects data on the user's visits to the website, such as which pages have been read.</td><td title=\"2 years\">2 years</td><td title=\"HTTP\">HTTP</td></tr><tr><td title=\"B\">B</td><td><a href=\"https://policies.yahoo.com/us/en/yahoo/privacy/index.htm\" target=\"_blank\" rel=\"noopener noreferrer nofollow\" title=\"Yahoo's privacy policy\">Yahoo</a></td><td title=\"Collects anonymous data related to the user's website visits, such as the number of visits, average time spent on the website and what pages have been loaded. The registered data is used to categorise the users' interest and demographical profiles with the purpose of customising the website content depending on the visitor.\">Collects anonymous data related to the user's website visits, such as the number of visits, average time spent on the website and what pages have been loaded. The registered data is used to categorise the users' interest and demographical profiles with the purpose of customising the website content depending on the visitor.</td><td title=\"1 year\">1 year</td><td title=\"HTTP\">HTTP</td></tr><tr><td title=\"WID\">WID</td><td><a href=\"https://www.commandersact.com/fr/vie-privee/\" target=\"_blank\" rel=\"noopener noreferrer nofollow\" title=\"Commanders Act's privacy policy\">Commanders Act</a></td><td title=\"Pending\">Pending</td><td title=\"Session\">Session</td><td title=\"HTTP\">HTTP</td></tr><tr><td title=\"cref\">cref</td><td><a href=\"https://www.quantcast.com/privacy/\" target=\"_blank\" rel=\"noopener noreferrer nofollow\" title=\"Quantcast's privacy policy\">Quantcast</a></td><td title=\"Pending\">Pending</td><td title=\"13 months\">13 months</td><td title=\"HTTP\">HTTP</td></tr><tr><td title=\"A3\">A3</td><td><a href=\"https://policies.yahoo.com/us/en/yahoo/privacy/index.htm\" target=\"_blank\" rel=\"noopener noreferrer nofollow\" title=\"Yahoo's privacy policy\">Yahoo</a></td><td title=\"Pending\">Pending</td><td title=\"1 year\">1 year</td><td title=\"HTTP\">HTTP</td></tr></tbody></table> </div></div><div id=\"CybotCookiebotDialogDetailBodyContentCookieTabsUnclassified\"><div class=\"CybotCookiebotDialogDetailBodyContentCookieTypeIntro\">Unclassified cookies are cookies that we are in the process of classifying, together with the providers of individual cookies.</div><div class=\"CybotCookiebotDialogDetailBodyContentCookieTypeTableContainer\"> <table id=\"CybotCookiebotDialogDetailTableUnclassified\" class=\"CybotCookiebotDialogDetailBodyContentCookieTypeTable\"><thead><tr><th scope=\"col\">Name</th><th scope=\"col\">Provider</th><th scope=\"col\">Purpose</th><th scope=\"col\">Expiry</th><th scope=\"col\">Type</th></tr></thead><tbody><tr><td title=\"_hjTLDTest\">_hjTLDTest</td><td>www.gianvitorossi.com</td><td title=\"Pending\">Pending</td><td title=\"Session\">Session</td><td title=\"HTTP\">HTTP</td></tr><tr><td title=\"account\">account</td><td>www.gianvitorossi.com</td><td title=\"Pending\">Pending</td><td title=\"Persistent\">Persistent</td><td title=\"HTML\">HTML</td></tr><tr><td title=\"cartCount\">cartCount</td><td>www.gianvitorossi.com</td><td title=\"Pending\">Pending</td><td title=\"Persistent\">Persistent</td><td title=\"HTML\">HTML</td></tr><tr><td title=\"invalidate_local_storage\">invalidate_local_storage</td><td>www.gianvitorossi.com</td><td title=\"Pending\">Pending</td><td title=\"Session\">Session</td><td title=\"HTTP\">HTTP</td></tr><tr><td title=\"isLogged\">isLogged</td><td>www.gianvitorossi.com</td><td title=\"Pending\">Pending</td><td title=\"Persistent\">Persistent</td><td title=\"HTML\">HTML</td></tr><tr><td title=\"ruxitagentjs_5c86b39d0f09c7a2_Store\">ruxitagentjs_5c86b39d0f09c7a2_Store</td><td>www.gianvitorossi.com</td><td title=\"Pending\">Pending</td><td title=\"Persistent\">Persistent</td><td title=\"HTML\">HTML</td></tr><tr><td title=\"rxec\">rxec</td><td>www.gianvitorossi.com</td><td title=\"Pending\">Pending</td><td title=\"Persistent\">Persistent</td><td title=\"HTML\">HTML</td></tr><tr><td title=\"SN_TRO-gianvitorossicom\">SN_TRO-gianvitorossicom</td><td>www.gianvitorossi.com</td><td title=\"Pending\">Pending</td><td title=\"179 days\">179 days</td><td title=\"HTTP\">HTTP</td></tr><tr><td title=\"SSC_TRO-gianvitorossicom\">SSC_TRO-gianvitorossicom</td><td>www.gianvitorossi.com</td><td title=\"Pending\">Pending</td><td title=\"179 days\">179 days</td><td title=\"HTTP\">HTTP</td></tr><tr><td title=\"SSID_TRO-gianvitorossicom\">SSID_TRO-gianvitorossicom</td><td>www.gianvitorossi.com</td><td title=\"Pending\">Pending</td><td title=\"Session\">Session</td><td title=\"HTTP\">HTTP</td></tr><tr><td title=\"storageTime\">storageTime</td><td>www.gianvitorossi.com</td><td title=\"Pending\">Pending</td><td title=\"Persistent\">Persistent</td><td title=\"HTML\">HTML</td></tr><tr><td title=\"storeCode\">storeCode</td><td>www.gianvitorossi.com</td><td title=\"Pending\">Pending</td><td title=\"Persistent\">Persistent</td><td title=\"HTML\">HTML</td></tr><tr><td title=\"SV_TRO-gianvitorossicom\">SV_TRO-gianvitorossicom</td><td>www.gianvitorossi.com</td><td title=\"Pending\">Pending</td><td title=\"Session\">Session</td><td title=\"HTTP\">HTTP</td></tr><tr><td title=\"tbuyAjaxTime\">tbuyAjaxTime</td><td>www.gianvitorossi.com</td><td title=\"Pending\">Pending</td><td title=\"Persistent\">Persistent</td><td title=\"HTML\">HTML</td></tr><tr><td title=\"tCdebugLib\">tCdebugLib</td><td>www.gianvitorossi.com</td><td title=\"Pending\">Pending</td><td title=\"29 days\">29 days</td><td title=\"HTTP\">HTTP</td></tr><tr><td title=\"wishlist\">wishlist</td><td>www.gianvitorossi.com</td><td title=\"Pending\">Pending</td><td title=\"Persistent\">Persistent</td><td title=\"HTML\">HTML</td></tr><tr><td title=\"wishlistCount\">wishlistCount</td><td>www.gianvitorossi.com</td><td title=\"Pending\">Pending</td><td title=\"Persistent\">Persistent</td><td title=\"HTML\">HTML</td></tr></tbody></table> </div></div></div></div></div><div id=\"CybotCookiebotDialogDetailBodyContentTextIAB\" lang=\"en\"> [#COOKIESIABCONTENT#] </div><div id=\"CybotCookiebotDialogDetailBodyContentTextAbout\" lang=\"en\"> Cookies are small text files that can be used by websites to make a user's experience more efficient.<br><br>The law states that we can store cookies on your device if they are strictly necessary for the operation of this site. For all other types of cookies we need your permission.<br><br>This site uses different types of cookies. Some cookies are placed by third party services that appear on our pages.<br><br>You can at any time change or withdraw your consent from the Cookie Declaration on our website.<br><br>Learn more about who we are, how you can contact us and how we process personal data in our Privacy Policy. </div></div><div id=\"CybotCookiebotDialogDetailFooter\" lang=\"en\"> Cookie declaration last updated on 05/02/2020 by <a href=\"https://www.cookiebot.com\" target=\"_blank\" rel=\"noopener\" title=\"Cookiebot\">Cookiebot</a> </div></div></div></div>\n"
     ]
    }
   ],
   "source": [
    "# url 128\n",
    "i = urls[127]\n",
    "#open_url(i)\n",
    "element = driver.find_element_by_css_selector('#CybotCookiebotDialog')\n",
    "source = element.get_attribute(\"outerHTML\")\n",
    "print(source)\n",
    "data.append({\"TYPE\" : ad_type, \"ad_code\" : source, \"URL\" : i})"
   ]
  },
  {
   "cell_type": "code",
   "execution_count": 22,
   "metadata": {
    "collapsed": true
   },
   "outputs": [
    {
     "name": "stdout",
     "output_type": "stream",
     "text": [
      "<div id=\"_evidon_banner\" class=\"evidon-banner\" style=\"display: flex; position: fixed; width: 100%; padding: 0px; justify-content: center; background: rgb(235, 233, 224) none repeat scroll 0% 0%; bottom: 0px; z-index: 2147000001; border-top: 0.0625rem solid rgb(215, 215, 215);\"><div id=\"_evidon-message\" class=\"evidon-banner-message\" style=\"margin: 0.75rem 2rem 1rem; font-weight: 400; font-family: EconSansOS, EconSansOSSec, -apple-system, system-ui, Segoe UI, Helvetica, Arial, sans-serif; font-size: 1rem; line-height: 1.38rem; text-align: left; color: rgb(56, 62, 66); max-width: 52rem;\">We use cookies to tailor your experience, measure site performance and present relevant offers and advertisements. By clicking on 'Allow' or any content on this site, you agree that cookies can be placed. You can <a href=\"https://www.economist.com/cookies-info\" style=\"color:#000\" target=\"_blank\">view our policies</a> or <a style=\"color:#000\" href=\"#\" onclick=\"event.preventDefault(); window.evidon.notice.showConsentTool();\">manage your cookies</a> here.</div><button id=\"_evidon-accept-button\" class=\"evidon-banner-acceptbutton\" style=\"border: 0px none; border-radius: 0.25rem; box-sizing: border-box; background: rgb(56, 62, 66) none repeat scroll 0% 0%; color: rgb(255, 255, 255); padding: 0.375rem 1.5rem; cursor: pointer; margin: 0.75rem 2rem 1rem 0rem; font-family: EconSansOS, EconSansOSSec, -apple-system, system-ui, Segoe UI, Helvetica, Arial, sans-serif; font-size: 1rem; float: right; height: 2.25rem;\" tabindex=\"0\">Allow</button></div>\n"
     ]
    }
   ],
   "source": [
    "# url 129\n",
    "i = urls[128]\n",
    "#open_url(i)\n",
    "element = driver.find_element_by_css_selector('#_evidon_banner')\n",
    "source = element.get_attribute(\"outerHTML\")\n",
    "print(source)\n",
    "data.append({\"TYPE\" : ad_type, \"ad_code\" : source, \"URL\" : i})"
   ]
  },
  {
   "cell_type": "code",
   "execution_count": 24,
   "metadata": {
    "collapsed": true
   },
   "outputs": [
    {
     "name": "stdout",
     "output_type": "stream",
     "text": [
      "<div id=\"eyeDiv\" dir=\"ltr\" style=\"border: 0px none; padding: 0px; margin: 0px; top: 0px; left: 0px; overflow: visible; font-size: 0px; line-height: 0px; text-align: left; position: absolute; z-index: 10000;\"><div id=\"ebAd1079798172_banner_div_0_1079798172_6365233130963345\" dir=\"ltr\" style=\"border: 0px none; padding: 0px; margin: 0px; top: 313px; left: 0px; overflow: hidden; font-size: 0px; line-height: 0px; text-align: left; position: fixed; z-index: 1; display: block; width: 1280px; height: 90px;\"><iframe marginheight=\"0px\" marginwidth=\"0px\" scrolling=\"no\" name=\"ebAd1079798172_banner_iframe_1079798172_6365233130963345\" id=\"ebAd1079798172_banner_iframe_1079798172_6365233130963345\" allowfullscreen=\"true\" src=\"https://secure-ds.serving-sys.com/resources/PROD/html5/5822/20191221/1075042840/50575265301024387/panels/banner/index.html?v=_2_108_1_0&amp;n=1\" onload=\"(function(e) { var event = new EBG.Events.Event(EBG.Events.EventNames.ELEMENT_LOADED);event.dispatcher = this;event.eventData = { DOMEvent: e, elementId: &quot;ebAd1079798172_banner_iframe_1079798172_6365233130963345&quot;, adUId:&quot;1079798172_6365233130963345&quot; };event.timing = EBG.Events.EventTiming.ONTIME_AND_AFTER;EBG.eventMgr.dispatchEvent(event);} )(typeof arguments != &quot;undefined&quot; ? arguments[0] : null);\" style=\"border: 0px none; padding: 0px; margin: 0px; width: 1280px; height: 90px; position: absolute; visibility: visible;\" frameborder=\"0\"></iframe></div></div>\n"
     ]
    }
   ],
   "source": [
    "# url 130\n",
    "i = urls[129]\n",
    "#open_url(i)\n",
    "element = driver.find_element_by_css_selector('#eyeDiv')\n",
    "source = element.get_attribute(\"outerHTML\")\n",
    "print(source)\n",
    "data.append({\"TYPE\" : ad_type, \"ad_code\" : source, \"URL\" : i})"
   ]
  },
  {
   "cell_type": "code",
   "execution_count": 26,
   "metadata": {
    "collapsed": true
   },
   "outputs": [
    {
     "name": "stdout",
     "output_type": "stream",
     "text": [
      "<phoenix-ad class=\"m-fixedbottom-ad not-size-a not-size-b is-loaded m-advertisement--fixedbottom m-advertisement--fixedbottom-contained m-advertisement--fixedbottom-close-button\" auto-reload=\"\" close-button=\"\" config=\"{&quot;adReloaderDelay&quot;:30,&quot;maxAdReloads&quot;:25,&quot;adReloaderSizeCodes&quot;:[&quot;300x50&quot;,&quot;320x50&quot;,&quot;320x60&quot;,&quot;728x90&quot;,&quot;768x66&quot;,&quot;970x90&quot;,&quot;1x1&quot;],&quot;moduleClass&quot;:&quot;m-fixedbottom-ad&quot;,&quot;slotId&quot;:&quot;ad-3179357867dc4945879de18af6110dc2&quot;,&quot;visClasses&quot;:[&quot;not-size-a&quot;,&quot;not-size-b&quot;],&quot;slotConfig&quot;:{&quot;config&quot;:{&quot;sizes&quot;:[[900,65],[970,90],[728,90]]},&quot;model&quot;:{&quot;zone&quot;:&quot;fixed_bottom&quot;,&quot;index&quot;:0,&quot;isOutstream&quot;:false,&quot;deferLoad&quot;:true},&quot;sizes&quot;:[{&quot;name&quot;:&quot;fixedBottomC&quot;}],&quot;screenSizes&quot;:[&quot;C&quot;],&quot;slotModel&quot;:{&quot;zone&quot;:&quot;fixed_bottom&quot;,&quot;index&quot;:0,&quot;isOutstream&quot;:false,&quot;deferLoad&quot;:true},&quot;id&quot;:&quot;ad-3179357867dc4945879de18af6110dc2&quot;,&quot;adUnitPath&quot;:&quot;/88059007/www.climbing.com/homepage&quot;}}\" data-class-rules=\"[{&quot;dimensions&quot;:[&quot;300x50&quot;,&quot;301x50&quot;,&quot;320x50&quot;,&quot;321x50&quot;,&quot;728x90&quot;,&quot;729x90&quot;,&quot;970x90&quot;,&quot;971x90&quot;,&quot;1x1&quot;],&quot;classes&quot;:[&quot;m-advertisement--fixedbottom&quot;,&quot;m-advertisement--fixedbottom-contained&quot;]},{&quot;dimensions&quot;:[&quot;728x90&quot;,&quot;729x90&quot;,&quot;970x90&quot;,&quot;971x90&quot;,&quot;1x1&quot;],&quot;classes&quot;:[&quot;m-advertisement--fixedbottom-close-button&quot;]}]\" defer-until-event=\"phoenix:balloonHeader:popped\" fixed-visible=\"\" auto-reload-paused=\"true\"><div class=\"m-fixedbottom-ad--slot not-size-a not-size-b is-loaded\"><div id=\"ad-3179357867dc4945879de18af6110dc2\" data-ad-size=\"fixedBottomC\"></div><div class=\"m-advertisement--close-button\"><div class=\"m-advertisement--close-button-label\">CLOSE</div></div></div></phoenix-ad>\n"
     ]
    }
   ],
   "source": [
    "# url 131\n",
    "i = urls[130]\n",
    "#open_url(i)\n",
    "element = driver.find_element_by_css_selector('phoenix-ad.m-fixedbottom-ad:nth-child(3)')\n",
    "source = element.get_attribute(\"outerHTML\")\n",
    "print(source)\n",
    "data.append({\"TYPE\" : ad_type, \"ad_code\" : source, \"URL\" : i})"
   ]
  },
  {
   "cell_type": "code",
   "execution_count": 28,
   "metadata": {
    "collapsed": true
   },
   "outputs": [
    {
     "name": "stdout",
     "output_type": "stream",
     "text": [
      "<div id=\"cx-notification\">\n",
      "<div data-campaign-id=\"4\" id=\"cx-notification-wrapper\" class=\"gdpr-message\">\n",
      "  <div class=\"notification-contain\">\n",
      "    <div class=\"notification-inner\">\n",
      "      <div class=\"notification-content\">\n",
      "        <div class=\"notification-title\">Cookie Notice</div>\n",
      "        <div class=\"notification-body\">We use cookies for analytics, advertising and to improve our site.\n",
      "          You agree to our use of cookies by closing this message box or continuing to use our site.\n",
      "          To find out more, including how to change your settings, see our\n",
      "          <a id=\"cXLinkIdk6yj9fbnbwngjtan\" href=\"https://dowjones.com/cookie-notice?mod=barrons&amp;cx_u_policy=bolcpoct2017\" target=\"_top\">Cookie Notice</a>\n",
      "        </div>\n",
      "      </div>\n",
      "    </div>\n",
      "    <a class=\"gdpr-close\" title=\"Close Notification\">\n",
      "      <svg xmlns=\"http://www.w3.org/2000/svg\" viewBox=\"0 0 14.7 14.7\">\n",
      "          <path d=\"M14.7.7L14 0 7.4 6.6.7 0 0 .7l6.6 6.7L0 14l.7.7 6.7-6.6 6.6 6.6.7-.7-6.6-6.6\"></path>\n",
      "      </svg>\n",
      "    </a>\n",
      "  </div>\n",
      "</div>\n",
      "\n",
      "</div>\n"
     ]
    }
   ],
   "source": [
    "# url 132\n",
    "i = urls[131]\n",
    "#open_url(i)\n",
    "element = driver.find_element_by_css_selector('#cx-notification')\n",
    "source = element.get_attribute(\"outerHTML\")\n",
    "print(source)\n",
    "data.append({\"TYPE\" : ad_type, \"ad_code\" : source, \"URL\" : i})"
   ]
  },
  {
   "cell_type": "code",
   "execution_count": 31,
   "metadata": {
    "collapsed": true
   },
   "outputs": [
    {
     "name": "stdout",
     "output_type": "stream",
     "text": [
      "<div id=\"iubenda-cs-banner\" style=\"z-index:99999998 !important;\" class=\"iubenda-cs-default-floating iubenda-cs-bottom iubenda-cs-center iubenda-cs-slidein iubenda-cs-visible\" role=\"alertdialog\" aria-labelledby=\"iubenda-cs-title\" aria-describedby=\"iubenda-cs-paragraph\"><div class=\"iubenda-cs-container\"><div class=\"iubenda-cs-content\" style=\"background-color: white !important;color: black !important;font-size: 14px !important;\"><div class=\"iubenda-cs-rationale\"><div class=\"iubenda-banner-content iubenda-banner-content-padded\" role=\"document\" tabindex=\"0\"><p>We use cookies to help our website work, to understand how it is used and to choose the adverts you are shown.</p>  <p>By clicking \"Accept\" you agree to us doing so. You can read more in our <a href=\"https://www.apollo-magazine.com/privacy/\">privacy policy</a>.</p></div><div class=\"iubenda-cs-opt-group\" style=\"color:white!important;\"><div class=\"iubenda-cs-opt-group-consent\"><button class=\"iubenda-cs-accept-btn iubenda-cs-btn-primary\" style=\"background-color:#d2091e!important;color:white!important;\" tabindex=\"0\" role=\"button\" aria-pressed=\"false\">Accept</button></div></div><button type=\"button\" class=\"iubenda-cs-close-btn\" tabindex=\"0\" role=\"button\" aria-pressed=\"false\" style=\"font-size:20px!important;\">×</button></div></div></div></div>\n"
     ]
    }
   ],
   "source": [
    "# url 133\n",
    "i = urls[132]\n",
    "#open_url(i)\n",
    "element = driver.find_element_by_css_selector('#iubenda-cs-banner')\n",
    "source = element.get_attribute(\"outerHTML\")\n",
    "print(source)\n",
    "data.append({\"TYPE\" : ad_type, \"ad_code\" : source, \"URL\" : i})"
   ]
  },
  {
   "cell_type": "code",
   "execution_count": 33,
   "metadata": {
    "collapsed": true
   },
   "outputs": [
    {
     "name": "stdout",
     "output_type": "stream",
     "text": [
      "<div class=\"optanon-alert-box-wrapper  \" role=\"alertdialog\" aria-labelledby=\"alert-box-title\" aria-describedby=\"alert-box-message\" style=\"bottom: 0px;\"><div class=\"optanon-alert-box-bottom-top\"><div class=\"optanon-alert-box-corner-close\"><button class=\"optanon-alert-box-close banner-close-button\" aria-label=\"Close\" title=\"Close\" onclick=\"Optanon.TriggerGoogleAnalyticsEvent('OneTrust Cookie Consent', 'Banner Close Button');\" tabindex=\"4\"></button></div></div><div class=\"optanon-alert-box-bg\"><div class=\"optanon-alert-box-logo\"> </div><div class=\"optanon-alert-box-body\"><p class=\"optanon-alert-box-title legacy-banner-title\" id=\"alert-box-title\" role=\"heading\" aria-level=\"2\">This website uses information gathering tools including cookies, and other similar technology.</p><p class=\"banner-content\" id=\"alert-box-message\">We use cookies to personalise content and ads, to provide social media features and to analyse our traffic. We also share information about your use of our site with our social media, advertising and analytics partners.         <a href=\"https://cookiepedia.co.uk/giving-consent-to-cookies\" class=\"banner-policy-link\" tabindex=\"1\" aria-label=\"View our Cookie Policy\">View our Cookie Policy</a></p></div><div class=\"optanon-clearfix\"></div><div class=\"optanon-alert-box-button-container\"><div class=\"optanon-alert-box-button optanon-button-close\"><div class=\"optanon-alert-box-button-middle\"><button class=\"optanon-alert-box-close\" aria-label=\"Close\">Close</button></div></div><div class=\"optanon-alert-box-button optanon-button-allow\"><div class=\"optanon-alert-box-button-middle accept-cookie-container\"><button class=\"optanon-allow-all accept-cookies-button\" title=\"Accept Cookies\" aria-label=\"Accept Cookies\" onclick=\"Optanon.TriggerGoogleAnalyticsEvent('OneTrust Cookie Consent', 'Banner Accept Cookies');\" tabindex=\"3\">Accept Cookies</button></div></div><div class=\"optanon-alert-box-button optanon-button-more\"><div class=\"optanon-alert-box-button-middle\"><button class=\"optanon-toggle-display cookie-settings-button\" title=\"Cookie Settings\" aria-label=\"Cookie Settings\" onclick=\"Optanon.TriggerGoogleAnalyticsEvent('OneTrust Cookie Consent', 'Banner Open Preferences');\" tabindex=\"2\">Cookie Settings</button></div></div></div><div class=\"optanon-clearfix optanon-alert-box-bottom-padding\"></div></div></div>\n"
     ]
    }
   ],
   "source": [
    "# url 134\n",
    "i = urls[133]\n",
    "#open_url(i)\n",
    "element = driver.find_element_by_css_selector('.optanon-alert-box-wrapper')\n",
    "source = element.get_attribute(\"outerHTML\")\n",
    "print(source)\n",
    "data.append({\"TYPE\" : ad_type, \"ad_code\" : source, \"URL\" : i})"
   ]
  },
  {
   "cell_type": "code",
   "execution_count": 35,
   "metadata": {
    "collapsed": true
   },
   "outputs": [
    {
     "name": "stdout",
     "output_type": "stream",
     "text": [
      "<div class=\"ad-sticky-bottom visible\">\n",
      "    <div class=\"container\">\n",
      "        <div class=\"row\">\n",
      "            <div class=\"ad-inner\">\n",
      "                <div id=\"div-gpt-ad-1489005444842-0\" style=\"width:780px;height:90px\" data-google-query-id=\"CKXW4Pbv5ucCFQvOvQodTesAbw\"><div id=\"google_ads_iframe_/30017927/amc.aaos/728x90_Top_Home_0__container__\" style=\"border: 0pt none;\"><iframe id=\"google_ads_iframe_/30017927/amc.aaos/728x90_Top_Home_0\" title=\"3rd party ad content\" name=\"google_ads_iframe_/30017927/amc.aaos/728x90_Top_Home_0\" scrolling=\"no\" marginwidth=\"0\" marginheight=\"0\" style=\"border: 0px none; vertical-align: bottom;\" srcdoc=\"\" data-google-container-id=\"1\" data-load-complete=\"true\" width=\"728\" height=\"90\" frameborder=\"0\"></iframe></div></div>\n",
      "            </div>\n",
      "            <button class=\"ad-close-button\">X</button>\n",
      "        </div>\n",
      "    </div>\n",
      "</div>\n"
     ]
    }
   ],
   "source": [
    "# url 135\n",
    "i = urls[134]\n",
    "#open_url(i)\n",
    "element = driver.find_element_by_css_selector('.ad-sticky-bottom')\n",
    "source = element.get_attribute(\"outerHTML\")\n",
    "print(source)\n",
    "data.append({\"TYPE\" : ad_type, \"ad_code\" : source, \"URL\" : i})"
   ]
  },
  {
   "cell_type": "code",
   "execution_count": 739,
   "metadata": {},
   "outputs": [],
   "source": [
    "driver.close()"
   ]
  },
  {
   "cell_type": "code",
   "execution_count": 37,
   "metadata": {},
   "outputs": [
    {
     "name": "stdout",
     "output_type": "stream",
     "text": [
      "     TYPE                                            ad_code  \\\n",
      "0  sticky  <div id=\"_evidon_banner\" class=\"evidon-banner\"...   \n",
      "1  sticky  <div id=\"eyeDiv\" dir=\"ltr\" style=\"border: 0px ...   \n",
      "2  sticky  <phoenix-ad class=\"m-fixedbottom-ad not-size-a...   \n",
      "3  sticky  <div id=\"cx-notification\">\\n<div data-campaign...   \n",
      "4  sticky  <div id=\"iubenda-cs-banner\" style=\"z-index:999...   \n",
      "5  sticky  <div class=\"optanon-alert-box-wrapper  \" role=...   \n",
      "6  sticky  <div class=\"ad-sticky-bottom visible\">\\n    <d...   \n",
      "\n",
      "                                 URL  \n",
      "0         https://www.economist.com/  \n",
      "1  https://www.securitymagazine.com/  \n",
      "2          https://www.climbing.com/  \n",
      "3   https://www.barrons.com/magazine  \n",
      "4   https://www.apollo-magazine.com/  \n",
      "5             https://www.isaca.org/  \n",
      "6              https://www.aaos.org/  \n"
     ]
    }
   ],
   "source": [
    "import pandas as pd\n",
    "df = pd.DataFrame(data)\n",
    "print(df)"
   ]
  },
  {
   "cell_type": "code",
   "execution_count": 39,
   "metadata": {},
   "outputs": [],
   "source": [
    "df.to_csv('sticky_ad_code_raw.csv') # saving data"
   ]
  },
  {
   "cell_type": "markdown",
   "metadata": {},
   "source": [
    "***Data Cleansing***"
   ]
  },
  {
   "cell_type": "code",
   "execution_count": 40,
   "metadata": {},
   "outputs": [],
   "source": [
    "df = pd.read_csv('sticky_ad_code_raw.csv')\n",
    "df = df.drop('Unnamed: 0', 1)"
   ]
  },
  {
   "cell_type": "code",
   "execution_count": 44,
   "metadata": {},
   "outputs": [
    {
     "data": {
      "text/html": [
       "<div>\n",
       "<style scoped>\n",
       "    .dataframe tbody tr th:only-of-type {\n",
       "        vertical-align: middle;\n",
       "    }\n",
       "\n",
       "    .dataframe tbody tr th {\n",
       "        vertical-align: top;\n",
       "    }\n",
       "\n",
       "    .dataframe thead th {\n",
       "        text-align: right;\n",
       "    }\n",
       "</style>\n",
       "<table border=\"1\" class=\"dataframe\">\n",
       "  <thead>\n",
       "    <tr style=\"text-align: right;\">\n",
       "      <th></th>\n",
       "      <th>TYPE</th>\n",
       "      <th>URL</th>\n",
       "      <th>ad_code</th>\n",
       "    </tr>\n",
       "  </thead>\n",
       "  <tbody>\n",
       "    <tr>\n",
       "      <th>0</th>\n",
       "      <td>sticky</td>\n",
       "      <td>https://www.realsimple.com/home-organizing/gar...</td>\n",
       "      <td>&lt;div class=\"ad-wrapper outer tablet-ad desktop...</td>\n",
       "    </tr>\n",
       "    <tr>\n",
       "      <th>1</th>\n",
       "      <td>sticky</td>\n",
       "      <td>https://www.realsimple.com/home-organizing/dec...</td>\n",
       "      <td>&lt;div class=\"ad-wrapper outer tablet-ad desktop...</td>\n",
       "    </tr>\n",
       "    <tr>\n",
       "      <th>2</th>\n",
       "      <td>sticky</td>\n",
       "      <td>https://www.realsimple.com/work-life/family</td>\n",
       "      <td>&lt;div class=\"ad-wrapper outer tablet-ad desktop...</td>\n",
       "    </tr>\n",
       "    <tr>\n",
       "      <th>3</th>\n",
       "      <td>sticky</td>\n",
       "      <td>https://www.realsimple.com/holidays-entertaini...</td>\n",
       "      <td>&lt;div class=\"ad-wrapper outer tablet-ad desktop...</td>\n",
       "    </tr>\n",
       "    <tr>\n",
       "      <th>4</th>\n",
       "      <td>sticky</td>\n",
       "      <td>https://www.realsimple.com/weddings/weddings-p...</td>\n",
       "      <td>&lt;div class=\"ad-wrapper outer tablet-ad desktop...</td>\n",
       "    </tr>\n",
       "    <tr>\n",
       "      <th>...</th>\n",
       "      <td>...</td>\n",
       "      <td>...</td>\n",
       "      <td>...</td>\n",
       "    </tr>\n",
       "    <tr>\n",
       "      <th>130</th>\n",
       "      <td>sticky</td>\n",
       "      <td>https://www.climbing.com/</td>\n",
       "      <td>&lt;phoenix-ad class=\"m-fixedbottom-ad not-size-a...</td>\n",
       "    </tr>\n",
       "    <tr>\n",
       "      <th>131</th>\n",
       "      <td>sticky</td>\n",
       "      <td>https://www.barrons.com/magazine</td>\n",
       "      <td>&lt;div id=\"cx-notification\"&gt;\\n&lt;div data-campaign...</td>\n",
       "    </tr>\n",
       "    <tr>\n",
       "      <th>132</th>\n",
       "      <td>sticky</td>\n",
       "      <td>https://www.apollo-magazine.com/</td>\n",
       "      <td>&lt;div id=\"iubenda-cs-banner\" style=\"z-index:999...</td>\n",
       "    </tr>\n",
       "    <tr>\n",
       "      <th>133</th>\n",
       "      <td>sticky</td>\n",
       "      <td>https://www.isaca.org/</td>\n",
       "      <td>&lt;div class=\"optanon-alert-box-wrapper  \" role=...</td>\n",
       "    </tr>\n",
       "    <tr>\n",
       "      <th>134</th>\n",
       "      <td>sticky</td>\n",
       "      <td>https://www.aaos.org/</td>\n",
       "      <td>&lt;div class=\"ad-sticky-bottom visible\"&gt;\\n    &lt;d...</td>\n",
       "    </tr>\n",
       "  </tbody>\n",
       "</table>\n",
       "<p>135 rows × 3 columns</p>\n",
       "</div>"
      ],
      "text/plain": [
       "       TYPE                                                URL  \\\n",
       "0    sticky  https://www.realsimple.com/home-organizing/gar...   \n",
       "1    sticky  https://www.realsimple.com/home-organizing/dec...   \n",
       "2    sticky        https://www.realsimple.com/work-life/family   \n",
       "3    sticky  https://www.realsimple.com/holidays-entertaini...   \n",
       "4    sticky  https://www.realsimple.com/weddings/weddings-p...   \n",
       "..      ...                                                ...   \n",
       "130  sticky                          https://www.climbing.com/   \n",
       "131  sticky                   https://www.barrons.com/magazine   \n",
       "132  sticky                   https://www.apollo-magazine.com/   \n",
       "133  sticky                             https://www.isaca.org/   \n",
       "134  sticky                              https://www.aaos.org/   \n",
       "\n",
       "                                               ad_code  \n",
       "0    <div class=\"ad-wrapper outer tablet-ad desktop...  \n",
       "1    <div class=\"ad-wrapper outer tablet-ad desktop...  \n",
       "2    <div class=\"ad-wrapper outer tablet-ad desktop...  \n",
       "3    <div class=\"ad-wrapper outer tablet-ad desktop...  \n",
       "4    <div class=\"ad-wrapper outer tablet-ad desktop...  \n",
       "..                                                 ...  \n",
       "130  <phoenix-ad class=\"m-fixedbottom-ad not-size-a...  \n",
       "131  <div id=\"cx-notification\">\\n<div data-campaign...  \n",
       "132  <div id=\"iubenda-cs-banner\" style=\"z-index:999...  \n",
       "133  <div class=\"optanon-alert-box-wrapper  \" role=...  \n",
       "134  <div class=\"ad-sticky-bottom visible\">\\n    <d...  \n",
       "\n",
       "[135 rows x 3 columns]"
      ]
     },
     "execution_count": 44,
     "metadata": {},
     "output_type": "execute_result"
    }
   ],
   "source": [
    "df"
   ]
  },
  {
   "cell_type": "code",
   "execution_count": 45,
   "metadata": {},
   "outputs": [],
   "source": [
    "code = df.ad_code"
   ]
  },
  {
   "cell_type": "code",
   "execution_count": 46,
   "metadata": {},
   "outputs": [],
   "source": [
    "def get_divs(code):\n",
    "    \"\"\"Extract div tags from HTML for better manipulation\"\"\"\n",
    "    soup = bs(code)\n",
    "    divs = soup.select(\"div\")\n",
    "    return divs"
   ]
  },
  {
   "cell_type": "code",
   "execution_count": 48,
   "metadata": {},
   "outputs": [],
   "source": [
    "df[\"divs\"] = df[\"ad_code\"].map(get_divs)"
   ]
  },
  {
   "cell_type": "code",
   "execution_count": 49,
   "metadata": {},
   "outputs": [],
   "source": [
    "def strip_html_tags(text):\n",
    "    \"\"\"remove html tags from text\"\"\"\n",
    "    soup = bs(text, \"html.parser\")\n",
    "    stripped_text = soup.get_text(separator=\" \")\n",
    "    return stripped_text"
   ]
  },
  {
   "cell_type": "code",
   "execution_count": 50,
   "metadata": {},
   "outputs": [],
   "source": [
    "import string\n",
    "import re"
   ]
  },
  {
   "cell_type": "code",
   "execution_count": 51,
   "metadata": {},
   "outputs": [],
   "source": [
    "def strip_jamo(string):\n",
    "    \"\"\"Remove Korean from text\"\"\"\n",
    "    jamo_list = re.findall(u'[^\\uAC00-\\uD7A3]', string)\n",
    "    for c in string:\n",
    "        if c not in jamo_list:\n",
    "            string = string.replace(c, '')\n",
    "    return string\n",
    "\n",
    "def strip_cjk(string):\n",
    "    \"\"\"Remove Chinese, Japanese, Korean from text\"\"\"\n",
    "    cjk_list = re.findall(u'[^\\u4E00-\\u9FFF]', string)\n",
    "    for c in string:\n",
    "        if c not in cjk_list:\n",
    "            string = string.replace(c, '')\n",
    "    return string\n",
    "\n",
    "def strip_tamazight(string):\n",
    "    \"\"\"Strip Tamazight from text\"\"\"\n",
    "    tama_list = re.findall(u'[^\\u23D0-\\u2D7F]', string)\n",
    "    for c in string:\n",
    "        if c not in tama_list:\n",
    "            string = string.replace(c, '')\n",
    "    return string\n",
    "\n",
    "def strip_hindu(string):\n",
    "    \"\"\"Strip Hindu from text\"\"\"\n",
    "    hindu_list = re.findall(u'[^\\u0900-\\u097F]', string)\n",
    "    for c in string:\n",
    "        if c not in hindu_list:\n",
    "            string = string.replace(c, '')\n",
    "    return string\n",
    "\n",
    "def strip_khmer(string):\n",
    "    \"\"\"Strip Khmer from text\"\"\"\n",
    "    khmer_list = re.findall(u'[^\\u1780-\\u17FF]', string)\n",
    "    for c in string:\n",
    "        if c not in khmer_list:\n",
    "            string = string.replace(c, '')\n",
    "    return string\n",
    "\n",
    "def strip_ethiopic(string):\n",
    "    \"\"\"Strip Ethiopic from text\"\"\"\n",
    "    ethiopic_list = re.findall(u'[^\\u1200-\\u137F]', string)\n",
    "    for c in string:\n",
    "        if c not in ethiopic_list:\n",
    "            string = string.replace(c, '')\n",
    "    return string\n",
    "\n",
    "def strip_george(string):\n",
    "    \"\"\"Strip Georgian from text\"\"\"\n",
    "    george_list = re.findall(u'[^\\u10A0-\\u10FF]', string)\n",
    "    for c in string:\n",
    "        if c not in george_list:\n",
    "            string = string.replace(c, '')\n",
    "    return string\n",
    "\n",
    "def strip_myan(string):\n",
    "    \"\"\"Strip Myan from text\"\"\"\n",
    "    myan_list = re.findall(u'[^\\u1000-\\u109F]', string)\n",
    "    for c in string:\n",
    "        if c not in myan_list:\n",
    "            string = string.replace(c, '')\n",
    "    return string\n",
    "\n",
    "def strip_tibet(string):\n",
    "    \"\"\"Strip Tibetian from text\"\"\"\n",
    "    tibet_list = re.findall(u'[^\\u0F00-\\u0FFF]', string)\n",
    "    for c in string:\n",
    "        if c not in tibet_list:\n",
    "            string = string.replace(c, '')\n",
    "    return string\n",
    "\n",
    "def strip_lao(string):\n",
    "    \"\"\"Strip Laotian from text\"\"\"\n",
    "    lao_list = re.findall(u'[^\\u0E80-\\u0EFF]', string)\n",
    "    for c in string:\n",
    "        if c not in lao_list:\n",
    "            string = string.replace(c, '')\n",
    "    return string\n",
    "\n",
    "def strip_thai(string):\n",
    "    \"\"\"Strip Thai from text\"\"\"\n",
    "    thai_list = re.findall(u'[^\\u0E00-\\u0E7F]', string)\n",
    "    for c in string:\n",
    "        if c not in thai_list:\n",
    "            string = string.replace(c, '')\n",
    "    return string\n",
    "\n",
    "def strip_sinhala(string):\n",
    "    \"\"\"Strip Sinhala from text\"\"\"\n",
    "    hala_list = re.findall(u'[^\\u0D80-\\u0DFF]', string)\n",
    "    for c in string:\n",
    "        if c not in hala_list:\n",
    "            string = string.replace(c, '')\n",
    "    return string\n",
    "\n",
    "def strip_malayalam(string):\n",
    "    \"\"\"Strip Malayalam from text\"\"\"\n",
    "    mala_list = re.findall(u'[^\\u0D02-\\u0D4D]', string)\n",
    "    for c in string:\n",
    "        if c not in mala_list:\n",
    "            string = string.replace(c, '')\n",
    "    return string\n",
    "\n",
    "def strip_kannada(string):\n",
    "    \"\"\"Strip Kannada from text\"\"\"\n",
    "    kan_list = re.findall(u'[^\\u0C80-\\u0CFF]', string)\n",
    "    for c in string:\n",
    "        if c not in kan_list:\n",
    "            string = string.replace(c, '')\n",
    "    return string\n",
    "\n",
    "def strip_telugu(string):\n",
    "    \"\"\"Strip Telugu from text\"\"\"\n",
    "    tel_list = re.findall(u'[^\\u0C00-\\u0C7F]', string)\n",
    "    for c in string:\n",
    "        if c not in tel_list:\n",
    "            string = string.replace(c, '')\n",
    "    return string\n",
    "\n",
    "def strip_tamil(string):\n",
    "    \"\"\"Strip Tamil from text\"\"\"\n",
    "    ta_list = re.findall(u'[^\\u0B80-\\u0BFF]', string)\n",
    "    for c in string:\n",
    "        if c not in ta_list:\n",
    "            string = string.replace(c, '')\n",
    "    return string\n",
    "\n",
    "\n",
    "def strip_gujarati(string):\n",
    "    \"\"\"Strip Gujarati from Text\"\"\"\n",
    "    guj_list = re.findall(u'[^\\u0A80-\\u0AFF]', string)\n",
    "    for c in string:\n",
    "        if c not in guj_list:\n",
    "            string = string.replace(c, '')\n",
    "    return string\n",
    "\n",
    "def strip_mongolia(string):\n",
    "    \"\"\"Strip Mongolian from text\"\"\"\n",
    "    mon_list = re.findall(u'[^\\u1800-\\u18AF]', string)\n",
    "    for c in string:\n",
    "        if c not in mon_list:\n",
    "            string = string.replace(c, '')\n",
    "    return string\n",
    "\n",
    "def strip_punjabi(string):\n",
    "    \"\"\"Strip Punjabi from text\"\"\"\n",
    "    pun_list = re.findall(u'[^\\u0A02-\\u0A4C]', string)\n",
    "    for c in string:\n",
    "        if c not in pun_list:\n",
    "            string = string.replace(c, '')\n",
    "    return string\n",
    "\n",
    "def strip_bengali(string):\n",
    "    \"\"\"Strip Bengali from text\"\"\"\n",
    "    ben_list = re.findall(u'[^\\u0980-\\u09FF]', string)\n",
    "    for c in string:\n",
    "        if c not in ben_list:\n",
    "            string = string.replace(c, '')\n",
    "    return string\n",
    "\n",
    "def strip_urdu(string):\n",
    "    \"\"\"Strip Urdu from text\"\"\"\n",
    "    ur_list = re.findall(u'[^\\u0600-\\u06FF]', string)\n",
    "    for c in string:\n",
    "        if c not in ur_list:\n",
    "            string = string.replace(c, '')\n",
    "    return string\n",
    "\n",
    "def strip_herbrew_a(string):\n",
    "    \"\"\"Strip Hebrew from text\"\"\"\n",
    "    he_list = re.findall(u'[^\\u0590-\\u05FF]', string)\n",
    "    for c in string:\n",
    "        if c not in he_list:\n",
    "            string = string.replace(c, '')\n",
    "    return string\n",
    "\n",
    "def strip_herbrew(string):\n",
    "    \"\"\"Strip Hebrew from text\"\"\"\n",
    "    brew_list = re.findall(u'[^\\uFB1D-\\uFB4F]', string)\n",
    "    for c in string:\n",
    "        if c not in brew_list:\n",
    "            string = string.replace(c, '')\n",
    "    return string\n",
    "\n",
    "def strip_armenian(string):\n",
    "    \"\"\"Strip Armenian from text\"\"\"\n",
    "    ar_list = re.findall(u'[^\\u0530-\\u058F]', string)\n",
    "    for c in string:\n",
    "        if c not in ar_list:\n",
    "            string = string.replace(c, '')\n",
    "    return string\n",
    "\n",
    "def strip_cyrillic(string):\n",
    "    \"\"\"Strip Cyrillic from text\"\"\"\n",
    "    cy_list = re.findall(u'[^\\u0400-\\u04FF]', string)\n",
    "    for c in string:\n",
    "        if c not in cy_list:\n",
    "            string = string.replace(c, '')\n",
    "    return string\n",
    "\n",
    "def strip_greek(string):\n",
    "    \"\"\"Strip Greek from text\"\"\"\n",
    "    gre_list = re.findall(u'[^\\u0370-\\u03FF]', string)\n",
    "    for c in string:\n",
    "        if c not in gre_list:\n",
    "            string = string.replace(c, '')\n",
    "    return string"
   ]
  },
  {
   "cell_type": "code",
   "execution_count": 52,
   "metadata": {},
   "outputs": [],
   "source": [
    "div_refined = []\n",
    "\n",
    "for i in code:\n",
    "    divs = get_divs(i)\n",
    "    divs = str(divs)\n",
    "    divs = divs.lower() # convert to lowercase\n",
    "    divs = strip_html_tags(divs)\n",
    "    divs = re.sub(r\"[{(,.;:@#?!&$)}]+\\ *\", \" \", divs) # strip punctuation\n",
    "    divs = divs.replace(\"_\", \" \")\n",
    "    divs = divs.replace(\"-\", \" \")\n",
    "    # strip non-english characters\n",
    "    divs = strip_jamo(divs)\n",
    "    divs = strip_cjk(divs)\n",
    "    divs = strip_hindu(divs)\n",
    "    divs = strip_khmer(divs)\n",
    "    divs = strip_ethiopic(divs)\n",
    "    divs = strip_george(divs)\n",
    "    divs = strip_myan(divs)\n",
    "    divs = strip_tibet(divs)\n",
    "    divs = strip_lao(divs)\n",
    "    divs = strip_thai(divs)\n",
    "    divs = strip_sinhala(divs)\n",
    "    divs = strip_malayalam(divs)\n",
    "    divs = strip_kannada(divs)\n",
    "    divs = strip_telugu(divs)\n",
    "    divs = strip_kannada(divs)\n",
    "    divs = strip_tamil(divs)\n",
    "    divs = strip_gujarati(divs)\n",
    "    divs = strip_mongolia(divs)\n",
    "    divs = strip_gujarati(divs)\n",
    "    divs = strip_punjabi(divs)\n",
    "    divs = strip_bengali(divs)\n",
    "    divs = strip_urdu(divs)\n",
    "    divs = strip_armenian(divs)\n",
    "    divs = strip_cyrillic(divs)\n",
    "    divs = strip_greek(divs)\n",
    "    div_refined.append(divs)"
   ]
  },
  {
   "cell_type": "code",
   "execution_count": 53,
   "metadata": {},
   "outputs": [],
   "source": [
    "df['n_divs'] = div_refined"
   ]
  },
  {
   "cell_type": "code",
   "execution_count": 54,
   "metadata": {},
   "outputs": [],
   "source": [
    "def get_class(code):\n",
    "    \"\"\"Extract classes from HTML for better manipulation\"\"\"\n",
    "    soup = bs(code)\n",
    "    elements = soup.select('*')\n",
    "    classes = []\n",
    "    for element in elements:\n",
    "        classes.extend(element.attrs.get(\"class\", []))\n",
    "    return classes"
   ]
  },
  {
   "cell_type": "code",
   "execution_count": 56,
   "metadata": {},
   "outputs": [],
   "source": [
    "df[\"classes\"] = df[\"ad_code\"].map(get_class)"
   ]
  },
  {
   "cell_type": "code",
   "execution_count": 57,
   "metadata": {},
   "outputs": [],
   "source": [
    "class_refined = []\n",
    "\n",
    "for i in code:\n",
    "    classes = get_class(i)\n",
    "    classes = str(classes)\n",
    "    classes = classes.lower() # convert to lowercase\n",
    "    classes = re.sub(r\"[{(,.;:@#?!&$)}]+\\ *\", \" \", classes) # strip punctuation\n",
    "    classes = classes.replace(\"_\", \" \")\n",
    "    classes = classes.replace(\"-\", \" \")\n",
    "    # strip foreign characters\n",
    "    classes = strip_jamo(classes)\n",
    "    classes = strip_cjk(classes)\n",
    "    classes = strip_hindu(classes)\n",
    "    classes = strip_khmer(classes)\n",
    "    classes = strip_ethiopic(classes)\n",
    "    classes = strip_george(classes)\n",
    "    classes = strip_myan(classes)\n",
    "    classes = strip_tibet(classes)\n",
    "    classes = strip_lao(classes)\n",
    "    classes = strip_thai(classes)\n",
    "    classes = strip_sinhala(classes)\n",
    "    classes = strip_malayalam(classes)\n",
    "    classes = strip_kannada(classes)\n",
    "    classes = strip_telugu(classes)\n",
    "    classes = strip_kannada(classes)\n",
    "    classes = strip_tamil(classes)\n",
    "    classes = strip_gujarati(classes)\n",
    "    classes = strip_mongolia(classes)\n",
    "    classes = strip_gujarati(classes)\n",
    "    classes = strip_punjabi(classes)\n",
    "    classes = strip_bengali(classes)\n",
    "    classes = strip_urdu(classes)\n",
    "    classes = strip_armenian(classes)\n",
    "    classes = strip_cyrillic(classes)\n",
    "    classes = strip_greek(classes)\n",
    "    class_refined.append(classes)"
   ]
  },
  {
   "cell_type": "code",
   "execution_count": 59,
   "metadata": {},
   "outputs": [],
   "source": [
    "df['n_classes'] = class_refined"
   ]
  },
  {
   "cell_type": "code",
   "execution_count": 60,
   "metadata": {},
   "outputs": [],
   "source": [
    "def get_style(code):\n",
    "    \"\"\"Extract style tags from HTMl\"\"\"\n",
    "    soup = bs(code)\n",
    "    divs = soup.select('div')\n",
    "    styles = []\n",
    "    for div in divs:\n",
    "        style = div.attrs.get(\"style\")\n",
    "        if style:            \n",
    "            styles.append(div.attrs.get(\"style\"))                  \n",
    "    return styles"
   ]
  },
  {
   "cell_type": "code",
   "execution_count": 62,
   "metadata": {},
   "outputs": [],
   "source": [
    "df[\"style\"] = df[\"ad_code\"].map(get_style)"
   ]
  },
  {
   "cell_type": "code",
   "execution_count": 63,
   "metadata": {},
   "outputs": [],
   "source": [
    "style_refined = []\n",
    "\n",
    "for i in code:\n",
    "    style = get_style(i)\n",
    "    style = str(style)\n",
    "    style = style.lower()\n",
    "    style = re.sub(r\"[{(,.;:@#?!&$)}]+/\\ *\", \" \", style) # strip punctuation\n",
    "    style = style.replace(\"_\", \" \")\n",
    "    style = style.replace(\"-\", \" \")\n",
    "    style = style.replace(\";\", \" \")\n",
    "    style = style.replace(\":\", \" \")\n",
    "    # strip foreign characters\n",
    "    style = strip_jamo(style)\n",
    "    style = strip_cjk(style)\n",
    "    style = strip_hindu(style)\n",
    "    style = strip_khmer(style)\n",
    "    style = strip_ethiopic(style)\n",
    "    style = strip_george(style)\n",
    "    style = strip_myan(style)\n",
    "    style = strip_tibet(style)\n",
    "    style = strip_lao(style)\n",
    "    style = strip_thai(style)\n",
    "    style = strip_sinhala(style)\n",
    "    style = strip_malayalam(style)\n",
    "    style = strip_kannada(style)\n",
    "    style = strip_telugu(style)\n",
    "    style = strip_kannada(style)\n",
    "    style = strip_tamil(style)\n",
    "    style = strip_gujarati(style)\n",
    "    style = strip_mongolia(style)\n",
    "    style = strip_gujarati(style)\n",
    "    style = strip_punjabi(style)\n",
    "    style = strip_bengali(style)\n",
    "    style = strip_urdu(style)\n",
    "    style = strip_armenian(style)\n",
    "    style = strip_cyrillic(style)\n",
    "    style = strip_greek(style)\n",
    "    style = str(style)\n",
    "    style_refined.append(style)s"
   ]
  },
  {
   "cell_type": "code",
   "execution_count": 65,
   "metadata": {},
   "outputs": [],
   "source": [
    "df['n_style'] = style_refined"
   ]
  },
  {
   "cell_type": "code",
   "execution_count": 66,
   "metadata": {
    "scrolled": true
   },
   "outputs": [
    {
     "data": {
      "text/html": [
       "<div>\n",
       "<style scoped>\n",
       "    .dataframe tbody tr th:only-of-type {\n",
       "        vertical-align: middle;\n",
       "    }\n",
       "\n",
       "    .dataframe tbody tr th {\n",
       "        vertical-align: top;\n",
       "    }\n",
       "\n",
       "    .dataframe thead th {\n",
       "        text-align: right;\n",
       "    }\n",
       "</style>\n",
       "<table border=\"1\" class=\"dataframe\">\n",
       "  <thead>\n",
       "    <tr style=\"text-align: right;\">\n",
       "      <th></th>\n",
       "      <th>TYPE</th>\n",
       "      <th>URL</th>\n",
       "      <th>ad_code</th>\n",
       "      <th>divs</th>\n",
       "      <th>n_divs</th>\n",
       "      <th>classes</th>\n",
       "      <th>n_classes</th>\n",
       "      <th>style</th>\n",
       "      <th>n_style</th>\n",
       "    </tr>\n",
       "  </thead>\n",
       "  <tbody>\n",
       "    <tr>\n",
       "      <th>0</th>\n",
       "      <td>sticky</td>\n",
       "      <td>https://www.realsimple.com/home-organizing/gar...</td>\n",
       "      <td>&lt;div class=\"ad-wrapper outer tablet-ad desktop...</td>\n",
       "      <td>[[\\n, [\\n, &lt;div aria-hidden=\"true\" class=\"ad a...</td>\n",
       "      <td>[ \\n \\n \\n \\n  \\n \\n   ]</td>\n",
       "      <td>[ad-wrapper, outer, tablet-ad, desktop-ad, ful...</td>\n",
       "      <td>['ad wrapper' 'outer' 'tablet ad' 'desktop ad'...</td>\n",
       "      <td>[border: 0pt none;]</td>\n",
       "      <td>['border  0pt none ']</td>\n",
       "    </tr>\n",
       "    <tr>\n",
       "      <th>1</th>\n",
       "      <td>sticky</td>\n",
       "      <td>https://www.realsimple.com/home-organizing/dec...</td>\n",
       "      <td>&lt;div class=\"ad-wrapper outer tablet-ad desktop...</td>\n",
       "      <td>[[\\n, [\\n, &lt;div aria-hidden=\"true\" class=\"ad a...</td>\n",
       "      <td>[ \\n \\n \\n \\n  \\n \\n   ]</td>\n",
       "      <td>[ad-wrapper, outer, tablet-ad, desktop-ad, ful...</td>\n",
       "      <td>['ad wrapper' 'outer' 'tablet ad' 'desktop ad'...</td>\n",
       "      <td>[border: 0pt none;]</td>\n",
       "      <td>['border  0pt none ']</td>\n",
       "    </tr>\n",
       "    <tr>\n",
       "      <th>2</th>\n",
       "      <td>sticky</td>\n",
       "      <td>https://www.realsimple.com/work-life/family</td>\n",
       "      <td>&lt;div class=\"ad-wrapper outer tablet-ad desktop...</td>\n",
       "      <td>[[\\n, [\\n, &lt;div aria-hidden=\"true\" class=\"ad a...</td>\n",
       "      <td>[ \\n \\n \\n \\n  \\n \\n   ]</td>\n",
       "      <td>[ad-wrapper, outer, tablet-ad, desktop-ad, ful...</td>\n",
       "      <td>['ad wrapper' 'outer' 'tablet ad' 'desktop ad'...</td>\n",
       "      <td>[border: 0pt none;]</td>\n",
       "      <td>['border  0pt none ']</td>\n",
       "    </tr>\n",
       "    <tr>\n",
       "      <th>3</th>\n",
       "      <td>sticky</td>\n",
       "      <td>https://www.realsimple.com/holidays-entertaini...</td>\n",
       "      <td>&lt;div class=\"ad-wrapper outer tablet-ad desktop...</td>\n",
       "      <td>[[\\n, [\\n, &lt;div aria-hidden=\"true\" class=\"ad a...</td>\n",
       "      <td>[ \\n \\n \\n \\n  \\n \\n   ]</td>\n",
       "      <td>[ad-wrapper, outer, tablet-ad, desktop-ad, ful...</td>\n",
       "      <td>['ad wrapper' 'outer' 'tablet ad' 'desktop ad'...</td>\n",
       "      <td>[border: 0pt none; display: inline-block; widt...</td>\n",
       "      <td>['border  0pt none  display  inline block  wid...</td>\n",
       "    </tr>\n",
       "    <tr>\n",
       "      <th>4</th>\n",
       "      <td>sticky</td>\n",
       "      <td>https://www.realsimple.com/weddings/weddings-p...</td>\n",
       "      <td>&lt;div class=\"ad-wrapper outer tablet-ad desktop...</td>\n",
       "      <td>[[\\n, [\\n, &lt;div aria-hidden=\"true\" class=\"ad a...</td>\n",
       "      <td>[ \\n \\n \\n \\n  \\n \\n   ]</td>\n",
       "      <td>[ad-wrapper, outer, tablet-ad, desktop-ad, ful...</td>\n",
       "      <td>['ad wrapper' 'outer' 'tablet ad' 'desktop ad'...</td>\n",
       "      <td>[border: 0pt none;]</td>\n",
       "      <td>['border  0pt none ']</td>\n",
       "    </tr>\n",
       "    <tr>\n",
       "      <th>...</th>\n",
       "      <td>...</td>\n",
       "      <td>...</td>\n",
       "      <td>...</td>\n",
       "      <td>...</td>\n",
       "      <td>...</td>\n",
       "      <td>...</td>\n",
       "      <td>...</td>\n",
       "      <td>...</td>\n",
       "      <td>...</td>\n",
       "    </tr>\n",
       "    <tr>\n",
       "      <th>130</th>\n",
       "      <td>sticky</td>\n",
       "      <td>https://www.climbing.com/</td>\n",
       "      <td>&lt;phoenix-ad class=\"m-fixedbottom-ad not-size-a...</td>\n",
       "      <td>[[[], [&lt;div class=\"m-advertisement--close-butt...</td>\n",
       "      <td>[ close   close  close ]</td>\n",
       "      <td>[m-fixedbottom-ad, not-size-a, not-size-b, is-...</td>\n",
       "      <td>['m fixedbottom ad' 'not size a' 'not size b' ...</td>\n",
       "      <td>[]</td>\n",
       "      <td>[]</td>\n",
       "    </tr>\n",
       "    <tr>\n",
       "      <th>131</th>\n",
       "      <td>sticky</td>\n",
       "      <td>https://www.barrons.com/magazine</td>\n",
       "      <td>&lt;div id=\"cx-notification\"&gt;\\n&lt;div data-campaign...</td>\n",
       "      <td>[[\\n, [\\n, &lt;div class=\"notification-contain\"&gt;\\...</td>\n",
       "      <td>[ \\n \\n \\n \\n \\n cookie notice \\n we use cooki...</td>\n",
       "      <td>[gdpr-message, notification-contain, notificat...</td>\n",
       "      <td>['gdpr message' 'notification contain' 'notifi...</td>\n",
       "      <td>[]</td>\n",
       "      <td>[]</td>\n",
       "    </tr>\n",
       "    <tr>\n",
       "      <th>132</th>\n",
       "      <td>sticky</td>\n",
       "      <td>https://www.apollo-magazine.com/</td>\n",
       "      <td>&lt;div id=\"iubenda-cs-banner\" style=\"z-index:999...</td>\n",
       "      <td>[[[&lt;div class=\"iubenda-cs-content\" style=\"back...</td>\n",
       "      <td>[ we use cookies to help our website work to u...</td>\n",
       "      <td>[iubenda-cs-default-floating, iubenda-cs-botto...</td>\n",
       "      <td>['iubenda cs default floating' 'iubenda cs bot...</td>\n",
       "      <td>[z-index:99999998 !important;, background-colo...</td>\n",
       "      <td>['z index 99999998 !important ', 'background c...</td>\n",
       "    </tr>\n",
       "    <tr>\n",
       "      <th>133</th>\n",
       "      <td>sticky</td>\n",
       "      <td>https://www.isaca.org/</td>\n",
       "      <td>&lt;div class=\"optanon-alert-box-wrapper  \" role=...</td>\n",
       "      <td>[[[&lt;div class=\"optanon-alert-box-corner-close\"...</td>\n",
       "      <td>[   this website uses information gathering to...</td>\n",
       "      <td>[optanon-alert-box-wrapper, optanon-alert-box-...</td>\n",
       "      <td>['optanon alert box wrapper' 'optanon alert bo...</td>\n",
       "      <td>[bottom: 0px;]</td>\n",
       "      <td>['bottom  0px ']</td>\n",
       "    </tr>\n",
       "    <tr>\n",
       "      <th>134</th>\n",
       "      <td>sticky</td>\n",
       "      <td>https://www.aaos.org/</td>\n",
       "      <td>&lt;div class=\"ad-sticky-bottom visible\"&gt;\\n    &lt;d...</td>\n",
       "      <td>[[\\n, [\\n, &lt;div class=\"row\"&gt;\\n&lt;div class=\"ad-i...</td>\n",
       "      <td>[ \\n \\n \\n \\n \\n \\n x \\n \\n \\n  \\n \\n \\n \\n \\n...</td>\n",
       "      <td>[ad-sticky-bottom, visible, container, row, ad...</td>\n",
       "      <td>['ad sticky bottom' 'visible' 'container' 'row...</td>\n",
       "      <td>[width:780px;height:90px, border: 0pt none;]</td>\n",
       "      <td>['width 780px height 90px', 'border  0pt none ']</td>\n",
       "    </tr>\n",
       "  </tbody>\n",
       "</table>\n",
       "<p>135 rows × 9 columns</p>\n",
       "</div>"
      ],
      "text/plain": [
       "       TYPE                                                URL  \\\n",
       "0    sticky  https://www.realsimple.com/home-organizing/gar...   \n",
       "1    sticky  https://www.realsimple.com/home-organizing/dec...   \n",
       "2    sticky        https://www.realsimple.com/work-life/family   \n",
       "3    sticky  https://www.realsimple.com/holidays-entertaini...   \n",
       "4    sticky  https://www.realsimple.com/weddings/weddings-p...   \n",
       "..      ...                                                ...   \n",
       "130  sticky                          https://www.climbing.com/   \n",
       "131  sticky                   https://www.barrons.com/magazine   \n",
       "132  sticky                   https://www.apollo-magazine.com/   \n",
       "133  sticky                             https://www.isaca.org/   \n",
       "134  sticky                              https://www.aaos.org/   \n",
       "\n",
       "                                               ad_code  \\\n",
       "0    <div class=\"ad-wrapper outer tablet-ad desktop...   \n",
       "1    <div class=\"ad-wrapper outer tablet-ad desktop...   \n",
       "2    <div class=\"ad-wrapper outer tablet-ad desktop...   \n",
       "3    <div class=\"ad-wrapper outer tablet-ad desktop...   \n",
       "4    <div class=\"ad-wrapper outer tablet-ad desktop...   \n",
       "..                                                 ...   \n",
       "130  <phoenix-ad class=\"m-fixedbottom-ad not-size-a...   \n",
       "131  <div id=\"cx-notification\">\\n<div data-campaign...   \n",
       "132  <div id=\"iubenda-cs-banner\" style=\"z-index:999...   \n",
       "133  <div class=\"optanon-alert-box-wrapper  \" role=...   \n",
       "134  <div class=\"ad-sticky-bottom visible\">\\n    <d...   \n",
       "\n",
       "                                                  divs  \\\n",
       "0    [[\\n, [\\n, <div aria-hidden=\"true\" class=\"ad a...   \n",
       "1    [[\\n, [\\n, <div aria-hidden=\"true\" class=\"ad a...   \n",
       "2    [[\\n, [\\n, <div aria-hidden=\"true\" class=\"ad a...   \n",
       "3    [[\\n, [\\n, <div aria-hidden=\"true\" class=\"ad a...   \n",
       "4    [[\\n, [\\n, <div aria-hidden=\"true\" class=\"ad a...   \n",
       "..                                                 ...   \n",
       "130  [[[], [<div class=\"m-advertisement--close-butt...   \n",
       "131  [[\\n, [\\n, <div class=\"notification-contain\">\\...   \n",
       "132  [[[<div class=\"iubenda-cs-content\" style=\"back...   \n",
       "133  [[[<div class=\"optanon-alert-box-corner-close\"...   \n",
       "134  [[\\n, [\\n, <div class=\"row\">\\n<div class=\"ad-i...   \n",
       "\n",
       "                                                n_divs  \\\n",
       "0                             [ \\n \\n \\n \\n  \\n \\n   ]   \n",
       "1                             [ \\n \\n \\n \\n  \\n \\n   ]   \n",
       "2                             [ \\n \\n \\n \\n  \\n \\n   ]   \n",
       "3                             [ \\n \\n \\n \\n  \\n \\n   ]   \n",
       "4                             [ \\n \\n \\n \\n  \\n \\n   ]   \n",
       "..                                                 ...   \n",
       "130                           [ close   close  close ]   \n",
       "131  [ \\n \\n \\n \\n \\n cookie notice \\n we use cooki...   \n",
       "132  [ we use cookies to help our website work to u...   \n",
       "133  [   this website uses information gathering to...   \n",
       "134  [ \\n \\n \\n \\n \\n \\n x \\n \\n \\n  \\n \\n \\n \\n \\n...   \n",
       "\n",
       "                                               classes  \\\n",
       "0    [ad-wrapper, outer, tablet-ad, desktop-ad, ful...   \n",
       "1    [ad-wrapper, outer, tablet-ad, desktop-ad, ful...   \n",
       "2    [ad-wrapper, outer, tablet-ad, desktop-ad, ful...   \n",
       "3    [ad-wrapper, outer, tablet-ad, desktop-ad, ful...   \n",
       "4    [ad-wrapper, outer, tablet-ad, desktop-ad, ful...   \n",
       "..                                                 ...   \n",
       "130  [m-fixedbottom-ad, not-size-a, not-size-b, is-...   \n",
       "131  [gdpr-message, notification-contain, notificat...   \n",
       "132  [iubenda-cs-default-floating, iubenda-cs-botto...   \n",
       "133  [optanon-alert-box-wrapper, optanon-alert-box-...   \n",
       "134  [ad-sticky-bottom, visible, container, row, ad...   \n",
       "\n",
       "                                             n_classes  \\\n",
       "0    ['ad wrapper' 'outer' 'tablet ad' 'desktop ad'...   \n",
       "1    ['ad wrapper' 'outer' 'tablet ad' 'desktop ad'...   \n",
       "2    ['ad wrapper' 'outer' 'tablet ad' 'desktop ad'...   \n",
       "3    ['ad wrapper' 'outer' 'tablet ad' 'desktop ad'...   \n",
       "4    ['ad wrapper' 'outer' 'tablet ad' 'desktop ad'...   \n",
       "..                                                 ...   \n",
       "130  ['m fixedbottom ad' 'not size a' 'not size b' ...   \n",
       "131  ['gdpr message' 'notification contain' 'notifi...   \n",
       "132  ['iubenda cs default floating' 'iubenda cs bot...   \n",
       "133  ['optanon alert box wrapper' 'optanon alert bo...   \n",
       "134  ['ad sticky bottom' 'visible' 'container' 'row...   \n",
       "\n",
       "                                                 style  \\\n",
       "0                                  [border: 0pt none;]   \n",
       "1                                  [border: 0pt none;]   \n",
       "2                                  [border: 0pt none;]   \n",
       "3    [border: 0pt none; display: inline-block; widt...   \n",
       "4                                  [border: 0pt none;]   \n",
       "..                                                 ...   \n",
       "130                                                 []   \n",
       "131                                                 []   \n",
       "132  [z-index:99999998 !important;, background-colo...   \n",
       "133                                     [bottom: 0px;]   \n",
       "134       [width:780px;height:90px, border: 0pt none;]   \n",
       "\n",
       "                                               n_style  \n",
       "0                                ['border  0pt none ']  \n",
       "1                                ['border  0pt none ']  \n",
       "2                                ['border  0pt none ']  \n",
       "3    ['border  0pt none  display  inline block  wid...  \n",
       "4                                ['border  0pt none ']  \n",
       "..                                                 ...  \n",
       "130                                                 []  \n",
       "131                                                 []  \n",
       "132  ['z index 99999998 !important ', 'background c...  \n",
       "133                                   ['bottom  0px ']  \n",
       "134   ['width 780px height 90px', 'border  0pt none ']  \n",
       "\n",
       "[135 rows x 9 columns]"
      ]
     },
     "execution_count": 66,
     "metadata": {},
     "output_type": "execute_result"
    }
   ],
   "source": [
    "df"
   ]
  },
  {
   "cell_type": "code",
   "execution_count": 67,
   "metadata": {},
   "outputs": [],
   "source": [
    "df.to_csv('/Users/SeoyeonHong/Desktop/annoying_ad_classifier/data_collection/data/sticky_ad_code.csv')"
   ]
  }
 ],
 "metadata": {
  "kernelspec": {
   "display_name": "Python 3",
   "language": "python",
   "name": "python3"
  },
  "language_info": {
   "codemirror_mode": {
    "name": "ipython",
    "version": 3
   },
   "file_extension": ".py",
   "mimetype": "text/x-python",
   "name": "python",
   "nbconvert_exporter": "python",
   "pygments_lexer": "ipython3",
   "version": "3.7.7"
  }
 },
 "nbformat": 4,
 "nbformat_minor": 2
}
